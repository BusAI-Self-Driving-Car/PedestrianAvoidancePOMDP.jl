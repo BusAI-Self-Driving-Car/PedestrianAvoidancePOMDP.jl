{
 "cells": [
  {
   "cell_type": "code",
   "execution_count": 18,
   "metadata": {},
   "outputs": [],
   "source": [
    "# ] activate ../ "
   ]
  },
  {
   "cell_type": "code",
   "execution_count": 1,
   "metadata": {},
   "outputs": [
    {
     "name": "stderr",
     "output_type": "stream",
     "text": [
      "┌ Info: Recompiling stale cache file C:\\Users\\Maxime\\.julia\\compiled\\v1.0\\PedestrianAvoidancePOMDP\\UuJ2S.ji for PedestrianAvoidancePOMDP [a80ff0fe-e6a0-11e8-3b05-15413bd5ea7a]\n",
      "└ @ Base loading.jl:1190\n",
      "WARNING: Method definition propagate(Records.Entity{AutomotiveDrivingModels.VehicleState, AutomotiveDrivingModels.VehicleDef, Int64}, AutomotiveDrivingModels.LatLonAccel, AutomotiveDrivingModels.Roadway, Float64) in module EmergencyBrakingSystem at C:\\Users\\Maxime\\.julia\\dev\\EmergencyBrakingSystem\\src\\emergency_system.jl:147 overwritten in module PedestrianAvoidancePOMDP at C:\\Users\\Maxime\\.julia\\dev\\PedestrianAvoidancePOMDP\\src\\pedestrian_pomdp.jl:122.\n"
     ]
    }
   ],
   "source": [
    "using Revise\n",
    "using POMDPs\n",
    "using GridInterpolations \n",
    "using POMDPModelTools\n",
    "using POMDPPolicies\n",
    "using Parameters\n",
    "using StaticArrays\n",
    "using DiscreteValueIteration \n",
    "using Distributed\n",
    "using AutomotiveDrivingModels\n",
    "using AutoViz\n",
    "using AutomotiveSensors\n",
    "using AutomotivePOMDPs\n",
    "using PedestrianAvoidancePOMDP\n",
    "\n",
    "using FileIO\n",
    "using JLD2"
   ]
  },
  {
   "cell_type": "code",
   "execution_count": 5,
   "metadata": {},
   "outputs": [
    {
     "name": "stdout",
     "output_type": "stream",
     "text": [
      "POMDP with number of states: 215326\n"
     ]
    },
    {
     "name": "stderr",
     "output_type": "stream",
     "text": [
      "┌ Info: residual: 794.348192384129, time: 0.134914765, total time: 0.134914765 \n",
      "│   i = 1\n",
      "└ @ DiscreteValueIteration C:\\Users\\Maxime\\.julia\\dev\\DiscreteValueIteration\\src\\sparse.jl:122\n",
      "┌ Info: residual: 713.5188242809859, time: 0.151245037, total time: 0.286159802 \n",
      "│   i = 2\n",
      "└ @ DiscreteValueIteration C:\\Users\\Maxime\\.julia\\dev\\DiscreteValueIteration\\src\\sparse.jl:122\n",
      "┌ Info: residual: 631.5738095842601, time: 0.151660247, total time: 0.43782004900000004 \n",
      "│   i = 3\n",
      "└ @ DiscreteValueIteration C:\\Users\\Maxime\\.julia\\dev\\DiscreteValueIteration\\src\\sparse.jl:122\n",
      "┌ Info: residual: 550.4647128370118, time: 0.153171358, total time: 0.5909914070000001 \n",
      "│   i = 4\n",
      "└ @ DiscreteValueIteration C:\\Users\\Maxime\\.julia\\dev\\DiscreteValueIteration\\src\\sparse.jl:122\n",
      "┌ Info: residual: 483.4603120095102, time: 0.155579259, total time: 0.7465706660000001 \n",
      "│   i = 5\n",
      "└ @ DiscreteValueIteration C:\\Users\\Maxime\\.julia\\dev\\DiscreteValueIteration\\src\\sparse.jl:122\n",
      "┌ Info: residual: 424.9549892932315, time: 0.341494518, total time: 1.0880651840000002 \n",
      "│   i = 6\n",
      "└ @ DiscreteValueIteration C:\\Users\\Maxime\\.julia\\dev\\DiscreteValueIteration\\src\\sparse.jl:122\n",
      "┌ Info: residual: 365.6812882538251, time: 0.15481521, total time: 1.2428803940000002 \n",
      "│   i = 7\n",
      "└ @ DiscreteValueIteration C:\\Users\\Maxime\\.julia\\dev\\DiscreteValueIteration\\src\\sparse.jl:122\n",
      "┌ Info: residual: 304.9749414372784, time: 0.168673975, total time: 1.411554369 \n",
      "│   i = 8\n",
      "└ @ DiscreteValueIteration C:\\Users\\Maxime\\.julia\\dev\\DiscreteValueIteration\\src\\sparse.jl:122\n",
      "┌ Info: residual: 244.48501210647976, time: 0.160664494, total time: 1.572218863 \n",
      "│   i = 9\n",
      "└ @ DiscreteValueIteration C:\\Users\\Maxime\\.julia\\dev\\DiscreteValueIteration\\src\\sparse.jl:122\n",
      "┌ Info: residual: 189.52536036364995, time: 0.168688592, total time: 1.740907455 \n",
      "│   i = 10\n",
      "└ @ DiscreteValueIteration C:\\Users\\Maxime\\.julia\\dev\\DiscreteValueIteration\\src\\sparse.jl:122\n",
      "┌ Info: residual: 145.96748477521805, time: 0.170576593, total time: 1.9114840480000002 \n",
      "│   i = 11\n",
      "└ @ DiscreteValueIteration C:\\Users\\Maxime\\.julia\\dev\\DiscreteValueIteration\\src\\sparse.jl:122\n",
      "┌ Info: residual: 130.20616373231815, time: 0.174768592, total time: 2.08625264 \n",
      "│   i = 12\n",
      "└ @ DiscreteValueIteration C:\\Users\\Maxime\\.julia\\dev\\DiscreteValueIteration\\src\\sparse.jl:122\n",
      "┌ Info: residual: 119.2874691588845, time: 0.163493531, total time: 2.249746171 \n",
      "│   i = 13\n",
      "└ @ DiscreteValueIteration C:\\Users\\Maxime\\.julia\\dev\\DiscreteValueIteration\\src\\sparse.jl:122\n",
      "┌ Info: residual: 113.2070625733968, time: 0.16598874, total time: 2.415734911 \n",
      "│   i = 14\n",
      "└ @ DiscreteValueIteration C:\\Users\\Maxime\\.julia\\dev\\DiscreteValueIteration\\src\\sparse.jl:122\n",
      "┌ Info: residual: 106.94636727221348, time: 0.169645432, total time: 2.5853803429999997 \n",
      "│   i = 15\n",
      "└ @ DiscreteValueIteration C:\\Users\\Maxime\\.julia\\dev\\DiscreteValueIteration\\src\\sparse.jl:122\n",
      "┌ Info: residual: 100.56603728701566, time: 0.166861432, total time: 2.752241775 \n",
      "│   i = 16\n",
      "└ @ DiscreteValueIteration C:\\Users\\Maxime\\.julia\\dev\\DiscreteValueIteration\\src\\sparse.jl:122\n",
      "┌ Info: residual: 94.14945226128543, time: 0.179986173, total time: 2.932227948 \n",
      "│   i = 17\n",
      "└ @ DiscreteValueIteration C:\\Users\\Maxime\\.julia\\dev\\DiscreteValueIteration\\src\\sparse.jl:122\n",
      "┌ Info: residual: 87.7863537857047, time: 0.174179161, total time: 3.106407109 \n",
      "│   i = 18\n",
      "└ @ DiscreteValueIteration C:\\Users\\Maxime\\.julia\\dev\\DiscreteValueIteration\\src\\sparse.jl:122\n",
      "┌ Info: residual: 81.55859266162656, time: 0.161197432, total time: 3.267604541 \n",
      "│   i = 19\n",
      "└ @ DiscreteValueIteration C:\\Users\\Maxime\\.julia\\dev\\DiscreteValueIteration\\src\\sparse.jl:122\n",
      "┌ Info: residual: 75.51914565252719, time: 0.164786568, total time: 3.4323911089999997 \n",
      "│   i = 20\n",
      "└ @ DiscreteValueIteration C:\\Users\\Maxime\\.julia\\dev\\DiscreteValueIteration\\src\\sparse.jl:122\n",
      "┌ Info: residual: 69.71400535945133, time: 0.180365827, total time: 3.612756936 \n",
      "│   i = 21\n",
      "└ @ DiscreteValueIteration C:\\Users\\Maxime\\.julia\\dev\\DiscreteValueIteration\\src\\sparse.jl:122\n",
      "┌ Info: residual: 64.15244281884213, time: 0.233656098, total time: 3.846413034 \n",
      "│   i = 22\n",
      "└ @ DiscreteValueIteration C:\\Users\\Maxime\\.julia\\dev\\DiscreteValueIteration\\src\\sparse.jl:122\n",
      "┌ Info: residual: 58.79743609092975, time: 0.235870815, total time: 4.0822838489999995 \n",
      "│   i = 23\n",
      "└ @ DiscreteValueIteration C:\\Users\\Maxime\\.julia\\dev\\DiscreteValueIteration\\src\\sparse.jl:122\n",
      "┌ Info: residual: 53.793398095567454, time: 0.170674963, total time: 4.252958811999999 \n",
      "│   i = 24\n",
      "└ @ DiscreteValueIteration C:\\Users\\Maxime\\.julia\\dev\\DiscreteValueIteration\\src\\sparse.jl:122\n",
      "┌ Info: residual: 41.229514410470074, time: 0.243580444, total time: 4.496539255999999 \n",
      "│   i = 25\n",
      "└ @ DiscreteValueIteration C:\\Users\\Maxime\\.julia\\dev\\DiscreteValueIteration\\src\\sparse.jl:122\n",
      "┌ Info: residual: 27.738957312183857, time: 0.252792494, total time: 4.74933175 \n",
      "│   i = 26\n",
      "└ @ DiscreteValueIteration C:\\Users\\Maxime\\.julia\\dev\\DiscreteValueIteration\\src\\sparse.jl:122\n",
      "┌ Info: residual: 26.35200944657481, time: 0.173040988, total time: 4.922372738 \n",
      "│   i = 27\n",
      "└ @ DiscreteValueIteration C:\\Users\\Maxime\\.julia\\dev\\DiscreteValueIteration\\src\\sparse.jl:122\n",
      "┌ Info: residual: 25.034408974245935, time: 0.28639684, total time: 5.208769578 \n",
      "│   i = 28\n",
      "└ @ DiscreteValueIteration C:\\Users\\Maxime\\.julia\\dev\\DiscreteValueIteration\\src\\sparse.jl:122\n",
      "┌ Info: residual: 23.78268852553356, time: 0.207210271, total time: 5.415979849 \n",
      "│   i = 29\n",
      "└ @ DiscreteValueIteration C:\\Users\\Maxime\\.julia\\dev\\DiscreteValueIteration\\src\\sparse.jl:122\n",
      "┌ Info: residual: 22.593554099257062, time: 0.17561442, total time: 5.591594269 \n",
      "│   i = 30\n",
      "└ @ DiscreteValueIteration C:\\Users\\Maxime\\.julia\\dev\\DiscreteValueIteration\\src\\sparse.jl:122\n",
      "┌ Info: residual: 21.463876394294175, time: 0.171847111, total time: 5.76344138 \n",
      "│   i = 31\n",
      "└ @ DiscreteValueIteration C:\\Users\\Maxime\\.julia\\dev\\DiscreteValueIteration\\src\\sparse.jl:122\n",
      "┌ Info: residual: 20.390682574579614, time: 0.166849186, total time: 5.930290566 \n",
      "│   i = 32\n",
      "└ @ DiscreteValueIteration C:\\Users\\Maxime\\.julia\\dev\\DiscreteValueIteration\\src\\sparse.jl:122\n",
      "┌ Info: residual: 19.371148445850622, time: 0.354107259, total time: 6.284397825 \n",
      "│   i = 33\n",
      "└ @ DiscreteValueIteration C:\\Users\\Maxime\\.julia\\dev\\DiscreteValueIteration\\src\\sparse.jl:122\n",
      "┌ Info: residual: 18.402591023558216, time: 0.154741729, total time: 6.4391395540000005 \n",
      "│   i = 34\n",
      "└ @ DiscreteValueIteration C:\\Users\\Maxime\\.julia\\dev\\DiscreteValueIteration\\src\\sparse.jl:122\n",
      "┌ Info: residual: 17.482461472380237, time: 0.173488197, total time: 6.612627751000001 \n",
      "│   i = 35\n",
      "└ @ DiscreteValueIteration C:\\Users\\Maxime\\.julia\\dev\\DiscreteValueIteration\\src\\sparse.jl:122\n",
      "┌ Info: residual: 16.608338398761134, time: 0.173624099, total time: 6.786251850000001 \n",
      "│   i = 36\n",
      "└ @ DiscreteValueIteration C:\\Users\\Maxime\\.julia\\dev\\DiscreteValueIteration\\src\\sparse.jl:122\n",
      "┌ Info: residual: 15.777921478823146, time: 0.156722568, total time: 6.942974418000001 \n",
      "│   i = 37\n",
      "└ @ DiscreteValueIteration C:\\Users\\Maxime\\.julia\\dev\\DiscreteValueIteration\\src\\sparse.jl:122\n",
      "┌ Info: residual: 14.989025404882113, time: 0.160262321, total time: 7.1032367390000015 \n",
      "│   i = 38\n",
      "└ @ DiscreteValueIteration C:\\Users\\Maxime\\.julia\\dev\\DiscreteValueIteration\\src\\sparse.jl:122\n",
      "┌ Info: residual: 14.239574134637905, time: 0.158681679, total time: 7.261918418000001 \n",
      "│   i = 39\n",
      "└ @ DiscreteValueIteration C:\\Users\\Maxime\\.julia\\dev\\DiscreteValueIteration\\src\\sparse.jl:122\n",
      "┌ Info: residual: 13.527595427906135, time: 0.157552198, total time: 7.419470616000002 \n",
      "│   i = 40\n",
      "└ @ DiscreteValueIteration C:\\Users\\Maxime\\.julia\\dev\\DiscreteValueIteration\\src\\sparse.jl:122\n",
      "┌ Info: residual: 12.851215656510703, time: 0.140552692, total time: 7.560023308000002 \n",
      "│   i = 41\n",
      "└ @ DiscreteValueIteration C:\\Users\\Maxime\\.julia\\dev\\DiscreteValueIteration\\src\\sparse.jl:122\n",
      "┌ Info: residual: 12.208654873685418, time: 0.144238222, total time: 7.704261530000002 \n",
      "│   i = 42\n",
      "└ @ DiscreteValueIteration C:\\Users\\Maxime\\.julia\\dev\\DiscreteValueIteration\\src\\sparse.jl:122\n",
      "┌ Info: residual: 11.598222130000977, time: 0.161129086, total time: 7.865390616000002 \n",
      "│   i = 43\n",
      "└ @ DiscreteValueIteration C:\\Users\\Maxime\\.julia\\dev\\DiscreteValueIteration\\src\\sparse.jl:122\n",
      "┌ Info: residual: 11.018311023501155, time: 0.237151605, total time: 8.102542221000002 \n",
      "│   i = 44\n",
      "└ @ DiscreteValueIteration C:\\Users\\Maxime\\.julia\\dev\\DiscreteValueIteration\\src\\sparse.jl:122\n"
     ]
    },
    {
     "name": "stderr",
     "output_type": "stream",
     "text": [
      "┌ Info: residual: 10.467395472325961, time: 0.251350914, total time: 8.353893135000002 \n",
      "│   i = 45\n",
      "└ @ DiscreteValueIteration C:\\Users\\Maxime\\.julia\\dev\\DiscreteValueIteration\\src\\sparse.jl:122\n",
      "┌ Info: residual: 9.944025698709765, time: 0.173931062, total time: 8.527824197000001 \n",
      "│   i = 46\n",
      "└ @ DiscreteValueIteration C:\\Users\\Maxime\\.julia\\dev\\DiscreteValueIteration\\src\\sparse.jl:122\n",
      "┌ Info: residual: 9.446824413774493, time: 0.189842963, total time: 8.717667160000001 \n",
      "│   i = 47\n",
      "└ @ DiscreteValueIteration C:\\Users\\Maxime\\.julia\\dev\\DiscreteValueIteration\\src\\sparse.jl:122\n",
      "┌ Info: residual: 8.974483193085689, time: 0.194268444, total time: 8.911935604000002 \n",
      "│   i = 48\n",
      "└ @ DiscreteValueIteration C:\\Users\\Maxime\\.julia\\dev\\DiscreteValueIteration\\src\\sparse.jl:122\n",
      "┌ Info: residual: 8.525759033431541, time: 0.168406518, total time: 9.080342122000001 \n",
      "│   i = 49\n",
      "└ @ DiscreteValueIteration C:\\Users\\Maxime\\.julia\\dev\\DiscreteValueIteration\\src\\sparse.jl:122\n",
      "┌ Info: residual: 8.09947108175993, time: 0.180328296, total time: 9.260670418000002 \n",
      "│   i = 50\n",
      "└ @ DiscreteValueIteration C:\\Users\\Maxime\\.julia\\dev\\DiscreteValueIteration\\src\\sparse.jl:122\n",
      "┌ Info: residual: 7.694497527671956, time: 0.172575605, total time: 9.433246023000002 \n",
      "│   i = 51\n",
      "└ @ DiscreteValueIteration C:\\Users\\Maxime\\.julia\\dev\\DiscreteValueIteration\\src\\sparse.jl:122\n",
      "┌ Info: residual: 7.309772651288313, time: 0.151501432, total time: 9.584747455000002 \n",
      "│   i = 52\n",
      "└ @ DiscreteValueIteration C:\\Users\\Maxime\\.julia\\dev\\DiscreteValueIteration\\src\\sparse.jl:122\n",
      "┌ Info: residual: 6.94428401872392, time: 0.147792198, total time: 9.732539653000002 \n",
      "│   i = 53\n",
      "└ @ DiscreteValueIteration C:\\Users\\Maxime\\.julia\\dev\\DiscreteValueIteration\\src\\sparse.jl:122\n",
      "┌ Info: residual: 6.597069817787769, time: 0.163086617, total time: 9.895626270000001 \n",
      "│   i = 54\n",
      "└ @ DiscreteValueIteration C:\\Users\\Maxime\\.julia\\dev\\DiscreteValueIteration\\src\\sparse.jl:122\n",
      "┌ Info: residual: 6.267216326898506, time: 0.14518163, total time: 10.0408079 \n",
      "│   i = 55\n",
      "└ @ DiscreteValueIteration C:\\Users\\Maxime\\.julia\\dev\\DiscreteValueIteration\\src\\sparse.jl:122\n",
      "┌ Info: residual: 5.953855510553467, time: 0.214811654, total time: 10.255619554 \n",
      "│   i = 56\n",
      "└ @ DiscreteValueIteration C:\\Users\\Maxime\\.julia\\dev\\DiscreteValueIteration\\src\\sparse.jl:122\n",
      "┌ Info: residual: 5.656162735025873, time: 0.115926913, total time: 10.371546467 \n",
      "│   i = 57\n",
      "└ @ DiscreteValueIteration C:\\Users\\Maxime\\.julia\\dev\\DiscreteValueIteration\\src\\sparse.jl:122\n",
      "┌ Info: residual: 5.373354598274545, time: 0.107175506, total time: 10.478721973 \n",
      "│   i = 58\n",
      "└ @ DiscreteValueIteration C:\\Users\\Maxime\\.julia\\dev\\DiscreteValueIteration\\src\\sparse.jl:122\n",
      "┌ Info: residual: 5.104686868361114, time: 0.100944988, total time: 10.579666961000001 \n",
      "│   i = 59\n",
      "└ @ DiscreteValueIteration C:\\Users\\Maxime\\.julia\\dev\\DiscreteValueIteration\\src\\sparse.jl:122\n",
      "┌ Info: residual: 4.84945252494299, time: 0.31462242, total time: 10.894289381 \n",
      "│   i = 60\n",
      "└ @ DiscreteValueIteration C:\\Users\\Maxime\\.julia\\dev\\DiscreteValueIteration\\src\\sparse.jl:122\n",
      "┌ Info: residual: 4.606979898695727, time: 0.114500346, total time: 11.008789727 \n",
      "│   i = 61\n",
      "└ @ DiscreteValueIteration C:\\Users\\Maxime\\.julia\\dev\\DiscreteValueIteration\\src\\sparse.jl:122\n",
      "┌ Info: residual: 4.376630903760997, time: 0.106318222, total time: 11.115107949 \n",
      "│   i = 62\n",
      "└ @ DiscreteValueIteration C:\\Users\\Maxime\\.julia\\dev\\DiscreteValueIteration\\src\\sparse.jl:122\n",
      "┌ Info: residual: 4.157799358573357, time: 0.107621531, total time: 11.22272948 \n",
      "│   i = 63\n",
      "└ @ DiscreteValueIteration C:\\Users\\Maxime\\.julia\\dev\\DiscreteValueIteration\\src\\sparse.jl:122\n",
      "┌ Info: residual: 3.949909390644507, time: 0.119075951, total time: 11.341805431 \n",
      "│   i = 64\n",
      "└ @ DiscreteValueIteration C:\\Users\\Maxime\\.julia\\dev\\DiscreteValueIteration\\src\\sparse.jl:122\n",
      "┌ Info: residual: 3.752413921112293, time: 0.144499753, total time: 11.486305183999999 \n",
      "│   i = 65\n",
      "└ @ DiscreteValueIteration C:\\Users\\Maxime\\.julia\\dev\\DiscreteValueIteration\\src\\sparse.jl:122\n",
      "┌ Info: residual: 3.5647932250567465, time: 0.166279506, total time: 11.65258469 \n",
      "│   i = 66\n",
      "└ @ DiscreteValueIteration C:\\Users\\Maxime\\.julia\\dev\\DiscreteValueIteration\\src\\sparse.jl:122\n",
      "┌ Info: residual: 3.386553563804, time: 0.153249975, total time: 11.805834664999999 \n",
      "│   i = 67\n",
      "└ @ DiscreteValueIteration C:\\Users\\Maxime\\.julia\\dev\\DiscreteValueIteration\\src\\sparse.jl:122\n",
      "┌ Info: residual: 3.2172258856139706, time: 0.154731062, total time: 11.960565726999999 \n",
      "│   i = 68\n",
      "└ @ DiscreteValueIteration C:\\Users\\Maxime\\.julia\\dev\\DiscreteValueIteration\\src\\sparse.jl:122\n",
      "┌ Info: residual: 3.056364591333022, time: 0.253455408, total time: 12.214021135 \n",
      "│   i = 69\n",
      "└ @ DiscreteValueIteration C:\\Users\\Maxime\\.julia\\dev\\DiscreteValueIteration\\src\\sparse.jl:122\n",
      "┌ Info: residual: 2.90354636176653, time: 0.175710815, total time: 12.38973195 \n",
      "│   i = 70\n",
      "└ @ DiscreteValueIteration C:\\Users\\Maxime\\.julia\\dev\\DiscreteValueIteration\\src\\sparse.jl:122\n",
      "┌ Info: residual: 2.758369043678158, time: 0.220914173, total time: 12.610646123 \n",
      "│   i = 71\n",
      "└ @ DiscreteValueIteration C:\\Users\\Maxime\\.julia\\dev\\DiscreteValueIteration\\src\\sparse.jl:122\n",
      "┌ Info: residual: 2.6204505914945457, time: 0.282446222, total time: 12.893092345000001 \n",
      "│   i = 72\n",
      "└ @ DiscreteValueIteration C:\\Users\\Maxime\\.julia\\dev\\DiscreteValueIteration\\src\\sparse.jl:122\n",
      "┌ Info: residual: 2.489428061919625, time: 0.20783921, total time: 13.100931555 \n",
      "│   i = 73\n",
      "└ @ DiscreteValueIteration C:\\Users\\Maxime\\.julia\\dev\\DiscreteValueIteration\\src\\sparse.jl:122\n",
      "┌ Info: residual: 2.3649566588237576, time: 0.183249778, total time: 13.284181333000001 \n",
      "│   i = 74\n",
      "└ @ DiscreteValueIteration C:\\Users\\Maxime\\.julia\\dev\\DiscreteValueIteration\\src\\sparse.jl:122\n",
      "┌ Info: residual: 2.246708825882706, time: 0.162482173, total time: 13.446663506000002 \n",
      "│   i = 75\n",
      "└ @ DiscreteValueIteration C:\\Users\\Maxime\\.julia\\dev\\DiscreteValueIteration\\src\\sparse.jl:122\n",
      "┌ Info: residual: 2.134373384588571, time: 0.176925629, total time: 13.623589135000001 \n",
      "│   i = 76\n",
      "└ @ DiscreteValueIteration C:\\Users\\Maxime\\.julia\\dev\\DiscreteValueIteration\\src\\sparse.jl:122\n",
      "┌ Info: residual: 2.0276547153591764, time: 0.17743684, total time: 13.801025975000002 \n",
      "│   i = 77\n",
      "└ @ DiscreteValueIteration C:\\Users\\Maxime\\.julia\\dev\\DiscreteValueIteration\\src\\sparse.jl:122\n",
      "┌ Info: residual: 1.92627197959132, time: 0.230375901, total time: 14.031401876000002 \n",
      "│   i = 78\n",
      "└ @ DiscreteValueIteration C:\\Users\\Maxime\\.julia\\dev\\DiscreteValueIteration\\src\\sparse.jl:122\n",
      "┌ Info: residual: 1.8299583806117425, time: 0.258859062, total time: 14.290260938000003 \n",
      "│   i = 79\n",
      "└ @ DiscreteValueIteration C:\\Users\\Maxime\\.julia\\dev\\DiscreteValueIteration\\src\\sparse.jl:122\n",
      "┌ Info: residual: 1.7384604615810986, time: 0.151966815, total time: 14.442227753000003 \n",
      "│   i = 80\n",
      "└ @ DiscreteValueIteration C:\\Users\\Maxime\\.julia\\dev\\DiscreteValueIteration\\src\\sparse.jl:122\n",
      "┌ Info: residual: 1.651537438502146, time: 0.136406914, total time: 14.578634667000003 \n",
      "│   i = 81\n",
      "└ @ DiscreteValueIteration C:\\Users\\Maxime\\.julia\\dev\\DiscreteValueIteration\\src\\sparse.jl:122\n",
      "┌ Info: residual: 1.5689605665772888, time: 0.182307161, total time: 14.760941828000004 \n",
      "│   i = 82\n",
      "└ @ DiscreteValueIteration C:\\Users\\Maxime\\.julia\\dev\\DiscreteValueIteration\\src\\sparse.jl:122\n",
      "┌ Info: residual: 1.4905125382483675, time: 0.152170271, total time: 14.913112099000003 \n",
      "│   i = 83\n",
      "└ @ DiscreteValueIteration C:\\Users\\Maxime\\.julia\\dev\\DiscreteValueIteration\\src\\sparse.jl:122\n",
      "┌ Info: residual: 1.4159869113359491, time: 0.143717926, total time: 15.056830025000004 \n",
      "│   i = 84\n",
      "└ @ DiscreteValueIteration C:\\Users\\Maxime\\.julia\\dev\\DiscreteValueIteration\\src\\sparse.jl:122\n",
      "┌ Info: residual: 1.345187565769038, time: 0.156827655, total time: 15.213657680000004 \n",
      "│   i = 85\n",
      "└ @ DiscreteValueIteration C:\\Users\\Maxime\\.julia\\dev\\DiscreteValueIteration\\src\\sparse.jl:122\n",
      "┌ Info: residual: 1.2779281874807111, time: 0.139276246, total time: 15.352933926000004 \n",
      "│   i = 86\n",
      "└ @ DiscreteValueIteration C:\\Users\\Maxime\\.julia\\dev\\DiscreteValueIteration\\src\\sparse.jl:122\n",
      "┌ Info: residual: 1.2140317781068006, time: 0.334430815, total time: 15.687364741000003 \n",
      "│   i = 87\n",
      "└ @ DiscreteValueIteration C:\\Users\\Maxime\\.julia\\dev\\DiscreteValueIteration\\src\\sparse.jl:122\n"
     ]
    },
    {
     "name": "stderr",
     "output_type": "stream",
     "text": [
      "┌ Info: residual: 1.1533301892013696, time: 0.157839802, total time: 15.845204543000003 \n",
      "│   i = 88\n",
      "└ @ DiscreteValueIteration C:\\Users\\Maxime\\.julia\\dev\\DiscreteValueIteration\\src\\sparse.jl:122\n",
      "┌ Info: residual: 1.0956636797413921, time: 0.182337185, total time: 16.027541728000003 \n",
      "│   i = 89\n",
      "└ @ DiscreteValueIteration C:\\Users\\Maxime\\.julia\\dev\\DiscreteValueIteration\\src\\sparse.jl:122\n",
      "┌ Info: residual: 1.0408804957544362, time: 0.159316148, total time: 16.186857876 \n",
      "│   i = 90\n",
      "└ @ DiscreteValueIteration C:\\Users\\Maxime\\.julia\\dev\\DiscreteValueIteration\\src\\sparse.jl:122\n",
      "┌ Info: residual: 0.9888364709668167, time: 0.152553482, total time: 16.339411358 \n",
      "│   i = 91\n",
      "└ @ DiscreteValueIteration C:\\Users\\Maxime\\.julia\\dev\\DiscreteValueIteration\\src\\sparse.jl:122\n",
      "┌ Info: residual: 0.9393946474183394, time: 0.171111507, total time: 16.510522865 \n",
      "│   i = 92\n",
      "└ @ DiscreteValueIteration C:\\Users\\Maxime\\.julia\\dev\\DiscreteValueIteration\\src\\sparse.jl:122\n",
      "┌ Info: residual: 0.8924249150477408, time: 0.28054716, total time: 16.791070025 \n",
      "│   i = 93\n",
      "└ @ DiscreteValueIteration C:\\Users\\Maxime\\.julia\\dev\\DiscreteValueIteration\\src\\sparse.jl:122\n",
      "┌ Info: residual: 0.8478036692954447, time: 0.206036939, total time: 16.997106964 \n",
      "│   i = 94\n",
      "└ @ DiscreteValueIteration C:\\Users\\Maxime\\.julia\\dev\\DiscreteValueIteration\\src\\sparse.jl:122\n",
      "┌ Info: residual: 0.8054134858305133, time: 0.320729679, total time: 17.317836643 \n",
      "│   i = 95\n",
      "└ @ DiscreteValueIteration C:\\Users\\Maxime\\.julia\\dev\\DiscreteValueIteration\\src\\sparse.jl:122\n",
      "┌ Info: residual: 0.7651428115389081, time: 0.188189235, total time: 17.506025878 \n",
      "│   i = 96\n",
      "└ @ DiscreteValueIteration C:\\Users\\Maxime\\.julia\\dev\\DiscreteValueIteration\\src\\sparse.jl:122\n",
      "┌ Info: residual: 0.7268856709620195, time: 0.174034568, total time: 17.680060446 \n",
      "│   i = 97\n",
      "└ @ DiscreteValueIteration C:\\Users\\Maxime\\.julia\\dev\\DiscreteValueIteration\\src\\sparse.jl:122\n",
      "┌ Info: residual: 0.6905413874142141, time: 0.17840079, total time: 17.858461236 \n",
      "│   i = 98\n",
      "└ @ DiscreteValueIteration C:\\Users\\Maxime\\.julia\\dev\\DiscreteValueIteration\\src\\sparse.jl:122\n",
      "┌ Info: residual: 0.6560143180433897, time: 0.164215704, total time: 18.02267694 \n",
      "│   i = 99\n",
      "└ @ DiscreteValueIteration C:\\Users\\Maxime\\.julia\\dev\\DiscreteValueIteration\\src\\sparse.jl:122\n",
      "┌ Info: residual: 0.6232136021412771, time: 0.163631408, total time: 18.186308348 \n",
      "│   i = 100\n",
      "└ @ DiscreteValueIteration C:\\Users\\Maxime\\.julia\\dev\\DiscreteValueIteration\\src\\sparse.jl:122\n",
      "┌ Info: residual: 0.5920529220343269, time: 0.162998914, total time: 18.349307262 \n",
      "│   i = 101\n",
      "└ @ DiscreteValueIteration C:\\Users\\Maxime\\.julia\\dev\\DiscreteValueIteration\\src\\sparse.jl:122\n",
      "┌ Info: residual: 0.5624502759326333, time: 0.163974321, total time: 18.513281583 \n",
      "│   i = 102\n",
      "└ @ DiscreteValueIteration C:\\Users\\Maxime\\.julia\\dev\\DiscreteValueIteration\\src\\sparse.jl:122\n",
      "┌ Info: residual: 0.5343277621359448, time: 0.164366222, total time: 18.677647805000003 \n",
      "│   i = 103\n",
      "└ @ DiscreteValueIteration C:\\Users\\Maxime\\.julia\\dev\\DiscreteValueIteration\\src\\sparse.jl:122\n",
      "┌ Info: residual: 0.5076113740292385, time: 0.159114666, total time: 18.836762471000004 \n",
      "│   i = 104\n",
      "└ @ DiscreteValueIteration C:\\Users\\Maxime\\.julia\\dev\\DiscreteValueIteration\\src\\sparse.jl:122\n",
      "┌ Info: residual: 0.4822308053278448, time: 0.155026963, total time: 18.991789434000005 \n",
      "│   i = 105\n",
      "└ @ DiscreteValueIteration C:\\Users\\Maxime\\.julia\\dev\\DiscreteValueIteration\\src\\sparse.jl:122\n",
      "┌ Info: residual: 0.4581192650614412, time: 0.160939062, total time: 19.152728496000005 \n",
      "│   i = 106\n",
      "└ @ DiscreteValueIteration C:\\Users\\Maxime\\.julia\\dev\\DiscreteValueIteration\\src\\sparse.jl:122\n",
      "┌ Info: residual: 0.43521330180828954, time: 0.158526024, total time: 19.311254520000006 \n",
      "│   i = 107\n",
      "└ @ DiscreteValueIteration C:\\Users\\Maxime\\.julia\\dev\\DiscreteValueIteration\\src\\sparse.jl:122\n",
      "┌ Info: residual: 0.41345263671792054, time: 0.158063407, total time: 19.469317927000006 \n",
      "│   i = 108\n",
      "└ @ DiscreteValueIteration C:\\Users\\Maxime\\.julia\\dev\\DiscreteValueIteration\\src\\sparse.jl:122\n",
      "┌ Info: residual: 0.39278000488229736, time: 0.169468049, total time: 19.638785976000005 \n",
      "│   i = 109\n",
      "└ @ DiscreteValueIteration C:\\Users\\Maxime\\.julia\\dev\\DiscreteValueIteration\\src\\sparse.jl:122\n",
      "┌ Info: residual: 0.3731410046380006, time: 0.175242667, total time: 19.814028643000004 \n",
      "│   i = 110\n",
      "└ @ DiscreteValueIteration C:\\Users\\Maxime\\.julia\\dev\\DiscreteValueIteration\\src\\sparse.jl:122\n",
      "┌ Info: residual: 0.3544839544063052, time: 0.180184889, total time: 19.994213532000003 \n",
      "│   i = 111\n",
      "└ @ DiscreteValueIteration C:\\Users\\Maxime\\.julia\\dev\\DiscreteValueIteration\\src\\sparse.jl:122\n",
      "┌ Info: residual: 0.3367597566859786, time: 0.173093136, total time: 20.167306668000002 \n",
      "│   i = 112\n",
      "└ @ DiscreteValueIteration C:\\Users\\Maxime\\.julia\\dev\\DiscreteValueIteration\\src\\sparse.jl:122\n",
      "┌ Info: residual: 0.31992176885160006, time: 0.180849383, total time: 20.348156051000004 \n",
      "│   i = 113\n",
      "└ @ DiscreteValueIteration C:\\Users\\Maxime\\.julia\\dev\\DiscreteValueIteration\\src\\sparse.jl:122\n",
      "┌ Info: residual: 0.3039256804092929, time: 0.392588642, total time: 20.740744693000003 \n",
      "│   i = 114\n",
      "└ @ DiscreteValueIteration C:\\Users\\Maxime\\.julia\\dev\\DiscreteValueIteration\\src\\sparse.jl:122\n",
      "┌ Info: residual: 0.2887293963888169, time: 0.170938074, total time: 20.911682767000002 \n",
      "│   i = 115\n",
      "└ @ DiscreteValueIteration C:\\Users\\Maxime\\.julia\\dev\\DiscreteValueIteration\\src\\sparse.jl:122\n",
      "┌ Info: residual: 0.2742929265693874, time: 0.168496988, total time: 21.080179755000003 \n",
      "│   i = 116\n",
      "└ @ DiscreteValueIteration C:\\Users\\Maxime\\.julia\\dev\\DiscreteValueIteration\\src\\sparse.jl:122\n",
      "┌ Info: residual: 0.2605782802409067, time: 0.163510913, total time: 21.243690668000003 \n",
      "│   i = 117\n",
      "└ @ DiscreteValueIteration C:\\Users\\Maxime\\.julia\\dev\\DiscreteValueIteration\\src\\sparse.jl:122\n",
      "┌ Info: residual: 0.24754936622889545, time: 0.165212444, total time: 21.408903112000004 \n",
      "│   i = 118\n",
      "└ @ DiscreteValueIteration C:\\Users\\Maxime\\.julia\\dev\\DiscreteValueIteration\\src\\sparse.jl:122\n",
      "┌ Info: residual: 0.235171897917553, time: 0.162838519, total time: 21.571741631000005 \n",
      "│   i = 119\n",
      "└ @ DiscreteValueIteration C:\\Users\\Maxime\\.julia\\dev\\DiscreteValueIteration\\src\\sparse.jl:122\n",
      "┌ Info: residual: 0.22341330302174356, time: 0.166533136, total time: 21.738274767000007 \n",
      "│   i = 120\n",
      "└ @ DiscreteValueIteration C:\\Users\\Maxime\\.julia\\dev\\DiscreteValueIteration\\src\\sparse.jl:122\n",
      "┌ Info: residual: 0.21224263787053133, time: 0.15641363, total time: 21.894688397000007 \n",
      "│   i = 121\n",
      "└ @ DiscreteValueIteration C:\\Users\\Maxime\\.julia\\dev\\DiscreteValueIteration\\src\\sparse.jl:122\n",
      "┌ Info: residual: 0.20163050597716392, time: 0.151909136, total time: 22.046597533000007 \n",
      "│   i = 122\n",
      "└ @ DiscreteValueIteration C:\\Users\\Maxime\\.julia\\dev\\DiscreteValueIteration\\src\\sparse.jl:122\n",
      "┌ Info: residual: 0.19154898067836257, time: 0.160948543, total time: 22.207546076000007 \n",
      "│   i = 123\n",
      "└ @ DiscreteValueIteration C:\\Users\\Maxime\\.julia\\dev\\DiscreteValueIteration\\src\\sparse.jl:122\n",
      "┌ Info: residual: 0.1819715316444217, time: 0.154829432, total time: 22.362375508000007 \n",
      "│   i = 124\n",
      "└ @ DiscreteValueIteration C:\\Users\\Maxime\\.julia\\dev\\DiscreteValueIteration\\src\\sparse.jl:122\n",
      "┌ Info: residual: 0.17287295506230294, time: 0.15401521, total time: 22.516390718000007 \n",
      "│   i = 125\n",
      "└ @ DiscreteValueIteration C:\\Users\\Maxime\\.julia\\dev\\DiscreteValueIteration\\src\\sparse.jl:122\n",
      "┌ Info: residual: 0.16422930730914231, time: 0.171253334, total time: 22.687644052000007 \n",
      "│   i = 126\n",
      "└ @ DiscreteValueIteration C:\\Users\\Maxime\\.julia\\dev\\DiscreteValueIteration\\src\\sparse.jl:122\n",
      "┌ Info: residual: 0.15601784194382162, time: 0.158456099, total time: 22.846100151000005 \n",
      "│   i = 127\n",
      "└ @ DiscreteValueIteration C:\\Users\\Maxime\\.julia\\dev\\DiscreteValueIteration\\src\\sparse.jl:122\n",
      "┌ Info: residual: 0.14821694984652822, time: 0.157013728, total time: 23.003113879000004 \n",
      "│   i = 128\n",
      "└ @ DiscreteValueIteration C:\\Users\\Maxime\\.julia\\dev\\DiscreteValueIteration\\src\\sparse.jl:122\n",
      "┌ Info: residual: 0.14080610235441782, time: 0.155392, total time: 23.158505879000003 \n",
      "│   i = 129\n",
      "└ @ DiscreteValueIteration C:\\Users\\Maxime\\.julia\\dev\\DiscreteValueIteration\\src\\sparse.jl:122\n",
      "┌ Info: residual: 0.13376579723671966, time: 0.279919012, total time: 23.438424891000004 \n",
      "│   i = 130\n",
      "└ @ DiscreteValueIteration C:\\Users\\Maxime\\.julia\\dev\\DiscreteValueIteration\\src\\sparse.jl:122\n"
     ]
    },
    {
     "name": "stderr",
     "output_type": "stream",
     "text": [
      "┌ Info: residual: 0.12707750737490642, time: 0.196661728, total time: 23.635086619000003 \n",
      "│   i = 131\n",
      "└ @ DiscreteValueIteration C:\\Users\\Maxime\\.julia\\dev\\DiscreteValueIteration\\src\\sparse.jl:122\n",
      "┌ Info: residual: 0.12072363200604741, time: 0.166970074, total time: 23.802056693000004 \n",
      "│   i = 132\n",
      "└ @ DiscreteValueIteration C:\\Users\\Maxime\\.julia\\dev\\DiscreteValueIteration\\src\\sparse.jl:122\n",
      "┌ Info: residual: 0.11468745040610884, time: 0.164457086, total time: 23.966513779000003 \n",
      "│   i = 133\n",
      "└ @ DiscreteValueIteration C:\\Users\\Maxime\\.julia\\dev\\DiscreteValueIteration\\src\\sparse.jl:122\n",
      "┌ Info: residual: 0.10895307788564423, time: 0.161253926, total time: 24.127767705000004 \n",
      "│   i = 134\n",
      "└ @ DiscreteValueIteration C:\\Users\\Maxime\\.julia\\dev\\DiscreteValueIteration\\src\\sparse.jl:122\n",
      "┌ Info: residual: 0.10350542399146434, time: 0.164182123, total time: 24.291949828000003 \n",
      "│   i = 135\n",
      "└ @ DiscreteValueIteration C:\\Users\\Maxime\\.julia\\dev\\DiscreteValueIteration\\src\\sparse.jl:122\n",
      "┌ Info: residual: 0.09833015279195934, time: 0.171256099, total time: 24.463205927000004 \n",
      "│   i = 136\n",
      "└ @ DiscreteValueIteration C:\\Users\\Maxime\\.julia\\dev\\DiscreteValueIteration\\src\\sparse.jl:122\n",
      "┌ Info: residual: 0.09341364515239547, time: 0.167282568, total time: 24.630488495000005 \n",
      "│   i = 137\n",
      "└ @ DiscreteValueIteration C:\\Users\\Maxime\\.julia\\dev\\DiscreteValueIteration\\src\\sparse.jl:122\n",
      "┌ Info: residual: 0.08874296289468475, time: 0.168565729, total time: 24.799054224000006 \n",
      "│   i = 138\n",
      "└ @ DiscreteValueIteration C:\\Users\\Maxime\\.julia\\dev\\DiscreteValueIteration\\src\\sparse.jl:122\n",
      "┌ Info: residual: 0.08430581475022336, time: 0.161776197, total time: 24.960830421000004 \n",
      "│   i = 139\n",
      "└ @ DiscreteValueIteration C:\\Users\\Maxime\\.julia\\dev\\DiscreteValueIteration\\src\\sparse.jl:122\n",
      "┌ Info: residual: 0.08009052401257577, time: 0.163846321, total time: 25.124676742000005 \n",
      "│   i = 140\n",
      "└ @ DiscreteValueIteration C:\\Users\\Maxime\\.julia\\dev\\DiscreteValueIteration\\src\\sparse.jl:122\n",
      "┌ Info: residual: 0.0760859978120152, time: 0.427271902, total time: 25.551948644000007 \n",
      "│   i = 141\n",
      "└ @ DiscreteValueIteration C:\\Users\\Maxime\\.julia\\dev\\DiscreteValueIteration\\src\\sparse.jl:122\n",
      "┌ Info: residual: 0.0722816979214258, time: 0.167543309, total time: 25.719491953000006 \n",
      "│   i = 142\n",
      "└ @ DiscreteValueIteration C:\\Users\\Maxime\\.julia\\dev\\DiscreteValueIteration\\src\\sparse.jl:122\n",
      "┌ Info: residual: 0.06866761302535451, time: 0.161628839, total time: 25.881120792000004 \n",
      "│   i = 143\n",
      "└ @ DiscreteValueIteration C:\\Users\\Maxime\\.julia\\dev\\DiscreteValueIteration\\src\\sparse.jl:122\n",
      "┌ Info: residual: 0.06523423237422321, time: 0.15485116, total time: 26.035971952000004 \n",
      "│   i = 144\n",
      "└ @ DiscreteValueIteration C:\\Users\\Maxime\\.julia\\dev\\DiscreteValueIteration\\src\\sparse.jl:122\n",
      "┌ Info: residual: 0.06197252075571669, time: 0.159135605, total time: 26.195107557000004 \n",
      "│   i = 145\n",
      "└ @ DiscreteValueIteration C:\\Users\\Maxime\\.julia\\dev\\DiscreteValueIteration\\src\\sparse.jl:122\n",
      "┌ Info: residual: 0.05887389471763527, time: 0.159717136, total time: 26.354824693000005 \n",
      "│   i = 146\n",
      "└ @ DiscreteValueIteration C:\\Users\\Maxime\\.julia\\dev\\DiscreteValueIteration\\src\\sparse.jl:122\n",
      "┌ Info: residual: 0.05593019998195814, time: 0.166283852, total time: 26.521108545000004 \n",
      "│   i = 147\n",
      "└ @ DiscreteValueIteration C:\\Users\\Maxime\\.julia\\dev\\DiscreteValueIteration\\src\\sparse.jl:122\n",
      "┌ Info: residual: 0.05313368998304213, time: 0.175647605, total time: 26.696756150000006 \n",
      "│   i = 148\n",
      "└ @ DiscreteValueIteration C:\\Users\\Maxime\\.julia\\dev\\DiscreteValueIteration\\src\\sparse.jl:122\n",
      "┌ Info: residual: 0.050477005483799076, time: 0.161480297, total time: 26.858236447000007 \n",
      "│   i = 149\n",
      "└ @ DiscreteValueIteration C:\\Users\\Maxime\\.julia\\dev\\DiscreteValueIteration\\src\\sparse.jl:122\n",
      "┌ Info: residual: 0.04795315520982513, time: 0.163654321, total time: 27.021890768000006 \n",
      "│   i = 150\n",
      "└ @ DiscreteValueIteration C:\\Users\\Maxime\\.julia\\dev\\DiscreteValueIteration\\src\\sparse.jl:122\n",
      "┌ Info: residual: 0.04555549744918608, time: 0.161391802, total time: 27.183282570000006 \n",
      "│   i = 151\n",
      "└ @ DiscreteValueIteration C:\\Users\\Maxime\\.julia\\dev\\DiscreteValueIteration\\src\\sparse.jl:122\n",
      "┌ Info: residual: 0.04327772257693141, time: 0.16278163, total time: 27.346064200000008 \n",
      "│   i = 152\n",
      "└ @ DiscreteValueIteration C:\\Users\\Maxime\\.julia\\dev\\DiscreteValueIteration\\src\\sparse.jl:122\n",
      "┌ Info: residual: 0.041113836447948415, time: 0.15129126, total time: 27.49735546000001 \n",
      "│   i = 153\n",
      "└ @ DiscreteValueIteration C:\\Users\\Maxime\\.julia\\dev\\DiscreteValueIteration\\src\\sparse.jl:122\n",
      "┌ Info: residual: 0.039058144625641944, time: 0.161440395, total time: 27.658795855000008 \n",
      "│   i = 154\n",
      "└ @ DiscreteValueIteration C:\\Users\\Maxime\\.julia\\dev\\DiscreteValueIteration\\src\\sparse.jl:122\n",
      "┌ Info: residual: 0.037105237394371215, time: 0.163984988, total time: 27.822780843000007 \n",
      "│   i = 155\n",
      "└ @ DiscreteValueIteration C:\\Users\\Maxime\\.julia\\dev\\DiscreteValueIteration\\src\\sparse.jl:122\n",
      "┌ Info: residual: 0.03524997552449349, time: 0.172359901, total time: 27.995140744000008 \n",
      "│   i = 156\n",
      "└ @ DiscreteValueIteration C:\\Users\\Maxime\\.julia\\dev\\DiscreteValueIteration\\src\\sparse.jl:122\n",
      "┌ Info: residual: 0.03348747674840524, time: 0.173801481, total time: 28.16894222500001 \n",
      "│   i = 157\n",
      "└ @ DiscreteValueIteration C:\\Users\\Maxime\\.julia\\dev\\DiscreteValueIteration\\src\\sparse.jl:122\n",
      "┌ Info: residual: 0.03181310291097361, time: 0.165138567, total time: 28.33408079200001 \n",
      "│   i = 158\n",
      "└ @ DiscreteValueIteration C:\\Users\\Maxime\\.julia\\dev\\DiscreteValueIteration\\src\\sparse.jl:122\n",
      "┌ Info: residual: 0.030222447765481775, time: 0.178237235, total time: 28.51231802700001 \n",
      "│   i = 159\n",
      "└ @ DiscreteValueIteration C:\\Users\\Maxime\\.julia\\dev\\DiscreteValueIteration\\src\\sparse.jl:122\n",
      "┌ Info: residual: 0.02871132537734411, time: 0.19689679, total time: 28.70921481700001 \n",
      "│   i = 160\n",
      "└ @ DiscreteValueIteration C:\\Users\\Maxime\\.julia\\dev\\DiscreteValueIteration\\src\\sparse.jl:122\n",
      "┌ Info: residual: 0.027275759108761122, time: 0.274595161, total time: 28.98380997800001 \n",
      "│   i = 161\n",
      "└ @ DiscreteValueIteration C:\\Users\\Maxime\\.julia\\dev\\DiscreteValueIteration\\src\\sparse.jl:122\n",
      "┌ Info: residual: 0.025911971153163904, time: 0.317989135, total time: 29.301799113000012 \n",
      "│   i = 162\n",
      "└ @ DiscreteValueIteration C:\\Users\\Maxime\\.julia\\dev\\DiscreteValueIteration\\src\\sparse.jl:122\n",
      "┌ Info: residual: 0.02461637259557392, time: 0.262582518, total time: 29.56438163100001 \n",
      "│   i = 163\n",
      "└ @ DiscreteValueIteration C:\\Users\\Maxime\\.julia\\dev\\DiscreteValueIteration\\src\\sparse.jl:122\n",
      "┌ Info: residual: 0.023385553965681538, time: 0.351056197, total time: 29.91543782800001 \n",
      "│   i = 164\n",
      "└ @ DiscreteValueIteration C:\\Users\\Maxime\\.julia\\dev\\DiscreteValueIteration\\src\\sparse.jl:122\n",
      "┌ Info: residual: 0.02221627626749978, time: 0.292381629, total time: 30.20781945700001 \n",
      "│   i = 165\n",
      "└ @ DiscreteValueIteration C:\\Users\\Maxime\\.julia\\dev\\DiscreteValueIteration\\src\\sparse.jl:122\n",
      "┌ Info: residual: 0.02110546245421574, time: 0.376309728, total time: 30.58412918500001 \n",
      "│   i = 166\n",
      "└ @ DiscreteValueIteration C:\\Users\\Maxime\\.julia\\dev\\DiscreteValueIteration\\src\\sparse.jl:122\n",
      "┌ Info: residual: 0.020050189331641377, time: 0.253122765, total time: 30.83725195000001 \n",
      "│   i = 167\n",
      "└ @ DiscreteValueIteration C:\\Users\\Maxime\\.julia\\dev\\DiscreteValueIteration\\src\\sparse.jl:122\n",
      "┌ Info: residual: 0.019047679865025202, time: 0.469255506, total time: 31.30650745600001 \n",
      "│   i = 168\n",
      "└ @ DiscreteValueIteration C:\\Users\\Maxime\\.julia\\dev\\DiscreteValueIteration\\src\\sparse.jl:122\n",
      "┌ Info: residual: 0.0180952958717171, time: 0.171913087, total time: 31.47842054300001 \n",
      "│   i = 169\n",
      "└ @ DiscreteValueIteration C:\\Users\\Maxime\\.julia\\dev\\DiscreteValueIteration\\src\\sparse.jl:122\n",
      "┌ Info: residual: 0.017190531078313143, time: 0.171447704, total time: 31.649868247000008 \n",
      "│   i = 170\n",
      "└ @ DiscreteValueIteration C:\\Users\\Maxime\\.julia\\dev\\DiscreteValueIteration\\src\\sparse.jl:122\n",
      "┌ Info: residual: 0.01633100452454528, time: 0.165290667, total time: 31.81515891400001 \n",
      "│   i = 171\n",
      "└ @ DiscreteValueIteration C:\\Users\\Maxime\\.julia\\dev\\DiscreteValueIteration\\src\\sparse.jl:122\n",
      "┌ Info: residual: 0.015514454298227065, time: 0.177308444, total time: 31.99246735800001 \n",
      "│   i = 172\n",
      "└ @ DiscreteValueIteration C:\\Users\\Maxime\\.julia\\dev\\DiscreteValueIteration\\src\\sparse.jl:122\n"
     ]
    },
    {
     "name": "stderr",
     "output_type": "stream",
     "text": [
      "┌ Info: residual: 0.014738731583292974, time: 0.155163259, total time: 32.14763061700001 \n",
      "│   i = 173\n",
      "└ @ DiscreteValueIteration C:\\Users\\Maxime\\.julia\\dev\\DiscreteValueIteration\\src\\sparse.jl:122\n",
      "┌ Info: residual: 0.014001795004332962, time: 0.164044642, total time: 32.31167525900001 \n",
      "│   i = 174\n",
      "└ @ DiscreteValueIteration C:\\Users\\Maxime\\.julia\\dev\\DiscreteValueIteration\\src\\sparse.jl:122\n",
      "┌ Info: residual: 0.01330170525397989, time: 0.174407506, total time: 32.48608276500001 \n",
      "│   i = 175\n",
      "└ @ DiscreteValueIteration C:\\Users\\Maxime\\.julia\\dev\\DiscreteValueIteration\\src\\sparse.jl:122\n",
      "┌ Info: residual: 0.01263661999132637, time: 0.175000889, total time: 32.66108365400002 \n",
      "│   i = 176\n",
      "└ @ DiscreteValueIteration C:\\Users\\Maxime\\.julia\\dev\\DiscreteValueIteration\\src\\sparse.jl:122\n",
      "┌ Info: residual: 0.012004788991816895, time: 0.167217778, total time: 32.82830143200002 \n",
      "│   i = 177\n",
      "└ @ DiscreteValueIteration C:\\Users\\Maxime\\.julia\\dev\\DiscreteValueIteration\\src\\sparse.jl:122\n",
      "┌ Info: residual: 0.011404549542476161, time: 0.174827457, total time: 33.00312888900002 \n",
      "│   i = 178\n",
      "└ @ DiscreteValueIteration C:\\Users\\Maxime\\.julia\\dev\\DiscreteValueIteration\\src\\sparse.jl:122\n",
      "┌ Info: residual: 0.010834322065420565, time: 0.168492247, total time: 33.17162113600002 \n",
      "│   i = 179\n",
      "└ @ DiscreteValueIteration C:\\Users\\Maxime\\.julia\\dev\\DiscreteValueIteration\\src\\sparse.jl:122\n",
      "┌ Info: residual: 0.010292605962149537, time: 0.171850272, total time: 33.34347140800002 \n",
      "│   i = 180\n",
      "└ @ DiscreteValueIteration C:\\Users\\Maxime\\.julia\\dev\\DiscreteValueIteration\\src\\sparse.jl:122\n",
      "┌ Info: residual: 0.009777975664064797, time: 0.182940049, total time: 33.52641145700002 \n",
      "│   i = 181\n",
      "└ @ DiscreteValueIteration C:\\Users\\Maxime\\.julia\\dev\\DiscreteValueIteration\\src\\sparse.jl:122\n",
      "┌ Info: residual: 0.00928907688057734, time: 0.172235457, total time: 33.69864691400002 \n",
      "│   i = 182\n",
      "└ @ DiscreteValueIteration C:\\Users\\Maxime\\.julia\\dev\\DiscreteValueIteration\\src\\sparse.jl:122\n",
      "┌ Info: residual: 0.00882462303684406, time: 0.162959012, total time: 33.861605926000024 \n",
      "│   i = 183\n",
      "└ @ DiscreteValueIteration C:\\Users\\Maxime\\.julia\\dev\\DiscreteValueIteration\\src\\sparse.jl:122\n",
      "┌ Info: residual: 0.008383391884990488, time: 0.174675358, total time: 34.036281284000026 \n",
      "│   i = 184\n",
      "└ @ DiscreteValueIteration C:\\Users\\Maxime\\.julia\\dev\\DiscreteValueIteration\\src\\sparse.jl:122\n",
      "┌ Info: residual: 0.007964222290866019, time: 0.162124642, total time: 34.19840592600003 \n",
      "│   i = 185\n",
      "└ @ DiscreteValueIteration C:\\Users\\Maxime\\.julia\\dev\\DiscreteValueIteration\\src\\sparse.jl:122\n",
      "┌ Info: residual: 0.007566011176322718, time: 0.17363279, total time: 34.37203871600003 \n",
      "│   i = 186\n",
      "└ @ DiscreteValueIteration C:\\Users\\Maxime\\.julia\\dev\\DiscreteValueIteration\\src\\sparse.jl:122\n",
      "┌ Info: residual: 0.007187710617472476, time: 0.177172148, total time: 34.549210864000024 \n",
      "│   i = 187\n",
      "└ @ DiscreteValueIteration C:\\Users\\Maxime\\.julia\\dev\\DiscreteValueIteration\\src\\sparse.jl:122\n",
      "┌ Info: residual: 0.006828325086644327, time: 0.16966795, total time: 34.71887881400002 \n",
      "│   i = 188\n",
      "└ @ DiscreteValueIteration C:\\Users\\Maxime\\.julia\\dev\\DiscreteValueIteration\\src\\sparse.jl:122\n",
      "┌ Info: residual: 0.006486908832357585, time: 0.163173531, total time: 34.88205234500002 \n",
      "│   i = 189\n",
      "└ @ DiscreteValueIteration C:\\Users\\Maxime\\.julia\\dev\\DiscreteValueIteration\\src\\sparse.jl:122\n",
      "┌ Info: residual: 0.006162563390716969, time: 0.178076445, total time: 35.06012879000002 \n",
      "│   i = 190\n",
      "└ @ DiscreteValueIteration C:\\Users\\Maxime\\.julia\\dev\\DiscreteValueIteration\\src\\sparse.jl:122\n",
      "┌ Info: residual: 0.005854435221408494, time: 0.175903605, total time: 35.236032395000024 \n",
      "│   i = 191\n",
      "└ @ DiscreteValueIteration C:\\Users\\Maxime\\.julia\\dev\\DiscreteValueIteration\\src\\sparse.jl:122\n",
      "┌ Info: residual: 0.005561713460338069, time: 0.174862223, total time: 35.41089461800002 \n",
      "│   i = 192\n",
      "└ @ DiscreteValueIteration C:\\Users\\Maxime\\.julia\\dev\\DiscreteValueIteration\\src\\sparse.jl:122\n",
      "┌ Info: residual: 0.005283627787321166, time: 0.170328493, total time: 35.58122311100002 \n",
      "│   i = 193\n",
      "└ @ DiscreteValueIteration C:\\Users\\Maxime\\.julia\\dev\\DiscreteValueIteration\\src\\sparse.jl:122\n",
      "┌ Info: residual: 0.005019446398137006, time: 0.167139951, total time: 35.748363062000024 \n",
      "│   i = 194\n",
      "└ @ DiscreteValueIteration C:\\Users\\Maxime\\.julia\\dev\\DiscreteValueIteration\\src\\sparse.jl:122\n",
      "┌ Info: residual: 0.004768474078218787, time: 0.43788958, total time: 36.18625264200002 \n",
      "│   i = 195\n",
      "└ @ DiscreteValueIteration C:\\Users\\Maxime\\.julia\\dev\\DiscreteValueIteration\\src\\sparse.jl:122\n",
      "┌ Info: residual: 0.004530050374341954, time: 0.175896494, total time: 36.36214913600002 \n",
      "│   i = 196\n",
      "└ @ DiscreteValueIteration C:\\Users\\Maxime\\.julia\\dev\\DiscreteValueIteration\\src\\sparse.jl:122\n",
      "┌ Info: residual: 0.004303547855670331, time: 0.182739753, total time: 36.54488888900002 \n",
      "│   i = 197\n",
      "└ @ DiscreteValueIteration C:\\Users\\Maxime\\.julia\\dev\\DiscreteValueIteration\\src\\sparse.jl:122\n",
      "┌ Info: residual: 0.004088370462795865, time: 0.176823704, total time: 36.72171259300002 \n",
      "│   i = 198\n",
      "└ @ DiscreteValueIteration C:\\Users\\Maxime\\.julia\\dev\\DiscreteValueIteration\\src\\sparse.jl:122\n",
      "┌ Info: residual: 0.0038839519397697586, time: 0.173426173, total time: 36.895138766000024 \n",
      "│   i = 199\n",
      "└ @ DiscreteValueIteration C:\\Users\\Maxime\\.julia\\dev\\DiscreteValueIteration\\src\\sparse.jl:122\n",
      "┌ Info: residual: 0.0036897543427585333, time: 0.229944494, total time: 37.125083260000025 \n",
      "│   i = 200\n",
      "└ @ DiscreteValueIteration C:\\Users\\Maxime\\.julia\\dev\\DiscreteValueIteration\\src\\sparse.jl:122\n"
     ]
    }
   ],
   "source": [
    "# 1) choose betwenn only longitudinal\n",
    "lateral_actions = [0.0]\n",
    "# or lateral and longitudinal support\n",
    "# lateral_actions = [1, 0.0, -1]\n",
    "\n",
    "\n",
    "# 2) choose good values for the policy\n",
    "# good values are the longitudinal support are following\n",
    "# COLLISION_COST = -60.0\n",
    "# ACTION_LON_COST = 0.0\n",
    "# ACTION_LAT_COST = 0.0\n",
    "# KEEP_VELOCITY_REWARD = 10.0\n",
    "# KEEP_LANE_REWARD = 0.0\n",
    "# PROBABILITY_PEDESTRIAN_BIRTH = 0.4\n",
    "\n",
    "\n",
    "pomdp = SingleOCFPOMDP(lateral_actions=lateral_actions)\n",
    "pomdp.COLLISION_COST = -600.0\n",
    "pomdp.ACTION_LON_COST = 0.0\n",
    "pomdp.ACTION_LAT_COST = 0.0\n",
    "pomdp.KEEP_VELOCITY_REWARD = 10.0\n",
    "pomdp.KEEP_LANE_REWARD = 0.0\n",
    "pomdp.PROBABILITY_PEDESTRIAN_BIRTH = 0.4\n",
    "pomdp.γ = 0.95\n",
    "\n",
    "println(\"POMDP with number of states: $(n_states(pomdp))\")\n",
    "# train policy\n",
    "# if !isfile(\"transition.jld2\")\n",
    "#     transmat = DiscreteValueIteration.transition_matrix_a_s_sp(mdp)\n",
    "#     FileIO.save(\"transition.jld2\", \"transmat\", transmat)\n",
    "# else\n",
    "#     transmat = FileIO.load(\"transition.jld2\")[\"transmat\"]\n",
    "# end\n",
    "# function DiscreteValueIteration.transition_matrix_a_s_sp(::UnderlyingMDP{SingleOCFPOMDP,SingleOCFState,SingleOCFAction})\n",
    "#     println(\"using existing transition matrix\")\n",
    "#     return transmat\n",
    "# end\n",
    "solver = SparseValueIterationSolver(max_iterations=200, belres=1e-4, include_Q=true, verbose=true)\n",
    "mdp = UnderlyingMDP(pomdp);\n",
    "vi_policy = solve(solver, mdp)\n",
    "qmdp_policy = AlphaVectorPolicy(pomdp, vi_policy.qmat, vi_policy.action_map)\n",
    "\n",
    "# save policy\n",
    "FileIO.save(\"policy.jld2\", \"policy\", qmdp_policy)\n"
   ]
  },
  {
   "cell_type": "code",
   "execution_count": 7,
   "metadata": {
    "scrolled": false
   },
   "outputs": [
    {
     "data": {
      "image/svg+xml": [
       "<?xml version=\"1.0\" encoding=\"utf-8\"?>\n",
       "<svg xmlns=\"http://www.w3.org/2000/svg\" xmlns:xlink=\"http://www.w3.org/1999/xlink\" width=\"600\" height=\"400\" viewBox=\"0 0 2400 1600\">\n",
       "<defs>\n",
       "  <clipPath id=\"clip2500\">\n",
       "    <rect x=\"0\" y=\"0\" width=\"2000\" height=\"2000\"/>\n",
       "  </clipPath>\n",
       "</defs>\n",
       "<defs>\n",
       "  <clipPath id=\"clip2501\">\n",
       "    <rect x=\"0\" y=\"0\" width=\"2400\" height=\"1600\"/>\n",
       "  </clipPath>\n",
       "</defs>\n",
       "<polygon clip-path=\"url(#clip2501)\" points=\"\n",
       "0,1600 2400,1600 2400,0 0,0 \n",
       "  \" fill=\"#ffffff\" fill-rule=\"evenodd\" fill-opacity=\"1\"/>\n",
       "<defs>\n",
       "  <clipPath id=\"clip2502\">\n",
       "    <rect x=\"480\" y=\"0\" width=\"1681\" height=\"1600\"/>\n",
       "  </clipPath>\n",
       "</defs>\n",
       "<polygon clip-path=\"url(#clip2501)\" points=\"\n",
       "149.361,972.127 2081.26,972.127 2081.26,578.592 149.361,578.592 \n",
       "  \" fill=\"#ffffff\" fill-rule=\"evenodd\" fill-opacity=\"1\"/>\n",
       "<defs>\n",
       "  <clipPath id=\"clip2503\">\n",
       "    <rect x=\"149\" y=\"578\" width=\"1933\" height=\"395\"/>\n",
       "  </clipPath>\n",
       "</defs>\n",
       "<polyline clip-path=\"url(#clip2503)\" style=\"stroke:#000000; stroke-width:2; stroke-opacity:0.1; fill:none\" points=\"\n",
       "  256.688,972.127 256.688,578.592 \n",
       "  \"/>\n",
       "<polyline clip-path=\"url(#clip2503)\" style=\"stroke:#000000; stroke-width:2; stroke-opacity:0.1; fill:none\" points=\"\n",
       "  614.447,972.127 614.447,578.592 \n",
       "  \"/>\n",
       "<polyline clip-path=\"url(#clip2503)\" style=\"stroke:#000000; stroke-width:2; stroke-opacity:0.1; fill:none\" points=\"\n",
       "  972.207,972.127 972.207,578.592 \n",
       "  \"/>\n",
       "<polyline clip-path=\"url(#clip2503)\" style=\"stroke:#000000; stroke-width:2; stroke-opacity:0.1; fill:none\" points=\"\n",
       "  1329.97,972.127 1329.97,578.592 \n",
       "  \"/>\n",
       "<polyline clip-path=\"url(#clip2503)\" style=\"stroke:#000000; stroke-width:2; stroke-opacity:0.1; fill:none\" points=\"\n",
       "  1687.72,972.127 1687.72,578.592 \n",
       "  \"/>\n",
       "<polyline clip-path=\"url(#clip2503)\" style=\"stroke:#000000; stroke-width:2; stroke-opacity:0.1; fill:none\" points=\"\n",
       "  2045.48,972.127 2045.48,578.592 \n",
       "  \"/>\n",
       "<polyline clip-path=\"url(#clip2503)\" style=\"stroke:#000000; stroke-width:2; stroke-opacity:0.1; fill:none\" points=\"\n",
       "  149.361,918.463 2081.26,918.463 \n",
       "  \"/>\n",
       "<polyline clip-path=\"url(#clip2503)\" style=\"stroke:#000000; stroke-width:2; stroke-opacity:0.1; fill:none\" points=\"\n",
       "  149.361,846.911 2081.26,846.911 \n",
       "  \"/>\n",
       "<polyline clip-path=\"url(#clip2503)\" style=\"stroke:#000000; stroke-width:2; stroke-opacity:0.1; fill:none\" points=\"\n",
       "  149.361,775.359 2081.26,775.359 \n",
       "  \"/>\n",
       "<polyline clip-path=\"url(#clip2503)\" style=\"stroke:#000000; stroke-width:2; stroke-opacity:0.1; fill:none\" points=\"\n",
       "  149.361,703.808 2081.26,703.808 \n",
       "  \"/>\n",
       "<polyline clip-path=\"url(#clip2503)\" style=\"stroke:#000000; stroke-width:2; stroke-opacity:0.1; fill:none\" points=\"\n",
       "  149.361,632.256 2081.26,632.256 \n",
       "  \"/>\n",
       "<polyline clip-path=\"url(#clip2501)\" style=\"stroke:#000000; stroke-width:4; stroke-opacity:1; fill:none\" points=\"\n",
       "  149.361,972.127 2081.26,972.127 \n",
       "  \"/>\n",
       "<polyline clip-path=\"url(#clip2501)\" style=\"stroke:#000000; stroke-width:4; stroke-opacity:1; fill:none\" points=\"\n",
       "  149.361,972.127 149.361,578.592 \n",
       "  \"/>\n",
       "<polyline clip-path=\"url(#clip2501)\" style=\"stroke:#000000; stroke-width:4; stroke-opacity:1; fill:none\" points=\"\n",
       "  256.688,972.127 256.688,966.224 \n",
       "  \"/>\n",
       "<polyline clip-path=\"url(#clip2501)\" style=\"stroke:#000000; stroke-width:4; stroke-opacity:1; fill:none\" points=\"\n",
       "  614.447,972.127 614.447,966.224 \n",
       "  \"/>\n",
       "<polyline clip-path=\"url(#clip2501)\" style=\"stroke:#000000; stroke-width:4; stroke-opacity:1; fill:none\" points=\"\n",
       "  972.207,972.127 972.207,966.224 \n",
       "  \"/>\n",
       "<polyline clip-path=\"url(#clip2501)\" style=\"stroke:#000000; stroke-width:4; stroke-opacity:1; fill:none\" points=\"\n",
       "  1329.97,972.127 1329.97,966.224 \n",
       "  \"/>\n",
       "<polyline clip-path=\"url(#clip2501)\" style=\"stroke:#000000; stroke-width:4; stroke-opacity:1; fill:none\" points=\"\n",
       "  1687.72,972.127 1687.72,966.224 \n",
       "  \"/>\n",
       "<polyline clip-path=\"url(#clip2501)\" style=\"stroke:#000000; stroke-width:4; stroke-opacity:1; fill:none\" points=\"\n",
       "  2045.48,972.127 2045.48,966.224 \n",
       "  \"/>\n",
       "<polyline clip-path=\"url(#clip2501)\" style=\"stroke:#000000; stroke-width:4; stroke-opacity:1; fill:none\" points=\"\n",
       "  149.361,918.463 178.339,918.463 \n",
       "  \"/>\n",
       "<polyline clip-path=\"url(#clip2501)\" style=\"stroke:#000000; stroke-width:4; stroke-opacity:1; fill:none\" points=\"\n",
       "  149.361,846.911 178.339,846.911 \n",
       "  \"/>\n",
       "<polyline clip-path=\"url(#clip2501)\" style=\"stroke:#000000; stroke-width:4; stroke-opacity:1; fill:none\" points=\"\n",
       "  149.361,775.359 178.339,775.359 \n",
       "  \"/>\n",
       "<polyline clip-path=\"url(#clip2501)\" style=\"stroke:#000000; stroke-width:4; stroke-opacity:1; fill:none\" points=\"\n",
       "  149.361,703.808 178.339,703.808 \n",
       "  \"/>\n",
       "<polyline clip-path=\"url(#clip2501)\" style=\"stroke:#000000; stroke-width:4; stroke-opacity:1; fill:none\" points=\"\n",
       "  149.361,632.256 178.339,632.256 \n",
       "  \"/>\n",
       "<g clip-path=\"url(#clip2501)\">\n",
       "<text style=\"fill:#000000; fill-opacity:1; font-family:Arial,Helvetica Neue,Helvetica,sans-serif; font-size:48px; text-anchor:middle;\" transform=\"rotate(0, 256.688, 1026.13)\" x=\"256.688\" y=\"1026.13\">0</text>\n",
       "</g>\n",
       "<g clip-path=\"url(#clip2501)\">\n",
       "<text style=\"fill:#000000; fill-opacity:1; font-family:Arial,Helvetica Neue,Helvetica,sans-serif; font-size:48px; text-anchor:middle;\" transform=\"rotate(0, 614.447, 1026.13)\" x=\"614.447\" y=\"1026.13\">10</text>\n",
       "</g>\n",
       "<g clip-path=\"url(#clip2501)\">\n",
       "<text style=\"fill:#000000; fill-opacity:1; font-family:Arial,Helvetica Neue,Helvetica,sans-serif; font-size:48px; text-anchor:middle;\" transform=\"rotate(0, 972.207, 1026.13)\" x=\"972.207\" y=\"1026.13\">20</text>\n",
       "</g>\n",
       "<g clip-path=\"url(#clip2501)\">\n",
       "<text style=\"fill:#000000; fill-opacity:1; font-family:Arial,Helvetica Neue,Helvetica,sans-serif; font-size:48px; text-anchor:middle;\" transform=\"rotate(0, 1329.97, 1026.13)\" x=\"1329.97\" y=\"1026.13\">30</text>\n",
       "</g>\n",
       "<g clip-path=\"url(#clip2501)\">\n",
       "<text style=\"fill:#000000; fill-opacity:1; font-family:Arial,Helvetica Neue,Helvetica,sans-serif; font-size:48px; text-anchor:middle;\" transform=\"rotate(0, 1687.72, 1026.13)\" x=\"1687.72\" y=\"1026.13\">40</text>\n",
       "</g>\n",
       "<g clip-path=\"url(#clip2501)\">\n",
       "<text style=\"fill:#000000; fill-opacity:1; font-family:Arial,Helvetica Neue,Helvetica,sans-serif; font-size:48px; text-anchor:middle;\" transform=\"rotate(0, 2045.48, 1026.13)\" x=\"2045.48\" y=\"1026.13\">50</text>\n",
       "</g>\n",
       "<g clip-path=\"url(#clip2501)\">\n",
       "<text style=\"fill:#000000; fill-opacity:1; font-family:Arial,Helvetica Neue,Helvetica,sans-serif; font-size:48px; text-anchor:end;\" transform=\"rotate(0, 125.361, 935.963)\" x=\"125.361\" y=\"935.963\">-4</text>\n",
       "</g>\n",
       "<g clip-path=\"url(#clip2501)\">\n",
       "<text style=\"fill:#000000; fill-opacity:1; font-family:Arial,Helvetica Neue,Helvetica,sans-serif; font-size:48px; text-anchor:end;\" transform=\"rotate(0, 125.361, 864.411)\" x=\"125.361\" y=\"864.411\">-2</text>\n",
       "</g>\n",
       "<g clip-path=\"url(#clip2501)\">\n",
       "<text style=\"fill:#000000; fill-opacity:1; font-family:Arial,Helvetica Neue,Helvetica,sans-serif; font-size:48px; text-anchor:end;\" transform=\"rotate(0, 125.361, 792.859)\" x=\"125.361\" y=\"792.859\">0</text>\n",
       "</g>\n",
       "<g clip-path=\"url(#clip2501)\">\n",
       "<text style=\"fill:#000000; fill-opacity:1; font-family:Arial,Helvetica Neue,Helvetica,sans-serif; font-size:48px; text-anchor:end;\" transform=\"rotate(0, 125.361, 721.308)\" x=\"125.361\" y=\"721.308\">2</text>\n",
       "</g>\n",
       "<g clip-path=\"url(#clip2501)\">\n",
       "<text style=\"fill:#000000; fill-opacity:1; font-family:Arial,Helvetica Neue,Helvetica,sans-serif; font-size:48px; text-anchor:end;\" transform=\"rotate(0, 125.361, 649.756)\" x=\"125.361\" y=\"649.756\">4</text>\n",
       "</g>\n",
       "<g clip-path=\"url(#clip2503)\">\n",
       "<image width=\"1932\" height=\"394\" xlink:href=\"data:image/png;base64,\n",
       "iVBORw0KGgoAAAANSUhEUgAAB4wAAAGKCAYAAAD31bwUAAAQJUlEQVR4nO3bsU0bYQCGYRxZyiYU\n",
       "kViACVLSk47CKTJDpqChSGfvwB6RKCIWiWTpaFJQxKfIBP4z7/NM8BX33+n06l/tp+10BsfabUYv\n",
       "WK7ru9ELls2zw7GcLQAA+Dv/WRzLf9Y8Zwt4a97L8Dp80w/6MHoAAAAAAAAAAGMIxgAAAAAAAABR\n",
       "gjEAAAAAAABAlGAMAAAAAAAAECUYAwAAAAAAAEQJxgAAAAAAAABRgjEAAAAAAABAlGAMAAAAAAAA\n",
       "ECUYAwAAAAAAAEQJxgAAAAAAAABRgjEAAAAAAABAlGAMAAAAAAAAECUYAwAAAAAAAEQJxgAAAAAA\n",
       "AABRgjEAAAAAAABAlGAMAAAAAAAAECUYAwAAAAAAAEQJxgAAAAAAAABRgjEAAAAAAABAlGAMAAAA\n",
       "AAAAECUYAwAAAAAAAEQJxgAAAAAAAABRgjEAAAAAAABAlGAMAAAAAAAAECUYAwAAAAAAAEQJxgAA\n",
       "AAAAAABRgjEAAAAAAABAlGAMAAAAAAAAECUYAwAAAAAAAEQJxgAAAAAAAABRgjEAAAAAAABAlGAM\n",
       "AAAAAAAAECUYAwAAAAAAAEQJxgAAAAAAAABRgjEAAAAAAABA1Hr0AE7c9d3oBUDNbjN6wXJ5J8/z\n",
       "7Bzm2Znn2eFYztY8Z+swzw7w1ryT53kvcyxna56zBbAYbhgDAAAAAAAARAnGAAAAAAAAAFGCMQAA\n",
       "AAAAAECUYAwAAAAAAAAQJRgDAAAAAAAARAnGAAAAAAAAAFGCMQAAAAAAAECUYAwAAAAAAAAQJRgD\n",
       "AAAAAAAARAnGAAAAAAAAAFGCMQAAAAAAAECUYAwAAAAAAAAQJRgDAAAAAAAARAnGAAAAAAAAAFGC\n",
       "MQAAAAAAAECUYAwAAAAAAAAQJRgDAAAAAAAARAnGAAAAAAAAAFGCMQAAAAAAAECUYAwAAAAAAAAQ\n",
       "JRgDAAAAAAAARAnGAAAAAAAAAFGCMQAAAAAAAECUYAwAAAAAAAAQJRgDAAAAAAAARAnGAAAAAAAA\n",
       "AFGCMQAAAAAAAECUYAwAAAAAAAAQJRgDAAAAAAAARAnGAAAAAAAAAFGCMQAAAAAAAECUYAwAAAAA\n",
       "AAAQJRgDAAAAAAAARAnGAAAAAAAAAFGCMQAAAAAAAEDUaj9tp9EjAHhmtxm9YNmu70YvAOA53y2O\n",
       "5Zt+mHM1z7NzmGeHYzlXvIR3z2HOFgAnwg1jAAAAAAAAgCjBGAAAAAAAACBKMAYAAAAAAACIEowB\n",
       "AAAAAAAAogRjAAAAAAAAgCjBGAAAAAAAACBKMAYAAAAAAACIEowBAAAAAAAAogRjAAAAAAAAgCjB\n",
       "GAAAAAAAACBKMAYAAAAAAACIEowBAAAAAAAAogRjAAAAAAAAgCjBGAAAAAAAACBKMAYAAAAAAACI\n",
       "EowBAAAAAAAAogRjAAAAAAAAgCjBGAAAAAAAACBKMAYAAAAAAACIEowBAAAAAAAAogRjAAAAAAAA\n",
       "gCjBGAAAAAAAACBKMAYAAAAAAACIEowBAAAAAAAAogRjAAAAAAAAgCjBGAAAAAAAACBKMAYAAAAA\n",
       "AACIEowBAAAAAAAAogRjAAAAAAAAgCjBGAAAAAAAACBKMAYAAAAAAACIEowBAAAAAAAAogRjAAAA\n",
       "AAAAgCjBGAAAAAAAACBKMAYAAAAAAACIWu2n7TR6BCdstxm9AN6d9ZffoycAAAAAAMC7st9+HD1h\n",
       "sdwwBgAAAAAAAIgSjAEAAAAAAACiBGMAAAAAAACAKMEYAAAAAAAAIEowBgAAAAAAAIgSjAEAAAAA\n",
       "AACiBGMAAAAAAACAKMEYAAAAAAAAIEowBgAAAAAAAIgSjAEAAAAAAACiBGMAAAAAAACAKMEYAAAA\n",
       "AAAAIEowBgAAAAAAAIgSjAEAAAAAAACiBGMAAAAAAACAKMEYAAAAAAAAIEowBgAAAAAAAIgSjAEA\n",
       "AAAAAACiBGMAAAAAAACAKMEYAAAAAAAAIEowBgAAAAAAAIgSjAEAAAAAAACiBGMAAAAAAACAKMEY\n",
       "AAAAAAAAIEowBgAAAAAAAIgSjAEAAAAAAACiBGMAAAAAAACAKMEYAAAAAAAAIEowBgAAAAAAAIgS\n",
       "jAEAAAAAAACiBGMAAAAAAACAKMEYAAAAAAAAIEowBgAAAAAAAIgSjAEAAAAAAACiBGMAAAAAAACA\n",
       "qNXZ2XoaPQIAAAAAAACAt+eGMQAAAAAAAECUYAwAAAAAAAAQJRgDAAAAAAAARAnGAAAAAAAAAFGC\n",
       "MQAAAAAAAECUYAwAAAAAAAAQJRgDAAAAAAAARAnGAAAAAAAAAFGCMQAAAAAAAECUYAwAAAAAAAAQ\n",
       "JRgDAAAAAAAARAnGAAAAAAAAAFGCMQAAAAAAAECUYAwAAAAAAAAQJRgDAAAAAAAARAnGAAAAAAAA\n",
       "AFGCMQAAAAAAAECUYAwAAAAAAAAQJRgDAAAAAAAARAnGAAAAAAAAAFGCMQAAAAAAAECUYAwAAAAA\n",
       "AAAQJRgDAAAAAAAARAnGAAAAAAAAAFGCMQAAAAAAAECUYAwAAAAAAAAQJRgDAAAAAAAARAnGAAAA\n",
       "AAAAAFGCMQAAAAAAAECUYAwAAAAAAAAQJRgDAAAAAAAARAnGAAAAAAAAAFGCMQAAAAAAAECUYAwA\n",
       "AAAAAAAQJRgDAAAAAAAARAnGAAAAAAAAAFGCMQAAAAAAAECUYAwAAAAAAAAQJRgDAAAAAAAARAnG\n",
       "AAAAAAAAAFGCMQAAAAAAAECUYAwAAAAAAAAQJRgDAAAAAAAARAnGAAAAAAAAAFGCMQAAAAAAAECU\n",
       "YAwAAAAAAAAQJRgDAAAAAAAARAnGAAAAAAAAAFGCMQAAAAAAAECUYAwAAAAAAAAQJRgDAAAAAAAA\n",
       "RAnGAAAAAAAAAFGCMQAAAAAAAECUYAwAAAAAAAAQJRgDAAAAAAAARAnGAAAAAAAAAFGCMQAAAAAA\n",
       "AECUYAwAAAAAAAAQJRgDAAAAAAAARAnGAAAAAAAAAFGCMQAAAAAAAECUYAwAAAAAAAAQJRgDAAAA\n",
       "AAAARAnGAAAAAAAAAFGCMQAAAAAAAECUYAwAAAAAAAAQJRgDAAAAAAAARAnGAAAAAAAAAFGCMQAA\n",
       "AAAAAECUYAwAAAAAAAAQJRgDAAAAAAAARAnGAAAAAAAAAFGCMQAAAAAAAECUYAwAAAAAAAAQJRgD\n",
       "AAAAAAAARAnGAAAAAAAAAFGCMQAAAAAAAECUYAwAAAAAAAAQJRgDAAAAAAAARAnGAAAAAAAAAFGC\n",
       "MQAAAAAAAECUYAwAAAAAAAAQJRgDAAAAAAAARAnGAAAAAAAAAFGCMQAAAAAAAECUYAwAAAAAAAAQ\n",
       "JRgDAAAAAAAARAnGAAAAAAAAAFGCMQAAAAAAAECUYAwAAAAAAAAQJRgDAAAAAAAARAnGAAAAAAAA\n",
       "AFGCMQAAAAAAAECUYAwAAAAAAAAQJRgDAAAAAAAARAnGAAAAAAAAAFGCMQAAAAAAAECUYAwAAAAA\n",
       "AAAQJRgDAAAAAAAARAnGAAAAAAAAAFGCMQAAAAAAAECUYAwAAAAAAAAQJRgDAAAAAAAARAnGAAAA\n",
       "AAAAAFGCMQAAAAAAAECUYAwAAAAAAAAQJRgDAAAAAAAARAnGAAAAAAAAAFGCMQAAAAAAAECUYAwA\n",
       "AAAAAAAQJRgDAAAAAAAARAnGAAAAAAAAAFGCMQAAAAAAAECUYAwAAAAAAAAQJRgDAAAAAAAARAnG\n",
       "AAAAAAAAAFGCMQAAAAAAAECUYAwAAAAAAAAQJRgDAAAAAAAARAnGAAAAAAAAAFGCMQAAAAAAAECU\n",
       "YAwAAAAAAAAQJRgDAAAAAAAARAnGAAAAAAAAAFGCMQAAAAAAAECUYAwAAAAAAAAQJRgDAAAAAAAA\n",
       "RAnGAAAAAAAAAFGCMQAAAAAAAECUYAwAAAAAAAAQJRgDAAAAAAAARAnGAAAAAAAAAFGCMQAAAAAA\n",
       "AECUYAwAAAAAAAAQJRgDAAAAAAAARAnGAAAAAAAAAFGCMQAAAAAAAECUYAwAAAAAAAAQJRgDAAAA\n",
       "AAAARAnGAAAAAAAAAFGCMQAAAAAAAECUYAwAAAAAAAAQtR49AAAAAICXuz2/GT0BAODVff2+HT0B\n",
       "3h03jAEAAAAAAACiBGMAAAAAAACAKMEYAAAAAAAAIEowBgAAAAAAAIgSjAEAAAAAAACiBGMAAAAA\n",
       "AACAKMEYAAAAAAAAIEowBgAAAAAAAIgSjAEAAAAAAACiBGMAAAAAAACAKMEYAAAAAAAAIEowBgAA\n",
       "AAAAAIgSjAEAAAAAAACiBGMAAAAAAACAKMEYAAAAAAAAIEowBgAAAAAAAIgSjAEAAAAAAACiBGMA\n",
       "AAAAAACAKMEYAAAAAAAAIEowBgAAAAAAAIgSjAEAAAAAAACiBGMAAAAAAACAKMEYAAAAAAAAIEow\n",
       "BgAAAAAAAIgSjAEAAAAAAACiBGMAAAAAAACAKMEYAAAAAAAAIEowBgAAAAAAAIgSjAEAAAAAAACi\n",
       "BGMAAAAAAACAKMEYAAAAAAAAIEowBgAAAAAAAIgSjAEAAAAAAACiBGMAAAAAAACAKMEYAAAAAAAA\n",
       "IGr1eHU5jR7B6bp/uBg9AYj59uvH6AmcqNvzm9ETgBjfLHgdvukAAAD/lxvGAAAAAAAAAFGCMQAA\n",
       "AAAAAECUYAwAAAAAAAAQJRgDAAAAAAAARAnGAAAAAAAAAFGCMQAAAAAAAECUYAwAAAAAAAAQJRgD\n",
       "AAAAAAAARAnGAAAAAAAAAFGCMQAAAAAAAECUYAwAAAAAAAAQJRgDAAAAAAAARAnGAAAAAAAAAFGC\n",
       "MQAAAAAAAECUYAwAAAAAAAAQJRgDAAAAAAAARAnGAAAAAAAAAFGCMQAAAAAAAECUYAwAAAAAAAAQ\n",
       "JRgDAAAAAAAARAnGAAAAAAAAAFGCMQAAAAAAAECUYAwAAAAAAAAQJRgDAAAAAAAARAnGAAAAAAAA\n",
       "AFGCMQAAAAAAAECUYAwAAAAAAAAQJRgDAAAAAAAARAnGAAAAAAAAAFGCMQAAAAAAAECUYAwAAAAA\n",
       "AAAQJRgDAAAAAAAARAnGAAAAAAAAAFGCMQAAAAAAAECUYAwAAAAAAAAQtXq8upxGj+B03T9cjJ4A\n",
       "wB+fP/0cPQEA/pl/CQAAAFgGN4wBAAAAAAAAogRjAAAAAAAAgCjBGAAAAAAAACBKMAYAAAAAAACI\n",
       "EowBAAAAAAAAogRjAAAAAAAAgCjBGAAAAAAAACBKMAYAAAAAAACIEowBAAAAAAAAogRjAAAAAAAA\n",
       "gCjBGAAAAAAAACBKMAYAAAAAAACIEowBAAAAAAAAogRjAAAAAAAAgCjBGAAAAAAAACBKMAYAAAAA\n",
       "AACIEowBAAAAAAAAogRjAAAAAAAAgCjBGAAAAAAAACBKMAYAAAAAAACIEowBAAAAAAAAogRjAAAA\n",
       "AAAAgCjBGAAAAAAAACBKMAYAAAAAAACIEowBAAAAAAAAogRjAAAAAAAAgCjBGAAAAAAAACBKMAYA\n",
       "AAAAAACIEowBAAAAAAAAogRjAAAAAAAAgCjBGAAAAAAAACBKMAYAAAAAAACIEowBAAAAAAAAogRj\n",
       "AAAAAAAAgKgnOmJG472iLEUAAAAASUVORK5CYII=\n",
       "\" transform=\"translate(149, 579)\"/>\n",
       "</g>\n",
       "<defs>\n",
       "  <clipPath id=\"clip2504\">\n",
       "    <rect x=\"2129\" y=\"578\" width=\"73\" height=\"395\"/>\n",
       "  </clipPath>\n",
       "</defs>\n",
       "<g clip-path=\"url(#clip2504)\">\n",
       "<image width=\"72\" height=\"394\" xlink:href=\"data:image/png;base64,\n",
       "iVBORw0KGgoAAAANSUhEUgAAAEgAAAGKCAYAAACvugdMAAAEEElEQVR4nO3dwbEjNwxAQcqF/KNw\n",
       "lvaSjsB4R+nQHYGKhQfOSL92P//ev9/hf/317Q/w6+a+f7/9GX6aCQrzTNBq3nVAG4kFiQUHFCQW\n",
       "TFBwiwWJBYkFBxQkFuZY0isHFCQW5ljSKxMU7KDggILEwpz7z7c/w09ziwWJBUs6OKAgsTCf9+fb\n",
       "n+GnzbkOaCOxMB8TtJJYkFiY4xZb2UFBYsGSDiYo2EFBYkFiYT73fvsz/DSJBYkFExRc80FiYY5b\n",
       "bCWxILHgFgsOKEgseBcLrvkgsWBJBxMU7KDggILEgueg4BYLEguWdHBAQWLBBIU5178SuJFYmPMk\n",
       "trGDgsSCJR0kFiQWTFAwQcGSDhILEgtzDNDKAQWJhfEyv5NYkFgwQcEBBYmFOV7FVvPu59uf4adJ\n",
       "LFjSYY7EVhIL854J2pigYAcFBxQkFizpILEgsTDnOqONHRSMT7Ckgy/MgsTCnOeMNhILxieYoOBJ\n",
       "Ojid4FUjmKDgVSPMs6RXTidY0sEOChILlnSwg4LxCd7mwzzfKK6cTvAcFOygILHgOSh4kg5OJ0gs\n",
       "mKDgmg8SCxILrvkgsWB8glssSCxILLjFgsSC8QkmKDigILHgQTHM9cvqyukESzqYoGBJB4kFiQUT\n",
       "FBxQkFgwQWGuA1pJLEgsOKAgsWCCggMKEgsmKHhQDBILEgsmKJig4IfD4HSCxILnoCCxILEgsSCx\n",
       "ILHggILEgiUd5h0HtJFYkFhwiwWJhbn+p96VCQp2UHCLBYmFuZ6kV3ZQkFiwpIPEgsTC3G9/gh8n\n",
       "sSCx4BYLvpMOEgsSCyYo+Mo1WNJBYsGTdPAuFiQWJBYkFiQWJBa8iwWJhfEqtpNYkFiQWJBYkFiQ\n",
       "WDBBwQ4KvrQPEgt+1QgSCxIL/k46zJPYSmLBg2LwLhYkFjwHBdd8kFjwHBT88UKQWPCgGExQsKSD\n",
       "JR0kFiQWvGoEiQVv88EXZkFiQWLBAQWJBX+8ECQWJBY8BwWJBYkFExRMULCkg8SCxIJfNYIv7YPE\n",
       "giUdXPNBYkFiYd5xQhuJBYkFt1iQWJBYkFiQWJBYMEHB90FhrleNlcSCxILEgsSCn33CPEtoJbEg\n",
       "seBdLEgs+FUjSCxILHjVCHZQkFiQWDBBwQSFud7mVxILrvlgBwWJBRMUHFCQWJh3fCu9kViQWJj7\n",
       "kdhmrh20klgwQcE1HyQW5n48B21MULCkgwMKEguu+TD3/Pn2Z/hpEguWdJgnsZXEgsSCAwoSC5Z0\n",
       "kFiQWJBY8LIaJBbmPhO0MUHBDgrzJLaSWJBY8KAYJBY8BwU7KEgseA4KbrEgsSCx4BYLEgsSC26x\n",
       "ILEgsWCCgms+zHuW9EZiQWJhjn8eZyWxMEdiKw+KQWJBYsE1HyQW5ljSK4kFiQW3WPgPSFToI7dW\n",
       "fGQAAAAASUVORK5CYII=\n",
       "\" transform=\"translate(2129, 579)\"/>\n",
       "</g>\n",
       "<g clip-path=\"url(#clip2501)\">\n",
       "<text style=\"fill:#000000; fill-opacity:1; font-family:Arial,Helvetica Neue,Helvetica,sans-serif; font-size:48px; text-anchor:start;\" transform=\"rotate(0, 2237.26, 985.778)\" x=\"2237.26\" y=\"985.778\">-</text>\n",
       "</g>\n",
       "<g clip-path=\"url(#clip2501)\">\n",
       "<text style=\"fill:#000000; fill-opacity:1; font-family:Arial,Helvetica Neue,Helvetica,sans-serif; font-size:48px; text-anchor:start;\" transform=\"rotate(0, 2265.37, 985.778)\" x=\"2265.37\" y=\"985.778\">4</text>\n",
       "</g>\n",
       "<g clip-path=\"url(#clip2501)\">\n",
       "<text style=\"fill:#000000; fill-opacity:1; font-family:Arial,Helvetica Neue,Helvetica,sans-serif; font-size:48px; text-anchor:start;\" transform=\"rotate(0, 2237.26, 907.071)\" x=\"2237.26\" y=\"907.071\">-</text>\n",
       "</g>\n",
       "<g clip-path=\"url(#clip2501)\">\n",
       "<text style=\"fill:#000000; fill-opacity:1; font-family:Arial,Helvetica Neue,Helvetica,sans-serif; font-size:48px; text-anchor:start;\" transform=\"rotate(0, 2265.37, 907.071)\" x=\"2265.37\" y=\"907.071\">3</text>\n",
       "</g>\n",
       "<g clip-path=\"url(#clip2501)\">\n",
       "<text style=\"fill:#000000; fill-opacity:1; font-family:Arial,Helvetica Neue,Helvetica,sans-serif; font-size:48px; text-anchor:start;\" transform=\"rotate(0, 2237.26, 828.364)\" x=\"2237.26\" y=\"828.364\">-</text>\n",
       "</g>\n",
       "<g clip-path=\"url(#clip2501)\">\n",
       "<text style=\"fill:#000000; fill-opacity:1; font-family:Arial,Helvetica Neue,Helvetica,sans-serif; font-size:48px; text-anchor:start;\" transform=\"rotate(0, 2265.37, 828.364)\" x=\"2265.37\" y=\"828.364\">2</text>\n",
       "</g>\n",
       "<g clip-path=\"url(#clip2501)\">\n",
       "<text style=\"fill:#000000; fill-opacity:1; font-family:Arial,Helvetica Neue,Helvetica,sans-serif; font-size:48px; text-anchor:start;\" transform=\"rotate(0, 2237.26, 749.657)\" x=\"2237.26\" y=\"749.657\">-</text>\n",
       "</g>\n",
       "<g clip-path=\"url(#clip2501)\">\n",
       "<text style=\"fill:#000000; fill-opacity:1; font-family:Arial,Helvetica Neue,Helvetica,sans-serif; font-size:48px; text-anchor:start;\" transform=\"rotate(0, 2265.37, 749.657)\" x=\"2265.37\" y=\"749.657\">1</text>\n",
       "</g>\n",
       "<g clip-path=\"url(#clip2501)\">\n",
       "<text style=\"fill:#000000; fill-opacity:1; font-family:Arial,Helvetica Neue,Helvetica,sans-serif; font-size:48px; text-anchor:start;\" transform=\"rotate(0, 2237.26, 670.95)\" x=\"2237.26\" y=\"670.95\">0</text>\n",
       "</g>\n",
       "<g clip-path=\"url(#clip2501)\">\n",
       "<text style=\"fill:#000000; fill-opacity:1; font-family:Arial,Helvetica Neue,Helvetica,sans-serif; font-size:48px; text-anchor:start;\" transform=\"rotate(0, 2237.26, 592.243)\" x=\"2237.26\" y=\"592.243\">1</text>\n",
       "</g>\n",
       "<polyline clip-path=\"url(#clip2501)\" style=\"stroke:#000000; stroke-width:4; stroke-opacity:1; fill:none\" points=\"\n",
       "  2201.26,972.127 2201.26,972.127 2225.26,972.127 2201.26,972.127 2201.26,893.42 2225.26,893.42 2201.26,893.42 2201.26,814.713 2225.26,814.713 2201.26,814.713 \n",
       "  2201.26,736.006 2225.26,736.006 2201.26,736.006 2201.26,657.299 2225.26,657.299 2201.26,657.299 2201.26,578.592 2225.26,578.592 2201.26,578.592 \n",
       "  \n",
       "  \"/>\n",
       "<g clip-path=\"url(#clip2501)\">\n",
       "<text style=\"fill:#000000; fill-opacity:1; font-family:Arial,Helvetica Neue,Helvetica,sans-serif; font-size:66px; text-anchor:middle;\" transform=\"rotate(-90, 2378.86, 775.359)\" x=\"2378.86\" y=\"775.359\"></text>\n",
       "</g>\n",
       "</svg>\n"
      ]
     },
     "execution_count": 7,
     "metadata": {},
     "output_type": "execute_result"
    }
   ],
   "source": [
    "# visualize longitudinal policy \n",
    "\n",
    "using Interact\n",
    "using Plots\n",
    "\n",
    "gr()\n",
    "\n",
    "policy_grid = zeros(Float64, length(pomdp.T_RANGE), length(pomdp.S_RANGE))\n",
    "\n",
    "# @manipulate for ego_v in pomdp.EGO_V_RANGE\n",
    "   ego_v = 30.0\n",
    "#     @manipulate for ped_v in pomdp.PED_V_RANGE\n",
    "   ped_v = 1.0\n",
    "        for i=1:length(pomdp.T_RANGE)\n",
    "            ped_t = pomdp.T_RANGE[i]\n",
    "            for j=1:length(pomdp.S_RANGE)\n",
    "                ped_s = pomdp.S_RANGE[j]\n",
    "                b = SparseCat([SingleOCFState(0.0, ego_v, ped_s, ped_t, pomdp.PED_THETA_RANGE[1], ped_v)],[1.])\n",
    "                act = action(qmdp_policy, b) \n",
    "                policy_grid[i,j] = act.acc\n",
    "            end\n",
    "        end\n",
    "        xs = [pomdp.S_RANGE[i] for i = 1:length(pomdp.S_RANGE)]\n",
    "        ys = [pomdp.T_RANGE[i] for i = 1:length(pomdp.T_RANGE)]\n",
    "        heatmap(xs,ys,policy_grid,aspect_ratio=1)\n",
    "#     end\n",
    "# end\n"
   ]
  },
  {
   "cell_type": "code",
   "execution_count": 8,
   "metadata": {},
   "outputs": [
    {
     "data": {
      "application/vnd.webio.node+json": {
       "children": [
        {
         "children": [
          {
           "children": [
            {
             "children": [
              {
               "children": [
                {
                 "children": [
                  "ego_v"
                 ],
                 "instanceArgs": {
                  "namespace": "html",
                  "tag": "label"
                 },
                 "nodeType": "DOM",
                 "props": {
                  "className": "interact ",
                  "style": {
                   "padding": "5px 10px 0px 10px"
                  }
                 },
                 "type": "node"
                }
               ],
               "instanceArgs": {
                "namespace": "html",
                "tag": "div"
               },
               "nodeType": "DOM",
               "props": {
                "attributes": {
                 "style": "text-align:right;width:18%"
                }
               },
               "type": "node"
              },
              {
               "children": [
                {
                 "children": [],
                 "instanceArgs": {
                  "namespace": "html",
                  "tag": "input"
                 },
                 "nodeType": "DOM",
                 "props": {
                  "attributes": {
                   "data-bind": "numericValue: index, valueUpdate: 'input', event: {change : function () {this.changes(this.changes()+1)}}",
                   "orient": "horizontal",
                   "type": "range"
                  },
                  "className": "slider slider is-fullwidth",
                  "max": 29,
                  "min": 1,
                  "step": 1,
                  "style": {}
                 },
                 "type": "node"
                }
               ],
               "instanceArgs": {
                "namespace": "html",
                "tag": "div"
               },
               "nodeType": "DOM",
               "props": {
                "attributes": {
                 "style": "flex-grow:1; margin: 0 2%"
                }
               },
               "type": "node"
              },
              {
               "children": [
                {
                 "children": [],
                 "instanceArgs": {
                  "namespace": "html",
                  "tag": "p"
                 },
                 "nodeType": "DOM",
                 "props": {
                  "attributes": {
                   "data-bind": "text: formatted_value"
                  }
                 },
                 "type": "node"
                }
               ],
               "instanceArgs": {
                "namespace": "html",
                "tag": "div"
               },
               "nodeType": "DOM",
               "props": {
                "attributes": {
                 "style": "width:18%"
                }
               },
               "type": "node"
              }
             ],
             "instanceArgs": {
              "namespace": "html",
              "tag": "div"
             },
             "nodeType": "DOM",
             "props": {
              "attributes": {
               "style": "display:flex; justify-content:center; align-items:center;"
              }
             },
             "type": "node"
            }
           ],
           "instanceArgs": {
            "handlers": {
             "_promises": {
              "importsLoaded": [
               "function (ko, koPunches) {\n    ko.punches.enableAll();\n    ko.bindingHandlers.numericValue = {\n        init : function(element, valueAccessor, allBindings, data, context) {\n            var stringified = ko.observable(ko.unwrap(valueAccessor()));\n            stringified.subscribe(function(value) {\n                var val = parseFloat(value);\n                if (!isNaN(val)) {\n                    valueAccessor()(val);\n                }\n            })\n            valueAccessor().subscribe(function(value) {\n                var str = JSON.stringify(value);\n                if ((str == \"0\") && ([\"-0\", \"-0.\"].indexOf(stringified()) >= 0))\n                     return;\n                 if ([\"null\", \"\"].indexOf(str) >= 0)\n                     return;\n                stringified(str);\n            })\n            ko.applyBindingsToNode(element, { value: stringified, valueUpdate: allBindings.get('valueUpdate')}, context);\n        }\n    };\n    var json_data = JSON.parse(\"{\\\"formatted_vals\\\":[\\\"0.0\\\",\\\"0.5\\\",\\\"1.0\\\",\\\"1.5\\\",\\\"2.0\\\",\\\"2.5\\\",\\\"3.0\\\",\\\"3.5\\\",\\\"4.0\\\",\\\"4.5\\\",\\\"5.0\\\",\\\"5.5\\\",\\\"6.0\\\",\\\"6.5\\\",\\\"7.0\\\",\\\"7.5\\\",\\\"8.0\\\",\\\"8.5\\\",\\\"9.0\\\",\\\"9.5\\\",\\\"10.0\\\",\\\"10.5\\\",\\\"11.0\\\",\\\"11.5\\\",\\\"12.0\\\",\\\"12.5\\\",\\\"13.0\\\",\\\"13.5\\\",\\\"14.0\\\"],\\\"changes\\\":0,\\\"formatted_value\\\":\\\"7.0\\\",\\\"index\\\":15}\");\n    var self = this;\n    function AppViewModel() {\n        for (var key in json_data) {\n            var el = json_data[key];\n            this[key] = Array.isArray(el) ? ko.observableArray(el) : ko.observable(el);\n        }\n        \n        \n        [this[\"formatted_vals\"].subscribe((function (val){!(this.valueFromJulia[\"formatted_vals\"]) ? (_webIOScope.setObservableValue({\"name\":\"formatted_vals\",\"scope\":\"knockout-component-59964e2d-46af-4300-a619-15e32871c075\",\"id\":\"ob_03\",\"type\":\"observable\"},val)) : undefined; return this.valueFromJulia[\"formatted_vals\"]=false}),self),this[\"changes\"].subscribe((function (val){!(this.valueFromJulia[\"changes\"]) ? (_webIOScope.setObservableValue({\"name\":\"changes\",\"scope\":\"knockout-component-59964e2d-46af-4300-a619-15e32871c075\",\"id\":\"ob_05\",\"type\":\"observable\"},val)) : undefined; return this.valueFromJulia[\"changes\"]=false}),self),this[\"formatted_value\"].subscribe((function (val){!(this.valueFromJulia[\"formatted_value\"]) ? (_webIOScope.setObservableValue({\"name\":\"formatted_value\",\"scope\":\"knockout-component-59964e2d-46af-4300-a619-15e32871c075\",\"id\":\"ob_04\",\"type\":\"observable\"},val)) : undefined; return this.valueFromJulia[\"formatted_value\"]=false}),self),this[\"index\"].subscribe((function (val){!(this.valueFromJulia[\"index\"]) ? (_webIOScope.setObservableValue({\"name\":\"index\",\"scope\":\"knockout-component-59964e2d-46af-4300-a619-15e32871c075\",\"id\":\"ob_02\",\"type\":\"observable\"},val)) : undefined; return this.valueFromJulia[\"index\"]=false}),self)]\n        \n    }\n    self.model = new AppViewModel();\n    self.valueFromJulia = {};\n    for (var key in json_data) {\n        self.valueFromJulia[key] = false;\n    }\n    ko.applyBindings(self.model, self.dom);\n}\n"
              ]
             },
             "changes": [
              "(function (val){return (val!=this.model[\"changes\"]()) ? (this.valueFromJulia[\"changes\"]=true, this.model[\"changes\"](val)) : undefined})"
             ],
             "formatted_vals": [
              "(function (val){return (val!=this.model[\"formatted_vals\"]()) ? (this.valueFromJulia[\"formatted_vals\"]=true, this.model[\"formatted_vals\"](val)) : undefined})"
             ],
             "formatted_value": [
              "(function (val){return (val!=this.model[\"formatted_value\"]()) ? (this.valueFromJulia[\"formatted_value\"]=true, this.model[\"formatted_value\"](val)) : undefined})"
             ],
             "index": [
              "(function (val){return (val!=this.model[\"index\"]()) ? (this.valueFromJulia[\"index\"]=true, this.model[\"index\"](val)) : undefined})",
              "(function (val){return _webIOScope.setObservableValue({\"name\":\"formatted_value\",\"scope\":\"knockout-component-59964e2d-46af-4300-a619-15e32871c075\",\"id\":\"ob_04\",\"type\":\"observable\"},_webIOScope.getObservableValue({\"name\":\"formatted_vals\",\"scope\":\"knockout-component-59964e2d-46af-4300-a619-15e32871c075\",\"id\":\"ob_03\",\"type\":\"observable\"})[(_webIOScope.getObservableValue({\"name\":\"index\",\"scope\":\"knockout-component-59964e2d-46af-4300-a619-15e32871c075\",\"id\":\"ob_02\",\"type\":\"observable\"})-1)])})"
             ]
            },
            "id": "knockout-component-59964e2d-46af-4300-a619-15e32871c075",
            "imports": {
             "data": [
              {
               "name": "knockout",
               "type": "js",
               "url": "/assetserver/7727d7cb3453b9ff588804f2f297360e756850e6-knockout.js"
              },
              {
               "name": "knockout_punches",
               "type": "js",
               "url": "/assetserver/dc191505b241da77a1bd06986b7132036babe315-knockout_punches.js"
              },
              {
               "name": null,
               "type": "js",
               "url": "/assetserver/cf39e83f3445855334efae1f7d0ee012952fe319-all.js"
              },
              {
               "name": null,
               "type": "css",
               "url": "/assetserver/495af69608d773e6cf6efd8fe98ee33ddbad0df5-style.css"
              },
              {
               "name": null,
               "type": "css",
               "url": "/assetserver/9d22e7e1c4dccb3a3bef6ae4d24134fd256d4bfd-main.css"
              }
             ],
             "type": "async_block"
            },
            "observables": {
             "changes": {
              "id": "ob_05",
              "sync": false,
              "value": 0
             },
             "formatted_vals": {
              "id": "ob_03",
              "sync": false,
              "value": [
               "0.0",
               "0.5",
               "1.0",
               "1.5",
               "2.0",
               "2.5",
               "3.0",
               "3.5",
               "4.0",
               "4.5",
               "5.0",
               "5.5",
               "6.0",
               "6.5",
               "7.0",
               "7.5",
               "8.0",
               "8.5",
               "9.0",
               "9.5",
               "10.0",
               "10.5",
               "11.0",
               "11.5",
               "12.0",
               "12.5",
               "13.0",
               "13.5",
               "14.0"
              ]
             },
             "formatted_value": {
              "id": "ob_04",
              "sync": false,
              "value": "7.0"
             },
             "index": {
              "id": "ob_02",
              "sync": true,
              "value": 15
             }
            },
            "systemjs_options": null
           },
           "nodeType": "Scope",
           "props": {},
           "type": "node"
          }
         ],
         "instanceArgs": {
          "namespace": "html",
          "tag": "div"
         },
         "nodeType": "DOM",
         "props": {
          "className": "field"
         },
         "type": "node"
        },
        {
         "children": [
          {
           "children": [],
           "instanceArgs": {
            "id": "ob_19",
            "name": "obs-scope"
           },
           "nodeType": "ObservableNode",
           "props": {},
           "type": "node"
          }
         ],
         "instanceArgs": {
          "handlers": {},
          "id": "scope-33534740-c057-41c2-be05-ccef8b261bb7",
          "imports": {
           "data": [],
           "type": "async_block"
          },
          "observables": {
           "obs-scope": {
            "id": "ob_19",
            "sync": false,
            "value": {
             "children": [
              {
               "children": [
                {
                 "children": [
                  {
                   "children": [
                    {
                     "children": [
                      {
                       "children": [
                        "ped_v"
                       ],
                       "instanceArgs": {
                        "namespace": "html",
                        "tag": "label"
                       },
                       "nodeType": "DOM",
                       "props": {
                        "className": "interact ",
                        "style": {
                         "padding": "5px 10px 0px 10px"
                        }
                       },
                       "type": "node"
                      }
                     ],
                     "instanceArgs": {
                      "namespace": "html",
                      "tag": "div"
                     },
                     "nodeType": "DOM",
                     "props": {
                      "attributes": {
                       "style": "text-align:right;width:18%"
                      }
                     },
                     "type": "node"
                    },
                    {
                     "children": [
                      {
                       "children": [],
                       "instanceArgs": {
                        "namespace": "html",
                        "tag": "input"
                       },
                       "nodeType": "DOM",
                       "props": {
                        "attributes": {
                         "data-bind": "numericValue: index, valueUpdate: 'input', event: {change : function () {this.changes(this.changes()+1)}}",
                         "orient": "horizontal",
                         "type": "range"
                        },
                        "className": "slider slider is-fullwidth",
                        "max": 5,
                        "min": 1,
                        "step": 1,
                        "style": {}
                       },
                       "type": "node"
                      }
                     ],
                     "instanceArgs": {
                      "namespace": "html",
                      "tag": "div"
                     },
                     "nodeType": "DOM",
                     "props": {
                      "attributes": {
                       "style": "flex-grow:1; margin: 0 2%"
                      }
                     },
                     "type": "node"
                    },
                    {
                     "children": [
                      {
                       "children": [],
                       "instanceArgs": {
                        "namespace": "html",
                        "tag": "p"
                       },
                       "nodeType": "DOM",
                       "props": {
                        "attributes": {
                         "data-bind": "text: formatted_value"
                        }
                       },
                       "type": "node"
                      }
                     ],
                     "instanceArgs": {
                      "namespace": "html",
                      "tag": "div"
                     },
                     "nodeType": "DOM",
                     "props": {
                      "attributes": {
                       "style": "width:18%"
                      }
                     },
                     "type": "node"
                    }
                   ],
                   "instanceArgs": {
                    "namespace": "html",
                    "tag": "div"
                   },
                   "nodeType": "DOM",
                   "props": {
                    "attributes": {
                     "style": "display:flex; justify-content:center; align-items:center;"
                    }
                   },
                   "type": "node"
                  }
                 ],
                 "instanceArgs": {
                  "handlers": {
                   "_promises": {
                    "importsLoaded": [
                     "function (ko, koPunches) {\n    ko.punches.enableAll();\n    ko.bindingHandlers.numericValue = {\n        init : function(element, valueAccessor, allBindings, data, context) {\n            var stringified = ko.observable(ko.unwrap(valueAccessor()));\n            stringified.subscribe(function(value) {\n                var val = parseFloat(value);\n                if (!isNaN(val)) {\n                    valueAccessor()(val);\n                }\n            })\n            valueAccessor().subscribe(function(value) {\n                var str = JSON.stringify(value);\n                if ((str == \"0\") && ([\"-0\", \"-0.\"].indexOf(stringified()) >= 0))\n                     return;\n                 if ([\"null\", \"\"].indexOf(str) >= 0)\n                     return;\n                stringified(str);\n            })\n            ko.applyBindingsToNode(element, { value: stringified, valueUpdate: allBindings.get('valueUpdate')}, context);\n        }\n    };\n    var json_data = JSON.parse(\"{\\\"formatted_vals\\\":[\\\"0.0\\\",\\\"0.5\\\",\\\"1.0\\\",\\\"1.5\\\",\\\"2.0\\\"],\\\"changes\\\":0,\\\"formatted_value\\\":\\\"1.0\\\",\\\"index\\\":3}\");\n    var self = this;\n    function AppViewModel() {\n        for (var key in json_data) {\n            var el = json_data[key];\n            this[key] = Array.isArray(el) ? ko.observableArray(el) : ko.observable(el);\n        }\n        \n        \n        [this[\"formatted_vals\"].subscribe((function (val){!(this.valueFromJulia[\"formatted_vals\"]) ? (_webIOScope.setObservableValue({\"name\":\"formatted_vals\",\"scope\":\"knockout-component-9b8c97d9-9ed8-4a70-be8f-0081e5ecbfde\",\"id\":\"ob_08\",\"type\":\"observable\"},val)) : undefined; return this.valueFromJulia[\"formatted_vals\"]=false}),self),this[\"changes\"].subscribe((function (val){!(this.valueFromJulia[\"changes\"]) ? (_webIOScope.setObservableValue({\"name\":\"changes\",\"scope\":\"knockout-component-9b8c97d9-9ed8-4a70-be8f-0081e5ecbfde\",\"id\":\"ob_10\",\"type\":\"observable\"},val)) : undefined; return this.valueFromJulia[\"changes\"]=false}),self),this[\"formatted_value\"].subscribe((function (val){!(this.valueFromJulia[\"formatted_value\"]) ? (_webIOScope.setObservableValue({\"name\":\"formatted_value\",\"scope\":\"knockout-component-9b8c97d9-9ed8-4a70-be8f-0081e5ecbfde\",\"id\":\"ob_09\",\"type\":\"observable\"},val)) : undefined; return this.valueFromJulia[\"formatted_value\"]=false}),self),this[\"index\"].subscribe((function (val){!(this.valueFromJulia[\"index\"]) ? (_webIOScope.setObservableValue({\"name\":\"index\",\"scope\":\"knockout-component-9b8c97d9-9ed8-4a70-be8f-0081e5ecbfde\",\"id\":\"ob_07\",\"type\":\"observable\"},val)) : undefined; return this.valueFromJulia[\"index\"]=false}),self)]\n        \n    }\n    self.model = new AppViewModel();\n    self.valueFromJulia = {};\n    for (var key in json_data) {\n        self.valueFromJulia[key] = false;\n    }\n    ko.applyBindings(self.model, self.dom);\n}\n"
                    ]
                   },
                   "changes": [
                    "(function (val){return (val!=this.model[\"changes\"]()) ? (this.valueFromJulia[\"changes\"]=true, this.model[\"changes\"](val)) : undefined})"
                   ],
                   "formatted_vals": [
                    "(function (val){return (val!=this.model[\"formatted_vals\"]()) ? (this.valueFromJulia[\"formatted_vals\"]=true, this.model[\"formatted_vals\"](val)) : undefined})"
                   ],
                   "formatted_value": [
                    "(function (val){return (val!=this.model[\"formatted_value\"]()) ? (this.valueFromJulia[\"formatted_value\"]=true, this.model[\"formatted_value\"](val)) : undefined})"
                   ],
                   "index": [
                    "(function (val){return (val!=this.model[\"index\"]()) ? (this.valueFromJulia[\"index\"]=true, this.model[\"index\"](val)) : undefined})",
                    "(function (val){return _webIOScope.setObservableValue({\"name\":\"formatted_value\",\"scope\":\"knockout-component-9b8c97d9-9ed8-4a70-be8f-0081e5ecbfde\",\"id\":\"ob_09\",\"type\":\"observable\"},_webIOScope.getObservableValue({\"name\":\"formatted_vals\",\"scope\":\"knockout-component-9b8c97d9-9ed8-4a70-be8f-0081e5ecbfde\",\"id\":\"ob_08\",\"type\":\"observable\"})[(_webIOScope.getObservableValue({\"name\":\"index\",\"scope\":\"knockout-component-9b8c97d9-9ed8-4a70-be8f-0081e5ecbfde\",\"id\":\"ob_07\",\"type\":\"observable\"})-1)])})"
                   ]
                  },
                  "id": "knockout-component-9b8c97d9-9ed8-4a70-be8f-0081e5ecbfde",
                  "imports": {
                   "data": [
                    {
                     "name": "knockout",
                     "type": "js",
                     "url": "/assetserver/7727d7cb3453b9ff588804f2f297360e756850e6-knockout.js"
                    },
                    {
                     "name": "knockout_punches",
                     "type": "js",
                     "url": "/assetserver/dc191505b241da77a1bd06986b7132036babe315-knockout_punches.js"
                    },
                    {
                     "name": null,
                     "type": "js",
                     "url": "/assetserver/cf39e83f3445855334efae1f7d0ee012952fe319-all.js"
                    },
                    {
                     "name": null,
                     "type": "css",
                     "url": "/assetserver/495af69608d773e6cf6efd8fe98ee33ddbad0df5-style.css"
                    },
                    {
                     "name": null,
                     "type": "css",
                     "url": "/assetserver/9d22e7e1c4dccb3a3bef6ae4d24134fd256d4bfd-main.css"
                    }
                   ],
                   "type": "async_block"
                  },
                  "observables": {
                   "changes": {
                    "id": "ob_10",
                    "sync": false,
                    "value": 0
                   },
                   "formatted_vals": {
                    "id": "ob_08",
                    "sync": false,
                    "value": [
                     "0.0",
                     "0.5",
                     "1.0",
                     "1.5",
                     "2.0"
                    ]
                   },
                   "formatted_value": {
                    "id": "ob_09",
                    "sync": false,
                    "value": "1.0"
                   },
                   "index": {
                    "id": "ob_07",
                    "sync": true,
                    "value": 3
                   }
                  },
                  "systemjs_options": null
                 },
                 "nodeType": "Scope",
                 "props": {},
                 "type": "node"
                }
               ],
               "instanceArgs": {
                "namespace": "html",
                "tag": "div"
               },
               "nodeType": "DOM",
               "props": {
                "className": "field"
               },
               "type": "node"
              },
              {
               "children": [
                {
                 "children": [],
                 "instanceArgs": {
                  "id": "ob_20",
                  "name": "obs-node"
                 },
                 "nodeType": "ObservableNode",
                 "props": {},
                 "type": "node"
                }
               ],
               "instanceArgs": {
                "handlers": {},
                "id": "scope-cf7ea5a4-c259-4431-8f13-49b792e23916",
                "imports": {
                 "data": [],
                 "type": "async_block"
                },
                "observables": {
                 "obs-node": {
                  "id": "ob_20",
                  "sync": false,
                  "value": {
                   "children": [
                    {
                     "children": [],
                     "instanceArgs": {
                      "namespace": "html",
                      "tag": "div"
                     },
                     "nodeType": "DOM",
                     "props": {
                      "setInnerHtml": "<?xml version=\"1.0\" encoding=\"utf-8\"?>\n<svg xmlns=\"http://www.w3.org/2000/svg\" xmlns:xlink=\"http://www.w3.org/1999/xlink\" width=\"600\" height=\"400\" viewBox=\"0 0 2400 1600\">\n<defs>\n  <clipPath id=\"clip2900\">\n    <rect x=\"0\" y=\"0\" width=\"2000\" height=\"2000\"/>\n  </clipPath>\n</defs>\n<defs>\n  <clipPath id=\"clip2901\">\n    <rect x=\"0\" y=\"0\" width=\"2400\" height=\"1600\"/>\n  </clipPath>\n</defs>\n<polygon clip-path=\"url(#clip2901)\" points=\"\n0,1600 2400,1600 2400,0 0,0 \n  \" fill=\"#ffffff\" fill-rule=\"evenodd\" fill-opacity=\"1\"/>\n<defs>\n  <clipPath id=\"clip2902\">\n    <rect x=\"480\" y=\"0\" width=\"1681\" height=\"1600\"/>\n  </clipPath>\n</defs>\n<polygon clip-path=\"url(#clip2901)\" points=\"\n149.361,972.127 2081.26,972.127 2081.26,578.592 149.361,578.592 \n  \" fill=\"#ffffff\" fill-rule=\"evenodd\" fill-opacity=\"1\"/>\n<defs>\n  <clipPath id=\"clip2903\">\n    <rect x=\"149\" y=\"578\" width=\"1933\" height=\"395\"/>\n  </clipPath>\n</defs>\n<polyline clip-path=\"url(#clip2903)\" style=\"stroke:#000000; stroke-width:2; stroke-opacity:0.1; fill:none\" points=\"\n  256.688,972.127 256.688,578.592 \n  \"/>\n<polyline clip-path=\"url(#clip2903)\" style=\"stroke:#000000; stroke-width:2; stroke-opacity:0.1; fill:none\" points=\"\n  614.447,972.127 614.447,578.592 \n  \"/>\n<polyline clip-path=\"url(#clip2903)\" style=\"stroke:#000000; stroke-width:2; stroke-opacity:0.1; fill:none\" points=\"\n  972.207,972.127 972.207,578.592 \n  \"/>\n<polyline clip-path=\"url(#clip2903)\" style=\"stroke:#000000; stroke-width:2; stroke-opacity:0.1; fill:none\" points=\"\n  1329.97,972.127 1329.97,578.592 \n  \"/>\n<polyline clip-path=\"url(#clip2903)\" style=\"stroke:#000000; stroke-width:2; stroke-opacity:0.1; fill:none\" points=\"\n  1687.72,972.127 1687.72,578.592 \n  \"/>\n<polyline clip-path=\"url(#clip2903)\" style=\"stroke:#000000; stroke-width:2; stroke-opacity:0.1; fill:none\" points=\"\n  2045.48,972.127 2045.48,578.592 \n  \"/>\n<polyline clip-path=\"url(#clip2903)\" style=\"stroke:#000000; stroke-width:2; stroke-opacity:0.1; fill:none\" points=\"\n  149.361,918.463 2081.26,918.463 \n  \"/>\n<polyline clip-path=\"url(#clip2903)\" style=\"stroke:#000000; stroke-width:2; stroke-opacity:0.1; fill:none\" points=\"\n  149.361,846.911 2081.26,846.911 \n  \"/>\n<polyline clip-path=\"url(#clip2903)\" style=\"stroke:#000000; stroke-width:2; stroke-opacity:0.1; fill:none\" points=\"\n  149.361,775.359 2081.26,775.359 \n  \"/>\n<polyline clip-path=\"url(#clip2903)\" style=\"stroke:#000000; stroke-width:2; stroke-opacity:0.1; fill:none\" points=\"\n  149.361,703.808 2081.26,703.808 \n  \"/>\n<polyline clip-path=\"url(#clip2903)\" style=\"stroke:#000000; stroke-width:2; stroke-opacity:0.1; fill:none\" points=\"\n  149.361,632.256 2081.26,632.256 \n  \"/>\n<polyline clip-path=\"url(#clip2901)\" style=\"stroke:#000000; stroke-width:4; stroke-opacity:1; fill:none\" points=\"\n  149.361,972.127 2081.26,972.127 \n  \"/>\n<polyline clip-path=\"url(#clip2901)\" style=\"stroke:#000000; stroke-width:4; stroke-opacity:1; fill:none\" points=\"\n  149.361,972.127 149.361,578.592 \n  \"/>\n<polyline clip-path=\"url(#clip2901)\" style=\"stroke:#000000; stroke-width:4; stroke-opacity:1; fill:none\" points=\"\n  256.688,972.127 256.688,966.224 \n  \"/>\n<polyline clip-path=\"url(#clip2901)\" style=\"stroke:#000000; stroke-width:4; stroke-opacity:1; fill:none\" points=\"\n  614.447,972.127 614.447,966.224 \n  \"/>\n<polyline clip-path=\"url(#clip2901)\" style=\"stroke:#000000; stroke-width:4; stroke-opacity:1; fill:none\" points=\"\n  972.207,972.127 972.207,966.224 \n  \"/>\n<polyline clip-path=\"url(#clip2901)\" style=\"stroke:#000000; stroke-width:4; stroke-opacity:1; fill:none\" points=\"\n  1329.97,972.127 1329.97,966.224 \n  \"/>\n<polyline clip-path=\"url(#clip2901)\" style=\"stroke:#000000; stroke-width:4; stroke-opacity:1; fill:none\" points=\"\n  1687.72,972.127 1687.72,966.224 \n  \"/>\n<polyline clip-path=\"url(#clip2901)\" style=\"stroke:#000000; stroke-width:4; stroke-opacity:1; fill:none\" points=\"\n  2045.48,972.127 2045.48,966.224 \n  \"/>\n<polyline clip-path=\"url(#clip2901)\" style=\"stroke:#000000; stroke-width:4; stroke-opacity:1; fill:none\" points=\"\n  149.361,918.463 178.339,918.463 \n  \"/>\n<polyline clip-path=\"url(#clip2901)\" style=\"stroke:#000000; stroke-width:4; stroke-opacity:1; fill:none\" points=\"\n  149.361,846.911 178.339,846.911 \n  \"/>\n<polyline clip-path=\"url(#clip2901)\" style=\"stroke:#000000; stroke-width:4; stroke-opacity:1; fill:none\" points=\"\n  149.361,775.359 178.339,775.359 \n  \"/>\n<polyline clip-path=\"url(#clip2901)\" style=\"stroke:#000000; stroke-width:4; stroke-opacity:1; fill:none\" points=\"\n  149.361,703.808 178.339,703.808 \n  \"/>\n<polyline clip-path=\"url(#clip2901)\" style=\"stroke:#000000; stroke-width:4; stroke-opacity:1; fill:none\" points=\"\n  149.361,632.256 178.339,632.256 \n  \"/>\n<g clip-path=\"url(#clip2901)\">\n<text style=\"fill:#000000; fill-opacity:1; font-family:Arial,Helvetica Neue,Helvetica,sans-serif; font-size:48px; text-anchor:middle;\" transform=\"rotate(0, 256.688, 1026.13)\" x=\"256.688\" y=\"1026.13\">0</text>\n</g>\n<g clip-path=\"url(#clip2901)\">\n<text style=\"fill:#000000; fill-opacity:1; font-family:Arial,Helvetica Neue,Helvetica,sans-serif; font-size:48px; text-anchor:middle;\" transform=\"rotate(0, 614.447, 1026.13)\" x=\"614.447\" y=\"1026.13\">10</text>\n</g>\n<g clip-path=\"url(#clip2901)\">\n<text style=\"fill:#000000; fill-opacity:1; font-family:Arial,Helvetica Neue,Helvetica,sans-serif; font-size:48px; text-anchor:middle;\" transform=\"rotate(0, 972.207, 1026.13)\" x=\"972.207\" y=\"1026.13\">20</text>\n</g>\n<g clip-path=\"url(#clip2901)\">\n<text style=\"fill:#000000; fill-opacity:1; font-family:Arial,Helvetica Neue,Helvetica,sans-serif; font-size:48px; text-anchor:middle;\" transform=\"rotate(0, 1329.97, 1026.13)\" x=\"1329.97\" y=\"1026.13\">30</text>\n</g>\n<g clip-path=\"url(#clip2901)\">\n<text style=\"fill:#000000; fill-opacity:1; font-family:Arial,Helvetica Neue,Helvetica,sans-serif; font-size:48px; text-anchor:middle;\" transform=\"rotate(0, 1687.72, 1026.13)\" x=\"1687.72\" y=\"1026.13\">40</text>\n</g>\n<g clip-path=\"url(#clip2901)\">\n<text style=\"fill:#000000; fill-opacity:1; font-family:Arial,Helvetica Neue,Helvetica,sans-serif; font-size:48px; text-anchor:middle;\" transform=\"rotate(0, 2045.48, 1026.13)\" x=\"2045.48\" y=\"1026.13\">50</text>\n</g>\n<g clip-path=\"url(#clip2901)\">\n<text style=\"fill:#000000; fill-opacity:1; font-family:Arial,Helvetica Neue,Helvetica,sans-serif; font-size:48px; text-anchor:end;\" transform=\"rotate(0, 125.361, 935.963)\" x=\"125.361\" y=\"935.963\">-4</text>\n</g>\n<g clip-path=\"url(#clip2901)\">\n<text style=\"fill:#000000; fill-opacity:1; font-family:Arial,Helvetica Neue,Helvetica,sans-serif; font-size:48px; text-anchor:end;\" transform=\"rotate(0, 125.361, 864.411)\" x=\"125.361\" y=\"864.411\">-2</text>\n</g>\n<g clip-path=\"url(#clip2901)\">\n<text style=\"fill:#000000; fill-opacity:1; font-family:Arial,Helvetica Neue,Helvetica,sans-serif; font-size:48px; text-anchor:end;\" transform=\"rotate(0, 125.361, 792.859)\" x=\"125.361\" y=\"792.859\">0</text>\n</g>\n<g clip-path=\"url(#clip2901)\">\n<text style=\"fill:#000000; fill-opacity:1; font-family:Arial,Helvetica Neue,Helvetica,sans-serif; font-size:48px; text-anchor:end;\" transform=\"rotate(0, 125.361, 721.308)\" x=\"125.361\" y=\"721.308\">2</text>\n</g>\n<g clip-path=\"url(#clip2901)\">\n<text style=\"fill:#000000; fill-opacity:1; font-family:Arial,Helvetica Neue,Helvetica,sans-serif; font-size:48px; text-anchor:end;\" transform=\"rotate(0, 125.361, 649.756)\" x=\"125.361\" y=\"649.756\">4</text>\n</g>\n<g clip-path=\"url(#clip2903)\">\n<image width=\"1932\" height=\"394\" xlink:href=\"data:image/png;base64,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\n\" transform=\"translate(149, 579)\"/>\n</g>\n<defs>\n  <clipPath id=\"clip2904\">\n    <rect x=\"2129\" y=\"578\" width=\"73\" height=\"395\"/>\n  </clipPath>\n</defs>\n<g clip-path=\"url(#clip2904)\">\n<image width=\"72\" height=\"394\" xlink:href=\"data:image/png;base64,\niVBORw0KGgoAAAANSUhEUgAAAEgAAAGKCAYAAACvugdMAAAEEElEQVR4nO3dwbEjNwxAQcqF/KNw\nlvaSjsB4R+nQHYGKhQfOSL92P//ev9/hf/317Q/w6+a+f7/9GX6aCQrzTNBq3nVAG4kFiQUHFCQW\nTFBwiwWJBYkFBxQkFuZY0isHFCQW5ljSKxMU7KDggILEwpz7z7c/w09ziwWJBUs6OKAgsTCf9+fb\nn+GnzbkOaCOxMB8TtJJYkFiY4xZb2UFBYsGSDiYo2EFBYkFiYT73fvsz/DSJBYkFExRc80FiYY5b\nbCWxILHgFgsOKEgseBcLrvkgsWBJBxMU7KDggILEgueg4BYLEguWdHBAQWLBBIU5178SuJFYmPMk\ntrGDgsSCJR0kFiQWTFAwQcGSDhILEgtzDNDKAQWJhfEyv5NYkFgwQcEBBYmFOV7FVvPu59uf4adJ\nLFjSYY7EVhIL854J2pigYAcFBxQkFizpILEgsTDnOqONHRSMT7Ckgy/MgsTCnOeMNhILxieYoOBJ\nOjid4FUjmKDgVSPMs6RXTidY0sEOChILlnSwg4LxCd7mwzzfKK6cTvAcFOygILHgOSh4kg5OJ0gs\nmKDgmg8SCxILrvkgsWB8glssSCxILLjFgsSC8QkmKDigILHgQTHM9cvqyukESzqYoGBJB4kFiQUT\nFBxQkFgwQWGuA1pJLEgsOKAgsWCCggMKEgsmKHhQDBILEgsmKJig4IfD4HSCxILnoCCxILEgsSCx\nILHggILEgiUd5h0HtJFYkFhwiwWJhbn+p96VCQp2UHCLBYmFuZ6kV3ZQkFiwpIPEgsTC3G9/gh8n\nsSCx4BYLvpMOEgsSCyYo+Mo1WNJBYsGTdPAuFiQWJBYkFiQWJBa8iwWJhfEqtpNYkFiQWJBYkFiQ\nWDBBwQ4KvrQPEgt+1QgSCxIL/k46zJPYSmLBg2LwLhYkFjwHBdd8kFjwHBT88UKQWPCgGExQsKSD\nJR0kFiQWvGoEiQVv88EXZkFiQWLBAQWJBX+8ECQWJBY8BwWJBYkFExRMULCkg8SCxIJfNYIv7YPE\ngiUdXPNBYkFiYd5xQhuJBYkFt1iQWJBYkFiQWJBYMEHB90FhrleNlcSCxILEgsSCn33CPEtoJbEg\nseBdLEgs+FUjSCxILHjVCHZQkFiQWDBBwQSFud7mVxILrvlgBwWJBRMUHFCQWJh3fCu9kViQWJj7\nkdhmrh20klgwQcE1HyQW5n48B21MULCkgwMKEguu+TD3/Pn2Z/hpEguWdJgnsZXEgsSCAwoSC5Z0\nkFiQWJBY8LIaJBbmPhO0MUHBDgrzJLaSWJBY8KAYJBY8BwU7KEgseA4KbrEgsSCx4BYLEgsSC26x\nILEgsWCCgms+zHuW9EZiQWJhjn8eZyWxMEdiKw+KQWJBYsE1HyQW5ljSK4kFiQW3WPgPSFToI7dW\nfGQAAAAASUVORK5CYII=\n\" transform=\"translate(2129, 579)\"/>\n</g>\n<g clip-path=\"url(#clip2901)\">\n<text style=\"fill:#000000; fill-opacity:1; font-family:Arial,Helvetica Neue,Helvetica,sans-serif; font-size:48px; text-anchor:start;\" transform=\"rotate(0, 2237.26, 985.778)\" x=\"2237.26\" y=\"985.778\">-</text>\n</g>\n<g clip-path=\"url(#clip2901)\">\n<text style=\"fill:#000000; fill-opacity:1; font-family:Arial,Helvetica Neue,Helvetica,sans-serif; font-size:48px; text-anchor:start;\" transform=\"rotate(0, 2265.37, 985.778)\" x=\"2265.37\" y=\"985.778\">0.100</text>\n</g>\n<g clip-path=\"url(#clip2901)\">\n<text style=\"fill:#000000; fill-opacity:1; font-family:Arial,Helvetica Neue,Helvetica,sans-serif; font-size:48px; text-anchor:start;\" transform=\"rotate(0, 2237.26, 936.586)\" x=\"2237.26\" y=\"936.586\">-</text>\n</g>\n<g clip-path=\"url(#clip2901)\">\n<text style=\"fill:#000000; fill-opacity:1; font-family:Arial,Helvetica Neue,Helvetica,sans-serif; font-size:48px; text-anchor:start;\" transform=\"rotate(0, 2265.37, 936.586)\" x=\"2265.37\" y=\"936.586\">0.075</text>\n</g>\n<g clip-path=\"url(#clip2901)\">\n<text style=\"fill:#000000; fill-opacity:1; font-family:Arial,Helvetica Neue,Helvetica,sans-serif; font-size:48px; text-anchor:start;\" transform=\"rotate(0, 2237.26, 887.394)\" x=\"2237.26\" y=\"887.394\">-</text>\n</g>\n<g clip-path=\"url(#clip2901)\">\n<text style=\"fill:#000000; fill-opacity:1; font-family:Arial,Helvetica Neue,Helvetica,sans-serif; font-size:48px; text-anchor:start;\" transform=\"rotate(0, 2265.37, 887.394)\" x=\"2265.37\" y=\"887.394\">0.050</text>\n</g>\n<g clip-path=\"url(#clip2901)\">\n<text style=\"fill:#000000; fill-opacity:1; font-family:Arial,Helvetica Neue,Helvetica,sans-serif; font-size:48px; text-anchor:start;\" transform=\"rotate(0, 2237.26, 838.202)\" x=\"2237.26\" y=\"838.202\">-</text>\n</g>\n<g clip-path=\"url(#clip2901)\">\n<text style=\"fill:#000000; fill-opacity:1; font-family:Arial,Helvetica Neue,Helvetica,sans-serif; font-size:48px; text-anchor:start;\" transform=\"rotate(0, 2265.37, 838.202)\" x=\"2265.37\" y=\"838.202\">0.025</text>\n</g>\n<g clip-path=\"url(#clip2901)\">\n<text style=\"fill:#000000; fill-opacity:1; font-family:Arial,Helvetica Neue,Helvetica,sans-serif; font-size:48px; text-anchor:start;\" transform=\"rotate(0, 2237.26, 789.011)\" x=\"2237.26\" y=\"789.011\">0</text>\n</g>\n<g clip-path=\"url(#clip2901)\">\n<text style=\"fill:#000000; fill-opacity:1; font-family:Arial,Helvetica Neue,Helvetica,sans-serif; font-size:48px; text-anchor:start;\" transform=\"rotate(0, 2237.26, 739.819)\" x=\"2237.26\" y=\"739.819\">0.025</text>\n</g>\n<g clip-path=\"url(#clip2901)\">\n<text style=\"fill:#000000; fill-opacity:1; font-family:Arial,Helvetica Neue,Helvetica,sans-serif; font-size:48px; text-anchor:start;\" transform=\"rotate(0, 2237.26, 690.627)\" x=\"2237.26\" y=\"690.627\">0.050</text>\n</g>\n<g clip-path=\"url(#clip2901)\">\n<text style=\"fill:#000000; fill-opacity:1; font-family:Arial,Helvetica Neue,Helvetica,sans-serif; font-size:48px; text-anchor:start;\" transform=\"rotate(0, 2237.26, 641.435)\" x=\"2237.26\" y=\"641.435\">0.075</text>\n</g>\n<g clip-path=\"url(#clip2901)\">\n<text style=\"fill:#000000; fill-opacity:1; font-family:Arial,Helvetica Neue,Helvetica,sans-serif; font-size:48px; text-anchor:start;\" transform=\"rotate(0, 2237.26, 592.243)\" x=\"2237.26\" y=\"592.243\">0.100</text>\n</g>\n<polyline clip-path=\"url(#clip2901)\" style=\"stroke:#000000; stroke-width:4; stroke-opacity:1; fill:none\" points=\"\n  2201.26,972.127 2201.26,972.127 2225.26,972.127 2201.26,972.127 2201.26,922.935 2225.26,922.935 2201.26,922.935 2201.26,873.743 2225.26,873.743 2201.26,873.743 \n  2201.26,824.551 2225.26,824.551 2201.26,824.551 2201.26,775.359 2225.26,775.359 2201.26,775.359 2201.26,726.168 2225.26,726.168 2201.26,726.168 2201.26,676.976 \n  2225.26,676.976 2201.26,676.976 2201.26,627.784 2225.26,627.784 2201.26,627.784 2201.26,578.592 2225.26,578.592 2201.26,578.592 \n  \"/>\n<g clip-path=\"url(#clip2901)\">\n<text style=\"fill:#000000; fill-opacity:1; font-family:Arial,Helvetica Neue,Helvetica,sans-serif; font-size:66px; text-anchor:middle;\" transform=\"rotate(-90, 2378.86, 775.359)\" x=\"2378.86\" y=\"775.359\"></text>\n</g>\n</svg>\n"
                     },
                     "type": "node"
                    }
                   ],
                   "instanceArgs": {
                    "namespace": "html",
                    "tag": "div"
                   },
                   "nodeType": "DOM",
                   "props": {
                    "attributes": {
                     "style": "display:flex; justify-content:center; align-items:center;"
                    }
                   },
                   "type": "node"
                  }
                 }
                },
                "systemjs_options": null
               },
               "nodeType": "Scope",
               "props": {},
               "type": "node"
              }
             ],
             "instanceArgs": {
              "namespace": "html",
              "tag": "div"
             },
             "nodeType": "DOM",
             "props": {},
             "type": "node"
            }
           }
          },
          "systemjs_options": null
         },
         "nodeType": "Scope",
         "props": {},
         "type": "node"
        }
       ],
       "instanceArgs": {
        "namespace": "html",
        "tag": "div"
       },
       "nodeType": "DOM",
       "props": {},
       "type": "node"
      },
      "text/html": [
       "<div\n",
       "    class=\"webio-mountpoint\"\n",
       "    data-webio-mountpoint=\"6234244169249663848\"\n",
       ">\n",
       "    <script>\n",
       "    if (window.require && require.defined && require.defined(\"nbextensions/webio/main\")) {\n",
       "        console.log(\"Jupyter WebIO extension detected, not mounting.\");\n",
       "    } else if (window.WebIO) {\n",
       "        WebIO.mount(\n",
       "            document.querySelector('[data-webio-mountpoint=\"6234244169249663848\"]'),\n",
       "            {\"props\":{},\"nodeType\":\"DOM\",\"type\":\"node\",\"instanceArgs\":{\"namespace\":\"html\",\"tag\":\"div\"},\"children\":[{\"props\":{\"className\":\"field\"},\"nodeType\":\"DOM\",\"type\":\"node\",\"instanceArgs\":{\"namespace\":\"html\",\"tag\":\"div\"},\"children\":[{\"props\":{},\"nodeType\":\"Scope\",\"type\":\"node\",\"instanceArgs\":{\"imports\":{\"data\":[{\"name\":\"knockout\",\"type\":\"js\",\"url\":\"\\/assetserver\\/7727d7cb3453b9ff588804f2f297360e756850e6-knockout.js\"},{\"name\":\"knockout_punches\",\"type\":\"js\",\"url\":\"\\/assetserver\\/dc191505b241da77a1bd06986b7132036babe315-knockout_punches.js\"},{\"name\":null,\"type\":\"js\",\"url\":\"\\/assetserver\\/cf39e83f3445855334efae1f7d0ee012952fe319-all.js\"},{\"name\":null,\"type\":\"css\",\"url\":\"\\/assetserver\\/495af69608d773e6cf6efd8fe98ee33ddbad0df5-style.css\"},{\"name\":null,\"type\":\"css\",\"url\":\"\\/assetserver\\/9d22e7e1c4dccb3a3bef6ae4d24134fd256d4bfd-main.css\"}],\"type\":\"async_block\"},\"id\":\"knockout-component-59964e2d-46af-4300-a619-15e32871c075\",\"handlers\":{\"formatted_vals\":[\"(function (val){return (val!=this.model[\\\"formatted_vals\\\"]()) ? (this.valueFromJulia[\\\"formatted_vals\\\"]=true, this.model[\\\"formatted_vals\\\"](val)) : undefined})\"],\"_promises\":{\"importsLoaded\":[\"function (ko, koPunches) {\\n    ko.punches.enableAll();\\n    ko.bindingHandlers.numericValue = {\\n        init : function(element, valueAccessor, allBindings, data, context) {\\n            var stringified = ko.observable(ko.unwrap(valueAccessor()));\\n            stringified.subscribe(function(value) {\\n                var val = parseFloat(value);\\n                if (!isNaN(val)) {\\n                    valueAccessor()(val);\\n                }\\n            })\\n            valueAccessor().subscribe(function(value) {\\n                var str = JSON.stringify(value);\\n                if ((str == \\\"0\\\") && ([\\\"-0\\\", \\\"-0.\\\"].indexOf(stringified()) >= 0))\\n                     return;\\n                 if ([\\\"null\\\", \\\"\\\"].indexOf(str) >= 0)\\n                     return;\\n                stringified(str);\\n            })\\n            ko.applyBindingsToNode(element, { value: stringified, valueUpdate: allBindings.get('valueUpdate')}, context);\\n        }\\n    };\\n    var json_data = JSON.parse(\\\"{\\\\\\\"formatted_vals\\\\\\\":[\\\\\\\"0.0\\\\\\\",\\\\\\\"0.5\\\\\\\",\\\\\\\"1.0\\\\\\\",\\\\\\\"1.5\\\\\\\",\\\\\\\"2.0\\\\\\\",\\\\\\\"2.5\\\\\\\",\\\\\\\"3.0\\\\\\\",\\\\\\\"3.5\\\\\\\",\\\\\\\"4.0\\\\\\\",\\\\\\\"4.5\\\\\\\",\\\\\\\"5.0\\\\\\\",\\\\\\\"5.5\\\\\\\",\\\\\\\"6.0\\\\\\\",\\\\\\\"6.5\\\\\\\",\\\\\\\"7.0\\\\\\\",\\\\\\\"7.5\\\\\\\",\\\\\\\"8.0\\\\\\\",\\\\\\\"8.5\\\\\\\",\\\\\\\"9.0\\\\\\\",\\\\\\\"9.5\\\\\\\",\\\\\\\"10.0\\\\\\\",\\\\\\\"10.5\\\\\\\",\\\\\\\"11.0\\\\\\\",\\\\\\\"11.5\\\\\\\",\\\\\\\"12.0\\\\\\\",\\\\\\\"12.5\\\\\\\",\\\\\\\"13.0\\\\\\\",\\\\\\\"13.5\\\\\\\",\\\\\\\"14.0\\\\\\\"],\\\\\\\"changes\\\\\\\":0,\\\\\\\"formatted_value\\\\\\\":\\\\\\\"7.0\\\\\\\",\\\\\\\"index\\\\\\\":15}\\\");\\n    var self = this;\\n    function AppViewModel() {\\n        for (var key in json_data) {\\n            var el = json_data[key];\\n            this[key] = Array.isArray(el) ? ko.observableArray(el) : ko.observable(el);\\n        }\\n        \\n        \\n        [this[\\\"formatted_vals\\\"].subscribe((function (val){!(this.valueFromJulia[\\\"formatted_vals\\\"]) ? (_webIOScope.setObservableValue({\\\"name\\\":\\\"formatted_vals\\\",\\\"scope\\\":\\\"knockout-component-59964e2d-46af-4300-a619-15e32871c075\\\",\\\"id\\\":\\\"ob_03\\\",\\\"type\\\":\\\"observable\\\"},val)) : undefined; return this.valueFromJulia[\\\"formatted_vals\\\"]=false}),self),this[\\\"changes\\\"].subscribe((function (val){!(this.valueFromJulia[\\\"changes\\\"]) ? (_webIOScope.setObservableValue({\\\"name\\\":\\\"changes\\\",\\\"scope\\\":\\\"knockout-component-59964e2d-46af-4300-a619-15e32871c075\\\",\\\"id\\\":\\\"ob_05\\\",\\\"type\\\":\\\"observable\\\"},val)) : undefined; return this.valueFromJulia[\\\"changes\\\"]=false}),self),this[\\\"formatted_value\\\"].subscribe((function (val){!(this.valueFromJulia[\\\"formatted_value\\\"]) ? (_webIOScope.setObservableValue({\\\"name\\\":\\\"formatted_value\\\",\\\"scope\\\":\\\"knockout-component-59964e2d-46af-4300-a619-15e32871c075\\\",\\\"id\\\":\\\"ob_04\\\",\\\"type\\\":\\\"observable\\\"},val)) : undefined; return this.valueFromJulia[\\\"formatted_value\\\"]=false}),self),this[\\\"index\\\"].subscribe((function (val){!(this.valueFromJulia[\\\"index\\\"]) ? (_webIOScope.setObservableValue({\\\"name\\\":\\\"index\\\",\\\"scope\\\":\\\"knockout-component-59964e2d-46af-4300-a619-15e32871c075\\\",\\\"id\\\":\\\"ob_02\\\",\\\"type\\\":\\\"observable\\\"},val)) : undefined; return this.valueFromJulia[\\\"index\\\"]=false}),self)]\\n        \\n    }\\n    self.model = new AppViewModel();\\n    self.valueFromJulia = {};\\n    for (var key in json_data) {\\n        self.valueFromJulia[key] = false;\\n    }\\n    ko.applyBindings(self.model, self.dom);\\n}\\n\"]},\"changes\":[\"(function (val){return (val!=this.model[\\\"changes\\\"]()) ? (this.valueFromJulia[\\\"changes\\\"]=true, this.model[\\\"changes\\\"](val)) : undefined})\"],\"formatted_value\":[\"(function (val){return (val!=this.model[\\\"formatted_value\\\"]()) ? (this.valueFromJulia[\\\"formatted_value\\\"]=true, this.model[\\\"formatted_value\\\"](val)) : undefined})\"],\"index\":[\"(function (val){return (val!=this.model[\\\"index\\\"]()) ? (this.valueFromJulia[\\\"index\\\"]=true, this.model[\\\"index\\\"](val)) : undefined})\",\"(function (val){return _webIOScope.setObservableValue({\\\"name\\\":\\\"formatted_value\\\",\\\"scope\\\":\\\"knockout-component-59964e2d-46af-4300-a619-15e32871c075\\\",\\\"id\\\":\\\"ob_04\\\",\\\"type\\\":\\\"observable\\\"},_webIOScope.getObservableValue({\\\"name\\\":\\\"formatted_vals\\\",\\\"scope\\\":\\\"knockout-component-59964e2d-46af-4300-a619-15e32871c075\\\",\\\"id\\\":\\\"ob_03\\\",\\\"type\\\":\\\"observable\\\"})[(_webIOScope.getObservableValue({\\\"name\\\":\\\"index\\\",\\\"scope\\\":\\\"knockout-component-59964e2d-46af-4300-a619-15e32871c075\\\",\\\"id\\\":\\\"ob_02\\\",\\\"type\\\":\\\"observable\\\"})-1)])})\"]},\"systemjs_options\":null,\"observables\":{\"formatted_vals\":{\"sync\":false,\"id\":\"ob_03\",\"value\":[\"0.0\",\"0.5\",\"1.0\",\"1.5\",\"2.0\",\"2.5\",\"3.0\",\"3.5\",\"4.0\",\"4.5\",\"5.0\",\"5.5\",\"6.0\",\"6.5\",\"7.0\",\"7.5\",\"8.0\",\"8.5\",\"9.0\",\"9.5\",\"10.0\",\"10.5\",\"11.0\",\"11.5\",\"12.0\",\"12.5\",\"13.0\",\"13.5\",\"14.0\"]},\"changes\":{\"sync\":false,\"id\":\"ob_05\",\"value\":0},\"formatted_value\":{\"sync\":false,\"id\":\"ob_04\",\"value\":\"7.0\"},\"index\":{\"sync\":true,\"id\":\"ob_02\",\"value\":15}}},\"children\":[{\"props\":{\"attributes\":{\"style\":\"display:flex; justify-content:center; align-items:center;\"}},\"nodeType\":\"DOM\",\"type\":\"node\",\"instanceArgs\":{\"namespace\":\"html\",\"tag\":\"div\"},\"children\":[{\"props\":{\"attributes\":{\"style\":\"text-align:right;width:18%\"}},\"nodeType\":\"DOM\",\"type\":\"node\",\"instanceArgs\":{\"namespace\":\"html\",\"tag\":\"div\"},\"children\":[{\"props\":{\"className\":\"interact \",\"style\":{\"padding\":\"5px 10px 0px 10px\"}},\"nodeType\":\"DOM\",\"type\":\"node\",\"instanceArgs\":{\"namespace\":\"html\",\"tag\":\"label\"},\"children\":[\"ego_v\"]}]},{\"props\":{\"attributes\":{\"style\":\"flex-grow:1; margin: 0 2%\"}},\"nodeType\":\"DOM\",\"type\":\"node\",\"instanceArgs\":{\"namespace\":\"html\",\"tag\":\"div\"},\"children\":[{\"props\":{\"max\":29,\"min\":1,\"attributes\":{\"type\":\"range\",\"data-bind\":\"numericValue: index, valueUpdate: 'input', event: {change : function () {this.changes(this.changes()+1)}}\",\"orient\":\"horizontal\"},\"step\":1,\"className\":\"slider slider is-fullwidth\",\"style\":{}},\"nodeType\":\"DOM\",\"type\":\"node\",\"instanceArgs\":{\"namespace\":\"html\",\"tag\":\"input\"},\"children\":[]}]},{\"props\":{\"attributes\":{\"style\":\"width:18%\"}},\"nodeType\":\"DOM\",\"type\":\"node\",\"instanceArgs\":{\"namespace\":\"html\",\"tag\":\"div\"},\"children\":[{\"props\":{\"attributes\":{\"data-bind\":\"text: formatted_value\"}},\"nodeType\":\"DOM\",\"type\":\"node\",\"instanceArgs\":{\"namespace\":\"html\",\"tag\":\"p\"},\"children\":[]}]}]}]}]},{\"props\":{},\"nodeType\":\"Scope\",\"type\":\"node\",\"instanceArgs\":{\"imports\":{\"data\":[],\"type\":\"async_block\"},\"id\":\"scope-34ef5174-e130-4a66-8822-ffdd8c0acc92\",\"handlers\":{},\"systemjs_options\":null,\"observables\":{\"obs-scope\":{\"sync\":false,\"id\":\"ob_15\",\"value\":{\"props\":{},\"nodeType\":\"DOM\",\"type\":\"node\",\"instanceArgs\":{\"namespace\":\"html\",\"tag\":\"div\"},\"children\":[{\"props\":{\"className\":\"field\"},\"nodeType\":\"DOM\",\"type\":\"node\",\"instanceArgs\":{\"namespace\":\"html\",\"tag\":\"div\"},\"children\":[{\"props\":{},\"nodeType\":\"Scope\",\"type\":\"node\",\"instanceArgs\":{\"imports\":{\"data\":[{\"name\":\"knockout\",\"type\":\"js\",\"url\":\"\\/assetserver\\/7727d7cb3453b9ff588804f2f297360e756850e6-knockout.js\"},{\"name\":\"knockout_punches\",\"type\":\"js\",\"url\":\"\\/assetserver\\/dc191505b241da77a1bd06986b7132036babe315-knockout_punches.js\"},{\"name\":null,\"type\":\"js\",\"url\":\"\\/assetserver\\/cf39e83f3445855334efae1f7d0ee012952fe319-all.js\"},{\"name\":null,\"type\":\"css\",\"url\":\"\\/assetserver\\/495af69608d773e6cf6efd8fe98ee33ddbad0df5-style.css\"},{\"name\":null,\"type\":\"css\",\"url\":\"\\/assetserver\\/9d22e7e1c4dccb3a3bef6ae4d24134fd256d4bfd-main.css\"}],\"type\":\"async_block\"},\"id\":\"knockout-component-9b8c97d9-9ed8-4a70-be8f-0081e5ecbfde\",\"handlers\":{\"formatted_vals\":[\"(function (val){return (val!=this.model[\\\"formatted_vals\\\"]()) ? (this.valueFromJulia[\\\"formatted_vals\\\"]=true, this.model[\\\"formatted_vals\\\"](val)) : undefined})\"],\"_promises\":{\"importsLoaded\":[\"function (ko, koPunches) {\\n    ko.punches.enableAll();\\n    ko.bindingHandlers.numericValue = {\\n        init : function(element, valueAccessor, allBindings, data, context) {\\n            var stringified = ko.observable(ko.unwrap(valueAccessor()));\\n            stringified.subscribe(function(value) {\\n                var val = parseFloat(value);\\n                if (!isNaN(val)) {\\n                    valueAccessor()(val);\\n                }\\n            })\\n            valueAccessor().subscribe(function(value) {\\n                var str = JSON.stringify(value);\\n                if ((str == \\\"0\\\") && ([\\\"-0\\\", \\\"-0.\\\"].indexOf(stringified()) >= 0))\\n                     return;\\n                 if ([\\\"null\\\", \\\"\\\"].indexOf(str) >= 0)\\n                     return;\\n                stringified(str);\\n            })\\n            ko.applyBindingsToNode(element, { value: stringified, valueUpdate: allBindings.get('valueUpdate')}, context);\\n        }\\n    };\\n    var json_data = JSON.parse(\\\"{\\\\\\\"formatted_vals\\\\\\\":[\\\\\\\"0.0\\\\\\\",\\\\\\\"0.5\\\\\\\",\\\\\\\"1.0\\\\\\\",\\\\\\\"1.5\\\\\\\",\\\\\\\"2.0\\\\\\\"],\\\\\\\"changes\\\\\\\":0,\\\\\\\"formatted_value\\\\\\\":\\\\\\\"1.0\\\\\\\",\\\\\\\"index\\\\\\\":3}\\\");\\n    var self = this;\\n    function AppViewModel() {\\n        for (var key in json_data) {\\n            var el = json_data[key];\\n            this[key] = Array.isArray(el) ? ko.observableArray(el) : ko.observable(el);\\n        }\\n        \\n        \\n        [this[\\\"formatted_vals\\\"].subscribe((function (val){!(this.valueFromJulia[\\\"formatted_vals\\\"]) ? (_webIOScope.setObservableValue({\\\"name\\\":\\\"formatted_vals\\\",\\\"scope\\\":\\\"knockout-component-9b8c97d9-9ed8-4a70-be8f-0081e5ecbfde\\\",\\\"id\\\":\\\"ob_08\\\",\\\"type\\\":\\\"observable\\\"},val)) : undefined; return this.valueFromJulia[\\\"formatted_vals\\\"]=false}),self),this[\\\"changes\\\"].subscribe((function (val){!(this.valueFromJulia[\\\"changes\\\"]) ? (_webIOScope.setObservableValue({\\\"name\\\":\\\"changes\\\",\\\"scope\\\":\\\"knockout-component-9b8c97d9-9ed8-4a70-be8f-0081e5ecbfde\\\",\\\"id\\\":\\\"ob_10\\\",\\\"type\\\":\\\"observable\\\"},val)) : undefined; return this.valueFromJulia[\\\"changes\\\"]=false}),self),this[\\\"formatted_value\\\"].subscribe((function (val){!(this.valueFromJulia[\\\"formatted_value\\\"]) ? (_webIOScope.setObservableValue({\\\"name\\\":\\\"formatted_value\\\",\\\"scope\\\":\\\"knockout-component-9b8c97d9-9ed8-4a70-be8f-0081e5ecbfde\\\",\\\"id\\\":\\\"ob_09\\\",\\\"type\\\":\\\"observable\\\"},val)) : undefined; return this.valueFromJulia[\\\"formatted_value\\\"]=false}),self),this[\\\"index\\\"].subscribe((function (val){!(this.valueFromJulia[\\\"index\\\"]) ? (_webIOScope.setObservableValue({\\\"name\\\":\\\"index\\\",\\\"scope\\\":\\\"knockout-component-9b8c97d9-9ed8-4a70-be8f-0081e5ecbfde\\\",\\\"id\\\":\\\"ob_07\\\",\\\"type\\\":\\\"observable\\\"},val)) : undefined; return this.valueFromJulia[\\\"index\\\"]=false}),self)]\\n        \\n    }\\n    self.model = new AppViewModel();\\n    self.valueFromJulia = {};\\n    for (var key in json_data) {\\n        self.valueFromJulia[key] = false;\\n    }\\n    ko.applyBindings(self.model, self.dom);\\n}\\n\"]},\"changes\":[\"(function (val){return (val!=this.model[\\\"changes\\\"]()) ? (this.valueFromJulia[\\\"changes\\\"]=true, this.model[\\\"changes\\\"](val)) : undefined})\"],\"formatted_value\":[\"(function (val){return (val!=this.model[\\\"formatted_value\\\"]()) ? (this.valueFromJulia[\\\"formatted_value\\\"]=true, this.model[\\\"formatted_value\\\"](val)) : undefined})\"],\"index\":[\"(function (val){return (val!=this.model[\\\"index\\\"]()) ? (this.valueFromJulia[\\\"index\\\"]=true, this.model[\\\"index\\\"](val)) : undefined})\",\"(function (val){return _webIOScope.setObservableValue({\\\"name\\\":\\\"formatted_value\\\",\\\"scope\\\":\\\"knockout-component-9b8c97d9-9ed8-4a70-be8f-0081e5ecbfde\\\",\\\"id\\\":\\\"ob_09\\\",\\\"type\\\":\\\"observable\\\"},_webIOScope.getObservableValue({\\\"name\\\":\\\"formatted_vals\\\",\\\"scope\\\":\\\"knockout-component-9b8c97d9-9ed8-4a70-be8f-0081e5ecbfde\\\",\\\"id\\\":\\\"ob_08\\\",\\\"type\\\":\\\"observable\\\"})[(_webIOScope.getObservableValue({\\\"name\\\":\\\"index\\\",\\\"scope\\\":\\\"knockout-component-9b8c97d9-9ed8-4a70-be8f-0081e5ecbfde\\\",\\\"id\\\":\\\"ob_07\\\",\\\"type\\\":\\\"observable\\\"})-1)])})\"]},\"systemjs_options\":null,\"observables\":{\"formatted_vals\":{\"sync\":false,\"id\":\"ob_08\",\"value\":[\"0.0\",\"0.5\",\"1.0\",\"1.5\",\"2.0\"]},\"changes\":{\"sync\":false,\"id\":\"ob_10\",\"value\":0},\"formatted_value\":{\"sync\":false,\"id\":\"ob_09\",\"value\":\"1.0\"},\"index\":{\"sync\":true,\"id\":\"ob_07\",\"value\":3}}},\"children\":[{\"props\":{\"attributes\":{\"style\":\"display:flex; justify-content:center; align-items:center;\"}},\"nodeType\":\"DOM\",\"type\":\"node\",\"instanceArgs\":{\"namespace\":\"html\",\"tag\":\"div\"},\"children\":[{\"props\":{\"attributes\":{\"style\":\"text-align:right;width:18%\"}},\"nodeType\":\"DOM\",\"type\":\"node\",\"instanceArgs\":{\"namespace\":\"html\",\"tag\":\"div\"},\"children\":[{\"props\":{\"className\":\"interact \",\"style\":{\"padding\":\"5px 10px 0px 10px\"}},\"nodeType\":\"DOM\",\"type\":\"node\",\"instanceArgs\":{\"namespace\":\"html\",\"tag\":\"label\"},\"children\":[\"ped_v\"]}]},{\"props\":{\"attributes\":{\"style\":\"flex-grow:1; margin: 0 2%\"}},\"nodeType\":\"DOM\",\"type\":\"node\",\"instanceArgs\":{\"namespace\":\"html\",\"tag\":\"div\"},\"children\":[{\"props\":{\"max\":5,\"min\":1,\"attributes\":{\"type\":\"range\",\"data-bind\":\"numericValue: index, valueUpdate: 'input', event: {change : function () {this.changes(this.changes()+1)}}\",\"orient\":\"horizontal\"},\"step\":1,\"className\":\"slider slider is-fullwidth\",\"style\":{}},\"nodeType\":\"DOM\",\"type\":\"node\",\"instanceArgs\":{\"namespace\":\"html\",\"tag\":\"input\"},\"children\":[]}]},{\"props\":{\"attributes\":{\"style\":\"width:18%\"}},\"nodeType\":\"DOM\",\"type\":\"node\",\"instanceArgs\":{\"namespace\":\"html\",\"tag\":\"div\"},\"children\":[{\"props\":{\"attributes\":{\"data-bind\":\"text: formatted_value\"}},\"nodeType\":\"DOM\",\"type\":\"node\",\"instanceArgs\":{\"namespace\":\"html\",\"tag\":\"p\"},\"children\":[]}]}]}]}]},{\"props\":{},\"nodeType\":\"Scope\",\"type\":\"node\",\"instanceArgs\":{\"imports\":{\"data\":[],\"type\":\"async_block\"},\"id\":\"scope-698659ad-9e40-48a5-8138-4d9f14e010e5\",\"handlers\":{},\"systemjs_options\":null,\"observables\":{\"obs-node\":{\"sync\":false,\"id\":\"ob_16\",\"value\":{\"props\":{\"attributes\":{\"style\":\"display:flex; justify-content:center; align-items:center;\"}},\"nodeType\":\"DOM\",\"type\":\"node\",\"instanceArgs\":{\"namespace\":\"html\",\"tag\":\"div\"},\"children\":[{\"props\":{\"setInnerHtml\":\"<?xml version=\\\"1.0\\\" encoding=\\\"utf-8\\\"?>\\n<svg xmlns=\\\"http:\\/\\/www.w3.org\\/2000\\/svg\\\" xmlns:xlink=\\\"http:\\/\\/www.w3.org\\/1999\\/xlink\\\" width=\\\"600\\\" height=\\\"400\\\" viewBox=\\\"0 0 2400 1600\\\">\\n<defs>\\n  <clipPath id=\\\"clip2700\\\">\\n    <rect x=\\\"0\\\" y=\\\"0\\\" width=\\\"2000\\\" height=\\\"2000\\\"\\/>\\n  <\\/clipPath>\\n<\\/defs>\\n<defs>\\n  <clipPath id=\\\"clip2701\\\">\\n    <rect x=\\\"0\\\" y=\\\"0\\\" width=\\\"2400\\\" height=\\\"1600\\\"\\/>\\n  <\\/clipPath>\\n<\\/defs>\\n<polygon clip-path=\\\"url(#clip2701)\\\" points=\\\"\\n0,1600 2400,1600 2400,0 0,0 \\n  \\\" fill=\\\"#ffffff\\\" fill-rule=\\\"evenodd\\\" fill-opacity=\\\"1\\\"\\/>\\n<defs>\\n  <clipPath id=\\\"clip2702\\\">\\n    <rect x=\\\"480\\\" y=\\\"0\\\" width=\\\"1681\\\" height=\\\"1600\\\"\\/>\\n  <\\/clipPath>\\n<\\/defs>\\n<polygon clip-path=\\\"url(#clip2701)\\\" points=\\\"\\n149.361,972.127 2081.26,972.127 2081.26,578.592 149.361,578.592 \\n  \\\" fill=\\\"#ffffff\\\" fill-rule=\\\"evenodd\\\" fill-opacity=\\\"1\\\"\\/>\\n<defs>\\n  <clipPath id=\\\"clip2703\\\">\\n    <rect x=\\\"149\\\" y=\\\"578\\\" width=\\\"1933\\\" height=\\\"395\\\"\\/>\\n  <\\/clipPath>\\n<\\/defs>\\n<polyline clip-path=\\\"url(#clip2703)\\\" style=\\\"stroke:#000000; stroke-width:2; stroke-opacity:0.1; fill:none\\\" points=\\\"\\n  256.688,972.127 256.688,578.592 \\n  \\\"\\/>\\n<polyline clip-path=\\\"url(#clip2703)\\\" style=\\\"stroke:#000000; stroke-width:2; stroke-opacity:0.1; fill:none\\\" points=\\\"\\n  614.447,972.127 614.447,578.592 \\n  \\\"\\/>\\n<polyline clip-path=\\\"url(#clip2703)\\\" style=\\\"stroke:#000000; stroke-width:2; stroke-opacity:0.1; fill:none\\\" points=\\\"\\n  972.207,972.127 972.207,578.592 \\n  \\\"\\/>\\n<polyline clip-path=\\\"url(#clip2703)\\\" style=\\\"stroke:#000000; stroke-width:2; stroke-opacity:0.1; fill:none\\\" points=\\\"\\n  1329.97,972.127 1329.97,578.592 \\n  \\\"\\/>\\n<polyline clip-path=\\\"url(#clip2703)\\\" style=\\\"stroke:#000000; stroke-width:2; stroke-opacity:0.1; fill:none\\\" points=\\\"\\n  1687.72,972.127 1687.72,578.592 \\n  \\\"\\/>\\n<polyline clip-path=\\\"url(#clip2703)\\\" style=\\\"stroke:#000000; stroke-width:2; stroke-opacity:0.1; fill:none\\\" points=\\\"\\n  2045.48,972.127 2045.48,578.592 \\n  \\\"\\/>\\n<polyline clip-path=\\\"url(#clip2703)\\\" style=\\\"stroke:#000000; stroke-width:2; stroke-opacity:0.1; fill:none\\\" points=\\\"\\n  149.361,918.463 2081.26,918.463 \\n  \\\"\\/>\\n<polyline clip-path=\\\"url(#clip2703)\\\" style=\\\"stroke:#000000; stroke-width:2; stroke-opacity:0.1; fill:none\\\" points=\\\"\\n  149.361,846.911 2081.26,846.911 \\n  \\\"\\/>\\n<polyline clip-path=\\\"url(#clip2703)\\\" style=\\\"stroke:#000000; stroke-width:2; stroke-opacity:0.1; fill:none\\\" points=\\\"\\n  149.361,775.359 2081.26,775.359 \\n  \\\"\\/>\\n<polyline clip-path=\\\"url(#clip2703)\\\" style=\\\"stroke:#000000; stroke-width:2; stroke-opacity:0.1; fill:none\\\" points=\\\"\\n  149.361,703.808 2081.26,703.808 \\n  \\\"\\/>\\n<polyline clip-path=\\\"url(#clip2703)\\\" style=\\\"stroke:#000000; stroke-width:2; stroke-opacity:0.1; fill:none\\\" points=\\\"\\n  149.361,632.256 2081.26,632.256 \\n  \\\"\\/>\\n<polyline clip-path=\\\"url(#clip2701)\\\" style=\\\"stroke:#000000; stroke-width:4; stroke-opacity:1; fill:none\\\" points=\\\"\\n  149.361,972.127 2081.26,972.127 \\n  \\\"\\/>\\n<polyline clip-path=\\\"url(#clip2701)\\\" style=\\\"stroke:#000000; stroke-width:4; stroke-opacity:1; fill:none\\\" points=\\\"\\n  149.361,972.127 149.361,578.592 \\n  \\\"\\/>\\n<polyline clip-path=\\\"url(#clip2701)\\\" style=\\\"stroke:#000000; stroke-width:4; stroke-opacity:1; fill:none\\\" points=\\\"\\n  256.688,972.127 256.688,966.224 \\n  \\\"\\/>\\n<polyline clip-path=\\\"url(#clip2701)\\\" style=\\\"stroke:#000000; stroke-width:4; stroke-opacity:1; fill:none\\\" points=\\\"\\n  614.447,972.127 614.447,966.224 \\n  \\\"\\/>\\n<polyline clip-path=\\\"url(#clip2701)\\\" style=\\\"stroke:#000000; stroke-width:4; stroke-opacity:1; fill:none\\\" points=\\\"\\n  972.207,972.127 972.207,966.224 \\n  \\\"\\/>\\n<polyline clip-path=\\\"url(#clip2701)\\\" style=\\\"stroke:#000000; stroke-width:4; stroke-opacity:1; fill:none\\\" points=\\\"\\n  1329.97,972.127 1329.97,966.224 \\n  \\\"\\/>\\n<polyline clip-path=\\\"url(#clip2701)\\\" style=\\\"stroke:#000000; stroke-width:4; stroke-opacity:1; fill:none\\\" points=\\\"\\n  1687.72,972.127 1687.72,966.224 \\n  \\\"\\/>\\n<polyline clip-path=\\\"url(#clip2701)\\\" style=\\\"stroke:#000000; stroke-width:4; stroke-opacity:1; fill:none\\\" points=\\\"\\n  2045.48,972.127 2045.48,966.224 \\n  \\\"\\/>\\n<polyline clip-path=\\\"url(#clip2701)\\\" style=\\\"stroke:#000000; stroke-width:4; stroke-opacity:1; fill:none\\\" points=\\\"\\n  149.361,918.463 178.339,918.463 \\n  \\\"\\/>\\n<polyline clip-path=\\\"url(#clip2701)\\\" style=\\\"stroke:#000000; stroke-width:4; stroke-opacity:1; fill:none\\\" points=\\\"\\n  149.361,846.911 178.339,846.911 \\n  \\\"\\/>\\n<polyline clip-path=\\\"url(#clip2701)\\\" style=\\\"stroke:#000000; stroke-width:4; stroke-opacity:1; fill:none\\\" points=\\\"\\n  149.361,775.359 178.339,775.359 \\n  \\\"\\/>\\n<polyline clip-path=\\\"url(#clip2701)\\\" style=\\\"stroke:#000000; stroke-width:4; stroke-opacity:1; fill:none\\\" points=\\\"\\n  149.361,703.808 178.339,703.808 \\n  \\\"\\/>\\n<polyline clip-path=\\\"url(#clip2701)\\\" style=\\\"stroke:#000000; stroke-width:4; stroke-opacity:1; fill:none\\\" points=\\\"\\n  149.361,632.256 178.339,632.256 \\n  \\\"\\/>\\n<g clip-path=\\\"url(#clip2701)\\\">\\n<text style=\\\"fill:#000000; fill-opacity:1; font-family:Arial,Helvetica Neue,Helvetica,sans-serif; font-size:48px; text-anchor:middle;\\\" transform=\\\"rotate(0, 256.688, 1026.13)\\\" x=\\\"256.688\\\" y=\\\"1026.13\\\">0<\\/text>\\n<\\/g>\\n<g clip-path=\\\"url(#clip2701)\\\">\\n<text style=\\\"fill:#000000; fill-opacity:1; font-family:Arial,Helvetica Neue,Helvetica,sans-serif; font-size:48px; text-anchor:middle;\\\" transform=\\\"rotate(0, 614.447, 1026.13)\\\" x=\\\"614.447\\\" y=\\\"1026.13\\\">10<\\/text>\\n<\\/g>\\n<g clip-path=\\\"url(#clip2701)\\\">\\n<text style=\\\"fill:#000000; fill-opacity:1; font-family:Arial,Helvetica Neue,Helvetica,sans-serif; font-size:48px; text-anchor:middle;\\\" transform=\\\"rotate(0, 972.207, 1026.13)\\\" x=\\\"972.207\\\" y=\\\"1026.13\\\">20<\\/text>\\n<\\/g>\\n<g clip-path=\\\"url(#clip2701)\\\">\\n<text style=\\\"fill:#000000; fill-opacity:1; font-family:Arial,Helvetica Neue,Helvetica,sans-serif; font-size:48px; text-anchor:middle;\\\" transform=\\\"rotate(0, 1329.97, 1026.13)\\\" x=\\\"1329.97\\\" y=\\\"1026.13\\\">30<\\/text>\\n<\\/g>\\n<g clip-path=\\\"url(#clip2701)\\\">\\n<text style=\\\"fill:#000000; fill-opacity:1; font-family:Arial,Helvetica Neue,Helvetica,sans-serif; font-size:48px; text-anchor:middle;\\\" transform=\\\"rotate(0, 1687.72, 1026.13)\\\" x=\\\"1687.72\\\" y=\\\"1026.13\\\">40<\\/text>\\n<\\/g>\\n<g clip-path=\\\"url(#clip2701)\\\">\\n<text style=\\\"fill:#000000; fill-opacity:1; font-family:Arial,Helvetica Neue,Helvetica,sans-serif; font-size:48px; text-anchor:middle;\\\" transform=\\\"rotate(0, 2045.48, 1026.13)\\\" x=\\\"2045.48\\\" y=\\\"1026.13\\\">50<\\/text>\\n<\\/g>\\n<g clip-path=\\\"url(#clip2701)\\\">\\n<text style=\\\"fill:#000000; fill-opacity:1; font-family:Arial,Helvetica Neue,Helvetica,sans-serif; font-size:48px; text-anchor:end;\\\" transform=\\\"rotate(0, 125.361, 935.963)\\\" x=\\\"125.361\\\" y=\\\"935.963\\\">-4<\\/text>\\n<\\/g>\\n<g clip-path=\\\"url(#clip2701)\\\">\\n<text style=\\\"fill:#000000; fill-opacity:1; font-family:Arial,Helvetica Neue,Helvetica,sans-serif; font-size:48px; text-anchor:end;\\\" transform=\\\"rotate(0, 125.361, 864.411)\\\" x=\\\"125.361\\\" y=\\\"864.411\\\">-2<\\/text>\\n<\\/g>\\n<g clip-path=\\\"url(#clip2701)\\\">\\n<text style=\\\"fill:#000000; fill-opacity:1; font-family:Arial,Helvetica Neue,Helvetica,sans-serif; font-size:48px; text-anchor:end;\\\" transform=\\\"rotate(0, 125.361, 792.859)\\\" x=\\\"125.361\\\" y=\\\"792.859\\\">0<\\/text>\\n<\\/g>\\n<g clip-path=\\\"url(#clip2701)\\\">\\n<text style=\\\"fill:#000000; fill-opacity:1; font-family:Arial,Helvetica Neue,Helvetica,sans-serif; font-size:48px; text-anchor:end;\\\" transform=\\\"rotate(0, 125.361, 721.308)\\\" x=\\\"125.361\\\" y=\\\"721.308\\\">2<\\/text>\\n<\\/g>\\n<g clip-path=\\\"url(#clip2701)\\\">\\n<text style=\\\"fill:#000000; fill-opacity:1; font-family:Arial,Helvetica Neue,Helvetica,sans-serif; font-size:48px; text-anchor:end;\\\" transform=\\\"rotate(0, 125.361, 649.756)\\\" x=\\\"125.361\\\" y=\\\"649.756\\\">4<\\/text>\\n<\\/g>\\n<g clip-path=\\\"url(#clip2703)\\\">\\n<image width=\\\"1932\\\" height=\\\"394\\\" xlink:href=\\\"data:image\\/png;base64,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\\n\\\" transform=\\\"translate(149, 579)\\\"\\/>\\n<\\/g>\\n<defs>\\n  <clipPath id=\\\"clip2704\\\">\\n    <rect x=\\\"2129\\\" y=\\\"578\\\" width=\\\"73\\\" height=\\\"395\\\"\\/>\\n  <\\/clipPath>\\n<\\/defs>\\n<g clip-path=\\\"url(#clip2704)\\\">\\n<image width=\\\"72\\\" height=\\\"394\\\" xlink:href=\\\"data:image\\/png;base64,\\niVBORw0KGgoAAAANSUhEUgAAAEgAAAGKCAYAAACvugdMAAAEEElEQVR4nO3dwbEjNwxAQcqF\\/KNw\\nlvaSjsB4R+nQHYGKhQfOSL92P\\/\\/ev9\\/hf\\/317Q\\/w6+a+f7\\/9GX6aCQrzTNBq3nVAG4kFiQUHFCQW\\nTFBwiwWJBYkFBxQkFuZY0isHFCQW5ljSKxMU7KDggILEwpz7z7c\\/w09ziwWJBUs6OKAgsTCf9+fb\\nn+GnzbkOaCOxMB8TtJJYkFiY4xZb2UFBYsGSDiYo2EFBYkFiYT73fvsz\\/DSJBYkFExRc80FiYY5b\\nbCWxILHgFgsOKEgseBcLrvkgsWBJBxMU7KDggILEgueg4BYLEguWdHBAQWLBBIU5178SuJFYmPMk\\ntrGDgsSCJR0kFiQWTFAwQcGSDhILEgtzDNDKAQWJhfEyv5NYkFgwQcEBBYmFOV7FVvPu59uf4adJ\\nLFjSYY7EVhIL854J2pigYAcFBxQkFizpILEgsTDnOqONHRSMT7Ckgy\\/MgsTCnOeMNhILxieYoOBJ\\nOjid4FUjmKDgVSPMs6RXTidY0sEOChILlnSwg4LxCd7mwzzfKK6cTvAcFOygILHgOSh4kg5OJ0gs\\nmKDgmg8SCxILrvkgsWB8glssSCxILLjFgsSC8QkmKDigILHgQTHM9cvqyukESzqYoGBJB4kFiQUT\\nFBxQkFgwQWGuA1pJLEgsOKAgsWCCggMKEgsmKHhQDBILEgsmKJig4IfD4HSCxILnoCCxILEgsSCx\\nILHggILEgiUd5h0HtJFYkFhwiwWJhbn+p96VCQp2UHCLBYmFuZ6kV3ZQkFiwpIPEgsTC3G9\\/gh8n\\nsSCx4BYLvpMOEgsSCyYo+Mo1WNJBYsGTdPAuFiQWJBYkFiQWJBa8iwWJhfEqtpNYkFiQWJBYkFiQ\\nWDBBwQ4KvrQPEgt+1QgSCxIL\\/k46zJPYSmLBg2LwLhYkFjwHBdd8kFjwHBT88UKQWPCgGExQsKSD\\nJR0kFiQWvGoEiQVv88EXZkFiQWLBAQWJBX+8ECQWJBY8BwWJBYkFExRMULCkg8SCxIJfNYIv7YPE\\ngiUdXPNBYkFiYd5xQhuJBYkFt1iQWJBYkFiQWJBYMEHB90FhrleNlcSCxILEgsSCn33CPEtoJbEg\\nseBdLEgs+FUjSCxILHjVCHZQkFiQWDBBwQSFud7mVxILrvlgBwWJBRMUHFCQWJh3fCu9kViQWJj7\\nkdhmrh20klgwQcE1HyQW5n48B21MULCkgwMKEguu+TD3\\/Pn2Z\\/hpEguWdJgnsZXEgsSCAwoSC5Z0\\nkFiQWJBY8LIaJBbmPhO0MUHBDgrzJLaSWJBY8KAYJBY8BwU7KEgseA4KbrEgsSCx4BYLEgsSC26x\\nILEgsWCCgms+zHuW9EZiQWJhjn8eZyWxMEdiKw+KQWJBYsE1HyQW5ljSK4kFiQW3WPgPSFToI7dW\\nfGQAAAAASUVORK5CYII=\\n\\\" transform=\\\"translate(2129, 579)\\\"\\/>\\n<\\/g>\\n<g clip-path=\\\"url(#clip2701)\\\">\\n<text style=\\\"fill:#000000; fill-opacity:1; font-family:Arial,Helvetica Neue,Helvetica,sans-serif; font-size:48px; text-anchor:start;\\\" transform=\\\"rotate(0, 2237.26, 985.778)\\\" x=\\\"2237.26\\\" y=\\\"985.778\\\">-<\\/text>\\n<\\/g>\\n<g clip-path=\\\"url(#clip2701)\\\">\\n<text style=\\\"fill:#000000; fill-opacity:1; font-family:Arial,Helvetica Neue,Helvetica,sans-serif; font-size:48px; text-anchor:start;\\\" transform=\\\"rotate(0, 2265.37, 985.778)\\\" x=\\\"2265.37\\\" y=\\\"985.778\\\">0.100<\\/text>\\n<\\/g>\\n<g clip-path=\\\"url(#clip2701)\\\">\\n<text style=\\\"fill:#000000; fill-opacity:1; font-family:Arial,Helvetica Neue,Helvetica,sans-serif; font-size:48px; text-anchor:start;\\\" transform=\\\"rotate(0, 2237.26, 936.586)\\\" x=\\\"2237.26\\\" y=\\\"936.586\\\">-<\\/text>\\n<\\/g>\\n<g clip-path=\\\"url(#clip2701)\\\">\\n<text style=\\\"fill:#000000; fill-opacity:1; font-family:Arial,Helvetica Neue,Helvetica,sans-serif; font-size:48px; text-anchor:start;\\\" transform=\\\"rotate(0, 2265.37, 936.586)\\\" x=\\\"2265.37\\\" y=\\\"936.586\\\">0.075<\\/text>\\n<\\/g>\\n<g clip-path=\\\"url(#clip2701)\\\">\\n<text style=\\\"fill:#000000; fill-opacity:1; font-family:Arial,Helvetica Neue,Helvetica,sans-serif; font-size:48px; text-anchor:start;\\\" transform=\\\"rotate(0, 2237.26, 887.394)\\\" x=\\\"2237.26\\\" y=\\\"887.394\\\">-<\\/text>\\n<\\/g>\\n<g clip-path=\\\"url(#clip2701)\\\">\\n<text style=\\\"fill:#000000; fill-opacity:1; font-family:Arial,Helvetica Neue,Helvetica,sans-serif; font-size:48px; text-anchor:start;\\\" transform=\\\"rotate(0, 2265.37, 887.394)\\\" x=\\\"2265.37\\\" y=\\\"887.394\\\">0.050<\\/text>\\n<\\/g>\\n<g clip-path=\\\"url(#clip2701)\\\">\\n<text style=\\\"fill:#000000; fill-opacity:1; font-family:Arial,Helvetica Neue,Helvetica,sans-serif; font-size:48px; text-anchor:start;\\\" transform=\\\"rotate(0, 2237.26, 838.202)\\\" x=\\\"2237.26\\\" y=\\\"838.202\\\">-<\\/text>\\n<\\/g>\\n<g clip-path=\\\"url(#clip2701)\\\">\\n<text style=\\\"fill:#000000; fill-opacity:1; font-family:Arial,Helvetica Neue,Helvetica,sans-serif; font-size:48px; text-anchor:start;\\\" transform=\\\"rotate(0, 2265.37, 838.202)\\\" x=\\\"2265.37\\\" y=\\\"838.202\\\">0.025<\\/text>\\n<\\/g>\\n<g clip-path=\\\"url(#clip2701)\\\">\\n<text style=\\\"fill:#000000; fill-opacity:1; font-family:Arial,Helvetica Neue,Helvetica,sans-serif; font-size:48px; text-anchor:start;\\\" transform=\\\"rotate(0, 2237.26, 789.011)\\\" x=\\\"2237.26\\\" y=\\\"789.011\\\">0<\\/text>\\n<\\/g>\\n<g clip-path=\\\"url(#clip2701)\\\">\\n<text style=\\\"fill:#000000; fill-opacity:1; font-family:Arial,Helvetica Neue,Helvetica,sans-serif; font-size:48px; text-anchor:start;\\\" transform=\\\"rotate(0, 2237.26, 739.819)\\\" x=\\\"2237.26\\\" y=\\\"739.819\\\">0.025<\\/text>\\n<\\/g>\\n<g clip-path=\\\"url(#clip2701)\\\">\\n<text style=\\\"fill:#000000; fill-opacity:1; font-family:Arial,Helvetica Neue,Helvetica,sans-serif; font-size:48px; text-anchor:start;\\\" transform=\\\"rotate(0, 2237.26, 690.627)\\\" x=\\\"2237.26\\\" y=\\\"690.627\\\">0.050<\\/text>\\n<\\/g>\\n<g clip-path=\\\"url(#clip2701)\\\">\\n<text style=\\\"fill:#000000; fill-opacity:1; font-family:Arial,Helvetica Neue,Helvetica,sans-serif; font-size:48px; text-anchor:start;\\\" transform=\\\"rotate(0, 2237.26, 641.435)\\\" x=\\\"2237.26\\\" y=\\\"641.435\\\">0.075<\\/text>\\n<\\/g>\\n<g clip-path=\\\"url(#clip2701)\\\">\\n<text style=\\\"fill:#000000; fill-opacity:1; font-family:Arial,Helvetica Neue,Helvetica,sans-serif; font-size:48px; text-anchor:start;\\\" transform=\\\"rotate(0, 2237.26, 592.243)\\\" x=\\\"2237.26\\\" y=\\\"592.243\\\">0.100<\\/text>\\n<\\/g>\\n<polyline clip-path=\\\"url(#clip2701)\\\" style=\\\"stroke:#000000; stroke-width:4; stroke-opacity:1; fill:none\\\" points=\\\"\\n  2201.26,972.127 2201.26,972.127 2225.26,972.127 2201.26,972.127 2201.26,922.935 2225.26,922.935 2201.26,922.935 2201.26,873.743 2225.26,873.743 2201.26,873.743 \\n  2201.26,824.551 2225.26,824.551 2201.26,824.551 2201.26,775.359 2225.26,775.359 2201.26,775.359 2201.26,726.168 2225.26,726.168 2201.26,726.168 2201.26,676.976 \\n  2225.26,676.976 2201.26,676.976 2201.26,627.784 2225.26,627.784 2201.26,627.784 2201.26,578.592 2225.26,578.592 2201.26,578.592 \\n  \\\"\\/>\\n<g clip-path=\\\"url(#clip2701)\\\">\\n<text style=\\\"fill:#000000; fill-opacity:1; font-family:Arial,Helvetica Neue,Helvetica,sans-serif; font-size:66px; text-anchor:middle;\\\" transform=\\\"rotate(-90, 2378.86, 775.359)\\\" x=\\\"2378.86\\\" y=\\\"775.359\\\"><\\/text>\\n<\\/g>\\n<\\/svg>\\n\"},\"nodeType\":\"DOM\",\"type\":\"node\",\"instanceArgs\":{\"namespace\":\"html\",\"tag\":\"div\"},\"children\":[]}]}}}},\"children\":[{\"props\":{},\"nodeType\":\"ObservableNode\",\"type\":\"node\",\"instanceArgs\":{\"id\":\"ob_16\",\"name\":\"obs-node\"},\"children\":[]}]}]}}}},\"children\":[{\"props\":{},\"nodeType\":\"ObservableNode\",\"type\":\"node\",\"instanceArgs\":{\"id\":\"ob_15\",\"name\":\"obs-scope\"},\"children\":[]}]}]},\n",
       "        );\n",
       "    } else {\n",
       "        document\n",
       "            .querySelector('[data-webio-mountpoint=\"6234244169249663848\"]')\n",
       "            .innerHTML = '<strong>WebIO not detected.</strong>';\n",
       "    }\n",
       "    </script>\n",
       "</div>\n"
      ],
      "text/plain": [
       "Widget{:manipulate,Any}(OrderedDict{Symbol,Any}(:ego_v=>Widget{:slider,Float64}(OrderedDict{Symbol,Any}(:changes=>Observable{Int64} with 1 listeners. Value:\n",
       "0,:index=>Observable{Any} with 2 listeners. Value:\n",
       "15,:formatted_vals=>Observable{Any} with 1 listeners. Value:\n",
       "[\"0.0\", \"0.5\", \"1.0\", \"1.5\", \"2.0\", \"2.5\", \"3.0\", \"3.5\", \"4.0\", \"4.5\"  …  \"9.5\", \"10.0\", \"10.5\", \"11.0\", \"11.5\", \"12.0\", \"12.5\", \"13.0\", \"13.5\", \"14.0\"],:formatted_value=>Observable{String} with 1 listeners. Value:\n",
       "\"7.0\",:value=>Observable{Float64} with 2 listeners. Value:\n",
       "7.0), Observable{Float64} with 2 listeners. Value:\n",
       "7.0, Scope(\"knockout-component-59964e2d-46af-4300-a619-15e32871c075\", Node{DOM}(DOM(:html, :div), Any[Node{DOM}(DOM(:html, :div), Any[Node{DOM}(DOM(:html, :label), Any[\"ego_v\"], Dict{Symbol,Any}(:className=>\"interact \",:style=>Dict{Any,Any}(:padding=>\"5px 10px 0px 10px\")), 1)], Dict{Symbol,Any}(:attributes=>Dict(\"style\"=>\"text-align:right;width:18%\")), 2), Node{DOM}(DOM(:html, :div), Any[Node{DOM}(DOM(:html, :input), Any[], Dict{Symbol,Any}(:max=>29,:min=>1,:attributes=>Dict{Any,Any}(:type=>\"range\",Symbol(\"data-bind\")=>\"numericValue: index, valueUpdate: 'input', event: {change : function () {this.changes(this.changes()+1)}}\",\"orient\"=>\"horizontal\"),:step=>1,:className=>\"slider slider is-fullwidth\",:style=>Dict{Any,Any}()), 0)], Dict{Symbol,Any}(:attributes=>Dict(\"style\"=>\"flex-grow:1; margin: 0 2%\")), 1), Node{DOM}(DOM(:html, :div), Any[Node{DOM}(DOM(:html, :p), Any[], Dict{Symbol,Any}(:attributes=>Dict(\"data-bind\"=>\"text: formatted_value\")), 0)], Dict{Symbol,Any}(:attributes=>Dict(\"style\"=>\"width:18%\")), 1)], Dict{Symbol,Any}(:attributes=>Dict(\"style\"=>\"display:flex; justify-content:center; align-items:center;\")), 7), Dict{String,Tuple{Observables.AbstractObservable,Union{Nothing, Bool}}}(\"formatted_vals\"=>(Observable{Any} with 1 listeners. Value:\n",
       "[\"0.0\", \"0.5\", \"1.0\", \"1.5\", \"2.0\", \"2.5\", \"3.0\", \"3.5\", \"4.0\", \"4.5\"  …  \"9.5\", \"10.0\", \"10.5\", \"11.0\", \"11.5\", \"12.0\", \"12.5\", \"13.0\", \"13.5\", \"14.0\"], nothing),\"changes\"=>(Observable{Int64} with 1 listeners. Value:\n",
       "0, nothing),\"formatted_value\"=>(Observable{String} with 1 listeners. Value:\n",
       "\"7.0\", nothing),\"index\"=>(Observable{Any} with 2 listeners. Value:\n",
       "15, nothing)), Set(String[]), nothing, Any[\"knockout\"=>\"C:\\\\Users\\\\Maxime\\\\.julia\\\\packages\\\\Knockout\\\\JIqpG\\\\src\\\\..\\\\assets\\\\knockout.js\", \"knockout_punches\"=>\"C:\\\\Users\\\\Maxime\\\\.julia\\\\packages\\\\Knockout\\\\JIqpG\\\\src\\\\..\\\\assets\\\\knockout_punches.js\", \"C:\\\\Users\\\\Maxime\\\\.julia\\\\packages\\\\InteractBase\\\\Q4IkI\\\\src\\\\..\\\\assets\\\\all.js\", \"C:\\\\Users\\\\Maxime\\\\.julia\\\\packages\\\\InteractBase\\\\Q4IkI\\\\src\\\\..\\\\assets\\\\style.css\", \"C:\\\\Users\\\\Maxime\\\\.julia\\\\packages\\\\InteractBulma\\\\Ohu5Y\\\\src\\\\..\\\\assets\\\\main.css\"], Dict{Any,Any}(\"formatted_vals\"=>Any[JSString(\"(function (val){return (val!=this.model[\\\"formatted_vals\\\"]()) ? (this.valueFromJulia[\\\"formatted_vals\\\"]=true, this.model[\\\"formatted_vals\\\"](val)) : undefined})\")],\"_promises\"=>Dict{Any,Any}(\"importsLoaded\"=>Any[JSString(\"function (ko, koPunches) {\\n    ko.punches.enableAll();\\n    ko.bindingHandlers.numericValue = {\\n        init : function(element, valueAccessor, allBindings, data, context) {\\n            var stringified = ko.observable(ko.unwrap(valueAccessor()));\\n            stringified.subscribe(function(value) {\\n                var val = parseFloat(value);\\n                if (!isNaN(val)) {\\n                    valueAccessor()(val);\\n                }\\n            })\\n            valueAccessor().subscribe(function(value) {\\n                var str = JSON.stringify(value);\\n                if ((str == \\\"0\\\") && ([\\\"-0\\\", \\\"-0.\\\"].indexOf(stringified()) >= 0))\\n                     return;\\n                 if ([\\\"null\\\", \\\"\\\"].indexOf(str) >= 0)\\n                     return;\\n                stringified(str);\\n            })\\n            ko.applyBindingsToNode(element, { value: stringified, valueUpdate: allBindings.get('valueUpdate')}, context);\\n        }\\n    };\\n    var json_data = JSON.parse(\\\"{\\\\\\\"formatted_vals\\\\\\\":[\\\\\\\"0.0\\\\\\\",\\\\\\\"0.5\\\\\\\",\\\\\\\"1.0\\\\\\\",\\\\\\\"1.5\\\\\\\",\\\\\\\"2.0\\\\\\\",\\\\\\\"2.5\\\\\\\",\\\\\\\"3.0\\\\\\\",\\\\\\\"3.5\\\\\\\",\\\\\\\"4.0\\\\\\\",\\\\\\\"4.5\\\\\\\",\\\\\\\"5.0\\\\\\\",\\\\\\\"5.5\\\\\\\",\\\\\\\"6.0\\\\\\\",\\\\\\\"6.5\\\\\\\",\\\\\\\"7.0\\\\\\\",\\\\\\\"7.5\\\\\\\",\\\\\\\"8.0\\\\\\\",\\\\\\\"8.5\\\\\\\",\\\\\\\"9.0\\\\\\\",\\\\\\\"9.5\\\\\\\",\\\\\\\"10.0\\\\\\\",\\\\\\\"10.5\\\\\\\",\\\\\\\"11.0\\\\\\\",\\\\\\\"11.5\\\\\\\",\\\\\\\"12.0\\\\\\\",\\\\\\\"12.5\\\\\\\",\\\\\\\"13.0\\\\\\\",\\\\\\\"13.5\\\\\\\",\\\\\\\"14.0\\\\\\\"],\\\\\\\"changes\\\\\\\":0,\\\\\\\"formatted_value\\\\\\\":\\\\\\\"7.0\\\\\\\",\\\\\\\"index\\\\\\\":15}\\\");\\n    var self = this;\\n    function AppViewModel() {\\n        for (var key in json_data) {\\n            var el = json_data[key];\\n            this[key] = Array.isArray(el) ? ko.observableArray(el) : ko.observable(el);\\n        }\\n        \\n        \\n        [this[\\\"formatted_vals\\\"].subscribe((function (val){!(this.valueFromJulia[\\\"formatted_vals\\\"]) ? (_webIOScope.setObservableValue({\\\"name\\\":\\\"formatted_vals\\\",\\\"scope\\\":\\\"knockout-component-59964e2d-46af-4300-a619-15e32871c075\\\",\\\"id\\\":\\\"ob_03\\\",\\\"type\\\":\\\"observable\\\"},val)) : undefined; return this.valueFromJulia[\\\"formatted_vals\\\"]=false}),self),this[\\\"changes\\\"].subscribe((function (val){!(this.valueFromJulia[\\\"changes\\\"]) ? (_webIOScope.setObservableValue({\\\"name\\\":\\\"changes\\\",\\\"scope\\\":\\\"knockout-component-59964e2d-46af-4300-a619-15e32871c075\\\",\\\"id\\\":\\\"ob_05\\\",\\\"type\\\":\\\"observable\\\"},val)) : undefined; return this.valueFromJulia[\\\"changes\\\"]=false}),self),this[\\\"formatted_value\\\"].subscribe((function (val){!(this.valueFromJulia[\\\"formatted_value\\\"]) ? (_webIOScope.setObservableValue({\\\"name\\\":\\\"formatted_value\\\",\\\"scope\\\":\\\"knockout-component-59964e2d-46af-4300-a619-15e32871c075\\\",\\\"id\\\":\\\"ob_04\\\",\\\"type\\\":\\\"observable\\\"},val)) : undefined; return this.valueFromJulia[\\\"formatted_value\\\"]=false}),self),this[\\\"index\\\"].subscribe((function (val){!(this.valueFromJulia[\\\"index\\\"]) ? (_webIOScope.setObservableValue({\\\"name\\\":\\\"index\\\",\\\"scope\\\":\\\"knockout-component-59964e2d-46af-4300-a619-15e32871c075\\\",\\\"id\\\":\\\"ob_02\\\",\\\"type\\\":\\\"observable\\\"},val)) : undefined; return this.valueFromJulia[\\\"index\\\"]=false}),self)]\\n        \\n    }\\n    self.model = new AppViewModel();\\n    self.valueFromJulia = {};\\n    for (var key in json_data) {\\n        self.valueFromJulia[key] = false;\\n    }\\n    ko.applyBindings(self.model, self.dom);\\n}\\n\")]),\"changes\"=>Any[JSString(\"(function (val){return (val!=this.model[\\\"changes\\\"]()) ? (this.valueFromJulia[\\\"changes\\\"]=true, this.model[\\\"changes\\\"](val)) : undefined})\")],\"formatted_value\"=>Any[JSString(\"(function (val){return (val!=this.model[\\\"formatted_value\\\"]()) ? (this.valueFromJulia[\\\"formatted_value\\\"]=true, this.model[\\\"formatted_value\\\"](val)) : undefined})\")],\"index\"=>Any[JSString(\"(function (val){return (val!=this.model[\\\"index\\\"]()) ? (this.valueFromJulia[\\\"index\\\"]=true, this.model[\\\"index\\\"](val)) : undefined})\"), JSString(\"(function (val){return _webIOScope.setObservableValue({\\\"name\\\":\\\"formatted_value\\\",\\\"scope\\\":\\\"knockout-component-59964e2d-46af-4300-a619-15e32871c075\\\",\\\"id\\\":\\\"ob_04\\\",\\\"type\\\":\\\"observable\\\"},_webIOScope.getObservableValue({\\\"name\\\":\\\"formatted_vals\\\",\\\"scope\\\":\\\"knockout-component-59964e2d-46af-4300-a619-15e32871c075\\\",\\\"id\\\":\\\"ob_03\\\",\\\"type\\\":\\\"observable\\\"})[(_webIOScope.getObservableValue({\\\"name\\\":\\\"index\\\",\\\"scope\\\":\\\"knockout-component-59964e2d-46af-4300-a619-15e32871c075\\\",\\\"id\\\":\\\"ob_02\\\",\\\"type\\\":\\\"observable\\\"})-1)])})\")]), ConnectionPool(Channel{Any}(sz_max:9223372036854775807,sz_curr:0), Set(AbstractConnection[]), Channel{AbstractConnection}(sz_max:32,sz_curr:0))), ##52#53{#dom#13{##dom#11#12{Dict{Any,Any},DOM}},typeof(scope)}(#dom#13{##dom#11#12{Dict{Any,Any},DOM}}(##dom#11#12{Dict{Any,Any},DOM}(Dict{Any,Any}(:className=>\"field\"), DOM(:html, :div))), scope))), Observable{Any} with 0 listeners. Value:\n",
       "Widget{:manipulate,Any}(OrderedDict{Symbol,Any}(:ped_v=>Widget{:slider,Float64}(OrderedDict{Symbol,Any}(:changes=>Observable{Int64} with 1 listeners. Value:\n",
       "0,:index=>Observable{Any} with 2 listeners. Value:\n",
       "3,:formatted_vals=>Observable{Any} with 1 listeners. Value:\n",
       "[\"0.0\", \"0.5\", \"1.0\", \"1.5\", \"2.0\"],:formatted_value=>Observable{String} with 1 listeners. Value:\n",
       "\"1.0\",:value=>Observable{Float64} with 2 listeners. Value:\n",
       "1.0), Observable{Float64} with 2 listeners. Value:\n",
       "1.0, Scope(\"knockout-component-9b8c97d9-9ed8-4a70-be8f-0081e5ecbfde\", Node{DOM}(DOM(:html, :div), Any[Node{DOM}(DOM(:html, :div), Any[Node{DOM}(DOM(:html, :label), Any[\"ped_v\"], Dict{Symbol,Any}(:className=>\"interact \",:style=>Dict{Any,Any}(:padding=>\"5px 10px 0px 10px\")), 1)], Dict{Symbol,Any}(:attributes=>Dict(\"style\"=>\"text-align:right;width:18%\")), 2), Node{DOM}(DOM(:html, :div), Any[Node{DOM}(DOM(:html, :input), Any[], Dict{Symbol,Any}(:max=>5,:min=>1,:attributes=>Dict{Any,Any}(:type=>\"range\",Symbol(\"data-bind\")=>\"numericValue: index, valueUpdate: 'input', event: {change : function () {this.changes(this.changes()+1)}}\",\"orient\"=>\"horizontal\"),:step=>1,:className=>\"slider slider is-fullwidth\",:style=>Dict{Any,Any}()), 0)], Dict{Symbol,Any}(:attributes=>Dict(\"style\"=>\"flex-grow:1; margin: 0 2%\")), 1), Node{DOM}(DOM(:html, :div), Any[Node{DOM}(DOM(:html, :p), Any[], Dict{Symbol,Any}(:attributes=>Dict(\"data-bind\"=>\"text: formatted_value\")), 0)], Dict{Symbol,Any}(:attributes=>Dict(\"style\"=>\"width:18%\")), 1)], Dict{Symbol,Any}(:attributes=>Dict(\"style\"=>\"display:flex; justify-content:center; align-items:center;\")), 7), Dict{String,Tuple{Observables.AbstractObservable,Union{Nothing, Bool}}}(\"formatted_vals\"=>(Observable{Any} with 1 listeners. Value:\n",
       "[\"0.0\", \"0.5\", \"1.0\", \"1.5\", \"2.0\"], nothing),\"changes\"=>(Observable{Int64} with 1 listeners. Value:\n",
       "0, nothing),\"formatted_value\"=>(Observable{String} with 1 listeners. Value:\n",
       "\"1.0\", nothing),\"index\"=>(Observable{Any} with 2 listeners. Value:\n",
       "3, nothing)), Set(String[]), nothing, Any[\"knockout\"=>\"C:\\\\Users\\\\Maxime\\\\.julia\\\\packages\\\\Knockout\\\\JIqpG\\\\src\\\\..\\\\assets\\\\knockout.js\", \"knockout_punches\"=>\"C:\\\\Users\\\\Maxime\\\\.julia\\\\packages\\\\Knockout\\\\JIqpG\\\\src\\\\..\\\\assets\\\\knockout_punches.js\", \"C:\\\\Users\\\\Maxime\\\\.julia\\\\packages\\\\InteractBase\\\\Q4IkI\\\\src\\\\..\\\\assets\\\\all.js\", \"C:\\\\Users\\\\Maxime\\\\.julia\\\\packages\\\\InteractBase\\\\Q4IkI\\\\src\\\\..\\\\assets\\\\style.css\", \"C:\\\\Users\\\\Maxime\\\\.julia\\\\packages\\\\InteractBulma\\\\Ohu5Y\\\\src\\\\..\\\\assets\\\\main.css\"], Dict{Any,Any}(\"formatted_vals\"=>Any[JSString(\"(function (val){return (val!=this.model[\\\"formatted_vals\\\"]()) ? (this.valueFromJulia[\\\"formatted_vals\\\"]=true, this.model[\\\"formatted_vals\\\"](val)) : undefined})\")],\"_promises\"=>Dict{Any,Any}(\"importsLoaded\"=>Any[JSString(\"function (ko, koPunches) {\\n    ko.punches.enableAll();\\n    ko.bindingHandlers.numericValue = {\\n        init : function(element, valueAccessor, allBindings, data, context) {\\n            var stringified = ko.observable(ko.unwrap(valueAccessor()));\\n            stringified.subscribe(function(value) {\\n                var val = parseFloat(value);\\n                if (!isNaN(val)) {\\n                    valueAccessor()(val);\\n                }\\n            })\\n            valueAccessor().subscribe(function(value) {\\n                var str = JSON.stringify(value);\\n                if ((str == \\\"0\\\") && ([\\\"-0\\\", \\\"-0.\\\"].indexOf(stringified()) >= 0))\\n                     return;\\n                 if ([\\\"null\\\", \\\"\\\"].indexOf(str) >= 0)\\n                     return;\\n                stringified(str);\\n            })\\n            ko.applyBindingsToNode(element, { value: stringified, valueUpdate: allBindings.get('valueUpdate')}, context);\\n        }\\n    };\\n    var json_data = JSON.parse(\\\"{\\\\\\\"formatted_vals\\\\\\\":[\\\\\\\"0.0\\\\\\\",\\\\\\\"0.5\\\\\\\",\\\\\\\"1.0\\\\\\\",\\\\\\\"1.5\\\\\\\",\\\\\\\"2.0\\\\\\\"],\\\\\\\"changes\\\\\\\":0,\\\\\\\"formatted_value\\\\\\\":\\\\\\\"1.0\\\\\\\",\\\\\\\"index\\\\\\\":3}\\\");\\n    var self = this;\\n    function AppViewModel() {\\n        for (var key in json_data) {\\n            var el = json_data[key];\\n            this[key] = Array.isArray(el) ? ko.observableArray(el) : ko.observable(el);\\n        }\\n        \\n        \\n        [this[\\\"formatted_vals\\\"].subscribe((function (val){!(this.valueFromJulia[\\\"formatted_vals\\\"]) ? (_webIOScope.setObservableValue({\\\"name\\\":\\\"formatted_vals\\\",\\\"scope\\\":\\\"knockout-component-9b8c97d9-9ed8-4a70-be8f-0081e5ecbfde\\\",\\\"id\\\":\\\"ob_08\\\",\\\"type\\\":\\\"observable\\\"},val)) : undefined; return this.valueFromJulia[\\\"formatted_vals\\\"]=false}),self),this[\\\"changes\\\"].subscribe((function (val){!(this.valueFromJulia[\\\"changes\\\"]) ? (_webIOScope.setObservableValue({\\\"name\\\":\\\"changes\\\",\\\"scope\\\":\\\"knockout-component-9b8c97d9-9ed8-4a70-be8f-0081e5ecbfde\\\",\\\"id\\\":\\\"ob_10\\\",\\\"type\\\":\\\"observable\\\"},val)) : undefined; return this.valueFromJulia[\\\"changes\\\"]=false}),self),this[\\\"formatted_value\\\"].subscribe((function (val){!(this.valueFromJulia[\\\"formatted_value\\\"]) ? (_webIOScope.setObservableValue({\\\"name\\\":\\\"formatted_value\\\",\\\"scope\\\":\\\"knockout-component-9b8c97d9-9ed8-4a70-be8f-0081e5ecbfde\\\",\\\"id\\\":\\\"ob_09\\\",\\\"type\\\":\\\"observable\\\"},val)) : undefined; return this.valueFromJulia[\\\"formatted_value\\\"]=false}),self),this[\\\"index\\\"].subscribe((function (val){!(this.valueFromJulia[\\\"index\\\"]) ? (_webIOScope.setObservableValue({\\\"name\\\":\\\"index\\\",\\\"scope\\\":\\\"knockout-component-9b8c97d9-9ed8-4a70-be8f-0081e5ecbfde\\\",\\\"id\\\":\\\"ob_07\\\",\\\"type\\\":\\\"observable\\\"},val)) : undefined; return this.valueFromJulia[\\\"index\\\"]=false}),self)]\\n        \\n    }\\n    self.model = new AppViewModel();\\n    self.valueFromJulia = {};\\n    for (var key in json_data) {\\n        self.valueFromJulia[key] = false;\\n    }\\n    ko.applyBindings(self.model, self.dom);\\n}\\n\")]),\"changes\"=>Any[JSString(\"(function (val){return (val!=this.model[\\\"changes\\\"]()) ? (this.valueFromJulia[\\\"changes\\\"]=true, this.model[\\\"changes\\\"](val)) : undefined})\")],\"formatted_value\"=>Any[JSString(\"(function (val){return (val!=this.model[\\\"formatted_value\\\"]()) ? (this.valueFromJulia[\\\"formatted_value\\\"]=true, this.model[\\\"formatted_value\\\"](val)) : undefined})\")],\"index\"=>Any[JSString(\"(function (val){return (val!=this.model[\\\"index\\\"]()) ? (this.valueFromJulia[\\\"index\\\"]=true, this.model[\\\"index\\\"](val)) : undefined})\"), JSString(\"(function (val){return _webIOScope.setObservableValue({\\\"name\\\":\\\"formatted_value\\\",\\\"scope\\\":\\\"knockout-component-9b8c97d9-9ed8-4a70-be8f-0081e5ecbfde\\\",\\\"id\\\":\\\"ob_09\\\",\\\"type\\\":\\\"observable\\\"},_webIOScope.getObservableValue({\\\"name\\\":\\\"formatted_vals\\\",\\\"scope\\\":\\\"knockout-component-9b8c97d9-9ed8-4a70-be8f-0081e5ecbfde\\\",\\\"id\\\":\\\"ob_08\\\",\\\"type\\\":\\\"observable\\\"})[(_webIOScope.getObservableValue({\\\"name\\\":\\\"index\\\",\\\"scope\\\":\\\"knockout-component-9b8c97d9-9ed8-4a70-be8f-0081e5ecbfde\\\",\\\"id\\\":\\\"ob_07\\\",\\\"type\\\":\\\"observable\\\"})-1)])})\")]), ConnectionPool(Channel{Any}(sz_max:9223372036854775807,sz_curr:0), Set(AbstractConnection[]), Channel{AbstractConnection}(sz_max:32,sz_curr:0))), ##52#53{#dom#13{##dom#11#12{Dict{Any,Any},DOM}},typeof(scope)}(#dom#13{##dom#11#12{Dict{Any,Any},DOM}}(##dom#11#12{Dict{Any,Any},DOM}(Dict{Any,Any}(:className=>\"field\"), DOM(:html, :div))), scope))), Observable{Any} with 0 listeners. Value:\n",
       "Plot{Plots.GRBackend() n=1}, nothing, getfield(Main, Symbol(\"##23#29\")){Observable{Any}}(Observable{Any} with 0 listeners. Value:\n",
       "Plot{Plots.GRBackend() n=1})), nothing, getfield(Main, Symbol(\"##24#30\")){Observable{Any}}(Observable{Any} with 0 listeners. Value:\n",
       "Widget{:manipulate,Any}(OrderedDict{Symbol,Any}(:ped_v=>Widget{:slider,Float64}(OrderedDict{Symbol,Any}(:changes=>Observable{Int64} with 1 listeners. Value:\n",
       "0,:index=>Observable{Any} with 2 listeners. Value:\n",
       "3,:formatted_vals=>Observable{Any} with 1 listeners. Value:\n",
       "[\"0.0\", \"0.5\", \"1.0\", \"1.5\", \"2.0\"],:formatted_value=>Observable{String} with 1 listeners. Value:\n",
       "\"1.0\",:value=>Observable{Float64} with 2 listeners. Value:\n",
       "1.0), Observable{Float64} with 2 listeners. Value:\n",
       "1.0, Scope(\"knockout-component-9b8c97d9-9ed8-4a70-be8f-0081e5ecbfde\", Node{DOM}(DOM(:html, :div), Any[Node{DOM}(DOM(:html, :div), Any[Node{DOM}(DOM(:html, :label), Any[\"ped_v\"], Dict{Symbol,Any}(:className=>\"interact \",:style=>Dict{Any,Any}(:padding=>\"5px 10px 0px 10px\")), 1)], Dict{Symbol,Any}(:attributes=>Dict(\"style\"=>\"text-align:right;width:18%\")), 2), Node{DOM}(DOM(:html, :div), Any[Node{DOM}(DOM(:html, :input), Any[], Dict{Symbol,Any}(:max=>5,:min=>1,:attributes=>Dict{Any,Any}(:type=>\"range\",Symbol(\"data-bind\")=>\"numericValue: index, valueUpdate: 'input', event: {change : function () {this.changes(this.changes()+1)}}\",\"orient\"=>\"horizontal\"),:step=>1,:className=>\"slider slider is-fullwidth\",:style=>Dict{Any,Any}()), 0)], Dict{Symbol,Any}(:attributes=>Dict(\"style\"=>\"flex-grow:1; margin: 0 2%\")), 1), Node{DOM}(DOM(:html, :div), Any[Node{DOM}(DOM(:html, :p), Any[], Dict{Symbol,Any}(:attributes=>Dict(\"data-bind\"=>\"text: formatted_value\")), 0)], Dict{Symbol,Any}(:attributes=>Dict(\"style\"=>\"width:18%\")), 1)], Dict{Symbol,Any}(:attributes=>Dict(\"style\"=>\"display:flex; justify-content:center; align-items:center;\")), 7), Dict{String,Tuple{Observables.AbstractObservable,Union{Nothing, Bool}}}(\"formatted_vals\"=>(Observable{Any} with 1 listeners. Value:\n",
       "[\"0.0\", \"0.5\", \"1.0\", \"1.5\", \"2.0\"], nothing),\"changes\"=>(Observable{Int64} with 1 listeners. Value:\n",
       "0, nothing),\"formatted_value\"=>(Observable{String} with 1 listeners. Value:\n",
       "\"1.0\", nothing),\"index\"=>(Observable{Any} with 2 listeners. Value:\n",
       "3, nothing)), Set(String[]), nothing, Any[\"knockout\"=>\"C:\\\\Users\\\\Maxime\\\\.julia\\\\packages\\\\Knockout\\\\JIqpG\\\\src\\\\..\\\\assets\\\\knockout.js\", \"knockout_punches\"=>\"C:\\\\Users\\\\Maxime\\\\.julia\\\\packages\\\\Knockout\\\\JIqpG\\\\src\\\\..\\\\assets\\\\knockout_punches.js\", \"C:\\\\Users\\\\Maxime\\\\.julia\\\\packages\\\\InteractBase\\\\Q4IkI\\\\src\\\\..\\\\assets\\\\all.js\", \"C:\\\\Users\\\\Maxime\\\\.julia\\\\packages\\\\InteractBase\\\\Q4IkI\\\\src\\\\..\\\\assets\\\\style.css\", \"C:\\\\Users\\\\Maxime\\\\.julia\\\\packages\\\\InteractBulma\\\\Ohu5Y\\\\src\\\\..\\\\assets\\\\main.css\"], Dict{Any,Any}(\"formatted_vals\"=>Any[JSString(\"(function (val){return (val!=this.model[\\\"formatted_vals\\\"]()) ? (this.valueFromJulia[\\\"formatted_vals\\\"]=true, this.model[\\\"formatted_vals\\\"](val)) : undefined})\")],\"_promises\"=>Dict{Any,Any}(\"importsLoaded\"=>Any[JSString(\"function (ko, koPunches) {\\n    ko.punches.enableAll();\\n    ko.bindingHandlers.numericValue = {\\n        init : function(element, valueAccessor, allBindings, data, context) {\\n            var stringified = ko.observable(ko.unwrap(valueAccessor()));\\n            stringified.subscribe(function(value) {\\n                var val = parseFloat(value);\\n                if (!isNaN(val)) {\\n                    valueAccessor()(val);\\n                }\\n            })\\n            valueAccessor().subscribe(function(value) {\\n                var str = JSON.stringify(value);\\n                if ((str == \\\"0\\\") && ([\\\"-0\\\", \\\"-0.\\\"].indexOf(stringified()) >= 0))\\n                     return;\\n                 if ([\\\"null\\\", \\\"\\\"].indexOf(str) >= 0)\\n                     return;\\n                stringified(str);\\n            })\\n            ko.applyBindingsToNode(element, { value: stringified, valueUpdate: allBindings.get('valueUpdate')}, context);\\n        }\\n    };\\n    var json_data = JSON.parse(\\\"{\\\\\\\"formatted_vals\\\\\\\":[\\\\\\\"0.0\\\\\\\",\\\\\\\"0.5\\\\\\\",\\\\\\\"1.0\\\\\\\",\\\\\\\"1.5\\\\\\\",\\\\\\\"2.0\\\\\\\"],\\\\\\\"changes\\\\\\\":0,\\\\\\\"formatted_value\\\\\\\":\\\\\\\"1.0\\\\\\\",\\\\\\\"index\\\\\\\":3}\\\");\\n    var self = this;\\n    function AppViewModel() {\\n        for (var key in json_data) {\\n            var el = json_data[key];\\n            this[key] = Array.isArray(el) ? ko.observableArray(el) : ko.observable(el);\\n        }\\n        \\n        \\n        [this[\\\"formatted_vals\\\"].subscribe((function (val){!(this.valueFromJulia[\\\"formatted_vals\\\"]) ? (_webIOScope.setObservableValue({\\\"name\\\":\\\"formatted_vals\\\",\\\"scope\\\":\\\"knockout-component-9b8c97d9-9ed8-4a70-be8f-0081e5ecbfde\\\",\\\"id\\\":\\\"ob_08\\\",\\\"type\\\":\\\"observable\\\"},val)) : undefined; return this.valueFromJulia[\\\"formatted_vals\\\"]=false}),self),this[\\\"changes\\\"].subscribe((function (val){!(this.valueFromJulia[\\\"changes\\\"]) ? (_webIOScope.setObservableValue({\\\"name\\\":\\\"changes\\\",\\\"scope\\\":\\\"knockout-component-9b8c97d9-9ed8-4a70-be8f-0081e5ecbfde\\\",\\\"id\\\":\\\"ob_10\\\",\\\"type\\\":\\\"observable\\\"},val)) : undefined; return this.valueFromJulia[\\\"changes\\\"]=false}),self),this[\\\"formatted_value\\\"].subscribe((function (val){!(this.valueFromJulia[\\\"formatted_value\\\"]) ? (_webIOScope.setObservableValue({\\\"name\\\":\\\"formatted_value\\\",\\\"scope\\\":\\\"knockout-component-9b8c97d9-9ed8-4a70-be8f-0081e5ecbfde\\\",\\\"id\\\":\\\"ob_09\\\",\\\"type\\\":\\\"observable\\\"},val)) : undefined; return this.valueFromJulia[\\\"formatted_value\\\"]=false}),self),this[\\\"index\\\"].subscribe((function (val){!(this.valueFromJulia[\\\"index\\\"]) ? (_webIOScope.setObservableValue({\\\"name\\\":\\\"index\\\",\\\"scope\\\":\\\"knockout-component-9b8c97d9-9ed8-4a70-be8f-0081e5ecbfde\\\",\\\"id\\\":\\\"ob_07\\\",\\\"type\\\":\\\"observable\\\"},val)) : undefined; return this.valueFromJulia[\\\"index\\\"]=false}),self)]\\n        \\n    }\\n    self.model = new AppViewModel();\\n    self.valueFromJulia = {};\\n    for (var key in json_data) {\\n        self.valueFromJulia[key] = false;\\n    }\\n    ko.applyBindings(self.model, self.dom);\\n}\\n\")]),\"changes\"=>Any[JSString(\"(function (val){return (val!=this.model[\\\"changes\\\"]()) ? (this.valueFromJulia[\\\"changes\\\"]=true, this.model[\\\"changes\\\"](val)) : undefined})\")],\"formatted_value\"=>Any[JSString(\"(function (val){return (val!=this.model[\\\"formatted_value\\\"]()) ? (this.valueFromJulia[\\\"formatted_value\\\"]=true, this.model[\\\"formatted_value\\\"](val)) : undefined})\")],\"index\"=>Any[JSString(\"(function (val){return (val!=this.model[\\\"index\\\"]()) ? (this.valueFromJulia[\\\"index\\\"]=true, this.model[\\\"index\\\"](val)) : undefined})\"), JSString(\"(function (val){return _webIOScope.setObservableValue({\\\"name\\\":\\\"formatted_value\\\",\\\"scope\\\":\\\"knockout-component-9b8c97d9-9ed8-4a70-be8f-0081e5ecbfde\\\",\\\"id\\\":\\\"ob_09\\\",\\\"type\\\":\\\"observable\\\"},_webIOScope.getObservableValue({\\\"name\\\":\\\"formatted_vals\\\",\\\"scope\\\":\\\"knockout-component-9b8c97d9-9ed8-4a70-be8f-0081e5ecbfde\\\",\\\"id\\\":\\\"ob_08\\\",\\\"type\\\":\\\"observable\\\"})[(_webIOScope.getObservableValue({\\\"name\\\":\\\"index\\\",\\\"scope\\\":\\\"knockout-component-9b8c97d9-9ed8-4a70-be8f-0081e5ecbfde\\\",\\\"id\\\":\\\"ob_07\\\",\\\"type\\\":\\\"observable\\\"})-1)])})\")]), ConnectionPool(Channel{Any}(sz_max:9223372036854775807,sz_curr:0), Set(AbstractConnection[]), Channel{AbstractConnection}(sz_max:32,sz_curr:0))), ##52#53{#dom#13{##dom#11#12{Dict{Any,Any},DOM}},typeof(scope)}(#dom#13{##dom#11#12{Dict{Any,Any},DOM}}(##dom#11#12{Dict{Any,Any},DOM}(Dict{Any,Any}(:className=>\"field\"), DOM(:html, :div))), scope))), Observable{Any} with 0 listeners. Value:\n",
       "Plot{Plots.GRBackend() n=1}, nothing, getfield(Main, Symbol(\"##23#29\")){Observable{Any}}(Observable{Any} with 0 listeners. Value:\n",
       "Plot{Plots.GRBackend() n=1}))))"
      ]
     },
     "execution_count": 8,
     "metadata": {
      "application/vnd.webio.node+json": {
       "kernelId": "842fc753-aef0-40d4-8d9d-a53ec7a6bf47"
      }
     },
     "output_type": "execute_result"
    }
   ],
   "source": [
    "# visualize lateral policy\n",
    "\n",
    "gr()\n",
    "\n",
    "\n",
    "policy_grid = zeros(Float64, length(pomdp.T_RANGE), length(pomdp.S_RANGE))\n",
    "\n",
    "@manipulate for ego_v in pomdp.EGO_V_RANGE\n",
    "   # ego_v = 8.0\n",
    "    @manipulate for ped_v in pomdp.PED_V_RANGE\n",
    "   # ped_v = 0.0\n",
    "        for i=1:length(pomdp.T_RANGE)\n",
    "            ped_t = pomdp.T_RANGE[i]\n",
    "            for j=1:length(pomdp.S_RANGE)\n",
    "                ped_s = pomdp.S_RANGE[j]\n",
    "                b = SparseCat([SingleOCFState(0.0, ego_v, ped_s, ped_t, pomdp.PED_THETA_RANGE[1], ped_v)],[1.])\n",
    "                act = action(qmdp_policy, b) \n",
    "                policy_grid[i,j] = act.lateral_movement\n",
    "            end\n",
    "        end\n",
    "        xs = [pomdp.S_RANGE[i] for i = 1:length(pomdp.S_RANGE)]\n",
    "        ys = [pomdp.T_RANGE[i] for i = 1:length(pomdp.T_RANGE)]\n",
    "        heatmap(xs,ys,policy_grid,aspect_ratio=1)\n",
    "    end\n",
    "end\n"
   ]
  },
  {
   "cell_type": "code",
   "execution_count": 17,
   "metadata": {},
   "outputs": [
    {
     "data": {
      "image/svg+xml": [
       "<?xml version=\"1.0\" encoding=\"utf-8\"?>\n",
       "<svg xmlns=\"http://www.w3.org/2000/svg\" xmlns:xlink=\"http://www.w3.org/1999/xlink\" width=\"600\" height=\"400\" viewBox=\"0 0 2400 1600\">\n",
       "<defs>\n",
       "  <clipPath id=\"clip6600\">\n",
       "    <rect x=\"0\" y=\"0\" width=\"2000\" height=\"2000\"/>\n",
       "  </clipPath>\n",
       "</defs>\n",
       "<defs>\n",
       "  <clipPath id=\"clip6601\">\n",
       "    <rect x=\"0\" y=\"0\" width=\"2400\" height=\"1600\"/>\n",
       "  </clipPath>\n",
       "</defs>\n",
       "<polygon clip-path=\"url(#clip6601)\" points=\"\n",
       "0,1600 2400,1600 2400,0 0,0 \n",
       "  \" fill=\"#ffffff\" fill-rule=\"evenodd\" fill-opacity=\"1\"/>\n",
       "<defs>\n",
       "  <clipPath id=\"clip6602\">\n",
       "    <rect x=\"480\" y=\"0\" width=\"1681\" height=\"1600\"/>\n",
       "  </clipPath>\n",
       "</defs>\n",
       "<polygon clip-path=\"url(#clip6601)\" points=\"\n",
       "149.361,972.127 2081.26,972.127 2081.26,578.592 149.361,578.592 \n",
       "  \" fill=\"#ffffff\" fill-rule=\"evenodd\" fill-opacity=\"1\"/>\n",
       "<defs>\n",
       "  <clipPath id=\"clip6603\">\n",
       "    <rect x=\"149\" y=\"578\" width=\"1933\" height=\"395\"/>\n",
       "  </clipPath>\n",
       "</defs>\n",
       "<polyline clip-path=\"url(#clip6603)\" style=\"stroke:#000000; stroke-width:2; stroke-opacity:0.1; fill:none\" points=\"\n",
       "  256.688,972.127 256.688,578.592 \n",
       "  \"/>\n",
       "<polyline clip-path=\"url(#clip6603)\" style=\"stroke:#000000; stroke-width:2; stroke-opacity:0.1; fill:none\" points=\"\n",
       "  614.447,972.127 614.447,578.592 \n",
       "  \"/>\n",
       "<polyline clip-path=\"url(#clip6603)\" style=\"stroke:#000000; stroke-width:2; stroke-opacity:0.1; fill:none\" points=\"\n",
       "  972.207,972.127 972.207,578.592 \n",
       "  \"/>\n",
       "<polyline clip-path=\"url(#clip6603)\" style=\"stroke:#000000; stroke-width:2; stroke-opacity:0.1; fill:none\" points=\"\n",
       "  1329.97,972.127 1329.97,578.592 \n",
       "  \"/>\n",
       "<polyline clip-path=\"url(#clip6603)\" style=\"stroke:#000000; stroke-width:2; stroke-opacity:0.1; fill:none\" points=\"\n",
       "  1687.72,972.127 1687.72,578.592 \n",
       "  \"/>\n",
       "<polyline clip-path=\"url(#clip6603)\" style=\"stroke:#000000; stroke-width:2; stroke-opacity:0.1; fill:none\" points=\"\n",
       "  2045.48,972.127 2045.48,578.592 \n",
       "  \"/>\n",
       "<polyline clip-path=\"url(#clip6603)\" style=\"stroke:#000000; stroke-width:2; stroke-opacity:0.1; fill:none\" points=\"\n",
       "  149.361,918.463 2081.26,918.463 \n",
       "  \"/>\n",
       "<polyline clip-path=\"url(#clip6603)\" style=\"stroke:#000000; stroke-width:2; stroke-opacity:0.1; fill:none\" points=\"\n",
       "  149.361,846.911 2081.26,846.911 \n",
       "  \"/>\n",
       "<polyline clip-path=\"url(#clip6603)\" style=\"stroke:#000000; stroke-width:2; stroke-opacity:0.1; fill:none\" points=\"\n",
       "  149.361,775.359 2081.26,775.359 \n",
       "  \"/>\n",
       "<polyline clip-path=\"url(#clip6603)\" style=\"stroke:#000000; stroke-width:2; stroke-opacity:0.1; fill:none\" points=\"\n",
       "  149.361,703.808 2081.26,703.808 \n",
       "  \"/>\n",
       "<polyline clip-path=\"url(#clip6603)\" style=\"stroke:#000000; stroke-width:2; stroke-opacity:0.1; fill:none\" points=\"\n",
       "  149.361,632.256 2081.26,632.256 \n",
       "  \"/>\n",
       "<polyline clip-path=\"url(#clip6601)\" style=\"stroke:#000000; stroke-width:4; stroke-opacity:1; fill:none\" points=\"\n",
       "  149.361,972.127 2081.26,972.127 \n",
       "  \"/>\n",
       "<polyline clip-path=\"url(#clip6601)\" style=\"stroke:#000000; stroke-width:4; stroke-opacity:1; fill:none\" points=\"\n",
       "  149.361,972.127 149.361,578.592 \n",
       "  \"/>\n",
       "<polyline clip-path=\"url(#clip6601)\" style=\"stroke:#000000; stroke-width:4; stroke-opacity:1; fill:none\" points=\"\n",
       "  256.688,972.127 256.688,966.224 \n",
       "  \"/>\n",
       "<polyline clip-path=\"url(#clip6601)\" style=\"stroke:#000000; stroke-width:4; stroke-opacity:1; fill:none\" points=\"\n",
       "  614.447,972.127 614.447,966.224 \n",
       "  \"/>\n",
       "<polyline clip-path=\"url(#clip6601)\" style=\"stroke:#000000; stroke-width:4; stroke-opacity:1; fill:none\" points=\"\n",
       "  972.207,972.127 972.207,966.224 \n",
       "  \"/>\n",
       "<polyline clip-path=\"url(#clip6601)\" style=\"stroke:#000000; stroke-width:4; stroke-opacity:1; fill:none\" points=\"\n",
       "  1329.97,972.127 1329.97,966.224 \n",
       "  \"/>\n",
       "<polyline clip-path=\"url(#clip6601)\" style=\"stroke:#000000; stroke-width:4; stroke-opacity:1; fill:none\" points=\"\n",
       "  1687.72,972.127 1687.72,966.224 \n",
       "  \"/>\n",
       "<polyline clip-path=\"url(#clip6601)\" style=\"stroke:#000000; stroke-width:4; stroke-opacity:1; fill:none\" points=\"\n",
       "  2045.48,972.127 2045.48,966.224 \n",
       "  \"/>\n",
       "<polyline clip-path=\"url(#clip6601)\" style=\"stroke:#000000; stroke-width:4; stroke-opacity:1; fill:none\" points=\"\n",
       "  149.361,918.463 178.339,918.463 \n",
       "  \"/>\n",
       "<polyline clip-path=\"url(#clip6601)\" style=\"stroke:#000000; stroke-width:4; stroke-opacity:1; fill:none\" points=\"\n",
       "  149.361,846.911 178.339,846.911 \n",
       "  \"/>\n",
       "<polyline clip-path=\"url(#clip6601)\" style=\"stroke:#000000; stroke-width:4; stroke-opacity:1; fill:none\" points=\"\n",
       "  149.361,775.359 178.339,775.359 \n",
       "  \"/>\n",
       "<polyline clip-path=\"url(#clip6601)\" style=\"stroke:#000000; stroke-width:4; stroke-opacity:1; fill:none\" points=\"\n",
       "  149.361,703.808 178.339,703.808 \n",
       "  \"/>\n",
       "<polyline clip-path=\"url(#clip6601)\" style=\"stroke:#000000; stroke-width:4; stroke-opacity:1; fill:none\" points=\"\n",
       "  149.361,632.256 178.339,632.256 \n",
       "  \"/>\n",
       "<g clip-path=\"url(#clip6601)\">\n",
       "<text style=\"fill:#000000; fill-opacity:1; font-family:Arial,Helvetica Neue,Helvetica,sans-serif; font-size:48px; text-anchor:middle;\" transform=\"rotate(0, 256.688, 1026.13)\" x=\"256.688\" y=\"1026.13\">0</text>\n",
       "</g>\n",
       "<g clip-path=\"url(#clip6601)\">\n",
       "<text style=\"fill:#000000; fill-opacity:1; font-family:Arial,Helvetica Neue,Helvetica,sans-serif; font-size:48px; text-anchor:middle;\" transform=\"rotate(0, 614.447, 1026.13)\" x=\"614.447\" y=\"1026.13\">10</text>\n",
       "</g>\n",
       "<g clip-path=\"url(#clip6601)\">\n",
       "<text style=\"fill:#000000; fill-opacity:1; font-family:Arial,Helvetica Neue,Helvetica,sans-serif; font-size:48px; text-anchor:middle;\" transform=\"rotate(0, 972.207, 1026.13)\" x=\"972.207\" y=\"1026.13\">20</text>\n",
       "</g>\n",
       "<g clip-path=\"url(#clip6601)\">\n",
       "<text style=\"fill:#000000; fill-opacity:1; font-family:Arial,Helvetica Neue,Helvetica,sans-serif; font-size:48px; text-anchor:middle;\" transform=\"rotate(0, 1329.97, 1026.13)\" x=\"1329.97\" y=\"1026.13\">30</text>\n",
       "</g>\n",
       "<g clip-path=\"url(#clip6601)\">\n",
       "<text style=\"fill:#000000; fill-opacity:1; font-family:Arial,Helvetica Neue,Helvetica,sans-serif; font-size:48px; text-anchor:middle;\" transform=\"rotate(0, 1687.72, 1026.13)\" x=\"1687.72\" y=\"1026.13\">40</text>\n",
       "</g>\n",
       "<g clip-path=\"url(#clip6601)\">\n",
       "<text style=\"fill:#000000; fill-opacity:1; font-family:Arial,Helvetica Neue,Helvetica,sans-serif; font-size:48px; text-anchor:middle;\" transform=\"rotate(0, 2045.48, 1026.13)\" x=\"2045.48\" y=\"1026.13\">50</text>\n",
       "</g>\n",
       "<g clip-path=\"url(#clip6601)\">\n",
       "<text style=\"fill:#000000; fill-opacity:1; font-family:Arial,Helvetica Neue,Helvetica,sans-serif; font-size:48px; text-anchor:end;\" transform=\"rotate(0, 125.361, 935.963)\" x=\"125.361\" y=\"935.963\">-4</text>\n",
       "</g>\n",
       "<g clip-path=\"url(#clip6601)\">\n",
       "<text style=\"fill:#000000; fill-opacity:1; font-family:Arial,Helvetica Neue,Helvetica,sans-serif; font-size:48px; text-anchor:end;\" transform=\"rotate(0, 125.361, 864.411)\" x=\"125.361\" y=\"864.411\">-2</text>\n",
       "</g>\n",
       "<g clip-path=\"url(#clip6601)\">\n",
       "<text style=\"fill:#000000; fill-opacity:1; font-family:Arial,Helvetica Neue,Helvetica,sans-serif; font-size:48px; text-anchor:end;\" transform=\"rotate(0, 125.361, 792.859)\" x=\"125.361\" y=\"792.859\">0</text>\n",
       "</g>\n",
       "<g clip-path=\"url(#clip6601)\">\n",
       "<text style=\"fill:#000000; fill-opacity:1; font-family:Arial,Helvetica Neue,Helvetica,sans-serif; font-size:48px; text-anchor:end;\" transform=\"rotate(0, 125.361, 721.308)\" x=\"125.361\" y=\"721.308\">2</text>\n",
       "</g>\n",
       "<g clip-path=\"url(#clip6601)\">\n",
       "<text style=\"fill:#000000; fill-opacity:1; font-family:Arial,Helvetica Neue,Helvetica,sans-serif; font-size:48px; text-anchor:end;\" transform=\"rotate(0, 125.361, 649.756)\" x=\"125.361\" y=\"649.756\">4</text>\n",
       "</g>\n",
       "<g clip-path=\"url(#clip6603)\">\n",
       "<image width=\"1932\" height=\"394\" xlink:href=\"data:image/png;base64,\n",
       "iVBORw0KGgoAAAANSUhEUgAAB4wAAAGKCAYAAAD31bwUAAASK0lEQVR4nO3bz64cVAHH8Z6Z4bbF\n",
       "0pQq5Y9WCBRKieQmJiQu6sY/Sx/Dt/Bd2Lg28QVkSWDhSk1ZNgRjA8ZAJFp62/EJZkjQeM7l+/k8\n",
       "wS8n585M7jdnnO1/u78AAAAAAAAAQM5m9gAAAAAAAAAA5hCMAQAAAAAAAKIEYwAAAAAAAIAowRgA\n",
       "AAAAAAAgSjAGAAAAAAAAiBKMAQAAAAAAAKIEYwAAAAAAAIAowRgAAAAAAAAgSjAGAAAAAAAAiBKM\n",
       "AQAAAAAAAKIEYwAAAAAAAIAowRgAAAAAAAAgSjAGAAAAAAAAiBKMAQAAAAAAAKIEYwAAAAAAAIAo\n",
       "wRgAAAAAAAAgSjAGAAAAAAAAiBKMAQAAAAAAAKIEYwAAAAAAAIAowRgAAAAAAAAgSjAGAAAAAAAA\n",
       "iBKMAQAAAAAAAKIEYwAAAAAAAIAowRgAAAAAAAAgSjAGAAAAAAAAiBKMAQAAAAAAAKIEYwAAAAAA\n",
       "AIAowRgAAAAAAAAgSjAGAAAAAAAAiBKMAQAAAAAAAKIEYwAAAAAAAIAowRgAAAAAAAAgSjAGAAAA\n",
       "AAAAiBKMAQAAAAAAAKIEYwAAAAAAAIAowRgAAAAAAAAgSjAGAAAAAAAAiBKMAQAAAAAAAKIEYwAA\n",
       "AAAAAIAowRgAAAAAAAAgSjAGAAAAAAAAiBKMAQAAAAAAAKIEYwAAAAAAAIAowRgAAAAAAAAgSjAG\n",
       "AAAAAAAAiBKMAQAAAAAAAKIEYwAAAAAAAIAowRgAAAAAAAAgSjAGAAAAAAAAiBKMAQAAAAAAAKIE\n",
       "YwAAAAAAAIAowRgAAAAAAAAgSjAGAAAAAAAAiBKMAQAAAAAAAKIEYwAAAAAAAIAowRgAAAAAAAAg\n",
       "SjAGAAAAAAAAiBKMAQAAAAAAAKIEYwAAAAAAAIAowRgAAAAAAAAgSjAGAAAAAAAAiBKMAQAAAAAA\n",
       "AKIEYwAAAAAAAIAowRgAAAAAAAAgSjAGAAAAAAAAiBKMAQAAAAAAAKIEYwAAAAAAAIAowRgAAAAA\n",
       "AAAgSjAGAAAAAAAAiBKMAQAAAAAAAKIEYwAAAAAAAIAowRgAAAAAAAAgSjAGAAAAAAAAiBKMAQAA\n",
       "AAAAAKIEYwAAAAAAAIAowRgAAAAAAAAgSjAGAAAAAAAAiBKMAQAAAAAAAKIEYwAAAAAAAIAowRgA\n",
       "AAAAAAAgSjAGAAAAAAAAiBKMAQAAAAAAAKIEYwAAAAAAAIAowRgAAAAAAAAgSjAGAAAAAAAAiBKM\n",
       "AQAAAAAAAKIEYwAAAAAAAIAowRgAAAAAAAAgSjAGAAAAAAAAiBKMAQAAAAAAAKIEYwAAAAAAAIAo\n",
       "wRgAAAAAAAAgSjAGAAAAAAAAiBKMAQAAAAAAAKIEYwAAAAAAAIAowRgAAAAAAAAgSjAGAAAAAAAA\n",
       "iBKMAQAAAAAAAKIEYwAAAAAAAIAowRgAAAAAAAAgSjAGAAAAAAAAiBKMAQAAAAAAAKIEYwAAAAAA\n",
       "AIAowRgAAAAAAAAgSjAGAAAAAAAAiBKMAQAAAAAAAKIEYwAAAAAAAICo3R9+8vvZGzjH7n9+bfaE\n",
       "Zf3m47/MnrC0H4/T2ROW9bPnZy9Y26/u/Gn2hGW9+ssPZ09Y2v6dN2ZPWNZXN380e8LS9s+8MnvC\n",
       "0rYXn509YVmbzeXZE5a22exmT1jX2M5esLRxwfkcMsaYPWFx3k0c5O7wXxgX3B++KXcH+D/zsXOQ\n",
       "X8oAAAAAAAAAUYIxAAAAAAAAQJRgDAAAAAAAABAlGAMAAAAAAABECcYAAAAAAAAAUYIxAAAAAAAA\n",
       "QJRgDAAAAAAAABAlGAMAAAAAAABECcYAAAAAAAAAUYIxAAAAAAAAQJRgDAAAAAAAABAlGAMAAAAA\n",
       "AABECcYAAAAAAAAAUYIxAAAAAAAAQJRgDAAAAAAAABAlGAMAAAAAAABECcYAAAAAAAAAUYIxAAAA\n",
       "AAAAQJRgDAAAAAAAABAlGAMAAAAAAABECcYAAAAAAAAAUYIxAAAAAAAAQJRgDAAAAAAAABAlGAMA\n",
       "AAAAAABECcYAAAAAAAAAUYIxAAAAAAAAQJRgDAAAAAAAABAlGAMAAAAAAABECcYAAAAAAAAAUYIx\n",
       "AAAAAAAAQJRgDAAAAAAAABAlGAMAAAAAAABECcYAAAAAAAAAUYIxAAAAAAAAQJRgDAAAAAAAABC1\n",
       "u//5tdkb4FvpwZcfzJ6wtPdOPp49YVkfPXh79oSlvf/p6ewJy/rpvbdmT1ja3Zv3Z09Y1q233589\n",
       "YWlXTn83e8LS9q+/MnvCsh69cGv2hKWdXX1p9oRl7S9/b/aEpY3dldkTlrXdXJw9YWlj89TsCcsa\n",
       "Yzt7wuLG7AFrG94kHTLcna/h7hwyhrtznPM5yN05auydzyE+kQEAAAAAAACiBGMAAAAAAACAKMEY\n",
       "AAAAAAAAIEowBgAAAAAAAIgSjAEAAAAAAACiBGMAAAAAAACAKMEYAAAAAAAAIEowBgAAAAAAAIgS\n",
       "jAEAAAAAAACiBGMAAAAAAACAKMEYAAAAAAAAIEowBgAAAAAAAIgSjAEAAAAAAACiBGMAAAAAAACA\n",
       "KMEYAAAAAAAAIEowBgAAAAAAAIgSjAEAAAAAAACiBGMAAAAAAACAKMEYAAAAAAAAIEowBgAAAAAA\n",
       "AIgSjAEAAAAAAACiBGMAAAAAAACAKMEYAAAAAAAAIEowBgAAAAAAAIgSjAEAAAAAAACiBGMAAAAA\n",
       "AACAKMEYAAAAAAAAIEowBgAAAAAAAIgSjAEAAAAAAACiBGMAAAAAAACAKMEYAAAAAAAAIEowBgAA\n",
       "AAAAAIgSjAEAAAAAAACiBGMAAAAAAACAKMEYAAAAAAAAIGo3ewAQtX8ye8Gy/nXhi9kTlvbJ2T9n\n",
       "T1jWh39/ZvaEpX328NbsCcu68+kLsycs7a0//3X2hKXdfPX+7AnLunr7vdkTlra9fWX2hGU9evn2\n",
       "7AlLO7v20uwJyzq7dH32hLWdXJ29YF27p2cvWNpmc3H2hKWN4V/Mh4yxnT1hac7nmDF7wNLG8Bby\n",
       "MHfnmDGczyH+qgAAAAAAAACiBGMAAAAAAACAKMEYAAAAAAAAIEowBgAAAAAAAIgSjAEAAAAAAACi\n",
       "BGMAAAAAAACAKMEYAAAAAAAAIEowBgAAAAAAAIgSjAEAAAAAAACiBGMAAAAAAACAKMEYAAAAAAAA\n",
       "IEowBgAAAAAAAIgSjAEAAAAAAACiBGMAAAAAAACAKMEYAAAAAAAAIEowBgAAAAAAAIgSjAEAAAAA\n",
       "AACiBGMAAAAAAACAKMEYAAAAAAAAIEowBgAAAAAAAIgSjAEAAAAAAACiBGMAAAAAAACAKMEYAAAA\n",
       "AAAAIEowBgAAAAAAAIgSjAEAAAAAAACiBGMAAAAAAACAKMEYAAAAAAAAIEowBgAAAAAAAIgSjAEA\n",
       "AAAAAACiBGMAAAAAAACAKMEYAAAAAAAAIEowBgAAAAAAAIgSjAEAAAAAAACiBGMAAAAAAACAqN3s\n",
       "AZxvv7737uwJy7p88v3ZE5Z24+TN2ROWdWf/2uwJSzu9vp09YVmnz34xe8LSbj/3t9kTlvX8iw9m\n",
       "T1ja1Rc/mz1haRdv/GP2hGVtf+A765jHN/xePuTJd67PnrC27cnsBevaP5m9YG1n/569YF37x7MX\n",
       "LO3J5uHsCWvbPDV7wbKGszlqDHniEGdz3BjeQh4yvBM9aj/G7AnLcnMAAAAAAAAAogRjAAAAAAAA\n",
       "gCjBGAAAAAAAACBKMAYAAAAAAACIEowBAAAAAAAAogRjAAAAAAAAgCjBGAAAAAAAACBKMAYAAAAA\n",
       "AACIEowBAAAAAAAAogRjAAAAAAAAgCjBGAAAAAAAACBKMAYAAAAAAACIEowBAAAAAAAAogRjAAAA\n",
       "AAAAgCjBGAAAAAAAACBKMAYAAAAAAACIEowBAAAAAAAAogRjAAAAAAAAgCjBGAAAAAAAACBKMAYA\n",
       "AAAAAACIEowBAAAAAAAAogRjAAAAAAAAgCjBGAAAAAAAACBKMAYAAAAAAACIEowBAAAAAAAAogRj\n",
       "AAAAAAAAgCjBGAAAAAAAACBKMAYAAAAAAACIEowBAAAAAAAAogRjAAAAAAAAgCjBGAAAAAAAACBK\n",
       "MAYAAAAAAACIEowBAAAAAAAAogRjAAAAAAAAgCjBGAAAAAAAACBqd+PpL2dv4Bx7+crPZ09Y1jvb\n",
       "N2ZPWNrd5x7NnrCsX7x+b/aEpb1294+zJyxrd3p59oSlnf3Q5/IhZ9fenD1haftL3509YWkPT67M\n",
       "nrCu7aXZC5Y2xm72hGWNjbM5ZnNhO3vCuoZ3AccM53PEmD1gae7O13F/DnM2x4zhfPim3J3DnM1x\n",
       "zucQv3YAAAAAAAAAogRjAAAAAAAAgCjBGAAAAAAAACBKMAYAAAAAAACIEowBAAAAAAAAogRjAAAA\n",
       "AAAAgCjBGAAAAAAAACBKMAYAAAAAAACIEowBAAAAAAAAogRjAAAAAAAAgCjBGAAAAAAAACBKMAYA\n",
       "AAAAAACIEowBAAAAAAAAogRjAAAAAAAAgCjBGAAAAAAAACBKMAYAAAAAAACIEowBAAAAAAAAogRj\n",
       "AAAAAAAAgCjBGAAAAAAAACBKMAYAAAAAAACIEowBAAAAAAAAogRjAAAAAAAAgCjBGAAAAAAAACBK\n",
       "MAYAAAAAAACIEowBAAAAAAAAogRjAAAAAAAAgCjBGAAAAAAAACBKMAYAAAAAAACIEowBAAAAAAAA\n",
       "ogRjAAAAAAAAgCjBGAAAAAAAACBKMAYAAAAAAACIEowBAAAAAAAAogRjAAAAAAAAgCjBGAAAAAAA\n",
       "ACBqfPX43f3sEZxfY/aApTkdAPh28J0OwDnhKwuYwocPAJx3XhgDAAAAAAAARAnGAAAAAAAAAFGC\n",
       "MQAAAAAAAECUYAwAAAAAAAAQJRgDAAAAAAAARAnGAAAAAAAAAFGCMQAAAAAAAECUYAwAAAAAAAAQ\n",
       "JRgDAAAAAAAARAnGAAAAAAAAAFGCMQAAAAAAAECUYAwAAAAAAAAQJRgDAAAAAAAARAnGAAAAAAAA\n",
       "AFGCMQAAAAAAAECUYAwAAAAAAAAQJRgDAAAAAAAARAnGAAAAAAAAAFGCMQAAAAAAAECUYAwAAAAA\n",
       "AAAQJRgDAAAAAAAARAnGAAAAAAAAAFGCMQAAAAAAAECUYAwAAAAAAAAQJRgDAAAAAAAARAnGAAAA\n",
       "AAAAAFGCMQAAAAAAAECUYAwAAAAAAAAQJRgDAAAAAAAARAnGAAAAAAAAAFGCMQAAAAAAAECUYAwA\n",
       "AAAAAAAQJRgDAAAAAAAARAnGAAAAAAAAAFGCMQAAAAAAAEDUbozt7A0AAMC5NWYP4JxycwAAAGAN\n",
       "XhgDAAAAAAAARAnGAAAAAAAAAFGCMQAAAAAAAECUYAwAAAAAAAAQJRgDAAAAAAAARAnGAAAAAAAA\n",
       "AFGCMQAAAAAAAECUYAwAAAAAAAAQJRgDAAAAAAAARAnGAAAAAAAAAFGCMQAAAAAAAECUYAwAAAAA\n",
       "AAAQJRgDAAAAAAAARAnGAAAAAAAAAFGCMQAAAAAAAECUYAwAAAAAAAAQJRgDAAAAAAAARAnGAAAA\n",
       "AAAAAFGCMQAAAAAAAECUYAwAAAAAAAAQJRgDAAAAAAAARAnGAAAAAAAAAFGCMQAAAAAAAECUYAwA\n",
       "AAAAAAAQJRgDAAAAAAAARAnGAAAAAAAAAFGCMQAAAAAAAECUYAwAAAAAAAAQJRgDAAAAAAAARAnG\n",
       "AAAAAAAAAFGCMQAAAAAAAECUYAwAAAAAAAAQJRgDAAAAAAAARAnGAAAAAAAAAFGCMQAAAAAAAEDU\n",
       "bvYAAOB/ZcwesDSnAwAAAABl/kN4iBfGAAAAAAAAAFGCMQAAAAAAAECUYAwAAAAAAAAQJRgDAAAA\n",
       "AAAARAnGAAAAAAAAAFGCMQAAAAAAAECUYAwAAAAAAAAQJRgDAAAAAAAARAnGAAAAAAAAAFGCMQAA\n",
       "AAAAAECUYAwAAAAAAAAQJRgDAAAAAAAARAnGAAAAAAAAAFGCMQAAAAAAAECUYAwAAAAAAAAQJRgD\n",
       "AAAAAAAARAnGAAAAAAAAAFGCMQAAAAAAAECUYAwAAAAAAAAQJRgDAAAAAAAARAnGAAAAAAAAAFGC\n",
       "MQAAAAAAAECUYAwAAAAAAAAQJRgDAAAAAAAARAnGAAAAAAAAAFGCMQAAAAAAAECUYAwAAAAAAAAQ\n",
       "JRgDAAAAAAAARAnGAAAAAAAAAFGCMQAAAAAAAECUYAwAAAAAAAAQJRgDAAAAAAAARAnGAAAAAAAA\n",
       "AFGCMQAAAAAAAEDUfwDYiF79GJ/dogAAAABJRU5ErkJggg==\n",
       "\" transform=\"translate(149, 579)\"/>\n",
       "</g>\n",
       "<defs>\n",
       "  <clipPath id=\"clip6604\">\n",
       "    <rect x=\"2129\" y=\"578\" width=\"73\" height=\"395\"/>\n",
       "  </clipPath>\n",
       "</defs>\n",
       "<g clip-path=\"url(#clip6604)\">\n",
       "<image width=\"72\" height=\"394\" xlink:href=\"data:image/png;base64,\n",
       "iVBORw0KGgoAAAANSUhEUgAAAEgAAAGKCAYAAACvugdMAAAEEElEQVR4nO3dwbEjNwxAQcqF/KNw\n",
       "lvaSjsB4R+nQHYGKhQfOSL92P//ev9/hf/317Q/w6+a+f7/9GX6aCQrzTNBq3nVAG4kFiQUHFCQW\n",
       "TFBwiwWJBYkFBxQkFuZY0isHFCQW5ljSKxMU7KDggILEwpz7z7c/w09ziwWJBUs6OKAgsTCf9+fb\n",
       "n+GnzbkOaCOxMB8TtJJYkFiY4xZb2UFBYsGSDiYo2EFBYkFiYT73fvsz/DSJBYkFExRc80FiYY5b\n",
       "bCWxILHgFgsOKEgseBcLrvkgsWBJBxMU7KDggILEgueg4BYLEguWdHBAQWLBBIU5178SuJFYmPMk\n",
       "trGDgsSCJR0kFiQWTFAwQcGSDhILEgtzDNDKAQWJhfEyv5NYkFgwQcEBBYmFOV7FVvPu59uf4adJ\n",
       "LFjSYY7EVhIL854J2pigYAcFBxQkFizpILEgsTDnOqONHRSMT7Ckgy/MgsTCnOeMNhILxieYoOBJ\n",
       "Ojid4FUjmKDgVSPMs6RXTidY0sEOChILlnSwg4LxCd7mwzzfKK6cTvAcFOygILHgOSh4kg5OJ0gs\n",
       "mKDgmg8SCxILrvkgsWB8glssSCxILLjFgsSC8QkmKDigILHgQTHM9cvqyukESzqYoGBJB4kFiQUT\n",
       "FBxQkFgwQWGuA1pJLEgsOKAgsWCCggMKEgsmKHhQDBILEgsmKJig4IfD4HSCxILnoCCxILEgsSCx\n",
       "ILHggILEgiUd5h0HtJFYkFhwiwWJhbn+p96VCQp2UHCLBYmFuZ6kV3ZQkFiwpIPEgsTC3G9/gh8n\n",
       "sSCx4BYLvpMOEgsSCyYo+Mo1WNJBYsGTdPAuFiQWJBYkFiQWJBa8iwWJhfEqtpNYkFiQWJBYkFiQ\n",
       "WDBBwQ4KvrQPEgt+1QgSCxIL/k46zJPYSmLBg2LwLhYkFjwHBdd8kFjwHBT88UKQWPCgGExQsKSD\n",
       "JR0kFiQWvGoEiQVv88EXZkFiQWLBAQWJBX+8ECQWJBY8BwWJBYkFExRMULCkg8SCxIJfNYIv7YPE\n",
       "giUdXPNBYkFiYd5xQhuJBYkFt1iQWJBYkFiQWJBYMEHB90FhrleNlcSCxILEgsSCn33CPEtoJbEg\n",
       "seBdLEgs+FUjSCxILHjVCHZQkFiQWDBBwQSFud7mVxILrvlgBwWJBRMUHFCQWJh3fCu9kViQWJj7\n",
       "kdhmrh20klgwQcE1HyQW5n48B21MULCkgwMKEguu+TD3/Pn2Z/hpEguWdJgnsZXEgsSCAwoSC5Z0\n",
       "kFiQWJBY8LIaJBbmPhO0MUHBDgrzJLaSWJBY8KAYJBY8BwU7KEgseA4KbrEgsSCx4BYLEgsSC26x\n",
       "ILEgsWCCgms+zHuW9EZiQWJhjn8eZyWxMEdiKw+KQWJBYsE1HyQW5ljSK4kFiQW3WPgPSFToI7dW\n",
       "fGQAAAAASUVORK5CYII=\n",
       "\" transform=\"translate(2129, 579)\"/>\n",
       "</g>\n",
       "<g clip-path=\"url(#clip6601)\">\n",
       "<text style=\"fill:#000000; fill-opacity:1; font-family:Arial,Helvetica Neue,Helvetica,sans-serif; font-size:48px; text-anchor:start;\" transform=\"rotate(0, 2237.26, 936.945)\" x=\"2237.26\" y=\"936.945\">-</text>\n",
       "</g>\n",
       "<g clip-path=\"url(#clip6601)\">\n",
       "<text style=\"fill:#000000; fill-opacity:1; font-family:Arial,Helvetica Neue,Helvetica,sans-serif; font-size:48px; text-anchor:start;\" transform=\"rotate(0, 2265.37, 936.945)\" x=\"2265.37\" y=\"936.945\">1000</text>\n",
       "</g>\n",
       "<g clip-path=\"url(#clip6601)\">\n",
       "<text style=\"fill:#000000; fill-opacity:1; font-family:Arial,Helvetica Neue,Helvetica,sans-serif; font-size:48px; text-anchor:start;\" transform=\"rotate(0, 2237.26, 865.132)\" x=\"2237.26\" y=\"865.132\">-</text>\n",
       "</g>\n",
       "<g clip-path=\"url(#clip6601)\">\n",
       "<text style=\"fill:#000000; fill-opacity:1; font-family:Arial,Helvetica Neue,Helvetica,sans-serif; font-size:48px; text-anchor:start;\" transform=\"rotate(0, 2265.37, 865.132)\" x=\"2265.37\" y=\"865.132\">750</text>\n",
       "</g>\n",
       "<g clip-path=\"url(#clip6601)\">\n",
       "<text style=\"fill:#000000; fill-opacity:1; font-family:Arial,Helvetica Neue,Helvetica,sans-serif; font-size:48px; text-anchor:start;\" transform=\"rotate(0, 2237.26, 793.318)\" x=\"2237.26\" y=\"793.318\">-</text>\n",
       "</g>\n",
       "<g clip-path=\"url(#clip6601)\">\n",
       "<text style=\"fill:#000000; fill-opacity:1; font-family:Arial,Helvetica Neue,Helvetica,sans-serif; font-size:48px; text-anchor:start;\" transform=\"rotate(0, 2265.37, 793.318)\" x=\"2265.37\" y=\"793.318\">500</text>\n",
       "</g>\n",
       "<g clip-path=\"url(#clip6601)\">\n",
       "<text style=\"fill:#000000; fill-opacity:1; font-family:Arial,Helvetica Neue,Helvetica,sans-serif; font-size:48px; text-anchor:start;\" transform=\"rotate(0, 2237.26, 721.505)\" x=\"2237.26\" y=\"721.505\">-</text>\n",
       "</g>\n",
       "<g clip-path=\"url(#clip6601)\">\n",
       "<text style=\"fill:#000000; fill-opacity:1; font-family:Arial,Helvetica Neue,Helvetica,sans-serif; font-size:48px; text-anchor:start;\" transform=\"rotate(0, 2265.37, 721.505)\" x=\"2265.37\" y=\"721.505\">250</text>\n",
       "</g>\n",
       "<g clip-path=\"url(#clip6601)\">\n",
       "<text style=\"fill:#000000; fill-opacity:1; font-family:Arial,Helvetica Neue,Helvetica,sans-serif; font-size:48px; text-anchor:start;\" transform=\"rotate(0, 2237.26, 649.692)\" x=\"2237.26\" y=\"649.692\">0</text>\n",
       "</g>\n",
       "<polyline clip-path=\"url(#clip6601)\" style=\"stroke:#000000; stroke-width:4; stroke-opacity:1; fill:none\" points=\"\n",
       "  2201.26,972.127 2201.26,923.294 2225.26,923.294 2201.26,923.294 2201.26,851.481 2225.26,851.481 2201.26,851.481 2201.26,779.667 2225.26,779.667 2201.26,779.667 \n",
       "  2201.26,707.854 2225.26,707.854 2201.26,707.854 2201.26,636.041 2225.26,636.041 2201.26,636.041 2201.26,578.592 \n",
       "  \"/>\n",
       "<g clip-path=\"url(#clip6601)\">\n",
       "<text style=\"fill:#000000; fill-opacity:1; font-family:Arial,Helvetica Neue,Helvetica,sans-serif; font-size:66px; text-anchor:middle;\" transform=\"rotate(-90, 2378.86, 775.359)\" x=\"2378.86\" y=\"775.359\"></text>\n",
       "</g>\n",
       "</svg>\n"
      ]
     },
     "execution_count": 17,
     "metadata": {},
     "output_type": "execute_result"
    }
   ],
   "source": [
    "# visualize value function\n",
    "value_grid = zeros(Float64, length(pomdp.T_RANGE), length(pomdp.S_RANGE))\n",
    "# @manipulate for ego_v in pomdp.EGO_V_RANGE\n",
    "   ego_v = 50.0\n",
    "#     @manipulate for ped_v in pomdp.PED_V_RANGE\n",
    "   ped_v = 0.0\n",
    "        for i=1:length(pomdp.T_RANGE)\n",
    "            ped_t = pomdp.T_RANGE[i]\n",
    "            for j=1:length(pomdp.S_RANGE)\n",
    "                ped_s = pomdp.S_RANGE[j]\n",
    "                b = SparseCat([SingleOCFState(0.0, ego_v, ped_s, ped_t, pomdp.PED_THETA_RANGE[1], ped_v)],[1.])\n",
    "                val = maximum(PedestrianAvoidancePOMDP.action_values(qmdp_policy, b) )\n",
    "                value_grid[i,j] = val\n",
    "            end\n",
    "        end\n",
    "        xs = [pomdp.S_RANGE[i] for i = 1:length(pomdp.S_RANGE)]\n",
    "        ys = [pomdp.T_RANGE[i] for i = 1:length(pomdp.T_RANGE)]\n",
    "        heatmap(xs,ys,value_grid,aspect_ratio=1)\n",
    "#     end\n",
    "# end"
   ]
  },
  {
   "cell_type": "code",
   "execution_count": 33,
   "metadata": {},
   "outputs": [
    {
     "name": "stdout",
     "output_type": "stream",
     "text": [
      "[0.0, 0.0]\n"
     ]
    },
    {
     "data": {
      "text/plain": [
       "5-element Array{Float64,1}:\n",
       " 119.62642569538991\n",
       " 121.62642569538991\n",
       " 116.52130641815721\n",
       " 119.30681732322287\n",
       " 104.2855685664035 "
      ]
     },
     "execution_count": 33,
     "metadata": {},
     "output_type": "execute_result"
    }
   ],
   "source": [
    "b = SparseCat([SingleOCFState(0.0, 18.0, -10.0, -10.0, pomdp.PED_THETA_RANGE[1], 0.0)],[1.])\n",
    "act = action(qmdp_policy, b) \n",
    "println(act)\n",
    "PedestrianAvoidancePOMDP.action_values(qmdp_policy, b)"
   ]
  },
  {
   "cell_type": "code",
   "execution_count": null,
   "metadata": {
    "scrolled": false
   },
   "outputs": [],
   "source": [
    "using Interact\n",
    "using Plots\n",
    "gr()\n",
    "\n",
    "policy_grid = zeros(Float64, length(pomdp.T_RANGE), length(pomdp.S_RANGE))\n",
    "\n",
    "@manipulate for ego_v in pomdp.EGO_V_RANGE\n",
    "    @manipulate for ped_v in pomdp.PED_V_RANGE\n",
    "\n",
    "        for i=1:length(pomdp.T_RANGE)\n",
    "            ped_t = pomdp.T_RANGE[i]\n",
    "            for j=1:length(pomdp.S_RANGE)\n",
    "                ped_s = pomdp.S_RANGE[j]\n",
    "                b = SparseCat([SingleOCFState(0.0, ego_v, ped_s, ped_t, 1.57, ped_v)],[1.])\n",
    "                act = action(qmdp_policy, b) \n",
    "              #  println(ped_s, \"/\", ped_t, \" act: \", act.acc)\n",
    "                policy_grid[i,j] = act.lateral_movement\n",
    "            end\n",
    "        end\n",
    "\n",
    "        xs = [pomdp.S_RANGE[i] for i = 1:length(pomdp.S_RANGE)]\n",
    "        ys = [pomdp.T_RANGE[i] for i = 1:length(pomdp.T_RANGE)]\n",
    "        heatmap(xs,ys,policy_grid,aspect_ratio=1)\n",
    "    end\n",
    "end\n"
   ]
  },
  {
   "cell_type": "code",
   "execution_count": 24,
   "metadata": {},
   "outputs": [
    {
     "name": "stdout",
     "output_type": "stream",
     "text": [
      "[1.0, 0.0]\n",
      "[0.0, 0.0]\n",
      "[-1.0, 0.0]\n",
      "[-2.0, 0.0]\n",
      "[-4.0, 0.0]\n",
      "0\n"
     ]
    }
   ],
   "source": [
    "# Test action space\n",
    "cnt = 0\n",
    "for (index, a) in enumerate(pomdp.action_space)\n",
    "    idx = actionindex(pomdp,a)\n",
    "    if (idx != index)\n",
    "        println(\"error\")\n",
    "        cnt = cnt + 1\n",
    "    end\n",
    "    println(a)\n",
    "end\n",
    "println(cnt)\n"
   ]
  },
  {
   "cell_type": "code",
   "execution_count": null,
   "metadata": {},
   "outputs": [],
   "source": [
    "b = SingleOCFBelief([SingleOCFState(0.0, 5.0, 50.0, 3.0, 1.57, 0.0)], [1.0])\n",
    "act = action(qmdp_policy, b) # policy\n",
    "println(act)\n",
    "PedestrianAvoidancePOMDP.action_values(qmdp_policy,b)\n",
    "vi_policy.util[18223]"
   ]
  },
  {
   "cell_type": "code",
   "execution_count": 136,
   "metadata": {},
   "outputs": [
    {
     "name": "stdout",
     "output_type": "stream",
     "text": [
      "reward: 10.0"
     ]
    },
    {
     "data": {
      "text/plain": [
       "2-element SingleOCFAction:\n",
       " -2.0\n",
       "  0.0"
      ]
     },
     "execution_count": 136,
     "metadata": {},
     "output_type": "execute_result"
    }
   ],
   "source": [
    "using PedestrianAvoidancePOMDP\n",
    "\n",
    "s = SingleOCFState(0.0, 14, 50.0, -3.0, 1.57, 0.0)\n",
    "sp = SingleOCFState(0.0, 14., 50.0, 0.0, 1.57, 0.0)\n",
    "act = SingleOCFAction(0.0, 0.0)\n",
    "print(\"reward: \", reward(pomdp, s, act, sp))\n",
    "\n",
    "b = SparseCat([sp],[1.])\n",
    "act = action(qmdp_policy, b) \n"
   ]
  }
 ],
 "metadata": {
  "@webio": {
   "lastCommId": "79fdbb5f050c456d8748bef830f030b1",
   "lastKernelId": "842fc753-aef0-40d4-8d9d-a53ec7a6bf47"
  },
  "kernelspec": {
   "display_name": "Julia 1.0.2",
   "language": "julia",
   "name": "julia-1.0"
  },
  "language_info": {
   "file_extension": ".jl",
   "mimetype": "application/julia",
   "name": "julia",
   "version": "1.0.2"
  }
 },
 "nbformat": 4,
 "nbformat_minor": 2
}
