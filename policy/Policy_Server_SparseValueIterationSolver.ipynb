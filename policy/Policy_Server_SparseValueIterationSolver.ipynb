{
 "cells": [
  {
   "cell_type": "code",
   "execution_count": 18,
   "metadata": {},
   "outputs": [],
   "source": [
    "# ] activate ../ "
   ]
  },
  {
   "cell_type": "code",
   "execution_count": 1,
   "metadata": {},
   "outputs": [
    {
     "name": "stderr",
     "output_type": "stream",
     "text": [
      "┌ Info: Recompiling stale cache file C:\\Users\\Maxime\\.julia\\compiled\\v1.0\\PedestrianAvoidancePOMDP\\UuJ2S.ji for PedestrianAvoidancePOMDP [a80ff0fe-e6a0-11e8-3b05-15413bd5ea7a]\n",
      "└ @ Base loading.jl:1190\n",
      "WARNING: Method definition propagate(Records.Entity{AutomotiveDrivingModels.VehicleState, AutomotiveDrivingModels.VehicleDef, Int64}, AutomotiveDrivingModels.LatLonAccel, AutomotiveDrivingModels.Roadway, Float64) in module EmergencyBrakingSystem at C:\\Users\\Maxime\\.julia\\dev\\EmergencyBrakingSystem\\src\\emergency_system.jl:147 overwritten in module PedestrianAvoidancePOMDP at C:\\Users\\Maxime\\.julia\\dev\\PedestrianAvoidancePOMDP\\src\\pedestrian_pomdp.jl:122.\n"
     ]
    }
   ],
   "source": [
    "using Revise\n",
    "using POMDPs\n",
    "using GridInterpolations \n",
    "using POMDPModelTools\n",
    "using POMDPPolicies\n",
    "using Parameters\n",
    "using StaticArrays\n",
    "using DiscreteValueIteration \n",
    "using Distributed\n",
    "using AutomotiveDrivingModels\n",
    "using AutoViz\n",
    "using AutomotiveSensors\n",
    "using AutomotivePOMDPs\n",
    "using PedestrianAvoidancePOMDP\n",
    "\n",
    "using FileIO\n",
    "using JLD2"
   ]
  },
  {
   "cell_type": "code",
   "execution_count": 2,
   "metadata": {},
   "outputs": [
    {
     "name": "stdout",
     "output_type": "stream",
     "text": [
      "POMDP with number of states: 215326\n"
     ]
    },
    {
     "name": "stderr",
     "output_type": "stream",
     "text": [
      "┌ Info: residual: 600.0, time: 0.686789136, total time: 0.686789136 \n",
      "│   i = 1\n",
      "└ @ DiscreteValueIteration C:\\Users\\Maxime\\.julia\\dev\\DiscreteValueIteration\\src\\sparse.jl:122\n",
      "┌ Info: residual: 570.0000000000002, time: 0.417974518, total time: 1.104763654 \n",
      "│   i = 2\n",
      "└ @ DiscreteValueIteration C:\\Users\\Maxime\\.julia\\dev\\DiscreteValueIteration\\src\\sparse.jl:122\n",
      "┌ Info: residual: 541.5000000000001, time: 0.417230222, total time: 1.521993876 \n",
      "│   i = 3\n",
      "└ @ DiscreteValueIteration C:\\Users\\Maxime\\.julia\\dev\\DiscreteValueIteration\\src\\sparse.jl:122\n",
      "┌ Info: residual: 514.425, time: 0.434539457, total time: 1.956533333 \n",
      "│   i = 4\n",
      "└ @ DiscreteValueIteration C:\\Users\\Maxime\\.julia\\dev\\DiscreteValueIteration\\src\\sparse.jl:122\n",
      "┌ Info: residual: 488.70374999999973, time: 0.408885333, total time: 2.365418666 \n",
      "│   i = 5\n",
      "└ @ DiscreteValueIteration C:\\Users\\Maxime\\.julia\\dev\\DiscreteValueIteration\\src\\sparse.jl:122\n",
      "┌ Info: residual: 464.2685624999997, time: 0.443533827, total time: 2.808952493 \n",
      "│   i = 6\n",
      "└ @ DiscreteValueIteration C:\\Users\\Maxime\\.julia\\dev\\DiscreteValueIteration\\src\\sparse.jl:122\n",
      "┌ Info: residual: 441.0551343749997, time: 0.464311308, total time: 3.273263801 \n",
      "│   i = 7\n",
      "└ @ DiscreteValueIteration C:\\Users\\Maxime\\.julia\\dev\\DiscreteValueIteration\\src\\sparse.jl:122\n",
      "┌ Info: residual: 375.6014205816166, time: 0.456584296, total time: 3.729848097 \n",
      "│   i = 8\n",
      "└ @ DiscreteValueIteration C:\\Users\\Maxime\\.julia\\dev\\DiscreteValueIteration\\src\\sparse.jl:122\n",
      "┌ Info: residual: 326.6182380363603, time: 0.463380148, total time: 4.193228245 \n",
      "│   i = 9\n",
      "└ @ DiscreteValueIteration C:\\Users\\Maxime\\.julia\\dev\\DiscreteValueIteration\\src\\sparse.jl:122\n",
      "┌ Info: residual: 261.1095291105055, time: 0.473980445, total time: 4.66720869 \n",
      "│   i = 10\n",
      "└ @ DiscreteValueIteration C:\\Users\\Maxime\\.julia\\dev\\DiscreteValueIteration\\src\\sparse.jl:122\n",
      "┌ Info: residual: 190.91458409627995, time: 0.468448395, total time: 5.135657085 \n",
      "│   i = 11\n",
      "└ @ DiscreteValueIteration C:\\Users\\Maxime\\.julia\\dev\\DiscreteValueIteration\\src\\sparse.jl:122\n",
      "┌ Info: residual: 113.45438191425261, time: 0.463617975, total time: 5.59927506 \n",
      "│   i = 12\n",
      "└ @ DiscreteValueIteration C:\\Users\\Maxime\\.julia\\dev\\DiscreteValueIteration\\src\\sparse.jl:122\n",
      "┌ Info: residual: 60.24954156479646, time: 0.452738371, total time: 6.052013431 \n",
      "│   i = 13\n",
      "└ @ DiscreteValueIteration C:\\Users\\Maxime\\.julia\\dev\\DiscreteValueIteration\\src\\sparse.jl:122\n",
      "┌ Info: residual: 28.966756352632373, time: 0.447825778, total time: 6.499839209 \n",
      "│   i = 14\n",
      "└ @ DiscreteValueIteration C:\\Users\\Maxime\\.julia\\dev\\DiscreteValueIteration\\src\\sparse.jl:122\n",
      "┌ Info: residual: 27.275044388961803, time: 0.455333926, total time: 6.955173135 \n",
      "│   i = 15\n",
      "└ @ DiscreteValueIteration C:\\Users\\Maxime\\.julia\\dev\\DiscreteValueIteration\\src\\sparse.jl:122\n",
      "┌ Info: residual: 24.954717483677413, time: 0.461398123, total time: 7.416571258 \n",
      "│   i = 16\n",
      "└ @ DiscreteValueIteration C:\\Users\\Maxime\\.julia\\dev\\DiscreteValueIteration\\src\\sparse.jl:122\n",
      "┌ Info: residual: 22.27050965651061, time: 0.45718163, total time: 7.873752888 \n",
      "│   i = 17\n",
      "└ @ DiscreteValueIteration C:\\Users\\Maxime\\.julia\\dev\\DiscreteValueIteration\\src\\sparse.jl:122\n",
      "┌ Info: residual: 19.424016410227026, time: 0.431560692, total time: 8.30531358 \n",
      "│   i = 18\n",
      "└ @ DiscreteValueIteration C:\\Users\\Maxime\\.julia\\dev\\DiscreteValueIteration\\src\\sparse.jl:122\n",
      "┌ Info: residual: 16.916944886882803, time: 0.611067654, total time: 8.916381234 \n",
      "│   i = 19\n",
      "└ @ DiscreteValueIteration C:\\Users\\Maxime\\.julia\\dev\\DiscreteValueIteration\\src\\sparse.jl:122\n",
      "┌ Info: residual: 14.79690198850244, time: 0.518151111, total time: 9.434532345 \n",
      "│   i = 20\n",
      "└ @ DiscreteValueIteration C:\\Users\\Maxime\\.julia\\dev\\DiscreteValueIteration\\src\\sparse.jl:122\n",
      "┌ Info: residual: 12.90433087684653, time: 0.50870479, total time: 9.943237134999999 \n",
      "│   i = 21\n",
      "└ @ DiscreteValueIteration C:\\Users\\Maxime\\.julia\\dev\\DiscreteValueIteration\\src\\sparse.jl:122\n",
      "┌ Info: residual: 11.178641188828209, time: 0.51094637, total time: 10.454183504999998 \n",
      "│   i = 22\n",
      "└ @ DiscreteValueIteration C:\\Users\\Maxime\\.julia\\dev\\DiscreteValueIteration\\src\\sparse.jl:122\n",
      "┌ Info: residual: 9.636608897103201, time: 0.531416889, total time: 10.985600393999999 \n",
      "│   i = 23\n",
      "└ @ DiscreteValueIteration C:\\Users\\Maxime\\.julia\\dev\\DiscreteValueIteration\\src\\sparse.jl:122\n",
      "┌ Info: residual: 8.2967039378577, time: 0.353912889, total time: 11.339513282999999 \n",
      "│   i = 24\n",
      "└ @ DiscreteValueIteration C:\\Users\\Maxime\\.julia\\dev\\DiscreteValueIteration\\src\\sparse.jl:122\n",
      "┌ Info: residual: 7.024403562233061, time: 0.292875456, total time: 11.632388739 \n",
      "│   i = 25\n",
      "└ @ DiscreteValueIteration C:\\Users\\Maxime\\.julia\\dev\\DiscreteValueIteration\\src\\sparse.jl:122\n",
      "┌ Info: residual: 3.068981509056556, time: 0.284309728, total time: 11.916698467 \n",
      "│   i = 26\n",
      "└ @ DiscreteValueIteration C:\\Users\\Maxime\\.julia\\dev\\DiscreteValueIteration\\src\\sparse.jl:122\n",
      "┌ Info: residual: 2.7322898768203174, time: 0.368896, total time: 12.285594467 \n",
      "│   i = 27\n",
      "└ @ DiscreteValueIteration C:\\Users\\Maxime\\.julia\\dev\\DiscreteValueIteration\\src\\sparse.jl:122\n",
      "┌ Info: residual: 2.5034408974246105, time: 0.69952237, total time: 12.985116837 \n",
      "│   i = 28\n",
      "└ @ DiscreteValueIteration C:\\Users\\Maxime\\.julia\\dev\\DiscreteValueIteration\\src\\sparse.jl:122\n",
      "┌ Info: residual: 2.37826885255339, time: 0.490258963, total time: 13.4753758 \n",
      "│   i = 29\n",
      "└ @ DiscreteValueIteration C:\\Users\\Maxime\\.julia\\dev\\DiscreteValueIteration\\src\\sparse.jl:122\n",
      "┌ Info: residual: 2.2593554099257176, time: 0.49491753, total time: 13.97029333 \n",
      "│   i = 30\n",
      "└ @ DiscreteValueIteration C:\\Users\\Maxime\\.julia\\dev\\DiscreteValueIteration\\src\\sparse.jl:122\n",
      "┌ Info: residual: 2.1463876394294346, time: 0.505052445, total time: 14.475345775000001 \n",
      "│   i = 31\n",
      "└ @ DiscreteValueIteration C:\\Users\\Maxime\\.julia\\dev\\DiscreteValueIteration\\src\\sparse.jl:122\n",
      "┌ Info: residual: 2.0390682574579557, time: 0.477094716, total time: 14.952440491 \n",
      "│   i = 32\n",
      "└ @ DiscreteValueIteration C:\\Users\\Maxime\\.julia\\dev\\DiscreteValueIteration\\src\\sparse.jl:122\n",
      "┌ Info: residual: 1.9371148445850679, time: 0.469461729, total time: 15.421902220000002 \n",
      "│   i = 33\n",
      "└ @ DiscreteValueIteration C:\\Users\\Maxime\\.julia\\dev\\DiscreteValueIteration\\src\\sparse.jl:122\n",
      "┌ Info: residual: 1.840259102355816, time: 0.441674272, total time: 15.863576492000002 \n",
      "│   i = 34\n",
      "└ @ DiscreteValueIteration C:\\Users\\Maxime\\.julia\\dev\\DiscreteValueIteration\\src\\sparse.jl:122\n",
      "┌ Info: residual: 1.748246147238035, time: 0.460870716, total time: 16.324447208000002 \n",
      "│   i = 35\n",
      "└ @ DiscreteValueIteration C:\\Users\\Maxime\\.julia\\dev\\DiscreteValueIteration\\src\\sparse.jl:122\n",
      "┌ Info: residual: 1.660833839876119, time: 0.675109531, total time: 16.999556739000003 \n",
      "│   i = 36\n",
      "└ @ DiscreteValueIteration C:\\Users\\Maxime\\.julia\\dev\\DiscreteValueIteration\\src\\sparse.jl:122\n",
      "┌ Info: residual: 1.5777921478823487, time: 1.027171161, total time: 18.026727900000004 \n",
      "│   i = 37\n",
      "└ @ DiscreteValueIteration C:\\Users\\Maxime\\.julia\\dev\\DiscreteValueIteration\\src\\sparse.jl:122\n",
      "┌ Info: residual: 1.498902540488217, time: 0.603329976, total time: 18.630057876000006 \n",
      "│   i = 38\n",
      "└ @ DiscreteValueIteration C:\\Users\\Maxime\\.julia\\dev\\DiscreteValueIteration\\src\\sparse.jl:122\n",
      "┌ Info: residual: 1.4239574134638247, time: 0.492948148, total time: 19.123006024000006 \n",
      "│   i = 39\n",
      "└ @ DiscreteValueIteration C:\\Users\\Maxime\\.julia\\dev\\DiscreteValueIteration\\src\\sparse.jl:122\n",
      "┌ Info: residual: 1.3527595427906363, time: 0.892175407, total time: 20.015181431000006 \n",
      "│   i = 40\n",
      "└ @ DiscreteValueIteration C:\\Users\\Maxime\\.julia\\dev\\DiscreteValueIteration\\src\\sparse.jl:122\n",
      "┌ Info: residual: 1.2851215656511101, time: 0.900691358, total time: 20.915872789000005 \n",
      "│   i = 41\n",
      "└ @ DiscreteValueIteration C:\\Users\\Maxime\\.julia\\dev\\DiscreteValueIteration\\src\\sparse.jl:122\n",
      "┌ Info: residual: 1.2208654873685418, time: 0.701565629, total time: 21.617438418000006 \n",
      "│   i = 42\n",
      "└ @ DiscreteValueIteration C:\\Users\\Maxime\\.julia\\dev\\DiscreteValueIteration\\src\\sparse.jl:122\n",
      "┌ Info: residual: 1.1598222130001261, time: 0.511119408, total time: 22.128557826000005 \n",
      "│   i = 43\n",
      "└ @ DiscreteValueIteration C:\\Users\\Maxime\\.julia\\dev\\DiscreteValueIteration\\src\\sparse.jl:122\n",
      "┌ Info: residual: 1.1018311023501042, time: 0.483602568, total time: 22.612160394000004 \n",
      "│   i = 44\n",
      "└ @ DiscreteValueIteration C:\\Users\\Maxime\\.julia\\dev\\DiscreteValueIteration\\src\\sparse.jl:122\n"
     ]
    },
    {
     "name": "stderr",
     "output_type": "stream",
     "text": [
      "┌ Info: residual: 1.0467395472326189, time: 0.462923852, total time: 23.075084246000003 \n",
      "│   i = 45\n",
      "└ @ DiscreteValueIteration C:\\Users\\Maxime\\.julia\\dev\\DiscreteValueIteration\\src\\sparse.jl:122\n",
      "┌ Info: residual: 0.9944025698709993, time: 0.401818469, total time: 23.476902715 \n",
      "│   i = 46\n",
      "└ @ DiscreteValueIteration C:\\Users\\Maxime\\.julia\\dev\\DiscreteValueIteration\\src\\sparse.jl:122\n",
      "┌ Info: residual: 0.944682441377438, time: 0.395213827, total time: 23.872116542 \n",
      "│   i = 47\n",
      "└ @ DiscreteValueIteration C:\\Users\\Maxime\\.julia\\dev\\DiscreteValueIteration\\src\\sparse.jl:122\n",
      "┌ Info: residual: 0.8974483193085803, time: 0.772049383, total time: 24.644165925 \n",
      "│   i = 48\n",
      "└ @ DiscreteValueIteration C:\\Users\\Maxime\\.julia\\dev\\DiscreteValueIteration\\src\\sparse.jl:122\n",
      "┌ Info: residual: 0.8525759033431655, time: 0.713130271, total time: 25.357296196 \n",
      "│   i = 49\n",
      "└ @ DiscreteValueIteration C:\\Users\\Maxime\\.julia\\dev\\DiscreteValueIteration\\src\\sparse.jl:122\n",
      "┌ Info: residual: 0.8099471081760043, time: 0.436483556, total time: 25.793779752 \n",
      "│   i = 50\n",
      "└ @ DiscreteValueIteration C:\\Users\\Maxime\\.julia\\dev\\DiscreteValueIteration\\src\\sparse.jl:122\n",
      "┌ Info: residual: 0.7694497527672297, time: 0.412275753, total time: 26.206055505 \n",
      "│   i = 51\n",
      "└ @ DiscreteValueIteration C:\\Users\\Maxime\\.julia\\dev\\DiscreteValueIteration\\src\\sparse.jl:122\n",
      "┌ Info: residual: 0.7309772651288711, time: 0.395934025, total time: 26.601989529999997 \n",
      "│   i = 52\n",
      "└ @ DiscreteValueIteration C:\\Users\\Maxime\\.julia\\dev\\DiscreteValueIteration\\src\\sparse.jl:122\n",
      "┌ Info: residual: 0.6944284018724147, time: 0.467414914, total time: 27.069404443999996 \n",
      "│   i = 53\n",
      "└ @ DiscreteValueIteration C:\\Users\\Maxime\\.julia\\dev\\DiscreteValueIteration\\src\\sparse.jl:122\n",
      "┌ Info: residual: 0.659706981778811, time: 0.779594271, total time: 27.848998714999997 \n",
      "│   i = 54\n",
      "└ @ DiscreteValueIteration C:\\Users\\Maxime\\.julia\\dev\\DiscreteValueIteration\\src\\sparse.jl:122\n",
      "┌ Info: residual: 0.626721632689879, time: 0.919941136, total time: 28.768939850999995 \n",
      "│   i = 55\n",
      "└ @ DiscreteValueIteration C:\\Users\\Maxime\\.julia\\dev\\DiscreteValueIteration\\src\\sparse.jl:122\n",
      "┌ Info: residual: 0.5953855510553865, time: 0.428692543, total time: 29.197632393999996 \n",
      "│   i = 56\n",
      "└ @ DiscreteValueIteration C:\\Users\\Maxime\\.julia\\dev\\DiscreteValueIteration\\src\\sparse.jl:122\n",
      "┌ Info: residual: 0.5656162735025987, time: 0.820018963, total time: 30.017651356999995 \n",
      "│   i = 57\n",
      "└ @ DiscreteValueIteration C:\\Users\\Maxime\\.julia\\dev\\DiscreteValueIteration\\src\\sparse.jl:122\n",
      "┌ Info: residual: 0.5373354598274886, time: 0.797978469, total time: 30.815629825999995 \n",
      "│   i = 58\n",
      "└ @ DiscreteValueIteration C:\\Users\\Maxime\\.julia\\dev\\DiscreteValueIteration\\src\\sparse.jl:122\n",
      "┌ Info: residual: 0.5104686868361341, time: 0.41810884, total time: 31.233738665999994 \n",
      "│   i = 59\n",
      "└ @ DiscreteValueIteration C:\\Users\\Maxime\\.julia\\dev\\DiscreteValueIteration\\src\\sparse.jl:122\n",
      "┌ Info: residual: 0.484945252494299, time: 0.450900148, total time: 31.684638813999992 \n",
      "│   i = 60\n",
      "└ @ DiscreteValueIteration C:\\Users\\Maxime\\.julia\\dev\\DiscreteValueIteration\\src\\sparse.jl:122\n",
      "┌ Info: residual: 0.4606979898696011, time: 0.401318716, total time: 32.085957529999995 \n",
      "│   i = 61\n",
      "└ @ DiscreteValueIteration C:\\Users\\Maxime\\.julia\\dev\\DiscreteValueIteration\\src\\sparse.jl:122\n",
      "┌ Info: residual: 0.4376630903761338, time: 0.399709234, total time: 32.485666763999994 \n",
      "│   i = 62\n",
      "└ @ DiscreteValueIteration C:\\Users\\Maxime\\.julia\\dev\\DiscreteValueIteration\\src\\sparse.jl:122\n",
      "┌ Info: residual: 0.41577993585733, time: 0.390529976, total time: 32.87619674 \n",
      "│   i = 63\n",
      "└ @ DiscreteValueIteration C:\\Users\\Maxime\\.julia\\dev\\DiscreteValueIteration\\src\\sparse.jl:122\n",
      "┌ Info: residual: 0.3949909390644848, time: 0.375624692, total time: 33.251821432 \n",
      "│   i = 64\n",
      "└ @ DiscreteValueIteration C:\\Users\\Maxime\\.julia\\dev\\DiscreteValueIteration\\src\\sparse.jl:122\n",
      "┌ Info: residual: 0.3752413921112634, time: 0.408794864, total time: 33.660616296 \n",
      "│   i = 65\n",
      "└ @ DiscreteValueIteration C:\\Users\\Maxime\\.julia\\dev\\DiscreteValueIteration\\src\\sparse.jl:122\n",
      "┌ Info: residual: 0.3564793225056917, time: 0.377655309, total time: 34.038271605 \n",
      "│   i = 66\n",
      "└ @ DiscreteValueIteration C:\\Users\\Maxime\\.julia\\dev\\DiscreteValueIteration\\src\\sparse.jl:122\n",
      "┌ Info: residual: 0.3386553563804, time: 0.373644247, total time: 34.411915852 \n",
      "│   i = 67\n",
      "└ @ DiscreteValueIteration C:\\Users\\Maxime\\.julia\\dev\\DiscreteValueIteration\\src\\sparse.jl:122\n",
      "┌ Info: residual: 0.3217225885614141, time: 0.383288099, total time: 34.795203951 \n",
      "│   i = 68\n",
      "└ @ DiscreteValueIteration C:\\Users\\Maxime\\.julia\\dev\\DiscreteValueIteration\\src\\sparse.jl:122\n",
      "┌ Info: residual: 0.30563645913332493, time: 0.527410172, total time: 35.322614123 \n",
      "│   i = 69\n",
      "└ @ DiscreteValueIteration C:\\Users\\Maxime\\.julia\\dev\\DiscreteValueIteration\\src\\sparse.jl:122\n",
      "┌ Info: residual: 0.2903546361766587, time: 0.839761383, total time: 36.162375506000004 \n",
      "│   i = 70\n",
      "└ @ DiscreteValueIteration C:\\Users\\Maxime\\.julia\\dev\\DiscreteValueIteration\\src\\sparse.jl:122\n",
      "┌ Info: residual: 0.27583690436787833, time: 0.82057758, total time: 36.982953086 \n",
      "│   i = 71\n",
      "└ @ DiscreteValueIteration C:\\Users\\Maxime\\.julia\\dev\\DiscreteValueIteration\\src\\sparse.jl:122\n",
      "┌ Info: residual: 0.2620450591494432, time: 0.482646123, total time: 37.465599209000004 \n",
      "│   i = 72\n",
      "└ @ DiscreteValueIteration C:\\Users\\Maxime\\.julia\\dev\\DiscreteValueIteration\\src\\sparse.jl:122\n",
      "┌ Info: residual: 0.24894280619199094, time: 0.412889284, total time: 37.878488493000006 \n",
      "│   i = 73\n",
      "└ @ DiscreteValueIteration C:\\Users\\Maxime\\.julia\\dev\\DiscreteValueIteration\\src\\sparse.jl:122\n",
      "┌ Info: residual: 0.23649566588238713, time: 0.384905086, total time: 38.26339357900001 \n",
      "│   i = 74\n",
      "└ @ DiscreteValueIteration C:\\Users\\Maxime\\.julia\\dev\\DiscreteValueIteration\\src\\sparse.jl:122\n",
      "┌ Info: residual: 0.22467088258827062, time: 0.382362074, total time: 38.64575565300001 \n",
      "│   i = 75\n",
      "└ @ DiscreteValueIteration C:\\Users\\Maxime\\.julia\\dev\\DiscreteValueIteration\\src\\sparse.jl:122\n",
      "┌ Info: residual: 0.21343733845887414, time: 0.378951506, total time: 39.02470715900001 \n",
      "│   i = 76\n",
      "└ @ DiscreteValueIteration C:\\Users\\Maxime\\.julia\\dev\\DiscreteValueIteration\\src\\sparse.jl:122\n",
      "┌ Info: residual: 0.20276547153594038, time: 0.386061037, total time: 39.41076819600001 \n",
      "│   i = 77\n",
      "└ @ DiscreteValueIteration C:\\Users\\Maxime\\.julia\\dev\\DiscreteValueIteration\\src\\sparse.jl:122\n",
      "┌ Info: residual: 0.19262719795915473, time: 0.369308839, total time: 39.780077035000005 \n",
      "│   i = 78\n",
      "└ @ DiscreteValueIteration C:\\Users\\Maxime\\.julia\\dev\\DiscreteValueIteration\\src\\sparse.jl:122\n",
      "┌ Info: residual: 0.18299583806120268, time: 0.364495802, total time: 40.144572837000005 \n",
      "│   i = 79\n",
      "└ @ DiscreteValueIteration C:\\Users\\Maxime\\.julia\\dev\\DiscreteValueIteration\\src\\sparse.jl:122\n",
      "┌ Info: residual: 0.17384604615816102, time: 0.371067655, total time: 40.515640492 \n",
      "│   i = 80\n",
      "└ @ DiscreteValueIteration C:\\Users\\Maxime\\.julia\\dev\\DiscreteValueIteration\\src\\sparse.jl:122\n",
      "┌ Info: residual: 0.1651537438502544, time: 0.377637926, total time: 40.893278418 \n",
      "│   i = 81\n",
      "└ @ DiscreteValueIteration C:\\Users\\Maxime\\.julia\\dev\\DiscreteValueIteration\\src\\sparse.jl:122\n",
      "┌ Info: residual: 0.15689605665772888, time: 0.475128888, total time: 41.368407306 \n",
      "│   i = 82\n",
      "└ @ DiscreteValueIteration C:\\Users\\Maxime\\.julia\\dev\\DiscreteValueIteration\\src\\sparse.jl:122\n",
      "┌ Info: residual: 0.14905125382483675, time: 0.368361481, total time: 41.736768787 \n",
      "│   i = 83\n",
      "└ @ DiscreteValueIteration C:\\Users\\Maxime\\.julia\\dev\\DiscreteValueIteration\\src\\sparse.jl:122\n",
      "┌ Info: residual: 0.14159869113362333, time: 0.364043061, total time: 42.100811848 \n",
      "│   i = 84\n",
      "└ @ DiscreteValueIteration C:\\Users\\Maxime\\.julia\\dev\\DiscreteValueIteration\\src\\sparse.jl:122\n",
      "┌ Info: residual: 0.1345187565769379, time: 0.362066963, total time: 42.462878810999996 \n",
      "│   i = 85\n",
      "└ @ DiscreteValueIteration C:\\Users\\Maxime\\.julia\\dev\\DiscreteValueIteration\\src\\sparse.jl:122\n",
      "┌ Info: residual: 0.12779281874810522, time: 0.371416494, total time: 42.834295305 \n",
      "│   i = 86\n",
      "└ @ DiscreteValueIteration C:\\Users\\Maxime\\.julia\\dev\\DiscreteValueIteration\\src\\sparse.jl:122\n",
      "┌ Info: residual: 0.12140317781069143, time: 0.363255704, total time: 43.197551008999994 \n",
      "│   i = 87\n",
      "└ @ DiscreteValueIteration C:\\Users\\Maxime\\.julia\\dev\\DiscreteValueIteration\\src\\sparse.jl:122\n"
     ]
    },
    {
     "name": "stderr",
     "output_type": "stream",
     "text": [
      "┌ Info: residual: 0.11533301892015402, time: 0.379053828, total time: 43.57660483699999 \n",
      "│   i = 88\n",
      "└ @ DiscreteValueIteration C:\\Users\\Maxime\\.julia\\dev\\DiscreteValueIteration\\src\\sparse.jl:122\n",
      "┌ Info: residual: 0.10956636797416763, time: 0.589899456, total time: 44.16650429299999 \n",
      "│   i = 89\n",
      "└ @ DiscreteValueIteration C:\\Users\\Maxime\\.julia\\dev\\DiscreteValueIteration\\src\\sparse.jl:122\n",
      "┌ Info: residual: 0.10408804957546636, time: 0.410828642, total time: 44.57733293499999 \n",
      "│   i = 90\n",
      "└ @ DiscreteValueIteration C:\\Users\\Maxime\\.julia\\dev\\DiscreteValueIteration\\src\\sparse.jl:122\n",
      "┌ Info: residual: 0.09888364709669872, time: 0.370150716, total time: 44.947483650999985 \n",
      "│   i = 91\n",
      "└ @ DiscreteValueIteration C:\\Users\\Maxime\\.julia\\dev\\DiscreteValueIteration\\src\\sparse.jl:122\n",
      "┌ Info: residual: 0.09393946474187942, time: 0.378898173, total time: 45.32638182399999 \n",
      "│   i = 92\n",
      "└ @ DiscreteValueIteration C:\\Users\\Maxime\\.julia\\dev\\DiscreteValueIteration\\src\\sparse.jl:122\n",
      "┌ Info: residual: 0.08924249150476271, time: 0.374810074, total time: 45.70119189799999 \n",
      "│   i = 93\n",
      "└ @ DiscreteValueIteration C:\\Users\\Maxime\\.julia\\dev\\DiscreteValueIteration\\src\\sparse.jl:122\n",
      "┌ Info: residual: 0.08478036692955015, time: 0.620405729, total time: 46.32159762699999 \n",
      "│   i = 94\n",
      "└ @ DiscreteValueIteration C:\\Users\\Maxime\\.julia\\dev\\DiscreteValueIteration\\src\\sparse.jl:122\n",
      "┌ Info: residual: 0.08054134858306838, time: 0.595924148, total time: 46.91752177499999 \n",
      "│   i = 95\n",
      "└ @ DiscreteValueIteration C:\\Users\\Maxime\\.julia\\dev\\DiscreteValueIteration\\src\\sparse.jl:122\n",
      "┌ Info: residual: 0.07651428115391923, time: 0.727422025, total time: 47.64494379999999 \n",
      "│   i = 96\n",
      "└ @ DiscreteValueIteration C:\\Users\\Maxime\\.julia\\dev\\DiscreteValueIteration\\src\\sparse.jl:122\n",
      "┌ Info: residual: 0.07268856709623606, time: 0.60419121, total time: 48.249135009999996 \n",
      "│   i = 97\n",
      "└ @ DiscreteValueIteration C:\\Users\\Maxime\\.julia\\dev\\DiscreteValueIteration\\src\\sparse.jl:122\n",
      "┌ Info: residual: 0.06905413874142141, time: 0.493039803, total time: 48.742174813 \n",
      "│   i = 98\n",
      "└ @ DiscreteValueIteration C:\\Users\\Maxime\\.julia\\dev\\DiscreteValueIteration\\src\\sparse.jl:122\n",
      "┌ Info: residual: 0.0656014318043674, time: 0.422281086, total time: 49.164455899 \n",
      "│   i = 99\n",
      "└ @ DiscreteValueIteration C:\\Users\\Maxime\\.julia\\dev\\DiscreteValueIteration\\src\\sparse.jl:122\n",
      "┌ Info: residual: 0.06232136021415613, time: 0.399914272, total time: 49.56437017099999 \n",
      "│   i = 100\n",
      "└ @ DiscreteValueIteration C:\\Users\\Maxime\\.julia\\dev\\DiscreteValueIteration\\src\\sparse.jl:122\n",
      "┌ Info: residual: 0.05920529220344406, time: 0.366938469, total time: 49.93130863999999 \n",
      "│   i = 101\n",
      "└ @ DiscreteValueIteration C:\\Users\\Maxime\\.julia\\dev\\DiscreteValueIteration\\src\\sparse.jl:122\n",
      "┌ Info: residual: 0.05624502759326333, time: 0.369185185, total time: 50.30049382499999 \n",
      "│   i = 102\n",
      "└ @ DiscreteValueIteration C:\\Users\\Maxime\\.julia\\dev\\DiscreteValueIteration\\src\\sparse.jl:122\n",
      "┌ Info: residual: 0.053432776213639954, time: 0.381798321, total time: 50.68229214599999 \n",
      "│   i = 103\n",
      "└ @ DiscreteValueIteration C:\\Users\\Maxime\\.julia\\dev\\DiscreteValueIteration\\src\\sparse.jl:122\n",
      "┌ Info: residual: 0.050761137402957957, time: 0.367600988, total time: 51.04989313399999 \n",
      "│   i = 104\n",
      "└ @ DiscreteValueIteration C:\\Users\\Maxime\\.julia\\dev\\DiscreteValueIteration\\src\\sparse.jl:122\n",
      "┌ Info: residual: 0.048223080532807217, time: 0.36761679, total time: 51.41750992399999 \n",
      "│   i = 105\n",
      "└ @ DiscreteValueIteration C:\\Users\\Maxime\\.julia\\dev\\DiscreteValueIteration\\src\\sparse.jl:122\n",
      "┌ Info: residual: 0.04581192650616117, time: 0.36905442, total time: 51.786564343999984 \n",
      "│   i = 106\n",
      "└ @ DiscreteValueIteration C:\\Users\\Maxime\\.julia\\dev\\DiscreteValueIteration\\src\\sparse.jl:122\n",
      "┌ Info: residual: 0.04352133018088011, time: 0.36803358, total time: 52.15459792399999 \n",
      "│   i = 107\n",
      "└ @ DiscreteValueIteration C:\\Users\\Maxime\\.julia\\dev\\DiscreteValueIteration\\src\\sparse.jl:122\n",
      "┌ Info: residual: 0.04134526367181479, time: 0.372587457, total time: 52.52718538099999 \n",
      "│   i = 108\n",
      "└ @ DiscreteValueIteration C:\\Users\\Maxime\\.julia\\dev\\DiscreteValueIteration\\src\\sparse.jl:122\n",
      "┌ Info: residual: 0.039278000488252474, time: 0.49965037, total time: 53.026835750999986 \n",
      "│   i = 109\n",
      "└ @ DiscreteValueIteration C:\\Users\\Maxime\\.julia\\dev\\DiscreteValueIteration\\src\\sparse.jl:122\n",
      "┌ Info: residual: 0.037314100463845534, time: 0.440522272, total time: 53.46735802299999 \n",
      "│   i = 110\n",
      "└ @ DiscreteValueIteration C:\\Users\\Maxime\\.julia\\dev\\DiscreteValueIteration\\src\\sparse.jl:122\n",
      "┌ Info: residual: 0.03544839544065326, time: 0.387783901, total time: 53.85514192399999 \n",
      "│   i = 111\n",
      "└ @ DiscreteValueIteration C:\\Users\\Maxime\\.julia\\dev\\DiscreteValueIteration\\src\\sparse.jl:122\n",
      "┌ Info: residual: 0.03367597566861491, time: 0.450354963, total time: 54.30549688699999 \n",
      "│   i = 112\n",
      "└ @ DiscreteValueIteration C:\\Users\\Maxime\\.julia\\dev\\DiscreteValueIteration\\src\\sparse.jl:122\n",
      "┌ Info: residual: 0.031992176885211165, time: 0.484332642, total time: 54.78982952899999 \n",
      "│   i = 113\n",
      "└ @ DiscreteValueIteration C:\\Users\\Maxime\\.julia\\dev\\DiscreteValueIteration\\src\\sparse.jl:122\n",
      "┌ Info: residual: 0.030392568040923607, time: 0.41628563, total time: 55.206115158999985 \n",
      "│   i = 114\n",
      "└ @ DiscreteValueIteration C:\\Users\\Maxime\\.julia\\dev\\DiscreteValueIteration\\src\\sparse.jl:122\n",
      "┌ Info: residual: 0.028872939638915796, time: 0.402502321, total time: 55.608617479999985 \n",
      "│   i = 115\n",
      "└ @ DiscreteValueIteration C:\\Users\\Maxime\\.julia\\dev\\DiscreteValueIteration\\src\\sparse.jl:122\n",
      "┌ Info: residual: 0.02742929265696148, time: 0.377405234, total time: 55.986022713999986 \n",
      "│   i = 116\n",
      "└ @ DiscreteValueIteration C:\\Users\\Maxime\\.julia\\dev\\DiscreteValueIteration\\src\\sparse.jl:122\n",
      "┌ Info: residual: 0.02605782802410772, time: 0.372268642, total time: 56.35829135599999 \n",
      "│   i = 117\n",
      "└ @ DiscreteValueIteration C:\\Users\\Maxime\\.julia\\dev\\DiscreteValueIteration\\src\\sparse.jl:122\n",
      "┌ Info: residual: 0.024754936622912282, time: 0.38271605, total time: 56.74100740599999 \n",
      "│   i = 118\n",
      "└ @ DiscreteValueIteration C:\\Users\\Maxime\\.julia\\dev\\DiscreteValueIteration\\src\\sparse.jl:122\n",
      "┌ Info: residual: 0.023517189791789406, time: 0.367277827, total time: 57.10828523299999 \n",
      "│   i = 119\n",
      "└ @ DiscreteValueIteration C:\\Users\\Maxime\\.julia\\dev\\DiscreteValueIteration\\src\\sparse.jl:122\n",
      "┌ Info: residual: 0.022341330302197093, time: 0.363388839, total time: 57.47167407199999 \n",
      "│   i = 120\n",
      "└ @ DiscreteValueIteration C:\\Users\\Maxime\\.julia\\dev\\DiscreteValueIteration\\src\\sparse.jl:122\n",
      "┌ Info: residual: 0.02122426378707587, time: 0.370817185, total time: 57.84249125699999 \n",
      "│   i = 121\n",
      "└ @ DiscreteValueIteration C:\\Users\\Maxime\\.julia\\dev\\DiscreteValueIteration\\src\\sparse.jl:122\n",
      "┌ Info: residual: 0.020163050597716392, time: 0.364915358, total time: 58.20740661499999 \n",
      "│   i = 122\n",
      "└ @ DiscreteValueIteration C:\\Users\\Maxime\\.julia\\dev\\DiscreteValueIteration\\src\\sparse.jl:122\n",
      "┌ Info: residual: 0.01915489806785331, time: 0.378619654, total time: 58.58602626899999 \n",
      "│   i = 123\n",
      "└ @ DiscreteValueIteration C:\\Users\\Maxime\\.julia\\dev\\DiscreteValueIteration\\src\\sparse.jl:122\n",
      "┌ Info: residual: 0.018197153164464908, time: 0.356772346, total time: 58.94279861499999 \n",
      "│   i = 124\n",
      "└ @ DiscreteValueIteration C:\\Users\\Maxime\\.julia\\dev\\DiscreteValueIteration\\src\\sparse.jl:122\n",
      "┌ Info: residual: 0.017287295506235978, time: 0.37088158, total time: 59.31368019499999 \n",
      "│   i = 125\n",
      "└ @ DiscreteValueIteration C:\\Users\\Maxime\\.julia\\dev\\DiscreteValueIteration\\src\\sparse.jl:122\n",
      "┌ Info: residual: 0.016422930730954022, time: 0.469546272, total time: 59.78322646699999 \n",
      "│   i = 126\n",
      "└ @ DiscreteValueIteration C:\\Users\\Maxime\\.julia\\dev\\DiscreteValueIteration\\src\\sparse.jl:122\n",
      "┌ Info: residual: 0.015601784194416268, time: 0.377592889, total time: 60.16081935599999 \n",
      "│   i = 127\n",
      "└ @ DiscreteValueIteration C:\\Users\\Maxime\\.julia\\dev\\DiscreteValueIteration\\src\\sparse.jl:122\n",
      "┌ Info: residual: 0.014821694984703981, time: 0.537906568, total time: 60.69872592399999 \n",
      "│   i = 128\n",
      "└ @ DiscreteValueIteration C:\\Users\\Maxime\\.julia\\dev\\DiscreteValueIteration\\src\\sparse.jl:122\n",
      "┌ Info: residual: 0.01408061023545315, time: 0.401572346, total time: 61.10029826999999 \n",
      "│   i = 129\n",
      "└ @ DiscreteValueIteration C:\\Users\\Maxime\\.julia\\dev\\DiscreteValueIteration\\src\\sparse.jl:122\n"
     ]
    },
    {
     "name": "stderr",
     "output_type": "stream",
     "text": [
      "┌ Info: residual: 0.013376579723683335, time: 0.383157333, total time: 61.48345560299999 \n",
      "│   i = 130\n",
      "└ @ DiscreteValueIteration C:\\Users\\Maxime\\.julia\\dev\\DiscreteValueIteration\\src\\sparse.jl:122\n",
      "┌ Info: residual: 0.012707750737519063, time: 0.37904237, total time: 61.86249797299999 \n",
      "│   i = 131\n",
      "└ @ DiscreteValueIteration C:\\Users\\Maxime\\.julia\\dev\\DiscreteValueIteration\\src\\sparse.jl:122\n",
      "┌ Info: residual: 0.012072363200644531, time: 0.375401086, total time: 62.237899058999986 \n",
      "│   i = 132\n",
      "└ @ DiscreteValueIteration C:\\Users\\Maxime\\.julia\\dev\\DiscreteValueIteration\\src\\sparse.jl:122\n",
      "┌ Info: residual: 0.011468745040616568, time: 0.37286163, total time: 62.61076068899999 \n",
      "│   i = 133\n",
      "└ @ DiscreteValueIteration C:\\Users\\Maxime\\.julia\\dev\\DiscreteValueIteration\\src\\sparse.jl:122\n",
      "┌ Info: residual: 0.01089530778858716, time: 0.372025284, total time: 62.98278597299999 \n",
      "│   i = 134\n",
      "└ @ DiscreteValueIteration C:\\Users\\Maxime\\.julia\\dev\\DiscreteValueIteration\\src\\sparse.jl:122\n",
      "┌ Info: residual: 0.010350542399152118, time: 0.380772741, total time: 63.36355871399999 \n",
      "│   i = 135\n",
      "└ @ DiscreteValueIteration C:\\Users\\Maxime\\.julia\\dev\\DiscreteValueIteration\\src\\sparse.jl:122\n",
      "┌ Info: residual: 0.009833015279212987, time: 0.492879408, total time: 63.85643812199999 \n",
      "│   i = 136\n",
      "└ @ DiscreteValueIteration C:\\Users\\Maxime\\.julia\\dev\\DiscreteValueIteration\\src\\sparse.jl:122\n",
      "┌ Info: residual: 0.009341364515250916, time: 0.378797432, total time: 64.235235554 \n",
      "│   i = 137\n",
      "└ @ DiscreteValueIteration C:\\Users\\Maxime\\.julia\\dev\\DiscreteValueIteration\\src\\sparse.jl:122\n",
      "┌ Info: residual: 0.008874296289491213, time: 0.432345284, total time: 64.66758083799999 \n",
      "│   i = 138\n",
      "└ @ DiscreteValueIteration C:\\Users\\Maxime\\.julia\\dev\\DiscreteValueIteration\\src\\sparse.jl:122\n",
      "┌ Info: residual: 0.00843058147503939, time: 0.626369975, total time: 65.293950813 \n",
      "│   i = 139\n",
      "└ @ DiscreteValueIteration C:\\Users\\Maxime\\.julia\\dev\\DiscreteValueIteration\\src\\sparse.jl:122\n",
      "┌ Info: residual: 0.008009052401291683, time: 0.712768791, total time: 66.006719604 \n",
      "│   i = 140\n",
      "└ @ DiscreteValueIteration C:\\Users\\Maxime\\.julia\\dev\\DiscreteValueIteration\\src\\sparse.jl:122\n",
      "┌ Info: residual: 0.007608599781235625, time: 0.462552889, total time: 66.46927249299999 \n",
      "│   i = 141\n",
      "└ @ DiscreteValueIteration C:\\Users\\Maxime\\.julia\\dev\\DiscreteValueIteration\\src\\sparse.jl:122\n",
      "┌ Info: residual: 0.007228169792171002, time: 0.444825679, total time: 66.914098172 \n",
      "│   i = 142\n",
      "└ @ DiscreteValueIteration C:\\Users\\Maxime\\.julia\\dev\\DiscreteValueIteration\\src\\sparse.jl:122\n",
      "┌ Info: residual: 0.006866761302575242, time: 0.42026074, total time: 67.334358912 \n",
      "│   i = 143\n",
      "└ @ DiscreteValueIteration C:\\Users\\Maxime\\.julia\\dev\\DiscreteValueIteration\\src\\sparse.jl:122\n",
      "┌ Info: residual: 0.006523423237439374, time: 0.400921679, total time: 67.735280591 \n",
      "│   i = 144\n",
      "└ @ DiscreteValueIteration C:\\Users\\Maxime\\.julia\\dev\\DiscreteValueIteration\\src\\sparse.jl:122\n",
      "┌ Info: residual: 0.006197252075594406, time: 0.403132049, total time: 68.13841264000001 \n",
      "│   i = 145\n",
      "└ @ DiscreteValueIteration C:\\Users\\Maxime\\.julia\\dev\\DiscreteValueIteration\\src\\sparse.jl:122\n",
      "┌ Info: residual: 0.00588738947178058, time: 0.414610568, total time: 68.55302320800001 \n",
      "│   i = 146\n",
      "└ @ DiscreteValueIteration C:\\Users\\Maxime\\.julia\\dev\\DiscreteValueIteration\\src\\sparse.jl:122\n",
      "┌ Info: residual: 0.005593019998201498, time: 0.565701926, total time: 69.11872513400002 \n",
      "│   i = 147\n",
      "└ @ DiscreteValueIteration C:\\Users\\Maxime\\.julia\\dev\\DiscreteValueIteration\\src\\sparse.jl:122\n",
      "┌ Info: residual: 0.005313368998315582, time: 0.489452247, total time: 69.60817738100002 \n",
      "│   i = 148\n",
      "└ @ DiscreteValueIteration C:\\Users\\Maxime\\.julia\\dev\\DiscreteValueIteration\\src\\sparse.jl:122\n",
      "┌ Info: residual: 0.005047700548402645, time: 0.481566025, total time: 70.08974340600003 \n",
      "│   i = 149\n",
      "└ @ DiscreteValueIteration C:\\Users\\Maxime\\.julia\\dev\\DiscreteValueIteration\\src\\sparse.jl:122\n",
      "┌ Info: residual: 0.004795315520993881, time: 0.39804721, total time: 70.48779061600003 \n",
      "│   i = 150\n",
      "└ @ DiscreteValueIteration C:\\Users\\Maxime\\.julia\\dev\\DiscreteValueIteration\\src\\sparse.jl:122\n",
      "┌ Info: residual: 0.0045555497449640825, time: 0.411473382, total time: 70.89926399800002 \n",
      "│   i = 151\n",
      "└ @ DiscreteValueIteration C:\\Users\\Maxime\\.julia\\dev\\DiscreteValueIteration\\src\\sparse.jl:122\n",
      "┌ Info: residual: 0.004327772257681772, time: 0.365481086, total time: 71.26474508400003 \n",
      "│   i = 152\n",
      "└ @ DiscreteValueIteration C:\\Users\\Maxime\\.julia\\dev\\DiscreteValueIteration\\src\\sparse.jl:122\n",
      "┌ Info: residual: 0.0041113836448118946, time: 0.372276938, total time: 71.63702202200002 \n",
      "│   i = 153\n",
      "└ @ DiscreteValueIteration C:\\Users\\Maxime\\.julia\\dev\\DiscreteValueIteration\\src\\sparse.jl:122\n",
      "┌ Info: residual: 0.0039058144625983005, time: 0.373080889, total time: 72.01010291100002 \n",
      "│   i = 154\n",
      "└ @ DiscreteValueIteration C:\\Users\\Maxime\\.julia\\dev\\DiscreteValueIteration\\src\\sparse.jl:122\n",
      "┌ Info: residual: 0.003710523739442806, time: 0.376496197, total time: 72.38659910800001 \n",
      "│   i = 155\n",
      "└ @ DiscreteValueIteration C:\\Users\\Maxime\\.julia\\dev\\DiscreteValueIteration\\src\\sparse.jl:122\n",
      "┌ Info: residual: 0.0035249975524891397, time: 0.380325531, total time: 72.76692463900001 \n",
      "│   i = 156\n",
      "└ @ DiscreteValueIteration C:\\Users\\Maxime\\.julia\\dev\\DiscreteValueIteration\\src\\sparse.jl:122\n",
      "┌ Info: residual: 0.0033487476748632616, time: 0.368412049, total time: 73.13533668800001 \n",
      "│   i = 157\n",
      "└ @ DiscreteValueIteration C:\\Users\\Maxime\\.julia\\dev\\DiscreteValueIteration\\src\\sparse.jl:122\n",
      "┌ Info: residual: 0.003181310291125783, time: 0.410147161, total time: 73.54548384900001 \n",
      "│   i = 158\n",
      "└ @ DiscreteValueIteration C:\\Users\\Maxime\\.julia\\dev\\DiscreteValueIteration\\src\\sparse.jl:122\n",
      "┌ Info: residual: 0.003022244776587968, time: 0.365652149, total time: 73.911135998 \n",
      "│   i = 159\n",
      "└ @ DiscreteValueIteration C:\\Users\\Maxime\\.julia\\dev\\DiscreteValueIteration\\src\\sparse.jl:122\n",
      "┌ Info: residual: 0.002871132537734411, time: 0.376269432, total time: 74.28740543 \n",
      "│   i = 160\n",
      "└ @ DiscreteValueIteration C:\\Users\\Maxime\\.julia\\dev\\DiscreteValueIteration\\src\\sparse.jl:122\n",
      "┌ Info: residual: 0.0027275759108817965, time: 0.371442173, total time: 74.65884760300001 \n",
      "│   i = 161\n",
      "└ @ DiscreteValueIteration C:\\Users\\Maxime\\.julia\\dev\\DiscreteValueIteration\\src\\sparse.jl:122\n",
      "┌ Info: residual: 0.0025911971153504965, time: 0.374885926, total time: 75.03373352900002 \n",
      "│   i = 162\n",
      "└ @ DiscreteValueIteration C:\\Users\\Maxime\\.julia\\dev\\DiscreteValueIteration\\src\\sparse.jl:122\n",
      "┌ Info: residual: 0.002461637259585814, time: 0.465531259, total time: 75.49926478800002 \n",
      "│   i = 163\n",
      "└ @ DiscreteValueIteration C:\\Users\\Maxime\\.julia\\dev\\DiscreteValueIteration\\src\\sparse.jl:122\n",
      "┌ Info: residual: 0.002338555396619313, time: 0.371591902, total time: 75.87085669000002 \n",
      "│   i = 164\n",
      "└ @ DiscreteValueIteration C:\\Users\\Maxime\\.julia\\dev\\DiscreteValueIteration\\src\\sparse.jl:122\n",
      "┌ Info: residual: 0.002221627626767031, time: 0.371004445, total time: 76.24186113500002 \n",
      "│   i = 165\n",
      "└ @ DiscreteValueIteration C:\\Users\\Maxime\\.julia\\dev\\DiscreteValueIteration\\src\\sparse.jl:122\n",
      "┌ Info: residual: 0.0021105462454613644, time: 0.359218963, total time: 76.60108009800003 \n",
      "│   i = 166\n",
      "└ @ DiscreteValueIteration C:\\Users\\Maxime\\.julia\\dev\\DiscreteValueIteration\\src\\sparse.jl:122\n",
      "┌ Info: residual: 0.002005018933203928, time: 0.371948642, total time: 76.97302874000003 \n",
      "│   i = 167\n",
      "└ @ DiscreteValueIteration C:\\Users\\Maxime\\.julia\\dev\\DiscreteValueIteration\\src\\sparse.jl:122\n",
      "┌ Info: residual: 0.001904767986530942, time: 0.364312494, total time: 77.33734123400004 \n",
      "│   i = 168\n",
      "└ @ DiscreteValueIteration C:\\Users\\Maxime\\.julia\\dev\\DiscreteValueIteration\\src\\sparse.jl:122\n",
      "┌ Info: residual: 0.0018095295872342376, time: 0.365684543, total time: 77.70302577700004 \n",
      "│   i = 169\n",
      "└ @ DiscreteValueIteration C:\\Users\\Maxime\\.julia\\dev\\DiscreteValueIteration\\src\\sparse.jl:122\n",
      "┌ Info: residual: 0.0017190531078483673, time: 0.385693629, total time: 78.08871940600004 \n",
      "│   i = 170\n",
      "└ @ DiscreteValueIteration C:\\Users\\Maxime\\.julia\\dev\\DiscreteValueIteration\\src\\sparse.jl:122\n",
      "┌ Info: residual: 0.0016331004524658965, time: 0.365332148, total time: 78.45405155400003 \n",
      "│   i = 171\n",
      "└ @ DiscreteValueIteration C:\\Users\\Maxime\\.julia\\dev\\DiscreteValueIteration\\src\\sparse.jl:122\n"
     ]
    },
    {
     "name": "stderr",
     "output_type": "stream",
     "text": [
      "┌ Info: residual: 0.0015514454298397595, time: 0.352973037, total time: 78.80702459100003 \n",
      "│   i = 172\n",
      "└ @ DiscreteValueIteration C:\\Users\\Maxime\\.julia\\dev\\DiscreteValueIteration\\src\\sparse.jl:122\n",
      "┌ Info: residual: 0.0014738731583463505, time: 0.432728099, total time: 79.23975269000003 \n",
      "│   i = 173\n",
      "└ @ DiscreteValueIteration C:\\Users\\Maxime\\.julia\\dev\\DiscreteValueIteration\\src\\sparse.jl:122\n",
      "┌ Info: residual: 0.0014001795004219275, time: 0.36719605, total time: 79.60694874000004 \n",
      "│   i = 174\n",
      "└ @ DiscreteValueIteration C:\\Users\\Maxime\\.julia\\dev\\DiscreteValueIteration\\src\\sparse.jl:122\n",
      "┌ Info: residual: 0.0013301705254207263, time: 0.415586765, total time: 80.02253550500004 \n",
      "│   i = 175\n",
      "└ @ DiscreteValueIteration C:\\Users\\Maxime\\.julia\\dev\\DiscreteValueIteration\\src\\sparse.jl:122\n",
      "┌ Info: residual: 0.0012636619991894804, time: 0.634223408, total time: 80.65675891300003 \n",
      "│   i = 176\n",
      "└ @ DiscreteValueIteration C:\\Users\\Maxime\\.julia\\dev\\DiscreteValueIteration\\src\\sparse.jl:122\n",
      "┌ Info: residual: 0.0012004788992214799, time: 0.468492247, total time: 81.12525116000003 \n",
      "│   i = 177\n",
      "└ @ DiscreteValueIteration C:\\Users\\Maxime\\.julia\\dev\\DiscreteValueIteration\\src\\sparse.jl:122\n",
      "┌ Info: residual: 0.0011404549542533005, time: 0.410515753, total time: 81.53576691300003 \n",
      "│   i = 178\n",
      "└ @ DiscreteValueIteration C:\\Users\\Maxime\\.julia\\dev\\DiscreteValueIteration\\src\\sparse.jl:122\n",
      "┌ Info: residual: 0.0010834322065420565, time: 0.46659516, total time: 82.00236207300003 \n",
      "│   i = 179\n",
      "└ @ DiscreteValueIteration C:\\Users\\Maxime\\.julia\\dev\\DiscreteValueIteration\\src\\sparse.jl:122\n",
      "┌ Info: residual: 0.0010292605962263224, time: 0.418957828, total time: 82.42131990100003 \n",
      "│   i = 180\n",
      "└ @ DiscreteValueIteration C:\\Users\\Maxime\\.julia\\dev\\DiscreteValueIteration\\src\\sparse.jl:122\n",
      "┌ Info: residual: 0.0009777975664064797, time: 0.369455802, total time: 82.79077570300004 \n",
      "│   i = 181\n",
      "└ @ DiscreteValueIteration C:\\Users\\Maxime\\.julia\\dev\\DiscreteValueIteration\\src\\sparse.jl:122\n",
      "┌ Info: residual: 0.0009289076880918401, time: 0.385395358, total time: 83.17617106100003 \n",
      "│   i = 182\n",
      "└ @ DiscreteValueIteration C:\\Users\\Maxime\\.julia\\dev\\DiscreteValueIteration\\src\\sparse.jl:122\n",
      "┌ Info: residual: 0.0008824623037071433, time: 0.370443852, total time: 83.54661491300003 \n",
      "│   i = 183\n",
      "└ @ DiscreteValueIteration C:\\Users\\Maxime\\.julia\\dev\\DiscreteValueIteration\\src\\sparse.jl:122\n",
      "┌ Info: residual: 0.0008383391885047331, time: 0.404015408, total time: 83.95063032100003 \n",
      "│   i = 184\n",
      "└ @ DiscreteValueIteration C:\\Users\\Maxime\\.julia\\dev\\DiscreteValueIteration\\src\\sparse.jl:122\n",
      "┌ Info: residual: 0.0007964222290866019, time: 0.368977383, total time: 84.31960770400003 \n",
      "│   i = 185\n",
      "└ @ DiscreteValueIteration C:\\Users\\Maxime\\.julia\\dev\\DiscreteValueIteration\\src\\sparse.jl:122\n",
      "┌ Info: residual: 0.0007566011176436405, time: 0.366865778, total time: 84.68647348200004 \n",
      "│   i = 186\n",
      "└ @ DiscreteValueIteration C:\\Users\\Maxime\\.julia\\dev\\DiscreteValueIteration\\src\\sparse.jl:122\n",
      "┌ Info: residual: 0.000718771061769985, time: 0.375663803, total time: 85.06213728500003 \n",
      "│   i = 187\n",
      "└ @ DiscreteValueIteration C:\\Users\\Maxime\\.julia\\dev\\DiscreteValueIteration\\src\\sparse.jl:122\n",
      "┌ Info: residual: 0.00068283250868717, time: 0.372390321, total time: 85.43452760600003 \n",
      "│   i = 188\n",
      "└ @ DiscreteValueIteration C:\\Users\\Maxime\\.julia\\dev\\DiscreteValueIteration\\src\\sparse.jl:122\n",
      "┌ Info: residual: 0.0006486908832528115, time: 0.369446321, total time: 85.80397392700003 \n",
      "│   i = 189\n",
      "└ @ DiscreteValueIteration C:\\Users\\Maxime\\.julia\\dev\\DiscreteValueIteration\\src\\sparse.jl:122\n",
      "┌ Info: residual: 0.0006162563391001186, time: 0.479537778, total time: 86.28351170500002 \n",
      "│   i = 190\n",
      "└ @ DiscreteValueIteration C:\\Users\\Maxime\\.julia\\dev\\DiscreteValueIteration\\src\\sparse.jl:122\n",
      "┌ Info: residual: 0.0005854435221408494, time: 0.360363852, total time: 86.64387555700003 \n",
      "│   i = 191\n",
      "└ @ DiscreteValueIteration C:\\Users\\Maxime\\.julia\\dev\\DiscreteValueIteration\\src\\sparse.jl:122\n",
      "┌ Info: residual: 0.0005561713460622286, time: 0.36752316, total time: 87.01139871700003 \n",
      "│   i = 192\n",
      "└ @ DiscreteValueIteration C:\\Users\\Maxime\\.julia\\dev\\DiscreteValueIteration\\src\\sparse.jl:122\n",
      "┌ Info: residual: 0.0005283627787378009, time: 0.368723753, total time: 87.38012247000003 \n",
      "│   i = 193\n",
      "└ @ DiscreteValueIteration C:\\Users\\Maxime\\.julia\\dev\\DiscreteValueIteration\\src\\sparse.jl:122\n",
      "┌ Info: residual: 0.000501944639836438, time: 0.359964049, total time: 87.74008651900003 \n",
      "│   i = 194\n",
      "└ @ DiscreteValueIteration C:\\Users\\Maxime\\.julia\\dev\\DiscreteValueIteration\\src\\sparse.jl:122\n",
      "┌ Info: residual: 0.00047684740786735347, time: 0.374383013, total time: 88.11446953200003 \n",
      "│   i = 195\n",
      "└ @ DiscreteValueIteration C:\\Users\\Maxime\\.julia\\dev\\DiscreteValueIteration\\src\\sparse.jl:122\n",
      "┌ Info: residual: 0.00045300503745693277, time: 0.382483358, total time: 88.49695289000003 \n",
      "│   i = 196\n",
      "└ @ DiscreteValueIteration C:\\Users\\Maxime\\.julia\\dev\\DiscreteValueIteration\\src\\sparse.jl:122\n",
      "┌ Info: residual: 0.0004303547855784018, time: 0.376627358, total time: 88.87358024800002 \n",
      "│   i = 197\n",
      "└ @ DiscreteValueIteration C:\\Users\\Maxime\\.julia\\dev\\DiscreteValueIteration\\src\\sparse.jl:122\n",
      "┌ Info: residual: 0.0004088370463080082, time: 0.366733037, total time: 89.24031328500003 \n",
      "│   i = 198\n",
      "└ @ DiscreteValueIteration C:\\Users\\Maxime\\.julia\\dev\\DiscreteValueIteration\\src\\sparse.jl:122\n",
      "┌ Info: residual: 0.0003883951939940289, time: 0.438336395, total time: 89.67864968000002 \n",
      "│   i = 199\n",
      "└ @ DiscreteValueIteration C:\\Users\\Maxime\\.julia\\dev\\DiscreteValueIteration\\src\\sparse.jl:122\n",
      "┌ Info: residual: 0.0003689754343270124, time: 0.654283062, total time: 90.33293274200003 \n",
      "│   i = 200\n",
      "└ @ DiscreteValueIteration C:\\Users\\Maxime\\.julia\\dev\\DiscreteValueIteration\\src\\sparse.jl:122\n"
     ]
    }
   ],
   "source": [
    "# 1) choose betwenn only longitudinal\n",
    "lateral_actions = [0.0]\n",
    "# or lateral and longitudinal support\n",
    "lateral_actions = [1, 0.0, -1]\n",
    "\n",
    "\n",
    "# 2) choose good values for the policy\n",
    "# good values are the longitudinal support are following\n",
    "# COLLISION_COST = -60.0\n",
    "# ACTION_LON_COST = 0.0\n",
    "# ACTION_LAT_COST = 0.0\n",
    "# KEEP_VELOCITY_REWARD = 10.0\n",
    "# KEEP_LANE_REWARD = 0.0\n",
    "# PROBABILITY_PEDESTRIAN_BIRTH = 0.4\n",
    "\n",
    "\n",
    "pomdp = SingleOCFPOMDP(lateral_actions=lateral_actions)\n",
    "pomdp.COLLISION_COST = -600.0\n",
    "pomdp.ACTION_LON_COST = 0.0\n",
    "pomdp.ACTION_LAT_COST = 0.0\n",
    "pomdp.KEEP_VELOCITY_REWARD = 10.0\n",
    "pomdp.KEEP_LANE_REWARD = 0.0\n",
    "pomdp.PROBABILITY_PEDESTRIAN_BIRTH = 0.4\n",
    "pomdp.γ = 0.95\n",
    "\n",
    "println(\"POMDP with number of states: $(n_states(pomdp))\")\n",
    "# train policy\n",
    "# if !isfile(\"transition.jld2\")\n",
    "#     transmat = DiscreteValueIteration.transition_matrix_a_s_sp(mdp)\n",
    "#     FileIO.save(\"transition.jld2\", \"transmat\", transmat)\n",
    "# else\n",
    "#     transmat = FileIO.load(\"transition.jld2\")[\"transmat\"]\n",
    "# end\n",
    "# function DiscreteValueIteration.transition_matrix_a_s_sp(::UnderlyingMDP{SingleOCFPOMDP,SingleOCFState,SingleOCFAction})\n",
    "#     println(\"using existing transition matrix\")\n",
    "#     return transmat\n",
    "# end\n",
    "solver = SparseValueIterationSolver(max_iterations=200, belres=1e-4, include_Q=true, verbose=true)\n",
    "mdp = UnderlyingMDP(pomdp);\n",
    "vi_policy = solve(solver, mdp)\n",
    "qmdp_policy = AlphaVectorPolicy(pomdp, vi_policy.qmat, vi_policy.action_map)\n",
    "\n",
    "# save policy\n",
    "FileIO.save(\"policy.jld2\", \"policy\", qmdp_policy)\n"
   ]
  },
  {
   "cell_type": "code",
   "execution_count": 3,
   "metadata": {
    "scrolled": false
   },
   "outputs": [
    {
     "data": {
      "text/html": [
       "    <script id=\"webio-setup-1612663912933055856\">\n",
       "    // Immediately-invoked-function-expression to avoid global variables.\n",
       "    (function() {\n",
       "        var warning_div = document.getElementById(\"webio-warning-497346335242853273\");\n",
       "        var hide = function () {\n",
       "            var script = document.getElementById(\"webio-setup-1612663912933055856\");\n",
       "            var parent = script && script.parentElement;\n",
       "            var grandparent = parent && parent.parentElement;\n",
       "            if (grandparent) {\n",
       "                grandparent.style.display = \"none\";\n",
       "            }\n",
       "            warning_div.style.display = \"none\";\n",
       "        };\n",
       "        if (window.require && require.defined) {\n",
       "            // Jupyter notebook.\n",
       "            if (require.defined(\"nbextensions/webio/main\")\n",
       "                    || require.defined(\"/assetserver/03952b0695c7272134e96353bb6f24124f1c2aec-dist/main.js\")) {\n",
       "                // Extension already loaded.\n",
       "                hide();\n",
       "                return;\n",
       "            }\n",
       "            console.warn(\"Loading WebIO Jupyter extension on an ad-hoc basis. Consider enabling the WebIO nbextension for a stabler experience (this should happen automatically when building WebIO).\");\n",
       "            require([\"/assetserver/03952b0695c7272134e96353bb6f24124f1c2aec-dist/main.js\"], function (webIOModule) {\n",
       "                webIOModule.load_ipython_extension();\n",
       "            });\n",
       "            warning_div.innerHTML = \"<strong>Loading WebIO Jupyter extension on an ad-hoc basis. Consider enabling the WebIO nbextension for a stabler experience (this should happen automatically when building WebIO).</strong>\";\n",
       "        } else if (window.location.pathname.includes(\"/lab\")) {\n",
       "            // Guessing JupyterLab\n",
       "            warning_div.innerHTML = \"WebIO does not support JupyterLab yet.\";\n",
       "        }\n",
       "    })();\n",
       "    </script>\n",
       "    <div\n",
       "        id=\"webio-warning-497346335242853273\"\n",
       "        class=\"output_text output_stderr\"\n",
       "        style=\"padding: 1em; font-weight: bold;\"\n",
       "    >\n",
       "        Unable to load WebIO. Please make sure WebIO works for your Jupyter client.\n",
       "        <!-- TODO: link to installation docs. -->\n",
       "    </div>\n"
      ],
      "text/plain": [
       "HTML{String}(\"    <script id=\\\"webio-setup-1612663912933055856\\\">\\n    // Immediately-invoked-function-expression to avoid global variables.\\n    (function() {\\n        var warning_div = document.getElementById(\\\"webio-warning-497346335242853273\\\");\\n        var hide = function () {\\n            var script = document.getElementById(\\\"webio-setup-1612663912933055856\\\");\\n            var parent = script && script.parentElement;\\n            var grandparent = parent && parent.parentElement;\\n            if (grandparent) {\\n                grandparent.style.display = \\\"none\\\";\\n            }\\n            warning_div.style.display = \\\"none\\\";\\n        };\\n        if (window.require && require.defined) {\\n            // Jupyter notebook.\\n            if (require.defined(\\\"nbextensions/webio/main\\\")\\n                    || require.defined(\\\"/assetserver/03952b0695c7272134e96353bb6f24124f1c2aec-dist/main.js\\\")) {\\n                // Extension already loaded.\\n                hide();\\n                return;\\n            }\\n            console.warn(\\\"Loading WebIO Jupyter extension on an ad-hoc basis. Consider enabling the WebIO nbextension for a stabler experience (this should happen automatically when building WebIO).\\\");\\n            require([\\\"/assetserver/03952b0695c7272134e96353bb6f24124f1c2aec-dist/main.js\\\"], function (webIOModule) {\\n                webIOModule.load_ipython_extension();\\n            });\\n            warning_div.innerHTML = \\\"<strong>Loading WebIO Jupyter extension on an ad-hoc basis. Consider enabling the WebIO nbextension for a stabler experience (this should happen automatically when building WebIO).</strong>\\\";\\n        } else if (window.location.pathname.includes(\\\"/lab\\\")) {\\n            // Guessing JupyterLab\\n            warning_div.innerHTML = \\\"WebIO does not support JupyterLab yet.\\\";\\n        }\\n    })();\\n    </script>\\n    <div\\n        id=\\\"webio-warning-497346335242853273\\\"\\n        class=\\\"output_text output_stderr\\\"\\n        style=\\\"padding: 1em; font-weight: bold;\\\"\\n    >\\n        Unable to load WebIO. Please make sure WebIO works for your Jupyter client.\\n        <!-- TODO: link to installation docs. -->\\n    </div>\\n\")"
      ]
     },
     "metadata": {},
     "output_type": "display_data"
    },
    {
     "data": {
      "image/svg+xml": [
       "<?xml version=\"1.0\" encoding=\"utf-8\"?>\n",
       "<svg xmlns=\"http://www.w3.org/2000/svg\" xmlns:xlink=\"http://www.w3.org/1999/xlink\" width=\"600\" height=\"400\" viewBox=\"0 0 2400 1600\">\n",
       "<defs>\n",
       "  <clipPath id=\"clip6800\">\n",
       "    <rect x=\"0\" y=\"0\" width=\"2000\" height=\"2000\"/>\n",
       "  </clipPath>\n",
       "</defs>\n",
       "<defs>\n",
       "  <clipPath id=\"clip6801\">\n",
       "    <rect x=\"0\" y=\"0\" width=\"2400\" height=\"1600\"/>\n",
       "  </clipPath>\n",
       "</defs>\n",
       "<polygon clip-path=\"url(#clip6801)\" points=\"\n",
       "0,1600 2400,1600 2400,0 0,0 \n",
       "  \" fill=\"#ffffff\" fill-rule=\"evenodd\" fill-opacity=\"1\"/>\n",
       "<defs>\n",
       "  <clipPath id=\"clip6802\">\n",
       "    <rect x=\"480\" y=\"0\" width=\"1681\" height=\"1600\"/>\n",
       "  </clipPath>\n",
       "</defs>\n",
       "<polygon clip-path=\"url(#clip6801)\" points=\"\n",
       "149.361,972.127 2081.26,972.127 2081.26,578.592 149.361,578.592 \n",
       "  \" fill=\"#ffffff\" fill-rule=\"evenodd\" fill-opacity=\"1\"/>\n",
       "<defs>\n",
       "  <clipPath id=\"clip6803\">\n",
       "    <rect x=\"149\" y=\"578\" width=\"1933\" height=\"395\"/>\n",
       "  </clipPath>\n",
       "</defs>\n",
       "<polyline clip-path=\"url(#clip6803)\" style=\"stroke:#000000; stroke-width:2; stroke-opacity:0.1; fill:none\" points=\"\n",
       "  256.688,972.127 256.688,578.592 \n",
       "  \"/>\n",
       "<polyline clip-path=\"url(#clip6803)\" style=\"stroke:#000000; stroke-width:2; stroke-opacity:0.1; fill:none\" points=\"\n",
       "  614.447,972.127 614.447,578.592 \n",
       "  \"/>\n",
       "<polyline clip-path=\"url(#clip6803)\" style=\"stroke:#000000; stroke-width:2; stroke-opacity:0.1; fill:none\" points=\"\n",
       "  972.207,972.127 972.207,578.592 \n",
       "  \"/>\n",
       "<polyline clip-path=\"url(#clip6803)\" style=\"stroke:#000000; stroke-width:2; stroke-opacity:0.1; fill:none\" points=\"\n",
       "  1329.97,972.127 1329.97,578.592 \n",
       "  \"/>\n",
       "<polyline clip-path=\"url(#clip6803)\" style=\"stroke:#000000; stroke-width:2; stroke-opacity:0.1; fill:none\" points=\"\n",
       "  1687.72,972.127 1687.72,578.592 \n",
       "  \"/>\n",
       "<polyline clip-path=\"url(#clip6803)\" style=\"stroke:#000000; stroke-width:2; stroke-opacity:0.1; fill:none\" points=\"\n",
       "  2045.48,972.127 2045.48,578.592 \n",
       "  \"/>\n",
       "<polyline clip-path=\"url(#clip6803)\" style=\"stroke:#000000; stroke-width:2; stroke-opacity:0.1; fill:none\" points=\"\n",
       "  149.361,918.463 2081.26,918.463 \n",
       "  \"/>\n",
       "<polyline clip-path=\"url(#clip6803)\" style=\"stroke:#000000; stroke-width:2; stroke-opacity:0.1; fill:none\" points=\"\n",
       "  149.361,846.911 2081.26,846.911 \n",
       "  \"/>\n",
       "<polyline clip-path=\"url(#clip6803)\" style=\"stroke:#000000; stroke-width:2; stroke-opacity:0.1; fill:none\" points=\"\n",
       "  149.361,775.359 2081.26,775.359 \n",
       "  \"/>\n",
       "<polyline clip-path=\"url(#clip6803)\" style=\"stroke:#000000; stroke-width:2; stroke-opacity:0.1; fill:none\" points=\"\n",
       "  149.361,703.808 2081.26,703.808 \n",
       "  \"/>\n",
       "<polyline clip-path=\"url(#clip6803)\" style=\"stroke:#000000; stroke-width:2; stroke-opacity:0.1; fill:none\" points=\"\n",
       "  149.361,632.256 2081.26,632.256 \n",
       "  \"/>\n",
       "<polyline clip-path=\"url(#clip6801)\" style=\"stroke:#000000; stroke-width:4; stroke-opacity:1; fill:none\" points=\"\n",
       "  149.361,972.127 2081.26,972.127 \n",
       "  \"/>\n",
       "<polyline clip-path=\"url(#clip6801)\" style=\"stroke:#000000; stroke-width:4; stroke-opacity:1; fill:none\" points=\"\n",
       "  149.361,972.127 149.361,578.592 \n",
       "  \"/>\n",
       "<polyline clip-path=\"url(#clip6801)\" style=\"stroke:#000000; stroke-width:4; stroke-opacity:1; fill:none\" points=\"\n",
       "  256.688,972.127 256.688,966.224 \n",
       "  \"/>\n",
       "<polyline clip-path=\"url(#clip6801)\" style=\"stroke:#000000; stroke-width:4; stroke-opacity:1; fill:none\" points=\"\n",
       "  614.447,972.127 614.447,966.224 \n",
       "  \"/>\n",
       "<polyline clip-path=\"url(#clip6801)\" style=\"stroke:#000000; stroke-width:4; stroke-opacity:1; fill:none\" points=\"\n",
       "  972.207,972.127 972.207,966.224 \n",
       "  \"/>\n",
       "<polyline clip-path=\"url(#clip6801)\" style=\"stroke:#000000; stroke-width:4; stroke-opacity:1; fill:none\" points=\"\n",
       "  1329.97,972.127 1329.97,966.224 \n",
       "  \"/>\n",
       "<polyline clip-path=\"url(#clip6801)\" style=\"stroke:#000000; stroke-width:4; stroke-opacity:1; fill:none\" points=\"\n",
       "  1687.72,972.127 1687.72,966.224 \n",
       "  \"/>\n",
       "<polyline clip-path=\"url(#clip6801)\" style=\"stroke:#000000; stroke-width:4; stroke-opacity:1; fill:none\" points=\"\n",
       "  2045.48,972.127 2045.48,966.224 \n",
       "  \"/>\n",
       "<polyline clip-path=\"url(#clip6801)\" style=\"stroke:#000000; stroke-width:4; stroke-opacity:1; fill:none\" points=\"\n",
       "  149.361,918.463 178.339,918.463 \n",
       "  \"/>\n",
       "<polyline clip-path=\"url(#clip6801)\" style=\"stroke:#000000; stroke-width:4; stroke-opacity:1; fill:none\" points=\"\n",
       "  149.361,846.911 178.339,846.911 \n",
       "  \"/>\n",
       "<polyline clip-path=\"url(#clip6801)\" style=\"stroke:#000000; stroke-width:4; stroke-opacity:1; fill:none\" points=\"\n",
       "  149.361,775.359 178.339,775.359 \n",
       "  \"/>\n",
       "<polyline clip-path=\"url(#clip6801)\" style=\"stroke:#000000; stroke-width:4; stroke-opacity:1; fill:none\" points=\"\n",
       "  149.361,703.808 178.339,703.808 \n",
       "  \"/>\n",
       "<polyline clip-path=\"url(#clip6801)\" style=\"stroke:#000000; stroke-width:4; stroke-opacity:1; fill:none\" points=\"\n",
       "  149.361,632.256 178.339,632.256 \n",
       "  \"/>\n",
       "<g clip-path=\"url(#clip6801)\">\n",
       "<text style=\"fill:#000000; fill-opacity:1; font-family:Arial,Helvetica Neue,Helvetica,sans-serif; font-size:48px; text-anchor:middle;\" transform=\"rotate(0, 256.688, 1026.13)\" x=\"256.688\" y=\"1026.13\">0</text>\n",
       "</g>\n",
       "<g clip-path=\"url(#clip6801)\">\n",
       "<text style=\"fill:#000000; fill-opacity:1; font-family:Arial,Helvetica Neue,Helvetica,sans-serif; font-size:48px; text-anchor:middle;\" transform=\"rotate(0, 614.447, 1026.13)\" x=\"614.447\" y=\"1026.13\">10</text>\n",
       "</g>\n",
       "<g clip-path=\"url(#clip6801)\">\n",
       "<text style=\"fill:#000000; fill-opacity:1; font-family:Arial,Helvetica Neue,Helvetica,sans-serif; font-size:48px; text-anchor:middle;\" transform=\"rotate(0, 972.207, 1026.13)\" x=\"972.207\" y=\"1026.13\">20</text>\n",
       "</g>\n",
       "<g clip-path=\"url(#clip6801)\">\n",
       "<text style=\"fill:#000000; fill-opacity:1; font-family:Arial,Helvetica Neue,Helvetica,sans-serif; font-size:48px; text-anchor:middle;\" transform=\"rotate(0, 1329.97, 1026.13)\" x=\"1329.97\" y=\"1026.13\">30</text>\n",
       "</g>\n",
       "<g clip-path=\"url(#clip6801)\">\n",
       "<text style=\"fill:#000000; fill-opacity:1; font-family:Arial,Helvetica Neue,Helvetica,sans-serif; font-size:48px; text-anchor:middle;\" transform=\"rotate(0, 1687.72, 1026.13)\" x=\"1687.72\" y=\"1026.13\">40</text>\n",
       "</g>\n",
       "<g clip-path=\"url(#clip6801)\">\n",
       "<text style=\"fill:#000000; fill-opacity:1; font-family:Arial,Helvetica Neue,Helvetica,sans-serif; font-size:48px; text-anchor:middle;\" transform=\"rotate(0, 2045.48, 1026.13)\" x=\"2045.48\" y=\"1026.13\">50</text>\n",
       "</g>\n",
       "<g clip-path=\"url(#clip6801)\">\n",
       "<text style=\"fill:#000000; fill-opacity:1; font-family:Arial,Helvetica Neue,Helvetica,sans-serif; font-size:48px; text-anchor:end;\" transform=\"rotate(0, 125.361, 935.963)\" x=\"125.361\" y=\"935.963\">-4</text>\n",
       "</g>\n",
       "<g clip-path=\"url(#clip6801)\">\n",
       "<text style=\"fill:#000000; fill-opacity:1; font-family:Arial,Helvetica Neue,Helvetica,sans-serif; font-size:48px; text-anchor:end;\" transform=\"rotate(0, 125.361, 864.411)\" x=\"125.361\" y=\"864.411\">-2</text>\n",
       "</g>\n",
       "<g clip-path=\"url(#clip6801)\">\n",
       "<text style=\"fill:#000000; fill-opacity:1; font-family:Arial,Helvetica Neue,Helvetica,sans-serif; font-size:48px; text-anchor:end;\" transform=\"rotate(0, 125.361, 792.859)\" x=\"125.361\" y=\"792.859\">0</text>\n",
       "</g>\n",
       "<g clip-path=\"url(#clip6801)\">\n",
       "<text style=\"fill:#000000; fill-opacity:1; font-family:Arial,Helvetica Neue,Helvetica,sans-serif; font-size:48px; text-anchor:end;\" transform=\"rotate(0, 125.361, 721.308)\" x=\"125.361\" y=\"721.308\">2</text>\n",
       "</g>\n",
       "<g clip-path=\"url(#clip6801)\">\n",
       "<text style=\"fill:#000000; fill-opacity:1; font-family:Arial,Helvetica Neue,Helvetica,sans-serif; font-size:48px; text-anchor:end;\" transform=\"rotate(0, 125.361, 649.756)\" x=\"125.361\" y=\"649.756\">4</text>\n",
       "</g>\n",
       "<g clip-path=\"url(#clip6803)\">\n",
       "<image width=\"1932\" height=\"394\" xlink:href=\"data:image/png;base64,\n",
       "iVBORw0KGgoAAAANSUhEUgAAB4wAAAGKCAYAAAD31bwUAAAQOUlEQVR4nO3bMWobQQCGUSkIfJGQ\n",
       "Lm2KnMK9XQRSqPFx0rhwJ/cpc4YcIIXxRQyCTZ1CS1iMZ9ffeyf4MTsjw8fsz9Np2gGv7/E4egFb\n",
       "dXM/egFb5d5hKfcOAFvif57L/KbP8+1c5tuZ59thKWdrnrPFUs4WS7l3LvowegAAAAAAAAAAYwjG\n",
       "AAAAAAAAAFGCMQAAAAAAAECUYAwAAAAAAAAQJRgDAAAAAAAARAnGAAAAAAAAAFGCMQAAAAAAAECU\n",
       "YAwAAAAAAAAQJRgDAAAAAAAARAnGAAAAAAAAAFGCMQAAAAAAAECUYAwAAAAAAAAQJRgDAAAAAAAA\n",
       "RAnGAAAAAAAAAFGCMQAAAAAAAECUYAwAAAAAAAAQJRgDAAAAAAAARAnGAAAAAAAAAFGCMQAAAAAA\n",
       "AECUYAwAAAAAAAAQJRgDAAAAAAAARAnGAAAAAAAAAFGCMQAAAAAAAECUYAwAAAAAAAAQJRgDAAAA\n",
       "AAAARAnGAAAAAAAAAFGCMQAAAAAAAECUYAwAAAAAAAAQJRgDAAAAAAAARAnGAAAAAAAAAFGCMQAA\n",
       "AAAAAECUYAwAAAAAAAAQJRgDAAAAAAAARAnGAAAAAAAAAFGCMQAAAAAAAEDUYfQANu7xOHrBet3c\n",
       "j17AVjlX85yty/xt5jlbLOXbmefuYSlni6XcO5c5V/N8Oyzl25nn7mEpZwtgNbwwBgAAAAAAAIgS\n",
       "jAEAAAAAAACiBGMAAAAAAACAKMEYAAAAAAAAIEowBgAAAAAAAIgSjAEAAAAAAACiBGMAAAAAAACA\n",
       "KMEYAAAAAAAAIEowBgAAAAAAAIgSjAEAAAAAAACiBGMAAAAAAACAKMEYAAAAAAAAIEowBgAAAAAA\n",
       "AIgSjAEAAAAAAACiBGMAAAAAAACAKMEYAAAAAAAAIEowBgAAAAAAAIgSjAEAAAAAAACiBGMAAAAA\n",
       "AACAKMEYAAAAAAAAIEowBgAAAAAAAIgSjAEAAAAAAACiBGMAAAAAAACAKMEYAAAAAAAAIEowBgAA\n",
       "AAAAAIgSjAEAAAAAAACiBGMAAAAAAACAKMEYAAAAAAAAIEowBgAAAAAAAIgSjAEAAAAAAACiBGMA\n",
       "AAAAAACAKMEYAAAAAAAAIEowBgAAAAAAAIgSjAEAAAAAAACiBGMAAAAAAACAqP15Ok2jRwDAf3s8\n",
       "jl6wXjf3oxcARe5llvK7BbAefs/n+c0C3pp7eZ57GV6dF8YAAAAAAAAAUYIxAAAAAAAAQJRgDAAA\n",
       "AAAAABAlGAMAAAAAAABECcYAAAAAAAAAUYIxAAAAAAAAQJRgDAAAAAAAABAlGAMAAAAAAABECcYA\n",
       "AAAAAAAAUYIxAAAAAAAAQJRgDAAAAAAAABAlGAMAAAAAAABECcYAAAAAAAAAUYIxAAAAAAAAQJRg\n",
       "DAAAAAAAABAlGAMAAAAAAABECcYAAAAAAAAAUYIxAAAAAAAAQJRgDAAAAAAAABAlGAMAAAAAAABE\n",
       "CcYAAAAAAAAAUYIxAAAAAAAAQJRgDAAAAAAAABAlGAMAAAAAAABECcYAAAAAAAAAUYIxAAAAAAAA\n",
       "QJRgDAAAAAAAABAlGAMAAAAAAABECcYAAAAAAAAAUYIxAAAAAAAAQJRgDAAAAAAAABAlGAMAAAAA\n",
       "AABECcYAAAAAAAAAUYIxAAAAAAAAQJRgDAAAAAAAABC1P0+nafQINuzxOHoBEHO4fRk9AQAAAAAA\n",
       "3g0vjAEAAAAAAACiBGMAAAAAAACAKMEYAAAAAAAAIEowBgAAAAAAAIgSjAEAAAAAAACiBGMAAAAA\n",
       "AACAKMEYAAAAAAAAIEowBgAAAAAAAIgSjAEAAAAAAACiBGMAAAAAAACAKMEYAAAAAAAAIEowBgAA\n",
       "AAAAAIgSjAEAAAAAAACiBGMAAAAAAACAKMEYAAAAAAAAIEowBgAAAAAAAIgSjAEAAAAAAACiBGMA\n",
       "AAAAAACAKMEYAAAAAAAAIEowBgAAAAAAAIgSjAEAAAAAAACiBGMAAAAAAACAKMEYAAAAAAAAIEow\n",
       "BgAAAAAAAIgSjAEAAAAAAACiBGMAAAAAAACAKMEYAAAAAAAAIEowBgAAAAAAAIgSjAEAAAAAAACi\n",
       "BGMAAAAAAACAKMEYAAAAAAAAIEowBgAAAAAAAIgSjAEAAAAAAACiBGMAAAAAAACAKMEYAAAAAAAA\n",
       "IGq/2x2m0SPgPTqfrkZPYKMOty+jJwAAAAAAABFeGAMAAAAAAABECcYAAAAAAAAAUYIxAAAAAAAA\n",
       "QJRgDAAAAAAAABAlGAMAAAAAAABECcYAAAAAAAAAUYIxAAAAAAAAQJRgDAAAAAAAABAlGAMAAAAA\n",
       "AABECcYAAAAAAAAAUYIxAAAAAAAAQJRgDAAAAAAAABAlGAMAAAAAAABECcYAAAAAAAAAUYIxAAAA\n",
       "AAAAQJRgDAAAAAAAABAlGAMAAAAAAABECcYAAAAAAAAAUYIxAAAAAAAAQJRgDAAAAAAAABAlGAMA\n",
       "AAAAAABECcYAAAAAAAAAUYIxAAAAAAAAQJRgDAAAAAAAABAlGAMAAAAAAABECcYAAAAAAAAAUYIx\n",
       "AAAAAAAAQJRgDAAAAAAAABAlGAMAAAAAAABECcYAAAAAAAAAUYIxAAAAAAAAQJRgDAAAAAAAABAl\n",
       "GAMAAAAAAABECcYAAAAAAAAAUYIxAAAAAAAAQNT+PJ2m0SPYrsP+2+gJAAAAAAAAwEJeGAMAAAAA\n",
       "AABECcYAAAAAAAAAUYIxAAAAAAAAQJRgDAAAAAAAABAlGAMAAAAAAABECcYAAAAAAAAAUYIxAAAA\n",
       "AAAAQJRgDAAAAAAAABAlGAMAAAAAAABECcYAAAAAAAAAUYIxAAAAAAAAQJRgDAAAAAAAABAlGAMA\n",
       "AAAAAABECcYAAAAAAAAAUYIxAAAAAAAAQJRgDAAAAAAAABAlGAMAAAAAAABECcYAAAAAAAAAUYIx\n",
       "AAAAAAAAQJRgDAAAAAAAABAlGAMAAAAAAABECcYAAAAAAAAAUYIxAAAAAAAAQJRgDAAAAAAAABAl\n",
       "GAMAAAAAAABECcYAAAAAAAAAUYIxAAAAAAAAQJRgDAAAAAAAABAlGAMAAAAAAABECcYAAAAAAAAA\n",
       "UYIxAAAAAAAAQJRgDAAAAAAAABAlGAMAAAAAAABECcYAAAAAAAAAUYIxAAAAAAAAQJRgDAAAAAAA\n",
       "ABAlGAMAAAAAAABECcYAAAAAAAAAUYIxAAAAAAAAQJRgDAAAAAAAABAlGAMAAAAAAABECcYAAAAA\n",
       "AAAAUYIxAAAAAAAAQJRgDAAAAAAAABAlGAMAAAAAAABECcYAAAAAAAAAUYIxAAAAAAAAQJRgDAAA\n",
       "AAAAABAlGAMAAAAAAABECcYAAAAAAAAAUYIxAAAAAAAAQJRgDAAAAAAAABAlGAMAAAAAAABECcYA\n",
       "AAAAAAAAUYIxAAAAAAAAQJRgDAAAAAAAABAlGAMAAAAAAABECcYAAAAAAAAAUYIxAAAAAAAAQJRg\n",
       "DAAAAAAAABAlGAMAAAAAAABECcYAAAAAAAAAUYIxAAAAAAAAQJRgDAAAAAAAABAlGAMAAAAAAABE\n",
       "CcYAAAAAAAAAUYIxAAAAAAAAQJRgDAAAAAAAABAlGAMAAAAAAABECcYAAAAAAAAAUfvd7jCNHgEA\n",
       "AAAAAADA2/PCGAAAAAAAACBKMAYAAAAAAACIEowBAAAAAAAAogRjAAAAAAAAgCjBGAAAAAAAACBK\n",
       "MAYAAAAAAACIEowBAAAAAAAAogRjAAAAAAAAgCjBGAAAAAAAACBKMAYAAAAAAACIEowBAAAAAAAA\n",
       "ogRjAAAAAAAAgCjBGAAAAAAAACBKMAYAAAAAAACIEowBAAAAAAAAogRjAAAAAAAAgCjBGAAAAAAA\n",
       "ACBKMAYAAAAAAACIEowBAAAAAAAAogRjAAAAAAAAgCjBGAAAAAAAACBKMAYAAAAAAACIEowBAAAA\n",
       "AAAAogRjAAAAAAAAgCjBGAAAAAAAACBKMAYAAAAAAACIEowBAAAAAAAAogRjAAAAAAAAgCjBGAAA\n",
       "AAAAACBKMAYAAAAAAACIEowBAAAAAAAAogRjAAAAAAAAgCjBGAAAAAAAACBKMAYAAAAAAACIEowB\n",
       "AAAAAAAAog7P119Gb4B36ePP36MnAAAAAAAAwCwvjAEAAAAAAACiBGMAAAAAAACAKMEYAAAAAAAA\n",
       "IEowBgAAAAAAAIgSjAEAAAAAAACiBGMAAAAAAACAKMEYAAAAAAAAIEowBgAAAAAAAIgSjAEAAAAA\n",
       "AACiBGMAAAAAAACAKMEYAAAAAAAAIEowBgAAAAAAAIgSjAEAAAAAAACiBGMAAAAAAACAKMEYAAAA\n",
       "AAAAIEowBgAAAAAAAIgSjAEAAAAAAACiBGMAAAAAAACAKMEYAAAAAAAAIEowBgAAAAAAAIgSjAEA\n",
       "AAAAAACiBGMAAAAAAACAKMEYAAAAAAAAIEowBgAAAAAAAIgSjAEAAAAAAACiBGMAAAAAAACAKMEY\n",
       "AAAAAAAAIEowBgAAAAAAAIgSjAEAAAAAAACiBGMAAAAAAACAKMEYAAAAAAAAIEowBgAAAAAAAIgS\n",
       "jAEAAAAAAACiBGMAAAAAAACAKMEYAAAAAAAAIGr/fP11Gj2C7fr15/PoCfDu3D09jJ4AAAAAAABE\n",
       "eGEMAAAAAAAAECUYAwAAAAAAAEQJxgAAAAAAAABRgjEAAAAAAABAlGAMAAAAAAAAECUYAwAAAAAA\n",
       "AEQJxgAAAAAAAABRgjEAAAAAAABAlGAMAAAAAAAAECUYAwAAAAAAAEQJxgAAAAAAAABRgjEAAAAA\n",
       "AABAlGAMAAAAAAAAECUYAwAAAAAAAEQJxgAAAAAAAABRgjEAAAAAAABAlGAMAAAAAAAAECUYAwAA\n",
       "AAAAAEQJxgAAAAAAAABRgjEAAAAAAABAlGAMAAAAAAAAECUYAwAAAAAAAEQJxgAAAAAAAABRgjEA\n",
       "AAAAAABAlGAMAAAAAAAAECUYAwAAAAAAAEQJxgAAAAAAAABRgjEAAAAAAABAlGAMAAAAAAAAECUY\n",
       "AwAAAAAAAEQJxgAAAAAAAABRgjEAAAAAAABAlGAMAAAAAAAAECUYAwAAAAAAAEQJxgAAAAAAAABR\n",
       "h9EDAPjXj0/fR09Ytbunh9ETVsu3A7AufrMAAABgPc6nq9ETVssLYwAAAAAAAIAowRgAAAAAAAAg\n",
       "SjAGAAAAAAAAiBKMAQAAAAAAAKIEYwAAAAAAAIAowRgAAAAAAAAgSjAGAAAAAAAAiBKMAQAAAAAA\n",
       "AKIEYwAAAAAAAIAowRgAAAAAAAAgSjAGAAAAAAAAiBKMAQAAAAAAAKIEYwAAAAAAAIAowRgAAAAA\n",
       "AAAgSjAGAAAAAAAAiBKMAQAAAAAAAKIEYwAAAAAAAIAowRgAAAAAAAAgSjAGAAAAAAAAiBKMAQAA\n",
       "AAAAAKIEYwAAAAAAAIAowRgAAAAAAAAgSjAGAAAAAAAAiBKMAQAAAAAAAKIEYwAAAAAAAIAowRgA\n",
       "AAAAAAAgSjAGAAAAAAAAiBKMAQAAAAAAAKIEYwAAAAAAAIAowRgAAAAAAAAgSjAGAAAAAAAAiBKM\n",
       "AQAAAAAAAKIEYwAAAAAAAIAowRgAAAAAAAAg6i/0k04GhKPItwAAAABJRU5ErkJggg==\n",
       "\" transform=\"translate(149, 579)\"/>\n",
       "</g>\n",
       "<defs>\n",
       "  <clipPath id=\"clip6804\">\n",
       "    <rect x=\"2129\" y=\"578\" width=\"73\" height=\"395\"/>\n",
       "  </clipPath>\n",
       "</defs>\n",
       "<g clip-path=\"url(#clip6804)\">\n",
       "<image width=\"72\" height=\"394\" xlink:href=\"data:image/png;base64,\n",
       "iVBORw0KGgoAAAANSUhEUgAAAEgAAAGKCAYAAACvugdMAAAEEElEQVR4nO3dwbEjNwxAQcqF/KNw\n",
       "lvaSjsB4R+nQHYGKhQfOSL92P//ev9/hf/317Q/w6+a+f7/9GX6aCQrzTNBq3nVAG4kFiQUHFCQW\n",
       "TFBwiwWJBYkFBxQkFuZY0isHFCQW5ljSKxMU7KDggILEwpz7z7c/w09ziwWJBUs6OKAgsTCf9+fb\n",
       "n+GnzbkOaCOxMB8TtJJYkFiY4xZb2UFBYsGSDiYo2EFBYkFiYT73fvsz/DSJBYkFExRc80FiYY5b\n",
       "bCWxILHgFgsOKEgseBcLrvkgsWBJBxMU7KDggILEgueg4BYLEguWdHBAQWLBBIU5178SuJFYmPMk\n",
       "trGDgsSCJR0kFiQWTFAwQcGSDhILEgtzDNDKAQWJhfEyv5NYkFgwQcEBBYmFOV7FVvPu59uf4adJ\n",
       "LFjSYY7EVhIL854J2pigYAcFBxQkFizpILEgsTDnOqONHRSMT7Ckgy/MgsTCnOeMNhILxieYoOBJ\n",
       "Ojid4FUjmKDgVSPMs6RXTidY0sEOChILlnSwg4LxCd7mwzzfKK6cTvAcFOygILHgOSh4kg5OJ0gs\n",
       "mKDgmg8SCxILrvkgsWB8glssSCxILLjFgsSC8QkmKDigILHgQTHM9cvqyukESzqYoGBJB4kFiQUT\n",
       "FBxQkFgwQWGuA1pJLEgsOKAgsWCCggMKEgsmKHhQDBILEgsmKJig4IfD4HSCxILnoCCxILEgsSCx\n",
       "ILHggILEgiUd5h0HtJFYkFhwiwWJhbn+p96VCQp2UHCLBYmFuZ6kV3ZQkFiwpIPEgsTC3G9/gh8n\n",
       "sSCx4BYLvpMOEgsSCyYo+Mo1WNJBYsGTdPAuFiQWJBYkFiQWJBa8iwWJhfEqtpNYkFiQWJBYkFiQ\n",
       "WDBBwQ4KvrQPEgt+1QgSCxIL/k46zJPYSmLBg2LwLhYkFjwHBdd8kFjwHBT88UKQWPCgGExQsKSD\n",
       "JR0kFiQWvGoEiQVv88EXZkFiQWLBAQWJBX+8ECQWJBY8BwWJBYkFExRMULCkg8SCxIJfNYIv7YPE\n",
       "giUdXPNBYkFiYd5xQhuJBYkFt1iQWJBYkFiQWJBYMEHB90FhrleNlcSCxILEgsSCn33CPEtoJbEg\n",
       "seBdLEgs+FUjSCxILHjVCHZQkFiQWDBBwQSFud7mVxILrvlgBwWJBRMUHFCQWJh3fCu9kViQWJj7\n",
       "kdhmrh20klgwQcE1HyQW5n48B21MULCkgwMKEguu+TD3/Pn2Z/hpEguWdJgnsZXEgsSCAwoSC5Z0\n",
       "kFiQWJBY8LIaJBbmPhO0MUHBDgrzJLaSWJBY8KAYJBY8BwU7KEgseA4KbrEgsSCx4BYLEgsSC26x\n",
       "ILEgsWCCgms+zHuW9EZiQWJhjn8eZyWxMEdiKw+KQWJBYsE1HyQW5ljSK4kFiQW3WPgPSFToI7dW\n",
       "fGQAAAAASUVORK5CYII=\n",
       "\" transform=\"translate(2129, 579)\"/>\n",
       "</g>\n",
       "<g clip-path=\"url(#clip6801)\">\n",
       "<text style=\"fill:#000000; fill-opacity:1; font-family:Arial,Helvetica Neue,Helvetica,sans-serif; font-size:48px; text-anchor:start;\" transform=\"rotate(0, 2237.26, 985.778)\" x=\"2237.26\" y=\"985.778\">-</text>\n",
       "</g>\n",
       "<g clip-path=\"url(#clip6801)\">\n",
       "<text style=\"fill:#000000; fill-opacity:1; font-family:Arial,Helvetica Neue,Helvetica,sans-serif; font-size:48px; text-anchor:start;\" transform=\"rotate(0, 2265.37, 985.778)\" x=\"2265.37\" y=\"985.778\">4</text>\n",
       "</g>\n",
       "<g clip-path=\"url(#clip6801)\">\n",
       "<text style=\"fill:#000000; fill-opacity:1; font-family:Arial,Helvetica Neue,Helvetica,sans-serif; font-size:48px; text-anchor:start;\" transform=\"rotate(0, 2237.26, 907.071)\" x=\"2237.26\" y=\"907.071\">-</text>\n",
       "</g>\n",
       "<g clip-path=\"url(#clip6801)\">\n",
       "<text style=\"fill:#000000; fill-opacity:1; font-family:Arial,Helvetica Neue,Helvetica,sans-serif; font-size:48px; text-anchor:start;\" transform=\"rotate(0, 2265.37, 907.071)\" x=\"2265.37\" y=\"907.071\">3</text>\n",
       "</g>\n",
       "<g clip-path=\"url(#clip6801)\">\n",
       "<text style=\"fill:#000000; fill-opacity:1; font-family:Arial,Helvetica Neue,Helvetica,sans-serif; font-size:48px; text-anchor:start;\" transform=\"rotate(0, 2237.26, 828.364)\" x=\"2237.26\" y=\"828.364\">-</text>\n",
       "</g>\n",
       "<g clip-path=\"url(#clip6801)\">\n",
       "<text style=\"fill:#000000; fill-opacity:1; font-family:Arial,Helvetica Neue,Helvetica,sans-serif; font-size:48px; text-anchor:start;\" transform=\"rotate(0, 2265.37, 828.364)\" x=\"2265.37\" y=\"828.364\">2</text>\n",
       "</g>\n",
       "<g clip-path=\"url(#clip6801)\">\n",
       "<text style=\"fill:#000000; fill-opacity:1; font-family:Arial,Helvetica Neue,Helvetica,sans-serif; font-size:48px; text-anchor:start;\" transform=\"rotate(0, 2237.26, 749.657)\" x=\"2237.26\" y=\"749.657\">-</text>\n",
       "</g>\n",
       "<g clip-path=\"url(#clip6801)\">\n",
       "<text style=\"fill:#000000; fill-opacity:1; font-family:Arial,Helvetica Neue,Helvetica,sans-serif; font-size:48px; text-anchor:start;\" transform=\"rotate(0, 2265.37, 749.657)\" x=\"2265.37\" y=\"749.657\">1</text>\n",
       "</g>\n",
       "<g clip-path=\"url(#clip6801)\">\n",
       "<text style=\"fill:#000000; fill-opacity:1; font-family:Arial,Helvetica Neue,Helvetica,sans-serif; font-size:48px; text-anchor:start;\" transform=\"rotate(0, 2237.26, 670.95)\" x=\"2237.26\" y=\"670.95\">0</text>\n",
       "</g>\n",
       "<g clip-path=\"url(#clip6801)\">\n",
       "<text style=\"fill:#000000; fill-opacity:1; font-family:Arial,Helvetica Neue,Helvetica,sans-serif; font-size:48px; text-anchor:start;\" transform=\"rotate(0, 2237.26, 592.243)\" x=\"2237.26\" y=\"592.243\">1</text>\n",
       "</g>\n",
       "<polyline clip-path=\"url(#clip6801)\" style=\"stroke:#000000; stroke-width:4; stroke-opacity:1; fill:none\" points=\"\n",
       "  2201.26,972.127 2201.26,972.127 2225.26,972.127 2201.26,972.127 2201.26,893.42 2225.26,893.42 2201.26,893.42 2201.26,814.713 2225.26,814.713 2201.26,814.713 \n",
       "  2201.26,736.006 2225.26,736.006 2201.26,736.006 2201.26,657.299 2225.26,657.299 2201.26,657.299 2201.26,578.592 2225.26,578.592 2201.26,578.592 \n",
       "  \n",
       "  \"/>\n",
       "<g clip-path=\"url(#clip6801)\">\n",
       "<text style=\"fill:#000000; fill-opacity:1; font-family:Arial,Helvetica Neue,Helvetica,sans-serif; font-size:66px; text-anchor:middle;\" transform=\"rotate(-90, 2378.86, 775.359)\" x=\"2378.86\" y=\"775.359\"></text>\n",
       "</g>\n",
       "</svg>\n"
      ]
     },
     "execution_count": 3,
     "metadata": {},
     "output_type": "execute_result"
    }
   ],
   "source": [
    "# visualize longitudinal policy \n",
    "\n",
    "using Interact\n",
    "using Plots\n",
    "\n",
    "gr()\n",
    "\n",
    "policy_grid = zeros(Float64, length(pomdp.T_RANGE), length(pomdp.S_RANGE))\n",
    "\n",
    "# @manipulate for ego_v in pomdp.EGO_V_RANGE\n",
    "   ego_v = 30.0\n",
    "#     @manipulate for ped_v in pomdp.PED_V_RANGE\n",
    "   ped_v = 1.0\n",
    "        for i=1:length(pomdp.T_RANGE)\n",
    "            ped_t = pomdp.T_RANGE[i]\n",
    "            for j=1:length(pomdp.S_RANGE)\n",
    "                ped_s = pomdp.S_RANGE[j]\n",
    "                b = SparseCat([SingleOCFState(0.0, ego_v, ped_s, ped_t, pomdp.PED_THETA_RANGE[1], ped_v)],[1.])\n",
    "                act = action(qmdp_policy, b) \n",
    "                policy_grid[i,j] = act.acc\n",
    "            end\n",
    "        end\n",
    "        xs = [pomdp.S_RANGE[i] for i = 1:length(pomdp.S_RANGE)]\n",
    "        ys = [pomdp.T_RANGE[i] for i = 1:length(pomdp.T_RANGE)]\n",
    "        heatmap(xs,ys,policy_grid,aspect_ratio=1)\n",
    "#     end\n",
    "# end\n"
   ]
  },
  {
   "cell_type": "code",
   "execution_count": 4,
   "metadata": {},
   "outputs": [
    {
     "data": {
      "application/vnd.webio.node+json": {
       "children": [
        {
         "children": [
          {
           "children": [
            {
             "children": [
              {
               "children": [
                {
                 "children": [
                  "ego_v"
                 ],
                 "instanceArgs": {
                  "namespace": "html",
                  "tag": "label"
                 },
                 "nodeType": "DOM",
                 "props": {
                  "className": "interact ",
                  "style": {
                   "padding": "5px 10px 0px 10px"
                  }
                 },
                 "type": "node"
                }
               ],
               "instanceArgs": {
                "namespace": "html",
                "tag": "div"
               },
               "nodeType": "DOM",
               "props": {
                "attributes": {
                 "style": "text-align:right;width:18%"
                }
               },
               "type": "node"
              },
              {
               "children": [
                {
                 "children": [],
                 "instanceArgs": {
                  "namespace": "html",
                  "tag": "input"
                 },
                 "nodeType": "DOM",
                 "props": {
                  "attributes": {
                   "data-bind": "numericValue: index, valueUpdate: 'input', event: {change : function () {this.changes(this.changes()+1)}}",
                   "orient": "horizontal",
                   "type": "range"
                  },
                  "className": "slider slider is-fullwidth",
                  "max": 29,
                  "min": 1,
                  "step": 1,
                  "style": {}
                 },
                 "type": "node"
                }
               ],
               "instanceArgs": {
                "namespace": "html",
                "tag": "div"
               },
               "nodeType": "DOM",
               "props": {
                "attributes": {
                 "style": "flex-grow:1; margin: 0 2%"
                }
               },
               "type": "node"
              },
              {
               "children": [
                {
                 "children": [],
                 "instanceArgs": {
                  "namespace": "html",
                  "tag": "p"
                 },
                 "nodeType": "DOM",
                 "props": {
                  "attributes": {
                   "data-bind": "text: formatted_value"
                  }
                 },
                 "type": "node"
                }
               ],
               "instanceArgs": {
                "namespace": "html",
                "tag": "div"
               },
               "nodeType": "DOM",
               "props": {
                "attributes": {
                 "style": "width:18%"
                }
               },
               "type": "node"
              }
             ],
             "instanceArgs": {
              "namespace": "html",
              "tag": "div"
             },
             "nodeType": "DOM",
             "props": {
              "attributes": {
               "style": "display:flex; justify-content:center; align-items:center;"
              }
             },
             "type": "node"
            }
           ],
           "instanceArgs": {
            "handlers": {
             "_promises": {
              "importsLoaded": [
               "function (ko, koPunches) {\n    ko.punches.enableAll();\n    ko.bindingHandlers.numericValue = {\n        init : function(element, valueAccessor, allBindings, data, context) {\n            var stringified = ko.observable(ko.unwrap(valueAccessor()));\n            stringified.subscribe(function(value) {\n                var val = parseFloat(value);\n                if (!isNaN(val)) {\n                    valueAccessor()(val);\n                }\n            })\n            valueAccessor().subscribe(function(value) {\n                var str = JSON.stringify(value);\n                if ((str == \"0\") && ([\"-0\", \"-0.\"].indexOf(stringified()) >= 0))\n                     return;\n                 if ([\"null\", \"\"].indexOf(str) >= 0)\n                     return;\n                stringified(str);\n            })\n            ko.applyBindingsToNode(element, { value: stringified, valueUpdate: allBindings.get('valueUpdate')}, context);\n        }\n    };\n    var json_data = JSON.parse(\"{\\\"formatted_vals\\\":[\\\"0.0\\\",\\\"0.5\\\",\\\"1.0\\\",\\\"1.5\\\",\\\"2.0\\\",\\\"2.5\\\",\\\"3.0\\\",\\\"3.5\\\",\\\"4.0\\\",\\\"4.5\\\",\\\"5.0\\\",\\\"5.5\\\",\\\"6.0\\\",\\\"6.5\\\",\\\"7.0\\\",\\\"7.5\\\",\\\"8.0\\\",\\\"8.5\\\",\\\"9.0\\\",\\\"9.5\\\",\\\"10.0\\\",\\\"10.5\\\",\\\"11.0\\\",\\\"11.5\\\",\\\"12.0\\\",\\\"12.5\\\",\\\"13.0\\\",\\\"13.5\\\",\\\"14.0\\\"],\\\"changes\\\":0,\\\"formatted_value\\\":\\\"7.0\\\",\\\"index\\\":15}\");\n    var self = this;\n    function AppViewModel() {\n        for (var key in json_data) {\n            var el = json_data[key];\n            this[key] = Array.isArray(el) ? ko.observableArray(el) : ko.observable(el);\n        }\n        \n        \n        [this[\"formatted_vals\"].subscribe((function (val){!(this.valueFromJulia[\"formatted_vals\"]) ? (_webIOScope.setObservableValue({\"name\":\"formatted_vals\",\"scope\":\"knockout-component-59964e2d-46af-4300-a619-15e32871c075\",\"id\":\"ob_03\",\"type\":\"observable\"},val)) : undefined; return this.valueFromJulia[\"formatted_vals\"]=false}),self),this[\"changes\"].subscribe((function (val){!(this.valueFromJulia[\"changes\"]) ? (_webIOScope.setObservableValue({\"name\":\"changes\",\"scope\":\"knockout-component-59964e2d-46af-4300-a619-15e32871c075\",\"id\":\"ob_05\",\"type\":\"observable\"},val)) : undefined; return this.valueFromJulia[\"changes\"]=false}),self),this[\"formatted_value\"].subscribe((function (val){!(this.valueFromJulia[\"formatted_value\"]) ? (_webIOScope.setObservableValue({\"name\":\"formatted_value\",\"scope\":\"knockout-component-59964e2d-46af-4300-a619-15e32871c075\",\"id\":\"ob_04\",\"type\":\"observable\"},val)) : undefined; return this.valueFromJulia[\"formatted_value\"]=false}),self),this[\"index\"].subscribe((function (val){!(this.valueFromJulia[\"index\"]) ? (_webIOScope.setObservableValue({\"name\":\"index\",\"scope\":\"knockout-component-59964e2d-46af-4300-a619-15e32871c075\",\"id\":\"ob_02\",\"type\":\"observable\"},val)) : undefined; return this.valueFromJulia[\"index\"]=false}),self)]\n        \n    }\n    self.model = new AppViewModel();\n    self.valueFromJulia = {};\n    for (var key in json_data) {\n        self.valueFromJulia[key] = false;\n    }\n    ko.applyBindings(self.model, self.dom);\n}\n"
              ]
             },
             "changes": [
              "(function (val){return (val!=this.model[\"changes\"]()) ? (this.valueFromJulia[\"changes\"]=true, this.model[\"changes\"](val)) : undefined})"
             ],
             "formatted_vals": [
              "(function (val){return (val!=this.model[\"formatted_vals\"]()) ? (this.valueFromJulia[\"formatted_vals\"]=true, this.model[\"formatted_vals\"](val)) : undefined})"
             ],
             "formatted_value": [
              "(function (val){return (val!=this.model[\"formatted_value\"]()) ? (this.valueFromJulia[\"formatted_value\"]=true, this.model[\"formatted_value\"](val)) : undefined})"
             ],
             "index": [
              "(function (val){return (val!=this.model[\"index\"]()) ? (this.valueFromJulia[\"index\"]=true, this.model[\"index\"](val)) : undefined})",
              "(function (val){return _webIOScope.setObservableValue({\"name\":\"formatted_value\",\"scope\":\"knockout-component-59964e2d-46af-4300-a619-15e32871c075\",\"id\":\"ob_04\",\"type\":\"observable\"},_webIOScope.getObservableValue({\"name\":\"formatted_vals\",\"scope\":\"knockout-component-59964e2d-46af-4300-a619-15e32871c075\",\"id\":\"ob_03\",\"type\":\"observable\"})[(_webIOScope.getObservableValue({\"name\":\"index\",\"scope\":\"knockout-component-59964e2d-46af-4300-a619-15e32871c075\",\"id\":\"ob_02\",\"type\":\"observable\"})-1)])})"
             ]
            },
            "id": "knockout-component-59964e2d-46af-4300-a619-15e32871c075",
            "imports": {
             "data": [
              {
               "name": "knockout",
               "type": "js",
               "url": "/assetserver/7727d7cb3453b9ff588804f2f297360e756850e6-knockout.js"
              },
              {
               "name": "knockout_punches",
               "type": "js",
               "url": "/assetserver/dc191505b241da77a1bd06986b7132036babe315-knockout_punches.js"
              },
              {
               "name": null,
               "type": "js",
               "url": "/assetserver/cf39e83f3445855334efae1f7d0ee012952fe319-all.js"
              },
              {
               "name": null,
               "type": "css",
               "url": "/assetserver/495af69608d773e6cf6efd8fe98ee33ddbad0df5-style.css"
              },
              {
               "name": null,
               "type": "css",
               "url": "/assetserver/9d22e7e1c4dccb3a3bef6ae4d24134fd256d4bfd-main.css"
              }
             ],
             "type": "async_block"
            },
            "observables": {
             "changes": {
              "id": "ob_05",
              "sync": false,
              "value": 0
             },
             "formatted_vals": {
              "id": "ob_03",
              "sync": false,
              "value": [
               "0.0",
               "0.5",
               "1.0",
               "1.5",
               "2.0",
               "2.5",
               "3.0",
               "3.5",
               "4.0",
               "4.5",
               "5.0",
               "5.5",
               "6.0",
               "6.5",
               "7.0",
               "7.5",
               "8.0",
               "8.5",
               "9.0",
               "9.5",
               "10.0",
               "10.5",
               "11.0",
               "11.5",
               "12.0",
               "12.5",
               "13.0",
               "13.5",
               "14.0"
              ]
             },
             "formatted_value": {
              "id": "ob_04",
              "sync": false,
              "value": "7.0"
             },
             "index": {
              "id": "ob_02",
              "sync": true,
              "value": 15
             }
            },
            "systemjs_options": null
           },
           "nodeType": "Scope",
           "props": {},
           "type": "node"
          }
         ],
         "instanceArgs": {
          "namespace": "html",
          "tag": "div"
         },
         "nodeType": "DOM",
         "props": {
          "className": "field"
         },
         "type": "node"
        },
        {
         "children": [
          {
           "children": [],
           "instanceArgs": {
            "id": "ob_19",
            "name": "obs-scope"
           },
           "nodeType": "ObservableNode",
           "props": {},
           "type": "node"
          }
         ],
         "instanceArgs": {
          "handlers": {},
          "id": "scope-33534740-c057-41c2-be05-ccef8b261bb7",
          "imports": {
           "data": [],
           "type": "async_block"
          },
          "observables": {
           "obs-scope": {
            "id": "ob_19",
            "sync": false,
            "value": {
             "children": [
              {
               "children": [
                {
                 "children": [
                  {
                   "children": [
                    {
                     "children": [
                      {
                       "children": [
                        "ped_v"
                       ],
                       "instanceArgs": {
                        "namespace": "html",
                        "tag": "label"
                       },
                       "nodeType": "DOM",
                       "props": {
                        "className": "interact ",
                        "style": {
                         "padding": "5px 10px 0px 10px"
                        }
                       },
                       "type": "node"
                      }
                     ],
                     "instanceArgs": {
                      "namespace": "html",
                      "tag": "div"
                     },
                     "nodeType": "DOM",
                     "props": {
                      "attributes": {
                       "style": "text-align:right;width:18%"
                      }
                     },
                     "type": "node"
                    },
                    {
                     "children": [
                      {
                       "children": [],
                       "instanceArgs": {
                        "namespace": "html",
                        "tag": "input"
                       },
                       "nodeType": "DOM",
                       "props": {
                        "attributes": {
                         "data-bind": "numericValue: index, valueUpdate: 'input', event: {change : function () {this.changes(this.changes()+1)}}",
                         "orient": "horizontal",
                         "type": "range"
                        },
                        "className": "slider slider is-fullwidth",
                        "max": 5,
                        "min": 1,
                        "step": 1,
                        "style": {}
                       },
                       "type": "node"
                      }
                     ],
                     "instanceArgs": {
                      "namespace": "html",
                      "tag": "div"
                     },
                     "nodeType": "DOM",
                     "props": {
                      "attributes": {
                       "style": "flex-grow:1; margin: 0 2%"
                      }
                     },
                     "type": "node"
                    },
                    {
                     "children": [
                      {
                       "children": [],
                       "instanceArgs": {
                        "namespace": "html",
                        "tag": "p"
                       },
                       "nodeType": "DOM",
                       "props": {
                        "attributes": {
                         "data-bind": "text: formatted_value"
                        }
                       },
                       "type": "node"
                      }
                     ],
                     "instanceArgs": {
                      "namespace": "html",
                      "tag": "div"
                     },
                     "nodeType": "DOM",
                     "props": {
                      "attributes": {
                       "style": "width:18%"
                      }
                     },
                     "type": "node"
                    }
                   ],
                   "instanceArgs": {
                    "namespace": "html",
                    "tag": "div"
                   },
                   "nodeType": "DOM",
                   "props": {
                    "attributes": {
                     "style": "display:flex; justify-content:center; align-items:center;"
                    }
                   },
                   "type": "node"
                  }
                 ],
                 "instanceArgs": {
                  "handlers": {
                   "_promises": {
                    "importsLoaded": [
                     "function (ko, koPunches) {\n    ko.punches.enableAll();\n    ko.bindingHandlers.numericValue = {\n        init : function(element, valueAccessor, allBindings, data, context) {\n            var stringified = ko.observable(ko.unwrap(valueAccessor()));\n            stringified.subscribe(function(value) {\n                var val = parseFloat(value);\n                if (!isNaN(val)) {\n                    valueAccessor()(val);\n                }\n            })\n            valueAccessor().subscribe(function(value) {\n                var str = JSON.stringify(value);\n                if ((str == \"0\") && ([\"-0\", \"-0.\"].indexOf(stringified()) >= 0))\n                     return;\n                 if ([\"null\", \"\"].indexOf(str) >= 0)\n                     return;\n                stringified(str);\n            })\n            ko.applyBindingsToNode(element, { value: stringified, valueUpdate: allBindings.get('valueUpdate')}, context);\n        }\n    };\n    var json_data = JSON.parse(\"{\\\"formatted_vals\\\":[\\\"0.0\\\",\\\"0.5\\\",\\\"1.0\\\",\\\"1.5\\\",\\\"2.0\\\"],\\\"changes\\\":0,\\\"formatted_value\\\":\\\"1.0\\\",\\\"index\\\":3}\");\n    var self = this;\n    function AppViewModel() {\n        for (var key in json_data) {\n            var el = json_data[key];\n            this[key] = Array.isArray(el) ? ko.observableArray(el) : ko.observable(el);\n        }\n        \n        \n        [this[\"formatted_vals\"].subscribe((function (val){!(this.valueFromJulia[\"formatted_vals\"]) ? (_webIOScope.setObservableValue({\"name\":\"formatted_vals\",\"scope\":\"knockout-component-9b8c97d9-9ed8-4a70-be8f-0081e5ecbfde\",\"id\":\"ob_08\",\"type\":\"observable\"},val)) : undefined; return this.valueFromJulia[\"formatted_vals\"]=false}),self),this[\"changes\"].subscribe((function (val){!(this.valueFromJulia[\"changes\"]) ? (_webIOScope.setObservableValue({\"name\":\"changes\",\"scope\":\"knockout-component-9b8c97d9-9ed8-4a70-be8f-0081e5ecbfde\",\"id\":\"ob_10\",\"type\":\"observable\"},val)) : undefined; return this.valueFromJulia[\"changes\"]=false}),self),this[\"formatted_value\"].subscribe((function (val){!(this.valueFromJulia[\"formatted_value\"]) ? (_webIOScope.setObservableValue({\"name\":\"formatted_value\",\"scope\":\"knockout-component-9b8c97d9-9ed8-4a70-be8f-0081e5ecbfde\",\"id\":\"ob_09\",\"type\":\"observable\"},val)) : undefined; return this.valueFromJulia[\"formatted_value\"]=false}),self),this[\"index\"].subscribe((function (val){!(this.valueFromJulia[\"index\"]) ? (_webIOScope.setObservableValue({\"name\":\"index\",\"scope\":\"knockout-component-9b8c97d9-9ed8-4a70-be8f-0081e5ecbfde\",\"id\":\"ob_07\",\"type\":\"observable\"},val)) : undefined; return this.valueFromJulia[\"index\"]=false}),self)]\n        \n    }\n    self.model = new AppViewModel();\n    self.valueFromJulia = {};\n    for (var key in json_data) {\n        self.valueFromJulia[key] = false;\n    }\n    ko.applyBindings(self.model, self.dom);\n}\n"
                    ]
                   },
                   "changes": [
                    "(function (val){return (val!=this.model[\"changes\"]()) ? (this.valueFromJulia[\"changes\"]=true, this.model[\"changes\"](val)) : undefined})"
                   ],
                   "formatted_vals": [
                    "(function (val){return (val!=this.model[\"formatted_vals\"]()) ? (this.valueFromJulia[\"formatted_vals\"]=true, this.model[\"formatted_vals\"](val)) : undefined})"
                   ],
                   "formatted_value": [
                    "(function (val){return (val!=this.model[\"formatted_value\"]()) ? (this.valueFromJulia[\"formatted_value\"]=true, this.model[\"formatted_value\"](val)) : undefined})"
                   ],
                   "index": [
                    "(function (val){return (val!=this.model[\"index\"]()) ? (this.valueFromJulia[\"index\"]=true, this.model[\"index\"](val)) : undefined})",
                    "(function (val){return _webIOScope.setObservableValue({\"name\":\"formatted_value\",\"scope\":\"knockout-component-9b8c97d9-9ed8-4a70-be8f-0081e5ecbfde\",\"id\":\"ob_09\",\"type\":\"observable\"},_webIOScope.getObservableValue({\"name\":\"formatted_vals\",\"scope\":\"knockout-component-9b8c97d9-9ed8-4a70-be8f-0081e5ecbfde\",\"id\":\"ob_08\",\"type\":\"observable\"})[(_webIOScope.getObservableValue({\"name\":\"index\",\"scope\":\"knockout-component-9b8c97d9-9ed8-4a70-be8f-0081e5ecbfde\",\"id\":\"ob_07\",\"type\":\"observable\"})-1)])})"
                   ]
                  },
                  "id": "knockout-component-9b8c97d9-9ed8-4a70-be8f-0081e5ecbfde",
                  "imports": {
                   "data": [
                    {
                     "name": "knockout",
                     "type": "js",
                     "url": "/assetserver/7727d7cb3453b9ff588804f2f297360e756850e6-knockout.js"
                    },
                    {
                     "name": "knockout_punches",
                     "type": "js",
                     "url": "/assetserver/dc191505b241da77a1bd06986b7132036babe315-knockout_punches.js"
                    },
                    {
                     "name": null,
                     "type": "js",
                     "url": "/assetserver/cf39e83f3445855334efae1f7d0ee012952fe319-all.js"
                    },
                    {
                     "name": null,
                     "type": "css",
                     "url": "/assetserver/495af69608d773e6cf6efd8fe98ee33ddbad0df5-style.css"
                    },
                    {
                     "name": null,
                     "type": "css",
                     "url": "/assetserver/9d22e7e1c4dccb3a3bef6ae4d24134fd256d4bfd-main.css"
                    }
                   ],
                   "type": "async_block"
                  },
                  "observables": {
                   "changes": {
                    "id": "ob_10",
                    "sync": false,
                    "value": 0
                   },
                   "formatted_vals": {
                    "id": "ob_08",
                    "sync": false,
                    "value": [
                     "0.0",
                     "0.5",
                     "1.0",
                     "1.5",
                     "2.0"
                    ]
                   },
                   "formatted_value": {
                    "id": "ob_09",
                    "sync": false,
                    "value": "1.0"
                   },
                   "index": {
                    "id": "ob_07",
                    "sync": true,
                    "value": 3
                   }
                  },
                  "systemjs_options": null
                 },
                 "nodeType": "Scope",
                 "props": {},
                 "type": "node"
                }
               ],
               "instanceArgs": {
                "namespace": "html",
                "tag": "div"
               },
               "nodeType": "DOM",
               "props": {
                "className": "field"
               },
               "type": "node"
              },
              {
               "children": [
                {
                 "children": [],
                 "instanceArgs": {
                  "id": "ob_20",
                  "name": "obs-node"
                 },
                 "nodeType": "ObservableNode",
                 "props": {},
                 "type": "node"
                }
               ],
               "instanceArgs": {
                "handlers": {},
                "id": "scope-cf7ea5a4-c259-4431-8f13-49b792e23916",
                "imports": {
                 "data": [],
                 "type": "async_block"
                },
                "observables": {
                 "obs-node": {
                  "id": "ob_20",
                  "sync": false,
                  "value": {
                   "children": [
                    {
                     "children": [],
                     "instanceArgs": {
                      "namespace": "html",
                      "tag": "div"
                     },
                     "nodeType": "DOM",
                     "props": {
                      "setInnerHtml": "<?xml version=\"1.0\" encoding=\"utf-8\"?>\n<svg xmlns=\"http://www.w3.org/2000/svg\" xmlns:xlink=\"http://www.w3.org/1999/xlink\" width=\"600\" height=\"400\" viewBox=\"0 0 2400 1600\">\n<defs>\n  <clipPath id=\"clip7200\">\n    <rect x=\"0\" y=\"0\" width=\"2000\" height=\"2000\"/>\n  </clipPath>\n</defs>\n<defs>\n  <clipPath id=\"clip7201\">\n    <rect x=\"0\" y=\"0\" width=\"2400\" height=\"1600\"/>\n  </clipPath>\n</defs>\n<polygon clip-path=\"url(#clip7201)\" points=\"\n0,1600 2400,1600 2400,0 0,0 \n  \" fill=\"#ffffff\" fill-rule=\"evenodd\" fill-opacity=\"1\"/>\n<defs>\n  <clipPath id=\"clip7202\">\n    <rect x=\"480\" y=\"0\" width=\"1681\" height=\"1600\"/>\n  </clipPath>\n</defs>\n<polygon clip-path=\"url(#clip7201)\" points=\"\n149.361,972.127 2081.26,972.127 2081.26,578.592 149.361,578.592 \n  \" fill=\"#ffffff\" fill-rule=\"evenodd\" fill-opacity=\"1\"/>\n<defs>\n  <clipPath id=\"clip7203\">\n    <rect x=\"149\" y=\"578\" width=\"1933\" height=\"395\"/>\n  </clipPath>\n</defs>\n<polyline clip-path=\"url(#clip7203)\" style=\"stroke:#000000; stroke-width:2; stroke-opacity:0.1; fill:none\" points=\"\n  256.688,972.127 256.688,578.592 \n  \"/>\n<polyline clip-path=\"url(#clip7203)\" style=\"stroke:#000000; stroke-width:2; stroke-opacity:0.1; fill:none\" points=\"\n  614.447,972.127 614.447,578.592 \n  \"/>\n<polyline clip-path=\"url(#clip7203)\" style=\"stroke:#000000; stroke-width:2; stroke-opacity:0.1; fill:none\" points=\"\n  972.207,972.127 972.207,578.592 \n  \"/>\n<polyline clip-path=\"url(#clip7203)\" style=\"stroke:#000000; stroke-width:2; stroke-opacity:0.1; fill:none\" points=\"\n  1329.97,972.127 1329.97,578.592 \n  \"/>\n<polyline clip-path=\"url(#clip7203)\" style=\"stroke:#000000; stroke-width:2; stroke-opacity:0.1; fill:none\" points=\"\n  1687.72,972.127 1687.72,578.592 \n  \"/>\n<polyline clip-path=\"url(#clip7203)\" style=\"stroke:#000000; stroke-width:2; stroke-opacity:0.1; fill:none\" points=\"\n  2045.48,972.127 2045.48,578.592 \n  \"/>\n<polyline clip-path=\"url(#clip7203)\" style=\"stroke:#000000; stroke-width:2; stroke-opacity:0.1; fill:none\" points=\"\n  149.361,918.463 2081.26,918.463 \n  \"/>\n<polyline clip-path=\"url(#clip7203)\" style=\"stroke:#000000; stroke-width:2; stroke-opacity:0.1; fill:none\" points=\"\n  149.361,846.911 2081.26,846.911 \n  \"/>\n<polyline clip-path=\"url(#clip7203)\" style=\"stroke:#000000; stroke-width:2; stroke-opacity:0.1; fill:none\" points=\"\n  149.361,775.359 2081.26,775.359 \n  \"/>\n<polyline clip-path=\"url(#clip7203)\" style=\"stroke:#000000; stroke-width:2; stroke-opacity:0.1; fill:none\" points=\"\n  149.361,703.808 2081.26,703.808 \n  \"/>\n<polyline clip-path=\"url(#clip7203)\" style=\"stroke:#000000; stroke-width:2; stroke-opacity:0.1; fill:none\" points=\"\n  149.361,632.256 2081.26,632.256 \n  \"/>\n<polyline clip-path=\"url(#clip7201)\" style=\"stroke:#000000; stroke-width:4; stroke-opacity:1; fill:none\" points=\"\n  149.361,972.127 2081.26,972.127 \n  \"/>\n<polyline clip-path=\"url(#clip7201)\" style=\"stroke:#000000; stroke-width:4; stroke-opacity:1; fill:none\" points=\"\n  149.361,972.127 149.361,578.592 \n  \"/>\n<polyline clip-path=\"url(#clip7201)\" style=\"stroke:#000000; stroke-width:4; stroke-opacity:1; fill:none\" points=\"\n  256.688,972.127 256.688,966.224 \n  \"/>\n<polyline clip-path=\"url(#clip7201)\" style=\"stroke:#000000; stroke-width:4; stroke-opacity:1; fill:none\" points=\"\n  614.447,972.127 614.447,966.224 \n  \"/>\n<polyline clip-path=\"url(#clip7201)\" style=\"stroke:#000000; stroke-width:4; stroke-opacity:1; fill:none\" points=\"\n  972.207,972.127 972.207,966.224 \n  \"/>\n<polyline clip-path=\"url(#clip7201)\" style=\"stroke:#000000; stroke-width:4; stroke-opacity:1; fill:none\" points=\"\n  1329.97,972.127 1329.97,966.224 \n  \"/>\n<polyline clip-path=\"url(#clip7201)\" style=\"stroke:#000000; stroke-width:4; stroke-opacity:1; fill:none\" points=\"\n  1687.72,972.127 1687.72,966.224 \n  \"/>\n<polyline clip-path=\"url(#clip7201)\" style=\"stroke:#000000; stroke-width:4; stroke-opacity:1; fill:none\" points=\"\n  2045.48,972.127 2045.48,966.224 \n  \"/>\n<polyline clip-path=\"url(#clip7201)\" style=\"stroke:#000000; stroke-width:4; stroke-opacity:1; fill:none\" points=\"\n  149.361,918.463 178.339,918.463 \n  \"/>\n<polyline clip-path=\"url(#clip7201)\" style=\"stroke:#000000; stroke-width:4; stroke-opacity:1; fill:none\" points=\"\n  149.361,846.911 178.339,846.911 \n  \"/>\n<polyline clip-path=\"url(#clip7201)\" style=\"stroke:#000000; stroke-width:4; stroke-opacity:1; fill:none\" points=\"\n  149.361,775.359 178.339,775.359 \n  \"/>\n<polyline clip-path=\"url(#clip7201)\" style=\"stroke:#000000; stroke-width:4; stroke-opacity:1; fill:none\" points=\"\n  149.361,703.808 178.339,703.808 \n  \"/>\n<polyline clip-path=\"url(#clip7201)\" style=\"stroke:#000000; stroke-width:4; stroke-opacity:1; fill:none\" points=\"\n  149.361,632.256 178.339,632.256 \n  \"/>\n<g clip-path=\"url(#clip7201)\">\n<text style=\"fill:#000000; fill-opacity:1; font-family:Arial,Helvetica Neue,Helvetica,sans-serif; font-size:48px; text-anchor:middle;\" transform=\"rotate(0, 256.688, 1026.13)\" x=\"256.688\" y=\"1026.13\">0</text>\n</g>\n<g clip-path=\"url(#clip7201)\">\n<text style=\"fill:#000000; fill-opacity:1; font-family:Arial,Helvetica Neue,Helvetica,sans-serif; font-size:48px; text-anchor:middle;\" transform=\"rotate(0, 614.447, 1026.13)\" x=\"614.447\" y=\"1026.13\">10</text>\n</g>\n<g clip-path=\"url(#clip7201)\">\n<text style=\"fill:#000000; fill-opacity:1; font-family:Arial,Helvetica Neue,Helvetica,sans-serif; font-size:48px; text-anchor:middle;\" transform=\"rotate(0, 972.207, 1026.13)\" x=\"972.207\" y=\"1026.13\">20</text>\n</g>\n<g clip-path=\"url(#clip7201)\">\n<text style=\"fill:#000000; fill-opacity:1; font-family:Arial,Helvetica Neue,Helvetica,sans-serif; font-size:48px; text-anchor:middle;\" transform=\"rotate(0, 1329.97, 1026.13)\" x=\"1329.97\" y=\"1026.13\">30</text>\n</g>\n<g clip-path=\"url(#clip7201)\">\n<text style=\"fill:#000000; fill-opacity:1; font-family:Arial,Helvetica Neue,Helvetica,sans-serif; font-size:48px; text-anchor:middle;\" transform=\"rotate(0, 1687.72, 1026.13)\" x=\"1687.72\" y=\"1026.13\">40</text>\n</g>\n<g clip-path=\"url(#clip7201)\">\n<text style=\"fill:#000000; fill-opacity:1; font-family:Arial,Helvetica Neue,Helvetica,sans-serif; font-size:48px; text-anchor:middle;\" transform=\"rotate(0, 2045.48, 1026.13)\" x=\"2045.48\" y=\"1026.13\">50</text>\n</g>\n<g clip-path=\"url(#clip7201)\">\n<text style=\"fill:#000000; fill-opacity:1; font-family:Arial,Helvetica Neue,Helvetica,sans-serif; font-size:48px; text-anchor:end;\" transform=\"rotate(0, 125.361, 935.963)\" x=\"125.361\" y=\"935.963\">-4</text>\n</g>\n<g clip-path=\"url(#clip7201)\">\n<text style=\"fill:#000000; fill-opacity:1; font-family:Arial,Helvetica Neue,Helvetica,sans-serif; font-size:48px; text-anchor:end;\" transform=\"rotate(0, 125.361, 864.411)\" x=\"125.361\" y=\"864.411\">-2</text>\n</g>\n<g clip-path=\"url(#clip7201)\">\n<text style=\"fill:#000000; fill-opacity:1; font-family:Arial,Helvetica Neue,Helvetica,sans-serif; font-size:48px; text-anchor:end;\" transform=\"rotate(0, 125.361, 792.859)\" x=\"125.361\" y=\"792.859\">0</text>\n</g>\n<g clip-path=\"url(#clip7201)\">\n<text style=\"fill:#000000; fill-opacity:1; font-family:Arial,Helvetica Neue,Helvetica,sans-serif; font-size:48px; text-anchor:end;\" transform=\"rotate(0, 125.361, 721.308)\" x=\"125.361\" y=\"721.308\">2</text>\n</g>\n<g clip-path=\"url(#clip7201)\">\n<text style=\"fill:#000000; fill-opacity:1; font-family:Arial,Helvetica Neue,Helvetica,sans-serif; font-size:48px; text-anchor:end;\" transform=\"rotate(0, 125.361, 649.756)\" x=\"125.361\" y=\"649.756\">4</text>\n</g>\n<g clip-path=\"url(#clip7203)\">\n<image width=\"1932\" height=\"394\" xlink:href=\"data:image/png;base64,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\n\" transform=\"translate(149, 579)\"/>\n</g>\n<defs>\n  <clipPath id=\"clip7204\">\n    <rect x=\"2129\" y=\"578\" width=\"73\" height=\"395\"/>\n  </clipPath>\n</defs>\n<g clip-path=\"url(#clip7204)\">\n<image width=\"72\" height=\"394\" xlink:href=\"data:image/png;base64,\niVBORw0KGgoAAAANSUhEUgAAAEgAAAGKCAYAAACvugdMAAAEEElEQVR4nO3dwbEjNwxAQcqF/KNw\nlvaSjsB4R+nQHYGKhQfOSL92P//ev9/hf/317Q/w6+a+f7/9GX6aCQrzTNBq3nVAG4kFiQUHFCQW\nTFBwiwWJBYkFBxQkFuZY0isHFCQW5ljSKxMU7KDggILEwpz7z7c/w09ziwWJBUs6OKAgsTCf9+fb\nn+GnzbkOaCOxMB8TtJJYkFiY4xZb2UFBYsGSDiYo2EFBYkFiYT73fvsz/DSJBYkFExRc80FiYY5b\nbCWxILHgFgsOKEgseBcLrvkgsWBJBxMU7KDggILEgueg4BYLEguWdHBAQWLBBIU5178SuJFYmPMk\ntrGDgsSCJR0kFiQWTFAwQcGSDhILEgtzDNDKAQWJhfEyv5NYkFgwQcEBBYmFOV7FVvPu59uf4adJ\nLFjSYY7EVhIL854J2pigYAcFBxQkFizpILEgsTDnOqONHRSMT7Ckgy/MgsTCnOeMNhILxieYoOBJ\nOjid4FUjmKDgVSPMs6RXTidY0sEOChILlnSwg4LxCd7mwzzfKK6cTvAcFOygILHgOSh4kg5OJ0gs\nmKDgmg8SCxILrvkgsWB8glssSCxILLjFgsSC8QkmKDigILHgQTHM9cvqyukESzqYoGBJB4kFiQUT\nFBxQkFgwQWGuA1pJLEgsOKAgsWCCggMKEgsmKHhQDBILEgsmKJig4IfD4HSCxILnoCCxILEgsSCx\nILHggILEgiUd5h0HtJFYkFhwiwWJhbn+p96VCQp2UHCLBYmFuZ6kV3ZQkFiwpIPEgsTC3G9/gh8n\nsSCx4BYLvpMOEgsSCyYo+Mo1WNJBYsGTdPAuFiQWJBYkFiQWJBa8iwWJhfEqtpNYkFiQWJBYkFiQ\nWDBBwQ4KvrQPEgt+1QgSCxIL/k46zJPYSmLBg2LwLhYkFjwHBdd8kFjwHBT88UKQWPCgGExQsKSD\nJR0kFiQWvGoEiQVv88EXZkFiQWLBAQWJBX+8ECQWJBY8BwWJBYkFExRMULCkg8SCxIJfNYIv7YPE\ngiUdXPNBYkFiYd5xQhuJBYkFt1iQWJBYkFiQWJBYMEHB90FhrleNlcSCxILEgsSCn33CPEtoJbEg\nseBdLEgs+FUjSCxILHjVCHZQkFiQWDBBwQSFud7mVxILrvlgBwWJBRMUHFCQWJh3fCu9kViQWJj7\nkdhmrh20klgwQcE1HyQW5n48B21MULCkgwMKEguu+TD3/Pn2Z/hpEguWdJgnsZXEgsSCAwoSC5Z0\nkFiQWJBY8LIaJBbmPhO0MUHBDgrzJLaSWJBY8KAYJBY8BwU7KEgseA4KbrEgsSCx4BYLEgsSC26x\nILEgsWCCgms+zHuW9EZiQWJhjn8eZyWxMEdiKw+KQWJBYsE1HyQW5ljSK4kFiQW3WPgPSFToI7dW\nfGQAAAAASUVORK5CYII=\n\" transform=\"translate(2129, 579)\"/>\n</g>\n<g clip-path=\"url(#clip7201)\">\n<text style=\"fill:#000000; fill-opacity:1; font-family:Arial,Helvetica Neue,Helvetica,sans-serif; font-size:48px; text-anchor:start;\" transform=\"rotate(0, 2237.26, 985.778)\" x=\"2237.26\" y=\"985.778\">-</text>\n</g>\n<g clip-path=\"url(#clip7201)\">\n<text style=\"fill:#000000; fill-opacity:1; font-family:Arial,Helvetica Neue,Helvetica,sans-serif; font-size:48px; text-anchor:start;\" transform=\"rotate(0, 2265.37, 985.778)\" x=\"2265.37\" y=\"985.778\">0.100</text>\n</g>\n<g clip-path=\"url(#clip7201)\">\n<text style=\"fill:#000000; fill-opacity:1; font-family:Arial,Helvetica Neue,Helvetica,sans-serif; font-size:48px; text-anchor:start;\" transform=\"rotate(0, 2237.26, 936.586)\" x=\"2237.26\" y=\"936.586\">-</text>\n</g>\n<g clip-path=\"url(#clip7201)\">\n<text style=\"fill:#000000; fill-opacity:1; font-family:Arial,Helvetica Neue,Helvetica,sans-serif; font-size:48px; text-anchor:start;\" transform=\"rotate(0, 2265.37, 936.586)\" x=\"2265.37\" y=\"936.586\">0.075</text>\n</g>\n<g clip-path=\"url(#clip7201)\">\n<text style=\"fill:#000000; fill-opacity:1; font-family:Arial,Helvetica Neue,Helvetica,sans-serif; font-size:48px; text-anchor:start;\" transform=\"rotate(0, 2237.26, 887.394)\" x=\"2237.26\" y=\"887.394\">-</text>\n</g>\n<g clip-path=\"url(#clip7201)\">\n<text style=\"fill:#000000; fill-opacity:1; font-family:Arial,Helvetica Neue,Helvetica,sans-serif; font-size:48px; text-anchor:start;\" transform=\"rotate(0, 2265.37, 887.394)\" x=\"2265.37\" y=\"887.394\">0.050</text>\n</g>\n<g clip-path=\"url(#clip7201)\">\n<text style=\"fill:#000000; fill-opacity:1; font-family:Arial,Helvetica Neue,Helvetica,sans-serif; font-size:48px; text-anchor:start;\" transform=\"rotate(0, 2237.26, 838.202)\" x=\"2237.26\" y=\"838.202\">-</text>\n</g>\n<g clip-path=\"url(#clip7201)\">\n<text style=\"fill:#000000; fill-opacity:1; font-family:Arial,Helvetica Neue,Helvetica,sans-serif; font-size:48px; text-anchor:start;\" transform=\"rotate(0, 2265.37, 838.202)\" x=\"2265.37\" y=\"838.202\">0.025</text>\n</g>\n<g clip-path=\"url(#clip7201)\">\n<text style=\"fill:#000000; fill-opacity:1; font-family:Arial,Helvetica Neue,Helvetica,sans-serif; font-size:48px; text-anchor:start;\" transform=\"rotate(0, 2237.26, 789.011)\" x=\"2237.26\" y=\"789.011\">0</text>\n</g>\n<g clip-path=\"url(#clip7201)\">\n<text style=\"fill:#000000; fill-opacity:1; font-family:Arial,Helvetica Neue,Helvetica,sans-serif; font-size:48px; text-anchor:start;\" transform=\"rotate(0, 2237.26, 739.819)\" x=\"2237.26\" y=\"739.819\">0.025</text>\n</g>\n<g clip-path=\"url(#clip7201)\">\n<text style=\"fill:#000000; fill-opacity:1; font-family:Arial,Helvetica Neue,Helvetica,sans-serif; font-size:48px; text-anchor:start;\" transform=\"rotate(0, 2237.26, 690.627)\" x=\"2237.26\" y=\"690.627\">0.050</text>\n</g>\n<g clip-path=\"url(#clip7201)\">\n<text style=\"fill:#000000; fill-opacity:1; font-family:Arial,Helvetica Neue,Helvetica,sans-serif; font-size:48px; text-anchor:start;\" transform=\"rotate(0, 2237.26, 641.435)\" x=\"2237.26\" y=\"641.435\">0.075</text>\n</g>\n<g clip-path=\"url(#clip7201)\">\n<text style=\"fill:#000000; fill-opacity:1; font-family:Arial,Helvetica Neue,Helvetica,sans-serif; font-size:48px; text-anchor:start;\" transform=\"rotate(0, 2237.26, 592.243)\" x=\"2237.26\" y=\"592.243\">0.100</text>\n</g>\n<polyline clip-path=\"url(#clip7201)\" style=\"stroke:#000000; stroke-width:4; stroke-opacity:1; fill:none\" points=\"\n  2201.26,972.127 2201.26,972.127 2225.26,972.127 2201.26,972.127 2201.26,922.935 2225.26,922.935 2201.26,922.935 2201.26,873.743 2225.26,873.743 2201.26,873.743 \n  2201.26,824.551 2225.26,824.551 2201.26,824.551 2201.26,775.359 2225.26,775.359 2201.26,775.359 2201.26,726.168 2225.26,726.168 2201.26,726.168 2201.26,676.976 \n  2225.26,676.976 2201.26,676.976 2201.26,627.784 2225.26,627.784 2201.26,627.784 2201.26,578.592 2225.26,578.592 2201.26,578.592 \n  \"/>\n<g clip-path=\"url(#clip7201)\">\n<text style=\"fill:#000000; fill-opacity:1; font-family:Arial,Helvetica Neue,Helvetica,sans-serif; font-size:66px; text-anchor:middle;\" transform=\"rotate(-90, 2378.86, 775.359)\" x=\"2378.86\" y=\"775.359\"></text>\n</g>\n</svg>\n"
                     },
                     "type": "node"
                    }
                   ],
                   "instanceArgs": {
                    "namespace": "html",
                    "tag": "div"
                   },
                   "nodeType": "DOM",
                   "props": {
                    "attributes": {
                     "style": "display:flex; justify-content:center; align-items:center;"
                    }
                   },
                   "type": "node"
                  }
                 }
                },
                "systemjs_options": null
               },
               "nodeType": "Scope",
               "props": {},
               "type": "node"
              }
             ],
             "instanceArgs": {
              "namespace": "html",
              "tag": "div"
             },
             "nodeType": "DOM",
             "props": {},
             "type": "node"
            }
           }
          },
          "systemjs_options": null
         },
         "nodeType": "Scope",
         "props": {},
         "type": "node"
        }
       ],
       "instanceArgs": {
        "namespace": "html",
        "tag": "div"
       },
       "nodeType": "DOM",
       "props": {},
       "type": "node"
      },
      "text/html": [
       "<div\n",
       "    class=\"webio-mountpoint\"\n",
       "    data-webio-mountpoint=\"1862643066444126030\"\n",
       ">\n",
       "    <script>\n",
       "    if (window.require && require.defined && require.defined(\"nbextensions/webio/main\")) {\n",
       "        console.log(\"Jupyter WebIO extension detected, not mounting.\");\n",
       "    } else if (window.WebIO) {\n",
       "        WebIO.mount(\n",
       "            document.querySelector('[data-webio-mountpoint=\"1862643066444126030\"]'),\n",
       "            {\"props\":{},\"nodeType\":\"DOM\",\"type\":\"node\",\"instanceArgs\":{\"namespace\":\"html\",\"tag\":\"div\"},\"children\":[{\"props\":{\"className\":\"field\"},\"nodeType\":\"DOM\",\"type\":\"node\",\"instanceArgs\":{\"namespace\":\"html\",\"tag\":\"div\"},\"children\":[{\"props\":{},\"nodeType\":\"Scope\",\"type\":\"node\",\"instanceArgs\":{\"imports\":{\"data\":[{\"name\":\"knockout\",\"type\":\"js\",\"url\":\"\\/assetserver\\/7727d7cb3453b9ff588804f2f297360e756850e6-knockout.js\"},{\"name\":\"knockout_punches\",\"type\":\"js\",\"url\":\"\\/assetserver\\/dc191505b241da77a1bd06986b7132036babe315-knockout_punches.js\"},{\"name\":null,\"type\":\"js\",\"url\":\"\\/assetserver\\/cf39e83f3445855334efae1f7d0ee012952fe319-all.js\"},{\"name\":null,\"type\":\"css\",\"url\":\"\\/assetserver\\/495af69608d773e6cf6efd8fe98ee33ddbad0df5-style.css\"},{\"name\":null,\"type\":\"css\",\"url\":\"\\/assetserver\\/9d22e7e1c4dccb3a3bef6ae4d24134fd256d4bfd-main.css\"}],\"type\":\"async_block\"},\"id\":\"knockout-component-59964e2d-46af-4300-a619-15e32871c075\",\"handlers\":{\"formatted_vals\":[\"(function (val){return (val!=this.model[\\\"formatted_vals\\\"]()) ? (this.valueFromJulia[\\\"formatted_vals\\\"]=true, this.model[\\\"formatted_vals\\\"](val)) : undefined})\"],\"_promises\":{\"importsLoaded\":[\"function (ko, koPunches) {\\n    ko.punches.enableAll();\\n    ko.bindingHandlers.numericValue = {\\n        init : function(element, valueAccessor, allBindings, data, context) {\\n            var stringified = ko.observable(ko.unwrap(valueAccessor()));\\n            stringified.subscribe(function(value) {\\n                var val = parseFloat(value);\\n                if (!isNaN(val)) {\\n                    valueAccessor()(val);\\n                }\\n            })\\n            valueAccessor().subscribe(function(value) {\\n                var str = JSON.stringify(value);\\n                if ((str == \\\"0\\\") && ([\\\"-0\\\", \\\"-0.\\\"].indexOf(stringified()) >= 0))\\n                     return;\\n                 if ([\\\"null\\\", \\\"\\\"].indexOf(str) >= 0)\\n                     return;\\n                stringified(str);\\n            })\\n            ko.applyBindingsToNode(element, { value: stringified, valueUpdate: allBindings.get('valueUpdate')}, context);\\n        }\\n    };\\n    var json_data = JSON.parse(\\\"{\\\\\\\"formatted_vals\\\\\\\":[\\\\\\\"0.0\\\\\\\",\\\\\\\"0.5\\\\\\\",\\\\\\\"1.0\\\\\\\",\\\\\\\"1.5\\\\\\\",\\\\\\\"2.0\\\\\\\",\\\\\\\"2.5\\\\\\\",\\\\\\\"3.0\\\\\\\",\\\\\\\"3.5\\\\\\\",\\\\\\\"4.0\\\\\\\",\\\\\\\"4.5\\\\\\\",\\\\\\\"5.0\\\\\\\",\\\\\\\"5.5\\\\\\\",\\\\\\\"6.0\\\\\\\",\\\\\\\"6.5\\\\\\\",\\\\\\\"7.0\\\\\\\",\\\\\\\"7.5\\\\\\\",\\\\\\\"8.0\\\\\\\",\\\\\\\"8.5\\\\\\\",\\\\\\\"9.0\\\\\\\",\\\\\\\"9.5\\\\\\\",\\\\\\\"10.0\\\\\\\",\\\\\\\"10.5\\\\\\\",\\\\\\\"11.0\\\\\\\",\\\\\\\"11.5\\\\\\\",\\\\\\\"12.0\\\\\\\",\\\\\\\"12.5\\\\\\\",\\\\\\\"13.0\\\\\\\",\\\\\\\"13.5\\\\\\\",\\\\\\\"14.0\\\\\\\"],\\\\\\\"changes\\\\\\\":0,\\\\\\\"formatted_value\\\\\\\":\\\\\\\"7.0\\\\\\\",\\\\\\\"index\\\\\\\":15}\\\");\\n    var self = this;\\n    function AppViewModel() {\\n        for (var key in json_data) {\\n            var el = json_data[key];\\n            this[key] = Array.isArray(el) ? ko.observableArray(el) : ko.observable(el);\\n        }\\n        \\n        \\n        [this[\\\"formatted_vals\\\"].subscribe((function (val){!(this.valueFromJulia[\\\"formatted_vals\\\"]) ? (_webIOScope.setObservableValue({\\\"name\\\":\\\"formatted_vals\\\",\\\"scope\\\":\\\"knockout-component-59964e2d-46af-4300-a619-15e32871c075\\\",\\\"id\\\":\\\"ob_03\\\",\\\"type\\\":\\\"observable\\\"},val)) : undefined; return this.valueFromJulia[\\\"formatted_vals\\\"]=false}),self),this[\\\"changes\\\"].subscribe((function (val){!(this.valueFromJulia[\\\"changes\\\"]) ? (_webIOScope.setObservableValue({\\\"name\\\":\\\"changes\\\",\\\"scope\\\":\\\"knockout-component-59964e2d-46af-4300-a619-15e32871c075\\\",\\\"id\\\":\\\"ob_05\\\",\\\"type\\\":\\\"observable\\\"},val)) : undefined; return this.valueFromJulia[\\\"changes\\\"]=false}),self),this[\\\"formatted_value\\\"].subscribe((function (val){!(this.valueFromJulia[\\\"formatted_value\\\"]) ? (_webIOScope.setObservableValue({\\\"name\\\":\\\"formatted_value\\\",\\\"scope\\\":\\\"knockout-component-59964e2d-46af-4300-a619-15e32871c075\\\",\\\"id\\\":\\\"ob_04\\\",\\\"type\\\":\\\"observable\\\"},val)) : undefined; return this.valueFromJulia[\\\"formatted_value\\\"]=false}),self),this[\\\"index\\\"].subscribe((function (val){!(this.valueFromJulia[\\\"index\\\"]) ? (_webIOScope.setObservableValue({\\\"name\\\":\\\"index\\\",\\\"scope\\\":\\\"knockout-component-59964e2d-46af-4300-a619-15e32871c075\\\",\\\"id\\\":\\\"ob_02\\\",\\\"type\\\":\\\"observable\\\"},val)) : undefined; return this.valueFromJulia[\\\"index\\\"]=false}),self)]\\n        \\n    }\\n    self.model = new AppViewModel();\\n    self.valueFromJulia = {};\\n    for (var key in json_data) {\\n        self.valueFromJulia[key] = false;\\n    }\\n    ko.applyBindings(self.model, self.dom);\\n}\\n\"]},\"changes\":[\"(function (val){return (val!=this.model[\\\"changes\\\"]()) ? (this.valueFromJulia[\\\"changes\\\"]=true, this.model[\\\"changes\\\"](val)) : undefined})\"],\"formatted_value\":[\"(function (val){return (val!=this.model[\\\"formatted_value\\\"]()) ? (this.valueFromJulia[\\\"formatted_value\\\"]=true, this.model[\\\"formatted_value\\\"](val)) : undefined})\"],\"index\":[\"(function (val){return (val!=this.model[\\\"index\\\"]()) ? (this.valueFromJulia[\\\"index\\\"]=true, this.model[\\\"index\\\"](val)) : undefined})\",\"(function (val){return _webIOScope.setObservableValue({\\\"name\\\":\\\"formatted_value\\\",\\\"scope\\\":\\\"knockout-component-59964e2d-46af-4300-a619-15e32871c075\\\",\\\"id\\\":\\\"ob_04\\\",\\\"type\\\":\\\"observable\\\"},_webIOScope.getObservableValue({\\\"name\\\":\\\"formatted_vals\\\",\\\"scope\\\":\\\"knockout-component-59964e2d-46af-4300-a619-15e32871c075\\\",\\\"id\\\":\\\"ob_03\\\",\\\"type\\\":\\\"observable\\\"})[(_webIOScope.getObservableValue({\\\"name\\\":\\\"index\\\",\\\"scope\\\":\\\"knockout-component-59964e2d-46af-4300-a619-15e32871c075\\\",\\\"id\\\":\\\"ob_02\\\",\\\"type\\\":\\\"observable\\\"})-1)])})\"]},\"systemjs_options\":null,\"observables\":{\"formatted_vals\":{\"sync\":false,\"id\":\"ob_03\",\"value\":[\"0.0\",\"0.5\",\"1.0\",\"1.5\",\"2.0\",\"2.5\",\"3.0\",\"3.5\",\"4.0\",\"4.5\",\"5.0\",\"5.5\",\"6.0\",\"6.5\",\"7.0\",\"7.5\",\"8.0\",\"8.5\",\"9.0\",\"9.5\",\"10.0\",\"10.5\",\"11.0\",\"11.5\",\"12.0\",\"12.5\",\"13.0\",\"13.5\",\"14.0\"]},\"changes\":{\"sync\":false,\"id\":\"ob_05\",\"value\":0},\"formatted_value\":{\"sync\":false,\"id\":\"ob_04\",\"value\":\"7.0\"},\"index\":{\"sync\":true,\"id\":\"ob_02\",\"value\":15}}},\"children\":[{\"props\":{\"attributes\":{\"style\":\"display:flex; justify-content:center; align-items:center;\"}},\"nodeType\":\"DOM\",\"type\":\"node\",\"instanceArgs\":{\"namespace\":\"html\",\"tag\":\"div\"},\"children\":[{\"props\":{\"attributes\":{\"style\":\"text-align:right;width:18%\"}},\"nodeType\":\"DOM\",\"type\":\"node\",\"instanceArgs\":{\"namespace\":\"html\",\"tag\":\"div\"},\"children\":[{\"props\":{\"className\":\"interact \",\"style\":{\"padding\":\"5px 10px 0px 10px\"}},\"nodeType\":\"DOM\",\"type\":\"node\",\"instanceArgs\":{\"namespace\":\"html\",\"tag\":\"label\"},\"children\":[\"ego_v\"]}]},{\"props\":{\"attributes\":{\"style\":\"flex-grow:1; margin: 0 2%\"}},\"nodeType\":\"DOM\",\"type\":\"node\",\"instanceArgs\":{\"namespace\":\"html\",\"tag\":\"div\"},\"children\":[{\"props\":{\"max\":29,\"min\":1,\"attributes\":{\"type\":\"range\",\"data-bind\":\"numericValue: index, valueUpdate: 'input', event: {change : function () {this.changes(this.changes()+1)}}\",\"orient\":\"horizontal\"},\"step\":1,\"className\":\"slider slider is-fullwidth\",\"style\":{}},\"nodeType\":\"DOM\",\"type\":\"node\",\"instanceArgs\":{\"namespace\":\"html\",\"tag\":\"input\"},\"children\":[]}]},{\"props\":{\"attributes\":{\"style\":\"width:18%\"}},\"nodeType\":\"DOM\",\"type\":\"node\",\"instanceArgs\":{\"namespace\":\"html\",\"tag\":\"div\"},\"children\":[{\"props\":{\"attributes\":{\"data-bind\":\"text: formatted_value\"}},\"nodeType\":\"DOM\",\"type\":\"node\",\"instanceArgs\":{\"namespace\":\"html\",\"tag\":\"p\"},\"children\":[]}]}]}]}]},{\"props\":{},\"nodeType\":\"Scope\",\"type\":\"node\",\"instanceArgs\":{\"imports\":{\"data\":[],\"type\":\"async_block\"},\"id\":\"scope-34ef5174-e130-4a66-8822-ffdd8c0acc92\",\"handlers\":{},\"systemjs_options\":null,\"observables\":{\"obs-scope\":{\"sync\":false,\"id\":\"ob_15\",\"value\":{\"props\":{},\"nodeType\":\"DOM\",\"type\":\"node\",\"instanceArgs\":{\"namespace\":\"html\",\"tag\":\"div\"},\"children\":[{\"props\":{\"className\":\"field\"},\"nodeType\":\"DOM\",\"type\":\"node\",\"instanceArgs\":{\"namespace\":\"html\",\"tag\":\"div\"},\"children\":[{\"props\":{},\"nodeType\":\"Scope\",\"type\":\"node\",\"instanceArgs\":{\"imports\":{\"data\":[{\"name\":\"knockout\",\"type\":\"js\",\"url\":\"\\/assetserver\\/7727d7cb3453b9ff588804f2f297360e756850e6-knockout.js\"},{\"name\":\"knockout_punches\",\"type\":\"js\",\"url\":\"\\/assetserver\\/dc191505b241da77a1bd06986b7132036babe315-knockout_punches.js\"},{\"name\":null,\"type\":\"js\",\"url\":\"\\/assetserver\\/cf39e83f3445855334efae1f7d0ee012952fe319-all.js\"},{\"name\":null,\"type\":\"css\",\"url\":\"\\/assetserver\\/495af69608d773e6cf6efd8fe98ee33ddbad0df5-style.css\"},{\"name\":null,\"type\":\"css\",\"url\":\"\\/assetserver\\/9d22e7e1c4dccb3a3bef6ae4d24134fd256d4bfd-main.css\"}],\"type\":\"async_block\"},\"id\":\"knockout-component-9b8c97d9-9ed8-4a70-be8f-0081e5ecbfde\",\"handlers\":{\"formatted_vals\":[\"(function (val){return (val!=this.model[\\\"formatted_vals\\\"]()) ? (this.valueFromJulia[\\\"formatted_vals\\\"]=true, this.model[\\\"formatted_vals\\\"](val)) : undefined})\"],\"_promises\":{\"importsLoaded\":[\"function (ko, koPunches) {\\n    ko.punches.enableAll();\\n    ko.bindingHandlers.numericValue = {\\n        init : function(element, valueAccessor, allBindings, data, context) {\\n            var stringified = ko.observable(ko.unwrap(valueAccessor()));\\n            stringified.subscribe(function(value) {\\n                var val = parseFloat(value);\\n                if (!isNaN(val)) {\\n                    valueAccessor()(val);\\n                }\\n            })\\n            valueAccessor().subscribe(function(value) {\\n                var str = JSON.stringify(value);\\n                if ((str == \\\"0\\\") && ([\\\"-0\\\", \\\"-0.\\\"].indexOf(stringified()) >= 0))\\n                     return;\\n                 if ([\\\"null\\\", \\\"\\\"].indexOf(str) >= 0)\\n                     return;\\n                stringified(str);\\n            })\\n            ko.applyBindingsToNode(element, { value: stringified, valueUpdate: allBindings.get('valueUpdate')}, context);\\n        }\\n    };\\n    var json_data = JSON.parse(\\\"{\\\\\\\"formatted_vals\\\\\\\":[\\\\\\\"0.0\\\\\\\",\\\\\\\"0.5\\\\\\\",\\\\\\\"1.0\\\\\\\",\\\\\\\"1.5\\\\\\\",\\\\\\\"2.0\\\\\\\"],\\\\\\\"changes\\\\\\\":0,\\\\\\\"formatted_value\\\\\\\":\\\\\\\"1.0\\\\\\\",\\\\\\\"index\\\\\\\":3}\\\");\\n    var self = this;\\n    function AppViewModel() {\\n        for (var key in json_data) {\\n            var el = json_data[key];\\n            this[key] = Array.isArray(el) ? ko.observableArray(el) : ko.observable(el);\\n        }\\n        \\n        \\n        [this[\\\"formatted_vals\\\"].subscribe((function (val){!(this.valueFromJulia[\\\"formatted_vals\\\"]) ? (_webIOScope.setObservableValue({\\\"name\\\":\\\"formatted_vals\\\",\\\"scope\\\":\\\"knockout-component-9b8c97d9-9ed8-4a70-be8f-0081e5ecbfde\\\",\\\"id\\\":\\\"ob_08\\\",\\\"type\\\":\\\"observable\\\"},val)) : undefined; return this.valueFromJulia[\\\"formatted_vals\\\"]=false}),self),this[\\\"changes\\\"].subscribe((function (val){!(this.valueFromJulia[\\\"changes\\\"]) ? (_webIOScope.setObservableValue({\\\"name\\\":\\\"changes\\\",\\\"scope\\\":\\\"knockout-component-9b8c97d9-9ed8-4a70-be8f-0081e5ecbfde\\\",\\\"id\\\":\\\"ob_10\\\",\\\"type\\\":\\\"observable\\\"},val)) : undefined; return this.valueFromJulia[\\\"changes\\\"]=false}),self),this[\\\"formatted_value\\\"].subscribe((function (val){!(this.valueFromJulia[\\\"formatted_value\\\"]) ? (_webIOScope.setObservableValue({\\\"name\\\":\\\"formatted_value\\\",\\\"scope\\\":\\\"knockout-component-9b8c97d9-9ed8-4a70-be8f-0081e5ecbfde\\\",\\\"id\\\":\\\"ob_09\\\",\\\"type\\\":\\\"observable\\\"},val)) : undefined; return this.valueFromJulia[\\\"formatted_value\\\"]=false}),self),this[\\\"index\\\"].subscribe((function (val){!(this.valueFromJulia[\\\"index\\\"]) ? (_webIOScope.setObservableValue({\\\"name\\\":\\\"index\\\",\\\"scope\\\":\\\"knockout-component-9b8c97d9-9ed8-4a70-be8f-0081e5ecbfde\\\",\\\"id\\\":\\\"ob_07\\\",\\\"type\\\":\\\"observable\\\"},val)) : undefined; return this.valueFromJulia[\\\"index\\\"]=false}),self)]\\n        \\n    }\\n    self.model = new AppViewModel();\\n    self.valueFromJulia = {};\\n    for (var key in json_data) {\\n        self.valueFromJulia[key] = false;\\n    }\\n    ko.applyBindings(self.model, self.dom);\\n}\\n\"]},\"changes\":[\"(function (val){return (val!=this.model[\\\"changes\\\"]()) ? (this.valueFromJulia[\\\"changes\\\"]=true, this.model[\\\"changes\\\"](val)) : undefined})\"],\"formatted_value\":[\"(function (val){return (val!=this.model[\\\"formatted_value\\\"]()) ? (this.valueFromJulia[\\\"formatted_value\\\"]=true, this.model[\\\"formatted_value\\\"](val)) : undefined})\"],\"index\":[\"(function (val){return (val!=this.model[\\\"index\\\"]()) ? (this.valueFromJulia[\\\"index\\\"]=true, this.model[\\\"index\\\"](val)) : undefined})\",\"(function (val){return _webIOScope.setObservableValue({\\\"name\\\":\\\"formatted_value\\\",\\\"scope\\\":\\\"knockout-component-9b8c97d9-9ed8-4a70-be8f-0081e5ecbfde\\\",\\\"id\\\":\\\"ob_09\\\",\\\"type\\\":\\\"observable\\\"},_webIOScope.getObservableValue({\\\"name\\\":\\\"formatted_vals\\\",\\\"scope\\\":\\\"knockout-component-9b8c97d9-9ed8-4a70-be8f-0081e5ecbfde\\\",\\\"id\\\":\\\"ob_08\\\",\\\"type\\\":\\\"observable\\\"})[(_webIOScope.getObservableValue({\\\"name\\\":\\\"index\\\",\\\"scope\\\":\\\"knockout-component-9b8c97d9-9ed8-4a70-be8f-0081e5ecbfde\\\",\\\"id\\\":\\\"ob_07\\\",\\\"type\\\":\\\"observable\\\"})-1)])})\"]},\"systemjs_options\":null,\"observables\":{\"formatted_vals\":{\"sync\":false,\"id\":\"ob_08\",\"value\":[\"0.0\",\"0.5\",\"1.0\",\"1.5\",\"2.0\"]},\"changes\":{\"sync\":false,\"id\":\"ob_10\",\"value\":0},\"formatted_value\":{\"sync\":false,\"id\":\"ob_09\",\"value\":\"1.0\"},\"index\":{\"sync\":true,\"id\":\"ob_07\",\"value\":3}}},\"children\":[{\"props\":{\"attributes\":{\"style\":\"display:flex; justify-content:center; align-items:center;\"}},\"nodeType\":\"DOM\",\"type\":\"node\",\"instanceArgs\":{\"namespace\":\"html\",\"tag\":\"div\"},\"children\":[{\"props\":{\"attributes\":{\"style\":\"text-align:right;width:18%\"}},\"nodeType\":\"DOM\",\"type\":\"node\",\"instanceArgs\":{\"namespace\":\"html\",\"tag\":\"div\"},\"children\":[{\"props\":{\"className\":\"interact \",\"style\":{\"padding\":\"5px 10px 0px 10px\"}},\"nodeType\":\"DOM\",\"type\":\"node\",\"instanceArgs\":{\"namespace\":\"html\",\"tag\":\"label\"},\"children\":[\"ped_v\"]}]},{\"props\":{\"attributes\":{\"style\":\"flex-grow:1; margin: 0 2%\"}},\"nodeType\":\"DOM\",\"type\":\"node\",\"instanceArgs\":{\"namespace\":\"html\",\"tag\":\"div\"},\"children\":[{\"props\":{\"max\":5,\"min\":1,\"attributes\":{\"type\":\"range\",\"data-bind\":\"numericValue: index, valueUpdate: 'input', event: {change : function () {this.changes(this.changes()+1)}}\",\"orient\":\"horizontal\"},\"step\":1,\"className\":\"slider slider is-fullwidth\",\"style\":{}},\"nodeType\":\"DOM\",\"type\":\"node\",\"instanceArgs\":{\"namespace\":\"html\",\"tag\":\"input\"},\"children\":[]}]},{\"props\":{\"attributes\":{\"style\":\"width:18%\"}},\"nodeType\":\"DOM\",\"type\":\"node\",\"instanceArgs\":{\"namespace\":\"html\",\"tag\":\"div\"},\"children\":[{\"props\":{\"attributes\":{\"data-bind\":\"text: formatted_value\"}},\"nodeType\":\"DOM\",\"type\":\"node\",\"instanceArgs\":{\"namespace\":\"html\",\"tag\":\"p\"},\"children\":[]}]}]}]}]},{\"props\":{},\"nodeType\":\"Scope\",\"type\":\"node\",\"instanceArgs\":{\"imports\":{\"data\":[],\"type\":\"async_block\"},\"id\":\"scope-698659ad-9e40-48a5-8138-4d9f14e010e5\",\"handlers\":{},\"systemjs_options\":null,\"observables\":{\"obs-node\":{\"sync\":false,\"id\":\"ob_16\",\"value\":{\"props\":{\"attributes\":{\"style\":\"display:flex; justify-content:center; align-items:center;\"}},\"nodeType\":\"DOM\",\"type\":\"node\",\"instanceArgs\":{\"namespace\":\"html\",\"tag\":\"div\"},\"children\":[{\"props\":{\"setInnerHtml\":\"<?xml version=\\\"1.0\\\" encoding=\\\"utf-8\\\"?>\\n<svg xmlns=\\\"http:\\/\\/www.w3.org\\/2000\\/svg\\\" xmlns:xlink=\\\"http:\\/\\/www.w3.org\\/1999\\/xlink\\\" width=\\\"600\\\" height=\\\"400\\\" viewBox=\\\"0 0 2400 1600\\\">\\n<defs>\\n  <clipPath id=\\\"clip7000\\\">\\n    <rect x=\\\"0\\\" y=\\\"0\\\" width=\\\"2000\\\" height=\\\"2000\\\"\\/>\\n  <\\/clipPath>\\n<\\/defs>\\n<defs>\\n  <clipPath id=\\\"clip7001\\\">\\n    <rect x=\\\"0\\\" y=\\\"0\\\" width=\\\"2400\\\" height=\\\"1600\\\"\\/>\\n  <\\/clipPath>\\n<\\/defs>\\n<polygon clip-path=\\\"url(#clip7001)\\\" points=\\\"\\n0,1600 2400,1600 2400,0 0,0 \\n  \\\" fill=\\\"#ffffff\\\" fill-rule=\\\"evenodd\\\" fill-opacity=\\\"1\\\"\\/>\\n<defs>\\n  <clipPath id=\\\"clip7002\\\">\\n    <rect x=\\\"480\\\" y=\\\"0\\\" width=\\\"1681\\\" height=\\\"1600\\\"\\/>\\n  <\\/clipPath>\\n<\\/defs>\\n<polygon clip-path=\\\"url(#clip7001)\\\" points=\\\"\\n149.361,972.127 2081.26,972.127 2081.26,578.592 149.361,578.592 \\n  \\\" fill=\\\"#ffffff\\\" fill-rule=\\\"evenodd\\\" fill-opacity=\\\"1\\\"\\/>\\n<defs>\\n  <clipPath id=\\\"clip7003\\\">\\n    <rect x=\\\"149\\\" y=\\\"578\\\" width=\\\"1933\\\" height=\\\"395\\\"\\/>\\n  <\\/clipPath>\\n<\\/defs>\\n<polyline clip-path=\\\"url(#clip7003)\\\" style=\\\"stroke:#000000; stroke-width:2; stroke-opacity:0.1; fill:none\\\" points=\\\"\\n  256.688,972.127 256.688,578.592 \\n  \\\"\\/>\\n<polyline clip-path=\\\"url(#clip7003)\\\" style=\\\"stroke:#000000; stroke-width:2; stroke-opacity:0.1; fill:none\\\" points=\\\"\\n  614.447,972.127 614.447,578.592 \\n  \\\"\\/>\\n<polyline clip-path=\\\"url(#clip7003)\\\" style=\\\"stroke:#000000; stroke-width:2; stroke-opacity:0.1; fill:none\\\" points=\\\"\\n  972.207,972.127 972.207,578.592 \\n  \\\"\\/>\\n<polyline clip-path=\\\"url(#clip7003)\\\" style=\\\"stroke:#000000; stroke-width:2; stroke-opacity:0.1; fill:none\\\" points=\\\"\\n  1329.97,972.127 1329.97,578.592 \\n  \\\"\\/>\\n<polyline clip-path=\\\"url(#clip7003)\\\" style=\\\"stroke:#000000; stroke-width:2; stroke-opacity:0.1; fill:none\\\" points=\\\"\\n  1687.72,972.127 1687.72,578.592 \\n  \\\"\\/>\\n<polyline clip-path=\\\"url(#clip7003)\\\" style=\\\"stroke:#000000; stroke-width:2; stroke-opacity:0.1; fill:none\\\" points=\\\"\\n  2045.48,972.127 2045.48,578.592 \\n  \\\"\\/>\\n<polyline clip-path=\\\"url(#clip7003)\\\" style=\\\"stroke:#000000; stroke-width:2; stroke-opacity:0.1; fill:none\\\" points=\\\"\\n  149.361,918.463 2081.26,918.463 \\n  \\\"\\/>\\n<polyline clip-path=\\\"url(#clip7003)\\\" style=\\\"stroke:#000000; stroke-width:2; stroke-opacity:0.1; fill:none\\\" points=\\\"\\n  149.361,846.911 2081.26,846.911 \\n  \\\"\\/>\\n<polyline clip-path=\\\"url(#clip7003)\\\" style=\\\"stroke:#000000; stroke-width:2; stroke-opacity:0.1; fill:none\\\" points=\\\"\\n  149.361,775.359 2081.26,775.359 \\n  \\\"\\/>\\n<polyline clip-path=\\\"url(#clip7003)\\\" style=\\\"stroke:#000000; stroke-width:2; stroke-opacity:0.1; fill:none\\\" points=\\\"\\n  149.361,703.808 2081.26,703.808 \\n  \\\"\\/>\\n<polyline clip-path=\\\"url(#clip7003)\\\" style=\\\"stroke:#000000; stroke-width:2; stroke-opacity:0.1; fill:none\\\" points=\\\"\\n  149.361,632.256 2081.26,632.256 \\n  \\\"\\/>\\n<polyline clip-path=\\\"url(#clip7001)\\\" style=\\\"stroke:#000000; stroke-width:4; stroke-opacity:1; fill:none\\\" points=\\\"\\n  149.361,972.127 2081.26,972.127 \\n  \\\"\\/>\\n<polyline clip-path=\\\"url(#clip7001)\\\" style=\\\"stroke:#000000; stroke-width:4; stroke-opacity:1; fill:none\\\" points=\\\"\\n  149.361,972.127 149.361,578.592 \\n  \\\"\\/>\\n<polyline clip-path=\\\"url(#clip7001)\\\" style=\\\"stroke:#000000; stroke-width:4; stroke-opacity:1; fill:none\\\" points=\\\"\\n  256.688,972.127 256.688,966.224 \\n  \\\"\\/>\\n<polyline clip-path=\\\"url(#clip7001)\\\" style=\\\"stroke:#000000; stroke-width:4; stroke-opacity:1; fill:none\\\" points=\\\"\\n  614.447,972.127 614.447,966.224 \\n  \\\"\\/>\\n<polyline clip-path=\\\"url(#clip7001)\\\" style=\\\"stroke:#000000; stroke-width:4; stroke-opacity:1; fill:none\\\" points=\\\"\\n  972.207,972.127 972.207,966.224 \\n  \\\"\\/>\\n<polyline clip-path=\\\"url(#clip7001)\\\" style=\\\"stroke:#000000; stroke-width:4; stroke-opacity:1; fill:none\\\" points=\\\"\\n  1329.97,972.127 1329.97,966.224 \\n  \\\"\\/>\\n<polyline clip-path=\\\"url(#clip7001)\\\" style=\\\"stroke:#000000; stroke-width:4; stroke-opacity:1; fill:none\\\" points=\\\"\\n  1687.72,972.127 1687.72,966.224 \\n  \\\"\\/>\\n<polyline clip-path=\\\"url(#clip7001)\\\" style=\\\"stroke:#000000; stroke-width:4; stroke-opacity:1; fill:none\\\" points=\\\"\\n  2045.48,972.127 2045.48,966.224 \\n  \\\"\\/>\\n<polyline clip-path=\\\"url(#clip7001)\\\" style=\\\"stroke:#000000; stroke-width:4; stroke-opacity:1; fill:none\\\" points=\\\"\\n  149.361,918.463 178.339,918.463 \\n  \\\"\\/>\\n<polyline clip-path=\\\"url(#clip7001)\\\" style=\\\"stroke:#000000; stroke-width:4; stroke-opacity:1; fill:none\\\" points=\\\"\\n  149.361,846.911 178.339,846.911 \\n  \\\"\\/>\\n<polyline clip-path=\\\"url(#clip7001)\\\" style=\\\"stroke:#000000; stroke-width:4; stroke-opacity:1; fill:none\\\" points=\\\"\\n  149.361,775.359 178.339,775.359 \\n  \\\"\\/>\\n<polyline clip-path=\\\"url(#clip7001)\\\" style=\\\"stroke:#000000; stroke-width:4; stroke-opacity:1; fill:none\\\" points=\\\"\\n  149.361,703.808 178.339,703.808 \\n  \\\"\\/>\\n<polyline clip-path=\\\"url(#clip7001)\\\" style=\\\"stroke:#000000; stroke-width:4; stroke-opacity:1; fill:none\\\" points=\\\"\\n  149.361,632.256 178.339,632.256 \\n  \\\"\\/>\\n<g clip-path=\\\"url(#clip7001)\\\">\\n<text style=\\\"fill:#000000; fill-opacity:1; font-family:Arial,Helvetica Neue,Helvetica,sans-serif; font-size:48px; text-anchor:middle;\\\" transform=\\\"rotate(0, 256.688, 1026.13)\\\" x=\\\"256.688\\\" y=\\\"1026.13\\\">0<\\/text>\\n<\\/g>\\n<g clip-path=\\\"url(#clip7001)\\\">\\n<text style=\\\"fill:#000000; fill-opacity:1; font-family:Arial,Helvetica Neue,Helvetica,sans-serif; font-size:48px; text-anchor:middle;\\\" transform=\\\"rotate(0, 614.447, 1026.13)\\\" x=\\\"614.447\\\" y=\\\"1026.13\\\">10<\\/text>\\n<\\/g>\\n<g clip-path=\\\"url(#clip7001)\\\">\\n<text style=\\\"fill:#000000; fill-opacity:1; font-family:Arial,Helvetica Neue,Helvetica,sans-serif; font-size:48px; text-anchor:middle;\\\" transform=\\\"rotate(0, 972.207, 1026.13)\\\" x=\\\"972.207\\\" y=\\\"1026.13\\\">20<\\/text>\\n<\\/g>\\n<g clip-path=\\\"url(#clip7001)\\\">\\n<text style=\\\"fill:#000000; fill-opacity:1; font-family:Arial,Helvetica Neue,Helvetica,sans-serif; font-size:48px; text-anchor:middle;\\\" transform=\\\"rotate(0, 1329.97, 1026.13)\\\" x=\\\"1329.97\\\" y=\\\"1026.13\\\">30<\\/text>\\n<\\/g>\\n<g clip-path=\\\"url(#clip7001)\\\">\\n<text style=\\\"fill:#000000; fill-opacity:1; font-family:Arial,Helvetica Neue,Helvetica,sans-serif; font-size:48px; text-anchor:middle;\\\" transform=\\\"rotate(0, 1687.72, 1026.13)\\\" x=\\\"1687.72\\\" y=\\\"1026.13\\\">40<\\/text>\\n<\\/g>\\n<g clip-path=\\\"url(#clip7001)\\\">\\n<text style=\\\"fill:#000000; fill-opacity:1; font-family:Arial,Helvetica Neue,Helvetica,sans-serif; font-size:48px; text-anchor:middle;\\\" transform=\\\"rotate(0, 2045.48, 1026.13)\\\" x=\\\"2045.48\\\" y=\\\"1026.13\\\">50<\\/text>\\n<\\/g>\\n<g clip-path=\\\"url(#clip7001)\\\">\\n<text style=\\\"fill:#000000; fill-opacity:1; font-family:Arial,Helvetica Neue,Helvetica,sans-serif; font-size:48px; text-anchor:end;\\\" transform=\\\"rotate(0, 125.361, 935.963)\\\" x=\\\"125.361\\\" y=\\\"935.963\\\">-4<\\/text>\\n<\\/g>\\n<g clip-path=\\\"url(#clip7001)\\\">\\n<text style=\\\"fill:#000000; fill-opacity:1; font-family:Arial,Helvetica Neue,Helvetica,sans-serif; font-size:48px; text-anchor:end;\\\" transform=\\\"rotate(0, 125.361, 864.411)\\\" x=\\\"125.361\\\" y=\\\"864.411\\\">-2<\\/text>\\n<\\/g>\\n<g clip-path=\\\"url(#clip7001)\\\">\\n<text style=\\\"fill:#000000; fill-opacity:1; font-family:Arial,Helvetica Neue,Helvetica,sans-serif; font-size:48px; text-anchor:end;\\\" transform=\\\"rotate(0, 125.361, 792.859)\\\" x=\\\"125.361\\\" y=\\\"792.859\\\">0<\\/text>\\n<\\/g>\\n<g clip-path=\\\"url(#clip7001)\\\">\\n<text style=\\\"fill:#000000; fill-opacity:1; font-family:Arial,Helvetica Neue,Helvetica,sans-serif; font-size:48px; text-anchor:end;\\\" transform=\\\"rotate(0, 125.361, 721.308)\\\" x=\\\"125.361\\\" y=\\\"721.308\\\">2<\\/text>\\n<\\/g>\\n<g clip-path=\\\"url(#clip7001)\\\">\\n<text style=\\\"fill:#000000; fill-opacity:1; font-family:Arial,Helvetica Neue,Helvetica,sans-serif; font-size:48px; text-anchor:end;\\\" transform=\\\"rotate(0, 125.361, 649.756)\\\" x=\\\"125.361\\\" y=\\\"649.756\\\">4<\\/text>\\n<\\/g>\\n<g clip-path=\\\"url(#clip7003)\\\">\\n<image width=\\\"1932\\\" height=\\\"394\\\" xlink:href=\\\"data:image\\/png;base64,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\\n\\\" transform=\\\"translate(149, 579)\\\"\\/>\\n<\\/g>\\n<defs>\\n  <clipPath id=\\\"clip7004\\\">\\n    <rect x=\\\"2129\\\" y=\\\"578\\\" width=\\\"73\\\" height=\\\"395\\\"\\/>\\n  <\\/clipPath>\\n<\\/defs>\\n<g clip-path=\\\"url(#clip7004)\\\">\\n<image width=\\\"72\\\" height=\\\"394\\\" xlink:href=\\\"data:image\\/png;base64,\\niVBORw0KGgoAAAANSUhEUgAAAEgAAAGKCAYAAACvugdMAAAEEElEQVR4nO3dwbEjNwxAQcqF\\/KNw\\nlvaSjsB4R+nQHYGKhQfOSL92P\\/\\/ev9\\/hf\\/317Q\\/w6+a+f7\\/9GX6aCQrzTNBq3nVAG4kFiQUHFCQW\\nTFBwiwWJBYkFBxQkFuZY0isHFCQW5ljSKxMU7KDggILEwpz7z7c\\/w09ziwWJBUs6OKAgsTCf9+fb\\nn+GnzbkOaCOxMB8TtJJYkFiY4xZb2UFBYsGSDiYo2EFBYkFiYT73fvsz\\/DSJBYkFExRc80FiYY5b\\nbCWxILHgFgsOKEgseBcLrvkgsWBJBxMU7KDggILEgueg4BYLEguWdHBAQWLBBIU5178SuJFYmPMk\\ntrGDgsSCJR0kFiQWTFAwQcGSDhILEgtzDNDKAQWJhfEyv5NYkFgwQcEBBYmFOV7FVvPu59uf4adJ\\nLFjSYY7EVhIL854J2pigYAcFBxQkFizpILEgsTDnOqONHRSMT7Ckgy\\/MgsTCnOeMNhILxieYoOBJ\\nOjid4FUjmKDgVSPMs6RXTidY0sEOChILlnSwg4LxCd7mwzzfKK6cTvAcFOygILHgOSh4kg5OJ0gs\\nmKDgmg8SCxILrvkgsWB8glssSCxILLjFgsSC8QkmKDigILHgQTHM9cvqyukESzqYoGBJB4kFiQUT\\nFBxQkFgwQWGuA1pJLEgsOKAgsWCCggMKEgsmKHhQDBILEgsmKJig4IfD4HSCxILnoCCxILEgsSCx\\nILHggILEgiUd5h0HtJFYkFhwiwWJhbn+p96VCQp2UHCLBYmFuZ6kV3ZQkFiwpIPEgsTC3G9\\/gh8n\\nsSCx4BYLvpMOEgsSCyYo+Mo1WNJBYsGTdPAuFiQWJBYkFiQWJBa8iwWJhfEqtpNYkFiQWJBYkFiQ\\nWDBBwQ4KvrQPEgt+1QgSCxIL\\/k46zJPYSmLBg2LwLhYkFjwHBdd8kFjwHBT88UKQWPCgGExQsKSD\\nJR0kFiQWvGoEiQVv88EXZkFiQWLBAQWJBX+8ECQWJBY8BwWJBYkFExRMULCkg8SCxIJfNYIv7YPE\\ngiUdXPNBYkFiYd5xQhuJBYkFt1iQWJBYkFiQWJBYMEHB90FhrleNlcSCxILEgsSCn33CPEtoJbEg\\nseBdLEgs+FUjSCxILHjVCHZQkFiQWDBBwQSFud7mVxILrvlgBwWJBRMUHFCQWJh3fCu9kViQWJj7\\nkdhmrh20klgwQcE1HyQW5n48B21MULCkgwMKEguu+TD3\\/Pn2Z\\/hpEguWdJgnsZXEgsSCAwoSC5Z0\\nkFiQWJBY8LIaJBbmPhO0MUHBDgrzJLaSWJBY8KAYJBY8BwU7KEgseA4KbrEgsSCx4BYLEgsSC26x\\nILEgsWCCgms+zHuW9EZiQWJhjn8eZyWxMEdiKw+KQWJBYsE1HyQW5ljSK4kFiQW3WPgPSFToI7dW\\nfGQAAAAASUVORK5CYII=\\n\\\" transform=\\\"translate(2129, 579)\\\"\\/>\\n<\\/g>\\n<g clip-path=\\\"url(#clip7001)\\\">\\n<text style=\\\"fill:#000000; fill-opacity:1; font-family:Arial,Helvetica Neue,Helvetica,sans-serif; font-size:48px; text-anchor:start;\\\" transform=\\\"rotate(0, 2237.26, 985.778)\\\" x=\\\"2237.26\\\" y=\\\"985.778\\\">-<\\/text>\\n<\\/g>\\n<g clip-path=\\\"url(#clip7001)\\\">\\n<text style=\\\"fill:#000000; fill-opacity:1; font-family:Arial,Helvetica Neue,Helvetica,sans-serif; font-size:48px; text-anchor:start;\\\" transform=\\\"rotate(0, 2265.37, 985.778)\\\" x=\\\"2265.37\\\" y=\\\"985.778\\\">0.100<\\/text>\\n<\\/g>\\n<g clip-path=\\\"url(#clip7001)\\\">\\n<text style=\\\"fill:#000000; fill-opacity:1; font-family:Arial,Helvetica Neue,Helvetica,sans-serif; font-size:48px; text-anchor:start;\\\" transform=\\\"rotate(0, 2237.26, 936.586)\\\" x=\\\"2237.26\\\" y=\\\"936.586\\\">-<\\/text>\\n<\\/g>\\n<g clip-path=\\\"url(#clip7001)\\\">\\n<text style=\\\"fill:#000000; fill-opacity:1; font-family:Arial,Helvetica Neue,Helvetica,sans-serif; font-size:48px; text-anchor:start;\\\" transform=\\\"rotate(0, 2265.37, 936.586)\\\" x=\\\"2265.37\\\" y=\\\"936.586\\\">0.075<\\/text>\\n<\\/g>\\n<g clip-path=\\\"url(#clip7001)\\\">\\n<text style=\\\"fill:#000000; fill-opacity:1; font-family:Arial,Helvetica Neue,Helvetica,sans-serif; font-size:48px; text-anchor:start;\\\" transform=\\\"rotate(0, 2237.26, 887.394)\\\" x=\\\"2237.26\\\" y=\\\"887.394\\\">-<\\/text>\\n<\\/g>\\n<g clip-path=\\\"url(#clip7001)\\\">\\n<text style=\\\"fill:#000000; fill-opacity:1; font-family:Arial,Helvetica Neue,Helvetica,sans-serif; font-size:48px; text-anchor:start;\\\" transform=\\\"rotate(0, 2265.37, 887.394)\\\" x=\\\"2265.37\\\" y=\\\"887.394\\\">0.050<\\/text>\\n<\\/g>\\n<g clip-path=\\\"url(#clip7001)\\\">\\n<text style=\\\"fill:#000000; fill-opacity:1; font-family:Arial,Helvetica Neue,Helvetica,sans-serif; font-size:48px; text-anchor:start;\\\" transform=\\\"rotate(0, 2237.26, 838.202)\\\" x=\\\"2237.26\\\" y=\\\"838.202\\\">-<\\/text>\\n<\\/g>\\n<g clip-path=\\\"url(#clip7001)\\\">\\n<text style=\\\"fill:#000000; fill-opacity:1; font-family:Arial,Helvetica Neue,Helvetica,sans-serif; font-size:48px; text-anchor:start;\\\" transform=\\\"rotate(0, 2265.37, 838.202)\\\" x=\\\"2265.37\\\" y=\\\"838.202\\\">0.025<\\/text>\\n<\\/g>\\n<g clip-path=\\\"url(#clip7001)\\\">\\n<text style=\\\"fill:#000000; fill-opacity:1; font-family:Arial,Helvetica Neue,Helvetica,sans-serif; font-size:48px; text-anchor:start;\\\" transform=\\\"rotate(0, 2237.26, 789.011)\\\" x=\\\"2237.26\\\" y=\\\"789.011\\\">0<\\/text>\\n<\\/g>\\n<g clip-path=\\\"url(#clip7001)\\\">\\n<text style=\\\"fill:#000000; fill-opacity:1; font-family:Arial,Helvetica Neue,Helvetica,sans-serif; font-size:48px; text-anchor:start;\\\" transform=\\\"rotate(0, 2237.26, 739.819)\\\" x=\\\"2237.26\\\" y=\\\"739.819\\\">0.025<\\/text>\\n<\\/g>\\n<g clip-path=\\\"url(#clip7001)\\\">\\n<text style=\\\"fill:#000000; fill-opacity:1; font-family:Arial,Helvetica Neue,Helvetica,sans-serif; font-size:48px; text-anchor:start;\\\" transform=\\\"rotate(0, 2237.26, 690.627)\\\" x=\\\"2237.26\\\" y=\\\"690.627\\\">0.050<\\/text>\\n<\\/g>\\n<g clip-path=\\\"url(#clip7001)\\\">\\n<text style=\\\"fill:#000000; fill-opacity:1; font-family:Arial,Helvetica Neue,Helvetica,sans-serif; font-size:48px; text-anchor:start;\\\" transform=\\\"rotate(0, 2237.26, 641.435)\\\" x=\\\"2237.26\\\" y=\\\"641.435\\\">0.075<\\/text>\\n<\\/g>\\n<g clip-path=\\\"url(#clip7001)\\\">\\n<text style=\\\"fill:#000000; fill-opacity:1; font-family:Arial,Helvetica Neue,Helvetica,sans-serif; font-size:48px; text-anchor:start;\\\" transform=\\\"rotate(0, 2237.26, 592.243)\\\" x=\\\"2237.26\\\" y=\\\"592.243\\\">0.100<\\/text>\\n<\\/g>\\n<polyline clip-path=\\\"url(#clip7001)\\\" style=\\\"stroke:#000000; stroke-width:4; stroke-opacity:1; fill:none\\\" points=\\\"\\n  2201.26,972.127 2201.26,972.127 2225.26,972.127 2201.26,972.127 2201.26,922.935 2225.26,922.935 2201.26,922.935 2201.26,873.743 2225.26,873.743 2201.26,873.743 \\n  2201.26,824.551 2225.26,824.551 2201.26,824.551 2201.26,775.359 2225.26,775.359 2201.26,775.359 2201.26,726.168 2225.26,726.168 2201.26,726.168 2201.26,676.976 \\n  2225.26,676.976 2201.26,676.976 2201.26,627.784 2225.26,627.784 2201.26,627.784 2201.26,578.592 2225.26,578.592 2201.26,578.592 \\n  \\\"\\/>\\n<g clip-path=\\\"url(#clip7001)\\\">\\n<text style=\\\"fill:#000000; fill-opacity:1; font-family:Arial,Helvetica Neue,Helvetica,sans-serif; font-size:66px; text-anchor:middle;\\\" transform=\\\"rotate(-90, 2378.86, 775.359)\\\" x=\\\"2378.86\\\" y=\\\"775.359\\\"><\\/text>\\n<\\/g>\\n<\\/svg>\\n\"},\"nodeType\":\"DOM\",\"type\":\"node\",\"instanceArgs\":{\"namespace\":\"html\",\"tag\":\"div\"},\"children\":[]}]}}}},\"children\":[{\"props\":{},\"nodeType\":\"ObservableNode\",\"type\":\"node\",\"instanceArgs\":{\"id\":\"ob_16\",\"name\":\"obs-node\"},\"children\":[]}]}]}}}},\"children\":[{\"props\":{},\"nodeType\":\"ObservableNode\",\"type\":\"node\",\"instanceArgs\":{\"id\":\"ob_15\",\"name\":\"obs-scope\"},\"children\":[]}]}]},\n",
       "        );\n",
       "    } else {\n",
       "        document\n",
       "            .querySelector('[data-webio-mountpoint=\"1862643066444126030\"]')\n",
       "            .innerHTML = '<strong>WebIO not detected.</strong>';\n",
       "    }\n",
       "    </script>\n",
       "</div>\n"
      ],
      "text/plain": [
       "Widget{:manipulate,Any}(OrderedDict{Symbol,Any}(:ego_v=>Widget{:slider,Float64}(OrderedDict{Symbol,Any}(:changes=>Observable{Int64} with 1 listeners. Value:\n",
       "0,:index=>Observable{Any} with 2 listeners. Value:\n",
       "15,:formatted_vals=>Observable{Any} with 1 listeners. Value:\n",
       "[\"0.0\", \"0.5\", \"1.0\", \"1.5\", \"2.0\", \"2.5\", \"3.0\", \"3.5\", \"4.0\", \"4.5\"  …  \"9.5\", \"10.0\", \"10.5\", \"11.0\", \"11.5\", \"12.0\", \"12.5\", \"13.0\", \"13.5\", \"14.0\"],:formatted_value=>Observable{String} with 1 listeners. Value:\n",
       "\"7.0\",:value=>Observable{Float64} with 2 listeners. Value:\n",
       "7.0), Observable{Float64} with 2 listeners. Value:\n",
       "7.0, Scope(\"knockout-component-59964e2d-46af-4300-a619-15e32871c075\", Node{DOM}(DOM(:html, :div), Any[Node{DOM}(DOM(:html, :div), Any[Node{DOM}(DOM(:html, :label), Any[\"ego_v\"], Dict{Symbol,Any}(:className=>\"interact \",:style=>Dict{Any,Any}(:padding=>\"5px 10px 0px 10px\")), 1)], Dict{Symbol,Any}(:attributes=>Dict(\"style\"=>\"text-align:right;width:18%\")), 2), Node{DOM}(DOM(:html, :div), Any[Node{DOM}(DOM(:html, :input), Any[], Dict{Symbol,Any}(:max=>29,:min=>1,:attributes=>Dict{Any,Any}(:type=>\"range\",Symbol(\"data-bind\")=>\"numericValue: index, valueUpdate: 'input', event: {change : function () {this.changes(this.changes()+1)}}\",\"orient\"=>\"horizontal\"),:step=>1,:className=>\"slider slider is-fullwidth\",:style=>Dict{Any,Any}()), 0)], Dict{Symbol,Any}(:attributes=>Dict(\"style\"=>\"flex-grow:1; margin: 0 2%\")), 1), Node{DOM}(DOM(:html, :div), Any[Node{DOM}(DOM(:html, :p), Any[], Dict{Symbol,Any}(:attributes=>Dict(\"data-bind\"=>\"text: formatted_value\")), 0)], Dict{Symbol,Any}(:attributes=>Dict(\"style\"=>\"width:18%\")), 1)], Dict{Symbol,Any}(:attributes=>Dict(\"style\"=>\"display:flex; justify-content:center; align-items:center;\")), 7), Dict{String,Tuple{Observables.AbstractObservable,Union{Nothing, Bool}}}(\"formatted_vals\"=>(Observable{Any} with 1 listeners. Value:\n",
       "[\"0.0\", \"0.5\", \"1.0\", \"1.5\", \"2.0\", \"2.5\", \"3.0\", \"3.5\", \"4.0\", \"4.5\"  …  \"9.5\", \"10.0\", \"10.5\", \"11.0\", \"11.5\", \"12.0\", \"12.5\", \"13.0\", \"13.5\", \"14.0\"], nothing),\"changes\"=>(Observable{Int64} with 1 listeners. Value:\n",
       "0, nothing),\"formatted_value\"=>(Observable{String} with 1 listeners. Value:\n",
       "\"7.0\", nothing),\"index\"=>(Observable{Any} with 2 listeners. Value:\n",
       "15, nothing)), Set(String[]), nothing, Any[\"knockout\"=>\"C:\\\\Users\\\\Maxime\\\\.julia\\\\packages\\\\Knockout\\\\JIqpG\\\\src\\\\..\\\\assets\\\\knockout.js\", \"knockout_punches\"=>\"C:\\\\Users\\\\Maxime\\\\.julia\\\\packages\\\\Knockout\\\\JIqpG\\\\src\\\\..\\\\assets\\\\knockout_punches.js\", \"C:\\\\Users\\\\Maxime\\\\.julia\\\\packages\\\\InteractBase\\\\Q4IkI\\\\src\\\\..\\\\assets\\\\all.js\", \"C:\\\\Users\\\\Maxime\\\\.julia\\\\packages\\\\InteractBase\\\\Q4IkI\\\\src\\\\..\\\\assets\\\\style.css\", \"C:\\\\Users\\\\Maxime\\\\.julia\\\\packages\\\\InteractBulma\\\\Ohu5Y\\\\src\\\\..\\\\assets\\\\main.css\"], Dict{Any,Any}(\"formatted_vals\"=>Any[JSString(\"(function (val){return (val!=this.model[\\\"formatted_vals\\\"]()) ? (this.valueFromJulia[\\\"formatted_vals\\\"]=true, this.model[\\\"formatted_vals\\\"](val)) : undefined})\")],\"_promises\"=>Dict{Any,Any}(\"importsLoaded\"=>Any[JSString(\"function (ko, koPunches) {\\n    ko.punches.enableAll();\\n    ko.bindingHandlers.numericValue = {\\n        init : function(element, valueAccessor, allBindings, data, context) {\\n            var stringified = ko.observable(ko.unwrap(valueAccessor()));\\n            stringified.subscribe(function(value) {\\n                var val = parseFloat(value);\\n                if (!isNaN(val)) {\\n                    valueAccessor()(val);\\n                }\\n            })\\n            valueAccessor().subscribe(function(value) {\\n                var str = JSON.stringify(value);\\n                if ((str == \\\"0\\\") && ([\\\"-0\\\", \\\"-0.\\\"].indexOf(stringified()) >= 0))\\n                     return;\\n                 if ([\\\"null\\\", \\\"\\\"].indexOf(str) >= 0)\\n                     return;\\n                stringified(str);\\n            })\\n            ko.applyBindingsToNode(element, { value: stringified, valueUpdate: allBindings.get('valueUpdate')}, context);\\n        }\\n    };\\n    var json_data = JSON.parse(\\\"{\\\\\\\"formatted_vals\\\\\\\":[\\\\\\\"0.0\\\\\\\",\\\\\\\"0.5\\\\\\\",\\\\\\\"1.0\\\\\\\",\\\\\\\"1.5\\\\\\\",\\\\\\\"2.0\\\\\\\",\\\\\\\"2.5\\\\\\\",\\\\\\\"3.0\\\\\\\",\\\\\\\"3.5\\\\\\\",\\\\\\\"4.0\\\\\\\",\\\\\\\"4.5\\\\\\\",\\\\\\\"5.0\\\\\\\",\\\\\\\"5.5\\\\\\\",\\\\\\\"6.0\\\\\\\",\\\\\\\"6.5\\\\\\\",\\\\\\\"7.0\\\\\\\",\\\\\\\"7.5\\\\\\\",\\\\\\\"8.0\\\\\\\",\\\\\\\"8.5\\\\\\\",\\\\\\\"9.0\\\\\\\",\\\\\\\"9.5\\\\\\\",\\\\\\\"10.0\\\\\\\",\\\\\\\"10.5\\\\\\\",\\\\\\\"11.0\\\\\\\",\\\\\\\"11.5\\\\\\\",\\\\\\\"12.0\\\\\\\",\\\\\\\"12.5\\\\\\\",\\\\\\\"13.0\\\\\\\",\\\\\\\"13.5\\\\\\\",\\\\\\\"14.0\\\\\\\"],\\\\\\\"changes\\\\\\\":0,\\\\\\\"formatted_value\\\\\\\":\\\\\\\"7.0\\\\\\\",\\\\\\\"index\\\\\\\":15}\\\");\\n    var self = this;\\n    function AppViewModel() {\\n        for (var key in json_data) {\\n            var el = json_data[key];\\n            this[key] = Array.isArray(el) ? ko.observableArray(el) : ko.observable(el);\\n        }\\n        \\n        \\n        [this[\\\"formatted_vals\\\"].subscribe((function (val){!(this.valueFromJulia[\\\"formatted_vals\\\"]) ? (_webIOScope.setObservableValue({\\\"name\\\":\\\"formatted_vals\\\",\\\"scope\\\":\\\"knockout-component-59964e2d-46af-4300-a619-15e32871c075\\\",\\\"id\\\":\\\"ob_03\\\",\\\"type\\\":\\\"observable\\\"},val)) : undefined; return this.valueFromJulia[\\\"formatted_vals\\\"]=false}),self),this[\\\"changes\\\"].subscribe((function (val){!(this.valueFromJulia[\\\"changes\\\"]) ? (_webIOScope.setObservableValue({\\\"name\\\":\\\"changes\\\",\\\"scope\\\":\\\"knockout-component-59964e2d-46af-4300-a619-15e32871c075\\\",\\\"id\\\":\\\"ob_05\\\",\\\"type\\\":\\\"observable\\\"},val)) : undefined; return this.valueFromJulia[\\\"changes\\\"]=false}),self),this[\\\"formatted_value\\\"].subscribe((function (val){!(this.valueFromJulia[\\\"formatted_value\\\"]) ? (_webIOScope.setObservableValue({\\\"name\\\":\\\"formatted_value\\\",\\\"scope\\\":\\\"knockout-component-59964e2d-46af-4300-a619-15e32871c075\\\",\\\"id\\\":\\\"ob_04\\\",\\\"type\\\":\\\"observable\\\"},val)) : undefined; return this.valueFromJulia[\\\"formatted_value\\\"]=false}),self),this[\\\"index\\\"].subscribe((function (val){!(this.valueFromJulia[\\\"index\\\"]) ? (_webIOScope.setObservableValue({\\\"name\\\":\\\"index\\\",\\\"scope\\\":\\\"knockout-component-59964e2d-46af-4300-a619-15e32871c075\\\",\\\"id\\\":\\\"ob_02\\\",\\\"type\\\":\\\"observable\\\"},val)) : undefined; return this.valueFromJulia[\\\"index\\\"]=false}),self)]\\n        \\n    }\\n    self.model = new AppViewModel();\\n    self.valueFromJulia = {};\\n    for (var key in json_data) {\\n        self.valueFromJulia[key] = false;\\n    }\\n    ko.applyBindings(self.model, self.dom);\\n}\\n\")]),\"changes\"=>Any[JSString(\"(function (val){return (val!=this.model[\\\"changes\\\"]()) ? (this.valueFromJulia[\\\"changes\\\"]=true, this.model[\\\"changes\\\"](val)) : undefined})\")],\"formatted_value\"=>Any[JSString(\"(function (val){return (val!=this.model[\\\"formatted_value\\\"]()) ? (this.valueFromJulia[\\\"formatted_value\\\"]=true, this.model[\\\"formatted_value\\\"](val)) : undefined})\")],\"index\"=>Any[JSString(\"(function (val){return (val!=this.model[\\\"index\\\"]()) ? (this.valueFromJulia[\\\"index\\\"]=true, this.model[\\\"index\\\"](val)) : undefined})\"), JSString(\"(function (val){return _webIOScope.setObservableValue({\\\"name\\\":\\\"formatted_value\\\",\\\"scope\\\":\\\"knockout-component-59964e2d-46af-4300-a619-15e32871c075\\\",\\\"id\\\":\\\"ob_04\\\",\\\"type\\\":\\\"observable\\\"},_webIOScope.getObservableValue({\\\"name\\\":\\\"formatted_vals\\\",\\\"scope\\\":\\\"knockout-component-59964e2d-46af-4300-a619-15e32871c075\\\",\\\"id\\\":\\\"ob_03\\\",\\\"type\\\":\\\"observable\\\"})[(_webIOScope.getObservableValue({\\\"name\\\":\\\"index\\\",\\\"scope\\\":\\\"knockout-component-59964e2d-46af-4300-a619-15e32871c075\\\",\\\"id\\\":\\\"ob_02\\\",\\\"type\\\":\\\"observable\\\"})-1)])})\")]), ConnectionPool(Channel{Any}(sz_max:9223372036854775807,sz_curr:0), Set(AbstractConnection[]), Channel{AbstractConnection}(sz_max:32,sz_curr:0))), ##52#53{#dom#13{##dom#11#12{Dict{Any,Any},DOM}},typeof(scope)}(#dom#13{##dom#11#12{Dict{Any,Any},DOM}}(##dom#11#12{Dict{Any,Any},DOM}(Dict{Any,Any}(:className=>\"field\"), DOM(:html, :div))), scope))), Observable{Any} with 0 listeners. Value:\n",
       "Widget{:manipulate,Any}(OrderedDict{Symbol,Any}(:ped_v=>Widget{:slider,Float64}(OrderedDict{Symbol,Any}(:changes=>Observable{Int64} with 1 listeners. Value:\n",
       "0,:index=>Observable{Any} with 2 listeners. Value:\n",
       "3,:formatted_vals=>Observable{Any} with 1 listeners. Value:\n",
       "[\"0.0\", \"0.5\", \"1.0\", \"1.5\", \"2.0\"],:formatted_value=>Observable{String} with 1 listeners. Value:\n",
       "\"1.0\",:value=>Observable{Float64} with 2 listeners. Value:\n",
       "1.0), Observable{Float64} with 2 listeners. Value:\n",
       "1.0, Scope(\"knockout-component-9b8c97d9-9ed8-4a70-be8f-0081e5ecbfde\", Node{DOM}(DOM(:html, :div), Any[Node{DOM}(DOM(:html, :div), Any[Node{DOM}(DOM(:html, :label), Any[\"ped_v\"], Dict{Symbol,Any}(:className=>\"interact \",:style=>Dict{Any,Any}(:padding=>\"5px 10px 0px 10px\")), 1)], Dict{Symbol,Any}(:attributes=>Dict(\"style\"=>\"text-align:right;width:18%\")), 2), Node{DOM}(DOM(:html, :div), Any[Node{DOM}(DOM(:html, :input), Any[], Dict{Symbol,Any}(:max=>5,:min=>1,:attributes=>Dict{Any,Any}(:type=>\"range\",Symbol(\"data-bind\")=>\"numericValue: index, valueUpdate: 'input', event: {change : function () {this.changes(this.changes()+1)}}\",\"orient\"=>\"horizontal\"),:step=>1,:className=>\"slider slider is-fullwidth\",:style=>Dict{Any,Any}()), 0)], Dict{Symbol,Any}(:attributes=>Dict(\"style\"=>\"flex-grow:1; margin: 0 2%\")), 1), Node{DOM}(DOM(:html, :div), Any[Node{DOM}(DOM(:html, :p), Any[], Dict{Symbol,Any}(:attributes=>Dict(\"data-bind\"=>\"text: formatted_value\")), 0)], Dict{Symbol,Any}(:attributes=>Dict(\"style\"=>\"width:18%\")), 1)], Dict{Symbol,Any}(:attributes=>Dict(\"style\"=>\"display:flex; justify-content:center; align-items:center;\")), 7), Dict{String,Tuple{Observables.AbstractObservable,Union{Nothing, Bool}}}(\"formatted_vals\"=>(Observable{Any} with 1 listeners. Value:\n",
       "[\"0.0\", \"0.5\", \"1.0\", \"1.5\", \"2.0\"], nothing),\"changes\"=>(Observable{Int64} with 1 listeners. Value:\n",
       "0, nothing),\"formatted_value\"=>(Observable{String} with 1 listeners. Value:\n",
       "\"1.0\", nothing),\"index\"=>(Observable{Any} with 2 listeners. Value:\n",
       "3, nothing)), Set(String[]), nothing, Any[\"knockout\"=>\"C:\\\\Users\\\\Maxime\\\\.julia\\\\packages\\\\Knockout\\\\JIqpG\\\\src\\\\..\\\\assets\\\\knockout.js\", \"knockout_punches\"=>\"C:\\\\Users\\\\Maxime\\\\.julia\\\\packages\\\\Knockout\\\\JIqpG\\\\src\\\\..\\\\assets\\\\knockout_punches.js\", \"C:\\\\Users\\\\Maxime\\\\.julia\\\\packages\\\\InteractBase\\\\Q4IkI\\\\src\\\\..\\\\assets\\\\all.js\", \"C:\\\\Users\\\\Maxime\\\\.julia\\\\packages\\\\InteractBase\\\\Q4IkI\\\\src\\\\..\\\\assets\\\\style.css\", \"C:\\\\Users\\\\Maxime\\\\.julia\\\\packages\\\\InteractBulma\\\\Ohu5Y\\\\src\\\\..\\\\assets\\\\main.css\"], Dict{Any,Any}(\"formatted_vals\"=>Any[JSString(\"(function (val){return (val!=this.model[\\\"formatted_vals\\\"]()) ? (this.valueFromJulia[\\\"formatted_vals\\\"]=true, this.model[\\\"formatted_vals\\\"](val)) : undefined})\")],\"_promises\"=>Dict{Any,Any}(\"importsLoaded\"=>Any[JSString(\"function (ko, koPunches) {\\n    ko.punches.enableAll();\\n    ko.bindingHandlers.numericValue = {\\n        init : function(element, valueAccessor, allBindings, data, context) {\\n            var stringified = ko.observable(ko.unwrap(valueAccessor()));\\n            stringified.subscribe(function(value) {\\n                var val = parseFloat(value);\\n                if (!isNaN(val)) {\\n                    valueAccessor()(val);\\n                }\\n            })\\n            valueAccessor().subscribe(function(value) {\\n                var str = JSON.stringify(value);\\n                if ((str == \\\"0\\\") && ([\\\"-0\\\", \\\"-0.\\\"].indexOf(stringified()) >= 0))\\n                     return;\\n                 if ([\\\"null\\\", \\\"\\\"].indexOf(str) >= 0)\\n                     return;\\n                stringified(str);\\n            })\\n            ko.applyBindingsToNode(element, { value: stringified, valueUpdate: allBindings.get('valueUpdate')}, context);\\n        }\\n    };\\n    var json_data = JSON.parse(\\\"{\\\\\\\"formatted_vals\\\\\\\":[\\\\\\\"0.0\\\\\\\",\\\\\\\"0.5\\\\\\\",\\\\\\\"1.0\\\\\\\",\\\\\\\"1.5\\\\\\\",\\\\\\\"2.0\\\\\\\"],\\\\\\\"changes\\\\\\\":0,\\\\\\\"formatted_value\\\\\\\":\\\\\\\"1.0\\\\\\\",\\\\\\\"index\\\\\\\":3}\\\");\\n    var self = this;\\n    function AppViewModel() {\\n        for (var key in json_data) {\\n            var el = json_data[key];\\n            this[key] = Array.isArray(el) ? ko.observableArray(el) : ko.observable(el);\\n        }\\n        \\n        \\n        [this[\\\"formatted_vals\\\"].subscribe((function (val){!(this.valueFromJulia[\\\"formatted_vals\\\"]) ? (_webIOScope.setObservableValue({\\\"name\\\":\\\"formatted_vals\\\",\\\"scope\\\":\\\"knockout-component-9b8c97d9-9ed8-4a70-be8f-0081e5ecbfde\\\",\\\"id\\\":\\\"ob_08\\\",\\\"type\\\":\\\"observable\\\"},val)) : undefined; return this.valueFromJulia[\\\"formatted_vals\\\"]=false}),self),this[\\\"changes\\\"].subscribe((function (val){!(this.valueFromJulia[\\\"changes\\\"]) ? (_webIOScope.setObservableValue({\\\"name\\\":\\\"changes\\\",\\\"scope\\\":\\\"knockout-component-9b8c97d9-9ed8-4a70-be8f-0081e5ecbfde\\\",\\\"id\\\":\\\"ob_10\\\",\\\"type\\\":\\\"observable\\\"},val)) : undefined; return this.valueFromJulia[\\\"changes\\\"]=false}),self),this[\\\"formatted_value\\\"].subscribe((function (val){!(this.valueFromJulia[\\\"formatted_value\\\"]) ? (_webIOScope.setObservableValue({\\\"name\\\":\\\"formatted_value\\\",\\\"scope\\\":\\\"knockout-component-9b8c97d9-9ed8-4a70-be8f-0081e5ecbfde\\\",\\\"id\\\":\\\"ob_09\\\",\\\"type\\\":\\\"observable\\\"},val)) : undefined; return this.valueFromJulia[\\\"formatted_value\\\"]=false}),self),this[\\\"index\\\"].subscribe((function (val){!(this.valueFromJulia[\\\"index\\\"]) ? (_webIOScope.setObservableValue({\\\"name\\\":\\\"index\\\",\\\"scope\\\":\\\"knockout-component-9b8c97d9-9ed8-4a70-be8f-0081e5ecbfde\\\",\\\"id\\\":\\\"ob_07\\\",\\\"type\\\":\\\"observable\\\"},val)) : undefined; return this.valueFromJulia[\\\"index\\\"]=false}),self)]\\n        \\n    }\\n    self.model = new AppViewModel();\\n    self.valueFromJulia = {};\\n    for (var key in json_data) {\\n        self.valueFromJulia[key] = false;\\n    }\\n    ko.applyBindings(self.model, self.dom);\\n}\\n\")]),\"changes\"=>Any[JSString(\"(function (val){return (val!=this.model[\\\"changes\\\"]()) ? (this.valueFromJulia[\\\"changes\\\"]=true, this.model[\\\"changes\\\"](val)) : undefined})\")],\"formatted_value\"=>Any[JSString(\"(function (val){return (val!=this.model[\\\"formatted_value\\\"]()) ? (this.valueFromJulia[\\\"formatted_value\\\"]=true, this.model[\\\"formatted_value\\\"](val)) : undefined})\")],\"index\"=>Any[JSString(\"(function (val){return (val!=this.model[\\\"index\\\"]()) ? (this.valueFromJulia[\\\"index\\\"]=true, this.model[\\\"index\\\"](val)) : undefined})\"), JSString(\"(function (val){return _webIOScope.setObservableValue({\\\"name\\\":\\\"formatted_value\\\",\\\"scope\\\":\\\"knockout-component-9b8c97d9-9ed8-4a70-be8f-0081e5ecbfde\\\",\\\"id\\\":\\\"ob_09\\\",\\\"type\\\":\\\"observable\\\"},_webIOScope.getObservableValue({\\\"name\\\":\\\"formatted_vals\\\",\\\"scope\\\":\\\"knockout-component-9b8c97d9-9ed8-4a70-be8f-0081e5ecbfde\\\",\\\"id\\\":\\\"ob_08\\\",\\\"type\\\":\\\"observable\\\"})[(_webIOScope.getObservableValue({\\\"name\\\":\\\"index\\\",\\\"scope\\\":\\\"knockout-component-9b8c97d9-9ed8-4a70-be8f-0081e5ecbfde\\\",\\\"id\\\":\\\"ob_07\\\",\\\"type\\\":\\\"observable\\\"})-1)])})\")]), ConnectionPool(Channel{Any}(sz_max:9223372036854775807,sz_curr:0), Set(AbstractConnection[]), Channel{AbstractConnection}(sz_max:32,sz_curr:0))), ##52#53{#dom#13{##dom#11#12{Dict{Any,Any},DOM}},typeof(scope)}(#dom#13{##dom#11#12{Dict{Any,Any},DOM}}(##dom#11#12{Dict{Any,Any},DOM}(Dict{Any,Any}(:className=>\"field\"), DOM(:html, :div))), scope))), Observable{Any} with 0 listeners. Value:\n",
       "Plot{Plots.GRBackend() n=1}, nothing, getfield(Main, Symbol(\"##11#17\")){Observable{Any}}(Observable{Any} with 0 listeners. Value:\n",
       "Plot{Plots.GRBackend() n=1})), nothing, getfield(Main, Symbol(\"##12#18\")){Observable{Any}}(Observable{Any} with 0 listeners. Value:\n",
       "Widget{:manipulate,Any}(OrderedDict{Symbol,Any}(:ped_v=>Widget{:slider,Float64}(OrderedDict{Symbol,Any}(:changes=>Observable{Int64} with 1 listeners. Value:\n",
       "0,:index=>Observable{Any} with 2 listeners. Value:\n",
       "3,:formatted_vals=>Observable{Any} with 1 listeners. Value:\n",
       "[\"0.0\", \"0.5\", \"1.0\", \"1.5\", \"2.0\"],:formatted_value=>Observable{String} with 1 listeners. Value:\n",
       "\"1.0\",:value=>Observable{Float64} with 2 listeners. Value:\n",
       "1.0), Observable{Float64} with 2 listeners. Value:\n",
       "1.0, Scope(\"knockout-component-9b8c97d9-9ed8-4a70-be8f-0081e5ecbfde\", Node{DOM}(DOM(:html, :div), Any[Node{DOM}(DOM(:html, :div), Any[Node{DOM}(DOM(:html, :label), Any[\"ped_v\"], Dict{Symbol,Any}(:className=>\"interact \",:style=>Dict{Any,Any}(:padding=>\"5px 10px 0px 10px\")), 1)], Dict{Symbol,Any}(:attributes=>Dict(\"style\"=>\"text-align:right;width:18%\")), 2), Node{DOM}(DOM(:html, :div), Any[Node{DOM}(DOM(:html, :input), Any[], Dict{Symbol,Any}(:max=>5,:min=>1,:attributes=>Dict{Any,Any}(:type=>\"range\",Symbol(\"data-bind\")=>\"numericValue: index, valueUpdate: 'input', event: {change : function () {this.changes(this.changes()+1)}}\",\"orient\"=>\"horizontal\"),:step=>1,:className=>\"slider slider is-fullwidth\",:style=>Dict{Any,Any}()), 0)], Dict{Symbol,Any}(:attributes=>Dict(\"style\"=>\"flex-grow:1; margin: 0 2%\")), 1), Node{DOM}(DOM(:html, :div), Any[Node{DOM}(DOM(:html, :p), Any[], Dict{Symbol,Any}(:attributes=>Dict(\"data-bind\"=>\"text: formatted_value\")), 0)], Dict{Symbol,Any}(:attributes=>Dict(\"style\"=>\"width:18%\")), 1)], Dict{Symbol,Any}(:attributes=>Dict(\"style\"=>\"display:flex; justify-content:center; align-items:center;\")), 7), Dict{String,Tuple{Observables.AbstractObservable,Union{Nothing, Bool}}}(\"formatted_vals\"=>(Observable{Any} with 1 listeners. Value:\n",
       "[\"0.0\", \"0.5\", \"1.0\", \"1.5\", \"2.0\"], nothing),\"changes\"=>(Observable{Int64} with 1 listeners. Value:\n",
       "0, nothing),\"formatted_value\"=>(Observable{String} with 1 listeners. Value:\n",
       "\"1.0\", nothing),\"index\"=>(Observable{Any} with 2 listeners. Value:\n",
       "3, nothing)), Set(String[]), nothing, Any[\"knockout\"=>\"C:\\\\Users\\\\Maxime\\\\.julia\\\\packages\\\\Knockout\\\\JIqpG\\\\src\\\\..\\\\assets\\\\knockout.js\", \"knockout_punches\"=>\"C:\\\\Users\\\\Maxime\\\\.julia\\\\packages\\\\Knockout\\\\JIqpG\\\\src\\\\..\\\\assets\\\\knockout_punches.js\", \"C:\\\\Users\\\\Maxime\\\\.julia\\\\packages\\\\InteractBase\\\\Q4IkI\\\\src\\\\..\\\\assets\\\\all.js\", \"C:\\\\Users\\\\Maxime\\\\.julia\\\\packages\\\\InteractBase\\\\Q4IkI\\\\src\\\\..\\\\assets\\\\style.css\", \"C:\\\\Users\\\\Maxime\\\\.julia\\\\packages\\\\InteractBulma\\\\Ohu5Y\\\\src\\\\..\\\\assets\\\\main.css\"], Dict{Any,Any}(\"formatted_vals\"=>Any[JSString(\"(function (val){return (val!=this.model[\\\"formatted_vals\\\"]()) ? (this.valueFromJulia[\\\"formatted_vals\\\"]=true, this.model[\\\"formatted_vals\\\"](val)) : undefined})\")],\"_promises\"=>Dict{Any,Any}(\"importsLoaded\"=>Any[JSString(\"function (ko, koPunches) {\\n    ko.punches.enableAll();\\n    ko.bindingHandlers.numericValue = {\\n        init : function(element, valueAccessor, allBindings, data, context) {\\n            var stringified = ko.observable(ko.unwrap(valueAccessor()));\\n            stringified.subscribe(function(value) {\\n                var val = parseFloat(value);\\n                if (!isNaN(val)) {\\n                    valueAccessor()(val);\\n                }\\n            })\\n            valueAccessor().subscribe(function(value) {\\n                var str = JSON.stringify(value);\\n                if ((str == \\\"0\\\") && ([\\\"-0\\\", \\\"-0.\\\"].indexOf(stringified()) >= 0))\\n                     return;\\n                 if ([\\\"null\\\", \\\"\\\"].indexOf(str) >= 0)\\n                     return;\\n                stringified(str);\\n            })\\n            ko.applyBindingsToNode(element, { value: stringified, valueUpdate: allBindings.get('valueUpdate')}, context);\\n        }\\n    };\\n    var json_data = JSON.parse(\\\"{\\\\\\\"formatted_vals\\\\\\\":[\\\\\\\"0.0\\\\\\\",\\\\\\\"0.5\\\\\\\",\\\\\\\"1.0\\\\\\\",\\\\\\\"1.5\\\\\\\",\\\\\\\"2.0\\\\\\\"],\\\\\\\"changes\\\\\\\":0,\\\\\\\"formatted_value\\\\\\\":\\\\\\\"1.0\\\\\\\",\\\\\\\"index\\\\\\\":3}\\\");\\n    var self = this;\\n    function AppViewModel() {\\n        for (var key in json_data) {\\n            var el = json_data[key];\\n            this[key] = Array.isArray(el) ? ko.observableArray(el) : ko.observable(el);\\n        }\\n        \\n        \\n        [this[\\\"formatted_vals\\\"].subscribe((function (val){!(this.valueFromJulia[\\\"formatted_vals\\\"]) ? (_webIOScope.setObservableValue({\\\"name\\\":\\\"formatted_vals\\\",\\\"scope\\\":\\\"knockout-component-9b8c97d9-9ed8-4a70-be8f-0081e5ecbfde\\\",\\\"id\\\":\\\"ob_08\\\",\\\"type\\\":\\\"observable\\\"},val)) : undefined; return this.valueFromJulia[\\\"formatted_vals\\\"]=false}),self),this[\\\"changes\\\"].subscribe((function (val){!(this.valueFromJulia[\\\"changes\\\"]) ? (_webIOScope.setObservableValue({\\\"name\\\":\\\"changes\\\",\\\"scope\\\":\\\"knockout-component-9b8c97d9-9ed8-4a70-be8f-0081e5ecbfde\\\",\\\"id\\\":\\\"ob_10\\\",\\\"type\\\":\\\"observable\\\"},val)) : undefined; return this.valueFromJulia[\\\"changes\\\"]=false}),self),this[\\\"formatted_value\\\"].subscribe((function (val){!(this.valueFromJulia[\\\"formatted_value\\\"]) ? (_webIOScope.setObservableValue({\\\"name\\\":\\\"formatted_value\\\",\\\"scope\\\":\\\"knockout-component-9b8c97d9-9ed8-4a70-be8f-0081e5ecbfde\\\",\\\"id\\\":\\\"ob_09\\\",\\\"type\\\":\\\"observable\\\"},val)) : undefined; return this.valueFromJulia[\\\"formatted_value\\\"]=false}),self),this[\\\"index\\\"].subscribe((function (val){!(this.valueFromJulia[\\\"index\\\"]) ? (_webIOScope.setObservableValue({\\\"name\\\":\\\"index\\\",\\\"scope\\\":\\\"knockout-component-9b8c97d9-9ed8-4a70-be8f-0081e5ecbfde\\\",\\\"id\\\":\\\"ob_07\\\",\\\"type\\\":\\\"observable\\\"},val)) : undefined; return this.valueFromJulia[\\\"index\\\"]=false}),self)]\\n        \\n    }\\n    self.model = new AppViewModel();\\n    self.valueFromJulia = {};\\n    for (var key in json_data) {\\n        self.valueFromJulia[key] = false;\\n    }\\n    ko.applyBindings(self.model, self.dom);\\n}\\n\")]),\"changes\"=>Any[JSString(\"(function (val){return (val!=this.model[\\\"changes\\\"]()) ? (this.valueFromJulia[\\\"changes\\\"]=true, this.model[\\\"changes\\\"](val)) : undefined})\")],\"formatted_value\"=>Any[JSString(\"(function (val){return (val!=this.model[\\\"formatted_value\\\"]()) ? (this.valueFromJulia[\\\"formatted_value\\\"]=true, this.model[\\\"formatted_value\\\"](val)) : undefined})\")],\"index\"=>Any[JSString(\"(function (val){return (val!=this.model[\\\"index\\\"]()) ? (this.valueFromJulia[\\\"index\\\"]=true, this.model[\\\"index\\\"](val)) : undefined})\"), JSString(\"(function (val){return _webIOScope.setObservableValue({\\\"name\\\":\\\"formatted_value\\\",\\\"scope\\\":\\\"knockout-component-9b8c97d9-9ed8-4a70-be8f-0081e5ecbfde\\\",\\\"id\\\":\\\"ob_09\\\",\\\"type\\\":\\\"observable\\\"},_webIOScope.getObservableValue({\\\"name\\\":\\\"formatted_vals\\\",\\\"scope\\\":\\\"knockout-component-9b8c97d9-9ed8-4a70-be8f-0081e5ecbfde\\\",\\\"id\\\":\\\"ob_08\\\",\\\"type\\\":\\\"observable\\\"})[(_webIOScope.getObservableValue({\\\"name\\\":\\\"index\\\",\\\"scope\\\":\\\"knockout-component-9b8c97d9-9ed8-4a70-be8f-0081e5ecbfde\\\",\\\"id\\\":\\\"ob_07\\\",\\\"type\\\":\\\"observable\\\"})-1)])})\")]), ConnectionPool(Channel{Any}(sz_max:9223372036854775807,sz_curr:0), Set(AbstractConnection[]), Channel{AbstractConnection}(sz_max:32,sz_curr:0))), ##52#53{#dom#13{##dom#11#12{Dict{Any,Any},DOM}},typeof(scope)}(#dom#13{##dom#11#12{Dict{Any,Any},DOM}}(##dom#11#12{Dict{Any,Any},DOM}(Dict{Any,Any}(:className=>\"field\"), DOM(:html, :div))), scope))), Observable{Any} with 0 listeners. Value:\n",
       "Plot{Plots.GRBackend() n=1}, nothing, getfield(Main, Symbol(\"##11#17\")){Observable{Any}}(Observable{Any} with 0 listeners. Value:\n",
       "Plot{Plots.GRBackend() n=1}))))"
      ]
     },
     "execution_count": 4,
     "metadata": {
      "application/vnd.webio.node+json": {
       "kernelId": null
      }
     },
     "output_type": "execute_result"
    }
   ],
   "source": [
    "# visualize lateral policy\n",
    "\n",
    "gr()\n",
    "\n",
    "\n",
    "policy_grid = zeros(Float64, length(pomdp.T_RANGE), length(pomdp.S_RANGE))\n",
    "\n",
    "@manipulate for ego_v in pomdp.EGO_V_RANGE\n",
    "   # ego_v = 8.0\n",
    "    @manipulate for ped_v in pomdp.PED_V_RANGE\n",
    "   # ped_v = 0.0\n",
    "        for i=1:length(pomdp.T_RANGE)\n",
    "            ped_t = pomdp.T_RANGE[i]\n",
    "            for j=1:length(pomdp.S_RANGE)\n",
    "                ped_s = pomdp.S_RANGE[j]\n",
    "                b = SparseCat([SingleOCFState(0.0, ego_v, ped_s, ped_t, pomdp.PED_THETA_RANGE[1], ped_v)],[1.])\n",
    "                act = action(qmdp_policy, b) \n",
    "                policy_grid[i,j] = act.lateral_movement\n",
    "            end\n",
    "        end\n",
    "        xs = [pomdp.S_RANGE[i] for i = 1:length(pomdp.S_RANGE)]\n",
    "        ys = [pomdp.T_RANGE[i] for i = 1:length(pomdp.T_RANGE)]\n",
    "        heatmap(xs,ys,policy_grid,aspect_ratio=1)\n",
    "    end\n",
    "end\n"
   ]
  },
  {
   "cell_type": "code",
   "execution_count": 17,
   "metadata": {},
   "outputs": [
    {
     "data": {
      "image/svg+xml": [
       "<?xml version=\"1.0\" encoding=\"utf-8\"?>\n",
       "<svg xmlns=\"http://www.w3.org/2000/svg\" xmlns:xlink=\"http://www.w3.org/1999/xlink\" width=\"600\" height=\"400\" viewBox=\"0 0 2400 1600\">\n",
       "<defs>\n",
       "  <clipPath id=\"clip6600\">\n",
       "    <rect x=\"0\" y=\"0\" width=\"2000\" height=\"2000\"/>\n",
       "  </clipPath>\n",
       "</defs>\n",
       "<defs>\n",
       "  <clipPath id=\"clip6601\">\n",
       "    <rect x=\"0\" y=\"0\" width=\"2400\" height=\"1600\"/>\n",
       "  </clipPath>\n",
       "</defs>\n",
       "<polygon clip-path=\"url(#clip6601)\" points=\"\n",
       "0,1600 2400,1600 2400,0 0,0 \n",
       "  \" fill=\"#ffffff\" fill-rule=\"evenodd\" fill-opacity=\"1\"/>\n",
       "<defs>\n",
       "  <clipPath id=\"clip6602\">\n",
       "    <rect x=\"480\" y=\"0\" width=\"1681\" height=\"1600\"/>\n",
       "  </clipPath>\n",
       "</defs>\n",
       "<polygon clip-path=\"url(#clip6601)\" points=\"\n",
       "149.361,972.127 2081.26,972.127 2081.26,578.592 149.361,578.592 \n",
       "  \" fill=\"#ffffff\" fill-rule=\"evenodd\" fill-opacity=\"1\"/>\n",
       "<defs>\n",
       "  <clipPath id=\"clip6603\">\n",
       "    <rect x=\"149\" y=\"578\" width=\"1933\" height=\"395\"/>\n",
       "  </clipPath>\n",
       "</defs>\n",
       "<polyline clip-path=\"url(#clip6603)\" style=\"stroke:#000000; stroke-width:2; stroke-opacity:0.1; fill:none\" points=\"\n",
       "  256.688,972.127 256.688,578.592 \n",
       "  \"/>\n",
       "<polyline clip-path=\"url(#clip6603)\" style=\"stroke:#000000; stroke-width:2; stroke-opacity:0.1; fill:none\" points=\"\n",
       "  614.447,972.127 614.447,578.592 \n",
       "  \"/>\n",
       "<polyline clip-path=\"url(#clip6603)\" style=\"stroke:#000000; stroke-width:2; stroke-opacity:0.1; fill:none\" points=\"\n",
       "  972.207,972.127 972.207,578.592 \n",
       "  \"/>\n",
       "<polyline clip-path=\"url(#clip6603)\" style=\"stroke:#000000; stroke-width:2; stroke-opacity:0.1; fill:none\" points=\"\n",
       "  1329.97,972.127 1329.97,578.592 \n",
       "  \"/>\n",
       "<polyline clip-path=\"url(#clip6603)\" style=\"stroke:#000000; stroke-width:2; stroke-opacity:0.1; fill:none\" points=\"\n",
       "  1687.72,972.127 1687.72,578.592 \n",
       "  \"/>\n",
       "<polyline clip-path=\"url(#clip6603)\" style=\"stroke:#000000; stroke-width:2; stroke-opacity:0.1; fill:none\" points=\"\n",
       "  2045.48,972.127 2045.48,578.592 \n",
       "  \"/>\n",
       "<polyline clip-path=\"url(#clip6603)\" style=\"stroke:#000000; stroke-width:2; stroke-opacity:0.1; fill:none\" points=\"\n",
       "  149.361,918.463 2081.26,918.463 \n",
       "  \"/>\n",
       "<polyline clip-path=\"url(#clip6603)\" style=\"stroke:#000000; stroke-width:2; stroke-opacity:0.1; fill:none\" points=\"\n",
       "  149.361,846.911 2081.26,846.911 \n",
       "  \"/>\n",
       "<polyline clip-path=\"url(#clip6603)\" style=\"stroke:#000000; stroke-width:2; stroke-opacity:0.1; fill:none\" points=\"\n",
       "  149.361,775.359 2081.26,775.359 \n",
       "  \"/>\n",
       "<polyline clip-path=\"url(#clip6603)\" style=\"stroke:#000000; stroke-width:2; stroke-opacity:0.1; fill:none\" points=\"\n",
       "  149.361,703.808 2081.26,703.808 \n",
       "  \"/>\n",
       "<polyline clip-path=\"url(#clip6603)\" style=\"stroke:#000000; stroke-width:2; stroke-opacity:0.1; fill:none\" points=\"\n",
       "  149.361,632.256 2081.26,632.256 \n",
       "  \"/>\n",
       "<polyline clip-path=\"url(#clip6601)\" style=\"stroke:#000000; stroke-width:4; stroke-opacity:1; fill:none\" points=\"\n",
       "  149.361,972.127 2081.26,972.127 \n",
       "  \"/>\n",
       "<polyline clip-path=\"url(#clip6601)\" style=\"stroke:#000000; stroke-width:4; stroke-opacity:1; fill:none\" points=\"\n",
       "  149.361,972.127 149.361,578.592 \n",
       "  \"/>\n",
       "<polyline clip-path=\"url(#clip6601)\" style=\"stroke:#000000; stroke-width:4; stroke-opacity:1; fill:none\" points=\"\n",
       "  256.688,972.127 256.688,966.224 \n",
       "  \"/>\n",
       "<polyline clip-path=\"url(#clip6601)\" style=\"stroke:#000000; stroke-width:4; stroke-opacity:1; fill:none\" points=\"\n",
       "  614.447,972.127 614.447,966.224 \n",
       "  \"/>\n",
       "<polyline clip-path=\"url(#clip6601)\" style=\"stroke:#000000; stroke-width:4; stroke-opacity:1; fill:none\" points=\"\n",
       "  972.207,972.127 972.207,966.224 \n",
       "  \"/>\n",
       "<polyline clip-path=\"url(#clip6601)\" style=\"stroke:#000000; stroke-width:4; stroke-opacity:1; fill:none\" points=\"\n",
       "  1329.97,972.127 1329.97,966.224 \n",
       "  \"/>\n",
       "<polyline clip-path=\"url(#clip6601)\" style=\"stroke:#000000; stroke-width:4; stroke-opacity:1; fill:none\" points=\"\n",
       "  1687.72,972.127 1687.72,966.224 \n",
       "  \"/>\n",
       "<polyline clip-path=\"url(#clip6601)\" style=\"stroke:#000000; stroke-width:4; stroke-opacity:1; fill:none\" points=\"\n",
       "  2045.48,972.127 2045.48,966.224 \n",
       "  \"/>\n",
       "<polyline clip-path=\"url(#clip6601)\" style=\"stroke:#000000; stroke-width:4; stroke-opacity:1; fill:none\" points=\"\n",
       "  149.361,918.463 178.339,918.463 \n",
       "  \"/>\n",
       "<polyline clip-path=\"url(#clip6601)\" style=\"stroke:#000000; stroke-width:4; stroke-opacity:1; fill:none\" points=\"\n",
       "  149.361,846.911 178.339,846.911 \n",
       "  \"/>\n",
       "<polyline clip-path=\"url(#clip6601)\" style=\"stroke:#000000; stroke-width:4; stroke-opacity:1; fill:none\" points=\"\n",
       "  149.361,775.359 178.339,775.359 \n",
       "  \"/>\n",
       "<polyline clip-path=\"url(#clip6601)\" style=\"stroke:#000000; stroke-width:4; stroke-opacity:1; fill:none\" points=\"\n",
       "  149.361,703.808 178.339,703.808 \n",
       "  \"/>\n",
       "<polyline clip-path=\"url(#clip6601)\" style=\"stroke:#000000; stroke-width:4; stroke-opacity:1; fill:none\" points=\"\n",
       "  149.361,632.256 178.339,632.256 \n",
       "  \"/>\n",
       "<g clip-path=\"url(#clip6601)\">\n",
       "<text style=\"fill:#000000; fill-opacity:1; font-family:Arial,Helvetica Neue,Helvetica,sans-serif; font-size:48px; text-anchor:middle;\" transform=\"rotate(0, 256.688, 1026.13)\" x=\"256.688\" y=\"1026.13\">0</text>\n",
       "</g>\n",
       "<g clip-path=\"url(#clip6601)\">\n",
       "<text style=\"fill:#000000; fill-opacity:1; font-family:Arial,Helvetica Neue,Helvetica,sans-serif; font-size:48px; text-anchor:middle;\" transform=\"rotate(0, 614.447, 1026.13)\" x=\"614.447\" y=\"1026.13\">10</text>\n",
       "</g>\n",
       "<g clip-path=\"url(#clip6601)\">\n",
       "<text style=\"fill:#000000; fill-opacity:1; font-family:Arial,Helvetica Neue,Helvetica,sans-serif; font-size:48px; text-anchor:middle;\" transform=\"rotate(0, 972.207, 1026.13)\" x=\"972.207\" y=\"1026.13\">20</text>\n",
       "</g>\n",
       "<g clip-path=\"url(#clip6601)\">\n",
       "<text style=\"fill:#000000; fill-opacity:1; font-family:Arial,Helvetica Neue,Helvetica,sans-serif; font-size:48px; text-anchor:middle;\" transform=\"rotate(0, 1329.97, 1026.13)\" x=\"1329.97\" y=\"1026.13\">30</text>\n",
       "</g>\n",
       "<g clip-path=\"url(#clip6601)\">\n",
       "<text style=\"fill:#000000; fill-opacity:1; font-family:Arial,Helvetica Neue,Helvetica,sans-serif; font-size:48px; text-anchor:middle;\" transform=\"rotate(0, 1687.72, 1026.13)\" x=\"1687.72\" y=\"1026.13\">40</text>\n",
       "</g>\n",
       "<g clip-path=\"url(#clip6601)\">\n",
       "<text style=\"fill:#000000; fill-opacity:1; font-family:Arial,Helvetica Neue,Helvetica,sans-serif; font-size:48px; text-anchor:middle;\" transform=\"rotate(0, 2045.48, 1026.13)\" x=\"2045.48\" y=\"1026.13\">50</text>\n",
       "</g>\n",
       "<g clip-path=\"url(#clip6601)\">\n",
       "<text style=\"fill:#000000; fill-opacity:1; font-family:Arial,Helvetica Neue,Helvetica,sans-serif; font-size:48px; text-anchor:end;\" transform=\"rotate(0, 125.361, 935.963)\" x=\"125.361\" y=\"935.963\">-4</text>\n",
       "</g>\n",
       "<g clip-path=\"url(#clip6601)\">\n",
       "<text style=\"fill:#000000; fill-opacity:1; font-family:Arial,Helvetica Neue,Helvetica,sans-serif; font-size:48px; text-anchor:end;\" transform=\"rotate(0, 125.361, 864.411)\" x=\"125.361\" y=\"864.411\">-2</text>\n",
       "</g>\n",
       "<g clip-path=\"url(#clip6601)\">\n",
       "<text style=\"fill:#000000; fill-opacity:1; font-family:Arial,Helvetica Neue,Helvetica,sans-serif; font-size:48px; text-anchor:end;\" transform=\"rotate(0, 125.361, 792.859)\" x=\"125.361\" y=\"792.859\">0</text>\n",
       "</g>\n",
       "<g clip-path=\"url(#clip6601)\">\n",
       "<text style=\"fill:#000000; fill-opacity:1; font-family:Arial,Helvetica Neue,Helvetica,sans-serif; font-size:48px; text-anchor:end;\" transform=\"rotate(0, 125.361, 721.308)\" x=\"125.361\" y=\"721.308\">2</text>\n",
       "</g>\n",
       "<g clip-path=\"url(#clip6601)\">\n",
       "<text style=\"fill:#000000; fill-opacity:1; font-family:Arial,Helvetica Neue,Helvetica,sans-serif; font-size:48px; text-anchor:end;\" transform=\"rotate(0, 125.361, 649.756)\" x=\"125.361\" y=\"649.756\">4</text>\n",
       "</g>\n",
       "<g clip-path=\"url(#clip6603)\">\n",
       "<image width=\"1932\" height=\"394\" xlink:href=\"data:image/png;base64,\n",
       "iVBORw0KGgoAAAANSUhEUgAAB4wAAAGKCAYAAAD31bwUAAASK0lEQVR4nO3bz64cVAHH8Z6Z4bbF\n",
       "0pQq5Y9WCBRKieQmJiQu6sY/Sx/Dt/Bd2Lg28QVkSWDhSk1ZNgRjA8ZAJFp62/EJZkjQeM7l+/k8\n",
       "wS8n585M7jdnnO1/u78AAAAAAAAAQM5m9gAAAAAAAAAA5hCMAQAAAAAAAKIEYwAAAAAAAIAowRgA\n",
       "AAAAAAAgSjAGAAAAAAAAiBKMAQAAAAAAAKIEYwAAAAAAAIAowRgAAAAAAAAgSjAGAAAAAAAAiBKM\n",
       "AQAAAAAAAKIEYwAAAAAAAIAowRgAAAAAAAAgSjAGAAAAAAAAiBKMAQAAAAAAAKIEYwAAAAAAAIAo\n",
       "wRgAAAAAAAAgSjAGAAAAAAAAiBKMAQAAAAAAAKIEYwAAAAAAAIAowRgAAAAAAAAgSjAGAAAAAAAA\n",
       "iBKMAQAAAAAAAKIEYwAAAAAAAIAowRgAAAAAAAAgSjAGAAAAAAAAiBKMAQAAAAAAAKIEYwAAAAAA\n",
       "AIAowRgAAAAAAAAgSjAGAAAAAAAAiBKMAQAAAAAAAKIEYwAAAAAAAIAowRgAAAAAAAAgSjAGAAAA\n",
       "AAAAiBKMAQAAAAAAAKIEYwAAAAAAAIAowRgAAAAAAAAgSjAGAAAAAAAAiBKMAQAAAAAAAKIEYwAA\n",
       "AAAAAIAowRgAAAAAAAAgSjAGAAAAAAAAiBKMAQAAAAAAAKIEYwAAAAAAAIAowRgAAAAAAAAgSjAG\n",
       "AAAAAAAAiBKMAQAAAAAAAKIEYwAAAAAAAIAowRgAAAAAAAAgSjAGAAAAAAAAiBKMAQAAAAAAAKIE\n",
       "YwAAAAAAAIAowRgAAAAAAAAgSjAGAAAAAAAAiBKMAQAAAAAAAKIEYwAAAAAAAIAowRgAAAAAAAAg\n",
       "SjAGAAAAAAAAiBKMAQAAAAAAAKIEYwAAAAAAAIAowRgAAAAAAAAgSjAGAAAAAAAAiBKMAQAAAAAA\n",
       "AKIEYwAAAAAAAIAowRgAAAAAAAAgSjAGAAAAAAAAiBKMAQAAAAAAAKIEYwAAAAAAAIAowRgAAAAA\n",
       "AAAgSjAGAAAAAAAAiBKMAQAAAAAAAKIEYwAAAAAAAIAowRgAAAAAAAAgSjAGAAAAAAAAiBKMAQAA\n",
       "AAAAAKIEYwAAAAAAAIAowRgAAAAAAAAgSjAGAAAAAAAAiBKMAQAAAAAAAKIEYwAAAAAAAIAowRgA\n",
       "AAAAAAAgSjAGAAAAAAAAiBKMAQAAAAAAAKIEYwAAAAAAAIAowRgAAAAAAAAgSjAGAAAAAAAAiBKM\n",
       "AQAAAAAAAKIEYwAAAAAAAIAowRgAAAAAAAAgSjAGAAAAAAAAiBKMAQAAAAAAAKIEYwAAAAAAAIAo\n",
       "wRgAAAAAAAAgSjAGAAAAAAAAiBKMAQAAAAAAAKIEYwAAAAAAAIAowRgAAAAAAAAgSjAGAAAAAAAA\n",
       "iBKMAQAAAAAAAKIEYwAAAAAAAIAowRgAAAAAAAAgSjAGAAAAAAAAiBKMAQAAAAAAAKIEYwAAAAAA\n",
       "AIAowRgAAAAAAAAgSjAGAAAAAAAAiBKMAQAAAAAAAKIEYwAAAAAAAICo3R9+8vvZGzjH7n9+bfaE\n",
       "Zf3m47/MnrC0H4/T2ROW9bPnZy9Y26/u/Gn2hGW9+ssPZ09Y2v6dN2ZPWNZXN380e8LS9s+8MnvC\n",
       "0rYXn509YVmbzeXZE5a22exmT1jX2M5esLRxwfkcMsaYPWFx3k0c5O7wXxgX3B++KXcH+D/zsXOQ\n",
       "X8oAAAAAAAAAUYIxAAAAAAAAQJRgDAAAAAAAABAlGAMAAAAAAABECcYAAAAAAAAAUYIxAAAAAAAA\n",
       "QJRgDAAAAAAAABAlGAMAAAAAAABECcYAAAAAAAAAUYIxAAAAAAAAQJRgDAAAAAAAABAlGAMAAAAA\n",
       "AABECcYAAAAAAAAAUYIxAAAAAAAAQJRgDAAAAAAAABAlGAMAAAAAAABECcYAAAAAAAAAUYIxAAAA\n",
       "AAAAQJRgDAAAAAAAABAlGAMAAAAAAABECcYAAAAAAAAAUYIxAAAAAAAAQJRgDAAAAAAAABAlGAMA\n",
       "AAAAAABECcYAAAAAAAAAUYIxAAAAAAAAQJRgDAAAAAAAABAlGAMAAAAAAABECcYAAAAAAAAAUYIx\n",
       "AAAAAAAAQJRgDAAAAAAAABAlGAMAAAAAAABECcYAAAAAAAAAUYIxAAAAAAAAQJRgDAAAAAAAABC1\n",
       "u//5tdkb4FvpwZcfzJ6wtPdOPp49YVkfPXh79oSlvf/p6ewJy/rpvbdmT1ja3Zv3Z09Y1q233589\n",
       "YWlXTn83e8LS9q+/MnvCsh69cGv2hKWdXX1p9oRl7S9/b/aEpY3dldkTlrXdXJw9YWlj89TsCcsa\n",
       "Yzt7wuLG7AFrG94kHTLcna/h7hwyhrtznPM5yN05auydzyE+kQEAAAAAAACiBGMAAAAAAACAKMEY\n",
       "AAAAAAAAIEowBgAAAAAAAIgSjAEAAAAAAACiBGMAAAAAAACAKMEYAAAAAAAAIEowBgAAAAAAAIgS\n",
       "jAEAAAAAAACiBGMAAAAAAACAKMEYAAAAAAAAIEowBgAAAAAAAIgSjAEAAAAAAACiBGMAAAAAAACA\n",
       "KMEYAAAAAAAAIEowBgAAAAAAAIgSjAEAAAAAAACiBGMAAAAAAACAKMEYAAAAAAAAIEowBgAAAAAA\n",
       "AIgSjAEAAAAAAACiBGMAAAAAAACAKMEYAAAAAAAAIEowBgAAAAAAAIgSjAEAAAAAAACiBGMAAAAA\n",
       "AACAKMEYAAAAAAAAIEowBgAAAAAAAIgSjAEAAAAAAACiBGMAAAAAAACAKMEYAAAAAAAAIEowBgAA\n",
       "AAAAAIgSjAEAAAAAAACiBGMAAAAAAACAKMEYAAAAAAAAIGo3ewAQtX8ye8Gy/nXhi9kTlvbJ2T9n\n",
       "T1jWh39/ZvaEpX328NbsCcu68+kLsycs7a0//3X2hKXdfPX+7AnLunr7vdkTlra9fWX2hGU9evn2\n",
       "7AlLO7v20uwJyzq7dH32hLWdXJ29YF27p2cvWNpmc3H2hKWN4V/Mh4yxnT1hac7nmDF7wNLG8Bby\n",
       "MHfnmDGczyH+qgAAAAAAAACiBGMAAAAAAACAKMEYAAAAAAAAIEowBgAAAAAAAIgSjAEAAAAAAACi\n",
       "BGMAAAAAAACAKMEYAAAAAAAAIEowBgAAAAAAAIgSjAEAAAAAAACiBGMAAAAAAACAKMEYAAAAAAAA\n",
       "IEowBgAAAAAAAIgSjAEAAAAAAACiBGMAAAAAAACAKMEYAAAAAAAAIEowBgAAAAAAAIgSjAEAAAAA\n",
       "AACiBGMAAAAAAACAKMEYAAAAAAAAIEowBgAAAAAAAIgSjAEAAAAAAACiBGMAAAAAAACAKMEYAAAA\n",
       "AAAAIEowBgAAAAAAAIgSjAEAAAAAAACiBGMAAAAAAACAKMEYAAAAAAAAIEowBgAAAAAAAIgSjAEA\n",
       "AAAAAACiBGMAAAAAAACAKMEYAAAAAAAAIEowBgAAAAAAAIgSjAEAAAAAAACiBGMAAAAAAACAqN3s\n",
       "AZxvv7737uwJy7p88v3ZE5Z24+TN2ROWdWf/2uwJSzu9vp09YVmnz34xe8LSbj/3t9kTlvX8iw9m\n",
       "T1ja1Rc/mz1haRdv/GP2hGVtf+A765jHN/xePuTJd67PnrC27cnsBevaP5m9YG1n/569YF37x7MX\n",
       "LO3J5uHsCWvbPDV7wbKGszlqDHniEGdz3BjeQh4yvBM9aj/G7AnLcnMAAAAAAAAAogRjAAAAAAAA\n",
       "gCjBGAAAAAAAACBKMAYAAAAAAACIEowBAAAAAAAAogRjAAAAAAAAgCjBGAAAAAAAACBKMAYAAAAA\n",
       "AACIEowBAAAAAAAAogRjAAAAAAAAgCjBGAAAAAAAACBKMAYAAAAAAACIEowBAAAAAAAAogRjAAAA\n",
       "AAAAgCjBGAAAAAAAACBKMAYAAAAAAACIEowBAAAAAAAAogRjAAAAAAAAgCjBGAAAAAAAACBKMAYA\n",
       "AAAAAACIEowBAAAAAAAAogRjAAAAAAAAgCjBGAAAAAAAACBKMAYAAAAAAACIEowBAAAAAAAAogRj\n",
       "AAAAAAAAgCjBGAAAAAAAACBKMAYAAAAAAACIEowBAAAAAAAAogRjAAAAAAAAgCjBGAAAAAAAACBK\n",
       "MAYAAAAAAACIEowBAAAAAAAAogRjAAAAAAAAgCjBGAAAAAAAACBqd+PpL2dv4Bx7+crPZ09Y1jvb\n",
       "N2ZPWNrd5x7NnrCsX7x+b/aEpb1294+zJyxrd3p59oSlnf3Q5/IhZ9fenD1haftL3509YWkPT67M\n",
       "nrCu7aXZC5Y2xm72hGWNjbM5ZnNhO3vCuoZ3AccM53PEmD1gae7O13F/DnM2x4zhfPim3J3DnM1x\n",
       "zucQv3YAAAAAAAAAogRjAAAAAAAAgCjBGAAAAAAAACBKMAYAAAAAAACIEowBAAAAAAAAogRjAAAA\n",
       "AAAAgCjBGAAAAAAAACBKMAYAAAAAAACIEowBAAAAAAAAogRjAAAAAAAAgCjBGAAAAAAAACBKMAYA\n",
       "AAAAAACIEowBAAAAAAAAogRjAAAAAAAAgCjBGAAAAAAAACBKMAYAAAAAAACIEowBAAAAAAAAogRj\n",
       "AAAAAAAAgCjBGAAAAAAAACBKMAYAAAAAAACIEowBAAAAAAAAogRjAAAAAAAAgCjBGAAAAAAAACBK\n",
       "MAYAAAAAAACIEowBAAAAAAAAogRjAAAAAAAAgCjBGAAAAAAAACBKMAYAAAAAAACIEowBAAAAAAAA\n",
       "ogRjAAAAAAAAgCjBGAAAAAAAACBKMAYAAAAAAACIEowBAAAAAAAAogRjAAAAAAAAgCjBGAAAAAAA\n",
       "ACBqfPX43f3sEZxfY/aApTkdAPh28J0OwDnhKwuYwocPAJx3XhgDAAAAAAAARAnGAAAAAAAAAFGC\n",
       "MQAAAAAAAECUYAwAAAAAAAAQJRgDAAAAAAAARAnGAAAAAAAAAFGCMQAAAAAAAECUYAwAAAAAAAAQ\n",
       "JRgDAAAAAAAARAnGAAAAAAAAAFGCMQAAAAAAAECUYAwAAAAAAAAQJRgDAAAAAAAARAnGAAAAAAAA\n",
       "AFGCMQAAAAAAAECUYAwAAAAAAAAQJRgDAAAAAAAARAnGAAAAAAAAAFGCMQAAAAAAAECUYAwAAAAA\n",
       "AAAQJRgDAAAAAAAARAnGAAAAAAAAAFGCMQAAAAAAAECUYAwAAAAAAAAQJRgDAAAAAAAARAnGAAAA\n",
       "AAAAAFGCMQAAAAAAAECUYAwAAAAAAAAQJRgDAAAAAAAARAnGAAAAAAAAAFGCMQAAAAAAAECUYAwA\n",
       "AAAAAAAQJRgDAAAAAAAARAnGAAAAAAAAAFGCMQAAAAAAAEDUbozt7A0AAMC5NWYP4JxycwAAAGAN\n",
       "XhgDAAAAAAAARAnGAAAAAAAAAFGCMQAAAAAAAECUYAwAAAAAAAAQJRgDAAAAAAAARAnGAAAAAAAA\n",
       "AFGCMQAAAAAAAECUYAwAAAAAAAAQJRgDAAAAAAAARAnGAAAAAAAAAFGCMQAAAAAAAECUYAwAAAAA\n",
       "AAAQJRgDAAAAAAAARAnGAAAAAAAAAFGCMQAAAAAAAECUYAwAAAAAAAAQJRgDAAAAAAAARAnGAAAA\n",
       "AAAAAFGCMQAAAAAAAECUYAwAAAAAAAAQJRgDAAAAAAAARAnGAAAAAAAAAFGCMQAAAAAAAECUYAwA\n",
       "AAAAAAAQJRgDAAAAAAAARAnGAAAAAAAAAFGCMQAAAAAAAECUYAwAAAAAAAAQJRgDAAAAAAAARAnG\n",
       "AAAAAAAAAFGCMQAAAAAAAECUYAwAAAAAAAAQJRgDAAAAAAAARAnGAAAAAAAAAFGCMQAAAAAAAEDU\n",
       "bvYAAOB/ZcwesDSnAwAAAABl/kN4iBfGAAAAAAAAAFGCMQAAAAAAAECUYAwAAAAAAAAQJRgDAAAA\n",
       "AAAARAnGAAAAAAAAAFGCMQAAAAAAAECUYAwAAAAAAAAQJRgDAAAAAAAARAnGAAAAAAAAAFGCMQAA\n",
       "AAAAAECUYAwAAAAAAAAQJRgDAAAAAAAARAnGAAAAAAAAAFGCMQAAAAAAAECUYAwAAAAAAAAQJRgD\n",
       "AAAAAAAARAnGAAAAAAAAAFGCMQAAAAAAAECUYAwAAAAAAAAQJRgDAAAAAAAARAnGAAAAAAAAAFGC\n",
       "MQAAAAAAAECUYAwAAAAAAAAQJRgDAAAAAAAARAnGAAAAAAAAAFGCMQAAAAAAAECUYAwAAAAAAAAQ\n",
       "JRgDAAAAAAAARAnGAAAAAAAAAFGCMQAAAAAAAECUYAwAAAAAAAAQJRgDAAAAAAAARAnGAAAAAAAA\n",
       "AFGCMQAAAAAAAEDUfwDYiF79GJ/dogAAAABJRU5ErkJggg==\n",
       "\" transform=\"translate(149, 579)\"/>\n",
       "</g>\n",
       "<defs>\n",
       "  <clipPath id=\"clip6604\">\n",
       "    <rect x=\"2129\" y=\"578\" width=\"73\" height=\"395\"/>\n",
       "  </clipPath>\n",
       "</defs>\n",
       "<g clip-path=\"url(#clip6604)\">\n",
       "<image width=\"72\" height=\"394\" xlink:href=\"data:image/png;base64,\n",
       "iVBORw0KGgoAAAANSUhEUgAAAEgAAAGKCAYAAACvugdMAAAEEElEQVR4nO3dwbEjNwxAQcqF/KNw\n",
       "lvaSjsB4R+nQHYGKhQfOSL92P//ev9/hf/317Q/w6+a+f7/9GX6aCQrzTNBq3nVAG4kFiQUHFCQW\n",
       "TFBwiwWJBYkFBxQkFuZY0isHFCQW5ljSKxMU7KDggILEwpz7z7c/w09ziwWJBUs6OKAgsTCf9+fb\n",
       "n+GnzbkOaCOxMB8TtJJYkFiY4xZb2UFBYsGSDiYo2EFBYkFiYT73fvsz/DSJBYkFExRc80FiYY5b\n",
       "bCWxILHgFgsOKEgseBcLrvkgsWBJBxMU7KDggILEgueg4BYLEguWdHBAQWLBBIU5178SuJFYmPMk\n",
       "trGDgsSCJR0kFiQWTFAwQcGSDhILEgtzDNDKAQWJhfEyv5NYkFgwQcEBBYmFOV7FVvPu59uf4adJ\n",
       "LFjSYY7EVhIL854J2pigYAcFBxQkFizpILEgsTDnOqONHRSMT7Ckgy/MgsTCnOeMNhILxieYoOBJ\n",
       "Ojid4FUjmKDgVSPMs6RXTidY0sEOChILlnSwg4LxCd7mwzzfKK6cTvAcFOygILHgOSh4kg5OJ0gs\n",
       "mKDgmg8SCxILrvkgsWB8glssSCxILLjFgsSC8QkmKDigILHgQTHM9cvqyukESzqYoGBJB4kFiQUT\n",
       "FBxQkFgwQWGuA1pJLEgsOKAgsWCCggMKEgsmKHhQDBILEgsmKJig4IfD4HSCxILnoCCxILEgsSCx\n",
       "ILHggILEgiUd5h0HtJFYkFhwiwWJhbn+p96VCQp2UHCLBYmFuZ6kV3ZQkFiwpIPEgsTC3G9/gh8n\n",
       "sSCx4BYLvpMOEgsSCyYo+Mo1WNJBYsGTdPAuFiQWJBYkFiQWJBa8iwWJhfEqtpNYkFiQWJBYkFiQ\n",
       "WDBBwQ4KvrQPEgt+1QgSCxIL/k46zJPYSmLBg2LwLhYkFjwHBdd8kFjwHBT88UKQWPCgGExQsKSD\n",
       "JR0kFiQWvGoEiQVv88EXZkFiQWLBAQWJBX+8ECQWJBY8BwWJBYkFExRMULCkg8SCxIJfNYIv7YPE\n",
       "giUdXPNBYkFiYd5xQhuJBYkFt1iQWJBYkFiQWJBYMEHB90FhrleNlcSCxILEgsSCn33CPEtoJbEg\n",
       "seBdLEgs+FUjSCxILHjVCHZQkFiQWDBBwQSFud7mVxILrvlgBwWJBRMUHFCQWJh3fCu9kViQWJj7\n",
       "kdhmrh20klgwQcE1HyQW5n48B21MULCkgwMKEguu+TD3/Pn2Z/hpEguWdJgnsZXEgsSCAwoSC5Z0\n",
       "kFiQWJBY8LIaJBbmPhO0MUHBDgrzJLaSWJBY8KAYJBY8BwU7KEgseA4KbrEgsSCx4BYLEgsSC26x\n",
       "ILEgsWCCgms+zHuW9EZiQWJhjn8eZyWxMEdiKw+KQWJBYsE1HyQW5ljSK4kFiQW3WPgPSFToI7dW\n",
       "fGQAAAAASUVORK5CYII=\n",
       "\" transform=\"translate(2129, 579)\"/>\n",
       "</g>\n",
       "<g clip-path=\"url(#clip6601)\">\n",
       "<text style=\"fill:#000000; fill-opacity:1; font-family:Arial,Helvetica Neue,Helvetica,sans-serif; font-size:48px; text-anchor:start;\" transform=\"rotate(0, 2237.26, 936.945)\" x=\"2237.26\" y=\"936.945\">-</text>\n",
       "</g>\n",
       "<g clip-path=\"url(#clip6601)\">\n",
       "<text style=\"fill:#000000; fill-opacity:1; font-family:Arial,Helvetica Neue,Helvetica,sans-serif; font-size:48px; text-anchor:start;\" transform=\"rotate(0, 2265.37, 936.945)\" x=\"2265.37\" y=\"936.945\">1000</text>\n",
       "</g>\n",
       "<g clip-path=\"url(#clip6601)\">\n",
       "<text style=\"fill:#000000; fill-opacity:1; font-family:Arial,Helvetica Neue,Helvetica,sans-serif; font-size:48px; text-anchor:start;\" transform=\"rotate(0, 2237.26, 865.132)\" x=\"2237.26\" y=\"865.132\">-</text>\n",
       "</g>\n",
       "<g clip-path=\"url(#clip6601)\">\n",
       "<text style=\"fill:#000000; fill-opacity:1; font-family:Arial,Helvetica Neue,Helvetica,sans-serif; font-size:48px; text-anchor:start;\" transform=\"rotate(0, 2265.37, 865.132)\" x=\"2265.37\" y=\"865.132\">750</text>\n",
       "</g>\n",
       "<g clip-path=\"url(#clip6601)\">\n",
       "<text style=\"fill:#000000; fill-opacity:1; font-family:Arial,Helvetica Neue,Helvetica,sans-serif; font-size:48px; text-anchor:start;\" transform=\"rotate(0, 2237.26, 793.318)\" x=\"2237.26\" y=\"793.318\">-</text>\n",
       "</g>\n",
       "<g clip-path=\"url(#clip6601)\">\n",
       "<text style=\"fill:#000000; fill-opacity:1; font-family:Arial,Helvetica Neue,Helvetica,sans-serif; font-size:48px; text-anchor:start;\" transform=\"rotate(0, 2265.37, 793.318)\" x=\"2265.37\" y=\"793.318\">500</text>\n",
       "</g>\n",
       "<g clip-path=\"url(#clip6601)\">\n",
       "<text style=\"fill:#000000; fill-opacity:1; font-family:Arial,Helvetica Neue,Helvetica,sans-serif; font-size:48px; text-anchor:start;\" transform=\"rotate(0, 2237.26, 721.505)\" x=\"2237.26\" y=\"721.505\">-</text>\n",
       "</g>\n",
       "<g clip-path=\"url(#clip6601)\">\n",
       "<text style=\"fill:#000000; fill-opacity:1; font-family:Arial,Helvetica Neue,Helvetica,sans-serif; font-size:48px; text-anchor:start;\" transform=\"rotate(0, 2265.37, 721.505)\" x=\"2265.37\" y=\"721.505\">250</text>\n",
       "</g>\n",
       "<g clip-path=\"url(#clip6601)\">\n",
       "<text style=\"fill:#000000; fill-opacity:1; font-family:Arial,Helvetica Neue,Helvetica,sans-serif; font-size:48px; text-anchor:start;\" transform=\"rotate(0, 2237.26, 649.692)\" x=\"2237.26\" y=\"649.692\">0</text>\n",
       "</g>\n",
       "<polyline clip-path=\"url(#clip6601)\" style=\"stroke:#000000; stroke-width:4; stroke-opacity:1; fill:none\" points=\"\n",
       "  2201.26,972.127 2201.26,923.294 2225.26,923.294 2201.26,923.294 2201.26,851.481 2225.26,851.481 2201.26,851.481 2201.26,779.667 2225.26,779.667 2201.26,779.667 \n",
       "  2201.26,707.854 2225.26,707.854 2201.26,707.854 2201.26,636.041 2225.26,636.041 2201.26,636.041 2201.26,578.592 \n",
       "  \"/>\n",
       "<g clip-path=\"url(#clip6601)\">\n",
       "<text style=\"fill:#000000; fill-opacity:1; font-family:Arial,Helvetica Neue,Helvetica,sans-serif; font-size:66px; text-anchor:middle;\" transform=\"rotate(-90, 2378.86, 775.359)\" x=\"2378.86\" y=\"775.359\"></text>\n",
       "</g>\n",
       "</svg>\n"
      ]
     },
     "execution_count": 17,
     "metadata": {},
     "output_type": "execute_result"
    }
   ],
   "source": [
    "# visualize value function\n",
    "value_grid = zeros(Float64, length(pomdp.T_RANGE), length(pomdp.S_RANGE))\n",
    "# @manipulate for ego_v in pomdp.EGO_V_RANGE\n",
    "   ego_v = 50.0\n",
    "#     @manipulate for ped_v in pomdp.PED_V_RANGE\n",
    "   ped_v = 0.0\n",
    "        for i=1:length(pomdp.T_RANGE)\n",
    "            ped_t = pomdp.T_RANGE[i]\n",
    "            for j=1:length(pomdp.S_RANGE)\n",
    "                ped_s = pomdp.S_RANGE[j]\n",
    "                b = SparseCat([SingleOCFState(0.0, ego_v, ped_s, ped_t, pomdp.PED_THETA_RANGE[1], ped_v)],[1.])\n",
    "                val = maximum(PedestrianAvoidancePOMDP.action_values(qmdp_policy, b) )\n",
    "                value_grid[i,j] = val\n",
    "            end\n",
    "        end\n",
    "        xs = [pomdp.S_RANGE[i] for i = 1:length(pomdp.S_RANGE)]\n",
    "        ys = [pomdp.T_RANGE[i] for i = 1:length(pomdp.T_RANGE)]\n",
    "        heatmap(xs,ys,value_grid,aspect_ratio=1)\n",
    "#     end\n",
    "# end"
   ]
  },
  {
   "cell_type": "code",
   "execution_count": 33,
   "metadata": {},
   "outputs": [
    {
     "name": "stdout",
     "output_type": "stream",
     "text": [
      "[0.0, 0.0]\n"
     ]
    },
    {
     "data": {
      "text/plain": [
       "5-element Array{Float64,1}:\n",
       " 119.62642569538991\n",
       " 121.62642569538991\n",
       " 116.52130641815721\n",
       " 119.30681732322287\n",
       " 104.2855685664035 "
      ]
     },
     "execution_count": 33,
     "metadata": {},
     "output_type": "execute_result"
    }
   ],
   "source": [
    "b = SparseCat([SingleOCFState(0.0, 18.0, -10.0, -10.0, pomdp.PED_THETA_RANGE[1], 0.0)],[1.])\n",
    "act = action(qmdp_policy, b) \n",
    "println(act)\n",
    "PedestrianAvoidancePOMDP.action_values(qmdp_policy, b)"
   ]
  },
  {
   "cell_type": "code",
   "execution_count": null,
   "metadata": {
    "scrolled": false
   },
   "outputs": [],
   "source": [
    "using Interact\n",
    "using Plots\n",
    "gr()\n",
    "\n",
    "policy_grid = zeros(Float64, length(pomdp.T_RANGE), length(pomdp.S_RANGE))\n",
    "\n",
    "@manipulate for ego_v in pomdp.EGO_V_RANGE\n",
    "    @manipulate for ped_v in pomdp.PED_V_RANGE\n",
    "\n",
    "        for i=1:length(pomdp.T_RANGE)\n",
    "            ped_t = pomdp.T_RANGE[i]\n",
    "            for j=1:length(pomdp.S_RANGE)\n",
    "                ped_s = pomdp.S_RANGE[j]\n",
    "                b = SparseCat([SingleOCFState(0.0, ego_v, ped_s, ped_t, 1.57, ped_v)],[1.])\n",
    "                act = action(qmdp_policy, b) \n",
    "              #  println(ped_s, \"/\", ped_t, \" act: \", act.acc)\n",
    "                policy_grid[i,j] = act.lateral_movement\n",
    "            end\n",
    "        end\n",
    "\n",
    "        xs = [pomdp.S_RANGE[i] for i = 1:length(pomdp.S_RANGE)]\n",
    "        ys = [pomdp.T_RANGE[i] for i = 1:length(pomdp.T_RANGE)]\n",
    "        heatmap(xs,ys,policy_grid,aspect_ratio=1)\n",
    "    end\n",
    "end\n"
   ]
  },
  {
   "cell_type": "code",
   "execution_count": 24,
   "metadata": {},
   "outputs": [
    {
     "name": "stdout",
     "output_type": "stream",
     "text": [
      "[1.0, 0.0]\n",
      "[0.0, 0.0]\n",
      "[-1.0, 0.0]\n",
      "[-2.0, 0.0]\n",
      "[-4.0, 0.0]\n",
      "0\n"
     ]
    }
   ],
   "source": [
    "# Test action space\n",
    "cnt = 0\n",
    "for (index, a) in enumerate(pomdp.action_space)\n",
    "    idx = actionindex(pomdp,a)\n",
    "    if (idx != index)\n",
    "        println(\"error\")\n",
    "        cnt = cnt + 1\n",
    "    end\n",
    "    println(a)\n",
    "end\n",
    "println(cnt)\n"
   ]
  },
  {
   "cell_type": "code",
   "execution_count": null,
   "metadata": {},
   "outputs": [],
   "source": [
    "b = SingleOCFBelief([SingleOCFState(0.0, 5.0, 50.0, 3.0, 1.57, 0.0)], [1.0])\n",
    "act = action(qmdp_policy, b) # policy\n",
    "println(act)\n",
    "PedestrianAvoidancePOMDP.action_values(qmdp_policy,b)\n",
    "vi_policy.util[18223]"
   ]
  },
  {
   "cell_type": "code",
   "execution_count": 136,
   "metadata": {},
   "outputs": [
    {
     "name": "stdout",
     "output_type": "stream",
     "text": [
      "reward: 10.0"
     ]
    },
    {
     "data": {
      "text/plain": [
       "2-element SingleOCFAction:\n",
       " -2.0\n",
       "  0.0"
      ]
     },
     "execution_count": 136,
     "metadata": {},
     "output_type": "execute_result"
    }
   ],
   "source": [
    "using PedestrianAvoidancePOMDP\n",
    "\n",
    "s = SingleOCFState(0.0, 14, 50.0, -3.0, 1.57, 0.0)\n",
    "sp = SingleOCFState(0.0, 14., 50.0, 0.0, 1.57, 0.0)\n",
    "act = SingleOCFAction(0.0, 0.0)\n",
    "print(\"reward: \", reward(pomdp, s, act, sp))\n",
    "\n",
    "b = SparseCat([sp],[1.])\n",
    "act = action(qmdp_policy, b) \n"
   ]
  }
 ],
 "metadata": {
  "@webio": {
   "lastCommId": "037f1a21e2af43438728f2d8570af49b",
   "lastKernelId": "842fc753-aef0-40d4-8d9d-a53ec7a6bf47"
  },
  "kernelspec": {
   "display_name": "Julia 1.0.2",
   "language": "julia",
   "name": "julia-1.0"
  },
  "language_info": {
   "file_extension": ".jl",
   "mimetype": "application/julia",
   "name": "julia",
   "version": "1.0.2"
  }
 },
 "nbformat": 4,
 "nbformat_minor": 2
}
