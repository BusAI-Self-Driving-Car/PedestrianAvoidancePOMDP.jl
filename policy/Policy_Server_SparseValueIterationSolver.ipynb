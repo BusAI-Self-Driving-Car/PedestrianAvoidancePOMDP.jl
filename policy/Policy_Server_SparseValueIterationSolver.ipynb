{
 "cells": [
  {
   "cell_type": "code",
   "execution_count": 8,
   "metadata": {},
   "outputs": [],
   "source": [
    "using POMDPs\n",
    "using GridInterpolations \n",
    "using POMDPModelTools\n",
    "using POMDPPolicies\n",
    "using Parameters\n",
    "using StaticArrays\n",
    "using DiscreteValueIteration \n",
    "using Distributed\n",
    "using AutomotiveDrivingModels\n",
    "using AutoViz\n",
    "using AutomotiveSensors\n",
    "using AutomotivePOMDPs\n",
    "using PedestrianAvoidancePOMDP\n",
    "\n",
    "using FileIO\n",
    "using JLD2\n",
    "\n",
    "using Interact\n",
    "using Plots\n",
    "using PGFPlots"
   ]
  },
  {
   "cell_type": "code",
   "execution_count": 10,
   "metadata": {},
   "outputs": [
    {
     "name": "stderr",
     "output_type": "stream",
     "text": [
      "┌ Info: residual: 864.065851946032, time: 0.6564831, total time: 0.6564831 \n",
      "│   i = 1\n",
      "└ @ DiscreteValueIteration C:\\Users\\Maxime\\.julia\\packages\\DiscreteValueIteration\\EoTHI\\src\\sparse.jl:75\n",
      "┌ Info: residual: 777.3110946949732, time: 0.8815554, total time: 1.5380384999999999 \n",
      "│   i = 2\n",
      "└ @ DiscreteValueIteration C:\\Users\\Maxime\\.julia\\packages\\DiscreteValueIteration\\EoTHI\\src\\sparse.jl:75\n",
      "┌ Info: residual: 725.5672900968818, time: 0.169747699, total time: 1.7077861989999998 \n",
      "│   i = 3\n",
      "└ @ DiscreteValueIteration C:\\Users\\Maxime\\.julia\\packages\\DiscreteValueIteration\\EoTHI\\src\\sparse.jl:75\n",
      "┌ Info: residual: 671.5102565229716, time: 0.1837083, total time: 1.8914944989999998 \n",
      "│   i = 4\n",
      "└ @ DiscreteValueIteration C:\\Users\\Maxime\\.julia\\packages\\DiscreteValueIteration\\EoTHI\\src\\sparse.jl:75\n",
      "┌ Info: residual: 590.5842489072467, time: 0.14228, total time: 2.0337744989999997 \n",
      "│   i = 5\n",
      "└ @ DiscreteValueIteration C:\\Users\\Maxime\\.julia\\packages\\DiscreteValueIteration\\EoTHI\\src\\sparse.jl:75\n",
      "┌ Info: residual: 504.65033077364285, time: 0.143504801, total time: 2.1772793 \n",
      "│   i = 6\n",
      "└ @ DiscreteValueIteration C:\\Users\\Maxime\\.julia\\packages\\DiscreteValueIteration\\EoTHI\\src\\sparse.jl:75\n",
      "┌ Info: residual: 411.08624279884464, time: 0.2453141, total time: 2.4225934 \n",
      "│   i = 7\n",
      "└ @ DiscreteValueIteration C:\\Users\\Maxime\\.julia\\packages\\DiscreteValueIteration\\EoTHI\\src\\sparse.jl:75\n",
      "┌ Info: residual: 320.12807177200654, time: 0.152605001, total time: 2.5751984009999997 \n",
      "│   i = 8\n",
      "└ @ DiscreteValueIteration C:\\Users\\Maxime\\.julia\\packages\\DiscreteValueIteration\\EoTHI\\src\\sparse.jl:75\n",
      "┌ Info: residual: 248.42280986664488, time: 0.1546019, total time: 2.7298003009999996 \n",
      "│   i = 9\n",
      "└ @ DiscreteValueIteration C:\\Users\\Maxime\\.julia\\packages\\DiscreteValueIteration\\EoTHI\\src\\sparse.jl:75\n",
      "┌ Info: residual: 179.77263408598046, time: 0.153295, total time: 2.8830953009999996 \n",
      "│   i = 10\n",
      "└ @ DiscreteValueIteration C:\\Users\\Maxime\\.julia\\packages\\DiscreteValueIteration\\EoTHI\\src\\sparse.jl:75\n",
      "┌ Info: residual: 122.91111156496235, time: 0.124454999, total time: 3.0075502999999997 \n",
      "│   i = 11\n",
      "└ @ DiscreteValueIteration C:\\Users\\Maxime\\.julia\\packages\\DiscreteValueIteration\\EoTHI\\src\\sparse.jl:75\n",
      "┌ Info: residual: 83.73511101945104, time: 0.137596001, total time: 3.1451463009999996 \n",
      "│   i = 12\n",
      "└ @ DiscreteValueIteration C:\\Users\\Maxime\\.julia\\packages\\DiscreteValueIteration\\EoTHI\\src\\sparse.jl:75\n",
      "┌ Info: residual: 53.335999888721496, time: 0.222758201, total time: 3.3679045019999996 \n",
      "│   i = 13\n",
      "└ @ DiscreteValueIteration C:\\Users\\Maxime\\.julia\\packages\\DiscreteValueIteration\\EoTHI\\src\\sparse.jl:75\n",
      "┌ Info: residual: 37.839987764013415, time: 0.1307473, total time: 3.4986518019999995 \n",
      "│   i = 14\n",
      "└ @ DiscreteValueIteration C:\\Users\\Maxime\\.julia\\packages\\DiscreteValueIteration\\EoTHI\\src\\sparse.jl:75\n",
      "┌ Info: residual: 35.121808041216354, time: 0.132648099, total time: 3.6312999009999993 \n",
      "│   i = 15\n",
      "└ @ DiscreteValueIteration C:\\Users\\Maxime\\.julia\\packages\\DiscreteValueIteration\\EoTHI\\src\\sparse.jl:75\n",
      "┌ Info: residual: 32.16522389448019, time: 0.122224, total time: 3.7535239009999994 \n",
      "│   i = 16\n",
      "└ @ DiscreteValueIteration C:\\Users\\Maxime\\.julia\\packages\\DiscreteValueIteration\\EoTHI\\src\\sparse.jl:75\n",
      "┌ Info: residual: 29.8246046245782, time: 0.223373101, total time: 3.9768970019999994 \n",
      "│   i = 17\n",
      "└ @ DiscreteValueIteration C:\\Users\\Maxime\\.julia\\packages\\DiscreteValueIteration\\EoTHI\\src\\sparse.jl:75\n",
      "┌ Info: residual: 27.395196159901616, time: 0.2625486, total time: 4.239445601999999 \n",
      "│   i = 18\n",
      "└ @ DiscreteValueIteration C:\\Users\\Maxime\\.julia\\packages\\DiscreteValueIteration\\EoTHI\\src\\sparse.jl:75\n",
      "┌ Info: residual: 25.79674594721638, time: 0.1633668, total time: 4.4028124019999995 \n",
      "│   i = 19\n",
      "└ @ DiscreteValueIteration C:\\Users\\Maxime\\.julia\\packages\\DiscreteValueIteration\\EoTHI\\src\\sparse.jl:75\n",
      "┌ Info: residual: 24.187246161133146, time: 0.1701339, total time: 4.572946301999999 \n",
      "│   i = 20\n",
      "└ @ DiscreteValueIteration C:\\Users\\Maxime\\.julia\\packages\\DiscreteValueIteration\\EoTHI\\src\\sparse.jl:75\n",
      "┌ Info: residual: 22.585274232322604, time: 0.170117101, total time: 4.743063402999999 \n",
      "│   i = 21\n",
      "└ @ DiscreteValueIteration C:\\Users\\Maxime\\.julia\\packages\\DiscreteValueIteration\\EoTHI\\src\\sparse.jl:75\n",
      "┌ Info: residual: 21.009498814197286, time: 0.2193392, total time: 4.962402602999999 \n",
      "│   i = 22\n",
      "└ @ DiscreteValueIteration C:\\Users\\Maxime\\.julia\\packages\\DiscreteValueIteration\\EoTHI\\src\\sparse.jl:75\n",
      "┌ Info: residual: 19.47807886488556, time: 0.2843508, total time: 5.246753403 \n",
      "│   i = 23\n",
      "└ @ DiscreteValueIteration C:\\Users\\Maxime\\.julia\\packages\\DiscreteValueIteration\\EoTHI\\src\\sparse.jl:75\n",
      "┌ Info: residual: 17.997621409157432, time: 0.216374299, total time: 5.4631277019999995 \n",
      "│   i = 24\n",
      "└ @ DiscreteValueIteration C:\\Users\\Maxime\\.julia\\packages\\DiscreteValueIteration\\EoTHI\\src\\sparse.jl:75\n",
      "┌ Info: residual: 7.539830795801549, time: 0.1633056, total time: 5.626433302 \n",
      "│   i = 25\n",
      "└ @ DiscreteValueIteration C:\\Users\\Maxime\\.julia\\packages\\DiscreteValueIteration\\EoTHI\\src\\sparse.jl:75\n",
      "┌ Info: residual: 5.547791462436749, time: 0.154145001, total time: 5.7805783029999995 \n",
      "│   i = 26\n",
      "└ @ DiscreteValueIteration C:\\Users\\Maxime\\.julia\\packages\\DiscreteValueIteration\\EoTHI\\src\\sparse.jl:75\n",
      "┌ Info: residual: 5.27040188931494, time: 0.161341799, total time: 5.941920101999999 \n",
      "│   i = 27\n",
      "└ @ DiscreteValueIteration C:\\Users\\Maxime\\.julia\\packages\\DiscreteValueIteration\\EoTHI\\src\\sparse.jl:75\n",
      "┌ Info: residual: 5.006881794849164, time: 0.223737101, total time: 6.165657202999999 \n",
      "│   i = 28\n",
      "└ @ DiscreteValueIteration C:\\Users\\Maxime\\.julia\\packages\\DiscreteValueIteration\\EoTHI\\src\\sparse.jl:75\n",
      "┌ Info: residual: 4.756537705106723, time: 0.155972999, total time: 6.321630202 \n",
      "│   i = 29\n",
      "└ @ DiscreteValueIteration C:\\Users\\Maxime\\.julia\\packages\\DiscreteValueIteration\\EoTHI\\src\\sparse.jl:75\n",
      "┌ Info: residual: 4.518710819851435, time: 0.1585624, total time: 6.480192602 \n",
      "│   i = 30\n",
      "└ @ DiscreteValueIteration C:\\Users\\Maxime\\.julia\\packages\\DiscreteValueIteration\\EoTHI\\src\\sparse.jl:75\n",
      "┌ Info: residual: 4.292775278858869, time: 0.1942197, total time: 6.6744123019999995 \n",
      "│   i = 31\n",
      "└ @ DiscreteValueIteration C:\\Users\\Maxime\\.julia\\packages\\DiscreteValueIteration\\EoTHI\\src\\sparse.jl:75\n",
      "┌ Info: residual: 4.0781365149159114, time: 0.158047299, total time: 6.832459600999999 \n",
      "│   i = 32\n",
      "└ @ DiscreteValueIteration C:\\Users\\Maxime\\.julia\\packages\\DiscreteValueIteration\\EoTHI\\src\\sparse.jl:75\n",
      "┌ Info: residual: 3.874229689170079, time: 0.1564409, total time: 6.988900500999999 \n",
      "│   i = 33\n",
      "└ @ DiscreteValueIteration C:\\Users\\Maxime\\.julia\\packages\\DiscreteValueIteration\\EoTHI\\src\\sparse.jl:75\n",
      "┌ Info: residual: 3.680518204711632, time: 0.3181201, total time: 7.307020600999999 \n",
      "│   i = 34\n",
      "└ @ DiscreteValueIteration C:\\Users\\Maxime\\.julia\\packages\\DiscreteValueIteration\\EoTHI\\src\\sparse.jl:75\n",
      "┌ Info: residual: 3.4964922944760133, time: 0.2053166, total time: 7.5123372009999985 \n",
      "│   i = 35\n",
      "└ @ DiscreteValueIteration C:\\Users\\Maxime\\.julia\\packages\\DiscreteValueIteration\\EoTHI\\src\\sparse.jl:75\n",
      "┌ Info: residual: 3.321667679752238, time: 0.2244454, total time: 7.736782600999998 \n",
      "│   i = 36\n",
      "└ @ DiscreteValueIteration C:\\Users\\Maxime\\.julia\\packages\\DiscreteValueIteration\\EoTHI\\src\\sparse.jl:75\n",
      "┌ Info: residual: 3.1555842957646405, time: 0.257101, total time: 7.9938836009999985 \n",
      "│   i = 37\n",
      "└ @ DiscreteValueIteration C:\\Users\\Maxime\\.julia\\packages\\DiscreteValueIteration\\EoTHI\\src\\sparse.jl:75\n",
      "┌ Info: residual: 2.997805080976434, time: 0.2241151, total time: 8.217998700999999 \n",
      "│   i = 38\n",
      "└ @ DiscreteValueIteration C:\\Users\\Maxime\\.julia\\packages\\DiscreteValueIteration\\EoTHI\\src\\sparse.jl:75\n",
      "┌ Info: residual: 2.8479148269276493, time: 0.2364669, total time: 8.454465600999999 \n",
      "│   i = 39\n",
      "└ @ DiscreteValueIteration C:\\Users\\Maxime\\.julia\\packages\\DiscreteValueIteration\\EoTHI\\src\\sparse.jl:75\n",
      "┌ Info: residual: 2.7055190855812157, time: 0.1321311, total time: 8.586596701 \n",
      "│   i = 40\n",
      "└ @ DiscreteValueIteration C:\\Users\\Maxime\\.julia\\packages\\DiscreteValueIteration\\EoTHI\\src\\sparse.jl:75\n",
      "┌ Info: residual: 2.5702431313022203, time: 0.115067, total time: 8.701663701 \n",
      "│   i = 41\n",
      "└ @ DiscreteValueIteration C:\\Users\\Maxime\\.julia\\packages\\DiscreteValueIteration\\EoTHI\\src\\sparse.jl:75\n"
     ]
    },
    {
     "name": "stderr",
     "output_type": "stream",
     "text": [
      "┌ Info: residual: 2.4417309747370837, time: 0.124787899, total time: 8.826451599999999 \n",
      "│   i = 42\n",
      "└ @ DiscreteValueIteration C:\\Users\\Maxime\\.julia\\packages\\DiscreteValueIteration\\EoTHI\\src\\sparse.jl:75\n",
      "┌ Info: residual: 2.3196444260002522, time: 0.1323623, total time: 8.958813899999999 \n",
      "│   i = 43\n",
      "└ @ DiscreteValueIteration C:\\Users\\Maxime\\.julia\\packages\\DiscreteValueIteration\\EoTHI\\src\\sparse.jl:75\n",
      "┌ Info: residual: 2.2036622047002083, time: 0.2250949, total time: 9.1839088 \n",
      "│   i = 44\n",
      "└ @ DiscreteValueIteration C:\\Users\\Maxime\\.julia\\packages\\DiscreteValueIteration\\EoTHI\\src\\sparse.jl:75\n",
      "┌ Info: residual: 2.093479094465181, time: 0.1384992, total time: 9.322408 \n",
      "│   i = 45\n",
      "└ @ DiscreteValueIteration C:\\Users\\Maxime\\.julia\\packages\\DiscreteValueIteration\\EoTHI\\src\\sparse.jl:75\n",
      "┌ Info: residual: 1.9888051397419986, time: 0.1345547, total time: 9.4569627 \n",
      "│   i = 46\n",
      "└ @ DiscreteValueIteration C:\\Users\\Maxime\\.julia\\packages\\DiscreteValueIteration\\EoTHI\\src\\sparse.jl:75\n",
      "┌ Info: residual: 1.889364882754876, time: 0.117278599, total time: 9.574241299 \n",
      "│   i = 47\n",
      "└ @ DiscreteValueIteration C:\\Users\\Maxime\\.julia\\packages\\DiscreteValueIteration\\EoTHI\\src\\sparse.jl:75\n",
      "┌ Info: residual: 1.7948966386171037, time: 0.1029158, total time: 9.677157099 \n",
      "│   i = 48\n",
      "└ @ DiscreteValueIteration C:\\Users\\Maxime\\.julia\\packages\\DiscreteValueIteration\\EoTHI\\src\\sparse.jl:75\n",
      "┌ Info: residual: 1.705151806686331, time: 0.203505301, total time: 9.8806624 \n",
      "│   i = 49\n",
      "└ @ DiscreteValueIteration C:\\Users\\Maxime\\.julia\\packages\\DiscreteValueIteration\\EoTHI\\src\\sparse.jl:75\n",
      "┌ Info: residual: 1.6198942163520087, time: 0.192187601, total time: 10.072850001 \n",
      "│   i = 50\n",
      "└ @ DiscreteValueIteration C:\\Users\\Maxime\\.julia\\packages\\DiscreteValueIteration\\EoTHI\\src\\sparse.jl:75\n",
      "┌ Info: residual: 1.5388995055344026, time: 0.167334, total time: 10.240184001000001 \n",
      "│   i = 51\n",
      "└ @ DiscreteValueIteration C:\\Users\\Maxime\\.julia\\packages\\DiscreteValueIteration\\EoTHI\\src\\sparse.jl:75\n",
      "┌ Info: residual: 1.4619545302576853, time: 0.133707, total time: 10.373891001 \n",
      "│   i = 52\n",
      "└ @ DiscreteValueIteration C:\\Users\\Maxime\\.julia\\packages\\DiscreteValueIteration\\EoTHI\\src\\sparse.jl:75\n",
      "┌ Info: residual: 1.3888568037448294, time: 0.1336145, total time: 10.507505501 \n",
      "│   i = 53\n",
      "└ @ DiscreteValueIteration C:\\Users\\Maxime\\.julia\\packages\\DiscreteValueIteration\\EoTHI\\src\\sparse.jl:75\n",
      "┌ Info: residual: 1.3194139635575652, time: 0.135584, total time: 10.643089501 \n",
      "│   i = 54\n",
      "└ @ DiscreteValueIteration C:\\Users\\Maxime\\.julia\\packages\\DiscreteValueIteration\\EoTHI\\src\\sparse.jl:75\n",
      "┌ Info: residual: 1.253443265379758, time: 0.2081848, total time: 10.851274301 \n",
      "│   i = 55\n",
      "└ @ DiscreteValueIteration C:\\Users\\Maxime\\.julia\\packages\\DiscreteValueIteration\\EoTHI\\src\\sparse.jl:75\n",
      "┌ Info: residual: 1.1907711021107161, time: 0.1194323, total time: 10.970706601 \n",
      "│   i = 56\n",
      "└ @ DiscreteValueIteration C:\\Users\\Maxime\\.julia\\packages\\DiscreteValueIteration\\EoTHI\\src\\sparse.jl:75\n",
      "┌ Info: residual: 1.1312325470052542, time: 0.114238699, total time: 11.0849453 \n",
      "│   i = 57\n",
      "└ @ DiscreteValueIteration C:\\Users\\Maxime\\.julia\\packages\\DiscreteValueIteration\\EoTHI\\src\\sparse.jl:75\n",
      "┌ Info: residual: 1.0746709196549773, time: 0.1094176, total time: 11.1943629 \n",
      "│   i = 58\n",
      "└ @ DiscreteValueIteration C:\\Users\\Maxime\\.julia\\packages\\DiscreteValueIteration\\EoTHI\\src\\sparse.jl:75\n",
      "┌ Info: residual: 1.0209373736722114, time: 0.104860399, total time: 11.299223299 \n",
      "│   i = 59\n",
      "└ @ DiscreteValueIteration C:\\Users\\Maxime\\.julia\\packages\\DiscreteValueIteration\\EoTHI\\src\\sparse.jl:75\n",
      "┌ Info: residual: 0.969890504988598, time: 0.197740799, total time: 11.496964098 \n",
      "│   i = 60\n",
      "└ @ DiscreteValueIteration C:\\Users\\Maxime\\.julia\\packages\\DiscreteValueIteration\\EoTHI\\src\\sparse.jl:75\n",
      "┌ Info: residual: 0.9213959797392022, time: 0.115786099, total time: 11.612750196999999 \n",
      "│   i = 61\n",
      "└ @ DiscreteValueIteration C:\\Users\\Maxime\\.julia\\packages\\DiscreteValueIteration\\EoTHI\\src\\sparse.jl:75\n",
      "┌ Info: residual: 0.8753261807522108, time: 0.131349501, total time: 11.744099698 \n",
      "│   i = 62\n",
      "└ @ DiscreteValueIteration C:\\Users\\Maxime\\.julia\\packages\\DiscreteValueIteration\\EoTHI\\src\\sparse.jl:75\n",
      "┌ Info: residual: 0.83155987171466, time: 0.120281199, total time: 11.864380897 \n",
      "│   i = 63\n",
      "└ @ DiscreteValueIteration C:\\Users\\Maxime\\.julia\\packages\\DiscreteValueIteration\\EoTHI\\src\\sparse.jl:75\n",
      "┌ Info: residual: 0.7899818781289127, time: 0.1115287, total time: 11.975909597 \n",
      "│   i = 64\n",
      "└ @ DiscreteValueIteration C:\\Users\\Maxime\\.julia\\packages\\DiscreteValueIteration\\EoTHI\\src\\sparse.jl:75\n",
      "┌ Info: residual: 0.7504827842225268, time: 0.2255156, total time: 12.201425196999999 \n",
      "│   i = 65\n",
      "└ @ DiscreteValueIteration C:\\Users\\Maxime\\.julia\\packages\\DiscreteValueIteration\\EoTHI\\src\\sparse.jl:75\n",
      "┌ Info: residual: 0.7129586450113266, time: 0.131778699, total time: 12.333203895999999 \n",
      "│   i = 66\n",
      "└ @ DiscreteValueIteration C:\\Users\\Maxime\\.julia\\packages\\DiscreteValueIteration\\EoTHI\\src\\sparse.jl:75\n",
      "┌ Info: residual: 0.6773107127608, time: 0.115209601, total time: 12.448413496999999 \n",
      "│   i = 67\n",
      "└ @ DiscreteValueIteration C:\\Users\\Maxime\\.julia\\packages\\DiscreteValueIteration\\EoTHI\\src\\sparse.jl:75\n",
      "┌ Info: residual: 0.6434451771227714, time: 0.105296, total time: 12.553709496999998 \n",
      "│   i = 68\n",
      "└ @ DiscreteValueIteration C:\\Users\\Maxime\\.julia\\packages\\DiscreteValueIteration\\EoTHI\\src\\sparse.jl:75\n",
      "┌ Info: residual: 0.6112729182666499, time: 0.102558799, total time: 12.656268295999999 \n",
      "│   i = 69\n",
      "└ @ DiscreteValueIteration C:\\Users\\Maxime\\.julia\\packages\\DiscreteValueIteration\\EoTHI\\src\\sparse.jl:75\n",
      "┌ Info: residual: 0.5807092723533174, time: 0.1820052, total time: 12.838273496 \n",
      "│   i = 70\n",
      "└ @ DiscreteValueIteration C:\\Users\\Maxime\\.julia\\packages\\DiscreteValueIteration\\EoTHI\\src\\sparse.jl:75\n",
      "┌ Info: residual: 0.551673808735643, time: 0.124342099, total time: 12.962615594999999 \n",
      "│   i = 71\n",
      "└ @ DiscreteValueIteration C:\\Users\\Maxime\\.julia\\packages\\DiscreteValueIteration\\EoTHI\\src\\sparse.jl:75\n",
      "┌ Info: residual: 0.5240901182988864, time: 0.099455301, total time: 13.062070896 \n",
      "│   i = 72\n",
      "└ @ DiscreteValueIteration C:\\Users\\Maxime\\.julia\\packages\\DiscreteValueIteration\\EoTHI\\src\\sparse.jl:75\n",
      "┌ Info: residual: 0.4978856123839819, time: 0.0946295, total time: 13.156700396 \n",
      "│   i = 73\n",
      "└ @ DiscreteValueIteration C:\\Users\\Maxime\\.julia\\packages\\DiscreteValueIteration\\EoTHI\\src\\sparse.jl:75\n",
      "┌ Info: residual: 0.47299133176477426, time: 0.0944089, total time: 13.251109296 \n",
      "│   i = 74\n",
      "└ @ DiscreteValueIteration C:\\Users\\Maxime\\.julia\\packages\\DiscreteValueIteration\\EoTHI\\src\\sparse.jl:75\n",
      "┌ Info: residual: 0.44934176517654123, time: 0.093639701, total time: 13.344748997 \n",
      "│   i = 75\n",
      "└ @ DiscreteValueIteration C:\\Users\\Maxime\\.julia\\packages\\DiscreteValueIteration\\EoTHI\\src\\sparse.jl:75\n",
      "┌ Info: residual: 0.4268746769177483, time: 0.1767299, total time: 13.521478897 \n",
      "│   i = 76\n",
      "└ @ DiscreteValueIteration C:\\Users\\Maxime\\.julia\\packages\\DiscreteValueIteration\\EoTHI\\src\\sparse.jl:75\n",
      "┌ Info: residual: 0.4055309430718239, time: 0.097362501, total time: 13.618841397999999 \n",
      "│   i = 77\n",
      "└ @ DiscreteValueIteration C:\\Users\\Maxime\\.julia\\packages\\DiscreteValueIteration\\EoTHI\\src\\sparse.jl:75\n",
      "┌ Info: residual: 0.3852543959182526, time: 0.100031501, total time: 13.718872898999999 \n",
      "│   i = 78\n",
      "└ @ DiscreteValueIteration C:\\Users\\Maxime\\.julia\\packages\\DiscreteValueIteration\\EoTHI\\src\\sparse.jl:75\n",
      "┌ Info: residual: 0.3659916761223485, time: 0.1044627, total time: 13.823335598999998 \n",
      "│   i = 79\n",
      "└ @ DiscreteValueIteration C:\\Users\\Maxime\\.julia\\packages\\DiscreteValueIteration\\EoTHI\\src\\sparse.jl:75\n",
      "┌ Info: residual: 0.34769209231632203, time: 0.1278817, total time: 13.951217298999998 \n",
      "│   i = 80\n",
      "└ @ DiscreteValueIteration C:\\Users\\Maxime\\.julia\\packages\\DiscreteValueIteration\\EoTHI\\src\\sparse.jl:75\n",
      "┌ Info: residual: 0.33030748770045193, time: 0.3582858, total time: 14.309503098999997 \n",
      "│   i = 81\n",
      "└ @ DiscreteValueIteration C:\\Users\\Maxime\\.julia\\packages\\DiscreteValueIteration\\EoTHI\\src\\sparse.jl:75\n",
      "┌ Info: residual: 0.31379211331545775, time: 0.1228422, total time: 14.432345298999996 \n",
      "│   i = 82\n",
      "└ @ DiscreteValueIteration C:\\Users\\Maxime\\.julia\\packages\\DiscreteValueIteration\\EoTHI\\src\\sparse.jl:75\n",
      "┌ Info: residual: 0.2981025076496735, time: 0.105879499, total time: 14.538224797999996 \n",
      "│   i = 83\n",
      "└ @ DiscreteValueIteration C:\\Users\\Maxime\\.julia\\packages\\DiscreteValueIteration\\EoTHI\\src\\sparse.jl:75\n"
     ]
    },
    {
     "name": "stderr",
     "output_type": "stream",
     "text": [
      "┌ Info: residual: 0.2831973822671898, time: 0.101423299, total time: 14.639648096999997 \n",
      "│   i = 84\n",
      "└ @ DiscreteValueIteration C:\\Users\\Maxime\\.julia\\packages\\DiscreteValueIteration\\EoTHI\\src\\sparse.jl:75\n",
      "┌ Info: residual: 0.2690375131538758, time: 0.1002724, total time: 14.739920496999996 \n",
      "│   i = 85\n",
      "└ @ DiscreteValueIteration C:\\Users\\Maxime\\.julia\\packages\\DiscreteValueIteration\\EoTHI\\src\\sparse.jl:75\n",
      "┌ Info: residual: 0.2555856374961536, time: 0.1762209, total time: 14.916141396999997 \n",
      "│   i = 86\n",
      "└ @ DiscreteValueIteration C:\\Users\\Maxime\\.julia\\packages\\DiscreteValueIteration\\EoTHI\\src\\sparse.jl:75\n",
      "┌ Info: residual: 0.24280635562138286, time: 0.1258343, total time: 15.041975696999996 \n",
      "│   i = 87\n",
      "└ @ DiscreteValueIteration C:\\Users\\Maxime\\.julia\\packages\\DiscreteValueIteration\\EoTHI\\src\\sparse.jl:75\n",
      "┌ Info: residual: 0.23066603784030804, time: 0.101744401, total time: 15.143720097999996 \n",
      "│   i = 88\n",
      "└ @ DiscreteValueIteration C:\\Users\\Maxime\\.julia\\packages\\DiscreteValueIteration\\EoTHI\\src\\sparse.jl:75\n",
      "┌ Info: residual: 0.21913273594833527, time: 0.106123899, total time: 15.249843996999996 \n",
      "│   i = 89\n",
      "└ @ DiscreteValueIteration C:\\Users\\Maxime\\.julia\\packages\\DiscreteValueIteration\\EoTHI\\src\\sparse.jl:75\n",
      "┌ Info: residual: 0.20817609915087587, time: 0.189675, total time: 15.439518996999995 \n",
      "│   i = 90\n",
      "└ @ DiscreteValueIteration C:\\Users\\Maxime\\.julia\\packages\\DiscreteValueIteration\\EoTHI\\src\\sparse.jl:75\n",
      "┌ Info: residual: 0.1977672941933406, time: 0.374012601, total time: 15.813531597999996 \n",
      "│   i = 91\n",
      "└ @ DiscreteValueIteration C:\\Users\\Maxime\\.julia\\packages\\DiscreteValueIteration\\EoTHI\\src\\sparse.jl:75\n",
      "┌ Info: residual: 0.187878929483702, time: 0.1331724, total time: 15.946703997999995 \n",
      "│   i = 92\n",
      "└ @ DiscreteValueIteration C:\\Users\\Maxime\\.julia\\packages\\DiscreteValueIteration\\EoTHI\\src\\sparse.jl:75\n",
      "┌ Info: residual: 0.17848498300952542, time: 0.1204346, total time: 16.067138597999996 \n",
      "│   i = 93\n",
      "└ @ DiscreteValueIteration C:\\Users\\Maxime\\.julia\\packages\\DiscreteValueIteration\\EoTHI\\src\\sparse.jl:75\n",
      "┌ Info: residual: 0.16956073385904347, time: 0.1000797, total time: 16.167218297999995 \n",
      "│   i = 94\n",
      "└ @ DiscreteValueIteration C:\\Users\\Maxime\\.julia\\packages\\DiscreteValueIteration\\EoTHI\\src\\sparse.jl:75\n",
      "┌ Info: residual: 0.16108269716607992, time: 0.1032364, total time: 16.270454697999995 \n",
      "│   i = 95\n",
      "└ @ DiscreteValueIteration C:\\Users\\Maxime\\.julia\\packages\\DiscreteValueIteration\\EoTHI\\src\\sparse.jl:75\n",
      "┌ Info: residual: 0.1530285623077816, time: 0.117115201, total time: 16.387569898999995 \n",
      "│   i = 96\n",
      "└ @ DiscreteValueIteration C:\\Users\\Maxime\\.julia\\packages\\DiscreteValueIteration\\EoTHI\\src\\sparse.jl:75\n",
      "┌ Info: residual: 0.1453771341924721, time: 0.209300499, total time: 16.596870397999997 \n",
      "│   i = 97\n",
      "└ @ DiscreteValueIteration C:\\Users\\Maxime\\.julia\\packages\\DiscreteValueIteration\\EoTHI\\src\\sparse.jl:75\n",
      "┌ Info: residual: 0.13810827748284282, time: 0.1278079, total time: 16.724678297999997 \n",
      "│   i = 98\n",
      "└ @ DiscreteValueIteration C:\\Users\\Maxime\\.julia\\packages\\DiscreteValueIteration\\EoTHI\\src\\sparse.jl:75\n",
      "┌ Info: residual: 0.1312028636087348, time: 0.1356521, total time: 16.860330398 \n",
      "│   i = 99\n",
      "└ @ DiscreteValueIteration C:\\Users\\Maxime\\.julia\\packages\\DiscreteValueIteration\\EoTHI\\src\\sparse.jl:75\n",
      "┌ Info: residual: 0.12464272042831226, time: 0.140366201, total time: 17.000696598999998 \n",
      "│   i = 100\n",
      "└ @ DiscreteValueIteration C:\\Users\\Maxime\\.julia\\packages\\DiscreteValueIteration\\EoTHI\\src\\sparse.jl:75\n",
      "┌ Info: residual: 0.11841058440688812, time: 0.135616099, total time: 17.136312697999998 \n",
      "│   i = 101\n",
      "└ @ DiscreteValueIteration C:\\Users\\Maxime\\.julia\\packages\\DiscreteValueIteration\\EoTHI\\src\\sparse.jl:75\n",
      "┌ Info: residual: 0.11249005518652666, time: 0.191159399, total time: 17.327472096999998 \n",
      "│   i = 102\n",
      "└ @ DiscreteValueIteration C:\\Users\\Maxime\\.julia\\packages\\DiscreteValueIteration\\EoTHI\\src\\sparse.jl:75\n",
      "┌ Info: residual: 0.10686555242722307, time: 0.126951799, total time: 17.454423895999998 \n",
      "│   i = 103\n",
      "└ @ DiscreteValueIteration C:\\Users\\Maxime\\.julia\\packages\\DiscreteValueIteration\\EoTHI\\src\\sparse.jl:75\n",
      "┌ Info: residual: 0.10152227480585907, time: 0.1186096, total time: 17.573033495999997 \n",
      "│   i = 104\n",
      "└ @ DiscreteValueIteration C:\\Users\\Maxime\\.julia\\packages\\DiscreteValueIteration\\EoTHI\\src\\sparse.jl:75\n",
      "┌ Info: residual: 0.09644616106561443, time: 0.1192244, total time: 17.692257895999997 \n",
      "│   i = 105\n",
      "└ @ DiscreteValueIteration C:\\Users\\Maxime\\.julia\\packages\\DiscreteValueIteration\\EoTHI\\src\\sparse.jl:75\n",
      "┌ Info: residual: 0.0916238530122655, time: 0.1182705, total time: 17.810528396 \n",
      "│   i = 106\n",
      "└ @ DiscreteValueIteration C:\\Users\\Maxime\\.julia\\packages\\DiscreteValueIteration\\EoTHI\\src\\sparse.jl:75\n",
      "┌ Info: residual: 0.08704266036170338, time: 0.2018463, total time: 18.012374696 \n",
      "│   i = 107\n",
      "└ @ DiscreteValueIteration C:\\Users\\Maxime\\.julia\\packages\\DiscreteValueIteration\\EoTHI\\src\\sparse.jl:75\n",
      "┌ Info: residual: 0.08269052734362958, time: 0.128154701, total time: 18.140529396999998 \n",
      "│   i = 108\n",
      "└ @ DiscreteValueIteration C:\\Users\\Maxime\\.julia\\packages\\DiscreteValueIteration\\EoTHI\\src\\sparse.jl:75\n",
      "┌ Info: residual: 0.0785560009764481, time: 0.130560201, total time: 18.271089598 \n",
      "│   i = 109\n",
      "└ @ DiscreteValueIteration C:\\Users\\Maxime\\.julia\\packages\\DiscreteValueIteration\\EoTHI\\src\\sparse.jl:75\n",
      "┌ Info: residual: 0.07462820092763423, time: 0.116198799, total time: 18.387288397 \n",
      "│   i = 110\n",
      "└ @ DiscreteValueIteration C:\\Users\\Maxime\\.julia\\packages\\DiscreteValueIteration\\EoTHI\\src\\sparse.jl:75\n",
      "┌ Info: residual: 0.07089679088124967, time: 0.1206636, total time: 18.507951997 \n",
      "│   i = 111\n",
      "└ @ DiscreteValueIteration C:\\Users\\Maxime\\.julia\\packages\\DiscreteValueIteration\\EoTHI\\src\\sparse.jl:75\n",
      "┌ Info: residual: 0.06735195133722982, time: 0.226076099, total time: 18.734028096 \n",
      "│   i = 112\n",
      "└ @ DiscreteValueIteration C:\\Users\\Maxime\\.julia\\packages\\DiscreteValueIteration\\EoTHI\\src\\sparse.jl:75\n",
      "┌ Info: residual: 0.06398435377036549, time: 0.524703499, total time: 19.258731595 \n",
      "│   i = 113\n",
      "└ @ DiscreteValueIteration C:\\Users\\Maxime\\.julia\\packages\\DiscreteValueIteration\\EoTHI\\src\\sparse.jl:75\n",
      "┌ Info: residual: 0.06078513608184721, time: 0.208946, total time: 19.467677595 \n",
      "│   i = 114\n",
      "└ @ DiscreteValueIteration C:\\Users\\Maxime\\.julia\\packages\\DiscreteValueIteration\\EoTHI\\src\\sparse.jl:75\n",
      "┌ Info: residual: 0.05774587927783159, time: 0.1431437, total time: 19.610821295 \n",
      "│   i = 115\n",
      "└ @ DiscreteValueIteration C:\\Users\\Maxime\\.julia\\packages\\DiscreteValueIteration\\EoTHI\\src\\sparse.jl:75\n",
      "┌ Info: residual: 0.05485858531392296, time: 0.122559701, total time: 19.733380996 \n",
      "│   i = 116\n",
      "└ @ DiscreteValueIteration C:\\Users\\Maxime\\.julia\\packages\\DiscreteValueIteration\\EoTHI\\src\\sparse.jl:75\n",
      "┌ Info: residual: 0.05211565604821544, time: 0.1409435, total time: 19.874324496 \n",
      "│   i = 117\n",
      "└ @ DiscreteValueIteration C:\\Users\\Maxime\\.julia\\packages\\DiscreteValueIteration\\EoTHI\\src\\sparse.jl:75\n",
      "┌ Info: residual: 0.049509873245824565, time: 0.199981001, total time: 20.074305497 \n",
      "│   i = 118\n",
      "└ @ DiscreteValueIteration C:\\Users\\Maxime\\.julia\\packages\\DiscreteValueIteration\\EoTHI\\src\\sparse.jl:75\n",
      "┌ Info: residual: 0.04703437958352197, time: 0.1040485, total time: 20.178353997000002 \n",
      "│   i = 119\n",
      "└ @ DiscreteValueIteration C:\\Users\\Maxime\\.julia\\packages\\DiscreteValueIteration\\EoTHI\\src\\sparse.jl:75\n",
      "┌ Info: residual: 0.044682660604394187, time: 0.098961601, total time: 20.277315598 \n",
      "│   i = 120\n",
      "└ @ DiscreteValueIteration C:\\Users\\Maxime\\.julia\\packages\\DiscreteValueIteration\\EoTHI\\src\\sparse.jl:75\n",
      "┌ Info: residual: 0.04244852757415174, time: 0.113147901, total time: 20.390463499000003 \n",
      "│   i = 121\n",
      "└ @ DiscreteValueIteration C:\\Users\\Maxime\\.julia\\packages\\DiscreteValueIteration\\EoTHI\\src\\sparse.jl:75\n",
      "┌ Info: residual: 0.04032610119548963, time: 0.104904001, total time: 20.495367500000004 \n",
      "│   i = 122\n",
      "└ @ DiscreteValueIteration C:\\Users\\Maxime\\.julia\\packages\\DiscreteValueIteration\\EoTHI\\src\\sparse.jl:75\n",
      "┌ Info: residual: 0.03830979613570662, time: 0.1881349, total time: 20.683502400000005 \n",
      "│   i = 123\n",
      "└ @ DiscreteValueIteration C:\\Users\\Maxime\\.julia\\packages\\DiscreteValueIteration\\EoTHI\\src\\sparse.jl:75\n",
      "┌ Info: residual: 0.036394306328929815, time: 0.112406401, total time: 20.795908801000007 \n",
      "│   i = 124\n",
      "└ @ DiscreteValueIteration C:\\Users\\Maxime\\.julia\\packages\\DiscreteValueIteration\\EoTHI\\src\\sparse.jl:75\n"
     ]
    },
    {
     "name": "stderr",
     "output_type": "stream",
     "text": [
      "┌ Info: residual: 0.034574591012471956, time: 0.100959, total time: 20.896867801000006 \n",
      "│   i = 125\n",
      "└ @ DiscreteValueIteration C:\\Users\\Maxime\\.julia\\packages\\DiscreteValueIteration\\EoTHI\\src\\sparse.jl:75\n",
      "┌ Info: residual: 0.032845861461908044, time: 0.1038833, total time: 21.000751101000006 \n",
      "│   i = 126\n",
      "└ @ DiscreteValueIteration C:\\Users\\Maxime\\.julia\\packages\\DiscreteValueIteration\\EoTHI\\src\\sparse.jl:75\n",
      "┌ Info: residual: 0.031203568388775693, time: 0.101583301, total time: 21.102334402000007 \n",
      "│   i = 127\n",
      "└ @ DiscreteValueIteration C:\\Users\\Maxime\\.julia\\packages\\DiscreteValueIteration\\EoTHI\\src\\sparse.jl:75\n",
      "┌ Info: residual: 0.02964338996935112, time: 0.150913199, total time: 21.25324760100001 \n",
      "│   i = 128\n",
      "└ @ DiscreteValueIteration C:\\Users\\Maxime\\.julia\\packages\\DiscreteValueIteration\\EoTHI\\src\\sparse.jl:75\n",
      "┌ Info: residual: 0.0281612204709063, time: 0.092486101, total time: 21.345733702000008 \n",
      "│   i = 129\n",
      "└ @ DiscreteValueIteration C:\\Users\\Maxime\\.julia\\packages\\DiscreteValueIteration\\EoTHI\\src\\sparse.jl:75\n",
      "┌ Info: residual: 0.02675315944736667, time: 0.088717601, total time: 21.434451303000007 \n",
      "│   i = 130\n",
      "└ @ DiscreteValueIteration C:\\Users\\Maxime\\.julia\\packages\\DiscreteValueIteration\\EoTHI\\src\\sparse.jl:75\n",
      "┌ Info: residual: 0.025415501474981284, time: 0.0899696, total time: 21.524420903000006 \n",
      "│   i = 131\n",
      "└ @ DiscreteValueIteration C:\\Users\\Maxime\\.julia\\packages\\DiscreteValueIteration\\EoTHI\\src\\sparse.jl:75\n",
      "┌ Info: residual: 0.02414472640123222, time: 0.090772, total time: 21.615192903000008 \n",
      "│   i = 132\n",
      "└ @ DiscreteValueIteration C:\\Users\\Maxime\\.julia\\packages\\DiscreteValueIteration\\EoTHI\\src\\sparse.jl:75\n",
      "┌ Info: residual: 0.022937490081176293, time: 0.1521875, total time: 21.767380403000008 \n",
      "│   i = 133\n",
      "└ @ DiscreteValueIteration C:\\Users\\Maxime\\.julia\\packages\\DiscreteValueIteration\\EoTHI\\src\\sparse.jl:75\n",
      "┌ Info: residual: 0.02179061557717432, time: 0.097326999, total time: 21.864707402000008 \n",
      "│   i = 134\n",
      "└ @ DiscreteValueIteration C:\\Users\\Maxime\\.julia\\packages\\DiscreteValueIteration\\EoTHI\\src\\sparse.jl:75\n",
      "┌ Info: residual: 0.020701084798304237, time: 0.091228899, total time: 21.95593630100001 \n",
      "│   i = 135\n",
      "└ @ DiscreteValueIteration C:\\Users\\Maxime\\.julia\\packages\\DiscreteValueIteration\\EoTHI\\src\\sparse.jl:75\n",
      "┌ Info: residual: 0.019666030558425973, time: 0.0910597, total time: 22.046996001000007 \n",
      "│   i = 136\n",
      "└ @ DiscreteValueIteration C:\\Users\\Maxime\\.julia\\packages\\DiscreteValueIteration\\EoTHI\\src\\sparse.jl:75\n",
      "┌ Info: residual: 0.018682729030558676, time: 0.0915625, total time: 22.138558501000006 \n",
      "│   i = 137\n",
      "└ @ DiscreteValueIteration C:\\Users\\Maxime\\.julia\\packages\\DiscreteValueIteration\\EoTHI\\src\\sparse.jl:75\n",
      "┌ Info: residual: 0.017748592578982425, time: 0.0910233, total time: 22.229581801000005 \n",
      "│   i = 138\n",
      "└ @ DiscreteValueIteration C:\\Users\\Maxime\\.julia\\packages\\DiscreteValueIteration\\EoTHI\\src\\sparse.jl:75\n",
      "┌ Info: residual: 0.01686116295007878, time: 0.1660157, total time: 22.395597501000005 \n",
      "│   i = 139\n",
      "└ @ DiscreteValueIteration C:\\Users\\Maxime\\.julia\\packages\\DiscreteValueIteration\\EoTHI\\src\\sparse.jl:75\n",
      "┌ Info: residual: 0.016018104802583366, time: 0.094187299, total time: 22.489784800000006 \n",
      "│   i = 140\n",
      "└ @ DiscreteValueIteration C:\\Users\\Maxime\\.julia\\packages\\DiscreteValueIteration\\EoTHI\\src\\sparse.jl:75\n",
      "┌ Info: residual: 0.015217199562414407, time: 0.0928173, total time: 22.582602100000006 \n",
      "│   i = 141\n",
      "└ @ DiscreteValueIteration C:\\Users\\Maxime\\.julia\\packages\\DiscreteValueIteration\\EoTHI\\src\\sparse.jl:75\n",
      "┌ Info: residual: 0.014456339584342004, time: 0.089807501, total time: 22.672409601000005 \n",
      "│   i = 142\n",
      "└ @ DiscreteValueIteration C:\\Users\\Maxime\\.julia\\packages\\DiscreteValueIteration\\EoTHI\\src\\sparse.jl:75\n",
      "┌ Info: residual: 0.01373352260509364, time: 0.0910531, total time: 22.763462701000005 \n",
      "│   i = 143\n",
      "└ @ DiscreteValueIteration C:\\Users\\Maxime\\.julia\\packages\\DiscreteValueIteration\\EoTHI\\src\\sparse.jl:75\n",
      "┌ Info: residual: 0.013046846474878748, time: 0.1629535, total time: 22.926416201000006 \n",
      "│   i = 144\n",
      "└ @ DiscreteValueIteration C:\\Users\\Maxime\\.julia\\packages\\DiscreteValueIteration\\EoTHI\\src\\sparse.jl:75\n",
      "┌ Info: residual: 0.012394504151131969, time: 0.101442899, total time: 23.027859100000004 \n",
      "│   i = 145\n",
      "└ @ DiscreteValueIteration C:\\Users\\Maxime\\.julia\\packages\\DiscreteValueIteration\\EoTHI\\src\\sparse.jl:75\n",
      "┌ Info: residual: 0.01177477894356116, time: 0.0946451, total time: 23.122504200000005 \n",
      "│   i = 146\n",
      "└ @ DiscreteValueIteration C:\\Users\\Maxime\\.julia\\packages\\DiscreteValueIteration\\EoTHI\\src\\sparse.jl:75\n",
      "┌ Info: residual: 0.01118603999645984, time: 0.0957761, total time: 23.218280300000004 \n",
      "│   i = 147\n",
      "└ @ DiscreteValueIteration C:\\Users\\Maxime\\.julia\\packages\\DiscreteValueIteration\\EoTHI\\src\\sparse.jl:75\n",
      "┌ Info: residual: 0.01062673799657432, time: 0.095935399, total time: 23.314215699000002 \n",
      "│   i = 148\n",
      "└ @ DiscreteValueIteration C:\\Users\\Maxime\\.julia\\packages\\DiscreteValueIteration\\EoTHI\\src\\sparse.jl:75\n",
      "┌ Info: residual: 0.01009540109680529, time: 0.1658054, total time: 23.480021099000002 \n",
      "│   i = 149\n",
      "└ @ DiscreteValueIteration C:\\Users\\Maxime\\.julia\\packages\\DiscreteValueIteration\\EoTHI\\src\\sparse.jl:75\n",
      "┌ Info: residual: 0.00959063104193092, time: 0.104090701, total time: 23.584111800000002 \n",
      "│   i = 150\n",
      "└ @ DiscreteValueIteration C:\\Users\\Maxime\\.julia\\packages\\DiscreteValueIteration\\EoTHI\\src\\sparse.jl:75\n",
      "┌ Info: residual: 0.009111099489871322, time: 0.0942776, total time: 23.678389400000004 \n",
      "│   i = 151\n",
      "└ @ DiscreteValueIteration C:\\Users\\Maxime\\.julia\\packages\\DiscreteValueIteration\\EoTHI\\src\\sparse.jl:75\n",
      "┌ Info: residual: 0.008655544515363545, time: 0.0945396, total time: 23.772929000000005 \n",
      "│   i = 152\n",
      "└ @ DiscreteValueIteration C:\\Users\\Maxime\\.julia\\packages\\DiscreteValueIteration\\EoTHI\\src\\sparse.jl:75\n",
      "┌ Info: residual: 0.008222767289623789, time: 0.093418599, total time: 23.866347599000004 \n",
      "│   i = 153\n",
      "└ @ DiscreteValueIteration C:\\Users\\Maxime\\.julia\\packages\\DiscreteValueIteration\\EoTHI\\src\\sparse.jl:75\n",
      "┌ Info: residual: 0.0078116289251397575, time: 0.1640931, total time: 24.030440699000003 \n",
      "│   i = 154\n",
      "└ @ DiscreteValueIteration C:\\Users\\Maxime\\.julia\\packages\\DiscreteValueIteration\\EoTHI\\src\\sparse.jl:75\n",
      "┌ Info: residual: 0.007421047478942455, time: 0.1035901, total time: 24.134030799000005 \n",
      "│   i = 155\n",
      "└ @ DiscreteValueIteration C:\\Users\\Maxime\\.julia\\packages\\DiscreteValueIteration\\EoTHI\\src\\sparse.jl:75\n",
      "┌ Info: residual: 0.007049995104978279, time: 0.0925812, total time: 24.226611999000006 \n",
      "│   i = 156\n",
      "└ @ DiscreteValueIteration C:\\Users\\Maxime\\.julia\\packages\\DiscreteValueIteration\\EoTHI\\src\\sparse.jl:75\n",
      "┌ Info: residual: 0.006697495349726523, time: 0.094000801, total time: 24.320612800000006 \n",
      "│   i = 157\n",
      "└ @ DiscreteValueIteration C:\\Users\\Maxime\\.julia\\packages\\DiscreteValueIteration\\EoTHI\\src\\sparse.jl:75\n",
      "┌ Info: residual: 0.006362620582251566, time: 0.093159601, total time: 24.413772401000006 \n",
      "│   i = 158\n",
      "└ @ DiscreteValueIteration C:\\Users\\Maxime\\.julia\\packages\\DiscreteValueIteration\\EoTHI\\src\\sparse.jl:75\n",
      "┌ Info: residual: 0.006044489553119092, time: 0.0986988, total time: 24.512471201000007 \n",
      "│   i = 159\n",
      "└ @ DiscreteValueIteration C:\\Users\\Maxime\\.julia\\packages\\DiscreteValueIteration\\EoTHI\\src\\sparse.jl:75\n",
      "┌ Info: residual: 0.0057422650755256655, time: 0.1689428, total time: 24.681414001000007 \n",
      "│   i = 160\n",
      "└ @ DiscreteValueIteration C:\\Users\\Maxime\\.julia\\packages\\DiscreteValueIteration\\EoTHI\\src\\sparse.jl:75\n",
      "┌ Info: residual: 0.005455151821763593, time: 0.0981237, total time: 24.779537701000006 \n",
      "│   i = 161\n",
      "└ @ DiscreteValueIteration C:\\Users\\Maxime\\.julia\\packages\\DiscreteValueIteration\\EoTHI\\src\\sparse.jl:75\n",
      "┌ Info: residual: 0.005182394230700993, time: 0.0942726, total time: 24.873810301000006 \n",
      "│   i = 162\n",
      "└ @ DiscreteValueIteration C:\\Users\\Maxime\\.julia\\packages\\DiscreteValueIteration\\EoTHI\\src\\sparse.jl:75\n",
      "┌ Info: residual: 0.004923274519114784, time: 0.0899417, total time: 24.963752001000007 \n",
      "│   i = 163\n",
      "└ @ DiscreteValueIteration C:\\Users\\Maxime\\.julia\\packages\\DiscreteValueIteration\\EoTHI\\src\\sparse.jl:75\n",
      "┌ Info: residual: 0.004677110793181782, time: 0.0878555, total time: 25.051607501000007 \n",
      "│   i = 164\n",
      "└ @ DiscreteValueIteration C:\\Users\\Maxime\\.julia\\packages\\DiscreteValueIteration\\EoTHI\\src\\sparse.jl:75\n"
     ]
    },
    {
     "name": "stderr",
     "output_type": "stream",
     "text": [
      "┌ Info: residual: 0.004443255253534062, time: 0.1625944, total time: 25.214201901000006 \n",
      "│   i = 165\n",
      "└ @ DiscreteValueIteration C:\\Users\\Maxime\\.julia\\packages\\DiscreteValueIteration\\EoTHI\\src\\sparse.jl:75\n",
      "┌ Info: residual: 0.004221092490865885, time: 0.114374, total time: 25.328575901000008 \n",
      "│   i = 166\n",
      "└ @ DiscreteValueIteration C:\\Users\\Maxime\\.julia\\packages\\DiscreteValueIteration\\EoTHI\\src\\sparse.jl:75\n",
      "┌ Info: residual: 0.004010037866351013, time: 0.1507998, total time: 25.47937570100001 \n",
      "│   i = 167\n",
      "└ @ DiscreteValueIteration C:\\Users\\Maxime\\.julia\\packages\\DiscreteValueIteration\\EoTHI\\src\\sparse.jl:75\n",
      "┌ Info: residual: 0.003809535973061884, time: 0.2811391, total time: 25.76051480100001 \n",
      "│   i = 168\n",
      "└ @ DiscreteValueIteration C:\\Users\\Maxime\\.julia\\packages\\DiscreteValueIteration\\EoTHI\\src\\sparse.jl:75\n",
      "┌ Info: residual: 0.003619059174411632, time: 0.131438501, total time: 25.89195330200001 \n",
      "│   i = 169\n",
      "└ @ DiscreteValueIteration C:\\Users\\Maxime\\.julia\\packages\\DiscreteValueIteration\\EoTHI\\src\\sparse.jl:75\n",
      "┌ Info: residual: 0.003438106215639891, time: 0.2055601, total time: 26.09751340200001 \n",
      "│   i = 170\n",
      "└ @ DiscreteValueIteration C:\\Users\\Maxime\\.julia\\packages\\DiscreteValueIteration\\EoTHI\\src\\sparse.jl:75\n",
      "┌ Info: residual: 0.0032662009048749496, time: 0.112208399, total time: 26.20972180100001 \n",
      "│   i = 171\n",
      "└ @ DiscreteValueIteration C:\\Users\\Maxime\\.julia\\packages\\DiscreteValueIteration\\EoTHI\\src\\sparse.jl:75\n",
      "┌ Info: residual: 0.0031028908596226756, time: 0.108983999, total time: 26.31870580000001 \n",
      "│   i = 172\n",
      "└ @ DiscreteValueIteration C:\\Users\\Maxime\\.julia\\packages\\DiscreteValueIteration\\EoTHI\\src\\sparse.jl:75\n",
      "┌ Info: residual: 0.002947746316692701, time: 0.1180403, total time: 26.43674610000001 \n",
      "│   i = 173\n",
      "└ @ DiscreteValueIteration C:\\Users\\Maxime\\.julia\\packages\\DiscreteValueIteration\\EoTHI\\src\\sparse.jl:75\n",
      "┌ Info: residual: 0.002800359000843855, time: 0.1132497, total time: 26.549995800000012 \n",
      "│   i = 174\n",
      "└ @ DiscreteValueIteration C:\\Users\\Maxime\\.julia\\packages\\DiscreteValueIteration\\EoTHI\\src\\sparse.jl:75\n",
      "┌ Info: residual: 0.0026603410508414527, time: 0.1868159, total time: 26.73681170000001 \n",
      "│   i = 175\n",
      "└ @ DiscreteValueIteration C:\\Users\\Maxime\\.julia\\packages\\DiscreteValueIteration\\EoTHI\\src\\sparse.jl:75\n",
      "┌ Info: residual: 0.0025273239983221174, time: 0.120285701, total time: 26.85709740100001 \n",
      "│   i = 176\n",
      "└ @ DiscreteValueIteration C:\\Users\\Maxime\\.julia\\packages\\DiscreteValueIteration\\EoTHI\\src\\sparse.jl:75\n",
      "┌ Info: residual: 0.0024009577983861163, time: 0.120052199, total time: 26.97714960000001 \n",
      "│   i = 177\n",
      "└ @ DiscreteValueIteration C:\\Users\\Maxime\\.julia\\packages\\DiscreteValueIteration\\EoTHI\\src\\sparse.jl:75\n",
      "┌ Info: residual: 0.002280909908506601, time: 0.105073999, total time: 27.08222359900001 \n",
      "│   i = 178\n",
      "└ @ DiscreteValueIteration C:\\Users\\Maxime\\.julia\\packages\\DiscreteValueIteration\\EoTHI\\src\\sparse.jl:75\n",
      "┌ Info: residual: 0.002166864413084113, time: 0.1019745, total time: 27.18419809900001 \n",
      "│   i = 179\n",
      "└ @ DiscreteValueIteration C:\\Users\\Maxime\\.julia\\packages\\DiscreteValueIteration\\EoTHI\\src\\sparse.jl:75\n",
      "┌ Info: residual: 0.0020585211924526448, time: 0.0974052, total time: 27.28160329900001 \n",
      "│   i = 180\n",
      "└ @ DiscreteValueIteration C:\\Users\\Maxime\\.julia\\packages\\DiscreteValueIteration\\EoTHI\\src\\sparse.jl:75\n",
      "┌ Info: residual: 0.0019555951328129595, time: 0.192860799, total time: 27.474464098000013 \n",
      "│   i = 181\n",
      "└ @ DiscreteValueIteration C:\\Users\\Maxime\\.julia\\packages\\DiscreteValueIteration\\EoTHI\\src\\sparse.jl:75\n",
      "┌ Info: residual: 0.0018578153761836802, time: 0.0937313, total time: 27.568195398000015 \n",
      "│   i = 182\n",
      "└ @ DiscreteValueIteration C:\\Users\\Maxime\\.julia\\packages\\DiscreteValueIteration\\EoTHI\\src\\sparse.jl:75\n",
      "┌ Info: residual: 0.0017649246074142866, time: 0.111780799, total time: 27.679976197000016 \n",
      "│   i = 183\n",
      "└ @ DiscreteValueIteration C:\\Users\\Maxime\\.julia\\packages\\DiscreteValueIteration\\EoTHI\\src\\sparse.jl:75\n",
      "┌ Info: residual: 0.0016766783770663096, time: 0.1045776, total time: 27.784553797000015 \n",
      "│   i = 184\n",
      "└ @ DiscreteValueIteration C:\\Users\\Maxime\\.julia\\packages\\DiscreteValueIteration\\EoTHI\\src\\sparse.jl:75\n",
      "┌ Info: residual: 0.0015928444581732037, time: 0.1066327, total time: 27.891186497000014 \n",
      "│   i = 185\n",
      "└ @ DiscreteValueIteration C:\\Users\\Maxime\\.julia\\packages\\DiscreteValueIteration\\EoTHI\\src\\sparse.jl:75\n",
      "┌ Info: residual: 0.001513202235287281, time: 0.184528399, total time: 28.075714896000015 \n",
      "│   i = 186\n",
      "└ @ DiscreteValueIteration C:\\Users\\Maxime\\.julia\\packages\\DiscreteValueIteration\\EoTHI\\src\\sparse.jl:75\n",
      "┌ Info: residual: 0.00143754212353997, time: 0.1029773, total time: 28.178692196000014 \n",
      "│   i = 187\n",
      "└ @ DiscreteValueIteration C:\\Users\\Maxime\\.julia\\packages\\DiscreteValueIteration\\EoTHI\\src\\sparse.jl:75\n",
      "┌ Info: residual: 0.00136566501737434, time: 0.1102885, total time: 28.288980696000014 \n",
      "│   i = 188\n",
      "└ @ DiscreteValueIteration C:\\Users\\Maxime\\.julia\\packages\\DiscreteValueIteration\\EoTHI\\src\\sparse.jl:75\n",
      "┌ Info: residual: 0.001297381766505623, time: 0.1103308, total time: 28.399311496000013 \n",
      "│   i = 189\n",
      "└ @ DiscreteValueIteration C:\\Users\\Maxime\\.julia\\packages\\DiscreteValueIteration\\EoTHI\\src\\sparse.jl:75\n",
      "┌ Info: residual: 0.0012325126782002371, time: 0.099157001, total time: 28.49846849700001 \n",
      "│   i = 190\n",
      "└ @ DiscreteValueIteration C:\\Users\\Maxime\\.julia\\packages\\DiscreteValueIteration\\EoTHI\\src\\sparse.jl:75\n",
      "┌ Info: residual: 0.0011708870442816988, time: 0.164948099, total time: 28.663416596000012 \n",
      "│   i = 191\n",
      "└ @ DiscreteValueIteration C:\\Users\\Maxime\\.julia\\packages\\DiscreteValueIteration\\EoTHI\\src\\sparse.jl:75\n",
      "┌ Info: residual: 0.0011123426920676138, time: 0.148250899, total time: 28.811667495000012 \n",
      "│   i = 192\n",
      "└ @ DiscreteValueIteration C:\\Users\\Maxime\\.julia\\packages\\DiscreteValueIteration\\EoTHI\\src\\sparse.jl:75\n",
      "┌ Info: residual: 0.0010567255574756018, time: 0.112258301, total time: 28.923925796000013 \n",
      "│   i = 193\n",
      "└ @ DiscreteValueIteration C:\\Users\\Maxime\\.julia\\packages\\DiscreteValueIteration\\EoTHI\\src\\sparse.jl:75\n",
      "┌ Info: residual: 0.001003889279672876, time: 0.106589499, total time: 29.03051529500001 \n",
      "│   i = 194\n",
      "└ @ DiscreteValueIteration C:\\Users\\Maxime\\.julia\\packages\\DiscreteValueIteration\\EoTHI\\src\\sparse.jl:75\n",
      "┌ Info: residual: 0.0009536948156778635, time: 0.1047814, total time: 29.13529669500001 \n",
      "│   i = 195\n",
      "└ @ DiscreteValueIteration C:\\Users\\Maxime\\.julia\\packages\\DiscreteValueIteration\\EoTHI\\src\\sparse.jl:75\n",
      "┌ Info: residual: 0.0009060100749138655, time: 0.195442799, total time: 29.33073949400001 \n",
      "│   i = 196\n",
      "└ @ DiscreteValueIteration C:\\Users\\Maxime\\.julia\\packages\\DiscreteValueIteration\\EoTHI\\src\\sparse.jl:75\n",
      "┌ Info: residual: 0.0008607095711568036, time: 0.1315477, total time: 29.46228719400001 \n",
      "│   i = 197\n",
      "└ @ DiscreteValueIteration C:\\Users\\Maxime\\.julia\\packages\\DiscreteValueIteration\\EoTHI\\src\\sparse.jl:75\n",
      "┌ Info: residual: 0.0008176740926160164, time: 0.1402094, total time: 29.60249659400001 \n",
      "│   i = 198\n",
      "└ @ DiscreteValueIteration C:\\Users\\Maxime\\.julia\\packages\\DiscreteValueIteration\\EoTHI\\src\\sparse.jl:75\n",
      "┌ Info: residual: 0.0007767903879880578, time: 0.136262301, total time: 29.738758895000007 \n",
      "│   i = 199\n",
      "└ @ DiscreteValueIteration C:\\Users\\Maxime\\.julia\\packages\\DiscreteValueIteration\\EoTHI\\src\\sparse.jl:75\n",
      "┌ Info: residual: 0.0007379508685971814, time: 0.134905201, total time: 29.873664096000006 \n",
      "│   i = 200\n",
      "└ @ DiscreteValueIteration C:\\Users\\Maxime\\.julia\\packages\\DiscreteValueIteration\\EoTHI\\src\\sparse.jl:75\n"
     ]
    }
   ],
   "source": [
    "# 1) choose betwenn only longitudinal\n",
    "lateral_actions = [0.0]\n",
    "# or lateral and longitudinal support\n",
    "#lateral_actions = [1.0, 0.0, -1.0]\n",
    "\n",
    "\n",
    "# 2) choose good values for the policy\n",
    "# good values are the longitudinal support are following\n",
    "# COLLISION_COST = -600.0\n",
    "# ACTION_LON_COST = 0.0\n",
    "# ACTION_LAT_COST = 0.0\n",
    "# KEEP_VELOCITY_REWARD = 30.0\n",
    "# KEEP_LANE_REWARD = 0.0\n",
    "# PROBABILITY_PEDESTRIAN_BIRTH = 0.4\n",
    "\n",
    "\n",
    "pomdp = SingleOCFPOMDP(lateral_actions=lateral_actions)\n",
    "pomdp.COLLISION_COST = -600.0\n",
    "pomdp.ACTION_LON_COST = 0.0\n",
    "pomdp.ACTION_LAT_COST = 0.0\n",
    "pomdp.KEEP_VELOCITY_REWARD = 20.0\n",
    "pomdp.KEEP_LANE_REWARD = 0.0\n",
    "pomdp.PROBABILITY_PEDESTRIAN_BIRTH = 0.05\n",
    "pomdp.γ = 0.95\n",
    "\n",
    "# train policy\n",
    "solver = SparseValueIterationSolver(max_iterations=200, belres=1e-4, include_Q=true, verbose=true)\n",
    "mdp = UnderlyingMDP(pomdp);\n",
    "vi_policy = solve(solver, mdp)\n",
    "qmdp_policy = AlphaVectorPolicy(pomdp, vi_policy.qmat, vi_policy.action_map)\n",
    "\n",
    "# save policy!\n",
    "FileIO.save(\"policy.jld2\", \"policy\", qmdp_policy)\n"
   ]
  },
  {
   "cell_type": "code",
   "execution_count": 11,
   "metadata": {
    "scrolled": false
   },
   "outputs": [
    {
     "data": {
      "application/vnd.webio.node+json": {
       "children": [
        {
         "children": [
          {
           "children": [
            {
             "children": [
              {
               "children": [
                {
                 "children": [
                  "ego_v"
                 ],
                 "instanceArgs": {
                  "namespace": "html",
                  "tag": "label"
                 },
                 "nodeType": "DOM",
                 "props": {
                  "className": "interact ",
                  "style": {
                   "padding": "5px 10px 0px 10px"
                  }
                 },
                 "type": "node"
                }
               ],
               "instanceArgs": {
                "namespace": "html",
                "tag": "div"
               },
               "nodeType": "DOM",
               "props": {
                "className": "interact-flex-row-left"
               },
               "type": "node"
              },
              {
               "children": [
                {
                 "children": [],
                 "instanceArgs": {
                  "namespace": "html",
                  "tag": "input"
                 },
                 "nodeType": "DOM",
                 "props": {
                  "attributes": {
                   "data-bind": "numericValue: index, valueUpdate: 'input', event: {change: function (){this.changes(this.changes()+1)}}",
                   "orient": "horizontal",
                   "type": "range"
                  },
                  "className": "slider slider is-fullwidth",
                  "max": 29,
                  "min": 1,
                  "step": 1,
                  "style": {}
                 },
                 "type": "node"
                }
               ],
               "instanceArgs": {
                "namespace": "html",
                "tag": "div"
               },
               "nodeType": "DOM",
               "props": {
                "className": "interact-flex-row-center"
               },
               "type": "node"
              },
              {
               "children": [
                {
                 "children": [],
                 "instanceArgs": {
                  "namespace": "html",
                  "tag": "p"
                 },
                 "nodeType": "DOM",
                 "props": {
                  "attributes": {
                   "data-bind": "text: formatted_val"
                  }
                 },
                 "type": "node"
                }
               ],
               "instanceArgs": {
                "namespace": "html",
                "tag": "div"
               },
               "nodeType": "DOM",
               "props": {
                "className": "interact-flex-row-right"
               },
               "type": "node"
              }
             ],
             "instanceArgs": {
              "namespace": "html",
              "tag": "div"
             },
             "nodeType": "DOM",
             "props": {
              "className": "interact-flex-row interact-widget"
             },
             "type": "node"
            }
           ],
           "instanceArgs": {
            "handlers": {
             "changes": [
              "(function (val){return (val!=this.model[\"changes\"]()) ? (this.valueFromJulia[\"changes\"]=true, this.model[\"changes\"](val)) : undefined})"
             ],
             "index": [
              "(function (val){return (val!=this.model[\"index\"]()) ? (this.valueFromJulia[\"index\"]=true, this.model[\"index\"](val)) : undefined})"
             ]
            },
            "id": "7525887450175527402",
            "imports": {
             "data": [
              {
               "name": "knockout",
               "type": "js",
               "url": "/assetserver/d033fda28de5fdb7c6d90919cbd6683e73bd443b-knockout.js"
              },
              {
               "name": "knockout_punches",
               "type": "js",
               "url": "/assetserver/c4515e462c6c31b06468a38b24d65546d76a0006-knockout_punches.js"
              },
              {
               "name": null,
               "type": "js",
               "url": "/assetserver/7160a783468b386025b3685c9691df17912ec29b-all.js"
              },
              {
               "name": null,
               "type": "css",
               "url": "/assetserver/c92112051a0a0326d397440da1a873f367f1d175-style.css"
              },
              {
               "name": null,
               "type": "css",
               "url": "/assetserver/755919ab5089275528f8a583d9fba4e0adcae551-bulma_confined.min.css"
              }
             ],
             "type": "async_block"
            },
            "mount_callbacks": [
             "function () {\n    var handler = (function (ko, koPunches) {\n    ko.punches.enableAll();\n    ko.bindingHandlers.numericValue = {\n        init: function(element, valueAccessor, allBindings, data, context) {\n            var stringified = ko.observable(ko.unwrap(valueAccessor()));\n            stringified.subscribe(function(value) {\n                var val = parseFloat(value);\n                if (!isNaN(val)) {\n                    valueAccessor()(val);\n                }\n            });\n            valueAccessor().subscribe(function(value) {\n                var str = JSON.stringify(value);\n                if ((str == \"0\") && ([\"-0\", \"-0.\"].indexOf(stringified()) >= 0))\n                     return;\n                 if ([\"null\", \"\"].indexOf(str) >= 0)\n                     return;\n                stringified(str);\n            });\n            ko.applyBindingsToNode(\n                element,\n                {\n                    value: stringified,\n                    valueUpdate: allBindings.get('valueUpdate'),\n                },\n                context,\n            );\n        }\n    };\n    var json_data = {\"formatted_vals\":[\"0.0\",\"0.5\",\"1.0\",\"1.5\",\"2.0\",\"2.5\",\"3.0\",\"3.5\",\"4.0\",\"4.5\",\"5.0\",\"5.5\",\"6.0\",\"6.5\",\"7.0\",\"7.5\",\"8.0\",\"8.5\",\"9.0\",\"9.5\",\"10.0\",\"10.5\",\"11.0\",\"11.5\",\"12.0\",\"12.5\",\"13.0\",\"13.5\",\"14.0\"],\"changes\":WebIO.getval({\"name\":\"changes\",\"scope\":\"7525887450175527402\",\"id\":\"ob_03\",\"type\":\"observable\"}),\"index\":WebIO.getval({\"name\":\"index\",\"scope\":\"7525887450175527402\",\"id\":\"ob_02\",\"type\":\"observable\"})};\n    var self = this;\n    function AppViewModel() {\n        for (var key in json_data) {\n            var el = json_data[key];\n            this[key] = Array.isArray(el) ? ko.observableArray(el) : ko.observable(el);\n        }\n        \n        [this[\"formatted_val\"]=ko.computed(    function(){\n        return this.formatted_vals()[parseInt(this.index())-(1)];\n    }\n,this)]\n        [this[\"changes\"].subscribe((function (val){!(this.valueFromJulia[\"changes\"]) ? (WebIO.setval({\"name\":\"changes\",\"scope\":\"7525887450175527402\",\"id\":\"ob_03\",\"type\":\"observable\"},val)) : undefined; return this.valueFromJulia[\"changes\"]=false}),self),this[\"index\"].subscribe((function (val){!(this.valueFromJulia[\"index\"]) ? (WebIO.setval({\"name\":\"index\",\"scope\":\"7525887450175527402\",\"id\":\"ob_02\",\"type\":\"observable\"},val)) : undefined; return this.valueFromJulia[\"index\"]=false}),self)]\n        \n    }\n    self.model = new AppViewModel();\n    self.valueFromJulia = {};\n    for (var key in json_data) {\n        self.valueFromJulia[key] = false;\n    }\n    ko.applyBindings(self.model, self.dom);\n}\n);\n    (WebIO.importBlock({\"data\":[{\"name\":\"knockout\",\"type\":\"js\",\"url\":\"/assetserver/d033fda28de5fdb7c6d90919cbd6683e73bd443b-knockout.js\"},{\"name\":\"knockout_punches\",\"type\":\"js\",\"url\":\"/assetserver/c4515e462c6c31b06468a38b24d65546d76a0006-knockout_punches.js\"}],\"type\":\"async_block\"})).then((imports) => handler.apply(this, imports));\n}\n"
            ],
            "observables": {
             "changes": {
              "id": "ob_03",
              "sync": false,
              "value": 0
             },
             "index": {
              "id": "ob_02",
              "sync": true,
              "value": 15
             }
            },
            "systemjs_options": null
           },
           "nodeType": "Scope",
           "props": {},
           "type": "node"
          }
         ],
         "instanceArgs": {
          "namespace": "html",
          "tag": "div"
         },
         "nodeType": "DOM",
         "props": {
          "className": "field interact-widget"
         },
         "type": "node"
        },
        {
         "children": [
          {
           "children": [],
           "instanceArgs": {
            "id": "ob_17",
            "name": "obs-scope"
           },
           "nodeType": "ObservableNode",
           "props": {},
           "type": "node"
          }
         ],
         "instanceArgs": {
          "handlers": {},
          "id": "9967461838076843283",
          "imports": {
           "data": [],
           "type": "async_block"
          },
          "mount_callbacks": [],
          "observables": {
           "obs-scope": {
            "id": "ob_17",
            "sync": false,
            "value": {
             "children": [
              {
               "children": [
                {
                 "children": [
                  {
                   "children": [
                    {
                     "children": [
                      {
                       "children": [
                        "ped_v"
                       ],
                       "instanceArgs": {
                        "namespace": "html",
                        "tag": "label"
                       },
                       "nodeType": "DOM",
                       "props": {
                        "className": "interact ",
                        "style": {
                         "padding": "5px 10px 0px 10px"
                        }
                       },
                       "type": "node"
                      }
                     ],
                     "instanceArgs": {
                      "namespace": "html",
                      "tag": "div"
                     },
                     "nodeType": "DOM",
                     "props": {
                      "className": "interact-flex-row-left"
                     },
                     "type": "node"
                    },
                    {
                     "children": [
                      {
                       "children": [],
                       "instanceArgs": {
                        "namespace": "html",
                        "tag": "input"
                       },
                       "nodeType": "DOM",
                       "props": {
                        "attributes": {
                         "data-bind": "numericValue: index, valueUpdate: 'input', event: {change: function (){this.changes(this.changes()+1)}}",
                         "orient": "horizontal",
                         "type": "range"
                        },
                        "className": "slider slider is-fullwidth",
                        "max": 5,
                        "min": 1,
                        "step": 1,
                        "style": {}
                       },
                       "type": "node"
                      }
                     ],
                     "instanceArgs": {
                      "namespace": "html",
                      "tag": "div"
                     },
                     "nodeType": "DOM",
                     "props": {
                      "className": "interact-flex-row-center"
                     },
                     "type": "node"
                    },
                    {
                     "children": [
                      {
                       "children": [],
                       "instanceArgs": {
                        "namespace": "html",
                        "tag": "p"
                       },
                       "nodeType": "DOM",
                       "props": {
                        "attributes": {
                         "data-bind": "text: formatted_val"
                        }
                       },
                       "type": "node"
                      }
                     ],
                     "instanceArgs": {
                      "namespace": "html",
                      "tag": "div"
                     },
                     "nodeType": "DOM",
                     "props": {
                      "className": "interact-flex-row-right"
                     },
                     "type": "node"
                    }
                   ],
                   "instanceArgs": {
                    "namespace": "html",
                    "tag": "div"
                   },
                   "nodeType": "DOM",
                   "props": {
                    "className": "interact-flex-row interact-widget"
                   },
                   "type": "node"
                  }
                 ],
                 "instanceArgs": {
                  "handlers": {
                   "changes": [
                    "(function (val){return (val!=this.model[\"changes\"]()) ? (this.valueFromJulia[\"changes\"]=true, this.model[\"changes\"](val)) : undefined})"
                   ],
                   "index": [
                    "(function (val){return (val!=this.model[\"index\"]()) ? (this.valueFromJulia[\"index\"]=true, this.model[\"index\"](val)) : undefined})"
                   ]
                  },
                  "id": "8271146914261323935",
                  "imports": {
                   "data": [
                    {
                     "name": "knockout",
                     "type": "js",
                     "url": "/assetserver/d033fda28de5fdb7c6d90919cbd6683e73bd443b-knockout.js"
                    },
                    {
                     "name": "knockout_punches",
                     "type": "js",
                     "url": "/assetserver/c4515e462c6c31b06468a38b24d65546d76a0006-knockout_punches.js"
                    },
                    {
                     "name": null,
                     "type": "js",
                     "url": "/assetserver/7160a783468b386025b3685c9691df17912ec29b-all.js"
                    },
                    {
                     "name": null,
                     "type": "css",
                     "url": "/assetserver/c92112051a0a0326d397440da1a873f367f1d175-style.css"
                    },
                    {
                     "name": null,
                     "type": "css",
                     "url": "/assetserver/755919ab5089275528f8a583d9fba4e0adcae551-bulma_confined.min.css"
                    }
                   ],
                   "type": "async_block"
                  },
                  "mount_callbacks": [
                   "function () {\n    var handler = (function (ko, koPunches) {\n    ko.punches.enableAll();\n    ko.bindingHandlers.numericValue = {\n        init: function(element, valueAccessor, allBindings, data, context) {\n            var stringified = ko.observable(ko.unwrap(valueAccessor()));\n            stringified.subscribe(function(value) {\n                var val = parseFloat(value);\n                if (!isNaN(val)) {\n                    valueAccessor()(val);\n                }\n            });\n            valueAccessor().subscribe(function(value) {\n                var str = JSON.stringify(value);\n                if ((str == \"0\") && ([\"-0\", \"-0.\"].indexOf(stringified()) >= 0))\n                     return;\n                 if ([\"null\", \"\"].indexOf(str) >= 0)\n                     return;\n                stringified(str);\n            });\n            ko.applyBindingsToNode(\n                element,\n                {\n                    value: stringified,\n                    valueUpdate: allBindings.get('valueUpdate'),\n                },\n                context,\n            );\n        }\n    };\n    var json_data = {\"formatted_vals\":[\"0.0\",\"0.5\",\"1.0\",\"1.5\",\"2.0\"],\"changes\":WebIO.getval({\"name\":\"changes\",\"scope\":\"8271146914261323935\",\"id\":\"ob_06\",\"type\":\"observable\"}),\"index\":WebIO.getval({\"name\":\"index\",\"scope\":\"8271146914261323935\",\"id\":\"ob_05\",\"type\":\"observable\"})};\n    var self = this;\n    function AppViewModel() {\n        for (var key in json_data) {\n            var el = json_data[key];\n            this[key] = Array.isArray(el) ? ko.observableArray(el) : ko.observable(el);\n        }\n        \n        [this[\"formatted_val\"]=ko.computed(    function(){\n        return this.formatted_vals()[parseInt(this.index())-(1)];\n    }\n,this)]\n        [this[\"changes\"].subscribe((function (val){!(this.valueFromJulia[\"changes\"]) ? (WebIO.setval({\"name\":\"changes\",\"scope\":\"8271146914261323935\",\"id\":\"ob_06\",\"type\":\"observable\"},val)) : undefined; return this.valueFromJulia[\"changes\"]=false}),self),this[\"index\"].subscribe((function (val){!(this.valueFromJulia[\"index\"]) ? (WebIO.setval({\"name\":\"index\",\"scope\":\"8271146914261323935\",\"id\":\"ob_05\",\"type\":\"observable\"},val)) : undefined; return this.valueFromJulia[\"index\"]=false}),self)]\n        \n    }\n    self.model = new AppViewModel();\n    self.valueFromJulia = {};\n    for (var key in json_data) {\n        self.valueFromJulia[key] = false;\n    }\n    ko.applyBindings(self.model, self.dom);\n}\n);\n    (WebIO.importBlock({\"data\":[{\"name\":\"knockout\",\"type\":\"js\",\"url\":\"/assetserver/d033fda28de5fdb7c6d90919cbd6683e73bd443b-knockout.js\"},{\"name\":\"knockout_punches\",\"type\":\"js\",\"url\":\"/assetserver/c4515e462c6c31b06468a38b24d65546d76a0006-knockout_punches.js\"}],\"type\":\"async_block\"})).then((imports) => handler.apply(this, imports));\n}\n"
                  ],
                  "observables": {
                   "changes": {
                    "id": "ob_06",
                    "sync": false,
                    "value": 0
                   },
                   "index": {
                    "id": "ob_05",
                    "sync": true,
                    "value": 3
                   }
                  },
                  "systemjs_options": null
                 },
                 "nodeType": "Scope",
                 "props": {},
                 "type": "node"
                }
               ],
               "instanceArgs": {
                "namespace": "html",
                "tag": "div"
               },
               "nodeType": "DOM",
               "props": {
                "className": "field interact-widget"
               },
               "type": "node"
              },
              {
               "children": [
                {
                 "children": [],
                 "instanceArgs": {
                  "id": "ob_18",
                  "name": "obs-node"
                 },
                 "nodeType": "ObservableNode",
                 "props": {},
                 "type": "node"
                }
               ],
               "instanceArgs": {
                "handlers": {},
                "id": "2224483113076278540",
                "imports": {
                 "data": [],
                 "type": "async_block"
                },
                "mount_callbacks": [],
                "observables": {
                 "obs-node": {
                  "id": "ob_18",
                  "sync": false,
                  "value": {
                   "children": [
                    {
                     "children": [],
                     "instanceArgs": {
                      "namespace": "html",
                      "tag": "div"
                     },
                     "nodeType": "DOM",
                     "props": {
                      "setInnerHtml": "<?xml version=\"1.0\" encoding=\"utf-8\"?>\n<svg xmlns=\"http://www.w3.org/2000/svg\" xmlns:xlink=\"http://www.w3.org/1999/xlink\" width=\"600\" height=\"400\" viewBox=\"0 0 2400 1600\">\n<defs>\n  <clipPath id=\"clip7100\">\n    <rect x=\"0\" y=\"0\" width=\"2400\" height=\"1600\"/>\n  </clipPath>\n</defs>\n<path clip-path=\"url(#clip7100)\" d=\"\nM0 1600 L2400 1600 L2400 0 L0 0  Z\n  \" fill=\"#ffffff\" fill-rule=\"evenodd\" fill-opacity=\"1\"/>\n<defs>\n  <clipPath id=\"clip7101\">\n    <rect x=\"480\" y=\"0\" width=\"1681\" height=\"1600\"/>\n  </clipPath>\n</defs>\n<path clip-path=\"url(#clip7100)\" d=\"\nM168.627 1408.35 L2112.76 1408.35 L2112.76 126.373 L168.627 126.373  Z\n  \" fill=\"#ffffff\" fill-rule=\"evenodd\" fill-opacity=\"1\"/>\n<defs>\n  <clipPath id=\"clip7102\">\n    <rect x=\"168\" y=\"126\" width=\"1945\" height=\"1283\"/>\n  </clipPath>\n</defs>\n<polyline clip-path=\"url(#clip7102)\" style=\"stroke:#000000; stroke-width:2; stroke-opacity:0.1; fill:none\" points=\"\n  276.634,1408.35 276.634,126.373 \n  \"/>\n<polyline clip-path=\"url(#clip7102)\" style=\"stroke:#000000; stroke-width:2; stroke-opacity:0.1; fill:none\" points=\"\n  636.658,1408.35 636.658,126.373 \n  \"/>\n<polyline clip-path=\"url(#clip7102)\" style=\"stroke:#000000; stroke-width:2; stroke-opacity:0.1; fill:none\" points=\"\n  996.682,1408.35 996.682,126.373 \n  \"/>\n<polyline clip-path=\"url(#clip7102)\" style=\"stroke:#000000; stroke-width:2; stroke-opacity:0.1; fill:none\" points=\"\n  1356.71,1408.35 1356.71,126.373 \n  \"/>\n<polyline clip-path=\"url(#clip7102)\" style=\"stroke:#000000; stroke-width:2; stroke-opacity:0.1; fill:none\" points=\"\n  1716.73,1408.35 1716.73,126.373 \n  \"/>\n<polyline clip-path=\"url(#clip7102)\" style=\"stroke:#000000; stroke-width:2; stroke-opacity:0.1; fill:none\" points=\"\n  2076.75,1408.35 2076.75,126.373 \n  \"/>\n<polyline clip-path=\"url(#clip7102)\" style=\"stroke:#000000; stroke-width:2; stroke-opacity:0.1; fill:none\" points=\"\n  168.627,1307.4 2112.76,1307.4 \n  \"/>\n<polyline clip-path=\"url(#clip7102)\" style=\"stroke:#000000; stroke-width:2; stroke-opacity:0.1; fill:none\" points=\"\n  168.627,1127.38 2112.76,1127.38 \n  \"/>\n<polyline clip-path=\"url(#clip7102)\" style=\"stroke:#000000; stroke-width:2; stroke-opacity:0.1; fill:none\" points=\"\n  168.627,947.371 2112.76,947.371 \n  \"/>\n<polyline clip-path=\"url(#clip7102)\" style=\"stroke:#000000; stroke-width:2; stroke-opacity:0.1; fill:none\" points=\"\n  168.627,767.359 2112.76,767.359 \n  \"/>\n<polyline clip-path=\"url(#clip7102)\" style=\"stroke:#000000; stroke-width:2; stroke-opacity:0.1; fill:none\" points=\"\n  168.627,587.347 2112.76,587.347 \n  \"/>\n<polyline clip-path=\"url(#clip7102)\" style=\"stroke:#000000; stroke-width:2; stroke-opacity:0.1; fill:none\" points=\"\n  168.627,407.336 2112.76,407.336 \n  \"/>\n<polyline clip-path=\"url(#clip7102)\" style=\"stroke:#000000; stroke-width:2; stroke-opacity:0.1; fill:none\" points=\"\n  168.627,227.324 2112.76,227.324 \n  \"/>\n<polyline clip-path=\"url(#clip7100)\" style=\"stroke:#000000; stroke-width:4; stroke-opacity:1; fill:none\" points=\"\n  168.627,1408.35 2112.76,1408.35 \n  \"/>\n<polyline clip-path=\"url(#clip7100)\" style=\"stroke:#000000; stroke-width:4; stroke-opacity:1; fill:none\" points=\"\n  168.627,1408.35 168.627,126.373 \n  \"/>\n<polyline clip-path=\"url(#clip7100)\" style=\"stroke:#000000; stroke-width:4; stroke-opacity:1; fill:none\" points=\"\n  276.634,1408.35 276.634,1389.12 \n  \"/>\n<polyline clip-path=\"url(#clip7100)\" style=\"stroke:#000000; stroke-width:4; stroke-opacity:1; fill:none\" points=\"\n  636.658,1408.35 636.658,1389.12 \n  \"/>\n<polyline clip-path=\"url(#clip7100)\" style=\"stroke:#000000; stroke-width:4; stroke-opacity:1; fill:none\" points=\"\n  996.682,1408.35 996.682,1389.12 \n  \"/>\n<polyline clip-path=\"url(#clip7100)\" style=\"stroke:#000000; stroke-width:4; stroke-opacity:1; fill:none\" points=\"\n  1356.71,1408.35 1356.71,1389.12 \n  \"/>\n<polyline clip-path=\"url(#clip7100)\" style=\"stroke:#000000; stroke-width:4; stroke-opacity:1; fill:none\" points=\"\n  1716.73,1408.35 1716.73,1389.12 \n  \"/>\n<polyline clip-path=\"url(#clip7100)\" style=\"stroke:#000000; stroke-width:4; stroke-opacity:1; fill:none\" points=\"\n  2076.75,1408.35 2076.75,1389.12 \n  \"/>\n<polyline clip-path=\"url(#clip7100)\" style=\"stroke:#000000; stroke-width:4; stroke-opacity:1; fill:none\" points=\"\n  168.627,1307.4 197.789,1307.4 \n  \"/>\n<polyline clip-path=\"url(#clip7100)\" style=\"stroke:#000000; stroke-width:4; stroke-opacity:1; fill:none\" points=\"\n  168.627,1127.38 197.789,1127.38 \n  \"/>\n<polyline clip-path=\"url(#clip7100)\" style=\"stroke:#000000; stroke-width:4; stroke-opacity:1; fill:none\" points=\"\n  168.627,947.371 197.789,947.371 \n  \"/>\n<polyline clip-path=\"url(#clip7100)\" style=\"stroke:#000000; stroke-width:4; stroke-opacity:1; fill:none\" points=\"\n  168.627,767.359 197.789,767.359 \n  \"/>\n<polyline clip-path=\"url(#clip7100)\" style=\"stroke:#000000; stroke-width:4; stroke-opacity:1; fill:none\" points=\"\n  168.627,587.347 197.789,587.347 \n  \"/>\n<polyline clip-path=\"url(#clip7100)\" style=\"stroke:#000000; stroke-width:4; stroke-opacity:1; fill:none\" points=\"\n  168.627,407.336 197.789,407.336 \n  \"/>\n<polyline clip-path=\"url(#clip7100)\" style=\"stroke:#000000; stroke-width:4; stroke-opacity:1; fill:none\" points=\"\n  168.627,227.324 197.789,227.324 \n  \"/>\n<g clip-path=\"url(#clip7100)\">\n<text style=\"fill:#000000; fill-opacity:1; font-family:Arial,Helvetica Neue,Helvetica,sans-serif; font-size:48px; text-anchor:middle;\" transform=\"rotate(0, 276.634, 1462.35)\" x=\"276.634\" y=\"1462.35\">0</text>\n</g>\n<g clip-path=\"url(#clip7100)\">\n<text style=\"fill:#000000; fill-opacity:1; font-family:Arial,Helvetica Neue,Helvetica,sans-serif; font-size:48px; text-anchor:middle;\" transform=\"rotate(0, 636.658, 1462.35)\" x=\"636.658\" y=\"1462.35\">10</text>\n</g>\n<g clip-path=\"url(#clip7100)\">\n<text style=\"fill:#000000; fill-opacity:1; font-family:Arial,Helvetica Neue,Helvetica,sans-serif; font-size:48px; text-anchor:middle;\" transform=\"rotate(0, 996.682, 1462.35)\" x=\"996.682\" y=\"1462.35\">20</text>\n</g>\n<g clip-path=\"url(#clip7100)\">\n<text style=\"fill:#000000; fill-opacity:1; font-family:Arial,Helvetica Neue,Helvetica,sans-serif; font-size:48px; text-anchor:middle;\" transform=\"rotate(0, 1356.71, 1462.35)\" x=\"1356.71\" y=\"1462.35\">30</text>\n</g>\n<g clip-path=\"url(#clip7100)\">\n<text style=\"fill:#000000; fill-opacity:1; font-family:Arial,Helvetica Neue,Helvetica,sans-serif; font-size:48px; text-anchor:middle;\" transform=\"rotate(0, 1716.73, 1462.35)\" x=\"1716.73\" y=\"1462.35\">40</text>\n</g>\n<g clip-path=\"url(#clip7100)\">\n<text style=\"fill:#000000; fill-opacity:1; font-family:Arial,Helvetica Neue,Helvetica,sans-serif; font-size:48px; text-anchor:middle;\" transform=\"rotate(0, 2076.75, 1462.35)\" x=\"2076.75\" y=\"1462.35\">50</text>\n</g>\n<g clip-path=\"url(#clip7100)\">\n<text style=\"fill:#000000; fill-opacity:1; font-family:Arial,Helvetica Neue,Helvetica,sans-serif; font-size:48px; text-anchor:end;\" transform=\"rotate(0, 144.627, 1324.9)\" x=\"144.627\" y=\"1324.9\">-15</text>\n</g>\n<g clip-path=\"url(#clip7100)\">\n<text style=\"fill:#000000; fill-opacity:1; font-family:Arial,Helvetica Neue,Helvetica,sans-serif; font-size:48px; text-anchor:end;\" transform=\"rotate(0, 144.627, 1144.88)\" x=\"144.627\" y=\"1144.88\">-10</text>\n</g>\n<g clip-path=\"url(#clip7100)\">\n<text style=\"fill:#000000; fill-opacity:1; font-family:Arial,Helvetica Neue,Helvetica,sans-serif; font-size:48px; text-anchor:end;\" transform=\"rotate(0, 144.627, 964.871)\" x=\"144.627\" y=\"964.871\">-5</text>\n</g>\n<g clip-path=\"url(#clip7100)\">\n<text style=\"fill:#000000; fill-opacity:1; font-family:Arial,Helvetica Neue,Helvetica,sans-serif; font-size:48px; text-anchor:end;\" transform=\"rotate(0, 144.627, 784.859)\" x=\"144.627\" y=\"784.859\">0</text>\n</g>\n<g clip-path=\"url(#clip7100)\">\n<text style=\"fill:#000000; fill-opacity:1; font-family:Arial,Helvetica Neue,Helvetica,sans-serif; font-size:48px; text-anchor:end;\" transform=\"rotate(0, 144.627, 604.847)\" x=\"144.627\" y=\"604.847\">5</text>\n</g>\n<g clip-path=\"url(#clip7100)\">\n<text style=\"fill:#000000; fill-opacity:1; font-family:Arial,Helvetica Neue,Helvetica,sans-serif; font-size:48px; text-anchor:end;\" transform=\"rotate(0, 144.627, 424.836)\" x=\"144.627\" y=\"424.836\">10</text>\n</g>\n<g clip-path=\"url(#clip7100)\">\n<text style=\"fill:#000000; fill-opacity:1; font-family:Arial,Helvetica Neue,Helvetica,sans-serif; font-size:48px; text-anchor:end;\" transform=\"rotate(0, 144.627, 244.824)\" x=\"144.627\" y=\"244.824\">15</text>\n</g>\n<g clip-path=\"url(#clip7102)\">\n<image width=\"1944\" height=\"396\" xlink:href=\"data:image/png;base64,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\nRK5CYII=\n\" transform=\"translate(169, 569)\"/>\n</g>\n<defs>\n  <clipPath id=\"clip7103\">\n    <rect x=\"2160\" y=\"126\" width=\"73\" height=\"1283\"/>\n  </clipPath>\n</defs>\n<g clip-path=\"url(#clip7103)\">\n<image width=\"72\" height=\"1282\" xlink:href=\"data:image/png;base64,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\n\" transform=\"translate(2161, 126)\"/>\n</g>\n<g clip-path=\"url(#clip7100)\">\n<text style=\"fill:#000000; fill-opacity:1; font-family:Arial,Helvetica Neue,Helvetica,sans-serif; font-size:48px; text-anchor:start;\" transform=\"rotate(0, 2268.76, 1422)\" x=\"2268.76\" y=\"1422\">-</text>\n</g>\n<g clip-path=\"url(#clip7100)\">\n<text style=\"fill:#000000; fill-opacity:1; font-family:Arial,Helvetica Neue,Helvetica,sans-serif; font-size:48px; text-anchor:start;\" transform=\"rotate(0, 2296.87, 1422)\" x=\"2296.87\" y=\"1422\">4</text>\n</g>\n<g clip-path=\"url(#clip7100)\">\n<text style=\"fill:#000000; fill-opacity:1; font-family:Arial,Helvetica Neue,Helvetica,sans-serif; font-size:48px; text-anchor:start;\" transform=\"rotate(0, 2268.76, 1165.6)\" x=\"2268.76\" y=\"1165.6\">-</text>\n</g>\n<g clip-path=\"url(#clip7100)\">\n<text style=\"fill:#000000; fill-opacity:1; font-family:Arial,Helvetica Neue,Helvetica,sans-serif; font-size:48px; text-anchor:start;\" transform=\"rotate(0, 2296.87, 1165.6)\" x=\"2296.87\" y=\"1165.6\">3</text>\n</g>\n<g clip-path=\"url(#clip7100)\">\n<text style=\"fill:#000000; fill-opacity:1; font-family:Arial,Helvetica Neue,Helvetica,sans-serif; font-size:48px; text-anchor:start;\" transform=\"rotate(0, 2268.76, 909.208)\" x=\"2268.76\" y=\"909.208\">-</text>\n</g>\n<g clip-path=\"url(#clip7100)\">\n<text style=\"fill:#000000; fill-opacity:1; font-family:Arial,Helvetica Neue,Helvetica,sans-serif; font-size:48px; text-anchor:start;\" transform=\"rotate(0, 2296.87, 909.208)\" x=\"2296.87\" y=\"909.208\">2</text>\n</g>\n<g clip-path=\"url(#clip7100)\">\n<text style=\"fill:#000000; fill-opacity:1; font-family:Arial,Helvetica Neue,Helvetica,sans-serif; font-size:48px; text-anchor:start;\" transform=\"rotate(0, 2268.76, 652.813)\" x=\"2268.76\" y=\"652.813\">-</text>\n</g>\n<g clip-path=\"url(#clip7100)\">\n<text style=\"fill:#000000; fill-opacity:1; font-family:Arial,Helvetica Neue,Helvetica,sans-serif; font-size:48px; text-anchor:start;\" transform=\"rotate(0, 2296.87, 652.813)\" x=\"2296.87\" y=\"652.813\">1</text>\n</g>\n<g clip-path=\"url(#clip7100)\">\n<text style=\"fill:#000000; fill-opacity:1; font-family:Arial,Helvetica Neue,Helvetica,sans-serif; font-size:48px; text-anchor:start;\" transform=\"rotate(0, 2268.76, 396.419)\" x=\"2268.76\" y=\"396.419\">0</text>\n</g>\n<g clip-path=\"url(#clip7100)\">\n<text style=\"fill:#000000; fill-opacity:1; font-family:Arial,Helvetica Neue,Helvetica,sans-serif; font-size:48px; text-anchor:start;\" transform=\"rotate(0, 2268.76, 140.024)\" x=\"2268.76\" y=\"140.024\">1</text>\n</g>\n<polyline clip-path=\"url(#clip7100)\" style=\"stroke:#000000; stroke-width:4; stroke-opacity:1; fill:none\" points=\"\n  2232.76,1408.35 2232.76,1408.35 2256.76,1408.35 2232.76,1408.35 2232.76,1151.95 2256.76,1151.95 2232.76,1151.95 2232.76,895.557 2256.76,895.557 2232.76,895.557 \n  2232.76,639.162 2256.76,639.162 2232.76,639.162 2232.76,382.768 2256.76,382.768 2232.76,382.768 2232.76,126.373 2256.76,126.373 2232.76,126.373 \n  \n  \"/>\n</svg>\n"
                     },
                     "type": "node"
                    }
                   ],
                   "instanceArgs": {
                    "namespace": "html",
                    "tag": "div"
                   },
                   "nodeType": "DOM",
                   "props": {
                    "className": "interact-flex-row interact-widget"
                   },
                   "type": "node"
                  }
                 }
                },
                "systemjs_options": null
               },
               "nodeType": "Scope",
               "props": {},
               "type": "node"
              }
             ],
             "instanceArgs": {
              "namespace": "html",
              "tag": "div"
             },
             "nodeType": "DOM",
             "props": {},
             "type": "node"
            }
           }
          },
          "systemjs_options": null
         },
         "nodeType": "Scope",
         "props": {},
         "type": "node"
        }
       ],
       "instanceArgs": {
        "namespace": "html",
        "tag": "div"
       },
       "nodeType": "DOM",
       "props": {},
       "type": "node"
      },
      "text/html": [
       "<div\n",
       "    class=\"webio-mountpoint\"\n",
       "    data-webio-mountpoint=\"6398001260410954500\"\n",
       ">\n",
       "    <script>\n",
       "    if (window.require && require.defined && require.defined(\"nbextensions/webio-jupyter-notebook\")) {\n",
       "        console.log(\"Jupyter WebIO extension detected, not mounting.\");\n",
       "    } else if (window.WebIO) {\n",
       "        WebIO.mount(\n",
       "            document.querySelector('[data-webio-mountpoint=\"6398001260410954500\"]'),\n",
       "            {\"props\":{},\"nodeType\":\"DOM\",\"type\":\"node\",\"instanceArgs\":{\"namespace\":\"html\",\"tag\":\"div\"},\"children\":[{\"props\":{\"className\":\"field interact-widget\"},\"nodeType\":\"DOM\",\"type\":\"node\",\"instanceArgs\":{\"namespace\":\"html\",\"tag\":\"div\"},\"children\":[{\"props\":{},\"nodeType\":\"Scope\",\"type\":\"node\",\"instanceArgs\":{\"imports\":{\"data\":[{\"name\":\"knockout\",\"type\":\"js\",\"url\":\"\\/assetserver\\/d033fda28de5fdb7c6d90919cbd6683e73bd443b-knockout.js\"},{\"name\":\"knockout_punches\",\"type\":\"js\",\"url\":\"\\/assetserver\\/c4515e462c6c31b06468a38b24d65546d76a0006-knockout_punches.js\"},{\"name\":null,\"type\":\"js\",\"url\":\"\\/assetserver\\/7160a783468b386025b3685c9691df17912ec29b-all.js\"},{\"name\":null,\"type\":\"css\",\"url\":\"\\/assetserver\\/c92112051a0a0326d397440da1a873f367f1d175-style.css\"},{\"name\":null,\"type\":\"css\",\"url\":\"\\/assetserver\\/755919ab5089275528f8a583d9fba4e0adcae551-bulma_confined.min.css\"}],\"type\":\"async_block\"},\"id\":\"7525887450175527402\",\"handlers\":{\"changes\":[\"(function (val){return (val!=this.model[\\\"changes\\\"]()) ? (this.valueFromJulia[\\\"changes\\\"]=true, this.model[\\\"changes\\\"](val)) : undefined})\"],\"index\":[\"(function (val){return (val!=this.model[\\\"index\\\"]()) ? (this.valueFromJulia[\\\"index\\\"]=true, this.model[\\\"index\\\"](val)) : undefined})\"]},\"systemjs_options\":null,\"mount_callbacks\":[\"function () {\\n    var handler = (function (ko, koPunches) {\\n    ko.punches.enableAll();\\n    ko.bindingHandlers.numericValue = {\\n        init: function(element, valueAccessor, allBindings, data, context) {\\n            var stringified = ko.observable(ko.unwrap(valueAccessor()));\\n            stringified.subscribe(function(value) {\\n                var val = parseFloat(value);\\n                if (!isNaN(val)) {\\n                    valueAccessor()(val);\\n                }\\n            });\\n            valueAccessor().subscribe(function(value) {\\n                var str = JSON.stringify(value);\\n                if ((str == \\\"0\\\") && ([\\\"-0\\\", \\\"-0.\\\"].indexOf(stringified()) >= 0))\\n                     return;\\n                 if ([\\\"null\\\", \\\"\\\"].indexOf(str) >= 0)\\n                     return;\\n                stringified(str);\\n            });\\n            ko.applyBindingsToNode(\\n                element,\\n                {\\n                    value: stringified,\\n                    valueUpdate: allBindings.get('valueUpdate'),\\n                },\\n                context,\\n            );\\n        }\\n    };\\n    var json_data = {\\\"formatted_vals\\\":[\\\"0.0\\\",\\\"0.5\\\",\\\"1.0\\\",\\\"1.5\\\",\\\"2.0\\\",\\\"2.5\\\",\\\"3.0\\\",\\\"3.5\\\",\\\"4.0\\\",\\\"4.5\\\",\\\"5.0\\\",\\\"5.5\\\",\\\"6.0\\\",\\\"6.5\\\",\\\"7.0\\\",\\\"7.5\\\",\\\"8.0\\\",\\\"8.5\\\",\\\"9.0\\\",\\\"9.5\\\",\\\"10.0\\\",\\\"10.5\\\",\\\"11.0\\\",\\\"11.5\\\",\\\"12.0\\\",\\\"12.5\\\",\\\"13.0\\\",\\\"13.5\\\",\\\"14.0\\\"],\\\"changes\\\":WebIO.getval({\\\"name\\\":\\\"changes\\\",\\\"scope\\\":\\\"7525887450175527402\\\",\\\"id\\\":\\\"ob_03\\\",\\\"type\\\":\\\"observable\\\"}),\\\"index\\\":WebIO.getval({\\\"name\\\":\\\"index\\\",\\\"scope\\\":\\\"7525887450175527402\\\",\\\"id\\\":\\\"ob_02\\\",\\\"type\\\":\\\"observable\\\"})};\\n    var self = this;\\n    function AppViewModel() {\\n        for (var key in json_data) {\\n            var el = json_data[key];\\n            this[key] = Array.isArray(el) ? ko.observableArray(el) : ko.observable(el);\\n        }\\n        \\n        [this[\\\"formatted_val\\\"]=ko.computed(    function(){\\n        return this.formatted_vals()[parseInt(this.index())-(1)];\\n    }\\n,this)]\\n        [this[\\\"changes\\\"].subscribe((function (val){!(this.valueFromJulia[\\\"changes\\\"]) ? (WebIO.setval({\\\"name\\\":\\\"changes\\\",\\\"scope\\\":\\\"7525887450175527402\\\",\\\"id\\\":\\\"ob_03\\\",\\\"type\\\":\\\"observable\\\"},val)) : undefined; return this.valueFromJulia[\\\"changes\\\"]=false}),self),this[\\\"index\\\"].subscribe((function (val){!(this.valueFromJulia[\\\"index\\\"]) ? (WebIO.setval({\\\"name\\\":\\\"index\\\",\\\"scope\\\":\\\"7525887450175527402\\\",\\\"id\\\":\\\"ob_02\\\",\\\"type\\\":\\\"observable\\\"},val)) : undefined; return this.valueFromJulia[\\\"index\\\"]=false}),self)]\\n        \\n    }\\n    self.model = new AppViewModel();\\n    self.valueFromJulia = {};\\n    for (var key in json_data) {\\n        self.valueFromJulia[key] = false;\\n    }\\n    ko.applyBindings(self.model, self.dom);\\n}\\n);\\n    (WebIO.importBlock({\\\"data\\\":[{\\\"name\\\":\\\"knockout\\\",\\\"type\\\":\\\"js\\\",\\\"url\\\":\\\"\\/assetserver\\/d033fda28de5fdb7c6d90919cbd6683e73bd443b-knockout.js\\\"},{\\\"name\\\":\\\"knockout_punches\\\",\\\"type\\\":\\\"js\\\",\\\"url\\\":\\\"\\/assetserver\\/c4515e462c6c31b06468a38b24d65546d76a0006-knockout_punches.js\\\"}],\\\"type\\\":\\\"async_block\\\"})).then((imports) => handler.apply(this, imports));\\n}\\n\"],\"observables\":{\"changes\":{\"sync\":false,\"id\":\"ob_03\",\"value\":0},\"index\":{\"sync\":true,\"id\":\"ob_02\",\"value\":15}}},\"children\":[{\"props\":{\"className\":\"interact-flex-row interact-widget\"},\"nodeType\":\"DOM\",\"type\":\"node\",\"instanceArgs\":{\"namespace\":\"html\",\"tag\":\"div\"},\"children\":[{\"props\":{\"className\":\"interact-flex-row-left\"},\"nodeType\":\"DOM\",\"type\":\"node\",\"instanceArgs\":{\"namespace\":\"html\",\"tag\":\"div\"},\"children\":[{\"props\":{\"className\":\"interact \",\"style\":{\"padding\":\"5px 10px 0px 10px\"}},\"nodeType\":\"DOM\",\"type\":\"node\",\"instanceArgs\":{\"namespace\":\"html\",\"tag\":\"label\"},\"children\":[\"ego_v\"]}]},{\"props\":{\"className\":\"interact-flex-row-center\"},\"nodeType\":\"DOM\",\"type\":\"node\",\"instanceArgs\":{\"namespace\":\"html\",\"tag\":\"div\"},\"children\":[{\"props\":{\"max\":29,\"min\":1,\"attributes\":{\"type\":\"range\",\"data-bind\":\"numericValue: index, valueUpdate: 'input', event: {change: function (){this.changes(this.changes()+1)}}\",\"orient\":\"horizontal\"},\"step\":1,\"className\":\"slider slider is-fullwidth\",\"style\":{}},\"nodeType\":\"DOM\",\"type\":\"node\",\"instanceArgs\":{\"namespace\":\"html\",\"tag\":\"input\"},\"children\":[]}]},{\"props\":{\"className\":\"interact-flex-row-right\"},\"nodeType\":\"DOM\",\"type\":\"node\",\"instanceArgs\":{\"namespace\":\"html\",\"tag\":\"div\"},\"children\":[{\"props\":{\"attributes\":{\"data-bind\":\"text: formatted_val\"}},\"nodeType\":\"DOM\",\"type\":\"node\",\"instanceArgs\":{\"namespace\":\"html\",\"tag\":\"p\"},\"children\":[]}]}]}]}]},{\"props\":{},\"nodeType\":\"Scope\",\"type\":\"node\",\"instanceArgs\":{\"imports\":{\"data\":[],\"type\":\"async_block\"},\"id\":\"3174913975295305675\",\"handlers\":{},\"systemjs_options\":null,\"mount_callbacks\":[],\"observables\":{\"obs-scope\":{\"sync\":false,\"id\":\"ob_13\",\"value\":{\"props\":{},\"nodeType\":\"DOM\",\"type\":\"node\",\"instanceArgs\":{\"namespace\":\"html\",\"tag\":\"div\"},\"children\":[{\"props\":{\"className\":\"field interact-widget\"},\"nodeType\":\"DOM\",\"type\":\"node\",\"instanceArgs\":{\"namespace\":\"html\",\"tag\":\"div\"},\"children\":[{\"props\":{},\"nodeType\":\"Scope\",\"type\":\"node\",\"instanceArgs\":{\"imports\":{\"data\":[{\"name\":\"knockout\",\"type\":\"js\",\"url\":\"\\/assetserver\\/d033fda28de5fdb7c6d90919cbd6683e73bd443b-knockout.js\"},{\"name\":\"knockout_punches\",\"type\":\"js\",\"url\":\"\\/assetserver\\/c4515e462c6c31b06468a38b24d65546d76a0006-knockout_punches.js\"},{\"name\":null,\"type\":\"js\",\"url\":\"\\/assetserver\\/7160a783468b386025b3685c9691df17912ec29b-all.js\"},{\"name\":null,\"type\":\"css\",\"url\":\"\\/assetserver\\/c92112051a0a0326d397440da1a873f367f1d175-style.css\"},{\"name\":null,\"type\":\"css\",\"url\":\"\\/assetserver\\/755919ab5089275528f8a583d9fba4e0adcae551-bulma_confined.min.css\"}],\"type\":\"async_block\"},\"id\":\"8271146914261323935\",\"handlers\":{\"changes\":[\"(function (val){return (val!=this.model[\\\"changes\\\"]()) ? (this.valueFromJulia[\\\"changes\\\"]=true, this.model[\\\"changes\\\"](val)) : undefined})\"],\"index\":[\"(function (val){return (val!=this.model[\\\"index\\\"]()) ? (this.valueFromJulia[\\\"index\\\"]=true, this.model[\\\"index\\\"](val)) : undefined})\"]},\"systemjs_options\":null,\"mount_callbacks\":[\"function () {\\n    var handler = (function (ko, koPunches) {\\n    ko.punches.enableAll();\\n    ko.bindingHandlers.numericValue = {\\n        init: function(element, valueAccessor, allBindings, data, context) {\\n            var stringified = ko.observable(ko.unwrap(valueAccessor()));\\n            stringified.subscribe(function(value) {\\n                var val = parseFloat(value);\\n                if (!isNaN(val)) {\\n                    valueAccessor()(val);\\n                }\\n            });\\n            valueAccessor().subscribe(function(value) {\\n                var str = JSON.stringify(value);\\n                if ((str == \\\"0\\\") && ([\\\"-0\\\", \\\"-0.\\\"].indexOf(stringified()) >= 0))\\n                     return;\\n                 if ([\\\"null\\\", \\\"\\\"].indexOf(str) >= 0)\\n                     return;\\n                stringified(str);\\n            });\\n            ko.applyBindingsToNode(\\n                element,\\n                {\\n                    value: stringified,\\n                    valueUpdate: allBindings.get('valueUpdate'),\\n                },\\n                context,\\n            );\\n        }\\n    };\\n    var json_data = {\\\"formatted_vals\\\":[\\\"0.0\\\",\\\"0.5\\\",\\\"1.0\\\",\\\"1.5\\\",\\\"2.0\\\"],\\\"changes\\\":WebIO.getval({\\\"name\\\":\\\"changes\\\",\\\"scope\\\":\\\"8271146914261323935\\\",\\\"id\\\":\\\"ob_06\\\",\\\"type\\\":\\\"observable\\\"}),\\\"index\\\":WebIO.getval({\\\"name\\\":\\\"index\\\",\\\"scope\\\":\\\"8271146914261323935\\\",\\\"id\\\":\\\"ob_05\\\",\\\"type\\\":\\\"observable\\\"})};\\n    var self = this;\\n    function AppViewModel() {\\n        for (var key in json_data) {\\n            var el = json_data[key];\\n            this[key] = Array.isArray(el) ? ko.observableArray(el) : ko.observable(el);\\n        }\\n        \\n        [this[\\\"formatted_val\\\"]=ko.computed(    function(){\\n        return this.formatted_vals()[parseInt(this.index())-(1)];\\n    }\\n,this)]\\n        [this[\\\"changes\\\"].subscribe((function (val){!(this.valueFromJulia[\\\"changes\\\"]) ? (WebIO.setval({\\\"name\\\":\\\"changes\\\",\\\"scope\\\":\\\"8271146914261323935\\\",\\\"id\\\":\\\"ob_06\\\",\\\"type\\\":\\\"observable\\\"},val)) : undefined; return this.valueFromJulia[\\\"changes\\\"]=false}),self),this[\\\"index\\\"].subscribe((function (val){!(this.valueFromJulia[\\\"index\\\"]) ? (WebIO.setval({\\\"name\\\":\\\"index\\\",\\\"scope\\\":\\\"8271146914261323935\\\",\\\"id\\\":\\\"ob_05\\\",\\\"type\\\":\\\"observable\\\"},val)) : undefined; return this.valueFromJulia[\\\"index\\\"]=false}),self)]\\n        \\n    }\\n    self.model = new AppViewModel();\\n    self.valueFromJulia = {};\\n    for (var key in json_data) {\\n        self.valueFromJulia[key] = false;\\n    }\\n    ko.applyBindings(self.model, self.dom);\\n}\\n);\\n    (WebIO.importBlock({\\\"data\\\":[{\\\"name\\\":\\\"knockout\\\",\\\"type\\\":\\\"js\\\",\\\"url\\\":\\\"\\/assetserver\\/d033fda28de5fdb7c6d90919cbd6683e73bd443b-knockout.js\\\"},{\\\"name\\\":\\\"knockout_punches\\\",\\\"type\\\":\\\"js\\\",\\\"url\\\":\\\"\\/assetserver\\/c4515e462c6c31b06468a38b24d65546d76a0006-knockout_punches.js\\\"}],\\\"type\\\":\\\"async_block\\\"})).then((imports) => handler.apply(this, imports));\\n}\\n\"],\"observables\":{\"changes\":{\"sync\":false,\"id\":\"ob_06\",\"value\":0},\"index\":{\"sync\":true,\"id\":\"ob_05\",\"value\":3}}},\"children\":[{\"props\":{\"className\":\"interact-flex-row interact-widget\"},\"nodeType\":\"DOM\",\"type\":\"node\",\"instanceArgs\":{\"namespace\":\"html\",\"tag\":\"div\"},\"children\":[{\"props\":{\"className\":\"interact-flex-row-left\"},\"nodeType\":\"DOM\",\"type\":\"node\",\"instanceArgs\":{\"namespace\":\"html\",\"tag\":\"div\"},\"children\":[{\"props\":{\"className\":\"interact \",\"style\":{\"padding\":\"5px 10px 0px 10px\"}},\"nodeType\":\"DOM\",\"type\":\"node\",\"instanceArgs\":{\"namespace\":\"html\",\"tag\":\"label\"},\"children\":[\"ped_v\"]}]},{\"props\":{\"className\":\"interact-flex-row-center\"},\"nodeType\":\"DOM\",\"type\":\"node\",\"instanceArgs\":{\"namespace\":\"html\",\"tag\":\"div\"},\"children\":[{\"props\":{\"max\":5,\"min\":1,\"attributes\":{\"type\":\"range\",\"data-bind\":\"numericValue: index, valueUpdate: 'input', event: {change: function (){this.changes(this.changes()+1)}}\",\"orient\":\"horizontal\"},\"step\":1,\"className\":\"slider slider is-fullwidth\",\"style\":{}},\"nodeType\":\"DOM\",\"type\":\"node\",\"instanceArgs\":{\"namespace\":\"html\",\"tag\":\"input\"},\"children\":[]}]},{\"props\":{\"className\":\"interact-flex-row-right\"},\"nodeType\":\"DOM\",\"type\":\"node\",\"instanceArgs\":{\"namespace\":\"html\",\"tag\":\"div\"},\"children\":[{\"props\":{\"attributes\":{\"data-bind\":\"text: formatted_val\"}},\"nodeType\":\"DOM\",\"type\":\"node\",\"instanceArgs\":{\"namespace\":\"html\",\"tag\":\"p\"},\"children\":[]}]}]}]}]},{\"props\":{},\"nodeType\":\"Scope\",\"type\":\"node\",\"instanceArgs\":{\"imports\":{\"data\":[],\"type\":\"async_block\"},\"id\":\"9657974636660418149\",\"handlers\":{},\"systemjs_options\":null,\"mount_callbacks\":[],\"observables\":{\"obs-node\":{\"sync\":false,\"id\":\"ob_14\",\"value\":{\"props\":{\"className\":\"interact-flex-row interact-widget\"},\"nodeType\":\"DOM\",\"type\":\"node\",\"instanceArgs\":{\"namespace\":\"html\",\"tag\":\"div\"},\"children\":[{\"props\":{\"setInnerHtml\":\"<?xml version=\\\"1.0\\\" encoding=\\\"utf-8\\\"?>\\n<svg xmlns=\\\"http:\\/\\/www.w3.org\\/2000\\/svg\\\" xmlns:xlink=\\\"http:\\/\\/www.w3.org\\/1999\\/xlink\\\" width=\\\"600\\\" height=\\\"400\\\" viewBox=\\\"0 0 2400 1600\\\">\\n<defs>\\n  <clipPath id=\\\"clip6700\\\">\\n    <rect x=\\\"0\\\" y=\\\"0\\\" width=\\\"2400\\\" height=\\\"1600\\\"\\/>\\n  <\\/clipPath>\\n<\\/defs>\\n<path clip-path=\\\"url(#clip6700)\\\" d=\\\"\\nM0 1600 L2400 1600 L2400 0 L0 0  Z\\n  \\\" fill=\\\"#ffffff\\\" fill-rule=\\\"evenodd\\\" fill-opacity=\\\"1\\\"\\/>\\n<defs>\\n  <clipPath id=\\\"clip6701\\\">\\n    <rect x=\\\"480\\\" y=\\\"0\\\" width=\\\"1681\\\" height=\\\"1600\\\"\\/>\\n  <\\/clipPath>\\n<\\/defs>\\n<path clip-path=\\\"url(#clip6700)\\\" d=\\\"\\nM168.627 1408.35 L2112.76 1408.35 L2112.76 126.373 L168.627 126.373  Z\\n  \\\" fill=\\\"#ffffff\\\" fill-rule=\\\"evenodd\\\" fill-opacity=\\\"1\\\"\\/>\\n<defs>\\n  <clipPath id=\\\"clip6702\\\">\\n    <rect x=\\\"168\\\" y=\\\"126\\\" width=\\\"1945\\\" height=\\\"1283\\\"\\/>\\n  <\\/clipPath>\\n<\\/defs>\\n<polyline clip-path=\\\"url(#clip6702)\\\" style=\\\"stroke:#000000; stroke-width:2; stroke-opacity:0.1; fill:none\\\" points=\\\"\\n  276.634,1408.35 276.634,126.373 \\n  \\\"\\/>\\n<polyline clip-path=\\\"url(#clip6702)\\\" style=\\\"stroke:#000000; stroke-width:2; stroke-opacity:0.1; fill:none\\\" points=\\\"\\n  636.658,1408.35 636.658,126.373 \\n  \\\"\\/>\\n<polyline clip-path=\\\"url(#clip6702)\\\" style=\\\"stroke:#000000; stroke-width:2; stroke-opacity:0.1; fill:none\\\" points=\\\"\\n  996.682,1408.35 996.682,126.373 \\n  \\\"\\/>\\n<polyline clip-path=\\\"url(#clip6702)\\\" style=\\\"stroke:#000000; stroke-width:2; stroke-opacity:0.1; fill:none\\\" points=\\\"\\n  1356.71,1408.35 1356.71,126.373 \\n  \\\"\\/>\\n<polyline clip-path=\\\"url(#clip6702)\\\" style=\\\"stroke:#000000; stroke-width:2; stroke-opacity:0.1; fill:none\\\" points=\\\"\\n  1716.73,1408.35 1716.73,126.373 \\n  \\\"\\/>\\n<polyline clip-path=\\\"url(#clip6702)\\\" style=\\\"stroke:#000000; stroke-width:2; stroke-opacity:0.1; fill:none\\\" points=\\\"\\n  2076.75,1408.35 2076.75,126.373 \\n  \\\"\\/>\\n<polyline clip-path=\\\"url(#clip6702)\\\" style=\\\"stroke:#000000; stroke-width:2; stroke-opacity:0.1; fill:none\\\" points=\\\"\\n  168.627,1307.4 2112.76,1307.4 \\n  \\\"\\/>\\n<polyline clip-path=\\\"url(#clip6702)\\\" style=\\\"stroke:#000000; stroke-width:2; stroke-opacity:0.1; fill:none\\\" points=\\\"\\n  168.627,1127.38 2112.76,1127.38 \\n  \\\"\\/>\\n<polyline clip-path=\\\"url(#clip6702)\\\" style=\\\"stroke:#000000; stroke-width:2; stroke-opacity:0.1; fill:none\\\" points=\\\"\\n  168.627,947.371 2112.76,947.371 \\n  \\\"\\/>\\n<polyline clip-path=\\\"url(#clip6702)\\\" style=\\\"stroke:#000000; stroke-width:2; stroke-opacity:0.1; fill:none\\\" points=\\\"\\n  168.627,767.359 2112.76,767.359 \\n  \\\"\\/>\\n<polyline clip-path=\\\"url(#clip6702)\\\" style=\\\"stroke:#000000; stroke-width:2; stroke-opacity:0.1; fill:none\\\" points=\\\"\\n  168.627,587.347 2112.76,587.347 \\n  \\\"\\/>\\n<polyline clip-path=\\\"url(#clip6702)\\\" style=\\\"stroke:#000000; stroke-width:2; stroke-opacity:0.1; fill:none\\\" points=\\\"\\n  168.627,407.336 2112.76,407.336 \\n  \\\"\\/>\\n<polyline clip-path=\\\"url(#clip6702)\\\" style=\\\"stroke:#000000; stroke-width:2; stroke-opacity:0.1; fill:none\\\" points=\\\"\\n  168.627,227.324 2112.76,227.324 \\n  \\\"\\/>\\n<polyline clip-path=\\\"url(#clip6700)\\\" style=\\\"stroke:#000000; stroke-width:4; stroke-opacity:1; fill:none\\\" points=\\\"\\n  168.627,1408.35 2112.76,1408.35 \\n  \\\"\\/>\\n<polyline clip-path=\\\"url(#clip6700)\\\" style=\\\"stroke:#000000; stroke-width:4; stroke-opacity:1; fill:none\\\" points=\\\"\\n  168.627,1408.35 168.627,126.373 \\n  \\\"\\/>\\n<polyline clip-path=\\\"url(#clip6700)\\\" style=\\\"stroke:#000000; stroke-width:4; stroke-opacity:1; fill:none\\\" points=\\\"\\n  276.634,1408.35 276.634,1389.12 \\n  \\\"\\/>\\n<polyline clip-path=\\\"url(#clip6700)\\\" style=\\\"stroke:#000000; stroke-width:4; stroke-opacity:1; fill:none\\\" points=\\\"\\n  636.658,1408.35 636.658,1389.12 \\n  \\\"\\/>\\n<polyline clip-path=\\\"url(#clip6700)\\\" style=\\\"stroke:#000000; stroke-width:4; stroke-opacity:1; fill:none\\\" points=\\\"\\n  996.682,1408.35 996.682,1389.12 \\n  \\\"\\/>\\n<polyline clip-path=\\\"url(#clip6700)\\\" style=\\\"stroke:#000000; stroke-width:4; stroke-opacity:1; fill:none\\\" points=\\\"\\n  1356.71,1408.35 1356.71,1389.12 \\n  \\\"\\/>\\n<polyline clip-path=\\\"url(#clip6700)\\\" style=\\\"stroke:#000000; stroke-width:4; stroke-opacity:1; fill:none\\\" points=\\\"\\n  1716.73,1408.35 1716.73,1389.12 \\n  \\\"\\/>\\n<polyline clip-path=\\\"url(#clip6700)\\\" style=\\\"stroke:#000000; stroke-width:4; stroke-opacity:1; fill:none\\\" points=\\\"\\n  2076.75,1408.35 2076.75,1389.12 \\n  \\\"\\/>\\n<polyline clip-path=\\\"url(#clip6700)\\\" style=\\\"stroke:#000000; stroke-width:4; stroke-opacity:1; fill:none\\\" points=\\\"\\n  168.627,1307.4 197.789,1307.4 \\n  \\\"\\/>\\n<polyline clip-path=\\\"url(#clip6700)\\\" style=\\\"stroke:#000000; stroke-width:4; stroke-opacity:1; fill:none\\\" points=\\\"\\n  168.627,1127.38 197.789,1127.38 \\n  \\\"\\/>\\n<polyline clip-path=\\\"url(#clip6700)\\\" style=\\\"stroke:#000000; stroke-width:4; stroke-opacity:1; fill:none\\\" points=\\\"\\n  168.627,947.371 197.789,947.371 \\n  \\\"\\/>\\n<polyline clip-path=\\\"url(#clip6700)\\\" style=\\\"stroke:#000000; stroke-width:4; stroke-opacity:1; fill:none\\\" points=\\\"\\n  168.627,767.359 197.789,767.359 \\n  \\\"\\/>\\n<polyline clip-path=\\\"url(#clip6700)\\\" style=\\\"stroke:#000000; stroke-width:4; stroke-opacity:1; fill:none\\\" points=\\\"\\n  168.627,587.347 197.789,587.347 \\n  \\\"\\/>\\n<polyline clip-path=\\\"url(#clip6700)\\\" style=\\\"stroke:#000000; stroke-width:4; stroke-opacity:1; fill:none\\\" points=\\\"\\n  168.627,407.336 197.789,407.336 \\n  \\\"\\/>\\n<polyline clip-path=\\\"url(#clip6700)\\\" style=\\\"stroke:#000000; stroke-width:4; stroke-opacity:1; fill:none\\\" points=\\\"\\n  168.627,227.324 197.789,227.324 \\n  \\\"\\/>\\n<g clip-path=\\\"url(#clip6700)\\\">\\n<text style=\\\"fill:#000000; fill-opacity:1; font-family:Arial,Helvetica Neue,Helvetica,sans-serif; font-size:48px; text-anchor:middle;\\\" transform=\\\"rotate(0, 276.634, 1462.35)\\\" x=\\\"276.634\\\" y=\\\"1462.35\\\">0<\\/text>\\n<\\/g>\\n<g clip-path=\\\"url(#clip6700)\\\">\\n<text style=\\\"fill:#000000; fill-opacity:1; font-family:Arial,Helvetica Neue,Helvetica,sans-serif; font-size:48px; text-anchor:middle;\\\" transform=\\\"rotate(0, 636.658, 1462.35)\\\" x=\\\"636.658\\\" y=\\\"1462.35\\\">10<\\/text>\\n<\\/g>\\n<g clip-path=\\\"url(#clip6700)\\\">\\n<text style=\\\"fill:#000000; fill-opacity:1; font-family:Arial,Helvetica Neue,Helvetica,sans-serif; font-size:48px; text-anchor:middle;\\\" transform=\\\"rotate(0, 996.682, 1462.35)\\\" x=\\\"996.682\\\" y=\\\"1462.35\\\">20<\\/text>\\n<\\/g>\\n<g clip-path=\\\"url(#clip6700)\\\">\\n<text style=\\\"fill:#000000; fill-opacity:1; font-family:Arial,Helvetica Neue,Helvetica,sans-serif; font-size:48px; text-anchor:middle;\\\" transform=\\\"rotate(0, 1356.71, 1462.35)\\\" x=\\\"1356.71\\\" y=\\\"1462.35\\\">30<\\/text>\\n<\\/g>\\n<g clip-path=\\\"url(#clip6700)\\\">\\n<text style=\\\"fill:#000000; fill-opacity:1; font-family:Arial,Helvetica Neue,Helvetica,sans-serif; font-size:48px; text-anchor:middle;\\\" transform=\\\"rotate(0, 1716.73, 1462.35)\\\" x=\\\"1716.73\\\" y=\\\"1462.35\\\">40<\\/text>\\n<\\/g>\\n<g clip-path=\\\"url(#clip6700)\\\">\\n<text style=\\\"fill:#000000; fill-opacity:1; font-family:Arial,Helvetica Neue,Helvetica,sans-serif; font-size:48px; text-anchor:middle;\\\" transform=\\\"rotate(0, 2076.75, 1462.35)\\\" x=\\\"2076.75\\\" y=\\\"1462.35\\\">50<\\/text>\\n<\\/g>\\n<g clip-path=\\\"url(#clip6700)\\\">\\n<text style=\\\"fill:#000000; fill-opacity:1; font-family:Arial,Helvetica Neue,Helvetica,sans-serif; font-size:48px; text-anchor:end;\\\" transform=\\\"rotate(0, 144.627, 1324.9)\\\" x=\\\"144.627\\\" y=\\\"1324.9\\\">-15<\\/text>\\n<\\/g>\\n<g clip-path=\\\"url(#clip6700)\\\">\\n<text style=\\\"fill:#000000; fill-opacity:1; font-family:Arial,Helvetica Neue,Helvetica,sans-serif; font-size:48px; text-anchor:end;\\\" transform=\\\"rotate(0, 144.627, 1144.88)\\\" x=\\\"144.627\\\" y=\\\"1144.88\\\">-10<\\/text>\\n<\\/g>\\n<g clip-path=\\\"url(#clip6700)\\\">\\n<text style=\\\"fill:#000000; fill-opacity:1; font-family:Arial,Helvetica Neue,Helvetica,sans-serif; font-size:48px; text-anchor:end;\\\" transform=\\\"rotate(0, 144.627, 964.871)\\\" x=\\\"144.627\\\" y=\\\"964.871\\\">-5<\\/text>\\n<\\/g>\\n<g clip-path=\\\"url(#clip6700)\\\">\\n<text style=\\\"fill:#000000; fill-opacity:1; font-family:Arial,Helvetica Neue,Helvetica,sans-serif; font-size:48px; text-anchor:end;\\\" transform=\\\"rotate(0, 144.627, 784.859)\\\" x=\\\"144.627\\\" y=\\\"784.859\\\">0<\\/text>\\n<\\/g>\\n<g clip-path=\\\"url(#clip6700)\\\">\\n<text style=\\\"fill:#000000; fill-opacity:1; font-family:Arial,Helvetica Neue,Helvetica,sans-serif; font-size:48px; text-anchor:end;\\\" transform=\\\"rotate(0, 144.627, 604.847)\\\" x=\\\"144.627\\\" y=\\\"604.847\\\">5<\\/text>\\n<\\/g>\\n<g clip-path=\\\"url(#clip6700)\\\">\\n<text style=\\\"fill:#000000; fill-opacity:1; font-family:Arial,Helvetica Neue,Helvetica,sans-serif; font-size:48px; text-anchor:end;\\\" transform=\\\"rotate(0, 144.627, 424.836)\\\" x=\\\"144.627\\\" y=\\\"424.836\\\">10<\\/text>\\n<\\/g>\\n<g clip-path=\\\"url(#clip6700)\\\">\\n<text style=\\\"fill:#000000; fill-opacity:1; font-family:Arial,Helvetica Neue,Helvetica,sans-serif; font-size:48px; text-anchor:end;\\\" transform=\\\"rotate(0, 144.627, 244.824)\\\" x=\\\"144.627\\\" y=\\\"244.824\\\">15<\\/text>\\n<\\/g>\\n<g clip-path=\\\"url(#clip6702)\\\">\\n<image width=\\\"1944\\\" height=\\\"396\\\" xlink:href=\\\"data:image\\/png;base64,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\\nRK5CYII=\\n\\\" transform=\\\"translate(169, 569)\\\"\\/>\\n<\\/g>\\n<defs>\\n  <clipPath id=\\\"clip6703\\\">\\n    <rect x=\\\"2160\\\" y=\\\"126\\\" width=\\\"73\\\" height=\\\"1283\\\"\\/>\\n  <\\/clipPath>\\n<\\/defs>\\n<g clip-path=\\\"url(#clip6703)\\\">\\n<image width=\\\"72\\\" height=\\\"1282\\\" xlink:href=\\\"data:image\\/png;base64,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\\n\\\" transform=\\\"translate(2161, 126)\\\"\\/>\\n<\\/g>\\n<g clip-path=\\\"url(#clip6700)\\\">\\n<text style=\\\"fill:#000000; fill-opacity:1; font-family:Arial,Helvetica Neue,Helvetica,sans-serif; font-size:48px; text-anchor:start;\\\" transform=\\\"rotate(0, 2268.76, 1422)\\\" x=\\\"2268.76\\\" y=\\\"1422\\\">-<\\/text>\\n<\\/g>\\n<g clip-path=\\\"url(#clip6700)\\\">\\n<text style=\\\"fill:#000000; fill-opacity:1; font-family:Arial,Helvetica Neue,Helvetica,sans-serif; font-size:48px; text-anchor:start;\\\" transform=\\\"rotate(0, 2296.87, 1422)\\\" x=\\\"2296.87\\\" y=\\\"1422\\\">4<\\/text>\\n<\\/g>\\n<g clip-path=\\\"url(#clip6700)\\\">\\n<text style=\\\"fill:#000000; fill-opacity:1; font-family:Arial,Helvetica Neue,Helvetica,sans-serif; font-size:48px; text-anchor:start;\\\" transform=\\\"rotate(0, 2268.76, 1165.6)\\\" x=\\\"2268.76\\\" y=\\\"1165.6\\\">-<\\/text>\\n<\\/g>\\n<g clip-path=\\\"url(#clip6700)\\\">\\n<text style=\\\"fill:#000000; fill-opacity:1; font-family:Arial,Helvetica Neue,Helvetica,sans-serif; font-size:48px; text-anchor:start;\\\" transform=\\\"rotate(0, 2296.87, 1165.6)\\\" x=\\\"2296.87\\\" y=\\\"1165.6\\\">3<\\/text>\\n<\\/g>\\n<g clip-path=\\\"url(#clip6700)\\\">\\n<text style=\\\"fill:#000000; fill-opacity:1; font-family:Arial,Helvetica Neue,Helvetica,sans-serif; font-size:48px; text-anchor:start;\\\" transform=\\\"rotate(0, 2268.76, 909.208)\\\" x=\\\"2268.76\\\" y=\\\"909.208\\\">-<\\/text>\\n<\\/g>\\n<g clip-path=\\\"url(#clip6700)\\\">\\n<text style=\\\"fill:#000000; fill-opacity:1; font-family:Arial,Helvetica Neue,Helvetica,sans-serif; font-size:48px; text-anchor:start;\\\" transform=\\\"rotate(0, 2296.87, 909.208)\\\" x=\\\"2296.87\\\" y=\\\"909.208\\\">2<\\/text>\\n<\\/g>\\n<g clip-path=\\\"url(#clip6700)\\\">\\n<text style=\\\"fill:#000000; fill-opacity:1; font-family:Arial,Helvetica Neue,Helvetica,sans-serif; font-size:48px; text-anchor:start;\\\" transform=\\\"rotate(0, 2268.76, 652.813)\\\" x=\\\"2268.76\\\" y=\\\"652.813\\\">-<\\/text>\\n<\\/g>\\n<g clip-path=\\\"url(#clip6700)\\\">\\n<text style=\\\"fill:#000000; fill-opacity:1; font-family:Arial,Helvetica Neue,Helvetica,sans-serif; font-size:48px; text-anchor:start;\\\" transform=\\\"rotate(0, 2296.87, 652.813)\\\" x=\\\"2296.87\\\" y=\\\"652.813\\\">1<\\/text>\\n<\\/g>\\n<g clip-path=\\\"url(#clip6700)\\\">\\n<text style=\\\"fill:#000000; fill-opacity:1; font-family:Arial,Helvetica Neue,Helvetica,sans-serif; font-size:48px; text-anchor:start;\\\" transform=\\\"rotate(0, 2268.76, 396.419)\\\" x=\\\"2268.76\\\" y=\\\"396.419\\\">0<\\/text>\\n<\\/g>\\n<g clip-path=\\\"url(#clip6700)\\\">\\n<text style=\\\"fill:#000000; fill-opacity:1; font-family:Arial,Helvetica Neue,Helvetica,sans-serif; font-size:48px; text-anchor:start;\\\" transform=\\\"rotate(0, 2268.76, 140.024)\\\" x=\\\"2268.76\\\" y=\\\"140.024\\\">1<\\/text>\\n<\\/g>\\n<polyline clip-path=\\\"url(#clip6700)\\\" style=\\\"stroke:#000000; stroke-width:4; stroke-opacity:1; fill:none\\\" points=\\\"\\n  2232.76,1408.35 2232.76,1408.35 2256.76,1408.35 2232.76,1408.35 2232.76,1151.95 2256.76,1151.95 2232.76,1151.95 2232.76,895.557 2256.76,895.557 2232.76,895.557 \\n  2232.76,639.162 2256.76,639.162 2232.76,639.162 2232.76,382.768 2256.76,382.768 2232.76,382.768 2232.76,126.373 2256.76,126.373 2232.76,126.373 \\n  \\n  \\\"\\/>\\n<\\/svg>\\n\"},\"nodeType\":\"DOM\",\"type\":\"node\",\"instanceArgs\":{\"namespace\":\"html\",\"tag\":\"div\"},\"children\":[]}]}}}},\"children\":[{\"props\":{},\"nodeType\":\"ObservableNode\",\"type\":\"node\",\"instanceArgs\":{\"id\":\"ob_14\",\"name\":\"obs-node\"},\"children\":[]}]}]}}}},\"children\":[{\"props\":{},\"nodeType\":\"ObservableNode\",\"type\":\"node\",\"instanceArgs\":{\"id\":\"ob_13\",\"name\":\"obs-scope\"},\"children\":[]}]}]},\n",
       "            window,\n",
       "        );\n",
       "    } else {\n",
       "        document\n",
       "            .querySelector('[data-webio-mountpoint=\"6398001260410954500\"]')\n",
       "            .innerHTML = (\n",
       "                '<div style=\"padding: 1em; background-color: #f8d6da; border: 1px solid #f5c6cb\">' +\n",
       "                '<p><strong>WebIO not detected.</strong></p>' +\n",
       "                '<p>Please read ' +\n",
       "                '<a href=\"https://juliagizmos.github.io/WebIO.jl/latest/troubleshooting/not-detected/\" target=\"_blank\">the troubleshooting guide</a> ' +\n",
       "                'for more information on how to resolve this issue.</p>' +\n",
       "                '<p><a href=\"https://juliagizmos.github.io/WebIO.jl/latest/troubleshooting/not-detected/\" target=\"_blank\">https://juliagizmos.github.io/WebIO.jl/latest/troubleshooting/not-detected/</a></p>' +\n",
       "                '</div>'\n",
       "            );\n",
       "    }\n",
       "    </script>\n",
       "</div>\n"
      ],
      "text/plain": [
       "Node{WebIO.DOM}(WebIO.DOM(:html, :div), Any[Node{WebIO.DOM}(WebIO.DOM(:html, :div), Any[Scope(Node{WebIO.DOM}(WebIO.DOM(:html, :div), Any[Node{WebIO.DOM}(WebIO.DOM(:html, :div), Any[Node{WebIO.DOM}(WebIO.DOM(:html, :label), Any[\"ego_v\"], Dict{Symbol,Any}(:className => \"interact \",:style => Dict{Any,Any}(:padding => \"5px 10px 0px 10px\")))], Dict{Symbol,Any}(:className => \"interact-flex-row-left\")), Node{WebIO.DOM}(WebIO.DOM(:html, :div), Any[Node{WebIO.DOM}(WebIO.DOM(:html, :input), Any[], Dict{Symbol,Any}(:max => 29,:min => 1,:attributes => Dict{Any,Any}(:type => \"range\",Symbol(\"data-bind\") => \"numericValue: index, valueUpdate: 'input', event: {change: function (){this.changes(this.changes()+1)}}\",\"orient\" => \"horizontal\"),:step => 1,:className => \"slider slider is-fullwidth\",:style => Dict{Any,Any}()))], Dict{Symbol,Any}(:className => \"interact-flex-row-center\")), Node{WebIO.DOM}(WebIO.DOM(:html, :div), Any[Node{WebIO.DOM}(WebIO.DOM(:html, :p), Any[], Dict{Symbol,Any}(:attributes => Dict(\"data-bind\" => \"text: formatted_val\")))], Dict{Symbol,Any}(:className => \"interact-flex-row-right\"))], Dict{Symbol,Any}(:className => \"interact-flex-row interact-widget\")), Dict{String,Tuple{Observables.AbstractObservable,Union{Nothing, Bool}}}(\"changes\" => (Observable{Int64} with 1 listeners. Value:\n",
       "0, nothing),\"index\" => (Observable{Any} with 2 listeners. Value:\n",
       "15, nothing)), Set(String[]), nothing, Asset[Asset(\"js\", \"knockout\", \"C:\\\\Users\\\\Maxime\\\\.julia\\\\packages\\\\Knockout\\\\1sDlc\\\\src\\\\..\\\\assets\\\\knockout.js\"), Asset(\"js\", \"knockout_punches\", \"C:\\\\Users\\\\Maxime\\\\.julia\\\\packages\\\\Knockout\\\\1sDlc\\\\src\\\\..\\\\assets\\\\knockout_punches.js\"), Asset(\"js\", nothing, \"C:\\\\Users\\\\Maxime\\\\.julia\\\\packages\\\\InteractBase\\\\9mFwe\\\\src\\\\..\\\\assets\\\\all.js\"), Asset(\"css\", nothing, \"C:\\\\Users\\\\Maxime\\\\.julia\\\\packages\\\\InteractBase\\\\9mFwe\\\\src\\\\..\\\\assets\\\\style.css\"), Asset(\"css\", nothing, \"C:\\\\Users\\\\Maxime\\\\.julia\\\\packages\\\\Interact\\\\SbgIk\\\\src\\\\..\\\\assets\\\\bulma_confined.min.css\")], Dict{Any,Any}(\"changes\" => Any[WebIO.JSString(\"(function (val){return (val!=this.model[\\\"changes\\\"]()) ? (this.valueFromJulia[\\\"changes\\\"]=true, this.model[\\\"changes\\\"](val)) : undefined})\")],\"index\" => Any[WebIO.JSString(\"(function (val){return (val!=this.model[\\\"index\\\"]()) ? (this.valueFromJulia[\\\"index\\\"]=true, this.model[\\\"index\\\"](val)) : undefined})\")]), WebIO.ConnectionPool(Channel{Any}(sz_max:32,sz_curr:0), Set(AbstractConnection[]), Base.GenericCondition{Base.AlwaysLockedST}(Base.InvasiveLinkedList{Task}(Task (runnable) @0x000000001416f3d0, Task (runnable) @0x000000001416f3d0), Base.AlwaysLockedST(1))), WebIO.JSString[WebIO.JSString(\"function () {\\n    var handler = (function (ko, koPunches) {\\n    ko.punches.enableAll();\\n    ko.bindingHandlers.numericValue = {\\n        init: function(element, valueAccessor, allBindings, data, context) {\\n            var stringified = ko.observable(ko.unwrap(valueAccessor()));\\n            stringified.subscribe(function(value) {\\n                var val = parseFloat(value);\\n                if (!isNaN(val)) {\\n                    valueAccessor()(val);\\n                }\\n            });\\n            valueAccessor().subscribe(function(value) {\\n                var str = JSON.stringify(value);\\n                if ((str == \\\"0\\\") && ([\\\"-0\\\", \\\"-0.\\\"].indexOf(stringified()) >= 0))\\n                     return;\\n                 if ([\\\"null\\\", \\\"\\\"].indexOf(str) >= 0)\\n                     return;\\n                stringified(str);\\n            });\\n            ko.applyBindingsToNode(\\n                element,\\n                {\\n                    value: stringified,\\n                    valueUpdate: allBindings.get('valueUpdate'),\\n                },\\n                context,\\n            );\\n        }\\n    };\\n    var json_data = {\\\"formatted_vals\\\":[\\\"0.0\\\",\\\"0.5\\\",\\\"1.0\\\",\\\"1.5\\\",\\\"2.0\\\",\\\"2.5\\\",\\\"3.0\\\",\\\"3.5\\\",\\\"4.0\\\",\\\"4.5\\\",\\\"5.0\\\",\\\"5.5\\\",\\\"6.0\\\",\\\"6.5\\\",\\\"7.0\\\",\\\"7.5\\\",\\\"8.0\\\",\\\"8.5\\\",\\\"9.0\\\",\\\"9.5\\\",\\\"10.0\\\",\\\"10.5\\\",\\\"11.0\\\",\\\"11.5\\\",\\\"12.0\\\",\\\"12.5\\\",\\\"13.0\\\",\\\"13.5\\\",\\\"14.0\\\"],\\\"changes\\\":WebIO.getval({\\\"name\\\":\\\"changes\\\",\\\"scope\\\":\\\"7525887450175527402\\\",\\\"id\\\":\\\"ob_03\\\",\\\"type\\\":\\\"observable\\\"}),\\\"index\\\":WebIO.getval({\\\"name\\\":\\\"index\\\",\\\"scope\\\":\\\"7525887450175527402\\\",\\\"id\\\":\\\"ob_02\\\",\\\"type\\\":\\\"observable\\\"})};\\n    var self = this;\\n    function AppViewModel() {\\n        for (var key in json_data) {\\n            var el = json_data[key];\\n            this[key] = Array.isArray(el) ? ko.observableArray(el) : ko.observable(el);\\n        }\\n        \\n        [this[\\\"formatted_val\\\"]=ko.computed(    function(){\\n        return this.formatted_vals()[parseInt(this.index())-(1)];\\n    }\\n,this)]\\n        [this[\\\"changes\\\"].subscribe((function (val){!(this.valueFromJulia[\\\"changes\\\"]) ? (WebIO.setval({\\\"name\\\":\\\"changes\\\",\\\"scope\\\":\\\"7525887450175527402\\\",\\\"id\\\":\\\"ob_03\\\",\\\"type\\\":\\\"observable\\\"},val)) : undefined; return this.valueFromJulia[\\\"changes\\\"]=false}),self),this[\\\"index\\\"].subscribe((function (val){!(this.valueFromJulia[\\\"index\\\"]) ? (WebIO.setval({\\\"name\\\":\\\"index\\\",\\\"scope\\\":\\\"7525887450175527402\\\",\\\"id\\\":\\\"ob_02\\\",\\\"type\\\":\\\"observable\\\"},val)) : undefined; return this.valueFromJulia[\\\"index\\\"]=false}),self)]\\n        \\n    }\\n    self.model = new AppViewModel();\\n    self.valueFromJulia = {};\\n    for (var key in json_data) {\\n        self.valueFromJulia[key] = false;\\n    }\\n    ko.applyBindings(self.model, self.dom);\\n}\\n);\\n    (WebIO.importBlock({\\\"data\\\":[{\\\"name\\\":\\\"knockout\\\",\\\"type\\\":\\\"js\\\",\\\"url\\\":\\\"/assetserver/d033fda28de5fdb7c6d90919cbd6683e73bd443b-knockout.js\\\"},{\\\"name\\\":\\\"knockout_punches\\\",\\\"type\\\":\\\"js\\\",\\\"url\\\":\\\"/assetserver/c4515e462c6c31b06468a38b24d65546d76a0006-knockout_punches.js\\\"}],\\\"type\\\":\\\"async_block\\\"})).then((imports) => handler.apply(this, imports));\\n}\\n\")])], Dict{Symbol,Any}(:className => \"field interact-widget\")), Observable{Any} with 0 listeners. Value:\n",
       "Node{WebIO.DOM}(WebIO.DOM(:html, :div), Any[Node{WebIO.DOM}(WebIO.DOM(:html, :div), Any[Scope(Node{WebIO.DOM}(WebIO.DOM(:html, :div), Any[Node{WebIO.DOM}(WebIO.DOM(:html, :div), Any[Node{WebIO.DOM}(WebIO.DOM(:html, :label), Any[\"ped_v\"], Dict{Symbol,Any}(:className => \"interact \",:style => Dict{Any,Any}(:padding => \"5px 10px 0px 10px\")))], Dict{Symbol,Any}(:className => \"interact-flex-row-left\")), Node{WebIO.DOM}(WebIO.DOM(:html, :div), Any[Node{WebIO.DOM}(WebIO.DOM(:html, :input), Any[], Dict{Symbol,Any}(:max => 5,:min => 1,:attributes => Dict{Any,Any}(:type => \"range\",Symbol(\"data-bind\") => \"numericValue: index, valueUpdate: 'input', event: {change: function (){this.changes(this.changes()+1)}}\",\"orient\" => \"horizontal\"),:step => 1,:className => \"slider slider is-fullwidth\",:style => Dict{Any,Any}()))], Dict{Symbol,Any}(:className => \"interact-flex-row-center\")), Node{WebIO.DOM}(WebIO.DOM(:html, :div), Any[Node{WebIO.DOM}(WebIO.DOM(:html, :p), Any[], Dict{Symbol,Any}(:attributes => Dict(\"data-bind\" => \"text: formatted_val\")))], Dict{Symbol,Any}(:className => \"interact-flex-row-right\"))], Dict{Symbol,Any}(:className => \"interact-flex-row interact-widget\")), Dict{String,Tuple{Observables.AbstractObservable,Union{Nothing, Bool}}}(\"changes\" => (Observable{Int64} with 1 listeners. Value:\n",
       "0, nothing),\"index\" => (Observable{Any} with 2 listeners. Value:\n",
       "3, nothing)), Set(String[]), nothing, Asset[Asset(\"js\", \"knockout\", \"C:\\\\Users\\\\Maxime\\\\.julia\\\\packages\\\\Knockout\\\\1sDlc\\\\src\\\\..\\\\assets\\\\knockout.js\"), Asset(\"js\", \"knockout_punches\", \"C:\\\\Users\\\\Maxime\\\\.julia\\\\packages\\\\Knockout\\\\1sDlc\\\\src\\\\..\\\\assets\\\\knockout_punches.js\"), Asset(\"js\", nothing, \"C:\\\\Users\\\\Maxime\\\\.julia\\\\packages\\\\InteractBase\\\\9mFwe\\\\src\\\\..\\\\assets\\\\all.js\"), Asset(\"css\", nothing, \"C:\\\\Users\\\\Maxime\\\\.julia\\\\packages\\\\InteractBase\\\\9mFwe\\\\src\\\\..\\\\assets\\\\style.css\"), Asset(\"css\", nothing, \"C:\\\\Users\\\\Maxime\\\\.julia\\\\packages\\\\Interact\\\\SbgIk\\\\src\\\\..\\\\assets\\\\bulma_confined.min.css\")], Dict{Any,Any}(\"changes\" => Any[WebIO.JSString(\"(function (val){return (val!=this.model[\\\"changes\\\"]()) ? (this.valueFromJulia[\\\"changes\\\"]=true, this.model[\\\"changes\\\"](val)) : undefined})\")],\"index\" => Any[WebIO.JSString(\"(function (val){return (val!=this.model[\\\"index\\\"]()) ? (this.valueFromJulia[\\\"index\\\"]=true, this.model[\\\"index\\\"](val)) : undefined})\")]), WebIO.ConnectionPool(Channel{Any}(sz_max:32,sz_curr:0), Set(AbstractConnection[]), Base.GenericCondition{Base.AlwaysLockedST}(Base.InvasiveLinkedList{Task}(Task (runnable) @0x0000000051b573d0, Task (runnable) @0x0000000051b573d0), Base.AlwaysLockedST(1))), WebIO.JSString[WebIO.JSString(\"function () {\\n    var handler = (function (ko, koPunches) {\\n    ko.punches.enableAll();\\n    ko.bindingHandlers.numericValue = {\\n        init: function(element, valueAccessor, allBindings, data, context) {\\n            var stringified = ko.observable(ko.unwrap(valueAccessor()));\\n            stringified.subscribe(function(value) {\\n                var val = parseFloat(value);\\n                if (!isNaN(val)) {\\n                    valueAccessor()(val);\\n                }\\n            });\\n            valueAccessor().subscribe(function(value) {\\n                var str = JSON.stringify(value);\\n                if ((str == \\\"0\\\") && ([\\\"-0\\\", \\\"-0.\\\"].indexOf(stringified()) >= 0))\\n                     return;\\n                 if ([\\\"null\\\", \\\"\\\"].indexOf(str) >= 0)\\n                     return;\\n                stringified(str);\\n            });\\n            ko.applyBindingsToNode(\\n                element,\\n                {\\n                    value: stringified,\\n                    valueUpdate: allBindings.get('valueUpdate'),\\n                },\\n                context,\\n            );\\n        }\\n    };\\n    var json_data = {\\\"formatted_vals\\\":[\\\"0.0\\\",\\\"0.5\\\",\\\"1.0\\\",\\\"1.5\\\",\\\"2.0\\\"],\\\"changes\\\":WebIO.getval({\\\"name\\\":\\\"changes\\\",\\\"scope\\\":\\\"8271146914261323935\\\",\\\"id\\\":\\\"ob_06\\\",\\\"type\\\":\\\"observable\\\"}),\\\"index\\\":WebIO.getval({\\\"name\\\":\\\"index\\\",\\\"scope\\\":\\\"8271146914261323935\\\",\\\"id\\\":\\\"ob_05\\\",\\\"type\\\":\\\"observable\\\"})};\\n    var self = this;\\n    function AppViewModel() {\\n        for (var key in json_data) {\\n            var el = json_data[key];\\n            this[key] = Array.isArray(el) ? ko.observableArray(el) : ko.observable(el);\\n        }\\n        \\n        [this[\\\"formatted_val\\\"]=ko.computed(    function(){\\n        return this.formatted_vals()[parseInt(this.index())-(1)];\\n    }\\n,this)]\\n        [this[\\\"changes\\\"].subscribe((function (val){!(this.valueFromJulia[\\\"changes\\\"]) ? (WebIO.setval({\\\"name\\\":\\\"changes\\\",\\\"scope\\\":\\\"8271146914261323935\\\",\\\"id\\\":\\\"ob_06\\\",\\\"type\\\":\\\"observable\\\"},val)) : undefined; return this.valueFromJulia[\\\"changes\\\"]=false}),self),this[\\\"index\\\"].subscribe((function (val){!(this.valueFromJulia[\\\"index\\\"]) ? (WebIO.setval({\\\"name\\\":\\\"index\\\",\\\"scope\\\":\\\"8271146914261323935\\\",\\\"id\\\":\\\"ob_05\\\",\\\"type\\\":\\\"observable\\\"},val)) : undefined; return this.valueFromJulia[\\\"index\\\"]=false}),self)]\\n        \\n    }\\n    self.model = new AppViewModel();\\n    self.valueFromJulia = {};\\n    for (var key in json_data) {\\n        self.valueFromJulia[key] = false;\\n    }\\n    ko.applyBindings(self.model, self.dom);\\n}\\n);\\n    (WebIO.importBlock({\\\"data\\\":[{\\\"name\\\":\\\"knockout\\\",\\\"type\\\":\\\"js\\\",\\\"url\\\":\\\"/assetserver/d033fda28de5fdb7c6d90919cbd6683e73bd443b-knockout.js\\\"},{\\\"name\\\":\\\"knockout_punches\\\",\\\"type\\\":\\\"js\\\",\\\"url\\\":\\\"/assetserver/c4515e462c6c31b06468a38b24d65546d76a0006-knockout_punches.js\\\"}],\\\"type\\\":\\\"async_block\\\"})).then((imports) => handler.apply(this, imports));\\n}\\n\")])], Dict{Symbol,Any}(:className => \"field interact-widget\")), Observable{Any} with 0 listeners. Value:\n",
       "Node{WebIO.DOM}(WebIO.DOM(:html, :div), Any[Plot{Plots.GRBackend() n=1}], Dict{Symbol,Any}(:className => \"interact-flex-row interact-widget\"))], Dict{Symbol,Any}())], Dict{Symbol,Any}())"
      ]
     },
     "execution_count": 11,
     "metadata": {
      "application/vnd.webio.node+json": {
       "kernelId": "540228ec-1887-4088-99bc-62bb1cbb7fef"
      }
     },
     "output_type": "execute_result"
    }
   ],
   "source": [
    "# Visulization policy / longitudinal action\n",
    "\n",
    "gr()\n",
    "policy_grid = zeros(Float64, length(pomdp.T_RANGE), length(pomdp.S_RANGE))\n",
    "\n",
    "@manipulate for ego_v in pomdp.EGO_V_RANGE\n",
    "   # ego_v = 8.0\n",
    "    @manipulate for ped_v in pomdp.PED_V_RANGE\n",
    "   # ped_v = 0.0\n",
    "        for i=1:length(pomdp.T_RANGE)\n",
    "            ped_t = pomdp.T_RANGE[i]\n",
    "            for j=1:length(pomdp.S_RANGE)\n",
    "                ped_s = pomdp.S_RANGE[j]\n",
    "                b = SparseCat([SingleOCFState(0.0, ego_v, ped_s, ped_t, pomdp.PED_THETA_RANGE[1], ped_v)],[1.])\n",
    "                act = action(qmdp_policy, b) \n",
    "                policy_grid[i,j] = act.acc\n",
    "            end\n",
    "        end\n",
    "        xs = [pomdp.S_RANGE[i] for i = 1:length(pomdp.S_RANGE)]\n",
    "        ys = [pomdp.T_RANGE[i] for i = 1:length(pomdp.T_RANGE)]\n",
    "        heatmap(xs,ys,policy_grid,aspect_ratio=1)\n",
    "    end\n",
    "end\n"
   ]
  },
  {
   "cell_type": "code",
   "execution_count": 12,
   "metadata": {},
   "outputs": [
    {
     "data": {
      "application/vnd.webio.node+json": {
       "children": [
        {
         "children": [
          {
           "children": [
            {
             "children": [
              {
               "children": [
                {
                 "children": [
                  "ego_v"
                 ],
                 "instanceArgs": {
                  "namespace": "html",
                  "tag": "label"
                 },
                 "nodeType": "DOM",
                 "props": {
                  "className": "interact ",
                  "style": {
                   "padding": "5px 10px 0px 10px"
                  }
                 },
                 "type": "node"
                }
               ],
               "instanceArgs": {
                "namespace": "html",
                "tag": "div"
               },
               "nodeType": "DOM",
               "props": {
                "className": "interact-flex-row-left"
               },
               "type": "node"
              },
              {
               "children": [
                {
                 "children": [],
                 "instanceArgs": {
                  "namespace": "html",
                  "tag": "input"
                 },
                 "nodeType": "DOM",
                 "props": {
                  "attributes": {
                   "data-bind": "numericValue: index, valueUpdate: 'input', event: {change: function (){this.changes(this.changes()+1)}}",
                   "orient": "horizontal",
                   "type": "range"
                  },
                  "className": "slider slider is-fullwidth",
                  "max": 29,
                  "min": 1,
                  "step": 1,
                  "style": {}
                 },
                 "type": "node"
                }
               ],
               "instanceArgs": {
                "namespace": "html",
                "tag": "div"
               },
               "nodeType": "DOM",
               "props": {
                "className": "interact-flex-row-center"
               },
               "type": "node"
              },
              {
               "children": [
                {
                 "children": [],
                 "instanceArgs": {
                  "namespace": "html",
                  "tag": "p"
                 },
                 "nodeType": "DOM",
                 "props": {
                  "attributes": {
                   "data-bind": "text: formatted_val"
                  }
                 },
                 "type": "node"
                }
               ],
               "instanceArgs": {
                "namespace": "html",
                "tag": "div"
               },
               "nodeType": "DOM",
               "props": {
                "className": "interact-flex-row-right"
               },
               "type": "node"
              }
             ],
             "instanceArgs": {
              "namespace": "html",
              "tag": "div"
             },
             "nodeType": "DOM",
             "props": {
              "className": "interact-flex-row interact-widget"
             },
             "type": "node"
            }
           ],
           "instanceArgs": {
            "handlers": {
             "changes": [
              "(function (val){return (val!=this.model[\"changes\"]()) ? (this.valueFromJulia[\"changes\"]=true, this.model[\"changes\"](val)) : undefined})"
             ],
             "index": [
              "(function (val){return (val!=this.model[\"index\"]()) ? (this.valueFromJulia[\"index\"]=true, this.model[\"index\"](val)) : undefined})"
             ]
            },
            "id": "13773279969437942318",
            "imports": {
             "data": [
              {
               "name": "knockout",
               "type": "js",
               "url": "/assetserver/d033fda28de5fdb7c6d90919cbd6683e73bd443b-knockout.js"
              },
              {
               "name": "knockout_punches",
               "type": "js",
               "url": "/assetserver/c4515e462c6c31b06468a38b24d65546d76a0006-knockout_punches.js"
              },
              {
               "name": null,
               "type": "js",
               "url": "/assetserver/7160a783468b386025b3685c9691df17912ec29b-all.js"
              },
              {
               "name": null,
               "type": "css",
               "url": "/assetserver/c92112051a0a0326d397440da1a873f367f1d175-style.css"
              },
              {
               "name": null,
               "type": "css",
               "url": "/assetserver/755919ab5089275528f8a583d9fba4e0adcae551-bulma_confined.min.css"
              }
             ],
             "type": "async_block"
            },
            "mount_callbacks": [
             "function () {\n    var handler = (function (ko, koPunches) {\n    ko.punches.enableAll();\n    ko.bindingHandlers.numericValue = {\n        init: function(element, valueAccessor, allBindings, data, context) {\n            var stringified = ko.observable(ko.unwrap(valueAccessor()));\n            stringified.subscribe(function(value) {\n                var val = parseFloat(value);\n                if (!isNaN(val)) {\n                    valueAccessor()(val);\n                }\n            });\n            valueAccessor().subscribe(function(value) {\n                var str = JSON.stringify(value);\n                if ((str == \"0\") && ([\"-0\", \"-0.\"].indexOf(stringified()) >= 0))\n                     return;\n                 if ([\"null\", \"\"].indexOf(str) >= 0)\n                     return;\n                stringified(str);\n            });\n            ko.applyBindingsToNode(\n                element,\n                {\n                    value: stringified,\n                    valueUpdate: allBindings.get('valueUpdate'),\n                },\n                context,\n            );\n        }\n    };\n    var json_data = {\"formatted_vals\":[\"0.0\",\"0.5\",\"1.0\",\"1.5\",\"2.0\",\"2.5\",\"3.0\",\"3.5\",\"4.0\",\"4.5\",\"5.0\",\"5.5\",\"6.0\",\"6.5\",\"7.0\",\"7.5\",\"8.0\",\"8.5\",\"9.0\",\"9.5\",\"10.0\",\"10.5\",\"11.0\",\"11.5\",\"12.0\",\"12.5\",\"13.0\",\"13.5\",\"14.0\"],\"changes\":WebIO.getval({\"name\":\"changes\",\"scope\":\"13773279969437942318\",\"id\":\"ob_21\",\"type\":\"observable\"}),\"index\":WebIO.getval({\"name\":\"index\",\"scope\":\"13773279969437942318\",\"id\":\"ob_20\",\"type\":\"observable\"})};\n    var self = this;\n    function AppViewModel() {\n        for (var key in json_data) {\n            var el = json_data[key];\n            this[key] = Array.isArray(el) ? ko.observableArray(el) : ko.observable(el);\n        }\n        \n        [this[\"formatted_val\"]=ko.computed(    function(){\n        return this.formatted_vals()[parseInt(this.index())-(1)];\n    }\n,this)]\n        [this[\"changes\"].subscribe((function (val){!(this.valueFromJulia[\"changes\"]) ? (WebIO.setval({\"name\":\"changes\",\"scope\":\"13773279969437942318\",\"id\":\"ob_21\",\"type\":\"observable\"},val)) : undefined; return this.valueFromJulia[\"changes\"]=false}),self),this[\"index\"].subscribe((function (val){!(this.valueFromJulia[\"index\"]) ? (WebIO.setval({\"name\":\"index\",\"scope\":\"13773279969437942318\",\"id\":\"ob_20\",\"type\":\"observable\"},val)) : undefined; return this.valueFromJulia[\"index\"]=false}),self)]\n        \n    }\n    self.model = new AppViewModel();\n    self.valueFromJulia = {};\n    for (var key in json_data) {\n        self.valueFromJulia[key] = false;\n    }\n    ko.applyBindings(self.model, self.dom);\n}\n);\n    (WebIO.importBlock({\"data\":[{\"name\":\"knockout\",\"type\":\"js\",\"url\":\"/assetserver/d033fda28de5fdb7c6d90919cbd6683e73bd443b-knockout.js\"},{\"name\":\"knockout_punches\",\"type\":\"js\",\"url\":\"/assetserver/c4515e462c6c31b06468a38b24d65546d76a0006-knockout_punches.js\"}],\"type\":\"async_block\"})).then((imports) => handler.apply(this, imports));\n}\n"
            ],
            "observables": {
             "changes": {
              "id": "ob_21",
              "sync": false,
              "value": 0
             },
             "index": {
              "id": "ob_20",
              "sync": true,
              "value": 15
             }
            },
            "systemjs_options": null
           },
           "nodeType": "Scope",
           "props": {},
           "type": "node"
          }
         ],
         "instanceArgs": {
          "namespace": "html",
          "tag": "div"
         },
         "nodeType": "DOM",
         "props": {
          "className": "field interact-widget"
         },
         "type": "node"
        },
        {
         "children": [
          {
           "children": [],
           "instanceArgs": {
            "id": "ob_35",
            "name": "obs-scope"
           },
           "nodeType": "ObservableNode",
           "props": {},
           "type": "node"
          }
         ],
         "instanceArgs": {
          "handlers": {},
          "id": "6598605076841504718",
          "imports": {
           "data": [],
           "type": "async_block"
          },
          "mount_callbacks": [],
          "observables": {
           "obs-scope": {
            "id": "ob_35",
            "sync": false,
            "value": {
             "children": [
              {
               "children": [
                {
                 "children": [
                  {
                   "children": [
                    {
                     "children": [
                      {
                       "children": [
                        "ped_v"
                       ],
                       "instanceArgs": {
                        "namespace": "html",
                        "tag": "label"
                       },
                       "nodeType": "DOM",
                       "props": {
                        "className": "interact ",
                        "style": {
                         "padding": "5px 10px 0px 10px"
                        }
                       },
                       "type": "node"
                      }
                     ],
                     "instanceArgs": {
                      "namespace": "html",
                      "tag": "div"
                     },
                     "nodeType": "DOM",
                     "props": {
                      "className": "interact-flex-row-left"
                     },
                     "type": "node"
                    },
                    {
                     "children": [
                      {
                       "children": [],
                       "instanceArgs": {
                        "namespace": "html",
                        "tag": "input"
                       },
                       "nodeType": "DOM",
                       "props": {
                        "attributes": {
                         "data-bind": "numericValue: index, valueUpdate: 'input', event: {change: function (){this.changes(this.changes()+1)}}",
                         "orient": "horizontal",
                         "type": "range"
                        },
                        "className": "slider slider is-fullwidth",
                        "max": 5,
                        "min": 1,
                        "step": 1,
                        "style": {}
                       },
                       "type": "node"
                      }
                     ],
                     "instanceArgs": {
                      "namespace": "html",
                      "tag": "div"
                     },
                     "nodeType": "DOM",
                     "props": {
                      "className": "interact-flex-row-center"
                     },
                     "type": "node"
                    },
                    {
                     "children": [
                      {
                       "children": [],
                       "instanceArgs": {
                        "namespace": "html",
                        "tag": "p"
                       },
                       "nodeType": "DOM",
                       "props": {
                        "attributes": {
                         "data-bind": "text: formatted_val"
                        }
                       },
                       "type": "node"
                      }
                     ],
                     "instanceArgs": {
                      "namespace": "html",
                      "tag": "div"
                     },
                     "nodeType": "DOM",
                     "props": {
                      "className": "interact-flex-row-right"
                     },
                     "type": "node"
                    }
                   ],
                   "instanceArgs": {
                    "namespace": "html",
                    "tag": "div"
                   },
                   "nodeType": "DOM",
                   "props": {
                    "className": "interact-flex-row interact-widget"
                   },
                   "type": "node"
                  }
                 ],
                 "instanceArgs": {
                  "handlers": {
                   "changes": [
                    "(function (val){return (val!=this.model[\"changes\"]()) ? (this.valueFromJulia[\"changes\"]=true, this.model[\"changes\"](val)) : undefined})"
                   ],
                   "index": [
                    "(function (val){return (val!=this.model[\"index\"]()) ? (this.valueFromJulia[\"index\"]=true, this.model[\"index\"](val)) : undefined})"
                   ]
                  },
                  "id": "3954089700122046811",
                  "imports": {
                   "data": [
                    {
                     "name": "knockout",
                     "type": "js",
                     "url": "/assetserver/d033fda28de5fdb7c6d90919cbd6683e73bd443b-knockout.js"
                    },
                    {
                     "name": "knockout_punches",
                     "type": "js",
                     "url": "/assetserver/c4515e462c6c31b06468a38b24d65546d76a0006-knockout_punches.js"
                    },
                    {
                     "name": null,
                     "type": "js",
                     "url": "/assetserver/7160a783468b386025b3685c9691df17912ec29b-all.js"
                    },
                    {
                     "name": null,
                     "type": "css",
                     "url": "/assetserver/c92112051a0a0326d397440da1a873f367f1d175-style.css"
                    },
                    {
                     "name": null,
                     "type": "css",
                     "url": "/assetserver/755919ab5089275528f8a583d9fba4e0adcae551-bulma_confined.min.css"
                    }
                   ],
                   "type": "async_block"
                  },
                  "mount_callbacks": [
                   "function () {\n    var handler = (function (ko, koPunches) {\n    ko.punches.enableAll();\n    ko.bindingHandlers.numericValue = {\n        init: function(element, valueAccessor, allBindings, data, context) {\n            var stringified = ko.observable(ko.unwrap(valueAccessor()));\n            stringified.subscribe(function(value) {\n                var val = parseFloat(value);\n                if (!isNaN(val)) {\n                    valueAccessor()(val);\n                }\n            });\n            valueAccessor().subscribe(function(value) {\n                var str = JSON.stringify(value);\n                if ((str == \"0\") && ([\"-0\", \"-0.\"].indexOf(stringified()) >= 0))\n                     return;\n                 if ([\"null\", \"\"].indexOf(str) >= 0)\n                     return;\n                stringified(str);\n            });\n            ko.applyBindingsToNode(\n                element,\n                {\n                    value: stringified,\n                    valueUpdate: allBindings.get('valueUpdate'),\n                },\n                context,\n            );\n        }\n    };\n    var json_data = {\"formatted_vals\":[\"0.0\",\"0.5\",\"1.0\",\"1.5\",\"2.0\"],\"changes\":WebIO.getval({\"name\":\"changes\",\"scope\":\"3954089700122046811\",\"id\":\"ob_24\",\"type\":\"observable\"}),\"index\":WebIO.getval({\"name\":\"index\",\"scope\":\"3954089700122046811\",\"id\":\"ob_23\",\"type\":\"observable\"})};\n    var self = this;\n    function AppViewModel() {\n        for (var key in json_data) {\n            var el = json_data[key];\n            this[key] = Array.isArray(el) ? ko.observableArray(el) : ko.observable(el);\n        }\n        \n        [this[\"formatted_val\"]=ko.computed(    function(){\n        return this.formatted_vals()[parseInt(this.index())-(1)];\n    }\n,this)]\n        [this[\"changes\"].subscribe((function (val){!(this.valueFromJulia[\"changes\"]) ? (WebIO.setval({\"name\":\"changes\",\"scope\":\"3954089700122046811\",\"id\":\"ob_24\",\"type\":\"observable\"},val)) : undefined; return this.valueFromJulia[\"changes\"]=false}),self),this[\"index\"].subscribe((function (val){!(this.valueFromJulia[\"index\"]) ? (WebIO.setval({\"name\":\"index\",\"scope\":\"3954089700122046811\",\"id\":\"ob_23\",\"type\":\"observable\"},val)) : undefined; return this.valueFromJulia[\"index\"]=false}),self)]\n        \n    }\n    self.model = new AppViewModel();\n    self.valueFromJulia = {};\n    for (var key in json_data) {\n        self.valueFromJulia[key] = false;\n    }\n    ko.applyBindings(self.model, self.dom);\n}\n);\n    (WebIO.importBlock({\"data\":[{\"name\":\"knockout\",\"type\":\"js\",\"url\":\"/assetserver/d033fda28de5fdb7c6d90919cbd6683e73bd443b-knockout.js\"},{\"name\":\"knockout_punches\",\"type\":\"js\",\"url\":\"/assetserver/c4515e462c6c31b06468a38b24d65546d76a0006-knockout_punches.js\"}],\"type\":\"async_block\"})).then((imports) => handler.apply(this, imports));\n}\n"
                  ],
                  "observables": {
                   "changes": {
                    "id": "ob_24",
                    "sync": false,
                    "value": 0
                   },
                   "index": {
                    "id": "ob_23",
                    "sync": true,
                    "value": 3
                   }
                  },
                  "systemjs_options": null
                 },
                 "nodeType": "Scope",
                 "props": {},
                 "type": "node"
                }
               ],
               "instanceArgs": {
                "namespace": "html",
                "tag": "div"
               },
               "nodeType": "DOM",
               "props": {
                "className": "field interact-widget"
               },
               "type": "node"
              },
              {
               "children": [
                {
                 "children": [],
                 "instanceArgs": {
                  "id": "ob_36",
                  "name": "obs-node"
                 },
                 "nodeType": "ObservableNode",
                 "props": {},
                 "type": "node"
                }
               ],
               "instanceArgs": {
                "handlers": {},
                "id": "3380619430314220272",
                "imports": {
                 "data": [],
                 "type": "async_block"
                },
                "mount_callbacks": [],
                "observables": {
                 "obs-node": {
                  "id": "ob_36",
                  "sync": false,
                  "value": {
                   "children": [
                    {
                     "children": [],
                     "instanceArgs": {
                      "namespace": "html",
                      "tag": "div"
                     },
                     "nodeType": "DOM",
                     "props": {
                      "setInnerHtml": "<?xml version=\"1.0\" encoding=\"utf-8\"?>\n<svg xmlns=\"http://www.w3.org/2000/svg\" xmlns:xlink=\"http://www.w3.org/1999/xlink\" width=\"600\" height=\"400\" viewBox=\"0 0 2400 1600\">\n<defs>\n  <clipPath id=\"clip7900\">\n    <rect x=\"0\" y=\"0\" width=\"2400\" height=\"1600\"/>\n  </clipPath>\n</defs>\n<path clip-path=\"url(#clip7900)\" d=\"\nM0 1600 L2400 1600 L2400 0 L0 0  Z\n  \" fill=\"#ffffff\" fill-rule=\"evenodd\" fill-opacity=\"1\"/>\n<defs>\n  <clipPath id=\"clip7901\">\n    <rect x=\"480\" y=\"0\" width=\"1681\" height=\"1600\"/>\n  </clipPath>\n</defs>\n<path clip-path=\"url(#clip7900)\" d=\"\nM168.627 1408.35 L2112.76 1408.35 L2112.76 126.373 L168.627 126.373  Z\n  \" fill=\"#ffffff\" fill-rule=\"evenodd\" fill-opacity=\"1\"/>\n<defs>\n  <clipPath id=\"clip7902\">\n    <rect x=\"168\" y=\"126\" width=\"1945\" height=\"1283\"/>\n  </clipPath>\n</defs>\n<polyline clip-path=\"url(#clip7902)\" style=\"stroke:#000000; stroke-width:2; stroke-opacity:0.1; fill:none\" points=\"\n  276.634,1408.35 276.634,126.373 \n  \"/>\n<polyline clip-path=\"url(#clip7902)\" style=\"stroke:#000000; stroke-width:2; stroke-opacity:0.1; fill:none\" points=\"\n  636.658,1408.35 636.658,126.373 \n  \"/>\n<polyline clip-path=\"url(#clip7902)\" style=\"stroke:#000000; stroke-width:2; stroke-opacity:0.1; fill:none\" points=\"\n  996.682,1408.35 996.682,126.373 \n  \"/>\n<polyline clip-path=\"url(#clip7902)\" style=\"stroke:#000000; stroke-width:2; stroke-opacity:0.1; fill:none\" points=\"\n  1356.71,1408.35 1356.71,126.373 \n  \"/>\n<polyline clip-path=\"url(#clip7902)\" style=\"stroke:#000000; stroke-width:2; stroke-opacity:0.1; fill:none\" points=\"\n  1716.73,1408.35 1716.73,126.373 \n  \"/>\n<polyline clip-path=\"url(#clip7902)\" style=\"stroke:#000000; stroke-width:2; stroke-opacity:0.1; fill:none\" points=\"\n  2076.75,1408.35 2076.75,126.373 \n  \"/>\n<polyline clip-path=\"url(#clip7902)\" style=\"stroke:#000000; stroke-width:2; stroke-opacity:0.1; fill:none\" points=\"\n  168.627,1307.4 2112.76,1307.4 \n  \"/>\n<polyline clip-path=\"url(#clip7902)\" style=\"stroke:#000000; stroke-width:2; stroke-opacity:0.1; fill:none\" points=\"\n  168.627,1127.38 2112.76,1127.38 \n  \"/>\n<polyline clip-path=\"url(#clip7902)\" style=\"stroke:#000000; stroke-width:2; stroke-opacity:0.1; fill:none\" points=\"\n  168.627,947.371 2112.76,947.371 \n  \"/>\n<polyline clip-path=\"url(#clip7902)\" style=\"stroke:#000000; stroke-width:2; stroke-opacity:0.1; fill:none\" points=\"\n  168.627,767.359 2112.76,767.359 \n  \"/>\n<polyline clip-path=\"url(#clip7902)\" style=\"stroke:#000000; stroke-width:2; stroke-opacity:0.1; fill:none\" points=\"\n  168.627,587.347 2112.76,587.347 \n  \"/>\n<polyline clip-path=\"url(#clip7902)\" style=\"stroke:#000000; stroke-width:2; stroke-opacity:0.1; fill:none\" points=\"\n  168.627,407.336 2112.76,407.336 \n  \"/>\n<polyline clip-path=\"url(#clip7902)\" style=\"stroke:#000000; stroke-width:2; stroke-opacity:0.1; fill:none\" points=\"\n  168.627,227.324 2112.76,227.324 \n  \"/>\n<polyline clip-path=\"url(#clip7900)\" style=\"stroke:#000000; stroke-width:4; stroke-opacity:1; fill:none\" points=\"\n  168.627,1408.35 2112.76,1408.35 \n  \"/>\n<polyline clip-path=\"url(#clip7900)\" style=\"stroke:#000000; stroke-width:4; stroke-opacity:1; fill:none\" points=\"\n  168.627,1408.35 168.627,126.373 \n  \"/>\n<polyline clip-path=\"url(#clip7900)\" style=\"stroke:#000000; stroke-width:4; stroke-opacity:1; fill:none\" points=\"\n  276.634,1408.35 276.634,1389.12 \n  \"/>\n<polyline clip-path=\"url(#clip7900)\" style=\"stroke:#000000; stroke-width:4; stroke-opacity:1; fill:none\" points=\"\n  636.658,1408.35 636.658,1389.12 \n  \"/>\n<polyline clip-path=\"url(#clip7900)\" style=\"stroke:#000000; stroke-width:4; stroke-opacity:1; fill:none\" points=\"\n  996.682,1408.35 996.682,1389.12 \n  \"/>\n<polyline clip-path=\"url(#clip7900)\" style=\"stroke:#000000; stroke-width:4; stroke-opacity:1; fill:none\" points=\"\n  1356.71,1408.35 1356.71,1389.12 \n  \"/>\n<polyline clip-path=\"url(#clip7900)\" style=\"stroke:#000000; stroke-width:4; stroke-opacity:1; fill:none\" points=\"\n  1716.73,1408.35 1716.73,1389.12 \n  \"/>\n<polyline clip-path=\"url(#clip7900)\" style=\"stroke:#000000; stroke-width:4; stroke-opacity:1; fill:none\" points=\"\n  2076.75,1408.35 2076.75,1389.12 \n  \"/>\n<polyline clip-path=\"url(#clip7900)\" style=\"stroke:#000000; stroke-width:4; stroke-opacity:1; fill:none\" points=\"\n  168.627,1307.4 197.789,1307.4 \n  \"/>\n<polyline clip-path=\"url(#clip7900)\" style=\"stroke:#000000; stroke-width:4; stroke-opacity:1; fill:none\" points=\"\n  168.627,1127.38 197.789,1127.38 \n  \"/>\n<polyline clip-path=\"url(#clip7900)\" style=\"stroke:#000000; stroke-width:4; stroke-opacity:1; fill:none\" points=\"\n  168.627,947.371 197.789,947.371 \n  \"/>\n<polyline clip-path=\"url(#clip7900)\" style=\"stroke:#000000; stroke-width:4; stroke-opacity:1; fill:none\" points=\"\n  168.627,767.359 197.789,767.359 \n  \"/>\n<polyline clip-path=\"url(#clip7900)\" style=\"stroke:#000000; stroke-width:4; stroke-opacity:1; fill:none\" points=\"\n  168.627,587.347 197.789,587.347 \n  \"/>\n<polyline clip-path=\"url(#clip7900)\" style=\"stroke:#000000; stroke-width:4; stroke-opacity:1; fill:none\" points=\"\n  168.627,407.336 197.789,407.336 \n  \"/>\n<polyline clip-path=\"url(#clip7900)\" style=\"stroke:#000000; stroke-width:4; stroke-opacity:1; fill:none\" points=\"\n  168.627,227.324 197.789,227.324 \n  \"/>\n<g clip-path=\"url(#clip7900)\">\n<text style=\"fill:#000000; fill-opacity:1; font-family:Arial,Helvetica Neue,Helvetica,sans-serif; font-size:48px; text-anchor:middle;\" transform=\"rotate(0, 276.634, 1462.35)\" x=\"276.634\" y=\"1462.35\">0</text>\n</g>\n<g clip-path=\"url(#clip7900)\">\n<text style=\"fill:#000000; fill-opacity:1; font-family:Arial,Helvetica Neue,Helvetica,sans-serif; font-size:48px; text-anchor:middle;\" transform=\"rotate(0, 636.658, 1462.35)\" x=\"636.658\" y=\"1462.35\">10</text>\n</g>\n<g clip-path=\"url(#clip7900)\">\n<text style=\"fill:#000000; fill-opacity:1; font-family:Arial,Helvetica Neue,Helvetica,sans-serif; font-size:48px; text-anchor:middle;\" transform=\"rotate(0, 996.682, 1462.35)\" x=\"996.682\" y=\"1462.35\">20</text>\n</g>\n<g clip-path=\"url(#clip7900)\">\n<text style=\"fill:#000000; fill-opacity:1; font-family:Arial,Helvetica Neue,Helvetica,sans-serif; font-size:48px; text-anchor:middle;\" transform=\"rotate(0, 1356.71, 1462.35)\" x=\"1356.71\" y=\"1462.35\">30</text>\n</g>\n<g clip-path=\"url(#clip7900)\">\n<text style=\"fill:#000000; fill-opacity:1; font-family:Arial,Helvetica Neue,Helvetica,sans-serif; font-size:48px; text-anchor:middle;\" transform=\"rotate(0, 1716.73, 1462.35)\" x=\"1716.73\" y=\"1462.35\">40</text>\n</g>\n<g clip-path=\"url(#clip7900)\">\n<text style=\"fill:#000000; fill-opacity:1; font-family:Arial,Helvetica Neue,Helvetica,sans-serif; font-size:48px; text-anchor:middle;\" transform=\"rotate(0, 2076.75, 1462.35)\" x=\"2076.75\" y=\"1462.35\">50</text>\n</g>\n<g clip-path=\"url(#clip7900)\">\n<text style=\"fill:#000000; fill-opacity:1; font-family:Arial,Helvetica Neue,Helvetica,sans-serif; font-size:48px; text-anchor:end;\" transform=\"rotate(0, 144.627, 1324.9)\" x=\"144.627\" y=\"1324.9\">-15</text>\n</g>\n<g clip-path=\"url(#clip7900)\">\n<text style=\"fill:#000000; fill-opacity:1; font-family:Arial,Helvetica Neue,Helvetica,sans-serif; font-size:48px; text-anchor:end;\" transform=\"rotate(0, 144.627, 1144.88)\" x=\"144.627\" y=\"1144.88\">-10</text>\n</g>\n<g clip-path=\"url(#clip7900)\">\n<text style=\"fill:#000000; fill-opacity:1; font-family:Arial,Helvetica Neue,Helvetica,sans-serif; font-size:48px; text-anchor:end;\" transform=\"rotate(0, 144.627, 964.871)\" x=\"144.627\" y=\"964.871\">-5</text>\n</g>\n<g clip-path=\"url(#clip7900)\">\n<text style=\"fill:#000000; fill-opacity:1; font-family:Arial,Helvetica Neue,Helvetica,sans-serif; font-size:48px; text-anchor:end;\" transform=\"rotate(0, 144.627, 784.859)\" x=\"144.627\" y=\"784.859\">0</text>\n</g>\n<g clip-path=\"url(#clip7900)\">\n<text style=\"fill:#000000; fill-opacity:1; font-family:Arial,Helvetica Neue,Helvetica,sans-serif; font-size:48px; text-anchor:end;\" transform=\"rotate(0, 144.627, 604.847)\" x=\"144.627\" y=\"604.847\">5</text>\n</g>\n<g clip-path=\"url(#clip7900)\">\n<text style=\"fill:#000000; fill-opacity:1; font-family:Arial,Helvetica Neue,Helvetica,sans-serif; font-size:48px; text-anchor:end;\" transform=\"rotate(0, 144.627, 424.836)\" x=\"144.627\" y=\"424.836\">10</text>\n</g>\n<g clip-path=\"url(#clip7900)\">\n<text style=\"fill:#000000; fill-opacity:1; font-family:Arial,Helvetica Neue,Helvetica,sans-serif; font-size:48px; text-anchor:end;\" transform=\"rotate(0, 144.627, 244.824)\" x=\"144.627\" y=\"244.824\">15</text>\n</g>\n<g clip-path=\"url(#clip7902)\">\n<image width=\"1944\" height=\"396\" xlink:href=\"data:image/png;base64,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\nDQoCBV4V3CPaAAAAAElFTkSuQmCC\n\" transform=\"translate(169, 569)\"/>\n</g>\n<defs>\n  <clipPath id=\"clip7903\">\n    <rect x=\"2160\" y=\"126\" width=\"73\" height=\"1283\"/>\n  </clipPath>\n</defs>\n<g clip-path=\"url(#clip7903)\">\n<image width=\"72\" height=\"1282\" xlink:href=\"data:image/png;base64,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\n\" transform=\"translate(2161, 126)\"/>\n</g>\n<g clip-path=\"url(#clip7900)\">\n<text style=\"fill:#000000; fill-opacity:1; font-family:Arial,Helvetica Neue,Helvetica,sans-serif; font-size:48px; text-anchor:start;\" transform=\"rotate(0, 2268.76, 1422)\" x=\"2268.76\" y=\"1422\">-</text>\n</g>\n<g clip-path=\"url(#clip7900)\">\n<text style=\"fill:#000000; fill-opacity:1; font-family:Arial,Helvetica Neue,Helvetica,sans-serif; font-size:48px; text-anchor:start;\" transform=\"rotate(0, 2296.87, 1422)\" x=\"2296.87\" y=\"1422\">0.100</text>\n</g>\n<g clip-path=\"url(#clip7900)\">\n<text style=\"fill:#000000; fill-opacity:1; font-family:Arial,Helvetica Neue,Helvetica,sans-serif; font-size:48px; text-anchor:start;\" transform=\"rotate(0, 2268.76, 1261.75)\" x=\"2268.76\" y=\"1261.75\">-</text>\n</g>\n<g clip-path=\"url(#clip7900)\">\n<text style=\"fill:#000000; fill-opacity:1; font-family:Arial,Helvetica Neue,Helvetica,sans-serif; font-size:48px; text-anchor:start;\" transform=\"rotate(0, 2296.87, 1261.75)\" x=\"2296.87\" y=\"1261.75\">0.075</text>\n</g>\n<g clip-path=\"url(#clip7900)\">\n<text style=\"fill:#000000; fill-opacity:1; font-family:Arial,Helvetica Neue,Helvetica,sans-serif; font-size:48px; text-anchor:start;\" transform=\"rotate(0, 2268.76, 1101.5)\" x=\"2268.76\" y=\"1101.5\">-</text>\n</g>\n<g clip-path=\"url(#clip7900)\">\n<text style=\"fill:#000000; fill-opacity:1; font-family:Arial,Helvetica Neue,Helvetica,sans-serif; font-size:48px; text-anchor:start;\" transform=\"rotate(0, 2296.87, 1101.5)\" x=\"2296.87\" y=\"1101.5\">0.050</text>\n</g>\n<g clip-path=\"url(#clip7900)\">\n<text style=\"fill:#000000; fill-opacity:1; font-family:Arial,Helvetica Neue,Helvetica,sans-serif; font-size:48px; text-anchor:start;\" transform=\"rotate(0, 2268.76, 941.257)\" x=\"2268.76\" y=\"941.257\">-</text>\n</g>\n<g clip-path=\"url(#clip7900)\">\n<text style=\"fill:#000000; fill-opacity:1; font-family:Arial,Helvetica Neue,Helvetica,sans-serif; font-size:48px; text-anchor:start;\" transform=\"rotate(0, 2296.87, 941.257)\" x=\"2296.87\" y=\"941.257\">0.025</text>\n</g>\n<g clip-path=\"url(#clip7900)\">\n<text style=\"fill:#000000; fill-opacity:1; font-family:Arial,Helvetica Neue,Helvetica,sans-serif; font-size:48px; text-anchor:start;\" transform=\"rotate(0, 2268.76, 781.011)\" x=\"2268.76\" y=\"781.011\">0</text>\n</g>\n<g clip-path=\"url(#clip7900)\">\n<text style=\"fill:#000000; fill-opacity:1; font-family:Arial,Helvetica Neue,Helvetica,sans-serif; font-size:48px; text-anchor:start;\" transform=\"rotate(0, 2268.76, 620.764)\" x=\"2268.76\" y=\"620.764\">0.025</text>\n</g>\n<g clip-path=\"url(#clip7900)\">\n<text style=\"fill:#000000; fill-opacity:1; font-family:Arial,Helvetica Neue,Helvetica,sans-serif; font-size:48px; text-anchor:start;\" transform=\"rotate(0, 2268.76, 460.517)\" x=\"2268.76\" y=\"460.517\">0.050</text>\n</g>\n<g clip-path=\"url(#clip7900)\">\n<text style=\"fill:#000000; fill-opacity:1; font-family:Arial,Helvetica Neue,Helvetica,sans-serif; font-size:48px; text-anchor:start;\" transform=\"rotate(0, 2268.76, 300.271)\" x=\"2268.76\" y=\"300.271\">0.075</text>\n</g>\n<g clip-path=\"url(#clip7900)\">\n<text style=\"fill:#000000; fill-opacity:1; font-family:Arial,Helvetica Neue,Helvetica,sans-serif; font-size:48px; text-anchor:start;\" transform=\"rotate(0, 2268.76, 140.024)\" x=\"2268.76\" y=\"140.024\">0.100</text>\n</g>\n<polyline clip-path=\"url(#clip7900)\" style=\"stroke:#000000; stroke-width:4; stroke-opacity:1; fill:none\" points=\"\n  2232.76,1408.35 2232.76,1408.35 2256.76,1408.35 2232.76,1408.35 2232.76,1248.1 2256.76,1248.1 2232.76,1248.1 2232.76,1087.85 2256.76,1087.85 2232.76,1087.85 \n  2232.76,927.606 2256.76,927.606 2232.76,927.606 2232.76,767.359 2256.76,767.359 2232.76,767.359 2232.76,607.113 2256.76,607.113 2232.76,607.113 2232.76,446.866 \n  2256.76,446.866 2232.76,446.866 2232.76,286.62 2256.76,286.62 2232.76,286.62 2232.76,126.373 2256.76,126.373 2232.76,126.373 \n  \"/>\n</svg>\n"
                     },
                     "type": "node"
                    }
                   ],
                   "instanceArgs": {
                    "namespace": "html",
                    "tag": "div"
                   },
                   "nodeType": "DOM",
                   "props": {
                    "className": "interact-flex-row interact-widget"
                   },
                   "type": "node"
                  }
                 }
                },
                "systemjs_options": null
               },
               "nodeType": "Scope",
               "props": {},
               "type": "node"
              }
             ],
             "instanceArgs": {
              "namespace": "html",
              "tag": "div"
             },
             "nodeType": "DOM",
             "props": {},
             "type": "node"
            }
           }
          },
          "systemjs_options": null
         },
         "nodeType": "Scope",
         "props": {},
         "type": "node"
        }
       ],
       "instanceArgs": {
        "namespace": "html",
        "tag": "div"
       },
       "nodeType": "DOM",
       "props": {},
       "type": "node"
      },
      "text/html": [
       "<div\n",
       "    class=\"webio-mountpoint\"\n",
       "    data-webio-mountpoint=\"13018349838916418162\"\n",
       ">\n",
       "    <script>\n",
       "    if (window.require && require.defined && require.defined(\"nbextensions/webio-jupyter-notebook\")) {\n",
       "        console.log(\"Jupyter WebIO extension detected, not mounting.\");\n",
       "    } else if (window.WebIO) {\n",
       "        WebIO.mount(\n",
       "            document.querySelector('[data-webio-mountpoint=\"13018349838916418162\"]'),\n",
       "            {\"props\":{},\"nodeType\":\"DOM\",\"type\":\"node\",\"instanceArgs\":{\"namespace\":\"html\",\"tag\":\"div\"},\"children\":[{\"props\":{\"className\":\"field interact-widget\"},\"nodeType\":\"DOM\",\"type\":\"node\",\"instanceArgs\":{\"namespace\":\"html\",\"tag\":\"div\"},\"children\":[{\"props\":{},\"nodeType\":\"Scope\",\"type\":\"node\",\"instanceArgs\":{\"imports\":{\"data\":[{\"name\":\"knockout\",\"type\":\"js\",\"url\":\"\\/assetserver\\/d033fda28de5fdb7c6d90919cbd6683e73bd443b-knockout.js\"},{\"name\":\"knockout_punches\",\"type\":\"js\",\"url\":\"\\/assetserver\\/c4515e462c6c31b06468a38b24d65546d76a0006-knockout_punches.js\"},{\"name\":null,\"type\":\"js\",\"url\":\"\\/assetserver\\/7160a783468b386025b3685c9691df17912ec29b-all.js\"},{\"name\":null,\"type\":\"css\",\"url\":\"\\/assetserver\\/c92112051a0a0326d397440da1a873f367f1d175-style.css\"},{\"name\":null,\"type\":\"css\",\"url\":\"\\/assetserver\\/755919ab5089275528f8a583d9fba4e0adcae551-bulma_confined.min.css\"}],\"type\":\"async_block\"},\"id\":\"13773279969437942318\",\"handlers\":{\"changes\":[\"(function (val){return (val!=this.model[\\\"changes\\\"]()) ? (this.valueFromJulia[\\\"changes\\\"]=true, this.model[\\\"changes\\\"](val)) : undefined})\"],\"index\":[\"(function (val){return (val!=this.model[\\\"index\\\"]()) ? (this.valueFromJulia[\\\"index\\\"]=true, this.model[\\\"index\\\"](val)) : undefined})\"]},\"systemjs_options\":null,\"mount_callbacks\":[\"function () {\\n    var handler = (function (ko, koPunches) {\\n    ko.punches.enableAll();\\n    ko.bindingHandlers.numericValue = {\\n        init: function(element, valueAccessor, allBindings, data, context) {\\n            var stringified = ko.observable(ko.unwrap(valueAccessor()));\\n            stringified.subscribe(function(value) {\\n                var val = parseFloat(value);\\n                if (!isNaN(val)) {\\n                    valueAccessor()(val);\\n                }\\n            });\\n            valueAccessor().subscribe(function(value) {\\n                var str = JSON.stringify(value);\\n                if ((str == \\\"0\\\") && ([\\\"-0\\\", \\\"-0.\\\"].indexOf(stringified()) >= 0))\\n                     return;\\n                 if ([\\\"null\\\", \\\"\\\"].indexOf(str) >= 0)\\n                     return;\\n                stringified(str);\\n            });\\n            ko.applyBindingsToNode(\\n                element,\\n                {\\n                    value: stringified,\\n                    valueUpdate: allBindings.get('valueUpdate'),\\n                },\\n                context,\\n            );\\n        }\\n    };\\n    var json_data = {\\\"formatted_vals\\\":[\\\"0.0\\\",\\\"0.5\\\",\\\"1.0\\\",\\\"1.5\\\",\\\"2.0\\\",\\\"2.5\\\",\\\"3.0\\\",\\\"3.5\\\",\\\"4.0\\\",\\\"4.5\\\",\\\"5.0\\\",\\\"5.5\\\",\\\"6.0\\\",\\\"6.5\\\",\\\"7.0\\\",\\\"7.5\\\",\\\"8.0\\\",\\\"8.5\\\",\\\"9.0\\\",\\\"9.5\\\",\\\"10.0\\\",\\\"10.5\\\",\\\"11.0\\\",\\\"11.5\\\",\\\"12.0\\\",\\\"12.5\\\",\\\"13.0\\\",\\\"13.5\\\",\\\"14.0\\\"],\\\"changes\\\":WebIO.getval({\\\"name\\\":\\\"changes\\\",\\\"scope\\\":\\\"13773279969437942318\\\",\\\"id\\\":\\\"ob_21\\\",\\\"type\\\":\\\"observable\\\"}),\\\"index\\\":WebIO.getval({\\\"name\\\":\\\"index\\\",\\\"scope\\\":\\\"13773279969437942318\\\",\\\"id\\\":\\\"ob_20\\\",\\\"type\\\":\\\"observable\\\"})};\\n    var self = this;\\n    function AppViewModel() {\\n        for (var key in json_data) {\\n            var el = json_data[key];\\n            this[key] = Array.isArray(el) ? ko.observableArray(el) : ko.observable(el);\\n        }\\n        \\n        [this[\\\"formatted_val\\\"]=ko.computed(    function(){\\n        return this.formatted_vals()[parseInt(this.index())-(1)];\\n    }\\n,this)]\\n        [this[\\\"changes\\\"].subscribe((function (val){!(this.valueFromJulia[\\\"changes\\\"]) ? (WebIO.setval({\\\"name\\\":\\\"changes\\\",\\\"scope\\\":\\\"13773279969437942318\\\",\\\"id\\\":\\\"ob_21\\\",\\\"type\\\":\\\"observable\\\"},val)) : undefined; return this.valueFromJulia[\\\"changes\\\"]=false}),self),this[\\\"index\\\"].subscribe((function (val){!(this.valueFromJulia[\\\"index\\\"]) ? (WebIO.setval({\\\"name\\\":\\\"index\\\",\\\"scope\\\":\\\"13773279969437942318\\\",\\\"id\\\":\\\"ob_20\\\",\\\"type\\\":\\\"observable\\\"},val)) : undefined; return this.valueFromJulia[\\\"index\\\"]=false}),self)]\\n        \\n    }\\n    self.model = new AppViewModel();\\n    self.valueFromJulia = {};\\n    for (var key in json_data) {\\n        self.valueFromJulia[key] = false;\\n    }\\n    ko.applyBindings(self.model, self.dom);\\n}\\n);\\n    (WebIO.importBlock({\\\"data\\\":[{\\\"name\\\":\\\"knockout\\\",\\\"type\\\":\\\"js\\\",\\\"url\\\":\\\"\\/assetserver\\/d033fda28de5fdb7c6d90919cbd6683e73bd443b-knockout.js\\\"},{\\\"name\\\":\\\"knockout_punches\\\",\\\"type\\\":\\\"js\\\",\\\"url\\\":\\\"\\/assetserver\\/c4515e462c6c31b06468a38b24d65546d76a0006-knockout_punches.js\\\"}],\\\"type\\\":\\\"async_block\\\"})).then((imports) => handler.apply(this, imports));\\n}\\n\"],\"observables\":{\"changes\":{\"sync\":false,\"id\":\"ob_21\",\"value\":0},\"index\":{\"sync\":true,\"id\":\"ob_20\",\"value\":15}}},\"children\":[{\"props\":{\"className\":\"interact-flex-row interact-widget\"},\"nodeType\":\"DOM\",\"type\":\"node\",\"instanceArgs\":{\"namespace\":\"html\",\"tag\":\"div\"},\"children\":[{\"props\":{\"className\":\"interact-flex-row-left\"},\"nodeType\":\"DOM\",\"type\":\"node\",\"instanceArgs\":{\"namespace\":\"html\",\"tag\":\"div\"},\"children\":[{\"props\":{\"className\":\"interact \",\"style\":{\"padding\":\"5px 10px 0px 10px\"}},\"nodeType\":\"DOM\",\"type\":\"node\",\"instanceArgs\":{\"namespace\":\"html\",\"tag\":\"label\"},\"children\":[\"ego_v\"]}]},{\"props\":{\"className\":\"interact-flex-row-center\"},\"nodeType\":\"DOM\",\"type\":\"node\",\"instanceArgs\":{\"namespace\":\"html\",\"tag\":\"div\"},\"children\":[{\"props\":{\"max\":29,\"min\":1,\"attributes\":{\"type\":\"range\",\"data-bind\":\"numericValue: index, valueUpdate: 'input', event: {change: function (){this.changes(this.changes()+1)}}\",\"orient\":\"horizontal\"},\"step\":1,\"className\":\"slider slider is-fullwidth\",\"style\":{}},\"nodeType\":\"DOM\",\"type\":\"node\",\"instanceArgs\":{\"namespace\":\"html\",\"tag\":\"input\"},\"children\":[]}]},{\"props\":{\"className\":\"interact-flex-row-right\"},\"nodeType\":\"DOM\",\"type\":\"node\",\"instanceArgs\":{\"namespace\":\"html\",\"tag\":\"div\"},\"children\":[{\"props\":{\"attributes\":{\"data-bind\":\"text: formatted_val\"}},\"nodeType\":\"DOM\",\"type\":\"node\",\"instanceArgs\":{\"namespace\":\"html\",\"tag\":\"p\"},\"children\":[]}]}]}]}]},{\"props\":{},\"nodeType\":\"Scope\",\"type\":\"node\",\"instanceArgs\":{\"imports\":{\"data\":[],\"type\":\"async_block\"},\"id\":\"16229615749899970472\",\"handlers\":{},\"systemjs_options\":null,\"mount_callbacks\":[],\"observables\":{\"obs-scope\":{\"sync\":false,\"id\":\"ob_31\",\"value\":{\"props\":{},\"nodeType\":\"DOM\",\"type\":\"node\",\"instanceArgs\":{\"namespace\":\"html\",\"tag\":\"div\"},\"children\":[{\"props\":{\"className\":\"field interact-widget\"},\"nodeType\":\"DOM\",\"type\":\"node\",\"instanceArgs\":{\"namespace\":\"html\",\"tag\":\"div\"},\"children\":[{\"props\":{},\"nodeType\":\"Scope\",\"type\":\"node\",\"instanceArgs\":{\"imports\":{\"data\":[{\"name\":\"knockout\",\"type\":\"js\",\"url\":\"\\/assetserver\\/d033fda28de5fdb7c6d90919cbd6683e73bd443b-knockout.js\"},{\"name\":\"knockout_punches\",\"type\":\"js\",\"url\":\"\\/assetserver\\/c4515e462c6c31b06468a38b24d65546d76a0006-knockout_punches.js\"},{\"name\":null,\"type\":\"js\",\"url\":\"\\/assetserver\\/7160a783468b386025b3685c9691df17912ec29b-all.js\"},{\"name\":null,\"type\":\"css\",\"url\":\"\\/assetserver\\/c92112051a0a0326d397440da1a873f367f1d175-style.css\"},{\"name\":null,\"type\":\"css\",\"url\":\"\\/assetserver\\/755919ab5089275528f8a583d9fba4e0adcae551-bulma_confined.min.css\"}],\"type\":\"async_block\"},\"id\":\"3954089700122046811\",\"handlers\":{\"changes\":[\"(function (val){return (val!=this.model[\\\"changes\\\"]()) ? (this.valueFromJulia[\\\"changes\\\"]=true, this.model[\\\"changes\\\"](val)) : undefined})\"],\"index\":[\"(function (val){return (val!=this.model[\\\"index\\\"]()) ? (this.valueFromJulia[\\\"index\\\"]=true, this.model[\\\"index\\\"](val)) : undefined})\"]},\"systemjs_options\":null,\"mount_callbacks\":[\"function () {\\n    var handler = (function (ko, koPunches) {\\n    ko.punches.enableAll();\\n    ko.bindingHandlers.numericValue = {\\n        init: function(element, valueAccessor, allBindings, data, context) {\\n            var stringified = ko.observable(ko.unwrap(valueAccessor()));\\n            stringified.subscribe(function(value) {\\n                var val = parseFloat(value);\\n                if (!isNaN(val)) {\\n                    valueAccessor()(val);\\n                }\\n            });\\n            valueAccessor().subscribe(function(value) {\\n                var str = JSON.stringify(value);\\n                if ((str == \\\"0\\\") && ([\\\"-0\\\", \\\"-0.\\\"].indexOf(stringified()) >= 0))\\n                     return;\\n                 if ([\\\"null\\\", \\\"\\\"].indexOf(str) >= 0)\\n                     return;\\n                stringified(str);\\n            });\\n            ko.applyBindingsToNode(\\n                element,\\n                {\\n                    value: stringified,\\n                    valueUpdate: allBindings.get('valueUpdate'),\\n                },\\n                context,\\n            );\\n        }\\n    };\\n    var json_data = {\\\"formatted_vals\\\":[\\\"0.0\\\",\\\"0.5\\\",\\\"1.0\\\",\\\"1.5\\\",\\\"2.0\\\"],\\\"changes\\\":WebIO.getval({\\\"name\\\":\\\"changes\\\",\\\"scope\\\":\\\"3954089700122046811\\\",\\\"id\\\":\\\"ob_24\\\",\\\"type\\\":\\\"observable\\\"}),\\\"index\\\":WebIO.getval({\\\"name\\\":\\\"index\\\",\\\"scope\\\":\\\"3954089700122046811\\\",\\\"id\\\":\\\"ob_23\\\",\\\"type\\\":\\\"observable\\\"})};\\n    var self = this;\\n    function AppViewModel() {\\n        for (var key in json_data) {\\n            var el = json_data[key];\\n            this[key] = Array.isArray(el) ? ko.observableArray(el) : ko.observable(el);\\n        }\\n        \\n        [this[\\\"formatted_val\\\"]=ko.computed(    function(){\\n        return this.formatted_vals()[parseInt(this.index())-(1)];\\n    }\\n,this)]\\n        [this[\\\"changes\\\"].subscribe((function (val){!(this.valueFromJulia[\\\"changes\\\"]) ? (WebIO.setval({\\\"name\\\":\\\"changes\\\",\\\"scope\\\":\\\"3954089700122046811\\\",\\\"id\\\":\\\"ob_24\\\",\\\"type\\\":\\\"observable\\\"},val)) : undefined; return this.valueFromJulia[\\\"changes\\\"]=false}),self),this[\\\"index\\\"].subscribe((function (val){!(this.valueFromJulia[\\\"index\\\"]) ? (WebIO.setval({\\\"name\\\":\\\"index\\\",\\\"scope\\\":\\\"3954089700122046811\\\",\\\"id\\\":\\\"ob_23\\\",\\\"type\\\":\\\"observable\\\"},val)) : undefined; return this.valueFromJulia[\\\"index\\\"]=false}),self)]\\n        \\n    }\\n    self.model = new AppViewModel();\\n    self.valueFromJulia = {};\\n    for (var key in json_data) {\\n        self.valueFromJulia[key] = false;\\n    }\\n    ko.applyBindings(self.model, self.dom);\\n}\\n);\\n    (WebIO.importBlock({\\\"data\\\":[{\\\"name\\\":\\\"knockout\\\",\\\"type\\\":\\\"js\\\",\\\"url\\\":\\\"\\/assetserver\\/d033fda28de5fdb7c6d90919cbd6683e73bd443b-knockout.js\\\"},{\\\"name\\\":\\\"knockout_punches\\\",\\\"type\\\":\\\"js\\\",\\\"url\\\":\\\"\\/assetserver\\/c4515e462c6c31b06468a38b24d65546d76a0006-knockout_punches.js\\\"}],\\\"type\\\":\\\"async_block\\\"})).then((imports) => handler.apply(this, imports));\\n}\\n\"],\"observables\":{\"changes\":{\"sync\":false,\"id\":\"ob_24\",\"value\":0},\"index\":{\"sync\":true,\"id\":\"ob_23\",\"value\":3}}},\"children\":[{\"props\":{\"className\":\"interact-flex-row interact-widget\"},\"nodeType\":\"DOM\",\"type\":\"node\",\"instanceArgs\":{\"namespace\":\"html\",\"tag\":\"div\"},\"children\":[{\"props\":{\"className\":\"interact-flex-row-left\"},\"nodeType\":\"DOM\",\"type\":\"node\",\"instanceArgs\":{\"namespace\":\"html\",\"tag\":\"div\"},\"children\":[{\"props\":{\"className\":\"interact \",\"style\":{\"padding\":\"5px 10px 0px 10px\"}},\"nodeType\":\"DOM\",\"type\":\"node\",\"instanceArgs\":{\"namespace\":\"html\",\"tag\":\"label\"},\"children\":[\"ped_v\"]}]},{\"props\":{\"className\":\"interact-flex-row-center\"},\"nodeType\":\"DOM\",\"type\":\"node\",\"instanceArgs\":{\"namespace\":\"html\",\"tag\":\"div\"},\"children\":[{\"props\":{\"max\":5,\"min\":1,\"attributes\":{\"type\":\"range\",\"data-bind\":\"numericValue: index, valueUpdate: 'input', event: {change: function (){this.changes(this.changes()+1)}}\",\"orient\":\"horizontal\"},\"step\":1,\"className\":\"slider slider is-fullwidth\",\"style\":{}},\"nodeType\":\"DOM\",\"type\":\"node\",\"instanceArgs\":{\"namespace\":\"html\",\"tag\":\"input\"},\"children\":[]}]},{\"props\":{\"className\":\"interact-flex-row-right\"},\"nodeType\":\"DOM\",\"type\":\"node\",\"instanceArgs\":{\"namespace\":\"html\",\"tag\":\"div\"},\"children\":[{\"props\":{\"attributes\":{\"data-bind\":\"text: formatted_val\"}},\"nodeType\":\"DOM\",\"type\":\"node\",\"instanceArgs\":{\"namespace\":\"html\",\"tag\":\"p\"},\"children\":[]}]}]}]}]},{\"props\":{},\"nodeType\":\"Scope\",\"type\":\"node\",\"instanceArgs\":{\"imports\":{\"data\":[],\"type\":\"async_block\"},\"id\":\"13402253475003344152\",\"handlers\":{},\"systemjs_options\":null,\"mount_callbacks\":[],\"observables\":{\"obs-node\":{\"sync\":false,\"id\":\"ob_32\",\"value\":{\"props\":{\"className\":\"interact-flex-row interact-widget\"},\"nodeType\":\"DOM\",\"type\":\"node\",\"instanceArgs\":{\"namespace\":\"html\",\"tag\":\"div\"},\"children\":[{\"props\":{\"setInnerHtml\":\"<?xml version=\\\"1.0\\\" encoding=\\\"utf-8\\\"?>\\n<svg xmlns=\\\"http:\\/\\/www.w3.org\\/2000\\/svg\\\" xmlns:xlink=\\\"http:\\/\\/www.w3.org\\/1999\\/xlink\\\" width=\\\"600\\\" height=\\\"400\\\" viewBox=\\\"0 0 2400 1600\\\">\\n<defs>\\n  <clipPath id=\\\"clip7500\\\">\\n    <rect x=\\\"0\\\" y=\\\"0\\\" width=\\\"2400\\\" height=\\\"1600\\\"\\/>\\n  <\\/clipPath>\\n<\\/defs>\\n<path clip-path=\\\"url(#clip7500)\\\" d=\\\"\\nM0 1600 L2400 1600 L2400 0 L0 0  Z\\n  \\\" fill=\\\"#ffffff\\\" fill-rule=\\\"evenodd\\\" fill-opacity=\\\"1\\\"\\/>\\n<defs>\\n  <clipPath id=\\\"clip7501\\\">\\n    <rect x=\\\"480\\\" y=\\\"0\\\" width=\\\"1681\\\" height=\\\"1600\\\"\\/>\\n  <\\/clipPath>\\n<\\/defs>\\n<path clip-path=\\\"url(#clip7500)\\\" d=\\\"\\nM168.627 1408.35 L2112.76 1408.35 L2112.76 126.373 L168.627 126.373  Z\\n  \\\" fill=\\\"#ffffff\\\" fill-rule=\\\"evenodd\\\" fill-opacity=\\\"1\\\"\\/>\\n<defs>\\n  <clipPath id=\\\"clip7502\\\">\\n    <rect x=\\\"168\\\" y=\\\"126\\\" width=\\\"1945\\\" height=\\\"1283\\\"\\/>\\n  <\\/clipPath>\\n<\\/defs>\\n<polyline clip-path=\\\"url(#clip7502)\\\" style=\\\"stroke:#000000; stroke-width:2; stroke-opacity:0.1; fill:none\\\" points=\\\"\\n  276.634,1408.35 276.634,126.373 \\n  \\\"\\/>\\n<polyline clip-path=\\\"url(#clip7502)\\\" style=\\\"stroke:#000000; stroke-width:2; stroke-opacity:0.1; fill:none\\\" points=\\\"\\n  636.658,1408.35 636.658,126.373 \\n  \\\"\\/>\\n<polyline clip-path=\\\"url(#clip7502)\\\" style=\\\"stroke:#000000; stroke-width:2; stroke-opacity:0.1; fill:none\\\" points=\\\"\\n  996.682,1408.35 996.682,126.373 \\n  \\\"\\/>\\n<polyline clip-path=\\\"url(#clip7502)\\\" style=\\\"stroke:#000000; stroke-width:2; stroke-opacity:0.1; fill:none\\\" points=\\\"\\n  1356.71,1408.35 1356.71,126.373 \\n  \\\"\\/>\\n<polyline clip-path=\\\"url(#clip7502)\\\" style=\\\"stroke:#000000; stroke-width:2; stroke-opacity:0.1; fill:none\\\" points=\\\"\\n  1716.73,1408.35 1716.73,126.373 \\n  \\\"\\/>\\n<polyline clip-path=\\\"url(#clip7502)\\\" style=\\\"stroke:#000000; stroke-width:2; stroke-opacity:0.1; fill:none\\\" points=\\\"\\n  2076.75,1408.35 2076.75,126.373 \\n  \\\"\\/>\\n<polyline clip-path=\\\"url(#clip7502)\\\" style=\\\"stroke:#000000; stroke-width:2; stroke-opacity:0.1; fill:none\\\" points=\\\"\\n  168.627,1307.4 2112.76,1307.4 \\n  \\\"\\/>\\n<polyline clip-path=\\\"url(#clip7502)\\\" style=\\\"stroke:#000000; stroke-width:2; stroke-opacity:0.1; fill:none\\\" points=\\\"\\n  168.627,1127.38 2112.76,1127.38 \\n  \\\"\\/>\\n<polyline clip-path=\\\"url(#clip7502)\\\" style=\\\"stroke:#000000; stroke-width:2; stroke-opacity:0.1; fill:none\\\" points=\\\"\\n  168.627,947.371 2112.76,947.371 \\n  \\\"\\/>\\n<polyline clip-path=\\\"url(#clip7502)\\\" style=\\\"stroke:#000000; stroke-width:2; stroke-opacity:0.1; fill:none\\\" points=\\\"\\n  168.627,767.359 2112.76,767.359 \\n  \\\"\\/>\\n<polyline clip-path=\\\"url(#clip7502)\\\" style=\\\"stroke:#000000; stroke-width:2; stroke-opacity:0.1; fill:none\\\" points=\\\"\\n  168.627,587.347 2112.76,587.347 \\n  \\\"\\/>\\n<polyline clip-path=\\\"url(#clip7502)\\\" style=\\\"stroke:#000000; stroke-width:2; stroke-opacity:0.1; fill:none\\\" points=\\\"\\n  168.627,407.336 2112.76,407.336 \\n  \\\"\\/>\\n<polyline clip-path=\\\"url(#clip7502)\\\" style=\\\"stroke:#000000; stroke-width:2; stroke-opacity:0.1; fill:none\\\" points=\\\"\\n  168.627,227.324 2112.76,227.324 \\n  \\\"\\/>\\n<polyline clip-path=\\\"url(#clip7500)\\\" style=\\\"stroke:#000000; stroke-width:4; stroke-opacity:1; fill:none\\\" points=\\\"\\n  168.627,1408.35 2112.76,1408.35 \\n  \\\"\\/>\\n<polyline clip-path=\\\"url(#clip7500)\\\" style=\\\"stroke:#000000; stroke-width:4; stroke-opacity:1; fill:none\\\" points=\\\"\\n  168.627,1408.35 168.627,126.373 \\n  \\\"\\/>\\n<polyline clip-path=\\\"url(#clip7500)\\\" style=\\\"stroke:#000000; stroke-width:4; stroke-opacity:1; fill:none\\\" points=\\\"\\n  276.634,1408.35 276.634,1389.12 \\n  \\\"\\/>\\n<polyline clip-path=\\\"url(#clip7500)\\\" style=\\\"stroke:#000000; stroke-width:4; stroke-opacity:1; fill:none\\\" points=\\\"\\n  636.658,1408.35 636.658,1389.12 \\n  \\\"\\/>\\n<polyline clip-path=\\\"url(#clip7500)\\\" style=\\\"stroke:#000000; stroke-width:4; stroke-opacity:1; fill:none\\\" points=\\\"\\n  996.682,1408.35 996.682,1389.12 \\n  \\\"\\/>\\n<polyline clip-path=\\\"url(#clip7500)\\\" style=\\\"stroke:#000000; stroke-width:4; stroke-opacity:1; fill:none\\\" points=\\\"\\n  1356.71,1408.35 1356.71,1389.12 \\n  \\\"\\/>\\n<polyline clip-path=\\\"url(#clip7500)\\\" style=\\\"stroke:#000000; stroke-width:4; stroke-opacity:1; fill:none\\\" points=\\\"\\n  1716.73,1408.35 1716.73,1389.12 \\n  \\\"\\/>\\n<polyline clip-path=\\\"url(#clip7500)\\\" style=\\\"stroke:#000000; stroke-width:4; stroke-opacity:1; fill:none\\\" points=\\\"\\n  2076.75,1408.35 2076.75,1389.12 \\n  \\\"\\/>\\n<polyline clip-path=\\\"url(#clip7500)\\\" style=\\\"stroke:#000000; stroke-width:4; stroke-opacity:1; fill:none\\\" points=\\\"\\n  168.627,1307.4 197.789,1307.4 \\n  \\\"\\/>\\n<polyline clip-path=\\\"url(#clip7500)\\\" style=\\\"stroke:#000000; stroke-width:4; stroke-opacity:1; fill:none\\\" points=\\\"\\n  168.627,1127.38 197.789,1127.38 \\n  \\\"\\/>\\n<polyline clip-path=\\\"url(#clip7500)\\\" style=\\\"stroke:#000000; stroke-width:4; stroke-opacity:1; fill:none\\\" points=\\\"\\n  168.627,947.371 197.789,947.371 \\n  \\\"\\/>\\n<polyline clip-path=\\\"url(#clip7500)\\\" style=\\\"stroke:#000000; stroke-width:4; stroke-opacity:1; fill:none\\\" points=\\\"\\n  168.627,767.359 197.789,767.359 \\n  \\\"\\/>\\n<polyline clip-path=\\\"url(#clip7500)\\\" style=\\\"stroke:#000000; stroke-width:4; stroke-opacity:1; fill:none\\\" points=\\\"\\n  168.627,587.347 197.789,587.347 \\n  \\\"\\/>\\n<polyline clip-path=\\\"url(#clip7500)\\\" style=\\\"stroke:#000000; stroke-width:4; stroke-opacity:1; fill:none\\\" points=\\\"\\n  168.627,407.336 197.789,407.336 \\n  \\\"\\/>\\n<polyline clip-path=\\\"url(#clip7500)\\\" style=\\\"stroke:#000000; stroke-width:4; stroke-opacity:1; fill:none\\\" points=\\\"\\n  168.627,227.324 197.789,227.324 \\n  \\\"\\/>\\n<g clip-path=\\\"url(#clip7500)\\\">\\n<text style=\\\"fill:#000000; fill-opacity:1; font-family:Arial,Helvetica Neue,Helvetica,sans-serif; font-size:48px; text-anchor:middle;\\\" transform=\\\"rotate(0, 276.634, 1462.35)\\\" x=\\\"276.634\\\" y=\\\"1462.35\\\">0<\\/text>\\n<\\/g>\\n<g clip-path=\\\"url(#clip7500)\\\">\\n<text style=\\\"fill:#000000; fill-opacity:1; font-family:Arial,Helvetica Neue,Helvetica,sans-serif; font-size:48px; text-anchor:middle;\\\" transform=\\\"rotate(0, 636.658, 1462.35)\\\" x=\\\"636.658\\\" y=\\\"1462.35\\\">10<\\/text>\\n<\\/g>\\n<g clip-path=\\\"url(#clip7500)\\\">\\n<text style=\\\"fill:#000000; fill-opacity:1; font-family:Arial,Helvetica Neue,Helvetica,sans-serif; font-size:48px; text-anchor:middle;\\\" transform=\\\"rotate(0, 996.682, 1462.35)\\\" x=\\\"996.682\\\" y=\\\"1462.35\\\">20<\\/text>\\n<\\/g>\\n<g clip-path=\\\"url(#clip7500)\\\">\\n<text style=\\\"fill:#000000; fill-opacity:1; font-family:Arial,Helvetica Neue,Helvetica,sans-serif; font-size:48px; text-anchor:middle;\\\" transform=\\\"rotate(0, 1356.71, 1462.35)\\\" x=\\\"1356.71\\\" y=\\\"1462.35\\\">30<\\/text>\\n<\\/g>\\n<g clip-path=\\\"url(#clip7500)\\\">\\n<text style=\\\"fill:#000000; fill-opacity:1; font-family:Arial,Helvetica Neue,Helvetica,sans-serif; font-size:48px; text-anchor:middle;\\\" transform=\\\"rotate(0, 1716.73, 1462.35)\\\" x=\\\"1716.73\\\" y=\\\"1462.35\\\">40<\\/text>\\n<\\/g>\\n<g clip-path=\\\"url(#clip7500)\\\">\\n<text style=\\\"fill:#000000; fill-opacity:1; font-family:Arial,Helvetica Neue,Helvetica,sans-serif; font-size:48px; text-anchor:middle;\\\" transform=\\\"rotate(0, 2076.75, 1462.35)\\\" x=\\\"2076.75\\\" y=\\\"1462.35\\\">50<\\/text>\\n<\\/g>\\n<g clip-path=\\\"url(#clip7500)\\\">\\n<text style=\\\"fill:#000000; fill-opacity:1; font-family:Arial,Helvetica Neue,Helvetica,sans-serif; font-size:48px; text-anchor:end;\\\" transform=\\\"rotate(0, 144.627, 1324.9)\\\" x=\\\"144.627\\\" y=\\\"1324.9\\\">-15<\\/text>\\n<\\/g>\\n<g clip-path=\\\"url(#clip7500)\\\">\\n<text style=\\\"fill:#000000; fill-opacity:1; font-family:Arial,Helvetica Neue,Helvetica,sans-serif; font-size:48px; text-anchor:end;\\\" transform=\\\"rotate(0, 144.627, 1144.88)\\\" x=\\\"144.627\\\" y=\\\"1144.88\\\">-10<\\/text>\\n<\\/g>\\n<g clip-path=\\\"url(#clip7500)\\\">\\n<text style=\\\"fill:#000000; fill-opacity:1; font-family:Arial,Helvetica Neue,Helvetica,sans-serif; font-size:48px; text-anchor:end;\\\" transform=\\\"rotate(0, 144.627, 964.871)\\\" x=\\\"144.627\\\" y=\\\"964.871\\\">-5<\\/text>\\n<\\/g>\\n<g clip-path=\\\"url(#clip7500)\\\">\\n<text style=\\\"fill:#000000; fill-opacity:1; font-family:Arial,Helvetica Neue,Helvetica,sans-serif; font-size:48px; text-anchor:end;\\\" transform=\\\"rotate(0, 144.627, 784.859)\\\" x=\\\"144.627\\\" y=\\\"784.859\\\">0<\\/text>\\n<\\/g>\\n<g clip-path=\\\"url(#clip7500)\\\">\\n<text style=\\\"fill:#000000; fill-opacity:1; font-family:Arial,Helvetica Neue,Helvetica,sans-serif; font-size:48px; text-anchor:end;\\\" transform=\\\"rotate(0, 144.627, 604.847)\\\" x=\\\"144.627\\\" y=\\\"604.847\\\">5<\\/text>\\n<\\/g>\\n<g clip-path=\\\"url(#clip7500)\\\">\\n<text style=\\\"fill:#000000; fill-opacity:1; font-family:Arial,Helvetica Neue,Helvetica,sans-serif; font-size:48px; text-anchor:end;\\\" transform=\\\"rotate(0, 144.627, 424.836)\\\" x=\\\"144.627\\\" y=\\\"424.836\\\">10<\\/text>\\n<\\/g>\\n<g clip-path=\\\"url(#clip7500)\\\">\\n<text style=\\\"fill:#000000; fill-opacity:1; font-family:Arial,Helvetica Neue,Helvetica,sans-serif; font-size:48px; text-anchor:end;\\\" transform=\\\"rotate(0, 144.627, 244.824)\\\" x=\\\"144.627\\\" y=\\\"244.824\\\">15<\\/text>\\n<\\/g>\\n<g clip-path=\\\"url(#clip7502)\\\">\\n<image width=\\\"1944\\\" height=\\\"396\\\" xlink:href=\\\"data:image\\/png;base64,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\\nDQoCBV4V3CPaAAAAAElFTkSuQmCC\\n\\\" transform=\\\"translate(169, 569)\\\"\\/>\\n<\\/g>\\n<defs>\\n  <clipPath id=\\\"clip7503\\\">\\n    <rect x=\\\"2160\\\" y=\\\"126\\\" width=\\\"73\\\" height=\\\"1283\\\"\\/>\\n  <\\/clipPath>\\n<\\/defs>\\n<g clip-path=\\\"url(#clip7503)\\\">\\n<image width=\\\"72\\\" height=\\\"1282\\\" xlink:href=\\\"data:image\\/png;base64,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\\n\\\" transform=\\\"translate(2161, 126)\\\"\\/>\\n<\\/g>\\n<g clip-path=\\\"url(#clip7500)\\\">\\n<text style=\\\"fill:#000000; fill-opacity:1; font-family:Arial,Helvetica Neue,Helvetica,sans-serif; font-size:48px; text-anchor:start;\\\" transform=\\\"rotate(0, 2268.76, 1422)\\\" x=\\\"2268.76\\\" y=\\\"1422\\\">-<\\/text>\\n<\\/g>\\n<g clip-path=\\\"url(#clip7500)\\\">\\n<text style=\\\"fill:#000000; fill-opacity:1; font-family:Arial,Helvetica Neue,Helvetica,sans-serif; font-size:48px; text-anchor:start;\\\" transform=\\\"rotate(0, 2296.87, 1422)\\\" x=\\\"2296.87\\\" y=\\\"1422\\\">0.100<\\/text>\\n<\\/g>\\n<g clip-path=\\\"url(#clip7500)\\\">\\n<text style=\\\"fill:#000000; fill-opacity:1; font-family:Arial,Helvetica Neue,Helvetica,sans-serif; font-size:48px; text-anchor:start;\\\" transform=\\\"rotate(0, 2268.76, 1261.75)\\\" x=\\\"2268.76\\\" y=\\\"1261.75\\\">-<\\/text>\\n<\\/g>\\n<g clip-path=\\\"url(#clip7500)\\\">\\n<text style=\\\"fill:#000000; fill-opacity:1; font-family:Arial,Helvetica Neue,Helvetica,sans-serif; font-size:48px; text-anchor:start;\\\" transform=\\\"rotate(0, 2296.87, 1261.75)\\\" x=\\\"2296.87\\\" y=\\\"1261.75\\\">0.075<\\/text>\\n<\\/g>\\n<g clip-path=\\\"url(#clip7500)\\\">\\n<text style=\\\"fill:#000000; fill-opacity:1; font-family:Arial,Helvetica Neue,Helvetica,sans-serif; font-size:48px; text-anchor:start;\\\" transform=\\\"rotate(0, 2268.76, 1101.5)\\\" x=\\\"2268.76\\\" y=\\\"1101.5\\\">-<\\/text>\\n<\\/g>\\n<g clip-path=\\\"url(#clip7500)\\\">\\n<text style=\\\"fill:#000000; fill-opacity:1; font-family:Arial,Helvetica Neue,Helvetica,sans-serif; font-size:48px; text-anchor:start;\\\" transform=\\\"rotate(0, 2296.87, 1101.5)\\\" x=\\\"2296.87\\\" y=\\\"1101.5\\\">0.050<\\/text>\\n<\\/g>\\n<g clip-path=\\\"url(#clip7500)\\\">\\n<text style=\\\"fill:#000000; fill-opacity:1; font-family:Arial,Helvetica Neue,Helvetica,sans-serif; font-size:48px; text-anchor:start;\\\" transform=\\\"rotate(0, 2268.76, 941.257)\\\" x=\\\"2268.76\\\" y=\\\"941.257\\\">-<\\/text>\\n<\\/g>\\n<g clip-path=\\\"url(#clip7500)\\\">\\n<text style=\\\"fill:#000000; fill-opacity:1; font-family:Arial,Helvetica Neue,Helvetica,sans-serif; font-size:48px; text-anchor:start;\\\" transform=\\\"rotate(0, 2296.87, 941.257)\\\" x=\\\"2296.87\\\" y=\\\"941.257\\\">0.025<\\/text>\\n<\\/g>\\n<g clip-path=\\\"url(#clip7500)\\\">\\n<text style=\\\"fill:#000000; fill-opacity:1; font-family:Arial,Helvetica Neue,Helvetica,sans-serif; font-size:48px; text-anchor:start;\\\" transform=\\\"rotate(0, 2268.76, 781.011)\\\" x=\\\"2268.76\\\" y=\\\"781.011\\\">0<\\/text>\\n<\\/g>\\n<g clip-path=\\\"url(#clip7500)\\\">\\n<text style=\\\"fill:#000000; fill-opacity:1; font-family:Arial,Helvetica Neue,Helvetica,sans-serif; font-size:48px; text-anchor:start;\\\" transform=\\\"rotate(0, 2268.76, 620.764)\\\" x=\\\"2268.76\\\" y=\\\"620.764\\\">0.025<\\/text>\\n<\\/g>\\n<g clip-path=\\\"url(#clip7500)\\\">\\n<text style=\\\"fill:#000000; fill-opacity:1; font-family:Arial,Helvetica Neue,Helvetica,sans-serif; font-size:48px; text-anchor:start;\\\" transform=\\\"rotate(0, 2268.76, 460.517)\\\" x=\\\"2268.76\\\" y=\\\"460.517\\\">0.050<\\/text>\\n<\\/g>\\n<g clip-path=\\\"url(#clip7500)\\\">\\n<text style=\\\"fill:#000000; fill-opacity:1; font-family:Arial,Helvetica Neue,Helvetica,sans-serif; font-size:48px; text-anchor:start;\\\" transform=\\\"rotate(0, 2268.76, 300.271)\\\" x=\\\"2268.76\\\" y=\\\"300.271\\\">0.075<\\/text>\\n<\\/g>\\n<g clip-path=\\\"url(#clip7500)\\\">\\n<text style=\\\"fill:#000000; fill-opacity:1; font-family:Arial,Helvetica Neue,Helvetica,sans-serif; font-size:48px; text-anchor:start;\\\" transform=\\\"rotate(0, 2268.76, 140.024)\\\" x=\\\"2268.76\\\" y=\\\"140.024\\\">0.100<\\/text>\\n<\\/g>\\n<polyline clip-path=\\\"url(#clip7500)\\\" style=\\\"stroke:#000000; stroke-width:4; stroke-opacity:1; fill:none\\\" points=\\\"\\n  2232.76,1408.35 2232.76,1408.35 2256.76,1408.35 2232.76,1408.35 2232.76,1248.1 2256.76,1248.1 2232.76,1248.1 2232.76,1087.85 2256.76,1087.85 2232.76,1087.85 \\n  2232.76,927.606 2256.76,927.606 2232.76,927.606 2232.76,767.359 2256.76,767.359 2232.76,767.359 2232.76,607.113 2256.76,607.113 2232.76,607.113 2232.76,446.866 \\n  2256.76,446.866 2232.76,446.866 2232.76,286.62 2256.76,286.62 2232.76,286.62 2232.76,126.373 2256.76,126.373 2232.76,126.373 \\n  \\\"\\/>\\n<\\/svg>\\n\"},\"nodeType\":\"DOM\",\"type\":\"node\",\"instanceArgs\":{\"namespace\":\"html\",\"tag\":\"div\"},\"children\":[]}]}}}},\"children\":[{\"props\":{},\"nodeType\":\"ObservableNode\",\"type\":\"node\",\"instanceArgs\":{\"id\":\"ob_32\",\"name\":\"obs-node\"},\"children\":[]}]}]}}}},\"children\":[{\"props\":{},\"nodeType\":\"ObservableNode\",\"type\":\"node\",\"instanceArgs\":{\"id\":\"ob_31\",\"name\":\"obs-scope\"},\"children\":[]}]}]},\n",
       "            window,\n",
       "        );\n",
       "    } else {\n",
       "        document\n",
       "            .querySelector('[data-webio-mountpoint=\"13018349838916418162\"]')\n",
       "            .innerHTML = (\n",
       "                '<div style=\"padding: 1em; background-color: #f8d6da; border: 1px solid #f5c6cb\">' +\n",
       "                '<p><strong>WebIO not detected.</strong></p>' +\n",
       "                '<p>Please read ' +\n",
       "                '<a href=\"https://juliagizmos.github.io/WebIO.jl/latest/troubleshooting/not-detected/\" target=\"_blank\">the troubleshooting guide</a> ' +\n",
       "                'for more information on how to resolve this issue.</p>' +\n",
       "                '<p><a href=\"https://juliagizmos.github.io/WebIO.jl/latest/troubleshooting/not-detected/\" target=\"_blank\">https://juliagizmos.github.io/WebIO.jl/latest/troubleshooting/not-detected/</a></p>' +\n",
       "                '</div>'\n",
       "            );\n",
       "    }\n",
       "    </script>\n",
       "</div>\n"
      ],
      "text/plain": [
       "Node{WebIO.DOM}(WebIO.DOM(:html, :div), Any[Node{WebIO.DOM}(WebIO.DOM(:html, :div), Any[Scope(Node{WebIO.DOM}(WebIO.DOM(:html, :div), Any[Node{WebIO.DOM}(WebIO.DOM(:html, :div), Any[Node{WebIO.DOM}(WebIO.DOM(:html, :label), Any[\"ego_v\"], Dict{Symbol,Any}(:className => \"interact \",:style => Dict{Any,Any}(:padding => \"5px 10px 0px 10px\")))], Dict{Symbol,Any}(:className => \"interact-flex-row-left\")), Node{WebIO.DOM}(WebIO.DOM(:html, :div), Any[Node{WebIO.DOM}(WebIO.DOM(:html, :input), Any[], Dict{Symbol,Any}(:max => 29,:min => 1,:attributes => Dict{Any,Any}(:type => \"range\",Symbol(\"data-bind\") => \"numericValue: index, valueUpdate: 'input', event: {change: function (){this.changes(this.changes()+1)}}\",\"orient\" => \"horizontal\"),:step => 1,:className => \"slider slider is-fullwidth\",:style => Dict{Any,Any}()))], Dict{Symbol,Any}(:className => \"interact-flex-row-center\")), Node{WebIO.DOM}(WebIO.DOM(:html, :div), Any[Node{WebIO.DOM}(WebIO.DOM(:html, :p), Any[], Dict{Symbol,Any}(:attributes => Dict(\"data-bind\" => \"text: formatted_val\")))], Dict{Symbol,Any}(:className => \"interact-flex-row-right\"))], Dict{Symbol,Any}(:className => \"interact-flex-row interact-widget\")), Dict{String,Tuple{Observables.AbstractObservable,Union{Nothing, Bool}}}(\"changes\" => (Observable{Int64} with 1 listeners. Value:\n",
       "0, nothing),\"index\" => (Observable{Any} with 2 listeners. Value:\n",
       "15, nothing)), Set(String[]), nothing, Asset[Asset(\"js\", \"knockout\", \"C:\\\\Users\\\\Maxime\\\\.julia\\\\packages\\\\Knockout\\\\1sDlc\\\\src\\\\..\\\\assets\\\\knockout.js\"), Asset(\"js\", \"knockout_punches\", \"C:\\\\Users\\\\Maxime\\\\.julia\\\\packages\\\\Knockout\\\\1sDlc\\\\src\\\\..\\\\assets\\\\knockout_punches.js\"), Asset(\"js\", nothing, \"C:\\\\Users\\\\Maxime\\\\.julia\\\\packages\\\\InteractBase\\\\9mFwe\\\\src\\\\..\\\\assets\\\\all.js\"), Asset(\"css\", nothing, \"C:\\\\Users\\\\Maxime\\\\.julia\\\\packages\\\\InteractBase\\\\9mFwe\\\\src\\\\..\\\\assets\\\\style.css\"), Asset(\"css\", nothing, \"C:\\\\Users\\\\Maxime\\\\.julia\\\\packages\\\\Interact\\\\SbgIk\\\\src\\\\..\\\\assets\\\\bulma_confined.min.css\")], Dict{Any,Any}(\"changes\" => Any[WebIO.JSString(\"(function (val){return (val!=this.model[\\\"changes\\\"]()) ? (this.valueFromJulia[\\\"changes\\\"]=true, this.model[\\\"changes\\\"](val)) : undefined})\")],\"index\" => Any[WebIO.JSString(\"(function (val){return (val!=this.model[\\\"index\\\"]()) ? (this.valueFromJulia[\\\"index\\\"]=true, this.model[\\\"index\\\"](val)) : undefined})\")]), WebIO.ConnectionPool(Channel{Any}(sz_max:32,sz_curr:0), Set(AbstractConnection[]), Base.GenericCondition{Base.AlwaysLockedST}(Base.InvasiveLinkedList{Task}(Task (runnable) @0x000000005189b990, Task (runnable) @0x000000005189b990), Base.AlwaysLockedST(1))), WebIO.JSString[WebIO.JSString(\"function () {\\n    var handler = (function (ko, koPunches) {\\n    ko.punches.enableAll();\\n    ko.bindingHandlers.numericValue = {\\n        init: function(element, valueAccessor, allBindings, data, context) {\\n            var stringified = ko.observable(ko.unwrap(valueAccessor()));\\n            stringified.subscribe(function(value) {\\n                var val = parseFloat(value);\\n                if (!isNaN(val)) {\\n                    valueAccessor()(val);\\n                }\\n            });\\n            valueAccessor().subscribe(function(value) {\\n                var str = JSON.stringify(value);\\n                if ((str == \\\"0\\\") && ([\\\"-0\\\", \\\"-0.\\\"].indexOf(stringified()) >= 0))\\n                     return;\\n                 if ([\\\"null\\\", \\\"\\\"].indexOf(str) >= 0)\\n                     return;\\n                stringified(str);\\n            });\\n            ko.applyBindingsToNode(\\n                element,\\n                {\\n                    value: stringified,\\n                    valueUpdate: allBindings.get('valueUpdate'),\\n                },\\n                context,\\n            );\\n        }\\n    };\\n    var json_data = {\\\"formatted_vals\\\":[\\\"0.0\\\",\\\"0.5\\\",\\\"1.0\\\",\\\"1.5\\\",\\\"2.0\\\",\\\"2.5\\\",\\\"3.0\\\",\\\"3.5\\\",\\\"4.0\\\",\\\"4.5\\\",\\\"5.0\\\",\\\"5.5\\\",\\\"6.0\\\",\\\"6.5\\\",\\\"7.0\\\",\\\"7.5\\\",\\\"8.0\\\",\\\"8.5\\\",\\\"9.0\\\",\\\"9.5\\\",\\\"10.0\\\",\\\"10.5\\\",\\\"11.0\\\",\\\"11.5\\\",\\\"12.0\\\",\\\"12.5\\\",\\\"13.0\\\",\\\"13.5\\\",\\\"14.0\\\"],\\\"changes\\\":WebIO.getval({\\\"name\\\":\\\"changes\\\",\\\"scope\\\":\\\"13773279969437942318\\\",\\\"id\\\":\\\"ob_21\\\",\\\"type\\\":\\\"observable\\\"}),\\\"index\\\":WebIO.getval({\\\"name\\\":\\\"index\\\",\\\"scope\\\":\\\"13773279969437942318\\\",\\\"id\\\":\\\"ob_20\\\",\\\"type\\\":\\\"observable\\\"})};\\n    var self = this;\\n    function AppViewModel() {\\n        for (var key in json_data) {\\n            var el = json_data[key];\\n            this[key] = Array.isArray(el) ? ko.observableArray(el) : ko.observable(el);\\n        }\\n        \\n        [this[\\\"formatted_val\\\"]=ko.computed(    function(){\\n        return this.formatted_vals()[parseInt(this.index())-(1)];\\n    }\\n,this)]\\n        [this[\\\"changes\\\"].subscribe((function (val){!(this.valueFromJulia[\\\"changes\\\"]) ? (WebIO.setval({\\\"name\\\":\\\"changes\\\",\\\"scope\\\":\\\"13773279969437942318\\\",\\\"id\\\":\\\"ob_21\\\",\\\"type\\\":\\\"observable\\\"},val)) : undefined; return this.valueFromJulia[\\\"changes\\\"]=false}),self),this[\\\"index\\\"].subscribe((function (val){!(this.valueFromJulia[\\\"index\\\"]) ? (WebIO.setval({\\\"name\\\":\\\"index\\\",\\\"scope\\\":\\\"13773279969437942318\\\",\\\"id\\\":\\\"ob_20\\\",\\\"type\\\":\\\"observable\\\"},val)) : undefined; return this.valueFromJulia[\\\"index\\\"]=false}),self)]\\n        \\n    }\\n    self.model = new AppViewModel();\\n    self.valueFromJulia = {};\\n    for (var key in json_data) {\\n        self.valueFromJulia[key] = false;\\n    }\\n    ko.applyBindings(self.model, self.dom);\\n}\\n);\\n    (WebIO.importBlock({\\\"data\\\":[{\\\"name\\\":\\\"knockout\\\",\\\"type\\\":\\\"js\\\",\\\"url\\\":\\\"/assetserver/d033fda28de5fdb7c6d90919cbd6683e73bd443b-knockout.js\\\"},{\\\"name\\\":\\\"knockout_punches\\\",\\\"type\\\":\\\"js\\\",\\\"url\\\":\\\"/assetserver/c4515e462c6c31b06468a38b24d65546d76a0006-knockout_punches.js\\\"}],\\\"type\\\":\\\"async_block\\\"})).then((imports) => handler.apply(this, imports));\\n}\\n\")])], Dict{Symbol,Any}(:className => \"field interact-widget\")), Observable{Any} with 0 listeners. Value:\n",
       "Node{WebIO.DOM}(WebIO.DOM(:html, :div), Any[Node{WebIO.DOM}(WebIO.DOM(:html, :div), Any[Scope(Node{WebIO.DOM}(WebIO.DOM(:html, :div), Any[Node{WebIO.DOM}(WebIO.DOM(:html, :div), Any[Node{WebIO.DOM}(WebIO.DOM(:html, :label), Any[\"ped_v\"], Dict{Symbol,Any}(:className => \"interact \",:style => Dict{Any,Any}(:padding => \"5px 10px 0px 10px\")))], Dict{Symbol,Any}(:className => \"interact-flex-row-left\")), Node{WebIO.DOM}(WebIO.DOM(:html, :div), Any[Node{WebIO.DOM}(WebIO.DOM(:html, :input), Any[], Dict{Symbol,Any}(:max => 5,:min => 1,:attributes => Dict{Any,Any}(:type => \"range\",Symbol(\"data-bind\") => \"numericValue: index, valueUpdate: 'input', event: {change: function (){this.changes(this.changes()+1)}}\",\"orient\" => \"horizontal\"),:step => 1,:className => \"slider slider is-fullwidth\",:style => Dict{Any,Any}()))], Dict{Symbol,Any}(:className => \"interact-flex-row-center\")), Node{WebIO.DOM}(WebIO.DOM(:html, :div), Any[Node{WebIO.DOM}(WebIO.DOM(:html, :p), Any[], Dict{Symbol,Any}(:attributes => Dict(\"data-bind\" => \"text: formatted_val\")))], Dict{Symbol,Any}(:className => \"interact-flex-row-right\"))], Dict{Symbol,Any}(:className => \"interact-flex-row interact-widget\")), Dict{String,Tuple{Observables.AbstractObservable,Union{Nothing, Bool}}}(\"changes\" => (Observable{Int64} with 1 listeners. Value:\n",
       "0, nothing),\"index\" => (Observable{Any} with 2 listeners. Value:\n",
       "3, nothing)), Set(String[]), nothing, Asset[Asset(\"js\", \"knockout\", \"C:\\\\Users\\\\Maxime\\\\.julia\\\\packages\\\\Knockout\\\\1sDlc\\\\src\\\\..\\\\assets\\\\knockout.js\"), Asset(\"js\", \"knockout_punches\", \"C:\\\\Users\\\\Maxime\\\\.julia\\\\packages\\\\Knockout\\\\1sDlc\\\\src\\\\..\\\\assets\\\\knockout_punches.js\"), Asset(\"js\", nothing, \"C:\\\\Users\\\\Maxime\\\\.julia\\\\packages\\\\InteractBase\\\\9mFwe\\\\src\\\\..\\\\assets\\\\all.js\"), Asset(\"css\", nothing, \"C:\\\\Users\\\\Maxime\\\\.julia\\\\packages\\\\InteractBase\\\\9mFwe\\\\src\\\\..\\\\assets\\\\style.css\"), Asset(\"css\", nothing, \"C:\\\\Users\\\\Maxime\\\\.julia\\\\packages\\\\Interact\\\\SbgIk\\\\src\\\\..\\\\assets\\\\bulma_confined.min.css\")], Dict{Any,Any}(\"changes\" => Any[WebIO.JSString(\"(function (val){return (val!=this.model[\\\"changes\\\"]()) ? (this.valueFromJulia[\\\"changes\\\"]=true, this.model[\\\"changes\\\"](val)) : undefined})\")],\"index\" => Any[WebIO.JSString(\"(function (val){return (val!=this.model[\\\"index\\\"]()) ? (this.valueFromJulia[\\\"index\\\"]=true, this.model[\\\"index\\\"](val)) : undefined})\")]), WebIO.ConnectionPool(Channel{Any}(sz_max:32,sz_curr:0), Set(AbstractConnection[]), Base.GenericCondition{Base.AlwaysLockedST}(Base.InvasiveLinkedList{Task}(Task (runnable) @0x000000005189bc70, Task (runnable) @0x000000005189bc70), Base.AlwaysLockedST(1))), WebIO.JSString[WebIO.JSString(\"function () {\\n    var handler = (function (ko, koPunches) {\\n    ko.punches.enableAll();\\n    ko.bindingHandlers.numericValue = {\\n        init: function(element, valueAccessor, allBindings, data, context) {\\n            var stringified = ko.observable(ko.unwrap(valueAccessor()));\\n            stringified.subscribe(function(value) {\\n                var val = parseFloat(value);\\n                if (!isNaN(val)) {\\n                    valueAccessor()(val);\\n                }\\n            });\\n            valueAccessor().subscribe(function(value) {\\n                var str = JSON.stringify(value);\\n                if ((str == \\\"0\\\") && ([\\\"-0\\\", \\\"-0.\\\"].indexOf(stringified()) >= 0))\\n                     return;\\n                 if ([\\\"null\\\", \\\"\\\"].indexOf(str) >= 0)\\n                     return;\\n                stringified(str);\\n            });\\n            ko.applyBindingsToNode(\\n                element,\\n                {\\n                    value: stringified,\\n                    valueUpdate: allBindings.get('valueUpdate'),\\n                },\\n                context,\\n            );\\n        }\\n    };\\n    var json_data = {\\\"formatted_vals\\\":[\\\"0.0\\\",\\\"0.5\\\",\\\"1.0\\\",\\\"1.5\\\",\\\"2.0\\\"],\\\"changes\\\":WebIO.getval({\\\"name\\\":\\\"changes\\\",\\\"scope\\\":\\\"3954089700122046811\\\",\\\"id\\\":\\\"ob_24\\\",\\\"type\\\":\\\"observable\\\"}),\\\"index\\\":WebIO.getval({\\\"name\\\":\\\"index\\\",\\\"scope\\\":\\\"3954089700122046811\\\",\\\"id\\\":\\\"ob_23\\\",\\\"type\\\":\\\"observable\\\"})};\\n    var self = this;\\n    function AppViewModel() {\\n        for (var key in json_data) {\\n            var el = json_data[key];\\n            this[key] = Array.isArray(el) ? ko.observableArray(el) : ko.observable(el);\\n        }\\n        \\n        [this[\\\"formatted_val\\\"]=ko.computed(    function(){\\n        return this.formatted_vals()[parseInt(this.index())-(1)];\\n    }\\n,this)]\\n        [this[\\\"changes\\\"].subscribe((function (val){!(this.valueFromJulia[\\\"changes\\\"]) ? (WebIO.setval({\\\"name\\\":\\\"changes\\\",\\\"scope\\\":\\\"3954089700122046811\\\",\\\"id\\\":\\\"ob_24\\\",\\\"type\\\":\\\"observable\\\"},val)) : undefined; return this.valueFromJulia[\\\"changes\\\"]=false}),self),this[\\\"index\\\"].subscribe((function (val){!(this.valueFromJulia[\\\"index\\\"]) ? (WebIO.setval({\\\"name\\\":\\\"index\\\",\\\"scope\\\":\\\"3954089700122046811\\\",\\\"id\\\":\\\"ob_23\\\",\\\"type\\\":\\\"observable\\\"},val)) : undefined; return this.valueFromJulia[\\\"index\\\"]=false}),self)]\\n        \\n    }\\n    self.model = new AppViewModel();\\n    self.valueFromJulia = {};\\n    for (var key in json_data) {\\n        self.valueFromJulia[key] = false;\\n    }\\n    ko.applyBindings(self.model, self.dom);\\n}\\n);\\n    (WebIO.importBlock({\\\"data\\\":[{\\\"name\\\":\\\"knockout\\\",\\\"type\\\":\\\"js\\\",\\\"url\\\":\\\"/assetserver/d033fda28de5fdb7c6d90919cbd6683e73bd443b-knockout.js\\\"},{\\\"name\\\":\\\"knockout_punches\\\",\\\"type\\\":\\\"js\\\",\\\"url\\\":\\\"/assetserver/c4515e462c6c31b06468a38b24d65546d76a0006-knockout_punches.js\\\"}],\\\"type\\\":\\\"async_block\\\"})).then((imports) => handler.apply(this, imports));\\n}\\n\")])], Dict{Symbol,Any}(:className => \"field interact-widget\")), Observable{Any} with 0 listeners. Value:\n",
       "Node{WebIO.DOM}(WebIO.DOM(:html, :div), Any[Plot{Plots.GRBackend() n=1}], Dict{Symbol,Any}(:className => \"interact-flex-row interact-widget\"))], Dict{Symbol,Any}())], Dict{Symbol,Any}())"
      ]
     },
     "execution_count": 12,
     "metadata": {
      "application/vnd.webio.node+json": {
       "kernelId": "540228ec-1887-4088-99bc-62bb1cbb7fef"
      }
     },
     "output_type": "execute_result"
    }
   ],
   "source": [
    "# Visulization policy / lateral action\n",
    "\n",
    "gr()\n",
    "\n",
    "policy_grid = zeros(Float64, length(pomdp.T_RANGE), length(pomdp.S_RANGE))\n",
    "\n",
    "@manipulate for ego_v in pomdp.EGO_V_RANGE\n",
    "    @manipulate for ped_v in pomdp.PED_V_RANGE\n",
    "        for i=1:length(pomdp.T_RANGE)\n",
    "            ped_t = pomdp.T_RANGE[i]\n",
    "            for j=1:length(pomdp.S_RANGE)\n",
    "                ped_s = pomdp.S_RANGE[j]\n",
    "                b = SparseCat([SingleOCFState(0.0, ego_v, ped_s, ped_t, pomdp.PED_THETA_RANGE[1], ped_v)],[1.])\n",
    "                act = action(qmdp_policy, b) \n",
    "                policy_grid[i,j] = act.lateral_movement\n",
    "            end\n",
    "        end\n",
    "        xs = [pomdp.S_RANGE[i] for i = 1:length(pomdp.S_RANGE)]\n",
    "        ys = [pomdp.T_RANGE[i] for i = 1:length(pomdp.T_RANGE)]\n",
    "        heatmap(xs,ys,policy_grid,aspect_ratio=1)\n",
    "    end\n",
    "end"
   ]
  },
  {
   "cell_type": "code",
   "execution_count": 8,
   "metadata": {
    "scrolled": true
   },
   "outputs": [
    {
     "data": {
      "image/svg+xml": [
       "<?xml version=\"1.0\" encoding=\"utf-8\"?>\n",
       "<svg xmlns=\"http://www.w3.org/2000/svg\" xmlns:xlink=\"http://www.w3.org/1999/xlink\" width=\"550\" height=\"220\" viewBox=\"0 0 2200 880\">\n",
       "<defs>\n",
       "  <clipPath id=\"clip5100\">\n",
       "    <rect x=\"0\" y=\"0\" width=\"2000\" height=\"2000\"/>\n",
       "  </clipPath>\n",
       "</defs>\n",
       "<defs>\n",
       "  <clipPath id=\"clip5101\">\n",
       "    <rect x=\"0\" y=\"0\" width=\"2200\" height=\"880\"/>\n",
       "  </clipPath>\n",
       "</defs>\n",
       "<polygon clip-path=\"url(#clip5101)\" points=\"\n",
       "0,880 2200,880 2200,0 0,0 \n",
       "  \" fill=\"#ffffff\" fill-rule=\"evenodd\" fill-opacity=\"1\"/>\n",
       "<defs>\n",
       "  <clipPath id=\"clip5102\">\n",
       "    <rect x=\"440\" y=\"0\" width=\"1541\" height=\"880\"/>\n",
       "  </clipPath>\n",
       "</defs>\n",
       "<polygon clip-path=\"url(#clip5101)\" points=\"\n",
       "212.353,733.896 1901.26,733.896 1901.26,125.984 212.353,125.984 \n",
       "  \" fill=\"#ffffff\" fill-rule=\"evenodd\" fill-opacity=\"1\"/>\n",
       "<defs>\n",
       "  <clipPath id=\"clip5103\">\n",
       "    <rect x=\"212\" y=\"125\" width=\"1690\" height=\"609\"/>\n",
       "  </clipPath>\n",
       "</defs>\n",
       "<polyline clip-path=\"url(#clip5103)\" style=\"stroke:#000000; stroke-width:2; stroke-opacity:0.1; fill:none\" points=\"\n",
       "  306.181,733.896 306.181,125.984 \n",
       "  \"/>\n",
       "<polyline clip-path=\"url(#clip5103)\" style=\"stroke:#000000; stroke-width:2; stroke-opacity:0.1; fill:none\" points=\"\n",
       "  618.941,733.896 618.941,125.984 \n",
       "  \"/>\n",
       "<polyline clip-path=\"url(#clip5103)\" style=\"stroke:#000000; stroke-width:2; stroke-opacity:0.1; fill:none\" points=\"\n",
       "  931.702,733.896 931.702,125.984 \n",
       "  \"/>\n",
       "<polyline clip-path=\"url(#clip5103)\" style=\"stroke:#000000; stroke-width:2; stroke-opacity:0.1; fill:none\" points=\"\n",
       "  1244.46,733.896 1244.46,125.984 \n",
       "  \"/>\n",
       "<polyline clip-path=\"url(#clip5103)\" style=\"stroke:#000000; stroke-width:2; stroke-opacity:0.1; fill:none\" points=\"\n",
       "  1557.22,733.896 1557.22,125.984 \n",
       "  \"/>\n",
       "<polyline clip-path=\"url(#clip5103)\" style=\"stroke:#000000; stroke-width:2; stroke-opacity:0.1; fill:none\" points=\"\n",
       "  1869.98,733.896 1869.98,125.984 \n",
       "  \"/>\n",
       "<polyline clip-path=\"url(#clip5103)\" style=\"stroke:#000000; stroke-width:2; stroke-opacity:0.1; fill:none\" points=\"\n",
       "  212.353,650.999 1901.26,650.999 \n",
       "  \"/>\n",
       "<polyline clip-path=\"url(#clip5103)\" style=\"stroke:#000000; stroke-width:2; stroke-opacity:0.1; fill:none\" points=\"\n",
       "  212.353,540.469 1901.26,540.469 \n",
       "  \"/>\n",
       "<polyline clip-path=\"url(#clip5103)\" style=\"stroke:#000000; stroke-width:2; stroke-opacity:0.1; fill:none\" points=\"\n",
       "  212.353,429.94 1901.26,429.94 \n",
       "  \"/>\n",
       "<polyline clip-path=\"url(#clip5103)\" style=\"stroke:#000000; stroke-width:2; stroke-opacity:0.1; fill:none\" points=\"\n",
       "  212.353,319.411 1901.26,319.411 \n",
       "  \"/>\n",
       "<polyline clip-path=\"url(#clip5103)\" style=\"stroke:#000000; stroke-width:2; stroke-opacity:0.1; fill:none\" points=\"\n",
       "  212.353,208.881 1901.26,208.881 \n",
       "  \"/>\n",
       "<polyline clip-path=\"url(#clip5101)\" style=\"stroke:#000000; stroke-width:4; stroke-opacity:1; fill:none\" points=\"\n",
       "  212.353,733.896 1901.26,733.896 \n",
       "  \"/>\n",
       "<polyline clip-path=\"url(#clip5101)\" style=\"stroke:#000000; stroke-width:4; stroke-opacity:1; fill:none\" points=\"\n",
       "  212.353,733.896 212.353,125.984 \n",
       "  \"/>\n",
       "<polyline clip-path=\"url(#clip5101)\" style=\"stroke:#000000; stroke-width:4; stroke-opacity:1; fill:none\" points=\"\n",
       "  306.181,733.896 306.181,724.777 \n",
       "  \"/>\n",
       "<polyline clip-path=\"url(#clip5101)\" style=\"stroke:#000000; stroke-width:4; stroke-opacity:1; fill:none\" points=\"\n",
       "  618.941,733.896 618.941,724.777 \n",
       "  \"/>\n",
       "<polyline clip-path=\"url(#clip5101)\" style=\"stroke:#000000; stroke-width:4; stroke-opacity:1; fill:none\" points=\"\n",
       "  931.702,733.896 931.702,724.777 \n",
       "  \"/>\n",
       "<polyline clip-path=\"url(#clip5101)\" style=\"stroke:#000000; stroke-width:4; stroke-opacity:1; fill:none\" points=\"\n",
       "  1244.46,733.896 1244.46,724.777 \n",
       "  \"/>\n",
       "<polyline clip-path=\"url(#clip5101)\" style=\"stroke:#000000; stroke-width:4; stroke-opacity:1; fill:none\" points=\"\n",
       "  1557.22,733.896 1557.22,724.777 \n",
       "  \"/>\n",
       "<polyline clip-path=\"url(#clip5101)\" style=\"stroke:#000000; stroke-width:4; stroke-opacity:1; fill:none\" points=\"\n",
       "  1869.98,733.896 1869.98,724.777 \n",
       "  \"/>\n",
       "<polyline clip-path=\"url(#clip5101)\" style=\"stroke:#000000; stroke-width:4; stroke-opacity:1; fill:none\" points=\"\n",
       "  212.353,650.999 237.686,650.999 \n",
       "  \"/>\n",
       "<polyline clip-path=\"url(#clip5101)\" style=\"stroke:#000000; stroke-width:4; stroke-opacity:1; fill:none\" points=\"\n",
       "  212.353,540.469 237.686,540.469 \n",
       "  \"/>\n",
       "<polyline clip-path=\"url(#clip5101)\" style=\"stroke:#000000; stroke-width:4; stroke-opacity:1; fill:none\" points=\"\n",
       "  212.353,429.94 237.686,429.94 \n",
       "  \"/>\n",
       "<polyline clip-path=\"url(#clip5101)\" style=\"stroke:#000000; stroke-width:4; stroke-opacity:1; fill:none\" points=\"\n",
       "  212.353,319.411 237.686,319.411 \n",
       "  \"/>\n",
       "<polyline clip-path=\"url(#clip5101)\" style=\"stroke:#000000; stroke-width:4; stroke-opacity:1; fill:none\" points=\"\n",
       "  212.353,208.881 237.686,208.881 \n",
       "  \"/>\n",
       "<g clip-path=\"url(#clip5101)\">\n",
       "<text style=\"fill:#000000; fill-opacity:1; font-family:Arial,Helvetica Neue,Helvetica,sans-serif; font-size:48px; text-anchor:middle;\" transform=\"rotate(0, 306.181, 786.896)\" x=\"306.181\" y=\"786.896\">0</text>\n",
       "</g>\n",
       "<g clip-path=\"url(#clip5101)\">\n",
       "<text style=\"fill:#000000; fill-opacity:1; font-family:Arial,Helvetica Neue,Helvetica,sans-serif; font-size:48px; text-anchor:middle;\" transform=\"rotate(0, 618.941, 786.896)\" x=\"618.941\" y=\"786.896\">10</text>\n",
       "</g>\n",
       "<g clip-path=\"url(#clip5101)\">\n",
       "<text style=\"fill:#000000; fill-opacity:1; font-family:Arial,Helvetica Neue,Helvetica,sans-serif; font-size:48px; text-anchor:middle;\" transform=\"rotate(0, 931.702, 786.896)\" x=\"931.702\" y=\"786.896\">20</text>\n",
       "</g>\n",
       "<g clip-path=\"url(#clip5101)\">\n",
       "<text style=\"fill:#000000; fill-opacity:1; font-family:Arial,Helvetica Neue,Helvetica,sans-serif; font-size:48px; text-anchor:middle;\" transform=\"rotate(0, 1244.46, 786.896)\" x=\"1244.46\" y=\"786.896\">30</text>\n",
       "</g>\n",
       "<g clip-path=\"url(#clip5101)\">\n",
       "<text style=\"fill:#000000; fill-opacity:1; font-family:Arial,Helvetica Neue,Helvetica,sans-serif; font-size:48px; text-anchor:middle;\" transform=\"rotate(0, 1557.22, 786.896)\" x=\"1557.22\" y=\"786.896\">40</text>\n",
       "</g>\n",
       "<g clip-path=\"url(#clip5101)\">\n",
       "<text style=\"fill:#000000; fill-opacity:1; font-family:Arial,Helvetica Neue,Helvetica,sans-serif; font-size:48px; text-anchor:middle;\" transform=\"rotate(0, 1869.98, 786.896)\" x=\"1869.98\" y=\"786.896\">50</text>\n",
       "</g>\n",
       "<g clip-path=\"url(#clip5101)\">\n",
       "<text style=\"fill:#000000; fill-opacity:1; font-family:Arial,Helvetica Neue,Helvetica,sans-serif; font-size:48px; text-anchor:end;\" transform=\"rotate(0, 190.353, 668.499)\" x=\"190.353\" y=\"668.499\">-4</text>\n",
       "</g>\n",
       "<g clip-path=\"url(#clip5101)\">\n",
       "<text style=\"fill:#000000; fill-opacity:1; font-family:Arial,Helvetica Neue,Helvetica,sans-serif; font-size:48px; text-anchor:end;\" transform=\"rotate(0, 190.353, 557.969)\" x=\"190.353\" y=\"557.969\">-2</text>\n",
       "</g>\n",
       "<g clip-path=\"url(#clip5101)\">\n",
       "<text style=\"fill:#000000; fill-opacity:1; font-family:Arial,Helvetica Neue,Helvetica,sans-serif; font-size:48px; text-anchor:end;\" transform=\"rotate(0, 190.353, 447.44)\" x=\"190.353\" y=\"447.44\">0</text>\n",
       "</g>\n",
       "<g clip-path=\"url(#clip5101)\">\n",
       "<text style=\"fill:#000000; fill-opacity:1; font-family:Arial,Helvetica Neue,Helvetica,sans-serif; font-size:48px; text-anchor:end;\" transform=\"rotate(0, 190.353, 336.911)\" x=\"190.353\" y=\"336.911\">2</text>\n",
       "</g>\n",
       "<g clip-path=\"url(#clip5101)\">\n",
       "<text style=\"fill:#000000; fill-opacity:1; font-family:Arial,Helvetica Neue,Helvetica,sans-serif; font-size:48px; text-anchor:end;\" transform=\"rotate(0, 190.353, 226.381)\" x=\"190.353\" y=\"226.381\">4</text>\n",
       "</g>\n",
       "<g clip-path=\"url(#clip5101)\">\n",
       "<text style=\"fill:#000000; fill-opacity:1; font-family:Arial,Helvetica Neue,Helvetica,sans-serif; font-size:84px; text-anchor:middle;\" transform=\"rotate(0, 1056.81, 73.2)\" x=\"1056.81\" y=\"73.2\">Ego v: 46.8km/h, y-offset: 0.0m  /  Pedestrian v: 7.2km/h</text>\n",
       "</g>\n",
       "<g clip-path=\"url(#clip5101)\">\n",
       "<text style=\"fill:#000000; fill-opacity:1; font-family:Arial,Helvetica Neue,Helvetica,sans-serif; font-size:66px; text-anchor:middle;\" transform=\"rotate(0, 1056.81, 870.4)\" x=\"1056.81\" y=\"870.4\">s [m]</text>\n",
       "</g>\n",
       "<g clip-path=\"url(#clip5101)\">\n",
       "<text style=\"fill:#000000; fill-opacity:1; font-family:Arial,Helvetica Neue,Helvetica,sans-serif; font-size:66px; text-anchor:middle;\" transform=\"rotate(-90, 57.6, 429.94)\" x=\"57.6\" y=\"429.94\">t [m]</text>\n",
       "</g>\n",
       "<g clip-path=\"url(#clip5103)\">\n",
       "<image width=\"1689\" height=\"608\" xlink:href=\"data:image/png;base64,\n",
       "iVBORw0KGgoAAAANSUhEUgAABpkAAAJgCAYAAABx6wsBAAAVbUlEQVR4nOzbMYpUURRF0fflQwfO\n",
       "w0nZmanDMTEQKqhROZOGD88RCG7o8lLNWiM4+eYc177vBQAAAAAAAMGn6QEAAAAAAAA8H5EJAAAA\n",
       "AACATGQCAAAAAAAgE5kAAAAAAADIRCYAAAAAAAAykQkAAAAAAIBMZAIAAAAAACATmQAAAAAAAMhE\n",
       "JgAAAAAAADKRCQAAAAAAgExkAgAAAAAAIBOZAAAAAAAAyEQmAAAAAAAAMpEJAAAAAACATGQCAAAA\n",
       "AAAgE5kAAAAAAADIRCYAAAAAAAAykQkAAAAAAIBMZAIAAAAAACATmQAAAAAAAMhEJgAAAAAAADKR\n",
       "CQAAAAAAgExkAgAAAAAAIBOZAAAAAAAAyEQmAAAAAAAAMpEJAAAAAACATGQCAAAAAAAgE5kAAAAA\n",
       "AADIRCYAAAAAAAAykQkAAAAAAIBMZAIAAAAAACATmQAAAAAAAMhEJgAAAAAAADKRCQAAAAAAgExk\n",
       "AgAAAAAAIBOZAAAAAAAAyEQmAAAAAAAAMpEJAAAAAACATGQCAAAAAAAgE5kAAAAAAADIRCYAAAAA\n",
       "AAAykQkAAAAAAIBMZAIAAAAAACATmQAAAAAAAMhEJgAAAAAAADKRCQAAAAAAgExkAgAAAAAAIBOZ\n",
       "AAAAAAAAyEQmAAAAAAAAMpEJAAAAAACATGQCAAAAAAAgE5kAAAAAAADIRCYAAAAAAAAykQkAAAAA\n",
       "AIBMZAIAAAAAACATmQAAAAAAAMhEJgAAAAAAADKRCQAAAAAAgExkAgAAAAAAIBOZAAAAAAAAyEQm\n",
       "AAAAAAAAMpEJAAAAAACATGQCAAAAAAAgE5kAAAAAAADIRCYAAAAAAAAykQkAAAAAAIBMZAIAAAAA\n",
       "ACATmQAAAAAAAMhEJgAAAAAAADKRCQAAAAAAgExkAgAAAAAAIBOZAAAAAAAAyEQmAAAAAAAAMpEJ\n",
       "AAAAAACATGQCAAAAAAAgE5kAAAAAAADIRCYAAAAAAAAykQkAAAAAAIBMZAIAAAAAACATmQAAAAAA\n",
       "AMhEJgAAAAAAADKRCQAAAAAAgExkAgAAAAAAIBOZAAAAAAAAyEQmAAAAAAAAMpEJAAAAAACATGQC\n",
       "AAAAAAAgE5kAAAAAAADIRCYAAAAAAAAykQkAAAAAAIBMZAIAAAAAACATmQAAAAAAAMhEJgAAAAAA\n",
       "ADKRCQAAAAAAgExkAgAAAAAAIBOZAAAAAAAAyEQmAAAAAAAAMpEJAAAAAACATGQCAAAAAAAgE5kA\n",
       "AAAAAADIRCYAAAAAAAAykQkAAAAAAIBMZAIAAAAAACATmQAAAAAAAMhEJgAAAAAAADKRCQAAAAAA\n",
       "gExkAgAAAAAAIBOZAAAAAAAAyEQmAAAAAAAAMpEJAAAAAACATGQCAAAAAAAgE5kAAAAAAADIRCYA\n",
       "AAAAAAAykQkAAAAAAIBMZAIAAAAAACATmQAAAAAAAMhEJgAAAAAAADKRCQAAAAAAgExkAgAAAAAA\n",
       "IBOZAAAAAAAAyEQmAAAAAAAAMpEJAAAAAACATGQCAAAAAAAgE5kAAAAAAADIRCYAAAAAAAAykQkA\n",
       "AAAAAIBMZAIAAAAAACATmQAAAAAAAMhEJgAAAAAAADKRCQAAAAAAgExkAgAAAAAAIBOZAAAAAAAA\n",
       "yEQmAAAAAAAAMpEJAAAAAACATGQCAAAAAAAgE5kAAAAAAADIRCYAAAAAAAAykQkAAAAAAIBMZAIA\n",
       "AAAAACATmQAAAAAAAMhEJgAAAAAAADKRCQAAAAAAgExkAgAAAAAAIBOZAAAAAAAAyEQmAAAAAAAA\n",
       "MpEJAAAAAACATGQCAAAAAAAgE5kAAAAAAADIRCYAAAAAAAAykQkAAAAAAIBMZAIAAAAAACATmQAA\n",
       "AAAAAMhEJgAAAAAAADKRCQAAAAAAgExkAgAAAAAAIBOZAAAAAAAAyEQmAAAAAAAAMpEJAAAAAACA\n",
       "TGQCAAAAAAAgE5kAAAAAAADIRCYAAAAAAAAykQkAAAAAAIBMZAIAAAAAACATmQAAAAAAAMhEJgAA\n",
       "AAAAALLjun/e0yOAxztf36YnAMC7ue4v0xMAHuPrz+kFAADwzzyZAAAAAAAAyEQmAAAAAAAAMpEJ\n",
       "AAAAAACATGQCAAAAAAAgE5kAAAAAAADIRCYAAAAAAAAykQkAAAAAAIBMZAIAAAAAACATmQAAAAAA\n",
       "AMhEJgAAAAAAADKRCQAAAAAAgExkAgAAAAAAIBOZAAAAAAAAyEQmAAAAAAAAMpEJAAAAAACATGQC\n",
       "AAAAAAAgE5kAAAAAAADIRCYAAAAAAAAykQkAAAAAAIBMZAIAAAAAACATmQAAAAAAAMhEJgAAAAAA\n",
       "ADKRCQAAAAAAgExkAgAAAAAAIBOZAAAAAAAAyEQmAAAAAAAAMpEJAAAAAACATGQCAAAAAAAgE5kA\n",
       "AAAAAADIRCYAAAAAAAAykQkAAAAAAIBMZAIAAAAAACATmQAAAAAAAMhEJgAAAAAAADKRCQAAAAAA\n",
       "gExkAgAAAAAAIBOZAAAAAAAAyEQmAAAAAAAAMpEJAAAAAACATGQCAAAAAAAgE5kAAAAAAADIRCYA\n",
       "AAAAAAAykQkAAAAAAIBMZAIAAAAAACATmQAAAAAAAMhEJgAAAAAAADKRCQAAAAAAgExkAgAAAAAA\n",
       "IBOZAAAAAAAAyEQmAAAAAAAAMpEJAAAAAACATGQCAAAAAAAgE5kAAAAAAADIRCYAAAAAAAAykQkA\n",
       "AAAAAIDsWOvc0yPgf7nuL9MTxpyvb9MTAAAA/urat+kJAABEnkwAAAAAAABkIhMAAAAAAACZyAQA\n",
       "AAAAAEAmMgEAAAAAAJCJTAAAAAAAAGQiEwAAAAAAAJnIBAAAAAAAQCYyAQAAAAAAkIlMAAAAAAAA\n",
       "ZCITAAAAAAAAmcgEAAAAAABAJjIBAAAAAACQiUwAAAAAAABkIhMAAAAAAACZyAQAAAAAAEAmMgEA\n",
       "AAAAAJCJTAAAAAAAAGQiEwAAAAAAAJnIBAAAAAAAQCYyAQAAAAAAkIlMAAAAAAAAZCITAAAAAAAA\n",
       "mcgEAAAAAABAJjIBAAAAAACQiUwAAAAAAABkIhMAAAAAAACZyAQAAAAAAEAmMgEAAAAAAJCJTAAA\n",
       "AAAAAGQiEwAAAAAAAJnIBAAAAAAAQCYyAQAAAAAAkIlMAAAAAAAAZCITAAAAAAAAmcgEAAAAAABA\n",
       "JjIBAAAAAACQiUwAAAAAAABkIhMAAAAAAACZyAQAAAAAAEAmMgEAAAAAAJCJTAAAAAAAAGQiEwAA\n",
       "AAAAAJnIBAAAAAAAQCYyAQAAAAAAkIlMAAAAAAAAZCITAAAAAAAAmcgEAAAAAABAJjIBAAAAAACQ\n",
       "iUwAAAAAAABkIhMAAAAAAACZyAQAAAAAAEAmMgEAAAAAAJCJTAAAAAAAAGQiEwAAAAAAANmx1rmn\n",
       "RwAAAAAAH9u1b9MTAHhnnkwAAAAAAABkIhMAAAAAAACZyAQAAAAAAEAmMgEAAAAAAJCJTAAAAAAA\n",
       "AGQiEwAAAAAAAJnIBAAAAAAAQCYyAQAAAAAAkIlMAAAAAAAAZCITAAAAAAAAmcgEAAAAAABAJjIB\n",
       "AAAAAACQiUwAAAAAAABkIhMAAAAAAACZyAQAAAAAAEAmMgEAAAAAAJCJTAAAAAAAAGQiEwAAAAAA\n",
       "AJnIBAAAAAAAQCYyAQAAAAAAkIlMAAAAAAAAZCITAAAAAAAAmcgEAAAAAABAJjIBAAAAAACQiUwA\n",
       "AAAAAABkIhMAAAAAAACZyAQAAAAAAEAmMgEAAAAAAJCJTAAAAAAAAGQiEwAAAAAAAJnIBAAAAAAA\n",
       "QCYyAQAAAAAAkIlMAAAAAAAAZCITAAAAAAAAmcgEAAAAAABAJjIBAAAAAACQiUwAAAAAAABkIhMA\n",
       "AAAAAACZyAQAAAAAAEAmMgEAAAAAAJCJTAAAAAAAAGQiEwAAAAAAAJnIBAAAAAAAQCYyAQAAAAAA\n",
       "kIlMAAAAAAAAZCITAAAAAAAAmcgEAAAAAABAJjIBAAAAAACQiUwAAAAAAABkIhMAAAAAAACZyAQA\n",
       "AAAAAEAmMgEAAAAAAJCJTAAAAAAAAGQiEwAAAAAAANmx1rmnRwAAAAAA8LFc+zY9AXgwTyYAAAAA\n",
       "AAAykQkAAAAAAIBMZAIAAAAAACATmQAAAAAAAMhEJgAAAAAAADKRCQAAAAAAgExkAgAAAAAAIBOZ\n",
       "AAAAAAAAyEQmAAAAAAAAMpEJAAAAAACATGQCAAAAAAAgE5kAAAAAAADIRCYAAAAAAAAykQkAAAAA\n",
       "AIBMZAIAAAAAACATmQAAAAAAAMhEJgAAAAAAADKRCQAAAAAAgExkAgAAAAAAIBOZAAAAAAAAyEQm\n",
       "AAAAAAAAMpEJAAAAAACATGQCAAAAAAAgE5kAAAAAAADIRCYAAAAAAAAykQkAAAAAAIBMZAIAAAAA\n",
       "ACATmQAAAAAAAMhEJgAAAAAAADKRCQAAAAAAgExkAgAAAAAAIBOZAAAAAAAAyEQmAAAAAAAAMpEJ\n",
       "AAAAAACATGQCAAAAAAAgE5kAAAAAAADIRCYAAAAAAAAykQkAAAAAAIBMZAIAAAAAACATmQAAAAAA\n",
       "AMhEJgAAAAAAADKRCQAAAAAAgExkAgAAAAAAIBOZAAAAAAAAyEQmAAAAAAAAMpEJAAAAAACATGQC\n",
       "AAAAAAAgE5kAAAAAAADIRCYAAAAAAAAykQkAAAAAAIBMZAIAAAAAACATmQAAAAAAAMhEJgAAAAAA\n",
       "ADKRCQAAAAAAgOxY69zTIwAAAAAAAJ7VtW/TE0Z4MgEAAAAAAJCJTAAAAAAAAGQiEwAAAAAAAJnI\n",
       "BAAAAAAAQCYyAQAAAAAAkIlMAAAAAAAAZCITAAAAAAAAmcgEAAAAAABAJjIBAAAAAACQiUwAAAAA\n",
       "AABkIhMAAAAAAACZyAQAAAAAAEAmMgEAAAAAAJCJTAAAAAAAAGQiEwAAAAAAAJnIBAAAAAAAQCYy\n",
       "AQAAAAAAkIlMAAAAAAAAZCITAAAAAAAAmcgEAAAAAABAJjIBAAAAAACQiUwAAAAAAABkIhMAAAAA\n",
       "AACZyAQAAAAAAEAmMgEAAAAAAJCJTAAAAAAAAGQiEwAAAAAAAJnIBAAAAAAAQCYyAQAAAAAAkIlM\n",
       "AAAAAAAAZCITAAAAAAAAmcgEAAAAAABAJjIBAAAAAACQiUwAAAAAAABkIhMAAAAAAACZyAQAAAAA\n",
       "AEAmMgEAAAAAAJCJTAAAAAAAAGQiEwAAAAAAAJnIBAAAAAAAQCYyAQAAAAAAkIlMAAAAAAAAZCIT\n",
       "AAAAAAAAmcgEAAAAAABAJjIBAAAAAACQiUwAAAAAAABkIhMAAAAAAACZyAQAAAAAAEAmMgEAAAAA\n",
       "AJCJTAAAAAAAAGQiEwAAAAAAAJnIBAAAAAAAQCYyAQAAAAAAkIlMAAAAAAAAZCITAAAAAAAA2bHW\n",
       "uadHAAAAAAAA8Fw8mQAAAAAAAMhEJgAAAAAAADKRCQAAAAAAgExkAgAAAAAAIBOZAAAAAAAAyEQm\n",
       "AAAAAAAAMpEJAAAAAACATGQCAAAAAAAgE5kAAAAAAADIRCYAAAAAAAAykQkAAAAAAIBMZAIAAAAA\n",
       "ACATmQAAAAAAAMhEJgAAAAAAADKRCQAAAAAAgExkAgAAAAAAIBOZAAAAAAAAyEQmAAAAAAAAMpEJ\n",
       "AAAAAACATGQCAAAAAAAgE5kAAAAAAADIRCYAAAAAAAAykQkAAAAAAIBMZAIAAAAAACATmQAAAAAA\n",
       "AMhEJgAAAAAAADKRCQAAAAAAgExkAgAAAAAAIBOZAAAAAAAAyEQmAAAAAAAAMpEJAAAAAACATGQC\n",
       "AAAAAAAgE5kAAAAAAADIRCYAAAAAAAAykQkAAAAAAIBMZAIAAAAAACATmQAAAAAAAMhEJgAAAAAA\n",
       "ADKRCQAAAAAAgExkAgAAAAAAIBOZAAAAAAAAyEQmAAAAAAAAMpEJAAAAAACATGQCAAAAAAAgE5kA\n",
       "AAAAAADIRCYAAAAAAAAykQkAAAAAAIBMZAIAAAAAACATmQAAAAAAAMhEJgAAAAAAADKRCQAAAAAA\n",
       "gExkAgAAAAAAIBOZAAAAAAAAyEQmAAAAAAAAMpEJAAAAAACATGQCAAAAAAAgE5kAAAAAAADIRCYA\n",
       "AAAAAAAykQkAAAAAAIBMZAIAAAAAACATmQAAAAAAAMhEJgAAAAAAADKRCQAAAAAAgExkAgAAAAAA\n",
       "IBOZAAAAAAAAyEQmAAAAAAAAMpEJAAAAAACATGQCAAAAAAAgE5kAAAAAAADIRCYAAAAAAAAykQkA\n",
       "AAAAAIBMZAIAAAAAACATmQAAAAAAAMhEJgAAAAAAADKRCQAAAAAAgExkAgAAAAAAIBOZAAAAAAAA\n",
       "yEQmAAAAAAAAMpEJAAAAAACATGQCAAAAAAAgE5kAAAAAAADIRCYAAAAAAAAykQkAAAAAAIBMZAIA\n",
       "AAAAACATmQAAAAAAAMhEJgAAAAAAADKRCQAAAAAAgExkAgAAAAAAIBOZAAAAAAAAyEQmAAAAAAAA\n",
       "MpEJAAAAAACATGQCAAAAAAAgE5kAAAAAAADIRCYAAAAAAAAykQkAAAAAAIBMZAIAAAAAACATmQAA\n",
       "AAAAAMhEJgAAAAAAADKRCQAAAAAAgExkAgAAAAAAIBOZAAAAAAAAyEQmAAAAAAAAMpEJAAAAAACA\n",
       "TGQCAAAAAAAgE5kAAAAAAADIRCYAAAAAAAAykQkAAAAAAIBMZAIAAAAAACATmQAAAAAAAMjOH1++\n",
       "TW9gwPffv6YnAAAAAAAAT8yTCQAAAAAAgExkAgAAAAAAIBOZAAAAAAAAyEQmAAAAAAAAMpEJAAAA\n",
       "AACATGQCAAAAAAAgE5kAAAAAAADIRCYAAAAAAAAykQkAAAAAAIBMZAIAAAAAACATmQAAAAAAAMhE\n",
       "JgAAAAAAADKRCQAAAAAAgExkAgAAAAAAIBOZAAAAAAAAyEQmAAAAAAAAMpEJAAAAAACATGQCAAAA\n",
       "AAAgE5kAAAAAAADIRCYAAAAAAAAykQkAAAAAAIBMZAIAAAAAACATmQAAAAAAAMhEJgAAAAAAADKR\n",
       "CQAAAAAAgExkAgAAAAAAIBOZAAAAAAAAyEQmAAAAAAAAMpEJAAAAAACATGQCAAAAAAAgE5kAAAAA\n",
       "AADIRCYAAAAAAAAykQkAAAAAAIBMZAIAAAAAACATmQAAAAAAAMhEJgAAAAAAADKRCQAAAAAAgExk\n",
       "AgAAAAAAIBOZAAAAAAAAyEQmAAAAAAAAMpEJAAAAAACATGQCAAAAAAAgE5kAAAAAAADIRCYAAAAA\n",
       "AAAykQkAAAAAAIBMZAIAAAAAACATmQAAAAAAAMhEJgAAAAAAADKRCQAAAAAAgExkAgAAAAD+tGfH\n",
       "AgAAAACD/K3HsL80AoBNMgEAAAAAALBJJgAAAAAAADbJBAAAAAAAwCaZAAAAAAAA2AKsCSRzScs5\n",
       "lwAAAABJRU5ErkJggg==\n",
       "\" transform=\"translate(212, 126)\"/>\n",
       "</g>\n",
       "<defs>\n",
       "  <clipPath id=\"clip5104\">\n",
       "    <rect x=\"1945\" y=\"125\" width=\"67\" height=\"609\"/>\n",
       "  </clipPath>\n",
       "</defs>\n",
       "<g clip-path=\"url(#clip5104)\">\n",
       "<image width=\"66\" height=\"608\" xlink:href=\"data:image/png;base64,\n",
       "iVBORw0KGgoAAAANSUhEUgAAAEIAAAJgCAYAAAA+r7X8AAAFeElEQVR4nO3dwa3kRhAFwTdC+2+F\n",
       "vJSW1EGJdmHmEGHBoJCsJvmJ3c+/z9/v2F/f/gG/wiBynvffb/+Gn6CInFcR2xRxGUTO+7g0NkVc\n",
       "lmUUEUVEETGIuDSiiLihiiJiR0QRMYi4NKKInDk+tyniMoi4NKKInDk+tynisiOiiBhEXBpRRM6e\n",
       "f779G36CIuKGKoqIQcTxGUVEEVFEDCLn8/759m/4CYrI2aOITRHX+ShimyIug4hlGUXkzA3VNkVc\n",
       "js8oIgYRx2cUEcsyiohBxLKMInI+z/Pt3/ATFBE7IoqIQcSlEUXEs0YUkTM3VNsUcRlELMsoIm6o\n",
       "oogYRFwaUUS8qosi4lkjiohBxPEZRcSyjCKiiCgiBhHPGlFE3FBFETGIuI+IIqKIKCKKiCJiEDl7\n",
       "/OeOmyKus9ey3BRxOT6jiBhEHJ9RRCzLKCIGEZdGFBHHZxQROyKKiEHkzJWxTRGXIqKIHO9u/6eI\n",
       "GEQsyygiiogiYhBxaUQROfOmbpsirvM+n2//hp+giBhEHJ9RRM4sy22KuM77KmJTxGUQsSyjiCgi\n",
       "iohBxH1EFBHLMorI2WMWmyIug4jjM4qI4zOKiL90RRExiJy9ZrEp4rIso4gYRFwaUUS8mIkpxPuI\n",
       "KCIGES9mooic1/G5TRGX4zOKiEHE8RlFxPEZU4hBxH1EFBEvb6OInNffPrcp4jKIeNaIIuL4jCLi\n",
       "FjuKiEHEi5mYQizLKCIGEXeWUUQsyygibqhiCjGIWJZRRNxQRRGxI6KIGETcWcYUYllGETGIuDSi\n",
       "iCgiioinzygiBpHz+OB0myIux2cUEcdnFBGDiGUZRUQRUUQMIi6NKCKKiCJyHkVsU8RlELEso4go\n",
       "IoqIIqKIGERcGlFEFBFFxCDiMTyKiGUZRUQRUUQMIr6qiynEsowi4hY7iohBxLKMImJZRhExiFiW\n",
       "UUQUEUXE8RlFxCBy3rk0NkVclmUUETdUUUQMIud5v/0TfoMiYllGETGIuLOMInIeT5/bFHE5PqOI\n",
       "GEQcn1FELMsoIuf59i/4EYqIQcSyjCLihiqKiEHEZwFRRCzLKCL+9hlFxCDi+Iwi4ukziohXdVFE\n",
       "DCKWZRQRyzKKiEHEsowi4lVdFJHjTd3/FBGDiGUZRcSyjCJiR0QRMYhYllFELMsoIgYRX8xEEfGh\n",
       "SBQROyKKiEHEvxYQReS8luU2RVyePqOIGES8qosi4lkjiohBxLNGFBHPGlFEfJQeRcQg4jE8iojj\n",
       "M4qI4zOKiEHEsowi4n1EFBGDiLfYUUT8pSuKiB0RRcQg4tKIIuKj9CgidkQUEYOIZ40oIpZlFBGD\n",
       "iEsjiojjM4qIHRFFxCDii5koIj4UiSLi+IwiYhDxrBFFxLKMImIQOe9cG5siLssyiogbqigiBhHL\n",
       "MoqIZRlFxI6IImIQ8XeNKCLn8T5imyIug4hlGUXEsowi4tOhKCIGkfM6P7cp4rIso4h4VRdFxCDi\n",
       "Q5EoIpZlFBGDiBczUUQcn1FE7IgoIgYRl0YUkfN4ebtNEZcbqigiBhHHZxQRRUQRMYi4NKKInHc+\n",
       "DNgUcdkRUUQMIuf5WJabIq7zOD63KeJSRBQRg4hnjSgi5/l41tgUcRlE3EdEEVFEFBE3VFFEDCLn\n",
       "2Z9v/4afoIg4PqOInNeO2KaIyyBiWUYRUUQUEYOI+4goIpZlFBE7IoqIQcRb7Cgi53kVsSnisiOi\n",
       "iBhEzmtZblPEZVlGETGIeAyPIuJZI4qI4zOKiEHEs0YUETdUUUTsiCgiBhF3llFELMsoIgYRd5ZR\n",
       "RCzLKCJuqKKIGETO+zo+N0VclmUUkTP/0cg2RVwGkTPLcpsiLk+fUUQMIpZlFBHPGlFEzhyf2xRx\n",
       "GUQsyygibqiiiPwHkATpzw6ofkUAAAAASUVORK5CYII=\n",
       "\" transform=\"translate(1945, 126)\"/>\n",
       "</g>\n",
       "<g clip-path=\"url(#clip5101)\">\n",
       "<text style=\"fill:#000000; fill-opacity:1; font-family:Arial,Helvetica Neue,Helvetica,sans-serif; font-size:48px; text-anchor:start;\" transform=\"rotate(0, 2044.26, 747.547)\" x=\"2044.26\" y=\"747.547\">-</text>\n",
       "</g>\n",
       "<g clip-path=\"url(#clip5101)\">\n",
       "<text style=\"fill:#000000; fill-opacity:1; font-family:Arial,Helvetica Neue,Helvetica,sans-serif; font-size:48px; text-anchor:start;\" transform=\"rotate(0, 2072.37, 747.547)\" x=\"2072.37\" y=\"747.547\">4</text>\n",
       "</g>\n",
       "<g clip-path=\"url(#clip5101)\">\n",
       "<text style=\"fill:#000000; fill-opacity:1; font-family:Arial,Helvetica Neue,Helvetica,sans-serif; font-size:48px; text-anchor:start;\" transform=\"rotate(0, 2044.26, 625.965)\" x=\"2044.26\" y=\"625.965\">-</text>\n",
       "</g>\n",
       "<g clip-path=\"url(#clip5101)\">\n",
       "<text style=\"fill:#000000; fill-opacity:1; font-family:Arial,Helvetica Neue,Helvetica,sans-serif; font-size:48px; text-anchor:start;\" transform=\"rotate(0, 2072.37, 625.965)\" x=\"2072.37\" y=\"625.965\">3</text>\n",
       "</g>\n",
       "<g clip-path=\"url(#clip5101)\">\n",
       "<text style=\"fill:#000000; fill-opacity:1; font-family:Arial,Helvetica Neue,Helvetica,sans-serif; font-size:48px; text-anchor:start;\" transform=\"rotate(0, 2044.26, 504.382)\" x=\"2044.26\" y=\"504.382\">-</text>\n",
       "</g>\n",
       "<g clip-path=\"url(#clip5101)\">\n",
       "<text style=\"fill:#000000; fill-opacity:1; font-family:Arial,Helvetica Neue,Helvetica,sans-serif; font-size:48px; text-anchor:start;\" transform=\"rotate(0, 2072.37, 504.382)\" x=\"2072.37\" y=\"504.382\">2</text>\n",
       "</g>\n",
       "<g clip-path=\"url(#clip5101)\">\n",
       "<text style=\"fill:#000000; fill-opacity:1; font-family:Arial,Helvetica Neue,Helvetica,sans-serif; font-size:48px; text-anchor:start;\" transform=\"rotate(0, 2044.26, 382.8)\" x=\"2044.26\" y=\"382.8\">-</text>\n",
       "</g>\n",
       "<g clip-path=\"url(#clip5101)\">\n",
       "<text style=\"fill:#000000; fill-opacity:1; font-family:Arial,Helvetica Neue,Helvetica,sans-serif; font-size:48px; text-anchor:start;\" transform=\"rotate(0, 2072.37, 382.8)\" x=\"2072.37\" y=\"382.8\">1</text>\n",
       "</g>\n",
       "<g clip-path=\"url(#clip5101)\">\n",
       "<text style=\"fill:#000000; fill-opacity:1; font-family:Arial,Helvetica Neue,Helvetica,sans-serif; font-size:48px; text-anchor:start;\" transform=\"rotate(0, 2044.26, 261.218)\" x=\"2044.26\" y=\"261.218\">0</text>\n",
       "</g>\n",
       "<g clip-path=\"url(#clip5101)\">\n",
       "<text style=\"fill:#000000; fill-opacity:1; font-family:Arial,Helvetica Neue,Helvetica,sans-serif; font-size:48px; text-anchor:start;\" transform=\"rotate(0, 2044.26, 139.635)\" x=\"2044.26\" y=\"139.635\">1</text>\n",
       "</g>\n",
       "<polyline clip-path=\"url(#clip5101)\" style=\"stroke:#000000; stroke-width:4; stroke-opacity:1; fill:none\" points=\"\n",
       "  2011.26,733.896 2011.26,733.896 2033.26,733.896 2011.26,733.896 2011.26,612.314 2033.26,612.314 2011.26,612.314 2011.26,490.731 2033.26,490.731 2011.26,490.731 \n",
       "  2011.26,369.149 2033.26,369.149 2011.26,369.149 2011.26,247.567 2033.26,247.567 2011.26,247.567 2011.26,125.984 2033.26,125.984 2011.26,125.984 \n",
       "  \n",
       "  \"/>\n",
       "<g clip-path=\"url(#clip5101)\">\n",
       "<text style=\"fill:#000000; fill-opacity:1; font-family:Arial,Helvetica Neue,Helvetica,sans-serif; font-size:66px; text-anchor:middle;\" transform=\"rotate(-90, 2178.86, 429.94)\" x=\"2178.86\" y=\"429.94\"></text>\n",
       "</g>\n",
       "</svg>\n"
      ]
     },
     "execution_count": 8,
     "metadata": {},
     "output_type": "execute_result"
    }
   ],
   "source": [
    "# generate plots of the policy\n",
    "\n",
    "gr(size=(550,220))\n",
    "p = heatmap()\n",
    "for ego_v in [ 4.0, 7.5, 13.0]\n",
    "    p = heatmap()\n",
    "    policy_grid = zeros(Float64, length(pomdp.T_RANGE), length(pomdp.S_RANGE))\n",
    "    ped_v = 2.0\n",
    "    ego_y = 0.0\n",
    "    title = string(\"Ego v: \", round(ego_v*3.6,digits=1), \"km/h, y-offset: \", ego_y, \"m  /  Pedestrian v: \", ped_v*3.6, \"km/h\")\n",
    "    for i=1:length(pomdp.T_RANGE)\n",
    "                ped_t = pomdp.T_RANGE[i]\n",
    "                for j=1:length(pomdp.S_RANGE)\n",
    "                    ped_s = pomdp.S_RANGE[j]\n",
    "                    b = SparseCat([SingleOCFState(ego_y, ego_v, ped_s, ped_t, pomdp.PED_THETA_RANGE[1], ped_v)],[1.])\n",
    "                    act = action(qmdp_policy, b) \n",
    "                    policy_grid[i,j] = act.acc\n",
    "                end\n",
    "    end\n",
    "    xs = [pomdp.S_RANGE[i] for i = 1:length(pomdp.S_RANGE)]\n",
    "    ys = [pomdp.T_RANGE[i] for i = 1:length(pomdp.T_RANGE)]\n",
    "    p = heatmap(xs,ys,policy_grid, xlabel=\"s [m]\", ylabel=\"t [m]\", title=title)\n",
    "    savefig(string(\"policy_ego_v_\", ego_v, \"_ego_y_\", ego_y, \"_ped_v_\", ped_v,  \".pdf\"))\n",
    "end\n",
    "p"
   ]
  },
  {
   "cell_type": "code",
   "execution_count": null,
   "metadata": {},
   "outputs": [],
   "source": [
    "b = SingleOCFBelief([SingleOCFState(0.0, 5.0, 50.0, 3.0, 1.57, 0.0)], [1.0])\n",
    "act = action(qmdp_policy, b) # policy\n",
    "println(act)\n",
    "PedestrianAvoidancePOMDP.action_values(qmdp_policy,b)\n",
    "vi_policy.util[18223]\n",
    "\n",
    "\n",
    "#######################\n",
    "\n",
    "b = SparseCat([SingleOCFState(0.0, 18.0, -10.0, -10.0, pomdp.PED_THETA_RANGE[1], 0.0)],[1.])\n",
    "act = action(qmdp_policy, b) \n",
    "println(act)\n",
    "PedestrianAvoidancePOMDP.action_values(qmdp_policy, b)\n",
    "\n",
    "\n",
    "#######################\n",
    "\n",
    "# Test action space\n",
    "cnt = 0\n",
    "for (index, a) in enumerate(pomdp.action_space)\n",
    "    idx = actionindex(pomdp,a)\n",
    "    if (idx != index)\n",
    "        println(\"error\")\n",
    "        cnt = cnt + 1\n",
    "    end\n",
    "    println(a)\n",
    "end\n",
    "println(cnt)\n",
    "\n",
    "\n",
    "#######################\n",
    "\n",
    "s = SingleOCFState(0.0, 14, 50.0, -3.0, 1.57, 0.0)\n",
    "sp = SingleOCFState(0.0, 14., 50.0, 0.0, 1.57, 0.0)\n",
    "act = SingleOCFAction(0.0, 0.0)\n",
    "print(\"reward: \", reward(pomdp, s, act, sp))\n",
    "\n",
    "b = SparseCat([sp],[1.])\n",
    "act = action(qmdp_policy, b) \n"
   ]
  }
 ],
 "metadata": {
  "@webio": {
   "lastCommId": "89ad0d5c0e0342e78f8b310077e880dc",
   "lastKernelId": "540228ec-1887-4088-99bc-62bb1cbb7fef"
  },
  "kernelspec": {
   "display_name": "Julia 1.3.0",
   "language": "julia",
   "name": "julia-1.3"
  },
  "language_info": {
   "file_extension": ".jl",
   "mimetype": "application/julia",
   "name": "julia",
   "version": "1.3.0"
  }
 },
 "nbformat": 4,
 "nbformat_minor": 2
}
