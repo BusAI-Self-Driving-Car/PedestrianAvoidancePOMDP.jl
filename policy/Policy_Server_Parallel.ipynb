{
 "cells": [
  {
   "cell_type": "code",
   "execution_count": null,
   "metadata": {},
   "outputs": [],
   "source": [
    "using Revise\n",
    "using POMDPs\n",
    "using GridInterpolations \n",
    "using POMDPModelTools\n",
    "using POMDPPolicies\n",
    "using Parameters\n",
    "using StaticArrays\n",
    "using DiscreteValueIteration \n",
    "using Distributed\n",
    "using AutomotiveDrivingModels\n",
    "using AutoViz\n",
    "using AutomotiveSensors\n",
    "using AutomotivePOMDPs\n",
    "using PedestrianAvoidancePOMDP\n",
    "\n",
    "using FileIO\n",
    "using JLD2"
   ]
  },
  {
   "cell_type": "code",
   "execution_count": null,
   "metadata": {},
   "outputs": [],
   "source": [
    "N_PROCS=56\n",
    "addprocs(N_PROCS)\n",
    "@everywhere begin \n",
    "    using POMDPs\n",
    "    using GridInterpolations \n",
    "    using POMDPModelTools\n",
    "    using POMDPPolicies\n",
    "    using POMDPToolbox\n",
    "\n",
    "    using Parameters\n",
    "    using StaticArrays\n",
    "    using DiscreteValueIteration \n",
    "\n",
    "    using AutomotiveDrivingModels\n",
    "    using AutoViz\n",
    "    using AutomotiveSensors\n",
    "    using AutomotivePOMDPs\n",
    "    using PedestrianAvoidancePOMDP\n",
    "\n",
    "end \n"
   ]
  },
  {
   "cell_type": "code",
   "execution_count": null,
   "metadata": {},
   "outputs": [],
   "source": [
    "# Train policy\n",
    "# need to set pomdp parameters like rewards etc.\n",
    "pomdp = SingleOCFPOMDP()\n",
    "solver = ParallelValueIterationSolver(n_procs=N_PROCS, max_iterations=100, belres=1e-4, include_Q=true, verbose=true)\n",
    "\n",
    "vi_policy = solve(solver, pomdp)\n",
    "qmdp_policy = AlphaVectorPolicy(pomdp, vi_policy.qmat, vi_policy.action_map)\n",
    "\n",
    "# save policy!\n",
    "FileIO.save(\"policy.jld2\", \"policy\", qmdp_policy)\n"
   ]
  },
  {
   "cell_type": "code",
   "execution_count": null,
   "metadata": {
    "scrolled": false
   },
   "outputs": [],
   "source": [
    "# Visulization policy / longitudinal action\n",
    "\n",
    "using Interact\n",
    "using Plots\n",
    "gr()\n",
    "\n",
    "policy_grid = zeros(Float64, length(pomdp.T_RANGE), length(pomdp.S_RANGE))\n",
    "\n",
    "@manipulate for ego_v in pomdp.EGO_V_RANGE\n",
    "    @manipulate for ped_v in pomdp.PED_V_RANGE\n",
    "        for i=1:length(pomdp.T_RANGE)\n",
    "            ped_t = pomdp.T_RANGE[i]\n",
    "            for j=1:length(pomdp.S_RANGE)\n",
    "                ped_s = pomdp.S_RANGE[j]\n",
    "                b = SparseCat([SingleOCFState(0.0, ego_v, ped_s, ped_t, 1.57, ped_v)],[1.])\n",
    "                act = action(qmdp_policy, b) \n",
    "                policy_grid[i,j] = act.acc\n",
    "            end\n",
    "        end\n",
    "        xs = [pomdp.S_RANGE[i] for i = 1:length(pomdp.S_RANGE)]\n",
    "        ys = [pomdp.T_RANGE[i] for i = 1:length(pomdp.T_RANGE)]\n",
    "        heatmap(xs,ys,policy_grid,aspect_ratio=1)\n",
    "    end\n",
    "end\n",
    "\n",
    "\n"
   ]
  },
  {
   "cell_type": "code",
   "execution_count": null,
   "metadata": {
    "scrolled": false
   },
   "outputs": [],
   "source": [
    "# Visulization policy / lateral action\n",
    "\n",
    "using Interact\n",
    "using Plots\n",
    "gr()\n",
    "\n",
    "policy_grid = zeros(Float64, length(pomdp.T_RANGE), length(pomdp.S_RANGE))\n",
    "\n",
    "@manipulate for ego_v in pomdp.EGO_V_RANGE\n",
    "    @manipulate for ped_v in pomdp.PED_V_RANGE\n",
    "        for i=1:length(pomdp.T_RANGE)\n",
    "            ped_t = pomdp.T_RANGE[i]\n",
    "            for j=1:length(pomdp.S_RANGE)\n",
    "                ped_s = pomdp.S_RANGE[j]\n",
    "                b = SparseCat([SingleOCFState(0.0, ego_v, ped_s, ped_t, 1.57, ped_v)],[1.])\n",
    "                act = action(qmdp_policy, b) \n",
    "                policy_grid[i,j] = act.lateral_movement\n",
    "            end\n",
    "        end\n",
    "\n",
    "        xs = [pomdp.S_RANGE[i] for i = 1:length(pomdp.S_RANGE)]\n",
    "        ys = [pomdp.T_RANGE[i] for i = 1:length(pomdp.T_RANGE)]\n",
    "        heatmap(xs,ys,policy_grid,aspect_ratio=1)\n",
    "    end\n",
    "end\n"
   ]
  },
  {
   "cell_type": "code",
   "execution_count": null,
   "metadata": {},
   "outputs": [],
   "source": [
    "# Test action space\n",
    "cnt = 0\n",
    "for (index, a) in enumerate(pomdp.action_space)\n",
    "    idx = actionindex(pomdp,a)\n",
    "    if (idx != index)\n",
    "        println(\"error\")\n",
    "        cnt = cnt + 1\n",
    "    end\n",
    "    println(a)\n",
    "end\n",
    "println(cnt)\n"
   ]
  },
  {
   "cell_type": "code",
   "execution_count": null,
   "metadata": {},
   "outputs": [],
   "source": [
    "b = SingleOCFBelief([SingleOCFState(0.0, 5.0, 50.0, 3.0, 1.57, 0.0)], [1.0])\n",
    "act = action(qmdp_policy, b) # policy\n",
    "println(act)\n",
    "PedestrianAvoidancePOMDP.action_values(qmdp_policy,b)\n",
    "vi_policy.util[18223]"
   ]
  },
  {
   "cell_type": "code",
   "execution_count": null,
   "metadata": {},
   "outputs": [],
   "source": [
    "s = SingleOCFState(0.0, 11, 20.0, 0.0, 1.57, 1.5)\n",
    "sp = SingleOCFState(0.0, 12, -6.0, 0.0, 0.0, 1.5)\n",
    "act = SingleOCFAction(0.0, 1.0)\n",
    "print(\"reward: \", reward(pomdp, s, act, sp))\n",
    "\n",
    "b = SparseCat([sp],[1.])\n",
    "act = action(qmdp_policy, b) \n"
   ]
  }
 ],
 "metadata": {
  "@webio": {
   "lastCommId": "d780053a81064a3b8f7f75a4aceb17e8",
   "lastKernelId": "d85949bf-763e-44c3-a6ee-f707d5b85e88"
  },
  "kernelspec": {
   "display_name": "Julia 1.0.1",
   "language": "julia",
   "name": "julia-1.0"
  },
  "language_info": {
   "file_extension": ".jl",
   "mimetype": "application/julia",
   "name": "julia",
   "version": "1.0.1"
  }
 },
 "nbformat": 4,
 "nbformat_minor": 2
}
