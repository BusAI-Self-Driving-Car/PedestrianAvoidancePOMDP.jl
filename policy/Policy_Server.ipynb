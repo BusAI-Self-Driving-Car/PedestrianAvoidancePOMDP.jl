{
 "cells": [
  {
   "cell_type": "code",
   "execution_count": 11,
   "metadata": {},
   "outputs": [
    {
     "name": "stderr",
     "output_type": "stream",
     "text": [
      "\u001b[1m\u001b[36mINFO: \u001b[39m\u001b[22m\u001b[36mPrecompiling module PedestrianAvoidancePOMDP.\n",
      "\u001b[39m\u001b[1m\u001b[33mWARNING: \u001b[39m\u001b[22m\u001b[33mModule AutomotiveSensors with uuid 60184897878096 is missing from the cache.\n",
      "This may mean module AutomotiveSensors does not support precompilation but is imported by a module that does.\u001b[39m\n",
      "\u001b[1m\u001b[91mERROR: \u001b[39m\u001b[22mLoadError: \u001b[91mDeclaring __precompile__(false) is not allowed in files that are being precompiled.\u001b[39m\n",
      "Stacktrace:\n",
      " [1] \u001b[1m_require\u001b[22m\u001b[22m\u001b[1m(\u001b[22m\u001b[22m::Symbol\u001b[1m)\u001b[22m\u001b[22m at \u001b[1m./loading.jl:455\u001b[22m\u001b[22m\n",
      " [2] \u001b[1mrequire\u001b[22m\u001b[22m\u001b[1m(\u001b[22m\u001b[22m::Symbol\u001b[1m)\u001b[22m\u001b[22m at \u001b[1m./loading.jl:405\u001b[22m\u001b[22m\n",
      " [3] \u001b[1minclude_from_node1\u001b[22m\u001b[22m\u001b[1m(\u001b[22m\u001b[22m::String\u001b[1m)\u001b[22m\u001b[22m at \u001b[1m./loading.jl:576\u001b[22m\u001b[22m\n",
      " [4] \u001b[1minclude\u001b[22m\u001b[22m\u001b[1m(\u001b[22m\u001b[22m::String\u001b[1m)\u001b[22m\u001b[22m at \u001b[1m./sysimg.jl:14\u001b[22m\u001b[22m\n",
      " [5] \u001b[1manonymous\u001b[22m\u001b[22m at \u001b[1m./<missing>:2\u001b[22m\u001b[22m\n",
      "while loading /home/xubuntu/stanford/PedestrianAvoidancePOMDP.jl/src/PedestrianAvoidancePOMDP.jl, in expression starting on line 6\n"
     ]
    },
    {
     "ename": "LoadError",
     "evalue": "\u001b[91mFailed to precompile PedestrianAvoidancePOMDP to /home/xubuntu/.julia/lib/v0.6/PedestrianAvoidancePOMDP.ji.\u001b[39m",
     "output_type": "error",
     "traceback": [
      "\u001b[91mFailed to precompile PedestrianAvoidancePOMDP to /home/xubuntu/.julia/lib/v0.6/PedestrianAvoidancePOMDP.ji.\u001b[39m",
      "",
      "Stacktrace:",
      " [1] \u001b[1mcompilecache\u001b[22m\u001b[22m\u001b[1m(\u001b[22m\u001b[22m::String\u001b[1m)\u001b[22m\u001b[22m at \u001b[1m./loading.jl:710\u001b[22m\u001b[22m",
      " [2] \u001b[1m_require\u001b[22m\u001b[22m\u001b[1m(\u001b[22m\u001b[22m::Symbol\u001b[1m)\u001b[22m\u001b[22m at \u001b[1m./loading.jl:497\u001b[22m\u001b[22m",
      " [3] \u001b[1mrequire\u001b[22m\u001b[22m\u001b[1m(\u001b[22m\u001b[22m::Symbol\u001b[1m)\u001b[22m\u001b[22m at \u001b[1m./loading.jl:405\u001b[22m\u001b[22m",
      " [4] \u001b[1minclude_string\u001b[22m\u001b[22m\u001b[1m(\u001b[22m\u001b[22m::String, ::String\u001b[1m)\u001b[22m\u001b[22m at \u001b[1m./loading.jl:522\u001b[22m\u001b[22m"
     ]
    }
   ],
   "source": [
    "using POMDPs\n",
    "using GridInterpolations \n",
    "#using POMDPModelTools\n",
    "#using POMDPPolicies\n",
    "using Parameters\n",
    "using StaticArrays\n",
    "using DiscreteValueIteration \n",
    "\n",
    "using AutomotiveDrivingModels\n",
    "using AutoViz\n",
    "using AutomotiveSensors\n",
    "using AutomotivePOMDPs\n",
    "using PedestrianAvoidancePOMDP\n",
    "\n",
    "using FileIO\n",
    "using JLD2"
   ]
  },
  {
   "cell_type": "code",
   "execution_count": null,
   "metadata": {},
   "outputs": [],
   "source": [
    "N_PROCS=56\n",
    "addprocs(N_PROCS)\n",
    "@everywhere begin \n",
    "    using POMDPs\n",
    "    using GridInterpolations \n",
    "    using POMDPModelTools\n",
    "    using POMDPPolicies\n",
    "    using Parameters\n",
    "    using StaticArrays\n",
    "    using DiscreteValueIteration \n",
    "\n",
    "    using AutomotiveDrivingModels\n",
    "    using AutoViz\n",
    "    using AutomotiveSensors\n",
    "    using AutomotivePOMDPs\n",
    "    using PedestrianAvoidancePOMDP\n",
    "\n",
    "    pomdp = SingleOCFPOMDP()\n",
    "end \n",
    "\n",
    "solver = ParallelValueIterationSolver(n_procs=N_PROCS, max_iterations=1, belres=1e-4, include_Q=true, verbose=true)\n",
    "\n"
   ]
  },
  {
   "cell_type": "code",
   "execution_count": null,
   "metadata": {},
   "outputs": [],
   "source": [
    "vi_policy = solve(solver, pomdp)\n",
    "qmdp_policy = AlphaVectorPolicy(pomdp, vi_policy.qmat, vi_policy.action_map)\n",
    "\n",
    "# save policy!\n",
    "save(\"policy.jld2\", \"policy\", qmdp_policy)\n"
   ]
  },
  {
   "cell_type": "code",
   "execution_count": null,
   "metadata": {},
   "outputs": [],
   "source": [
    "function AutomotivePOMDPs.action(policy::AlphaVectorPolicy, b::SingleOCFBelief)\n",
    "    alphas = policy.alphas \n",
    "    util = zeros(n_actions(pomdp)) \n",
    "    for i=1:n_actions(pomdp)\n",
    "        res = 0.0\n",
    "        for (j,s) in enumerate(b.vals)\n",
    "            si = state_index(pomdp, s)\n",
    "            res += alphas[i][si]*b.probs[j]\n",
    "        end\n",
    "        util[i] = res\n",
    "    end\n",
    "    ihi = indmax(util)\n",
    "    return policy.action_map[ihi]\n",
    "end\n"
   ]
  },
  {
   "cell_type": "code",
   "execution_count": 10,
   "metadata": {},
   "outputs": [
    {
     "ename": "LoadError",
     "evalue": "\u001b[91mUndefVarError: POMDPPolicies not defined\u001b[39m",
     "output_type": "error",
     "traceback": [
      "\u001b[91mUndefVarError: POMDPPolicies not defined\u001b[39m",
      "",
      "Stacktrace:",
      " [1] \u001b[1minclude_string\u001b[22m\u001b[22m\u001b[1m(\u001b[22m\u001b[22m::String, ::String\u001b[1m)\u001b[22m\u001b[22m at \u001b[1m./loading.jl:522\u001b[22m\u001b[22m"
     ]
    }
   ],
   "source": [
    "n_states(pomdp)"
   ]
  },
  {
   "cell_type": "code",
   "execution_count": null,
   "metadata": {},
   "outputs": [],
   "source": [
    "pomdp = SingleOCFPOMDP()\n",
    "\n",
    "qmdp_policy = load(\"policy.jld\")[\"policy\"];\n"
   ]
  },
  {
   "cell_type": "code",
   "execution_count": null,
   "metadata": {
    "scrolled": false
   },
   "outputs": [],
   "source": [
    "Pkg.add(\"Plots\")\n",
    "using Interact\n",
    "using Plots\n",
    "gr()\n",
    "\n",
    "policy_grid = Matrix(length(pomdp.T_RANGE),length(pomdp.S_RANGE))\n",
    "\n",
    "@manipulate for ego_v in pomdp.EGO_V_RANGE\n",
    "    @manipulate for ped_v in pomdp.PED_V_RANGE\n",
    "\n",
    "    #ego_v = 5.38462\n",
    "    for i=1:length(pomdp.T_RANGE)\n",
    "        ped_t = pomdp.T_RANGE[i]\n",
    "        for j=1:length(pomdp.S_RANGE)\n",
    "            ped_s = pomdp.S_RANGE[j]\n",
    "            b = SparseCat([SingleOCFState(0.0, ego_v, ped_s, ped_t, 1.57, ped_v)],[1.])\n",
    "            act = action(qmdp_policy, b) \n",
    "          #  println(ped_s, \"/\", ped_t, \" act: \", act.acc)\n",
    "            policy_grid[i,j] = act.acc\n",
    "        end\n",
    "    end\n",
    "\n",
    "    xs = [pomdp.S_RANGE[i] for i = 1:length(pomdp.S_RANGE)]\n",
    "    ys = [pomdp.T_RANGE[i] for i = 1:length(pomdp.T_RANGE)]\n",
    "    heatmap(xs,ys,policy_grid,aspect_ratio=1)\n",
    "\n",
    "\n",
    "    end\n",
    "end\n",
    "\n",
    "\n"
   ]
  },
  {
   "cell_type": "code",
   "execution_count": null,
   "metadata": {
    "scrolled": false
   },
   "outputs": [],
   "source": [
    "using Interact\n",
    "using Plots\n",
    "gr()\n",
    "\n",
    "policy_grid = Matrix(length(pomdp.T_RANGE),length(pomdp.S_RANGE))\n",
    "\n",
    "@manipulate for ego_v in pomdp.EGO_V_RANGE\n",
    "    @manipulate for ped_v in pomdp.PED_V_RANGE\n",
    "\n",
    "    #ego_v = 5.38462\n",
    "    for i=1:length(pomdp.T_RANGE)\n",
    "        ped_t = pomdp.T_RANGE[i]\n",
    "        for j=1:length(pomdp.S_RANGE)\n",
    "            ped_s = pomdp.S_RANGE[j]\n",
    "            b = SparseCat([SingleOCFState(0.0, ego_v, ped_s, ped_t, 1.57, ped_v)],[1.])\n",
    "            act = action(qmdp_policy, b) \n",
    "          #  println(ped_s, \"/\", ped_t, \" act: \", act.acc)\n",
    "            policy_grid[i,j] = act.lateral_movement\n",
    "        end\n",
    "    end\n",
    "\n",
    "    xs = [pomdp.S_RANGE[i] for i = 1:length(pomdp.S_RANGE)]\n",
    "    ys = [pomdp.T_RANGE[i] for i = 1:length(pomdp.T_RANGE)]\n",
    "    heatmap(xs,ys,policy_grid,aspect_ratio=1)\n",
    "\n",
    "\n",
    "    end\n",
    "end\n"
   ]
  },
  {
   "cell_type": "code",
   "execution_count": null,
   "metadata": {},
   "outputs": [],
   "source": [
    "# Test action space\n",
    "\n",
    "\n",
    "cnt = 0\n",
    "for (index, a) in enumerate(pomdp.action_space)\n",
    "    idx = action_index(pomdp,a)\n",
    "    if (idx != index)\n",
    "        println(\"error\")\n",
    "        cnt = cnt + 1\n",
    "    end\n",
    "    println(a)\n",
    "end\n",
    "println(cnt)\n"
   ]
  },
  {
   "cell_type": "code",
   "execution_count": null,
   "metadata": {},
   "outputs": [],
   "source": [
    "state_space = states(pomdp)\n",
    "\n",
    "state_space[state_index(pomdp,SingleOCFState(0.0, 4, 40.0, 0.0, 1.57, 1.5))]"
   ]
  },
  {
   "cell_type": "code",
   "execution_count": null,
   "metadata": {},
   "outputs": [],
   "source": [
    "\n",
    "s = SingleOCFState(0.0, 4.3076923076923075, 40.0, 4.0, 1.57, 1.5)\n",
    "sp = SingleOCFState(0.0, 4.3076923076923075, 40.0, 4.0, 1.57, 1.5)\n",
    "\n",
    "act = SingleOCFAction(0.0, 1.0)\n",
    "reward(pomdp, s, act, sp) "
   ]
  },
  {
   "cell_type": "code",
   "execution_count": null,
   "metadata": {},
   "outputs": [],
   "source": []
  },
  {
   "cell_type": "code",
   "execution_count": null,
   "metadata": {},
   "outputs": [],
   "source": []
  }
 ],
 "metadata": {
  "kernelspec": {
   "display_name": "Julia 0.6.4",
   "language": "julia",
   "name": "julia-0.6"
  },
  "language_info": {
   "file_extension": ".jl",
   "mimetype": "application/julia",
   "name": "julia",
   "version": "0.6.4"
  }
 },
 "nbformat": 4,
 "nbformat_minor": 2
}
