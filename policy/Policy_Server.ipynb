{
 "cells": [
  {
   "cell_type": "code",
   "execution_count": 1,
   "metadata": {},
   "outputs": [
    {
     "name": "stderr",
     "output_type": "stream",
     "text": [
      "WARNING: Method definition warn(Any...) in module Base at util.jl:589 overwritten in module Logging at /home/xubuntu/.julia/v0.6/Logging/src/Logging.jl:115.\n",
      "WARNING: Method definition info(Any...) in module Base at util.jl:534 overwritten in module Logging at /home/xubuntu/.julia/v0.6/Logging/src/Logging.jl:115.\n",
      "WARNING: Method definition copy!(Array{Float64, 1}, AutomotiveDrivingModels.LatLonAccel) in module AutomotiveDrivingModels at /home/xubuntu/.julia/v0.6/AutomotiveDrivingModels/src/2d/actions/lat_lon_accel.jl:13 overwritten in module AutoUrban at /home/xubuntu/.julia/v0.6/AutoUrban/src/simulation/actions.jl:10.\n",
      "WARNING: Method definition split_o(Array{Float64, 1}, AutomotivePOMDPs.UrbanPOMDP) in module AutomotivePOMDPs at /home/xubuntu/stanford/AutomotivePOMDPs/src/generative_pomdps/urban/generative_model.jl:560 overwritten at /home/xubuntu/stanford/AutomotivePOMDPs/src/decomposition/base_scenarios.jl:38.\n",
      "WARNING: Method definition #split_o(Array{Any, 1}, typeof(AutomotivePOMDPs.split_o), Array{Float64, 1}, AutomotivePOMDPs.UrbanPOMDP) in module AutomotivePOMDPs overwritten.\n"
     ]
    },
    {
     "ename": "LoadError",
     "evalue": "LoadError: \u001b[91mUndefVarError: DecPolicy not defined\u001b[39m\nwhile loading /home/xubuntu/stanford/PedestrianAvoidancePOMDP.jl/src/frenet_pedestrian_pomdp.jl, in expression starting on line 558",
     "output_type": "error",
     "traceback": [
      "LoadError: \u001b[91mUndefVarError: DecPolicy not defined\u001b[39m\nwhile loading /home/xubuntu/stanford/PedestrianAvoidancePOMDP.jl/src/frenet_pedestrian_pomdp.jl, in expression starting on line 558",
      "",
      "Stacktrace:",
      " [1] \u001b[1minclude_from_node1\u001b[22m\u001b[22m\u001b[1m(\u001b[22m\u001b[22m::String\u001b[1m)\u001b[22m\u001b[22m at \u001b[1m./loading.jl:576\u001b[22m\u001b[22m",
      " [2] \u001b[1minclude\u001b[22m\u001b[22m\u001b[1m(\u001b[22m\u001b[22m::String\u001b[1m)\u001b[22m\u001b[22m at \u001b[1m./sysimg.jl:14\u001b[22m\u001b[22m"
     ]
    }
   ],
   "source": [
    "    using POMDPs\n",
    "    using DiscreteValueIteration \n",
    "    \n",
    "    using AutomotiveDrivingModels\n",
    "    using AutoViz\n",
    "    using AutomotiveSensors\n",
    "    using AutomotivePOMDPs\n",
    "    using Parameters\n",
    "    using StaticArrays\n",
    "\n",
    "    using GridInterpolations \n",
    "    using POMDPToolbox\n",
    "    using JLD\n",
    "\n",
    "    include(\"../src/pomdp_types.jl\")\n",
    "    include(\"../src/spaces.jl\")\n",
    "    include(\"../src/transition.jl\")\n",
    "    include(\"../src/observation.jl\")\n",
    "    include(\"../src/belief.jl\")\n",
    "\n",
    "    include(\"../src/frenet_pedestrian_pomdp.jl\")\n"
   ]
  },
  {
   "cell_type": "code",
   "execution_count": null,
   "metadata": {},
   "outputs": [],
   "source": [
    "N_PROCS=56\n",
    "addprocs(N_PROCS)\n",
    "@everywhere begin \n",
    "    using POMDPs\n",
    "    using DiscreteValueIteration \n",
    "    \n",
    "    using AutomotiveDrivingModels\n",
    "    using AutoViz\n",
    "    using AutomotiveSensors\n",
    "    using AutomotivePOMDPs\n",
    "    using Parameters\n",
    "    using StaticArrays\n",
    "\n",
    "    using GridInterpolations \n",
    "    using POMDPToolbox\n",
    "    using JLD\n",
    "\n",
    "    \n",
    "    include(\"../src/pomdp_types.jl\")\n",
    "    include(\"../src/spaces.jl\")\n",
    "    include(\"../src/transition.jl\")\n",
    "    include(\"../src/observation.jl\")\n",
    "    include(\"../src/belief.jl\")\n",
    "\n",
    "    include(\"../src/frenet_pedestrian_pomdp.jl\")\n",
    "    \n",
    "    pomdp = SingleOCFPOMDP()\n",
    "end \n",
    "\n",
    "solver = ParallelValueIterationSolver(n_procs=N_PROCS, max_iterations=1, belres=1e-4, include_Q=true, verbose=true)\n",
    "\n"
   ]
  },
  {
   "cell_type": "code",
   "execution_count": null,
   "metadata": {},
   "outputs": [],
   "source": [
    "vi_policy = solve(solver, pomdp)\n",
    "qmdp_policy = AlphaVectorPolicy(pomdp, vi_policy.qmat, vi_policy.action_map)\n",
    "\n",
    "# save policy!\n",
    "JLD.save(\"policy.jld\", \"policy\", qmdp_policy)\n"
   ]
  },
  {
   "cell_type": "code",
   "execution_count": null,
   "metadata": {},
   "outputs": [],
   "source": [
    "function AutomotivePOMDPs.action(policy::AlphaVectorPolicy, b::SingleOCFBelief)\n",
    "    alphas = policy.alphas \n",
    "    util = zeros(n_actions(pomdp)) \n",
    "    for i=1:n_actions(pomdp)\n",
    "        res = 0.0\n",
    "        for (j,s) in enumerate(b.vals)\n",
    "            si = state_index(pomdp, s)\n",
    "            res += alphas[i][si]*b.probs[j]\n",
    "        end\n",
    "        util[i] = res\n",
    "    end\n",
    "    ihi = indmax(util)\n",
    "    return policy.action_map[ihi]\n",
    "end\n"
   ]
  },
  {
   "cell_type": "code",
   "execution_count": null,
   "metadata": {},
   "outputs": [],
   "source": [
    "n_states(pomdp)"
   ]
  },
  {
   "cell_type": "code",
   "execution_count": null,
   "metadata": {},
   "outputs": [],
   "source": [
    "pomdp = SingleOCFPOMDP()\n",
    "\n",
    "qmdp_policy = load(\"policy.jld\")[\"policy\"];\n"
   ]
  },
  {
   "cell_type": "code",
   "execution_count": null,
   "metadata": {
    "scrolled": false
   },
   "outputs": [],
   "source": [
    "Pkg.add(\"Plots\")\n",
    "using Interact\n",
    "using Plots\n",
    "gr()\n",
    "\n",
    "policy_grid = Matrix(length(pomdp.T_RANGE),length(pomdp.S_RANGE))\n",
    "\n",
    "@manipulate for ego_v in pomdp.EGO_V_RANGE\n",
    "    @manipulate for ped_v in pomdp.PED_V_RANGE\n",
    "\n",
    "    #ego_v = 5.38462\n",
    "    for i=1:length(pomdp.T_RANGE)\n",
    "        ped_t = pomdp.T_RANGE[i]\n",
    "        for j=1:length(pomdp.S_RANGE)\n",
    "            ped_s = pomdp.S_RANGE[j]\n",
    "            b = SparseCat([SingleOCFState(0.0, ego_v, ped_s, ped_t, 1.57, ped_v)],[1.])\n",
    "            act = action(qmdp_policy, b) \n",
    "          #  println(ped_s, \"/\", ped_t, \" act: \", act.acc)\n",
    "            policy_grid[i,j] = act.acc\n",
    "        end\n",
    "    end\n",
    "\n",
    "    xs = [pomdp.S_RANGE[i] for i = 1:length(pomdp.S_RANGE)]\n",
    "    ys = [pomdp.T_RANGE[i] for i = 1:length(pomdp.T_RANGE)]\n",
    "    heatmap(xs,ys,policy_grid,aspect_ratio=1)\n",
    "\n",
    "\n",
    "    end\n",
    "end\n",
    "\n",
    "\n"
   ]
  },
  {
   "cell_type": "code",
   "execution_count": null,
   "metadata": {
    "scrolled": false
   },
   "outputs": [],
   "source": [
    "using Interact\n",
    "using Plots\n",
    "gr()\n",
    "\n",
    "policy_grid = Matrix(length(pomdp.T_RANGE),length(pomdp.S_RANGE))\n",
    "\n",
    "@manipulate for ego_v in pomdp.EGO_V_RANGE\n",
    "    @manipulate for ped_v in pomdp.PED_V_RANGE\n",
    "\n",
    "    #ego_v = 5.38462\n",
    "    for i=1:length(pomdp.T_RANGE)\n",
    "        ped_t = pomdp.T_RANGE[i]\n",
    "        for j=1:length(pomdp.S_RANGE)\n",
    "            ped_s = pomdp.S_RANGE[j]\n",
    "            b = SparseCat([SingleOCFState(0.0, ego_v, ped_s, ped_t, 1.57, ped_v)],[1.])\n",
    "            act = action(qmdp_policy, b) \n",
    "          #  println(ped_s, \"/\", ped_t, \" act: \", act.acc)\n",
    "            policy_grid[i,j] = act.lateral_movement\n",
    "        end\n",
    "    end\n",
    "\n",
    "    xs = [pomdp.S_RANGE[i] for i = 1:length(pomdp.S_RANGE)]\n",
    "    ys = [pomdp.T_RANGE[i] for i = 1:length(pomdp.T_RANGE)]\n",
    "    heatmap(xs,ys,policy_grid,aspect_ratio=1)\n",
    "\n",
    "\n",
    "    end\n",
    "end\n"
   ]
  },
  {
   "cell_type": "code",
   "execution_count": null,
   "metadata": {},
   "outputs": [],
   "source": [
    "# Test action space\n",
    "\n",
    "\n",
    "cnt = 0\n",
    "for (index, a) in enumerate(pomdp.action_space)\n",
    "    idx = action_index(pomdp,a)\n",
    "    if (idx != index)\n",
    "        println(\"error\")\n",
    "        cnt = cnt + 1\n",
    "    end\n",
    "    println(a)\n",
    "end\n",
    "println(cnt)\n"
   ]
  },
  {
   "cell_type": "code",
   "execution_count": null,
   "metadata": {},
   "outputs": [],
   "source": [
    "state_space = states(pomdp)\n",
    "\n",
    "state_space[state_index(pomdp,SingleOCFState(0.0, 4, 40.0, 0.0, 1.57, 1.5))]"
   ]
  },
  {
   "cell_type": "code",
   "execution_count": null,
   "metadata": {},
   "outputs": [],
   "source": [
    "\n",
    "s = SingleOCFState(0.0, 4.3076923076923075, 40.0, 4.0, 1.57, 1.5)\n",
    "sp = SingleOCFState(0.0, 4.3076923076923075, 40.0, 4.0, 1.57, 1.5)\n",
    "\n",
    "act = SingleOCFAction(0.0, 1.0)\n",
    "reward(pomdp, s, act, sp) "
   ]
  },
  {
   "cell_type": "code",
   "execution_count": null,
   "metadata": {},
   "outputs": [],
   "source": []
  },
  {
   "cell_type": "code",
   "execution_count": null,
   "metadata": {},
   "outputs": [],
   "source": []
  }
 ],
 "metadata": {
  "kernelspec": {
   "display_name": "Julia 0.6.4",
   "language": "julia",
   "name": "julia-0.6"
  },
  "language_info": {
   "file_extension": ".jl",
   "mimetype": "application/julia",
   "name": "julia",
   "version": "0.6.4"
  }
 },
 "nbformat": 4,
 "nbformat_minor": 2
}
