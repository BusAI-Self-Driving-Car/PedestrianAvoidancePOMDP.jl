{
 "cells": [
  {
   "cell_type": "code",
   "execution_count": 15,
   "metadata": {},
   "outputs": [],
   "source": [
    "using POMDPs\n",
    "using GridInterpolations \n",
    "using POMDPModelTools\n",
    "using POMDPPolicies\n",
    "using Parameters\n",
    "using StaticArrays\n",
    "using DiscreteValueIteration \n",
    "using Distributed\n",
    "using AutomotiveDrivingModels\n",
    "using AutoViz\n",
    "using AutomotiveSensors\n",
    "using AutomotivePOMDPs\n",
    "using PedestrianAvoidancePOMDP\n",
    "\n",
    "using FileIO\n",
    "using JLD2"
   ]
  },
  {
   "cell_type": "code",
   "execution_count": null,
   "metadata": {},
   "outputs": [
    {
     "name": "stderr",
     "output_type": "stream",
     "text": [
      "WARNING: Error during initialization of module PCRE:\n",
      "ErrorException(\"could not load library \"libpcre2-8\"\n",
      "libpcre2-8.so: failed to map segment from shared object\")\n",
      "\n",
      "signal (11): Segmentation fault\n",
      "in expression starting at no file:0\n",
      "unknown function (ip: 0x7f469688303f)\n",
      "unknown function (ip: 0x7f4684c9ca77)\n",
      "Allocations: 2507 (Pool: 2498; Big: 9); GC: 0\n"
     ]
    },
    {
     "name": "stdout",
     "output_type": "stream",
     "text": [
      "      From worker 30:\tMaster process (id 1) could not connect within 60.0 seconds.\n",
      "      From worker 30:\texiting.\n",
      "      From worker 49:\tMaster process (id 1) could not connect within 60.0 seconds.\n",
      "      From worker 49:\texiting.\n"
     ]
    },
    {
     "name": "stderr",
     "output_type": "stream",
     "text": [
      "Worker 30 terminated.\n",
      "Worker 49 terminated.\n"
     ]
    }
   ],
   "source": [
    "N_PROCS=56\n",
    "addprocs(N_PROCS)\n",
    "@everywhere begin \n",
    "    using POMDPs\n",
    "    using GridInterpolations \n",
    "    using POMDPModelTools\n",
    "    using POMDPPolicies\n",
    "    using POMDPToolbox\n",
    "\n",
    "    using Parameters\n",
    "    using StaticArrays\n",
    "    using DiscreteValueIteration \n",
    "\n",
    "    using AutomotiveDrivingModels\n",
    "    using AutoViz\n",
    "    using AutomotiveSensors\n",
    "    using AutomotivePOMDPs\n",
    "    using PedestrianAvoidancePOMDP\n",
    "\n",
    "    pomdp = SingleOCFPOMDP()\n",
    "end \n",
    "\n",
    "solver = ParallelValueIterationSolver(n_procs=N_PROCS, max_iterations=1, belres=1e-4, include_Q=true, verbose=true)\n",
    "\n"
   ]
  },
  {
   "cell_type": "code",
   "execution_count": null,
   "metadata": {},
   "outputs": [],
   "source": [
    "pomdp = SingleOCFPOMDP()\n",
    "solver = ParallelValueIterationSolver(n_procs=2, max_iterations=20, belres=1e-4, include_Q=true, verbose=true)\n"
   ]
  },
  {
   "cell_type": "code",
   "execution_count": null,
   "metadata": {},
   "outputs": [],
   "source": [
    "vi_policy = solve(solver, pomdp)\n",
    "qmdp_policy = AlphaVectorPolicy(pomdp, vi_policy.qmat, vi_policy.action_map)\n",
    "\n",
    "# save policy!\n",
    "FileIO.save(\"policy.jld2\", \"policy\", qmdp_policy)\n"
   ]
  },
  {
   "cell_type": "code",
   "execution_count": 17,
   "metadata": {},
   "outputs": [],
   "source": [
    " function AutomotivePOMDPs.action(policy::AlphaVectorPolicy, b::SingleOCFBelief)\n",
    "    alphas = policy.alphas \n",
    "    util = zeros(n_actions(policy.pomdp)) \n",
    "    for i=1:n_actions(policy.pomdp)\n",
    "        res = 0.0\n",
    "        for (j,s) in enumerate(b.vals)\n",
    "            si = stateindex(policy.pomdp, s)\n",
    "            res += alphas[i][si]*b.probs[j]\n",
    "        end\n",
    "        util[i] = res\n",
    "    end\n",
    "    ihi = findmax(util)[2]\n",
    "    #println(ihi)\n",
    "    #println(util)\n",
    "    #println(policy.action_map[ihi])\n",
    "    return policy.action_map[ihi]\n",
    "end"
   ]
  },
  {
   "cell_type": "code",
   "execution_count": 2,
   "metadata": {},
   "outputs": [],
   "source": [
    "pomdp = SingleOCFPOMDP()\n",
    "\n",
    "qmdp_policy = load(\"policy.jld2\")[\"policy\"];"
   ]
  },
  {
   "cell_type": "code",
   "execution_count": 18,
   "metadata": {
    "scrolled": false
   },
   "outputs": [
    {
     "data": {
      "application/vnd.webio.node+json": {
       "children": [
        {
         "children": [
          {
           "children": [
            {
             "children": [
              {
               "children": [
                {
                 "children": [
                  "ego_v"
                 ],
                 "instanceArgs": {
                  "namespace": "html",
                  "tag": "label"
                 },
                 "nodeType": "DOM",
                 "props": {
                  "className": "interact ",
                  "style": {
                   "padding": "5px 10px 0px 10px"
                  }
                 },
                 "type": "node"
                }
               ],
               "instanceArgs": {
                "namespace": "html",
                "tag": "div"
               },
               "nodeType": "DOM",
               "props": {
                "attributes": {
                 "style": "text-align:right;width:18%"
                }
               },
               "type": "node"
              },
              {
               "children": [
                {
                 "children": [],
                 "instanceArgs": {
                  "namespace": "html",
                  "tag": "input"
                 },
                 "nodeType": "DOM",
                 "props": {
                  "attributes": {
                   "data-bind": "numericValue: index, valueUpdate: 'input', event: {change : function () {this.changes(this.changes()+1)}}",
                   "orient": "horizontal",
                   "type": "range"
                  },
                  "className": "slider slider is-fullwidth",
                  "max": 15,
                  "min": 1,
                  "step": 1,
                  "style": {}
                 },
                 "type": "node"
                }
               ],
               "instanceArgs": {
                "namespace": "html",
                "tag": "div"
               },
               "nodeType": "DOM",
               "props": {
                "attributes": {
                 "style": "flex-grow:1; margin: 0 2%"
                }
               },
               "type": "node"
              },
              {
               "children": [
                {
                 "children": [],
                 "instanceArgs": {
                  "namespace": "html",
                  "tag": "p"
                 },
                 "nodeType": "DOM",
                 "props": {
                  "attributes": {
                   "data-bind": "text: formatted_value"
                  }
                 },
                 "type": "node"
                }
               ],
               "instanceArgs": {
                "namespace": "html",
                "tag": "div"
               },
               "nodeType": "DOM",
               "props": {
                "attributes": {
                 "style": "width:18%"
                }
               },
               "type": "node"
              }
             ],
             "instanceArgs": {
              "namespace": "html",
              "tag": "div"
             },
             "nodeType": "DOM",
             "props": {
              "attributes": {
               "style": "display:flex; justify-content:center; align-items:center;"
              }
             },
             "type": "node"
            }
           ],
           "instanceArgs": {
            "handlers": {
             "_promises": {
              "importsLoaded": [
               "function (ko, koPunches) {\n    ko.punches.enableAll();\n    ko.bindingHandlers.numericValue = {\n        init : function(element, valueAccessor, allBindings, data, context) {\n            var stringified = ko.observable(ko.unwrap(valueAccessor()));\n            stringified.subscribe(function(value) {\n                var val = parseFloat(value);\n                if (!isNaN(val)) {\n                    valueAccessor()(val);\n                }\n            })\n            valueAccessor().subscribe(function(value) {\n                var str = JSON.stringify(value);\n                if ((str == \"0\") && ([\"-0\", \"-0.\"].indexOf(stringified()) >= 0))\n                     return;\n                 if ([\"null\", \"\"].indexOf(str) >= 0)\n                     return;\n                stringified(str);\n            })\n            ko.applyBindingsToNode(element, { value: stringified, valueUpdate: allBindings.get('valueUpdate')}, context);\n        }\n    };\n    var json_data = JSON.parse(\"{\\\"formatted_vals\\\":[\\\"0.0\\\",\\\"1.0\\\",\\\"2.0\\\",\\\"3.0\\\",\\\"4.0\\\",\\\"5.0\\\",\\\"6.0\\\",\\\"7.0\\\",\\\"8.0\\\",\\\"9.0\\\",\\\"10.0\\\",\\\"11.0\\\",\\\"12.0\\\",\\\"13.0\\\",\\\"14.0\\\"],\\\"changes\\\":0,\\\"formatted_value\\\":\\\"7.0\\\",\\\"index\\\":8}\");\n    var self = this;\n    function AppViewModel() {\n        for (var key in json_data) {\n            var el = json_data[key];\n            this[key] = Array.isArray(el) ? ko.observableArray(el) : ko.observable(el);\n        }\n        \n        \n        [this[\"formatted_vals\"].subscribe((function (val){!(this.valueFromJulia[\"formatted_vals\"]) ? (WebIO.setval({\"name\":\"formatted_vals\",\"scope\":\"knockout-component-bd9fdf77-07b8-43ee-96eb-146df2aea29c\",\"id\":\"ob_63\",\"type\":\"observable\"},val)) : undefined; return this.valueFromJulia[\"formatted_vals\"]=false}),self),this[\"changes\"].subscribe((function (val){!(this.valueFromJulia[\"changes\"]) ? (WebIO.setval({\"name\":\"changes\",\"scope\":\"knockout-component-bd9fdf77-07b8-43ee-96eb-146df2aea29c\",\"id\":\"ob_65\",\"type\":\"observable\"},val)) : undefined; return this.valueFromJulia[\"changes\"]=false}),self),this[\"formatted_value\"].subscribe((function (val){!(this.valueFromJulia[\"formatted_value\"]) ? (WebIO.setval({\"name\":\"formatted_value\",\"scope\":\"knockout-component-bd9fdf77-07b8-43ee-96eb-146df2aea29c\",\"id\":\"ob_64\",\"type\":\"observable\"},val)) : undefined; return this.valueFromJulia[\"formatted_value\"]=false}),self),this[\"index\"].subscribe((function (val){!(this.valueFromJulia[\"index\"]) ? (WebIO.setval({\"name\":\"index\",\"scope\":\"knockout-component-bd9fdf77-07b8-43ee-96eb-146df2aea29c\",\"id\":\"ob_62\",\"type\":\"observable\"},val)) : undefined; return this.valueFromJulia[\"index\"]=false}),self)]\n        \n    }\n    self.model = new AppViewModel();\n    self.valueFromJulia = {};\n    for (var key in json_data) {\n        self.valueFromJulia[key] = false;\n    }\n    ko.applyBindings(self.model, self.dom);\n}\n"
              ]
             },
             "changes": [
              "(function (val){return (val!=this.model[\"changes\"]()) ? (this.valueFromJulia[\"changes\"]=true, this.model[\"changes\"](val)) : undefined})"
             ],
             "formatted_vals": [
              "(function (val){return (val!=this.model[\"formatted_vals\"]()) ? (this.valueFromJulia[\"formatted_vals\"]=true, this.model[\"formatted_vals\"](val)) : undefined})"
             ],
             "formatted_value": [
              "(function (val){return (val!=this.model[\"formatted_value\"]()) ? (this.valueFromJulia[\"formatted_value\"]=true, this.model[\"formatted_value\"](val)) : undefined})"
             ],
             "index": [
              "(function (val){return (val!=this.model[\"index\"]()) ? (this.valueFromJulia[\"index\"]=true, this.model[\"index\"](val)) : undefined})",
              "(function (val){return WebIO.setval({\"name\":\"formatted_value\",\"scope\":\"knockout-component-bd9fdf77-07b8-43ee-96eb-146df2aea29c\",\"id\":\"ob_64\",\"type\":\"observable\"},WebIO.getval({\"name\":\"formatted_vals\",\"scope\":\"knockout-component-bd9fdf77-07b8-43ee-96eb-146df2aea29c\",\"id\":\"ob_63\",\"type\":\"observable\"})[(WebIO.getval({\"name\":\"index\",\"scope\":\"knockout-component-bd9fdf77-07b8-43ee-96eb-146df2aea29c\",\"id\":\"ob_62\",\"type\":\"observable\"})-1)])})"
             ]
            },
            "id": "knockout-component-bd9fdf77-07b8-43ee-96eb-146df2aea29c",
            "imports": {
             "data": [
              {
               "name": "knockout",
               "type": "js",
               "url": "/assetserver/5bdfa0079f8054411755b58d5cbf209816eb3491-knockout.js"
              },
              {
               "name": "knockout_punches",
               "type": "js",
               "url": "/assetserver/855febee65039013a347552d0c4d4111c3742744-knockout_punches.js"
              },
              {
               "name": null,
               "type": "js",
               "url": "/assetserver/c520edf59e8047fe705fc94922c00f742e98d6ca-all.js"
              },
              {
               "name": null,
               "type": "css",
               "url": "/assetserver/2e452758e706a09118283eb71a88f2d2c42ad320-style.css"
              },
              {
               "name": null,
               "type": "css",
               "url": "/assetserver/161e8bbeb8bd5574618f97bdf4a5bbe64bae489f-main.css"
              }
             ],
             "type": "async_block"
            },
            "observables": {
             "changes": {
              "id": "ob_65",
              "sync": false,
              "value": 0
             },
             "formatted_vals": {
              "id": "ob_63",
              "sync": false,
              "value": [
               "0.0",
               "1.0",
               "2.0",
               "3.0",
               "4.0",
               "5.0",
               "6.0",
               "7.0",
               "8.0",
               "9.0",
               "10.0",
               "11.0",
               "12.0",
               "13.0",
               "14.0"
              ]
             },
             "formatted_value": {
              "id": "ob_64",
              "sync": false,
              "value": "7.0"
             },
             "index": {
              "id": "ob_62",
              "sync": true,
              "value": 8
             }
            },
            "systemjs_options": null
           },
           "nodeType": "Scope",
           "props": {},
           "type": "node"
          }
         ],
         "instanceArgs": {
          "namespace": "html",
          "tag": "div"
         },
         "nodeType": "DOM",
         "props": {
          "className": "field"
         },
         "type": "node"
        },
        {
         "children": [
          {
           "children": [],
           "instanceArgs": {
            "id": "ob_79",
            "name": "obs-scope"
           },
           "nodeType": "ObservableNode",
           "props": {},
           "type": "node"
          }
         ],
         "instanceArgs": {
          "handlers": {},
          "id": "scope-f5e4bdcc-8be0-4268-a8b4-e7ebf166ee82",
          "imports": {
           "data": [],
           "type": "async_block"
          },
          "observables": {
           "obs-scope": {
            "id": "ob_79",
            "sync": false,
            "value": {
             "children": [
              {
               "children": [
                {
                 "children": [
                  {
                   "children": [
                    {
                     "children": [
                      {
                       "children": [
                        "ped_v"
                       ],
                       "instanceArgs": {
                        "namespace": "html",
                        "tag": "label"
                       },
                       "nodeType": "DOM",
                       "props": {
                        "className": "interact ",
                        "style": {
                         "padding": "5px 10px 0px 10px"
                        }
                       },
                       "type": "node"
                      }
                     ],
                     "instanceArgs": {
                      "namespace": "html",
                      "tag": "div"
                     },
                     "nodeType": "DOM",
                     "props": {
                      "attributes": {
                       "style": "text-align:right;width:18%"
                      }
                     },
                     "type": "node"
                    },
                    {
                     "children": [
                      {
                       "children": [],
                       "instanceArgs": {
                        "namespace": "html",
                        "tag": "input"
                       },
                       "nodeType": "DOM",
                       "props": {
                        "attributes": {
                         "data-bind": "numericValue: index, valueUpdate: 'input', event: {change : function () {this.changes(this.changes()+1)}}",
                         "orient": "horizontal",
                         "type": "range"
                        },
                        "className": "slider slider is-fullwidth",
                        "max": 5,
                        "min": 1,
                        "step": 1,
                        "style": {}
                       },
                       "type": "node"
                      }
                     ],
                     "instanceArgs": {
                      "namespace": "html",
                      "tag": "div"
                     },
                     "nodeType": "DOM",
                     "props": {
                      "attributes": {
                       "style": "flex-grow:1; margin: 0 2%"
                      }
                     },
                     "type": "node"
                    },
                    {
                     "children": [
                      {
                       "children": [],
                       "instanceArgs": {
                        "namespace": "html",
                        "tag": "p"
                       },
                       "nodeType": "DOM",
                       "props": {
                        "attributes": {
                         "data-bind": "text: formatted_value"
                        }
                       },
                       "type": "node"
                      }
                     ],
                     "instanceArgs": {
                      "namespace": "html",
                      "tag": "div"
                     },
                     "nodeType": "DOM",
                     "props": {
                      "attributes": {
                       "style": "width:18%"
                      }
                     },
                     "type": "node"
                    }
                   ],
                   "instanceArgs": {
                    "namespace": "html",
                    "tag": "div"
                   },
                   "nodeType": "DOM",
                   "props": {
                    "attributes": {
                     "style": "display:flex; justify-content:center; align-items:center;"
                    }
                   },
                   "type": "node"
                  }
                 ],
                 "instanceArgs": {
                  "handlers": {
                   "_promises": {
                    "importsLoaded": [
                     "function (ko, koPunches) {\n    ko.punches.enableAll();\n    ko.bindingHandlers.numericValue = {\n        init : function(element, valueAccessor, allBindings, data, context) {\n            var stringified = ko.observable(ko.unwrap(valueAccessor()));\n            stringified.subscribe(function(value) {\n                var val = parseFloat(value);\n                if (!isNaN(val)) {\n                    valueAccessor()(val);\n                }\n            })\n            valueAccessor().subscribe(function(value) {\n                var str = JSON.stringify(value);\n                if ((str == \"0\") && ([\"-0\", \"-0.\"].indexOf(stringified()) >= 0))\n                     return;\n                 if ([\"null\", \"\"].indexOf(str) >= 0)\n                     return;\n                stringified(str);\n            })\n            ko.applyBindingsToNode(element, { value: stringified, valueUpdate: allBindings.get('valueUpdate')}, context);\n        }\n    };\n    var json_data = JSON.parse(\"{\\\"formatted_vals\\\":[\\\"0.0\\\",\\\"0.5\\\",\\\"1.0\\\",\\\"1.5\\\",\\\"2.0\\\"],\\\"changes\\\":0,\\\"formatted_value\\\":\\\"1.0\\\",\\\"index\\\":3}\");\n    var self = this;\n    function AppViewModel() {\n        for (var key in json_data) {\n            var el = json_data[key];\n            this[key] = Array.isArray(el) ? ko.observableArray(el) : ko.observable(el);\n        }\n        \n        \n        [this[\"formatted_vals\"].subscribe((function (val){!(this.valueFromJulia[\"formatted_vals\"]) ? (WebIO.setval({\"name\":\"formatted_vals\",\"scope\":\"knockout-component-459bd9ee-fabf-41e6-b905-e44fbc794d58\",\"id\":\"ob_68\",\"type\":\"observable\"},val)) : undefined; return this.valueFromJulia[\"formatted_vals\"]=false}),self),this[\"changes\"].subscribe((function (val){!(this.valueFromJulia[\"changes\"]) ? (WebIO.setval({\"name\":\"changes\",\"scope\":\"knockout-component-459bd9ee-fabf-41e6-b905-e44fbc794d58\",\"id\":\"ob_70\",\"type\":\"observable\"},val)) : undefined; return this.valueFromJulia[\"changes\"]=false}),self),this[\"formatted_value\"].subscribe((function (val){!(this.valueFromJulia[\"formatted_value\"]) ? (WebIO.setval({\"name\":\"formatted_value\",\"scope\":\"knockout-component-459bd9ee-fabf-41e6-b905-e44fbc794d58\",\"id\":\"ob_69\",\"type\":\"observable\"},val)) : undefined; return this.valueFromJulia[\"formatted_value\"]=false}),self),this[\"index\"].subscribe((function (val){!(this.valueFromJulia[\"index\"]) ? (WebIO.setval({\"name\":\"index\",\"scope\":\"knockout-component-459bd9ee-fabf-41e6-b905-e44fbc794d58\",\"id\":\"ob_67\",\"type\":\"observable\"},val)) : undefined; return this.valueFromJulia[\"index\"]=false}),self)]\n        \n    }\n    self.model = new AppViewModel();\n    self.valueFromJulia = {};\n    for (var key in json_data) {\n        self.valueFromJulia[key] = false;\n    }\n    ko.applyBindings(self.model, self.dom);\n}\n"
                    ]
                   },
                   "changes": [
                    "(function (val){return (val!=this.model[\"changes\"]()) ? (this.valueFromJulia[\"changes\"]=true, this.model[\"changes\"](val)) : undefined})"
                   ],
                   "formatted_vals": [
                    "(function (val){return (val!=this.model[\"formatted_vals\"]()) ? (this.valueFromJulia[\"formatted_vals\"]=true, this.model[\"formatted_vals\"](val)) : undefined})"
                   ],
                   "formatted_value": [
                    "(function (val){return (val!=this.model[\"formatted_value\"]()) ? (this.valueFromJulia[\"formatted_value\"]=true, this.model[\"formatted_value\"](val)) : undefined})"
                   ],
                   "index": [
                    "(function (val){return (val!=this.model[\"index\"]()) ? (this.valueFromJulia[\"index\"]=true, this.model[\"index\"](val)) : undefined})",
                    "(function (val){return WebIO.setval({\"name\":\"formatted_value\",\"scope\":\"knockout-component-459bd9ee-fabf-41e6-b905-e44fbc794d58\",\"id\":\"ob_69\",\"type\":\"observable\"},WebIO.getval({\"name\":\"formatted_vals\",\"scope\":\"knockout-component-459bd9ee-fabf-41e6-b905-e44fbc794d58\",\"id\":\"ob_68\",\"type\":\"observable\"})[(WebIO.getval({\"name\":\"index\",\"scope\":\"knockout-component-459bd9ee-fabf-41e6-b905-e44fbc794d58\",\"id\":\"ob_67\",\"type\":\"observable\"})-1)])})"
                   ]
                  },
                  "id": "knockout-component-459bd9ee-fabf-41e6-b905-e44fbc794d58",
                  "imports": {
                   "data": [
                    {
                     "name": "knockout",
                     "type": "js",
                     "url": "/assetserver/5bdfa0079f8054411755b58d5cbf209816eb3491-knockout.js"
                    },
                    {
                     "name": "knockout_punches",
                     "type": "js",
                     "url": "/assetserver/855febee65039013a347552d0c4d4111c3742744-knockout_punches.js"
                    },
                    {
                     "name": null,
                     "type": "js",
                     "url": "/assetserver/c520edf59e8047fe705fc94922c00f742e98d6ca-all.js"
                    },
                    {
                     "name": null,
                     "type": "css",
                     "url": "/assetserver/2e452758e706a09118283eb71a88f2d2c42ad320-style.css"
                    },
                    {
                     "name": null,
                     "type": "css",
                     "url": "/assetserver/161e8bbeb8bd5574618f97bdf4a5bbe64bae489f-main.css"
                    }
                   ],
                   "type": "async_block"
                  },
                  "observables": {
                   "changes": {
                    "id": "ob_70",
                    "sync": false,
                    "value": 0
                   },
                   "formatted_vals": {
                    "id": "ob_68",
                    "sync": false,
                    "value": [
                     "0.0",
                     "0.5",
                     "1.0",
                     "1.5",
                     "2.0"
                    ]
                   },
                   "formatted_value": {
                    "id": "ob_69",
                    "sync": false,
                    "value": "1.0"
                   },
                   "index": {
                    "id": "ob_67",
                    "sync": true,
                    "value": 3
                   }
                  },
                  "systemjs_options": null
                 },
                 "nodeType": "Scope",
                 "props": {},
                 "type": "node"
                }
               ],
               "instanceArgs": {
                "namespace": "html",
                "tag": "div"
               },
               "nodeType": "DOM",
               "props": {
                "className": "field"
               },
               "type": "node"
              },
              {
               "children": [
                {
                 "children": [],
                 "instanceArgs": {
                  "id": "ob_80",
                  "name": "obs-node"
                 },
                 "nodeType": "ObservableNode",
                 "props": {},
                 "type": "node"
                }
               ],
               "instanceArgs": {
                "handlers": {},
                "id": "scope-445a2663-a070-4de1-8f8f-3ccbe46eed2f",
                "imports": {
                 "data": [],
                 "type": "async_block"
                },
                "observables": {
                 "obs-node": {
                  "id": "ob_80",
                  "sync": false,
                  "value": {
                   "children": [
                    {
                     "children": [],
                     "instanceArgs": {
                      "namespace": "html",
                      "tag": "div"
                     },
                     "nodeType": "DOM",
                     "props": {
                      "setInnerHtml": "<?xml version=\"1.0\" encoding=\"utf-8\"?>\n<svg xmlns=\"http://www.w3.org/2000/svg\" xmlns:xlink=\"http://www.w3.org/1999/xlink\" width=\"600\" height=\"400\" viewBox=\"0 0 2400 1600\">\n<defs>\n  <clipPath id=\"clip2300\">\n    <rect x=\"0\" y=\"0\" width=\"2000\" height=\"2000\"/>\n  </clipPath>\n</defs>\n<defs>\n  <clipPath id=\"clip2301\">\n    <rect x=\"0\" y=\"0\" width=\"2400\" height=\"1600\"/>\n  </clipPath>\n</defs>\n<polygon clip-path=\"url(#clip2301)\" points=\"\n0,1600 2400,1600 2400,0 0,0 \n  \" fill=\"#ffffff\" fill-opacity=\"1\"/>\n<defs>\n  <clipPath id=\"clip2302\">\n    <rect x=\"480\" y=\"0\" width=\"1681\" height=\"1600\"/>\n  </clipPath>\n</defs>\n<polygon clip-path=\"url(#clip2301)\" points=\"\n149.361,979.695 2081.26,979.695 2081.26,571.024 149.361,571.024 \n  \" fill=\"#ffffff\" fill-opacity=\"1\"/>\n<defs>\n  <clipPath id=\"clip2303\">\n    <rect x=\"149\" y=\"571\" width=\"1933\" height=\"410\"/>\n  </clipPath>\n</defs>\n<polyline clip-path=\"url(#clip2303)\" style=\"stroke:#000000; stroke-width:2; stroke-opacity:0.1; fill:none\" points=\"\n  186.513,979.695 186.513,571.024 \n  \"/>\n<polyline clip-path=\"url(#clip2303)\" style=\"stroke:#000000; stroke-width:2; stroke-opacity:0.1; fill:none\" points=\"\n  558.032,979.695 558.032,571.024 \n  \"/>\n<polyline clip-path=\"url(#clip2303)\" style=\"stroke:#000000; stroke-width:2; stroke-opacity:0.1; fill:none\" points=\"\n  929.551,979.695 929.551,571.024 \n  \"/>\n<polyline clip-path=\"url(#clip2303)\" style=\"stroke:#000000; stroke-width:2; stroke-opacity:0.1; fill:none\" points=\"\n  1301.07,979.695 1301.07,571.024 \n  \"/>\n<polyline clip-path=\"url(#clip2303)\" style=\"stroke:#000000; stroke-width:2; stroke-opacity:0.1; fill:none\" points=\"\n  1672.59,979.695 1672.59,571.024 \n  \"/>\n<polyline clip-path=\"url(#clip2303)\" style=\"stroke:#000000; stroke-width:2; stroke-opacity:0.1; fill:none\" points=\"\n  2044.11,979.695 2044.11,571.024 \n  \"/>\n<polyline clip-path=\"url(#clip2303)\" style=\"stroke:#000000; stroke-width:2; stroke-opacity:0.1; fill:none\" points=\"\n  149.361,923.967 2081.26,923.967 \n  \"/>\n<polyline clip-path=\"url(#clip2303)\" style=\"stroke:#000000; stroke-width:2; stroke-opacity:0.1; fill:none\" points=\"\n  149.361,849.663 2081.26,849.663 \n  \"/>\n<polyline clip-path=\"url(#clip2303)\" style=\"stroke:#000000; stroke-width:2; stroke-opacity:0.1; fill:none\" points=\"\n  149.361,775.359 2081.26,775.359 \n  \"/>\n<polyline clip-path=\"url(#clip2303)\" style=\"stroke:#000000; stroke-width:2; stroke-opacity:0.1; fill:none\" points=\"\n  149.361,701.056 2081.26,701.056 \n  \"/>\n<polyline clip-path=\"url(#clip2303)\" style=\"stroke:#000000; stroke-width:2; stroke-opacity:0.1; fill:none\" points=\"\n  149.361,626.752 2081.26,626.752 \n  \"/>\n<polyline clip-path=\"url(#clip2301)\" style=\"stroke:#000000; stroke-width:4; stroke-opacity:1; fill:none\" points=\"\n  149.361,979.695 2081.26,979.695 \n  \"/>\n<polyline clip-path=\"url(#clip2301)\" style=\"stroke:#000000; stroke-width:4; stroke-opacity:1; fill:none\" points=\"\n  149.361,979.695 149.361,571.024 \n  \"/>\n<polyline clip-path=\"url(#clip2301)\" style=\"stroke:#000000; stroke-width:4; stroke-opacity:1; fill:none\" points=\"\n  186.513,979.695 186.513,973.565 \n  \"/>\n<polyline clip-path=\"url(#clip2301)\" style=\"stroke:#000000; stroke-width:4; stroke-opacity:1; fill:none\" points=\"\n  558.032,979.695 558.032,973.565 \n  \"/>\n<polyline clip-path=\"url(#clip2301)\" style=\"stroke:#000000; stroke-width:4; stroke-opacity:1; fill:none\" points=\"\n  929.551,979.695 929.551,973.565 \n  \"/>\n<polyline clip-path=\"url(#clip2301)\" style=\"stroke:#000000; stroke-width:4; stroke-opacity:1; fill:none\" points=\"\n  1301.07,979.695 1301.07,973.565 \n  \"/>\n<polyline clip-path=\"url(#clip2301)\" style=\"stroke:#000000; stroke-width:4; stroke-opacity:1; fill:none\" points=\"\n  1672.59,979.695 1672.59,973.565 \n  \"/>\n<polyline clip-path=\"url(#clip2301)\" style=\"stroke:#000000; stroke-width:4; stroke-opacity:1; fill:none\" points=\"\n  2044.11,979.695 2044.11,973.565 \n  \"/>\n<polyline clip-path=\"url(#clip2301)\" style=\"stroke:#000000; stroke-width:4; stroke-opacity:1; fill:none\" points=\"\n  149.361,923.967 178.339,923.967 \n  \"/>\n<polyline clip-path=\"url(#clip2301)\" style=\"stroke:#000000; stroke-width:4; stroke-opacity:1; fill:none\" points=\"\n  149.361,849.663 178.339,849.663 \n  \"/>\n<polyline clip-path=\"url(#clip2301)\" style=\"stroke:#000000; stroke-width:4; stroke-opacity:1; fill:none\" points=\"\n  149.361,775.359 178.339,775.359 \n  \"/>\n<polyline clip-path=\"url(#clip2301)\" style=\"stroke:#000000; stroke-width:4; stroke-opacity:1; fill:none\" points=\"\n  149.361,701.056 178.339,701.056 \n  \"/>\n<polyline clip-path=\"url(#clip2301)\" style=\"stroke:#000000; stroke-width:4; stroke-opacity:1; fill:none\" points=\"\n  149.361,626.752 178.339,626.752 \n  \"/>\n<g clip-path=\"url(#clip2301)\">\n<text style=\"fill:#000000; fill-opacity:1; font-family:Arial,Helvetica Neue,Helvetica,sans-serif; font-size:48px; text-anchor:middle;\" transform=\"rotate(0, 186.513, 1033.69)\" x=\"186.513\" y=\"1033.69\">0</text>\n</g>\n<g clip-path=\"url(#clip2301)\">\n<text style=\"fill:#000000; fill-opacity:1; font-family:Arial,Helvetica Neue,Helvetica,sans-serif; font-size:48px; text-anchor:middle;\" transform=\"rotate(0, 558.032, 1033.69)\" x=\"558.032\" y=\"1033.69\">10</text>\n</g>\n<g clip-path=\"url(#clip2301)\">\n<text style=\"fill:#000000; fill-opacity:1; font-family:Arial,Helvetica Neue,Helvetica,sans-serif; font-size:48px; text-anchor:middle;\" transform=\"rotate(0, 929.551, 1033.69)\" x=\"929.551\" y=\"1033.69\">20</text>\n</g>\n<g clip-path=\"url(#clip2301)\">\n<text style=\"fill:#000000; fill-opacity:1; font-family:Arial,Helvetica Neue,Helvetica,sans-serif; font-size:48px; text-anchor:middle;\" transform=\"rotate(0, 1301.07, 1033.69)\" x=\"1301.07\" y=\"1033.69\">30</text>\n</g>\n<g clip-path=\"url(#clip2301)\">\n<text style=\"fill:#000000; fill-opacity:1; font-family:Arial,Helvetica Neue,Helvetica,sans-serif; font-size:48px; text-anchor:middle;\" transform=\"rotate(0, 1672.59, 1033.69)\" x=\"1672.59\" y=\"1033.69\">40</text>\n</g>\n<g clip-path=\"url(#clip2301)\">\n<text style=\"fill:#000000; fill-opacity:1; font-family:Arial,Helvetica Neue,Helvetica,sans-serif; font-size:48px; text-anchor:middle;\" transform=\"rotate(0, 2044.11, 1033.69)\" x=\"2044.11\" y=\"1033.69\">50</text>\n</g>\n<g clip-path=\"url(#clip2301)\">\n<text style=\"fill:#000000; fill-opacity:1; font-family:Arial,Helvetica Neue,Helvetica,sans-serif; font-size:48px; text-anchor:end;\" transform=\"rotate(0, 125.361, 941.467)\" x=\"125.361\" y=\"941.467\">-4</text>\n</g>\n<g clip-path=\"url(#clip2301)\">\n<text style=\"fill:#000000; fill-opacity:1; font-family:Arial,Helvetica Neue,Helvetica,sans-serif; font-size:48px; text-anchor:end;\" transform=\"rotate(0, 125.361, 867.163)\" x=\"125.361\" y=\"867.163\">-2</text>\n</g>\n<g clip-path=\"url(#clip2301)\">\n<text style=\"fill:#000000; fill-opacity:1; font-family:Arial,Helvetica Neue,Helvetica,sans-serif; font-size:48px; text-anchor:end;\" transform=\"rotate(0, 125.361, 792.859)\" x=\"125.361\" y=\"792.859\">0</text>\n</g>\n<g clip-path=\"url(#clip2301)\">\n<text style=\"fill:#000000; fill-opacity:1; font-family:Arial,Helvetica Neue,Helvetica,sans-serif; font-size:48px; text-anchor:end;\" transform=\"rotate(0, 125.361, 718.556)\" x=\"125.361\" y=\"718.556\">2</text>\n</g>\n<g clip-path=\"url(#clip2301)\">\n<text style=\"fill:#000000; fill-opacity:1; font-family:Arial,Helvetica Neue,Helvetica,sans-serif; font-size:48px; text-anchor:end;\" transform=\"rotate(0, 125.361, 644.252)\" x=\"125.361\" y=\"644.252\">4</text>\n</g>\n<g clip-path=\"url(#clip2303)\">\n<image width=\"1932\" height=\"409\" xlink:href=\"data:image/png;base64,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\nQmCC\n\" transform=\"translate(149, 571)\"/>\n</g>\n<defs>\n  <clipPath id=\"clip2304\">\n    <rect x=\"2129\" y=\"571\" width=\"73\" height=\"410\"/>\n  </clipPath>\n</defs>\n<g clip-path=\"url(#clip2304)\">\n<image width=\"72\" height=\"409\" xlink:href=\"data:image/png;base64,\niVBORw0KGgoAAAANSUhEUgAAAEgAAAGZCAYAAAAq+Hd5AAAEOUlEQVR4nO3dwbEjNwxAQcqF/KNw\nlvaSjsB4R+nQHYGKhYfhSL92P//ev9/hf/317Q/w6+a+f7/9GX6aCQrzTNBq3nVAG4kFiQUHFCQW\nTFAwQcFjPkgsSCyYoDDHDlpJLJigYILCHEt6JbEgsWCCwpz7z7c/w0+TWPAUCyYoWNLBAQWJhfm8\nP9/+DD9tznVAG4mF+ZiglQkKdlCY4ym2kliwpIMdFCQWJBZMULCDwnzu/fZn+GkSCxILDihILLgH\nBRMU5njMryQWJBY85oMDChILXlaDCQruQcGSDhILEgsOKEgsuAcFExQ85oMlHSQWTFBwQEFiYc71\nD3FuTFCY8+ygjSUdJBYs6SCxILFggoIJCpZ0kFiQWJhjgFYOKEgsjJf5nQkKdlBwQEFiwQSFOV7F\nVhIL8+7n25/hp5mgYEmHORJbSSzMeyZoI7EgsWCCggkKlnSQWJBYmHOd0cYOCsYnWNLBBAXfKIY5\nzxBtnE6QWHBAQWLBq0ZwOsG7WPCqESQW5lnSKzsoGJ9gSQcTFCzpYEkH4xN83RHm+cp15XSCe1Cw\ng4LEgntQMEHBq0aQWDA+wWM+SCxILHiKBacT7KDgKRYkFiQWPMWC0wkSCyYomKDggILEgpt0mOun\n55XTCZZ0MEHBkg4SCxILJig4oCCxYIKCCQpzTdBKYkFiwQQFBxQkFkxQMEHBBAUXxSCxILHggILE\ngl9Wg9MJdlBwDwoSCxILEgsSCxILJiiYoGBJB4mFeccEbSQWJBY8xYIJCnP9d+oriQWJBY/5MNdF\ncSWxYEkHExQs6SCxILEw99uf4MdJLEgseIoFExR8aR8kFiQWfOUa7KAgseAmHUxQ8LIaJBYkFiQW\nJBYkFrysBhMUxrvqTmJBYkFiQWJBYkFiwQQFOyj4VSNILPjZJ0gsSCz4S/tggsI8O2jlohgkFrys\nBvegILHgHhRMUHAPCv66I0gsuEkHOyhILFjSwQQFOyh41QgSC77uCL4wCxILEgsOKEgs+OuOYIKC\nHRTcg4LEgsSCAwoSC5Z0MEHBDgp+1QgSC37VCHZQkFhwDwomKNhBYd5xQhuJBYkFT7EgsSCxYIKC\nHRQkFiQWfB8U5nrVWEksSCyYoGAHBb+LBYmFebb0SmJBYsHLajBBwc8+QWJBYsGrRrCDgsSCxIIJ\nCiYozPU2v5JY8JgPdlCQWDBBwQQFExTmHV/bbyQWJBbmfiS2kViYa0mvTFAwQcE9KEgszP24B23s\noCCxYIKCCQoe82Hu+fPtz/DTJBYs6TBPYiuJBYkFExRMULCkg8SCxILEgsSCt/lggsLcZ4I2EgsS\nC/MktpJYkFhwkw4mKLgHBUs6SCy4BwVPsSCxILFggoLHfJBYkFjwmA8SCxILnmLBBIV5z5LeSCxI\nLMzxL1Ct5khsJbHgJh1MULCDgntQkFiYY0mvJBYkFjzFwn/5tuhBT8Q/GAAAAABJRU5ErkJggg==\n\" transform=\"translate(2129, 571)\"/>\n</g>\n<g clip-path=\"url(#clip2301)\">\n<text style=\"fill:#000000; fill-opacity:1; font-family:Arial,Helvetica Neue,Helvetica,sans-serif; font-size:48px; text-anchor:start;\" transform=\"rotate(0, 2237.26, 993.346)\" x=\"2237.26\" y=\"993.346\">0</text>\n</g>\n<g clip-path=\"url(#clip2301)\">\n<text style=\"fill:#000000; fill-opacity:1; font-family:Arial,Helvetica Neue,Helvetica,sans-serif; font-size:48px; text-anchor:start;\" transform=\"rotate(0, 2237.26, 952.479)\" x=\"2237.26\" y=\"952.479\">0.1</text>\n</g>\n<g clip-path=\"url(#clip2301)\">\n<text style=\"fill:#000000; fill-opacity:1; font-family:Arial,Helvetica Neue,Helvetica,sans-serif; font-size:48px; text-anchor:start;\" transform=\"rotate(0, 2237.26, 911.612)\" x=\"2237.26\" y=\"911.612\">0.2</text>\n</g>\n<g clip-path=\"url(#clip2301)\">\n<text style=\"fill:#000000; fill-opacity:1; font-family:Arial,Helvetica Neue,Helvetica,sans-serif; font-size:48px; text-anchor:start;\" transform=\"rotate(0, 2237.26, 870.745)\" x=\"2237.26\" y=\"870.745\">0.3</text>\n</g>\n<g clip-path=\"url(#clip2301)\">\n<text style=\"fill:#000000; fill-opacity:1; font-family:Arial,Helvetica Neue,Helvetica,sans-serif; font-size:48px; text-anchor:start;\" transform=\"rotate(0, 2237.26, 829.878)\" x=\"2237.26\" y=\"829.878\">0.4</text>\n</g>\n<g clip-path=\"url(#clip2301)\">\n<text style=\"fill:#000000; fill-opacity:1; font-family:Arial,Helvetica Neue,Helvetica,sans-serif; font-size:48px; text-anchor:start;\" transform=\"rotate(0, 2237.26, 789.011)\" x=\"2237.26\" y=\"789.011\">0.5</text>\n</g>\n<g clip-path=\"url(#clip2301)\">\n<text style=\"fill:#000000; fill-opacity:1; font-family:Arial,Helvetica Neue,Helvetica,sans-serif; font-size:48px; text-anchor:start;\" transform=\"rotate(0, 2237.26, 748.144)\" x=\"2237.26\" y=\"748.144\">0.6</text>\n</g>\n<g clip-path=\"url(#clip2301)\">\n<text style=\"fill:#000000; fill-opacity:1; font-family:Arial,Helvetica Neue,Helvetica,sans-serif; font-size:48px; text-anchor:start;\" transform=\"rotate(0, 2237.26, 707.276)\" x=\"2237.26\" y=\"707.276\">0.7</text>\n</g>\n<g clip-path=\"url(#clip2301)\">\n<text style=\"fill:#000000; fill-opacity:1; font-family:Arial,Helvetica Neue,Helvetica,sans-serif; font-size:48px; text-anchor:start;\" transform=\"rotate(0, 2237.26, 666.409)\" x=\"2237.26\" y=\"666.409\">0.8</text>\n</g>\n<g clip-path=\"url(#clip2301)\">\n<text style=\"fill:#000000; fill-opacity:1; font-family:Arial,Helvetica Neue,Helvetica,sans-serif; font-size:48px; text-anchor:start;\" transform=\"rotate(0, 2237.26, 625.542)\" x=\"2237.26\" y=\"625.542\">0.9</text>\n</g>\n<g clip-path=\"url(#clip2301)\">\n<text style=\"fill:#000000; fill-opacity:1; font-family:Arial,Helvetica Neue,Helvetica,sans-serif; font-size:48px; text-anchor:start;\" transform=\"rotate(0, 2237.26, 584.675)\" x=\"2237.26\" y=\"584.675\">1.0</text>\n</g>\n<polyline clip-path=\"url(#clip2301)\" style=\"stroke:#000000; stroke-width:4; stroke-opacity:1; fill:none\" points=\"\n  2201.26,979.695 2201.26,979.695 2225.26,979.695 2201.26,979.695 2201.26,938.828 2225.26,938.828 2201.26,938.828 2201.26,897.961 2225.26,897.961 2201.26,897.961 \n  2201.26,857.094 2225.26,857.094 2201.26,857.094 2201.26,816.227 2225.26,816.227 2201.26,816.227 2201.26,775.359 2225.26,775.359 2201.26,775.359 2201.26,734.492 \n  2225.26,734.492 2201.26,734.492 2201.26,693.625 2225.26,693.625 2201.26,693.625 2201.26,652.758 2225.26,652.758 2201.26,652.758 2201.26,611.891 2225.26,611.891 \n  2201.26,611.891 2201.26,571.024 2225.26,571.024 2201.26,571.024 \n  \"/>\n<g clip-path=\"url(#clip2301)\">\n<text style=\"fill:#000000; fill-opacity:1; font-family:Arial,Helvetica Neue,Helvetica,sans-serif; font-size:66px; text-anchor:middle;\" transform=\"rotate(-90, 2378.86, 775.359)\" x=\"2378.86\" y=\"775.359\"></text>\n</g>\n</svg>\n"
                     },
                     "type": "node"
                    }
                   ],
                   "instanceArgs": {
                    "namespace": "html",
                    "tag": "div"
                   },
                   "nodeType": "DOM",
                   "props": {
                    "attributes": {
                     "style": "display:flex; justify-content:center; align-items:center;"
                    }
                   },
                   "type": "node"
                  }
                 }
                },
                "systemjs_options": null
               },
               "nodeType": "Scope",
               "props": {},
               "type": "node"
              }
             ],
             "instanceArgs": {
              "namespace": "html",
              "tag": "div"
             },
             "nodeType": "DOM",
             "props": {},
             "type": "node"
            }
           }
          },
          "systemjs_options": null
         },
         "nodeType": "Scope",
         "props": {},
         "type": "node"
        }
       ],
       "instanceArgs": {
        "namespace": "html",
        "tag": "div"
       },
       "nodeType": "DOM",
       "props": {},
       "type": "node"
      },
      "text/html": [
       "<div\n",
       "    class=\"webio-mountpoint\"\n",
       "    data-webio-mountpoint=\"17334929447164201392\"\n",
       ">\n",
       "    <script>\n",
       "    if (window.require && require.defined && require.defined(\"nbextensions/webio/main\")) {\n",
       "        console.log(\"Jupyter WebIO extension detected, not mounting.\");\n",
       "    } else if (window.WebIO) {\n",
       "        WebIO.mount(\n",
       "            document.querySelector('[data-webio-mountpoint=\"17334929447164201392\"]'),\n",
       "            {\"props\":{},\"nodeType\":\"DOM\",\"type\":\"node\",\"instanceArgs\":{\"namespace\":\"html\",\"tag\":\"div\"},\"children\":[{\"props\":{\"className\":\"field\"},\"nodeType\":\"DOM\",\"type\":\"node\",\"instanceArgs\":{\"namespace\":\"html\",\"tag\":\"div\"},\"children\":[{\"props\":{},\"nodeType\":\"Scope\",\"type\":\"node\",\"instanceArgs\":{\"imports\":{\"data\":[{\"name\":\"knockout\",\"type\":\"js\",\"url\":\"\\/assetserver\\/5bdfa0079f8054411755b58d5cbf209816eb3491-knockout.js\"},{\"name\":\"knockout_punches\",\"type\":\"js\",\"url\":\"\\/assetserver\\/855febee65039013a347552d0c4d4111c3742744-knockout_punches.js\"},{\"name\":null,\"type\":\"js\",\"url\":\"\\/assetserver\\/c520edf59e8047fe705fc94922c00f742e98d6ca-all.js\"},{\"name\":null,\"type\":\"css\",\"url\":\"\\/assetserver\\/2e452758e706a09118283eb71a88f2d2c42ad320-style.css\"},{\"name\":null,\"type\":\"css\",\"url\":\"\\/assetserver\\/161e8bbeb8bd5574618f97bdf4a5bbe64bae489f-main.css\"}],\"type\":\"async_block\"},\"id\":\"knockout-component-bd9fdf77-07b8-43ee-96eb-146df2aea29c\",\"handlers\":{\"formatted_vals\":[\"(function (val){return (val!=this.model[\\\"formatted_vals\\\"]()) ? (this.valueFromJulia[\\\"formatted_vals\\\"]=true, this.model[\\\"formatted_vals\\\"](val)) : undefined})\"],\"_promises\":{\"importsLoaded\":[\"function (ko, koPunches) {\\n    ko.punches.enableAll();\\n    ko.bindingHandlers.numericValue = {\\n        init : function(element, valueAccessor, allBindings, data, context) {\\n            var stringified = ko.observable(ko.unwrap(valueAccessor()));\\n            stringified.subscribe(function(value) {\\n                var val = parseFloat(value);\\n                if (!isNaN(val)) {\\n                    valueAccessor()(val);\\n                }\\n            })\\n            valueAccessor().subscribe(function(value) {\\n                var str = JSON.stringify(value);\\n                if ((str == \\\"0\\\") && ([\\\"-0\\\", \\\"-0.\\\"].indexOf(stringified()) >= 0))\\n                     return;\\n                 if ([\\\"null\\\", \\\"\\\"].indexOf(str) >= 0)\\n                     return;\\n                stringified(str);\\n            })\\n            ko.applyBindingsToNode(element, { value: stringified, valueUpdate: allBindings.get('valueUpdate')}, context);\\n        }\\n    };\\n    var json_data = JSON.parse(\\\"{\\\\\\\"formatted_vals\\\\\\\":[\\\\\\\"0.0\\\\\\\",\\\\\\\"1.0\\\\\\\",\\\\\\\"2.0\\\\\\\",\\\\\\\"3.0\\\\\\\",\\\\\\\"4.0\\\\\\\",\\\\\\\"5.0\\\\\\\",\\\\\\\"6.0\\\\\\\",\\\\\\\"7.0\\\\\\\",\\\\\\\"8.0\\\\\\\",\\\\\\\"9.0\\\\\\\",\\\\\\\"10.0\\\\\\\",\\\\\\\"11.0\\\\\\\",\\\\\\\"12.0\\\\\\\",\\\\\\\"13.0\\\\\\\",\\\\\\\"14.0\\\\\\\"],\\\\\\\"changes\\\\\\\":0,\\\\\\\"formatted_value\\\\\\\":\\\\\\\"7.0\\\\\\\",\\\\\\\"index\\\\\\\":8}\\\");\\n    var self = this;\\n    function AppViewModel() {\\n        for (var key in json_data) {\\n            var el = json_data[key];\\n            this[key] = Array.isArray(el) ? ko.observableArray(el) : ko.observable(el);\\n        }\\n        \\n        \\n        [this[\\\"formatted_vals\\\"].subscribe((function (val){!(this.valueFromJulia[\\\"formatted_vals\\\"]) ? (WebIO.setval({\\\"name\\\":\\\"formatted_vals\\\",\\\"scope\\\":\\\"knockout-component-bd9fdf77-07b8-43ee-96eb-146df2aea29c\\\",\\\"id\\\":\\\"ob_63\\\",\\\"type\\\":\\\"observable\\\"},val)) : undefined; return this.valueFromJulia[\\\"formatted_vals\\\"]=false}),self),this[\\\"changes\\\"].subscribe((function (val){!(this.valueFromJulia[\\\"changes\\\"]) ? (WebIO.setval({\\\"name\\\":\\\"changes\\\",\\\"scope\\\":\\\"knockout-component-bd9fdf77-07b8-43ee-96eb-146df2aea29c\\\",\\\"id\\\":\\\"ob_65\\\",\\\"type\\\":\\\"observable\\\"},val)) : undefined; return this.valueFromJulia[\\\"changes\\\"]=false}),self),this[\\\"formatted_value\\\"].subscribe((function (val){!(this.valueFromJulia[\\\"formatted_value\\\"]) ? (WebIO.setval({\\\"name\\\":\\\"formatted_value\\\",\\\"scope\\\":\\\"knockout-component-bd9fdf77-07b8-43ee-96eb-146df2aea29c\\\",\\\"id\\\":\\\"ob_64\\\",\\\"type\\\":\\\"observable\\\"},val)) : undefined; return this.valueFromJulia[\\\"formatted_value\\\"]=false}),self),this[\\\"index\\\"].subscribe((function (val){!(this.valueFromJulia[\\\"index\\\"]) ? (WebIO.setval({\\\"name\\\":\\\"index\\\",\\\"scope\\\":\\\"knockout-component-bd9fdf77-07b8-43ee-96eb-146df2aea29c\\\",\\\"id\\\":\\\"ob_62\\\",\\\"type\\\":\\\"observable\\\"},val)) : undefined; return this.valueFromJulia[\\\"index\\\"]=false}),self)]\\n        \\n    }\\n    self.model = new AppViewModel();\\n    self.valueFromJulia = {};\\n    for (var key in json_data) {\\n        self.valueFromJulia[key] = false;\\n    }\\n    ko.applyBindings(self.model, self.dom);\\n}\\n\"]},\"changes\":[\"(function (val){return (val!=this.model[\\\"changes\\\"]()) ? (this.valueFromJulia[\\\"changes\\\"]=true, this.model[\\\"changes\\\"](val)) : undefined})\"],\"formatted_value\":[\"(function (val){return (val!=this.model[\\\"formatted_value\\\"]()) ? (this.valueFromJulia[\\\"formatted_value\\\"]=true, this.model[\\\"formatted_value\\\"](val)) : undefined})\"],\"index\":[\"(function (val){return (val!=this.model[\\\"index\\\"]()) ? (this.valueFromJulia[\\\"index\\\"]=true, this.model[\\\"index\\\"](val)) : undefined})\",\"(function (val){return WebIO.setval({\\\"name\\\":\\\"formatted_value\\\",\\\"scope\\\":\\\"knockout-component-bd9fdf77-07b8-43ee-96eb-146df2aea29c\\\",\\\"id\\\":\\\"ob_64\\\",\\\"type\\\":\\\"observable\\\"},WebIO.getval({\\\"name\\\":\\\"formatted_vals\\\",\\\"scope\\\":\\\"knockout-component-bd9fdf77-07b8-43ee-96eb-146df2aea29c\\\",\\\"id\\\":\\\"ob_63\\\",\\\"type\\\":\\\"observable\\\"})[(WebIO.getval({\\\"name\\\":\\\"index\\\",\\\"scope\\\":\\\"knockout-component-bd9fdf77-07b8-43ee-96eb-146df2aea29c\\\",\\\"id\\\":\\\"ob_62\\\",\\\"type\\\":\\\"observable\\\"})-1)])})\"]},\"systemjs_options\":null,\"observables\":{\"formatted_vals\":{\"sync\":false,\"id\":\"ob_63\",\"value\":[\"0.0\",\"1.0\",\"2.0\",\"3.0\",\"4.0\",\"5.0\",\"6.0\",\"7.0\",\"8.0\",\"9.0\",\"10.0\",\"11.0\",\"12.0\",\"13.0\",\"14.0\"]},\"changes\":{\"sync\":false,\"id\":\"ob_65\",\"value\":0},\"formatted_value\":{\"sync\":false,\"id\":\"ob_64\",\"value\":\"7.0\"},\"index\":{\"sync\":true,\"id\":\"ob_62\",\"value\":8}}},\"children\":[{\"props\":{\"attributes\":{\"style\":\"display:flex; justify-content:center; align-items:center;\"}},\"nodeType\":\"DOM\",\"type\":\"node\",\"instanceArgs\":{\"namespace\":\"html\",\"tag\":\"div\"},\"children\":[{\"props\":{\"attributes\":{\"style\":\"text-align:right;width:18%\"}},\"nodeType\":\"DOM\",\"type\":\"node\",\"instanceArgs\":{\"namespace\":\"html\",\"tag\":\"div\"},\"children\":[{\"props\":{\"className\":\"interact \",\"style\":{\"padding\":\"5px 10px 0px 10px\"}},\"nodeType\":\"DOM\",\"type\":\"node\",\"instanceArgs\":{\"namespace\":\"html\",\"tag\":\"label\"},\"children\":[\"ego_v\"]}]},{\"props\":{\"attributes\":{\"style\":\"flex-grow:1; margin: 0 2%\"}},\"nodeType\":\"DOM\",\"type\":\"node\",\"instanceArgs\":{\"namespace\":\"html\",\"tag\":\"div\"},\"children\":[{\"props\":{\"max\":15,\"min\":1,\"attributes\":{\"type\":\"range\",\"data-bind\":\"numericValue: index, valueUpdate: 'input', event: {change : function () {this.changes(this.changes()+1)}}\",\"orient\":\"horizontal\"},\"step\":1,\"className\":\"slider slider is-fullwidth\",\"style\":{}},\"nodeType\":\"DOM\",\"type\":\"node\",\"instanceArgs\":{\"namespace\":\"html\",\"tag\":\"input\"},\"children\":[]}]},{\"props\":{\"attributes\":{\"style\":\"width:18%\"}},\"nodeType\":\"DOM\",\"type\":\"node\",\"instanceArgs\":{\"namespace\":\"html\",\"tag\":\"div\"},\"children\":[{\"props\":{\"attributes\":{\"data-bind\":\"text: formatted_value\"}},\"nodeType\":\"DOM\",\"type\":\"node\",\"instanceArgs\":{\"namespace\":\"html\",\"tag\":\"p\"},\"children\":[]}]}]}]}]},{\"props\":{},\"nodeType\":\"Scope\",\"type\":\"node\",\"instanceArgs\":{\"imports\":{\"data\":[],\"type\":\"async_block\"},\"id\":\"scope-5d54bac1-0f73-47a9-ab48-7d631d99ea39\",\"handlers\":{},\"systemjs_options\":null,\"observables\":{\"obs-scope\":{\"sync\":false,\"id\":\"ob_75\",\"value\":{\"props\":{},\"nodeType\":\"DOM\",\"type\":\"node\",\"instanceArgs\":{\"namespace\":\"html\",\"tag\":\"div\"},\"children\":[{\"props\":{\"className\":\"field\"},\"nodeType\":\"DOM\",\"type\":\"node\",\"instanceArgs\":{\"namespace\":\"html\",\"tag\":\"div\"},\"children\":[{\"props\":{},\"nodeType\":\"Scope\",\"type\":\"node\",\"instanceArgs\":{\"imports\":{\"data\":[{\"name\":\"knockout\",\"type\":\"js\",\"url\":\"\\/assetserver\\/5bdfa0079f8054411755b58d5cbf209816eb3491-knockout.js\"},{\"name\":\"knockout_punches\",\"type\":\"js\",\"url\":\"\\/assetserver\\/855febee65039013a347552d0c4d4111c3742744-knockout_punches.js\"},{\"name\":null,\"type\":\"js\",\"url\":\"\\/assetserver\\/c520edf59e8047fe705fc94922c00f742e98d6ca-all.js\"},{\"name\":null,\"type\":\"css\",\"url\":\"\\/assetserver\\/2e452758e706a09118283eb71a88f2d2c42ad320-style.css\"},{\"name\":null,\"type\":\"css\",\"url\":\"\\/assetserver\\/161e8bbeb8bd5574618f97bdf4a5bbe64bae489f-main.css\"}],\"type\":\"async_block\"},\"id\":\"knockout-component-459bd9ee-fabf-41e6-b905-e44fbc794d58\",\"handlers\":{\"formatted_vals\":[\"(function (val){return (val!=this.model[\\\"formatted_vals\\\"]()) ? (this.valueFromJulia[\\\"formatted_vals\\\"]=true, this.model[\\\"formatted_vals\\\"](val)) : undefined})\"],\"_promises\":{\"importsLoaded\":[\"function (ko, koPunches) {\\n    ko.punches.enableAll();\\n    ko.bindingHandlers.numericValue = {\\n        init : function(element, valueAccessor, allBindings, data, context) {\\n            var stringified = ko.observable(ko.unwrap(valueAccessor()));\\n            stringified.subscribe(function(value) {\\n                var val = parseFloat(value);\\n                if (!isNaN(val)) {\\n                    valueAccessor()(val);\\n                }\\n            })\\n            valueAccessor().subscribe(function(value) {\\n                var str = JSON.stringify(value);\\n                if ((str == \\\"0\\\") && ([\\\"-0\\\", \\\"-0.\\\"].indexOf(stringified()) >= 0))\\n                     return;\\n                 if ([\\\"null\\\", \\\"\\\"].indexOf(str) >= 0)\\n                     return;\\n                stringified(str);\\n            })\\n            ko.applyBindingsToNode(element, { value: stringified, valueUpdate: allBindings.get('valueUpdate')}, context);\\n        }\\n    };\\n    var json_data = JSON.parse(\\\"{\\\\\\\"formatted_vals\\\\\\\":[\\\\\\\"0.0\\\\\\\",\\\\\\\"0.5\\\\\\\",\\\\\\\"1.0\\\\\\\",\\\\\\\"1.5\\\\\\\",\\\\\\\"2.0\\\\\\\"],\\\\\\\"changes\\\\\\\":0,\\\\\\\"formatted_value\\\\\\\":\\\\\\\"1.0\\\\\\\",\\\\\\\"index\\\\\\\":3}\\\");\\n    var self = this;\\n    function AppViewModel() {\\n        for (var key in json_data) {\\n            var el = json_data[key];\\n            this[key] = Array.isArray(el) ? ko.observableArray(el) : ko.observable(el);\\n        }\\n        \\n        \\n        [this[\\\"formatted_vals\\\"].subscribe((function (val){!(this.valueFromJulia[\\\"formatted_vals\\\"]) ? (WebIO.setval({\\\"name\\\":\\\"formatted_vals\\\",\\\"scope\\\":\\\"knockout-component-459bd9ee-fabf-41e6-b905-e44fbc794d58\\\",\\\"id\\\":\\\"ob_68\\\",\\\"type\\\":\\\"observable\\\"},val)) : undefined; return this.valueFromJulia[\\\"formatted_vals\\\"]=false}),self),this[\\\"changes\\\"].subscribe((function (val){!(this.valueFromJulia[\\\"changes\\\"]) ? (WebIO.setval({\\\"name\\\":\\\"changes\\\",\\\"scope\\\":\\\"knockout-component-459bd9ee-fabf-41e6-b905-e44fbc794d58\\\",\\\"id\\\":\\\"ob_70\\\",\\\"type\\\":\\\"observable\\\"},val)) : undefined; return this.valueFromJulia[\\\"changes\\\"]=false}),self),this[\\\"formatted_value\\\"].subscribe((function (val){!(this.valueFromJulia[\\\"formatted_value\\\"]) ? (WebIO.setval({\\\"name\\\":\\\"formatted_value\\\",\\\"scope\\\":\\\"knockout-component-459bd9ee-fabf-41e6-b905-e44fbc794d58\\\",\\\"id\\\":\\\"ob_69\\\",\\\"type\\\":\\\"observable\\\"},val)) : undefined; return this.valueFromJulia[\\\"formatted_value\\\"]=false}),self),this[\\\"index\\\"].subscribe((function (val){!(this.valueFromJulia[\\\"index\\\"]) ? (WebIO.setval({\\\"name\\\":\\\"index\\\",\\\"scope\\\":\\\"knockout-component-459bd9ee-fabf-41e6-b905-e44fbc794d58\\\",\\\"id\\\":\\\"ob_67\\\",\\\"type\\\":\\\"observable\\\"},val)) : undefined; return this.valueFromJulia[\\\"index\\\"]=false}),self)]\\n        \\n    }\\n    self.model = new AppViewModel();\\n    self.valueFromJulia = {};\\n    for (var key in json_data) {\\n        self.valueFromJulia[key] = false;\\n    }\\n    ko.applyBindings(self.model, self.dom);\\n}\\n\"]},\"changes\":[\"(function (val){return (val!=this.model[\\\"changes\\\"]()) ? (this.valueFromJulia[\\\"changes\\\"]=true, this.model[\\\"changes\\\"](val)) : undefined})\"],\"formatted_value\":[\"(function (val){return (val!=this.model[\\\"formatted_value\\\"]()) ? (this.valueFromJulia[\\\"formatted_value\\\"]=true, this.model[\\\"formatted_value\\\"](val)) : undefined})\"],\"index\":[\"(function (val){return (val!=this.model[\\\"index\\\"]()) ? (this.valueFromJulia[\\\"index\\\"]=true, this.model[\\\"index\\\"](val)) : undefined})\",\"(function (val){return WebIO.setval({\\\"name\\\":\\\"formatted_value\\\",\\\"scope\\\":\\\"knockout-component-459bd9ee-fabf-41e6-b905-e44fbc794d58\\\",\\\"id\\\":\\\"ob_69\\\",\\\"type\\\":\\\"observable\\\"},WebIO.getval({\\\"name\\\":\\\"formatted_vals\\\",\\\"scope\\\":\\\"knockout-component-459bd9ee-fabf-41e6-b905-e44fbc794d58\\\",\\\"id\\\":\\\"ob_68\\\",\\\"type\\\":\\\"observable\\\"})[(WebIO.getval({\\\"name\\\":\\\"index\\\",\\\"scope\\\":\\\"knockout-component-459bd9ee-fabf-41e6-b905-e44fbc794d58\\\",\\\"id\\\":\\\"ob_67\\\",\\\"type\\\":\\\"observable\\\"})-1)])})\"]},\"systemjs_options\":null,\"observables\":{\"formatted_vals\":{\"sync\":false,\"id\":\"ob_68\",\"value\":[\"0.0\",\"0.5\",\"1.0\",\"1.5\",\"2.0\"]},\"changes\":{\"sync\":false,\"id\":\"ob_70\",\"value\":0},\"formatted_value\":{\"sync\":false,\"id\":\"ob_69\",\"value\":\"1.0\"},\"index\":{\"sync\":true,\"id\":\"ob_67\",\"value\":3}}},\"children\":[{\"props\":{\"attributes\":{\"style\":\"display:flex; justify-content:center; align-items:center;\"}},\"nodeType\":\"DOM\",\"type\":\"node\",\"instanceArgs\":{\"namespace\":\"html\",\"tag\":\"div\"},\"children\":[{\"props\":{\"attributes\":{\"style\":\"text-align:right;width:18%\"}},\"nodeType\":\"DOM\",\"type\":\"node\",\"instanceArgs\":{\"namespace\":\"html\",\"tag\":\"div\"},\"children\":[{\"props\":{\"className\":\"interact \",\"style\":{\"padding\":\"5px 10px 0px 10px\"}},\"nodeType\":\"DOM\",\"type\":\"node\",\"instanceArgs\":{\"namespace\":\"html\",\"tag\":\"label\"},\"children\":[\"ped_v\"]}]},{\"props\":{\"attributes\":{\"style\":\"flex-grow:1; margin: 0 2%\"}},\"nodeType\":\"DOM\",\"type\":\"node\",\"instanceArgs\":{\"namespace\":\"html\",\"tag\":\"div\"},\"children\":[{\"props\":{\"max\":5,\"min\":1,\"attributes\":{\"type\":\"range\",\"data-bind\":\"numericValue: index, valueUpdate: 'input', event: {change : function () {this.changes(this.changes()+1)}}\",\"orient\":\"horizontal\"},\"step\":1,\"className\":\"slider slider is-fullwidth\",\"style\":{}},\"nodeType\":\"DOM\",\"type\":\"node\",\"instanceArgs\":{\"namespace\":\"html\",\"tag\":\"input\"},\"children\":[]}]},{\"props\":{\"attributes\":{\"style\":\"width:18%\"}},\"nodeType\":\"DOM\",\"type\":\"node\",\"instanceArgs\":{\"namespace\":\"html\",\"tag\":\"div\"},\"children\":[{\"props\":{\"attributes\":{\"data-bind\":\"text: formatted_value\"}},\"nodeType\":\"DOM\",\"type\":\"node\",\"instanceArgs\":{\"namespace\":\"html\",\"tag\":\"p\"},\"children\":[]}]}]}]}]},{\"props\":{},\"nodeType\":\"Scope\",\"type\":\"node\",\"instanceArgs\":{\"imports\":{\"data\":[],\"type\":\"async_block\"},\"id\":\"scope-53b12e20-4b73-4010-840f-1bcea1d00158\",\"handlers\":{},\"systemjs_options\":null,\"observables\":{\"obs-node\":{\"sync\":false,\"id\":\"ob_76\",\"value\":{\"props\":{\"attributes\":{\"style\":\"display:flex; justify-content:center; align-items:center;\"}},\"nodeType\":\"DOM\",\"type\":\"node\",\"instanceArgs\":{\"namespace\":\"html\",\"tag\":\"div\"},\"children\":[{\"props\":{\"setInnerHtml\":\"<?xml version=\\\"1.0\\\" encoding=\\\"utf-8\\\"?>\\n<svg xmlns=\\\"http:\\/\\/www.w3.org\\/2000\\/svg\\\" xmlns:xlink=\\\"http:\\/\\/www.w3.org\\/1999\\/xlink\\\" width=\\\"600\\\" height=\\\"400\\\" viewBox=\\\"0 0 2400 1600\\\">\\n<defs>\\n  <clipPath id=\\\"clip2100\\\">\\n    <rect x=\\\"0\\\" y=\\\"0\\\" width=\\\"2000\\\" height=\\\"2000\\\"\\/>\\n  <\\/clipPath>\\n<\\/defs>\\n<defs>\\n  <clipPath id=\\\"clip2101\\\">\\n    <rect x=\\\"0\\\" y=\\\"0\\\" width=\\\"2400\\\" height=\\\"1600\\\"\\/>\\n  <\\/clipPath>\\n<\\/defs>\\n<polygon clip-path=\\\"url(#clip2101)\\\" points=\\\"\\n0,1600 2400,1600 2400,0 0,0 \\n  \\\" fill=\\\"#ffffff\\\" fill-opacity=\\\"1\\\"\\/>\\n<defs>\\n  <clipPath id=\\\"clip2102\\\">\\n    <rect x=\\\"480\\\" y=\\\"0\\\" width=\\\"1681\\\" height=\\\"1600\\\"\\/>\\n  <\\/clipPath>\\n<\\/defs>\\n<polygon clip-path=\\\"url(#clip2101)\\\" points=\\\"\\n149.361,979.695 2081.26,979.695 2081.26,571.024 149.361,571.024 \\n  \\\" fill=\\\"#ffffff\\\" fill-opacity=\\\"1\\\"\\/>\\n<defs>\\n  <clipPath id=\\\"clip2103\\\">\\n    <rect x=\\\"149\\\" y=\\\"571\\\" width=\\\"1933\\\" height=\\\"410\\\"\\/>\\n  <\\/clipPath>\\n<\\/defs>\\n<polyline clip-path=\\\"url(#clip2103)\\\" style=\\\"stroke:#000000; stroke-width:2; stroke-opacity:0.1; fill:none\\\" points=\\\"\\n  186.513,979.695 186.513,571.024 \\n  \\\"\\/>\\n<polyline clip-path=\\\"url(#clip2103)\\\" style=\\\"stroke:#000000; stroke-width:2; stroke-opacity:0.1; fill:none\\\" points=\\\"\\n  558.032,979.695 558.032,571.024 \\n  \\\"\\/>\\n<polyline clip-path=\\\"url(#clip2103)\\\" style=\\\"stroke:#000000; stroke-width:2; stroke-opacity:0.1; fill:none\\\" points=\\\"\\n  929.551,979.695 929.551,571.024 \\n  \\\"\\/>\\n<polyline clip-path=\\\"url(#clip2103)\\\" style=\\\"stroke:#000000; stroke-width:2; stroke-opacity:0.1; fill:none\\\" points=\\\"\\n  1301.07,979.695 1301.07,571.024 \\n  \\\"\\/>\\n<polyline clip-path=\\\"url(#clip2103)\\\" style=\\\"stroke:#000000; stroke-width:2; stroke-opacity:0.1; fill:none\\\" points=\\\"\\n  1672.59,979.695 1672.59,571.024 \\n  \\\"\\/>\\n<polyline clip-path=\\\"url(#clip2103)\\\" style=\\\"stroke:#000000; stroke-width:2; stroke-opacity:0.1; fill:none\\\" points=\\\"\\n  2044.11,979.695 2044.11,571.024 \\n  \\\"\\/>\\n<polyline clip-path=\\\"url(#clip2103)\\\" style=\\\"stroke:#000000; stroke-width:2; stroke-opacity:0.1; fill:none\\\" points=\\\"\\n  149.361,923.967 2081.26,923.967 \\n  \\\"\\/>\\n<polyline clip-path=\\\"url(#clip2103)\\\" style=\\\"stroke:#000000; stroke-width:2; stroke-opacity:0.1; fill:none\\\" points=\\\"\\n  149.361,849.663 2081.26,849.663 \\n  \\\"\\/>\\n<polyline clip-path=\\\"url(#clip2103)\\\" style=\\\"stroke:#000000; stroke-width:2; stroke-opacity:0.1; fill:none\\\" points=\\\"\\n  149.361,775.359 2081.26,775.359 \\n  \\\"\\/>\\n<polyline clip-path=\\\"url(#clip2103)\\\" style=\\\"stroke:#000000; stroke-width:2; stroke-opacity:0.1; fill:none\\\" points=\\\"\\n  149.361,701.056 2081.26,701.056 \\n  \\\"\\/>\\n<polyline clip-path=\\\"url(#clip2103)\\\" style=\\\"stroke:#000000; stroke-width:2; stroke-opacity:0.1; fill:none\\\" points=\\\"\\n  149.361,626.752 2081.26,626.752 \\n  \\\"\\/>\\n<polyline clip-path=\\\"url(#clip2101)\\\" style=\\\"stroke:#000000; stroke-width:4; stroke-opacity:1; fill:none\\\" points=\\\"\\n  149.361,979.695 2081.26,979.695 \\n  \\\"\\/>\\n<polyline clip-path=\\\"url(#clip2101)\\\" style=\\\"stroke:#000000; stroke-width:4; stroke-opacity:1; fill:none\\\" points=\\\"\\n  149.361,979.695 149.361,571.024 \\n  \\\"\\/>\\n<polyline clip-path=\\\"url(#clip2101)\\\" style=\\\"stroke:#000000; stroke-width:4; stroke-opacity:1; fill:none\\\" points=\\\"\\n  186.513,979.695 186.513,973.565 \\n  \\\"\\/>\\n<polyline clip-path=\\\"url(#clip2101)\\\" style=\\\"stroke:#000000; stroke-width:4; stroke-opacity:1; fill:none\\\" points=\\\"\\n  558.032,979.695 558.032,973.565 \\n  \\\"\\/>\\n<polyline clip-path=\\\"url(#clip2101)\\\" style=\\\"stroke:#000000; stroke-width:4; stroke-opacity:1; fill:none\\\" points=\\\"\\n  929.551,979.695 929.551,973.565 \\n  \\\"\\/>\\n<polyline clip-path=\\\"url(#clip2101)\\\" style=\\\"stroke:#000000; stroke-width:4; stroke-opacity:1; fill:none\\\" points=\\\"\\n  1301.07,979.695 1301.07,973.565 \\n  \\\"\\/>\\n<polyline clip-path=\\\"url(#clip2101)\\\" style=\\\"stroke:#000000; stroke-width:4; stroke-opacity:1; fill:none\\\" points=\\\"\\n  1672.59,979.695 1672.59,973.565 \\n  \\\"\\/>\\n<polyline clip-path=\\\"url(#clip2101)\\\" style=\\\"stroke:#000000; stroke-width:4; stroke-opacity:1; fill:none\\\" points=\\\"\\n  2044.11,979.695 2044.11,973.565 \\n  \\\"\\/>\\n<polyline clip-path=\\\"url(#clip2101)\\\" style=\\\"stroke:#000000; stroke-width:4; stroke-opacity:1; fill:none\\\" points=\\\"\\n  149.361,923.967 178.339,923.967 \\n  \\\"\\/>\\n<polyline clip-path=\\\"url(#clip2101)\\\" style=\\\"stroke:#000000; stroke-width:4; stroke-opacity:1; fill:none\\\" points=\\\"\\n  149.361,849.663 178.339,849.663 \\n  \\\"\\/>\\n<polyline clip-path=\\\"url(#clip2101)\\\" style=\\\"stroke:#000000; stroke-width:4; stroke-opacity:1; fill:none\\\" points=\\\"\\n  149.361,775.359 178.339,775.359 \\n  \\\"\\/>\\n<polyline clip-path=\\\"url(#clip2101)\\\" style=\\\"stroke:#000000; stroke-width:4; stroke-opacity:1; fill:none\\\" points=\\\"\\n  149.361,701.056 178.339,701.056 \\n  \\\"\\/>\\n<polyline clip-path=\\\"url(#clip2101)\\\" style=\\\"stroke:#000000; stroke-width:4; stroke-opacity:1; fill:none\\\" points=\\\"\\n  149.361,626.752 178.339,626.752 \\n  \\\"\\/>\\n<g clip-path=\\\"url(#clip2101)\\\">\\n<text style=\\\"fill:#000000; fill-opacity:1; font-family:Arial,Helvetica Neue,Helvetica,sans-serif; font-size:48px; text-anchor:middle;\\\" transform=\\\"rotate(0, 186.513, 1033.69)\\\" x=\\\"186.513\\\" y=\\\"1033.69\\\">0<\\/text>\\n<\\/g>\\n<g clip-path=\\\"url(#clip2101)\\\">\\n<text style=\\\"fill:#000000; fill-opacity:1; font-family:Arial,Helvetica Neue,Helvetica,sans-serif; font-size:48px; text-anchor:middle;\\\" transform=\\\"rotate(0, 558.032, 1033.69)\\\" x=\\\"558.032\\\" y=\\\"1033.69\\\">10<\\/text>\\n<\\/g>\\n<g clip-path=\\\"url(#clip2101)\\\">\\n<text style=\\\"fill:#000000; fill-opacity:1; font-family:Arial,Helvetica Neue,Helvetica,sans-serif; font-size:48px; text-anchor:middle;\\\" transform=\\\"rotate(0, 929.551, 1033.69)\\\" x=\\\"929.551\\\" y=\\\"1033.69\\\">20<\\/text>\\n<\\/g>\\n<g clip-path=\\\"url(#clip2101)\\\">\\n<text style=\\\"fill:#000000; fill-opacity:1; font-family:Arial,Helvetica Neue,Helvetica,sans-serif; font-size:48px; text-anchor:middle;\\\" transform=\\\"rotate(0, 1301.07, 1033.69)\\\" x=\\\"1301.07\\\" y=\\\"1033.69\\\">30<\\/text>\\n<\\/g>\\n<g clip-path=\\\"url(#clip2101)\\\">\\n<text style=\\\"fill:#000000; fill-opacity:1; font-family:Arial,Helvetica Neue,Helvetica,sans-serif; font-size:48px; text-anchor:middle;\\\" transform=\\\"rotate(0, 1672.59, 1033.69)\\\" x=\\\"1672.59\\\" y=\\\"1033.69\\\">40<\\/text>\\n<\\/g>\\n<g clip-path=\\\"url(#clip2101)\\\">\\n<text style=\\\"fill:#000000; fill-opacity:1; font-family:Arial,Helvetica Neue,Helvetica,sans-serif; font-size:48px; text-anchor:middle;\\\" transform=\\\"rotate(0, 2044.11, 1033.69)\\\" x=\\\"2044.11\\\" y=\\\"1033.69\\\">50<\\/text>\\n<\\/g>\\n<g clip-path=\\\"url(#clip2101)\\\">\\n<text style=\\\"fill:#000000; fill-opacity:1; font-family:Arial,Helvetica Neue,Helvetica,sans-serif; font-size:48px; text-anchor:end;\\\" transform=\\\"rotate(0, 125.361, 941.467)\\\" x=\\\"125.361\\\" y=\\\"941.467\\\">-4<\\/text>\\n<\\/g>\\n<g clip-path=\\\"url(#clip2101)\\\">\\n<text style=\\\"fill:#000000; fill-opacity:1; font-family:Arial,Helvetica Neue,Helvetica,sans-serif; font-size:48px; text-anchor:end;\\\" transform=\\\"rotate(0, 125.361, 867.163)\\\" x=\\\"125.361\\\" y=\\\"867.163\\\">-2<\\/text>\\n<\\/g>\\n<g clip-path=\\\"url(#clip2101)\\\">\\n<text style=\\\"fill:#000000; fill-opacity:1; font-family:Arial,Helvetica Neue,Helvetica,sans-serif; font-size:48px; text-anchor:end;\\\" transform=\\\"rotate(0, 125.361, 792.859)\\\" x=\\\"125.361\\\" y=\\\"792.859\\\">0<\\/text>\\n<\\/g>\\n<g clip-path=\\\"url(#clip2101)\\\">\\n<text style=\\\"fill:#000000; fill-opacity:1; font-family:Arial,Helvetica Neue,Helvetica,sans-serif; font-size:48px; text-anchor:end;\\\" transform=\\\"rotate(0, 125.361, 718.556)\\\" x=\\\"125.361\\\" y=\\\"718.556\\\">2<\\/text>\\n<\\/g>\\n<g clip-path=\\\"url(#clip2101)\\\">\\n<text style=\\\"fill:#000000; fill-opacity:1; font-family:Arial,Helvetica Neue,Helvetica,sans-serif; font-size:48px; text-anchor:end;\\\" transform=\\\"rotate(0, 125.361, 644.252)\\\" x=\\\"125.361\\\" y=\\\"644.252\\\">4<\\/text>\\n<\\/g>\\n<g clip-path=\\\"url(#clip2103)\\\">\\n<image width=\\\"1932\\\" height=\\\"409\\\" xlink:href=\\\"data:image\\/png;base64,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\\nQmCC\\n\\\" transform=\\\"translate(149, 571)\\\"\\/>\\n<\\/g>\\n<defs>\\n  <clipPath id=\\\"clip2104\\\">\\n    <rect x=\\\"2129\\\" y=\\\"571\\\" width=\\\"73\\\" height=\\\"410\\\"\\/>\\n  <\\/clipPath>\\n<\\/defs>\\n<g clip-path=\\\"url(#clip2104)\\\">\\n<image width=\\\"72\\\" height=\\\"409\\\" xlink:href=\\\"data:image\\/png;base64,\\niVBORw0KGgoAAAANSUhEUgAAAEgAAAGZCAYAAAAq+Hd5AAAEOUlEQVR4nO3dwbEjNwxAQcqF\\/KNw\\nlvaSjsB4R+nQHYGKhYfhSL92P\\/\\/ev9\\/hf\\/317Q\\/w6+a+f7\\/9GX6aCQrzTNBq3nVAG4kFiQUHFCQW\\nTFAwQcFjPkgsSCyYoDDHDlpJLJigYILCHEt6JbEgsWCCwpz7z7c\\/w0+TWPAUCyYoWNLBAQWJhfm8\\nP9\\/+DD9tznVAG4mF+ZiglQkKdlCY4ym2kliwpIMdFCQWJBZMULCDwnzu\\/fZn+GkSCxILDihILLgH\\nBRMU5njMryQWJBY85oMDChILXlaDCQruQcGSDhILEgsOKEgsuAcFExQ85oMlHSQWTFBwQEFiYc71\\nD3FuTFCY8+ygjSUdJBYs6SCxILFggoIJCpZ0kFiQWJhjgFYOKEgsjJf5nQkKdlBwQEFiwQSFOV7F\\nVhIL8+7n25\\/hp5mgYEmHORJbSSzMeyZoI7EgsWCCggkKlnSQWJBYmHOd0cYOCsYnWNLBBAXfKIY5\\nzxBtnE6QWHBAQWLBq0ZwOsG7WPCqESQW5lnSKzsoGJ9gSQcTFCzpYEkH4xN83RHm+cp15XSCe1Cw\\ng4LEgntQMEHBq0aQWDA+wWM+SCxILHiKBacT7KDgKRYkFiQWPMWC0wkSCyYomKDggILEgpt0mOun\\n55XTCZZ0MEHBkg4SCxILJig4oCCxYIKCCQpzTdBKYkFiwQQFBxQkFkxQMEHBBAUXxSCxILHggILE\\ngl9Wg9MJdlBwDwoSCxILEgsSCxILJiiYoGBJB4mFeccEbSQWJBY8xYIJCnP9d+oriQWJBY\\/5MNdF\\ncSWxYEkHExQs6SCxILEw99uf4MdJLEgseIoFExR8aR8kFiQWfOUa7KAgseAmHUxQ8LIaJBYkFiQW\\nJBYkFrysBhMUxrvqTmJBYkFiQWJBYkFiwQQFOyj4VSNILPjZJ0gsSCz4S\\/tggsI8O2jlohgkFrys\\nBvegILHgHhRMUHAPCv66I0gsuEkHOyhILFjSwQQFOyh41QgSC77uCL4wCxILEgsOKEgs+OuOYIKC\\nHRTcg4LEgsSCAwoSC5Z0MEHBDgp+1QgSC37VCHZQkFhwDwomKNhBYd5xQhuJBYkFT7EgsSCxYIKC\\nHRQkFiQWfB8U5nrVWEksSCyYoGAHBb+LBYmFebb0SmJBYsHLajBBwc8+QWJBYsGrRrCDgsSCxIIJ\\nCiYozPU2v5JY8JgPdlCQWDBBwQQFExTmHV\\/bbyQWJBbmfiS2kViYa0mvTFAwQcE9KEgszP24B23s\\noCCxYIKCCQoe82Hu+fPtz\\/DTJBYs6TBPYiuJBYkFExRMULCkg8SCxILEgsSCt\\/lggsLcZ4I2EgsS\\nC\\/MktpJYkFhwkw4mKLgHBUs6SCy4BwVPsSCxILFggoLHfJBYkFjwmA8SCxILnmLBBIV5z5LeSCxI\\nLMzxL1Ct5khsJbHgJh1MULCDgntQkFiYY0mvJBYkFjzFwn\\/5tuhBT8Q\\/GAAAAABJRU5ErkJggg==\\n\\\" transform=\\\"translate(2129, 571)\\\"\\/>\\n<\\/g>\\n<g clip-path=\\\"url(#clip2101)\\\">\\n<text style=\\\"fill:#000000; fill-opacity:1; font-family:Arial,Helvetica Neue,Helvetica,sans-serif; font-size:48px; text-anchor:start;\\\" transform=\\\"rotate(0, 2237.26, 993.346)\\\" x=\\\"2237.26\\\" y=\\\"993.346\\\">0<\\/text>\\n<\\/g>\\n<g clip-path=\\\"url(#clip2101)\\\">\\n<text style=\\\"fill:#000000; fill-opacity:1; font-family:Arial,Helvetica Neue,Helvetica,sans-serif; font-size:48px; text-anchor:start;\\\" transform=\\\"rotate(0, 2237.26, 952.479)\\\" x=\\\"2237.26\\\" y=\\\"952.479\\\">0.1<\\/text>\\n<\\/g>\\n<g clip-path=\\\"url(#clip2101)\\\">\\n<text style=\\\"fill:#000000; fill-opacity:1; font-family:Arial,Helvetica Neue,Helvetica,sans-serif; font-size:48px; text-anchor:start;\\\" transform=\\\"rotate(0, 2237.26, 911.612)\\\" x=\\\"2237.26\\\" y=\\\"911.612\\\">0.2<\\/text>\\n<\\/g>\\n<g clip-path=\\\"url(#clip2101)\\\">\\n<text style=\\\"fill:#000000; fill-opacity:1; font-family:Arial,Helvetica Neue,Helvetica,sans-serif; font-size:48px; text-anchor:start;\\\" transform=\\\"rotate(0, 2237.26, 870.745)\\\" x=\\\"2237.26\\\" y=\\\"870.745\\\">0.3<\\/text>\\n<\\/g>\\n<g clip-path=\\\"url(#clip2101)\\\">\\n<text style=\\\"fill:#000000; fill-opacity:1; font-family:Arial,Helvetica Neue,Helvetica,sans-serif; font-size:48px; text-anchor:start;\\\" transform=\\\"rotate(0, 2237.26, 829.878)\\\" x=\\\"2237.26\\\" y=\\\"829.878\\\">0.4<\\/text>\\n<\\/g>\\n<g clip-path=\\\"url(#clip2101)\\\">\\n<text style=\\\"fill:#000000; fill-opacity:1; font-family:Arial,Helvetica Neue,Helvetica,sans-serif; font-size:48px; text-anchor:start;\\\" transform=\\\"rotate(0, 2237.26, 789.011)\\\" x=\\\"2237.26\\\" y=\\\"789.011\\\">0.5<\\/text>\\n<\\/g>\\n<g clip-path=\\\"url(#clip2101)\\\">\\n<text style=\\\"fill:#000000; fill-opacity:1; font-family:Arial,Helvetica Neue,Helvetica,sans-serif; font-size:48px; text-anchor:start;\\\" transform=\\\"rotate(0, 2237.26, 748.144)\\\" x=\\\"2237.26\\\" y=\\\"748.144\\\">0.6<\\/text>\\n<\\/g>\\n<g clip-path=\\\"url(#clip2101)\\\">\\n<text style=\\\"fill:#000000; fill-opacity:1; font-family:Arial,Helvetica Neue,Helvetica,sans-serif; font-size:48px; text-anchor:start;\\\" transform=\\\"rotate(0, 2237.26, 707.276)\\\" x=\\\"2237.26\\\" y=\\\"707.276\\\">0.7<\\/text>\\n<\\/g>\\n<g clip-path=\\\"url(#clip2101)\\\">\\n<text style=\\\"fill:#000000; fill-opacity:1; font-family:Arial,Helvetica Neue,Helvetica,sans-serif; font-size:48px; text-anchor:start;\\\" transform=\\\"rotate(0, 2237.26, 666.409)\\\" x=\\\"2237.26\\\" y=\\\"666.409\\\">0.8<\\/text>\\n<\\/g>\\n<g clip-path=\\\"url(#clip2101)\\\">\\n<text style=\\\"fill:#000000; fill-opacity:1; font-family:Arial,Helvetica Neue,Helvetica,sans-serif; font-size:48px; text-anchor:start;\\\" transform=\\\"rotate(0, 2237.26, 625.542)\\\" x=\\\"2237.26\\\" y=\\\"625.542\\\">0.9<\\/text>\\n<\\/g>\\n<g clip-path=\\\"url(#clip2101)\\\">\\n<text style=\\\"fill:#000000; fill-opacity:1; font-family:Arial,Helvetica Neue,Helvetica,sans-serif; font-size:48px; text-anchor:start;\\\" transform=\\\"rotate(0, 2237.26, 584.675)\\\" x=\\\"2237.26\\\" y=\\\"584.675\\\">1.0<\\/text>\\n<\\/g>\\n<polyline clip-path=\\\"url(#clip2101)\\\" style=\\\"stroke:#000000; stroke-width:4; stroke-opacity:1; fill:none\\\" points=\\\"\\n  2201.26,979.695 2201.26,979.695 2225.26,979.695 2201.26,979.695 2201.26,938.828 2225.26,938.828 2201.26,938.828 2201.26,897.961 2225.26,897.961 2201.26,897.961 \\n  2201.26,857.094 2225.26,857.094 2201.26,857.094 2201.26,816.227 2225.26,816.227 2201.26,816.227 2201.26,775.359 2225.26,775.359 2201.26,775.359 2201.26,734.492 \\n  2225.26,734.492 2201.26,734.492 2201.26,693.625 2225.26,693.625 2201.26,693.625 2201.26,652.758 2225.26,652.758 2201.26,652.758 2201.26,611.891 2225.26,611.891 \\n  2201.26,611.891 2201.26,571.024 2225.26,571.024 2201.26,571.024 \\n  \\\"\\/>\\n<g clip-path=\\\"url(#clip2101)\\\">\\n<text style=\\\"fill:#000000; fill-opacity:1; font-family:Arial,Helvetica Neue,Helvetica,sans-serif; font-size:66px; text-anchor:middle;\\\" transform=\\\"rotate(-90, 2378.86, 775.359)\\\" x=\\\"2378.86\\\" y=\\\"775.359\\\"><\\/text>\\n<\\/g>\\n<\\/svg>\\n\"},\"nodeType\":\"DOM\",\"type\":\"node\",\"instanceArgs\":{\"namespace\":\"html\",\"tag\":\"div\"},\"children\":[]}]}}}},\"children\":[{\"props\":{},\"nodeType\":\"ObservableNode\",\"type\":\"node\",\"instanceArgs\":{\"id\":\"ob_76\",\"name\":\"obs-node\"},\"children\":[]}]}]}}}},\"children\":[{\"props\":{},\"nodeType\":\"ObservableNode\",\"type\":\"node\",\"instanceArgs\":{\"id\":\"ob_75\",\"name\":\"obs-scope\"},\"children\":[]}]}]},\n",
       "        );\n",
       "    } else {\n",
       "        document\n",
       "            .querySelector('[data-webio-mountpoint=\"17334929447164201392\"]')\n",
       "            .innerHTML = '<strong>WebIO not detected.</strong>';\n",
       "    }\n",
       "    </script>\n",
       "</div>\n"
      ],
      "text/plain": [
       "Widget{:manipulate,Any}(OrderedDict{Symbol,Any}(:ego_v=>Widget{:slider,Float64}(OrderedDict{Symbol,Any}(:changes=>Observable{Int64} with 1 listeners. Value:\n",
       "0,:index=>Observable{Any} with 2 listeners. Value:\n",
       "8,:formatted_vals=>Observable{Any} with 1 listeners. Value:\n",
       "[\"0.0\", \"1.0\", \"2.0\", \"3.0\", \"4.0\", \"5.0\", \"6.0\", \"7.0\", \"8.0\", \"9.0\", \"10.0\", \"11.0\", \"12.0\", \"13.0\", \"14.0\"],:formatted_value=>Observable{String} with 1 listeners. Value:\n",
       "\"7.0\",:value=>Observable{Float64} with 2 listeners. Value:\n",
       "7.0), Observable{Float64} with 2 listeners. Value:\n",
       "7.0, Scope(\"knockout-component-bd9fdf77-07b8-43ee-96eb-146df2aea29c\", Node{DOM}(DOM(:html, :div), Any[Node{DOM}(DOM(:html, :div), Any[Node{DOM}(DOM(:html, :label), Any[\"ego_v\"], Dict{Symbol,Any}(:className=>\"interact \",:style=>Dict{Any,Any}(:padding=>\"5px 10px 0px 10px\")), 1)], Dict{Symbol,Any}(:attributes=>Dict(\"style\"=>\"text-align:right;width:18%\")), 2), Node{DOM}(DOM(:html, :div), Any[Node{DOM}(DOM(:html, :input), Any[], Dict{Symbol,Any}(:max=>15,:min=>1,:attributes=>Dict{Any,Any}(:type=>\"range\",Symbol(\"data-bind\")=>\"numericValue: index, valueUpdate: 'input', event: {change : function () {this.changes(this.changes()+1)}}\",\"orient\"=>\"horizontal\"),:step=>1,:className=>\"slider slider is-fullwidth\",:style=>Dict{Any,Any}()), 0)], Dict{Symbol,Any}(:attributes=>Dict(\"style\"=>\"flex-grow:1; margin: 0 2%\")), 1), Node{DOM}(DOM(:html, :div), Any[Node{DOM}(DOM(:html, :p), Any[], Dict{Symbol,Any}(:attributes=>Dict(\"data-bind\"=>\"text: formatted_value\")), 0)], Dict{Symbol,Any}(:attributes=>Dict(\"style\"=>\"width:18%\")), 1)], Dict{Symbol,Any}(:attributes=>Dict(\"style\"=>\"display:flex; justify-content:center; align-items:center;\")), 7), Dict{String,Tuple{Observables.AbstractObservable,Union{Nothing, Bool}}}(\"formatted_vals\"=>(Observable{Any} with 1 listeners. Value:\n",
       "[\"0.0\", \"1.0\", \"2.0\", \"3.0\", \"4.0\", \"5.0\", \"6.0\", \"7.0\", \"8.0\", \"9.0\", \"10.0\", \"11.0\", \"12.0\", \"13.0\", \"14.0\"], nothing),\"changes\"=>(Observable{Int64} with 1 listeners. Value:\n",
       "0, nothing),\"formatted_value\"=>(Observable{String} with 1 listeners. Value:\n",
       "\"7.0\", nothing),\"index\"=>(Observable{Any} with 2 listeners. Value:\n",
       "8, nothing)), Set(String[]), nothing, Any[\"knockout\"=>\"/home/xubuntu/.julia/packages/Knockout/JIqpG/src/../assets/knockout.js\", \"knockout_punches\"=>\"/home/xubuntu/.julia/packages/Knockout/JIqpG/src/../assets/knockout_punches.js\", \"/home/xubuntu/.julia/packages/InteractBase/Q4IkI/src/../assets/all.js\", \"/home/xubuntu/.julia/packages/InteractBase/Q4IkI/src/../assets/style.css\", \"/home/xubuntu/.julia/packages/InteractBulma/Ohu5Y/src/../assets/main.css\"], Dict{Any,Any}(\"formatted_vals\"=>Any[JSString(\"(function (val){return (val!=this.model[\\\"formatted_vals\\\"]()) ? (this.valueFromJulia[\\\"formatted_vals\\\"]=true, this.model[\\\"formatted_vals\\\"](val)) : undefined})\")],\"_promises\"=>Dict{Any,Any}(\"importsLoaded\"=>Any[JSString(\"function (ko, koPunches) {\\n    ko.punches.enableAll();\\n    ko.bindingHandlers.numericValue = {\\n        init : function(element, valueAccessor, allBindings, data, context) {\\n            var stringified = ko.observable(ko.unwrap(valueAccessor()));\\n            stringified.subscribe(function(value) {\\n                var val = parseFloat(value);\\n                if (!isNaN(val)) {\\n                    valueAccessor()(val);\\n                }\\n            })\\n            valueAccessor().subscribe(function(value) {\\n                var str = JSON.stringify(value);\\n                if ((str == \\\"0\\\") && ([\\\"-0\\\", \\\"-0.\\\"].indexOf(stringified()) >= 0))\\n                     return;\\n                 if ([\\\"null\\\", \\\"\\\"].indexOf(str) >= 0)\\n                     return;\\n                stringified(str);\\n            })\\n            ko.applyBindingsToNode(element, { value: stringified, valueUpdate: allBindings.get('valueUpdate')}, context);\\n        }\\n    };\\n    var json_data = JSON.parse(\\\"{\\\\\\\"formatted_vals\\\\\\\":[\\\\\\\"0.0\\\\\\\",\\\\\\\"1.0\\\\\\\",\\\\\\\"2.0\\\\\\\",\\\\\\\"3.0\\\\\\\",\\\\\\\"4.0\\\\\\\",\\\\\\\"5.0\\\\\\\",\\\\\\\"6.0\\\\\\\",\\\\\\\"7.0\\\\\\\",\\\\\\\"8.0\\\\\\\",\\\\\\\"9.0\\\\\\\",\\\\\\\"10.0\\\\\\\",\\\\\\\"11.0\\\\\\\",\\\\\\\"12.0\\\\\\\",\\\\\\\"13.0\\\\\\\",\\\\\\\"14.0\\\\\\\"],\\\\\\\"changes\\\\\\\":0,\\\\\\\"formatted_value\\\\\\\":\\\\\\\"7.0\\\\\\\",\\\\\\\"index\\\\\\\":8}\\\");\\n    var self = this;\\n    function AppViewModel() {\\n        for (var key in json_data) {\\n            var el = json_data[key];\\n            this[key] = Array.isArray(el) ? ko.observableArray(el) : ko.observable(el);\\n        }\\n        \\n        \\n        [this[\\\"formatted_vals\\\"].subscribe((function (val){!(this.valueFromJulia[\\\"formatted_vals\\\"]) ? (WebIO.setval({\\\"name\\\":\\\"formatted_vals\\\",\\\"scope\\\":\\\"knockout-component-bd9fdf77-07b8-43ee-96eb-146df2aea29c\\\",\\\"id\\\":\\\"ob_63\\\",\\\"type\\\":\\\"observable\\\"},val)) : undefined; return this.valueFromJulia[\\\"formatted_vals\\\"]=false}),self),this[\\\"changes\\\"].subscribe((function (val){!(this.valueFromJulia[\\\"changes\\\"]) ? (WebIO.setval({\\\"name\\\":\\\"changes\\\",\\\"scope\\\":\\\"knockout-component-bd9fdf77-07b8-43ee-96eb-146df2aea29c\\\",\\\"id\\\":\\\"ob_65\\\",\\\"type\\\":\\\"observable\\\"},val)) : undefined; return this.valueFromJulia[\\\"changes\\\"]=false}),self),this[\\\"formatted_value\\\"].subscribe((function (val){!(this.valueFromJulia[\\\"formatted_value\\\"]) ? (WebIO.setval({\\\"name\\\":\\\"formatted_value\\\",\\\"scope\\\":\\\"knockout-component-bd9fdf77-07b8-43ee-96eb-146df2aea29c\\\",\\\"id\\\":\\\"ob_64\\\",\\\"type\\\":\\\"observable\\\"},val)) : undefined; return this.valueFromJulia[\\\"formatted_value\\\"]=false}),self),this[\\\"index\\\"].subscribe((function (val){!(this.valueFromJulia[\\\"index\\\"]) ? (WebIO.setval({\\\"name\\\":\\\"index\\\",\\\"scope\\\":\\\"knockout-component-bd9fdf77-07b8-43ee-96eb-146df2aea29c\\\",\\\"id\\\":\\\"ob_62\\\",\\\"type\\\":\\\"observable\\\"},val)) : undefined; return this.valueFromJulia[\\\"index\\\"]=false}),self)]\\n        \\n    }\\n    self.model = new AppViewModel();\\n    self.valueFromJulia = {};\\n    for (var key in json_data) {\\n        self.valueFromJulia[key] = false;\\n    }\\n    ko.applyBindings(self.model, self.dom);\\n}\\n\")]),\"changes\"=>Any[JSString(\"(function (val){return (val!=this.model[\\\"changes\\\"]()) ? (this.valueFromJulia[\\\"changes\\\"]=true, this.model[\\\"changes\\\"](val)) : undefined})\")],\"formatted_value\"=>Any[JSString(\"(function (val){return (val!=this.model[\\\"formatted_value\\\"]()) ? (this.valueFromJulia[\\\"formatted_value\\\"]=true, this.model[\\\"formatted_value\\\"](val)) : undefined})\")],\"index\"=>Any[JSString(\"(function (val){return (val!=this.model[\\\"index\\\"]()) ? (this.valueFromJulia[\\\"index\\\"]=true, this.model[\\\"index\\\"](val)) : undefined})\"), JSString(\"(function (val){return WebIO.setval({\\\"name\\\":\\\"formatted_value\\\",\\\"scope\\\":\\\"knockout-component-bd9fdf77-07b8-43ee-96eb-146df2aea29c\\\",\\\"id\\\":\\\"ob_64\\\",\\\"type\\\":\\\"observable\\\"},WebIO.getval({\\\"name\\\":\\\"formatted_vals\\\",\\\"scope\\\":\\\"knockout-component-bd9fdf77-07b8-43ee-96eb-146df2aea29c\\\",\\\"id\\\":\\\"ob_63\\\",\\\"type\\\":\\\"observable\\\"})[(WebIO.getval({\\\"name\\\":\\\"index\\\",\\\"scope\\\":\\\"knockout-component-bd9fdf77-07b8-43ee-96eb-146df2aea29c\\\",\\\"id\\\":\\\"ob_62\\\",\\\"type\\\":\\\"observable\\\"})-1)])})\")]), ConnectionPool(Channel{Any}(sz_max:9223372036854775807,sz_curr:0), Set(AbstractConnection[]), Channel{AbstractConnection}(sz_max:32,sz_curr:0))), ##52#53{#dom#13{##dom#11#12{Dict{Any,Any},DOM}},typeof(scope)}(#dom#13{##dom#11#12{Dict{Any,Any},DOM}}(##dom#11#12{Dict{Any,Any},DOM}(Dict{Any,Any}(:className=>\"field\"), DOM(:html, :div))), scope))), Observable{Any} with 0 listeners. Value:\n",
       "Widget{:manipulate,Any}(OrderedDict{Symbol,Any}(:ped_v=>Widget{:slider,Float64}(OrderedDict{Symbol,Any}(:changes=>Observable{Int64} with 1 listeners. Value:\n",
       "0,:index=>Observable{Any} with 2 listeners. Value:\n",
       "3,:formatted_vals=>Observable{Any} with 1 listeners. Value:\n",
       "[\"0.0\", \"0.5\", \"1.0\", \"1.5\", \"2.0\"],:formatted_value=>Observable{String} with 1 listeners. Value:\n",
       "\"1.0\",:value=>Observable{Float64} with 2 listeners. Value:\n",
       "1.0), Observable{Float64} with 2 listeners. Value:\n",
       "1.0, Scope(\"knockout-component-459bd9ee-fabf-41e6-b905-e44fbc794d58\", Node{DOM}(DOM(:html, :div), Any[Node{DOM}(DOM(:html, :div), Any[Node{DOM}(DOM(:html, :label), Any[\"ped_v\"], Dict{Symbol,Any}(:className=>\"interact \",:style=>Dict{Any,Any}(:padding=>\"5px 10px 0px 10px\")), 1)], Dict{Symbol,Any}(:attributes=>Dict(\"style\"=>\"text-align:right;width:18%\")), 2), Node{DOM}(DOM(:html, :div), Any[Node{DOM}(DOM(:html, :input), Any[], Dict{Symbol,Any}(:max=>5,:min=>1,:attributes=>Dict{Any,Any}(:type=>\"range\",Symbol(\"data-bind\")=>\"numericValue: index, valueUpdate: 'input', event: {change : function () {this.changes(this.changes()+1)}}\",\"orient\"=>\"horizontal\"),:step=>1,:className=>\"slider slider is-fullwidth\",:style=>Dict{Any,Any}()), 0)], Dict{Symbol,Any}(:attributes=>Dict(\"style\"=>\"flex-grow:1; margin: 0 2%\")), 1), Node{DOM}(DOM(:html, :div), Any[Node{DOM}(DOM(:html, :p), Any[], Dict{Symbol,Any}(:attributes=>Dict(\"data-bind\"=>\"text: formatted_value\")), 0)], Dict{Symbol,Any}(:attributes=>Dict(\"style\"=>\"width:18%\")), 1)], Dict{Symbol,Any}(:attributes=>Dict(\"style\"=>\"display:flex; justify-content:center; align-items:center;\")), 7), Dict{String,Tuple{Observables.AbstractObservable,Union{Nothing, Bool}}}(\"formatted_vals\"=>(Observable{Any} with 1 listeners. Value:\n",
       "[\"0.0\", \"0.5\", \"1.0\", \"1.5\", \"2.0\"], nothing),\"changes\"=>(Observable{Int64} with 1 listeners. Value:\n",
       "0, nothing),\"formatted_value\"=>(Observable{String} with 1 listeners. Value:\n",
       "\"1.0\", nothing),\"index\"=>(Observable{Any} with 2 listeners. Value:\n",
       "3, nothing)), Set(String[]), nothing, Any[\"knockout\"=>\"/home/xubuntu/.julia/packages/Knockout/JIqpG/src/../assets/knockout.js\", \"knockout_punches\"=>\"/home/xubuntu/.julia/packages/Knockout/JIqpG/src/../assets/knockout_punches.js\", \"/home/xubuntu/.julia/packages/InteractBase/Q4IkI/src/../assets/all.js\", \"/home/xubuntu/.julia/packages/InteractBase/Q4IkI/src/../assets/style.css\", \"/home/xubuntu/.julia/packages/InteractBulma/Ohu5Y/src/../assets/main.css\"], Dict{Any,Any}(\"formatted_vals\"=>Any[JSString(\"(function (val){return (val!=this.model[\\\"formatted_vals\\\"]()) ? (this.valueFromJulia[\\\"formatted_vals\\\"]=true, this.model[\\\"formatted_vals\\\"](val)) : undefined})\")],\"_promises\"=>Dict{Any,Any}(\"importsLoaded\"=>Any[JSString(\"function (ko, koPunches) {\\n    ko.punches.enableAll();\\n    ko.bindingHandlers.numericValue = {\\n        init : function(element, valueAccessor, allBindings, data, context) {\\n            var stringified = ko.observable(ko.unwrap(valueAccessor()));\\n            stringified.subscribe(function(value) {\\n                var val = parseFloat(value);\\n                if (!isNaN(val)) {\\n                    valueAccessor()(val);\\n                }\\n            })\\n            valueAccessor().subscribe(function(value) {\\n                var str = JSON.stringify(value);\\n                if ((str == \\\"0\\\") && ([\\\"-0\\\", \\\"-0.\\\"].indexOf(stringified()) >= 0))\\n                     return;\\n                 if ([\\\"null\\\", \\\"\\\"].indexOf(str) >= 0)\\n                     return;\\n                stringified(str);\\n            })\\n            ko.applyBindingsToNode(element, { value: stringified, valueUpdate: allBindings.get('valueUpdate')}, context);\\n        }\\n    };\\n    var json_data = JSON.parse(\\\"{\\\\\\\"formatted_vals\\\\\\\":[\\\\\\\"0.0\\\\\\\",\\\\\\\"0.5\\\\\\\",\\\\\\\"1.0\\\\\\\",\\\\\\\"1.5\\\\\\\",\\\\\\\"2.0\\\\\\\"],\\\\\\\"changes\\\\\\\":0,\\\\\\\"formatted_value\\\\\\\":\\\\\\\"1.0\\\\\\\",\\\\\\\"index\\\\\\\":3}\\\");\\n    var self = this;\\n    function AppViewModel() {\\n        for (var key in json_data) {\\n            var el = json_data[key];\\n            this[key] = Array.isArray(el) ? ko.observableArray(el) : ko.observable(el);\\n        }\\n        \\n        \\n        [this[\\\"formatted_vals\\\"].subscribe((function (val){!(this.valueFromJulia[\\\"formatted_vals\\\"]) ? (WebIO.setval({\\\"name\\\":\\\"formatted_vals\\\",\\\"scope\\\":\\\"knockout-component-459bd9ee-fabf-41e6-b905-e44fbc794d58\\\",\\\"id\\\":\\\"ob_68\\\",\\\"type\\\":\\\"observable\\\"},val)) : undefined; return this.valueFromJulia[\\\"formatted_vals\\\"]=false}),self),this[\\\"changes\\\"].subscribe((function (val){!(this.valueFromJulia[\\\"changes\\\"]) ? (WebIO.setval({\\\"name\\\":\\\"changes\\\",\\\"scope\\\":\\\"knockout-component-459bd9ee-fabf-41e6-b905-e44fbc794d58\\\",\\\"id\\\":\\\"ob_70\\\",\\\"type\\\":\\\"observable\\\"},val)) : undefined; return this.valueFromJulia[\\\"changes\\\"]=false}),self),this[\\\"formatted_value\\\"].subscribe((function (val){!(this.valueFromJulia[\\\"formatted_value\\\"]) ? (WebIO.setval({\\\"name\\\":\\\"formatted_value\\\",\\\"scope\\\":\\\"knockout-component-459bd9ee-fabf-41e6-b905-e44fbc794d58\\\",\\\"id\\\":\\\"ob_69\\\",\\\"type\\\":\\\"observable\\\"},val)) : undefined; return this.valueFromJulia[\\\"formatted_value\\\"]=false}),self),this[\\\"index\\\"].subscribe((function (val){!(this.valueFromJulia[\\\"index\\\"]) ? (WebIO.setval({\\\"name\\\":\\\"index\\\",\\\"scope\\\":\\\"knockout-component-459bd9ee-fabf-41e6-b905-e44fbc794d58\\\",\\\"id\\\":\\\"ob_67\\\",\\\"type\\\":\\\"observable\\\"},val)) : undefined; return this.valueFromJulia[\\\"index\\\"]=false}),self)]\\n        \\n    }\\n    self.model = new AppViewModel();\\n    self.valueFromJulia = {};\\n    for (var key in json_data) {\\n        self.valueFromJulia[key] = false;\\n    }\\n    ko.applyBindings(self.model, self.dom);\\n}\\n\")]),\"changes\"=>Any[JSString(\"(function (val){return (val!=this.model[\\\"changes\\\"]()) ? (this.valueFromJulia[\\\"changes\\\"]=true, this.model[\\\"changes\\\"](val)) : undefined})\")],\"formatted_value\"=>Any[JSString(\"(function (val){return (val!=this.model[\\\"formatted_value\\\"]()) ? (this.valueFromJulia[\\\"formatted_value\\\"]=true, this.model[\\\"formatted_value\\\"](val)) : undefined})\")],\"index\"=>Any[JSString(\"(function (val){return (val!=this.model[\\\"index\\\"]()) ? (this.valueFromJulia[\\\"index\\\"]=true, this.model[\\\"index\\\"](val)) : undefined})\"), JSString(\"(function (val){return WebIO.setval({\\\"name\\\":\\\"formatted_value\\\",\\\"scope\\\":\\\"knockout-component-459bd9ee-fabf-41e6-b905-e44fbc794d58\\\",\\\"id\\\":\\\"ob_69\\\",\\\"type\\\":\\\"observable\\\"},WebIO.getval({\\\"name\\\":\\\"formatted_vals\\\",\\\"scope\\\":\\\"knockout-component-459bd9ee-fabf-41e6-b905-e44fbc794d58\\\",\\\"id\\\":\\\"ob_68\\\",\\\"type\\\":\\\"observable\\\"})[(WebIO.getval({\\\"name\\\":\\\"index\\\",\\\"scope\\\":\\\"knockout-component-459bd9ee-fabf-41e6-b905-e44fbc794d58\\\",\\\"id\\\":\\\"ob_67\\\",\\\"type\\\":\\\"observable\\\"})-1)])})\")]), ConnectionPool(Channel{Any}(sz_max:9223372036854775807,sz_curr:0), Set(AbstractConnection[]), Channel{AbstractConnection}(sz_max:32,sz_curr:0))), ##52#53{#dom#13{##dom#11#12{Dict{Any,Any},DOM}},typeof(scope)}(#dom#13{##dom#11#12{Dict{Any,Any},DOM}}(##dom#11#12{Dict{Any,Any},DOM}(Dict{Any,Any}(:className=>\"field\"), DOM(:html, :div))), scope))), Observable{Any} with 0 listeners. Value:\n",
       "Plot{Plots.GRBackend() n=1}, nothing, getfield(Main, Symbol(\"##43#49\")){Observable{Any}}(Observable{Any} with 0 listeners. Value:\n",
       "Plot{Plots.GRBackend() n=1})), nothing, getfield(Main, Symbol(\"##44#50\")){Observable{Any}}(Observable{Any} with 0 listeners. Value:\n",
       "Widget{:manipulate,Any}(OrderedDict{Symbol,Any}(:ped_v=>Widget{:slider,Float64}(OrderedDict{Symbol,Any}(:changes=>Observable{Int64} with 1 listeners. Value:\n",
       "0,:index=>Observable{Any} with 2 listeners. Value:\n",
       "3,:formatted_vals=>Observable{Any} with 1 listeners. Value:\n",
       "[\"0.0\", \"0.5\", \"1.0\", \"1.5\", \"2.0\"],:formatted_value=>Observable{String} with 1 listeners. Value:\n",
       "\"1.0\",:value=>Observable{Float64} with 2 listeners. Value:\n",
       "1.0), Observable{Float64} with 2 listeners. Value:\n",
       "1.0, Scope(\"knockout-component-459bd9ee-fabf-41e6-b905-e44fbc794d58\", Node{DOM}(DOM(:html, :div), Any[Node{DOM}(DOM(:html, :div), Any[Node{DOM}(DOM(:html, :label), Any[\"ped_v\"], Dict{Symbol,Any}(:className=>\"interact \",:style=>Dict{Any,Any}(:padding=>\"5px 10px 0px 10px\")), 1)], Dict{Symbol,Any}(:attributes=>Dict(\"style\"=>\"text-align:right;width:18%\")), 2), Node{DOM}(DOM(:html, :div), Any[Node{DOM}(DOM(:html, :input), Any[], Dict{Symbol,Any}(:max=>5,:min=>1,:attributes=>Dict{Any,Any}(:type=>\"range\",Symbol(\"data-bind\")=>\"numericValue: index, valueUpdate: 'input', event: {change : function () {this.changes(this.changes()+1)}}\",\"orient\"=>\"horizontal\"),:step=>1,:className=>\"slider slider is-fullwidth\",:style=>Dict{Any,Any}()), 0)], Dict{Symbol,Any}(:attributes=>Dict(\"style\"=>\"flex-grow:1; margin: 0 2%\")), 1), Node{DOM}(DOM(:html, :div), Any[Node{DOM}(DOM(:html, :p), Any[], Dict{Symbol,Any}(:attributes=>Dict(\"data-bind\"=>\"text: formatted_value\")), 0)], Dict{Symbol,Any}(:attributes=>Dict(\"style\"=>\"width:18%\")), 1)], Dict{Symbol,Any}(:attributes=>Dict(\"style\"=>\"display:flex; justify-content:center; align-items:center;\")), 7), Dict{String,Tuple{Observables.AbstractObservable,Union{Nothing, Bool}}}(\"formatted_vals\"=>(Observable{Any} with 1 listeners. Value:\n",
       "[\"0.0\", \"0.5\", \"1.0\", \"1.5\", \"2.0\"], nothing),\"changes\"=>(Observable{Int64} with 1 listeners. Value:\n",
       "0, nothing),\"formatted_value\"=>(Observable{String} with 1 listeners. Value:\n",
       "\"1.0\", nothing),\"index\"=>(Observable{Any} with 2 listeners. Value:\n",
       "3, nothing)), Set(String[]), nothing, Any[\"knockout\"=>\"/home/xubuntu/.julia/packages/Knockout/JIqpG/src/../assets/knockout.js\", \"knockout_punches\"=>\"/home/xubuntu/.julia/packages/Knockout/JIqpG/src/../assets/knockout_punches.js\", \"/home/xubuntu/.julia/packages/InteractBase/Q4IkI/src/../assets/all.js\", \"/home/xubuntu/.julia/packages/InteractBase/Q4IkI/src/../assets/style.css\", \"/home/xubuntu/.julia/packages/InteractBulma/Ohu5Y/src/../assets/main.css\"], Dict{Any,Any}(\"formatted_vals\"=>Any[JSString(\"(function (val){return (val!=this.model[\\\"formatted_vals\\\"]()) ? (this.valueFromJulia[\\\"formatted_vals\\\"]=true, this.model[\\\"formatted_vals\\\"](val)) : undefined})\")],\"_promises\"=>Dict{Any,Any}(\"importsLoaded\"=>Any[JSString(\"function (ko, koPunches) {\\n    ko.punches.enableAll();\\n    ko.bindingHandlers.numericValue = {\\n        init : function(element, valueAccessor, allBindings, data, context) {\\n            var stringified = ko.observable(ko.unwrap(valueAccessor()));\\n            stringified.subscribe(function(value) {\\n                var val = parseFloat(value);\\n                if (!isNaN(val)) {\\n                    valueAccessor()(val);\\n                }\\n            })\\n            valueAccessor().subscribe(function(value) {\\n                var str = JSON.stringify(value);\\n                if ((str == \\\"0\\\") && ([\\\"-0\\\", \\\"-0.\\\"].indexOf(stringified()) >= 0))\\n                     return;\\n                 if ([\\\"null\\\", \\\"\\\"].indexOf(str) >= 0)\\n                     return;\\n                stringified(str);\\n            })\\n            ko.applyBindingsToNode(element, { value: stringified, valueUpdate: allBindings.get('valueUpdate')}, context);\\n        }\\n    };\\n    var json_data = JSON.parse(\\\"{\\\\\\\"formatted_vals\\\\\\\":[\\\\\\\"0.0\\\\\\\",\\\\\\\"0.5\\\\\\\",\\\\\\\"1.0\\\\\\\",\\\\\\\"1.5\\\\\\\",\\\\\\\"2.0\\\\\\\"],\\\\\\\"changes\\\\\\\":0,\\\\\\\"formatted_value\\\\\\\":\\\\\\\"1.0\\\\\\\",\\\\\\\"index\\\\\\\":3}\\\");\\n    var self = this;\\n    function AppViewModel() {\\n        for (var key in json_data) {\\n            var el = json_data[key];\\n            this[key] = Array.isArray(el) ? ko.observableArray(el) : ko.observable(el);\\n        }\\n        \\n        \\n        [this[\\\"formatted_vals\\\"].subscribe((function (val){!(this.valueFromJulia[\\\"formatted_vals\\\"]) ? (WebIO.setval({\\\"name\\\":\\\"formatted_vals\\\",\\\"scope\\\":\\\"knockout-component-459bd9ee-fabf-41e6-b905-e44fbc794d58\\\",\\\"id\\\":\\\"ob_68\\\",\\\"type\\\":\\\"observable\\\"},val)) : undefined; return this.valueFromJulia[\\\"formatted_vals\\\"]=false}),self),this[\\\"changes\\\"].subscribe((function (val){!(this.valueFromJulia[\\\"changes\\\"]) ? (WebIO.setval({\\\"name\\\":\\\"changes\\\",\\\"scope\\\":\\\"knockout-component-459bd9ee-fabf-41e6-b905-e44fbc794d58\\\",\\\"id\\\":\\\"ob_70\\\",\\\"type\\\":\\\"observable\\\"},val)) : undefined; return this.valueFromJulia[\\\"changes\\\"]=false}),self),this[\\\"formatted_value\\\"].subscribe((function (val){!(this.valueFromJulia[\\\"formatted_value\\\"]) ? (WebIO.setval({\\\"name\\\":\\\"formatted_value\\\",\\\"scope\\\":\\\"knockout-component-459bd9ee-fabf-41e6-b905-e44fbc794d58\\\",\\\"id\\\":\\\"ob_69\\\",\\\"type\\\":\\\"observable\\\"},val)) : undefined; return this.valueFromJulia[\\\"formatted_value\\\"]=false}),self),this[\\\"index\\\"].subscribe((function (val){!(this.valueFromJulia[\\\"index\\\"]) ? (WebIO.setval({\\\"name\\\":\\\"index\\\",\\\"scope\\\":\\\"knockout-component-459bd9ee-fabf-41e6-b905-e44fbc794d58\\\",\\\"id\\\":\\\"ob_67\\\",\\\"type\\\":\\\"observable\\\"},val)) : undefined; return this.valueFromJulia[\\\"index\\\"]=false}),self)]\\n        \\n    }\\n    self.model = new AppViewModel();\\n    self.valueFromJulia = {};\\n    for (var key in json_data) {\\n        self.valueFromJulia[key] = false;\\n    }\\n    ko.applyBindings(self.model, self.dom);\\n}\\n\")]),\"changes\"=>Any[JSString(\"(function (val){return (val!=this.model[\\\"changes\\\"]()) ? (this.valueFromJulia[\\\"changes\\\"]=true, this.model[\\\"changes\\\"](val)) : undefined})\")],\"formatted_value\"=>Any[JSString(\"(function (val){return (val!=this.model[\\\"formatted_value\\\"]()) ? (this.valueFromJulia[\\\"formatted_value\\\"]=true, this.model[\\\"formatted_value\\\"](val)) : undefined})\")],\"index\"=>Any[JSString(\"(function (val){return (val!=this.model[\\\"index\\\"]()) ? (this.valueFromJulia[\\\"index\\\"]=true, this.model[\\\"index\\\"](val)) : undefined})\"), JSString(\"(function (val){return WebIO.setval({\\\"name\\\":\\\"formatted_value\\\",\\\"scope\\\":\\\"knockout-component-459bd9ee-fabf-41e6-b905-e44fbc794d58\\\",\\\"id\\\":\\\"ob_69\\\",\\\"type\\\":\\\"observable\\\"},WebIO.getval({\\\"name\\\":\\\"formatted_vals\\\",\\\"scope\\\":\\\"knockout-component-459bd9ee-fabf-41e6-b905-e44fbc794d58\\\",\\\"id\\\":\\\"ob_68\\\",\\\"type\\\":\\\"observable\\\"})[(WebIO.getval({\\\"name\\\":\\\"index\\\",\\\"scope\\\":\\\"knockout-component-459bd9ee-fabf-41e6-b905-e44fbc794d58\\\",\\\"id\\\":\\\"ob_67\\\",\\\"type\\\":\\\"observable\\\"})-1)])})\")]), ConnectionPool(Channel{Any}(sz_max:9223372036854775807,sz_curr:0), Set(AbstractConnection[]), Channel{AbstractConnection}(sz_max:32,sz_curr:0))), ##52#53{#dom#13{##dom#11#12{Dict{Any,Any},DOM}},typeof(scope)}(#dom#13{##dom#11#12{Dict{Any,Any},DOM}}(##dom#11#12{Dict{Any,Any},DOM}(Dict{Any,Any}(:className=>\"field\"), DOM(:html, :div))), scope))), Observable{Any} with 0 listeners. Value:\n",
       "Plot{Plots.GRBackend() n=1}, nothing, getfield(Main, Symbol(\"##43#49\")){Observable{Any}}(Observable{Any} with 0 listeners. Value:\n",
       "Plot{Plots.GRBackend() n=1}))))"
      ]
     },
     "execution_count": 18,
     "metadata": {
      "application/vnd.webio.node+json": {
       "kernelId": "4ef35a17-6a34-4f4f-8822-1f926e54820e"
      }
     },
     "output_type": "execute_result"
    }
   ],
   "source": [
    "using Interact\n",
    "using Plots\n",
    "gr()\n",
    "\n",
    "policy_grid = zeros(Float64, length(pomdp.T_RANGE), length(pomdp.S_RANGE))\n",
    "\n",
    "\n",
    "@manipulate for ego_v in pomdp.EGO_V_RANGE\n",
    "    @manipulate for ped_v in pomdp.PED_V_RANGE\n",
    "    \n",
    "        for i=1:length(pomdp.T_RANGE)\n",
    "            ped_t = pomdp.T_RANGE[i]\n",
    "            for j=1:length(pomdp.S_RANGE)\n",
    "                ped_s = pomdp.S_RANGE[j]\n",
    "                b = SparseCat([SingleOCFState(0.0, ego_v, ped_s, ped_t, 1.57, ped_v)],[1.])\n",
    "                act = action(qmdp_policy, b) \n",
    "               # println(ped_s, \"/\", ped_t, \" act: \", act.acc)\n",
    "                policy_grid[i,j] = act.acc\n",
    "            end\n",
    "        end\n",
    "        xs = [pomdp.S_RANGE[i] for i = 1:length(pomdp.S_RANGE)]\n",
    "        ys = [pomdp.T_RANGE[i] for i = 1:length(pomdp.T_RANGE)]\n",
    "        heatmap(xs,ys,policy_grid,aspect_ratio=1)\n",
    "    end\n",
    "end\n",
    "\n",
    "\n"
   ]
  },
  {
   "cell_type": "code",
   "execution_count": 49,
   "metadata": {
    "scrolled": false
   },
   "outputs": [
    {
     "data": {
      "application/vnd.webio.node+json": {
       "children": [
        {
         "children": [
          {
           "children": [
            {
             "children": [
              {
               "children": [
                {
                 "children": [
                  "ego_v"
                 ],
                 "instanceArgs": {
                  "namespace": "html",
                  "tag": "label"
                 },
                 "nodeType": "DOM",
                 "props": {
                  "className": "interact ",
                  "style": {
                   "padding": "5px 10px 0px 10px"
                  }
                 },
                 "type": "node"
                }
               ],
               "instanceArgs": {
                "namespace": "html",
                "tag": "div"
               },
               "nodeType": "DOM",
               "props": {
                "attributes": {
                 "style": "text-align:right;width:18%"
                }
               },
               "type": "node"
              },
              {
               "children": [
                {
                 "children": [],
                 "instanceArgs": {
                  "namespace": "html",
                  "tag": "input"
                 },
                 "nodeType": "DOM",
                 "props": {
                  "attributes": {
                   "data-bind": "numericValue: index, valueUpdate: 'input', event: {change : function () {this.changes(this.changes()+1)}}",
                   "orient": "horizontal",
                   "type": "range"
                  },
                  "className": "slider slider is-fullwidth",
                  "max": 15,
                  "min": 1,
                  "step": 1,
                  "style": {}
                 },
                 "type": "node"
                }
               ],
               "instanceArgs": {
                "namespace": "html",
                "tag": "div"
               },
               "nodeType": "DOM",
               "props": {
                "attributes": {
                 "style": "flex-grow:1; margin: 0 2%"
                }
               },
               "type": "node"
              },
              {
               "children": [
                {
                 "children": [],
                 "instanceArgs": {
                  "namespace": "html",
                  "tag": "p"
                 },
                 "nodeType": "DOM",
                 "props": {
                  "attributes": {
                   "data-bind": "text: formatted_value"
                  }
                 },
                 "type": "node"
                }
               ],
               "instanceArgs": {
                "namespace": "html",
                "tag": "div"
               },
               "nodeType": "DOM",
               "props": {
                "attributes": {
                 "style": "width:18%"
                }
               },
               "type": "node"
              }
             ],
             "instanceArgs": {
              "namespace": "html",
              "tag": "div"
             },
             "nodeType": "DOM",
             "props": {
              "attributes": {
               "style": "display:flex; justify-content:center; align-items:center;"
              }
             },
             "type": "node"
            }
           ],
           "instanceArgs": {
            "handlers": {
             "_promises": {
              "importsLoaded": [
               "function (ko, koPunches) {\n    ko.punches.enableAll();\n    ko.bindingHandlers.numericValue = {\n        init : function(element, valueAccessor, allBindings, data, context) {\n            var stringified = ko.observable(ko.unwrap(valueAccessor()));\n            stringified.subscribe(function(value) {\n                var val = parseFloat(value);\n                if (!isNaN(val)) {\n                    valueAccessor()(val);\n                }\n            })\n            valueAccessor().subscribe(function(value) {\n                var str = JSON.stringify(value);\n                if ((str == \"0\") && ([\"-0\", \"-0.\"].indexOf(stringified()) >= 0))\n                     return;\n                 if ([\"null\", \"\"].indexOf(str) >= 0)\n                     return;\n                stringified(str);\n            })\n            ko.applyBindingsToNode(element, { value: stringified, valueUpdate: allBindings.get('valueUpdate')}, context);\n        }\n    };\n    var json_data = JSON.parse(\"{\\\"formatted_vals\\\":[\\\"0.0\\\",\\\"1.0\\\",\\\"2.0\\\",\\\"3.0\\\",\\\"4.0\\\",\\\"5.0\\\",\\\"6.0\\\",\\\"7.0\\\",\\\"8.0\\\",\\\"9.0\\\",\\\"10.0\\\",\\\"11.0\\\",\\\"12.0\\\",\\\"13.0\\\",\\\"14.0\\\"],\\\"changes\\\":0,\\\"formatted_value\\\":\\\"7.0\\\",\\\"index\\\":8}\");\n    var self = this;\n    function AppViewModel() {\n        for (var key in json_data) {\n            var el = json_data[key];\n            this[key] = Array.isArray(el) ? ko.observableArray(el) : ko.observable(el);\n        }\n        \n        \n        [this[\"formatted_vals\"].subscribe((function (val){!(this.valueFromJulia[\"formatted_vals\"]) ? (WebIO.setval({\"name\":\"formatted_vals\",\"scope\":\"knockout-component-4dcfab5a-8511-4fcd-9ac6-a6a20985b524\",\"id\":\"ob_1148\",\"type\":\"observable\"},val)) : undefined; return this.valueFromJulia[\"formatted_vals\"]=false}),self),this[\"changes\"].subscribe((function (val){!(this.valueFromJulia[\"changes\"]) ? (WebIO.setval({\"name\":\"changes\",\"scope\":\"knockout-component-4dcfab5a-8511-4fcd-9ac6-a6a20985b524\",\"id\":\"ob_1150\",\"type\":\"observable\"},val)) : undefined; return this.valueFromJulia[\"changes\"]=false}),self),this[\"formatted_value\"].subscribe((function (val){!(this.valueFromJulia[\"formatted_value\"]) ? (WebIO.setval({\"name\":\"formatted_value\",\"scope\":\"knockout-component-4dcfab5a-8511-4fcd-9ac6-a6a20985b524\",\"id\":\"ob_1149\",\"type\":\"observable\"},val)) : undefined; return this.valueFromJulia[\"formatted_value\"]=false}),self),this[\"index\"].subscribe((function (val){!(this.valueFromJulia[\"index\"]) ? (WebIO.setval({\"name\":\"index\",\"scope\":\"knockout-component-4dcfab5a-8511-4fcd-9ac6-a6a20985b524\",\"id\":\"ob_1147\",\"type\":\"observable\"},val)) : undefined; return this.valueFromJulia[\"index\"]=false}),self)]\n        \n    }\n    self.model = new AppViewModel();\n    self.valueFromJulia = {};\n    for (var key in json_data) {\n        self.valueFromJulia[key] = false;\n    }\n    ko.applyBindings(self.model, self.dom);\n}\n"
              ]
             },
             "changes": [
              "(function (val){return (val!=this.model[\"changes\"]()) ? (this.valueFromJulia[\"changes\"]=true, this.model[\"changes\"](val)) : undefined})"
             ],
             "formatted_vals": [
              "(function (val){return (val!=this.model[\"formatted_vals\"]()) ? (this.valueFromJulia[\"formatted_vals\"]=true, this.model[\"formatted_vals\"](val)) : undefined})"
             ],
             "formatted_value": [
              "(function (val){return (val!=this.model[\"formatted_value\"]()) ? (this.valueFromJulia[\"formatted_value\"]=true, this.model[\"formatted_value\"](val)) : undefined})"
             ],
             "index": [
              "(function (val){return (val!=this.model[\"index\"]()) ? (this.valueFromJulia[\"index\"]=true, this.model[\"index\"](val)) : undefined})",
              "(function (val){return WebIO.setval({\"name\":\"formatted_value\",\"scope\":\"knockout-component-4dcfab5a-8511-4fcd-9ac6-a6a20985b524\",\"id\":\"ob_1149\",\"type\":\"observable\"},WebIO.getval({\"name\":\"formatted_vals\",\"scope\":\"knockout-component-4dcfab5a-8511-4fcd-9ac6-a6a20985b524\",\"id\":\"ob_1148\",\"type\":\"observable\"})[(WebIO.getval({\"name\":\"index\",\"scope\":\"knockout-component-4dcfab5a-8511-4fcd-9ac6-a6a20985b524\",\"id\":\"ob_1147\",\"type\":\"observable\"})-1)])})"
             ]
            },
            "id": "knockout-component-4dcfab5a-8511-4fcd-9ac6-a6a20985b524",
            "imports": {
             "data": [
              {
               "name": "knockout",
               "type": "js",
               "url": "/assetserver/5bdfa0079f8054411755b58d5cbf209816eb3491-knockout.js"
              },
              {
               "name": "knockout_punches",
               "type": "js",
               "url": "/assetserver/855febee65039013a347552d0c4d4111c3742744-knockout_punches.js"
              },
              {
               "name": null,
               "type": "js",
               "url": "/assetserver/c520edf59e8047fe705fc94922c00f742e98d6ca-all.js"
              },
              {
               "name": null,
               "type": "css",
               "url": "/assetserver/2e452758e706a09118283eb71a88f2d2c42ad320-style.css"
              },
              {
               "name": null,
               "type": "css",
               "url": "/assetserver/161e8bbeb8bd5574618f97bdf4a5bbe64bae489f-main.css"
              }
             ],
             "type": "async_block"
            },
            "observables": {
             "changes": {
              "id": "ob_1150",
              "sync": false,
              "value": 0
             },
             "formatted_vals": {
              "id": "ob_1148",
              "sync": false,
              "value": [
               "0.0",
               "1.0",
               "2.0",
               "3.0",
               "4.0",
               "5.0",
               "6.0",
               "7.0",
               "8.0",
               "9.0",
               "10.0",
               "11.0",
               "12.0",
               "13.0",
               "14.0"
              ]
             },
             "formatted_value": {
              "id": "ob_1149",
              "sync": false,
              "value": "7.0"
             },
             "index": {
              "id": "ob_1147",
              "sync": true,
              "value": 8
             }
            },
            "systemjs_options": null
           },
           "nodeType": "Scope",
           "props": {},
           "type": "node"
          }
         ],
         "instanceArgs": {
          "namespace": "html",
          "tag": "div"
         },
         "nodeType": "DOM",
         "props": {
          "className": "field"
         },
         "type": "node"
        },
        {
         "children": [
          {
           "children": [],
           "instanceArgs": {
            "id": "ob_1164",
            "name": "obs-scope"
           },
           "nodeType": "ObservableNode",
           "props": {},
           "type": "node"
          }
         ],
         "instanceArgs": {
          "handlers": {},
          "id": "scope-8790afb8-7a58-4b0a-bb77-c8ca1e4b4fa2",
          "imports": {
           "data": [],
           "type": "async_block"
          },
          "observables": {
           "obs-scope": {
            "id": "ob_1164",
            "sync": false,
            "value": {
             "children": [
              {
               "children": [
                {
                 "children": [
                  {
                   "children": [
                    {
                     "children": [
                      {
                       "children": [
                        "ped_v"
                       ],
                       "instanceArgs": {
                        "namespace": "html",
                        "tag": "label"
                       },
                       "nodeType": "DOM",
                       "props": {
                        "className": "interact ",
                        "style": {
                         "padding": "5px 10px 0px 10px"
                        }
                       },
                       "type": "node"
                      }
                     ],
                     "instanceArgs": {
                      "namespace": "html",
                      "tag": "div"
                     },
                     "nodeType": "DOM",
                     "props": {
                      "attributes": {
                       "style": "text-align:right;width:18%"
                      }
                     },
                     "type": "node"
                    },
                    {
                     "children": [
                      {
                       "children": [],
                       "instanceArgs": {
                        "namespace": "html",
                        "tag": "input"
                       },
                       "nodeType": "DOM",
                       "props": {
                        "attributes": {
                         "data-bind": "numericValue: index, valueUpdate: 'input', event: {change : function () {this.changes(this.changes()+1)}}",
                         "orient": "horizontal",
                         "type": "range"
                        },
                        "className": "slider slider is-fullwidth",
                        "max": 5,
                        "min": 1,
                        "step": 1,
                        "style": {}
                       },
                       "type": "node"
                      }
                     ],
                     "instanceArgs": {
                      "namespace": "html",
                      "tag": "div"
                     },
                     "nodeType": "DOM",
                     "props": {
                      "attributes": {
                       "style": "flex-grow:1; margin: 0 2%"
                      }
                     },
                     "type": "node"
                    },
                    {
                     "children": [
                      {
                       "children": [],
                       "instanceArgs": {
                        "namespace": "html",
                        "tag": "p"
                       },
                       "nodeType": "DOM",
                       "props": {
                        "attributes": {
                         "data-bind": "text: formatted_value"
                        }
                       },
                       "type": "node"
                      }
                     ],
                     "instanceArgs": {
                      "namespace": "html",
                      "tag": "div"
                     },
                     "nodeType": "DOM",
                     "props": {
                      "attributes": {
                       "style": "width:18%"
                      }
                     },
                     "type": "node"
                    }
                   ],
                   "instanceArgs": {
                    "namespace": "html",
                    "tag": "div"
                   },
                   "nodeType": "DOM",
                   "props": {
                    "attributes": {
                     "style": "display:flex; justify-content:center; align-items:center;"
                    }
                   },
                   "type": "node"
                  }
                 ],
                 "instanceArgs": {
                  "handlers": {
                   "_promises": {
                    "importsLoaded": [
                     "function (ko, koPunches) {\n    ko.punches.enableAll();\n    ko.bindingHandlers.numericValue = {\n        init : function(element, valueAccessor, allBindings, data, context) {\n            var stringified = ko.observable(ko.unwrap(valueAccessor()));\n            stringified.subscribe(function(value) {\n                var val = parseFloat(value);\n                if (!isNaN(val)) {\n                    valueAccessor()(val);\n                }\n            })\n            valueAccessor().subscribe(function(value) {\n                var str = JSON.stringify(value);\n                if ((str == \"0\") && ([\"-0\", \"-0.\"].indexOf(stringified()) >= 0))\n                     return;\n                 if ([\"null\", \"\"].indexOf(str) >= 0)\n                     return;\n                stringified(str);\n            })\n            ko.applyBindingsToNode(element, { value: stringified, valueUpdate: allBindings.get('valueUpdate')}, context);\n        }\n    };\n    var json_data = JSON.parse(\"{\\\"formatted_vals\\\":[\\\"0.0\\\",\\\"0.5\\\",\\\"1.0\\\",\\\"1.5\\\",\\\"2.0\\\"],\\\"changes\\\":0,\\\"formatted_value\\\":\\\"1.0\\\",\\\"index\\\":3}\");\n    var self = this;\n    function AppViewModel() {\n        for (var key in json_data) {\n            var el = json_data[key];\n            this[key] = Array.isArray(el) ? ko.observableArray(el) : ko.observable(el);\n        }\n        \n        \n        [this[\"formatted_vals\"].subscribe((function (val){!(this.valueFromJulia[\"formatted_vals\"]) ? (WebIO.setval({\"name\":\"formatted_vals\",\"scope\":\"knockout-component-8116c885-c5d8-4a62-9685-5c84bfbc42c7\",\"id\":\"ob_1153\",\"type\":\"observable\"},val)) : undefined; return this.valueFromJulia[\"formatted_vals\"]=false}),self),this[\"changes\"].subscribe((function (val){!(this.valueFromJulia[\"changes\"]) ? (WebIO.setval({\"name\":\"changes\",\"scope\":\"knockout-component-8116c885-c5d8-4a62-9685-5c84bfbc42c7\",\"id\":\"ob_1155\",\"type\":\"observable\"},val)) : undefined; return this.valueFromJulia[\"changes\"]=false}),self),this[\"formatted_value\"].subscribe((function (val){!(this.valueFromJulia[\"formatted_value\"]) ? (WebIO.setval({\"name\":\"formatted_value\",\"scope\":\"knockout-component-8116c885-c5d8-4a62-9685-5c84bfbc42c7\",\"id\":\"ob_1154\",\"type\":\"observable\"},val)) : undefined; return this.valueFromJulia[\"formatted_value\"]=false}),self),this[\"index\"].subscribe((function (val){!(this.valueFromJulia[\"index\"]) ? (WebIO.setval({\"name\":\"index\",\"scope\":\"knockout-component-8116c885-c5d8-4a62-9685-5c84bfbc42c7\",\"id\":\"ob_1152\",\"type\":\"observable\"},val)) : undefined; return this.valueFromJulia[\"index\"]=false}),self)]\n        \n    }\n    self.model = new AppViewModel();\n    self.valueFromJulia = {};\n    for (var key in json_data) {\n        self.valueFromJulia[key] = false;\n    }\n    ko.applyBindings(self.model, self.dom);\n}\n"
                    ]
                   },
                   "changes": [
                    "(function (val){return (val!=this.model[\"changes\"]()) ? (this.valueFromJulia[\"changes\"]=true, this.model[\"changes\"](val)) : undefined})"
                   ],
                   "formatted_vals": [
                    "(function (val){return (val!=this.model[\"formatted_vals\"]()) ? (this.valueFromJulia[\"formatted_vals\"]=true, this.model[\"formatted_vals\"](val)) : undefined})"
                   ],
                   "formatted_value": [
                    "(function (val){return (val!=this.model[\"formatted_value\"]()) ? (this.valueFromJulia[\"formatted_value\"]=true, this.model[\"formatted_value\"](val)) : undefined})"
                   ],
                   "index": [
                    "(function (val){return (val!=this.model[\"index\"]()) ? (this.valueFromJulia[\"index\"]=true, this.model[\"index\"](val)) : undefined})",
                    "(function (val){return WebIO.setval({\"name\":\"formatted_value\",\"scope\":\"knockout-component-8116c885-c5d8-4a62-9685-5c84bfbc42c7\",\"id\":\"ob_1154\",\"type\":\"observable\"},WebIO.getval({\"name\":\"formatted_vals\",\"scope\":\"knockout-component-8116c885-c5d8-4a62-9685-5c84bfbc42c7\",\"id\":\"ob_1153\",\"type\":\"observable\"})[(WebIO.getval({\"name\":\"index\",\"scope\":\"knockout-component-8116c885-c5d8-4a62-9685-5c84bfbc42c7\",\"id\":\"ob_1152\",\"type\":\"observable\"})-1)])})"
                   ]
                  },
                  "id": "knockout-component-8116c885-c5d8-4a62-9685-5c84bfbc42c7",
                  "imports": {
                   "data": [
                    {
                     "name": "knockout",
                     "type": "js",
                     "url": "/assetserver/5bdfa0079f8054411755b58d5cbf209816eb3491-knockout.js"
                    },
                    {
                     "name": "knockout_punches",
                     "type": "js",
                     "url": "/assetserver/855febee65039013a347552d0c4d4111c3742744-knockout_punches.js"
                    },
                    {
                     "name": null,
                     "type": "js",
                     "url": "/assetserver/c520edf59e8047fe705fc94922c00f742e98d6ca-all.js"
                    },
                    {
                     "name": null,
                     "type": "css",
                     "url": "/assetserver/2e452758e706a09118283eb71a88f2d2c42ad320-style.css"
                    },
                    {
                     "name": null,
                     "type": "css",
                     "url": "/assetserver/161e8bbeb8bd5574618f97bdf4a5bbe64bae489f-main.css"
                    }
                   ],
                   "type": "async_block"
                  },
                  "observables": {
                   "changes": {
                    "id": "ob_1155",
                    "sync": false,
                    "value": 0
                   },
                   "formatted_vals": {
                    "id": "ob_1153",
                    "sync": false,
                    "value": [
                     "0.0",
                     "0.5",
                     "1.0",
                     "1.5",
                     "2.0"
                    ]
                   },
                   "formatted_value": {
                    "id": "ob_1154",
                    "sync": false,
                    "value": "1.0"
                   },
                   "index": {
                    "id": "ob_1152",
                    "sync": true,
                    "value": 3
                   }
                  },
                  "systemjs_options": null
                 },
                 "nodeType": "Scope",
                 "props": {},
                 "type": "node"
                }
               ],
               "instanceArgs": {
                "namespace": "html",
                "tag": "div"
               },
               "nodeType": "DOM",
               "props": {
                "className": "field"
               },
               "type": "node"
              },
              {
               "children": [
                {
                 "children": [],
                 "instanceArgs": {
                  "id": "ob_1165",
                  "name": "obs-node"
                 },
                 "nodeType": "ObservableNode",
                 "props": {},
                 "type": "node"
                }
               ],
               "instanceArgs": {
                "handlers": {},
                "id": "scope-f33054b1-0b68-461c-968a-8673a789af0e",
                "imports": {
                 "data": [],
                 "type": "async_block"
                },
                "observables": {
                 "obs-node": {
                  "id": "ob_1165",
                  "sync": false,
                  "value": {
                   "children": [
                    {
                     "children": [],
                     "instanceArgs": {
                      "namespace": "html",
                      "tag": "div"
                     },
                     "nodeType": "DOM",
                     "props": {
                      "setInnerHtml": "<?xml version=\"1.0\" encoding=\"utf-8\"?>\n<svg xmlns=\"http://www.w3.org/2000/svg\" xmlns:xlink=\"http://www.w3.org/1999/xlink\" width=\"600\" height=\"400\" viewBox=\"0 0 2400 1600\">\n<defs>\n  <clipPath id=\"clip2200\">\n    <rect x=\"0\" y=\"0\" width=\"2000\" height=\"2000\"/>\n  </clipPath>\n</defs>\n<defs>\n  <clipPath id=\"clip2201\">\n    <rect x=\"0\" y=\"0\" width=\"2400\" height=\"1600\"/>\n  </clipPath>\n</defs>\n<polygon clip-path=\"url(#clip2201)\" points=\"\n0,1600 2400,1600 2400,0 0,0 \n  \" fill=\"#ffffff\" fill-opacity=\"1\"/>\n<defs>\n  <clipPath id=\"clip2202\">\n    <rect x=\"480\" y=\"0\" width=\"1681\" height=\"1600\"/>\n  </clipPath>\n</defs>\n<polygon clip-path=\"url(#clip2201)\" points=\"\n149.361,979.695 2081.26,979.695 2081.26,571.024 149.361,571.024 \n  \" fill=\"#ffffff\" fill-opacity=\"1\"/>\n<defs>\n  <clipPath id=\"clip2203\">\n    <rect x=\"149\" y=\"571\" width=\"1933\" height=\"410\"/>\n  </clipPath>\n</defs>\n<polyline clip-path=\"url(#clip2203)\" style=\"stroke:#000000; stroke-width:2; stroke-opacity:0.1; fill:none\" points=\"\n  186.513,979.695 186.513,571.024 \n  \"/>\n<polyline clip-path=\"url(#clip2203)\" style=\"stroke:#000000; stroke-width:2; stroke-opacity:0.1; fill:none\" points=\"\n  558.032,979.695 558.032,571.024 \n  \"/>\n<polyline clip-path=\"url(#clip2203)\" style=\"stroke:#000000; stroke-width:2; stroke-opacity:0.1; fill:none\" points=\"\n  929.551,979.695 929.551,571.024 \n  \"/>\n<polyline clip-path=\"url(#clip2203)\" style=\"stroke:#000000; stroke-width:2; stroke-opacity:0.1; fill:none\" points=\"\n  1301.07,979.695 1301.07,571.024 \n  \"/>\n<polyline clip-path=\"url(#clip2203)\" style=\"stroke:#000000; stroke-width:2; stroke-opacity:0.1; fill:none\" points=\"\n  1672.59,979.695 1672.59,571.024 \n  \"/>\n<polyline clip-path=\"url(#clip2203)\" style=\"stroke:#000000; stroke-width:2; stroke-opacity:0.1; fill:none\" points=\"\n  2044.11,979.695 2044.11,571.024 \n  \"/>\n<polyline clip-path=\"url(#clip2203)\" style=\"stroke:#000000; stroke-width:2; stroke-opacity:0.1; fill:none\" points=\"\n  149.361,923.967 2081.26,923.967 \n  \"/>\n<polyline clip-path=\"url(#clip2203)\" style=\"stroke:#000000; stroke-width:2; stroke-opacity:0.1; fill:none\" points=\"\n  149.361,849.663 2081.26,849.663 \n  \"/>\n<polyline clip-path=\"url(#clip2203)\" style=\"stroke:#000000; stroke-width:2; stroke-opacity:0.1; fill:none\" points=\"\n  149.361,775.359 2081.26,775.359 \n  \"/>\n<polyline clip-path=\"url(#clip2203)\" style=\"stroke:#000000; stroke-width:2; stroke-opacity:0.1; fill:none\" points=\"\n  149.361,701.056 2081.26,701.056 \n  \"/>\n<polyline clip-path=\"url(#clip2203)\" style=\"stroke:#000000; stroke-width:2; stroke-opacity:0.1; fill:none\" points=\"\n  149.361,626.752 2081.26,626.752 \n  \"/>\n<polyline clip-path=\"url(#clip2201)\" style=\"stroke:#000000; stroke-width:4; stroke-opacity:1; fill:none\" points=\"\n  149.361,979.695 2081.26,979.695 \n  \"/>\n<polyline clip-path=\"url(#clip2201)\" style=\"stroke:#000000; stroke-width:4; stroke-opacity:1; fill:none\" points=\"\n  149.361,979.695 149.361,571.024 \n  \"/>\n<polyline clip-path=\"url(#clip2201)\" style=\"stroke:#000000; stroke-width:4; stroke-opacity:1; fill:none\" points=\"\n  186.513,979.695 186.513,973.565 \n  \"/>\n<polyline clip-path=\"url(#clip2201)\" style=\"stroke:#000000; stroke-width:4; stroke-opacity:1; fill:none\" points=\"\n  558.032,979.695 558.032,973.565 \n  \"/>\n<polyline clip-path=\"url(#clip2201)\" style=\"stroke:#000000; stroke-width:4; stroke-opacity:1; fill:none\" points=\"\n  929.551,979.695 929.551,973.565 \n  \"/>\n<polyline clip-path=\"url(#clip2201)\" style=\"stroke:#000000; stroke-width:4; stroke-opacity:1; fill:none\" points=\"\n  1301.07,979.695 1301.07,973.565 \n  \"/>\n<polyline clip-path=\"url(#clip2201)\" style=\"stroke:#000000; stroke-width:4; stroke-opacity:1; fill:none\" points=\"\n  1672.59,979.695 1672.59,973.565 \n  \"/>\n<polyline clip-path=\"url(#clip2201)\" style=\"stroke:#000000; stroke-width:4; stroke-opacity:1; fill:none\" points=\"\n  2044.11,979.695 2044.11,973.565 \n  \"/>\n<polyline clip-path=\"url(#clip2201)\" style=\"stroke:#000000; stroke-width:4; stroke-opacity:1; fill:none\" points=\"\n  149.361,923.967 178.339,923.967 \n  \"/>\n<polyline clip-path=\"url(#clip2201)\" style=\"stroke:#000000; stroke-width:4; stroke-opacity:1; fill:none\" points=\"\n  149.361,849.663 178.339,849.663 \n  \"/>\n<polyline clip-path=\"url(#clip2201)\" style=\"stroke:#000000; stroke-width:4; stroke-opacity:1; fill:none\" points=\"\n  149.361,775.359 178.339,775.359 \n  \"/>\n<polyline clip-path=\"url(#clip2201)\" style=\"stroke:#000000; stroke-width:4; stroke-opacity:1; fill:none\" points=\"\n  149.361,701.056 178.339,701.056 \n  \"/>\n<polyline clip-path=\"url(#clip2201)\" style=\"stroke:#000000; stroke-width:4; stroke-opacity:1; fill:none\" points=\"\n  149.361,626.752 178.339,626.752 \n  \"/>\n<g clip-path=\"url(#clip2201)\">\n<text style=\"fill:#000000; fill-opacity:1; font-family:Arial,Helvetica Neue,Helvetica,sans-serif; font-size:48px; text-anchor:middle;\" transform=\"rotate(0, 186.513, 1033.69)\" x=\"186.513\" y=\"1033.69\">0</text>\n</g>\n<g clip-path=\"url(#clip2201)\">\n<text style=\"fill:#000000; fill-opacity:1; font-family:Arial,Helvetica Neue,Helvetica,sans-serif; font-size:48px; text-anchor:middle;\" transform=\"rotate(0, 558.032, 1033.69)\" x=\"558.032\" y=\"1033.69\">10</text>\n</g>\n<g clip-path=\"url(#clip2201)\">\n<text style=\"fill:#000000; fill-opacity:1; font-family:Arial,Helvetica Neue,Helvetica,sans-serif; font-size:48px; text-anchor:middle;\" transform=\"rotate(0, 929.551, 1033.69)\" x=\"929.551\" y=\"1033.69\">20</text>\n</g>\n<g clip-path=\"url(#clip2201)\">\n<text style=\"fill:#000000; fill-opacity:1; font-family:Arial,Helvetica Neue,Helvetica,sans-serif; font-size:48px; text-anchor:middle;\" transform=\"rotate(0, 1301.07, 1033.69)\" x=\"1301.07\" y=\"1033.69\">30</text>\n</g>\n<g clip-path=\"url(#clip2201)\">\n<text style=\"fill:#000000; fill-opacity:1; font-family:Arial,Helvetica Neue,Helvetica,sans-serif; font-size:48px; text-anchor:middle;\" transform=\"rotate(0, 1672.59, 1033.69)\" x=\"1672.59\" y=\"1033.69\">40</text>\n</g>\n<g clip-path=\"url(#clip2201)\">\n<text style=\"fill:#000000; fill-opacity:1; font-family:Arial,Helvetica Neue,Helvetica,sans-serif; font-size:48px; text-anchor:middle;\" transform=\"rotate(0, 2044.11, 1033.69)\" x=\"2044.11\" y=\"1033.69\">50</text>\n</g>\n<g clip-path=\"url(#clip2201)\">\n<text style=\"fill:#000000; fill-opacity:1; font-family:Arial,Helvetica Neue,Helvetica,sans-serif; font-size:48px; text-anchor:end;\" transform=\"rotate(0, 125.361, 941.467)\" x=\"125.361\" y=\"941.467\">-4</text>\n</g>\n<g clip-path=\"url(#clip2201)\">\n<text style=\"fill:#000000; fill-opacity:1; font-family:Arial,Helvetica Neue,Helvetica,sans-serif; font-size:48px; text-anchor:end;\" transform=\"rotate(0, 125.361, 867.163)\" x=\"125.361\" y=\"867.163\">-2</text>\n</g>\n<g clip-path=\"url(#clip2201)\">\n<text style=\"fill:#000000; fill-opacity:1; font-family:Arial,Helvetica Neue,Helvetica,sans-serif; font-size:48px; text-anchor:end;\" transform=\"rotate(0, 125.361, 792.859)\" x=\"125.361\" y=\"792.859\">0</text>\n</g>\n<g clip-path=\"url(#clip2201)\">\n<text style=\"fill:#000000; fill-opacity:1; font-family:Arial,Helvetica Neue,Helvetica,sans-serif; font-size:48px; text-anchor:end;\" transform=\"rotate(0, 125.361, 718.556)\" x=\"125.361\" y=\"718.556\">2</text>\n</g>\n<g clip-path=\"url(#clip2201)\">\n<text style=\"fill:#000000; fill-opacity:1; font-family:Arial,Helvetica Neue,Helvetica,sans-serif; font-size:48px; text-anchor:end;\" transform=\"rotate(0, 125.361, 644.252)\" x=\"125.361\" y=\"644.252\">4</text>\n</g>\n<g clip-path=\"url(#clip2203)\">\n<image width=\"1932\" height=\"409\" xlink:href=\"data:image/png;base64,\niVBORw0KGgoAAAANSUhEUgAAB4wAAAGZCAYAAAByl8whAAAP50lEQVR4nO3bsW3DQBBFQZ1whbI0\nByqTAN0CAxsL8c1U8JONHnad1+d6cctex/QEAAAAAAAAgD/znh4AAAAAAAAAwAzBGAAAAAAAACBK\nMAYAAAAAAACIEowBAAAAAAAAogRjAAAAAAAAgCjBGAAAAAAAACBKMAYAAAAAAACIEowBAAAAAAAA\nogRjAAAAAAAAgCjBGAAAAAAAACBKMAYAAAAAAACIEowBAAAAAAAAogRjAAAAAAAAgCjBGAAAAAAA\nACBKMAYAAAAAAACIEowBAAAAAAAAogRjAAAAAAAAgCjBGAAAAAAAACBKMAYAAAAAAACIEowBAAAA\nAAAAogRjAAAAAAAAgCjBGAAAAAAAACBKMAYAAAAAAACIEowBAAAAAAAAogRjAAAAAAAAgCjBGAAA\nAAAAACBKMAYAAAAAAACIEowBAAAAAAAAogRjAAAAAAAAgCjBGAAAAAAAACBKMAYAAAAAAACIEowB\nAAAAAAAAogRjAAAAAAAAgCjBGAAAAAAAACBKMAYAAAAAAACIEowBAAAAAAAAogRjAAAAAAAAgCjB\nGAAAAAAAACBKMAYAAAAAAACIEowBAAAAAAAAogRjAAAAAAAAgCjBGAAAAAAAACBKMAYAAAAAAACI\nEowBAAAAAAAAogRjAAAAAAAAgCjBGAAAAAAAACBKMAYAAAAAAACIEowBAAAAAAAAogRjAAAAAAAA\ngCjBGAAAAAAAACBKMAYAAAAAAACIEowBAAAAAAAAogRjAAAAAAAAgCjBGAAAAAAAACBKMAYAAAAA\nAACIEowBAAAAAAAAogRjAAAAAAAAgCjBGAAAAAAAACBKMAYAAAAAAACIEowBAAAAAAAAogRjAAAA\nAAAAgCjBGAAAAAAAACBKMAYAAAAAAACIEowBAAAAAAAAogRjAAAAAAAAgCjBGAAAAAAAACBKMAYA\nAAAAAACIEowBAAAAAAAAogRjAAAAAAAAgCjBGAAAAAAAACBKMAYAAAAAAACIEowBAAAAAAAAogRj\nAAAAAAAAgCjBGAAAAAAAACBKMAYAAAAAAACIEowBAAAAAAAAogRjAAAAAAAAgCjBGAAAAAAAACBK\nMAYAAAAAAACIEowBAAAAAAAAogRjAAAAAAAAgCjBGAAAAAAAACBKMAYAAAAAAACIEowBAAAAAAAA\nogRjAAAAAAAAgCjBGAAAAAAAACBKMAYAAAAAAACIEowBAAAAAAAAogRjAAAAAAAAgCjBGAAAAAAA\nACBKMAYAAAAAAACIEowBAAAAAAAAogRjAAAAAAAAgCjBGAAAAAAAACBKMAYAAAAAAACIEowBAAAA\nAAAAogRjAAAAAAAAgCjBGAAAAAAAACBKMAYAAAAAAACIEowBAAAAAAAAogRjAAAAAAAAgCjBGAAA\nAAAAACBKMAYAAAAAAACIEowBAAAAAAAAogRjAAAAAAAAgCjBGAAAAAAAACBKMAYAAAAAAACIEowB\nAAAAAAAAogRjAAAAAAAAgCjBGAAAAAAAACBKMAYAAAAAAACIWuf1uaZH8Cx7HdMTAAAAAAAAgBt8\nGAMAAAAAAABECcYAAAAAAAAAUYIxAAAAAAAAQJRgDAAAAAAAABAlGAMAAAAAAABECcYAAAAAAAAA\nUYIxAAAAAAAAQJRgDAAAAAAAABAlGAMAAAAAAABECcYAAAAAAAAAUYIxAAAAAAAAQJRgDAAAAAAA\nABAlGAMAAAAAAABECcYAAAAAAAAAUYIxAAAAAAAAQJRgDAAAAAAAABAlGAMAAAAAAABECcYAAAAA\nAAAAUYIxAAAAAAAAQJRgDAAAAAAAABAlGAMAAAAAAABECcYAAAAAAAAAUYIxAAAAAAAAQJRgDAAA\nAAAAABAlGAMAAAAAAABECcYAAAAAAAAAUYIxAAAAAAAAQJRgDAAAAAAAABAlGAMAAAAAAABECcYA\nAAAAAAAAUYIxAAAAAAAAQJRgDAAAAAAAABAlGAMAAAAAAABECcYAAAAAAAAAUYIxAAAAAAAAQJRg\nDAAAAAAAABAlGAMAAAAAAABECcYAAAAAAAAAUYIxAAAAAAAAQJRgDAAAAAAAABAlGAMAAAAAAABE\nCcYAAAAAAAAAUYIxAAAAAAAAQJRgDAAAAAAAABAlGAMAAAAAAABECcYAAAAAAAAAUYIxAAAAAAAA\nQJRgDAAAAAAAABAlGAMAAAAAAABECcYAAAAAAAAAUYIxAAAAAAAAQJRgDAAAAAAAABAlGAMAAAAA\nAABECcYAAAAAAAAAUYIxAAAAAAAAQJRgDAAAAAAAABAlGAMAAAAAAABECcYAAAAAAAAAUYIxAAAA\nAAAAQJRgDAAAAAAAABAlGAMAAAAAAABECcYAAAAAAAAAUYIxAAAAAAAAQJRgDAAAAAAAABAlGAMA\nAAAAAABECcYAAAAAAAAAUYIxAAAAAAAAQJRgDAAAAAAAABAlGAMAAAAAAABECcYAAAAAAAAAUYIx\nAAAAAAAAQJRgDAAAAAAAABAlGAMAAAAAAABECcYAAAAAAAAAUYIxAAAAAAAAQJRgDAAAAAAAABAl\nGAMAAAAAAABECcYAAAAAAAAAUYIxAAAAAAAAQJRgDAAAAAAAABAlGAMAAAAAAABECcYAAAAAAAAA\nUYIxAAAAAAAAQJRgDAAAAAAAABAlGAMAAAAAAABECcYAAAAAAAAAUYIxAAAAAAAAQJRgDAAAAAAA\nABAlGAMAAAAAAABECcYAAAAAAAAAUYIxAAAAAAAAQJRgDAAAAAAAABAlGAMAAAAAAABECcYAAAAA\nAAAAUYIxAAAAAAAAQJRgDAAAAAAAABAlGAMAAAAAAABECcYAAAAAAAAAUYIxAAAAAAAAQJRgDAAA\nAAAAABAlGAMAAAAAAABECcYAAAAAAAAAUYIxAAAAAAAAQJRgDAAAAAAAABAlGAMAAAAAAABECcYA\nAAAAAAAAUYIxAAAAAAAAQJRgDAAAAAAAABAlGAMAAAAAAABECcYAAAAAAAAAUYIxAAAAAAAAQJRg\nDAAAAAAAABAlGAMAAAAAAABECcYAAAAAAAAAUYIxAAAAAAAAQJRgDAAAAAAAABAlGAMAAAAAAABE\nCcYAAAAAAAAAUYIxAAAAAAAAQJRgDAAAAAAAABAlGAMAAAAAAABECcYAAAAAAAAAUYIxAAAAAAAA\nQJRgDAAAAAAAABAlGAMAAAAAAABECcYAAAAAAAAAUYIxAAAAAAAAQJRgDAAAAAAAABAlGAMAAAAA\nAABECcYAAAAAAAAAUYIxAAAAAAAAQJRgDAAAAAAAABAlGAMAAAAAAABECcYAAAAAAAAAUYIxAAAA\nAAAAQJRgDAAAAAAAABAlGAMAAAAAAABECcYAAAAAAAAAUYIxAAAAAAAAQJRgDAAAAAAAABAlGAMA\nAAAAAABECcYAAAAAAAAAUYIxAAAAAAAAQJRgDAAAAAAAABAlGAMAAAAAAABECcYAAAAAAAAAUYIx\nAAAAAAAAQJRgDAAAAAAAABAlGAMAAAAAAABECcYAAAAAAAAAUYIxAAAAAAAAQJRgDAAAAAAAABAl\nGAMAAAAAAABECcYAAAAAAAAAUYIxAAAAAAAAQJRgDAAAAAAAABAlGAMAAAAAAABECcYAAAAAAAAA\nUYIxAAAAAAAAQJRgDAAAAAAAABAlGAMAAAAAAABECcYAAAAAAAAAUYIxAAAAAAAAQJRgDAAAAAAA\nABAlGAMAAAAAAABECcYAAAAAAAAAUYIxAAAAAAAAQJRgDAAAAAAAABAlGAMAAAAAAABECcYAAAAA\nAAAAUYIxAAAAAAAAQJRgDAAAAAAAABAlGAMAAAAAAABECcYAAAAAAAAAUYIxAAAAAAAAQJRgDAAA\nAAAAABAlGAMAAAAAAABECcYAAAAAAAAAUYIxAAAAAAAAQJRgDAAAAAAAABAlGAMAAAAAAABECcYA\nAAAAAAAAUYIxAAAAAAAAQJRgDAAAAAAAABAlGAMAAAAAAABE7ekB32SvY3rCVzivn+kJPIzbAwAA\nAAAA+B8+jAEAAAAAAACiBGMAAAAAAACAKMEYAAAAAAAAIEowBgAAAAAAAIgSjAEAAAAAAACiBGMA\nAAAAAACAKMEYAAAAAAAAIEowBgAAAAAAAIgSjAEAAAAAAACiBGMAAAAAAACAKMEYAAAAAAAAIEow\nBgAAAAAAAIgSjAEAAAAAAACiBGMAAAAAAACAKMEYAAAAAAAAIEowBgAAAAAAAIgSjAEAAAAAAACi\nBGMAAAAAAACAKMEYAAAAAAAAIEowBgAAAAAAAIgSjAEAAAAAAACiBGMAAAAAAACAKMEYAAAAAAAA\nIEowBgAAAAAAAIgSjAEAAAAAAACiBGMAAAAAAACAKMEYAAAAAAAAIEowBgAAAAAAAIgSjAEAAAAA\nAACiBGMAAAAAAACAKMEYAAAAAAAAIEowBgAAAAAAAIgSjAEAAAAAAACiBGMAAAAAAACAKMEYAAAA\nAAAAIEowBgAAAAAAAIja0wN4nr2O6QkAAAAAAADADT6MAQAAAAAAAKIEYwAAAAAAAIAowRgAAAAA\nAAAgSjAGAAAAAAAAiBKMAQAAAAAAAKIEYwAAAAAAAIAowRgAAAAAAAAgSjAGAAAAAAAAiBKMAQAA\nAAAAAKIEYwAAAAAAAIAowRgAAAAAAAAgSjAGAAAAAAAAiBKMAQAAAAAAAKIEYwAAAAAAAIAowRgA\nAAAAAAAgSjAGAAAAAAAAiBKMAQAAAAAAAKIEYwAAAAAAAIAowRgAAAAAAAAgSjAGAAAAAAAAiBKM\nAQAAAAAAAKIEYwAAAAAAAIAowRgAAAAAAAAgSjAGAAAAAAAAiBKMAQAAAAAAAKIEYwAAAAAAAIAo\nwRgAAAAAAAAgSjAGAAAAAAAAiBKMAQAAAAAAAKIEYwAAAAAAAIAowRgAAAAAAAAgSjAGAAAAAAAA\niBKMAQAAAAAAAKIEYwAAAAAAAIAowRgAAAAAAAAgSjAGAAAAAAAAiBKMAQAAAAAAAKIEYwAAAAAA\nAIAowRgAAAAAAAAgSjAGAAAAAAAAiBKMAQAAAAAAAKIEYwAAAAAAAIAowRgAAAAAAAAgSjAGAAAA\nAAAAiBKMAQAAAAAAAKIEYwAAAAAAAIAowRgAAAAAAAAgSjAGAAAAAAAAiBKMAQAAAAAAAKIEYwAA\nAAAAAIAowRgAAAAAAAAgSjAGAAAAAAAAiBKMAQAAAAAAAKIEYwAAAAAAAIAowRgAAAAAAAAgSjAG\nAAAAAAAAiBKMAQAAAAAAAKIEYwAAAAAAAIAowRgAAAAAAAAgSjAGAAAAAAAAiBKMAQAAAAAAAKIE\nYwAAAAAAAIAowRgAAAAAAAAgSjAGAAAAAAAAiBKMAQAAAAAAAKIEYwAAAAAAAIAowRgAAAAAAAAg\nSjAGAAAAAAAAiBKMAQAAAAAAAKIEYwAAAAAAAIAowRgAAAAAAAAgSjAGAAAAAAAAiBKMAQAAAAAA\nAKJ+Aff2DwV18kaxAAAAAElFTkSuQmCC\n\" transform=\"translate(149, 571)\"/>\n</g>\n<defs>\n  <clipPath id=\"clip2204\">\n    <rect x=\"2129\" y=\"571\" width=\"73\" height=\"410\"/>\n  </clipPath>\n</defs>\n<g clip-path=\"url(#clip2204)\">\n<image width=\"72\" height=\"409\" xlink:href=\"data:image/png;base64,\niVBORw0KGgoAAAANSUhEUgAAAEgAAAGZCAYAAAAq+Hd5AAAEOUlEQVR4nO3dwbEjNwxAQcqF/KNw\nlvaSjsB4R+nQHYGKhYfhSL92P//ev9/hf/317Q/w6+a+f7/9GX6aCQrzTNBq3nVAG4kFiQUHFCQW\nTFAwQcFjPkgsSCyYoDDHDlpJLJigYILCHEt6JbEgsWCCwpz7z7c/w0+TWPAUCyYoWNLBAQWJhfm8\nP9/+DD9tznVAG4mF+ZiglQkKdlCY4ym2kliwpIMdFCQWJBZMULCDwnzu/fZn+GkSCxILDihILLgH\nBRMU5njMryQWJBY85oMDChILXlaDCQruQcGSDhILEgsOKEgsuAcFExQ85oMlHSQWTFBwQEFiYc71\nD3FuTFCY8+ygjSUdJBYs6SCxILFggoIJCpZ0kFiQWJhjgFYOKEgsjJf5nQkKdlBwQEFiwQSFOV7F\nVhIL8+7n25/hp5mgYEmHORJbSSzMeyZoI7EgsWCCggkKlnSQWJBYmHOd0cYOCsYnWNLBBAXfKIY5\nzxBtnE6QWHBAQWLBq0ZwOsG7WPCqESQW5lnSKzsoGJ9gSQcTFCzpYEkH4xN83RHm+cp15XSCe1Cw\ng4LEgntQMEHBq0aQWDA+wWM+SCxILHiKBacT7KDgKRYkFiQWPMWC0wkSCyYomKDggILEgpt0mOun\n55XTCZZ0MEHBkg4SCxILJig4oCCxYIKCCQpzTdBKYkFiwQQFBxQkFkxQMEHBBAUXxSCxILHggILE\ngl9Wg9MJdlBwDwoSCxILEgsSCxILJiiYoGBJB4mFeccEbSQWJBY8xYIJCnP9d+oriQWJBY/5MNdF\ncSWxYEkHExQs6SCxILEw99uf4MdJLEgseIoFExR8aR8kFiQWfOUa7KAgseAmHUxQ8LIaJBYkFiQW\nJBYkFrysBhMUxrvqTmJBYkFiQWJBYkFiwQQFOyj4VSNILPjZJ0gsSCz4S/tggsI8O2jlohgkFrys\nBvegILHgHhRMUHAPCv66I0gsuEkHOyhILFjSwQQFOyh41QgSC77uCL4wCxILEgsOKEgs+OuOYIKC\nHRTcg4LEgsSCAwoSC5Z0MEHBDgp+1QgSC37VCHZQkFhwDwomKNhBYd5xQhuJBYkFT7EgsSCxYIKC\nHRQkFiQWfB8U5nrVWEksSCyYoGAHBb+LBYmFebb0SmJBYsHLajBBwc8+QWJBYsGrRrCDgsSCxIIJ\nCiYozPU2v5JY8JgPdlCQWDBBwQQFExTmHV/bbyQWJBbmfiS2kViYa0mvTFAwQcE9KEgszP24B23s\noCCxYIKCCQoe82Hu+fPtz/DTJBYs6TBPYiuJBYkFExRMULCkg8SCxILEgsSCt/lggsLcZ4I2EgsS\nC/MktpJYkFhwkw4mKLgHBUs6SCy4BwVPsSCxILFggoLHfJBYkFjwmA8SCxILnmLBBIV5z5LeSCxI\nLMzxL1Ct5khsJbHgJh1MULCDgntQkFiYY0mvJBYkFjzFwn/5tuhBT8Q/GAAAAABJRU5ErkJggg==\n\" transform=\"translate(2129, 571)\"/>\n</g>\n<g clip-path=\"url(#clip2201)\">\n<text style=\"fill:#000000; fill-opacity:1; font-family:Arial,Helvetica Neue,Helvetica,sans-serif; font-size:48px; text-anchor:start;\" transform=\"rotate(0, 2237.26, 993.346)\" x=\"2237.26\" y=\"993.346\">0</text>\n</g>\n<g clip-path=\"url(#clip2201)\">\n<text style=\"fill:#000000; fill-opacity:1; font-family:Arial,Helvetica Neue,Helvetica,sans-serif; font-size:48px; text-anchor:start;\" transform=\"rotate(0, 2237.26, 952.479)\" x=\"2237.26\" y=\"952.479\">0.1</text>\n</g>\n<g clip-path=\"url(#clip2201)\">\n<text style=\"fill:#000000; fill-opacity:1; font-family:Arial,Helvetica Neue,Helvetica,sans-serif; font-size:48px; text-anchor:start;\" transform=\"rotate(0, 2237.26, 911.612)\" x=\"2237.26\" y=\"911.612\">0.2</text>\n</g>\n<g clip-path=\"url(#clip2201)\">\n<text style=\"fill:#000000; fill-opacity:1; font-family:Arial,Helvetica Neue,Helvetica,sans-serif; font-size:48px; text-anchor:start;\" transform=\"rotate(0, 2237.26, 870.745)\" x=\"2237.26\" y=\"870.745\">0.3</text>\n</g>\n<g clip-path=\"url(#clip2201)\">\n<text style=\"fill:#000000; fill-opacity:1; font-family:Arial,Helvetica Neue,Helvetica,sans-serif; font-size:48px; text-anchor:start;\" transform=\"rotate(0, 2237.26, 829.878)\" x=\"2237.26\" y=\"829.878\">0.4</text>\n</g>\n<g clip-path=\"url(#clip2201)\">\n<text style=\"fill:#000000; fill-opacity:1; font-family:Arial,Helvetica Neue,Helvetica,sans-serif; font-size:48px; text-anchor:start;\" transform=\"rotate(0, 2237.26, 789.011)\" x=\"2237.26\" y=\"789.011\">0.5</text>\n</g>\n<g clip-path=\"url(#clip2201)\">\n<text style=\"fill:#000000; fill-opacity:1; font-family:Arial,Helvetica Neue,Helvetica,sans-serif; font-size:48px; text-anchor:start;\" transform=\"rotate(0, 2237.26, 748.144)\" x=\"2237.26\" y=\"748.144\">0.6</text>\n</g>\n<g clip-path=\"url(#clip2201)\">\n<text style=\"fill:#000000; fill-opacity:1; font-family:Arial,Helvetica Neue,Helvetica,sans-serif; font-size:48px; text-anchor:start;\" transform=\"rotate(0, 2237.26, 707.276)\" x=\"2237.26\" y=\"707.276\">0.7</text>\n</g>\n<g clip-path=\"url(#clip2201)\">\n<text style=\"fill:#000000; fill-opacity:1; font-family:Arial,Helvetica Neue,Helvetica,sans-serif; font-size:48px; text-anchor:start;\" transform=\"rotate(0, 2237.26, 666.409)\" x=\"2237.26\" y=\"666.409\">0.8</text>\n</g>\n<g clip-path=\"url(#clip2201)\">\n<text style=\"fill:#000000; fill-opacity:1; font-family:Arial,Helvetica Neue,Helvetica,sans-serif; font-size:48px; text-anchor:start;\" transform=\"rotate(0, 2237.26, 625.542)\" x=\"2237.26\" y=\"625.542\">0.9</text>\n</g>\n<g clip-path=\"url(#clip2201)\">\n<text style=\"fill:#000000; fill-opacity:1; font-family:Arial,Helvetica Neue,Helvetica,sans-serif; font-size:48px; text-anchor:start;\" transform=\"rotate(0, 2237.26, 584.675)\" x=\"2237.26\" y=\"584.675\">1.0</text>\n</g>\n<polyline clip-path=\"url(#clip2201)\" style=\"stroke:#000000; stroke-width:4; stroke-opacity:1; fill:none\" points=\"\n  2201.26,979.695 2201.26,979.695 2225.26,979.695 2201.26,979.695 2201.26,938.828 2225.26,938.828 2201.26,938.828 2201.26,897.961 2225.26,897.961 2201.26,897.961 \n  2201.26,857.094 2225.26,857.094 2201.26,857.094 2201.26,816.227 2225.26,816.227 2201.26,816.227 2201.26,775.359 2225.26,775.359 2201.26,775.359 2201.26,734.492 \n  2225.26,734.492 2201.26,734.492 2201.26,693.625 2225.26,693.625 2201.26,693.625 2201.26,652.758 2225.26,652.758 2201.26,652.758 2201.26,611.891 2225.26,611.891 \n  2201.26,611.891 2201.26,571.024 2225.26,571.024 2201.26,571.024 \n  \"/>\n<g clip-path=\"url(#clip2201)\">\n<text style=\"fill:#000000; fill-opacity:1; font-family:Arial,Helvetica Neue,Helvetica,sans-serif; font-size:66px; text-anchor:middle;\" transform=\"rotate(-90, 2378.86, 775.359)\" x=\"2378.86\" y=\"775.359\"></text>\n</g>\n</svg>\n"
                     },
                     "type": "node"
                    }
                   ],
                   "instanceArgs": {
                    "namespace": "html",
                    "tag": "div"
                   },
                   "nodeType": "DOM",
                   "props": {
                    "attributes": {
                     "style": "display:flex; justify-content:center; align-items:center;"
                    }
                   },
                   "type": "node"
                  }
                 }
                },
                "systemjs_options": null
               },
               "nodeType": "Scope",
               "props": {},
               "type": "node"
              }
             ],
             "instanceArgs": {
              "namespace": "html",
              "tag": "div"
             },
             "nodeType": "DOM",
             "props": {},
             "type": "node"
            }
           }
          },
          "systemjs_options": null
         },
         "nodeType": "Scope",
         "props": {},
         "type": "node"
        }
       ],
       "instanceArgs": {
        "namespace": "html",
        "tag": "div"
       },
       "nodeType": "DOM",
       "props": {},
       "type": "node"
      },
      "text/html": [
       "<div\n",
       "    class=\"webio-mountpoint\"\n",
       "    data-webio-mountpoint=\"13945443994439652262\"\n",
       ">\n",
       "    <script>\n",
       "    if (window.require && require.defined && require.defined(\"nbextensions/webio/main\")) {\n",
       "        console.log(\"Jupyter WebIO extension detected, not mounting.\");\n",
       "    } else if (window.WebIO) {\n",
       "        WebIO.mount(\n",
       "            document.querySelector('[data-webio-mountpoint=\"13945443994439652262\"]'),\n",
       "            {\"props\":{},\"nodeType\":\"DOM\",\"type\":\"node\",\"instanceArgs\":{\"namespace\":\"html\",\"tag\":\"div\"},\"children\":[{\"props\":{\"className\":\"field\"},\"nodeType\":\"DOM\",\"type\":\"node\",\"instanceArgs\":{\"namespace\":\"html\",\"tag\":\"div\"},\"children\":[{\"props\":{},\"nodeType\":\"Scope\",\"type\":\"node\",\"instanceArgs\":{\"imports\":{\"data\":[{\"name\":\"knockout\",\"type\":\"js\",\"url\":\"\\/assetserver\\/5bdfa0079f8054411755b58d5cbf209816eb3491-knockout.js\"},{\"name\":\"knockout_punches\",\"type\":\"js\",\"url\":\"\\/assetserver\\/855febee65039013a347552d0c4d4111c3742744-knockout_punches.js\"},{\"name\":null,\"type\":\"js\",\"url\":\"\\/assetserver\\/c520edf59e8047fe705fc94922c00f742e98d6ca-all.js\"},{\"name\":null,\"type\":\"css\",\"url\":\"\\/assetserver\\/2e452758e706a09118283eb71a88f2d2c42ad320-style.css\"},{\"name\":null,\"type\":\"css\",\"url\":\"\\/assetserver\\/161e8bbeb8bd5574618f97bdf4a5bbe64bae489f-main.css\"}],\"type\":\"async_block\"},\"id\":\"knockout-component-4dcfab5a-8511-4fcd-9ac6-a6a20985b524\",\"handlers\":{\"formatted_vals\":[\"(function (val){return (val!=this.model[\\\"formatted_vals\\\"]()) ? (this.valueFromJulia[\\\"formatted_vals\\\"]=true, this.model[\\\"formatted_vals\\\"](val)) : undefined})\"],\"_promises\":{\"importsLoaded\":[\"function (ko, koPunches) {\\n    ko.punches.enableAll();\\n    ko.bindingHandlers.numericValue = {\\n        init : function(element, valueAccessor, allBindings, data, context) {\\n            var stringified = ko.observable(ko.unwrap(valueAccessor()));\\n            stringified.subscribe(function(value) {\\n                var val = parseFloat(value);\\n                if (!isNaN(val)) {\\n                    valueAccessor()(val);\\n                }\\n            })\\n            valueAccessor().subscribe(function(value) {\\n                var str = JSON.stringify(value);\\n                if ((str == \\\"0\\\") && ([\\\"-0\\\", \\\"-0.\\\"].indexOf(stringified()) >= 0))\\n                     return;\\n                 if ([\\\"null\\\", \\\"\\\"].indexOf(str) >= 0)\\n                     return;\\n                stringified(str);\\n            })\\n            ko.applyBindingsToNode(element, { value: stringified, valueUpdate: allBindings.get('valueUpdate')}, context);\\n        }\\n    };\\n    var json_data = JSON.parse(\\\"{\\\\\\\"formatted_vals\\\\\\\":[\\\\\\\"0.0\\\\\\\",\\\\\\\"1.0\\\\\\\",\\\\\\\"2.0\\\\\\\",\\\\\\\"3.0\\\\\\\",\\\\\\\"4.0\\\\\\\",\\\\\\\"5.0\\\\\\\",\\\\\\\"6.0\\\\\\\",\\\\\\\"7.0\\\\\\\",\\\\\\\"8.0\\\\\\\",\\\\\\\"9.0\\\\\\\",\\\\\\\"10.0\\\\\\\",\\\\\\\"11.0\\\\\\\",\\\\\\\"12.0\\\\\\\",\\\\\\\"13.0\\\\\\\",\\\\\\\"14.0\\\\\\\"],\\\\\\\"changes\\\\\\\":0,\\\\\\\"formatted_value\\\\\\\":\\\\\\\"7.0\\\\\\\",\\\\\\\"index\\\\\\\":8}\\\");\\n    var self = this;\\n    function AppViewModel() {\\n        for (var key in json_data) {\\n            var el = json_data[key];\\n            this[key] = Array.isArray(el) ? ko.observableArray(el) : ko.observable(el);\\n        }\\n        \\n        \\n        [this[\\\"formatted_vals\\\"].subscribe((function (val){!(this.valueFromJulia[\\\"formatted_vals\\\"]) ? (WebIO.setval({\\\"name\\\":\\\"formatted_vals\\\",\\\"scope\\\":\\\"knockout-component-4dcfab5a-8511-4fcd-9ac6-a6a20985b524\\\",\\\"id\\\":\\\"ob_1148\\\",\\\"type\\\":\\\"observable\\\"},val)) : undefined; return this.valueFromJulia[\\\"formatted_vals\\\"]=false}),self),this[\\\"changes\\\"].subscribe((function (val){!(this.valueFromJulia[\\\"changes\\\"]) ? (WebIO.setval({\\\"name\\\":\\\"changes\\\",\\\"scope\\\":\\\"knockout-component-4dcfab5a-8511-4fcd-9ac6-a6a20985b524\\\",\\\"id\\\":\\\"ob_1150\\\",\\\"type\\\":\\\"observable\\\"},val)) : undefined; return this.valueFromJulia[\\\"changes\\\"]=false}),self),this[\\\"formatted_value\\\"].subscribe((function (val){!(this.valueFromJulia[\\\"formatted_value\\\"]) ? (WebIO.setval({\\\"name\\\":\\\"formatted_value\\\",\\\"scope\\\":\\\"knockout-component-4dcfab5a-8511-4fcd-9ac6-a6a20985b524\\\",\\\"id\\\":\\\"ob_1149\\\",\\\"type\\\":\\\"observable\\\"},val)) : undefined; return this.valueFromJulia[\\\"formatted_value\\\"]=false}),self),this[\\\"index\\\"].subscribe((function (val){!(this.valueFromJulia[\\\"index\\\"]) ? (WebIO.setval({\\\"name\\\":\\\"index\\\",\\\"scope\\\":\\\"knockout-component-4dcfab5a-8511-4fcd-9ac6-a6a20985b524\\\",\\\"id\\\":\\\"ob_1147\\\",\\\"type\\\":\\\"observable\\\"},val)) : undefined; return this.valueFromJulia[\\\"index\\\"]=false}),self)]\\n        \\n    }\\n    self.model = new AppViewModel();\\n    self.valueFromJulia = {};\\n    for (var key in json_data) {\\n        self.valueFromJulia[key] = false;\\n    }\\n    ko.applyBindings(self.model, self.dom);\\n}\\n\"]},\"changes\":[\"(function (val){return (val!=this.model[\\\"changes\\\"]()) ? (this.valueFromJulia[\\\"changes\\\"]=true, this.model[\\\"changes\\\"](val)) : undefined})\"],\"formatted_value\":[\"(function (val){return (val!=this.model[\\\"formatted_value\\\"]()) ? (this.valueFromJulia[\\\"formatted_value\\\"]=true, this.model[\\\"formatted_value\\\"](val)) : undefined})\"],\"index\":[\"(function (val){return (val!=this.model[\\\"index\\\"]()) ? (this.valueFromJulia[\\\"index\\\"]=true, this.model[\\\"index\\\"](val)) : undefined})\",\"(function (val){return WebIO.setval({\\\"name\\\":\\\"formatted_value\\\",\\\"scope\\\":\\\"knockout-component-4dcfab5a-8511-4fcd-9ac6-a6a20985b524\\\",\\\"id\\\":\\\"ob_1149\\\",\\\"type\\\":\\\"observable\\\"},WebIO.getval({\\\"name\\\":\\\"formatted_vals\\\",\\\"scope\\\":\\\"knockout-component-4dcfab5a-8511-4fcd-9ac6-a6a20985b524\\\",\\\"id\\\":\\\"ob_1148\\\",\\\"type\\\":\\\"observable\\\"})[(WebIO.getval({\\\"name\\\":\\\"index\\\",\\\"scope\\\":\\\"knockout-component-4dcfab5a-8511-4fcd-9ac6-a6a20985b524\\\",\\\"id\\\":\\\"ob_1147\\\",\\\"type\\\":\\\"observable\\\"})-1)])})\"]},\"systemjs_options\":null,\"observables\":{\"formatted_vals\":{\"sync\":false,\"id\":\"ob_1148\",\"value\":[\"0.0\",\"1.0\",\"2.0\",\"3.0\",\"4.0\",\"5.0\",\"6.0\",\"7.0\",\"8.0\",\"9.0\",\"10.0\",\"11.0\",\"12.0\",\"13.0\",\"14.0\"]},\"changes\":{\"sync\":false,\"id\":\"ob_1150\",\"value\":0},\"formatted_value\":{\"sync\":false,\"id\":\"ob_1149\",\"value\":\"7.0\"},\"index\":{\"sync\":true,\"id\":\"ob_1147\",\"value\":8}}},\"children\":[{\"props\":{\"attributes\":{\"style\":\"display:flex; justify-content:center; align-items:center;\"}},\"nodeType\":\"DOM\",\"type\":\"node\",\"instanceArgs\":{\"namespace\":\"html\",\"tag\":\"div\"},\"children\":[{\"props\":{\"attributes\":{\"style\":\"text-align:right;width:18%\"}},\"nodeType\":\"DOM\",\"type\":\"node\",\"instanceArgs\":{\"namespace\":\"html\",\"tag\":\"div\"},\"children\":[{\"props\":{\"className\":\"interact \",\"style\":{\"padding\":\"5px 10px 0px 10px\"}},\"nodeType\":\"DOM\",\"type\":\"node\",\"instanceArgs\":{\"namespace\":\"html\",\"tag\":\"label\"},\"children\":[\"ego_v\"]}]},{\"props\":{\"attributes\":{\"style\":\"flex-grow:1; margin: 0 2%\"}},\"nodeType\":\"DOM\",\"type\":\"node\",\"instanceArgs\":{\"namespace\":\"html\",\"tag\":\"div\"},\"children\":[{\"props\":{\"max\":15,\"min\":1,\"attributes\":{\"type\":\"range\",\"data-bind\":\"numericValue: index, valueUpdate: 'input', event: {change : function () {this.changes(this.changes()+1)}}\",\"orient\":\"horizontal\"},\"step\":1,\"className\":\"slider slider is-fullwidth\",\"style\":{}},\"nodeType\":\"DOM\",\"type\":\"node\",\"instanceArgs\":{\"namespace\":\"html\",\"tag\":\"input\"},\"children\":[]}]},{\"props\":{\"attributes\":{\"style\":\"width:18%\"}},\"nodeType\":\"DOM\",\"type\":\"node\",\"instanceArgs\":{\"namespace\":\"html\",\"tag\":\"div\"},\"children\":[{\"props\":{\"attributes\":{\"data-bind\":\"text: formatted_value\"}},\"nodeType\":\"DOM\",\"type\":\"node\",\"instanceArgs\":{\"namespace\":\"html\",\"tag\":\"p\"},\"children\":[]}]}]}]}]},{\"props\":{},\"nodeType\":\"Scope\",\"type\":\"node\",\"instanceArgs\":{\"imports\":{\"data\":[],\"type\":\"async_block\"},\"id\":\"scope-cd4812fc-7f21-4313-83ec-07edd9dd2739\",\"handlers\":{},\"systemjs_options\":null,\"observables\":{\"obs-scope\":{\"sync\":false,\"id\":\"ob_1160\",\"value\":{\"props\":{},\"nodeType\":\"DOM\",\"type\":\"node\",\"instanceArgs\":{\"namespace\":\"html\",\"tag\":\"div\"},\"children\":[{\"props\":{\"className\":\"field\"},\"nodeType\":\"DOM\",\"type\":\"node\",\"instanceArgs\":{\"namespace\":\"html\",\"tag\":\"div\"},\"children\":[{\"props\":{},\"nodeType\":\"Scope\",\"type\":\"node\",\"instanceArgs\":{\"imports\":{\"data\":[{\"name\":\"knockout\",\"type\":\"js\",\"url\":\"\\/assetserver\\/5bdfa0079f8054411755b58d5cbf209816eb3491-knockout.js\"},{\"name\":\"knockout_punches\",\"type\":\"js\",\"url\":\"\\/assetserver\\/855febee65039013a347552d0c4d4111c3742744-knockout_punches.js\"},{\"name\":null,\"type\":\"js\",\"url\":\"\\/assetserver\\/c520edf59e8047fe705fc94922c00f742e98d6ca-all.js\"},{\"name\":null,\"type\":\"css\",\"url\":\"\\/assetserver\\/2e452758e706a09118283eb71a88f2d2c42ad320-style.css\"},{\"name\":null,\"type\":\"css\",\"url\":\"\\/assetserver\\/161e8bbeb8bd5574618f97bdf4a5bbe64bae489f-main.css\"}],\"type\":\"async_block\"},\"id\":\"knockout-component-8116c885-c5d8-4a62-9685-5c84bfbc42c7\",\"handlers\":{\"formatted_vals\":[\"(function (val){return (val!=this.model[\\\"formatted_vals\\\"]()) ? (this.valueFromJulia[\\\"formatted_vals\\\"]=true, this.model[\\\"formatted_vals\\\"](val)) : undefined})\"],\"_promises\":{\"importsLoaded\":[\"function (ko, koPunches) {\\n    ko.punches.enableAll();\\n    ko.bindingHandlers.numericValue = {\\n        init : function(element, valueAccessor, allBindings, data, context) {\\n            var stringified = ko.observable(ko.unwrap(valueAccessor()));\\n            stringified.subscribe(function(value) {\\n                var val = parseFloat(value);\\n                if (!isNaN(val)) {\\n                    valueAccessor()(val);\\n                }\\n            })\\n            valueAccessor().subscribe(function(value) {\\n                var str = JSON.stringify(value);\\n                if ((str == \\\"0\\\") && ([\\\"-0\\\", \\\"-0.\\\"].indexOf(stringified()) >= 0))\\n                     return;\\n                 if ([\\\"null\\\", \\\"\\\"].indexOf(str) >= 0)\\n                     return;\\n                stringified(str);\\n            })\\n            ko.applyBindingsToNode(element, { value: stringified, valueUpdate: allBindings.get('valueUpdate')}, context);\\n        }\\n    };\\n    var json_data = JSON.parse(\\\"{\\\\\\\"formatted_vals\\\\\\\":[\\\\\\\"0.0\\\\\\\",\\\\\\\"0.5\\\\\\\",\\\\\\\"1.0\\\\\\\",\\\\\\\"1.5\\\\\\\",\\\\\\\"2.0\\\\\\\"],\\\\\\\"changes\\\\\\\":0,\\\\\\\"formatted_value\\\\\\\":\\\\\\\"1.0\\\\\\\",\\\\\\\"index\\\\\\\":3}\\\");\\n    var self = this;\\n    function AppViewModel() {\\n        for (var key in json_data) {\\n            var el = json_data[key];\\n            this[key] = Array.isArray(el) ? ko.observableArray(el) : ko.observable(el);\\n        }\\n        \\n        \\n        [this[\\\"formatted_vals\\\"].subscribe((function (val){!(this.valueFromJulia[\\\"formatted_vals\\\"]) ? (WebIO.setval({\\\"name\\\":\\\"formatted_vals\\\",\\\"scope\\\":\\\"knockout-component-8116c885-c5d8-4a62-9685-5c84bfbc42c7\\\",\\\"id\\\":\\\"ob_1153\\\",\\\"type\\\":\\\"observable\\\"},val)) : undefined; return this.valueFromJulia[\\\"formatted_vals\\\"]=false}),self),this[\\\"changes\\\"].subscribe((function (val){!(this.valueFromJulia[\\\"changes\\\"]) ? (WebIO.setval({\\\"name\\\":\\\"changes\\\",\\\"scope\\\":\\\"knockout-component-8116c885-c5d8-4a62-9685-5c84bfbc42c7\\\",\\\"id\\\":\\\"ob_1155\\\",\\\"type\\\":\\\"observable\\\"},val)) : undefined; return this.valueFromJulia[\\\"changes\\\"]=false}),self),this[\\\"formatted_value\\\"].subscribe((function (val){!(this.valueFromJulia[\\\"formatted_value\\\"]) ? (WebIO.setval({\\\"name\\\":\\\"formatted_value\\\",\\\"scope\\\":\\\"knockout-component-8116c885-c5d8-4a62-9685-5c84bfbc42c7\\\",\\\"id\\\":\\\"ob_1154\\\",\\\"type\\\":\\\"observable\\\"},val)) : undefined; return this.valueFromJulia[\\\"formatted_value\\\"]=false}),self),this[\\\"index\\\"].subscribe((function (val){!(this.valueFromJulia[\\\"index\\\"]) ? (WebIO.setval({\\\"name\\\":\\\"index\\\",\\\"scope\\\":\\\"knockout-component-8116c885-c5d8-4a62-9685-5c84bfbc42c7\\\",\\\"id\\\":\\\"ob_1152\\\",\\\"type\\\":\\\"observable\\\"},val)) : undefined; return this.valueFromJulia[\\\"index\\\"]=false}),self)]\\n        \\n    }\\n    self.model = new AppViewModel();\\n    self.valueFromJulia = {};\\n    for (var key in json_data) {\\n        self.valueFromJulia[key] = false;\\n    }\\n    ko.applyBindings(self.model, self.dom);\\n}\\n\"]},\"changes\":[\"(function (val){return (val!=this.model[\\\"changes\\\"]()) ? (this.valueFromJulia[\\\"changes\\\"]=true, this.model[\\\"changes\\\"](val)) : undefined})\"],\"formatted_value\":[\"(function (val){return (val!=this.model[\\\"formatted_value\\\"]()) ? (this.valueFromJulia[\\\"formatted_value\\\"]=true, this.model[\\\"formatted_value\\\"](val)) : undefined})\"],\"index\":[\"(function (val){return (val!=this.model[\\\"index\\\"]()) ? (this.valueFromJulia[\\\"index\\\"]=true, this.model[\\\"index\\\"](val)) : undefined})\",\"(function (val){return WebIO.setval({\\\"name\\\":\\\"formatted_value\\\",\\\"scope\\\":\\\"knockout-component-8116c885-c5d8-4a62-9685-5c84bfbc42c7\\\",\\\"id\\\":\\\"ob_1154\\\",\\\"type\\\":\\\"observable\\\"},WebIO.getval({\\\"name\\\":\\\"formatted_vals\\\",\\\"scope\\\":\\\"knockout-component-8116c885-c5d8-4a62-9685-5c84bfbc42c7\\\",\\\"id\\\":\\\"ob_1153\\\",\\\"type\\\":\\\"observable\\\"})[(WebIO.getval({\\\"name\\\":\\\"index\\\",\\\"scope\\\":\\\"knockout-component-8116c885-c5d8-4a62-9685-5c84bfbc42c7\\\",\\\"id\\\":\\\"ob_1152\\\",\\\"type\\\":\\\"observable\\\"})-1)])})\"]},\"systemjs_options\":null,\"observables\":{\"formatted_vals\":{\"sync\":false,\"id\":\"ob_1153\",\"value\":[\"0.0\",\"0.5\",\"1.0\",\"1.5\",\"2.0\"]},\"changes\":{\"sync\":false,\"id\":\"ob_1155\",\"value\":0},\"formatted_value\":{\"sync\":false,\"id\":\"ob_1154\",\"value\":\"1.0\"},\"index\":{\"sync\":true,\"id\":\"ob_1152\",\"value\":3}}},\"children\":[{\"props\":{\"attributes\":{\"style\":\"display:flex; justify-content:center; align-items:center;\"}},\"nodeType\":\"DOM\",\"type\":\"node\",\"instanceArgs\":{\"namespace\":\"html\",\"tag\":\"div\"},\"children\":[{\"props\":{\"attributes\":{\"style\":\"text-align:right;width:18%\"}},\"nodeType\":\"DOM\",\"type\":\"node\",\"instanceArgs\":{\"namespace\":\"html\",\"tag\":\"div\"},\"children\":[{\"props\":{\"className\":\"interact \",\"style\":{\"padding\":\"5px 10px 0px 10px\"}},\"nodeType\":\"DOM\",\"type\":\"node\",\"instanceArgs\":{\"namespace\":\"html\",\"tag\":\"label\"},\"children\":[\"ped_v\"]}]},{\"props\":{\"attributes\":{\"style\":\"flex-grow:1; margin: 0 2%\"}},\"nodeType\":\"DOM\",\"type\":\"node\",\"instanceArgs\":{\"namespace\":\"html\",\"tag\":\"div\"},\"children\":[{\"props\":{\"max\":5,\"min\":1,\"attributes\":{\"type\":\"range\",\"data-bind\":\"numericValue: index, valueUpdate: 'input', event: {change : function () {this.changes(this.changes()+1)}}\",\"orient\":\"horizontal\"},\"step\":1,\"className\":\"slider slider is-fullwidth\",\"style\":{}},\"nodeType\":\"DOM\",\"type\":\"node\",\"instanceArgs\":{\"namespace\":\"html\",\"tag\":\"input\"},\"children\":[]}]},{\"props\":{\"attributes\":{\"style\":\"width:18%\"}},\"nodeType\":\"DOM\",\"type\":\"node\",\"instanceArgs\":{\"namespace\":\"html\",\"tag\":\"div\"},\"children\":[{\"props\":{\"attributes\":{\"data-bind\":\"text: formatted_value\"}},\"nodeType\":\"DOM\",\"type\":\"node\",\"instanceArgs\":{\"namespace\":\"html\",\"tag\":\"p\"},\"children\":[]}]}]}]}]},{\"props\":{},\"nodeType\":\"Scope\",\"type\":\"node\",\"instanceArgs\":{\"imports\":{\"data\":[],\"type\":\"async_block\"},\"id\":\"scope-4d72a825-056d-4bef-a196-f4676b2228f9\",\"handlers\":{},\"systemjs_options\":null,\"observables\":{\"obs-node\":{\"sync\":false,\"id\":\"ob_1161\",\"value\":{\"props\":{\"attributes\":{\"style\":\"display:flex; justify-content:center; align-items:center;\"}},\"nodeType\":\"DOM\",\"type\":\"node\",\"instanceArgs\":{\"namespace\":\"html\",\"tag\":\"div\"},\"children\":[{\"props\":{\"setInnerHtml\":\"<?xml version=\\\"1.0\\\" encoding=\\\"utf-8\\\"?>\\n<svg xmlns=\\\"http:\\/\\/www.w3.org\\/2000\\/svg\\\" xmlns:xlink=\\\"http:\\/\\/www.w3.org\\/1999\\/xlink\\\" width=\\\"600\\\" height=\\\"400\\\" viewBox=\\\"0 0 2400 1600\\\">\\n<defs>\\n  <clipPath id=\\\"clip2000\\\">\\n    <rect x=\\\"0\\\" y=\\\"0\\\" width=\\\"2000\\\" height=\\\"2000\\\"\\/>\\n  <\\/clipPath>\\n<\\/defs>\\n<defs>\\n  <clipPath id=\\\"clip2001\\\">\\n    <rect x=\\\"0\\\" y=\\\"0\\\" width=\\\"2400\\\" height=\\\"1600\\\"\\/>\\n  <\\/clipPath>\\n<\\/defs>\\n<polygon clip-path=\\\"url(#clip2001)\\\" points=\\\"\\n0,1600 2400,1600 2400,0 0,0 \\n  \\\" fill=\\\"#ffffff\\\" fill-opacity=\\\"1\\\"\\/>\\n<defs>\\n  <clipPath id=\\\"clip2002\\\">\\n    <rect x=\\\"480\\\" y=\\\"0\\\" width=\\\"1681\\\" height=\\\"1600\\\"\\/>\\n  <\\/clipPath>\\n<\\/defs>\\n<polygon clip-path=\\\"url(#clip2001)\\\" points=\\\"\\n149.361,979.695 2081.26,979.695 2081.26,571.024 149.361,571.024 \\n  \\\" fill=\\\"#ffffff\\\" fill-opacity=\\\"1\\\"\\/>\\n<defs>\\n  <clipPath id=\\\"clip2003\\\">\\n    <rect x=\\\"149\\\" y=\\\"571\\\" width=\\\"1933\\\" height=\\\"410\\\"\\/>\\n  <\\/clipPath>\\n<\\/defs>\\n<polyline clip-path=\\\"url(#clip2003)\\\" style=\\\"stroke:#000000; stroke-width:2; stroke-opacity:0.1; fill:none\\\" points=\\\"\\n  186.513,979.695 186.513,571.024 \\n  \\\"\\/>\\n<polyline clip-path=\\\"url(#clip2003)\\\" style=\\\"stroke:#000000; stroke-width:2; stroke-opacity:0.1; fill:none\\\" points=\\\"\\n  558.032,979.695 558.032,571.024 \\n  \\\"\\/>\\n<polyline clip-path=\\\"url(#clip2003)\\\" style=\\\"stroke:#000000; stroke-width:2; stroke-opacity:0.1; fill:none\\\" points=\\\"\\n  929.551,979.695 929.551,571.024 \\n  \\\"\\/>\\n<polyline clip-path=\\\"url(#clip2003)\\\" style=\\\"stroke:#000000; stroke-width:2; stroke-opacity:0.1; fill:none\\\" points=\\\"\\n  1301.07,979.695 1301.07,571.024 \\n  \\\"\\/>\\n<polyline clip-path=\\\"url(#clip2003)\\\" style=\\\"stroke:#000000; stroke-width:2; stroke-opacity:0.1; fill:none\\\" points=\\\"\\n  1672.59,979.695 1672.59,571.024 \\n  \\\"\\/>\\n<polyline clip-path=\\\"url(#clip2003)\\\" style=\\\"stroke:#000000; stroke-width:2; stroke-opacity:0.1; fill:none\\\" points=\\\"\\n  2044.11,979.695 2044.11,571.024 \\n  \\\"\\/>\\n<polyline clip-path=\\\"url(#clip2003)\\\" style=\\\"stroke:#000000; stroke-width:2; stroke-opacity:0.1; fill:none\\\" points=\\\"\\n  149.361,923.967 2081.26,923.967 \\n  \\\"\\/>\\n<polyline clip-path=\\\"url(#clip2003)\\\" style=\\\"stroke:#000000; stroke-width:2; stroke-opacity:0.1; fill:none\\\" points=\\\"\\n  149.361,849.663 2081.26,849.663 \\n  \\\"\\/>\\n<polyline clip-path=\\\"url(#clip2003)\\\" style=\\\"stroke:#000000; stroke-width:2; stroke-opacity:0.1; fill:none\\\" points=\\\"\\n  149.361,775.359 2081.26,775.359 \\n  \\\"\\/>\\n<polyline clip-path=\\\"url(#clip2003)\\\" style=\\\"stroke:#000000; stroke-width:2; stroke-opacity:0.1; fill:none\\\" points=\\\"\\n  149.361,701.056 2081.26,701.056 \\n  \\\"\\/>\\n<polyline clip-path=\\\"url(#clip2003)\\\" style=\\\"stroke:#000000; stroke-width:2; stroke-opacity:0.1; fill:none\\\" points=\\\"\\n  149.361,626.752 2081.26,626.752 \\n  \\\"\\/>\\n<polyline clip-path=\\\"url(#clip2001)\\\" style=\\\"stroke:#000000; stroke-width:4; stroke-opacity:1; fill:none\\\" points=\\\"\\n  149.361,979.695 2081.26,979.695 \\n  \\\"\\/>\\n<polyline clip-path=\\\"url(#clip2001)\\\" style=\\\"stroke:#000000; stroke-width:4; stroke-opacity:1; fill:none\\\" points=\\\"\\n  149.361,979.695 149.361,571.024 \\n  \\\"\\/>\\n<polyline clip-path=\\\"url(#clip2001)\\\" style=\\\"stroke:#000000; stroke-width:4; stroke-opacity:1; fill:none\\\" points=\\\"\\n  186.513,979.695 186.513,973.565 \\n  \\\"\\/>\\n<polyline clip-path=\\\"url(#clip2001)\\\" style=\\\"stroke:#000000; stroke-width:4; stroke-opacity:1; fill:none\\\" points=\\\"\\n  558.032,979.695 558.032,973.565 \\n  \\\"\\/>\\n<polyline clip-path=\\\"url(#clip2001)\\\" style=\\\"stroke:#000000; stroke-width:4; stroke-opacity:1; fill:none\\\" points=\\\"\\n  929.551,979.695 929.551,973.565 \\n  \\\"\\/>\\n<polyline clip-path=\\\"url(#clip2001)\\\" style=\\\"stroke:#000000; stroke-width:4; stroke-opacity:1; fill:none\\\" points=\\\"\\n  1301.07,979.695 1301.07,973.565 \\n  \\\"\\/>\\n<polyline clip-path=\\\"url(#clip2001)\\\" style=\\\"stroke:#000000; stroke-width:4; stroke-opacity:1; fill:none\\\" points=\\\"\\n  1672.59,979.695 1672.59,973.565 \\n  \\\"\\/>\\n<polyline clip-path=\\\"url(#clip2001)\\\" style=\\\"stroke:#000000; stroke-width:4; stroke-opacity:1; fill:none\\\" points=\\\"\\n  2044.11,979.695 2044.11,973.565 \\n  \\\"\\/>\\n<polyline clip-path=\\\"url(#clip2001)\\\" style=\\\"stroke:#000000; stroke-width:4; stroke-opacity:1; fill:none\\\" points=\\\"\\n  149.361,923.967 178.339,923.967 \\n  \\\"\\/>\\n<polyline clip-path=\\\"url(#clip2001)\\\" style=\\\"stroke:#000000; stroke-width:4; stroke-opacity:1; fill:none\\\" points=\\\"\\n  149.361,849.663 178.339,849.663 \\n  \\\"\\/>\\n<polyline clip-path=\\\"url(#clip2001)\\\" style=\\\"stroke:#000000; stroke-width:4; stroke-opacity:1; fill:none\\\" points=\\\"\\n  149.361,775.359 178.339,775.359 \\n  \\\"\\/>\\n<polyline clip-path=\\\"url(#clip2001)\\\" style=\\\"stroke:#000000; stroke-width:4; stroke-opacity:1; fill:none\\\" points=\\\"\\n  149.361,701.056 178.339,701.056 \\n  \\\"\\/>\\n<polyline clip-path=\\\"url(#clip2001)\\\" style=\\\"stroke:#000000; stroke-width:4; stroke-opacity:1; fill:none\\\" points=\\\"\\n  149.361,626.752 178.339,626.752 \\n  \\\"\\/>\\n<g clip-path=\\\"url(#clip2001)\\\">\\n<text style=\\\"fill:#000000; fill-opacity:1; font-family:Arial,Helvetica Neue,Helvetica,sans-serif; font-size:48px; text-anchor:middle;\\\" transform=\\\"rotate(0, 186.513, 1033.69)\\\" x=\\\"186.513\\\" y=\\\"1033.69\\\">0<\\/text>\\n<\\/g>\\n<g clip-path=\\\"url(#clip2001)\\\">\\n<text style=\\\"fill:#000000; fill-opacity:1; font-family:Arial,Helvetica Neue,Helvetica,sans-serif; font-size:48px; text-anchor:middle;\\\" transform=\\\"rotate(0, 558.032, 1033.69)\\\" x=\\\"558.032\\\" y=\\\"1033.69\\\">10<\\/text>\\n<\\/g>\\n<g clip-path=\\\"url(#clip2001)\\\">\\n<text style=\\\"fill:#000000; fill-opacity:1; font-family:Arial,Helvetica Neue,Helvetica,sans-serif; font-size:48px; text-anchor:middle;\\\" transform=\\\"rotate(0, 929.551, 1033.69)\\\" x=\\\"929.551\\\" y=\\\"1033.69\\\">20<\\/text>\\n<\\/g>\\n<g clip-path=\\\"url(#clip2001)\\\">\\n<text style=\\\"fill:#000000; fill-opacity:1; font-family:Arial,Helvetica Neue,Helvetica,sans-serif; font-size:48px; text-anchor:middle;\\\" transform=\\\"rotate(0, 1301.07, 1033.69)\\\" x=\\\"1301.07\\\" y=\\\"1033.69\\\">30<\\/text>\\n<\\/g>\\n<g clip-path=\\\"url(#clip2001)\\\">\\n<text style=\\\"fill:#000000; fill-opacity:1; font-family:Arial,Helvetica Neue,Helvetica,sans-serif; font-size:48px; text-anchor:middle;\\\" transform=\\\"rotate(0, 1672.59, 1033.69)\\\" x=\\\"1672.59\\\" y=\\\"1033.69\\\">40<\\/text>\\n<\\/g>\\n<g clip-path=\\\"url(#clip2001)\\\">\\n<text style=\\\"fill:#000000; fill-opacity:1; font-family:Arial,Helvetica Neue,Helvetica,sans-serif; font-size:48px; text-anchor:middle;\\\" transform=\\\"rotate(0, 2044.11, 1033.69)\\\" x=\\\"2044.11\\\" y=\\\"1033.69\\\">50<\\/text>\\n<\\/g>\\n<g clip-path=\\\"url(#clip2001)\\\">\\n<text style=\\\"fill:#000000; fill-opacity:1; font-family:Arial,Helvetica Neue,Helvetica,sans-serif; font-size:48px; text-anchor:end;\\\" transform=\\\"rotate(0, 125.361, 941.467)\\\" x=\\\"125.361\\\" y=\\\"941.467\\\">-4<\\/text>\\n<\\/g>\\n<g clip-path=\\\"url(#clip2001)\\\">\\n<text style=\\\"fill:#000000; fill-opacity:1; font-family:Arial,Helvetica Neue,Helvetica,sans-serif; font-size:48px; text-anchor:end;\\\" transform=\\\"rotate(0, 125.361, 867.163)\\\" x=\\\"125.361\\\" y=\\\"867.163\\\">-2<\\/text>\\n<\\/g>\\n<g clip-path=\\\"url(#clip2001)\\\">\\n<text style=\\\"fill:#000000; fill-opacity:1; font-family:Arial,Helvetica Neue,Helvetica,sans-serif; font-size:48px; text-anchor:end;\\\" transform=\\\"rotate(0, 125.361, 792.859)\\\" x=\\\"125.361\\\" y=\\\"792.859\\\">0<\\/text>\\n<\\/g>\\n<g clip-path=\\\"url(#clip2001)\\\">\\n<text style=\\\"fill:#000000; fill-opacity:1; font-family:Arial,Helvetica Neue,Helvetica,sans-serif; font-size:48px; text-anchor:end;\\\" transform=\\\"rotate(0, 125.361, 718.556)\\\" x=\\\"125.361\\\" y=\\\"718.556\\\">2<\\/text>\\n<\\/g>\\n<g clip-path=\\\"url(#clip2001)\\\">\\n<text style=\\\"fill:#000000; fill-opacity:1; font-family:Arial,Helvetica Neue,Helvetica,sans-serif; font-size:48px; text-anchor:end;\\\" transform=\\\"rotate(0, 125.361, 644.252)\\\" x=\\\"125.361\\\" y=\\\"644.252\\\">4<\\/text>\\n<\\/g>\\n<g clip-path=\\\"url(#clip2003)\\\">\\n<image width=\\\"1932\\\" height=\\\"409\\\" xlink:href=\\\"data:image\\/png;base64,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\\nAKJ+Aff2DwV18kaxAAAAAElFTkSuQmCC\\n\\\" transform=\\\"translate(149, 571)\\\"\\/>\\n<\\/g>\\n<defs>\\n  <clipPath id=\\\"clip2004\\\">\\n    <rect x=\\\"2129\\\" y=\\\"571\\\" width=\\\"73\\\" height=\\\"410\\\"\\/>\\n  <\\/clipPath>\\n<\\/defs>\\n<g clip-path=\\\"url(#clip2004)\\\">\\n<image width=\\\"72\\\" height=\\\"409\\\" xlink:href=\\\"data:image\\/png;base64,\\niVBORw0KGgoAAAANSUhEUgAAAEgAAAGZCAYAAAAq+Hd5AAAEOUlEQVR4nO3dwbEjNwxAQcqF\\/KNw\\nlvaSjsB4R+nQHYGKhYfhSL92P\\/\\/ev9\\/hf\\/317Q\\/w6+a+f7\\/9GX6aCQrzTNBq3nVAG4kFiQUHFCQW\\nTFAwQcFjPkgsSCyYoDDHDlpJLJigYILCHEt6JbEgsWCCwpz7z7c\\/w0+TWPAUCyYoWNLBAQWJhfm8\\nP9\\/+DD9tznVAG4mF+ZiglQkKdlCY4ym2kliwpIMdFCQWJBZMULCDwnzu\\/fZn+GkSCxILDihILLgH\\nBRMU5njMryQWJBY85oMDChILXlaDCQruQcGSDhILEgsOKEgsuAcFExQ85oMlHSQWTFBwQEFiYc71\\nD3FuTFCY8+ygjSUdJBYs6SCxILFggoIJCpZ0kFiQWJhjgFYOKEgsjJf5nQkKdlBwQEFiwQSFOV7F\\nVhIL8+7n25\\/hp5mgYEmHORJbSSzMeyZoI7EgsWCCggkKlnSQWJBYmHOd0cYOCsYnWNLBBAXfKIY5\\nzxBtnE6QWHBAQWLBq0ZwOsG7WPCqESQW5lnSKzsoGJ9gSQcTFCzpYEkH4xN83RHm+cp15XSCe1Cw\\ng4LEgntQMEHBq0aQWDA+wWM+SCxILHiKBacT7KDgKRYkFiQWPMWC0wkSCyYomKDggILEgpt0mOun\\n55XTCZZ0MEHBkg4SCxILJig4oCCxYIKCCQpzTdBKYkFiwQQFBxQkFkxQMEHBBAUXxSCxILHggILE\\ngl9Wg9MJdlBwDwoSCxILEgsSCxILJiiYoGBJB4mFeccEbSQWJBY8xYIJCnP9d+oriQWJBY\\/5MNdF\\ncSWxYEkHExQs6SCxILEw99uf4MdJLEgseIoFExR8aR8kFiQWfOUa7KAgseAmHUxQ8LIaJBYkFiQW\\nJBYkFrysBhMUxrvqTmJBYkFiQWJBYkFiwQQFOyj4VSNILPjZJ0gsSCz4S\\/tggsI8O2jlohgkFrys\\nBvegILHgHhRMUHAPCv66I0gsuEkHOyhILFjSwQQFOyh41QgSC77uCL4wCxILEgsOKEgs+OuOYIKC\\nHRTcg4LEgsSCAwoSC5Z0MEHBDgp+1QgSC37VCHZQkFhwDwomKNhBYd5xQhuJBYkFT7EgsSCxYIKC\\nHRQkFiQWfB8U5nrVWEksSCyYoGAHBb+LBYmFebb0SmJBYsHLajBBwc8+QWJBYsGrRrCDgsSCxIIJ\\nCiYozPU2v5JY8JgPdlCQWDBBwQQFExTmHV\\/bbyQWJBbmfiS2kViYa0mvTFAwQcE9KEgszP24B23s\\noCCxYIKCCQoe82Hu+fPtz\\/DTJBYs6TBPYiuJBYkFExRMULCkg8SCxILEgsSCt\\/lggsLcZ4I2EgsS\\nC\\/MktpJYkFhwkw4mKLgHBUs6SCy4BwVPsSCxILFggoLHfJBYkFjwmA8SCxILnmLBBIV5z5LeSCxI\\nLMzxL1Ct5khsJbHgJh1MULCDgntQkFiYY0mvJBYkFjzFwn\\/5tuhBT8Q\\/GAAAAABJRU5ErkJggg==\\n\\\" transform=\\\"translate(2129, 571)\\\"\\/>\\n<\\/g>\\n<g clip-path=\\\"url(#clip2001)\\\">\\n<text style=\\\"fill:#000000; fill-opacity:1; font-family:Arial,Helvetica Neue,Helvetica,sans-serif; font-size:48px; text-anchor:start;\\\" transform=\\\"rotate(0, 2237.26, 993.346)\\\" x=\\\"2237.26\\\" y=\\\"993.346\\\">0<\\/text>\\n<\\/g>\\n<g clip-path=\\\"url(#clip2001)\\\">\\n<text style=\\\"fill:#000000; fill-opacity:1; font-family:Arial,Helvetica Neue,Helvetica,sans-serif; font-size:48px; text-anchor:start;\\\" transform=\\\"rotate(0, 2237.26, 952.479)\\\" x=\\\"2237.26\\\" y=\\\"952.479\\\">0.1<\\/text>\\n<\\/g>\\n<g clip-path=\\\"url(#clip2001)\\\">\\n<text style=\\\"fill:#000000; fill-opacity:1; font-family:Arial,Helvetica Neue,Helvetica,sans-serif; font-size:48px; text-anchor:start;\\\" transform=\\\"rotate(0, 2237.26, 911.612)\\\" x=\\\"2237.26\\\" y=\\\"911.612\\\">0.2<\\/text>\\n<\\/g>\\n<g clip-path=\\\"url(#clip2001)\\\">\\n<text style=\\\"fill:#000000; fill-opacity:1; font-family:Arial,Helvetica Neue,Helvetica,sans-serif; font-size:48px; text-anchor:start;\\\" transform=\\\"rotate(0, 2237.26, 870.745)\\\" x=\\\"2237.26\\\" y=\\\"870.745\\\">0.3<\\/text>\\n<\\/g>\\n<g clip-path=\\\"url(#clip2001)\\\">\\n<text style=\\\"fill:#000000; fill-opacity:1; font-family:Arial,Helvetica Neue,Helvetica,sans-serif; font-size:48px; text-anchor:start;\\\" transform=\\\"rotate(0, 2237.26, 829.878)\\\" x=\\\"2237.26\\\" y=\\\"829.878\\\">0.4<\\/text>\\n<\\/g>\\n<g clip-path=\\\"url(#clip2001)\\\">\\n<text style=\\\"fill:#000000; fill-opacity:1; font-family:Arial,Helvetica Neue,Helvetica,sans-serif; font-size:48px; text-anchor:start;\\\" transform=\\\"rotate(0, 2237.26, 789.011)\\\" x=\\\"2237.26\\\" y=\\\"789.011\\\">0.5<\\/text>\\n<\\/g>\\n<g clip-path=\\\"url(#clip2001)\\\">\\n<text style=\\\"fill:#000000; fill-opacity:1; font-family:Arial,Helvetica Neue,Helvetica,sans-serif; font-size:48px; text-anchor:start;\\\" transform=\\\"rotate(0, 2237.26, 748.144)\\\" x=\\\"2237.26\\\" y=\\\"748.144\\\">0.6<\\/text>\\n<\\/g>\\n<g clip-path=\\\"url(#clip2001)\\\">\\n<text style=\\\"fill:#000000; fill-opacity:1; font-family:Arial,Helvetica Neue,Helvetica,sans-serif; font-size:48px; text-anchor:start;\\\" transform=\\\"rotate(0, 2237.26, 707.276)\\\" x=\\\"2237.26\\\" y=\\\"707.276\\\">0.7<\\/text>\\n<\\/g>\\n<g clip-path=\\\"url(#clip2001)\\\">\\n<text style=\\\"fill:#000000; fill-opacity:1; font-family:Arial,Helvetica Neue,Helvetica,sans-serif; font-size:48px; text-anchor:start;\\\" transform=\\\"rotate(0, 2237.26, 666.409)\\\" x=\\\"2237.26\\\" y=\\\"666.409\\\">0.8<\\/text>\\n<\\/g>\\n<g clip-path=\\\"url(#clip2001)\\\">\\n<text style=\\\"fill:#000000; fill-opacity:1; font-family:Arial,Helvetica Neue,Helvetica,sans-serif; font-size:48px; text-anchor:start;\\\" transform=\\\"rotate(0, 2237.26, 625.542)\\\" x=\\\"2237.26\\\" y=\\\"625.542\\\">0.9<\\/text>\\n<\\/g>\\n<g clip-path=\\\"url(#clip2001)\\\">\\n<text style=\\\"fill:#000000; fill-opacity:1; font-family:Arial,Helvetica Neue,Helvetica,sans-serif; font-size:48px; text-anchor:start;\\\" transform=\\\"rotate(0, 2237.26, 584.675)\\\" x=\\\"2237.26\\\" y=\\\"584.675\\\">1.0<\\/text>\\n<\\/g>\\n<polyline clip-path=\\\"url(#clip2001)\\\" style=\\\"stroke:#000000; stroke-width:4; stroke-opacity:1; fill:none\\\" points=\\\"\\n  2201.26,979.695 2201.26,979.695 2225.26,979.695 2201.26,979.695 2201.26,938.828 2225.26,938.828 2201.26,938.828 2201.26,897.961 2225.26,897.961 2201.26,897.961 \\n  2201.26,857.094 2225.26,857.094 2201.26,857.094 2201.26,816.227 2225.26,816.227 2201.26,816.227 2201.26,775.359 2225.26,775.359 2201.26,775.359 2201.26,734.492 \\n  2225.26,734.492 2201.26,734.492 2201.26,693.625 2225.26,693.625 2201.26,693.625 2201.26,652.758 2225.26,652.758 2201.26,652.758 2201.26,611.891 2225.26,611.891 \\n  2201.26,611.891 2201.26,571.024 2225.26,571.024 2201.26,571.024 \\n  \\\"\\/>\\n<g clip-path=\\\"url(#clip2001)\\\">\\n<text style=\\\"fill:#000000; fill-opacity:1; font-family:Arial,Helvetica Neue,Helvetica,sans-serif; font-size:66px; text-anchor:middle;\\\" transform=\\\"rotate(-90, 2378.86, 775.359)\\\" x=\\\"2378.86\\\" y=\\\"775.359\\\"><\\/text>\\n<\\/g>\\n<\\/svg>\\n\"},\"nodeType\":\"DOM\",\"type\":\"node\",\"instanceArgs\":{\"namespace\":\"html\",\"tag\":\"div\"},\"children\":[]}]}}}},\"children\":[{\"props\":{},\"nodeType\":\"ObservableNode\",\"type\":\"node\",\"instanceArgs\":{\"id\":\"ob_1161\",\"name\":\"obs-node\"},\"children\":[]}]}]}}}},\"children\":[{\"props\":{},\"nodeType\":\"ObservableNode\",\"type\":\"node\",\"instanceArgs\":{\"id\":\"ob_1160\",\"name\":\"obs-scope\"},\"children\":[]}]}]},\n",
       "        );\n",
       "    } else {\n",
       "        document\n",
       "            .querySelector('[data-webio-mountpoint=\"13945443994439652262\"]')\n",
       "            .innerHTML = '<strong>WebIO not detected.</strong>';\n",
       "    }\n",
       "    </script>\n",
       "</div>\n"
      ],
      "text/plain": [
       "Widget{:manipulate,Any}(OrderedDict{Symbol,Any}(:ego_v=>Widget{:slider,Float64}(OrderedDict{Symbol,Any}(:changes=>Observable{Int64} with 1 listeners. Value:\n",
       "0,:index=>Observable{Any} with 2 listeners. Value:\n",
       "8,:formatted_vals=>Observable{Any} with 1 listeners. Value:\n",
       "[\"0.0\", \"1.0\", \"2.0\", \"3.0\", \"4.0\", \"5.0\", \"6.0\", \"7.0\", \"8.0\", \"9.0\", \"10.0\", \"11.0\", \"12.0\", \"13.0\", \"14.0\"],:formatted_value=>Observable{String} with 1 listeners. Value:\n",
       "\"7.0\",:value=>Observable{Float64} with 2 listeners. Value:\n",
       "7.0), Observable{Float64} with 2 listeners. Value:\n",
       "7.0, Scope(\"knockout-component-4dcfab5a-8511-4fcd-9ac6-a6a20985b524\", Node{DOM}(DOM(:html, :div), Any[Node{DOM}(DOM(:html, :div), Any[Node{DOM}(DOM(:html, :label), Any[\"ego_v\"], Dict{Symbol,Any}(:className=>\"interact \",:style=>Dict{Any,Any}(:padding=>\"5px 10px 0px 10px\")), 1)], Dict{Symbol,Any}(:attributes=>Dict(\"style\"=>\"text-align:right;width:18%\")), 2), Node{DOM}(DOM(:html, :div), Any[Node{DOM}(DOM(:html, :input), Any[], Dict{Symbol,Any}(:max=>15,:min=>1,:attributes=>Dict{Any,Any}(:type=>\"range\",Symbol(\"data-bind\")=>\"numericValue: index, valueUpdate: 'input', event: {change : function () {this.changes(this.changes()+1)}}\",\"orient\"=>\"horizontal\"),:step=>1,:className=>\"slider slider is-fullwidth\",:style=>Dict{Any,Any}()), 0)], Dict{Symbol,Any}(:attributes=>Dict(\"style\"=>\"flex-grow:1; margin: 0 2%\")), 1), Node{DOM}(DOM(:html, :div), Any[Node{DOM}(DOM(:html, :p), Any[], Dict{Symbol,Any}(:attributes=>Dict(\"data-bind\"=>\"text: formatted_value\")), 0)], Dict{Symbol,Any}(:attributes=>Dict(\"style\"=>\"width:18%\")), 1)], Dict{Symbol,Any}(:attributes=>Dict(\"style\"=>\"display:flex; justify-content:center; align-items:center;\")), 7), Dict{String,Tuple{Observables.AbstractObservable,Union{Nothing, Bool}}}(\"formatted_vals\"=>(Observable{Any} with 1 listeners. Value:\n",
       "[\"0.0\", \"1.0\", \"2.0\", \"3.0\", \"4.0\", \"5.0\", \"6.0\", \"7.0\", \"8.0\", \"9.0\", \"10.0\", \"11.0\", \"12.0\", \"13.0\", \"14.0\"], nothing),\"changes\"=>(Observable{Int64} with 1 listeners. Value:\n",
       "0, nothing),\"formatted_value\"=>(Observable{String} with 1 listeners. Value:\n",
       "\"7.0\", nothing),\"index\"=>(Observable{Any} with 2 listeners. Value:\n",
       "8, nothing)), Set(String[]), nothing, Any[\"knockout\"=>\"/home/xubuntu/.julia/packages/Knockout/JIqpG/src/../assets/knockout.js\", \"knockout_punches\"=>\"/home/xubuntu/.julia/packages/Knockout/JIqpG/src/../assets/knockout_punches.js\", \"/home/xubuntu/.julia/packages/InteractBase/Q4IkI/src/../assets/all.js\", \"/home/xubuntu/.julia/packages/InteractBase/Q4IkI/src/../assets/style.css\", \"/home/xubuntu/.julia/packages/InteractBulma/Ohu5Y/src/../assets/main.css\"], Dict{Any,Any}(\"formatted_vals\"=>Any[JSString(\"(function (val){return (val!=this.model[\\\"formatted_vals\\\"]()) ? (this.valueFromJulia[\\\"formatted_vals\\\"]=true, this.model[\\\"formatted_vals\\\"](val)) : undefined})\")],\"_promises\"=>Dict{Any,Any}(\"importsLoaded\"=>Any[JSString(\"function (ko, koPunches) {\\n    ko.punches.enableAll();\\n    ko.bindingHandlers.numericValue = {\\n        init : function(element, valueAccessor, allBindings, data, context) {\\n            var stringified = ko.observable(ko.unwrap(valueAccessor()));\\n            stringified.subscribe(function(value) {\\n                var val = parseFloat(value);\\n                if (!isNaN(val)) {\\n                    valueAccessor()(val);\\n                }\\n            })\\n            valueAccessor().subscribe(function(value) {\\n                var str = JSON.stringify(value);\\n                if ((str == \\\"0\\\") && ([\\\"-0\\\", \\\"-0.\\\"].indexOf(stringified()) >= 0))\\n                     return;\\n                 if ([\\\"null\\\", \\\"\\\"].indexOf(str) >= 0)\\n                     return;\\n                stringified(str);\\n            })\\n            ko.applyBindingsToNode(element, { value: stringified, valueUpdate: allBindings.get('valueUpdate')}, context);\\n        }\\n    };\\n    var json_data = JSON.parse(\\\"{\\\\\\\"formatted_vals\\\\\\\":[\\\\\\\"0.0\\\\\\\",\\\\\\\"1.0\\\\\\\",\\\\\\\"2.0\\\\\\\",\\\\\\\"3.0\\\\\\\",\\\\\\\"4.0\\\\\\\",\\\\\\\"5.0\\\\\\\",\\\\\\\"6.0\\\\\\\",\\\\\\\"7.0\\\\\\\",\\\\\\\"8.0\\\\\\\",\\\\\\\"9.0\\\\\\\",\\\\\\\"10.0\\\\\\\",\\\\\\\"11.0\\\\\\\",\\\\\\\"12.0\\\\\\\",\\\\\\\"13.0\\\\\\\",\\\\\\\"14.0\\\\\\\"],\\\\\\\"changes\\\\\\\":0,\\\\\\\"formatted_value\\\\\\\":\\\\\\\"7.0\\\\\\\",\\\\\\\"index\\\\\\\":8}\\\");\\n    var self = this;\\n    function AppViewModel() {\\n        for (var key in json_data) {\\n            var el = json_data[key];\\n            this[key] = Array.isArray(el) ? ko.observableArray(el) : ko.observable(el);\\n        }\\n        \\n        \\n        [this[\\\"formatted_vals\\\"].subscribe((function (val){!(this.valueFromJulia[\\\"formatted_vals\\\"]) ? (WebIO.setval({\\\"name\\\":\\\"formatted_vals\\\",\\\"scope\\\":\\\"knockout-component-4dcfab5a-8511-4fcd-9ac6-a6a20985b524\\\",\\\"id\\\":\\\"ob_1148\\\",\\\"type\\\":\\\"observable\\\"},val)) : undefined; return this.valueFromJulia[\\\"formatted_vals\\\"]=false}),self),this[\\\"changes\\\"].subscribe((function (val){!(this.valueFromJulia[\\\"changes\\\"]) ? (WebIO.setval({\\\"name\\\":\\\"changes\\\",\\\"scope\\\":\\\"knockout-component-4dcfab5a-8511-4fcd-9ac6-a6a20985b524\\\",\\\"id\\\":\\\"ob_1150\\\",\\\"type\\\":\\\"observable\\\"},val)) : undefined; return this.valueFromJulia[\\\"changes\\\"]=false}),self),this[\\\"formatted_value\\\"].subscribe((function (val){!(this.valueFromJulia[\\\"formatted_value\\\"]) ? (WebIO.setval({\\\"name\\\":\\\"formatted_value\\\",\\\"scope\\\":\\\"knockout-component-4dcfab5a-8511-4fcd-9ac6-a6a20985b524\\\",\\\"id\\\":\\\"ob_1149\\\",\\\"type\\\":\\\"observable\\\"},val)) : undefined; return this.valueFromJulia[\\\"formatted_value\\\"]=false}),self),this[\\\"index\\\"].subscribe((function (val){!(this.valueFromJulia[\\\"index\\\"]) ? (WebIO.setval({\\\"name\\\":\\\"index\\\",\\\"scope\\\":\\\"knockout-component-4dcfab5a-8511-4fcd-9ac6-a6a20985b524\\\",\\\"id\\\":\\\"ob_1147\\\",\\\"type\\\":\\\"observable\\\"},val)) : undefined; return this.valueFromJulia[\\\"index\\\"]=false}),self)]\\n        \\n    }\\n    self.model = new AppViewModel();\\n    self.valueFromJulia = {};\\n    for (var key in json_data) {\\n        self.valueFromJulia[key] = false;\\n    }\\n    ko.applyBindings(self.model, self.dom);\\n}\\n\")]),\"changes\"=>Any[JSString(\"(function (val){return (val!=this.model[\\\"changes\\\"]()) ? (this.valueFromJulia[\\\"changes\\\"]=true, this.model[\\\"changes\\\"](val)) : undefined})\")],\"formatted_value\"=>Any[JSString(\"(function (val){return (val!=this.model[\\\"formatted_value\\\"]()) ? (this.valueFromJulia[\\\"formatted_value\\\"]=true, this.model[\\\"formatted_value\\\"](val)) : undefined})\")],\"index\"=>Any[JSString(\"(function (val){return (val!=this.model[\\\"index\\\"]()) ? (this.valueFromJulia[\\\"index\\\"]=true, this.model[\\\"index\\\"](val)) : undefined})\"), JSString(\"(function (val){return WebIO.setval({\\\"name\\\":\\\"formatted_value\\\",\\\"scope\\\":\\\"knockout-component-4dcfab5a-8511-4fcd-9ac6-a6a20985b524\\\",\\\"id\\\":\\\"ob_1149\\\",\\\"type\\\":\\\"observable\\\"},WebIO.getval({\\\"name\\\":\\\"formatted_vals\\\",\\\"scope\\\":\\\"knockout-component-4dcfab5a-8511-4fcd-9ac6-a6a20985b524\\\",\\\"id\\\":\\\"ob_1148\\\",\\\"type\\\":\\\"observable\\\"})[(WebIO.getval({\\\"name\\\":\\\"index\\\",\\\"scope\\\":\\\"knockout-component-4dcfab5a-8511-4fcd-9ac6-a6a20985b524\\\",\\\"id\\\":\\\"ob_1147\\\",\\\"type\\\":\\\"observable\\\"})-1)])})\")]), ConnectionPool(Channel{Any}(sz_max:9223372036854775807,sz_curr:0), Set(AbstractConnection[]), Channel{AbstractConnection}(sz_max:32,sz_curr:0))), ##52#53{#dom#13{##dom#11#12{Dict{Any,Any},DOM}},typeof(scope)}(#dom#13{##dom#11#12{Dict{Any,Any},DOM}}(##dom#11#12{Dict{Any,Any},DOM}(Dict{Any,Any}(:className=>\"field\"), DOM(:html, :div))), scope))), Observable{Any} with 0 listeners. Value:\n",
       "Widget{:manipulate,Any}(OrderedDict{Symbol,Any}(:ped_v=>Widget{:slider,Float64}(OrderedDict{Symbol,Any}(:changes=>Observable{Int64} with 1 listeners. Value:\n",
       "0,:index=>Observable{Any} with 2 listeners. Value:\n",
       "3,:formatted_vals=>Observable{Any} with 1 listeners. Value:\n",
       "[\"0.0\", \"0.5\", \"1.0\", \"1.5\", \"2.0\"],:formatted_value=>Observable{String} with 1 listeners. Value:\n",
       "\"1.0\",:value=>Observable{Float64} with 2 listeners. Value:\n",
       "1.0), Observable{Float64} with 2 listeners. Value:\n",
       "1.0, Scope(\"knockout-component-8116c885-c5d8-4a62-9685-5c84bfbc42c7\", Node{DOM}(DOM(:html, :div), Any[Node{DOM}(DOM(:html, :div), Any[Node{DOM}(DOM(:html, :label), Any[\"ped_v\"], Dict{Symbol,Any}(:className=>\"interact \",:style=>Dict{Any,Any}(:padding=>\"5px 10px 0px 10px\")), 1)], Dict{Symbol,Any}(:attributes=>Dict(\"style\"=>\"text-align:right;width:18%\")), 2), Node{DOM}(DOM(:html, :div), Any[Node{DOM}(DOM(:html, :input), Any[], Dict{Symbol,Any}(:max=>5,:min=>1,:attributes=>Dict{Any,Any}(:type=>\"range\",Symbol(\"data-bind\")=>\"numericValue: index, valueUpdate: 'input', event: {change : function () {this.changes(this.changes()+1)}}\",\"orient\"=>\"horizontal\"),:step=>1,:className=>\"slider slider is-fullwidth\",:style=>Dict{Any,Any}()), 0)], Dict{Symbol,Any}(:attributes=>Dict(\"style\"=>\"flex-grow:1; margin: 0 2%\")), 1), Node{DOM}(DOM(:html, :div), Any[Node{DOM}(DOM(:html, :p), Any[], Dict{Symbol,Any}(:attributes=>Dict(\"data-bind\"=>\"text: formatted_value\")), 0)], Dict{Symbol,Any}(:attributes=>Dict(\"style\"=>\"width:18%\")), 1)], Dict{Symbol,Any}(:attributes=>Dict(\"style\"=>\"display:flex; justify-content:center; align-items:center;\")), 7), Dict{String,Tuple{Observables.AbstractObservable,Union{Nothing, Bool}}}(\"formatted_vals\"=>(Observable{Any} with 1 listeners. Value:\n",
       "[\"0.0\", \"0.5\", \"1.0\", \"1.5\", \"2.0\"], nothing),\"changes\"=>(Observable{Int64} with 1 listeners. Value:\n",
       "0, nothing),\"formatted_value\"=>(Observable{String} with 1 listeners. Value:\n",
       "\"1.0\", nothing),\"index\"=>(Observable{Any} with 2 listeners. Value:\n",
       "3, nothing)), Set(String[]), nothing, Any[\"knockout\"=>\"/home/xubuntu/.julia/packages/Knockout/JIqpG/src/../assets/knockout.js\", \"knockout_punches\"=>\"/home/xubuntu/.julia/packages/Knockout/JIqpG/src/../assets/knockout_punches.js\", \"/home/xubuntu/.julia/packages/InteractBase/Q4IkI/src/../assets/all.js\", \"/home/xubuntu/.julia/packages/InteractBase/Q4IkI/src/../assets/style.css\", \"/home/xubuntu/.julia/packages/InteractBulma/Ohu5Y/src/../assets/main.css\"], Dict{Any,Any}(\"formatted_vals\"=>Any[JSString(\"(function (val){return (val!=this.model[\\\"formatted_vals\\\"]()) ? (this.valueFromJulia[\\\"formatted_vals\\\"]=true, this.model[\\\"formatted_vals\\\"](val)) : undefined})\")],\"_promises\"=>Dict{Any,Any}(\"importsLoaded\"=>Any[JSString(\"function (ko, koPunches) {\\n    ko.punches.enableAll();\\n    ko.bindingHandlers.numericValue = {\\n        init : function(element, valueAccessor, allBindings, data, context) {\\n            var stringified = ko.observable(ko.unwrap(valueAccessor()));\\n            stringified.subscribe(function(value) {\\n                var val = parseFloat(value);\\n                if (!isNaN(val)) {\\n                    valueAccessor()(val);\\n                }\\n            })\\n            valueAccessor().subscribe(function(value) {\\n                var str = JSON.stringify(value);\\n                if ((str == \\\"0\\\") && ([\\\"-0\\\", \\\"-0.\\\"].indexOf(stringified()) >= 0))\\n                     return;\\n                 if ([\\\"null\\\", \\\"\\\"].indexOf(str) >= 0)\\n                     return;\\n                stringified(str);\\n            })\\n            ko.applyBindingsToNode(element, { value: stringified, valueUpdate: allBindings.get('valueUpdate')}, context);\\n        }\\n    };\\n    var json_data = JSON.parse(\\\"{\\\\\\\"formatted_vals\\\\\\\":[\\\\\\\"0.0\\\\\\\",\\\\\\\"0.5\\\\\\\",\\\\\\\"1.0\\\\\\\",\\\\\\\"1.5\\\\\\\",\\\\\\\"2.0\\\\\\\"],\\\\\\\"changes\\\\\\\":0,\\\\\\\"formatted_value\\\\\\\":\\\\\\\"1.0\\\\\\\",\\\\\\\"index\\\\\\\":3}\\\");\\n    var self = this;\\n    function AppViewModel() {\\n        for (var key in json_data) {\\n            var el = json_data[key];\\n            this[key] = Array.isArray(el) ? ko.observableArray(el) : ko.observable(el);\\n        }\\n        \\n        \\n        [this[\\\"formatted_vals\\\"].subscribe((function (val){!(this.valueFromJulia[\\\"formatted_vals\\\"]) ? (WebIO.setval({\\\"name\\\":\\\"formatted_vals\\\",\\\"scope\\\":\\\"knockout-component-8116c885-c5d8-4a62-9685-5c84bfbc42c7\\\",\\\"id\\\":\\\"ob_1153\\\",\\\"type\\\":\\\"observable\\\"},val)) : undefined; return this.valueFromJulia[\\\"formatted_vals\\\"]=false}),self),this[\\\"changes\\\"].subscribe((function (val){!(this.valueFromJulia[\\\"changes\\\"]) ? (WebIO.setval({\\\"name\\\":\\\"changes\\\",\\\"scope\\\":\\\"knockout-component-8116c885-c5d8-4a62-9685-5c84bfbc42c7\\\",\\\"id\\\":\\\"ob_1155\\\",\\\"type\\\":\\\"observable\\\"},val)) : undefined; return this.valueFromJulia[\\\"changes\\\"]=false}),self),this[\\\"formatted_value\\\"].subscribe((function (val){!(this.valueFromJulia[\\\"formatted_value\\\"]) ? (WebIO.setval({\\\"name\\\":\\\"formatted_value\\\",\\\"scope\\\":\\\"knockout-component-8116c885-c5d8-4a62-9685-5c84bfbc42c7\\\",\\\"id\\\":\\\"ob_1154\\\",\\\"type\\\":\\\"observable\\\"},val)) : undefined; return this.valueFromJulia[\\\"formatted_value\\\"]=false}),self),this[\\\"index\\\"].subscribe((function (val){!(this.valueFromJulia[\\\"index\\\"]) ? (WebIO.setval({\\\"name\\\":\\\"index\\\",\\\"scope\\\":\\\"knockout-component-8116c885-c5d8-4a62-9685-5c84bfbc42c7\\\",\\\"id\\\":\\\"ob_1152\\\",\\\"type\\\":\\\"observable\\\"},val)) : undefined; return this.valueFromJulia[\\\"index\\\"]=false}),self)]\\n        \\n    }\\n    self.model = new AppViewModel();\\n    self.valueFromJulia = {};\\n    for (var key in json_data) {\\n        self.valueFromJulia[key] = false;\\n    }\\n    ko.applyBindings(self.model, self.dom);\\n}\\n\")]),\"changes\"=>Any[JSString(\"(function (val){return (val!=this.model[\\\"changes\\\"]()) ? (this.valueFromJulia[\\\"changes\\\"]=true, this.model[\\\"changes\\\"](val)) : undefined})\")],\"formatted_value\"=>Any[JSString(\"(function (val){return (val!=this.model[\\\"formatted_value\\\"]()) ? (this.valueFromJulia[\\\"formatted_value\\\"]=true, this.model[\\\"formatted_value\\\"](val)) : undefined})\")],\"index\"=>Any[JSString(\"(function (val){return (val!=this.model[\\\"index\\\"]()) ? (this.valueFromJulia[\\\"index\\\"]=true, this.model[\\\"index\\\"](val)) : undefined})\"), JSString(\"(function (val){return WebIO.setval({\\\"name\\\":\\\"formatted_value\\\",\\\"scope\\\":\\\"knockout-component-8116c885-c5d8-4a62-9685-5c84bfbc42c7\\\",\\\"id\\\":\\\"ob_1154\\\",\\\"type\\\":\\\"observable\\\"},WebIO.getval({\\\"name\\\":\\\"formatted_vals\\\",\\\"scope\\\":\\\"knockout-component-8116c885-c5d8-4a62-9685-5c84bfbc42c7\\\",\\\"id\\\":\\\"ob_1153\\\",\\\"type\\\":\\\"observable\\\"})[(WebIO.getval({\\\"name\\\":\\\"index\\\",\\\"scope\\\":\\\"knockout-component-8116c885-c5d8-4a62-9685-5c84bfbc42c7\\\",\\\"id\\\":\\\"ob_1152\\\",\\\"type\\\":\\\"observable\\\"})-1)])})\")]), ConnectionPool(Channel{Any}(sz_max:9223372036854775807,sz_curr:0), Set(AbstractConnection[]), Channel{AbstractConnection}(sz_max:32,sz_curr:0))), ##52#53{#dom#13{##dom#11#12{Dict{Any,Any},DOM}},typeof(scope)}(#dom#13{##dom#11#12{Dict{Any,Any},DOM}}(##dom#11#12{Dict{Any,Any},DOM}(Dict{Any,Any}(:className=>\"field\"), DOM(:html, :div))), scope))), Observable{Any} with 0 listeners. Value:\n",
       "Plot{Plots.GRBackend() n=1}, nothing, getfield(Main, Symbol(\"##67#73\")){Observable{Any}}(Observable{Any} with 0 listeners. Value:\n",
       "Plot{Plots.GRBackend() n=1})), nothing, getfield(Main, Symbol(\"##68#74\")){Observable{Any}}(Observable{Any} with 0 listeners. Value:\n",
       "Widget{:manipulate,Any}(OrderedDict{Symbol,Any}(:ped_v=>Widget{:slider,Float64}(OrderedDict{Symbol,Any}(:changes=>Observable{Int64} with 1 listeners. Value:\n",
       "0,:index=>Observable{Any} with 2 listeners. Value:\n",
       "3,:formatted_vals=>Observable{Any} with 1 listeners. Value:\n",
       "[\"0.0\", \"0.5\", \"1.0\", \"1.5\", \"2.0\"],:formatted_value=>Observable{String} with 1 listeners. Value:\n",
       "\"1.0\",:value=>Observable{Float64} with 2 listeners. Value:\n",
       "1.0), Observable{Float64} with 2 listeners. Value:\n",
       "1.0, Scope(\"knockout-component-8116c885-c5d8-4a62-9685-5c84bfbc42c7\", Node{DOM}(DOM(:html, :div), Any[Node{DOM}(DOM(:html, :div), Any[Node{DOM}(DOM(:html, :label), Any[\"ped_v\"], Dict{Symbol,Any}(:className=>\"interact \",:style=>Dict{Any,Any}(:padding=>\"5px 10px 0px 10px\")), 1)], Dict{Symbol,Any}(:attributes=>Dict(\"style\"=>\"text-align:right;width:18%\")), 2), Node{DOM}(DOM(:html, :div), Any[Node{DOM}(DOM(:html, :input), Any[], Dict{Symbol,Any}(:max=>5,:min=>1,:attributes=>Dict{Any,Any}(:type=>\"range\",Symbol(\"data-bind\")=>\"numericValue: index, valueUpdate: 'input', event: {change : function () {this.changes(this.changes()+1)}}\",\"orient\"=>\"horizontal\"),:step=>1,:className=>\"slider slider is-fullwidth\",:style=>Dict{Any,Any}()), 0)], Dict{Symbol,Any}(:attributes=>Dict(\"style\"=>\"flex-grow:1; margin: 0 2%\")), 1), Node{DOM}(DOM(:html, :div), Any[Node{DOM}(DOM(:html, :p), Any[], Dict{Symbol,Any}(:attributes=>Dict(\"data-bind\"=>\"text: formatted_value\")), 0)], Dict{Symbol,Any}(:attributes=>Dict(\"style\"=>\"width:18%\")), 1)], Dict{Symbol,Any}(:attributes=>Dict(\"style\"=>\"display:flex; justify-content:center; align-items:center;\")), 7), Dict{String,Tuple{Observables.AbstractObservable,Union{Nothing, Bool}}}(\"formatted_vals\"=>(Observable{Any} with 1 listeners. Value:\n",
       "[\"0.0\", \"0.5\", \"1.0\", \"1.5\", \"2.0\"], nothing),\"changes\"=>(Observable{Int64} with 1 listeners. Value:\n",
       "0, nothing),\"formatted_value\"=>(Observable{String} with 1 listeners. Value:\n",
       "\"1.0\", nothing),\"index\"=>(Observable{Any} with 2 listeners. Value:\n",
       "3, nothing)), Set(String[]), nothing, Any[\"knockout\"=>\"/home/xubuntu/.julia/packages/Knockout/JIqpG/src/../assets/knockout.js\", \"knockout_punches\"=>\"/home/xubuntu/.julia/packages/Knockout/JIqpG/src/../assets/knockout_punches.js\", \"/home/xubuntu/.julia/packages/InteractBase/Q4IkI/src/../assets/all.js\", \"/home/xubuntu/.julia/packages/InteractBase/Q4IkI/src/../assets/style.css\", \"/home/xubuntu/.julia/packages/InteractBulma/Ohu5Y/src/../assets/main.css\"], Dict{Any,Any}(\"formatted_vals\"=>Any[JSString(\"(function (val){return (val!=this.model[\\\"formatted_vals\\\"]()) ? (this.valueFromJulia[\\\"formatted_vals\\\"]=true, this.model[\\\"formatted_vals\\\"](val)) : undefined})\")],\"_promises\"=>Dict{Any,Any}(\"importsLoaded\"=>Any[JSString(\"function (ko, koPunches) {\\n    ko.punches.enableAll();\\n    ko.bindingHandlers.numericValue = {\\n        init : function(element, valueAccessor, allBindings, data, context) {\\n            var stringified = ko.observable(ko.unwrap(valueAccessor()));\\n            stringified.subscribe(function(value) {\\n                var val = parseFloat(value);\\n                if (!isNaN(val)) {\\n                    valueAccessor()(val);\\n                }\\n            })\\n            valueAccessor().subscribe(function(value) {\\n                var str = JSON.stringify(value);\\n                if ((str == \\\"0\\\") && ([\\\"-0\\\", \\\"-0.\\\"].indexOf(stringified()) >= 0))\\n                     return;\\n                 if ([\\\"null\\\", \\\"\\\"].indexOf(str) >= 0)\\n                     return;\\n                stringified(str);\\n            })\\n            ko.applyBindingsToNode(element, { value: stringified, valueUpdate: allBindings.get('valueUpdate')}, context);\\n        }\\n    };\\n    var json_data = JSON.parse(\\\"{\\\\\\\"formatted_vals\\\\\\\":[\\\\\\\"0.0\\\\\\\",\\\\\\\"0.5\\\\\\\",\\\\\\\"1.0\\\\\\\",\\\\\\\"1.5\\\\\\\",\\\\\\\"2.0\\\\\\\"],\\\\\\\"changes\\\\\\\":0,\\\\\\\"formatted_value\\\\\\\":\\\\\\\"1.0\\\\\\\",\\\\\\\"index\\\\\\\":3}\\\");\\n    var self = this;\\n    function AppViewModel() {\\n        for (var key in json_data) {\\n            var el = json_data[key];\\n            this[key] = Array.isArray(el) ? ko.observableArray(el) : ko.observable(el);\\n        }\\n        \\n        \\n        [this[\\\"formatted_vals\\\"].subscribe((function (val){!(this.valueFromJulia[\\\"formatted_vals\\\"]) ? (WebIO.setval({\\\"name\\\":\\\"formatted_vals\\\",\\\"scope\\\":\\\"knockout-component-8116c885-c5d8-4a62-9685-5c84bfbc42c7\\\",\\\"id\\\":\\\"ob_1153\\\",\\\"type\\\":\\\"observable\\\"},val)) : undefined; return this.valueFromJulia[\\\"formatted_vals\\\"]=false}),self),this[\\\"changes\\\"].subscribe((function (val){!(this.valueFromJulia[\\\"changes\\\"]) ? (WebIO.setval({\\\"name\\\":\\\"changes\\\",\\\"scope\\\":\\\"knockout-component-8116c885-c5d8-4a62-9685-5c84bfbc42c7\\\",\\\"id\\\":\\\"ob_1155\\\",\\\"type\\\":\\\"observable\\\"},val)) : undefined; return this.valueFromJulia[\\\"changes\\\"]=false}),self),this[\\\"formatted_value\\\"].subscribe((function (val){!(this.valueFromJulia[\\\"formatted_value\\\"]) ? (WebIO.setval({\\\"name\\\":\\\"formatted_value\\\",\\\"scope\\\":\\\"knockout-component-8116c885-c5d8-4a62-9685-5c84bfbc42c7\\\",\\\"id\\\":\\\"ob_1154\\\",\\\"type\\\":\\\"observable\\\"},val)) : undefined; return this.valueFromJulia[\\\"formatted_value\\\"]=false}),self),this[\\\"index\\\"].subscribe((function (val){!(this.valueFromJulia[\\\"index\\\"]) ? (WebIO.setval({\\\"name\\\":\\\"index\\\",\\\"scope\\\":\\\"knockout-component-8116c885-c5d8-4a62-9685-5c84bfbc42c7\\\",\\\"id\\\":\\\"ob_1152\\\",\\\"type\\\":\\\"observable\\\"},val)) : undefined; return this.valueFromJulia[\\\"index\\\"]=false}),self)]\\n        \\n    }\\n    self.model = new AppViewModel();\\n    self.valueFromJulia = {};\\n    for (var key in json_data) {\\n        self.valueFromJulia[key] = false;\\n    }\\n    ko.applyBindings(self.model, self.dom);\\n}\\n\")]),\"changes\"=>Any[JSString(\"(function (val){return (val!=this.model[\\\"changes\\\"]()) ? (this.valueFromJulia[\\\"changes\\\"]=true, this.model[\\\"changes\\\"](val)) : undefined})\")],\"formatted_value\"=>Any[JSString(\"(function (val){return (val!=this.model[\\\"formatted_value\\\"]()) ? (this.valueFromJulia[\\\"formatted_value\\\"]=true, this.model[\\\"formatted_value\\\"](val)) : undefined})\")],\"index\"=>Any[JSString(\"(function (val){return (val!=this.model[\\\"index\\\"]()) ? (this.valueFromJulia[\\\"index\\\"]=true, this.model[\\\"index\\\"](val)) : undefined})\"), JSString(\"(function (val){return WebIO.setval({\\\"name\\\":\\\"formatted_value\\\",\\\"scope\\\":\\\"knockout-component-8116c885-c5d8-4a62-9685-5c84bfbc42c7\\\",\\\"id\\\":\\\"ob_1154\\\",\\\"type\\\":\\\"observable\\\"},WebIO.getval({\\\"name\\\":\\\"formatted_vals\\\",\\\"scope\\\":\\\"knockout-component-8116c885-c5d8-4a62-9685-5c84bfbc42c7\\\",\\\"id\\\":\\\"ob_1153\\\",\\\"type\\\":\\\"observable\\\"})[(WebIO.getval({\\\"name\\\":\\\"index\\\",\\\"scope\\\":\\\"knockout-component-8116c885-c5d8-4a62-9685-5c84bfbc42c7\\\",\\\"id\\\":\\\"ob_1152\\\",\\\"type\\\":\\\"observable\\\"})-1)])})\")]), ConnectionPool(Channel{Any}(sz_max:9223372036854775807,sz_curr:0), Set(AbstractConnection[]), Channel{AbstractConnection}(sz_max:32,sz_curr:0))), ##52#53{#dom#13{##dom#11#12{Dict{Any,Any},DOM}},typeof(scope)}(#dom#13{##dom#11#12{Dict{Any,Any},DOM}}(##dom#11#12{Dict{Any,Any},DOM}(Dict{Any,Any}(:className=>\"field\"), DOM(:html, :div))), scope))), Observable{Any} with 0 listeners. Value:\n",
       "Plot{Plots.GRBackend() n=1}, nothing, getfield(Main, Symbol(\"##67#73\")){Observable{Any}}(Observable{Any} with 0 listeners. Value:\n",
       "Plot{Plots.GRBackend() n=1}))))"
      ]
     },
     "execution_count": 49,
     "metadata": {
      "application/vnd.webio.node+json": {
       "kernelId": null
      }
     },
     "output_type": "execute_result"
    }
   ],
   "source": [
    "using Interact\n",
    "using Plots\n",
    "gr()\n",
    "\n",
    "policy_grid = zeros(Float64, length(pomdp.T_RANGE), length(pomdp.S_RANGE))\n",
    "\n",
    "@manipulate for ego_v in pomdp.EGO_V_RANGE\n",
    "    @manipulate for ped_v in pomdp.PED_V_RANGE\n",
    "\n",
    "        for i=1:length(pomdp.T_RANGE)\n",
    "            ped_t = pomdp.T_RANGE[i]\n",
    "            for j=1:length(pomdp.S_RANGE)\n",
    "                ped_s = pomdp.S_RANGE[j]\n",
    "                b = SparseCat([SingleOCFState(0.0, ego_v, ped_s, ped_t, 1.57, ped_v)],[1.])\n",
    "                act = action(qmdp_policy, b) \n",
    "              #  println(ped_s, \"/\", ped_t, \" act: \", act.acc)\n",
    "                policy_grid[i,j] = act.lateral_movement\n",
    "            end\n",
    "        end\n",
    "\n",
    "        xs = [pomdp.S_RANGE[i] for i = 1:length(pomdp.S_RANGE)]\n",
    "        ys = [pomdp.T_RANGE[i] for i = 1:length(pomdp.T_RANGE)]\n",
    "        heatmap(xs,ys,policy_grid,aspect_ratio=1)\n",
    "    end\n",
    "end\n"
   ]
  },
  {
   "cell_type": "code",
   "execution_count": 50,
   "metadata": {},
   "outputs": [
    {
     "name": "stdout",
     "output_type": "stream",
     "text": [
      "[1.0, 1.0]\n",
      "[0.0, 1.0]\n",
      "[-1.0, 1.0]\n",
      "[-2.0, 1.0]\n",
      "[-4.0, 1.0]\n",
      "[1.0, 0.0]\n",
      "[0.0, 0.0]\n",
      "[-1.0, 0.0]\n",
      "[-2.0, 0.0]\n",
      "[-4.0, 0.0]\n",
      "[1.0, -1.0]\n",
      "[0.0, -1.0]\n",
      "[-1.0, -1.0]\n",
      "[-2.0, -1.0]\n",
      "[-4.0, -1.0]\n",
      "0\n"
     ]
    }
   ],
   "source": [
    "# Test action space\n",
    "\n",
    "\n",
    "cnt = 0\n",
    "for (index, a) in enumerate(pomdp.action_space)\n",
    "    idx = actionindex(pomdp,a)\n",
    "    if (idx != index)\n",
    "        println(\"error\")\n",
    "        cnt = cnt + 1\n",
    "    end\n",
    "    println(a)\n",
    "end\n",
    "println(cnt)\n"
   ]
  },
  {
   "cell_type": "code",
   "execution_count": 12,
   "metadata": {},
   "outputs": [
    {
     "data": {
      "text/plain": [
       "6-element SingleOCFState:\n",
       " 0.5 \n",
       " 7.0 \n",
       " 2.0 \n",
       " 0.0 \n",
       " 1.57\n",
       " 0.5 "
      ]
     },
     "execution_count": 12,
     "metadata": {},
     "output_type": "execute_result"
    }
   ],
   "source": [
    "state_space = states(pomdp)\n",
    "\n",
    "state_space[stateindex(pomdp,SingleOCFState(0.5, 7.0, 2.0, 0.0, 1.57, 0.5))]"
   ]
  },
  {
   "cell_type": "code",
   "execution_count": 278,
   "metadata": {},
   "outputs": [
    {
     "name": "stdout",
     "output_type": "stream",
     "text": [
      "VecSE2({-2.000, 0.000}, 0.000)\n",
      "VecSE2({20.000, 1.500}, 1.570)\n",
      "VehicleDef(CAR, 4.000, 1.800)\n",
      "VehicleDef(PEDESTRIAN, 3.000, 3.000)\n"
     ]
    },
    {
     "data": {
      "text/plain": [
       "21.0"
      ]
     },
     "execution_count": 278,
     "metadata": {},
     "output_type": "execute_result"
    }
   ],
   "source": [
    "using PedestrianAvoidancePOMDP\n",
    "\n",
    "pomdp = SingleOCFPOMDP()\n",
    "\n",
    "s = SingleOCFState(0.0, 10, 20.0, 0.0, 1.57, 1.5)\n",
    "sp = SingleOCFState(0.0, 11, 20.0, 1.5, 1.57, 1.5)\n",
    "\n",
    "act = SingleOCFAction(0.0, 0.0)\n",
    "reward(pomdp, s, act, sp) "
   ]
  },
  {
   "cell_type": "code",
   "execution_count": 279,
   "metadata": {},
   "outputs": [],
   "source": [
    "function POMDPs.reward(pomdp::SingleOCFPOMDP, s::SingleOCFState, action::SingleOCFAction, sp::SingleOCFState) \n",
    "    \n",
    "    r = 0.\n",
    "\n",
    "    # is there a collision?\n",
    "    if collision_checker(pomdp,sp)\n",
    "        r += pomdp.collision_cost\n",
    "    end\n",
    "    \n",
    "    # is the goal reached?\n",
    "    if sp.ped_s == 0\n",
    "        r += pomdp.goal_reward\n",
    "    end\n",
    "    \n",
    "    # keep velocity\n",
    " #   if (action.acc > 0.0 && sp.ego_v > pomdp.desired_velocity )\n",
    " #       r += (-3)\n",
    " #   end\n",
    "   \n",
    "\n",
    "    # do not leave lane\n",
    "    if (action.lateral_movement >= 0.1 && sp.ego_y >= pomdp.EGO_Y_MAX )\n",
    "        r += (-5)\n",
    "    end\n",
    "\n",
    "    if (action.lateral_movement <= -.1 && sp.ego_y <= pomdp.EGO_Y_MIN )\n",
    "        r += (-5)\n",
    "    end\n",
    "    \n",
    "\n",
    "   # stay in center of the road\n",
    "    r_lane = (10) * abs(1-s.ego_y)\n",
    "    r += r_lane\n",
    "\n",
    " \n",
    "    # keep velocity\n",
    "    r_vel = (1) * ( pomdp.desired_velocity-abs(pomdp.desired_velocity-sp.ego_v))\n",
    "    if ( sp.ego_v > pomdp.desired_velocity)\n",
    "        r_vel = 0.\n",
    "    end\n",
    "\n",
    "    r += r_vel\n",
    "    \n",
    "#=\n",
    "    # costs for longitudinal actions\n",
    "    if action.acc > 0. ||  action.acc < 0.0\n",
    "        r += pomdp.action_cost_lon * abs(action.acc)*2\n",
    "    end\n",
    "        \n",
    "    # costs for lateral actions\n",
    "    if abs(action.lateral_movement) > 0 \n",
    "        r += pomdp.action_cost_lat * abs(action.lateral_movement) \n",
    "    end\n",
    "\n",
    "=#\n",
    "    if abs(action.acc) > 0 && abs(action.lateral_movement) > 0\n",
    "        r += (-10)\n",
    "    end\n",
    "    \n",
    "   # println(\"velocity: \", r_vel ) \n",
    "   # println(\"lane: \", r_lane)\n",
    "\n",
    "    return r\n",
    "    \n",
    "end"
   ]
  },
  {
   "cell_type": "code",
   "execution_count": 150,
   "metadata": {},
   "outputs": [],
   "source": [
    "\n",
    "\n"
   ]
  },
  {
   "cell_type": "code",
   "execution_count": 13,
   "metadata": {},
   "outputs": [
    {
     "data": {
      "text/plain": [
       "2-element SingleOCFAction:\n",
       " 1.0\n",
       " 1.0"
      ]
     },
     "execution_count": 13,
     "metadata": {},
     "output_type": "execute_result"
    }
   ],
   "source": [
    "0.0, 6.11, 2.75995, 0.100631, 1.5708, 0.5\n",
    "\n",
    "b = SparseCat([SingleOCFState(0.5, 7.0, 2.0, 0.0, 1.57, 0.5)],[1.])\n",
    "act = action(qmdp_policy, b) "
   ]
  },
  {
   "cell_type": "code",
   "execution_count": 7,
   "metadata": {},
   "outputs": [
    {
     "data": {
      "text/plain": [
       "SingleOCFPOMDP\n",
       "  env: CrosswalkEnv\n",
       "  PED_SAFETY_DISTANCE: Float64 1.0\n",
       "  ego_type: VehicleDef\n",
       "  ped_type: VehicleDef\n",
       "  longitudinal_actions: Array{Float64}((5,)) [1.0, 0.0, -1.0, -2.0, -4.0]\n",
       "  lateral_actions: Array{Float64}((3,)) [1.0, 0.0, -1.0]\n",
       "  ΔT: Float64 0.2\n",
       "  PED_A_RANGE: Array{Float64}((5,)) [-2.0, -1.0, 0.0, 1.0, 2.0]\n",
       "  PED_THETA_NOISE: Array{Float64}((3,)) [-0.195, 0.0, 0.195]\n",
       "  EGO_Y_MIN: Float64 -1.0\n",
       "  EGO_Y_MAX: Float64 1.0\n",
       "  EGO_Y_RANGE: Array{Float64}((5,)) [-1.0, -0.5, 0.0, 0.5, 1.0]\n",
       "  EGO_V_MIN: Float64 0.0\n",
       "  EGO_V_MAX: Float64 14.0\n",
       "  EGO_V_RANGE: Array{Float64}((15,)) [0.0, 1.0, 2.0, 3.0, 4.0, 5.0, 6.0, 7.0, 8.0, 9.0, 10.0, 11.0, 12.0, 13.0, 14.0]\n",
       "  S_MIN: Float64 0.0\n",
       "  S_MAX: Float64 50.0\n",
       "  S_RANGE: Array{Float64}((26,)) [0.0, 2.0, 4.0, 6.0, 8.0, 10.0, 12.0, 14.0, 16.0, 18.0  …  32.0, 34.0, 36.0, 38.0, 40.0, 42.0, 44.0, 46.0, 48.0, 50.0]\n",
       "  T_MIN: Float64 -5.0\n",
       "  T_MAX: Float64 5.0\n",
       "  T_RANGE: Array{Float64}((11,)) [-5.0, -4.0, -3.0, -2.0, -1.0, 0.0, 1.0, 2.0, 3.0, 4.0, 5.0]\n",
       "  PED_V_MIN: Float64 0.0\n",
       "  PED_V_MAX: Float64 2.0\n",
       "  PED_V_RANGE: Array{Float64}((5,)) [0.0, 0.5, 1.0, 1.5, 2.0]\n",
       "  PED_THETA_MIN: Float64 0.785\n",
       "  PED_THETA_MAX: Float64 2.355\n",
       "  PED_THETA_RANGE: Array{Float64}((1,)) [1.57]\n",
       "  collision_cost: Float64 -100.0\n",
       "  action_cost_lon: Float64 -10.0\n",
       "  action_cost_lat: Float64 -10.0\n",
       "  goal_reward: Float64 0.0\n",
       "  γ: Float64 0.95\n",
       "  state_space_grid: RectangleGrid{6}\n",
       "  state_space: Array{SingleOCFState}((107251,))\n",
       "  state_space_grid_ped: RectangleGrid{4}\n",
       "  state_space_ped: Array{PedestrianAvoidancePOMDP.SingleOCFPedState}((1430,))\n",
       "  action_space: Array{SingleOCFAction}((15,))\n",
       "  ego_vehicle: Entity{VehicleState,VehicleDef,Int64}\n",
       "  desired_velocity: Float64 11.11111111111111\n",
       "  pedestrian_birth: Float64 0.8\n"
      ]
     },
     "execution_count": 7,
     "metadata": {},
     "output_type": "execute_result"
    }
   ],
   "source": [
    "pomdp"
   ]
  },
  {
   "cell_type": "code",
   "execution_count": null,
   "metadata": {},
   "outputs": [],
   "source": []
  }
 ],
 "metadata": {
  "@webio": {
   "lastCommId": "54bda665dc724c5f8b3778d953b989c2",
   "lastKernelId": "4ef35a17-6a34-4f4f-8822-1f926e54820e"
  },
  "kernelspec": {
   "display_name": "Julia 1.0.1",
   "language": "julia",
   "name": "julia-1.0"
  },
  "language_info": {
   "file_extension": ".jl",
   "mimetype": "application/julia",
   "name": "julia",
   "version": "1.0.1"
  }
 },
 "nbformat": 4,
 "nbformat_minor": 2
}
