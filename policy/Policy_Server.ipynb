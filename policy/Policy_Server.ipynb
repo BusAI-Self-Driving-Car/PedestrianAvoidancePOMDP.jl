{
 "cells": [
  {
   "cell_type": "code",
   "execution_count": 1,
   "metadata": {},
   "outputs": [],
   "source": [
    "] activate ../ "
   ]
  },
  {
   "cell_type": "code",
   "execution_count": 2,
   "metadata": {},
   "outputs": [
    {
     "name": "stderr",
     "output_type": "stream",
     "text": [
      "┌ Info: Recompiling stale cache file /home/markuss/.julia/compiled/v1.0/PedestrianAvoidancePOMDP/UuJ2S.ji for PedestrianAvoidancePOMDP [a80ff0fe-e6a0-11e8-3b05-15413bd5ea7a]\n",
      "└ @ Base loading.jl:1190\n",
      "┌ Warning: Package PedestrianAvoidancePOMDP does not have EmergencyBrakingSystem in its dependencies:\n",
      "│ - If you have PedestrianAvoidancePOMDP checked out for development and have\n",
      "│   added EmergencyBrakingSystem as a dependency but haven't updated your primary\n",
      "│   environment's manifest file, try `Pkg.resolve()`.\n",
      "│ - Otherwise you may need to report an issue with PedestrianAvoidancePOMDP\n",
      "└ Loading EmergencyBrakingSystem into PedestrianAvoidancePOMDP from project dependency, future warnings for PedestrianAvoidancePOMDP are suppressed.\n",
      "WARNING: Method definition propagate(Records.Entity{AutomotiveDrivingModels.VehicleState, AutomotiveDrivingModels.VehicleDef, Int64}, AutomotiveDrivingModels.LatLonAccel, AutomotiveDrivingModels.Roadway, Float64) in module EmergencyBrakingSystem at /home/markuss/EmergencyBrakingSystem.jl/src/emergency_system.jl:144 overwritten in module PedestrianAvoidancePOMDP at /home/markuss/new/PedestrianAvoidancePOMDP.jl/src/frenet_pedestrian_pomdp.jl:127.\n",
      "WARNING: Method definition animate_record(Records.QueueRecord{Records.Entity{AutomotiveDrivingModels.VehicleState, AutomotiveDrivingModels.VehicleDef, Int64}}, Float64, AutomotivePOMDPs.CrosswalkEnv, AutomotiveSensors.GaussianSensor{P, V} where V<:AutomotiveSensors.AbstractNoiseModel where P<:AutomotiveSensors.AbstractNoiseModel, Array{Array{Records.Entity{AutomotiveDrivingModels.VehicleState, AutomotiveDrivingModels.VehicleDef, Int64}, 1}, 1}, Array{Float64, 1}, Array{Base.Dict{Int64, POMDPModelTools.SparseCat{Array{PedestrianAvoidancePOMDP.SingleOCFState, 1}, Array{Float64, 1}}}, 1}, Array{Records.Entity{AutomotiveDrivingModels.VehicleState, AutomotiveDrivingModels.VehicleDef, Int64}, 1}, Array{PedestrianAvoidancePOMDP.SingleOCFAction, 1}) in module PedestrianAvoidancePOMDP at /home/markuss/new/PedestrianAvoidancePOMDP.jl/src/rendering.jl:33 overwritten at /home/markuss/new/PedestrianAvoidancePOMDP.jl/src/rendering.jl:61.\n",
      "WARNING: Method definition animate_record(Records.QueueRecord{Records.Entity{AutomotiveDrivingModels.VehicleState, AutomotiveDrivingModels.VehicleDef, Int64}}, Float64, AutomotivePOMDPs.CrosswalkEnv, AutomotiveSensors.GaussianSensor{P, V} where V<:AutomotiveSensors.AbstractNoiseModel where P<:AutomotiveSensors.AbstractNoiseModel, Array{Array{Records.Entity{AutomotiveDrivingModels.VehicleState, AutomotiveDrivingModels.VehicleDef, Int64}, 1}, 1}, Array{Float64, 1}, Array{Base.Dict{Int64, POMDPModelTools.SparseCat{Array{PedestrianAvoidancePOMDP.SingleOCFState, 1}, Array{Float64, 1}}}, 1}, Array{Records.Entity{AutomotiveDrivingModels.VehicleState, AutomotiveDrivingModels.VehicleDef, Int64}, 1}, Array{PedestrianAvoidancePOMDP.SingleOCFAction, 1}, Any) in module PedestrianAvoidancePOMDP at /home/markuss/new/PedestrianAvoidancePOMDP.jl/src/rendering.jl:33 overwritten at /home/markuss/new/PedestrianAvoidancePOMDP.jl/src/rendering.jl:61.\n"
     ]
    }
   ],
   "source": [
    "using Revise\n",
    "using POMDPs\n",
    "using GridInterpolations \n",
    "using POMDPModelTools\n",
    "using POMDPPolicies\n",
    "using Parameters\n",
    "using StaticArrays\n",
    "using DiscreteValueIteration \n",
    "using Distributed\n",
    "using AutomotiveDrivingModels\n",
    "using AutoViz\n",
    "using AutomotiveSensors\n",
    "using AutomotivePOMDPs\n",
    "using PedestrianAvoidancePOMDP\n",
    "\n",
    "using FileIO\n",
    "using JLD2"
   ]
  },
  {
   "cell_type": "code",
   "execution_count": 3,
   "metadata": {},
   "outputs": [
    {
     "name": "stderr",
     "output_type": "stream",
     "text": [
      "┌ Warning: Importing POMDPToolbox. As of Julia 0.7 POMDPToolbox has been discontinued. Please use POMDPModelTools, POMDPPolicies, BeliefUpdaters, and/or POMDPSimulators instead.\n",
      "└ @ POMDPToolbox /home/markuss/.julia/packages/POMDPToolbox/OdZy7/src/POMDPToolbox.jl:4\n",
      "┌ Warning: Importing POMDPToolbox. As of Julia 0.7 POMDPToolbox has been discontinued. Please use POMDPModelTools, POMDPPolicies, BeliefUpdaters, and/or POMDPSimulators instead.\n",
      "└ @ POMDPToolbox ~/.julia/packages/POMDPToolbox/OdZy7/src/POMDPToolbox.jl:4\n",
      "┌ Warning: Importing POMDPToolbox. As of Julia 0.7 POMDPToolbox has been discontinued. Please use POMDPModelTools, POMDPPolicies, BeliefUpdaters, and/or POMDPSimulators instead.\n",
      "└ @ POMDPToolbox ~/.julia/packages/POMDPToolbox/OdZy7/src/POMDPToolbox.jl:4\n",
      "┌ Warning: Importing POMDPToolbox. As of Julia 0.7 POMDPToolbox has been discontinued. Please use POMDPModelTools, POMDPPolicies, BeliefUpdaters, and/or POMDPSimulators instead.\n",
      "└ @ POMDPToolbox ~/.julia/packages/POMDPToolbox/OdZy7/src/POMDPToolbox.jl:4\n",
      "┌ Warning: Importing POMDPToolbox. As of Julia 0.7 POMDPToolbox has been discontinued. Please use POMDPModelTools, POMDPPolicies, BeliefUpdaters, and/or POMDPSimulators instead.\n",
      "└ @ POMDPToolbox ~/.julia/packages/POMDPToolbox/OdZy7/src/POMDPToolbox.jl:4\n",
      "┌ Warning: Importing POMDPToolbox. As of Julia 0.7 POMDPToolbox has been discontinued. Please use POMDPModelTools, POMDPPolicies, BeliefUpdaters, and/or POMDPSimulators instead.\n",
      "└ @ POMDPToolbox ~/.julia/packages/POMDPToolbox/OdZy7/src/POMDPToolbox.jl:4\n",
      "┌ Warning: Importing POMDPToolbox. As of Julia 0.7 POMDPToolbox has been discontinued. Please use POMDPModelTools, POMDPPolicies, BeliefUpdaters, and/or POMDPSimulators instead.\n",
      "└ @ POMDPToolbox ~/.julia/packages/POMDPToolbox/OdZy7/src/POMDPToolbox.jl:4\n",
      "┌ Warning: Importing POMDPToolbox. As of Julia 0.7 POMDPToolbox has been discontinued. Please use POMDPModelTools, POMDPPolicies, BeliefUpdaters, and/or POMDPSimulators instead.\n",
      "└ @ POMDPToolbox ~/.julia/packages/POMDPToolbox/OdZy7/src/POMDPToolbox.jl:4\n",
      "┌ Warning: Importing POMDPToolbox. As of Julia 0.7 POMDPToolbox has been discontinued. Please use POMDPModelTools, POMDPPolicies, BeliefUpdaters, and/or POMDPSimulators instead.\n",
      "└ @ POMDPToolbox ~/.julia/packages/POMDPToolbox/OdZy7/src/POMDPToolbox.jl:4\n",
      "┌ Warning: Importing POMDPToolbox. As of Julia 0.7 POMDPToolbox has been discontinued. Please use POMDPModelTools, POMDPPolicies, BeliefUpdaters, and/or POMDPSimulators instead.\n",
      "└ @ POMDPToolbox ~/.julia/packages/POMDPToolbox/OdZy7/src/POMDPToolbox.jl:4\n",
      "┌ Warning: Importing POMDPToolbox. As of Julia 0.7 POMDPToolbox has been discontinued. Please use POMDPModelTools, POMDPPolicies, BeliefUpdaters, and/or POMDPSimulators instead.\n",
      "└ @ POMDPToolbox ~/.julia/packages/POMDPToolbox/OdZy7/src/POMDPToolbox.jl:4\n",
      "┌ Warning: Importing POMDPToolbox. As of Julia 0.7 POMDPToolbox has been discontinued. Please use POMDPModelTools, POMDPPolicies, BeliefUpdaters, and/or POMDPSimulators instead.\n",
      "└ @ POMDPToolbox ~/.julia/packages/POMDPToolbox/OdZy7/src/POMDPToolbox.jl:4\n",
      "┌ Warning: Importing POMDPToolbox. As of Julia 0.7 POMDPToolbox has been discontinued. Please use POMDPModelTools, POMDPPolicies, BeliefUpdaters, and/or POMDPSimulators instead.\n",
      "└ @ POMDPToolbox ~/.julia/packages/POMDPToolbox/OdZy7/src/POMDPToolbox.jl:4\n",
      "┌ Warning: Importing POMDPToolbox. As of Julia 0.7 POMDPToolbox has been discontinued. Please use POMDPModelTools, POMDPPolicies, BeliefUpdaters, and/or POMDPSimulators instead.\n",
      "└ @ POMDPToolbox ~/.julia/packages/POMDPToolbox/OdZy7/src/POMDPToolbox.jl:4\n",
      "┌ Warning: Importing POMDPToolbox. As of Julia 0.7 POMDPToolbox has been discontinued. Please use POMDPModelTools, POMDPPolicies, BeliefUpdaters, and/or POMDPSimulators instead.\n",
      "└ @ POMDPToolbox ~/.julia/packages/POMDPToolbox/OdZy7/src/POMDPToolbox.jl:4\n",
      "┌ Warning: Importing POMDPToolbox. As of Julia 0.7 POMDPToolbox has been discontinued. Please use POMDPModelTools, POMDPPolicies, BeliefUpdaters, and/or POMDPSimulators instead.\n",
      "└ @ POMDPToolbox ~/.julia/packages/POMDPToolbox/OdZy7/src/POMDPToolbox.jl:4\n",
      "┌ Warning: Importing POMDPToolbox. As of Julia 0.7 POMDPToolbox has been discontinued. Please use POMDPModelTools, POMDPPolicies, BeliefUpdaters, and/or POMDPSimulators instead.\n",
      "└ @ POMDPToolbox ~/.julia/packages/POMDPToolbox/OdZy7/src/POMDPToolbox.jl:4\n",
      "┌ Warning: Importing POMDPToolbox. As of Julia 0.7 POMDPToolbox has been discontinued. Please use POMDPModelTools, POMDPPolicies, BeliefUpdaters, and/or POMDPSimulators instead.\n",
      "└ @ POMDPToolbox ~/.julia/packages/POMDPToolbox/OdZy7/src/POMDPToolbox.jl:4\n",
      "┌ Warning: Importing POMDPToolbox. As of Julia 0.7 POMDPToolbox has been discontinued. Please use POMDPModelTools, POMDPPolicies, BeliefUpdaters, and/or POMDPSimulators instead.\n",
      "└ @ POMDPToolbox ~/.julia/packages/POMDPToolbox/OdZy7/src/POMDPToolbox.jl:4\n",
      "┌ Warning: Importing POMDPToolbox. As of Julia 0.7 POMDPToolbox has been discontinued. Please use POMDPModelTools, POMDPPolicies, BeliefUpdaters, and/or POMDPSimulators instead.\n",
      "└ @ POMDPToolbox ~/.julia/packages/POMDPToolbox/OdZy7/src/POMDPToolbox.jl:4\n",
      "┌ Warning: Importing POMDPToolbox. As of Julia 0.7 POMDPToolbox has been discontinued. Please use POMDPModelTools, POMDPPolicies, BeliefUpdaters, and/or POMDPSimulators instead.\n",
      "└ @ POMDPToolbox ~/.julia/packages/POMDPToolbox/OdZy7/src/POMDPToolbox.jl:4\n",
      "┌ Warning: Importing POMDPToolbox. As of Julia 0.7 POMDPToolbox has been discontinued. Please use POMDPModelTools, POMDPPolicies, BeliefUpdaters, and/or POMDPSimulators instead.\n",
      "└ @ POMDPToolbox ~/.julia/packages/POMDPToolbox/OdZy7/src/POMDPToolbox.jl:4\n",
      "┌ Warning: Importing POMDPToolbox. As of Julia 0.7 POMDPToolbox has been discontinued. Please use POMDPModelTools, POMDPPolicies, BeliefUpdaters, and/or POMDPSimulators instead.\n",
      "└ @ POMDPToolbox ~/.julia/packages/POMDPToolbox/OdZy7/src/POMDPToolbox.jl:4\n",
      "┌ Warning: Importing POMDPToolbox. As of Julia 0.7 POMDPToolbox has been discontinued. Please use POMDPModelTools, POMDPPolicies, BeliefUpdaters, and/or POMDPSimulators instead.\n",
      "└ @ POMDPToolbox ~/.julia/packages/POMDPToolbox/OdZy7/src/POMDPToolbox.jl:4\n",
      "┌ Warning: Importing POMDPToolbox. As of Julia 0.7 POMDPToolbox has been discontinued. Please use POMDPModelTools, POMDPPolicies, BeliefUpdaters, and/or POMDPSimulators instead.\n",
      "└ @ POMDPToolbox ~/.julia/packages/POMDPToolbox/OdZy7/src/POMDPToolbox.jl:4\n",
      "┌ Warning: Importing POMDPToolbox. As of Julia 0.7 POMDPToolbox has been discontinued. Please use POMDPModelTools, POMDPPolicies, BeliefUpdaters, and/or POMDPSimulators instead.\n",
      "└ @ POMDPToolbox ~/.julia/packages/POMDPToolbox/OdZy7/src/POMDPToolbox.jl:4\n",
      "┌ Warning: Importing POMDPToolbox. As of Julia 0.7 POMDPToolbox has been discontinued. Please use POMDPModelTools, POMDPPolicies, BeliefUpdaters, and/or POMDPSimulators instead.\n",
      "└ @ POMDPToolbox ~/.julia/packages/POMDPToolbox/OdZy7/src/POMDPToolbox.jl:4\n",
      "┌ Warning: Importing POMDPToolbox. As of Julia 0.7 POMDPToolbox has been discontinued. Please use POMDPModelTools, POMDPPolicies, BeliefUpdaters, and/or POMDPSimulators instead.\n",
      "└ @ POMDPToolbox ~/.julia/packages/POMDPToolbox/OdZy7/src/POMDPToolbox.jl:4\n",
      "┌ Warning: Importing POMDPToolbox. As of Julia 0.7 POMDPToolbox has been discontinued. Please use POMDPModelTools, POMDPPolicies, BeliefUpdaters, and/or POMDPSimulators instead.\n",
      "└ @ POMDPToolbox ~/.julia/packages/POMDPToolbox/OdZy7/src/POMDPToolbox.jl:4\n",
      "┌ Warning: Importing POMDPToolbox. As of Julia 0.7 POMDPToolbox has been discontinued. Please use POMDPModelTools, POMDPPolicies, BeliefUpdaters, and/or POMDPSimulators instead.\n",
      "└ @ POMDPToolbox ~/.julia/packages/POMDPToolbox/OdZy7/src/POMDPToolbox.jl:4\n",
      "┌ Warning: Importing POMDPToolbox. As of Julia 0.7 POMDPToolbox has been discontinued. Please use POMDPModelTools, POMDPPolicies, BeliefUpdaters, and/or POMDPSimulators instead.\n",
      "└ @ POMDPToolbox ~/.julia/packages/POMDPToolbox/OdZy7/src/POMDPToolbox.jl:4\n",
      "┌ Warning: Importing POMDPToolbox. As of Julia 0.7 POMDPToolbox has been discontinued. Please use POMDPModelTools, POMDPPolicies, BeliefUpdaters, and/or POMDPSimulators instead.\n",
      "└ @ POMDPToolbox ~/.julia/packages/POMDPToolbox/OdZy7/src/POMDPToolbox.jl:4\n",
      "┌ Warning: Importing POMDPToolbox. As of Julia 0.7 POMDPToolbox has been discontinued. Please use POMDPModelTools, POMDPPolicies, BeliefUpdaters, and/or POMDPSimulators instead.\n",
      "└ @ POMDPToolbox ~/.julia/packages/POMDPToolbox/OdZy7/src/POMDPToolbox.jl:4\n",
      "┌ Warning: Importing POMDPToolbox. As of Julia 0.7 POMDPToolbox has been discontinued. Please use POMDPModelTools, POMDPPolicies, BeliefUpdaters, and/or POMDPSimulators instead.\n",
      "└ @ POMDPToolbox ~/.julia/packages/POMDPToolbox/OdZy7/src/POMDPToolbox.jl:4\n",
      "┌ Warning: Importing POMDPToolbox. As of Julia 0.7 POMDPToolbox has been discontinued. Please use POMDPModelTools, POMDPPolicies, BeliefUpdaters, and/or POMDPSimulators instead.\n",
      "└ @ POMDPToolbox ~/.julia/packages/POMDPToolbox/OdZy7/src/POMDPToolbox.jl:4\n",
      "┌ Warning: Importing POMDPToolbox. As of Julia 0.7 POMDPToolbox has been discontinued. Please use POMDPModelTools, POMDPPolicies, BeliefUpdaters, and/or POMDPSimulators instead.\n",
      "└ @ POMDPToolbox ~/.julia/packages/POMDPToolbox/OdZy7/src/POMDPToolbox.jl:4\n",
      "┌ Warning: Importing POMDPToolbox. As of Julia 0.7 POMDPToolbox has been discontinued. Please use POMDPModelTools, POMDPPolicies, BeliefUpdaters, and/or POMDPSimulators instead.\n",
      "└ @ POMDPToolbox ~/.julia/packages/POMDPToolbox/OdZy7/src/POMDPToolbox.jl:4\n"
     ]
    },
    {
     "name": "stderr",
     "output_type": "stream",
     "text": [
      "┌ Warning: Importing POMDPToolbox. As of Julia 0.7 POMDPToolbox has been discontinued. Please use POMDPModelTools, POMDPPolicies, BeliefUpdaters, and/or POMDPSimulators instead.\n",
      "└ @ POMDPToolbox ~/.julia/packages/POMDPToolbox/OdZy7/src/POMDPToolbox.jl:4\n",
      "┌ Warning: Importing POMDPToolbox. As of Julia 0.7 POMDPToolbox has been discontinued. Please use POMDPModelTools, POMDPPolicies, BeliefUpdaters, and/or POMDPSimulators instead.\n",
      "└ @ POMDPToolbox ~/.julia/packages/POMDPToolbox/OdZy7/src/POMDPToolbox.jl:4\n",
      "┌ Warning: Importing POMDPToolbox. As of Julia 0.7 POMDPToolbox has been discontinued. Please use POMDPModelTools, POMDPPolicies, BeliefUpdaters, and/or POMDPSimulators instead.\n",
      "└ @ POMDPToolbox ~/.julia/packages/POMDPToolbox/OdZy7/src/POMDPToolbox.jl:4\n",
      "┌ Warning: Importing POMDPToolbox. As of Julia 0.7 POMDPToolbox has been discontinued. Please use POMDPModelTools, POMDPPolicies, BeliefUpdaters, and/or POMDPSimulators instead.\n",
      "└ @ POMDPToolbox ~/.julia/packages/POMDPToolbox/OdZy7/src/POMDPToolbox.jl:4\n",
      "┌ Warning: Importing POMDPToolbox. As of Julia 0.7 POMDPToolbox has been discontinued. Please use POMDPModelTools, POMDPPolicies, BeliefUpdaters, and/or POMDPSimulators instead.\n",
      "└ @ POMDPToolbox ~/.julia/packages/POMDPToolbox/OdZy7/src/POMDPToolbox.jl:4\n",
      "┌ Warning: Importing POMDPToolbox. As of Julia 0.7 POMDPToolbox has been discontinued. Please use POMDPModelTools, POMDPPolicies, BeliefUpdaters, and/or POMDPSimulators instead.\n",
      "└ @ POMDPToolbox ~/.julia/packages/POMDPToolbox/OdZy7/src/POMDPToolbox.jl:4\n",
      "┌ Warning: Importing POMDPToolbox. As of Julia 0.7 POMDPToolbox has been discontinued. Please use POMDPModelTools, POMDPPolicies, BeliefUpdaters, and/or POMDPSimulators instead.\n",
      "└ @ POMDPToolbox ~/.julia/packages/POMDPToolbox/OdZy7/src/POMDPToolbox.jl:4\n",
      "┌ Warning: Importing POMDPToolbox. As of Julia 0.7 POMDPToolbox has been discontinued. Please use POMDPModelTools, POMDPPolicies, BeliefUpdaters, and/or POMDPSimulators instead.\n",
      "└ @ POMDPToolbox ~/.julia/packages/POMDPToolbox/OdZy7/src/POMDPToolbox.jl:4\n",
      "┌ Warning: Importing POMDPToolbox. As of Julia 0.7 POMDPToolbox has been discontinued. Please use POMDPModelTools, POMDPPolicies, BeliefUpdaters, and/or POMDPSimulators instead.\n",
      "└ @ POMDPToolbox ~/.julia/packages/POMDPToolbox/OdZy7/src/POMDPToolbox.jl:4\n",
      "┌ Warning: Importing POMDPToolbox. As of Julia 0.7 POMDPToolbox has been discontinued. Please use POMDPModelTools, POMDPPolicies, BeliefUpdaters, and/or POMDPSimulators instead.\n",
      "└ @ POMDPToolbox ~/.julia/packages/POMDPToolbox/OdZy7/src/POMDPToolbox.jl:4\n",
      "┌ Warning: Importing POMDPToolbox. As of Julia 0.7 POMDPToolbox has been discontinued. Please use POMDPModelTools, POMDPPolicies, BeliefUpdaters, and/or POMDPSimulators instead.\n",
      "└ @ POMDPToolbox ~/.julia/packages/POMDPToolbox/OdZy7/src/POMDPToolbox.jl:4\n",
      "┌ Warning: Importing POMDPToolbox. As of Julia 0.7 POMDPToolbox has been discontinued. Please use POMDPModelTools, POMDPPolicies, BeliefUpdaters, and/or POMDPSimulators instead.\n",
      "└ @ POMDPToolbox ~/.julia/packages/POMDPToolbox/OdZy7/src/POMDPToolbox.jl:4\n",
      "┌ Warning: Importing POMDPToolbox. As of Julia 0.7 POMDPToolbox has been discontinued. Please use POMDPModelTools, POMDPPolicies, BeliefUpdaters, and/or POMDPSimulators instead.\n",
      "└ @ POMDPToolbox ~/.julia/packages/POMDPToolbox/OdZy7/src/POMDPToolbox.jl:4\n",
      "┌ Warning: Importing POMDPToolbox. As of Julia 0.7 POMDPToolbox has been discontinued. Please use POMDPModelTools, POMDPPolicies, BeliefUpdaters, and/or POMDPSimulators instead.\n",
      "└ @ POMDPToolbox ~/.julia/packages/POMDPToolbox/OdZy7/src/POMDPToolbox.jl:4\n",
      "┌ Warning: Importing POMDPToolbox. As of Julia 0.7 POMDPToolbox has been discontinued. Please use POMDPModelTools, POMDPPolicies, BeliefUpdaters, and/or POMDPSimulators instead.\n",
      "└ @ POMDPToolbox ~/.julia/packages/POMDPToolbox/OdZy7/src/POMDPToolbox.jl:4\n",
      "┌ Warning: Importing POMDPToolbox. As of Julia 0.7 POMDPToolbox has been discontinued. Please use POMDPModelTools, POMDPPolicies, BeliefUpdaters, and/or POMDPSimulators instead.\n",
      "└ @ POMDPToolbox ~/.julia/packages/POMDPToolbox/OdZy7/src/POMDPToolbox.jl:4\n",
      "┌ Warning: Importing POMDPToolbox. As of Julia 0.7 POMDPToolbox has been discontinued. Please use POMDPModelTools, POMDPPolicies, BeliefUpdaters, and/or POMDPSimulators instead.\n",
      "└ @ POMDPToolbox ~/.julia/packages/POMDPToolbox/OdZy7/src/POMDPToolbox.jl:4\n",
      "┌ Warning: Importing POMDPToolbox. As of Julia 0.7 POMDPToolbox has been discontinued. Please use POMDPModelTools, POMDPPolicies, BeliefUpdaters, and/or POMDPSimulators instead.\n",
      "└ @ POMDPToolbox ~/.julia/packages/POMDPToolbox/OdZy7/src/POMDPToolbox.jl:4\n",
      "┌ Warning: Importing POMDPToolbox. As of Julia 0.7 POMDPToolbox has been discontinued. Please use POMDPModelTools, POMDPPolicies, BeliefUpdaters, and/or POMDPSimulators instead.\n",
      "└ @ POMDPToolbox ~/.julia/packages/POMDPToolbox/OdZy7/src/POMDPToolbox.jl:4\n",
      "┌ Warning: Importing POMDPToolbox. As of Julia 0.7 POMDPToolbox has been discontinued. Please use POMDPModelTools, POMDPPolicies, BeliefUpdaters, and/or POMDPSimulators instead.\n",
      "└ @ POMDPToolbox ~/.julia/packages/POMDPToolbox/OdZy7/src/POMDPToolbox.jl:4\n"
     ]
    },
    {
     "name": "stdout",
     "output_type": "stream",
     "text": [
      "      From worker 54:\t┌ Warning: Package PedestrianAvoidancePOMDP does not have EmergencyBrakingSystem in its dependencies:\n",
      "      From worker 54:\t│ - If you have PedestrianAvoidancePOMDP checked out for development and have\n",
      "      From worker 54:\t│   added EmergencyBrakingSystem as a dependency but haven't updated your primary\n",
      "      From worker 54:\t│   environment's manifest file, try `Pkg.resolve()`.\n",
      "      From worker 54:\t│ - Otherwise you may need to report an issue with PedestrianAvoidancePOMDP\n",
      "      From worker 54:\t└ Loading EmergencyBrakingSystem into PedestrianAvoidancePOMDP from project dependency, future warnings for PedestrianAvoidancePOMDP are suppressed.\n",
      "      From worker 32:\t┌ Warning: Package PedestrianAvoidancePOMDP does not have EmergencyBrakingSystem in its dependencies:\n",
      "      From worker 32:\t│ - If you have PedestrianAvoidancePOMDP checked out for development and have\n",
      "      From worker 32:\t│   added EmergencyBrakingSystem as a dependency but haven't updated your primary\n",
      "      From worker 32:\t│   environment's manifest file, try `Pkg.resolve()`.\n",
      "      From worker 32:\t│ - Otherwise you may need to report an issue with PedestrianAvoidancePOMDP\n",
      "      From worker 32:\t└ Loading EmergencyBrakingSystem into PedestrianAvoidancePOMDP from project dependency, future warnings for PedestrianAvoidancePOMDP are suppressed.\n",
      "      From worker 46:\t┌ Warning: Package PedestrianAvoidancePOMDP does not have EmergencyBrakingSystem in its dependencies:\n",
      "      From worker 46:\t│ - If you have PedestrianAvoidancePOMDP checked out for development and have\n",
      "      From worker 46:\t│   added EmergencyBrakingSystem as a dependency but haven't updated your primary\n",
      "      From worker 46:\t│   environment's manifest file, try `Pkg.resolve()`.\n",
      "      From worker 46:\t│ - Otherwise you may need to report an issue with PedestrianAvoidancePOMDP\n",
      "      From worker 46:\t└ Loading EmergencyBrakingSystem into PedestrianAvoidancePOMDP from project dependency, future warnings for PedestrianAvoidancePOMDP are suppressed.\n",
      "      From worker 12:\t┌ Warning: Package PedestrianAvoidancePOMDP does not have EmergencyBrakingSystem in its dependencies:\n",
      "      From worker 12:\t│ - If you have PedestrianAvoidancePOMDP checked out for development and have\n",
      "      From worker 12:\t│   added EmergencyBrakingSystem as a dependency but haven't updated your primary\n",
      "      From worker 12:\t│   environment's manifest file, try `Pkg.resolve()`.\n",
      "      From worker 12:\t│ - Otherwise you may need to report an issue with PedestrianAvoidancePOMDP\n",
      "      From worker 12:\t└ Loading EmergencyBrakingSystem into PedestrianAvoidancePOMDP from project dependency, future warnings for PedestrianAvoidancePOMDP are suppressed.\n",
      "      From worker 24:\t┌ Warning: Package PedestrianAvoidancePOMDP does not have EmergencyBrakingSystem in its dependencies:\n",
      "      From worker 24:\t│ - If you have PedestrianAvoidancePOMDP checked out for development and have\n",
      "      From worker 24:\t│   added EmergencyBrakingSystem as a dependency but haven't updated your primary\n",
      "      From worker 24:\t│   environment's manifest file, try `Pkg.resolve()`.\n",
      "      From worker 24:\t│ - Otherwise you may need to report an issue with PedestrianAvoidancePOMDP\n",
      "      From worker 24:\t└ Loading EmergencyBrakingSystem into PedestrianAvoidancePOMDP from project dependency, future warnings for PedestrianAvoidancePOMDP are suppressed.\n",
      "      From worker 51:\t┌ Warning: Package PedestrianAvoidancePOMDP does not have EmergencyBrakingSystem in its dependencies:\n",
      "      From worker 51:\t│ - If you have PedestrianAvoidancePOMDP checked out for development and have\n",
      "      From worker 51:\t│   added EmergencyBrakingSystem as a dependency but haven't updated your primary\n",
      "      From worker 51:\t│   environment's manifest file, try `Pkg.resolve()`.\n",
      "      From worker 51:\t│ - Otherwise you may need to report an issue with PedestrianAvoidancePOMDP\n",
      "      From worker 51:\t└ Loading EmergencyBrakingSystem into PedestrianAvoidancePOMDP from project dependency, future warnings for PedestrianAvoidancePOMDP are suppressed.\n",
      "      From worker 53:\t┌ Warning: Package PedestrianAvoidancePOMDP does not have EmergencyBrakingSystem in its dependencies:\n",
      "      From worker 53:\t│ - If you have PedestrianAvoidancePOMDP checked out for development and have\n",
      "      From worker 53:\t│   added EmergencyBrakingSystem as a dependency but haven't updated your primary\n",
      "      From worker 53:\t│   environment's manifest file, try `Pkg.resolve()`.\n",
      "      From worker 53:\t│ - Otherwise you may need to report an issue with PedestrianAvoidancePOMDP\n",
      "      From worker 53:\t└ Loading EmergencyBrakingSystem into PedestrianAvoidancePOMDP from project dependency, future warnings for PedestrianAvoidancePOMDP are suppressed.\n",
      "      From worker 42:\t┌ Warning: Package PedestrianAvoidancePOMDP does not have EmergencyBrakingSystem in its dependencies:\n",
      "      From worker 42:\t│ - If you have PedestrianAvoidancePOMDP checked out for development and have\n",
      "      From worker 42:\t│   added EmergencyBrakingSystem as a dependency but haven't updated your primary\n",
      "      From worker 42:\t│   environment's manifest file, try `Pkg.resolve()`.\n",
      "      From worker 42:\t│ - Otherwise you may need to report an issue with PedestrianAvoidancePOMDP\n",
      "      From worker 42:\t└ Loading EmergencyBrakingSystem into PedestrianAvoidancePOMDP from project dependency, future warnings for PedestrianAvoidancePOMDP are suppressed.\n",
      "      From worker 20:\t┌ Warning: Package PedestrianAvoidancePOMDP does not have EmergencyBrakingSystem in its dependencies:\n",
      "      From worker 20:\t│ - If you have PedestrianAvoidancePOMDP checked out for development and have\n",
      "      From worker 20:\t│   added EmergencyBrakingSystem as a dependency but haven't updated your primary\n",
      "      From worker 20:\t│   environment's manifest file, try `Pkg.resolve()`.\n",
      "      From worker 20:\t│ - Otherwise you may need to report an issue with PedestrianAvoidancePOMDP\n",
      "      From worker 20:\t└ Loading EmergencyBrakingSystem into PedestrianAvoidancePOMDP from project dependency, future warnings for PedestrianAvoidancePOMDP are suppressed.\n",
      "      From worker 35:\t┌ Warning: Package PedestrianAvoidancePOMDP does not have EmergencyBrakingSystem in its dependencies:\n",
      "      From worker 35:\t│ - If you have PedestrianAvoidancePOMDP checked out for development and have\n",
      "      From worker 35:\t│   added EmergencyBrakingSystem as a dependency but haven't updated your primary\n",
      "      From worker 35:\t│   environment's manifest file, try `Pkg.resolve()`.\n",
      "      From worker 35:\t│ - Otherwise you may need to report an issue with PedestrianAvoidancePOMDP\n",
      "      From worker 35:\t└ Loading EmergencyBrakingSystem into PedestrianAvoidancePOMDP from project dependency, future warnings for PedestrianAvoidancePOMDP are suppressed.\n",
      "      From worker 29:\t┌ Warning: Package PedestrianAvoidancePOMDP does not have EmergencyBrakingSystem in its dependencies:\n",
      "      From worker 29:\t│ - If you have PedestrianAvoidancePOMDP checked out for development and have\n",
      "      From worker 29:\t│   added EmergencyBrakingSystem as a dependency but haven't updated your primary\n",
      "      From worker 29:\t│   environment's manifest file, try `Pkg.resolve()`.\n",
      "      From worker 29:\t│ - Otherwise you may need to report an issue with PedestrianAvoidancePOMDP\n",
      "      From worker 29:\t└ Loading EmergencyBrakingSystem into PedestrianAvoidancePOMDP from project dependency, future warnings for PedestrianAvoidancePOMDP are suppressed.\n",
      "      From worker 36:\t┌ Warning: Package PedestrianAvoidancePOMDP does not have EmergencyBrakingSystem in its dependencies:\n",
      "      From worker 36:\t│ - If you have PedestrianAvoidancePOMDP checked out for development and have\n",
      "      From worker 36:\t│   added EmergencyBrakingSystem as a dependency but haven't updated your primary\n",
      "      From worker 36:\t│   environment's manifest file, try `Pkg.resolve()`.\n",
      "      From worker 36:\t│ - Otherwise you may need to report an issue with PedestrianAvoidancePOMDP\n",
      "      From worker 36:\t└ Loading EmergencyBrakingSystem into PedestrianAvoidancePOMDP from project dependency, future warnings for PedestrianAvoidancePOMDP are suppressed.\n",
      "      From worker 13:\t┌ Warning: Package PedestrianAvoidancePOMDP does not have EmergencyBrakingSystem in its dependencies:\n",
      "      From worker 13:\t│ - If you have PedestrianAvoidancePOMDP checked out for development and have\n",
      "      From worker 13:\t│   added EmergencyBrakingSystem as a dependency but haven't updated your primary\n",
      "      From worker 13:\t│   environment's manifest file, try `Pkg.resolve()`.\n",
      "      From worker 13:\t│ - Otherwise you may need to report an issue with PedestrianAvoidancePOMDP\n",
      "      From worker 13:\t└ Loading EmergencyBrakingSystem into PedestrianAvoidancePOMDP from project dependency, future warnings for PedestrianAvoidancePOMDP are suppressed.\n"
     ]
    },
    {
     "name": "stdout",
     "output_type": "stream",
     "text": [
      "      From worker 10:\t┌ Warning: Package PedestrianAvoidancePOMDP does not have EmergencyBrakingSystem in its dependencies:\n",
      "      From worker 10:\t│ - If you have PedestrianAvoidancePOMDP checked out for development and have\n",
      "      From worker 10:\t│   added EmergencyBrakingSystem as a dependency but haven't updated your primary\n",
      "      From worker 10:\t│   environment's manifest file, try `Pkg.resolve()`.\n",
      "      From worker 10:\t│ - Otherwise you may need to report an issue with PedestrianAvoidancePOMDP\n",
      "      From worker 10:\t└ Loading EmergencyBrakingSystem into PedestrianAvoidancePOMDP from project dependency, future warnings for PedestrianAvoidancePOMDP are suppressed.\n",
      "      From worker 49:\t┌ Warning: Package PedestrianAvoidancePOMDP does not have EmergencyBrakingSystem in its dependencies:\n",
      "      From worker 49:\t│ - If you have PedestrianAvoidancePOMDP checked out for development and have\n",
      "      From worker 49:\t│   added EmergencyBrakingSystem as a dependency but haven't updated your primary\n",
      "      From worker 49:\t│   environment's manifest file, try `Pkg.resolve()`.\n",
      "      From worker 49:\t│ - Otherwise you may need to report an issue with PedestrianAvoidancePOMDP\n",
      "      From worker 49:\t└ Loading EmergencyBrakingSystem into PedestrianAvoidancePOMDP from project dependency, future warnings for PedestrianAvoidancePOMDP are suppressed.\n",
      "      From worker 33:\t┌ Warning: Package PedestrianAvoidancePOMDP does not have EmergencyBrakingSystem in its dependencies:\n",
      "      From worker 33:\t│ - If you have PedestrianAvoidancePOMDP checked out for development and have\n",
      "      From worker 33:\t│   added EmergencyBrakingSystem as a dependency but haven't updated your primary\n",
      "      From worker 33:\t│   environment's manifest file, try `Pkg.resolve()`.\n",
      "      From worker 33:\t│ - Otherwise you may need to report an issue with PedestrianAvoidancePOMDP\n",
      "      From worker 33:\t└ Loading EmergencyBrakingSystem into PedestrianAvoidancePOMDP from project dependency, future warnings for PedestrianAvoidancePOMDP are suppressed.\n",
      "      From worker 3:\t┌ Warning: Package PedestrianAvoidancePOMDP does not have EmergencyBrakingSystem in its dependencies:\n",
      "      From worker 3:\t│ - If you have PedestrianAvoidancePOMDP checked out for development and have\n",
      "      From worker 3:\t│   added EmergencyBrakingSystem as a dependency but haven't updated your primary\n",
      "      From worker 3:\t│   environment's manifest file, try `Pkg.resolve()`.\n",
      "      From worker 3:\t│ - Otherwise you may need to report an issue with PedestrianAvoidancePOMDP\n",
      "      From worker 3:\t└ Loading EmergencyBrakingSystem into PedestrianAvoidancePOMDP from project dependency, future warnings for PedestrianAvoidancePOMDP are suppressed.\n",
      "      From worker 5:\t┌ Warning: Package PedestrianAvoidancePOMDP does not have EmergencyBrakingSystem in its dependencies:\n",
      "      From worker 5:\t│ - If you have PedestrianAvoidancePOMDP checked out for development and have\n",
      "      From worker 5:\t│   added EmergencyBrakingSystem as a dependency but haven't updated your primary\n",
      "      From worker 5:\t│   environment's manifest file, try `Pkg.resolve()`.\n",
      "      From worker 5:\t│ - Otherwise you may need to report an issue with PedestrianAvoidancePOMDP\n",
      "      From worker 5:\t└ Loading EmergencyBrakingSystem into PedestrianAvoidancePOMDP from project dependency, future warnings for PedestrianAvoidancePOMDP are suppressed.\n",
      "      From worker 43:\t┌ Warning: Package PedestrianAvoidancePOMDP does not have EmergencyBrakingSystem in its dependencies:\n",
      "      From worker 43:\t│ - If you have PedestrianAvoidancePOMDP checked out for development and have\n",
      "      From worker 43:\t│   added EmergencyBrakingSystem as a dependency but haven't updated your primary\n",
      "      From worker 43:\t│   environment's manifest file, try `Pkg.resolve()`.\n",
      "      From worker 43:\t│ - Otherwise you may need to report an issue with PedestrianAvoidancePOMDP\n",
      "      From worker 43:\t└ Loading EmergencyBrakingSystem into PedestrianAvoidancePOMDP from project dependency, future warnings for PedestrianAvoidancePOMDP are suppressed.\n",
      "      From worker 16:\t┌ Warning: Package PedestrianAvoidancePOMDP does not have EmergencyBrakingSystem in its dependencies:\n",
      "      From worker 16:\t│ - If you have PedestrianAvoidancePOMDP checked out for development and have\n",
      "      From worker 16:\t│   added EmergencyBrakingSystem as a dependency but haven't updated your primary\n",
      "      From worker 16:\t│   environment's manifest file, try `Pkg.resolve()`.\n",
      "      From worker 16:\t│ - Otherwise you may need to report an issue with PedestrianAvoidancePOMDP\n",
      "      From worker 16:\t└ Loading EmergencyBrakingSystem into PedestrianAvoidancePOMDP from project dependency, future warnings for PedestrianAvoidancePOMDP are suppressed.\n",
      "      From worker 50:\t┌ Warning: Package PedestrianAvoidancePOMDP does not have EmergencyBrakingSystem in its dependencies:\n",
      "      From worker 50:\t│ - If you have PedestrianAvoidancePOMDP checked out for development and have\n",
      "      From worker 50:\t│   added EmergencyBrakingSystem as a dependency but haven't updated your primary\n",
      "      From worker 50:\t│   environment's manifest file, try `Pkg.resolve()`.\n",
      "      From worker 50:\t│ - Otherwise you may need to report an issue with PedestrianAvoidancePOMDP\n",
      "      From worker 50:\t└ Loading EmergencyBrakingSystem into PedestrianAvoidancePOMDP from project dependency, future warnings for PedestrianAvoidancePOMDP are suppressed.\n",
      "      From worker 21:\t┌ Warning: Package PedestrianAvoidancePOMDP does not have EmergencyBrakingSystem in its dependencies:\n",
      "      From worker 21:\t│ - If you have PedestrianAvoidancePOMDP checked out for development and have\n",
      "      From worker 21:\t│   added EmergencyBrakingSystem as a dependency but haven't updated your primary\n",
      "      From worker 21:\t│   environment's manifest file, try `Pkg.resolve()`.\n",
      "      From worker 21:\t│ - Otherwise you may need to report an issue with PedestrianAvoidancePOMDP\n",
      "      From worker 21:\t└ Loading EmergencyBrakingSystem into PedestrianAvoidancePOMDP from project dependency, future warnings for PedestrianAvoidancePOMDP are suppressed.\n",
      "      From worker 15:\t┌ Warning: Package PedestrianAvoidancePOMDP does not have EmergencyBrakingSystem in its dependencies:\n",
      "      From worker 15:\t│ - If you have PedestrianAvoidancePOMDP checked out for development and have\n",
      "      From worker 15:\t│   added EmergencyBrakingSystem as a dependency but haven't updated your primary\n",
      "      From worker 15:\t│   environment's manifest file, try `Pkg.resolve()`.\n",
      "      From worker 15:\t│ - Otherwise you may need to report an issue with PedestrianAvoidancePOMDP\n",
      "      From worker 15:\t└ Loading EmergencyBrakingSystem into PedestrianAvoidancePOMDP from project dependency, future warnings for PedestrianAvoidancePOMDP are suppressed.\n",
      "      From worker 27:\t┌ Warning: Package PedestrianAvoidancePOMDP does not have EmergencyBrakingSystem in its dependencies:\n",
      "      From worker 27:\t│ - If you have PedestrianAvoidancePOMDP checked out for development and have\n",
      "      From worker 27:\t│   added EmergencyBrakingSystem as a dependency but haven't updated your primary\n",
      "      From worker 27:\t│   environment's manifest file, try `Pkg.resolve()`.\n",
      "      From worker 27:\t│ - Otherwise you may need to report an issue with PedestrianAvoidancePOMDP\n",
      "      From worker 27:\t└ Loading EmergencyBrakingSystem into PedestrianAvoidancePOMDP from project dependency, future warnings for PedestrianAvoidancePOMDP are suppressed.\n",
      "      From worker 47:\t┌ Warning: Package PedestrianAvoidancePOMDP does not have EmergencyBrakingSystem in its dependencies:\n",
      "      From worker 47:\t│ - If you have PedestrianAvoidancePOMDP checked out for development and have\n",
      "      From worker 47:\t│   added EmergencyBrakingSystem as a dependency but haven't updated your primary\n",
      "      From worker 47:\t│   environment's manifest file, try `Pkg.resolve()`.\n",
      "      From worker 47:\t│ - Otherwise you may need to report an issue with PedestrianAvoidancePOMDP\n",
      "      From worker 47:\t└ Loading EmergencyBrakingSystem into PedestrianAvoidancePOMDP from project dependency, future warnings for PedestrianAvoidancePOMDP are suppressed.\n",
      "      From worker 19:\t┌ Warning: Package PedestrianAvoidancePOMDP does not have EmergencyBrakingSystem in its dependencies:\n",
      "      From worker 19:\t│ - If you have PedestrianAvoidancePOMDP checked out for development and have\n",
      "      From worker 19:\t│   added EmergencyBrakingSystem as a dependency but haven't updated your primary\n",
      "      From worker 19:\t│   environment's manifest file, try `Pkg.resolve()`.\n",
      "      From worker 19:\t│ - Otherwise you may need to report an issue with PedestrianAvoidancePOMDP\n",
      "      From worker 19:\t└ Loading EmergencyBrakingSystem into PedestrianAvoidancePOMDP from project dependency, future warnings for PedestrianAvoidancePOMDP are suppressed.\n",
      "      From worker 26:\t┌ Warning: Package PedestrianAvoidancePOMDP does not have EmergencyBrakingSystem in its dependencies:\n",
      "      From worker 26:\t│ - If you have PedestrianAvoidancePOMDP checked out for development and have\n",
      "      From worker 26:\t│   added EmergencyBrakingSystem as a dependency but haven't updated your primary\n",
      "      From worker 26:\t│   environment's manifest file, try `Pkg.resolve()`.\n",
      "      From worker 26:\t│ - Otherwise you may need to report an issue with PedestrianAvoidancePOMDP\n",
      "      From worker 26:\t└ Loading EmergencyBrakingSystem into PedestrianAvoidancePOMDP from project dependency, future warnings for PedestrianAvoidancePOMDP are suppressed.\n",
      "      From worker 23:\t┌ Warning: Package PedestrianAvoidancePOMDP does not have EmergencyBrakingSystem in its dependencies:\n",
      "      From worker 23:\t│ - If you have PedestrianAvoidancePOMDP checked out for development and have\n",
      "      From worker 23:\t│   added EmergencyBrakingSystem as a dependency but haven't updated your primary\n",
      "      From worker 23:\t│   environment's manifest file, try `Pkg.resolve()`.\n",
      "      From worker 23:\t│ - Otherwise you may need to report an issue with PedestrianAvoidancePOMDP\n",
      "      From worker 23:\t└ Loading EmergencyBrakingSystem into PedestrianAvoidancePOMDP from project dependency, future warnings for PedestrianAvoidancePOMDP are suppressed.\n",
      "      From worker 34:\t┌ Warning: Package PedestrianAvoidancePOMDP does not have EmergencyBrakingSystem in its dependencies:\n",
      "      From worker 34:\t│ - If you have PedestrianAvoidancePOMDP checked out for development and have\n",
      "      From worker 34:\t│   added EmergencyBrakingSystem as a dependency but haven't updated your primary\n",
      "      From worker 34:\t│   environment's manifest file, try `Pkg.resolve()`.\n",
      "      From worker 34:\t│ - Otherwise you may need to report an issue with PedestrianAvoidancePOMDP\n",
      "      From worker 34:\t└ Loading EmergencyBrakingSystem into PedestrianAvoidancePOMDP from project dependency, future warnings for PedestrianAvoidancePOMDP are suppressed.\n",
      "      From worker 17:\t┌ Warning: Package PedestrianAvoidancePOMDP does not have EmergencyBrakingSystem in its dependencies:\n",
      "      From worker 17:\t│ - If you have PedestrianAvoidancePOMDP checked out for development and have\n",
      "      From worker 17:\t│   added EmergencyBrakingSystem as a dependency but haven't updated your primary\n",
      "      From worker 17:\t│   environment's manifest file, try `Pkg.resolve()`.\n",
      "      From worker 17:\t│ - Otherwise you may need to report an issue with PedestrianAvoidancePOMDP\n",
      "      From worker 17:\t└ Loading EmergencyBrakingSystem into PedestrianAvoidancePOMDP from project dependency, future warnings for PedestrianAvoidancePOMDP are suppressed.\n"
     ]
    },
    {
     "name": "stdout",
     "output_type": "stream",
     "text": [
      "      From worker 37:\t┌ Warning: Package PedestrianAvoidancePOMDP does not have EmergencyBrakingSystem in its dependencies:\n",
      "      From worker 37:\t│ - If you have PedestrianAvoidancePOMDP checked out for development and have\n",
      "      From worker 37:\t│   added EmergencyBrakingSystem as a dependency but haven't updated your primary\n",
      "      From worker 37:\t│   environment's manifest file, try `Pkg.resolve()`.\n",
      "      From worker 37:\t│ - Otherwise you may need to report an issue with PedestrianAvoidancePOMDP\n",
      "      From worker 37:\t└ Loading EmergencyBrakingSystem into PedestrianAvoidancePOMDP from project dependency, future warnings for PedestrianAvoidancePOMDP are suppressed.\n",
      "      From worker 39:\t┌ Warning: Package PedestrianAvoidancePOMDP does not have EmergencyBrakingSystem in its dependencies:\n",
      "      From worker 39:\t│ - If you have PedestrianAvoidancePOMDP checked out for development and have\n",
      "      From worker 39:\t│   added EmergencyBrakingSystem as a dependency but haven't updated your primary\n",
      "      From worker 39:\t│   environment's manifest file, try `Pkg.resolve()`.\n",
      "      From worker 39:\t│ - Otherwise you may need to report an issue with PedestrianAvoidancePOMDP\n",
      "      From worker 39:\t└ Loading EmergencyBrakingSystem into PedestrianAvoidancePOMDP from project dependency, future warnings for PedestrianAvoidancePOMDP are suppressed.\n",
      "      From worker 18:\t┌ Warning: Package PedestrianAvoidancePOMDP does not have EmergencyBrakingSystem in its dependencies:\n",
      "      From worker 18:\t│ - If you have PedestrianAvoidancePOMDP checked out for development and have\n",
      "      From worker 18:\t│   added EmergencyBrakingSystem as a dependency but haven't updated your primary\n",
      "      From worker 18:\t│   environment's manifest file, try `Pkg.resolve()`.\n",
      "      From worker 18:\t│ - Otherwise you may need to report an issue with PedestrianAvoidancePOMDP\n",
      "      From worker 18:\t└ Loading EmergencyBrakingSystem into PedestrianAvoidancePOMDP from project dependency, future warnings for PedestrianAvoidancePOMDP are suppressed.\n",
      "      From worker 14:\t┌ Warning: Package PedestrianAvoidancePOMDP does not have EmergencyBrakingSystem in its dependencies:\n",
      "      From worker 14:\t│ - If you have PedestrianAvoidancePOMDP checked out for development and have\n",
      "      From worker 14:\t│   added EmergencyBrakingSystem as a dependency but haven't updated your primary\n",
      "      From worker 14:\t│   environment's manifest file, try `Pkg.resolve()`.\n",
      "      From worker 14:\t│ - Otherwise you may need to report an issue with PedestrianAvoidancePOMDP\n",
      "      From worker 14:\t└ Loading EmergencyBrakingSystem into PedestrianAvoidancePOMDP from project dependency, future warnings for PedestrianAvoidancePOMDP are suppressed.\n",
      "      From worker 28:\t┌ Warning: Package PedestrianAvoidancePOMDP does not have EmergencyBrakingSystem in its dependencies:\n",
      "      From worker 28:\t│ - If you have PedestrianAvoidancePOMDP checked out for development and have\n",
      "      From worker 28:\t│   added EmergencyBrakingSystem as a dependency but haven't updated your primary\n",
      "      From worker 28:\t│   environment's manifest file, try `Pkg.resolve()`.\n",
      "      From worker 28:\t│ - Otherwise you may need to report an issue with PedestrianAvoidancePOMDP\n",
      "      From worker 28:\t└ Loading EmergencyBrakingSystem into PedestrianAvoidancePOMDP from project dependency, future warnings for PedestrianAvoidancePOMDP are suppressed.\n",
      "      From worker 40:\t┌ Warning: Package PedestrianAvoidancePOMDP does not have EmergencyBrakingSystem in its dependencies:\n",
      "      From worker 40:\t│ - If you have PedestrianAvoidancePOMDP checked out for development and have\n",
      "      From worker 40:\t│   added EmergencyBrakingSystem as a dependency but haven't updated your primary\n",
      "      From worker 40:\t│   environment's manifest file, try `Pkg.resolve()`.\n",
      "      From worker 40:\t│ - Otherwise you may need to report an issue with PedestrianAvoidancePOMDP\n",
      "      From worker 40:\t└ Loading EmergencyBrakingSystem into PedestrianAvoidancePOMDP from project dependency, future warnings for PedestrianAvoidancePOMDP are suppressed.\n",
      "      From worker 30:\t┌ Warning: Package PedestrianAvoidancePOMDP does not have EmergencyBrakingSystem in its dependencies:\n",
      "      From worker 30:\t│ - If you have PedestrianAvoidancePOMDP checked out for development and have\n",
      "      From worker 30:\t│   added EmergencyBrakingSystem as a dependency but haven't updated your primary\n",
      "      From worker 30:\t│   environment's manifest file, try `Pkg.resolve()`.\n",
      "      From worker 30:\t│ - Otherwise you may need to report an issue with PedestrianAvoidancePOMDP\n",
      "      From worker 30:\t└ Loading EmergencyBrakingSystem into PedestrianAvoidancePOMDP from project dependency, future warnings for PedestrianAvoidancePOMDP are suppressed.\n",
      "      From worker 6:\t┌ Warning: Package PedestrianAvoidancePOMDP does not have EmergencyBrakingSystem in its dependencies:\n",
      "      From worker 6:\t│ - If you have PedestrianAvoidancePOMDP checked out for development and have\n",
      "      From worker 6:\t│   added EmergencyBrakingSystem as a dependency but haven't updated your primary\n",
      "      From worker 6:\t│   environment's manifest file, try `Pkg.resolve()`.\n",
      "      From worker 6:\t│ - Otherwise you may need to report an issue with PedestrianAvoidancePOMDP\n",
      "      From worker 6:\t└ Loading EmergencyBrakingSystem into PedestrianAvoidancePOMDP from project dependency, future warnings for PedestrianAvoidancePOMDP are suppressed.\n",
      "      From worker 44:\t┌ Warning: Package PedestrianAvoidancePOMDP does not have EmergencyBrakingSystem in its dependencies:\n",
      "      From worker 44:\t│ - If you have PedestrianAvoidancePOMDP checked out for development and have\n",
      "      From worker 44:\t│   added EmergencyBrakingSystem as a dependency but haven't updated your primary\n",
      "      From worker 44:\t│   environment's manifest file, try `Pkg.resolve()`.\n",
      "      From worker 44:\t│ - Otherwise you may need to report an issue with PedestrianAvoidancePOMDP\n",
      "      From worker 44:\t└ Loading EmergencyBrakingSystem into PedestrianAvoidancePOMDP from project dependency, future warnings for PedestrianAvoidancePOMDP are suppressed.\n",
      "      From worker 38:\t┌ Warning: Package PedestrianAvoidancePOMDP does not have EmergencyBrakingSystem in its dependencies:\n",
      "      From worker 38:\t│ - If you have PedestrianAvoidancePOMDP checked out for development and have\n",
      "      From worker 38:\t│   added EmergencyBrakingSystem as a dependency but haven't updated your primary\n",
      "      From worker 38:\t│   environment's manifest file, try `Pkg.resolve()`.\n",
      "      From worker 38:\t│ - Otherwise you may need to report an issue with PedestrianAvoidancePOMDP\n",
      "      From worker 38:\t└ Loading EmergencyBrakingSystem into PedestrianAvoidancePOMDP from project dependency, future warnings for PedestrianAvoidancePOMDP are suppressed.\n",
      "      From worker 31:\t┌ Warning: Package PedestrianAvoidancePOMDP does not have EmergencyBrakingSystem in its dependencies:\n",
      "      From worker 31:\t│ - If you have PedestrianAvoidancePOMDP checked out for development and have\n",
      "      From worker 31:\t│   added EmergencyBrakingSystem as a dependency but haven't updated your primary\n",
      "      From worker 31:\t│   environment's manifest file, try `Pkg.resolve()`.\n",
      "      From worker 31:\t│ - Otherwise you may need to report an issue with PedestrianAvoidancePOMDP\n",
      "      From worker 31:\t└ Loading EmergencyBrakingSystem into PedestrianAvoidancePOMDP from project dependency, future warnings for PedestrianAvoidancePOMDP are suppressed.\n",
      "      From worker 8:\t┌ Warning: Package PedestrianAvoidancePOMDP does not have EmergencyBrakingSystem in its dependencies:\n",
      "      From worker 8:\t│ - If you have PedestrianAvoidancePOMDP checked out for development and have\n",
      "      From worker 8:\t│   added EmergencyBrakingSystem as a dependency but haven't updated your primary\n",
      "      From worker 8:\t│   environment's manifest file, try `Pkg.resolve()`.\n",
      "      From worker 8:\t│ - Otherwise you may need to report an issue with PedestrianAvoidancePOMDP\n",
      "      From worker 8:\t└ Loading EmergencyBrakingSystem into PedestrianAvoidancePOMDP from project dependency, future warnings for PedestrianAvoidancePOMDP are suppressed.\n",
      "      From worker 48:\t┌ Warning: Package PedestrianAvoidancePOMDP does not have EmergencyBrakingSystem in its dependencies:\n",
      "      From worker 48:\t│ - If you have PedestrianAvoidancePOMDP checked out for development and have\n",
      "      From worker 48:\t│   added EmergencyBrakingSystem as a dependency but haven't updated your primary\n",
      "      From worker 48:\t│   environment's manifest file, try `Pkg.resolve()`.\n",
      "      From worker 48:\t│ - Otherwise you may need to report an issue with PedestrianAvoidancePOMDP\n",
      "      From worker 48:\t└ Loading EmergencyBrakingSystem into PedestrianAvoidancePOMDP from project dependency, future warnings for PedestrianAvoidancePOMDP are suppressed.\n",
      "      From worker 52:\t┌ Warning: Package PedestrianAvoidancePOMDP does not have EmergencyBrakingSystem in its dependencies:\n",
      "      From worker 52:\t│ - If you have PedestrianAvoidancePOMDP checked out for development and have\n",
      "      From worker 52:\t│   added EmergencyBrakingSystem as a dependency but haven't updated your primary\n",
      "      From worker 52:\t│   environment's manifest file, try `Pkg.resolve()`.\n",
      "      From worker 52:\t│ - Otherwise you may need to report an issue with PedestrianAvoidancePOMDP\n",
      "      From worker 52:\t└ Loading EmergencyBrakingSystem into PedestrianAvoidancePOMDP from project dependency, future warnings for PedestrianAvoidancePOMDP are suppressed.\n",
      "      From worker 57:\t┌ Warning: Package PedestrianAvoidancePOMDP does not have EmergencyBrakingSystem in its dependencies:\n",
      "      From worker 57:\t│ - If you have PedestrianAvoidancePOMDP checked out for development and have\n",
      "      From worker 57:\t│   added EmergencyBrakingSystem as a dependency but haven't updated your primary\n",
      "      From worker 57:\t│   environment's manifest file, try `Pkg.resolve()`.\n",
      "      From worker 57:\t│ - Otherwise you may need to report an issue with PedestrianAvoidancePOMDP\n",
      "      From worker 57:\t└ Loading EmergencyBrakingSystem into PedestrianAvoidancePOMDP from project dependency, future warnings for PedestrianAvoidancePOMDP are suppressed.\n"
     ]
    },
    {
     "name": "stdout",
     "output_type": "stream",
     "text": [
      "      From worker 2:\t┌ Warning: Package PedestrianAvoidancePOMDP does not have EmergencyBrakingSystem in its dependencies:\n",
      "      From worker 2:\t│ - If you have PedestrianAvoidancePOMDP checked out for development and have\n",
      "      From worker 2:\t│   added EmergencyBrakingSystem as a dependency but haven't updated your primary\n",
      "      From worker 2:\t│   environment's manifest file, try `Pkg.resolve()`.\n",
      "      From worker 2:\t│ - Otherwise you may need to report an issue with PedestrianAvoidancePOMDP\n",
      "      From worker 2:\t└ Loading EmergencyBrakingSystem into PedestrianAvoidancePOMDP from project dependency, future warnings for PedestrianAvoidancePOMDP are suppressed.\n",
      "      From worker 4:\t┌ Warning: Package PedestrianAvoidancePOMDP does not have EmergencyBrakingSystem in its dependencies:\n",
      "      From worker 4:\t│ - If you have PedestrianAvoidancePOMDP checked out for development and have\n",
      "      From worker 4:\t│   added EmergencyBrakingSystem as a dependency but haven't updated your primary\n",
      "      From worker 4:\t│   environment's manifest file, try `Pkg.resolve()`.\n",
      "      From worker 4:\t│ - Otherwise you may need to report an issue with PedestrianAvoidancePOMDP\n",
      "      From worker 4:\t└ Loading EmergencyBrakingSystem into PedestrianAvoidancePOMDP from project dependency, future warnings for PedestrianAvoidancePOMDP are suppressed.\n",
      "      From worker 56:\t┌ Warning: Package PedestrianAvoidancePOMDP does not have EmergencyBrakingSystem in its dependencies:\n",
      "      From worker 56:\t│ - If you have PedestrianAvoidancePOMDP checked out for development and have\n",
      "      From worker 56:\t│   added EmergencyBrakingSystem as a dependency but haven't updated your primary\n",
      "      From worker 56:\t│   environment's manifest file, try `Pkg.resolve()`.\n",
      "      From worker 56:\t│ - Otherwise you may need to report an issue with PedestrianAvoidancePOMDP\n",
      "      From worker 56:\t└ Loading EmergencyBrakingSystem into PedestrianAvoidancePOMDP from project dependency, future warnings for PedestrianAvoidancePOMDP are suppressed.\n",
      "      From worker 25:\t┌ Warning: Package PedestrianAvoidancePOMDP does not have EmergencyBrakingSystem in its dependencies:\n",
      "      From worker 25:\t│ - If you have PedestrianAvoidancePOMDP checked out for development and have\n",
      "      From worker 25:\t│   added EmergencyBrakingSystem as a dependency but haven't updated your primary\n",
      "      From worker 25:\t│   environment's manifest file, try `Pkg.resolve()`.\n",
      "      From worker 25:\t│ - Otherwise you may need to report an issue with PedestrianAvoidancePOMDP\n",
      "      From worker 25:\t└ Loading EmergencyBrakingSystem into PedestrianAvoidancePOMDP from project dependency, future warnings for PedestrianAvoidancePOMDP are suppressed.\n",
      "      From worker 22:\t┌ Warning: Package PedestrianAvoidancePOMDP does not have EmergencyBrakingSystem in its dependencies:\n",
      "      From worker 22:\t│ - If you have PedestrianAvoidancePOMDP checked out for development and have\n",
      "      From worker 22:\t│   added EmergencyBrakingSystem as a dependency but haven't updated your primary\n",
      "      From worker 22:\t│   environment's manifest file, try `Pkg.resolve()`.\n",
      "      From worker 22:\t│ - Otherwise you may need to report an issue with PedestrianAvoidancePOMDP\n",
      "      From worker 22:\t└ Loading EmergencyBrakingSystem into PedestrianAvoidancePOMDP from project dependency, future warnings for PedestrianAvoidancePOMDP are suppressed.\n",
      "      From worker 7:\t┌ Warning: Package PedestrianAvoidancePOMDP does not have EmergencyBrakingSystem in its dependencies:\n",
      "      From worker 7:\t│ - If you have PedestrianAvoidancePOMDP checked out for development and have\n",
      "      From worker 7:\t│   added EmergencyBrakingSystem as a dependency but haven't updated your primary\n",
      "      From worker 7:\t│   environment's manifest file, try `Pkg.resolve()`.\n",
      "      From worker 7:\t│ - Otherwise you may need to report an issue with PedestrianAvoidancePOMDP\n",
      "      From worker 7:\t└ Loading EmergencyBrakingSystem into PedestrianAvoidancePOMDP from project dependency, future warnings for PedestrianAvoidancePOMDP are suppressed.\n",
      "      From worker 41:\t┌ Warning: Package PedestrianAvoidancePOMDP does not have EmergencyBrakingSystem in its dependencies:\n",
      "      From worker 41:\t│ - If you have PedestrianAvoidancePOMDP checked out for development and have\n",
      "      From worker 41:\t│   added EmergencyBrakingSystem as a dependency but haven't updated your primary\n",
      "      From worker 41:\t│   environment's manifest file, try `Pkg.resolve()`.\n",
      "      From worker 41:\t│ - Otherwise you may need to report an issue with PedestrianAvoidancePOMDP\n",
      "      From worker 41:\t└ Loading EmergencyBrakingSystem into PedestrianAvoidancePOMDP from project dependency, future warnings for PedestrianAvoidancePOMDP are suppressed.\n",
      "      From worker 55:\t┌ Warning: Package PedestrianAvoidancePOMDP does not have EmergencyBrakingSystem in its dependencies:\n",
      "      From worker 55:\t│ - If you have PedestrianAvoidancePOMDP checked out for development and have\n",
      "      From worker 55:\t│   added EmergencyBrakingSystem as a dependency but haven't updated your primary\n",
      "      From worker 55:\t│   environment's manifest file, try `Pkg.resolve()`.\n",
      "      From worker 55:\t│ - Otherwise you may need to report an issue with PedestrianAvoidancePOMDP\n",
      "      From worker 55:\t└ Loading EmergencyBrakingSystem into PedestrianAvoidancePOMDP from project dependency, future warnings for PedestrianAvoidancePOMDP are suppressed.\n",
      "      From worker 9:\t┌ Warning: Package PedestrianAvoidancePOMDP does not have EmergencyBrakingSystem in its dependencies:\n",
      "      From worker 9:\t│ - If you have PedestrianAvoidancePOMDP checked out for development and have\n",
      "      From worker 9:\t│   added EmergencyBrakingSystem as a dependency but haven't updated your primary\n",
      "      From worker 9:\t│   environment's manifest file, try `Pkg.resolve()`.\n",
      "      From worker 9:\t│ - Otherwise you may need to report an issue with PedestrianAvoidancePOMDP\n",
      "      From worker 9:\t└ Loading EmergencyBrakingSystem into PedestrianAvoidancePOMDP from project dependency, future warnings for PedestrianAvoidancePOMDP are suppressed.\n",
      "      From worker 45:\t┌ Warning: Package PedestrianAvoidancePOMDP does not have EmergencyBrakingSystem in its dependencies:\n",
      "      From worker 45:\t│ - If you have PedestrianAvoidancePOMDP checked out for development and have\n",
      "      From worker 45:\t│   added EmergencyBrakingSystem as a dependency but haven't updated your primary\n",
      "      From worker 45:\t│   environment's manifest file, try `Pkg.resolve()`.\n",
      "      From worker 45:\t│ - Otherwise you may need to report an issue with PedestrianAvoidancePOMDP\n",
      "      From worker 45:\t└ Loading EmergencyBrakingSystem into PedestrianAvoidancePOMDP from project dependency, future warnings for PedestrianAvoidancePOMDP are suppressed.\n",
      "      From worker 11:\t┌ Warning: Package PedestrianAvoidancePOMDP does not have EmergencyBrakingSystem in its dependencies:\n",
      "      From worker 11:\t│ - If you have PedestrianAvoidancePOMDP checked out for development and have\n",
      "      From worker 11:\t│   added EmergencyBrakingSystem as a dependency but haven't updated your primary\n",
      "      From worker 11:\t│   environment's manifest file, try `Pkg.resolve()`.\n",
      "      From worker 11:\t│ - Otherwise you may need to report an issue with PedestrianAvoidancePOMDP\n",
      "      From worker 11:\t└ Loading EmergencyBrakingSystem into PedestrianAvoidancePOMDP from project dependency, future warnings for PedestrianAvoidancePOMDP are suppressed.\n",
      "      From worker 54:\tWARNING: Method definition propagate(Records.Entity{AutomotiveDrivingModels.VehicleState, AutomotiveDrivingModels.VehicleDef, Int64}, AutomotiveDrivingModels.LatLonAccel, AutomotiveDrivingModels.Roadway, Float64) in module EmergencyBrakingSystem at /home/markuss/EmergencyBrakingSystem.jl/src/emergency_system.jl:144 overwritten in module PedestrianAvoidancePOMDP at /home/markuss/.julia/packages/PedestrianAvoidancePOMDP/xWTEk/src/frenet_pedestrian_pomdp.jl:110.\n",
      "      From worker 32:\tWARNING: Method definition propagate(Records.Entity{AutomotiveDrivingModels.VehicleState, AutomotiveDrivingModels.VehicleDef, Int64}, AutomotiveDrivingModels.LatLonAccel, AutomotiveDrivingModels.Roadway, Float64) in module EmergencyBrakingSystem at /home/markuss/EmergencyBrakingSystem.jl/src/emergency_system.jl:144 overwritten in module PedestrianAvoidancePOMDP at /home/markuss/.julia/packages/PedestrianAvoidancePOMDP/xWTEk/src/frenet_pedestrian_pomdp.jl:110.\n"
     ]
    },
    {
     "name": "stdout",
     "output_type": "stream",
     "text": [
      "      From worker 12:\tWARNING: Method definition propagate(Records.Entity{AutomotiveDrivingModels.VehicleState, AutomotiveDrivingModels.VehicleDef, Int64}, AutomotiveDrivingModels.LatLonAccel, AutomotiveDrivingModels.Roadway, Float64) in module EmergencyBrakingSystem at /home/markuss/EmergencyBrakingSystem.jl/src/emergency_system.jl:144 overwritten in module PedestrianAvoidancePOMDP at /home/markuss/.julia/packages/PedestrianAvoidancePOMDP/xWTEk/src/frenet_pedestrian_pomdp.jl:110.\n",
      "      From worker 24:\tWARNING: Method definition propagate(Records.Entity{AutomotiveDrivingModels.VehicleState, AutomotiveDrivingModels.VehicleDef, Int64}, AutomotiveDrivingModels.LatLonAccel, AutomotiveDrivingModels.Roadway, Float64) in module EmergencyBrakingSystem at /home/markuss/EmergencyBrakingSystem.jl/src/emergency_system.jl:144 overwritten in module PedestrianAvoidancePOMDP at /home/markuss/.julia/packages/PedestrianAvoidancePOMDP/xWTEk/src/frenet_pedestrian_pomdp.jl:110.\n",
      "      From worker 46:\tWARNING: Method definition propagate(Records.Entity{AutomotiveDrivingModels.VehicleState, AutomotiveDrivingModels.VehicleDef, Int64}, AutomotiveDrivingModels.LatLonAccel, AutomotiveDrivingModels.Roadway, Float64) in module EmergencyBrakingSystem at /home/markuss/EmergencyBrakingSystem.jl/src/emergency_system.jl:144 overwritten in module PedestrianAvoidancePOMDP at /home/markuss/.julia/packages/PedestrianAvoidancePOMDP/xWTEk/src/frenet_pedestrian_pomdp.jl:110.\n",
      "      From worker 20:\tWARNING: Method definition propagate(Records.Entity{AutomotiveDrivingModels.VehicleState, AutomotiveDrivingModels.VehicleDef, Int64}, AutomotiveDrivingModels.LatLonAccel, AutomotiveDrivingModels.Roadway, Float64) in module EmergencyBrakingSystem at /home/markuss/EmergencyBrakingSystem.jl/src/emergency_system.jl:144 overwritten in module PedestrianAvoidancePOMDP at /home/markuss/.julia/packages/PedestrianAvoidancePOMDP/xWTEk/src/frenet_pedestrian_pomdp.jl:110.\n",
      "      From worker 53:\tWARNING: Method definition propagate(Records.Entity{AutomotiveDrivingModels.VehicleState, AutomotiveDrivingModels.VehicleDef, Int64}, AutomotiveDrivingModels.LatLonAccel, AutomotiveDrivingModels.Roadway, Float64) in module EmergencyBrakingSystem at /home/markuss/EmergencyBrakingSystem.jl/src/emergency_system.jl:144 overwritten in module PedestrianAvoidancePOMDP at /home/markuss/.julia/packages/PedestrianAvoidancePOMDP/xWTEk/src/frenet_pedestrian_pomdp.jl:110.\n",
      "      From worker 51:\tWARNING: Method definition propagate(Records.Entity{AutomotiveDrivingModels.VehicleState, AutomotiveDrivingModels.VehicleDef, Int64}, AutomotiveDrivingModels.LatLonAccel, AutomotiveDrivingModels.Roadway, Float64) in module EmergencyBrakingSystem at /home/markuss/EmergencyBrakingSystem.jl/src/emergency_system.jl:144 overwritten in module PedestrianAvoidancePOMDP at /home/markuss/.julia/packages/PedestrianAvoidancePOMDP/xWTEk/src/frenet_pedestrian_pomdp.jl:110.\n",
      "      From worker 42:\tWARNING: Method definition propagate(Records.Entity{AutomotiveDrivingModels.VehicleState, AutomotiveDrivingModels.VehicleDef, Int64}, AutomotiveDrivingModels.LatLonAccel, AutomotiveDrivingModels.Roadway, Float64) in module EmergencyBrakingSystem at /home/markuss/EmergencyBrakingSystem.jl/src/emergency_system.jl:144 overwritten in module PedestrianAvoidancePOMDP at /home/markuss/.julia/packages/PedestrianAvoidancePOMDP/xWTEk/src/frenet_pedestrian_pomdp.jl:110.\n",
      "      From worker 35:\tWARNING: Method definition propagate(Records.Entity{AutomotiveDrivingModels.VehicleState, AutomotiveDrivingModels.VehicleDef, Int64}, AutomotiveDrivingModels.LatLonAccel, AutomotiveDrivingModels.Roadway, Float64) in module EmergencyBrakingSystem at /home/markuss/EmergencyBrakingSystem.jl/src/emergency_system.jl:144 overwritten in module PedestrianAvoidancePOMDP at /home/markuss/.julia/packages/PedestrianAvoidancePOMDP/xWTEk/src/frenet_pedestrian_pomdp.jl:110.\n",
      "      From worker 36:\tWARNING: Method definition propagate(Records.Entity{AutomotiveDrivingModels.VehicleState, AutomotiveDrivingModels.VehicleDef, Int64}, AutomotiveDrivingModels.LatLonAccel, AutomotiveDrivingModels.Roadway, Float64) in module EmergencyBrakingSystem at /home/markuss/EmergencyBrakingSystem.jl/src/emergency_system.jl:144 overwritten in module PedestrianAvoidancePOMDP at /home/markuss/.julia/packages/PedestrianAvoidancePOMDP/xWTEk/src/frenet_pedestrian_pomdp.jl:110.\n",
      "      From worker 13:\tWARNING: Method definition propagate(Records.Entity{AutomotiveDrivingModels.VehicleState, AutomotiveDrivingModels.VehicleDef, Int64}, AutomotiveDrivingModels.LatLonAccel, AutomotiveDrivingModels.Roadway, Float64) in module EmergencyBrakingSystem at /home/markuss/EmergencyBrakingSystem.jl/src/emergency_system.jl:144 overwritten in module PedestrianAvoidancePOMDP at /home/markuss/.julia/packages/PedestrianAvoidancePOMDP/xWTEk/src/frenet_pedestrian_pomdp.jl:110.\n",
      "      From worker 10:\tWARNING: Method definition propagate(Records.Entity{AutomotiveDrivingModels.VehicleState, AutomotiveDrivingModels.VehicleDef, Int64}, AutomotiveDrivingModels.LatLonAccel, AutomotiveDrivingModels.Roadway, Float64) in module EmergencyBrakingSystem at /home/markuss/EmergencyBrakingSystem.jl/src/emergency_system.jl:144 overwritten in module PedestrianAvoidancePOMDP at /home/markuss/.julia/packages/PedestrianAvoidancePOMDP/xWTEk/src/frenet_pedestrian_pomdp.jl:110.\n",
      "      From worker 49:\tWARNING: Method definition propagate(Records.Entity{AutomotiveDrivingModels.VehicleState, AutomotiveDrivingModels.VehicleDef, Int64}, AutomotiveDrivingModels.LatLonAccel, AutomotiveDrivingModels.Roadway, Float64) in module EmergencyBrakingSystem at /home/markuss/EmergencyBrakingSystem.jl/src/emergency_system.jl:144 overwritten in module PedestrianAvoidancePOMDP at /home/markuss/.julia/packages/PedestrianAvoidancePOMDP/xWTEk/src/frenet_pedestrian_pomdp.jl:110.\n",
      "      From worker 29:\tWARNING: Method definition propagate(Records.Entity{AutomotiveDrivingModels.VehicleState, AutomotiveDrivingModels.VehicleDef, Int64}, AutomotiveDrivingModels.LatLonAccel, AutomotiveDrivingModels.Roadway, Float64) in module EmergencyBrakingSystem at /home/markuss/EmergencyBrakingSystem.jl/src/emergency_system.jl:144 overwritten in module PedestrianAvoidancePOMDP at /home/markuss/.julia/packages/PedestrianAvoidancePOMDP/xWTEk/src/frenet_pedestrian_pomdp.jl:110.\n",
      "      From worker 33:\tWARNING: Method definition propagate(Records.Entity{AutomotiveDrivingModels.VehicleState, AutomotiveDrivingModels.VehicleDef, Int64}, AutomotiveDrivingModels.LatLonAccel, AutomotiveDrivingModels.Roadway, Float64) in module EmergencyBrakingSystem at /home/markuss/EmergencyBrakingSystem.jl/src/emergency_system.jl:144 overwritten in module PedestrianAvoidancePOMDP at /home/markuss/.julia/packages/PedestrianAvoidancePOMDP/xWTEk/src/frenet_pedestrian_pomdp.jl:110.\n",
      "      From worker 50:\tWARNING: Method definition propagate(Records.Entity{AutomotiveDrivingModels.VehicleState, AutomotiveDrivingModels.VehicleDef, Int64}, AutomotiveDrivingModels.LatLonAccel, AutomotiveDrivingModels.Roadway, Float64) in module EmergencyBrakingSystem at /home/markuss/EmergencyBrakingSystem.jl/src/emergency_system.jl:144 overwritten in module PedestrianAvoidancePOMDP at /home/markuss/.julia/packages/PedestrianAvoidancePOMDP/xWTEk/src/frenet_pedestrian_pomdp.jl:110.\n",
      "      From worker 43:\tWARNING: Method definition propagate(Records.Entity{AutomotiveDrivingModels.VehicleState, AutomotiveDrivingModels.VehicleDef, Int64}, AutomotiveDrivingModels.LatLonAccel, AutomotiveDrivingModels.Roadway, Float64) in module EmergencyBrakingSystem at /home/markuss/EmergencyBrakingSystem.jl/src/emergency_system.jl:144 overwritten in module PedestrianAvoidancePOMDP at /home/markuss/.julia/packages/PedestrianAvoidancePOMDP/xWTEk/src/frenet_pedestrian_pomdp.jl:110.\n",
      "      From worker 3:\tWARNING: Method definition propagate(Records.Entity{AutomotiveDrivingModels.VehicleState, AutomotiveDrivingModels.VehicleDef, Int64}, AutomotiveDrivingModels.LatLonAccel, AutomotiveDrivingModels.Roadway, Float64) in module EmergencyBrakingSystem at /home/markuss/EmergencyBrakingSystem.jl/src/emergency_system.jl:144 overwritten in module PedestrianAvoidancePOMDP at /home/markuss/.julia/packages/PedestrianAvoidancePOMDP/xWTEk/src/frenet_pedestrian_pomdp.jl:110.\n",
      "      From worker 5:\tWARNING: Method definition propagate(Records.Entity{AutomotiveDrivingModels.VehicleState, AutomotiveDrivingModels.VehicleDef, Int64}, AutomotiveDrivingModels.LatLonAccel, AutomotiveDrivingModels.Roadway, Float64) in module EmergencyBrakingSystem at /home/markuss/EmergencyBrakingSystem.jl/src/emergency_system.jl:144 overwritten in module PedestrianAvoidancePOMDP at /home/markuss/.julia/packages/PedestrianAvoidancePOMDP/xWTEk/src/frenet_pedestrian_pomdp.jl:110.\n"
     ]
    },
    {
     "name": "stdout",
     "output_type": "stream",
     "text": [
      "      From worker 15:\tWARNING: Method definition propagate(Records.Entity{AutomotiveDrivingModels.VehicleState, AutomotiveDrivingModels.VehicleDef, Int64}, AutomotiveDrivingModels.LatLonAccel, AutomotiveDrivingModels.Roadway, Float64) in module EmergencyBrakingSystem at /home/markuss/EmergencyBrakingSystem.jl/src/emergency_system.jl:144 overwritten in module PedestrianAvoidancePOMDP at /home/markuss/.julia/packages/PedestrianAvoidancePOMDP/xWTEk/src/frenet_pedestrian_pomdp.jl:110.\n",
      "      From worker 16:\tWARNING: Method definition propagate(Records.Entity{AutomotiveDrivingModels.VehicleState, AutomotiveDrivingModels.VehicleDef, Int64}, AutomotiveDrivingModels.LatLonAccel, AutomotiveDrivingModels.Roadway, Float64) in module EmergencyBrakingSystem at /home/markuss/EmergencyBrakingSystem.jl/src/emergency_system.jl:144 overwritten in module PedestrianAvoidancePOMDP at /home/markuss/.julia/packages/PedestrianAvoidancePOMDP/xWTEk/src/frenet_pedestrian_pomdp.jl:110.\n",
      "      From worker 47:\tWARNING: Method definition propagate(Records.Entity{AutomotiveDrivingModels.VehicleState, AutomotiveDrivingModels.VehicleDef, Int64}, AutomotiveDrivingModels.LatLonAccel, AutomotiveDrivingModels.Roadway, Float64) in module EmergencyBrakingSystem at /home/markuss/EmergencyBrakingSystem.jl/src/emergency_system.jl:144 overwritten in module PedestrianAvoidancePOMDP at /home/markuss/.julia/packages/PedestrianAvoidancePOMDP/xWTEk/src/frenet_pedestrian_pomdp.jl:110.\n",
      "      From worker 27:\tWARNING: Method definition propagate(Records.Entity{AutomotiveDrivingModels.VehicleState, AutomotiveDrivingModels.VehicleDef, Int64}, AutomotiveDrivingModels.LatLonAccel, AutomotiveDrivingModels.Roadway, Float64) in module EmergencyBrakingSystem at /home/markuss/EmergencyBrakingSystem.jl/src/emergency_system.jl:144 overwritten in module PedestrianAvoidancePOMDP at /home/markuss/.julia/packages/PedestrianAvoidancePOMDP/xWTEk/src/frenet_pedestrian_pomdp.jl:110.\n",
      "      From worker 21:\tWARNING: Method definition propagate(Records.Entity{AutomotiveDrivingModels.VehicleState, AutomotiveDrivingModels.VehicleDef, Int64}, AutomotiveDrivingModels.LatLonAccel, AutomotiveDrivingModels.Roadway, Float64) in module EmergencyBrakingSystem at /home/markuss/EmergencyBrakingSystem.jl/src/emergency_system.jl:144 overwritten in module PedestrianAvoidancePOMDP at /home/markuss/.julia/packages/PedestrianAvoidancePOMDP/xWTEk/src/frenet_pedestrian_pomdp.jl:110.\n",
      "      From worker 39:\tWARNING: Method definition propagate(Records.Entity{AutomotiveDrivingModels.VehicleState, AutomotiveDrivingModels.VehicleDef, Int64}, AutomotiveDrivingModels.LatLonAccel, AutomotiveDrivingModels.Roadway, Float64) in module EmergencyBrakingSystem at /home/markuss/EmergencyBrakingSystem.jl/src/emergency_system.jl:144 overwritten in module PedestrianAvoidancePOMDP at /home/markuss/.julia/packages/PedestrianAvoidancePOMDP/xWTEk/src/frenet_pedestrian_pomdp.jl:110.\n",
      "      From worker 19:\tWARNING: Method definition propagate(Records.Entity{AutomotiveDrivingModels.VehicleState, AutomotiveDrivingModels.VehicleDef, Int64}, AutomotiveDrivingModels.LatLonAccel, AutomotiveDrivingModels.Roadway, Float64) in module EmergencyBrakingSystem at /home/markuss/EmergencyBrakingSystem.jl/src/emergency_system.jl:144 overwritten in module PedestrianAvoidancePOMDP at /home/markuss/.julia/packages/PedestrianAvoidancePOMDP/xWTEk/src/frenet_pedestrian_pomdp.jl:110.\n",
      "      From worker 34:\tWARNING: Method definition propagate(Records.Entity{AutomotiveDrivingModels.VehicleState, AutomotiveDrivingModels.VehicleDef, Int64}, AutomotiveDrivingModels.LatLonAccel, AutomotiveDrivingModels.Roadway, Float64) in module EmergencyBrakingSystem at /home/markuss/EmergencyBrakingSystem.jl/src/emergency_system.jl:144 overwritten in module PedestrianAvoidancePOMDP at /home/markuss/.julia/packages/PedestrianAvoidancePOMDP/xWTEk/src/frenet_pedestrian_pomdp.jl:110.\n",
      "      From worker 26:\tWARNING: Method definition propagate(Records.Entity{AutomotiveDrivingModels.VehicleState, AutomotiveDrivingModels.VehicleDef, Int64}, AutomotiveDrivingModels.LatLonAccel, AutomotiveDrivingModels.Roadway, Float64) in module EmergencyBrakingSystem at /home/markuss/EmergencyBrakingSystem.jl/src/emergency_system.jl:144 overwritten in module PedestrianAvoidancePOMDP at /home/markuss/.julia/packages/PedestrianAvoidancePOMDP/xWTEk/src/frenet_pedestrian_pomdp.jl:110.\n",
      "      From worker 23:\tWARNING: Method definition propagate(Records.Entity{AutomotiveDrivingModels.VehicleState, AutomotiveDrivingModels.VehicleDef, Int64}, AutomotiveDrivingModels.LatLonAccel, AutomotiveDrivingModels.Roadway, Float64) in module EmergencyBrakingSystem at /home/markuss/EmergencyBrakingSystem.jl/src/emergency_system.jl:144 overwritten in module PedestrianAvoidancePOMDP at /home/markuss/.julia/packages/PedestrianAvoidancePOMDP/xWTEk/src/frenet_pedestrian_pomdp.jl:110.\n",
      "      From worker 37:\tWARNING: Method definition propagate(Records.Entity{AutomotiveDrivingModels.VehicleState, AutomotiveDrivingModels.VehicleDef, Int64}, AutomotiveDrivingModels.LatLonAccel, AutomotiveDrivingModels.Roadway, Float64) in module EmergencyBrakingSystem at /home/markuss/EmergencyBrakingSystem.jl/src/emergency_system.jl:144 overwritten in module PedestrianAvoidancePOMDP at /home/markuss/.julia/packages/PedestrianAvoidancePOMDP/xWTEk/src/frenet_pedestrian_pomdp.jl:110.\n",
      "      From worker 14:\tWARNING: Method definition propagate(Records.Entity{AutomotiveDrivingModels.VehicleState, AutomotiveDrivingModels.VehicleDef, Int64}, AutomotiveDrivingModels.LatLonAccel, AutomotiveDrivingModels.Roadway, Float64) in module EmergencyBrakingSystem at /home/markuss/EmergencyBrakingSystem.jl/src/emergency_system.jl:144 overwritten in module PedestrianAvoidancePOMDP at /home/markuss/.julia/packages/PedestrianAvoidancePOMDP/xWTEk/src/frenet_pedestrian_pomdp.jl:110.\n",
      "      From worker 18:\tWARNING: Method definition propagate(Records.Entity{AutomotiveDrivingModels.VehicleState, AutomotiveDrivingModels.VehicleDef, Int64}, AutomotiveDrivingModels.LatLonAccel, AutomotiveDrivingModels.Roadway, Float64) in module EmergencyBrakingSystem at /home/markuss/EmergencyBrakingSystem.jl/src/emergency_system.jl:144 overwritten in module PedestrianAvoidancePOMDP at /home/markuss/.julia/packages/PedestrianAvoidancePOMDP/xWTEk/src/frenet_pedestrian_pomdp.jl:110.\n",
      "      From worker 30:\tWARNING: Method definition propagate(Records.Entity{AutomotiveDrivingModels.VehicleState, AutomotiveDrivingModels.VehicleDef, Int64}, AutomotiveDrivingModels.LatLonAccel, AutomotiveDrivingModels.Roadway, Float64) in module EmergencyBrakingSystem at /home/markuss/EmergencyBrakingSystem.jl/src/emergency_system.jl:144 overwritten in module PedestrianAvoidancePOMDP at /home/markuss/.julia/packages/PedestrianAvoidancePOMDP/xWTEk/src/frenet_pedestrian_pomdp.jl:110.\n",
      "      From worker 17:\tWARNING: Method definition propagate(Records.Entity{AutomotiveDrivingModels.VehicleState, AutomotiveDrivingModels.VehicleDef, Int64}, AutomotiveDrivingModels.LatLonAccel, AutomotiveDrivingModels.Roadway, Float64) in module EmergencyBrakingSystem at /home/markuss/EmergencyBrakingSystem.jl/src/emergency_system.jl:144 overwritten in module PedestrianAvoidancePOMDP at /home/markuss/.julia/packages/PedestrianAvoidancePOMDP/xWTEk/src/frenet_pedestrian_pomdp.jl:110.\n",
      "      From worker 38:\tWARNING: Method definition propagate(Records.Entity{AutomotiveDrivingModels.VehicleState, AutomotiveDrivingModels.VehicleDef, Int64}, AutomotiveDrivingModels.LatLonAccel, AutomotiveDrivingModels.Roadway, Float64) in module EmergencyBrakingSystem at /home/markuss/EmergencyBrakingSystem.jl/src/emergency_system.jl:144 overwritten in module PedestrianAvoidancePOMDP at /home/markuss/.julia/packages/PedestrianAvoidancePOMDP/xWTEk/src/frenet_pedestrian_pomdp.jl:110.\n",
      "      From worker 28:\tWARNING: Method definition propagate(Records.Entity{AutomotiveDrivingModels.VehicleState, AutomotiveDrivingModels.VehicleDef, Int64}, AutomotiveDrivingModels.LatLonAccel, AutomotiveDrivingModels.Roadway, Float64) in module EmergencyBrakingSystem at /home/markuss/EmergencyBrakingSystem.jl/src/emergency_system.jl:144 overwritten in module PedestrianAvoidancePOMDP at /home/markuss/.julia/packages/PedestrianAvoidancePOMDP/xWTEk/src/frenet_pedestrian_pomdp.jl:110.\n",
      "      From worker 40:\tWARNING: Method definition propagate(Records.Entity{AutomotiveDrivingModels.VehicleState, AutomotiveDrivingModels.VehicleDef, Int64}, AutomotiveDrivingModels.LatLonAccel, AutomotiveDrivingModels.Roadway, Float64) in module EmergencyBrakingSystem at /home/markuss/EmergencyBrakingSystem.jl/src/emergency_system.jl:144 overwritten in module PedestrianAvoidancePOMDP at /home/markuss/.julia/packages/PedestrianAvoidancePOMDP/xWTEk/src/frenet_pedestrian_pomdp.jl:110.\n"
     ]
    },
    {
     "name": "stdout",
     "output_type": "stream",
     "text": [
      "      From worker 31:\tWARNING: Method definition propagate(Records.Entity{AutomotiveDrivingModels.VehicleState, AutomotiveDrivingModels.VehicleDef, Int64}, AutomotiveDrivingModels.LatLonAccel, AutomotiveDrivingModels.Roadway, Float64) in module EmergencyBrakingSystem at /home/markuss/EmergencyBrakingSystem.jl/src/emergency_system.jl:144 overwritten in module PedestrianAvoidancePOMDP at /home/markuss/.julia/packages/PedestrianAvoidancePOMDP/xWTEk/src/frenet_pedestrian_pomdp.jl:110.\n",
      "      From worker 8:\tWARNING: Method definition propagate(Records.Entity{AutomotiveDrivingModels.VehicleState, AutomotiveDrivingModels.VehicleDef, Int64}, AutomotiveDrivingModels.LatLonAccel, AutomotiveDrivingModels.Roadway, Float64) in module EmergencyBrakingSystem at /home/markuss/EmergencyBrakingSystem.jl/src/emergency_system.jl:144 overwritten in module PedestrianAvoidancePOMDP at /home/markuss/.julia/packages/PedestrianAvoidancePOMDP/xWTEk/src/frenet_pedestrian_pomdp.jl:110.\n",
      "      From worker 52:\tWARNING: Method definition propagate(Records.Entity{AutomotiveDrivingModels.VehicleState, AutomotiveDrivingModels.VehicleDef, Int64}, AutomotiveDrivingModels.LatLonAccel, AutomotiveDrivingModels.Roadway, Float64) in module EmergencyBrakingSystem at /home/markuss/EmergencyBrakingSystem.jl/src/emergency_system.jl:144 overwritten in module PedestrianAvoidancePOMDP at /home/markuss/.julia/packages/PedestrianAvoidancePOMDP/xWTEk/src/frenet_pedestrian_pomdp.jl:110.\n",
      "      From worker 4:\tWARNING: Method definition propagate(Records.Entity{AutomotiveDrivingModels.VehicleState, AutomotiveDrivingModels.VehicleDef, Int64}, AutomotiveDrivingModels.LatLonAccel, AutomotiveDrivingModels.Roadway, Float64) in module EmergencyBrakingSystem at /home/markuss/EmergencyBrakingSystem.jl/src/emergency_system.jl:144 overwritten in module PedestrianAvoidancePOMDP at /home/markuss/.julia/packages/PedestrianAvoidancePOMDP/xWTEk/src/frenet_pedestrian_pomdp.jl:110.\n",
      "      From worker 48:\tWARNING: Method definition propagate(Records.Entity{AutomotiveDrivingModels.VehicleState, AutomotiveDrivingModels.VehicleDef, Int64}, AutomotiveDrivingModels.LatLonAccel, AutomotiveDrivingModels.Roadway, Float64) in module EmergencyBrakingSystem at /home/markuss/EmergencyBrakingSystem.jl/src/emergency_system.jl:144 overwritten in module PedestrianAvoidancePOMDP at /home/markuss/.julia/packages/PedestrianAvoidancePOMDP/xWTEk/src/frenet_pedestrian_pomdp.jl:110.\n",
      "      From worker 57:\tWARNING: Method definition propagate(Records.Entity{AutomotiveDrivingModels.VehicleState, AutomotiveDrivingModels.VehicleDef, Int64}, AutomotiveDrivingModels.LatLonAccel, AutomotiveDrivingModels.Roadway, Float64) in module EmergencyBrakingSystem at /home/markuss/EmergencyBrakingSystem.jl/src/emergency_system.jl:144 overwritten in module PedestrianAvoidancePOMDP at /home/markuss/.julia/packages/PedestrianAvoidancePOMDP/xWTEk/src/frenet_pedestrian_pomdp.jl:110.\n",
      "      From worker 6:\tWARNING: Method definition propagate(Records.Entity{AutomotiveDrivingModels.VehicleState, AutomotiveDrivingModels.VehicleDef, Int64}, AutomotiveDrivingModels.LatLonAccel, AutomotiveDrivingModels.Roadway, Float64) in module EmergencyBrakingSystem at /home/markuss/EmergencyBrakingSystem.jl/src/emergency_system.jl:144 overwritten in module PedestrianAvoidancePOMDP at /home/markuss/.julia/packages/PedestrianAvoidancePOMDP/xWTEk/src/frenet_pedestrian_pomdp.jl:110.\n",
      "      From worker 56:\tWARNING: Method definition propagate(Records.Entity{AutomotiveDrivingModels.VehicleState, AutomotiveDrivingModels.VehicleDef, Int64}, AutomotiveDrivingModels.LatLonAccel, AutomotiveDrivingModels.Roadway, Float64) in module EmergencyBrakingSystem at /home/markuss/EmergencyBrakingSystem.jl/src/emergency_system.jl:144 overwritten in module PedestrianAvoidancePOMDP at /home/markuss/.julia/packages/PedestrianAvoidancePOMDP/xWTEk/src/frenet_pedestrian_pomdp.jl:110.\n",
      "      From worker 25:\tWARNING: Method definition propagate(Records.Entity{AutomotiveDrivingModels.VehicleState, AutomotiveDrivingModels.VehicleDef, Int64}, AutomotiveDrivingModels.LatLonAccel, AutomotiveDrivingModels.Roadway, Float64) in module EmergencyBrakingSystem at /home/markuss/EmergencyBrakingSystem.jl/src/emergency_system.jl:144 overwritten in module PedestrianAvoidancePOMDP at /home/markuss/.julia/packages/PedestrianAvoidancePOMDP/xWTEk/src/frenet_pedestrian_pomdp.jl:110.\n",
      "      From worker 22:\tWARNING: Method definition propagate(Records.Entity{AutomotiveDrivingModels.VehicleState, AutomotiveDrivingModels.VehicleDef, Int64}, AutomotiveDrivingModels.LatLonAccel, AutomotiveDrivingModels.Roadway, Float64) in module EmergencyBrakingSystem at /home/markuss/EmergencyBrakingSystem.jl/src/emergency_system.jl:144 overwritten in module PedestrianAvoidancePOMDP at /home/markuss/.julia/packages/PedestrianAvoidancePOMDP/xWTEk/src/frenet_pedestrian_pomdp.jl:110.\n",
      "      From worker 44:\tWARNING: Method definition propagate(Records.Entity{AutomotiveDrivingModels.VehicleState, AutomotiveDrivingModels.VehicleDef, Int64}, AutomotiveDrivingModels.LatLonAccel, AutomotiveDrivingModels.Roadway, Float64) in module EmergencyBrakingSystem at /home/markuss/EmergencyBrakingSystem.jl/src/emergency_system.jl:144 overwritten in module PedestrianAvoidancePOMDP at /home/markuss/.julia/packages/PedestrianAvoidancePOMDP/xWTEk/src/frenet_pedestrian_pomdp.jl:110.\n",
      "      From worker 41:\tWARNING: Method definition propagate(Records.Entity{AutomotiveDrivingModels.VehicleState, AutomotiveDrivingModels.VehicleDef, Int64}, AutomotiveDrivingModels.LatLonAccel, AutomotiveDrivingModels.Roadway, Float64) in module EmergencyBrakingSystem at /home/markuss/EmergencyBrakingSystem.jl/src/emergency_system.jl:144 overwritten in module PedestrianAvoidancePOMDP at /home/markuss/.julia/packages/PedestrianAvoidancePOMDP/xWTEk/src/frenet_pedestrian_pomdp.jl:110.\n",
      "      From worker 2:\tWARNING: Method definition propagate(Records.Entity{AutomotiveDrivingModels.VehicleState, AutomotiveDrivingModels.VehicleDef, Int64}, AutomotiveDrivingModels.LatLonAccel, AutomotiveDrivingModels.Roadway, Float64) in module EmergencyBrakingSystem at /home/markuss/EmergencyBrakingSystem.jl/src/emergency_system.jl:144 overwritten in module PedestrianAvoidancePOMDP at /home/markuss/.julia/packages/PedestrianAvoidancePOMDP/xWTEk/src/frenet_pedestrian_pomdp.jl:110.\n",
      "      From worker 7:\tWARNING: Method definition propagate(Records.Entity{AutomotiveDrivingModels.VehicleState, AutomotiveDrivingModels.VehicleDef, Int64}, AutomotiveDrivingModels.LatLonAccel, AutomotiveDrivingModels.Roadway, Float64) in module EmergencyBrakingSystem at /home/markuss/EmergencyBrakingSystem.jl/src/emergency_system.jl:144 overwritten in module PedestrianAvoidancePOMDP at /home/markuss/.julia/packages/PedestrianAvoidancePOMDP/xWTEk/src/frenet_pedestrian_pomdp.jl:110.\n",
      "      From worker 55:\tWARNING: Method definition propagate(Records.Entity{AutomotiveDrivingModels.VehicleState, AutomotiveDrivingModels.VehicleDef, Int64}, AutomotiveDrivingModels.LatLonAccel, AutomotiveDrivingModels.Roadway, Float64) in module EmergencyBrakingSystem at /home/markuss/EmergencyBrakingSystem.jl/src/emergency_system.jl:144 overwritten in module PedestrianAvoidancePOMDP at /home/markuss/.julia/packages/PedestrianAvoidancePOMDP/xWTEk/src/frenet_pedestrian_pomdp.jl:110.\n",
      "      From worker 54:\tWARNING: Method definition animate_record(Records.QueueRecord{Records.Entity{AutomotiveDrivingModels.VehicleState, AutomotiveDrivingModels.VehicleDef, Int64}}, Float64, AutomotivePOMDPs.CrosswalkEnv, AutomotiveSensors.GaussianSensor{P, V} where V<:AutomotiveSensors.AbstractNoiseModel where P<:AutomotiveSensors.AbstractNoiseModel, Array{Array{Records.Entity{AutomotiveDrivingModels.VehicleState, AutomotiveDrivingModels.VehicleDef, Int64}, 1}, 1}, Array{Float64, 1}, Array{Base.Dict{Int64, POMDPModelTools.SparseCat{Array{PedestrianAvoidancePOMDP.SingleOCFState, 1}, Array{Float64, 1}}}, 1}, Array{Records.Entity{AutomotiveDrivingModels.VehicleState, AutomotiveDrivingModels.VehicleDef, Int64}, 1}, Array{PedestrianAvoidancePOMDP.SingleOCFAction, 1}) in module PedestrianAvoidancePOMDP at /home/markuss/.julia/packages/PedestrianAvoidancePOMDP/xWTEk/src/rendering.jl:33 overwritten at /home/markuss/.julia/packages/PedestrianAvoidancePOMDP/xWTEk/src/rendering.jl:61.\n",
      "      From worker 54:\tWARNING: Method definition animate_record(Records.QueueRecord{Records.Entity{AutomotiveDrivingModels.VehicleState, AutomotiveDrivingModels.VehicleDef, Int64}}, Float64, AutomotivePOMDPs.CrosswalkEnv, AutomotiveSensors.GaussianSensor{P, V} where V<:AutomotiveSensors.AbstractNoiseModel where P<:AutomotiveSensors.AbstractNoiseModel, Array{Array{Records.Entity{AutomotiveDrivingModels.VehicleState, AutomotiveDrivingModels.VehicleDef, Int64}, 1}, 1}, Array{Float64, 1}, Array{Base.Dict{Int64, POMDPModelTools.SparseCat{Array{PedestrianAvoidancePOMDP.SingleOCFState, 1}, Array{Float64, 1}}}, 1}, Array{Records.Entity{AutomotiveDrivingModels.VehicleState, AutomotiveDrivingModels.VehicleDef, Int64}, 1}, Array{PedestrianAvoidancePOMDP.SingleOCFAction, 1}, Any) in module PedestrianAvoidancePOMDP at /home/markuss/.julia/packages/PedestrianAvoidancePOMDP/xWTEk/src/rendering.jl:33 overwritten at /home/markuss/.julia/packages/PedestrianAvoidancePOMDP/xWTEk/src/rendering.jl:61.\n"
     ]
    },
    {
     "name": "stdout",
     "output_type": "stream",
     "text": [
      "      From worker 9:\tWARNING: Method definition propagate(Records.Entity{AutomotiveDrivingModels.VehicleState, AutomotiveDrivingModels.VehicleDef, Int64}, AutomotiveDrivingModels.LatLonAccel, AutomotiveDrivingModels.Roadway, Float64) in module EmergencyBrakingSystem at /home/markuss/EmergencyBrakingSystem.jl/src/emergency_system.jl:144 overwritten in module PedestrianAvoidancePOMDP at /home/markuss/.julia/packages/PedestrianAvoidancePOMDP/xWTEk/src/frenet_pedestrian_pomdp.jl:110.\n",
      "      From worker 32:\tWARNING: Method definition animate_record(Records.QueueRecord{Records.Entity{AutomotiveDrivingModels.VehicleState, AutomotiveDrivingModels.VehicleDef, Int64}}, Float64, AutomotivePOMDPs.CrosswalkEnv, AutomotiveSensors.GaussianSensor{P, V} where V<:AutomotiveSensors.AbstractNoiseModel where P<:AutomotiveSensors.AbstractNoiseModel, Array{Array{Records.Entity{AutomotiveDrivingModels.VehicleState, AutomotiveDrivingModels.VehicleDef, Int64}, 1}, 1}, Array{Float64, 1}, Array{Base.Dict{Int64, POMDPModelTools.SparseCat{Array{PedestrianAvoidancePOMDP.SingleOCFState, 1}, Array{Float64, 1}}}, 1}, Array{Records.Entity{AutomotiveDrivingModels.VehicleState, AutomotiveDrivingModels.VehicleDef, Int64}, 1}, Array{PedestrianAvoidancePOMDP.SingleOCFAction, 1}) in module PedestrianAvoidancePOMDP at /home/markuss/.julia/packages/PedestrianAvoidancePOMDP/xWTEk/src/rendering.jl:33 overwritten at /home/markuss/.julia/packages/PedestrianAvoidancePOMDP/xWTEk/src/rendering.jl:61.\n",
      "      From worker 32:\tWARNING: Method definition animate_record(Records.QueueRecord{Records.Entity{AutomotiveDrivingModels.VehicleState, AutomotiveDrivingModels.VehicleDef, Int64}}, Float64, AutomotivePOMDPs.CrosswalkEnv, AutomotiveSensors.GaussianSensor{P, V} where V<:AutomotiveSensors.AbstractNoiseModel where P<:AutomotiveSensors.AbstractNoiseModel, Array{Array{Records.Entity{AutomotiveDrivingModels.VehicleState, AutomotiveDrivingModels.VehicleDef, Int64}, 1}, 1}, Array{Float64, 1}, Array{Base.Dict{Int64, POMDPModelTools.SparseCat{Array{PedestrianAvoidancePOMDP.SingleOCFState, 1}, Array{Float64, 1}}}, 1}, Array{Records.Entity{AutomotiveDrivingModels.VehicleState, AutomotiveDrivingModels.VehicleDef, Int64}, 1}, Array{PedestrianAvoidancePOMDP.SingleOCFAction, 1}, Any) in module PedestrianAvoidancePOMDP at /home/markuss/.julia/packages/PedestrianAvoidancePOMDP/xWTEk/src/rendering.jl:33 overwritten at /home/markuss/.julia/packages/PedestrianAvoidancePOMDP/xWTEk/src/rendering.jl:61.\n",
      "      From worker 24:\tWARNING: Method definition animate_record(Records.QueueRecord{Records.Entity{AutomotiveDrivingModels.VehicleState, AutomotiveDrivingModels.VehicleDef, Int64}}, Float64, AutomotivePOMDPs.CrosswalkEnv, AutomotiveSensors.GaussianSensor{P, V} where V<:AutomotiveSensors.AbstractNoiseModel where P<:AutomotiveSensors.AbstractNoiseModel, Array{Array{Records.Entity{AutomotiveDrivingModels.VehicleState, AutomotiveDrivingModels.VehicleDef, Int64}, 1}, 1}, Array{Float64, 1}, Array{Base.Dict{Int64, POMDPModelTools.SparseCat{Array{PedestrianAvoidancePOMDP.SingleOCFState, 1}, Array{Float64, 1}}}, 1}, Array{Records.Entity{AutomotiveDrivingModels.VehicleState, AutomotiveDrivingModels.VehicleDef, Int64}, 1}, Array{PedestrianAvoidancePOMDP.SingleOCFAction, 1}) in module PedestrianAvoidancePOMDP at /home/markuss/.julia/packages/PedestrianAvoidancePOMDP/xWTEk/src/rendering.jl:33 overwritten at /home/markuss/.julia/packages/PedestrianAvoidancePOMDP/xWTEk/src/rendering.jl:61.\n",
      "      From worker 45:\tWARNING: Method definition propagate(Records.Entity{AutomotiveDrivingModels.VehicleState, AutomotiveDrivingModels.VehicleDef, Int64}, AutomotiveDrivingModels.LatLonAccel, AutomotiveDrivingModels.Roadway, Float64) in module EmergencyBrakingSystem at /home/markuss/EmergencyBrakingSystem.jl/src/emergency_system.jl:144 overwritten in module PedestrianAvoidancePOMDP at /home/markuss/.julia/packages/PedestrianAvoidancePOMDP/xWTEk/src/frenet_pedestrian_pomdp.jl:110.\n",
      "      From worker 24:\tWARNING: Method definition animate_record(Records.QueueRecord{Records.Entity{AutomotiveDrivingModels.VehicleState, AutomotiveDrivingModels.VehicleDef, Int64}}, Float64, AutomotivePOMDPs.CrosswalkEnv, AutomotiveSensors.GaussianSensor{P, V} where V<:AutomotiveSensors.AbstractNoiseModel where P<:AutomotiveSensors.AbstractNoiseModel, Array{Array{Records.Entity{AutomotiveDrivingModels.VehicleState, AutomotiveDrivingModels.VehicleDef, Int64}, 1}, 1}, Array{Float64, 1}, Array{Base.Dict{Int64, POMDPModelTools.SparseCat{Array{PedestrianAvoidancePOMDP.SingleOCFState, 1}, Array{Float64, 1}}}, 1}, Array{Records.Entity{AutomotiveDrivingModels.VehicleState, AutomotiveDrivingModels.VehicleDef, Int64}, 1}, Array{PedestrianAvoidancePOMDP.SingleOCFAction, 1}, Any) in module PedestrianAvoidancePOMDP at /home/markuss/.julia/packages/PedestrianAvoidancePOMDP/xWTEk/src/rendering.jl:33 overwritten at /home/markuss/.julia/packages/PedestrianAvoidancePOMDP/xWTEk/src/rendering.jl:61.\n",
      "      From worker 12:\tWARNING: Method definition animate_record(Records.QueueRecord{Records.Entity{AutomotiveDrivingModels.VehicleState, AutomotiveDrivingModels.VehicleDef, Int64}}, Float64, AutomotivePOMDPs.CrosswalkEnv, AutomotiveSensors.GaussianSensor{P, V} where V<:AutomotiveSensors.AbstractNoiseModel where P<:AutomotiveSensors.AbstractNoiseModel, Array{Array{Records.Entity{AutomotiveDrivingModels.VehicleState, AutomotiveDrivingModels.VehicleDef, Int64}, 1}, 1}, Array{Float64, 1}, Array{Base.Dict{Int64, POMDPModelTools.SparseCat{Array{PedestrianAvoidancePOMDP.SingleOCFState, 1}, Array{Float64, 1}}}, 1}, Array{Records.Entity{AutomotiveDrivingModels.VehicleState, AutomotiveDrivingModels.VehicleDef, Int64}, 1}, Array{PedestrianAvoidancePOMDP.SingleOCFAction, 1}) in module PedestrianAvoidancePOMDP at /home/markuss/.julia/packages/PedestrianAvoidancePOMDP/xWTEk/src/rendering.jl:33 overwritten at /home/markuss/.julia/packages/PedestrianAvoidancePOMDP/xWTEk/src/rendering.jl:61.\n",
      "      From worker 12:\tWARNING: Method definition animate_record(Records.QueueRecord{Records.Entity{AutomotiveDrivingModels.VehicleState, AutomotiveDrivingModels.VehicleDef, Int64}}, Float64, AutomotivePOMDPs.CrosswalkEnv, AutomotiveSensors.GaussianSensor{P, V} where V<:AutomotiveSensors.AbstractNoiseModel where P<:AutomotiveSensors.AbstractNoiseModel, Array{Array{Records.Entity{AutomotiveDrivingModels.VehicleState, AutomotiveDrivingModels.VehicleDef, Int64}, 1}, 1}, Array{Float64, 1}, Array{Base.Dict{Int64, POMDPModelTools.SparseCat{Array{PedestrianAvoidancePOMDP.SingleOCFState, 1}, Array{Float64, 1}}}, 1}, Array{Records.Entity{AutomotiveDrivingModels.VehicleState, AutomotiveDrivingModels.VehicleDef, Int64}, 1}, Array{PedestrianAvoidancePOMDP.SingleOCFAction, 1}, Any) in module PedestrianAvoidancePOMDP at /home/markuss/.julia/packages/PedestrianAvoidancePOMDP/xWTEk/src/rendering.jl:33 overwritten at /home/markuss/.julia/packages/PedestrianAvoidancePOMDP/xWTEk/src/rendering.jl:61.\n",
      "      From worker 46:\tWARNING: Method definition animate_record(Records.QueueRecord{Records.Entity{AutomotiveDrivingModels.VehicleState, AutomotiveDrivingModels.VehicleDef, Int64}}, Float64, AutomotivePOMDPs.CrosswalkEnv, AutomotiveSensors.GaussianSensor{P, V} where V<:AutomotiveSensors.AbstractNoiseModel where P<:AutomotiveSensors.AbstractNoiseModel, Array{Array{Records.Entity{AutomotiveDrivingModels.VehicleState, AutomotiveDrivingModels.VehicleDef, Int64}, 1}, 1}, Array{Float64, 1}, Array{Base.Dict{Int64, POMDPModelTools.SparseCat{Array{PedestrianAvoidancePOMDP.SingleOCFState, 1}, Array{Float64, 1}}}, 1}, Array{Records.Entity{AutomotiveDrivingModels.VehicleState, AutomotiveDrivingModels.VehicleDef, Int64}, 1}, Array{PedestrianAvoidancePOMDP.SingleOCFAction, 1}) in module PedestrianAvoidancePOMDP at /home/markuss/.julia/packages/PedestrianAvoidancePOMDP/xWTEk/src/rendering.jl:33 overwritten at /home/markuss/.julia/packages/PedestrianAvoidancePOMDP/xWTEk/src/rendering.jl:61.\n",
      "      From worker 46:\tWARNING: Method definition animate_record(Records.QueueRecord{Records.Entity{AutomotiveDrivingModels.VehicleState, AutomotiveDrivingModels.VehicleDef, Int64}}, Float64, AutomotivePOMDPs.CrosswalkEnv, AutomotiveSensors.GaussianSensor{P, V} where V<:AutomotiveSensors.AbstractNoiseModel where P<:AutomotiveSensors.AbstractNoiseModel, Array{Array{Records.Entity{AutomotiveDrivingModels.VehicleState, AutomotiveDrivingModels.VehicleDef, Int64}, 1}, 1}, Array{Float64, 1}, Array{Base.Dict{Int64, POMDPModelTools.SparseCat{Array{PedestrianAvoidancePOMDP.SingleOCFState, 1}, Array{Float64, 1}}}, 1}, Array{Records.Entity{AutomotiveDrivingModels.VehicleState, AutomotiveDrivingModels.VehicleDef, Int64}, 1}, Array{PedestrianAvoidancePOMDP.SingleOCFAction, 1}, Any) in module PedestrianAvoidancePOMDP at /home/markuss/.julia/packages/PedestrianAvoidancePOMDP/xWTEk/src/rendering.jl:33 overwritten at /home/markuss/.julia/packages/PedestrianAvoidancePOMDP/xWTEk/src/rendering.jl:61.\n",
      "      From worker 20:\tWARNING: Method definition animate_record(Records.QueueRecord{Records.Entity{AutomotiveDrivingModels.VehicleState, AutomotiveDrivingModels.VehicleDef, Int64}}, Float64, AutomotivePOMDPs.CrosswalkEnv, AutomotiveSensors.GaussianSensor{P, V} where V<:AutomotiveSensors.AbstractNoiseModel where P<:AutomotiveSensors.AbstractNoiseModel, Array{Array{Records.Entity{AutomotiveDrivingModels.VehicleState, AutomotiveDrivingModels.VehicleDef, Int64}, 1}, 1}, Array{Float64, 1}, Array{Base.Dict{Int64, POMDPModelTools.SparseCat{Array{PedestrianAvoidancePOMDP.SingleOCFState, 1}, Array{Float64, 1}}}, 1}, Array{Records.Entity{AutomotiveDrivingModels.VehicleState, AutomotiveDrivingModels.VehicleDef, Int64}, 1}, Array{PedestrianAvoidancePOMDP.SingleOCFAction, 1}) in module PedestrianAvoidancePOMDP at /home/markuss/.julia/packages/PedestrianAvoidancePOMDP/xWTEk/src/rendering.jl:33 overwritten at /home/markuss/.julia/packages/PedestrianAvoidancePOMDP/xWTEk/src/rendering.jl:61.\n",
      "      From worker 20:\tWARNING: Method definition animate_record(Records.QueueRecord{Records.Entity{AutomotiveDrivingModels.VehicleState, AutomotiveDrivingModels.VehicleDef, Int64}}, Float64, AutomotivePOMDPs.CrosswalkEnv, AutomotiveSensors.GaussianSensor{P, V} where V<:AutomotiveSensors.AbstractNoiseModel where P<:AutomotiveSensors.AbstractNoiseModel, Array{Array{Records.Entity{AutomotiveDrivingModels.VehicleState, AutomotiveDrivingModels.VehicleDef, Int64}, 1}, 1}, Array{Float64, 1}, Array{Base.Dict{Int64, POMDPModelTools.SparseCat{Array{PedestrianAvoidancePOMDP.SingleOCFState, 1}, Array{Float64, 1}}}, 1}, Array{Records.Entity{AutomotiveDrivingModels.VehicleState, AutomotiveDrivingModels.VehicleDef, Int64}, 1}, Array{PedestrianAvoidancePOMDP.SingleOCFAction, 1}, Any) in module PedestrianAvoidancePOMDP at /home/markuss/.julia/packages/PedestrianAvoidancePOMDP/xWTEk/src/rendering.jl:33 overwritten at /home/markuss/.julia/packages/PedestrianAvoidancePOMDP/xWTEk/src/rendering.jl:61.\n"
     ]
    },
    {
     "name": "stdout",
     "output_type": "stream",
     "text": [
      "      From worker 51:\tWARNING: Method definition animate_record(Records.QueueRecord{Records.Entity{AutomotiveDrivingModels.VehicleState, AutomotiveDrivingModels.VehicleDef, Int64}}, Float64, AutomotivePOMDPs.CrosswalkEnv, AutomotiveSensors.GaussianSensor{P, V} where V<:AutomotiveSensors.AbstractNoiseModel where P<:AutomotiveSensors.AbstractNoiseModel, Array{Array{Records.Entity{AutomotiveDrivingModels.VehicleState, AutomotiveDrivingModels.VehicleDef, Int64}, 1}, 1}, Array{Float64, 1}, Array{Base.Dict{Int64, POMDPModelTools.SparseCat{Array{PedestrianAvoidancePOMDP.SingleOCFState, 1}, Array{Float64, 1}}}, 1}, Array{Records.Entity{AutomotiveDrivingModels.VehicleState, AutomotiveDrivingModels.VehicleDef, Int64}, 1}, Array{PedestrianAvoidancePOMDP.SingleOCFAction, 1}) in module PedestrianAvoidancePOMDP at /home/markuss/.julia/packages/PedestrianAvoidancePOMDP/xWTEk/src/rendering.jl:33 overwritten at /home/markuss/.julia/packages/PedestrianAvoidancePOMDP/xWTEk/src/rendering.jl:61.\n",
      "      From worker 51:\tWARNING: Method definition animate_record(Records.QueueRecord{Records.Entity{AutomotiveDrivingModels.VehicleState, AutomotiveDrivingModels.VehicleDef, Int64}}, Float64, AutomotivePOMDPs.CrosswalkEnv, AutomotiveSensors.GaussianSensor{P, V} where V<:AutomotiveSensors.AbstractNoiseModel where P<:AutomotiveSensors.AbstractNoiseModel, Array{Array{Records.Entity{AutomotiveDrivingModels.VehicleState, AutomotiveDrivingModels.VehicleDef, Int64}, 1}, 1}, Array{Float64, 1}, Array{Base.Dict{Int64, POMDPModelTools.SparseCat{Array{PedestrianAvoidancePOMDP.SingleOCFState, 1}, Array{Float64, 1}}}, 1}, Array{Records.Entity{AutomotiveDrivingModels.VehicleState, AutomotiveDrivingModels.VehicleDef, Int64}, 1}, Array{PedestrianAvoidancePOMDP.SingleOCFAction, 1}, Any) in module PedestrianAvoidancePOMDP at /home/markuss/.julia/packages/PedestrianAvoidancePOMDP/xWTEk/src/rendering.jl:33 overwritten at /home/markuss/.julia/packages/PedestrianAvoidancePOMDP/xWTEk/src/rendering.jl:61.\n",
      "      From worker 42:\tWARNING: Method definition animate_record(Records.QueueRecord{Records.Entity{AutomotiveDrivingModels.VehicleState, AutomotiveDrivingModels.VehicleDef, Int64}}, Float64, AutomotivePOMDPs.CrosswalkEnv, AutomotiveSensors.GaussianSensor{P, V} where V<:AutomotiveSensors.AbstractNoiseModel where P<:AutomotiveSensors.AbstractNoiseModel, Array{Array{Records.Entity{AutomotiveDrivingModels.VehicleState, AutomotiveDrivingModels.VehicleDef, Int64}, 1}, 1}, Array{Float64, 1}, Array{Base.Dict{Int64, POMDPModelTools.SparseCat{Array{PedestrianAvoidancePOMDP.SingleOCFState, 1}, Array{Float64, 1}}}, 1}, Array{Records.Entity{AutomotiveDrivingModels.VehicleState, AutomotiveDrivingModels.VehicleDef, Int64}, 1}, Array{PedestrianAvoidancePOMDP.SingleOCFAction, 1}) in module PedestrianAvoidancePOMDP at /home/markuss/.julia/packages/PedestrianAvoidancePOMDP/xWTEk/src/rendering.jl:33 overwritten at /home/markuss/.julia/packages/PedestrianAvoidancePOMDP/xWTEk/src/rendering.jl:61.\n",
      "      From worker 42:\tWARNING: Method definition animate_record(Records.QueueRecord{Records.Entity{AutomotiveDrivingModels.VehicleState, AutomotiveDrivingModels.VehicleDef, Int64}}, Float64, AutomotivePOMDPs.CrosswalkEnv, AutomotiveSensors.GaussianSensor{P, V} where V<:AutomotiveSensors.AbstractNoiseModel where P<:AutomotiveSensors.AbstractNoiseModel, Array{Array{Records.Entity{AutomotiveDrivingModels.VehicleState, AutomotiveDrivingModels.VehicleDef, Int64}, 1}, 1}, Array{Float64, 1}, Array{Base.Dict{Int64, POMDPModelTools.SparseCat{Array{PedestrianAvoidancePOMDP.SingleOCFState, 1}, Array{Float64, 1}}}, 1}, Array{Records.Entity{AutomotiveDrivingModels.VehicleState, AutomotiveDrivingModels.VehicleDef, Int64}, 1}, Array{PedestrianAvoidancePOMDP.SingleOCFAction, 1}, Any) in module PedestrianAvoidancePOMDP at /home/markuss/.julia/packages/PedestrianAvoidancePOMDP/xWTEk/src/rendering.jl:33 overwritten at /home/markuss/.julia/packages/PedestrianAvoidancePOMDP/xWTEk/src/rendering.jl:61.\n",
      "      From worker 53:\tWARNING: Method definition animate_record(Records.QueueRecord{Records.Entity{AutomotiveDrivingModels.VehicleState, AutomotiveDrivingModels.VehicleDef, Int64}}, Float64, AutomotivePOMDPs.CrosswalkEnv, AutomotiveSensors.GaussianSensor{P, V} where V<:AutomotiveSensors.AbstractNoiseModel where P<:AutomotiveSensors.AbstractNoiseModel, Array{Array{Records.Entity{AutomotiveDrivingModels.VehicleState, AutomotiveDrivingModels.VehicleDef, Int64}, 1}, 1}, Array{Float64, 1}, Array{Base.Dict{Int64, POMDPModelTools.SparseCat{Array{PedestrianAvoidancePOMDP.SingleOCFState, 1}, Array{Float64, 1}}}, 1}, Array{Records.Entity{AutomotiveDrivingModels.VehicleState, AutomotiveDrivingModels.VehicleDef, Int64}, 1}, Array{PedestrianAvoidancePOMDP.SingleOCFAction, 1}) in module PedestrianAvoidancePOMDP at /home/markuss/.julia/packages/PedestrianAvoidancePOMDP/xWTEk/src/rendering.jl:33 overwritten at /home/markuss/.julia/packages/PedestrianAvoidancePOMDP/xWTEk/src/rendering.jl:61.\n",
      "      From worker 53:\tWARNING: Method definition animate_record(Records.QueueRecord{Records.Entity{AutomotiveDrivingModels.VehicleState, AutomotiveDrivingModels.VehicleDef, Int64}}, Float64, AutomotivePOMDPs.CrosswalkEnv, AutomotiveSensors.GaussianSensor{P, V} where V<:AutomotiveSensors.AbstractNoiseModel where P<:AutomotiveSensors.AbstractNoiseModel, Array{Array{Records.Entity{AutomotiveDrivingModels.VehicleState, AutomotiveDrivingModels.VehicleDef, Int64}, 1}, 1}, Array{Float64, 1}, Array{Base.Dict{Int64, POMDPModelTools.SparseCat{Array{PedestrianAvoidancePOMDP.SingleOCFState, 1}, Array{Float64, 1}}}, 1}, Array{Records.Entity{AutomotiveDrivingModels.VehicleState, AutomotiveDrivingModels.VehicleDef, Int64}, 1}, Array{PedestrianAvoidancePOMDP.SingleOCFAction, 1}, Any) in module PedestrianAvoidancePOMDP at /home/markuss/.julia/packages/PedestrianAvoidancePOMDP/xWTEk/src/rendering.jl:33 overwritten at /home/markuss/.julia/packages/PedestrianAvoidancePOMDP/xWTEk/src/rendering.jl:61.\n",
      "      From worker 35:\tWARNING: Method definition animate_record(Records.QueueRecord{Records.Entity{AutomotiveDrivingModels.VehicleState, AutomotiveDrivingModels.VehicleDef, Int64}}, Float64, AutomotivePOMDPs.CrosswalkEnv, AutomotiveSensors.GaussianSensor{P, V} where V<:AutomotiveSensors.AbstractNoiseModel where P<:AutomotiveSensors.AbstractNoiseModel, Array{Array{Records.Entity{AutomotiveDrivingModels.VehicleState, AutomotiveDrivingModels.VehicleDef, Int64}, 1}, 1}, Array{Float64, 1}, Array{Base.Dict{Int64, POMDPModelTools.SparseCat{Array{PedestrianAvoidancePOMDP.SingleOCFState, 1}, Array{Float64, 1}}}, 1}, Array{Records.Entity{AutomotiveDrivingModels.VehicleState, AutomotiveDrivingModels.VehicleDef, Int64}, 1}, Array{PedestrianAvoidancePOMDP.SingleOCFAction, 1}) in module PedestrianAvoidancePOMDP at /home/markuss/.julia/packages/PedestrianAvoidancePOMDP/xWTEk/src/rendering.jl:33 overwritten at /home/markuss/.julia/packages/PedestrianAvoidancePOMDP/xWTEk/src/rendering.jl:61.\n",
      "      From worker 35:\tWARNING: Method definition animate_record(Records.QueueRecord{Records.Entity{AutomotiveDrivingModels.VehicleState, AutomotiveDrivingModels.VehicleDef, Int64}}, Float64, AutomotivePOMDPs.CrosswalkEnv, AutomotiveSensors.GaussianSensor{P, V} where V<:AutomotiveSensors.AbstractNoiseModel where P<:AutomotiveSensors.AbstractNoiseModel, Array{Array{Records.Entity{AutomotiveDrivingModels.VehicleState, AutomotiveDrivingModels.VehicleDef, Int64}, 1}, 1}, Array{Float64, 1}, Array{Base.Dict{Int64, POMDPModelTools.SparseCat{Array{PedestrianAvoidancePOMDP.SingleOCFState, 1}, Array{Float64, 1}}}, 1}, Array{Records.Entity{AutomotiveDrivingModels.VehicleState, AutomotiveDrivingModels.VehicleDef, Int64}, 1}, Array{PedestrianAvoidancePOMDP.SingleOCFAction, 1}, Any) in module PedestrianAvoidancePOMDP at /home/markuss/.julia/packages/PedestrianAvoidancePOMDP/xWTEk/src/rendering.jl:33 overwritten at /home/markuss/.julia/packages/PedestrianAvoidancePOMDP/xWTEk/src/rendering.jl:61.\n",
      "      From worker 11:\tWARNING: Method definition propagate(Records.Entity{AutomotiveDrivingModels.VehicleState, AutomotiveDrivingModels.VehicleDef, Int64}, AutomotiveDrivingModels.LatLonAccel, AutomotiveDrivingModels.Roadway, Float64) in module EmergencyBrakingSystem at /home/markuss/EmergencyBrakingSystem.jl/src/emergency_system.jl:144 overwritten in module PedestrianAvoidancePOMDP at /home/markuss/.julia/packages/PedestrianAvoidancePOMDP/xWTEk/src/frenet_pedestrian_pomdp.jl:110.\n"
     ]
    },
    {
     "name": "stdout",
     "output_type": "stream",
     "text": [
      "      From worker 36:\tWARNING: Method definition animate_record(Records.QueueRecord{Records.Entity{AutomotiveDrivingModels.VehicleState, AutomotiveDrivingModels.VehicleDef, Int64}}, Float64, AutomotivePOMDPs.CrosswalkEnv, AutomotiveSensors.GaussianSensor{P, V} where V<:AutomotiveSensors.AbstractNoiseModel where P<:AutomotiveSensors.AbstractNoiseModel, Array{Array{Records.Entity{AutomotiveDrivingModels.VehicleState, AutomotiveDrivingModels.VehicleDef, Int64}, 1}, 1}, Array{Float64, 1}, Array{Base.Dict{Int64, POMDPModelTools.SparseCat{Array{PedestrianAvoidancePOMDP.SingleOCFState, 1}, Array{Float64, 1}}}, 1}, Array{Records.Entity{AutomotiveDrivingModels.VehicleState, AutomotiveDrivingModels.VehicleDef, Int64}, 1}, Array{PedestrianAvoidancePOMDP.SingleOCFAction, 1}) in module PedestrianAvoidancePOMDP at /home/markuss/.julia/packages/PedestrianAvoidancePOMDP/xWTEk/src/rendering.jl:33 overwritten at /home/markuss/.julia/packages/PedestrianAvoidancePOMDP/xWTEk/src/rendering.jl:61.\n",
      "      From worker 36:\tWARNING: Method definition animate_record(Records.QueueRecord{Records.Entity{AutomotiveDrivingModels.VehicleState, AutomotiveDrivingModels.VehicleDef, Int64}}, Float64, AutomotivePOMDPs.CrosswalkEnv, AutomotiveSensors.GaussianSensor{P, V} where V<:AutomotiveSensors.AbstractNoiseModel where P<:AutomotiveSensors.AbstractNoiseModel, Array{Array{Records.Entity{AutomotiveDrivingModels.VehicleState, AutomotiveDrivingModels.VehicleDef, Int64}, 1}, 1}, Array{Float64, 1}, Array{Base.Dict{Int64, POMDPModelTools.SparseCat{Array{PedestrianAvoidancePOMDP.SingleOCFState, 1}, Array{Float64, 1}}}, 1}, Array{Records.Entity{AutomotiveDrivingModels.VehicleState, AutomotiveDrivingModels.VehicleDef, Int64}, 1}, Array{PedestrianAvoidancePOMDP.SingleOCFAction, 1}, Any) in module PedestrianAvoidancePOMDP at /home/markuss/.julia/packages/PedestrianAvoidancePOMDP/xWTEk/src/rendering.jl:33 overwritten at /home/markuss/.julia/packages/PedestrianAvoidancePOMDP/xWTEk/src/rendering.jl:61.\n",
      "      From worker 10:\tWARNING: Method definition animate_record(Records.QueueRecord{Records.Entity{AutomotiveDrivingModels.VehicleState, AutomotiveDrivingModels.VehicleDef, Int64}}, Float64, AutomotivePOMDPs.CrosswalkEnv, AutomotiveSensors.GaussianSensor{P, V} where V<:AutomotiveSensors.AbstractNoiseModel where P<:AutomotiveSensors.AbstractNoiseModel, Array{Array{Records.Entity{AutomotiveDrivingModels.VehicleState, AutomotiveDrivingModels.VehicleDef, Int64}, 1}, 1}, Array{Float64, 1}, Array{Base.Dict{Int64, POMDPModelTools.SparseCat{Array{PedestrianAvoidancePOMDP.SingleOCFState, 1}, Array{Float64, 1}}}, 1}, Array{Records.Entity{AutomotiveDrivingModels.VehicleState, AutomotiveDrivingModels.VehicleDef, Int64}, 1}, Array{PedestrianAvoidancePOMDP.SingleOCFAction, 1}) in module PedestrianAvoidancePOMDP at /home/markuss/.julia/packages/PedestrianAvoidancePOMDP/xWTEk/src/rendering.jl:33 overwritten at /home/markuss/.julia/packages/PedestrianAvoidancePOMDP/xWTEk/src/rendering.jl:61.\n",
      "      From worker 10:\tWARNING: Method definition animate_record(Records.QueueRecord{Records.Entity{AutomotiveDrivingModels.VehicleState, AutomotiveDrivingModels.VehicleDef, Int64}}, Float64, AutomotivePOMDPs.CrosswalkEnv, AutomotiveSensors.GaussianSensor{P, V} where V<:AutomotiveSensors.AbstractNoiseModel where P<:AutomotiveSensors.AbstractNoiseModel, Array{Array{Records.Entity{AutomotiveDrivingModels.VehicleState, AutomotiveDrivingModels.VehicleDef, Int64}, 1}, 1}, Array{Float64, 1}, Array{Base.Dict{Int64, POMDPModelTools.SparseCat{Array{PedestrianAvoidancePOMDP.SingleOCFState, 1}, Array{Float64, 1}}}, 1}, Array{Records.Entity{AutomotiveDrivingModels.VehicleState, AutomotiveDrivingModels.VehicleDef, Int64}, 1}, Array{PedestrianAvoidancePOMDP.SingleOCFAction, 1}, Any) in module PedestrianAvoidancePOMDP at /home/markuss/.julia/packages/PedestrianAvoidancePOMDP/xWTEk/src/rendering.jl:33 overwritten at /home/markuss/.julia/packages/PedestrianAvoidancePOMDP/xWTEk/src/rendering.jl:61.\n",
      "      From worker 13:\tWARNING: Method definition animate_record(Records.QueueRecord{Records.Entity{AutomotiveDrivingModels.VehicleState, AutomotiveDrivingModels.VehicleDef, Int64}}, Float64, AutomotivePOMDPs.CrosswalkEnv, AutomotiveSensors.GaussianSensor{P, V} where V<:AutomotiveSensors.AbstractNoiseModel where P<:AutomotiveSensors.AbstractNoiseModel, Array{Array{Records.Entity{AutomotiveDrivingModels.VehicleState, AutomotiveDrivingModels.VehicleDef, Int64}, 1}, 1}, Array{Float64, 1}, Array{Base.Dict{Int64, POMDPModelTools.SparseCat{Array{PedestrianAvoidancePOMDP.SingleOCFState, 1}, Array{Float64, 1}}}, 1}, Array{Records.Entity{AutomotiveDrivingModels.VehicleState, AutomotiveDrivingModels.VehicleDef, Int64}, 1}, Array{PedestrianAvoidancePOMDP.SingleOCFAction, 1}) in module PedestrianAvoidancePOMDP at /home/markuss/.julia/packages/PedestrianAvoidancePOMDP/xWTEk/src/rendering.jl:33 overwritten at /home/markuss/.julia/packages/PedestrianAvoidancePOMDP/xWTEk/src/rendering.jl:61.\n",
      "      From worker 13:\tWARNING: Method definition animate_record(Records.QueueRecord{Records.Entity{AutomotiveDrivingModels.VehicleState, AutomotiveDrivingModels.VehicleDef, Int64}}, Float64, AutomotivePOMDPs.CrosswalkEnv, AutomotiveSensors.GaussianSensor{P, V} where V<:AutomotiveSensors.AbstractNoiseModel where P<:AutomotiveSensors.AbstractNoiseModel, Array{Array{Records.Entity{AutomotiveDrivingModels.VehicleState, AutomotiveDrivingModels.VehicleDef, Int64}, 1}, 1}, Array{Float64, 1}, Array{Base.Dict{Int64, POMDPModelTools.SparseCat{Array{PedestrianAvoidancePOMDP.SingleOCFState, 1}, Array{Float64, 1}}}, 1}, Array{Records.Entity{AutomotiveDrivingModels.VehicleState, AutomotiveDrivingModels.VehicleDef, Int64}, 1}, Array{PedestrianAvoidancePOMDP.SingleOCFAction, 1}, Any) in module PedestrianAvoidancePOMDP at /home/markuss/.julia/packages/PedestrianAvoidancePOMDP/xWTEk/src/rendering.jl:33 overwritten at /home/markuss/.julia/packages/PedestrianAvoidancePOMDP/xWTEk/src/rendering.jl:61.\n",
      "      From worker 49:\tWARNING: Method definition animate_record(Records.QueueRecord{Records.Entity{AutomotiveDrivingModels.VehicleState, AutomotiveDrivingModels.VehicleDef, Int64}}, Float64, AutomotivePOMDPs.CrosswalkEnv, AutomotiveSensors.GaussianSensor{P, V} where V<:AutomotiveSensors.AbstractNoiseModel where P<:AutomotiveSensors.AbstractNoiseModel, Array{Array{Records.Entity{AutomotiveDrivingModels.VehicleState, AutomotiveDrivingModels.VehicleDef, Int64}, 1}, 1}, Array{Float64, 1}, Array{Base.Dict{Int64, POMDPModelTools.SparseCat{Array{PedestrianAvoidancePOMDP.SingleOCFState, 1}, Array{Float64, 1}}}, 1}, Array{Records.Entity{AutomotiveDrivingModels.VehicleState, AutomotiveDrivingModels.VehicleDef, Int64}, 1}, Array{PedestrianAvoidancePOMDP.SingleOCFAction, 1}) in module PedestrianAvoidancePOMDP at /home/markuss/.julia/packages/PedestrianAvoidancePOMDP/xWTEk/src/rendering.jl:33 overwritten at /home/markuss/.julia/packages/PedestrianAvoidancePOMDP/xWTEk/src/rendering.jl:61.\n",
      "      From worker 49:\tWARNING: Method definition animate_record(Records.QueueRecord{Records.Entity{AutomotiveDrivingModels.VehicleState, AutomotiveDrivingModels.VehicleDef, Int64}}, Float64, AutomotivePOMDPs.CrosswalkEnv, AutomotiveSensors.GaussianSensor{P, V} where V<:AutomotiveSensors.AbstractNoiseModel where P<:AutomotiveSensors.AbstractNoiseModel, Array{Array{Records.Entity{AutomotiveDrivingModels.VehicleState, AutomotiveDrivingModels.VehicleDef, Int64}, 1}, 1}, Array{Float64, 1}, Array{Base.Dict{Int64, POMDPModelTools.SparseCat{Array{PedestrianAvoidancePOMDP.SingleOCFState, 1}, Array{Float64, 1}}}, 1}, Array{Records.Entity{AutomotiveDrivingModels.VehicleState, AutomotiveDrivingModels.VehicleDef, Int64}, 1}, Array{PedestrianAvoidancePOMDP.SingleOCFAction, 1}, Any) in module PedestrianAvoidancePOMDP at /home/markuss/.julia/packages/PedestrianAvoidancePOMDP/xWTEk/src/rendering.jl:33 overwritten at /home/markuss/.julia/packages/PedestrianAvoidancePOMDP/xWTEk/src/rendering.jl:61.\n",
      "      From worker 50:\tWARNING: Method definition animate_record(Records.QueueRecord{Records.Entity{AutomotiveDrivingModels.VehicleState, AutomotiveDrivingModels.VehicleDef, Int64}}, Float64, AutomotivePOMDPs.CrosswalkEnv, AutomotiveSensors.GaussianSensor{P, V} where V<:AutomotiveSensors.AbstractNoiseModel where P<:AutomotiveSensors.AbstractNoiseModel, Array{Array{Records.Entity{AutomotiveDrivingModels.VehicleState, AutomotiveDrivingModels.VehicleDef, Int64}, 1}, 1}, Array{Float64, 1}, Array{Base.Dict{Int64, POMDPModelTools.SparseCat{Array{PedestrianAvoidancePOMDP.SingleOCFState, 1}, Array{Float64, 1}}}, 1}, Array{Records.Entity{AutomotiveDrivingModels.VehicleState, AutomotiveDrivingModels.VehicleDef, Int64}, 1}, Array{PedestrianAvoidancePOMDP.SingleOCFAction, 1}) in module PedestrianAvoidancePOMDP at /home/markuss/.julia/packages/PedestrianAvoidancePOMDP/xWTEk/src/rendering.jl:33 overwritten at /home/markuss/.julia/packages/PedestrianAvoidancePOMDP/xWTEk/src/rendering.jl:61.\n",
      "      From worker 50:\tWARNING: Method definition animate_record(Records.QueueRecord{Records.Entity{AutomotiveDrivingModels.VehicleState, AutomotiveDrivingModels.VehicleDef, Int64}}, Float64, AutomotivePOMDPs.CrosswalkEnv, AutomotiveSensors.GaussianSensor{P, V} where V<:AutomotiveSensors.AbstractNoiseModel where P<:AutomotiveSensors.AbstractNoiseModel, Array{Array{Records.Entity{AutomotiveDrivingModels.VehicleState, AutomotiveDrivingModels.VehicleDef, Int64}, 1}, 1}, Array{Float64, 1}, Array{Base.Dict{Int64, POMDPModelTools.SparseCat{Array{PedestrianAvoidancePOMDP.SingleOCFState, 1}, Array{Float64, 1}}}, 1}, Array{Records.Entity{AutomotiveDrivingModels.VehicleState, AutomotiveDrivingModels.VehicleDef, Int64}, 1}, Array{PedestrianAvoidancePOMDP.SingleOCFAction, 1}, Any) in module PedestrianAvoidancePOMDP at /home/markuss/.julia/packages/PedestrianAvoidancePOMDP/xWTEk/src/rendering.jl:33 overwritten at /home/markuss/.julia/packages/PedestrianAvoidancePOMDP/xWTEk/src/rendering.jl:61.\n"
     ]
    },
    {
     "name": "stdout",
     "output_type": "stream",
     "text": [
      "      From worker 3:\tWARNING: Method definition animate_record(Records.QueueRecord{Records.Entity{AutomotiveDrivingModels.VehicleState, AutomotiveDrivingModels.VehicleDef, Int64}}, Float64, AutomotivePOMDPs.CrosswalkEnv, AutomotiveSensors.GaussianSensor{P, V} where V<:AutomotiveSensors.AbstractNoiseModel where P<:AutomotiveSensors.AbstractNoiseModel, Array{Array{Records.Entity{AutomotiveDrivingModels.VehicleState, AutomotiveDrivingModels.VehicleDef, Int64}, 1}, 1}, Array{Float64, 1}, Array{Base.Dict{Int64, POMDPModelTools.SparseCat{Array{PedestrianAvoidancePOMDP.SingleOCFState, 1}, Array{Float64, 1}}}, 1}, Array{Records.Entity{AutomotiveDrivingModels.VehicleState, AutomotiveDrivingModels.VehicleDef, Int64}, 1}, Array{PedestrianAvoidancePOMDP.SingleOCFAction, 1}) in module PedestrianAvoidancePOMDP at /home/markuss/.julia/packages/PedestrianAvoidancePOMDP/xWTEk/src/rendering.jl:33 overwritten at /home/markuss/.julia/packages/PedestrianAvoidancePOMDP/xWTEk/src/rendering.jl:61.\n",
      "      From worker 3:\tWARNING: Method definition animate_record(Records.QueueRecord{Records.Entity{AutomotiveDrivingModels.VehicleState, AutomotiveDrivingModels.VehicleDef, Int64}}, Float64, AutomotivePOMDPs.CrosswalkEnv, AutomotiveSensors.GaussianSensor{P, V} where V<:AutomotiveSensors.AbstractNoiseModel where P<:AutomotiveSensors.AbstractNoiseModel, Array{Array{Records.Entity{AutomotiveDrivingModels.VehicleState, AutomotiveDrivingModels.VehicleDef, Int64}, 1}, 1}, Array{Float64, 1}, Array{Base.Dict{Int64, POMDPModelTools.SparseCat{Array{PedestrianAvoidancePOMDP.SingleOCFState, 1}, Array{Float64, 1}}}, 1}, Array{Records.Entity{AutomotiveDrivingModels.VehicleState, AutomotiveDrivingModels.VehicleDef, Int64}, 1}, Array{PedestrianAvoidancePOMDP.SingleOCFAction, 1}, Any) in module PedestrianAvoidancePOMDP at /home/markuss/.julia/packages/PedestrianAvoidancePOMDP/xWTEk/src/rendering.jl:33 overwritten at /home/markuss/.julia/packages/PedestrianAvoidancePOMDP/xWTEk/src/rendering.jl:61.\n",
      "      From worker 33:\tWARNING: Method definition animate_record(Records.QueueRecord{Records.Entity{AutomotiveDrivingModels.VehicleState, AutomotiveDrivingModels.VehicleDef, Int64}}, Float64, AutomotivePOMDPs.CrosswalkEnv, AutomotiveSensors.GaussianSensor{P, V} where V<:AutomotiveSensors.AbstractNoiseModel where P<:AutomotiveSensors.AbstractNoiseModel, Array{Array{Records.Entity{AutomotiveDrivingModels.VehicleState, AutomotiveDrivingModels.VehicleDef, Int64}, 1}, 1}, Array{Float64, 1}, Array{Base.Dict{Int64, POMDPModelTools.SparseCat{Array{PedestrianAvoidancePOMDP.SingleOCFState, 1}, Array{Float64, 1}}}, 1}, Array{Records.Entity{AutomotiveDrivingModels.VehicleState, AutomotiveDrivingModels.VehicleDef, Int64}, 1}, Array{PedestrianAvoidancePOMDP.SingleOCFAction, 1}) in module PedestrianAvoidancePOMDP at /home/markuss/.julia/packages/PedestrianAvoidancePOMDP/xWTEk/src/rendering.jl:33 overwritten at /home/markuss/.julia/packages/PedestrianAvoidancePOMDP/xWTEk/src/rendering.jl:61.\n",
      "      From worker 33:\tWARNING: Method definition animate_record(Records.QueueRecord{Records.Entity{AutomotiveDrivingModels.VehicleState, AutomotiveDrivingModels.VehicleDef, Int64}}, Float64, AutomotivePOMDPs.CrosswalkEnv, AutomotiveSensors.GaussianSensor{P, V} where V<:AutomotiveSensors.AbstractNoiseModel where P<:AutomotiveSensors.AbstractNoiseModel, Array{Array{Records.Entity{AutomotiveDrivingModels.VehicleState, AutomotiveDrivingModels.VehicleDef, Int64}, 1}, 1}, Array{Float64, 1}, Array{Base.Dict{Int64, POMDPModelTools.SparseCat{Array{PedestrianAvoidancePOMDP.SingleOCFState, 1}, Array{Float64, 1}}}, 1}, Array{Records.Entity{AutomotiveDrivingModels.VehicleState, AutomotiveDrivingModels.VehicleDef, Int64}, 1}, Array{PedestrianAvoidancePOMDP.SingleOCFAction, 1}, Any) in module PedestrianAvoidancePOMDP at /home/markuss/.julia/packages/PedestrianAvoidancePOMDP/xWTEk/src/rendering.jl:33 overwritten at /home/markuss/.julia/packages/PedestrianAvoidancePOMDP/xWTEk/src/rendering.jl:61.\n",
      "      From worker 29:\tWARNING: Method definition animate_record(Records.QueueRecord{Records.Entity{AutomotiveDrivingModels.VehicleState, AutomotiveDrivingModels.VehicleDef, Int64}}, Float64, AutomotivePOMDPs.CrosswalkEnv, AutomotiveSensors.GaussianSensor{P, V} where V<:AutomotiveSensors.AbstractNoiseModel where P<:AutomotiveSensors.AbstractNoiseModel, Array{Array{Records.Entity{AutomotiveDrivingModels.VehicleState, AutomotiveDrivingModels.VehicleDef, Int64}, 1}, 1}, Array{Float64, 1}, Array{Base.Dict{Int64, POMDPModelTools.SparseCat{Array{PedestrianAvoidancePOMDP.SingleOCFState, 1}, Array{Float64, 1}}}, 1}, Array{Records.Entity{AutomotiveDrivingModels.VehicleState, AutomotiveDrivingModels.VehicleDef, Int64}, 1}, Array{PedestrianAvoidancePOMDP.SingleOCFAction, 1}) in module PedestrianAvoidancePOMDP at /home/markuss/.julia/packages/PedestrianAvoidancePOMDP/xWTEk/src/rendering.jl:33 overwritten at /home/markuss/.julia/packages/PedestrianAvoidancePOMDP/xWTEk/src/rendering.jl:61.\n",
      "      From worker 29:\tWARNING: Method definition animate_record(Records.QueueRecord{Records.Entity{AutomotiveDrivingModels.VehicleState, AutomotiveDrivingModels.VehicleDef, Int64}}, Float64, AutomotivePOMDPs.CrosswalkEnv, AutomotiveSensors.GaussianSensor{P, V} where V<:AutomotiveSensors.AbstractNoiseModel where P<:AutomotiveSensors.AbstractNoiseModel, Array{Array{Records.Entity{AutomotiveDrivingModels.VehicleState, AutomotiveDrivingModels.VehicleDef, Int64}, 1}, 1}, Array{Float64, 1}, Array{Base.Dict{Int64, POMDPModelTools.SparseCat{Array{PedestrianAvoidancePOMDP.SingleOCFState, 1}, Array{Float64, 1}}}, 1}, Array{Records.Entity{AutomotiveDrivingModels.VehicleState, AutomotiveDrivingModels.VehicleDef, Int64}, 1}, Array{PedestrianAvoidancePOMDP.SingleOCFAction, 1}, Any) in module PedestrianAvoidancePOMDP at /home/markuss/.julia/packages/PedestrianAvoidancePOMDP/xWTEk/src/rendering.jl:33 overwritten at /home/markuss/.julia/packages/PedestrianAvoidancePOMDP/xWTEk/src/rendering.jl:61.\n",
      "      From worker 5:\tWARNING: Method definition animate_record(Records.QueueRecord{Records.Entity{AutomotiveDrivingModels.VehicleState, AutomotiveDrivingModels.VehicleDef, Int64}}, Float64, AutomotivePOMDPs.CrosswalkEnv, AutomotiveSensors.GaussianSensor{P, V} where V<:AutomotiveSensors.AbstractNoiseModel where P<:AutomotiveSensors.AbstractNoiseModel, Array{Array{Records.Entity{AutomotiveDrivingModels.VehicleState, AutomotiveDrivingModels.VehicleDef, Int64}, 1}, 1}, Array{Float64, 1}, Array{Base.Dict{Int64, POMDPModelTools.SparseCat{Array{PedestrianAvoidancePOMDP.SingleOCFState, 1}, Array{Float64, 1}}}, 1}, Array{Records.Entity{AutomotiveDrivingModels.VehicleState, AutomotiveDrivingModels.VehicleDef, Int64}, 1}, Array{PedestrianAvoidancePOMDP.SingleOCFAction, 1}) in module PedestrianAvoidancePOMDP at /home/markuss/.julia/packages/PedestrianAvoidancePOMDP/xWTEk/src/rendering.jl:33 overwritten at /home/markuss/.julia/packages/PedestrianAvoidancePOMDP/xWTEk/src/rendering.jl:61.\n",
      "      From worker 5:\tWARNING: Method definition animate_record(Records.QueueRecord{Records.Entity{AutomotiveDrivingModels.VehicleState, AutomotiveDrivingModels.VehicleDef, Int64}}, Float64, AutomotivePOMDPs.CrosswalkEnv, AutomotiveSensors.GaussianSensor{P, V} where V<:AutomotiveSensors.AbstractNoiseModel where P<:AutomotiveSensors.AbstractNoiseModel, Array{Array{Records.Entity{AutomotiveDrivingModels.VehicleState, AutomotiveDrivingModels.VehicleDef, Int64}, 1}, 1}, Array{Float64, 1}, Array{Base.Dict{Int64, POMDPModelTools.SparseCat{Array{PedestrianAvoidancePOMDP.SingleOCFState, 1}, Array{Float64, 1}}}, 1}, Array{Records.Entity{AutomotiveDrivingModels.VehicleState, AutomotiveDrivingModels.VehicleDef, Int64}, 1}, Array{PedestrianAvoidancePOMDP.SingleOCFAction, 1}, Any) in module PedestrianAvoidancePOMDP at /home/markuss/.julia/packages/PedestrianAvoidancePOMDP/xWTEk/src/rendering.jl:33 overwritten at /home/markuss/.julia/packages/PedestrianAvoidancePOMDP/xWTEk/src/rendering.jl:61.\n",
      "      From worker 43:\tWARNING: Method definition animate_record(Records.QueueRecord{Records.Entity{AutomotiveDrivingModels.VehicleState, AutomotiveDrivingModels.VehicleDef, Int64}}, Float64, AutomotivePOMDPs.CrosswalkEnv, AutomotiveSensors.GaussianSensor{P, V} where V<:AutomotiveSensors.AbstractNoiseModel where P<:AutomotiveSensors.AbstractNoiseModel, Array{Array{Records.Entity{AutomotiveDrivingModels.VehicleState, AutomotiveDrivingModels.VehicleDef, Int64}, 1}, 1}, Array{Float64, 1}, Array{Base.Dict{Int64, POMDPModelTools.SparseCat{Array{PedestrianAvoidancePOMDP.SingleOCFState, 1}, Array{Float64, 1}}}, 1}, Array{Records.Entity{AutomotiveDrivingModels.VehicleState, AutomotiveDrivingModels.VehicleDef, Int64}, 1}, Array{PedestrianAvoidancePOMDP.SingleOCFAction, 1}) in module PedestrianAvoidancePOMDP at /home/markuss/.julia/packages/PedestrianAvoidancePOMDP/xWTEk/src/rendering.jl:33 overwritten at /home/markuss/.julia/packages/PedestrianAvoidancePOMDP/xWTEk/src/rendering.jl:61.\n",
      "      From worker 43:\tWARNING: Method definition animate_record(Records.QueueRecord{Records.Entity{AutomotiveDrivingModels.VehicleState, AutomotiveDrivingModels.VehicleDef, Int64}}, Float64, AutomotivePOMDPs.CrosswalkEnv, AutomotiveSensors.GaussianSensor{P, V} where V<:AutomotiveSensors.AbstractNoiseModel where P<:AutomotiveSensors.AbstractNoiseModel, Array{Array{Records.Entity{AutomotiveDrivingModels.VehicleState, AutomotiveDrivingModels.VehicleDef, Int64}, 1}, 1}, Array{Float64, 1}, Array{Base.Dict{Int64, POMDPModelTools.SparseCat{Array{PedestrianAvoidancePOMDP.SingleOCFState, 1}, Array{Float64, 1}}}, 1}, Array{Records.Entity{AutomotiveDrivingModels.VehicleState, AutomotiveDrivingModels.VehicleDef, Int64}, 1}, Array{PedestrianAvoidancePOMDP.SingleOCFAction, 1}, Any) in module PedestrianAvoidancePOMDP at /home/markuss/.julia/packages/PedestrianAvoidancePOMDP/xWTEk/src/rendering.jl:33 overwritten at /home/markuss/.julia/packages/PedestrianAvoidancePOMDP/xWTEk/src/rendering.jl:61.\n"
     ]
    },
    {
     "name": "stdout",
     "output_type": "stream",
     "text": [
      "      From worker 15:\tWARNING: Method definition animate_record(Records.QueueRecord{Records.Entity{AutomotiveDrivingModels.VehicleState, AutomotiveDrivingModels.VehicleDef, Int64}}, Float64, AutomotivePOMDPs.CrosswalkEnv, AutomotiveSensors.GaussianSensor{P, V} where V<:AutomotiveSensors.AbstractNoiseModel where P<:AutomotiveSensors.AbstractNoiseModel, Array{Array{Records.Entity{AutomotiveDrivingModels.VehicleState, AutomotiveDrivingModels.VehicleDef, Int64}, 1}, 1}, Array{Float64, 1}, Array{Base.Dict{Int64, POMDPModelTools.SparseCat{Array{PedestrianAvoidancePOMDP.SingleOCFState, 1}, Array{Float64, 1}}}, 1}, Array{Records.Entity{AutomotiveDrivingModels.VehicleState, AutomotiveDrivingModels.VehicleDef, Int64}, 1}, Array{PedestrianAvoidancePOMDP.SingleOCFAction, 1}) in module PedestrianAvoidancePOMDP at /home/markuss/.julia/packages/PedestrianAvoidancePOMDP/xWTEk/src/rendering.jl:33 overwritten at /home/markuss/.julia/packages/PedestrianAvoidancePOMDP/xWTEk/src/rendering.jl:61.\n",
      "      From worker 15:\tWARNING: Method definition animate_record(Records.QueueRecord{Records.Entity{AutomotiveDrivingModels.VehicleState, AutomotiveDrivingModels.VehicleDef, Int64}}, Float64, AutomotivePOMDPs.CrosswalkEnv, AutomotiveSensors.GaussianSensor{P, V} where V<:AutomotiveSensors.AbstractNoiseModel where P<:AutomotiveSensors.AbstractNoiseModel, Array{Array{Records.Entity{AutomotiveDrivingModels.VehicleState, AutomotiveDrivingModels.VehicleDef, Int64}, 1}, 1}, Array{Float64, 1}, Array{Base.Dict{Int64, POMDPModelTools.SparseCat{Array{PedestrianAvoidancePOMDP.SingleOCFState, 1}, Array{Float64, 1}}}, 1}, Array{Records.Entity{AutomotiveDrivingModels.VehicleState, AutomotiveDrivingModels.VehicleDef, Int64}, 1}, Array{PedestrianAvoidancePOMDP.SingleOCFAction, 1}, Any) in module PedestrianAvoidancePOMDP at /home/markuss/.julia/packages/PedestrianAvoidancePOMDP/xWTEk/src/rendering.jl:33 overwritten at /home/markuss/.julia/packages/PedestrianAvoidancePOMDP/xWTEk/src/rendering.jl:61.\n",
      "      From worker 16:\tWARNING: Method definition animate_record(Records.QueueRecord{Records.Entity{AutomotiveDrivingModels.VehicleState, AutomotiveDrivingModels.VehicleDef, Int64}}, Float64, AutomotivePOMDPs.CrosswalkEnv, AutomotiveSensors.GaussianSensor{P, V} where V<:AutomotiveSensors.AbstractNoiseModel where P<:AutomotiveSensors.AbstractNoiseModel, Array{Array{Records.Entity{AutomotiveDrivingModels.VehicleState, AutomotiveDrivingModels.VehicleDef, Int64}, 1}, 1}, Array{Float64, 1}, Array{Base.Dict{Int64, POMDPModelTools.SparseCat{Array{PedestrianAvoidancePOMDP.SingleOCFState, 1}, Array{Float64, 1}}}, 1}, Array{Records.Entity{AutomotiveDrivingModels.VehicleState, AutomotiveDrivingModels.VehicleDef, Int64}, 1}, Array{PedestrianAvoidancePOMDP.SingleOCFAction, 1}) in module PedestrianAvoidancePOMDP at /home/markuss/.julia/packages/PedestrianAvoidancePOMDP/xWTEk/src/rendering.jl:33 overwritten at /home/markuss/.julia/packages/PedestrianAvoidancePOMDP/xWTEk/src/rendering.jl:61.\n",
      "      From worker 16:\tWARNING: Method definition animate_record(Records.QueueRecord{Records.Entity{AutomotiveDrivingModels.VehicleState, AutomotiveDrivingModels.VehicleDef, Int64}}, Float64, AutomotivePOMDPs.CrosswalkEnv, AutomotiveSensors.GaussianSensor{P, V} where V<:AutomotiveSensors.AbstractNoiseModel where P<:AutomotiveSensors.AbstractNoiseModel, Array{Array{Records.Entity{AutomotiveDrivingModels.VehicleState, AutomotiveDrivingModels.VehicleDef, Int64}, 1}, 1}, Array{Float64, 1}, Array{Base.Dict{Int64, POMDPModelTools.SparseCat{Array{PedestrianAvoidancePOMDP.SingleOCFState, 1}, Array{Float64, 1}}}, 1}, Array{Records.Entity{AutomotiveDrivingModels.VehicleState, AutomotiveDrivingModels.VehicleDef, Int64}, 1}, Array{PedestrianAvoidancePOMDP.SingleOCFAction, 1}, Any) in module PedestrianAvoidancePOMDP at /home/markuss/.julia/packages/PedestrianAvoidancePOMDP/xWTEk/src/rendering.jl:33 overwritten at /home/markuss/.julia/packages/PedestrianAvoidancePOMDP/xWTEk/src/rendering.jl:61.\n",
      "      From worker 47:\tWARNING: Method definition animate_record(Records.QueueRecord{Records.Entity{AutomotiveDrivingModels.VehicleState, AutomotiveDrivingModels.VehicleDef, Int64}}, Float64, AutomotivePOMDPs.CrosswalkEnv, AutomotiveSensors.GaussianSensor{P, V} where V<:AutomotiveSensors.AbstractNoiseModel where P<:AutomotiveSensors.AbstractNoiseModel, Array{Array{Records.Entity{AutomotiveDrivingModels.VehicleState, AutomotiveDrivingModels.VehicleDef, Int64}, 1}, 1}, Array{Float64, 1}, Array{Base.Dict{Int64, POMDPModelTools.SparseCat{Array{PedestrianAvoidancePOMDP.SingleOCFState, 1}, Array{Float64, 1}}}, 1}, Array{Records.Entity{AutomotiveDrivingModels.VehicleState, AutomotiveDrivingModels.VehicleDef, Int64}, 1}, Array{PedestrianAvoidancePOMDP.SingleOCFAction, 1}) in module PedestrianAvoidancePOMDP at /home/markuss/.julia/packages/PedestrianAvoidancePOMDP/xWTEk/src/rendering.jl:33 overwritten at /home/markuss/.julia/packages/PedestrianAvoidancePOMDP/xWTEk/src/rendering.jl:61.\n",
      "      From worker 47:\tWARNING: Method definition animate_record(Records.QueueRecord{Records.Entity{AutomotiveDrivingModels.VehicleState, AutomotiveDrivingModels.VehicleDef, Int64}}, Float64, AutomotivePOMDPs.CrosswalkEnv, AutomotiveSensors.GaussianSensor{P, V} where V<:AutomotiveSensors.AbstractNoiseModel where P<:AutomotiveSensors.AbstractNoiseModel, Array{Array{Records.Entity{AutomotiveDrivingModels.VehicleState, AutomotiveDrivingModels.VehicleDef, Int64}, 1}, 1}, Array{Float64, 1}, Array{Base.Dict{Int64, POMDPModelTools.SparseCat{Array{PedestrianAvoidancePOMDP.SingleOCFState, 1}, Array{Float64, 1}}}, 1}, Array{Records.Entity{AutomotiveDrivingModels.VehicleState, AutomotiveDrivingModels.VehicleDef, Int64}, 1}, Array{PedestrianAvoidancePOMDP.SingleOCFAction, 1}, Any) in module PedestrianAvoidancePOMDP at /home/markuss/.julia/packages/PedestrianAvoidancePOMDP/xWTEk/src/rendering.jl:33 overwritten at /home/markuss/.julia/packages/PedestrianAvoidancePOMDP/xWTEk/src/rendering.jl:61.\n",
      "      From worker 27:\tWARNING: Method definition animate_record(Records.QueueRecord{Records.Entity{AutomotiveDrivingModels.VehicleState, AutomotiveDrivingModels.VehicleDef, Int64}}, Float64, AutomotivePOMDPs.CrosswalkEnv, AutomotiveSensors.GaussianSensor{P, V} where V<:AutomotiveSensors.AbstractNoiseModel where P<:AutomotiveSensors.AbstractNoiseModel, Array{Array{Records.Entity{AutomotiveDrivingModels.VehicleState, AutomotiveDrivingModels.VehicleDef, Int64}, 1}, 1}, Array{Float64, 1}, Array{Base.Dict{Int64, POMDPModelTools.SparseCat{Array{PedestrianAvoidancePOMDP.SingleOCFState, 1}, Array{Float64, 1}}}, 1}, Array{Records.Entity{AutomotiveDrivingModels.VehicleState, AutomotiveDrivingModels.VehicleDef, Int64}, 1}, Array{PedestrianAvoidancePOMDP.SingleOCFAction, 1}) in module PedestrianAvoidancePOMDP at /home/markuss/.julia/packages/PedestrianAvoidancePOMDP/xWTEk/src/rendering.jl:33 overwritten at /home/markuss/.julia/packages/PedestrianAvoidancePOMDP/xWTEk/src/rendering.jl:61.\n",
      "      From worker 27:\tWARNING: Method definition animate_record(Records.QueueRecord{Records.Entity{AutomotiveDrivingModels.VehicleState, AutomotiveDrivingModels.VehicleDef, Int64}}, Float64, AutomotivePOMDPs.CrosswalkEnv, AutomotiveSensors.GaussianSensor{P, V} where V<:AutomotiveSensors.AbstractNoiseModel where P<:AutomotiveSensors.AbstractNoiseModel, Array{Array{Records.Entity{AutomotiveDrivingModels.VehicleState, AutomotiveDrivingModels.VehicleDef, Int64}, 1}, 1}, Array{Float64, 1}, Array{Base.Dict{Int64, POMDPModelTools.SparseCat{Array{PedestrianAvoidancePOMDP.SingleOCFState, 1}, Array{Float64, 1}}}, 1}, Array{Records.Entity{AutomotiveDrivingModels.VehicleState, AutomotiveDrivingModels.VehicleDef, Int64}, 1}, Array{PedestrianAvoidancePOMDP.SingleOCFAction, 1}, Any) in module PedestrianAvoidancePOMDP at /home/markuss/.julia/packages/PedestrianAvoidancePOMDP/xWTEk/src/rendering.jl:33 overwritten at /home/markuss/.julia/packages/PedestrianAvoidancePOMDP/xWTEk/src/rendering.jl:61.\n",
      "      From worker 34:\tWARNING: Method definition animate_record(Records.QueueRecord{Records.Entity{AutomotiveDrivingModels.VehicleState, AutomotiveDrivingModels.VehicleDef, Int64}}, Float64, AutomotivePOMDPs.CrosswalkEnv, AutomotiveSensors.GaussianSensor{P, V} where V<:AutomotiveSensors.AbstractNoiseModel where P<:AutomotiveSensors.AbstractNoiseModel, Array{Array{Records.Entity{AutomotiveDrivingModels.VehicleState, AutomotiveDrivingModels.VehicleDef, Int64}, 1}, 1}, Array{Float64, 1}, Array{Base.Dict{Int64, POMDPModelTools.SparseCat{Array{PedestrianAvoidancePOMDP.SingleOCFState, 1}, Array{Float64, 1}}}, 1}, Array{Records.Entity{AutomotiveDrivingModels.VehicleState, AutomotiveDrivingModels.VehicleDef, Int64}, 1}, Array{PedestrianAvoidancePOMDP.SingleOCFAction, 1}) in module PedestrianAvoidancePOMDP at /home/markuss/.julia/packages/PedestrianAvoidancePOMDP/xWTEk/src/rendering.jl:33 overwritten at /home/markuss/.julia/packages/PedestrianAvoidancePOMDP/xWTEk/src/rendering.jl:61.\n",
      "      From worker 34:\tWARNING: Method definition animate_record(Records.QueueRecord{Records.Entity{AutomotiveDrivingModels.VehicleState, AutomotiveDrivingModels.VehicleDef, Int64}}, Float64, AutomotivePOMDPs.CrosswalkEnv, AutomotiveSensors.GaussianSensor{P, V} where V<:AutomotiveSensors.AbstractNoiseModel where P<:AutomotiveSensors.AbstractNoiseModel, Array{Array{Records.Entity{AutomotiveDrivingModels.VehicleState, AutomotiveDrivingModels.VehicleDef, Int64}, 1}, 1}, Array{Float64, 1}, Array{Base.Dict{Int64, POMDPModelTools.SparseCat{Array{PedestrianAvoidancePOMDP.SingleOCFState, 1}, Array{Float64, 1}}}, 1}, Array{Records.Entity{AutomotiveDrivingModels.VehicleState, AutomotiveDrivingModels.VehicleDef, Int64}, 1}, Array{PedestrianAvoidancePOMDP.SingleOCFAction, 1}, Any) in module PedestrianAvoidancePOMDP at /home/markuss/.julia/packages/PedestrianAvoidancePOMDP/xWTEk/src/rendering.jl:33 overwritten at /home/markuss/.julia/packages/PedestrianAvoidancePOMDP/xWTEk/src/rendering.jl:61.\n",
      "      From worker 21:\tWARNING: Method definition animate_record(Records.QueueRecord{Records.Entity{AutomotiveDrivingModels.VehicleState, AutomotiveDrivingModels.VehicleDef, Int64}}, Float64, AutomotivePOMDPs.CrosswalkEnv, AutomotiveSensors.GaussianSensor{P, V} where V<:AutomotiveSensors.AbstractNoiseModel where P<:AutomotiveSensors.AbstractNoiseModel, Array{Array{Records.Entity{AutomotiveDrivingModels.VehicleState, AutomotiveDrivingModels.VehicleDef, Int64}, 1}, 1}, Array{Float64, 1}, Array{Base.Dict{Int64, POMDPModelTools.SparseCat{Array{PedestrianAvoidancePOMDP.SingleOCFState, 1}, Array{Float64, 1}}}, 1}, Array{Records.Entity{AutomotiveDrivingModels.VehicleState, AutomotiveDrivingModels.VehicleDef, Int64}, 1}, Array{PedestrianAvoidancePOMDP.SingleOCFAction, 1}) in module PedestrianAvoidancePOMDP at /home/markuss/.julia/packages/PedestrianAvoidancePOMDP/xWTEk/src/rendering.jl:33 overwritten at /home/markuss/.julia/packages/PedestrianAvoidancePOMDP/xWTEk/src/rendering.jl:61.\n",
      "      From worker 21:\tWARNING: Method definition animate_record(Records.QueueRecord{Records.Entity{AutomotiveDrivingModels.VehicleState, AutomotiveDrivingModels.VehicleDef, Int64}}, Float64, AutomotivePOMDPs.CrosswalkEnv, AutomotiveSensors.GaussianSensor{P, V} where V<:AutomotiveSensors.AbstractNoiseModel where P<:AutomotiveSensors.AbstractNoiseModel, Array{Array{Records.Entity{AutomotiveDrivingModels.VehicleState, AutomotiveDrivingModels.VehicleDef, Int64}, 1}, 1}, Array{Float64, 1}, Array{Base.Dict{Int64, POMDPModelTools.SparseCat{Array{PedestrianAvoidancePOMDP.SingleOCFState, 1}, Array{Float64, 1}}}, 1}, Array{Records.Entity{AutomotiveDrivingModels.VehicleState, AutomotiveDrivingModels.VehicleDef, Int64}, 1}, Array{PedestrianAvoidancePOMDP.SingleOCFAction, 1}, Any) in module PedestrianAvoidancePOMDP at /home/markuss/.julia/packages/PedestrianAvoidancePOMDP/xWTEk/src/rendering.jl:33 overwritten at /home/markuss/.julia/packages/PedestrianAvoidancePOMDP/xWTEk/src/rendering.jl:61.\n",
      "      From worker 39:\tWARNING: Method definition animate_record(Records.QueueRecord{Records.Entity{AutomotiveDrivingModels.VehicleState, AutomotiveDrivingModels.VehicleDef, Int64}}, Float64, AutomotivePOMDPs.CrosswalkEnv, AutomotiveSensors.GaussianSensor{P, V} where V<:AutomotiveSensors.AbstractNoiseModel where P<:AutomotiveSensors.AbstractNoiseModel, Array{Array{Records.Entity{AutomotiveDrivingModels.VehicleState, AutomotiveDrivingModels.VehicleDef, Int64}, 1}, 1}, Array{Float64, 1}, Array{Base.Dict{Int64, POMDPModelTools.SparseCat{Array{PedestrianAvoidancePOMDP.SingleOCFState, 1}, Array{Float64, 1}}}, 1}, Array{Records.Entity{AutomotiveDrivingModels.VehicleState, AutomotiveDrivingModels.VehicleDef, Int64}, 1}, Array{PedestrianAvoidancePOMDP.SingleOCFAction, 1}) in module PedestrianAvoidancePOMDP at /home/markuss/.julia/packages/PedestrianAvoidancePOMDP/xWTEk/src/rendering.jl:33 overwritten at /home/markuss/.julia/packages/PedestrianAvoidancePOMDP/xWTEk/src/rendering.jl:61.\n",
      "      From worker 39:\tWARNING: Method definition animate_record(Records.QueueRecord{Records.Entity{AutomotiveDrivingModels.VehicleState, AutomotiveDrivingModels.VehicleDef, Int64}}, Float64, AutomotivePOMDPs.CrosswalkEnv, AutomotiveSensors.GaussianSensor{P, V} where V<:AutomotiveSensors.AbstractNoiseModel where P<:AutomotiveSensors.AbstractNoiseModel, Array{Array{Records.Entity{AutomotiveDrivingModels.VehicleState, AutomotiveDrivingModels.VehicleDef, Int64}, 1}, 1}, Array{Float64, 1}, Array{Base.Dict{Int64, POMDPModelTools.SparseCat{Array{PedestrianAvoidancePOMDP.SingleOCFState, 1}, Array{Float64, 1}}}, 1}, Array{Records.Entity{AutomotiveDrivingModels.VehicleState, AutomotiveDrivingModels.VehicleDef, Int64}, 1}, Array{PedestrianAvoidancePOMDP.SingleOCFAction, 1}, Any) in module PedestrianAvoidancePOMDP at /home/markuss/.julia/packages/PedestrianAvoidancePOMDP/xWTEk/src/rendering.jl:33 overwritten at /home/markuss/.julia/packages/PedestrianAvoidancePOMDP/xWTEk/src/rendering.jl:61.\n",
      "      From worker 26:\tWARNING: Method definition animate_record(Records.QueueRecord{Records.Entity{AutomotiveDrivingModels.VehicleState, AutomotiveDrivingModels.VehicleDef, Int64}}, Float64, AutomotivePOMDPs.CrosswalkEnv, AutomotiveSensors.GaussianSensor{P, V} where V<:AutomotiveSensors.AbstractNoiseModel where P<:AutomotiveSensors.AbstractNoiseModel, Array{Array{Records.Entity{AutomotiveDrivingModels.VehicleState, AutomotiveDrivingModels.VehicleDef, Int64}, 1}, 1}, Array{Float64, 1}, Array{Base.Dict{Int64, POMDPModelTools.SparseCat{Array{PedestrianAvoidancePOMDP.SingleOCFState, 1}, Array{Float64, 1}}}, 1}, Array{Records.Entity{AutomotiveDrivingModels.VehicleState, AutomotiveDrivingModels.VehicleDef, Int64}, 1}, Array{PedestrianAvoidancePOMDP.SingleOCFAction, 1}) in module PedestrianAvoidancePOMDP at /home/markuss/.julia/packages/PedestrianAvoidancePOMDP/xWTEk/src/rendering.jl:33 overwritten at /home/markuss/.julia/packages/PedestrianAvoidancePOMDP/xWTEk/src/rendering.jl:61.\n",
      "      From worker 26:\tWARNING: Method definition animate_record(Records.QueueRecord{Records.Entity{AutomotiveDrivingModels.VehicleState, AutomotiveDrivingModels.VehicleDef, Int64}}, Float64, AutomotivePOMDPs.CrosswalkEnv, AutomotiveSensors.GaussianSensor{P, V} where V<:AutomotiveSensors.AbstractNoiseModel where P<:AutomotiveSensors.AbstractNoiseModel, Array{Array{Records.Entity{AutomotiveDrivingModels.VehicleState, AutomotiveDrivingModels.VehicleDef, Int64}, 1}, 1}, Array{Float64, 1}, Array{Base.Dict{Int64, POMDPModelTools.SparseCat{Array{PedestrianAvoidancePOMDP.SingleOCFState, 1}, Array{Float64, 1}}}, 1}, Array{Records.Entity{AutomotiveDrivingModels.VehicleState, AutomotiveDrivingModels.VehicleDef, Int64}, 1}, Array{PedestrianAvoidancePOMDP.SingleOCFAction, 1}, Any) in module PedestrianAvoidancePOMDP at /home/markuss/.julia/packages/PedestrianAvoidancePOMDP/xWTEk/src/rendering.jl:33 overwritten at /home/markuss/.julia/packages/PedestrianAvoidancePOMDP/xWTEk/src/rendering.jl:61.\n"
     ]
    },
    {
     "name": "stdout",
     "output_type": "stream",
     "text": [
      "      From worker 37:\tWARNING: Method definition animate_record(Records.QueueRecord{Records.Entity{AutomotiveDrivingModels.VehicleState, AutomotiveDrivingModels.VehicleDef, Int64}}, Float64, AutomotivePOMDPs.CrosswalkEnv, AutomotiveSensors.GaussianSensor{P, V} where V<:AutomotiveSensors.AbstractNoiseModel where P<:AutomotiveSensors.AbstractNoiseModel, Array{Array{Records.Entity{AutomotiveDrivingModels.VehicleState, AutomotiveDrivingModels.VehicleDef, Int64}, 1}, 1}, Array{Float64, 1}, Array{Base.Dict{Int64, POMDPModelTools.SparseCat{Array{PedestrianAvoidancePOMDP.SingleOCFState, 1}, Array{Float64, 1}}}, 1}, Array{Records.Entity{AutomotiveDrivingModels.VehicleState, AutomotiveDrivingModels.VehicleDef, Int64}, 1}, Array{PedestrianAvoidancePOMDP.SingleOCFAction, 1}) in module PedestrianAvoidancePOMDP at /home/markuss/.julia/packages/PedestrianAvoidancePOMDP/xWTEk/src/rendering.jl:33 overwritten at /home/markuss/.julia/packages/PedestrianAvoidancePOMDP/xWTEk/src/rendering.jl:61.\n",
      "      From worker 37:\tWARNING: Method definition animate_record(Records.QueueRecord{Records.Entity{AutomotiveDrivingModels.VehicleState, AutomotiveDrivingModels.VehicleDef, Int64}}, Float64, AutomotivePOMDPs.CrosswalkEnv, AutomotiveSensors.GaussianSensor{P, V} where V<:AutomotiveSensors.AbstractNoiseModel where P<:AutomotiveSensors.AbstractNoiseModel, Array{Array{Records.Entity{AutomotiveDrivingModels.VehicleState, AutomotiveDrivingModels.VehicleDef, Int64}, 1}, 1}, Array{Float64, 1}, Array{Base.Dict{Int64, POMDPModelTools.SparseCat{Array{PedestrianAvoidancePOMDP.SingleOCFState, 1}, Array{Float64, 1}}}, 1}, Array{Records.Entity{AutomotiveDrivingModels.VehicleState, AutomotiveDrivingModels.VehicleDef, Int64}, 1}, Array{PedestrianAvoidancePOMDP.SingleOCFAction, 1}, Any) in module PedestrianAvoidancePOMDP at /home/markuss/.julia/packages/PedestrianAvoidancePOMDP/xWTEk/src/rendering.jl:33 overwritten at /home/markuss/.julia/packages/PedestrianAvoidancePOMDP/xWTEk/src/rendering.jl:61.\n",
      "      From worker 23:\tWARNING: Method definition animate_record(Records.QueueRecord{Records.Entity{AutomotiveDrivingModels.VehicleState, AutomotiveDrivingModels.VehicleDef, Int64}}, Float64, AutomotivePOMDPs.CrosswalkEnv, AutomotiveSensors.GaussianSensor{P, V} where V<:AutomotiveSensors.AbstractNoiseModel where P<:AutomotiveSensors.AbstractNoiseModel, Array{Array{Records.Entity{AutomotiveDrivingModels.VehicleState, AutomotiveDrivingModels.VehicleDef, Int64}, 1}, 1}, Array{Float64, 1}, Array{Base.Dict{Int64, POMDPModelTools.SparseCat{Array{PedestrianAvoidancePOMDP.SingleOCFState, 1}, Array{Float64, 1}}}, 1}, Array{Records.Entity{AutomotiveDrivingModels.VehicleState, AutomotiveDrivingModels.VehicleDef, Int64}, 1}, Array{PedestrianAvoidancePOMDP.SingleOCFAction, 1}) in module PedestrianAvoidancePOMDP at /home/markuss/.julia/packages/PedestrianAvoidancePOMDP/xWTEk/src/rendering.jl:33 overwritten at /home/markuss/.julia/packages/PedestrianAvoidancePOMDP/xWTEk/src/rendering.jl:61.\n",
      "      From worker 23:\tWARNING: Method definition animate_record(Records.QueueRecord{Records.Entity{AutomotiveDrivingModels.VehicleState, AutomotiveDrivingModels.VehicleDef, Int64}}, Float64, AutomotivePOMDPs.CrosswalkEnv, AutomotiveSensors.GaussianSensor{P, V} where V<:AutomotiveSensors.AbstractNoiseModel where P<:AutomotiveSensors.AbstractNoiseModel, Array{Array{Records.Entity{AutomotiveDrivingModels.VehicleState, AutomotiveDrivingModels.VehicleDef, Int64}, 1}, 1}, Array{Float64, 1}, Array{Base.Dict{Int64, POMDPModelTools.SparseCat{Array{PedestrianAvoidancePOMDP.SingleOCFState, 1}, Array{Float64, 1}}}, 1}, Array{Records.Entity{AutomotiveDrivingModels.VehicleState, AutomotiveDrivingModels.VehicleDef, Int64}, 1}, Array{PedestrianAvoidancePOMDP.SingleOCFAction, 1}, Any) in module PedestrianAvoidancePOMDP at /home/markuss/.julia/packages/PedestrianAvoidancePOMDP/xWTEk/src/rendering.jl:33 overwritten at /home/markuss/.julia/packages/PedestrianAvoidancePOMDP/xWTEk/src/rendering.jl:61.\n",
      "      From worker 14:\tWARNING: Method definition animate_record(Records.QueueRecord{Records.Entity{AutomotiveDrivingModels.VehicleState, AutomotiveDrivingModels.VehicleDef, Int64}}, Float64, AutomotivePOMDPs.CrosswalkEnv, AutomotiveSensors.GaussianSensor{P, V} where V<:AutomotiveSensors.AbstractNoiseModel where P<:AutomotiveSensors.AbstractNoiseModel, Array{Array{Records.Entity{AutomotiveDrivingModels.VehicleState, AutomotiveDrivingModels.VehicleDef, Int64}, 1}, 1}, Array{Float64, 1}, Array{Base.Dict{Int64, POMDPModelTools.SparseCat{Array{PedestrianAvoidancePOMDP.SingleOCFState, 1}, Array{Float64, 1}}}, 1}, Array{Records.Entity{AutomotiveDrivingModels.VehicleState, AutomotiveDrivingModels.VehicleDef, Int64}, 1}, Array{PedestrianAvoidancePOMDP.SingleOCFAction, 1}) in module PedestrianAvoidancePOMDP at /home/markuss/.julia/packages/PedestrianAvoidancePOMDP/xWTEk/src/rendering.jl:33 overwritten at /home/markuss/.julia/packages/PedestrianAvoidancePOMDP/xWTEk/src/rendering.jl:61.\n",
      "      From worker 14:\tWARNING: Method definition animate_record(Records.QueueRecord{Records.Entity{AutomotiveDrivingModels.VehicleState, AutomotiveDrivingModels.VehicleDef, Int64}}, Float64, AutomotivePOMDPs.CrosswalkEnv, AutomotiveSensors.GaussianSensor{P, V} where V<:AutomotiveSensors.AbstractNoiseModel where P<:AutomotiveSensors.AbstractNoiseModel, Array{Array{Records.Entity{AutomotiveDrivingModels.VehicleState, AutomotiveDrivingModels.VehicleDef, Int64}, 1}, 1}, Array{Float64, 1}, Array{Base.Dict{Int64, POMDPModelTools.SparseCat{Array{PedestrianAvoidancePOMDP.SingleOCFState, 1}, Array{Float64, 1}}}, 1}, Array{Records.Entity{AutomotiveDrivingModels.VehicleState, AutomotiveDrivingModels.VehicleDef, Int64}, 1}, Array{PedestrianAvoidancePOMDP.SingleOCFAction, 1}, Any) in module PedestrianAvoidancePOMDP at /home/markuss/.julia/packages/PedestrianAvoidancePOMDP/xWTEk/src/rendering.jl:33 overwritten at /home/markuss/.julia/packages/PedestrianAvoidancePOMDP/xWTEk/src/rendering.jl:61.\n",
      "      From worker 18:\tWARNING: Method definition animate_record(Records.QueueRecord{Records.Entity{AutomotiveDrivingModels.VehicleState, AutomotiveDrivingModels.VehicleDef, Int64}}, Float64, AutomotivePOMDPs.CrosswalkEnv, AutomotiveSensors.GaussianSensor{P, V} where V<:AutomotiveSensors.AbstractNoiseModel where P<:AutomotiveSensors.AbstractNoiseModel, Array{Array{Records.Entity{AutomotiveDrivingModels.VehicleState, AutomotiveDrivingModels.VehicleDef, Int64}, 1}, 1}, Array{Float64, 1}, Array{Base.Dict{Int64, POMDPModelTools.SparseCat{Array{PedestrianAvoidancePOMDP.SingleOCFState, 1}, Array{Float64, 1}}}, 1}, Array{Records.Entity{AutomotiveDrivingModels.VehicleState, AutomotiveDrivingModels.VehicleDef, Int64}, 1}, Array{PedestrianAvoidancePOMDP.SingleOCFAction, 1}) in module PedestrianAvoidancePOMDP at /home/markuss/.julia/packages/PedestrianAvoidancePOMDP/xWTEk/src/rendering.jl:33 overwritten at /home/markuss/.julia/packages/PedestrianAvoidancePOMDP/xWTEk/src/rendering.jl:61.\n",
      "      From worker 18:\tWARNING: Method definition animate_record(Records.QueueRecord{Records.Entity{AutomotiveDrivingModels.VehicleState, AutomotiveDrivingModels.VehicleDef, Int64}}, Float64, AutomotivePOMDPs.CrosswalkEnv, AutomotiveSensors.GaussianSensor{P, V} where V<:AutomotiveSensors.AbstractNoiseModel where P<:AutomotiveSensors.AbstractNoiseModel, Array{Array{Records.Entity{AutomotiveDrivingModels.VehicleState, AutomotiveDrivingModels.VehicleDef, Int64}, 1}, 1}, Array{Float64, 1}, Array{Base.Dict{Int64, POMDPModelTools.SparseCat{Array{PedestrianAvoidancePOMDP.SingleOCFState, 1}, Array{Float64, 1}}}, 1}, Array{Records.Entity{AutomotiveDrivingModels.VehicleState, AutomotiveDrivingModels.VehicleDef, Int64}, 1}, Array{PedestrianAvoidancePOMDP.SingleOCFAction, 1}, Any) in module PedestrianAvoidancePOMDP at /home/markuss/.julia/packages/PedestrianAvoidancePOMDP/xWTEk/src/rendering.jl:33 overwritten at /home/markuss/.julia/packages/PedestrianAvoidancePOMDP/xWTEk/src/rendering.jl:61.\n",
      "      From worker 38:\tWARNING: Method definition animate_record(Records.QueueRecord{Records.Entity{AutomotiveDrivingModels.VehicleState, AutomotiveDrivingModels.VehicleDef, Int64}}, Float64, AutomotivePOMDPs.CrosswalkEnv, AutomotiveSensors.GaussianSensor{P, V} where V<:AutomotiveSensors.AbstractNoiseModel where P<:AutomotiveSensors.AbstractNoiseModel, Array{Array{Records.Entity{AutomotiveDrivingModels.VehicleState, AutomotiveDrivingModels.VehicleDef, Int64}, 1}, 1}, Array{Float64, 1}, Array{Base.Dict{Int64, POMDPModelTools.SparseCat{Array{PedestrianAvoidancePOMDP.SingleOCFState, 1}, Array{Float64, 1}}}, 1}, Array{Records.Entity{AutomotiveDrivingModels.VehicleState, AutomotiveDrivingModels.VehicleDef, Int64}, 1}, Array{PedestrianAvoidancePOMDP.SingleOCFAction, 1}) in module PedestrianAvoidancePOMDP at /home/markuss/.julia/packages/PedestrianAvoidancePOMDP/xWTEk/src/rendering.jl:33 overwritten at /home/markuss/.julia/packages/PedestrianAvoidancePOMDP/xWTEk/src/rendering.jl:61.\n",
      "      From worker 38:\tWARNING: Method definition animate_record(Records.QueueRecord{Records.Entity{AutomotiveDrivingModels.VehicleState, AutomotiveDrivingModels.VehicleDef, Int64}}, Float64, AutomotivePOMDPs.CrosswalkEnv, AutomotiveSensors.GaussianSensor{P, V} where V<:AutomotiveSensors.AbstractNoiseModel where P<:AutomotiveSensors.AbstractNoiseModel, Array{Array{Records.Entity{AutomotiveDrivingModels.VehicleState, AutomotiveDrivingModels.VehicleDef, Int64}, 1}, 1}, Array{Float64, 1}, Array{Base.Dict{Int64, POMDPModelTools.SparseCat{Array{PedestrianAvoidancePOMDP.SingleOCFState, 1}, Array{Float64, 1}}}, 1}, Array{Records.Entity{AutomotiveDrivingModels.VehicleState, AutomotiveDrivingModels.VehicleDef, Int64}, 1}, Array{PedestrianAvoidancePOMDP.SingleOCFAction, 1}, Any) in module PedestrianAvoidancePOMDP at /home/markuss/.julia/packages/PedestrianAvoidancePOMDP/xWTEk/src/rendering.jl:33 overwritten at /home/markuss/.julia/packages/PedestrianAvoidancePOMDP/xWTEk/src/rendering.jl:61.\n",
      "      From worker 19:\tWARNING: Method definition animate_record(Records.QueueRecord{Records.Entity{AutomotiveDrivingModels.VehicleState, AutomotiveDrivingModels.VehicleDef, Int64}}, Float64, AutomotivePOMDPs.CrosswalkEnv, AutomotiveSensors.GaussianSensor{P, V} where V<:AutomotiveSensors.AbstractNoiseModel where P<:AutomotiveSensors.AbstractNoiseModel, Array{Array{Records.Entity{AutomotiveDrivingModels.VehicleState, AutomotiveDrivingModels.VehicleDef, Int64}, 1}, 1}, Array{Float64, 1}, Array{Base.Dict{Int64, POMDPModelTools.SparseCat{Array{PedestrianAvoidancePOMDP.SingleOCFState, 1}, Array{Float64, 1}}}, 1}, Array{Records.Entity{AutomotiveDrivingModels.VehicleState, AutomotiveDrivingModels.VehicleDef, Int64}, 1}, Array{PedestrianAvoidancePOMDP.SingleOCFAction, 1}) in module PedestrianAvoidancePOMDP at /home/markuss/.julia/packages/PedestrianAvoidancePOMDP/xWTEk/src/rendering.jl:33 overwritten at /home/markuss/.julia/packages/PedestrianAvoidancePOMDP/xWTEk/src/rendering.jl:61.\n",
      "      From worker 19:\tWARNING: Method definition animate_record(Records.QueueRecord{Records.Entity{AutomotiveDrivingModels.VehicleState, AutomotiveDrivingModels.VehicleDef, Int64}}, Float64, AutomotivePOMDPs.CrosswalkEnv, AutomotiveSensors.GaussianSensor{P, V} where V<:AutomotiveSensors.AbstractNoiseModel where P<:AutomotiveSensors.AbstractNoiseModel, Array{Array{Records.Entity{AutomotiveDrivingModels.VehicleState, AutomotiveDrivingModels.VehicleDef, Int64}, 1}, 1}, Array{Float64, 1}, Array{Base.Dict{Int64, POMDPModelTools.SparseCat{Array{PedestrianAvoidancePOMDP.SingleOCFState, 1}, Array{Float64, 1}}}, 1}, Array{Records.Entity{AutomotiveDrivingModels.VehicleState, AutomotiveDrivingModels.VehicleDef, Int64}, 1}, Array{PedestrianAvoidancePOMDP.SingleOCFAction, 1}, Any) in module PedestrianAvoidancePOMDP at /home/markuss/.julia/packages/PedestrianAvoidancePOMDP/xWTEk/src/rendering.jl:33 overwritten at /home/markuss/.julia/packages/PedestrianAvoidancePOMDP/xWTEk/src/rendering.jl:61.\n",
      "      From worker 30:\tWARNING: Method definition animate_record(Records.QueueRecord{Records.Entity{AutomotiveDrivingModels.VehicleState, AutomotiveDrivingModels.VehicleDef, Int64}}, Float64, AutomotivePOMDPs.CrosswalkEnv, AutomotiveSensors.GaussianSensor{P, V} where V<:AutomotiveSensors.AbstractNoiseModel where P<:AutomotiveSensors.AbstractNoiseModel, Array{Array{Records.Entity{AutomotiveDrivingModels.VehicleState, AutomotiveDrivingModels.VehicleDef, Int64}, 1}, 1}, Array{Float64, 1}, Array{Base.Dict{Int64, POMDPModelTools.SparseCat{Array{PedestrianAvoidancePOMDP.SingleOCFState, 1}, Array{Float64, 1}}}, 1}, Array{Records.Entity{AutomotiveDrivingModels.VehicleState, AutomotiveDrivingModels.VehicleDef, Int64}, 1}, Array{PedestrianAvoidancePOMDP.SingleOCFAction, 1}) in module PedestrianAvoidancePOMDP at /home/markuss/.julia/packages/PedestrianAvoidancePOMDP/xWTEk/src/rendering.jl:33 overwritten at /home/markuss/.julia/packages/PedestrianAvoidancePOMDP/xWTEk/src/rendering.jl:61.\n",
      "      From worker 30:\tWARNING: Method definition animate_record(Records.QueueRecord{Records.Entity{AutomotiveDrivingModels.VehicleState, AutomotiveDrivingModels.VehicleDef, Int64}}, Float64, AutomotivePOMDPs.CrosswalkEnv, AutomotiveSensors.GaussianSensor{P, V} where V<:AutomotiveSensors.AbstractNoiseModel where P<:AutomotiveSensors.AbstractNoiseModel, Array{Array{Records.Entity{AutomotiveDrivingModels.VehicleState, AutomotiveDrivingModels.VehicleDef, Int64}, 1}, 1}, Array{Float64, 1}, Array{Base.Dict{Int64, POMDPModelTools.SparseCat{Array{PedestrianAvoidancePOMDP.SingleOCFState, 1}, Array{Float64, 1}}}, 1}, Array{Records.Entity{AutomotiveDrivingModels.VehicleState, AutomotiveDrivingModels.VehicleDef, Int64}, 1}, Array{PedestrianAvoidancePOMDP.SingleOCFAction, 1}, Any) in module PedestrianAvoidancePOMDP at /home/markuss/.julia/packages/PedestrianAvoidancePOMDP/xWTEk/src/rendering.jl:33 overwritten at /home/markuss/.julia/packages/PedestrianAvoidancePOMDP/xWTEk/src/rendering.jl:61.\n"
     ]
    },
    {
     "name": "stdout",
     "output_type": "stream",
     "text": [
      "      From worker 28:\tWARNING: Method definition animate_record(Records.QueueRecord{Records.Entity{AutomotiveDrivingModels.VehicleState, AutomotiveDrivingModels.VehicleDef, Int64}}, Float64, AutomotivePOMDPs.CrosswalkEnv, AutomotiveSensors.GaussianSensor{P, V} where V<:AutomotiveSensors.AbstractNoiseModel where P<:AutomotiveSensors.AbstractNoiseModel, Array{Array{Records.Entity{AutomotiveDrivingModels.VehicleState, AutomotiveDrivingModels.VehicleDef, Int64}, 1}, 1}, Array{Float64, 1}, Array{Base.Dict{Int64, POMDPModelTools.SparseCat{Array{PedestrianAvoidancePOMDP.SingleOCFState, 1}, Array{Float64, 1}}}, 1}, Array{Records.Entity{AutomotiveDrivingModels.VehicleState, AutomotiveDrivingModels.VehicleDef, Int64}, 1}, Array{PedestrianAvoidancePOMDP.SingleOCFAction, 1}) in module PedestrianAvoidancePOMDP at /home/markuss/.julia/packages/PedestrianAvoidancePOMDP/xWTEk/src/rendering.jl:33 overwritten at /home/markuss/.julia/packages/PedestrianAvoidancePOMDP/xWTEk/src/rendering.jl:61.\n",
      "      From worker 28:\tWARNING: Method definition animate_record(Records.QueueRecord{Records.Entity{AutomotiveDrivingModels.VehicleState, AutomotiveDrivingModels.VehicleDef, Int64}}, Float64, AutomotivePOMDPs.CrosswalkEnv, AutomotiveSensors.GaussianSensor{P, V} where V<:AutomotiveSensors.AbstractNoiseModel where P<:AutomotiveSensors.AbstractNoiseModel, Array{Array{Records.Entity{AutomotiveDrivingModels.VehicleState, AutomotiveDrivingModels.VehicleDef, Int64}, 1}, 1}, Array{Float64, 1}, Array{Base.Dict{Int64, POMDPModelTools.SparseCat{Array{PedestrianAvoidancePOMDP.SingleOCFState, 1}, Array{Float64, 1}}}, 1}, Array{Records.Entity{AutomotiveDrivingModels.VehicleState, AutomotiveDrivingModels.VehicleDef, Int64}, 1}, Array{PedestrianAvoidancePOMDP.SingleOCFAction, 1}, Any) in module PedestrianAvoidancePOMDP at /home/markuss/.julia/packages/PedestrianAvoidancePOMDP/xWTEk/src/rendering.jl:33 overwritten at /home/markuss/.julia/packages/PedestrianAvoidancePOMDP/xWTEk/src/rendering.jl:61.\n",
      "      From worker 40:\tWARNING: Method definition animate_record(Records.QueueRecord{Records.Entity{AutomotiveDrivingModels.VehicleState, AutomotiveDrivingModels.VehicleDef, Int64}}, Float64, AutomotivePOMDPs.CrosswalkEnv, AutomotiveSensors.GaussianSensor{P, V} where V<:AutomotiveSensors.AbstractNoiseModel where P<:AutomotiveSensors.AbstractNoiseModel, Array{Array{Records.Entity{AutomotiveDrivingModels.VehicleState, AutomotiveDrivingModels.VehicleDef, Int64}, 1}, 1}, Array{Float64, 1}, Array{Base.Dict{Int64, POMDPModelTools.SparseCat{Array{PedestrianAvoidancePOMDP.SingleOCFState, 1}, Array{Float64, 1}}}, 1}, Array{Records.Entity{AutomotiveDrivingModels.VehicleState, AutomotiveDrivingModels.VehicleDef, Int64}, 1}, Array{PedestrianAvoidancePOMDP.SingleOCFAction, 1}) in module PedestrianAvoidancePOMDP at /home/markuss/.julia/packages/PedestrianAvoidancePOMDP/xWTEk/src/rendering.jl:33 overwritten at /home/markuss/.julia/packages/PedestrianAvoidancePOMDP/xWTEk/src/rendering.jl:61.\n",
      "      From worker 40:\tWARNING: Method definition animate_record(Records.QueueRecord{Records.Entity{AutomotiveDrivingModels.VehicleState, AutomotiveDrivingModels.VehicleDef, Int64}}, Float64, AutomotivePOMDPs.CrosswalkEnv, AutomotiveSensors.GaussianSensor{P, V} where V<:AutomotiveSensors.AbstractNoiseModel where P<:AutomotiveSensors.AbstractNoiseModel, Array{Array{Records.Entity{AutomotiveDrivingModels.VehicleState, AutomotiveDrivingModels.VehicleDef, Int64}, 1}, 1}, Array{Float64, 1}, Array{Base.Dict{Int64, POMDPModelTools.SparseCat{Array{PedestrianAvoidancePOMDP.SingleOCFState, 1}, Array{Float64, 1}}}, 1}, Array{Records.Entity{AutomotiveDrivingModels.VehicleState, AutomotiveDrivingModels.VehicleDef, Int64}, 1}, Array{PedestrianAvoidancePOMDP.SingleOCFAction, 1}, Any) in module PedestrianAvoidancePOMDP at /home/markuss/.julia/packages/PedestrianAvoidancePOMDP/xWTEk/src/rendering.jl:33 overwritten at /home/markuss/.julia/packages/PedestrianAvoidancePOMDP/xWTEk/src/rendering.jl:61.\n",
      "      From worker 17:\tWARNING: Method definition animate_record(Records.QueueRecord{Records.Entity{AutomotiveDrivingModels.VehicleState, AutomotiveDrivingModels.VehicleDef, Int64}}, Float64, AutomotivePOMDPs.CrosswalkEnv, AutomotiveSensors.GaussianSensor{P, V} where V<:AutomotiveSensors.AbstractNoiseModel where P<:AutomotiveSensors.AbstractNoiseModel, Array{Array{Records.Entity{AutomotiveDrivingModels.VehicleState, AutomotiveDrivingModels.VehicleDef, Int64}, 1}, 1}, Array{Float64, 1}, Array{Base.Dict{Int64, POMDPModelTools.SparseCat{Array{PedestrianAvoidancePOMDP.SingleOCFState, 1}, Array{Float64, 1}}}, 1}, Array{Records.Entity{AutomotiveDrivingModels.VehicleState, AutomotiveDrivingModels.VehicleDef, Int64}, 1}, Array{PedestrianAvoidancePOMDP.SingleOCFAction, 1}) in module PedestrianAvoidancePOMDP at /home/markuss/.julia/packages/PedestrianAvoidancePOMDP/xWTEk/src/rendering.jl:33 overwritten at /home/markuss/.julia/packages/PedestrianAvoidancePOMDP/xWTEk/src/rendering.jl:61.\n",
      "      From worker 17:\tWARNING: Method definition animate_record(Records.QueueRecord{Records.Entity{AutomotiveDrivingModels.VehicleState, AutomotiveDrivingModels.VehicleDef, Int64}}, Float64, AutomotivePOMDPs.CrosswalkEnv, AutomotiveSensors.GaussianSensor{P, V} where V<:AutomotiveSensors.AbstractNoiseModel where P<:AutomotiveSensors.AbstractNoiseModel, Array{Array{Records.Entity{AutomotiveDrivingModels.VehicleState, AutomotiveDrivingModels.VehicleDef, Int64}, 1}, 1}, Array{Float64, 1}, Array{Base.Dict{Int64, POMDPModelTools.SparseCat{Array{PedestrianAvoidancePOMDP.SingleOCFState, 1}, Array{Float64, 1}}}, 1}, Array{Records.Entity{AutomotiveDrivingModels.VehicleState, AutomotiveDrivingModels.VehicleDef, Int64}, 1}, Array{PedestrianAvoidancePOMDP.SingleOCFAction, 1}, Any) in module PedestrianAvoidancePOMDP at /home/markuss/.julia/packages/PedestrianAvoidancePOMDP/xWTEk/src/rendering.jl:33 overwritten at /home/markuss/.julia/packages/PedestrianAvoidancePOMDP/xWTEk/src/rendering.jl:61.\n",
      "      From worker 4:\tWARNING: Method definition animate_record(Records.QueueRecord{Records.Entity{AutomotiveDrivingModels.VehicleState, AutomotiveDrivingModels.VehicleDef, Int64}}, Float64, AutomotivePOMDPs.CrosswalkEnv, AutomotiveSensors.GaussianSensor{P, V} where V<:AutomotiveSensors.AbstractNoiseModel where P<:AutomotiveSensors.AbstractNoiseModel, Array{Array{Records.Entity{AutomotiveDrivingModels.VehicleState, AutomotiveDrivingModels.VehicleDef, Int64}, 1}, 1}, Array{Float64, 1}, Array{Base.Dict{Int64, POMDPModelTools.SparseCat{Array{PedestrianAvoidancePOMDP.SingleOCFState, 1}, Array{Float64, 1}}}, 1}, Array{Records.Entity{AutomotiveDrivingModels.VehicleState, AutomotiveDrivingModels.VehicleDef, Int64}, 1}, Array{PedestrianAvoidancePOMDP.SingleOCFAction, 1}) in module PedestrianAvoidancePOMDP at /home/markuss/.julia/packages/PedestrianAvoidancePOMDP/xWTEk/src/rendering.jl:33 overwritten at /home/markuss/.julia/packages/PedestrianAvoidancePOMDP/xWTEk/src/rendering.jl:61.\n",
      "      From worker 4:\tWARNING: Method definition animate_record(Records.QueueRecord{Records.Entity{AutomotiveDrivingModels.VehicleState, AutomotiveDrivingModels.VehicleDef, Int64}}, Float64, AutomotivePOMDPs.CrosswalkEnv, AutomotiveSensors.GaussianSensor{P, V} where V<:AutomotiveSensors.AbstractNoiseModel where P<:AutomotiveSensors.AbstractNoiseModel, Array{Array{Records.Entity{AutomotiveDrivingModels.VehicleState, AutomotiveDrivingModels.VehicleDef, Int64}, 1}, 1}, Array{Float64, 1}, Array{Base.Dict{Int64, POMDPModelTools.SparseCat{Array{PedestrianAvoidancePOMDP.SingleOCFState, 1}, Array{Float64, 1}}}, 1}, Array{Records.Entity{AutomotiveDrivingModels.VehicleState, AutomotiveDrivingModels.VehicleDef, Int64}, 1}, Array{PedestrianAvoidancePOMDP.SingleOCFAction, 1}, Any) in module PedestrianAvoidancePOMDP at /home/markuss/.julia/packages/PedestrianAvoidancePOMDP/xWTEk/src/rendering.jl:33 overwritten at /home/markuss/.julia/packages/PedestrianAvoidancePOMDP/xWTEk/src/rendering.jl:61.\n",
      "      From worker 31:\tWARNING: Method definition animate_record(Records.QueueRecord{Records.Entity{AutomotiveDrivingModels.VehicleState, AutomotiveDrivingModels.VehicleDef, Int64}}, Float64, AutomotivePOMDPs.CrosswalkEnv, AutomotiveSensors.GaussianSensor{P, V} where V<:AutomotiveSensors.AbstractNoiseModel where P<:AutomotiveSensors.AbstractNoiseModel, Array{Array{Records.Entity{AutomotiveDrivingModels.VehicleState, AutomotiveDrivingModels.VehicleDef, Int64}, 1}, 1}, Array{Float64, 1}, Array{Base.Dict{Int64, POMDPModelTools.SparseCat{Array{PedestrianAvoidancePOMDP.SingleOCFState, 1}, Array{Float64, 1}}}, 1}, Array{Records.Entity{AutomotiveDrivingModels.VehicleState, AutomotiveDrivingModels.VehicleDef, Int64}, 1}, Array{PedestrianAvoidancePOMDP.SingleOCFAction, 1}) in module PedestrianAvoidancePOMDP at /home/markuss/.julia/packages/PedestrianAvoidancePOMDP/xWTEk/src/rendering.jl:33 overwritten at /home/markuss/.julia/packages/PedestrianAvoidancePOMDP/xWTEk/src/rendering.jl:61.\n",
      "      From worker 31:\tWARNING: Method definition animate_record(Records.QueueRecord{Records.Entity{AutomotiveDrivingModels.VehicleState, AutomotiveDrivingModels.VehicleDef, Int64}}, Float64, AutomotivePOMDPs.CrosswalkEnv, AutomotiveSensors.GaussianSensor{P, V} where V<:AutomotiveSensors.AbstractNoiseModel where P<:AutomotiveSensors.AbstractNoiseModel, Array{Array{Records.Entity{AutomotiveDrivingModels.VehicleState, AutomotiveDrivingModels.VehicleDef, Int64}, 1}, 1}, Array{Float64, 1}, Array{Base.Dict{Int64, POMDPModelTools.SparseCat{Array{PedestrianAvoidancePOMDP.SingleOCFState, 1}, Array{Float64, 1}}}, 1}, Array{Records.Entity{AutomotiveDrivingModels.VehicleState, AutomotiveDrivingModels.VehicleDef, Int64}, 1}, Array{PedestrianAvoidancePOMDP.SingleOCFAction, 1}, Any) in module PedestrianAvoidancePOMDP at /home/markuss/.julia/packages/PedestrianAvoidancePOMDP/xWTEk/src/rendering.jl:33 overwritten at /home/markuss/.julia/packages/PedestrianAvoidancePOMDP/xWTEk/src/rendering.jl:61.\n",
      "      From worker 52:\tWARNING: Method definition animate_record(Records.QueueRecord{Records.Entity{AutomotiveDrivingModels.VehicleState, AutomotiveDrivingModels.VehicleDef, Int64}}, Float64, AutomotivePOMDPs.CrosswalkEnv, AutomotiveSensors.GaussianSensor{P, V} where V<:AutomotiveSensors.AbstractNoiseModel where P<:AutomotiveSensors.AbstractNoiseModel, Array{Array{Records.Entity{AutomotiveDrivingModels.VehicleState, AutomotiveDrivingModels.VehicleDef, Int64}, 1}, 1}, Array{Float64, 1}, Array{Base.Dict{Int64, POMDPModelTools.SparseCat{Array{PedestrianAvoidancePOMDP.SingleOCFState, 1}, Array{Float64, 1}}}, 1}, Array{Records.Entity{AutomotiveDrivingModels.VehicleState, AutomotiveDrivingModels.VehicleDef, Int64}, 1}, Array{PedestrianAvoidancePOMDP.SingleOCFAction, 1}) in module PedestrianAvoidancePOMDP at /home/markuss/.julia/packages/PedestrianAvoidancePOMDP/xWTEk/src/rendering.jl:33 overwritten at /home/markuss/.julia/packages/PedestrianAvoidancePOMDP/xWTEk/src/rendering.jl:61.\n",
      "      From worker 52:\tWARNING: Method definition animate_record(Records.QueueRecord{Records.Entity{AutomotiveDrivingModels.VehicleState, AutomotiveDrivingModels.VehicleDef, Int64}}, Float64, AutomotivePOMDPs.CrosswalkEnv, AutomotiveSensors.GaussianSensor{P, V} where V<:AutomotiveSensors.AbstractNoiseModel where P<:AutomotiveSensors.AbstractNoiseModel, Array{Array{Records.Entity{AutomotiveDrivingModels.VehicleState, AutomotiveDrivingModels.VehicleDef, Int64}, 1}, 1}, Array{Float64, 1}, Array{Base.Dict{Int64, POMDPModelTools.SparseCat{Array{PedestrianAvoidancePOMDP.SingleOCFState, 1}, Array{Float64, 1}}}, 1}, Array{Records.Entity{AutomotiveDrivingModels.VehicleState, AutomotiveDrivingModels.VehicleDef, Int64}, 1}, Array{PedestrianAvoidancePOMDP.SingleOCFAction, 1}, Any) in module PedestrianAvoidancePOMDP at /home/markuss/.julia/packages/PedestrianAvoidancePOMDP/xWTEk/src/rendering.jl:33 overwritten at /home/markuss/.julia/packages/PedestrianAvoidancePOMDP/xWTEk/src/rendering.jl:61.\n",
      "      From worker 8:\tWARNING: Method definition animate_record(Records.QueueRecord{Records.Entity{AutomotiveDrivingModels.VehicleState, AutomotiveDrivingModels.VehicleDef, Int64}}, Float64, AutomotivePOMDPs.CrosswalkEnv, AutomotiveSensors.GaussianSensor{P, V} where V<:AutomotiveSensors.AbstractNoiseModel where P<:AutomotiveSensors.AbstractNoiseModel, Array{Array{Records.Entity{AutomotiveDrivingModels.VehicleState, AutomotiveDrivingModels.VehicleDef, Int64}, 1}, 1}, Array{Float64, 1}, Array{Base.Dict{Int64, POMDPModelTools.SparseCat{Array{PedestrianAvoidancePOMDP.SingleOCFState, 1}, Array{Float64, 1}}}, 1}, Array{Records.Entity{AutomotiveDrivingModels.VehicleState, AutomotiveDrivingModels.VehicleDef, Int64}, 1}, Array{PedestrianAvoidancePOMDP.SingleOCFAction, 1}) in module PedestrianAvoidancePOMDP at /home/markuss/.julia/packages/PedestrianAvoidancePOMDP/xWTEk/src/rendering.jl:33 overwritten at /home/markuss/.julia/packages/PedestrianAvoidancePOMDP/xWTEk/src/rendering.jl:61.\n",
      "      From worker 8:\tWARNING: Method definition animate_record(Records.QueueRecord{Records.Entity{AutomotiveDrivingModels.VehicleState, AutomotiveDrivingModels.VehicleDef, Int64}}, Float64, AutomotivePOMDPs.CrosswalkEnv, AutomotiveSensors.GaussianSensor{P, V} where V<:AutomotiveSensors.AbstractNoiseModel where P<:AutomotiveSensors.AbstractNoiseModel, Array{Array{Records.Entity{AutomotiveDrivingModels.VehicleState, AutomotiveDrivingModels.VehicleDef, Int64}, 1}, 1}, Array{Float64, 1}, Array{Base.Dict{Int64, POMDPModelTools.SparseCat{Array{PedestrianAvoidancePOMDP.SingleOCFState, 1}, Array{Float64, 1}}}, 1}, Array{Records.Entity{AutomotiveDrivingModels.VehicleState, AutomotiveDrivingModels.VehicleDef, Int64}, 1}, Array{PedestrianAvoidancePOMDP.SingleOCFAction, 1}, Any) in module PedestrianAvoidancePOMDP at /home/markuss/.julia/packages/PedestrianAvoidancePOMDP/xWTEk/src/rendering.jl:33 overwritten at /home/markuss/.julia/packages/PedestrianAvoidancePOMDP/xWTEk/src/rendering.jl:61.\n",
      "      From worker 57:\tWARNING: Method definition animate_record(Records.QueueRecord{Records.Entity{AutomotiveDrivingModels.VehicleState, AutomotiveDrivingModels.VehicleDef, Int64}}, Float64, AutomotivePOMDPs.CrosswalkEnv, AutomotiveSensors.GaussianSensor{P, V} where V<:AutomotiveSensors.AbstractNoiseModel where P<:AutomotiveSensors.AbstractNoiseModel, Array{Array{Records.Entity{AutomotiveDrivingModels.VehicleState, AutomotiveDrivingModels.VehicleDef, Int64}, 1}, 1}, Array{Float64, 1}, Array{Base.Dict{Int64, POMDPModelTools.SparseCat{Array{PedestrianAvoidancePOMDP.SingleOCFState, 1}, Array{Float64, 1}}}, 1}, Array{Records.Entity{AutomotiveDrivingModels.VehicleState, AutomotiveDrivingModels.VehicleDef, Int64}, 1}, Array{PedestrianAvoidancePOMDP.SingleOCFAction, 1}) in module PedestrianAvoidancePOMDP at /home/markuss/.julia/packages/PedestrianAvoidancePOMDP/xWTEk/src/rendering.jl:33 overwritten at /home/markuss/.julia/packages/PedestrianAvoidancePOMDP/xWTEk/src/rendering.jl:61.\n",
      "      From worker 57:\tWARNING: Method definition animate_record(Records.QueueRecord{Records.Entity{AutomotiveDrivingModels.VehicleState, AutomotiveDrivingModels.VehicleDef, Int64}}, Float64, AutomotivePOMDPs.CrosswalkEnv, AutomotiveSensors.GaussianSensor{P, V} where V<:AutomotiveSensors.AbstractNoiseModel where P<:AutomotiveSensors.AbstractNoiseModel, Array{Array{Records.Entity{AutomotiveDrivingModels.VehicleState, AutomotiveDrivingModels.VehicleDef, Int64}, 1}, 1}, Array{Float64, 1}, Array{Base.Dict{Int64, POMDPModelTools.SparseCat{Array{PedestrianAvoidancePOMDP.SingleOCFState, 1}, Array{Float64, 1}}}, 1}, Array{Records.Entity{AutomotiveDrivingModels.VehicleState, AutomotiveDrivingModels.VehicleDef, Int64}, 1}, Array{PedestrianAvoidancePOMDP.SingleOCFAction, 1}, Any) in module PedestrianAvoidancePOMDP at /home/markuss/.julia/packages/PedestrianAvoidancePOMDP/xWTEk/src/rendering.jl:33 overwritten at /home/markuss/.julia/packages/PedestrianAvoidancePOMDP/xWTEk/src/rendering.jl:61.\n"
     ]
    },
    {
     "name": "stdout",
     "output_type": "stream",
     "text": [
      "      From worker 56:\tWARNING: Method definition animate_record(Records.QueueRecord{Records.Entity{AutomotiveDrivingModels.VehicleState, AutomotiveDrivingModels.VehicleDef, Int64}}, Float64, AutomotivePOMDPs.CrosswalkEnv, AutomotiveSensors.GaussianSensor{P, V} where V<:AutomotiveSensors.AbstractNoiseModel where P<:AutomotiveSensors.AbstractNoiseModel, Array{Array{Records.Entity{AutomotiveDrivingModels.VehicleState, AutomotiveDrivingModels.VehicleDef, Int64}, 1}, 1}, Array{Float64, 1}, Array{Base.Dict{Int64, POMDPModelTools.SparseCat{Array{PedestrianAvoidancePOMDP.SingleOCFState, 1}, Array{Float64, 1}}}, 1}, Array{Records.Entity{AutomotiveDrivingModels.VehicleState, AutomotiveDrivingModels.VehicleDef, Int64}, 1}, Array{PedestrianAvoidancePOMDP.SingleOCFAction, 1}) in module PedestrianAvoidancePOMDP at /home/markuss/.julia/packages/PedestrianAvoidancePOMDP/xWTEk/src/rendering.jl:33 overwritten at /home/markuss/.julia/packages/PedestrianAvoidancePOMDP/xWTEk/src/rendering.jl:61.\n",
      "      From worker 56:\tWARNING: Method definition animate_record(Records.QueueRecord{Records.Entity{AutomotiveDrivingModels.VehicleState, AutomotiveDrivingModels.VehicleDef, Int64}}, Float64, AutomotivePOMDPs.CrosswalkEnv, AutomotiveSensors.GaussianSensor{P, V} where V<:AutomotiveSensors.AbstractNoiseModel where P<:AutomotiveSensors.AbstractNoiseModel, Array{Array{Records.Entity{AutomotiveDrivingModels.VehicleState, AutomotiveDrivingModels.VehicleDef, Int64}, 1}, 1}, Array{Float64, 1}, Array{Base.Dict{Int64, POMDPModelTools.SparseCat{Array{PedestrianAvoidancePOMDP.SingleOCFState, 1}, Array{Float64, 1}}}, 1}, Array{Records.Entity{AutomotiveDrivingModels.VehicleState, AutomotiveDrivingModels.VehicleDef, Int64}, 1}, Array{PedestrianAvoidancePOMDP.SingleOCFAction, 1}, Any) in module PedestrianAvoidancePOMDP at /home/markuss/.julia/packages/PedestrianAvoidancePOMDP/xWTEk/src/rendering.jl:33 overwritten at /home/markuss/.julia/packages/PedestrianAvoidancePOMDP/xWTEk/src/rendering.jl:61.\n",
      "      From worker 6:\tWARNING: Method definition animate_record(Records.QueueRecord{Records.Entity{AutomotiveDrivingModels.VehicleState, AutomotiveDrivingModels.VehicleDef, Int64}}, Float64, AutomotivePOMDPs.CrosswalkEnv, AutomotiveSensors.GaussianSensor{P, V} where V<:AutomotiveSensors.AbstractNoiseModel where P<:AutomotiveSensors.AbstractNoiseModel, Array{Array{Records.Entity{AutomotiveDrivingModels.VehicleState, AutomotiveDrivingModels.VehicleDef, Int64}, 1}, 1}, Array{Float64, 1}, Array{Base.Dict{Int64, POMDPModelTools.SparseCat{Array{PedestrianAvoidancePOMDP.SingleOCFState, 1}, Array{Float64, 1}}}, 1}, Array{Records.Entity{AutomotiveDrivingModels.VehicleState, AutomotiveDrivingModels.VehicleDef, Int64}, 1}, Array{PedestrianAvoidancePOMDP.SingleOCFAction, 1}) in module PedestrianAvoidancePOMDP at /home/markuss/.julia/packages/PedestrianAvoidancePOMDP/xWTEk/src/rendering.jl:33 overwritten at /home/markuss/.julia/packages/PedestrianAvoidancePOMDP/xWTEk/src/rendering.jl:61.\n",
      "      From worker 6:\tWARNING: Method definition animate_record(Records.QueueRecord{Records.Entity{AutomotiveDrivingModels.VehicleState, AutomotiveDrivingModels.VehicleDef, Int64}}, Float64, AutomotivePOMDPs.CrosswalkEnv, AutomotiveSensors.GaussianSensor{P, V} where V<:AutomotiveSensors.AbstractNoiseModel where P<:AutomotiveSensors.AbstractNoiseModel, Array{Array{Records.Entity{AutomotiveDrivingModels.VehicleState, AutomotiveDrivingModels.VehicleDef, Int64}, 1}, 1}, Array{Float64, 1}, Array{Base.Dict{Int64, POMDPModelTools.SparseCat{Array{PedestrianAvoidancePOMDP.SingleOCFState, 1}, Array{Float64, 1}}}, 1}, Array{Records.Entity{AutomotiveDrivingModels.VehicleState, AutomotiveDrivingModels.VehicleDef, Int64}, 1}, Array{PedestrianAvoidancePOMDP.SingleOCFAction, 1}, Any) in module PedestrianAvoidancePOMDP at /home/markuss/.julia/packages/PedestrianAvoidancePOMDP/xWTEk/src/rendering.jl:33 overwritten at /home/markuss/.julia/packages/PedestrianAvoidancePOMDP/xWTEk/src/rendering.jl:61.\n",
      "      From worker 48:\tWARNING: Method definition animate_record(Records.QueueRecord{Records.Entity{AutomotiveDrivingModels.VehicleState, AutomotiveDrivingModels.VehicleDef, Int64}}, Float64, AutomotivePOMDPs.CrosswalkEnv, AutomotiveSensors.GaussianSensor{P, V} where V<:AutomotiveSensors.AbstractNoiseModel where P<:AutomotiveSensors.AbstractNoiseModel, Array{Array{Records.Entity{AutomotiveDrivingModels.VehicleState, AutomotiveDrivingModels.VehicleDef, Int64}, 1}, 1}, Array{Float64, 1}, Array{Base.Dict{Int64, POMDPModelTools.SparseCat{Array{PedestrianAvoidancePOMDP.SingleOCFState, 1}, Array{Float64, 1}}}, 1}, Array{Records.Entity{AutomotiveDrivingModels.VehicleState, AutomotiveDrivingModels.VehicleDef, Int64}, 1}, Array{PedestrianAvoidancePOMDP.SingleOCFAction, 1}) in module PedestrianAvoidancePOMDP at /home/markuss/.julia/packages/PedestrianAvoidancePOMDP/xWTEk/src/rendering.jl:33 overwritten at /home/markuss/.julia/packages/PedestrianAvoidancePOMDP/xWTEk/src/rendering.jl:61.\n",
      "      From worker 48:\tWARNING: Method definition animate_record(Records.QueueRecord{Records.Entity{AutomotiveDrivingModels.VehicleState, AutomotiveDrivingModels.VehicleDef, Int64}}, Float64, AutomotivePOMDPs.CrosswalkEnv, AutomotiveSensors.GaussianSensor{P, V} where V<:AutomotiveSensors.AbstractNoiseModel where P<:AutomotiveSensors.AbstractNoiseModel, Array{Array{Records.Entity{AutomotiveDrivingModels.VehicleState, AutomotiveDrivingModels.VehicleDef, Int64}, 1}, 1}, Array{Float64, 1}, Array{Base.Dict{Int64, POMDPModelTools.SparseCat{Array{PedestrianAvoidancePOMDP.SingleOCFState, 1}, Array{Float64, 1}}}, 1}, Array{Records.Entity{AutomotiveDrivingModels.VehicleState, AutomotiveDrivingModels.VehicleDef, Int64}, 1}, Array{PedestrianAvoidancePOMDP.SingleOCFAction, 1}, Any) in module PedestrianAvoidancePOMDP at /home/markuss/.julia/packages/PedestrianAvoidancePOMDP/xWTEk/src/rendering.jl:33 overwritten at /home/markuss/.julia/packages/PedestrianAvoidancePOMDP/xWTEk/src/rendering.jl:61.\n",
      "      From worker 25:\tWARNING: Method definition animate_record(Records.QueueRecord{Records.Entity{AutomotiveDrivingModels.VehicleState, AutomotiveDrivingModels.VehicleDef, Int64}}, Float64, AutomotivePOMDPs.CrosswalkEnv, AutomotiveSensors.GaussianSensor{P, V} where V<:AutomotiveSensors.AbstractNoiseModel where P<:AutomotiveSensors.AbstractNoiseModel, Array{Array{Records.Entity{AutomotiveDrivingModels.VehicleState, AutomotiveDrivingModels.VehicleDef, Int64}, 1}, 1}, Array{Float64, 1}, Array{Base.Dict{Int64, POMDPModelTools.SparseCat{Array{PedestrianAvoidancePOMDP.SingleOCFState, 1}, Array{Float64, 1}}}, 1}, Array{Records.Entity{AutomotiveDrivingModels.VehicleState, AutomotiveDrivingModels.VehicleDef, Int64}, 1}, Array{PedestrianAvoidancePOMDP.SingleOCFAction, 1}) in module PedestrianAvoidancePOMDP at /home/markuss/.julia/packages/PedestrianAvoidancePOMDP/xWTEk/src/rendering.jl:33 overwritten at /home/markuss/.julia/packages/PedestrianAvoidancePOMDP/xWTEk/src/rendering.jl:61.\n",
      "      From worker 25:\tWARNING: Method definition animate_record(Records.QueueRecord{Records.Entity{AutomotiveDrivingModels.VehicleState, AutomotiveDrivingModels.VehicleDef, Int64}}, Float64, AutomotivePOMDPs.CrosswalkEnv, AutomotiveSensors.GaussianSensor{P, V} where V<:AutomotiveSensors.AbstractNoiseModel where P<:AutomotiveSensors.AbstractNoiseModel, Array{Array{Records.Entity{AutomotiveDrivingModels.VehicleState, AutomotiveDrivingModels.VehicleDef, Int64}, 1}, 1}, Array{Float64, 1}, Array{Base.Dict{Int64, POMDPModelTools.SparseCat{Array{PedestrianAvoidancePOMDP.SingleOCFState, 1}, Array{Float64, 1}}}, 1}, Array{Records.Entity{AutomotiveDrivingModels.VehicleState, AutomotiveDrivingModels.VehicleDef, Int64}, 1}, Array{PedestrianAvoidancePOMDP.SingleOCFAction, 1}, Any) in module PedestrianAvoidancePOMDP at /home/markuss/.julia/packages/PedestrianAvoidancePOMDP/xWTEk/src/rendering.jl:33 overwritten at /home/markuss/.julia/packages/PedestrianAvoidancePOMDP/xWTEk/src/rendering.jl:61.\n",
      "      From worker 22:\tWARNING: Method definition animate_record(Records.QueueRecord{Records.Entity{AutomotiveDrivingModels.VehicleState, AutomotiveDrivingModels.VehicleDef, Int64}}, Float64, AutomotivePOMDPs.CrosswalkEnv, AutomotiveSensors.GaussianSensor{P, V} where V<:AutomotiveSensors.AbstractNoiseModel where P<:AutomotiveSensors.AbstractNoiseModel, Array{Array{Records.Entity{AutomotiveDrivingModels.VehicleState, AutomotiveDrivingModels.VehicleDef, Int64}, 1}, 1}, Array{Float64, 1}, Array{Base.Dict{Int64, POMDPModelTools.SparseCat{Array{PedestrianAvoidancePOMDP.SingleOCFState, 1}, Array{Float64, 1}}}, 1}, Array{Records.Entity{AutomotiveDrivingModels.VehicleState, AutomotiveDrivingModels.VehicleDef, Int64}, 1}, Array{PedestrianAvoidancePOMDP.SingleOCFAction, 1}) in module PedestrianAvoidancePOMDP at /home/markuss/.julia/packages/PedestrianAvoidancePOMDP/xWTEk/src/rendering.jl:33 overwritten at /home/markuss/.julia/packages/PedestrianAvoidancePOMDP/xWTEk/src/rendering.jl:61.\n",
      "      From worker 22:\tWARNING: Method definition animate_record(Records.QueueRecord{Records.Entity{AutomotiveDrivingModels.VehicleState, AutomotiveDrivingModels.VehicleDef, Int64}}, Float64, AutomotivePOMDPs.CrosswalkEnv, AutomotiveSensors.GaussianSensor{P, V} where V<:AutomotiveSensors.AbstractNoiseModel where P<:AutomotiveSensors.AbstractNoiseModel, Array{Array{Records.Entity{AutomotiveDrivingModels.VehicleState, AutomotiveDrivingModels.VehicleDef, Int64}, 1}, 1}, Array{Float64, 1}, Array{Base.Dict{Int64, POMDPModelTools.SparseCat{Array{PedestrianAvoidancePOMDP.SingleOCFState, 1}, Array{Float64, 1}}}, 1}, Array{Records.Entity{AutomotiveDrivingModels.VehicleState, AutomotiveDrivingModels.VehicleDef, Int64}, 1}, Array{PedestrianAvoidancePOMDP.SingleOCFAction, 1}, Any) in module PedestrianAvoidancePOMDP at /home/markuss/.julia/packages/PedestrianAvoidancePOMDP/xWTEk/src/rendering.jl:33 overwritten at /home/markuss/.julia/packages/PedestrianAvoidancePOMDP/xWTEk/src/rendering.jl:61.\n"
     ]
    },
    {
     "name": "stdout",
     "output_type": "stream",
     "text": [
      "      From worker 41:\tWARNING: Method definition animate_record(Records.QueueRecord{Records.Entity{AutomotiveDrivingModels.VehicleState, AutomotiveDrivingModels.VehicleDef, Int64}}, Float64, AutomotivePOMDPs.CrosswalkEnv, AutomotiveSensors.GaussianSensor{P, V} where V<:AutomotiveSensors.AbstractNoiseModel where P<:AutomotiveSensors.AbstractNoiseModel, Array{Array{Records.Entity{AutomotiveDrivingModels.VehicleState, AutomotiveDrivingModels.VehicleDef, Int64}, 1}, 1}, Array{Float64, 1}, Array{Base.Dict{Int64, POMDPModelTools.SparseCat{Array{PedestrianAvoidancePOMDP.SingleOCFState, 1}, Array{Float64, 1}}}, 1}, Array{Records.Entity{AutomotiveDrivingModels.VehicleState, AutomotiveDrivingModels.VehicleDef, Int64}, 1}, Array{PedestrianAvoidancePOMDP.SingleOCFAction, 1}) in module PedestrianAvoidancePOMDP at /home/markuss/.julia/packages/PedestrianAvoidancePOMDP/xWTEk/src/rendering.jl:33 overwritten at /home/markuss/.julia/packages/PedestrianAvoidancePOMDP/xWTEk/src/rendering.jl:61.\n",
      "      From worker 41:\tWARNING: Method definition animate_record(Records.QueueRecord{Records.Entity{AutomotiveDrivingModels.VehicleState, AutomotiveDrivingModels.VehicleDef, Int64}}, Float64, AutomotivePOMDPs.CrosswalkEnv, AutomotiveSensors.GaussianSensor{P, V} where V<:AutomotiveSensors.AbstractNoiseModel where P<:AutomotiveSensors.AbstractNoiseModel, Array{Array{Records.Entity{AutomotiveDrivingModels.VehicleState, AutomotiveDrivingModels.VehicleDef, Int64}, 1}, 1}, Array{Float64, 1}, Array{Base.Dict{Int64, POMDPModelTools.SparseCat{Array{PedestrianAvoidancePOMDP.SingleOCFState, 1}, Array{Float64, 1}}}, 1}, Array{Records.Entity{AutomotiveDrivingModels.VehicleState, AutomotiveDrivingModels.VehicleDef, Int64}, 1}, Array{PedestrianAvoidancePOMDP.SingleOCFAction, 1}, Any) in module PedestrianAvoidancePOMDP at /home/markuss/.julia/packages/PedestrianAvoidancePOMDP/xWTEk/src/rendering.jl:33 overwritten at /home/markuss/.julia/packages/PedestrianAvoidancePOMDP/xWTEk/src/rendering.jl:61.\n",
      "      From worker 7:\tWARNING: Method definition animate_record(Records.QueueRecord{Records.Entity{AutomotiveDrivingModels.VehicleState, AutomotiveDrivingModels.VehicleDef, Int64}}, Float64, AutomotivePOMDPs.CrosswalkEnv, AutomotiveSensors.GaussianSensor{P, V} where V<:AutomotiveSensors.AbstractNoiseModel where P<:AutomotiveSensors.AbstractNoiseModel, Array{Array{Records.Entity{AutomotiveDrivingModels.VehicleState, AutomotiveDrivingModels.VehicleDef, Int64}, 1}, 1}, Array{Float64, 1}, Array{Base.Dict{Int64, POMDPModelTools.SparseCat{Array{PedestrianAvoidancePOMDP.SingleOCFState, 1}, Array{Float64, 1}}}, 1}, Array{Records.Entity{AutomotiveDrivingModels.VehicleState, AutomotiveDrivingModels.VehicleDef, Int64}, 1}, Array{PedestrianAvoidancePOMDP.SingleOCFAction, 1}) in module PedestrianAvoidancePOMDP at /home/markuss/.julia/packages/PedestrianAvoidancePOMDP/xWTEk/src/rendering.jl:33 overwritten at /home/markuss/.julia/packages/PedestrianAvoidancePOMDP/xWTEk/src/rendering.jl:61.\n",
      "      From worker 7:\tWARNING: Method definition animate_record(Records.QueueRecord{Records.Entity{AutomotiveDrivingModels.VehicleState, AutomotiveDrivingModels.VehicleDef, Int64}}, Float64, AutomotivePOMDPs.CrosswalkEnv, AutomotiveSensors.GaussianSensor{P, V} where V<:AutomotiveSensors.AbstractNoiseModel where P<:AutomotiveSensors.AbstractNoiseModel, Array{Array{Records.Entity{AutomotiveDrivingModels.VehicleState, AutomotiveDrivingModels.VehicleDef, Int64}, 1}, 1}, Array{Float64, 1}, Array{Base.Dict{Int64, POMDPModelTools.SparseCat{Array{PedestrianAvoidancePOMDP.SingleOCFState, 1}, Array{Float64, 1}}}, 1}, Array{Records.Entity{AutomotiveDrivingModels.VehicleState, AutomotiveDrivingModels.VehicleDef, Int64}, 1}, Array{PedestrianAvoidancePOMDP.SingleOCFAction, 1}, Any) in module PedestrianAvoidancePOMDP at /home/markuss/.julia/packages/PedestrianAvoidancePOMDP/xWTEk/src/rendering.jl:33 overwritten at /home/markuss/.julia/packages/PedestrianAvoidancePOMDP/xWTEk/src/rendering.jl:61.\n",
      "      From worker 55:\tWARNING: Method definition animate_record(Records.QueueRecord{Records.Entity{AutomotiveDrivingModels.VehicleState, AutomotiveDrivingModels.VehicleDef, Int64}}, Float64, AutomotivePOMDPs.CrosswalkEnv, AutomotiveSensors.GaussianSensor{P, V} where V<:AutomotiveSensors.AbstractNoiseModel where P<:AutomotiveSensors.AbstractNoiseModel, Array{Array{Records.Entity{AutomotiveDrivingModels.VehicleState, AutomotiveDrivingModels.VehicleDef, Int64}, 1}, 1}, Array{Float64, 1}, Array{Base.Dict{Int64, POMDPModelTools.SparseCat{Array{PedestrianAvoidancePOMDP.SingleOCFState, 1}, Array{Float64, 1}}}, 1}, Array{Records.Entity{AutomotiveDrivingModels.VehicleState, AutomotiveDrivingModels.VehicleDef, Int64}, 1}, Array{PedestrianAvoidancePOMDP.SingleOCFAction, 1}) in module PedestrianAvoidancePOMDP at /home/markuss/.julia/packages/PedestrianAvoidancePOMDP/xWTEk/src/rendering.jl:33 overwritten at /home/markuss/.julia/packages/PedestrianAvoidancePOMDP/xWTEk/src/rendering.jl:61.\n",
      "      From worker 55:\tWARNING: Method definition animate_record(Records.QueueRecord{Records.Entity{AutomotiveDrivingModels.VehicleState, AutomotiveDrivingModels.VehicleDef, Int64}}, Float64, AutomotivePOMDPs.CrosswalkEnv, AutomotiveSensors.GaussianSensor{P, V} where V<:AutomotiveSensors.AbstractNoiseModel where P<:AutomotiveSensors.AbstractNoiseModel, Array{Array{Records.Entity{AutomotiveDrivingModels.VehicleState, AutomotiveDrivingModels.VehicleDef, Int64}, 1}, 1}, Array{Float64, 1}, Array{Base.Dict{Int64, POMDPModelTools.SparseCat{Array{PedestrianAvoidancePOMDP.SingleOCFState, 1}, Array{Float64, 1}}}, 1}, Array{Records.Entity{AutomotiveDrivingModels.VehicleState, AutomotiveDrivingModels.VehicleDef, Int64}, 1}, Array{PedestrianAvoidancePOMDP.SingleOCFAction, 1}, Any) in module PedestrianAvoidancePOMDP at /home/markuss/.julia/packages/PedestrianAvoidancePOMDP/xWTEk/src/rendering.jl:33 overwritten at /home/markuss/.julia/packages/PedestrianAvoidancePOMDP/xWTEk/src/rendering.jl:61.\n",
      "      From worker 2:\tWARNING: Method definition animate_record(Records.QueueRecord{Records.Entity{AutomotiveDrivingModels.VehicleState, AutomotiveDrivingModels.VehicleDef, Int64}}, Float64, AutomotivePOMDPs.CrosswalkEnv, AutomotiveSensors.GaussianSensor{P, V} where V<:AutomotiveSensors.AbstractNoiseModel where P<:AutomotiveSensors.AbstractNoiseModel, Array{Array{Records.Entity{AutomotiveDrivingModels.VehicleState, AutomotiveDrivingModels.VehicleDef, Int64}, 1}, 1}, Array{Float64, 1}, Array{Base.Dict{Int64, POMDPModelTools.SparseCat{Array{PedestrianAvoidancePOMDP.SingleOCFState, 1}, Array{Float64, 1}}}, 1}, Array{Records.Entity{AutomotiveDrivingModels.VehicleState, AutomotiveDrivingModels.VehicleDef, Int64}, 1}, Array{PedestrianAvoidancePOMDP.SingleOCFAction, 1}) in module PedestrianAvoidancePOMDP at /home/markuss/.julia/packages/PedestrianAvoidancePOMDP/xWTEk/src/rendering.jl:33 overwritten at /home/markuss/.julia/packages/PedestrianAvoidancePOMDP/xWTEk/src/rendering.jl:61.\n",
      "      From worker 2:\tWARNING: Method definition animate_record(Records.QueueRecord{Records.Entity{AutomotiveDrivingModels.VehicleState, AutomotiveDrivingModels.VehicleDef, Int64}}, Float64, AutomotivePOMDPs.CrosswalkEnv, AutomotiveSensors.GaussianSensor{P, V} where V<:AutomotiveSensors.AbstractNoiseModel where P<:AutomotiveSensors.AbstractNoiseModel, Array{Array{Records.Entity{AutomotiveDrivingModels.VehicleState, AutomotiveDrivingModels.VehicleDef, Int64}, 1}, 1}, Array{Float64, 1}, Array{Base.Dict{Int64, POMDPModelTools.SparseCat{Array{PedestrianAvoidancePOMDP.SingleOCFState, 1}, Array{Float64, 1}}}, 1}, Array{Records.Entity{AutomotiveDrivingModels.VehicleState, AutomotiveDrivingModels.VehicleDef, Int64}, 1}, Array{PedestrianAvoidancePOMDP.SingleOCFAction, 1}, Any) in module PedestrianAvoidancePOMDP at /home/markuss/.julia/packages/PedestrianAvoidancePOMDP/xWTEk/src/rendering.jl:33 overwritten at /home/markuss/.julia/packages/PedestrianAvoidancePOMDP/xWTEk/src/rendering.jl:61.\n"
     ]
    },
    {
     "name": "stderr",
     "output_type": "stream",
     "text": [
      "┌ Warning: The call to compilecache failed to create a usable precompiled cache file for PedestrianAvoidancePOMDP [a80ff0fe-e6a0-11e8-3b05-15413bd5ea7a]\n",
      "│   exception = ArgumentError: Invalid checksum in cache file /home/markuss/.julia/compiled/v1.0/PedestrianAvoidancePOMDP/UuJ2S.ji.\n",
      "└ @ Base loading.jl:969\n"
     ]
    },
    {
     "name": "stdout",
     "output_type": "stream",
     "text": [
      "      From worker 44:\tWARNING: Method definition animate_record(Records.QueueRecord{Records.Entity{AutomotiveDrivingModels.VehicleState, AutomotiveDrivingModels.VehicleDef, Int64}}, Float64, AutomotivePOMDPs.CrosswalkEnv, AutomotiveSensors.GaussianSensor{P, V} where V<:AutomotiveSensors.AbstractNoiseModel where P<:AutomotiveSensors.AbstractNoiseModel, Array{Array{Records.Entity{AutomotiveDrivingModels.VehicleState, AutomotiveDrivingModels.VehicleDef, Int64}, 1}, 1}, Array{Float64, 1}, Array{Base.Dict{Int64, POMDPModelTools.SparseCat{Array{PedestrianAvoidancePOMDP.SingleOCFState, 1}, Array{Float64, 1}}}, 1}, Array{Records.Entity{AutomotiveDrivingModels.VehicleState, AutomotiveDrivingModels.VehicleDef, Int64}, 1}, Array{PedestrianAvoidancePOMDP.SingleOCFAction, 1}) in module PedestrianAvoidancePOMDP at /home/markuss/.julia/packages/PedestrianAvoidancePOMDP/xWTEk/src/rendering.jl:33 overwritten at /home/markuss/.julia/packages/PedestrianAvoidancePOMDP/xWTEk/src/rendering.jl:61.\n",
      "      From worker 44:\tWARNING: Method definition animate_record(Records.QueueRecord{Records.Entity{AutomotiveDrivingModels.VehicleState, AutomotiveDrivingModels.VehicleDef, Int64}}, Float64, AutomotivePOMDPs.CrosswalkEnv, AutomotiveSensors.GaussianSensor{P, V} where V<:AutomotiveSensors.AbstractNoiseModel where P<:AutomotiveSensors.AbstractNoiseModel, Array{Array{Records.Entity{AutomotiveDrivingModels.VehicleState, AutomotiveDrivingModels.VehicleDef, Int64}, 1}, 1}, Array{Float64, 1}, Array{Base.Dict{Int64, POMDPModelTools.SparseCat{Array{PedestrianAvoidancePOMDP.SingleOCFState, 1}, Array{Float64, 1}}}, 1}, Array{Records.Entity{AutomotiveDrivingModels.VehicleState, AutomotiveDrivingModels.VehicleDef, Int64}, 1}, Array{PedestrianAvoidancePOMDP.SingleOCFAction, 1}, Any) in module PedestrianAvoidancePOMDP at /home/markuss/.julia/packages/PedestrianAvoidancePOMDP/xWTEk/src/rendering.jl:33 overwritten at /home/markuss/.julia/packages/PedestrianAvoidancePOMDP/xWTEk/src/rendering.jl:61.\n",
      "      From worker 9:\tWARNING: Method definition animate_record(Records.QueueRecord{Records.Entity{AutomotiveDrivingModels.VehicleState, AutomotiveDrivingModels.VehicleDef, Int64}}, Float64, AutomotivePOMDPs.CrosswalkEnv, AutomotiveSensors.GaussianSensor{P, V} where V<:AutomotiveSensors.AbstractNoiseModel where P<:AutomotiveSensors.AbstractNoiseModel, Array{Array{Records.Entity{AutomotiveDrivingModels.VehicleState, AutomotiveDrivingModels.VehicleDef, Int64}, 1}, 1}, Array{Float64, 1}, Array{Base.Dict{Int64, POMDPModelTools.SparseCat{Array{PedestrianAvoidancePOMDP.SingleOCFState, 1}, Array{Float64, 1}}}, 1}, Array{Records.Entity{AutomotiveDrivingModels.VehicleState, AutomotiveDrivingModels.VehicleDef, Int64}, 1}, Array{PedestrianAvoidancePOMDP.SingleOCFAction, 1}) in module PedestrianAvoidancePOMDP at /home/markuss/.julia/packages/PedestrianAvoidancePOMDP/xWTEk/src/rendering.jl:33 overwritten at /home/markuss/.julia/packages/PedestrianAvoidancePOMDP/xWTEk/src/rendering.jl:61.\n",
      "      From worker 9:\tWARNING: Method definition animate_record(Records.QueueRecord{Records.Entity{AutomotiveDrivingModels.VehicleState, AutomotiveDrivingModels.VehicleDef, Int64}}, Float64, AutomotivePOMDPs.CrosswalkEnv, AutomotiveSensors.GaussianSensor{P, V} where V<:AutomotiveSensors.AbstractNoiseModel where P<:AutomotiveSensors.AbstractNoiseModel, Array{Array{Records.Entity{AutomotiveDrivingModels.VehicleState, AutomotiveDrivingModels.VehicleDef, Int64}, 1}, 1}, Array{Float64, 1}, Array{Base.Dict{Int64, POMDPModelTools.SparseCat{Array{PedestrianAvoidancePOMDP.SingleOCFState, 1}, Array{Float64, 1}}}, 1}, Array{Records.Entity{AutomotiveDrivingModels.VehicleState, AutomotiveDrivingModels.VehicleDef, Int64}, 1}, Array{PedestrianAvoidancePOMDP.SingleOCFAction, 1}, Any) in module PedestrianAvoidancePOMDP at /home/markuss/.julia/packages/PedestrianAvoidancePOMDP/xWTEk/src/rendering.jl:33 overwritten at /home/markuss/.julia/packages/PedestrianAvoidancePOMDP/xWTEk/src/rendering.jl:61.\n"
     ]
    },
    {
     "name": "stderr",
     "output_type": "stream",
     "text": [
      "┌ Warning: The call to compilecache failed to create a usable precompiled cache file for PedestrianAvoidancePOMDP [a80ff0fe-e6a0-11e8-3b05-15413bd5ea7a]\n",
      "│   exception = ArgumentError: Invalid checksum in cache file /home/markuss/.julia/compiled/v1.0/PedestrianAvoidancePOMDP/UuJ2S.ji.\n",
      "└ @ Base loading.jl:969\n",
      "┌ Warning: The call to compilecache failed to create a usable precompiled cache file for PedestrianAvoidancePOMDP [a80ff0fe-e6a0-11e8-3b05-15413bd5ea7a]\n",
      "│   exception = ArgumentError: Invalid checksum in cache file /home/markuss/.julia/compiled/v1.0/PedestrianAvoidancePOMDP/UuJ2S.ji.\n",
      "└ @ Base loading.jl:969\n"
     ]
    },
    {
     "name": "stdout",
     "output_type": "stream",
     "text": [
      "      From worker 45:\tWARNING: Method definition animate_record(Records.QueueRecord{Records.Entity{AutomotiveDrivingModels.VehicleState, AutomotiveDrivingModels.VehicleDef, Int64}}, Float64, AutomotivePOMDPs.CrosswalkEnv, AutomotiveSensors.GaussianSensor{P, V} where V<:AutomotiveSensors.AbstractNoiseModel where P<:AutomotiveSensors.AbstractNoiseModel, Array{Array{Records.Entity{AutomotiveDrivingModels.VehicleState, AutomotiveDrivingModels.VehicleDef, Int64}, 1}, 1}, Array{Float64, 1}, Array{Base.Dict{Int64, POMDPModelTools.SparseCat{Array{PedestrianAvoidancePOMDP.SingleOCFState, 1}, Array{Float64, 1}}}, 1}, Array{Records.Entity{AutomotiveDrivingModels.VehicleState, AutomotiveDrivingModels.VehicleDef, Int64}, 1}, Array{PedestrianAvoidancePOMDP.SingleOCFAction, 1}) in module PedestrianAvoidancePOMDP at /home/markuss/.julia/packages/PedestrianAvoidancePOMDP/xWTEk/src/rendering.jl:33 overwritten at /home/markuss/.julia/packages/PedestrianAvoidancePOMDP/xWTEk/src/rendering.jl:61.\n",
      "      From worker 45:\tWARNING: Method definition animate_record(Records.QueueRecord{Records.Entity{AutomotiveDrivingModels.VehicleState, AutomotiveDrivingModels.VehicleDef, Int64}}, Float64, AutomotivePOMDPs.CrosswalkEnv, AutomotiveSensors.GaussianSensor{P, V} where V<:AutomotiveSensors.AbstractNoiseModel where P<:AutomotiveSensors.AbstractNoiseModel, Array{Array{Records.Entity{AutomotiveDrivingModels.VehicleState, AutomotiveDrivingModels.VehicleDef, Int64}, 1}, 1}, Array{Float64, 1}, Array{Base.Dict{Int64, POMDPModelTools.SparseCat{Array{PedestrianAvoidancePOMDP.SingleOCFState, 1}, Array{Float64, 1}}}, 1}, Array{Records.Entity{AutomotiveDrivingModels.VehicleState, AutomotiveDrivingModels.VehicleDef, Int64}, 1}, Array{PedestrianAvoidancePOMDP.SingleOCFAction, 1}, Any) in module PedestrianAvoidancePOMDP at /home/markuss/.julia/packages/PedestrianAvoidancePOMDP/xWTEk/src/rendering.jl:33 overwritten at /home/markuss/.julia/packages/PedestrianAvoidancePOMDP/xWTEk/src/rendering.jl:61.\n"
     ]
    },
    {
     "name": "stderr",
     "output_type": "stream",
     "text": [
      "┌ Warning: The call to compilecache failed to create a usable precompiled cache file for PedestrianAvoidancePOMDP [a80ff0fe-e6a0-11e8-3b05-15413bd5ea7a]\n",
      "│   exception = ArgumentError: Invalid checksum in cache file /home/markuss/.julia/compiled/v1.0/PedestrianAvoidancePOMDP/UuJ2S.ji.\n",
      "└ @ Base loading.jl:969\n"
     ]
    },
    {
     "name": "stdout",
     "output_type": "stream",
     "text": [
      "      From worker 11:\tWARNING: Method definition animate_record(Records.QueueRecord{Records.Entity{AutomotiveDrivingModels.VehicleState, AutomotiveDrivingModels.VehicleDef, Int64}}, Float64, AutomotivePOMDPs.CrosswalkEnv, AutomotiveSensors.GaussianSensor{P, V} where V<:AutomotiveSensors.AbstractNoiseModel where P<:AutomotiveSensors.AbstractNoiseModel, Array{Array{Records.Entity{AutomotiveDrivingModels.VehicleState, AutomotiveDrivingModels.VehicleDef, Int64}, 1}, 1}, Array{Float64, 1}, Array{Base.Dict{Int64, POMDPModelTools.SparseCat{Array{PedestrianAvoidancePOMDP.SingleOCFState, 1}, Array{Float64, 1}}}, 1}, Array{Records.Entity{AutomotiveDrivingModels.VehicleState, AutomotiveDrivingModels.VehicleDef, Int64}, 1}, Array{PedestrianAvoidancePOMDP.SingleOCFAction, 1}) in module PedestrianAvoidancePOMDP at /home/markuss/.julia/packages/PedestrianAvoidancePOMDP/xWTEk/src/rendering.jl:33 overwritten at /home/markuss/.julia/packages/PedestrianAvoidancePOMDP/xWTEk/src/rendering.jl:61.\n",
      "      From worker 11:\tWARNING: Method definition animate_record(Records.QueueRecord{Records.Entity{AutomotiveDrivingModels.VehicleState, AutomotiveDrivingModels.VehicleDef, Int64}}, Float64, AutomotivePOMDPs.CrosswalkEnv, AutomotiveSensors.GaussianSensor{P, V} where V<:AutomotiveSensors.AbstractNoiseModel where P<:AutomotiveSensors.AbstractNoiseModel, Array{Array{Records.Entity{AutomotiveDrivingModels.VehicleState, AutomotiveDrivingModels.VehicleDef, Int64}, 1}, 1}, Array{Float64, 1}, Array{Base.Dict{Int64, POMDPModelTools.SparseCat{Array{PedestrianAvoidancePOMDP.SingleOCFState, 1}, Array{Float64, 1}}}, 1}, Array{Records.Entity{AutomotiveDrivingModels.VehicleState, AutomotiveDrivingModels.VehicleDef, Int64}, 1}, Array{PedestrianAvoidancePOMDP.SingleOCFAction, 1}, Any) in module PedestrianAvoidancePOMDP at /home/markuss/.julia/packages/PedestrianAvoidancePOMDP/xWTEk/src/rendering.jl:33 overwritten at /home/markuss/.julia/packages/PedestrianAvoidancePOMDP/xWTEk/src/rendering.jl:61.\n"
     ]
    },
    {
     "name": "stderr",
     "output_type": "stream",
     "text": [
      "┌ Warning: The call to compilecache failed to create a usable precompiled cache file for PedestrianAvoidancePOMDP [a80ff0fe-e6a0-11e8-3b05-15413bd5ea7a]\n",
      "│   exception = ArgumentError: Invalid checksum in cache file /home/markuss/.julia/compiled/v1.0/PedestrianAvoidancePOMDP/UuJ2S.ji.\n",
      "└ @ Base loading.jl:969\n",
      "┌ Warning: Package PedestrianAvoidancePOMDP does not have EmergencyBrakingSystem in its dependencies:\n",
      "│ - If you have PedestrianAvoidancePOMDP checked out for development and have\n",
      "│   added EmergencyBrakingSystem as a dependency but haven't updated your primary\n",
      "│   environment's manifest file, try `Pkg.resolve()`.\n",
      "│ - Otherwise you may need to report an issue with PedestrianAvoidancePOMDP\n",
      "└ Loading EmergencyBrakingSystem into PedestrianAvoidancePOMDP from project dependency, future warnings for PedestrianAvoidancePOMDP are suppressed.\n",
      "┌ Warning: The call to compilecache failed to create a usable precompiled cache file for PedestrianAvoidancePOMDP [a80ff0fe-e6a0-11e8-3b05-15413bd5ea7a]\n",
      "│   exception = ArgumentError: Invalid checksum in cache file /home/markuss/.julia/compiled/v1.0/PedestrianAvoidancePOMDP/UuJ2S.ji.\n",
      "└ @ Base loading.jl:969\n",
      "┌ Warning: The call to compilecache failed to create a usable precompiled cache file for PedestrianAvoidancePOMDP [a80ff0fe-e6a0-11e8-3b05-15413bd5ea7a]\n",
      "│   exception = ArgumentError: Invalid checksum in cache file /home/markuss/.julia/compiled/v1.0/PedestrianAvoidancePOMDP/UuJ2S.ji.\n",
      "└ @ Base loading.jl:969\n",
      "┌ Warning: The call to compilecache failed to create a usable precompiled cache file for PedestrianAvoidancePOMDP [a80ff0fe-e6a0-11e8-3b05-15413bd5ea7a]\n",
      "│   exception = ArgumentError: Invalid checksum in cache file /home/markuss/.julia/compiled/v1.0/PedestrianAvoidancePOMDP/UuJ2S.ji.\n",
      "└ @ Base loading.jl:969\n",
      "┌ Warning: The call to compilecache failed to create a usable precompiled cache file for PedestrianAvoidancePOMDP [a80ff0fe-e6a0-11e8-3b05-15413bd5ea7a]\n",
      "│   exception = ArgumentError: Invalid checksum in cache file /home/markuss/.julia/compiled/v1.0/PedestrianAvoidancePOMDP/UuJ2S.ji.\n",
      "└ @ Base loading.jl:969\n",
      "┌ Warning: Package PedestrianAvoidancePOMDP does not have EmergencyBrakingSystem in its dependencies:\n",
      "│ - If you have PedestrianAvoidancePOMDP checked out for development and have\n",
      "│   added EmergencyBrakingSystem as a dependency but haven't updated your primary\n",
      "│   environment's manifest file, try `Pkg.resolve()`.\n",
      "│ - Otherwise you may need to report an issue with PedestrianAvoidancePOMDP\n",
      "└ Loading EmergencyBrakingSystem into PedestrianAvoidancePOMDP from project dependency, future warnings for PedestrianAvoidancePOMDP are suppressed.\n",
      "┌ Warning: Package PedestrianAvoidancePOMDP does not have EmergencyBrakingSystem in its dependencies:\n",
      "│ - If you have PedestrianAvoidancePOMDP checked out for development and have\n",
      "│   added EmergencyBrakingSystem as a dependency but haven't updated your primary\n",
      "│   environment's manifest file, try `Pkg.resolve()`.\n",
      "│ - Otherwise you may need to report an issue with PedestrianAvoidancePOMDP\n",
      "└ Loading EmergencyBrakingSystem into PedestrianAvoidancePOMDP from project dependency, future warnings for PedestrianAvoidancePOMDP are suppressed.\n",
      "┌ Warning: The call to compilecache failed to create a usable precompiled cache file for PedestrianAvoidancePOMDP [a80ff0fe-e6a0-11e8-3b05-15413bd5ea7a]\n",
      "│   exception = ArgumentError: Invalid checksum in cache file /home/markuss/.julia/compiled/v1.0/PedestrianAvoidancePOMDP/UuJ2S.ji.\n",
      "└ @ Base loading.jl:969\n",
      "┌ Warning: Package PedestrianAvoidancePOMDP does not have EmergencyBrakingSystem in its dependencies:\n",
      "│ - If you have PedestrianAvoidancePOMDP checked out for development and have\n",
      "│   added EmergencyBrakingSystem as a dependency but haven't updated your primary\n",
      "│   environment's manifest file, try `Pkg.resolve()`.\n",
      "│ - Otherwise you may need to report an issue with PedestrianAvoidancePOMDP\n",
      "└ Loading EmergencyBrakingSystem into PedestrianAvoidancePOMDP from project dependency, future warnings for PedestrianAvoidancePOMDP are suppressed.\n",
      "┌ Warning: Package PedestrianAvoidancePOMDP does not have EmergencyBrakingSystem in its dependencies:\n",
      "│ - If you have PedestrianAvoidancePOMDP checked out for development and have\n",
      "│   added EmergencyBrakingSystem as a dependency but haven't updated your primary\n",
      "│   environment's manifest file, try `Pkg.resolve()`.\n",
      "│ - Otherwise you may need to report an issue with PedestrianAvoidancePOMDP\n",
      "└ Loading EmergencyBrakingSystem into PedestrianAvoidancePOMDP from project dependency, future warnings for PedestrianAvoidancePOMDP are suppressed.\n",
      "┌ Warning: The call to compilecache failed to create a usable precompiled cache file for PedestrianAvoidancePOMDP [a80ff0fe-e6a0-11e8-3b05-15413bd5ea7a]\n",
      "│   exception = ArgumentError: Invalid checksum in cache file /home/markuss/.julia/compiled/v1.0/PedestrianAvoidancePOMDP/UuJ2S.ji.\n",
      "└ @ Base loading.jl:969\n",
      "┌ Warning: Package PedestrianAvoidancePOMDP does not have EmergencyBrakingSystem in its dependencies:\n",
      "│ - If you have PedestrianAvoidancePOMDP checked out for development and have\n",
      "│   added EmergencyBrakingSystem as a dependency but haven't updated your primary\n",
      "│   environment's manifest file, try `Pkg.resolve()`.\n",
      "│ - Otherwise you may need to report an issue with PedestrianAvoidancePOMDP\n",
      "└ Loading EmergencyBrakingSystem into PedestrianAvoidancePOMDP from project dependency, future warnings for PedestrianAvoidancePOMDP are suppressed.\n",
      "┌ Warning: Package PedestrianAvoidancePOMDP does not have EmergencyBrakingSystem in its dependencies:\n",
      "│ - If you have PedestrianAvoidancePOMDP checked out for development and have\n",
      "│   added EmergencyBrakingSystem as a dependency but haven't updated your primary\n",
      "│   environment's manifest file, try `Pkg.resolve()`.\n",
      "│ - Otherwise you may need to report an issue with PedestrianAvoidancePOMDP\n",
      "└ Loading EmergencyBrakingSystem into PedestrianAvoidancePOMDP from project dependency, future warnings for PedestrianAvoidancePOMDP are suppressed.\n",
      "┌ Warning: Package PedestrianAvoidancePOMDP does not have EmergencyBrakingSystem in its dependencies:\n",
      "│ - If you have PedestrianAvoidancePOMDP checked out for development and have\n",
      "│   added EmergencyBrakingSystem as a dependency but haven't updated your primary\n",
      "│   environment's manifest file, try `Pkg.resolve()`.\n",
      "│ - Otherwise you may need to report an issue with PedestrianAvoidancePOMDP\n",
      "└ Loading EmergencyBrakingSystem into PedestrianAvoidancePOMDP from project dependency, future warnings for PedestrianAvoidancePOMDP are suppressed.\n",
      "┌ Warning: Package PedestrianAvoidancePOMDP does not have EmergencyBrakingSystem in its dependencies:\n",
      "│ - If you have PedestrianAvoidancePOMDP checked out for development and have\n",
      "│   added EmergencyBrakingSystem as a dependency but haven't updated your primary\n",
      "│   environment's manifest file, try `Pkg.resolve()`.\n",
      "│ - Otherwise you may need to report an issue with PedestrianAvoidancePOMDP\n",
      "└ Loading EmergencyBrakingSystem into PedestrianAvoidancePOMDP from project dependency, future warnings for PedestrianAvoidancePOMDP are suppressed.\n",
      "┌ Warning: Package PedestrianAvoidancePOMDP does not have EmergencyBrakingSystem in its dependencies:\n",
      "│ - If you have PedestrianAvoidancePOMDP checked out for development and have\n",
      "│   added EmergencyBrakingSystem as a dependency but haven't updated your primary\n",
      "│   environment's manifest file, try `Pkg.resolve()`.\n",
      "│ - Otherwise you may need to report an issue with PedestrianAvoidancePOMDP\n",
      "└ Loading EmergencyBrakingSystem into PedestrianAvoidancePOMDP from project dependency, future warnings for PedestrianAvoidancePOMDP are suppressed.\n",
      "┌ Warning: Package PedestrianAvoidancePOMDP does not have EmergencyBrakingSystem in its dependencies:\n",
      "│ - If you have PedestrianAvoidancePOMDP checked out for development and have\n",
      "│   added EmergencyBrakingSystem as a dependency but haven't updated your primary\n",
      "│   environment's manifest file, try `Pkg.resolve()`.\n",
      "│ - Otherwise you may need to report an issue with PedestrianAvoidancePOMDP\n",
      "└ Loading EmergencyBrakingSystem into PedestrianAvoidancePOMDP from project dependency, future warnings for PedestrianAvoidancePOMDP are suppressed.\n"
     ]
    }
   ],
   "source": [
    "N_PROCS=56\n",
    "addprocs(N_PROCS)\n",
    "@everywhere begin \n",
    "    using POMDPs\n",
    "    using GridInterpolations \n",
    "    using POMDPModelTools\n",
    "    using POMDPPolicies\n",
    "    using POMDPToolbox\n",
    "\n",
    "    using Parameters\n",
    "    using StaticArrays\n",
    "    using DiscreteValueIteration \n",
    "\n",
    "    using AutomotiveDrivingModels\n",
    "    using AutoViz\n",
    "    using AutomotiveSensors\n",
    "    using AutomotivePOMDPs\n",
    "    using PedestrianAvoidancePOMDP\n",
    "\n",
    "    pomdp = SingleOCFPOMDP()\n",
    "end \n"
   ]
  },
  {
   "cell_type": "code",
   "execution_count": 4,
   "metadata": {},
   "outputs": [
    {
     "data": {
      "text/plain": [
       "ParallelValueIterationSolver(80, 0.0001, true, true, Float64[], true, 56)"
      ]
     },
     "execution_count": 4,
     "metadata": {},
     "output_type": "execute_result"
    }
   ],
   "source": [
    "pomdp = SingleOCFPOMDP()\n",
    "solver = ParallelValueIterationSolver(n_procs=N_PROCS, max_iterations=80, belres=1e-4, include_Q=true, verbose=true)\n"
   ]
  },
  {
   "cell_type": "code",
   "execution_count": 5,
   "metadata": {},
   "outputs": [
    {
     "name": "stdout",
     "output_type": "stream",
     "text": [
      "Starting parallel Asynchronous Value Iteration with 56 cores\n",
      "[Iteration 1   ] residual:        100 | iteration runtime:   4995.551 ms, (         5 s total)\n",
      "[Iteration 2   ] residual:       88.3 | iteration runtime:    484.848 ms, (      5.48 s total)\n",
      "[Iteration 3   ] residual:       44.6 | iteration runtime:    395.981 ms, (      5.88 s total)\n",
      "[Iteration 4   ] residual:       22.4 | iteration runtime:    405.757 ms, (      6.28 s total)\n",
      "[Iteration 5   ] residual:       10.5 | iteration runtime:    402.535 ms, (      6.68 s total)\n",
      "[Iteration 6   ] residual:          9 | iteration runtime:    400.843 ms, (      7.09 s total)\n",
      "[Iteration 7   ] residual:       7.08 | iteration runtime:    394.825 ms, (      7.48 s total)\n",
      "[Iteration 8   ] residual:       6.25 | iteration runtime:    420.125 ms, (       7.9 s total)\n",
      "[Iteration 9   ] residual:       5.54 | iteration runtime:    393.703 ms, (      8.29 s total)\n",
      "[Iteration 10  ] residual:       4.44 | iteration runtime:    392.680 ms, (      8.69 s total)\n",
      "[Iteration 11  ] residual:        3.3 | iteration runtime:    394.506 ms, (      9.08 s total)\n",
      "[Iteration 12  ] residual:       2.53 | iteration runtime:    402.969 ms, (      9.48 s total)\n",
      "[Iteration 13  ] residual:       1.96 | iteration runtime:    405.780 ms, (      9.89 s total)\n",
      "[Iteration 14  ] residual:       1.65 | iteration runtime:    402.342 ms, (      10.3 s total)\n",
      "[Iteration 15  ] residual:       1.39 | iteration runtime:    398.242 ms, (      10.7 s total)\n",
      "[Iteration 16  ] residual:       1.16 | iteration runtime:    394.348 ms, (      11.1 s total)\n",
      "[Iteration 17  ] residual:      0.974 | iteration runtime:    402.502 ms, (      11.5 s total)\n",
      "[Iteration 18  ] residual:      0.872 | iteration runtime:    397.512 ms, (      11.9 s total)\n",
      "[Iteration 19  ] residual:      0.806 | iteration runtime:    391.568 ms, (      12.3 s total)\n",
      "[Iteration 20  ] residual:      0.741 | iteration runtime:    400.065 ms, (      12.7 s total)\n",
      "[Iteration 21  ] residual:      0.682 | iteration runtime:    396.780 ms, (      13.1 s total)\n",
      "[Iteration 22  ] residual:      0.626 | iteration runtime:    394.005 ms, (      13.5 s total)\n",
      "[Iteration 23  ] residual:      0.574 | iteration runtime:    390.318 ms, (      13.9 s total)\n",
      "[Iteration 24  ] residual:      0.527 | iteration runtime:    388.093 ms, (      14.2 s total)\n",
      "[Iteration 25  ] residual:      0.483 | iteration runtime:    390.790 ms, (      14.6 s total)\n",
      "[Iteration 26  ] residual:      0.443 | iteration runtime:    394.914 ms, (        15 s total)\n",
      "[Iteration 27  ] residual:      0.406 | iteration runtime:    397.173 ms, (      15.4 s total)\n",
      "[Iteration 28  ] residual:      0.372 | iteration runtime:    393.114 ms, (      15.8 s total)\n",
      "[Iteration 29  ] residual:      0.341 | iteration runtime:    395.489 ms, (      16.2 s total)\n",
      "[Iteration 30  ] residual:      0.312 | iteration runtime:    400.730 ms, (      16.6 s total)\n",
      "[Iteration 31  ] residual:      0.286 | iteration runtime:    402.815 ms, (        17 s total)\n",
      "[Iteration 32  ] residual:      0.261 | iteration runtime:    397.770 ms, (      17.4 s total)\n",
      "[Iteration 33  ] residual:      0.239 | iteration runtime:    398.828 ms, (      17.8 s total)\n",
      "[Iteration 34  ] residual:      0.219 | iteration runtime:    394.245 ms, (      18.2 s total)\n",
      "[Iteration 35  ] residual:        0.2 | iteration runtime:    393.548 ms, (      18.6 s total)\n",
      "[Iteration 36  ] residual:      0.183 | iteration runtime:    397.452 ms, (        19 s total)\n",
      "[Iteration 37  ] residual:      0.168 | iteration runtime:    400.182 ms, (      19.4 s total)\n",
      "[Iteration 38  ] residual:      0.153 | iteration runtime:    469.951 ms, (      19.9 s total)\n",
      "[Iteration 39  ] residual:       0.14 | iteration runtime:    428.662 ms, (      20.3 s total)\n",
      "[Iteration 40  ] residual:      0.128 | iteration runtime:    403.617 ms, (      20.7 s total)\n",
      "[Iteration 41  ] residual:      0.117 | iteration runtime:    394.522 ms, (      21.1 s total)\n",
      "[Iteration 42  ] residual:      0.107 | iteration runtime:    398.724 ms, (      21.5 s total)\n",
      "[Iteration 43  ] residual:     0.0985 | iteration runtime:    395.071 ms, (      21.9 s total)\n",
      "[Iteration 44  ] residual:     0.0906 | iteration runtime:    396.267 ms, (      22.3 s total)\n",
      "[Iteration 45  ] residual:     0.0832 | iteration runtime:    394.765 ms, (      22.7 s total)\n",
      "[Iteration 46  ] residual:     0.0765 | iteration runtime:    404.899 ms, (      23.1 s total)\n",
      "[Iteration 47  ] residual:     0.0703 | iteration runtime:    399.455 ms, (      23.5 s total)\n",
      "[Iteration 48  ] residual:     0.0647 | iteration runtime:    407.598 ms, (      23.9 s total)\n",
      "[Iteration 49  ] residual:     0.0597 | iteration runtime:    399.153 ms, (      24.3 s total)\n",
      "[Iteration 50  ] residual:      0.055 | iteration runtime:    405.427 ms, (      24.7 s total)\n",
      "[Iteration 51  ] residual:     0.0506 | iteration runtime:    396.994 ms, (      25.1 s total)\n",
      "[Iteration 52  ] residual:     0.0467 | iteration runtime:    408.299 ms, (      25.5 s total)\n",
      "[Iteration 53  ] residual:     0.0431 | iteration runtime:    392.967 ms, (      25.9 s total)\n",
      "[Iteration 54  ] residual:     0.0397 | iteration runtime:    403.069 ms, (      26.3 s total)\n",
      "[Iteration 55  ] residual:     0.0366 | iteration runtime:    407.411 ms, (      26.7 s total)\n",
      "[Iteration 56  ] residual:     0.0337 | iteration runtime:    400.781 ms, (      27.1 s total)\n",
      "[Iteration 57  ] residual:      0.031 | iteration runtime:    396.739 ms, (      27.5 s total)\n",
      "[Iteration 58  ] residual:     0.0285 | iteration runtime:    401.846 ms, (      27.9 s total)\n",
      "[Iteration 59  ] residual:     0.0262 | iteration runtime:    398.690 ms, (      28.3 s total)\n",
      "[Iteration 60  ] residual:     0.0241 | iteration runtime:    402.673 ms, (      28.7 s total)\n",
      "[Iteration 61  ] residual:     0.0222 | iteration runtime:    404.271 ms, (      29.1 s total)\n",
      "[Iteration 62  ] residual:     0.0204 | iteration runtime:    401.389 ms, (      29.5 s total)\n",
      "[Iteration 63  ] residual:     0.0187 | iteration runtime:    399.020 ms, (      29.9 s total)\n",
      "[Iteration 64  ] residual:     0.0172 | iteration runtime:    398.233 ms, (      30.3 s total)\n",
      "[Iteration 65  ] residual:     0.0157 | iteration runtime:    396.035 ms, (      30.7 s total)\n",
      "[Iteration 66  ] residual:     0.0144 | iteration runtime:    392.880 ms, (      31.1 s total)\n",
      "[Iteration 67  ] residual:     0.0132 | iteration runtime:    394.790 ms, (      31.5 s total)\n",
      "[Iteration 68  ] residual:     0.0121 | iteration runtime:    424.734 ms, (      31.9 s total)\n",
      "[Iteration 69  ] residual:     0.0111 | iteration runtime:    401.926 ms, (      32.3 s total)\n",
      "[Iteration 70  ] residual:     0.0102 | iteration runtime:    398.634 ms, (      32.7 s total)\n",
      "[Iteration 71  ] residual:    0.00932 | iteration runtime:    392.286 ms, (      33.1 s total)\n",
      "[Iteration 72  ] residual:    0.00854 | iteration runtime:    397.356 ms, (      33.5 s total)\n",
      "[Iteration 73  ] residual:    0.00782 | iteration runtime:    407.321 ms, (      33.9 s total)\n",
      "[Iteration 74  ] residual:    0.00715 | iteration runtime:    399.449 ms, (      34.3 s total)\n",
      "[Iteration 75  ] residual:    0.00654 | iteration runtime:    410.700 ms, (      34.7 s total)\n",
      "[Iteration 76  ] residual:    0.00599 | iteration runtime:    404.481 ms, (      35.1 s total)\n",
      "[Iteration 77  ] residual:    0.00548 | iteration runtime:    401.562 ms, (      35.5 s total)\n",
      "[Iteration 78  ] residual:    0.00501 | iteration runtime:    407.247 ms, (      35.9 s total)\n",
      "[Iteration 79  ] residual:    0.00458 | iteration runtime:    432.911 ms, (      36.4 s total)\n",
      "[Iteration 80  ] residual:    0.00419 | iteration runtime:    428.892 ms, (      36.8 s total)\n"
     ]
    }
   ],
   "source": [
    "vi_policy = solve(solver, pomdp)\n",
    "qmdp_policy = AlphaVectorPolicy(pomdp, vi_policy.qmat, vi_policy.action_map)\n",
    "\n",
    "# save policy!\n",
    "FileIO.save(\"policy.jld2\", \"policy\", qmdp_policy)\n"
   ]
  },
  {
   "cell_type": "code",
   "execution_count": 17,
   "metadata": {},
   "outputs": [],
   "source": [
    " function AutomotivePOMDPs.action(policy::AlphaVectorPolicy, b::SingleOCFBelief)\n",
    "    alphas = policy.alphas \n",
    "    util = zeros(n_actions(policy.pomdp)) \n",
    "    for i=1:n_actions(policy.pomdp)\n",
    "        res = 0.0\n",
    "        for (j,s) in enumerate(b.vals)\n",
    "            si = stateindex(policy.pomdp, s)\n",
    "            res += alphas[i][si]*b.probs[j]\n",
    "        end\n",
    "        util[i] = res\n",
    "    end\n",
    "    ihi = findmax(util)[2]\n",
    "    #println(ihi)\n",
    "    #println(util)\n",
    "    #println(policy.action_map[ihi])\n",
    "    return policy.action_map[ihi]\n",
    "end"
   ]
  },
  {
   "cell_type": "code",
   "execution_count": 3,
   "metadata": {},
   "outputs": [],
   "source": [
    "pomdp = SingleOCFPOMDP()\n",
    "\n",
    "qmdp_policy = load(\"policy.jld2\")[\"policy\"];"
   ]
  },
  {
   "cell_type": "code",
   "execution_count": 10,
   "metadata": {
    "scrolled": false
   },
   "outputs": [
    {
     "data": {
      "image/svg+xml": [
       "<?xml version=\"1.0\" encoding=\"utf-8\"?>\n",
       "<svg xmlns=\"http://www.w3.org/2000/svg\" xmlns:xlink=\"http://www.w3.org/1999/xlink\" width=\"600\" height=\"400\" viewBox=\"0 0 2400 1600\">\n",
       "<defs>\n",
       "  <clipPath id=\"clip5500\">\n",
       "    <rect x=\"0\" y=\"0\" width=\"2000\" height=\"2000\"/>\n",
       "  </clipPath>\n",
       "</defs>\n",
       "<defs>\n",
       "  <clipPath id=\"clip5501\">\n",
       "    <rect x=\"0\" y=\"0\" width=\"2400\" height=\"1600\"/>\n",
       "  </clipPath>\n",
       "</defs>\n",
       "<polygon clip-path=\"url(#clip5501)\" points=\"\n",
       "0,1600 2400,1600 2400,0 0,0 \n",
       "  \" fill=\"#ffffff\" fill-rule=\"evenodd\" fill-opacity=\"1\"/>\n",
       "<defs>\n",
       "  <clipPath id=\"clip5502\">\n",
       "    <rect x=\"480\" y=\"0\" width=\"1681\" height=\"1600\"/>\n",
       "  </clipPath>\n",
       "</defs>\n",
       "<polygon clip-path=\"url(#clip5501)\" points=\"\n",
       "149.361,972.127 2081.26,972.127 2081.26,578.592 149.361,578.592 \n",
       "  \" fill=\"#ffffff\" fill-rule=\"evenodd\" fill-opacity=\"1\"/>\n",
       "<defs>\n",
       "  <clipPath id=\"clip5503\">\n",
       "    <rect x=\"149\" y=\"578\" width=\"1933\" height=\"395\"/>\n",
       "  </clipPath>\n",
       "</defs>\n",
       "<polyline clip-path=\"url(#clip5503)\" style=\"stroke:#000000; stroke-width:2; stroke-opacity:0.1; fill:none\" points=\"\n",
       "  256.688,972.127 256.688,578.592 \n",
       "  \"/>\n",
       "<polyline clip-path=\"url(#clip5503)\" style=\"stroke:#000000; stroke-width:2; stroke-opacity:0.1; fill:none\" points=\"\n",
       "  614.447,972.127 614.447,578.592 \n",
       "  \"/>\n",
       "<polyline clip-path=\"url(#clip5503)\" style=\"stroke:#000000; stroke-width:2; stroke-opacity:0.1; fill:none\" points=\"\n",
       "  972.207,972.127 972.207,578.592 \n",
       "  \"/>\n",
       "<polyline clip-path=\"url(#clip5503)\" style=\"stroke:#000000; stroke-width:2; stroke-opacity:0.1; fill:none\" points=\"\n",
       "  1329.97,972.127 1329.97,578.592 \n",
       "  \"/>\n",
       "<polyline clip-path=\"url(#clip5503)\" style=\"stroke:#000000; stroke-width:2; stroke-opacity:0.1; fill:none\" points=\"\n",
       "  1687.72,972.127 1687.72,578.592 \n",
       "  \"/>\n",
       "<polyline clip-path=\"url(#clip5503)\" style=\"stroke:#000000; stroke-width:2; stroke-opacity:0.1; fill:none\" points=\"\n",
       "  2045.48,972.127 2045.48,578.592 \n",
       "  \"/>\n",
       "<polyline clip-path=\"url(#clip5503)\" style=\"stroke:#000000; stroke-width:2; stroke-opacity:0.1; fill:none\" points=\"\n",
       "  149.361,918.463 2081.26,918.463 \n",
       "  \"/>\n",
       "<polyline clip-path=\"url(#clip5503)\" style=\"stroke:#000000; stroke-width:2; stroke-opacity:0.1; fill:none\" points=\"\n",
       "  149.361,846.911 2081.26,846.911 \n",
       "  \"/>\n",
       "<polyline clip-path=\"url(#clip5503)\" style=\"stroke:#000000; stroke-width:2; stroke-opacity:0.1; fill:none\" points=\"\n",
       "  149.361,775.359 2081.26,775.359 \n",
       "  \"/>\n",
       "<polyline clip-path=\"url(#clip5503)\" style=\"stroke:#000000; stroke-width:2; stroke-opacity:0.1; fill:none\" points=\"\n",
       "  149.361,703.808 2081.26,703.808 \n",
       "  \"/>\n",
       "<polyline clip-path=\"url(#clip5503)\" style=\"stroke:#000000; stroke-width:2; stroke-opacity:0.1; fill:none\" points=\"\n",
       "  149.361,632.256 2081.26,632.256 \n",
       "  \"/>\n",
       "<polyline clip-path=\"url(#clip5501)\" style=\"stroke:#000000; stroke-width:4; stroke-opacity:1; fill:none\" points=\"\n",
       "  149.361,972.127 2081.26,972.127 \n",
       "  \"/>\n",
       "<polyline clip-path=\"url(#clip5501)\" style=\"stroke:#000000; stroke-width:4; stroke-opacity:1; fill:none\" points=\"\n",
       "  149.361,972.127 149.361,578.592 \n",
       "  \"/>\n",
       "<polyline clip-path=\"url(#clip5501)\" style=\"stroke:#000000; stroke-width:4; stroke-opacity:1; fill:none\" points=\"\n",
       "  256.688,972.127 256.688,966.224 \n",
       "  \"/>\n",
       "<polyline clip-path=\"url(#clip5501)\" style=\"stroke:#000000; stroke-width:4; stroke-opacity:1; fill:none\" points=\"\n",
       "  614.447,972.127 614.447,966.224 \n",
       "  \"/>\n",
       "<polyline clip-path=\"url(#clip5501)\" style=\"stroke:#000000; stroke-width:4; stroke-opacity:1; fill:none\" points=\"\n",
       "  972.207,972.127 972.207,966.224 \n",
       "  \"/>\n",
       "<polyline clip-path=\"url(#clip5501)\" style=\"stroke:#000000; stroke-width:4; stroke-opacity:1; fill:none\" points=\"\n",
       "  1329.97,972.127 1329.97,966.224 \n",
       "  \"/>\n",
       "<polyline clip-path=\"url(#clip5501)\" style=\"stroke:#000000; stroke-width:4; stroke-opacity:1; fill:none\" points=\"\n",
       "  1687.72,972.127 1687.72,966.224 \n",
       "  \"/>\n",
       "<polyline clip-path=\"url(#clip5501)\" style=\"stroke:#000000; stroke-width:4; stroke-opacity:1; fill:none\" points=\"\n",
       "  2045.48,972.127 2045.48,966.224 \n",
       "  \"/>\n",
       "<polyline clip-path=\"url(#clip5501)\" style=\"stroke:#000000; stroke-width:4; stroke-opacity:1; fill:none\" points=\"\n",
       "  149.361,918.463 178.339,918.463 \n",
       "  \"/>\n",
       "<polyline clip-path=\"url(#clip5501)\" style=\"stroke:#000000; stroke-width:4; stroke-opacity:1; fill:none\" points=\"\n",
       "  149.361,846.911 178.339,846.911 \n",
       "  \"/>\n",
       "<polyline clip-path=\"url(#clip5501)\" style=\"stroke:#000000; stroke-width:4; stroke-opacity:1; fill:none\" points=\"\n",
       "  149.361,775.359 178.339,775.359 \n",
       "  \"/>\n",
       "<polyline clip-path=\"url(#clip5501)\" style=\"stroke:#000000; stroke-width:4; stroke-opacity:1; fill:none\" points=\"\n",
       "  149.361,703.808 178.339,703.808 \n",
       "  \"/>\n",
       "<polyline clip-path=\"url(#clip5501)\" style=\"stroke:#000000; stroke-width:4; stroke-opacity:1; fill:none\" points=\"\n",
       "  149.361,632.256 178.339,632.256 \n",
       "  \"/>\n",
       "<g clip-path=\"url(#clip5501)\">\n",
       "<text style=\"fill:#000000; fill-opacity:1; font-family:Arial,Helvetica Neue,Helvetica,sans-serif; font-size:48px; text-anchor:middle;\" transform=\"rotate(0, 256.688, 1026.13)\" x=\"256.688\" y=\"1026.13\">0</text>\n",
       "</g>\n",
       "<g clip-path=\"url(#clip5501)\">\n",
       "<text style=\"fill:#000000; fill-opacity:1; font-family:Arial,Helvetica Neue,Helvetica,sans-serif; font-size:48px; text-anchor:middle;\" transform=\"rotate(0, 614.447, 1026.13)\" x=\"614.447\" y=\"1026.13\">10</text>\n",
       "</g>\n",
       "<g clip-path=\"url(#clip5501)\">\n",
       "<text style=\"fill:#000000; fill-opacity:1; font-family:Arial,Helvetica Neue,Helvetica,sans-serif; font-size:48px; text-anchor:middle;\" transform=\"rotate(0, 972.207, 1026.13)\" x=\"972.207\" y=\"1026.13\">20</text>\n",
       "</g>\n",
       "<g clip-path=\"url(#clip5501)\">\n",
       "<text style=\"fill:#000000; fill-opacity:1; font-family:Arial,Helvetica Neue,Helvetica,sans-serif; font-size:48px; text-anchor:middle;\" transform=\"rotate(0, 1329.97, 1026.13)\" x=\"1329.97\" y=\"1026.13\">30</text>\n",
       "</g>\n",
       "<g clip-path=\"url(#clip5501)\">\n",
       "<text style=\"fill:#000000; fill-opacity:1; font-family:Arial,Helvetica Neue,Helvetica,sans-serif; font-size:48px; text-anchor:middle;\" transform=\"rotate(0, 1687.72, 1026.13)\" x=\"1687.72\" y=\"1026.13\">40</text>\n",
       "</g>\n",
       "<g clip-path=\"url(#clip5501)\">\n",
       "<text style=\"fill:#000000; fill-opacity:1; font-family:Arial,Helvetica Neue,Helvetica,sans-serif; font-size:48px; text-anchor:middle;\" transform=\"rotate(0, 2045.48, 1026.13)\" x=\"2045.48\" y=\"1026.13\">50</text>\n",
       "</g>\n",
       "<g clip-path=\"url(#clip5501)\">\n",
       "<text style=\"fill:#000000; fill-opacity:1; font-family:Arial,Helvetica Neue,Helvetica,sans-serif; font-size:48px; text-anchor:end;\" transform=\"rotate(0, 125.361, 935.963)\" x=\"125.361\" y=\"935.963\">-4</text>\n",
       "</g>\n",
       "<g clip-path=\"url(#clip5501)\">\n",
       "<text style=\"fill:#000000; fill-opacity:1; font-family:Arial,Helvetica Neue,Helvetica,sans-serif; font-size:48px; text-anchor:end;\" transform=\"rotate(0, 125.361, 864.411)\" x=\"125.361\" y=\"864.411\">-2</text>\n",
       "</g>\n",
       "<g clip-path=\"url(#clip5501)\">\n",
       "<text style=\"fill:#000000; fill-opacity:1; font-family:Arial,Helvetica Neue,Helvetica,sans-serif; font-size:48px; text-anchor:end;\" transform=\"rotate(0, 125.361, 792.859)\" x=\"125.361\" y=\"792.859\">0</text>\n",
       "</g>\n",
       "<g clip-path=\"url(#clip5501)\">\n",
       "<text style=\"fill:#000000; fill-opacity:1; font-family:Arial,Helvetica Neue,Helvetica,sans-serif; font-size:48px; text-anchor:end;\" transform=\"rotate(0, 125.361, 721.308)\" x=\"125.361\" y=\"721.308\">2</text>\n",
       "</g>\n",
       "<g clip-path=\"url(#clip5501)\">\n",
       "<text style=\"fill:#000000; fill-opacity:1; font-family:Arial,Helvetica Neue,Helvetica,sans-serif; font-size:48px; text-anchor:end;\" transform=\"rotate(0, 125.361, 649.756)\" x=\"125.361\" y=\"649.756\">4</text>\n",
       "</g>\n",
       "<g clip-path=\"url(#clip5503)\">\n",
       "<image width=\"1932\" height=\"394\" xlink:href=\"data:image/png;base64,\n",
       "iVBORw0KGgoAAAANSUhEUgAAB4wAAAGKCAYAAAD31bwUAAAPUElEQVR4nO3bsW0DQRAEQZ1wgX5w\n",
       "H+YDJ5MuIRkLqqsiGL8x6zn3+QIAAAAAAAAg53t6AAAAAAAAAAAzBGMAAAAAAACAKMEYAAAAAAAA\n",
       "IEowBgAAAAAAAIgSjAEAAAAAAACiBGMAAAAAAACAKMEYAAAAAAAAIEowBgAAAAAAAIgSjAEAAAAA\n",
       "AACiBGMAAAAAAACAKMEYAAAAAAAAIEowBgAAAAAAAIgSjAEAAAAAAACiBGMAAAAAAACAKMEYAAAA\n",
       "AAAAIEowBgAAAAAAAIgSjAEAAAAAAACiBGMAAAAAAACAKMEYAAAAAAAAIEowBgAAAAAAAIgSjAEA\n",
       "AAAAAACiBGMAAAAAAACAKMEYAAAAAAAAIEowBgAAAAAAAIgSjAEAAAAAAACiBGMAAAAAAACAKMEY\n",
       "AAAAAAAAIEowBgAAAAAAAIgSjAEAAAAAAACiBGMAAAAAAACAKMEYAAAAAAAAIEowBgAAAAAAAIgS\n",
       "jAEAAAAAAACiBGMAAAAAAACAKMEYAAAAAAAAIEowBgAAAAAAAIgSjAEAAAAAAACiBGMAAAAAAACA\n",
       "KMEYAAAAAAAAIEowBgAAAAAAAIgSjAEAAAAAAACiBGMAAAAAAACAKMEYAAAAAAAAIEowBgAAAAAA\n",
       "AIgSjAEAAAAAAACiBGMAAAAAAACAKMEYAAAAAAAAIEowBgAAAAAAAIgSjAEAAAAAAACiBGMAAAAA\n",
       "AACAKMEYAAAAAAAAIEowBgAAAAAAAIgSjAEAAAAAAACiBGMAAAAAAACAKMEYAAAAAAAAIEowBgAA\n",
       "AAAAAIgSjAEAAAAAAACiBGMAAAAAAACAKMEYAAAAAAAAIEowBgAAAAAAAIgSjAEAAAAAAACiBGMA\n",
       "AAAAAACAKMEYAAAAAAAAIEowBgAAAAAAAIgSjAEAAAAAAACiBGMAAAAAAACAKMEYAAAAAAAAIEow\n",
       "BgAAAAAAAIgSjAEAAAAAAACiBGMAAAAAAACAKMEYAAAAAAAAIEowBgAAAAAAAIgSjAEAAAAAAACi\n",
       "BGMAAAAAAACAKMEYAAAAAAAAIEowBgAAAAAAAIgSjAEAAAAAAACiBGMAAAAAAACAKMEYAAAAAAAA\n",
       "IEowBgAAAAAAAIgSjAEAAAAAAACiBGMAAAAAAACAKMEYAAAAAAAAIEowBgAAAAAAAIgSjAEAAAAA\n",
       "AACiBGMAAAAAAACAKMEYAAAAAAAAIEowBgAAAAAAAIgSjAEAAAAAAACiBGMAAAAAAACAKMEYAAAA\n",
       "AAAAIEowBgAAAAAAAIgSjAEAAAAAAACiBGMAAAAAAACAKMEYAAAAAAAAIEowBgAAAAAAAIgSjAEA\n",
       "AAAAAACiBGMAAAAAAACAKMEYAAAAAAAAIEowBgAAAAAAAIgSjAEAAAAAAACiBGMAAAAAAACAKMEY\n",
       "AAAAAAAAIEowBgAAAAAAAIgSjAEAAAAAAACiBGMAAAAAAACAKMEYAAAAAAAAIGpPD+Cz7XVNTwAA\n",
       "AAAAAAB+ycMYAAAAAAAAIEowBgAAAAAAAIgSjAEAAAAAAACiBGMAAAAAAACAKMEYAAAAAAAAIEow\n",
       "BgAAAAAAAIgSjAEAAAAAAACiBGMAAAAAAACAKMEYAAAAAAAAIEowBgAAAAAAAIgSjAEAAAAAAACi\n",
       "BGMAAAAAAACAKMEYAAAAAAAAIEowBgAAAAAAAIgSjAEAAAAAAACiBGMAAAAAAACAKMEYAAAAAAAA\n",
       "IEowBgAAAAAAAIgSjAEAAAAAAACiBGMAAAAAAACAKMEYAAAAAAAAIEowBgAAAAAAAIgSjAEAAAAA\n",
       "AACiBGMAAAAAAACAKMEYAAAAAAAAIEowBgAAAAAAAIgSjAEAAAAAAACiBGMAAAAAAACAKMEYAAAA\n",
       "AAAAIEowBgAAAAAAAIgSjAEAAAAAAACiBGMAAAAAAACAKMEYAAAAAAAAIEowBgAAAAAAAIgSjAEA\n",
       "AAAAAACiBGMAAAAAAACAKMEYAAAAAAAAIEowBgAAAAAAAIgSjAEAAAAAAACiBGMAAAAAAACAKMEY\n",
       "AAAAAAAAIEowBgAAAAAAAIgSjAEAAAAAAACiBGMAAAAAAACAKMEYAAAAAAAAIEowBgAAAAAAAIgS\n",
       "jAEAAAAAAACiBGMAAAAAAACAKMEYAAAAAAAAIEowBgAAAAAAAIgSjAEAAAAAAACiBGMAAAAAAACA\n",
       "KMEYAAAAAAAAIEowBgAAAAAAAIgSjAEAAAAAAACiBGMAAAAAAACAKMEYAAAAAAAAIEowBgAAAAAA\n",
       "AIgSjAEAAAAAAACiBGMAAAAAAACAKMEYAAAAAAAAIEowBgAAAAAAAIgSjAEAAAAAAACiBGMAAAAA\n",
       "AACAKMEYAAAAAAAAIEowBgAAAAAAAIgSjAEAAAAAAACiBGMAAAAAAACAKMEYAAAAAAAAIEowBgAA\n",
       "AAAAAIgSjAEAAAAAAACiBGMAAAAAAACAKMEYAAAAAAAAIEowBgAAAAAAAIgSjAEAAAAAAACiBGMA\n",
       "AAAAAACAKMEYAAAAAAAAIEowBgAAAAAAAIgSjAEAAAAAAACiBGMAAAAAAACAKMEYAAAAAAAAIEow\n",
       "BgAAAAAAAIgSjAEAAAAAAACiBGMAAAAAAACAKMEYAAAAAAAAIEowBgAAAAAAAIgSjAEAAAAAAACi\n",
       "BGMAAAAAAACAKMEYAAAAAAAAIEowBgAAAAAAAIgSjAEAAAAAAACiBGMAAAAAAACAKMEYAAAAAAAA\n",
       "IEowBgAAAAAAAIgSjAEAAAAAAACiBGMAAAAAAACAKMEYAAAAAAAAIEowBgAAAAAAAIgSjAEAAAAA\n",
       "AACiBGMAAAAAAACAKMEYAAAAAAAAIEowBgAAAAAAAIgSjAEAAAAAAACiBGMAAAAAAACAKMEYAAAA\n",
       "AAAAIEowBgAAAAAAAIgSjAEAAAAAAACiBGMAAAAAAACAKMEYAAAAAAAAIEowBgAAAAAAAIgSjAEA\n",
       "AAAAAACiBGMAAAAAAACAKMEYAAAAAAAAIEowBgAAAAAAAIgSjAEAAAAAAACiBGMAAAAAAACAKMEY\n",
       "AAAAAAAAIEowBgAAAAAAAIgSjAEAAAAAAACiBGMAAAAAAACAKMEYAAAAAAAAIEowBgAAAAAAAIgS\n",
       "jAEAAAAAAACiBGMAAAAAAACAKMEYAAAAAAAAIEowBgAAAAAAAIgSjAEAAAAAAACiBGMAAAAAAACA\n",
       "KMEYAAAAAAAAIEowBgAAAAAAAIgSjAEAAAAAAACiBGMAAAAAAACAKMEYAAAAAAAAIEowBgAAAAAA\n",
       "AIgSjAEAAAAAAACiBGMAAAAAAACAKMEYAAAAAAAAIEowBgAAAAAAAIgSjAEAAAAAAACiBGMAAAAA\n",
       "AACAKMEYAAAAAAAAIEowBgAAAAAAAIgSjAEAAAAAAACiBGMAAAAAAACAKMEYAAAAAAAAIEowBgAA\n",
       "AAAAAIgSjAEAAAAAAACiBGMAAAAAAACAKMEYAAAAAAAAIEowBgAAAAAAAIgSjAEAAAAAAACiBGMA\n",
       "AAAAAACAKMEYAAAAAAAAIEowBgAAAAAAAIgSjAEAAAAAAACiBGMAAAAAAACAKMEYAAAAAAAAIEow\n",
       "BgAAAAAAAIgSjAEAAAAAAACiBGMAAAAAAACAKMEYAAAAAAAAIEowBgAAAAAAAIgSjAEAAAAAAACi\n",
       "BGMAAAAAAACAKMEYAAAAAAAAIEowBgAAAAAAAIgSjAEAAAAAAACiBGMAAAAAAACAKMEYAAAAAAAA\n",
       "IEowBgAAAAAAAIgSjAEAAAAAAACiBGMAAAAAAACAKMEYAAAAAAAAIEowBgAAAAAAAIgSjAEAAAAA\n",
       "AACiBGMAAAAAAACAKMEYAAAAAAAAIEowBgAAAAAAAIhaz7nP9AgAXva6picAAAAAAAARHsYAAAAA\n",
       "AAAAUYIxAAAAAAAAQJRgDAAAAAAAABAlGAMAAAAAAABECcYAAAAAAAAAUYIxAAAAAAAAQJRgDAAA\n",
       "AAAAABAlGAMAAAAAAABECcYAAAAAAAAAUYIxAAAAAAAAQJRgDAAAAAAAABAlGAMAAAAAAABECcYA\n",
       "AAAAAAAAUYIxAAAAAAAAQJRgDAAAAAAAABAlGAMAAAAAAABECcYAAAAAAAAAUYIxAAAAAAAAQJRg\n",
       "DAAAAAAAABAlGAMAAAAAAABECcYAAAAAAAAAUYIxAAAAAAAAQJRgDAAAAAAAABAlGAMAAAAAAABE\n",
       "CcYAAAAAAAAAUYIxAAAAAAAAQJRgDAAAAAAAABAlGAMAAAAAAABECcYAAAAAAAAAUYIxAAAAAAAA\n",
       "QJRgDAAAAAAAABAlGAMAAAAAAABECcYAAAAAAAAAUYIxAAAAAAAAQJRgDAAAAAAAABC1nnOf6REA\n",
       "8K69rukJAAAAAADwb3gYAwAAAAAAAEQJxgAAAAAAAABRgjEAAAAAAABAlGAMAAAAAAAAECUYAwAA\n",
       "AAAAAEQJxgAAAAAAAABRgjEAAAAAAABAlGAMAAAAAAAAECUYAwAAAAAAAEQJxgAAAAAAAABRgjEA\n",
       "AAAAAABAlGAMAAAAAAAAECUYAwAAAAAAAEQJxgAAAAAAAABRgjEAAAAAAABAlGAMAAAAAAAAECUY\n",
       "AwAAAAAAAEQJxgAAAAAAAABRgjEAAAAAAABAlGAMAAAAAAAAECUYAwAAAAAAAEQJxgAAAAAAAABR\n",
       "gjEAAAAAAABAlGAMAAAAAAAAECUYAwAAAAAAAEQJxgAAAAAAAABRgjEAAAAAAABAlGAMAAAAAAAA\n",
       "ECUYAwAAAAAAAEQJxgAAAAAAAABRgjEAAAAAAABAlGAMAAAAAAAAECUYAwAAAAAAAEQJxgAAAAAA\n",
       "AABRgjEAAAAAAABA1HrOfaZHAAB/t9c1PQEAAAAAgA/jYQwAAAAAAAAQJRgDAAAAAAAARAnGAAAA\n",
       "AAAAAFGCMQAAAAAAAECUYAwAAAAAAAAQJRgDAAAAAAAARAnGAAAAAAAAAFGCMQAAAAAAAECUYAwA\n",
       "AAAAAAAQJRgDAAAAAAAARAnGAAAAAAAAAFGCMQAAAAAAAECUYAwAAAAAAAAQJRgDAAAAAAAARAnG\n",
       "AAAAAAAAAFGCMQAAAAAAAECUYAwAAAAAAAAQJRgDAAAAAAAARAnGAAAAAAAAAFGCMQAAAAAAAECU\n",
       "YAwAAAAAAAAQJRgDAAAAAAAARAnGAAAAAAAAAFGCMQAAAAAAAECUYAwAAAAAAAAQJRgDAAAAAAAA\n",
       "RAnGAAAAAAAAAFGCMQAAAAAAAECUYAwAAAAAAAAQJRgDAAAAAAAARAnGAAAAAAAAAFGCMQAAAAAA\n",
       "AECUYAwAAAAAAAAQJRgDAAAAAAAARP0AZ2ETH1sgMCQAAAAASUVORK5CYII=\n",
       "\" transform=\"translate(149, 579)\"/>\n",
       "</g>\n",
       "<defs>\n",
       "  <clipPath id=\"clip5504\">\n",
       "    <rect x=\"2129\" y=\"578\" width=\"73\" height=\"395\"/>\n",
       "  </clipPath>\n",
       "</defs>\n",
       "<g clip-path=\"url(#clip5504)\">\n",
       "<image width=\"72\" height=\"394\" xlink:href=\"data:image/png;base64,\n",
       "iVBORw0KGgoAAAANSUhEUgAAAEgAAAGKCAYAAACvugdMAAAEEElEQVR4nO3dwbEjNwxAQcqF/KNw\n",
       "lvaSjsB4R+nQHYGKhQfOSL92P//ev9/hf/317Q/w6+a+f7/9GX6aCQrzTNBq3nVAG4kFiQUHFCQW\n",
       "TFBwiwWJBYkFBxQkFuZY0isHFCQW5ljSKxMU7KDggILEwpz7z7c/w09ziwWJBUs6OKAgsTCf9+fb\n",
       "n+GnzbkOaCOxMB8TtJJYkFiY4xZb2UFBYsGSDiYo2EFBYkFiYT73fvsz/DSJBYkFExRc80FiYY5b\n",
       "bCWxILHgFgsOKEgseBcLrvkgsWBJBxMU7KDggILEgueg4BYLEguWdHBAQWLBBIU5178SuJFYmPMk\n",
       "trGDgsSCJR0kFiQWTFAwQcGSDhILEgtzDNDKAQWJhfEyv5NYkFgwQcEBBYmFOV7FVvPu59uf4adJ\n",
       "LFjSYY7EVhIL854J2pigYAcFBxQkFizpILEgsTDnOqONHRSMT7Ckgy/MgsTCnOeMNhILxieYoOBJ\n",
       "Ojid4FUjmKDgVSPMs6RXTidY0sEOChILlnSwg4LxCd7mwzzfKK6cTvAcFOygILHgOSh4kg5OJ0gs\n",
       "mKDgmg8SCxILrvkgsWB8glssSCxILLjFgsSC8QkmKDigILHgQTHM9cvqyukESzqYoGBJB4kFiQUT\n",
       "FBxQkFgwQWGuA1pJLEgsOKAgsWCCggMKEgsmKHhQDBILEgsmKJig4IfD4HSCxILnoCCxILEgsSCx\n",
       "ILHggILEgiUd5h0HtJFYkFhwiwWJhbn+p96VCQp2UHCLBYmFuZ6kV3ZQkFiwpIPEgsTC3G9/gh8n\n",
       "sSCx4BYLvpMOEgsSCyYo+Mo1WNJBYsGTdPAuFiQWJBYkFiQWJBa8iwWJhfEqtpNYkFiQWJBYkFiQ\n",
       "WDBBwQ4KvrQPEgt+1QgSCxIL/k46zJPYSmLBg2LwLhYkFjwHBdd8kFjwHBT88UKQWPCgGExQsKSD\n",
       "JR0kFiQWvGoEiQVv88EXZkFiQWLBAQWJBX+8ECQWJBY8BwWJBYkFExRMULCkg8SCxIJfNYIv7YPE\n",
       "giUdXPNBYkFiYd5xQhuJBYkFt1iQWJBYkFiQWJBYMEHB90FhrleNlcSCxILEgsSCn33CPEtoJbEg\n",
       "seBdLEgs+FUjSCxILHjVCHZQkFiQWDBBwQSFud7mVxILrvlgBwWJBRMUHFCQWJh3fCu9kViQWJj7\n",
       "kdhmrh20klgwQcE1HyQW5n48B21MULCkgwMKEguu+TD3/Pn2Z/hpEguWdJgnsZXEgsSCAwoSC5Z0\n",
       "kFiQWJBY8LIaJBbmPhO0MUHBDgrzJLaSWJBY8KAYJBY8BwU7KEgseA4KbrEgsSCx4BYLEgsSC26x\n",
       "ILEgsWCCgms+zHuW9EZiQWJhjn8eZyWxMEdiKw+KQWJBYsE1HyQW5ljSK4kFiQW3WPgPSFToI7dW\n",
       "fGQAAAAASUVORK5CYII=\n",
       "\" transform=\"translate(2129, 579)\"/>\n",
       "</g>\n",
       "<g clip-path=\"url(#clip5501)\">\n",
       "<text style=\"fill:#000000; fill-opacity:1; font-family:Arial,Helvetica Neue,Helvetica,sans-serif; font-size:48px; text-anchor:start;\" transform=\"rotate(0, 2237.26, 985.778)\" x=\"2237.26\" y=\"985.778\">-</text>\n",
       "</g>\n",
       "<g clip-path=\"url(#clip5501)\">\n",
       "<text style=\"fill:#000000; fill-opacity:1; font-family:Arial,Helvetica Neue,Helvetica,sans-serif; font-size:48px; text-anchor:start;\" transform=\"rotate(0, 2265.37, 985.778)\" x=\"2265.37\" y=\"985.778\">4</text>\n",
       "</g>\n",
       "<g clip-path=\"url(#clip5501)\">\n",
       "<text style=\"fill:#000000; fill-opacity:1; font-family:Arial,Helvetica Neue,Helvetica,sans-serif; font-size:48px; text-anchor:start;\" transform=\"rotate(0, 2237.26, 907.071)\" x=\"2237.26\" y=\"907.071\">-</text>\n",
       "</g>\n",
       "<g clip-path=\"url(#clip5501)\">\n",
       "<text style=\"fill:#000000; fill-opacity:1; font-family:Arial,Helvetica Neue,Helvetica,sans-serif; font-size:48px; text-anchor:start;\" transform=\"rotate(0, 2265.37, 907.071)\" x=\"2265.37\" y=\"907.071\">3</text>\n",
       "</g>\n",
       "<g clip-path=\"url(#clip5501)\">\n",
       "<text style=\"fill:#000000; fill-opacity:1; font-family:Arial,Helvetica Neue,Helvetica,sans-serif; font-size:48px; text-anchor:start;\" transform=\"rotate(0, 2237.26, 828.364)\" x=\"2237.26\" y=\"828.364\">-</text>\n",
       "</g>\n",
       "<g clip-path=\"url(#clip5501)\">\n",
       "<text style=\"fill:#000000; fill-opacity:1; font-family:Arial,Helvetica Neue,Helvetica,sans-serif; font-size:48px; text-anchor:start;\" transform=\"rotate(0, 2265.37, 828.364)\" x=\"2265.37\" y=\"828.364\">2</text>\n",
       "</g>\n",
       "<g clip-path=\"url(#clip5501)\">\n",
       "<text style=\"fill:#000000; fill-opacity:1; font-family:Arial,Helvetica Neue,Helvetica,sans-serif; font-size:48px; text-anchor:start;\" transform=\"rotate(0, 2237.26, 749.657)\" x=\"2237.26\" y=\"749.657\">-</text>\n",
       "</g>\n",
       "<g clip-path=\"url(#clip5501)\">\n",
       "<text style=\"fill:#000000; fill-opacity:1; font-family:Arial,Helvetica Neue,Helvetica,sans-serif; font-size:48px; text-anchor:start;\" transform=\"rotate(0, 2265.37, 749.657)\" x=\"2265.37\" y=\"749.657\">1</text>\n",
       "</g>\n",
       "<g clip-path=\"url(#clip5501)\">\n",
       "<text style=\"fill:#000000; fill-opacity:1; font-family:Arial,Helvetica Neue,Helvetica,sans-serif; font-size:48px; text-anchor:start;\" transform=\"rotate(0, 2237.26, 670.95)\" x=\"2237.26\" y=\"670.95\">0</text>\n",
       "</g>\n",
       "<g clip-path=\"url(#clip5501)\">\n",
       "<text style=\"fill:#000000; fill-opacity:1; font-family:Arial,Helvetica Neue,Helvetica,sans-serif; font-size:48px; text-anchor:start;\" transform=\"rotate(0, 2237.26, 592.243)\" x=\"2237.26\" y=\"592.243\">1</text>\n",
       "</g>\n",
       "<polyline clip-path=\"url(#clip5501)\" style=\"stroke:#000000; stroke-width:4; stroke-opacity:1; fill:none\" points=\"\n",
       "  2201.26,972.127 2201.26,972.127 2225.26,972.127 2201.26,972.127 2201.26,893.42 2225.26,893.42 2201.26,893.42 2201.26,814.713 2225.26,814.713 2201.26,814.713 \n",
       "  2201.26,736.006 2225.26,736.006 2201.26,736.006 2201.26,657.299 2225.26,657.299 2201.26,657.299 2201.26,578.592 2225.26,578.592 2201.26,578.592 \n",
       "  \n",
       "  \"/>\n",
       "<g clip-path=\"url(#clip5501)\">\n",
       "<text style=\"fill:#000000; fill-opacity:1; font-family:Arial,Helvetica Neue,Helvetica,sans-serif; font-size:66px; text-anchor:middle;\" transform=\"rotate(-90, 2378.86, 775.359)\" x=\"2378.86\" y=\"775.359\"></text>\n",
       "</g>\n",
       "</svg>\n"
      ]
     },
     "execution_count": 10,
     "metadata": {},
     "output_type": "execute_result"
    }
   ],
   "source": [
    "using Interact\n",
    "using Plots\n",
    "gr()\n",
    "\n",
    "policy_grid = zeros(Float64, length(pomdp.T_RANGE), length(pomdp.S_RANGE))\n",
    "\n",
    "\n",
    "#@manipulate for ego_v in pomdp.EGO_V_RANGE\n",
    "    ego_v = 9.0\n",
    "    #@manipulate for ped_v in pomdp.PED_V_RANGE\n",
    "    ped_v = 0.0\n",
    "        for i=1:length(pomdp.T_RANGE)\n",
    "            ped_t = pomdp.T_RANGE[i]\n",
    "            for j=1:length(pomdp.S_RANGE)\n",
    "                ped_s = pomdp.S_RANGE[j]\n",
    "                b = SparseCat([SingleOCFState(0.0, ego_v, ped_s, ped_t, 1.57, ped_v)],[1.])\n",
    "                act = action(qmdp_policy, b) \n",
    "               # println(ped_s, \"/\", ped_t, \" act: \", act.acc)\n",
    "                policy_grid[i,j] = act.acc\n",
    "            end\n",
    "        end\n",
    "        xs = [pomdp.S_RANGE[i] for i = 1:length(pomdp.S_RANGE)]\n",
    "        ys = [pomdp.T_RANGE[i] for i = 1:length(pomdp.T_RANGE)]\n",
    "        heatmap(xs,ys,policy_grid,aspect_ratio=1)\n",
    "#    end\n",
    "#end\n",
    "\n",
    "\n"
   ]
  },
  {
   "cell_type": "code",
   "execution_count": 49,
   "metadata": {
    "scrolled": false
   },
   "outputs": [
    {
     "data": {
      "application/vnd.webio.node+json": {
       "children": [
        {
         "children": [
          {
           "children": [
            {
             "children": [
              {
               "children": [
                {
                 "children": [
                  "ego_v"
                 ],
                 "instanceArgs": {
                  "namespace": "html",
                  "tag": "label"
                 },
                 "nodeType": "DOM",
                 "props": {
                  "className": "interact ",
                  "style": {
                   "padding": "5px 10px 0px 10px"
                  }
                 },
                 "type": "node"
                }
               ],
               "instanceArgs": {
                "namespace": "html",
                "tag": "div"
               },
               "nodeType": "DOM",
               "props": {
                "attributes": {
                 "style": "text-align:right;width:18%"
                }
               },
               "type": "node"
              },
              {
               "children": [
                {
                 "children": [],
                 "instanceArgs": {
                  "namespace": "html",
                  "tag": "input"
                 },
                 "nodeType": "DOM",
                 "props": {
                  "attributes": {
                   "data-bind": "numericValue: index, valueUpdate: 'input', event: {change : function () {this.changes(this.changes()+1)}}",
                   "orient": "horizontal",
                   "type": "range"
                  },
                  "className": "slider slider is-fullwidth",
                  "max": 15,
                  "min": 1,
                  "step": 1,
                  "style": {}
                 },
                 "type": "node"
                }
               ],
               "instanceArgs": {
                "namespace": "html",
                "tag": "div"
               },
               "nodeType": "DOM",
               "props": {
                "attributes": {
                 "style": "flex-grow:1; margin: 0 2%"
                }
               },
               "type": "node"
              },
              {
               "children": [
                {
                 "children": [],
                 "instanceArgs": {
                  "namespace": "html",
                  "tag": "p"
                 },
                 "nodeType": "DOM",
                 "props": {
                  "attributes": {
                   "data-bind": "text: formatted_value"
                  }
                 },
                 "type": "node"
                }
               ],
               "instanceArgs": {
                "namespace": "html",
                "tag": "div"
               },
               "nodeType": "DOM",
               "props": {
                "attributes": {
                 "style": "width:18%"
                }
               },
               "type": "node"
              }
             ],
             "instanceArgs": {
              "namespace": "html",
              "tag": "div"
             },
             "nodeType": "DOM",
             "props": {
              "attributes": {
               "style": "display:flex; justify-content:center; align-items:center;"
              }
             },
             "type": "node"
            }
           ],
           "instanceArgs": {
            "handlers": {
             "_promises": {
              "importsLoaded": [
               "function (ko, koPunches) {\n    ko.punches.enableAll();\n    ko.bindingHandlers.numericValue = {\n        init : function(element, valueAccessor, allBindings, data, context) {\n            var stringified = ko.observable(ko.unwrap(valueAccessor()));\n            stringified.subscribe(function(value) {\n                var val = parseFloat(value);\n                if (!isNaN(val)) {\n                    valueAccessor()(val);\n                }\n            })\n            valueAccessor().subscribe(function(value) {\n                var str = JSON.stringify(value);\n                if ((str == \"0\") && ([\"-0\", \"-0.\"].indexOf(stringified()) >= 0))\n                     return;\n                 if ([\"null\", \"\"].indexOf(str) >= 0)\n                     return;\n                stringified(str);\n            })\n            ko.applyBindingsToNode(element, { value: stringified, valueUpdate: allBindings.get('valueUpdate')}, context);\n        }\n    };\n    var json_data = JSON.parse(\"{\\\"formatted_vals\\\":[\\\"0.0\\\",\\\"1.0\\\",\\\"2.0\\\",\\\"3.0\\\",\\\"4.0\\\",\\\"5.0\\\",\\\"6.0\\\",\\\"7.0\\\",\\\"8.0\\\",\\\"9.0\\\",\\\"10.0\\\",\\\"11.0\\\",\\\"12.0\\\",\\\"13.0\\\",\\\"14.0\\\"],\\\"changes\\\":0,\\\"formatted_value\\\":\\\"7.0\\\",\\\"index\\\":8}\");\n    var self = this;\n    function AppViewModel() {\n        for (var key in json_data) {\n            var el = json_data[key];\n            this[key] = Array.isArray(el) ? ko.observableArray(el) : ko.observable(el);\n        }\n        \n        \n        [this[\"formatted_vals\"].subscribe((function (val){!(this.valueFromJulia[\"formatted_vals\"]) ? (WebIO.setval({\"name\":\"formatted_vals\",\"scope\":\"knockout-component-4dcfab5a-8511-4fcd-9ac6-a6a20985b524\",\"id\":\"ob_1148\",\"type\":\"observable\"},val)) : undefined; return this.valueFromJulia[\"formatted_vals\"]=false}),self),this[\"changes\"].subscribe((function (val){!(this.valueFromJulia[\"changes\"]) ? (WebIO.setval({\"name\":\"changes\",\"scope\":\"knockout-component-4dcfab5a-8511-4fcd-9ac6-a6a20985b524\",\"id\":\"ob_1150\",\"type\":\"observable\"},val)) : undefined; return this.valueFromJulia[\"changes\"]=false}),self),this[\"formatted_value\"].subscribe((function (val){!(this.valueFromJulia[\"formatted_value\"]) ? (WebIO.setval({\"name\":\"formatted_value\",\"scope\":\"knockout-component-4dcfab5a-8511-4fcd-9ac6-a6a20985b524\",\"id\":\"ob_1149\",\"type\":\"observable\"},val)) : undefined; return this.valueFromJulia[\"formatted_value\"]=false}),self),this[\"index\"].subscribe((function (val){!(this.valueFromJulia[\"index\"]) ? (WebIO.setval({\"name\":\"index\",\"scope\":\"knockout-component-4dcfab5a-8511-4fcd-9ac6-a6a20985b524\",\"id\":\"ob_1147\",\"type\":\"observable\"},val)) : undefined; return this.valueFromJulia[\"index\"]=false}),self)]\n        \n    }\n    self.model = new AppViewModel();\n    self.valueFromJulia = {};\n    for (var key in json_data) {\n        self.valueFromJulia[key] = false;\n    }\n    ko.applyBindings(self.model, self.dom);\n}\n"
              ]
             },
             "changes": [
              "(function (val){return (val!=this.model[\"changes\"]()) ? (this.valueFromJulia[\"changes\"]=true, this.model[\"changes\"](val)) : undefined})"
             ],
             "formatted_vals": [
              "(function (val){return (val!=this.model[\"formatted_vals\"]()) ? (this.valueFromJulia[\"formatted_vals\"]=true, this.model[\"formatted_vals\"](val)) : undefined})"
             ],
             "formatted_value": [
              "(function (val){return (val!=this.model[\"formatted_value\"]()) ? (this.valueFromJulia[\"formatted_value\"]=true, this.model[\"formatted_value\"](val)) : undefined})"
             ],
             "index": [
              "(function (val){return (val!=this.model[\"index\"]()) ? (this.valueFromJulia[\"index\"]=true, this.model[\"index\"](val)) : undefined})",
              "(function (val){return WebIO.setval({\"name\":\"formatted_value\",\"scope\":\"knockout-component-4dcfab5a-8511-4fcd-9ac6-a6a20985b524\",\"id\":\"ob_1149\",\"type\":\"observable\"},WebIO.getval({\"name\":\"formatted_vals\",\"scope\":\"knockout-component-4dcfab5a-8511-4fcd-9ac6-a6a20985b524\",\"id\":\"ob_1148\",\"type\":\"observable\"})[(WebIO.getval({\"name\":\"index\",\"scope\":\"knockout-component-4dcfab5a-8511-4fcd-9ac6-a6a20985b524\",\"id\":\"ob_1147\",\"type\":\"observable\"})-1)])})"
             ]
            },
            "id": "knockout-component-4dcfab5a-8511-4fcd-9ac6-a6a20985b524",
            "imports": {
             "data": [
              {
               "name": "knockout",
               "type": "js",
               "url": "/assetserver/5bdfa0079f8054411755b58d5cbf209816eb3491-knockout.js"
              },
              {
               "name": "knockout_punches",
               "type": "js",
               "url": "/assetserver/855febee65039013a347552d0c4d4111c3742744-knockout_punches.js"
              },
              {
               "name": null,
               "type": "js",
               "url": "/assetserver/c520edf59e8047fe705fc94922c00f742e98d6ca-all.js"
              },
              {
               "name": null,
               "type": "css",
               "url": "/assetserver/2e452758e706a09118283eb71a88f2d2c42ad320-style.css"
              },
              {
               "name": null,
               "type": "css",
               "url": "/assetserver/161e8bbeb8bd5574618f97bdf4a5bbe64bae489f-main.css"
              }
             ],
             "type": "async_block"
            },
            "observables": {
             "changes": {
              "id": "ob_1150",
              "sync": false,
              "value": 0
             },
             "formatted_vals": {
              "id": "ob_1148",
              "sync": false,
              "value": [
               "0.0",
               "1.0",
               "2.0",
               "3.0",
               "4.0",
               "5.0",
               "6.0",
               "7.0",
               "8.0",
               "9.0",
               "10.0",
               "11.0",
               "12.0",
               "13.0",
               "14.0"
              ]
             },
             "formatted_value": {
              "id": "ob_1149",
              "sync": false,
              "value": "7.0"
             },
             "index": {
              "id": "ob_1147",
              "sync": true,
              "value": 8
             }
            },
            "systemjs_options": null
           },
           "nodeType": "Scope",
           "props": {},
           "type": "node"
          }
         ],
         "instanceArgs": {
          "namespace": "html",
          "tag": "div"
         },
         "nodeType": "DOM",
         "props": {
          "className": "field"
         },
         "type": "node"
        },
        {
         "children": [
          {
           "children": [],
           "instanceArgs": {
            "id": "ob_1164",
            "name": "obs-scope"
           },
           "nodeType": "ObservableNode",
           "props": {},
           "type": "node"
          }
         ],
         "instanceArgs": {
          "handlers": {},
          "id": "scope-8790afb8-7a58-4b0a-bb77-c8ca1e4b4fa2",
          "imports": {
           "data": [],
           "type": "async_block"
          },
          "observables": {
           "obs-scope": {
            "id": "ob_1164",
            "sync": false,
            "value": {
             "children": [
              {
               "children": [
                {
                 "children": [
                  {
                   "children": [
                    {
                     "children": [
                      {
                       "children": [
                        "ped_v"
                       ],
                       "instanceArgs": {
                        "namespace": "html",
                        "tag": "label"
                       },
                       "nodeType": "DOM",
                       "props": {
                        "className": "interact ",
                        "style": {
                         "padding": "5px 10px 0px 10px"
                        }
                       },
                       "type": "node"
                      }
                     ],
                     "instanceArgs": {
                      "namespace": "html",
                      "tag": "div"
                     },
                     "nodeType": "DOM",
                     "props": {
                      "attributes": {
                       "style": "text-align:right;width:18%"
                      }
                     },
                     "type": "node"
                    },
                    {
                     "children": [
                      {
                       "children": [],
                       "instanceArgs": {
                        "namespace": "html",
                        "tag": "input"
                       },
                       "nodeType": "DOM",
                       "props": {
                        "attributes": {
                         "data-bind": "numericValue: index, valueUpdate: 'input', event: {change : function () {this.changes(this.changes()+1)}}",
                         "orient": "horizontal",
                         "type": "range"
                        },
                        "className": "slider slider is-fullwidth",
                        "max": 5,
                        "min": 1,
                        "step": 1,
                        "style": {}
                       },
                       "type": "node"
                      }
                     ],
                     "instanceArgs": {
                      "namespace": "html",
                      "tag": "div"
                     },
                     "nodeType": "DOM",
                     "props": {
                      "attributes": {
                       "style": "flex-grow:1; margin: 0 2%"
                      }
                     },
                     "type": "node"
                    },
                    {
                     "children": [
                      {
                       "children": [],
                       "instanceArgs": {
                        "namespace": "html",
                        "tag": "p"
                       },
                       "nodeType": "DOM",
                       "props": {
                        "attributes": {
                         "data-bind": "text: formatted_value"
                        }
                       },
                       "type": "node"
                      }
                     ],
                     "instanceArgs": {
                      "namespace": "html",
                      "tag": "div"
                     },
                     "nodeType": "DOM",
                     "props": {
                      "attributes": {
                       "style": "width:18%"
                      }
                     },
                     "type": "node"
                    }
                   ],
                   "instanceArgs": {
                    "namespace": "html",
                    "tag": "div"
                   },
                   "nodeType": "DOM",
                   "props": {
                    "attributes": {
                     "style": "display:flex; justify-content:center; align-items:center;"
                    }
                   },
                   "type": "node"
                  }
                 ],
                 "instanceArgs": {
                  "handlers": {
                   "_promises": {
                    "importsLoaded": [
                     "function (ko, koPunches) {\n    ko.punches.enableAll();\n    ko.bindingHandlers.numericValue = {\n        init : function(element, valueAccessor, allBindings, data, context) {\n            var stringified = ko.observable(ko.unwrap(valueAccessor()));\n            stringified.subscribe(function(value) {\n                var val = parseFloat(value);\n                if (!isNaN(val)) {\n                    valueAccessor()(val);\n                }\n            })\n            valueAccessor().subscribe(function(value) {\n                var str = JSON.stringify(value);\n                if ((str == \"0\") && ([\"-0\", \"-0.\"].indexOf(stringified()) >= 0))\n                     return;\n                 if ([\"null\", \"\"].indexOf(str) >= 0)\n                     return;\n                stringified(str);\n            })\n            ko.applyBindingsToNode(element, { value: stringified, valueUpdate: allBindings.get('valueUpdate')}, context);\n        }\n    };\n    var json_data = JSON.parse(\"{\\\"formatted_vals\\\":[\\\"0.0\\\",\\\"0.5\\\",\\\"1.0\\\",\\\"1.5\\\",\\\"2.0\\\"],\\\"changes\\\":0,\\\"formatted_value\\\":\\\"1.0\\\",\\\"index\\\":3}\");\n    var self = this;\n    function AppViewModel() {\n        for (var key in json_data) {\n            var el = json_data[key];\n            this[key] = Array.isArray(el) ? ko.observableArray(el) : ko.observable(el);\n        }\n        \n        \n        [this[\"formatted_vals\"].subscribe((function (val){!(this.valueFromJulia[\"formatted_vals\"]) ? (WebIO.setval({\"name\":\"formatted_vals\",\"scope\":\"knockout-component-8116c885-c5d8-4a62-9685-5c84bfbc42c7\",\"id\":\"ob_1153\",\"type\":\"observable\"},val)) : undefined; return this.valueFromJulia[\"formatted_vals\"]=false}),self),this[\"changes\"].subscribe((function (val){!(this.valueFromJulia[\"changes\"]) ? (WebIO.setval({\"name\":\"changes\",\"scope\":\"knockout-component-8116c885-c5d8-4a62-9685-5c84bfbc42c7\",\"id\":\"ob_1155\",\"type\":\"observable\"},val)) : undefined; return this.valueFromJulia[\"changes\"]=false}),self),this[\"formatted_value\"].subscribe((function (val){!(this.valueFromJulia[\"formatted_value\"]) ? (WebIO.setval({\"name\":\"formatted_value\",\"scope\":\"knockout-component-8116c885-c5d8-4a62-9685-5c84bfbc42c7\",\"id\":\"ob_1154\",\"type\":\"observable\"},val)) : undefined; return this.valueFromJulia[\"formatted_value\"]=false}),self),this[\"index\"].subscribe((function (val){!(this.valueFromJulia[\"index\"]) ? (WebIO.setval({\"name\":\"index\",\"scope\":\"knockout-component-8116c885-c5d8-4a62-9685-5c84bfbc42c7\",\"id\":\"ob_1152\",\"type\":\"observable\"},val)) : undefined; return this.valueFromJulia[\"index\"]=false}),self)]\n        \n    }\n    self.model = new AppViewModel();\n    self.valueFromJulia = {};\n    for (var key in json_data) {\n        self.valueFromJulia[key] = false;\n    }\n    ko.applyBindings(self.model, self.dom);\n}\n"
                    ]
                   },
                   "changes": [
                    "(function (val){return (val!=this.model[\"changes\"]()) ? (this.valueFromJulia[\"changes\"]=true, this.model[\"changes\"](val)) : undefined})"
                   ],
                   "formatted_vals": [
                    "(function (val){return (val!=this.model[\"formatted_vals\"]()) ? (this.valueFromJulia[\"formatted_vals\"]=true, this.model[\"formatted_vals\"](val)) : undefined})"
                   ],
                   "formatted_value": [
                    "(function (val){return (val!=this.model[\"formatted_value\"]()) ? (this.valueFromJulia[\"formatted_value\"]=true, this.model[\"formatted_value\"](val)) : undefined})"
                   ],
                   "index": [
                    "(function (val){return (val!=this.model[\"index\"]()) ? (this.valueFromJulia[\"index\"]=true, this.model[\"index\"](val)) : undefined})",
                    "(function (val){return WebIO.setval({\"name\":\"formatted_value\",\"scope\":\"knockout-component-8116c885-c5d8-4a62-9685-5c84bfbc42c7\",\"id\":\"ob_1154\",\"type\":\"observable\"},WebIO.getval({\"name\":\"formatted_vals\",\"scope\":\"knockout-component-8116c885-c5d8-4a62-9685-5c84bfbc42c7\",\"id\":\"ob_1153\",\"type\":\"observable\"})[(WebIO.getval({\"name\":\"index\",\"scope\":\"knockout-component-8116c885-c5d8-4a62-9685-5c84bfbc42c7\",\"id\":\"ob_1152\",\"type\":\"observable\"})-1)])})"
                   ]
                  },
                  "id": "knockout-component-8116c885-c5d8-4a62-9685-5c84bfbc42c7",
                  "imports": {
                   "data": [
                    {
                     "name": "knockout",
                     "type": "js",
                     "url": "/assetserver/5bdfa0079f8054411755b58d5cbf209816eb3491-knockout.js"
                    },
                    {
                     "name": "knockout_punches",
                     "type": "js",
                     "url": "/assetserver/855febee65039013a347552d0c4d4111c3742744-knockout_punches.js"
                    },
                    {
                     "name": null,
                     "type": "js",
                     "url": "/assetserver/c520edf59e8047fe705fc94922c00f742e98d6ca-all.js"
                    },
                    {
                     "name": null,
                     "type": "css",
                     "url": "/assetserver/2e452758e706a09118283eb71a88f2d2c42ad320-style.css"
                    },
                    {
                     "name": null,
                     "type": "css",
                     "url": "/assetserver/161e8bbeb8bd5574618f97bdf4a5bbe64bae489f-main.css"
                    }
                   ],
                   "type": "async_block"
                  },
                  "observables": {
                   "changes": {
                    "id": "ob_1155",
                    "sync": false,
                    "value": 0
                   },
                   "formatted_vals": {
                    "id": "ob_1153",
                    "sync": false,
                    "value": [
                     "0.0",
                     "0.5",
                     "1.0",
                     "1.5",
                     "2.0"
                    ]
                   },
                   "formatted_value": {
                    "id": "ob_1154",
                    "sync": false,
                    "value": "1.0"
                   },
                   "index": {
                    "id": "ob_1152",
                    "sync": true,
                    "value": 3
                   }
                  },
                  "systemjs_options": null
                 },
                 "nodeType": "Scope",
                 "props": {},
                 "type": "node"
                }
               ],
               "instanceArgs": {
                "namespace": "html",
                "tag": "div"
               },
               "nodeType": "DOM",
               "props": {
                "className": "field"
               },
               "type": "node"
              },
              {
               "children": [
                {
                 "children": [],
                 "instanceArgs": {
                  "id": "ob_1165",
                  "name": "obs-node"
                 },
                 "nodeType": "ObservableNode",
                 "props": {},
                 "type": "node"
                }
               ],
               "instanceArgs": {
                "handlers": {},
                "id": "scope-f33054b1-0b68-461c-968a-8673a789af0e",
                "imports": {
                 "data": [],
                 "type": "async_block"
                },
                "observables": {
                 "obs-node": {
                  "id": "ob_1165",
                  "sync": false,
                  "value": {
                   "children": [
                    {
                     "children": [],
                     "instanceArgs": {
                      "namespace": "html",
                      "tag": "div"
                     },
                     "nodeType": "DOM",
                     "props": {
                      "setInnerHtml": "<?xml version=\"1.0\" encoding=\"utf-8\"?>\n<svg xmlns=\"http://www.w3.org/2000/svg\" xmlns:xlink=\"http://www.w3.org/1999/xlink\" width=\"600\" height=\"400\" viewBox=\"0 0 2400 1600\">\n<defs>\n  <clipPath id=\"clip2200\">\n    <rect x=\"0\" y=\"0\" width=\"2000\" height=\"2000\"/>\n  </clipPath>\n</defs>\n<defs>\n  <clipPath id=\"clip2201\">\n    <rect x=\"0\" y=\"0\" width=\"2400\" height=\"1600\"/>\n  </clipPath>\n</defs>\n<polygon clip-path=\"url(#clip2201)\" points=\"\n0,1600 2400,1600 2400,0 0,0 \n  \" fill=\"#ffffff\" fill-opacity=\"1\"/>\n<defs>\n  <clipPath id=\"clip2202\">\n    <rect x=\"480\" y=\"0\" width=\"1681\" height=\"1600\"/>\n  </clipPath>\n</defs>\n<polygon clip-path=\"url(#clip2201)\" points=\"\n149.361,979.695 2081.26,979.695 2081.26,571.024 149.361,571.024 \n  \" fill=\"#ffffff\" fill-opacity=\"1\"/>\n<defs>\n  <clipPath id=\"clip2203\">\n    <rect x=\"149\" y=\"571\" width=\"1933\" height=\"410\"/>\n  </clipPath>\n</defs>\n<polyline clip-path=\"url(#clip2203)\" style=\"stroke:#000000; stroke-width:2; stroke-opacity:0.1; fill:none\" points=\"\n  186.513,979.695 186.513,571.024 \n  \"/>\n<polyline clip-path=\"url(#clip2203)\" style=\"stroke:#000000; stroke-width:2; stroke-opacity:0.1; fill:none\" points=\"\n  558.032,979.695 558.032,571.024 \n  \"/>\n<polyline clip-path=\"url(#clip2203)\" style=\"stroke:#000000; stroke-width:2; stroke-opacity:0.1; fill:none\" points=\"\n  929.551,979.695 929.551,571.024 \n  \"/>\n<polyline clip-path=\"url(#clip2203)\" style=\"stroke:#000000; stroke-width:2; stroke-opacity:0.1; fill:none\" points=\"\n  1301.07,979.695 1301.07,571.024 \n  \"/>\n<polyline clip-path=\"url(#clip2203)\" style=\"stroke:#000000; stroke-width:2; stroke-opacity:0.1; fill:none\" points=\"\n  1672.59,979.695 1672.59,571.024 \n  \"/>\n<polyline clip-path=\"url(#clip2203)\" style=\"stroke:#000000; stroke-width:2; stroke-opacity:0.1; fill:none\" points=\"\n  2044.11,979.695 2044.11,571.024 \n  \"/>\n<polyline clip-path=\"url(#clip2203)\" style=\"stroke:#000000; stroke-width:2; stroke-opacity:0.1; fill:none\" points=\"\n  149.361,923.967 2081.26,923.967 \n  \"/>\n<polyline clip-path=\"url(#clip2203)\" style=\"stroke:#000000; stroke-width:2; stroke-opacity:0.1; fill:none\" points=\"\n  149.361,849.663 2081.26,849.663 \n  \"/>\n<polyline clip-path=\"url(#clip2203)\" style=\"stroke:#000000; stroke-width:2; stroke-opacity:0.1; fill:none\" points=\"\n  149.361,775.359 2081.26,775.359 \n  \"/>\n<polyline clip-path=\"url(#clip2203)\" style=\"stroke:#000000; stroke-width:2; stroke-opacity:0.1; fill:none\" points=\"\n  149.361,701.056 2081.26,701.056 \n  \"/>\n<polyline clip-path=\"url(#clip2203)\" style=\"stroke:#000000; stroke-width:2; stroke-opacity:0.1; fill:none\" points=\"\n  149.361,626.752 2081.26,626.752 \n  \"/>\n<polyline clip-path=\"url(#clip2201)\" style=\"stroke:#000000; stroke-width:4; stroke-opacity:1; fill:none\" points=\"\n  149.361,979.695 2081.26,979.695 \n  \"/>\n<polyline clip-path=\"url(#clip2201)\" style=\"stroke:#000000; stroke-width:4; stroke-opacity:1; fill:none\" points=\"\n  149.361,979.695 149.361,571.024 \n  \"/>\n<polyline clip-path=\"url(#clip2201)\" style=\"stroke:#000000; stroke-width:4; stroke-opacity:1; fill:none\" points=\"\n  186.513,979.695 186.513,973.565 \n  \"/>\n<polyline clip-path=\"url(#clip2201)\" style=\"stroke:#000000; stroke-width:4; stroke-opacity:1; fill:none\" points=\"\n  558.032,979.695 558.032,973.565 \n  \"/>\n<polyline clip-path=\"url(#clip2201)\" style=\"stroke:#000000; stroke-width:4; stroke-opacity:1; fill:none\" points=\"\n  929.551,979.695 929.551,973.565 \n  \"/>\n<polyline clip-path=\"url(#clip2201)\" style=\"stroke:#000000; stroke-width:4; stroke-opacity:1; fill:none\" points=\"\n  1301.07,979.695 1301.07,973.565 \n  \"/>\n<polyline clip-path=\"url(#clip2201)\" style=\"stroke:#000000; stroke-width:4; stroke-opacity:1; fill:none\" points=\"\n  1672.59,979.695 1672.59,973.565 \n  \"/>\n<polyline clip-path=\"url(#clip2201)\" style=\"stroke:#000000; stroke-width:4; stroke-opacity:1; fill:none\" points=\"\n  2044.11,979.695 2044.11,973.565 \n  \"/>\n<polyline clip-path=\"url(#clip2201)\" style=\"stroke:#000000; stroke-width:4; stroke-opacity:1; fill:none\" points=\"\n  149.361,923.967 178.339,923.967 \n  \"/>\n<polyline clip-path=\"url(#clip2201)\" style=\"stroke:#000000; stroke-width:4; stroke-opacity:1; fill:none\" points=\"\n  149.361,849.663 178.339,849.663 \n  \"/>\n<polyline clip-path=\"url(#clip2201)\" style=\"stroke:#000000; stroke-width:4; stroke-opacity:1; fill:none\" points=\"\n  149.361,775.359 178.339,775.359 \n  \"/>\n<polyline clip-path=\"url(#clip2201)\" style=\"stroke:#000000; stroke-width:4; stroke-opacity:1; fill:none\" points=\"\n  149.361,701.056 178.339,701.056 \n  \"/>\n<polyline clip-path=\"url(#clip2201)\" style=\"stroke:#000000; stroke-width:4; stroke-opacity:1; fill:none\" points=\"\n  149.361,626.752 178.339,626.752 \n  \"/>\n<g clip-path=\"url(#clip2201)\">\n<text style=\"fill:#000000; fill-opacity:1; font-family:Arial,Helvetica Neue,Helvetica,sans-serif; font-size:48px; text-anchor:middle;\" transform=\"rotate(0, 186.513, 1033.69)\" x=\"186.513\" y=\"1033.69\">0</text>\n</g>\n<g clip-path=\"url(#clip2201)\">\n<text style=\"fill:#000000; fill-opacity:1; font-family:Arial,Helvetica Neue,Helvetica,sans-serif; font-size:48px; text-anchor:middle;\" transform=\"rotate(0, 558.032, 1033.69)\" x=\"558.032\" y=\"1033.69\">10</text>\n</g>\n<g clip-path=\"url(#clip2201)\">\n<text style=\"fill:#000000; fill-opacity:1; font-family:Arial,Helvetica Neue,Helvetica,sans-serif; font-size:48px; text-anchor:middle;\" transform=\"rotate(0, 929.551, 1033.69)\" x=\"929.551\" y=\"1033.69\">20</text>\n</g>\n<g clip-path=\"url(#clip2201)\">\n<text style=\"fill:#000000; fill-opacity:1; font-family:Arial,Helvetica Neue,Helvetica,sans-serif; font-size:48px; text-anchor:middle;\" transform=\"rotate(0, 1301.07, 1033.69)\" x=\"1301.07\" y=\"1033.69\">30</text>\n</g>\n<g clip-path=\"url(#clip2201)\">\n<text style=\"fill:#000000; fill-opacity:1; font-family:Arial,Helvetica Neue,Helvetica,sans-serif; font-size:48px; text-anchor:middle;\" transform=\"rotate(0, 1672.59, 1033.69)\" x=\"1672.59\" y=\"1033.69\">40</text>\n</g>\n<g clip-path=\"url(#clip2201)\">\n<text style=\"fill:#000000; fill-opacity:1; font-family:Arial,Helvetica Neue,Helvetica,sans-serif; font-size:48px; text-anchor:middle;\" transform=\"rotate(0, 2044.11, 1033.69)\" x=\"2044.11\" y=\"1033.69\">50</text>\n</g>\n<g clip-path=\"url(#clip2201)\">\n<text style=\"fill:#000000; fill-opacity:1; font-family:Arial,Helvetica Neue,Helvetica,sans-serif; font-size:48px; text-anchor:end;\" transform=\"rotate(0, 125.361, 941.467)\" x=\"125.361\" y=\"941.467\">-4</text>\n</g>\n<g clip-path=\"url(#clip2201)\">\n<text style=\"fill:#000000; fill-opacity:1; font-family:Arial,Helvetica Neue,Helvetica,sans-serif; font-size:48px; text-anchor:end;\" transform=\"rotate(0, 125.361, 867.163)\" x=\"125.361\" y=\"867.163\">-2</text>\n</g>\n<g clip-path=\"url(#clip2201)\">\n<text style=\"fill:#000000; fill-opacity:1; font-family:Arial,Helvetica Neue,Helvetica,sans-serif; font-size:48px; text-anchor:end;\" transform=\"rotate(0, 125.361, 792.859)\" x=\"125.361\" y=\"792.859\">0</text>\n</g>\n<g clip-path=\"url(#clip2201)\">\n<text style=\"fill:#000000; fill-opacity:1; font-family:Arial,Helvetica Neue,Helvetica,sans-serif; font-size:48px; text-anchor:end;\" transform=\"rotate(0, 125.361, 718.556)\" x=\"125.361\" y=\"718.556\">2</text>\n</g>\n<g clip-path=\"url(#clip2201)\">\n<text style=\"fill:#000000; fill-opacity:1; font-family:Arial,Helvetica Neue,Helvetica,sans-serif; font-size:48px; text-anchor:end;\" transform=\"rotate(0, 125.361, 644.252)\" x=\"125.361\" y=\"644.252\">4</text>\n</g>\n<g clip-path=\"url(#clip2203)\">\n<image width=\"1932\" height=\"409\" xlink:href=\"data:image/png;base64,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\nAKJ+Aff2DwV18kaxAAAAAElFTkSuQmCC\n\" transform=\"translate(149, 571)\"/>\n</g>\n<defs>\n  <clipPath id=\"clip2204\">\n    <rect x=\"2129\" y=\"571\" width=\"73\" height=\"410\"/>\n  </clipPath>\n</defs>\n<g clip-path=\"url(#clip2204)\">\n<image width=\"72\" height=\"409\" xlink:href=\"data:image/png;base64,\niVBORw0KGgoAAAANSUhEUgAAAEgAAAGZCAYAAAAq+Hd5AAAEOUlEQVR4nO3dwbEjNwxAQcqF/KNw\nlvaSjsB4R+nQHYGKhYfhSL92P//ev9/hf/317Q/w6+a+f7/9GX6aCQrzTNBq3nVAG4kFiQUHFCQW\nTFAwQcFjPkgsSCyYoDDHDlpJLJigYILCHEt6JbEgsWCCwpz7z7c/w0+TWPAUCyYoWNLBAQWJhfm8\nP9/+DD9tznVAG4mF+ZiglQkKdlCY4ym2kliwpIMdFCQWJBZMULCDwnzu/fZn+GkSCxILDihILLgH\nBRMU5njMryQWJBY85oMDChILXlaDCQruQcGSDhILEgsOKEgsuAcFExQ85oMlHSQWTFBwQEFiYc71\nD3FuTFCY8+ygjSUdJBYs6SCxILFggoIJCpZ0kFiQWJhjgFYOKEgsjJf5nQkKdlBwQEFiwQSFOV7F\nVhIL8+7n25/hp5mgYEmHORJbSSzMeyZoI7EgsWCCggkKlnSQWJBYmHOd0cYOCsYnWNLBBAXfKIY5\nzxBtnE6QWHBAQWLBq0ZwOsG7WPCqESQW5lnSKzsoGJ9gSQcTFCzpYEkH4xN83RHm+cp15XSCe1Cw\ng4LEgntQMEHBq0aQWDA+wWM+SCxILHiKBacT7KDgKRYkFiQWPMWC0wkSCyYomKDggILEgpt0mOun\n55XTCZZ0MEHBkg4SCxILJig4oCCxYIKCCQpzTdBKYkFiwQQFBxQkFkxQMEHBBAUXxSCxILHggILE\ngl9Wg9MJdlBwDwoSCxILEgsSCxILJiiYoGBJB4mFeccEbSQWJBY8xYIJCnP9d+oriQWJBY/5MNdF\ncSWxYEkHExQs6SCxILEw99uf4MdJLEgseIoFExR8aR8kFiQWfOUa7KAgseAmHUxQ8LIaJBYkFiQW\nJBYkFrysBhMUxrvqTmJBYkFiQWJBYkFiwQQFOyj4VSNILPjZJ0gsSCz4S/tggsI8O2jlohgkFrys\nBvegILHgHhRMUHAPCv66I0gsuEkHOyhILFjSwQQFOyh41QgSC77uCL4wCxILEgsOKEgs+OuOYIKC\nHRTcg4LEgsSCAwoSC5Z0MEHBDgp+1QgSC37VCHZQkFhwDwomKNhBYd5xQhuJBYkFT7EgsSCxYIKC\nHRQkFiQWfB8U5nrVWEksSCyYoGAHBb+LBYmFebb0SmJBYsHLajBBwc8+QWJBYsGrRrCDgsSCxIIJ\nCiYozPU2v5JY8JgPdlCQWDBBwQQFExTmHV/bbyQWJBbmfiS2kViYa0mvTFAwQcE9KEgszP24B23s\noCCxYIKCCQoe82Hu+fPtz/DTJBYs6TBPYiuJBYkFExRMULCkg8SCxILEgsSCt/lggsLcZ4I2EgsS\nC/MktpJYkFhwkw4mKLgHBUs6SCy4BwVPsSCxILFggoLHfJBYkFjwmA8SCxILnmLBBIV5z5LeSCxI\nLMzxL1Ct5khsJbHgJh1MULCDgntQkFiYY0mvJBYkFjzFwn/5tuhBT8Q/GAAAAABJRU5ErkJggg==\n\" transform=\"translate(2129, 571)\"/>\n</g>\n<g clip-path=\"url(#clip2201)\">\n<text style=\"fill:#000000; fill-opacity:1; font-family:Arial,Helvetica Neue,Helvetica,sans-serif; font-size:48px; text-anchor:start;\" transform=\"rotate(0, 2237.26, 993.346)\" x=\"2237.26\" y=\"993.346\">0</text>\n</g>\n<g clip-path=\"url(#clip2201)\">\n<text style=\"fill:#000000; fill-opacity:1; font-family:Arial,Helvetica Neue,Helvetica,sans-serif; font-size:48px; text-anchor:start;\" transform=\"rotate(0, 2237.26, 952.479)\" x=\"2237.26\" y=\"952.479\">0.1</text>\n</g>\n<g clip-path=\"url(#clip2201)\">\n<text style=\"fill:#000000; fill-opacity:1; font-family:Arial,Helvetica Neue,Helvetica,sans-serif; font-size:48px; text-anchor:start;\" transform=\"rotate(0, 2237.26, 911.612)\" x=\"2237.26\" y=\"911.612\">0.2</text>\n</g>\n<g clip-path=\"url(#clip2201)\">\n<text style=\"fill:#000000; fill-opacity:1; font-family:Arial,Helvetica Neue,Helvetica,sans-serif; font-size:48px; text-anchor:start;\" transform=\"rotate(0, 2237.26, 870.745)\" x=\"2237.26\" y=\"870.745\">0.3</text>\n</g>\n<g clip-path=\"url(#clip2201)\">\n<text style=\"fill:#000000; fill-opacity:1; font-family:Arial,Helvetica Neue,Helvetica,sans-serif; font-size:48px; text-anchor:start;\" transform=\"rotate(0, 2237.26, 829.878)\" x=\"2237.26\" y=\"829.878\">0.4</text>\n</g>\n<g clip-path=\"url(#clip2201)\">\n<text style=\"fill:#000000; fill-opacity:1; font-family:Arial,Helvetica Neue,Helvetica,sans-serif; font-size:48px; text-anchor:start;\" transform=\"rotate(0, 2237.26, 789.011)\" x=\"2237.26\" y=\"789.011\">0.5</text>\n</g>\n<g clip-path=\"url(#clip2201)\">\n<text style=\"fill:#000000; fill-opacity:1; font-family:Arial,Helvetica Neue,Helvetica,sans-serif; font-size:48px; text-anchor:start;\" transform=\"rotate(0, 2237.26, 748.144)\" x=\"2237.26\" y=\"748.144\">0.6</text>\n</g>\n<g clip-path=\"url(#clip2201)\">\n<text style=\"fill:#000000; fill-opacity:1; font-family:Arial,Helvetica Neue,Helvetica,sans-serif; font-size:48px; text-anchor:start;\" transform=\"rotate(0, 2237.26, 707.276)\" x=\"2237.26\" y=\"707.276\">0.7</text>\n</g>\n<g clip-path=\"url(#clip2201)\">\n<text style=\"fill:#000000; fill-opacity:1; font-family:Arial,Helvetica Neue,Helvetica,sans-serif; font-size:48px; text-anchor:start;\" transform=\"rotate(0, 2237.26, 666.409)\" x=\"2237.26\" y=\"666.409\">0.8</text>\n</g>\n<g clip-path=\"url(#clip2201)\">\n<text style=\"fill:#000000; fill-opacity:1; font-family:Arial,Helvetica Neue,Helvetica,sans-serif; font-size:48px; text-anchor:start;\" transform=\"rotate(0, 2237.26, 625.542)\" x=\"2237.26\" y=\"625.542\">0.9</text>\n</g>\n<g clip-path=\"url(#clip2201)\">\n<text style=\"fill:#000000; fill-opacity:1; font-family:Arial,Helvetica Neue,Helvetica,sans-serif; font-size:48px; text-anchor:start;\" transform=\"rotate(0, 2237.26, 584.675)\" x=\"2237.26\" y=\"584.675\">1.0</text>\n</g>\n<polyline clip-path=\"url(#clip2201)\" style=\"stroke:#000000; stroke-width:4; stroke-opacity:1; fill:none\" points=\"\n  2201.26,979.695 2201.26,979.695 2225.26,979.695 2201.26,979.695 2201.26,938.828 2225.26,938.828 2201.26,938.828 2201.26,897.961 2225.26,897.961 2201.26,897.961 \n  2201.26,857.094 2225.26,857.094 2201.26,857.094 2201.26,816.227 2225.26,816.227 2201.26,816.227 2201.26,775.359 2225.26,775.359 2201.26,775.359 2201.26,734.492 \n  2225.26,734.492 2201.26,734.492 2201.26,693.625 2225.26,693.625 2201.26,693.625 2201.26,652.758 2225.26,652.758 2201.26,652.758 2201.26,611.891 2225.26,611.891 \n  2201.26,611.891 2201.26,571.024 2225.26,571.024 2201.26,571.024 \n  \"/>\n<g clip-path=\"url(#clip2201)\">\n<text style=\"fill:#000000; fill-opacity:1; font-family:Arial,Helvetica Neue,Helvetica,sans-serif; font-size:66px; text-anchor:middle;\" transform=\"rotate(-90, 2378.86, 775.359)\" x=\"2378.86\" y=\"775.359\"></text>\n</g>\n</svg>\n"
                     },
                     "type": "node"
                    }
                   ],
                   "instanceArgs": {
                    "namespace": "html",
                    "tag": "div"
                   },
                   "nodeType": "DOM",
                   "props": {
                    "attributes": {
                     "style": "display:flex; justify-content:center; align-items:center;"
                    }
                   },
                   "type": "node"
                  }
                 }
                },
                "systemjs_options": null
               },
               "nodeType": "Scope",
               "props": {},
               "type": "node"
              }
             ],
             "instanceArgs": {
              "namespace": "html",
              "tag": "div"
             },
             "nodeType": "DOM",
             "props": {},
             "type": "node"
            }
           }
          },
          "systemjs_options": null
         },
         "nodeType": "Scope",
         "props": {},
         "type": "node"
        }
       ],
       "instanceArgs": {
        "namespace": "html",
        "tag": "div"
       },
       "nodeType": "DOM",
       "props": {},
       "type": "node"
      },
      "text/html": [
       "<div\n",
       "    class=\"webio-mountpoint\"\n",
       "    data-webio-mountpoint=\"13945443994439652262\"\n",
       ">\n",
       "    <script>\n",
       "    if (window.require && require.defined && require.defined(\"nbextensions/webio/main\")) {\n",
       "        console.log(\"Jupyter WebIO extension detected, not mounting.\");\n",
       "    } else if (window.WebIO) {\n",
       "        WebIO.mount(\n",
       "            document.querySelector('[data-webio-mountpoint=\"13945443994439652262\"]'),\n",
       "            {\"props\":{},\"nodeType\":\"DOM\",\"type\":\"node\",\"instanceArgs\":{\"namespace\":\"html\",\"tag\":\"div\"},\"children\":[{\"props\":{\"className\":\"field\"},\"nodeType\":\"DOM\",\"type\":\"node\",\"instanceArgs\":{\"namespace\":\"html\",\"tag\":\"div\"},\"children\":[{\"props\":{},\"nodeType\":\"Scope\",\"type\":\"node\",\"instanceArgs\":{\"imports\":{\"data\":[{\"name\":\"knockout\",\"type\":\"js\",\"url\":\"\\/assetserver\\/5bdfa0079f8054411755b58d5cbf209816eb3491-knockout.js\"},{\"name\":\"knockout_punches\",\"type\":\"js\",\"url\":\"\\/assetserver\\/855febee65039013a347552d0c4d4111c3742744-knockout_punches.js\"},{\"name\":null,\"type\":\"js\",\"url\":\"\\/assetserver\\/c520edf59e8047fe705fc94922c00f742e98d6ca-all.js\"},{\"name\":null,\"type\":\"css\",\"url\":\"\\/assetserver\\/2e452758e706a09118283eb71a88f2d2c42ad320-style.css\"},{\"name\":null,\"type\":\"css\",\"url\":\"\\/assetserver\\/161e8bbeb8bd5574618f97bdf4a5bbe64bae489f-main.css\"}],\"type\":\"async_block\"},\"id\":\"knockout-component-4dcfab5a-8511-4fcd-9ac6-a6a20985b524\",\"handlers\":{\"formatted_vals\":[\"(function (val){return (val!=this.model[\\\"formatted_vals\\\"]()) ? (this.valueFromJulia[\\\"formatted_vals\\\"]=true, this.model[\\\"formatted_vals\\\"](val)) : undefined})\"],\"_promises\":{\"importsLoaded\":[\"function (ko, koPunches) {\\n    ko.punches.enableAll();\\n    ko.bindingHandlers.numericValue = {\\n        init : function(element, valueAccessor, allBindings, data, context) {\\n            var stringified = ko.observable(ko.unwrap(valueAccessor()));\\n            stringified.subscribe(function(value) {\\n                var val = parseFloat(value);\\n                if (!isNaN(val)) {\\n                    valueAccessor()(val);\\n                }\\n            })\\n            valueAccessor().subscribe(function(value) {\\n                var str = JSON.stringify(value);\\n                if ((str == \\\"0\\\") && ([\\\"-0\\\", \\\"-0.\\\"].indexOf(stringified()) >= 0))\\n                     return;\\n                 if ([\\\"null\\\", \\\"\\\"].indexOf(str) >= 0)\\n                     return;\\n                stringified(str);\\n            })\\n            ko.applyBindingsToNode(element, { value: stringified, valueUpdate: allBindings.get('valueUpdate')}, context);\\n        }\\n    };\\n    var json_data = JSON.parse(\\\"{\\\\\\\"formatted_vals\\\\\\\":[\\\\\\\"0.0\\\\\\\",\\\\\\\"1.0\\\\\\\",\\\\\\\"2.0\\\\\\\",\\\\\\\"3.0\\\\\\\",\\\\\\\"4.0\\\\\\\",\\\\\\\"5.0\\\\\\\",\\\\\\\"6.0\\\\\\\",\\\\\\\"7.0\\\\\\\",\\\\\\\"8.0\\\\\\\",\\\\\\\"9.0\\\\\\\",\\\\\\\"10.0\\\\\\\",\\\\\\\"11.0\\\\\\\",\\\\\\\"12.0\\\\\\\",\\\\\\\"13.0\\\\\\\",\\\\\\\"14.0\\\\\\\"],\\\\\\\"changes\\\\\\\":0,\\\\\\\"formatted_value\\\\\\\":\\\\\\\"7.0\\\\\\\",\\\\\\\"index\\\\\\\":8}\\\");\\n    var self = this;\\n    function AppViewModel() {\\n        for (var key in json_data) {\\n            var el = json_data[key];\\n            this[key] = Array.isArray(el) ? ko.observableArray(el) : ko.observable(el);\\n        }\\n        \\n        \\n        [this[\\\"formatted_vals\\\"].subscribe((function (val){!(this.valueFromJulia[\\\"formatted_vals\\\"]) ? (WebIO.setval({\\\"name\\\":\\\"formatted_vals\\\",\\\"scope\\\":\\\"knockout-component-4dcfab5a-8511-4fcd-9ac6-a6a20985b524\\\",\\\"id\\\":\\\"ob_1148\\\",\\\"type\\\":\\\"observable\\\"},val)) : undefined; return this.valueFromJulia[\\\"formatted_vals\\\"]=false}),self),this[\\\"changes\\\"].subscribe((function (val){!(this.valueFromJulia[\\\"changes\\\"]) ? (WebIO.setval({\\\"name\\\":\\\"changes\\\",\\\"scope\\\":\\\"knockout-component-4dcfab5a-8511-4fcd-9ac6-a6a20985b524\\\",\\\"id\\\":\\\"ob_1150\\\",\\\"type\\\":\\\"observable\\\"},val)) : undefined; return this.valueFromJulia[\\\"changes\\\"]=false}),self),this[\\\"formatted_value\\\"].subscribe((function (val){!(this.valueFromJulia[\\\"formatted_value\\\"]) ? (WebIO.setval({\\\"name\\\":\\\"formatted_value\\\",\\\"scope\\\":\\\"knockout-component-4dcfab5a-8511-4fcd-9ac6-a6a20985b524\\\",\\\"id\\\":\\\"ob_1149\\\",\\\"type\\\":\\\"observable\\\"},val)) : undefined; return this.valueFromJulia[\\\"formatted_value\\\"]=false}),self),this[\\\"index\\\"].subscribe((function (val){!(this.valueFromJulia[\\\"index\\\"]) ? (WebIO.setval({\\\"name\\\":\\\"index\\\",\\\"scope\\\":\\\"knockout-component-4dcfab5a-8511-4fcd-9ac6-a6a20985b524\\\",\\\"id\\\":\\\"ob_1147\\\",\\\"type\\\":\\\"observable\\\"},val)) : undefined; return this.valueFromJulia[\\\"index\\\"]=false}),self)]\\n        \\n    }\\n    self.model = new AppViewModel();\\n    self.valueFromJulia = {};\\n    for (var key in json_data) {\\n        self.valueFromJulia[key] = false;\\n    }\\n    ko.applyBindings(self.model, self.dom);\\n}\\n\"]},\"changes\":[\"(function (val){return (val!=this.model[\\\"changes\\\"]()) ? (this.valueFromJulia[\\\"changes\\\"]=true, this.model[\\\"changes\\\"](val)) : undefined})\"],\"formatted_value\":[\"(function (val){return (val!=this.model[\\\"formatted_value\\\"]()) ? (this.valueFromJulia[\\\"formatted_value\\\"]=true, this.model[\\\"formatted_value\\\"](val)) : undefined})\"],\"index\":[\"(function (val){return (val!=this.model[\\\"index\\\"]()) ? (this.valueFromJulia[\\\"index\\\"]=true, this.model[\\\"index\\\"](val)) : undefined})\",\"(function (val){return WebIO.setval({\\\"name\\\":\\\"formatted_value\\\",\\\"scope\\\":\\\"knockout-component-4dcfab5a-8511-4fcd-9ac6-a6a20985b524\\\",\\\"id\\\":\\\"ob_1149\\\",\\\"type\\\":\\\"observable\\\"},WebIO.getval({\\\"name\\\":\\\"formatted_vals\\\",\\\"scope\\\":\\\"knockout-component-4dcfab5a-8511-4fcd-9ac6-a6a20985b524\\\",\\\"id\\\":\\\"ob_1148\\\",\\\"type\\\":\\\"observable\\\"})[(WebIO.getval({\\\"name\\\":\\\"index\\\",\\\"scope\\\":\\\"knockout-component-4dcfab5a-8511-4fcd-9ac6-a6a20985b524\\\",\\\"id\\\":\\\"ob_1147\\\",\\\"type\\\":\\\"observable\\\"})-1)])})\"]},\"systemjs_options\":null,\"observables\":{\"formatted_vals\":{\"sync\":false,\"id\":\"ob_1148\",\"value\":[\"0.0\",\"1.0\",\"2.0\",\"3.0\",\"4.0\",\"5.0\",\"6.0\",\"7.0\",\"8.0\",\"9.0\",\"10.0\",\"11.0\",\"12.0\",\"13.0\",\"14.0\"]},\"changes\":{\"sync\":false,\"id\":\"ob_1150\",\"value\":0},\"formatted_value\":{\"sync\":false,\"id\":\"ob_1149\",\"value\":\"7.0\"},\"index\":{\"sync\":true,\"id\":\"ob_1147\",\"value\":8}}},\"children\":[{\"props\":{\"attributes\":{\"style\":\"display:flex; justify-content:center; align-items:center;\"}},\"nodeType\":\"DOM\",\"type\":\"node\",\"instanceArgs\":{\"namespace\":\"html\",\"tag\":\"div\"},\"children\":[{\"props\":{\"attributes\":{\"style\":\"text-align:right;width:18%\"}},\"nodeType\":\"DOM\",\"type\":\"node\",\"instanceArgs\":{\"namespace\":\"html\",\"tag\":\"div\"},\"children\":[{\"props\":{\"className\":\"interact \",\"style\":{\"padding\":\"5px 10px 0px 10px\"}},\"nodeType\":\"DOM\",\"type\":\"node\",\"instanceArgs\":{\"namespace\":\"html\",\"tag\":\"label\"},\"children\":[\"ego_v\"]}]},{\"props\":{\"attributes\":{\"style\":\"flex-grow:1; margin: 0 2%\"}},\"nodeType\":\"DOM\",\"type\":\"node\",\"instanceArgs\":{\"namespace\":\"html\",\"tag\":\"div\"},\"children\":[{\"props\":{\"max\":15,\"min\":1,\"attributes\":{\"type\":\"range\",\"data-bind\":\"numericValue: index, valueUpdate: 'input', event: {change : function () {this.changes(this.changes()+1)}}\",\"orient\":\"horizontal\"},\"step\":1,\"className\":\"slider slider is-fullwidth\",\"style\":{}},\"nodeType\":\"DOM\",\"type\":\"node\",\"instanceArgs\":{\"namespace\":\"html\",\"tag\":\"input\"},\"children\":[]}]},{\"props\":{\"attributes\":{\"style\":\"width:18%\"}},\"nodeType\":\"DOM\",\"type\":\"node\",\"instanceArgs\":{\"namespace\":\"html\",\"tag\":\"div\"},\"children\":[{\"props\":{\"attributes\":{\"data-bind\":\"text: formatted_value\"}},\"nodeType\":\"DOM\",\"type\":\"node\",\"instanceArgs\":{\"namespace\":\"html\",\"tag\":\"p\"},\"children\":[]}]}]}]}]},{\"props\":{},\"nodeType\":\"Scope\",\"type\":\"node\",\"instanceArgs\":{\"imports\":{\"data\":[],\"type\":\"async_block\"},\"id\":\"scope-cd4812fc-7f21-4313-83ec-07edd9dd2739\",\"handlers\":{},\"systemjs_options\":null,\"observables\":{\"obs-scope\":{\"sync\":false,\"id\":\"ob_1160\",\"value\":{\"props\":{},\"nodeType\":\"DOM\",\"type\":\"node\",\"instanceArgs\":{\"namespace\":\"html\",\"tag\":\"div\"},\"children\":[{\"props\":{\"className\":\"field\"},\"nodeType\":\"DOM\",\"type\":\"node\",\"instanceArgs\":{\"namespace\":\"html\",\"tag\":\"div\"},\"children\":[{\"props\":{},\"nodeType\":\"Scope\",\"type\":\"node\",\"instanceArgs\":{\"imports\":{\"data\":[{\"name\":\"knockout\",\"type\":\"js\",\"url\":\"\\/assetserver\\/5bdfa0079f8054411755b58d5cbf209816eb3491-knockout.js\"},{\"name\":\"knockout_punches\",\"type\":\"js\",\"url\":\"\\/assetserver\\/855febee65039013a347552d0c4d4111c3742744-knockout_punches.js\"},{\"name\":null,\"type\":\"js\",\"url\":\"\\/assetserver\\/c520edf59e8047fe705fc94922c00f742e98d6ca-all.js\"},{\"name\":null,\"type\":\"css\",\"url\":\"\\/assetserver\\/2e452758e706a09118283eb71a88f2d2c42ad320-style.css\"},{\"name\":null,\"type\":\"css\",\"url\":\"\\/assetserver\\/161e8bbeb8bd5574618f97bdf4a5bbe64bae489f-main.css\"}],\"type\":\"async_block\"},\"id\":\"knockout-component-8116c885-c5d8-4a62-9685-5c84bfbc42c7\",\"handlers\":{\"formatted_vals\":[\"(function (val){return (val!=this.model[\\\"formatted_vals\\\"]()) ? (this.valueFromJulia[\\\"formatted_vals\\\"]=true, this.model[\\\"formatted_vals\\\"](val)) : undefined})\"],\"_promises\":{\"importsLoaded\":[\"function (ko, koPunches) {\\n    ko.punches.enableAll();\\n    ko.bindingHandlers.numericValue = {\\n        init : function(element, valueAccessor, allBindings, data, context) {\\n            var stringified = ko.observable(ko.unwrap(valueAccessor()));\\n            stringified.subscribe(function(value) {\\n                var val = parseFloat(value);\\n                if (!isNaN(val)) {\\n                    valueAccessor()(val);\\n                }\\n            })\\n            valueAccessor().subscribe(function(value) {\\n                var str = JSON.stringify(value);\\n                if ((str == \\\"0\\\") && ([\\\"-0\\\", \\\"-0.\\\"].indexOf(stringified()) >= 0))\\n                     return;\\n                 if ([\\\"null\\\", \\\"\\\"].indexOf(str) >= 0)\\n                     return;\\n                stringified(str);\\n            })\\n            ko.applyBindingsToNode(element, { value: stringified, valueUpdate: allBindings.get('valueUpdate')}, context);\\n        }\\n    };\\n    var json_data = JSON.parse(\\\"{\\\\\\\"formatted_vals\\\\\\\":[\\\\\\\"0.0\\\\\\\",\\\\\\\"0.5\\\\\\\",\\\\\\\"1.0\\\\\\\",\\\\\\\"1.5\\\\\\\",\\\\\\\"2.0\\\\\\\"],\\\\\\\"changes\\\\\\\":0,\\\\\\\"formatted_value\\\\\\\":\\\\\\\"1.0\\\\\\\",\\\\\\\"index\\\\\\\":3}\\\");\\n    var self = this;\\n    function AppViewModel() {\\n        for (var key in json_data) {\\n            var el = json_data[key];\\n            this[key] = Array.isArray(el) ? ko.observableArray(el) : ko.observable(el);\\n        }\\n        \\n        \\n        [this[\\\"formatted_vals\\\"].subscribe((function (val){!(this.valueFromJulia[\\\"formatted_vals\\\"]) ? (WebIO.setval({\\\"name\\\":\\\"formatted_vals\\\",\\\"scope\\\":\\\"knockout-component-8116c885-c5d8-4a62-9685-5c84bfbc42c7\\\",\\\"id\\\":\\\"ob_1153\\\",\\\"type\\\":\\\"observable\\\"},val)) : undefined; return this.valueFromJulia[\\\"formatted_vals\\\"]=false}),self),this[\\\"changes\\\"].subscribe((function (val){!(this.valueFromJulia[\\\"changes\\\"]) ? (WebIO.setval({\\\"name\\\":\\\"changes\\\",\\\"scope\\\":\\\"knockout-component-8116c885-c5d8-4a62-9685-5c84bfbc42c7\\\",\\\"id\\\":\\\"ob_1155\\\",\\\"type\\\":\\\"observable\\\"},val)) : undefined; return this.valueFromJulia[\\\"changes\\\"]=false}),self),this[\\\"formatted_value\\\"].subscribe((function (val){!(this.valueFromJulia[\\\"formatted_value\\\"]) ? (WebIO.setval({\\\"name\\\":\\\"formatted_value\\\",\\\"scope\\\":\\\"knockout-component-8116c885-c5d8-4a62-9685-5c84bfbc42c7\\\",\\\"id\\\":\\\"ob_1154\\\",\\\"type\\\":\\\"observable\\\"},val)) : undefined; return this.valueFromJulia[\\\"formatted_value\\\"]=false}),self),this[\\\"index\\\"].subscribe((function (val){!(this.valueFromJulia[\\\"index\\\"]) ? (WebIO.setval({\\\"name\\\":\\\"index\\\",\\\"scope\\\":\\\"knockout-component-8116c885-c5d8-4a62-9685-5c84bfbc42c7\\\",\\\"id\\\":\\\"ob_1152\\\",\\\"type\\\":\\\"observable\\\"},val)) : undefined; return this.valueFromJulia[\\\"index\\\"]=false}),self)]\\n        \\n    }\\n    self.model = new AppViewModel();\\n    self.valueFromJulia = {};\\n    for (var key in json_data) {\\n        self.valueFromJulia[key] = false;\\n    }\\n    ko.applyBindings(self.model, self.dom);\\n}\\n\"]},\"changes\":[\"(function (val){return (val!=this.model[\\\"changes\\\"]()) ? (this.valueFromJulia[\\\"changes\\\"]=true, this.model[\\\"changes\\\"](val)) : undefined})\"],\"formatted_value\":[\"(function (val){return (val!=this.model[\\\"formatted_value\\\"]()) ? (this.valueFromJulia[\\\"formatted_value\\\"]=true, this.model[\\\"formatted_value\\\"](val)) : undefined})\"],\"index\":[\"(function (val){return (val!=this.model[\\\"index\\\"]()) ? (this.valueFromJulia[\\\"index\\\"]=true, this.model[\\\"index\\\"](val)) : undefined})\",\"(function (val){return WebIO.setval({\\\"name\\\":\\\"formatted_value\\\",\\\"scope\\\":\\\"knockout-component-8116c885-c5d8-4a62-9685-5c84bfbc42c7\\\",\\\"id\\\":\\\"ob_1154\\\",\\\"type\\\":\\\"observable\\\"},WebIO.getval({\\\"name\\\":\\\"formatted_vals\\\",\\\"scope\\\":\\\"knockout-component-8116c885-c5d8-4a62-9685-5c84bfbc42c7\\\",\\\"id\\\":\\\"ob_1153\\\",\\\"type\\\":\\\"observable\\\"})[(WebIO.getval({\\\"name\\\":\\\"index\\\",\\\"scope\\\":\\\"knockout-component-8116c885-c5d8-4a62-9685-5c84bfbc42c7\\\",\\\"id\\\":\\\"ob_1152\\\",\\\"type\\\":\\\"observable\\\"})-1)])})\"]},\"systemjs_options\":null,\"observables\":{\"formatted_vals\":{\"sync\":false,\"id\":\"ob_1153\",\"value\":[\"0.0\",\"0.5\",\"1.0\",\"1.5\",\"2.0\"]},\"changes\":{\"sync\":false,\"id\":\"ob_1155\",\"value\":0},\"formatted_value\":{\"sync\":false,\"id\":\"ob_1154\",\"value\":\"1.0\"},\"index\":{\"sync\":true,\"id\":\"ob_1152\",\"value\":3}}},\"children\":[{\"props\":{\"attributes\":{\"style\":\"display:flex; justify-content:center; align-items:center;\"}},\"nodeType\":\"DOM\",\"type\":\"node\",\"instanceArgs\":{\"namespace\":\"html\",\"tag\":\"div\"},\"children\":[{\"props\":{\"attributes\":{\"style\":\"text-align:right;width:18%\"}},\"nodeType\":\"DOM\",\"type\":\"node\",\"instanceArgs\":{\"namespace\":\"html\",\"tag\":\"div\"},\"children\":[{\"props\":{\"className\":\"interact \",\"style\":{\"padding\":\"5px 10px 0px 10px\"}},\"nodeType\":\"DOM\",\"type\":\"node\",\"instanceArgs\":{\"namespace\":\"html\",\"tag\":\"label\"},\"children\":[\"ped_v\"]}]},{\"props\":{\"attributes\":{\"style\":\"flex-grow:1; margin: 0 2%\"}},\"nodeType\":\"DOM\",\"type\":\"node\",\"instanceArgs\":{\"namespace\":\"html\",\"tag\":\"div\"},\"children\":[{\"props\":{\"max\":5,\"min\":1,\"attributes\":{\"type\":\"range\",\"data-bind\":\"numericValue: index, valueUpdate: 'input', event: {change : function () {this.changes(this.changes()+1)}}\",\"orient\":\"horizontal\"},\"step\":1,\"className\":\"slider slider is-fullwidth\",\"style\":{}},\"nodeType\":\"DOM\",\"type\":\"node\",\"instanceArgs\":{\"namespace\":\"html\",\"tag\":\"input\"},\"children\":[]}]},{\"props\":{\"attributes\":{\"style\":\"width:18%\"}},\"nodeType\":\"DOM\",\"type\":\"node\",\"instanceArgs\":{\"namespace\":\"html\",\"tag\":\"div\"},\"children\":[{\"props\":{\"attributes\":{\"data-bind\":\"text: formatted_value\"}},\"nodeType\":\"DOM\",\"type\":\"node\",\"instanceArgs\":{\"namespace\":\"html\",\"tag\":\"p\"},\"children\":[]}]}]}]}]},{\"props\":{},\"nodeType\":\"Scope\",\"type\":\"node\",\"instanceArgs\":{\"imports\":{\"data\":[],\"type\":\"async_block\"},\"id\":\"scope-4d72a825-056d-4bef-a196-f4676b2228f9\",\"handlers\":{},\"systemjs_options\":null,\"observables\":{\"obs-node\":{\"sync\":false,\"id\":\"ob_1161\",\"value\":{\"props\":{\"attributes\":{\"style\":\"display:flex; justify-content:center; align-items:center;\"}},\"nodeType\":\"DOM\",\"type\":\"node\",\"instanceArgs\":{\"namespace\":\"html\",\"tag\":\"div\"},\"children\":[{\"props\":{\"setInnerHtml\":\"<?xml version=\\\"1.0\\\" encoding=\\\"utf-8\\\"?>\\n<svg xmlns=\\\"http:\\/\\/www.w3.org\\/2000\\/svg\\\" xmlns:xlink=\\\"http:\\/\\/www.w3.org\\/1999\\/xlink\\\" width=\\\"600\\\" height=\\\"400\\\" viewBox=\\\"0 0 2400 1600\\\">\\n<defs>\\n  <clipPath id=\\\"clip2000\\\">\\n    <rect x=\\\"0\\\" y=\\\"0\\\" width=\\\"2000\\\" height=\\\"2000\\\"\\/>\\n  <\\/clipPath>\\n<\\/defs>\\n<defs>\\n  <clipPath id=\\\"clip2001\\\">\\n    <rect x=\\\"0\\\" y=\\\"0\\\" width=\\\"2400\\\" height=\\\"1600\\\"\\/>\\n  <\\/clipPath>\\n<\\/defs>\\n<polygon clip-path=\\\"url(#clip2001)\\\" points=\\\"\\n0,1600 2400,1600 2400,0 0,0 \\n  \\\" fill=\\\"#ffffff\\\" fill-opacity=\\\"1\\\"\\/>\\n<defs>\\n  <clipPath id=\\\"clip2002\\\">\\n    <rect x=\\\"480\\\" y=\\\"0\\\" width=\\\"1681\\\" height=\\\"1600\\\"\\/>\\n  <\\/clipPath>\\n<\\/defs>\\n<polygon clip-path=\\\"url(#clip2001)\\\" points=\\\"\\n149.361,979.695 2081.26,979.695 2081.26,571.024 149.361,571.024 \\n  \\\" fill=\\\"#ffffff\\\" fill-opacity=\\\"1\\\"\\/>\\n<defs>\\n  <clipPath id=\\\"clip2003\\\">\\n    <rect x=\\\"149\\\" y=\\\"571\\\" width=\\\"1933\\\" height=\\\"410\\\"\\/>\\n  <\\/clipPath>\\n<\\/defs>\\n<polyline clip-path=\\\"url(#clip2003)\\\" style=\\\"stroke:#000000; stroke-width:2; stroke-opacity:0.1; fill:none\\\" points=\\\"\\n  186.513,979.695 186.513,571.024 \\n  \\\"\\/>\\n<polyline clip-path=\\\"url(#clip2003)\\\" style=\\\"stroke:#000000; stroke-width:2; stroke-opacity:0.1; fill:none\\\" points=\\\"\\n  558.032,979.695 558.032,571.024 \\n  \\\"\\/>\\n<polyline clip-path=\\\"url(#clip2003)\\\" style=\\\"stroke:#000000; stroke-width:2; stroke-opacity:0.1; fill:none\\\" points=\\\"\\n  929.551,979.695 929.551,571.024 \\n  \\\"\\/>\\n<polyline clip-path=\\\"url(#clip2003)\\\" style=\\\"stroke:#000000; stroke-width:2; stroke-opacity:0.1; fill:none\\\" points=\\\"\\n  1301.07,979.695 1301.07,571.024 \\n  \\\"\\/>\\n<polyline clip-path=\\\"url(#clip2003)\\\" style=\\\"stroke:#000000; stroke-width:2; stroke-opacity:0.1; fill:none\\\" points=\\\"\\n  1672.59,979.695 1672.59,571.024 \\n  \\\"\\/>\\n<polyline clip-path=\\\"url(#clip2003)\\\" style=\\\"stroke:#000000; stroke-width:2; stroke-opacity:0.1; fill:none\\\" points=\\\"\\n  2044.11,979.695 2044.11,571.024 \\n  \\\"\\/>\\n<polyline clip-path=\\\"url(#clip2003)\\\" style=\\\"stroke:#000000; stroke-width:2; stroke-opacity:0.1; fill:none\\\" points=\\\"\\n  149.361,923.967 2081.26,923.967 \\n  \\\"\\/>\\n<polyline clip-path=\\\"url(#clip2003)\\\" style=\\\"stroke:#000000; stroke-width:2; stroke-opacity:0.1; fill:none\\\" points=\\\"\\n  149.361,849.663 2081.26,849.663 \\n  \\\"\\/>\\n<polyline clip-path=\\\"url(#clip2003)\\\" style=\\\"stroke:#000000; stroke-width:2; stroke-opacity:0.1; fill:none\\\" points=\\\"\\n  149.361,775.359 2081.26,775.359 \\n  \\\"\\/>\\n<polyline clip-path=\\\"url(#clip2003)\\\" style=\\\"stroke:#000000; stroke-width:2; stroke-opacity:0.1; fill:none\\\" points=\\\"\\n  149.361,701.056 2081.26,701.056 \\n  \\\"\\/>\\n<polyline clip-path=\\\"url(#clip2003)\\\" style=\\\"stroke:#000000; stroke-width:2; stroke-opacity:0.1; fill:none\\\" points=\\\"\\n  149.361,626.752 2081.26,626.752 \\n  \\\"\\/>\\n<polyline clip-path=\\\"url(#clip2001)\\\" style=\\\"stroke:#000000; stroke-width:4; stroke-opacity:1; fill:none\\\" points=\\\"\\n  149.361,979.695 2081.26,979.695 \\n  \\\"\\/>\\n<polyline clip-path=\\\"url(#clip2001)\\\" style=\\\"stroke:#000000; stroke-width:4; stroke-opacity:1; fill:none\\\" points=\\\"\\n  149.361,979.695 149.361,571.024 \\n  \\\"\\/>\\n<polyline clip-path=\\\"url(#clip2001)\\\" style=\\\"stroke:#000000; stroke-width:4; stroke-opacity:1; fill:none\\\" points=\\\"\\n  186.513,979.695 186.513,973.565 \\n  \\\"\\/>\\n<polyline clip-path=\\\"url(#clip2001)\\\" style=\\\"stroke:#000000; stroke-width:4; stroke-opacity:1; fill:none\\\" points=\\\"\\n  558.032,979.695 558.032,973.565 \\n  \\\"\\/>\\n<polyline clip-path=\\\"url(#clip2001)\\\" style=\\\"stroke:#000000; stroke-width:4; stroke-opacity:1; fill:none\\\" points=\\\"\\n  929.551,979.695 929.551,973.565 \\n  \\\"\\/>\\n<polyline clip-path=\\\"url(#clip2001)\\\" style=\\\"stroke:#000000; stroke-width:4; stroke-opacity:1; fill:none\\\" points=\\\"\\n  1301.07,979.695 1301.07,973.565 \\n  \\\"\\/>\\n<polyline clip-path=\\\"url(#clip2001)\\\" style=\\\"stroke:#000000; stroke-width:4; stroke-opacity:1; fill:none\\\" points=\\\"\\n  1672.59,979.695 1672.59,973.565 \\n  \\\"\\/>\\n<polyline clip-path=\\\"url(#clip2001)\\\" style=\\\"stroke:#000000; stroke-width:4; stroke-opacity:1; fill:none\\\" points=\\\"\\n  2044.11,979.695 2044.11,973.565 \\n  \\\"\\/>\\n<polyline clip-path=\\\"url(#clip2001)\\\" style=\\\"stroke:#000000; stroke-width:4; stroke-opacity:1; fill:none\\\" points=\\\"\\n  149.361,923.967 178.339,923.967 \\n  \\\"\\/>\\n<polyline clip-path=\\\"url(#clip2001)\\\" style=\\\"stroke:#000000; stroke-width:4; stroke-opacity:1; fill:none\\\" points=\\\"\\n  149.361,849.663 178.339,849.663 \\n  \\\"\\/>\\n<polyline clip-path=\\\"url(#clip2001)\\\" style=\\\"stroke:#000000; stroke-width:4; stroke-opacity:1; fill:none\\\" points=\\\"\\n  149.361,775.359 178.339,775.359 \\n  \\\"\\/>\\n<polyline clip-path=\\\"url(#clip2001)\\\" style=\\\"stroke:#000000; stroke-width:4; stroke-opacity:1; fill:none\\\" points=\\\"\\n  149.361,701.056 178.339,701.056 \\n  \\\"\\/>\\n<polyline clip-path=\\\"url(#clip2001)\\\" style=\\\"stroke:#000000; stroke-width:4; stroke-opacity:1; fill:none\\\" points=\\\"\\n  149.361,626.752 178.339,626.752 \\n  \\\"\\/>\\n<g clip-path=\\\"url(#clip2001)\\\">\\n<text style=\\\"fill:#000000; fill-opacity:1; font-family:Arial,Helvetica Neue,Helvetica,sans-serif; font-size:48px; text-anchor:middle;\\\" transform=\\\"rotate(0, 186.513, 1033.69)\\\" x=\\\"186.513\\\" y=\\\"1033.69\\\">0<\\/text>\\n<\\/g>\\n<g clip-path=\\\"url(#clip2001)\\\">\\n<text style=\\\"fill:#000000; fill-opacity:1; font-family:Arial,Helvetica Neue,Helvetica,sans-serif; font-size:48px; text-anchor:middle;\\\" transform=\\\"rotate(0, 558.032, 1033.69)\\\" x=\\\"558.032\\\" y=\\\"1033.69\\\">10<\\/text>\\n<\\/g>\\n<g clip-path=\\\"url(#clip2001)\\\">\\n<text style=\\\"fill:#000000; fill-opacity:1; font-family:Arial,Helvetica Neue,Helvetica,sans-serif; font-size:48px; text-anchor:middle;\\\" transform=\\\"rotate(0, 929.551, 1033.69)\\\" x=\\\"929.551\\\" y=\\\"1033.69\\\">20<\\/text>\\n<\\/g>\\n<g clip-path=\\\"url(#clip2001)\\\">\\n<text style=\\\"fill:#000000; fill-opacity:1; font-family:Arial,Helvetica Neue,Helvetica,sans-serif; font-size:48px; text-anchor:middle;\\\" transform=\\\"rotate(0, 1301.07, 1033.69)\\\" x=\\\"1301.07\\\" y=\\\"1033.69\\\">30<\\/text>\\n<\\/g>\\n<g clip-path=\\\"url(#clip2001)\\\">\\n<text style=\\\"fill:#000000; fill-opacity:1; font-family:Arial,Helvetica Neue,Helvetica,sans-serif; font-size:48px; text-anchor:middle;\\\" transform=\\\"rotate(0, 1672.59, 1033.69)\\\" x=\\\"1672.59\\\" y=\\\"1033.69\\\">40<\\/text>\\n<\\/g>\\n<g clip-path=\\\"url(#clip2001)\\\">\\n<text style=\\\"fill:#000000; fill-opacity:1; font-family:Arial,Helvetica Neue,Helvetica,sans-serif; font-size:48px; text-anchor:middle;\\\" transform=\\\"rotate(0, 2044.11, 1033.69)\\\" x=\\\"2044.11\\\" y=\\\"1033.69\\\">50<\\/text>\\n<\\/g>\\n<g clip-path=\\\"url(#clip2001)\\\">\\n<text style=\\\"fill:#000000; fill-opacity:1; font-family:Arial,Helvetica Neue,Helvetica,sans-serif; font-size:48px; text-anchor:end;\\\" transform=\\\"rotate(0, 125.361, 941.467)\\\" x=\\\"125.361\\\" y=\\\"941.467\\\">-4<\\/text>\\n<\\/g>\\n<g clip-path=\\\"url(#clip2001)\\\">\\n<text style=\\\"fill:#000000; fill-opacity:1; font-family:Arial,Helvetica Neue,Helvetica,sans-serif; font-size:48px; text-anchor:end;\\\" transform=\\\"rotate(0, 125.361, 867.163)\\\" x=\\\"125.361\\\" y=\\\"867.163\\\">-2<\\/text>\\n<\\/g>\\n<g clip-path=\\\"url(#clip2001)\\\">\\n<text style=\\\"fill:#000000; fill-opacity:1; font-family:Arial,Helvetica Neue,Helvetica,sans-serif; font-size:48px; text-anchor:end;\\\" transform=\\\"rotate(0, 125.361, 792.859)\\\" x=\\\"125.361\\\" y=\\\"792.859\\\">0<\\/text>\\n<\\/g>\\n<g clip-path=\\\"url(#clip2001)\\\">\\n<text style=\\\"fill:#000000; fill-opacity:1; font-family:Arial,Helvetica Neue,Helvetica,sans-serif; font-size:48px; text-anchor:end;\\\" transform=\\\"rotate(0, 125.361, 718.556)\\\" x=\\\"125.361\\\" y=\\\"718.556\\\">2<\\/text>\\n<\\/g>\\n<g clip-path=\\\"url(#clip2001)\\\">\\n<text style=\\\"fill:#000000; fill-opacity:1; font-family:Arial,Helvetica Neue,Helvetica,sans-serif; font-size:48px; text-anchor:end;\\\" transform=\\\"rotate(0, 125.361, 644.252)\\\" x=\\\"125.361\\\" y=\\\"644.252\\\">4<\\/text>\\n<\\/g>\\n<g clip-path=\\\"url(#clip2003)\\\">\\n<image width=\\\"1932\\\" height=\\\"409\\\" xlink:href=\\\"data:image\\/png;base64,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\\nAKJ+Aff2DwV18kaxAAAAAElFTkSuQmCC\\n\\\" transform=\\\"translate(149, 571)\\\"\\/>\\n<\\/g>\\n<defs>\\n  <clipPath id=\\\"clip2004\\\">\\n    <rect x=\\\"2129\\\" y=\\\"571\\\" width=\\\"73\\\" height=\\\"410\\\"\\/>\\n  <\\/clipPath>\\n<\\/defs>\\n<g clip-path=\\\"url(#clip2004)\\\">\\n<image width=\\\"72\\\" height=\\\"409\\\" xlink:href=\\\"data:image\\/png;base64,\\niVBORw0KGgoAAAANSUhEUgAAAEgAAAGZCAYAAAAq+Hd5AAAEOUlEQVR4nO3dwbEjNwxAQcqF\\/KNw\\nlvaSjsB4R+nQHYGKhYfhSL92P\\/\\/ev9\\/hf\\/317Q\\/w6+a+f7\\/9GX6aCQrzTNBq3nVAG4kFiQUHFCQW\\nTFAwQcFjPkgsSCyYoDDHDlpJLJigYILCHEt6JbEgsWCCwpz7z7c\\/w0+TWPAUCyYoWNLBAQWJhfm8\\nP9\\/+DD9tznVAG4mF+ZiglQkKdlCY4ym2kliwpIMdFCQWJBZMULCDwnzu\\/fZn+GkSCxILDihILLgH\\nBRMU5njMryQWJBY85oMDChILXlaDCQruQcGSDhILEgsOKEgsuAcFExQ85oMlHSQWTFBwQEFiYc71\\nD3FuTFCY8+ygjSUdJBYs6SCxILFggoIJCpZ0kFiQWJhjgFYOKEgsjJf5nQkKdlBwQEFiwQSFOV7F\\nVhIL8+7n25\\/hp5mgYEmHORJbSSzMeyZoI7EgsWCCggkKlnSQWJBYmHOd0cYOCsYnWNLBBAXfKIY5\\nzxBtnE6QWHBAQWLBq0ZwOsG7WPCqESQW5lnSKzsoGJ9gSQcTFCzpYEkH4xN83RHm+cp15XSCe1Cw\\ng4LEgntQMEHBq0aQWDA+wWM+SCxILHiKBacT7KDgKRYkFiQWPMWC0wkSCyYomKDggILEgpt0mOun\\n55XTCZZ0MEHBkg4SCxILJig4oCCxYIKCCQpzTdBKYkFiwQQFBxQkFkxQMEHBBAUXxSCxILHggILE\\ngl9Wg9MJdlBwDwoSCxILEgsSCxILJiiYoGBJB4mFeccEbSQWJBY8xYIJCnP9d+oriQWJBY\\/5MNdF\\ncSWxYEkHExQs6SCxILEw99uf4MdJLEgseIoFExR8aR8kFiQWfOUa7KAgseAmHUxQ8LIaJBYkFiQW\\nJBYkFrysBhMUxrvqTmJBYkFiQWJBYkFiwQQFOyj4VSNILPjZJ0gsSCz4S\\/tggsI8O2jlohgkFrys\\nBvegILHgHhRMUHAPCv66I0gsuEkHOyhILFjSwQQFOyh41QgSC77uCL4wCxILEgsOKEgs+OuOYIKC\\nHRTcg4LEgsSCAwoSC5Z0MEHBDgp+1QgSC37VCHZQkFhwDwomKNhBYd5xQhuJBYkFT7EgsSCxYIKC\\nHRQkFiQWfB8U5nrVWEksSCyYoGAHBb+LBYmFebb0SmJBYsHLajBBwc8+QWJBYsGrRrCDgsSCxIIJ\\nCiYozPU2v5JY8JgPdlCQWDBBwQQFExTmHV\\/bbyQWJBbmfiS2kViYa0mvTFAwQcE9KEgszP24B23s\\noCCxYIKCCQoe82Hu+fPtz\\/DTJBYs6TBPYiuJBYkFExRMULCkg8SCxILEgsSCt\\/lggsLcZ4I2EgsS\\nC\\/MktpJYkFhwkw4mKLgHBUs6SCy4BwVPsSCxILFggoLHfJBYkFjwmA8SCxILnmLBBIV5z5LeSCxI\\nLMzxL1Ct5khsJbHgJh1MULCDgntQkFiYY0mvJBYkFjzFwn\\/5tuhBT8Q\\/GAAAAABJRU5ErkJggg==\\n\\\" transform=\\\"translate(2129, 571)\\\"\\/>\\n<\\/g>\\n<g clip-path=\\\"url(#clip2001)\\\">\\n<text style=\\\"fill:#000000; fill-opacity:1; font-family:Arial,Helvetica Neue,Helvetica,sans-serif; font-size:48px; text-anchor:start;\\\" transform=\\\"rotate(0, 2237.26, 993.346)\\\" x=\\\"2237.26\\\" y=\\\"993.346\\\">0<\\/text>\\n<\\/g>\\n<g clip-path=\\\"url(#clip2001)\\\">\\n<text style=\\\"fill:#000000; fill-opacity:1; font-family:Arial,Helvetica Neue,Helvetica,sans-serif; font-size:48px; text-anchor:start;\\\" transform=\\\"rotate(0, 2237.26, 952.479)\\\" x=\\\"2237.26\\\" y=\\\"952.479\\\">0.1<\\/text>\\n<\\/g>\\n<g clip-path=\\\"url(#clip2001)\\\">\\n<text style=\\\"fill:#000000; fill-opacity:1; font-family:Arial,Helvetica Neue,Helvetica,sans-serif; font-size:48px; text-anchor:start;\\\" transform=\\\"rotate(0, 2237.26, 911.612)\\\" x=\\\"2237.26\\\" y=\\\"911.612\\\">0.2<\\/text>\\n<\\/g>\\n<g clip-path=\\\"url(#clip2001)\\\">\\n<text style=\\\"fill:#000000; fill-opacity:1; font-family:Arial,Helvetica Neue,Helvetica,sans-serif; font-size:48px; text-anchor:start;\\\" transform=\\\"rotate(0, 2237.26, 870.745)\\\" x=\\\"2237.26\\\" y=\\\"870.745\\\">0.3<\\/text>\\n<\\/g>\\n<g clip-path=\\\"url(#clip2001)\\\">\\n<text style=\\\"fill:#000000; fill-opacity:1; font-family:Arial,Helvetica Neue,Helvetica,sans-serif; font-size:48px; text-anchor:start;\\\" transform=\\\"rotate(0, 2237.26, 829.878)\\\" x=\\\"2237.26\\\" y=\\\"829.878\\\">0.4<\\/text>\\n<\\/g>\\n<g clip-path=\\\"url(#clip2001)\\\">\\n<text style=\\\"fill:#000000; fill-opacity:1; font-family:Arial,Helvetica Neue,Helvetica,sans-serif; font-size:48px; text-anchor:start;\\\" transform=\\\"rotate(0, 2237.26, 789.011)\\\" x=\\\"2237.26\\\" y=\\\"789.011\\\">0.5<\\/text>\\n<\\/g>\\n<g clip-path=\\\"url(#clip2001)\\\">\\n<text style=\\\"fill:#000000; fill-opacity:1; font-family:Arial,Helvetica Neue,Helvetica,sans-serif; font-size:48px; text-anchor:start;\\\" transform=\\\"rotate(0, 2237.26, 748.144)\\\" x=\\\"2237.26\\\" y=\\\"748.144\\\">0.6<\\/text>\\n<\\/g>\\n<g clip-path=\\\"url(#clip2001)\\\">\\n<text style=\\\"fill:#000000; fill-opacity:1; font-family:Arial,Helvetica Neue,Helvetica,sans-serif; font-size:48px; text-anchor:start;\\\" transform=\\\"rotate(0, 2237.26, 707.276)\\\" x=\\\"2237.26\\\" y=\\\"707.276\\\">0.7<\\/text>\\n<\\/g>\\n<g clip-path=\\\"url(#clip2001)\\\">\\n<text style=\\\"fill:#000000; fill-opacity:1; font-family:Arial,Helvetica Neue,Helvetica,sans-serif; font-size:48px; text-anchor:start;\\\" transform=\\\"rotate(0, 2237.26, 666.409)\\\" x=\\\"2237.26\\\" y=\\\"666.409\\\">0.8<\\/text>\\n<\\/g>\\n<g clip-path=\\\"url(#clip2001)\\\">\\n<text style=\\\"fill:#000000; fill-opacity:1; font-family:Arial,Helvetica Neue,Helvetica,sans-serif; font-size:48px; text-anchor:start;\\\" transform=\\\"rotate(0, 2237.26, 625.542)\\\" x=\\\"2237.26\\\" y=\\\"625.542\\\">0.9<\\/text>\\n<\\/g>\\n<g clip-path=\\\"url(#clip2001)\\\">\\n<text style=\\\"fill:#000000; fill-opacity:1; font-family:Arial,Helvetica Neue,Helvetica,sans-serif; font-size:48px; text-anchor:start;\\\" transform=\\\"rotate(0, 2237.26, 584.675)\\\" x=\\\"2237.26\\\" y=\\\"584.675\\\">1.0<\\/text>\\n<\\/g>\\n<polyline clip-path=\\\"url(#clip2001)\\\" style=\\\"stroke:#000000; stroke-width:4; stroke-opacity:1; fill:none\\\" points=\\\"\\n  2201.26,979.695 2201.26,979.695 2225.26,979.695 2201.26,979.695 2201.26,938.828 2225.26,938.828 2201.26,938.828 2201.26,897.961 2225.26,897.961 2201.26,897.961 \\n  2201.26,857.094 2225.26,857.094 2201.26,857.094 2201.26,816.227 2225.26,816.227 2201.26,816.227 2201.26,775.359 2225.26,775.359 2201.26,775.359 2201.26,734.492 \\n  2225.26,734.492 2201.26,734.492 2201.26,693.625 2225.26,693.625 2201.26,693.625 2201.26,652.758 2225.26,652.758 2201.26,652.758 2201.26,611.891 2225.26,611.891 \\n  2201.26,611.891 2201.26,571.024 2225.26,571.024 2201.26,571.024 \\n  \\\"\\/>\\n<g clip-path=\\\"url(#clip2001)\\\">\\n<text style=\\\"fill:#000000; fill-opacity:1; font-family:Arial,Helvetica Neue,Helvetica,sans-serif; font-size:66px; text-anchor:middle;\\\" transform=\\\"rotate(-90, 2378.86, 775.359)\\\" x=\\\"2378.86\\\" y=\\\"775.359\\\"><\\/text>\\n<\\/g>\\n<\\/svg>\\n\"},\"nodeType\":\"DOM\",\"type\":\"node\",\"instanceArgs\":{\"namespace\":\"html\",\"tag\":\"div\"},\"children\":[]}]}}}},\"children\":[{\"props\":{},\"nodeType\":\"ObservableNode\",\"type\":\"node\",\"instanceArgs\":{\"id\":\"ob_1161\",\"name\":\"obs-node\"},\"children\":[]}]}]}}}},\"children\":[{\"props\":{},\"nodeType\":\"ObservableNode\",\"type\":\"node\",\"instanceArgs\":{\"id\":\"ob_1160\",\"name\":\"obs-scope\"},\"children\":[]}]}]},\n",
       "        );\n",
       "    } else {\n",
       "        document\n",
       "            .querySelector('[data-webio-mountpoint=\"13945443994439652262\"]')\n",
       "            .innerHTML = '<strong>WebIO not detected.</strong>';\n",
       "    }\n",
       "    </script>\n",
       "</div>\n"
      ],
      "text/plain": [
       "Widget{:manipulate,Any}(OrderedDict{Symbol,Any}(:ego_v=>Widget{:slider,Float64}(OrderedDict{Symbol,Any}(:changes=>Observable{Int64} with 1 listeners. Value:\n",
       "0,:index=>Observable{Any} with 2 listeners. Value:\n",
       "8,:formatted_vals=>Observable{Any} with 1 listeners. Value:\n",
       "[\"0.0\", \"1.0\", \"2.0\", \"3.0\", \"4.0\", \"5.0\", \"6.0\", \"7.0\", \"8.0\", \"9.0\", \"10.0\", \"11.0\", \"12.0\", \"13.0\", \"14.0\"],:formatted_value=>Observable{String} with 1 listeners. Value:\n",
       "\"7.0\",:value=>Observable{Float64} with 2 listeners. Value:\n",
       "7.0), Observable{Float64} with 2 listeners. Value:\n",
       "7.0, Scope(\"knockout-component-4dcfab5a-8511-4fcd-9ac6-a6a20985b524\", Node{DOM}(DOM(:html, :div), Any[Node{DOM}(DOM(:html, :div), Any[Node{DOM}(DOM(:html, :label), Any[\"ego_v\"], Dict{Symbol,Any}(:className=>\"interact \",:style=>Dict{Any,Any}(:padding=>\"5px 10px 0px 10px\")), 1)], Dict{Symbol,Any}(:attributes=>Dict(\"style\"=>\"text-align:right;width:18%\")), 2), Node{DOM}(DOM(:html, :div), Any[Node{DOM}(DOM(:html, :input), Any[], Dict{Symbol,Any}(:max=>15,:min=>1,:attributes=>Dict{Any,Any}(:type=>\"range\",Symbol(\"data-bind\")=>\"numericValue: index, valueUpdate: 'input', event: {change : function () {this.changes(this.changes()+1)}}\",\"orient\"=>\"horizontal\"),:step=>1,:className=>\"slider slider is-fullwidth\",:style=>Dict{Any,Any}()), 0)], Dict{Symbol,Any}(:attributes=>Dict(\"style\"=>\"flex-grow:1; margin: 0 2%\")), 1), Node{DOM}(DOM(:html, :div), Any[Node{DOM}(DOM(:html, :p), Any[], Dict{Symbol,Any}(:attributes=>Dict(\"data-bind\"=>\"text: formatted_value\")), 0)], Dict{Symbol,Any}(:attributes=>Dict(\"style\"=>\"width:18%\")), 1)], Dict{Symbol,Any}(:attributes=>Dict(\"style\"=>\"display:flex; justify-content:center; align-items:center;\")), 7), Dict{String,Tuple{Observables.AbstractObservable,Union{Nothing, Bool}}}(\"formatted_vals\"=>(Observable{Any} with 1 listeners. Value:\n",
       "[\"0.0\", \"1.0\", \"2.0\", \"3.0\", \"4.0\", \"5.0\", \"6.0\", \"7.0\", \"8.0\", \"9.0\", \"10.0\", \"11.0\", \"12.0\", \"13.0\", \"14.0\"], nothing),\"changes\"=>(Observable{Int64} with 1 listeners. Value:\n",
       "0, nothing),\"formatted_value\"=>(Observable{String} with 1 listeners. Value:\n",
       "\"7.0\", nothing),\"index\"=>(Observable{Any} with 2 listeners. Value:\n",
       "8, nothing)), Set(String[]), nothing, Any[\"knockout\"=>\"/home/xubuntu/.julia/packages/Knockout/JIqpG/src/../assets/knockout.js\", \"knockout_punches\"=>\"/home/xubuntu/.julia/packages/Knockout/JIqpG/src/../assets/knockout_punches.js\", \"/home/xubuntu/.julia/packages/InteractBase/Q4IkI/src/../assets/all.js\", \"/home/xubuntu/.julia/packages/InteractBase/Q4IkI/src/../assets/style.css\", \"/home/xubuntu/.julia/packages/InteractBulma/Ohu5Y/src/../assets/main.css\"], Dict{Any,Any}(\"formatted_vals\"=>Any[JSString(\"(function (val){return (val!=this.model[\\\"formatted_vals\\\"]()) ? (this.valueFromJulia[\\\"formatted_vals\\\"]=true, this.model[\\\"formatted_vals\\\"](val)) : undefined})\")],\"_promises\"=>Dict{Any,Any}(\"importsLoaded\"=>Any[JSString(\"function (ko, koPunches) {\\n    ko.punches.enableAll();\\n    ko.bindingHandlers.numericValue = {\\n        init : function(element, valueAccessor, allBindings, data, context) {\\n            var stringified = ko.observable(ko.unwrap(valueAccessor()));\\n            stringified.subscribe(function(value) {\\n                var val = parseFloat(value);\\n                if (!isNaN(val)) {\\n                    valueAccessor()(val);\\n                }\\n            })\\n            valueAccessor().subscribe(function(value) {\\n                var str = JSON.stringify(value);\\n                if ((str == \\\"0\\\") && ([\\\"-0\\\", \\\"-0.\\\"].indexOf(stringified()) >= 0))\\n                     return;\\n                 if ([\\\"null\\\", \\\"\\\"].indexOf(str) >= 0)\\n                     return;\\n                stringified(str);\\n            })\\n            ko.applyBindingsToNode(element, { value: stringified, valueUpdate: allBindings.get('valueUpdate')}, context);\\n        }\\n    };\\n    var json_data = JSON.parse(\\\"{\\\\\\\"formatted_vals\\\\\\\":[\\\\\\\"0.0\\\\\\\",\\\\\\\"1.0\\\\\\\",\\\\\\\"2.0\\\\\\\",\\\\\\\"3.0\\\\\\\",\\\\\\\"4.0\\\\\\\",\\\\\\\"5.0\\\\\\\",\\\\\\\"6.0\\\\\\\",\\\\\\\"7.0\\\\\\\",\\\\\\\"8.0\\\\\\\",\\\\\\\"9.0\\\\\\\",\\\\\\\"10.0\\\\\\\",\\\\\\\"11.0\\\\\\\",\\\\\\\"12.0\\\\\\\",\\\\\\\"13.0\\\\\\\",\\\\\\\"14.0\\\\\\\"],\\\\\\\"changes\\\\\\\":0,\\\\\\\"formatted_value\\\\\\\":\\\\\\\"7.0\\\\\\\",\\\\\\\"index\\\\\\\":8}\\\");\\n    var self = this;\\n    function AppViewModel() {\\n        for (var key in json_data) {\\n            var el = json_data[key];\\n            this[key] = Array.isArray(el) ? ko.observableArray(el) : ko.observable(el);\\n        }\\n        \\n        \\n        [this[\\\"formatted_vals\\\"].subscribe((function (val){!(this.valueFromJulia[\\\"formatted_vals\\\"]) ? (WebIO.setval({\\\"name\\\":\\\"formatted_vals\\\",\\\"scope\\\":\\\"knockout-component-4dcfab5a-8511-4fcd-9ac6-a6a20985b524\\\",\\\"id\\\":\\\"ob_1148\\\",\\\"type\\\":\\\"observable\\\"},val)) : undefined; return this.valueFromJulia[\\\"formatted_vals\\\"]=false}),self),this[\\\"changes\\\"].subscribe((function (val){!(this.valueFromJulia[\\\"changes\\\"]) ? (WebIO.setval({\\\"name\\\":\\\"changes\\\",\\\"scope\\\":\\\"knockout-component-4dcfab5a-8511-4fcd-9ac6-a6a20985b524\\\",\\\"id\\\":\\\"ob_1150\\\",\\\"type\\\":\\\"observable\\\"},val)) : undefined; return this.valueFromJulia[\\\"changes\\\"]=false}),self),this[\\\"formatted_value\\\"].subscribe((function (val){!(this.valueFromJulia[\\\"formatted_value\\\"]) ? (WebIO.setval({\\\"name\\\":\\\"formatted_value\\\",\\\"scope\\\":\\\"knockout-component-4dcfab5a-8511-4fcd-9ac6-a6a20985b524\\\",\\\"id\\\":\\\"ob_1149\\\",\\\"type\\\":\\\"observable\\\"},val)) : undefined; return this.valueFromJulia[\\\"formatted_value\\\"]=false}),self),this[\\\"index\\\"].subscribe((function (val){!(this.valueFromJulia[\\\"index\\\"]) ? (WebIO.setval({\\\"name\\\":\\\"index\\\",\\\"scope\\\":\\\"knockout-component-4dcfab5a-8511-4fcd-9ac6-a6a20985b524\\\",\\\"id\\\":\\\"ob_1147\\\",\\\"type\\\":\\\"observable\\\"},val)) : undefined; return this.valueFromJulia[\\\"index\\\"]=false}),self)]\\n        \\n    }\\n    self.model = new AppViewModel();\\n    self.valueFromJulia = {};\\n    for (var key in json_data) {\\n        self.valueFromJulia[key] = false;\\n    }\\n    ko.applyBindings(self.model, self.dom);\\n}\\n\")]),\"changes\"=>Any[JSString(\"(function (val){return (val!=this.model[\\\"changes\\\"]()) ? (this.valueFromJulia[\\\"changes\\\"]=true, this.model[\\\"changes\\\"](val)) : undefined})\")],\"formatted_value\"=>Any[JSString(\"(function (val){return (val!=this.model[\\\"formatted_value\\\"]()) ? (this.valueFromJulia[\\\"formatted_value\\\"]=true, this.model[\\\"formatted_value\\\"](val)) : undefined})\")],\"index\"=>Any[JSString(\"(function (val){return (val!=this.model[\\\"index\\\"]()) ? (this.valueFromJulia[\\\"index\\\"]=true, this.model[\\\"index\\\"](val)) : undefined})\"), JSString(\"(function (val){return WebIO.setval({\\\"name\\\":\\\"formatted_value\\\",\\\"scope\\\":\\\"knockout-component-4dcfab5a-8511-4fcd-9ac6-a6a20985b524\\\",\\\"id\\\":\\\"ob_1149\\\",\\\"type\\\":\\\"observable\\\"},WebIO.getval({\\\"name\\\":\\\"formatted_vals\\\",\\\"scope\\\":\\\"knockout-component-4dcfab5a-8511-4fcd-9ac6-a6a20985b524\\\",\\\"id\\\":\\\"ob_1148\\\",\\\"type\\\":\\\"observable\\\"})[(WebIO.getval({\\\"name\\\":\\\"index\\\",\\\"scope\\\":\\\"knockout-component-4dcfab5a-8511-4fcd-9ac6-a6a20985b524\\\",\\\"id\\\":\\\"ob_1147\\\",\\\"type\\\":\\\"observable\\\"})-1)])})\")]), ConnectionPool(Channel{Any}(sz_max:9223372036854775807,sz_curr:0), Set(AbstractConnection[]), Channel{AbstractConnection}(sz_max:32,sz_curr:0))), ##52#53{#dom#13{##dom#11#12{Dict{Any,Any},DOM}},typeof(scope)}(#dom#13{##dom#11#12{Dict{Any,Any},DOM}}(##dom#11#12{Dict{Any,Any},DOM}(Dict{Any,Any}(:className=>\"field\"), DOM(:html, :div))), scope))), Observable{Any} with 0 listeners. Value:\n",
       "Widget{:manipulate,Any}(OrderedDict{Symbol,Any}(:ped_v=>Widget{:slider,Float64}(OrderedDict{Symbol,Any}(:changes=>Observable{Int64} with 1 listeners. Value:\n",
       "0,:index=>Observable{Any} with 2 listeners. Value:\n",
       "3,:formatted_vals=>Observable{Any} with 1 listeners. Value:\n",
       "[\"0.0\", \"0.5\", \"1.0\", \"1.5\", \"2.0\"],:formatted_value=>Observable{String} with 1 listeners. Value:\n",
       "\"1.0\",:value=>Observable{Float64} with 2 listeners. Value:\n",
       "1.0), Observable{Float64} with 2 listeners. Value:\n",
       "1.0, Scope(\"knockout-component-8116c885-c5d8-4a62-9685-5c84bfbc42c7\", Node{DOM}(DOM(:html, :div), Any[Node{DOM}(DOM(:html, :div), Any[Node{DOM}(DOM(:html, :label), Any[\"ped_v\"], Dict{Symbol,Any}(:className=>\"interact \",:style=>Dict{Any,Any}(:padding=>\"5px 10px 0px 10px\")), 1)], Dict{Symbol,Any}(:attributes=>Dict(\"style\"=>\"text-align:right;width:18%\")), 2), Node{DOM}(DOM(:html, :div), Any[Node{DOM}(DOM(:html, :input), Any[], Dict{Symbol,Any}(:max=>5,:min=>1,:attributes=>Dict{Any,Any}(:type=>\"range\",Symbol(\"data-bind\")=>\"numericValue: index, valueUpdate: 'input', event: {change : function () {this.changes(this.changes()+1)}}\",\"orient\"=>\"horizontal\"),:step=>1,:className=>\"slider slider is-fullwidth\",:style=>Dict{Any,Any}()), 0)], Dict{Symbol,Any}(:attributes=>Dict(\"style\"=>\"flex-grow:1; margin: 0 2%\")), 1), Node{DOM}(DOM(:html, :div), Any[Node{DOM}(DOM(:html, :p), Any[], Dict{Symbol,Any}(:attributes=>Dict(\"data-bind\"=>\"text: formatted_value\")), 0)], Dict{Symbol,Any}(:attributes=>Dict(\"style\"=>\"width:18%\")), 1)], Dict{Symbol,Any}(:attributes=>Dict(\"style\"=>\"display:flex; justify-content:center; align-items:center;\")), 7), Dict{String,Tuple{Observables.AbstractObservable,Union{Nothing, Bool}}}(\"formatted_vals\"=>(Observable{Any} with 1 listeners. Value:\n",
       "[\"0.0\", \"0.5\", \"1.0\", \"1.5\", \"2.0\"], nothing),\"changes\"=>(Observable{Int64} with 1 listeners. Value:\n",
       "0, nothing),\"formatted_value\"=>(Observable{String} with 1 listeners. Value:\n",
       "\"1.0\", nothing),\"index\"=>(Observable{Any} with 2 listeners. Value:\n",
       "3, nothing)), Set(String[]), nothing, Any[\"knockout\"=>\"/home/xubuntu/.julia/packages/Knockout/JIqpG/src/../assets/knockout.js\", \"knockout_punches\"=>\"/home/xubuntu/.julia/packages/Knockout/JIqpG/src/../assets/knockout_punches.js\", \"/home/xubuntu/.julia/packages/InteractBase/Q4IkI/src/../assets/all.js\", \"/home/xubuntu/.julia/packages/InteractBase/Q4IkI/src/../assets/style.css\", \"/home/xubuntu/.julia/packages/InteractBulma/Ohu5Y/src/../assets/main.css\"], Dict{Any,Any}(\"formatted_vals\"=>Any[JSString(\"(function (val){return (val!=this.model[\\\"formatted_vals\\\"]()) ? (this.valueFromJulia[\\\"formatted_vals\\\"]=true, this.model[\\\"formatted_vals\\\"](val)) : undefined})\")],\"_promises\"=>Dict{Any,Any}(\"importsLoaded\"=>Any[JSString(\"function (ko, koPunches) {\\n    ko.punches.enableAll();\\n    ko.bindingHandlers.numericValue = {\\n        init : function(element, valueAccessor, allBindings, data, context) {\\n            var stringified = ko.observable(ko.unwrap(valueAccessor()));\\n            stringified.subscribe(function(value) {\\n                var val = parseFloat(value);\\n                if (!isNaN(val)) {\\n                    valueAccessor()(val);\\n                }\\n            })\\n            valueAccessor().subscribe(function(value) {\\n                var str = JSON.stringify(value);\\n                if ((str == \\\"0\\\") && ([\\\"-0\\\", \\\"-0.\\\"].indexOf(stringified()) >= 0))\\n                     return;\\n                 if ([\\\"null\\\", \\\"\\\"].indexOf(str) >= 0)\\n                     return;\\n                stringified(str);\\n            })\\n            ko.applyBindingsToNode(element, { value: stringified, valueUpdate: allBindings.get('valueUpdate')}, context);\\n        }\\n    };\\n    var json_data = JSON.parse(\\\"{\\\\\\\"formatted_vals\\\\\\\":[\\\\\\\"0.0\\\\\\\",\\\\\\\"0.5\\\\\\\",\\\\\\\"1.0\\\\\\\",\\\\\\\"1.5\\\\\\\",\\\\\\\"2.0\\\\\\\"],\\\\\\\"changes\\\\\\\":0,\\\\\\\"formatted_value\\\\\\\":\\\\\\\"1.0\\\\\\\",\\\\\\\"index\\\\\\\":3}\\\");\\n    var self = this;\\n    function AppViewModel() {\\n        for (var key in json_data) {\\n            var el = json_data[key];\\n            this[key] = Array.isArray(el) ? ko.observableArray(el) : ko.observable(el);\\n        }\\n        \\n        \\n        [this[\\\"formatted_vals\\\"].subscribe((function (val){!(this.valueFromJulia[\\\"formatted_vals\\\"]) ? (WebIO.setval({\\\"name\\\":\\\"formatted_vals\\\",\\\"scope\\\":\\\"knockout-component-8116c885-c5d8-4a62-9685-5c84bfbc42c7\\\",\\\"id\\\":\\\"ob_1153\\\",\\\"type\\\":\\\"observable\\\"},val)) : undefined; return this.valueFromJulia[\\\"formatted_vals\\\"]=false}),self),this[\\\"changes\\\"].subscribe((function (val){!(this.valueFromJulia[\\\"changes\\\"]) ? (WebIO.setval({\\\"name\\\":\\\"changes\\\",\\\"scope\\\":\\\"knockout-component-8116c885-c5d8-4a62-9685-5c84bfbc42c7\\\",\\\"id\\\":\\\"ob_1155\\\",\\\"type\\\":\\\"observable\\\"},val)) : undefined; return this.valueFromJulia[\\\"changes\\\"]=false}),self),this[\\\"formatted_value\\\"].subscribe((function (val){!(this.valueFromJulia[\\\"formatted_value\\\"]) ? (WebIO.setval({\\\"name\\\":\\\"formatted_value\\\",\\\"scope\\\":\\\"knockout-component-8116c885-c5d8-4a62-9685-5c84bfbc42c7\\\",\\\"id\\\":\\\"ob_1154\\\",\\\"type\\\":\\\"observable\\\"},val)) : undefined; return this.valueFromJulia[\\\"formatted_value\\\"]=false}),self),this[\\\"index\\\"].subscribe((function (val){!(this.valueFromJulia[\\\"index\\\"]) ? (WebIO.setval({\\\"name\\\":\\\"index\\\",\\\"scope\\\":\\\"knockout-component-8116c885-c5d8-4a62-9685-5c84bfbc42c7\\\",\\\"id\\\":\\\"ob_1152\\\",\\\"type\\\":\\\"observable\\\"},val)) : undefined; return this.valueFromJulia[\\\"index\\\"]=false}),self)]\\n        \\n    }\\n    self.model = new AppViewModel();\\n    self.valueFromJulia = {};\\n    for (var key in json_data) {\\n        self.valueFromJulia[key] = false;\\n    }\\n    ko.applyBindings(self.model, self.dom);\\n}\\n\")]),\"changes\"=>Any[JSString(\"(function (val){return (val!=this.model[\\\"changes\\\"]()) ? (this.valueFromJulia[\\\"changes\\\"]=true, this.model[\\\"changes\\\"](val)) : undefined})\")],\"formatted_value\"=>Any[JSString(\"(function (val){return (val!=this.model[\\\"formatted_value\\\"]()) ? (this.valueFromJulia[\\\"formatted_value\\\"]=true, this.model[\\\"formatted_value\\\"](val)) : undefined})\")],\"index\"=>Any[JSString(\"(function (val){return (val!=this.model[\\\"index\\\"]()) ? (this.valueFromJulia[\\\"index\\\"]=true, this.model[\\\"index\\\"](val)) : undefined})\"), JSString(\"(function (val){return WebIO.setval({\\\"name\\\":\\\"formatted_value\\\",\\\"scope\\\":\\\"knockout-component-8116c885-c5d8-4a62-9685-5c84bfbc42c7\\\",\\\"id\\\":\\\"ob_1154\\\",\\\"type\\\":\\\"observable\\\"},WebIO.getval({\\\"name\\\":\\\"formatted_vals\\\",\\\"scope\\\":\\\"knockout-component-8116c885-c5d8-4a62-9685-5c84bfbc42c7\\\",\\\"id\\\":\\\"ob_1153\\\",\\\"type\\\":\\\"observable\\\"})[(WebIO.getval({\\\"name\\\":\\\"index\\\",\\\"scope\\\":\\\"knockout-component-8116c885-c5d8-4a62-9685-5c84bfbc42c7\\\",\\\"id\\\":\\\"ob_1152\\\",\\\"type\\\":\\\"observable\\\"})-1)])})\")]), ConnectionPool(Channel{Any}(sz_max:9223372036854775807,sz_curr:0), Set(AbstractConnection[]), Channel{AbstractConnection}(sz_max:32,sz_curr:0))), ##52#53{#dom#13{##dom#11#12{Dict{Any,Any},DOM}},typeof(scope)}(#dom#13{##dom#11#12{Dict{Any,Any},DOM}}(##dom#11#12{Dict{Any,Any},DOM}(Dict{Any,Any}(:className=>\"field\"), DOM(:html, :div))), scope))), Observable{Any} with 0 listeners. Value:\n",
       "Plot{Plots.GRBackend() n=1}, nothing, getfield(Main, Symbol(\"##67#73\")){Observable{Any}}(Observable{Any} with 0 listeners. Value:\n",
       "Plot{Plots.GRBackend() n=1})), nothing, getfield(Main, Symbol(\"##68#74\")){Observable{Any}}(Observable{Any} with 0 listeners. Value:\n",
       "Widget{:manipulate,Any}(OrderedDict{Symbol,Any}(:ped_v=>Widget{:slider,Float64}(OrderedDict{Symbol,Any}(:changes=>Observable{Int64} with 1 listeners. Value:\n",
       "0,:index=>Observable{Any} with 2 listeners. Value:\n",
       "3,:formatted_vals=>Observable{Any} with 1 listeners. Value:\n",
       "[\"0.0\", \"0.5\", \"1.0\", \"1.5\", \"2.0\"],:formatted_value=>Observable{String} with 1 listeners. Value:\n",
       "\"1.0\",:value=>Observable{Float64} with 2 listeners. Value:\n",
       "1.0), Observable{Float64} with 2 listeners. Value:\n",
       "1.0, Scope(\"knockout-component-8116c885-c5d8-4a62-9685-5c84bfbc42c7\", Node{DOM}(DOM(:html, :div), Any[Node{DOM}(DOM(:html, :div), Any[Node{DOM}(DOM(:html, :label), Any[\"ped_v\"], Dict{Symbol,Any}(:className=>\"interact \",:style=>Dict{Any,Any}(:padding=>\"5px 10px 0px 10px\")), 1)], Dict{Symbol,Any}(:attributes=>Dict(\"style\"=>\"text-align:right;width:18%\")), 2), Node{DOM}(DOM(:html, :div), Any[Node{DOM}(DOM(:html, :input), Any[], Dict{Symbol,Any}(:max=>5,:min=>1,:attributes=>Dict{Any,Any}(:type=>\"range\",Symbol(\"data-bind\")=>\"numericValue: index, valueUpdate: 'input', event: {change : function () {this.changes(this.changes()+1)}}\",\"orient\"=>\"horizontal\"),:step=>1,:className=>\"slider slider is-fullwidth\",:style=>Dict{Any,Any}()), 0)], Dict{Symbol,Any}(:attributes=>Dict(\"style\"=>\"flex-grow:1; margin: 0 2%\")), 1), Node{DOM}(DOM(:html, :div), Any[Node{DOM}(DOM(:html, :p), Any[], Dict{Symbol,Any}(:attributes=>Dict(\"data-bind\"=>\"text: formatted_value\")), 0)], Dict{Symbol,Any}(:attributes=>Dict(\"style\"=>\"width:18%\")), 1)], Dict{Symbol,Any}(:attributes=>Dict(\"style\"=>\"display:flex; justify-content:center; align-items:center;\")), 7), Dict{String,Tuple{Observables.AbstractObservable,Union{Nothing, Bool}}}(\"formatted_vals\"=>(Observable{Any} with 1 listeners. Value:\n",
       "[\"0.0\", \"0.5\", \"1.0\", \"1.5\", \"2.0\"], nothing),\"changes\"=>(Observable{Int64} with 1 listeners. Value:\n",
       "0, nothing),\"formatted_value\"=>(Observable{String} with 1 listeners. Value:\n",
       "\"1.0\", nothing),\"index\"=>(Observable{Any} with 2 listeners. Value:\n",
       "3, nothing)), Set(String[]), nothing, Any[\"knockout\"=>\"/home/xubuntu/.julia/packages/Knockout/JIqpG/src/../assets/knockout.js\", \"knockout_punches\"=>\"/home/xubuntu/.julia/packages/Knockout/JIqpG/src/../assets/knockout_punches.js\", \"/home/xubuntu/.julia/packages/InteractBase/Q4IkI/src/../assets/all.js\", \"/home/xubuntu/.julia/packages/InteractBase/Q4IkI/src/../assets/style.css\", \"/home/xubuntu/.julia/packages/InteractBulma/Ohu5Y/src/../assets/main.css\"], Dict{Any,Any}(\"formatted_vals\"=>Any[JSString(\"(function (val){return (val!=this.model[\\\"formatted_vals\\\"]()) ? (this.valueFromJulia[\\\"formatted_vals\\\"]=true, this.model[\\\"formatted_vals\\\"](val)) : undefined})\")],\"_promises\"=>Dict{Any,Any}(\"importsLoaded\"=>Any[JSString(\"function (ko, koPunches) {\\n    ko.punches.enableAll();\\n    ko.bindingHandlers.numericValue = {\\n        init : function(element, valueAccessor, allBindings, data, context) {\\n            var stringified = ko.observable(ko.unwrap(valueAccessor()));\\n            stringified.subscribe(function(value) {\\n                var val = parseFloat(value);\\n                if (!isNaN(val)) {\\n                    valueAccessor()(val);\\n                }\\n            })\\n            valueAccessor().subscribe(function(value) {\\n                var str = JSON.stringify(value);\\n                if ((str == \\\"0\\\") && ([\\\"-0\\\", \\\"-0.\\\"].indexOf(stringified()) >= 0))\\n                     return;\\n                 if ([\\\"null\\\", \\\"\\\"].indexOf(str) >= 0)\\n                     return;\\n                stringified(str);\\n            })\\n            ko.applyBindingsToNode(element, { value: stringified, valueUpdate: allBindings.get('valueUpdate')}, context);\\n        }\\n    };\\n    var json_data = JSON.parse(\\\"{\\\\\\\"formatted_vals\\\\\\\":[\\\\\\\"0.0\\\\\\\",\\\\\\\"0.5\\\\\\\",\\\\\\\"1.0\\\\\\\",\\\\\\\"1.5\\\\\\\",\\\\\\\"2.0\\\\\\\"],\\\\\\\"changes\\\\\\\":0,\\\\\\\"formatted_value\\\\\\\":\\\\\\\"1.0\\\\\\\",\\\\\\\"index\\\\\\\":3}\\\");\\n    var self = this;\\n    function AppViewModel() {\\n        for (var key in json_data) {\\n            var el = json_data[key];\\n            this[key] = Array.isArray(el) ? ko.observableArray(el) : ko.observable(el);\\n        }\\n        \\n        \\n        [this[\\\"formatted_vals\\\"].subscribe((function (val){!(this.valueFromJulia[\\\"formatted_vals\\\"]) ? (WebIO.setval({\\\"name\\\":\\\"formatted_vals\\\",\\\"scope\\\":\\\"knockout-component-8116c885-c5d8-4a62-9685-5c84bfbc42c7\\\",\\\"id\\\":\\\"ob_1153\\\",\\\"type\\\":\\\"observable\\\"},val)) : undefined; return this.valueFromJulia[\\\"formatted_vals\\\"]=false}),self),this[\\\"changes\\\"].subscribe((function (val){!(this.valueFromJulia[\\\"changes\\\"]) ? (WebIO.setval({\\\"name\\\":\\\"changes\\\",\\\"scope\\\":\\\"knockout-component-8116c885-c5d8-4a62-9685-5c84bfbc42c7\\\",\\\"id\\\":\\\"ob_1155\\\",\\\"type\\\":\\\"observable\\\"},val)) : undefined; return this.valueFromJulia[\\\"changes\\\"]=false}),self),this[\\\"formatted_value\\\"].subscribe((function (val){!(this.valueFromJulia[\\\"formatted_value\\\"]) ? (WebIO.setval({\\\"name\\\":\\\"formatted_value\\\",\\\"scope\\\":\\\"knockout-component-8116c885-c5d8-4a62-9685-5c84bfbc42c7\\\",\\\"id\\\":\\\"ob_1154\\\",\\\"type\\\":\\\"observable\\\"},val)) : undefined; return this.valueFromJulia[\\\"formatted_value\\\"]=false}),self),this[\\\"index\\\"].subscribe((function (val){!(this.valueFromJulia[\\\"index\\\"]) ? (WebIO.setval({\\\"name\\\":\\\"index\\\",\\\"scope\\\":\\\"knockout-component-8116c885-c5d8-4a62-9685-5c84bfbc42c7\\\",\\\"id\\\":\\\"ob_1152\\\",\\\"type\\\":\\\"observable\\\"},val)) : undefined; return this.valueFromJulia[\\\"index\\\"]=false}),self)]\\n        \\n    }\\n    self.model = new AppViewModel();\\n    self.valueFromJulia = {};\\n    for (var key in json_data) {\\n        self.valueFromJulia[key] = false;\\n    }\\n    ko.applyBindings(self.model, self.dom);\\n}\\n\")]),\"changes\"=>Any[JSString(\"(function (val){return (val!=this.model[\\\"changes\\\"]()) ? (this.valueFromJulia[\\\"changes\\\"]=true, this.model[\\\"changes\\\"](val)) : undefined})\")],\"formatted_value\"=>Any[JSString(\"(function (val){return (val!=this.model[\\\"formatted_value\\\"]()) ? (this.valueFromJulia[\\\"formatted_value\\\"]=true, this.model[\\\"formatted_value\\\"](val)) : undefined})\")],\"index\"=>Any[JSString(\"(function (val){return (val!=this.model[\\\"index\\\"]()) ? (this.valueFromJulia[\\\"index\\\"]=true, this.model[\\\"index\\\"](val)) : undefined})\"), JSString(\"(function (val){return WebIO.setval({\\\"name\\\":\\\"formatted_value\\\",\\\"scope\\\":\\\"knockout-component-8116c885-c5d8-4a62-9685-5c84bfbc42c7\\\",\\\"id\\\":\\\"ob_1154\\\",\\\"type\\\":\\\"observable\\\"},WebIO.getval({\\\"name\\\":\\\"formatted_vals\\\",\\\"scope\\\":\\\"knockout-component-8116c885-c5d8-4a62-9685-5c84bfbc42c7\\\",\\\"id\\\":\\\"ob_1153\\\",\\\"type\\\":\\\"observable\\\"})[(WebIO.getval({\\\"name\\\":\\\"index\\\",\\\"scope\\\":\\\"knockout-component-8116c885-c5d8-4a62-9685-5c84bfbc42c7\\\",\\\"id\\\":\\\"ob_1152\\\",\\\"type\\\":\\\"observable\\\"})-1)])})\")]), ConnectionPool(Channel{Any}(sz_max:9223372036854775807,sz_curr:0), Set(AbstractConnection[]), Channel{AbstractConnection}(sz_max:32,sz_curr:0))), ##52#53{#dom#13{##dom#11#12{Dict{Any,Any},DOM}},typeof(scope)}(#dom#13{##dom#11#12{Dict{Any,Any},DOM}}(##dom#11#12{Dict{Any,Any},DOM}(Dict{Any,Any}(:className=>\"field\"), DOM(:html, :div))), scope))), Observable{Any} with 0 listeners. Value:\n",
       "Plot{Plots.GRBackend() n=1}, nothing, getfield(Main, Symbol(\"##67#73\")){Observable{Any}}(Observable{Any} with 0 listeners. Value:\n",
       "Plot{Plots.GRBackend() n=1}))))"
      ]
     },
     "execution_count": 49,
     "metadata": {
      "application/vnd.webio.node+json": {
       "kernelId": null
      }
     },
     "output_type": "execute_result"
    }
   ],
   "source": [
    "using Interact\n",
    "using Plots\n",
    "gr()\n",
    "\n",
    "policy_grid = zeros(Float64, length(pomdp.T_RANGE), length(pomdp.S_RANGE))\n",
    "\n",
    "@manipulate for ego_v in pomdp.EGO_V_RANGE\n",
    "    @manipulate for ped_v in pomdp.PED_V_RANGE\n",
    "\n",
    "        for i=1:length(pomdp.T_RANGE)\n",
    "            ped_t = pomdp.T_RANGE[i]\n",
    "            for j=1:length(pomdp.S_RANGE)\n",
    "                ped_s = pomdp.S_RANGE[j]\n",
    "                b = SparseCat([SingleOCFState(0.0, ego_v, ped_s, ped_t, 1.57, ped_v)],[1.])\n",
    "                act = action(qmdp_policy, b) \n",
    "              #  println(ped_s, \"/\", ped_t, \" act: \", act.acc)\n",
    "                policy_grid[i,j] = act.lateral_movement\n",
    "            end\n",
    "        end\n",
    "\n",
    "        xs = [pomdp.S_RANGE[i] for i = 1:length(pomdp.S_RANGE)]\n",
    "        ys = [pomdp.T_RANGE[i] for i = 1:length(pomdp.T_RANGE)]\n",
    "        heatmap(xs,ys,policy_grid,aspect_ratio=1)\n",
    "    end\n",
    "end\n"
   ]
  },
  {
   "cell_type": "code",
   "execution_count": 50,
   "metadata": {},
   "outputs": [
    {
     "name": "stdout",
     "output_type": "stream",
     "text": [
      "[1.0, 1.0]\n",
      "[0.0, 1.0]\n",
      "[-1.0, 1.0]\n",
      "[-2.0, 1.0]\n",
      "[-4.0, 1.0]\n",
      "[1.0, 0.0]\n",
      "[0.0, 0.0]\n",
      "[-1.0, 0.0]\n",
      "[-2.0, 0.0]\n",
      "[-4.0, 0.0]\n",
      "[1.0, -1.0]\n",
      "[0.0, -1.0]\n",
      "[-1.0, -1.0]\n",
      "[-2.0, -1.0]\n",
      "[-4.0, -1.0]\n",
      "0\n"
     ]
    }
   ],
   "source": [
    "# Test action space\n",
    "\n",
    "\n",
    "cnt = 0\n",
    "for (index, a) in enumerate(pomdp.action_space)\n",
    "    idx = actionindex(pomdp,a)\n",
    "    if (idx != index)\n",
    "        println(\"error\")\n",
    "        cnt = cnt + 1\n",
    "    end\n",
    "    println(a)\n",
    "end\n",
    "println(cnt)\n"
   ]
  },
  {
   "cell_type": "code",
   "execution_count": 12,
   "metadata": {},
   "outputs": [
    {
     "data": {
      "text/plain": [
       "6-element SingleOCFState:\n",
       " 0.5 \n",
       " 7.0 \n",
       " 2.0 \n",
       " 0.0 \n",
       " 1.57\n",
       " 0.5 "
      ]
     },
     "execution_count": 12,
     "metadata": {},
     "output_type": "execute_result"
    }
   ],
   "source": [
    "state_space = states(pomdp)\n",
    "\n",
    "state_space[stateindex(pomdp,SingleOCFState(0.5, 7.0, 2.0, 0.0, 1.57, 0.5))]"
   ]
  },
  {
   "cell_type": "code",
   "execution_count": 9,
   "metadata": {},
   "outputs": [
    {
     "name": "stdout",
     "output_type": "stream",
     "text": [
      "VehicleDef(CAR, 4.000, 1.800)\n",
      "VehicleDef(PEDESTRIAN, 3.000, 3.000)\n",
      "VecSE2({-2.000, 0.000}, 0.000)\n",
      "VecSE2({-6.000, 0.000}, 0.000)\n",
      "reward: 0.0"
     ]
    },
    {
     "data": {
      "text/plain": [
       "2-element SingleOCFAction:\n",
       " 1.0\n",
       " 0.0"
      ]
     },
     "execution_count": 9,
     "metadata": {},
     "output_type": "execute_result"
    }
   ],
   "source": [
    "using PedestrianAvoidancePOMDP\n",
    "\n",
    "pomdp = SingleOCFPOMDP()\n",
    "\n",
    "s = SingleOCFState(0.0, 11, 20.0, 0.0, 1.57, 1.5)\n",
    "sp = SingleOCFState(0.0, 12, -6.0, 0.0, 0.0, 1.5)\n",
    "act = SingleOCFAction(0.0, 1.0)\n",
    "print(\"reward: \", reward(pomdp, s, act, sp))\n",
    "\n",
    "b = SparseCat([sp],[1.])\n",
    "act = action(qmdp_policy, b) \n"
   ]
  },
  {
   "cell_type": "code",
   "execution_count": 25,
   "metadata": {},
   "outputs": [],
   "source": [
    "function POMDPs.reward(pomdp::SingleOCFPOMDP, s::SingleOCFState, action::SingleOCFAction, sp::SingleOCFState) \n",
    "    \n",
    "    r = 0.\n",
    "\n",
    "    # is there a collision?\n",
    "    if collision_checker(pomdp,sp)\n",
    "        r += pomdp.collision_cost\n",
    "    end\n",
    "    \n",
    "    # is the goal reached?\n",
    "    if sp.ped_s == 0\n",
    "        r += pomdp.goal_reward\n",
    "    end\n",
    "    \n",
    "    # keep velocity\n",
    "    if (action.acc > 0.0 && sp.ego_v > pomdp.desired_velocity )\n",
    "        r += (-3)\n",
    "    end\n",
    "   \n",
    "\n",
    "#=\n",
    "    # do not leave lane\n",
    "    if (action.lateral_movement >= 0.1 && sp.ego_y >= pomdp.EGO_Y_MAX )\n",
    "        r += (-5)\n",
    "    end\n",
    "\n",
    "    if (action.lateral_movement <= -.1 && sp.ego_y <= pomdp.EGO_Y_MIN )\n",
    "        r += (-5)\n",
    "    end\n",
    "    \n",
    "\n",
    "   # stay in center of the road\n",
    "    r_lane = (10) * abs(1-s.ego_y)\n",
    "    r += r_lane\n",
    "\n",
    " =#\n",
    "    # keep velocity\n",
    " #   if (action.acc > 0.0)\n",
    "  #    r_vel = (1) * ( -abs(pomdp.desired_velocity-sp.ego_v))\n",
    "  #  if ( sp.ego_v > pomdp.desired_velocity)\n",
    "  #      r_vel = 0.\n",
    "  #  end\n",
    "\n",
    "   #   r += r_vel\n",
    "   # end\n",
    "\n",
    "    \n",
    " #   if ( abs(pomdp.desired_velocity-sp.ego_v) < 1. )\n",
    " #       r += 20\n",
    " #   end\n",
    "\n",
    "#=\n",
    "    # costs for longitudinal actions\n",
    "    if action.acc > 0. ||  action.acc < 0.0\n",
    "        r += pomdp.action_cost_lon * abs(action.acc)*2\n",
    "    end\n",
    "        \n",
    "    # costs for lateral actions\n",
    "    if abs(action.lateral_movement) > 0 \n",
    "        r += pomdp.action_cost_lat * abs(action.lateral_movement) \n",
    "    end\n",
    "\n",
    "=#\n",
    "\n",
    "#=\n",
    "    if abs(action.acc) > 0 && abs(action.lateral_movement) > 0\n",
    "        r += (-10)\n",
    "    end\n",
    "=#\n",
    "  \n",
    "   # println(\"velocity: \", r_vel ) \n",
    "   # println(\"lane: \", r_lane)\n",
    "\n",
    "    return r\n",
    "    \n",
    "end\n"
   ]
  },
  {
   "cell_type": "code",
   "execution_count": 17,
   "metadata": {},
   "outputs": [
    {
     "data": {
      "text/plain": [
       "1.0"
      ]
     },
     "execution_count": 17,
     "metadata": {},
     "output_type": "execute_result"
    }
   ],
   "source": [
    "\n",
    "b = SparseCat([SingleOCFState(0.0, 14.0, 50.0, 5.0, 0., 0.)],[1.])\n",
    "act = action(qmdp_policy, b) \n",
    "act.acc"
   ]
  },
  {
   "cell_type": "code",
   "execution_count": 9,
   "metadata": {},
   "outputs": [
    {
     "data": {
      "text/plain": [
       "SingleOCFPOMDP\n",
       "  env: CrosswalkEnv\n",
       "  PED_SAFETY_DISTANCE: Float64 1.0\n",
       "  ego_type: VehicleDef\n",
       "  ped_type: VehicleDef\n",
       "  longitudinal_actions: Array{Float64}((5,)) [1.0, 0.0, -1.0, -2.0, -4.0]\n",
       "  lateral_actions: Array{Float64}((1,)) [0.0]\n",
       "  ΔT: Float64 0.2\n",
       "  PED_A_RANGE: Array{Float64}((3,)) [-1.0, 0.0, 1.0]\n",
       "  PED_THETA_NOISE: Array{Float64}((3,)) [-0.195, 0.0, 0.195]\n",
       "  EGO_Y_MIN: Float64 -1.0\n",
       "  EGO_Y_MAX: Float64 1.0\n",
       "  EGO_Y_RANGE: Array{Float64}((5,)) [-1.0, -0.5, 0.0, 0.5, 1.0]\n",
       "  EGO_V_MIN: Float64 0.0\n",
       "  EGO_V_MAX: Float64 14.0\n",
       "  EGO_V_RANGE: Array{Float64}((15,)) [0.0, 1.0, 2.0, 3.0, 4.0, 5.0, 6.0, 7.0, 8.0, 9.0, 10.0, 11.0, 12.0, 13.0, 14.0]\n",
       "  S_MIN: Float64 -2.0\n",
       "  S_MAX: Float64 50.0\n",
       "  S_RANGE: Array{Float64}((27,)) [-2.0, 0.0, 2.0, 4.0, 6.0, 8.0, 10.0, 12.0, 14.0, 16.0  …  32.0, 34.0, 36.0, 38.0, 40.0, 42.0, 44.0, 46.0, 48.0, 50.0]\n",
       "  T_MIN: Float64 -5.0\n",
       "  T_MAX: Float64 5.0\n",
       "  T_RANGE: Array{Float64}((11,)) [-5.0, -4.0, -3.0, -2.0, -1.0, 0.0, 1.0, 2.0, 3.0, 4.0, 5.0]\n",
       "  PED_V_MIN: Float64 0.0\n",
       "  PED_V_MAX: Float64 2.0\n",
       "  PED_V_RANGE: Array{Float64}((5,)) [0.0, 0.5, 1.0, 1.5, 2.0]\n",
       "  PED_THETA_MIN: Float64 0.785\n",
       "  PED_THETA_MAX: Float64 2.355\n",
       "  PED_THETA_RANGE: Array{Float64}((1,)) [1.57]\n",
       "  collision_cost: Float64 -100.0\n",
       "  action_cost_lon: Float64 -10.0\n",
       "  action_cost_lat: Float64 -10.0\n",
       "  goal_reward: Float64 0.0\n",
       "  γ: Float64 0.95\n",
       "  state_space_grid: RectangleGrid{6}\n",
       "  state_space: Array{SingleOCFState}((111376,))\n",
       "  state_space_grid_ped: RectangleGrid{4}\n",
       "  state_space_ped: Array{PedestrianAvoidancePOMDP.SingleOCFPedState}((1485,))\n",
       "  action_space: Array{SingleOCFAction}((5,))\n",
       "  ego_vehicle: Entity{VehicleState,VehicleDef,Int64}\n",
       "  desired_velocity: Float64 11.11111111111111\n",
       "  pedestrian_birth: Float64 0.8\n"
      ]
     },
     "execution_count": 9,
     "metadata": {},
     "output_type": "execute_result"
    }
   ],
   "source": [
    "pomdp\n"
   ]
  },
  {
   "cell_type": "code",
   "execution_count": 8,
   "metadata": {},
   "outputs": [
    {
     "data": {
      "text/plain": [
       "2-element SingleOCFAction:\n",
       " 1.0\n",
       " 0.0"
      ]
     },
     "execution_count": 8,
     "metadata": {},
     "output_type": "execute_result"
    }
   ],
   "source": [
    "                b = SparseCat([SingleOCFState(0.0, 0., 0.0, 0.0, 1.57, 0.0)],[1.])\n",
    "                act = action(qmdp_policy, b) "
   ]
  },
  {
   "cell_type": "code",
   "execution_count": null,
   "metadata": {},
   "outputs": [],
   "source": [
    "                b = SparseCat([SingleOCFState(0.0, ego_v, ped_s, ped_t, 1.57, ped_v)],[1.])\n",
    "                act = action(qmdp_policy, b) "
   ]
  }
 ],
 "metadata": {
  "@webio": {
   "lastCommId": "592c53c82a3049e1a985ffe7414a7e26",
   "lastKernelId": "c8eb7d62-398a-469a-812a-03f3f4bfd64e"
  },
  "kernelspec": {
   "display_name": "Julia 1.0.1",
   "language": "julia",
   "name": "julia-1.0"
  },
  "language_info": {
   "file_extension": ".jl",
   "mimetype": "application/julia",
   "name": "julia",
   "version": "1.0.2"
  }
 },
 "nbformat": 4,
 "nbformat_minor": 2
}
