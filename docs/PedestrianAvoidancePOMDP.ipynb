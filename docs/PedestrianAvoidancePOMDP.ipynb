{
 "cells": [
  {
   "cell_type": "markdown",
   "metadata": {},
   "source": [
    "If you want to be in the `PedestrianAvoidancePOMDP` environment, run the following cell. If the package has been added to the main julia environment, it is not necessary."
   ]
  },
  {
   "cell_type": "code",
   "execution_count": 1,
   "metadata": {},
   "outputs": [],
   "source": [
    "] activate ../ "
   ]
  },
  {
   "cell_type": "code",
   "execution_count": 1,
   "metadata": {},
   "outputs": [
    {
     "name": "stderr",
     "output_type": "stream",
     "text": [
      "WARNING: Method definition warn(Any...) in module Base at util.jl:589 overwritten in module Logging at /home/xubuntu/.julia/v0.6/Logging/src/Logging.jl:115.\n",
      "WARNING: Method definition info(Any...) in module Base at util.jl:534 overwritten in module Logging at /home/xubuntu/.julia/v0.6/Logging/src/Logging.jl:115.\n",
      "WARNING: Method definition copy!(Array{Float64, 1}, AutomotiveDrivingModels.LatLonAccel) in module AutomotiveDrivingModels at /home/xubuntu/.julia/v0.6/AutomotiveDrivingModels/src/2d/actions/lat_lon_accel.jl:13 overwritten in module AutoUrban at /home/xubuntu/.julia/v0.6/AutoUrban/src/simulation/actions.jl:10.\n",
      "WARNING: Method definition split_o(Array{Float64, 1}, AutomotivePOMDPs.UrbanPOMDP) in module AutomotivePOMDPs at /home/xubuntu/stanford/AutomotivePOMDPs/src/generative_pomdps/urban/generative_model.jl:560 overwritten at /home/xubuntu/stanford/AutomotivePOMDPs/src/decomposition/base_scenarios.jl:38.\n",
      "WARNING: Method definition #split_o(Array{Any, 1}, typeof(AutomotivePOMDPs.split_o), Array{Float64, 1}, AutomotivePOMDPs.UrbanPOMDP) in module AutomotivePOMDPs overwritten.\n",
      "WARNING: Method definition propagate(Records.Entity{AutomotiveDrivingModels.VehicleState, AutomotiveDrivingModels.VehicleDef, Int64}, AutomotiveDrivingModels.LatLonAccel, AutomotiveDrivingModels.Roadway, Float64) in module Main at /home/xubuntu/stanford/PedestrianAvoidancePOMDP.jl/src/frenet_pedestrian_pomdp.jl:101 overwritten in module PedestrianAvoidancePOMDP at /home/xubuntu/stanford/PedestrianAvoidancePOMDP.jl/src/frenet_pedestrian_pomdp.jl:101.\n"
     ]
    },
    {
     "data": {
      "text/plain": [
       "PedestrianAvoidancePOMDP"
      ]
     },
     "execution_count": 1,
     "metadata": {},
     "output_type": "execute_result"
    }
   ],
   "source": [
    "using Revise\n",
    "using AutomotiveDrivingModels\n",
    "using AutoViz\n",
    "using AutomotivePOMDPs\n",
    "using PedestrianAvoidancePOMDP\n",
    "\n",
    "using POMDPPolicies\n",
    "\n",
    "using JLD\n",
    "using Reel"
   ]
  },
  {
   "cell_type": "code",
   "execution_count": 2,
   "metadata": {},
   "outputs": [],
   "source": [
    "policy = load(\"../policy/policy.jld\")[\"policy\"];"
   ]
  },
  {
   "cell_type": "code",
   "execution_count": 3,
   "metadata": {
    "scrolled": true
   },
   "outputs": [
    {
     "name": "stdout",
     "output_type": "stream",
     "text": [
      "--------------------------POMDP high level planner----------------------- t: 0"
     ]
    },
    {
     "name": "stderr",
     "output_type": "stream",
     "text": [
      "WARNING: replacing module PedestrianAvoidancePOMDP\n",
      "WARNING: Method definition propagate(Records.Entity{AutomotiveDrivingModels.VehicleState, AutomotiveDrivingModels.VehicleDef, Int64}, AutomotiveDrivingModels.LatLonAccel, AutomotiveDrivingModels.Roadway, Float64) in module PedestrianAvoidancePOMDP at /home/xubuntu/stanford/PedestrianAvoidancePOMDP.jl/src/frenet_pedestrian_pomdp.jl:101 overwritten in module PedestrianAvoidancePOMDP at /home/xubuntu/stanford/PedestrianAvoidancePOMDP.jl/src/frenet_pedestrian_pomdp.jl:101.\n"
     ]
    },
    {
     "name": "stdout",
     "output_type": "stream",
     "text": [
      ".0\n",
      "EGO: x/y:10.966666666666669 / 0.0 v: 11.11\n",
      "Vehicle(2, VehicleState(VecSE2({50.000, -5.001}, 1.571), Frenet(RoadIndex({1, 0.125001}, {1, 1}), 50.000, -5.001, 1.571), 2.000), VehicleDef(PEDESTRIAN, 1.000, 1.000))\n",
      "Vehicle(3, VehicleState(VecSE2({54.000, 5.002}, 0.780), Frenet(RoadIndex({1, 0.135001}, {1, 2}), 54.000, 2.002, 0.780), 0.000), VehicleDef(PEDESTRIAN, 1.000, 1.000))\n",
      "action combined: [1.0, 1.0]\n",
      "--------------------------POMDP high level planner----------------------- t: 0.2\n",
      "EGO: x/y:13.208666666666668 / 0.2 v: 11.309999999999999\n",
      "Vehicle(2, VehicleState(VecSE2({50.000, -4.599}, 1.571), Frenet(RoadIndex({1, 0.125001}, {1, 1}), 50.000, -4.599, 1.571), 1.500), VehicleDef(PEDESTRIAN, 1.000, 1.000))\n",
      "Vehicle(3, VehicleState(VecSE2({53.999, 5.000}, 0.780), Frenet(RoadIndex({1, 0.134999}, {1, 2}), 53.999, 2.000, 0.780), 0.000), VehicleDef(PEDESTRIAN, 1.000, 1.000))\n",
      "b-length: 20\n",
      "action combined: [1.0, 1.0]\n",
      "--------------------------POMDP high level planner----------------------- t: 0.4\n",
      "EGO: x/y:15.490666666666668 / 0.4 v: 11.509999999999998\n",
      "Vehicle(2, VehicleState(VecSE2({49.998, -4.300}, 1.571), Frenet(RoadIndex({1, 0.124996}, {1, 1}), 49.998, -4.300, 1.571), 2.000), VehicleDef(PEDESTRIAN, 1.000, 1.000))\n",
      "Vehicle(3, VehicleState(VecSE2({54.001, 5.000}, 0.780), Frenet(RoadIndex({1, 0.135002}, {1, 2}), 54.001, 2.000, 0.780), -0.500), VehicleDef(PEDESTRIAN, 1.000, 1.000))\n",
      "  0.068179 seconds (288.77 k allocations: 28.613 MiB, 11.13% gc time)\n",
      "  0.105610 seconds (412.53 k allocations: 53.289 MiB, 10.14% gc time)\n",
      "action combined: [1.0, 1.0]\n",
      "--------------------------POMDP high level planner----------------------- t: 0.6000000000000001\n",
      "EGO: x/y:17.81266666666667 / 0.6000000000000001 v: 11.709999999999997\n",
      "Vehicle(2, VehicleState(VecSE2({50.001, -3.900}, 1.571), Frenet(RoadIndex({1, 0.125003}, {1, 1}), 50.001, -3.900, 1.571), 2.500), VehicleDef(PEDESTRIAN, 1.000, 1.000))\n",
      "Vehicle(3, VehicleState(VecSE2({54.000, 4.929}, 0.780), Frenet(RoadIndex({1, 0.135000}, {1, 2}), 54.000, 1.929, 0.780), 0.000), VehicleDef(PEDESTRIAN, 1.000, 1.000))\n",
      "b-length: 26\n",
      "  0.169310 seconds (437.23 k allocations: 57.616 MiB, 14.34% gc time)\n",
      "b-length: 25\n",
      "  0.170167 seconds (439.76 k allocations: 58.363 MiB, 13.72% gc time)\n",
      "action combined: [1.0, 1.0]\n",
      "--------------------------POMDP high level planner----------------------- t: 0.8\n",
      "EGO: x/y:20.174666666666667 / 0.8 v: 11.909999999999997\n",
      "Vehicle(2, VehicleState(VecSE2({50.001, -3.399}, 1.571), Frenet(RoadIndex({1, 0.125003}, {1, 1}), 50.001, -3.399, 1.571), 1.500), VehicleDef(PEDESTRIAN, 1.000, 1.000))\n",
      "Vehicle(3, VehicleState(VecSE2({53.999, 4.929}, 0.780), Frenet(RoadIndex({1, 0.134998}, {1, 2}), 53.999, 1.929, 0.780), -0.500), VehicleDef(PEDESTRIAN, 1.000, 1.000))\n",
      "b-length: 29\n",
      "  0.098033 seconds (342.70 k allocations: 40.354 MiB, 9.07% gc time)\n",
      "b-length: 28\n",
      "  0.089055 seconds (328.85 k allocations: 37.785 MiB, 19.86% gc time)\n",
      "action combined: [1.0, 1.0]\n",
      "--------------------------POMDP high level planner----------------------- t: 1.0\n",
      "EGO: x/y:22.576666666666664 / 1.0 v: 12.109999999999996\n",
      "Vehicle(2, VehicleState(VecSE2({50.000, -3.100}, 1.571), Frenet(RoadIndex({1, 0.124999}, {1, 1}), 50.000, -3.100, 1.571), 1.500), VehicleDef(PEDESTRIAN, 1.000, 1.000))\n",
      "Vehicle(3, VehicleState(VecSE2({54.001, 4.859}, 0.780), Frenet(RoadIndex({1, 0.135003}, {1, 2}), 54.001, 1.859, 0.780), -0.500), VehicleDef(PEDESTRIAN, 1.000, 1.000))\n",
      "b-length: 43\n",
      "  0.085856 seconds (364.32 k allocations: 39.434 MiB, 11.85% gc time)\n",
      "b-length: 42\n",
      "  0.094435 seconds (383.89 k allocations: 42.533 MiB, 17.40% gc time)\n",
      "action combined: [1.0, 1.0]\n",
      "--------------------------POMDP high level planner----------------------- t: 1.2\n",
      "EGO: x/y:25.018666666666665 / 1.0 v: 12.309999999999995\n",
      "Vehicle(2, VehicleState(VecSE2({50.001, -2.801}, 1.571), Frenet(RoadIndex({1, 0.125003}, {1, 1}), 50.001, -2.801, 1.571), 1.500), VehicleDef(PEDESTRIAN, 1.000, 1.000))\n",
      "Vehicle(3, VehicleState(VecSE2({54.001, 4.788}, 0.780), Frenet(RoadIndex({1, 0.135002}, {1, 2}), 54.001, 1.788, 0.780), -0.500), VehicleDef(PEDESTRIAN, 1.000, 1.000))\n",
      "b-length: 51\n",
      "  0.138002 seconds (496.49 k allocations: 63.019 MiB, 10.87% gc time)\n",
      "b-length: 49\n",
      "  0.130410 seconds (480.29 k allocations: 60.049 MiB, 10.98% gc time)\n",
      "action combined: [1.0, 1.0]\n",
      "--------------------------POMDP high level planner----------------------- t: 1.4\n",
      "EGO: x/y:27.500666666666664 / 1.0 v: 12.509999999999994\n",
      "Vehicle(2, VehicleState(VecSE2({49.999, -2.501}, 1.571), Frenet(RoadIndex({1, 0.124999}, {1, 1}), 49.999, -2.501, 1.571), 2.000), VehicleDef(PEDESTRIAN, 1.000, 1.000))\n",
      "Vehicle(3, VehicleState(VecSE2({53.999, 4.717}, 0.780), Frenet(RoadIndex({1, 0.134999}, {1, 2}), 53.999, 1.717, 0.780), 0.500), VehicleDef(PEDESTRIAN, 1.000, 1.000))\n",
      "b-length: 43\n",
      "  0.127272 seconds (507.28 k allocations: 65.622 MiB, 12.77% gc time)\n",
      "b-length: 40\n",
      "  0.140966 seconds (514.73 k allocations: 66.888 MiB, 13.66% gc time)\n",
      "action combined: [1.0, 1.0]\n",
      "--------------------------POMDP high level planner----------------------- t: 1.5999999999999999\n",
      "EGO: x/y:30.022666666666662 / 1.0 v: 12.709999999999994\n",
      "Vehicle(2, VehicleState(VecSE2({49.999, -2.102}, 1.571), Frenet(RoadIndex({1, 0.124998}, {1, 1}), 49.999, -2.102, 1.571), 2.500), VehicleDef(PEDESTRIAN, 1.000, 1.000))\n",
      "Vehicle(3, VehicleState(VecSE2({54.000, 4.787}, 0.780), Frenet(RoadIndex({1, 0.134999}, {1, 2}), 54.000, 1.787, 0.780), 0.500), VehicleDef(PEDESTRIAN, 1.000, 1.000))\n",
      "b-length: 66\n",
      "  0.134442 seconds (491.67 k allocations: 65.268 MiB, 12.81% gc time)\n",
      "b-length: 63\n",
      "  0.121616 seconds (475.47 k allocations: 61.003 MiB, 12.93% gc time)\n",
      "action combined: [1.0, 1.0]\n",
      "--------------------------POMDP high level planner----------------------- t: 1.7999999999999998\n",
      "EGO: x/y:32.584666666666664 / 1.0 v: 12.909999999999993\n",
      "Vehicle(2, VehicleState(VecSE2({49.999, -1.602}, 1.571), Frenet(RoadIndex({1, 0.124997}, {1, 1}), 49.999, -1.602, 1.571), 2.500), VehicleDef(PEDESTRIAN, 1.000, 1.000))\n",
      "Vehicle(3, VehicleState(VecSE2({54.001, 4.861}, 0.780), Frenet(RoadIndex({1, 0.135004}, {1, 2}), 54.001, 1.861, 0.780), 0.500), VehicleDef(PEDESTRIAN, 1.000, 1.000))\n",
      "b-length: 80\n",
      "  0.208095 seconds (722.60 k allocations: 106.805 MiB, 10.99% gc time)\n",
      "b-length: 79\n",
      "  0.168302 seconds (636.62 k allocations: 89.211 MiB, 10.86% gc time)\n",
      "action combined: [1.0, 1.0]\n",
      "--------------------------POMDP high level planner----------------------- t: 1.9999999999999998\n",
      "EGO: x/y:35.18666666666667 / 1.0 v: 13.109999999999992\n",
      "Vehicle(2, VehicleState(VecSE2({49.999, -1.100}, 1.571), Frenet(RoadIndex({1, 0.124999}, {1, 1}), 49.999, -1.100, 1.571), 2.000), VehicleDef(PEDESTRIAN, 1.000, 1.000))\n",
      "Vehicle(3, VehicleState(VecSE2({54.000, 4.928}, 0.780), Frenet(RoadIndex({1, 0.135000}, {1, 2}), 54.000, 1.928, 0.780), 0.500), VehicleDef(PEDESTRIAN, 1.000, 1.000))\n",
      "b-length: 93\n",
      "  0.292362 seconds (828.94 k allocations: 126.626 MiB, 14.62% gc time)\n",
      "b-length: 91\n",
      "  0.337098 seconds (727.29 k allocations: 105.910 MiB, 15.74% gc time)\n",
      "action combined: [0.0, 1.0]\n",
      "--------------------------POMDP high level planner----------------------- t: 2.1999999999999997\n",
      "EGO: x/y:37.80866666666667 / 1.0 v: 13.109999999999992\n",
      "Vehicle(2, VehicleState(VecSE2({50.000, -0.700}, 1.571), Frenet(RoadIndex({1, 0.125001}, {1, 1}), 50.000, -0.700, 1.571), 1.500), VehicleDef(PEDESTRIAN, 1.000, 1.000))\n",
      "Vehicle(3, VehicleState(VecSE2({54.002, 5.000}, 0.780), Frenet(RoadIndex({1, 0.135004}, {1, 2}), 54.002, 2.000, 0.780), 0.500), VehicleDef(PEDESTRIAN, 1.000, 1.000))\n",
      "b-length: 94\n",
      "  0.340096 seconds (1.00 M allocations: 122.735 MiB, 11.45% gc time)\n",
      "b-length: 87\n",
      "  0.277342 seconds (749.05 k allocations: 91.486 MiB, 14.86% gc time)\n",
      "action combined: [0.0, 1.0]\n",
      "--------------------------POMDP high level planner----------------------- t: 2.4\n",
      "EGO: x/y:40.43066666666667 / 1.0 v: 13.109999999999992\n",
      "Vehicle(2, VehicleState(VecSE2({49.999, -0.402}, 1.571), Frenet(RoadIndex({1, 0.124998}, {1, 1}), 49.999, -0.402, 1.571), 1.500), VehicleDef(PEDESTRIAN, 1.000, 1.000))\n",
      "Vehicle(3, VehicleState(VecSE2({54.000, 5.067}, 0.780), Frenet(RoadIndex({1, 0.134999}, {1, 2}), 54.000, 2.067, 0.780), 0.500), VehicleDef(PEDESTRIAN, 1.000, 1.000))\n",
      "b-length: 110\n",
      "  0.336503 seconds (1.02 M allocations: 128.103 MiB, 14.69% gc time)\n",
      "b-length: 85\n",
      "  0.276258 seconds (700.69 k allocations: 84.016 MiB, 15.28% gc time)\n",
      "action combined: [0.0, 0.0]\n",
      "--------------------------POMDP high level planner----------------------- t: 2.6\n",
      "EGO: x/y:43.05266666666667 / 1.0 v: 13.109999999999992\n",
      "Vehicle(2, VehicleState(VecSE2({50.000, -0.099}, 1.571), Frenet(RoadIndex({1, 0.124999}, {1, 1}), 50.000, -0.099, 1.571), 2.000), VehicleDef(PEDESTRIAN, 1.000, 1.000))\n",
      "Vehicle(3, VehicleState(VecSE2({53.999, 5.140}, 0.780), Frenet(RoadIndex({1, 0.134998}, {1, 2}), 53.999, 2.140, 0.780), 0.000), VehicleDef(PEDESTRIAN, 1.000, 1.000))\n",
      "b-length: 115\n",
      "  0.544193 seconds (1.09 M allocations: 172.715 MiB, 17.17% gc time)\n",
      "b-length: 81\n",
      "  0.204920 seconds (668.92 k allocations: 86.595 MiB, 16.34% gc time)\n",
      "action combined: [0.0, 0.0]\n",
      "--------------------------POMDP high level planner----------------------- t: 2.8000000000000003\n",
      "EGO: x/y:45.67466666666667 / 1.0 v: 13.109999999999992\n",
      "Vehicle(2, VehicleState(VecSE2({50.001, 0.301}, 1.571), Frenet(RoadIndex({1, 0.125003}, {1, 1}), 50.001, 0.301, 1.571), 2.500), VehicleDef(PEDESTRIAN, 1.000, 1.000))\n",
      "Vehicle(3, VehicleState(VecSE2({54.000, 5.138}, 0.780), Frenet(RoadIndex({1, 0.135001}, {1, 2}), 54.000, 2.138, 0.780), 0.500), VehicleDef(PEDESTRIAN, 1.000, 1.000))\n",
      "b-length: 90\n",
      "  0.261542 seconds (925.76 k allocations: 132.043 MiB, 13.27% gc time)\n",
      "b-length: 85\n",
      "  0.199922 seconds (668.56 k allocations: 85.412 MiB, 16.16% gc time)\n",
      "action combined: [0.0, 0.0]\n",
      "-----------------> Collision <----------------------\n",
      "elapsed time: 12.209788204 seconds\n"
     ]
    },
    {
     "data": {
      "text/plain": [
       "12.209788204"
      ]
     },
     "execution_count": 3,
     "metadata": {},
     "output_type": "execute_result"
    }
   ],
   "source": [
    "pomdp = SingleOCFPOMDP()\n",
    "updater = SingleOCFUpdater(pomdp)\n",
    "\n",
    "params = CrosswalkParams()\n",
    "params.roadway_length = 400.0\n",
    "params.obstacles_visible = false\n",
    "\n",
    "obstacle_offset = -2\n",
    "obstacle_1 = ConvexPolygon([VecE2(34, obstacle_offset), VecE2(34, obstacle_offset-3), VecE2(46.5, obstacle_offset-3), VecE2(46.5, obstacle_offset)],4)\n",
    "obstacle_2 = ConvexPolygon([VecE2(34, +4.5), VecE2(34, +7.5), VecE2(46.5, +7.5), VecE2(46.5, +4.5)],4)\n",
    "params.obstacles = [obstacle_1, obstacle_2]\n",
    "#params.obstacles = [obstacle_2]\n",
    "\n",
    "env = CrosswalkEnv(params)\n",
    "pomdp.env = env\n",
    "\n",
    "\n",
    "ego_id = 1\n",
    "ped_id = 2\n",
    "ped2_id = 3\n",
    "\n",
    "\n",
    "ego_v = 11.11\n",
    "ped_v = 5.4/3.6\n",
    "hitpoint = 50             # 50: middle, 100: left corner, 0: right corner\n",
    "ped_theta = π/2\n",
    "\n",
    "\n",
    "# fix values\n",
    "ped_x = 50.0\n",
    "ped_y_start = -5.0\n",
    "ego_y = 0.0\n",
    "\n",
    "\n",
    "ped_y_offset_hitpoint = VehicleDef().width * hitpoint / 100 - VehicleDef().width/2\n",
    "ped_y_end = ped_y_offset_hitpoint\n",
    "ped_t_collision = (ped_y_end - ped_y_start) / ped_v; \n",
    "ego_x = ped_x - ego_v * ped_t_collision - VehicleDef().length/2;\n",
    "\n",
    "if ( false )\n",
    "    ego_v = 0.0\n",
    "    ego_x = 20\n",
    "    ped_x = 30\n",
    "    ped_y_start = -2.0\n",
    "    ped_v = 0.0\n",
    "end\n",
    "\n",
    "ped_y_start = -5.0\n",
    "ped_v = 2.0\n",
    "\n",
    "# Car definition\n",
    "ego_initial_state = VehicleState(VecSE2(ego_x, ego_y, 0.), env.roadway.segments[1].lanes[1], env.roadway, ego_v)\n",
    "ego = Vehicle(ego_initial_state, VehicleDef(), 1)\n",
    "\n",
    "# Pedestrian definition \n",
    "ped_initial_state = VehicleState(VecSE2(ped_x,ped_y_start,ped_theta), env.crosswalk, env.roadway, ped_v)\n",
    "ped = Vehicle(ped_initial_state, AutomotivePOMDPs.PEDESTRIAN_DEF, 2)\n",
    "\n",
    "ped2_v = 0.0\n",
    "ped2 = Vehicle(VehicleState(VecSE2(54., 5., 0.78), env.crosswalk, env.roadway, ped2_v), AutomotivePOMDPs.PEDESTRIAN_DEF, ped2_id)\n",
    "\n",
    "\n",
    "scene = Scene()\n",
    "push!(scene, ego)\n",
    "push!(scene, ped)\n",
    "push!(scene, ped2)\n",
    "\n",
    "\n",
    "\n",
    "cam = FitToContentCamera(0.);\n",
    "timestep = 0.2\n",
    "\n",
    "\n",
    "pos_noise = 0.001\n",
    "vel_noise = 0.000\n",
    "false_positive_rate = 0.00\n",
    "false_negative_rate = 0.00\n",
    "rng = MersenneTwister(1);\n",
    "sensor = AutomotiveSensors.GaussianSensor(AutomotiveSensors.LinearNoise(10, pos_noise, 0.00), \n",
    "                 AutomotiveSensors.LinearNoise(10, vel_noise, 0.00), false_positive_rate, false_negative_rate, rng) \n",
    "\n",
    "\n",
    "\n",
    "# define a model for each entities present in the scene\n",
    "models = Dict{Int, DriverModel}()\n",
    "\n",
    "models[ego_id] = FrenetPedestrianPOMDP(a=LatLonAccel(0.0, 0.0),env=env,sensor=sensor, obstacles=env.obstacles, timestep=timestep,\n",
    "    env=env,\n",
    "    pomdp=pomdp,\n",
    "    policy=policy,\n",
    "    updater=updater,\n",
    "    ego_vehicle=ego,\n",
    "    desired_velocity=ego_v,\n",
    "    b=initBeliefAbsentPedestrian(pomdp, ego_y, ego_v)\n",
    ")\n",
    "models[ego_id].pomdp.desired_velocity = ego_v\n",
    "models[ego_id].pomdp.ΔT = timestep\n",
    "\n",
    "models[ped_id] = ConstantPedestrian(v_desired=ped.state.v, dawdling_amp=0.001) # dumb model\n",
    "models[ped2_id] = ConstantPedestrian(v_desired=ped2.state.v, dawdling_amp=0.001) # dumb model\n",
    "\n",
    "\n",
    "nticks = 50\n",
    "rec = SceneRecord(nticks+1, timestep)\n",
    "\n",
    "risk = Float64[]\n",
    "sensor_observations = [Vehicle[]]\n",
    "belief = Dict{Int64, SingleOCFBelief}[]\n",
    "ego_vehicle = Vehicle[]\n",
    "action_pomdp = SingleOCFAction[]\n",
    "\n",
    "obs_callback = (ObservationCallback(risk,sensor_observations, belief, ego_vehicle, action_pomdp),)\n",
    "\n",
    "tic()\n",
    "simulate!(rec, scene, env.roadway, models, nticks, obs_callback)\n",
    "toc()\n",
    "\n",
    "\n"
   ]
  },
  {
   "cell_type": "code",
   "execution_count": 4,
   "metadata": {},
   "outputs": [
    {
     "data": {
      "text/html": [
       "<video autoplay controls><source src=\"files/reel-8744658116671868310.webm?2337425186588342988\" type=\"video/webm\"></video>"
      ],
      "text/plain": [
       "Reel.Frames{MIME{Symbol(\"image/png\")}}(\"/tmp/tmpNNn5fO\", 0x0000000000000010, 5.0, nothing)"
      ]
     },
     "execution_count": 4,
     "metadata": {},
     "output_type": "execute_result"
    }
   ],
   "source": [
    "# Visualize scenario\n",
    "duration, fps, render_hist = animate_record(rec, timestep, env, sensor, sensor_observations, risk, belief, ego_vehicle, action_pomdp, CarFollowCamera(2,10.0))\n",
    "film = roll(render_hist, fps = fps, duration = duration)"
   ]
  },
  {
   "cell_type": "code",
   "execution_count": null,
   "metadata": {},
   "outputs": [],
   "source": []
  }
 ],
 "metadata": {
  "kernelspec": {
   "display_name": "Julia 1.0.0",
   "language": "julia",
   "name": "julia-1.0"
  },
  "language_info": {
   "file_extension": ".jl",
   "mimetype": "application/julia",
   "name": "julia",
   "version": "1.0.0"
  }
 },
 "nbformat": 4,
 "nbformat_minor": 2
}
