{
 "cells": [
  {
   "cell_type": "markdown",
   "metadata": {},
   "source": [
    "If you want to be in the `PedestrianAvoidancePOMDP` environment, run the following cell. If the package has been added to the main julia environment, it is not necessary."
   ]
  },
  {
   "cell_type": "code",
   "execution_count": 1,
   "metadata": {},
   "outputs": [],
   "source": [
    "] activate ../ "
   ]
  },
  {
   "cell_type": "code",
   "execution_count": 2,
   "metadata": {},
   "outputs": [
    {
     "name": "stderr",
     "output_type": "stream",
     "text": [
      "Internal error: encountered unexpected error in runtime:\n",
      "InterruptException()\n",
      "jl_mutex_unlock at /buildworker/worker/package_linux64/build/src/locks.h:138 [inlined]\n",
      "jl_typeinf_end at /buildworker/worker/package_linux64/build/src/gf.c:2568\n",
      "typeinf_ext at ./compiler/typeinfer.jl:568\n",
      "typeinf_ext at ./compiler/typeinfer.jl:604\n",
      "jfptr_typeinf_ext_1.clone_1 at /home/xubuntu/julia-1.0.1/lib/julia/sys.so (unknown line)\n",
      "jl_apply_generic at /buildworker/worker/package_linux64/build/src/gf.c:2184\n",
      "jl_apply at /buildworker/worker/package_linux64/build/src/julia.h:1537 [inlined]\n",
      "jl_apply_with_saved_exception_state at /buildworker/worker/package_linux64/build/src/rtutils.c:257\n",
      "jl_type_infer at /buildworker/worker/package_linux64/build/src/gf.c:275\n",
      "jl_compile_method_internal at /buildworker/worker/package_linux64/build/src/gf.c:1786 [inlined]\n",
      "jl_fptr_trampoline at /buildworker/worker/package_linux64/build/src/gf.c:1830\n",
      "jl_apply_generic at /buildworker/worker/package_linux64/build/src/gf.c:2184\n",
      "do_call at /buildworker/worker/package_linux64/build/src/interpreter.c:324\n",
      "eval_value at /buildworker/worker/package_linux64/build/src/interpreter.c:430\n",
      "eval_stmt_value at /buildworker/worker/package_linux64/build/src/interpreter.c:363 [inlined]\n",
      "eval_body at /buildworker/worker/package_linux64/build/src/interpreter.c:682\n",
      "jl_interpret_toplevel_thunk_callback at /buildworker/worker/package_linux64/build/src/interpreter.c:795\n",
      "unknown function (ip: 0xfffffffffffffffe)\n",
      "unknown function (ip: 0x7f027a151ccf)\n",
      "unknown function (ip: 0x5)\n",
      "jl_interpret_toplevel_thunk at /buildworker/worker/package_linux64/build/src/interpreter.c:804\n",
      "jl_toplevel_eval_flex at /buildworker/worker/package_linux64/build/src/toplevel.c:813\n",
      "jl_toplevel_eval_in at /buildworker/worker/package_linux64/build/src/builtins.c:622\n",
      "eval at ./boot.jl:319 [inlined]\n",
      "eval at /home/xubuntu/.julia/packages/Tables/Icwxo/src/Tables.jl:1 [inlined]\n",
      "#12 at /home/xubuntu/.julia/packages/Requires/9Jse8/src/require.jl:67\n",
      "err at /home/xubuntu/.julia/packages/Requires/9Jse8/src/require.jl:38\n",
      "#11 at /home/xubuntu/.julia/packages/Requires/9Jse8/src/require.jl:66 [inlined]\n",
      "withpath at /home/xubuntu/.julia/packages/Requires/9Jse8/src/require.jl:28\n",
      "jl_fptr_trampoline at /buildworker/worker/package_linux64/build/src/gf.c:1831\n",
      "jl_apply_generic at /buildworker/worker/package_linux64/build/src/gf.c:2184\n",
      "#10 at /home/xubuntu/.julia/packages/Requires/9Jse8/src/require.jl:65\n",
      "jl_fptr_trampoline at /buildworker/worker/package_linux64/build/src/gf.c:1831\n",
      "jl_apply_generic at /buildworker/worker/package_linux64/build/src/gf.c:2184\n",
      "jl_apply at /buildworker/worker/package_linux64/build/src/julia.h:1537 [inlined]\n",
      "jl_f__apply at /buildworker/worker/package_linux64/build/src/builtins.c:556\n",
      "jl_f__apply_latest at /buildworker/worker/package_linux64/build/src/builtins.c:594\n",
      "#invokelatest#1 at ./essentials.jl:697 [inlined]\n",
      "invokelatest at ./essentials.jl:696 [inlined]\n",
      "#3 at /home/xubuntu/.julia/packages/Requires/9Jse8/src/require.jl:19 [inlined]\n",
      "iterate at ./generator.jl:47 [inlined]\n",
      "_collect at ./array.jl:632\n",
      "map at ./array.jl:561 [inlined]\n",
      "loadpkg at /home/xubuntu/.julia/packages/Requires/9Jse8/src/require.jl:19\n",
      "jl_apply_generic at /buildworker/worker/package_linux64/build/src/gf.c:2184\n",
      "jl_apply at /buildworker/worker/package_linux64/build/src/julia.h:1537 [inlined]\n",
      "jl_f__apply at /buildworker/worker/package_linux64/build/src/builtins.c:556\n",
      "jl_f__apply_latest at /buildworker/worker/package_linux64/build/src/builtins.c:594\n",
      "#invokelatest#1 at ./essentials.jl:697 [inlined]\n",
      "invokelatest at ./essentials.jl:696 [inlined]\n",
      "_tryrequire_from_serialized at ./loading.jl:648\n",
      "_require_search_from_serialized at ./loading.jl:699\n",
      "_tryrequire_from_serialized at ./loading.jl:645\n",
      "_require_search_from_serialized at ./loading.jl:699\n",
      "_tryrequire_from_serialized at ./loading.jl:645\n",
      "_require_search_from_serialized at ./loading.jl:699\n",
      "_require at ./loading.jl:934\n",
      "require at ./loading.jl:855\n",
      "macro expansion at ./logging.jl:311 [inlined]\n",
      "require at ./loading.jl:837\n",
      "jl_apply_generic at /buildworker/worker/package_linux64/build/src/gf.c:2184\n",
      "jl_apply at /buildworker/worker/package_linux64/build/src/julia.h:1537 [inlined]\n",
      "call_require at /buildworker/worker/package_linux64/build/src/toplevel.c:441 [inlined]\n",
      "eval_import_path at /buildworker/worker/package_linux64/build/src/toplevel.c:476\n",
      "jl_toplevel_eval_flex at /buildworker/worker/package_linux64/build/src/toplevel.c:670\n",
      "eval_body at /buildworker/worker/package_linux64/build/src/interpreter.c:667\n",
      "jl_interpret_toplevel_thunk_callback at /buildworker/worker/package_linux64/build/src/interpreter.c:795\n",
      "unknown function (ip: 0xfffffffffffffffe)\n",
      "unknown function (ip: 0x7f02789324ef)\n",
      "unknown function (ip: 0xffffffffffffffff)\n",
      "jl_interpret_toplevel_thunk at /buildworker/worker/package_linux64/build/src/interpreter.c:804\n",
      "jl_toplevel_eval_flex at /buildworker/worker/package_linux64/build/src/toplevel.c:813\n",
      "jl_toplevel_eval_in at /buildworker/worker/package_linux64/build/src/builtins.c:622\n",
      "eval at ./boot.jl:319 [inlined]\n",
      "softscope_include_string at /home/xubuntu/.julia/packages/SoftGlobalScope/8FGzf/src/SoftGlobalScope.jl:207\n",
      "execute_request at /home/xubuntu/.julia/packages/IJulia/DL02A/src/execute_request.jl:65\n",
      "jl_apply_generic at /buildworker/worker/package_linux64/build/src/gf.c:2184\n",
      "jl_apply at /buildworker/worker/package_linux64/build/src/julia.h:1537 [inlined]\n",
      "jl_f__apply at /buildworker/worker/package_linux64/build/src/builtins.c:556\n",
      "jl_f__apply_latest at /buildworker/worker/package_linux64/build/src/builtins.c:594\n",
      "#invokelatest#1 at ./essentials.jl:697 [inlined]\n",
      "invokelatest at ./essentials.jl:696 [inlined]\n",
      "eventloop at /home/xubuntu/.julia/packages/IJulia/DL02A/src/eventloop.jl:8\n",
      "#12 at ./task.jl:259\n",
      "jl_fptr_trampoline at /buildworker/worker/package_linux64/build/src/gf.c:1831\n",
      "jl_apply_generic at /buildworker/worker/package_linux64/build/src/gf.c:2184\n",
      "jl_apply at /buildworker/worker/package_linux64/build/src/julia.h:1537 [inlined]\n",
      "start_task at /buildworker/worker/package_linux64/build/src/task.c:268\n",
      "unknown function (ip: 0xffffffffffffffff)\n",
      "┌ Info: Recompiling stale cache file /home/xubuntu/.julia/compiled/v1.0/PedestrianAvoidancePOMDP/UuJ2S.ji for PedestrianAvoidancePOMDP [a80ff0fe-e6a0-11e8-3b05-15413bd5ea7a]\n",
      "└ @ Base loading.jl:1187\n",
      "┌ Warning: Package PedestrianAvoidancePOMDP does not have EmergencyBrakingSystem in its dependencies:\n",
      "│ - If you have PedestrianAvoidancePOMDP checked out for development and have\n",
      "│   added EmergencyBrakingSystem as a dependency but haven't updated your primary\n",
      "│   environment's manifest file, try `Pkg.resolve()`.\n",
      "│ - Otherwise you may need to report an issue with PedestrianAvoidancePOMDP\n",
      "└ Loading EmergencyBrakingSystem into PedestrianAvoidancePOMDP from project dependency, future warnings for PedestrianAvoidancePOMDP are suppressed.\n",
      "WARNING: Method definition propagate(Records.Entity{AutomotiveDrivingModels.VehicleState, AutomotiveDrivingModels.VehicleDef, Int64}, AutomotiveDrivingModels.LatLonAccel, AutomotiveDrivingModels.Roadway, Float64) in module EmergencyBrakingSystem at /home/xubuntu/.julia/dev/EmergencyBrakingSystem.jl/src/emergency_system.jl:147 overwritten in module PedestrianAvoidancePOMDP at /home/xubuntu/.julia/dev/PedestrianAvoidancePOMDP.jl/src/pedestrian_pomdp.jl:118.\n"
     ]
    }
   ],
   "source": [
    "using Revise\n",
    "using AutomotiveDrivingModels\n",
    "using AutoViz\n",
    "using AutomotiveSensors\n",
    "using AutomotivePOMDPs\n",
    "using GridInterpolations\n",
    "\n",
    "using PedestrianAvoidancePOMDP\n",
    "using POMDPPolicies\n",
    "\n",
    "using JLD2\n",
    "using FileIO\n",
    "using Reel\n",
    "using Random\n",
    "using POMDPs\n",
    "using POMDPModelTools\n",
    "using LinearAlgebra\n",
    "\n",
    "using EmergencyBrakingSystem\n"
   ]
  },
  {
   "cell_type": "code",
   "execution_count": 3,
   "metadata": {},
   "outputs": [],
   "source": [
    "policy = load(\"../policy/policy.jld2\")[\"policy\"]; # need to be updated"
   ]
  },
  {
   "cell_type": "code",
   "execution_count": 4,
   "metadata": {
    "scrolled": true
   },
   "outputs": [
    {
     "data": {
      "text/plain": [
       "15.465887376"
      ]
     },
     "execution_count": 4,
     "metadata": {},
     "output_type": "execute_result"
    }
   ],
   "source": [
    "pomdp = SingleOCFPOMDP()\n",
    "updater = SingleOCFUpdater(pomdp)\n",
    "\n",
    "parameters = CrosswalkParams()\n",
    "parameters.roadway_length = 400.0\n",
    "parameters.obstacles_visible = true\n",
    "\n",
    "obstacle_offset = -2\n",
    "obstacle_1 = ConvexPolygon([VecE2(34, obstacle_offset), VecE2(34, obstacle_offset-3), VecE2(46.5, obstacle_offset-3), VecE2(46.5, obstacle_offset)],4)\n",
    "obstacle_2 = ConvexPolygon([VecE2(34, +4.5), VecE2(34, +7.5), VecE2(46.5, +7.5), VecE2(46.5, +4.5)],4)\n",
    "parameters.obstacles = [obstacle_1, obstacle_2]\n",
    "#parameters.obstacles = [obstacle_2]\n",
    "\n",
    "env = CrosswalkEnv(parameters)\n",
    "pomdp.env = env\n",
    "\n",
    "\n",
    "ego_id = 1\n",
    "ped_id = 2\n",
    "ped2_id = 3\n",
    "\n",
    "\n",
    "ego_v = 14.0\n",
    "ped_v = 5.0/3.6\n",
    "hitpoint = 50             # 50: middle, 100: left corner, 0: right corner\n",
    "ped_theta = π/2\n",
    "\n",
    "\n",
    "# fix values\n",
    "ped_x = 100.0\n",
    "ped_y_start = -5.0\n",
    "ego_y = 0.0\n",
    "\n",
    "\n",
    "ped_y_offset_hitpoint = VehicleDef().width * hitpoint / 100 - VehicleDef().width/2\n",
    "ped_y_end = ped_y_offset_hitpoint\n",
    "ped_t_collision = (ped_y_end - ped_y_start) / ped_v; \n",
    "ego_x = ped_x - ego_v * ped_t_collision - VehicleDef().length/2;\n",
    "\n",
    "#=\n",
    "if ( false )\n",
    "    ego_v = 0.0\n",
    "    ego_x = 20\n",
    "    ped_x = 30\n",
    "    ped_y_start = -2.0\n",
    "    ped_v = 0.0\n",
    "end\n",
    "\n",
    "ped_y_start = -5.\n",
    "ped_v = 1.0\n",
    "ego_y = 0.0\n",
    "=#\n",
    "\n",
    "#ped_v = 0.0\n",
    "\n",
    "#ped_y_start = -5.\n",
    "\n",
    "\n",
    "\n",
    "# Car definition\n",
    "ego_initial_state = VehicleState(VecSE2(ego_x, ego_y, 0.), env.roadway.segments[1].lanes[1], env.roadway, ego_v)\n",
    "ego = Vehicle(ego_initial_state, VehicleDef(), 1)\n",
    "\n",
    "# Pedestrian definition \n",
    "ped_initial_state = VehicleState(VecSE2(ped_x,ped_y_start,ped_theta), env.crosswalk, env.roadway, ped_v)\n",
    "ped = Vehicle(ped_initial_state, AutomotivePOMDPs.PEDESTRIAN_DEF, 2)\n",
    "\n",
    "ped2_v = 0.0\n",
    "ped2 = Vehicle(VehicleState(VecSE2(54., 5., 0.78), env.crosswalk, env.roadway, ped2_v), AutomotivePOMDPs.PEDESTRIAN_DEF, ped2_id)\n",
    "\n",
    "\n",
    "scene = Scene()\n",
    "push!(scene, ego)\n",
    "push!(scene, ped)\n",
    "push!(scene, ped2)\n",
    "\n",
    "\n",
    "\n",
    "timestep = 0.2\n",
    "timestep_pomdp = 0.2\n",
    "\n",
    "pos_noise = 0.001\n",
    "vel_noise = 0.000\n",
    "false_positive_rate = 0.00\n",
    "false_negative_rate = 0.00\n",
    "rng = MersenneTwister(1);\n",
    "sensor = AutomotiveSensors.GaussianSensor(AutomotiveSensors.LinearNoise(10, pos_noise, 0.00), \n",
    "                 AutomotiveSensors.LinearNoise(10, vel_noise, 0.00), false_positive_rate, false_negative_rate, rng) \n",
    "\n",
    "\n",
    "# define a model for each entities present in the scene\n",
    "models = Dict{Int, DriverModel}()\n",
    "\n",
    "pomdp.desired_velocity = ego_v\n",
    "pomdp.ΔT = timestep\n",
    "models[ego_id] = PedestrianAvoidancePOMDPFrenet(a=LatLonAccel(0.0, 0.0),\n",
    "    env=env,\n",
    "    sensor=sensor,\n",
    "    obstacles=env.obstacles,\n",
    "    timestep=timestep_pomdp,\n",
    "    update_tick_high_level_planner = timestep_pomdp / timestep,\n",
    "    pomdp=pomdp,\n",
    "    policy=policy,\n",
    "    updater=updater,\n",
    "    ego_vehicle=ego,\n",
    "    desired_velocity=ego_v,\n",
    "    b=PedestrianAvoidancePOMDP.initBeliefAbsentPedestrian(pomdp, ego_y, ego_v)\n",
    ")\n",
    "\n",
    "models[ped_id] = ConstantPedestrian(v_desired=ped.state.v, dawdling_amp=0.0001) # dumb model\n",
    "models[ped2_id] = ConstantPedestrian(v_desired=ped2.state.v, dawdling_amp=0.0001) # dumb model\n",
    "\n",
    "\n",
    "\n",
    "nticks = 80\n",
    "rec = SceneRecord(nticks+1, timestep)\n",
    "\n",
    "sensor_observations = [Vehicle[]]\n",
    "ego_vehicle = Vehicle[]\n",
    "ego_a = Float64[]\n",
    "collision = Bool[]\n",
    "\n",
    "belief = Dict{Int64, SingleOCFBelief}[]\n",
    "action_pomdp = SingleOCFAction[]\n",
    "\n",
    "collision_rate = Float64[]  # not used\n",
    "ttc = Float64[]             # not used\n",
    "risk = Float64[]\n",
    "emergency_brake_request = Bool[]      # not used\n",
    "prediction_obstacle = Vector{Array{Float64}}()  # not used\n",
    "\n",
    "\n",
    "obs_callback = (ObservationCallback(sensor_observations, ego_vehicle, \n",
    "                  ego_a, collision, belief, action_pomdp, collision_rate, ttc, \n",
    "                  risk, emergency_brake_request,prediction_obstacle),)\n",
    "\n",
    "@elapsed begin\n",
    "simulate!(rec, scene, env.roadway, models, nticks, obs_callback)\n",
    "end\n",
    "\n"
   ]
  },
  {
   "cell_type": "code",
   "execution_count": 5,
   "metadata": {},
   "outputs": [
    {
     "data": {
      "text/html": [
       "<video autoplay controls><source src=\"files/reel-10231459393948501865.webm?7092487419493931341\" type=\"video/webm\"></video>"
      ],
      "text/plain": [
       "Frames{MIME{Symbol(\"image/png\")}}(\"/tmp/tmpHgJA3V\", 0x0000000000000050, 5.0, nothing)"
      ]
     },
     "execution_count": 5,
     "metadata": {},
     "output_type": "execute_result"
    }
   ],
   "source": [
    "# Visualize scenario\n",
    "duration, fps, render_hist = animate_record(rec, timestep, env, sensor, sensor_observations, risk, belief, ego_vehicle, action_pomdp, prediction_obstacle, CarFollowCamera(2,10.0))\n",
    "film = roll(render_hist, fps = fps, duration = duration)\n",
    "#write(\"pomdp.mp4\", film) # Write to a webm video"
   ]
  },
  {
   "cell_type": "code",
   "execution_count": 8,
   "metadata": {},
   "outputs": [
    {
     "name": "stdout",
     "output_type": "stream",
     "text": [
      "PedestrianAvoidancePOMDP\n",
      "-----------------> Collision <----------------------\n"
     ]
    },
    {
     "data": {
      "text/plain": [
       "(true, false, 5.838888888888897, 10.486388888888886, -3.150943396226415, 30.0, -4.0)"
      ]
     },
     "execution_count": 8,
     "metadata": {},
     "output_type": "execute_result"
    }
   ],
   "source": [
    "\n",
    "algorithm = \"PedestrianAvoidancePOMDP\"\n",
    "#algorithm = \"PedestrianAvoidancePOMDP_EmergencyBrakingSystem\"\n",
    "\n",
    "policy = load(\"../policy/policy.jld2\")[\"policy\"];\n",
    "\n",
    "# Definition ego vehicle and pedestrian behavior\n",
    "\n",
    "scenarios = [\"CPCN\", \"CPAN25\", \"CPAN75\", \"CPFA\", \"FP\"]\n",
    "vut_speeds = [10., 15., 20., 25., 30., 35., 40., 45., 50., 55., 60.]\n",
    "vut_speeds = vut_speeds / 3.6\n",
    "hit_points = [0., 10., 20., 30., 40., 50.]\n",
    "\n",
    "# FP Tests\n",
    "#CPAN25 -100, 200\n",
    "\n",
    "ego_v = vut_speeds[9]\n",
    "hit_point = hit_points[1]\n",
    "scenario = scenarios[1]\n",
    "\n",
    "\n",
    "### Simulate scenario with parameters above defined\n",
    "# generate scenario based on scenario type\n",
    "(ego_x, ego_y, ego_v, ped_x, ped_y, ped_v, ped_theta, obstacles, scenario_id) = PedestrianAvoidancePOMDP.generate_scenario(scenario, ego_v, hit_point)\n",
    "# simulate scenario\n",
    "(rec, timestep, env, sensor, sensor_observations, ego_vehicle, ego_a, collision, belief, action_pomdp, collision_rate, ttc, risk, emergency_brake_request, prediction_obstacle) = PedestrianAvoidancePOMDP.evaluate_scenario(ego_x, ego_y, ego_v, ped_x, ped_y, ped_v, ped_theta, obstacles, policy, algorithm)\n",
    "#evaluate result\n",
    "(collision2, emergency_brake_intervention, dv_collision, v_mean, a_mean, a_jerk, a_min) = PedestrianAvoidancePOMDP.evaluateScenarioMetric(ego_vehicle, emergency_brake_request, ego_a, collision, ped_x)\n",
    "\n"
   ]
  },
  {
   "cell_type": "code",
   "execution_count": 9,
   "metadata": {},
   "outputs": [
    {
     "data": {
      "text/html": [
       "<video autoplay controls><source src=\"files/reel-15145051740036777553.webm?8333866350591909478\" type=\"video/webm\"></video>"
      ],
      "text/plain": [
       "Frames{MIME{Symbol(\"image/png\")}}(\"/tmp/tmpV3VOtX\", 0x0000000000000052, 20.0, nothing)"
      ]
     },
     "execution_count": 9,
     "metadata": {},
     "output_type": "execute_result"
    }
   ],
   "source": [
    "# Visualize scenario\n",
    "duration, fps, render_hist = animate_record(rec, timestep, env, sensor, sensor_observations, risk, belief, ego_vehicle, action_pomdp, prediction_obstacle, CarFollowCamera(1,10.0))\n",
    "film = roll(render_hist, fps = fps, duration = duration)\n",
    "#write(\"pomdp.mp4\", film) # Write to a webm video"
   ]
  },
  {
   "cell_type": "code",
   "execution_count": 12,
   "metadata": {},
   "outputs": [
    {
     "ename": "MethodError",
     "evalue": "MethodError: no method matching iterate(::Revise.RelocatableExpr)\nClosest candidates are:\n  iterate(!Matched::Core.SimpleVector) at essentials.jl:589\n  iterate(!Matched::Core.SimpleVector, !Matched::Any) at essentials.jl:589\n  iterate(!Matched::ExponentialBackOff) at error.jl:171\n  ...",
     "output_type": "error",
     "traceback": [
      "MethodError: no method matching iterate(::Revise.RelocatableExpr)\nClosest candidates are:\n  iterate(!Matched::Core.SimpleVector) at essentials.jl:589\n  iterate(!Matched::Core.SimpleVector, !Matched::Any) at essentials.jl:589\n  iterate(!Matched::ExponentialBackOff) at error.jl:171\n  ...",
      "",
      "Stacktrace:",
      " [1] indexed_iterate(::Revise.RelocatableExpr, ::Int64) at ./tuple.jl:63",
      " [2] macro expansion at ./logging.jl:307 [inlined]",
      " [3] (::getfield(Revise, Symbol(\"##37#38\")){Revise.FMMaps,Module,Revise.FMMaps,Revise.FMMaps})() at /home/xubuntu/.julia/packages/Revise/gStbk/src/Revise.jl:214",
      " [4] with_logstate(::getfield(Revise, Symbol(\"##37#38\")){Revise.FMMaps,Module,Revise.FMMaps,Revise.FMMaps}, ::Base.CoreLogging.LogState) at ./logging.jl:397",
      " [5] with_logger at ./logging.jl:493 [inlined]",
      " [6] eval_revised! at /home/xubuntu/.julia/packages/Revise/gStbk/src/Revise.jl:213 [inlined]",
      " [7] eval_revised(::OrderedCollections.OrderedDict{Module,Revise.FMMaps}, ::OrderedCollections.OrderedDict{Module,Revise.FMMaps}) at /home/xubuntu/.julia/packages/Revise/gStbk/src/Revise.jl:194",
      " [8] revise_file_now(::String) at /home/xubuntu/.julia/packages/Revise/gStbk/src/Revise.jl:422",
      " [9] revise() at /home/xubuntu/.julia/packages/Revise/gStbk/src/Revise.jl:463",
      " [10] #invokelatest#1 at ./essentials.jl:697 [inlined]",
      " [11] invokelatest at ./essentials.jl:696 [inlined]",
      " [12] execute_request(::ZMQ.Socket, ::IJulia.Msg) at /home/xubuntu/.julia/packages/IJulia/DL02A/src/execute_request.jl:59",
      " [13] #invokelatest#1 at ./essentials.jl:697 [inlined]",
      " [14] invokelatest at ./essentials.jl:696 [inlined]",
      " [15] eventloop(::ZMQ.Socket) at /home/xubuntu/.julia/packages/IJulia/DL02A/src/eventloop.jl:8",
      " [16] (::getfield(IJulia, Symbol(\"##12#15\")))() at ./task.jl:259"
     ]
    }
   ],
   "source": [
    "# Evaluate EuroNCAP scenarios\n",
    "\n",
    "using CSV\n",
    "using DataFrames\n",
    "\n",
    "\n",
    "#algorithm = \"EmergancyBrakingSystem\"\n",
    "#algorithm = \"PedestrianAvoidancePOMDP\"\n",
    "#algorithm = \"PedestrianAvoidancePOMDP_EmergencyBrakingSystem\"\n",
    "\n",
    "policy_name = \"no\"\n",
    "\n",
    "policy_name = \"longitudinal_support\"\n",
    "#policy_name = \"longitudinal_lateral_support\"\n",
    "\n",
    "policy = load(\"../policy/policy.jld2\")[\"policy\"];\n",
    "\n",
    "\n",
    "log_filename = string(\"results_\", algorithm, \"_\", policy_name, \".csv\")\n",
    "\n",
    "println(log_filename)\n",
    "\n",
    "scenarios = [\"CPCN\", \"CPAN25\", \"CPAN75\", \"CPFA\"]\n",
    "vut_speeds = [50.] #[10., 15., 20., 25., 30., 35., 40., 45., 50., 55., 60.]\n",
    "vut_speeds = vut_speeds / 3.6\n",
    "hit_points = [0.] #[0., 10., 20., 30., 40., 50.]\n",
    "\n",
    "\n",
    "println(\"Algorithm to evaluate: \", algorithm, \" Policy: \", policy_name, \" (if specified)\")\n",
    "\n",
    "# Evaluate all EuroNCAP scenarios\n",
    "rec, timestep, env, ego_vehicle, sensor, sensor_observations, risk, ttc, collision_rate, emergency_brake_request, prediction_obstacle, collision, ego_a\n",
    "results = Vector[]\n",
    "for scenario in scenarios\n",
    "    for hit_point in hit_points\n",
    "        for vut_speed in vut_speeds\n",
    "            ego_v = vut_speed\n",
    "            (ego_x, ego_y, ego_v, ped_x, ped_y, ped_v, ped_theta, obstacles, scenario_id) = PedestrianAvoidancePOMDP.generate_scenario(scenario, ego_v, hit_point)\n",
    "            if algorithm == \"EmergancyBrakingSystem\"\n",
    "                (rec, timestep, env, sensor, sensor_observations, ego_vehicle, ego_a, collision, collision_rate, ttc, risk, emergency_brake_request, prediction_obstacle) = EmergencyBrakingSystem.evaluate_scenario(ego_x, ego_y, ego_v, ped_x, ped_y, ped_v, ped_theta, obstacles)\n",
    "            elseif algorithm == \"PedestrianAvoidancePOMDP\"\n",
    "                (rec, timestep, env, sensor, sensor_observations, ego_vehicle, ego_a, collision, belief, action_pomdp, collision_rate, ttc, risk, emergency_brake_request, prediction_obstacle) = PedestrianAvoidancePOMDP.evaluate_scenario(ego_x, ego_y, ego_v, ped_x, ped_y, ped_v, ped_theta, obstacles, policy)\n",
    "            elseif algorithm == \"PedestrianAvoidancePOMDP_EmergencyBrakingSystem\"\n",
    "                \n",
    "            else\n",
    "                println(\"No valid algorithm defined!\")\n",
    "                return false\n",
    "            end\n",
    "            \n",
    "            (collision, emergency_brake_intervention, dv_collision, v_mean, a_mean, a_jerk, a_min) = PedestrianAvoidancePOMDP.evaluateScenarioMetric(ego_vehicle, emergency_brake_request, ego_a, collision, ped_x)\n",
    "            println(collision, \" \", emergency_brake_intervention, \" \", dv_collision, \" \", v_mean, \" \", a_mean, \" \", a_jerk, \" \", a_min)\n",
    "            result = [scenario_id, ego_v, hit_point, collision, emergency_brake_intervention, dv_collision, v_mean, a_mean, a_jerk, a_min  ]\n",
    "            push!(results, result)\n",
    "        end\n",
    "    end \n",
    "end  \n",
    "\n",
    "\n",
    "# store results from scneario evaluation in log file\n",
    "df = DataFrame(results)\n",
    "df = DataFrame(Matrix(df)')\n",
    "rename!(df, :x1 => :scenario_id, :x2 => :ego_v, :x3 => :hit_point, :x4 => :collision, :x5 => :eb_intervention)\n",
    "rename!(df, :x6 => :dv_collision, :x7 => :v_mean, :x8 => :a_mean, :x9 => :a_jerk, :x10 => :a_min)\n",
    "\n",
    "CSV.write(log_filename, df);\n",
    "df"
   ]
  },
  {
   "cell_type": "code",
   "execution_count": 10,
   "metadata": {},
   "outputs": [
    {
     "data": {
      "text/plain": [
       "0"
      ]
     },
     "execution_count": 10,
     "metadata": {},
     "output_type": "execute_result"
    }
   ],
   "source": []
  },
  {
   "cell_type": "code",
   "execution_count": 11,
   "metadata": {},
   "outputs": [
    {
     "ename": "MethodError",
     "evalue": "MethodError: no method matching iterate(::Revise.RelocatableExpr)\nClosest candidates are:\n  iterate(!Matched::Core.SimpleVector) at essentials.jl:589\n  iterate(!Matched::Core.SimpleVector, !Matched::Any) at essentials.jl:589\n  iterate(!Matched::ExponentialBackOff) at error.jl:171\n  ...",
     "output_type": "error",
     "traceback": [
      "MethodError: no method matching iterate(::Revise.RelocatableExpr)\nClosest candidates are:\n  iterate(!Matched::Core.SimpleVector) at essentials.jl:589\n  iterate(!Matched::Core.SimpleVector, !Matched::Any) at essentials.jl:589\n  iterate(!Matched::ExponentialBackOff) at error.jl:171\n  ...",
      "",
      "Stacktrace:",
      " [1] indexed_iterate(::Revise.RelocatableExpr, ::Int64) at ./tuple.jl:63",
      " [2] macro expansion at ./logging.jl:307 [inlined]",
      " [3] (::getfield(Revise, Symbol(\"##37#38\")){Revise.FMMaps,Module,Revise.FMMaps,Revise.FMMaps})() at /home/xubuntu/.julia/packages/Revise/gStbk/src/Revise.jl:214",
      " [4] with_logstate(::getfield(Revise, Symbol(\"##37#38\")){Revise.FMMaps,Module,Revise.FMMaps,Revise.FMMaps}, ::Base.CoreLogging.LogState) at ./logging.jl:397",
      " [5] with_logger at ./logging.jl:493 [inlined]",
      " [6] eval_revised! at /home/xubuntu/.julia/packages/Revise/gStbk/src/Revise.jl:213 [inlined]",
      " [7] eval_revised(::OrderedCollections.OrderedDict{Module,Revise.FMMaps}, ::OrderedCollections.OrderedDict{Module,Revise.FMMaps}) at /home/xubuntu/.julia/packages/Revise/gStbk/src/Revise.jl:194",
      " [8] revise_file_now(::String) at /home/xubuntu/.julia/packages/Revise/gStbk/src/Revise.jl:422",
      " [9] revise() at /home/xubuntu/.julia/packages/Revise/gStbk/src/Revise.jl:463",
      " [10] #invokelatest#1 at ./essentials.jl:697 [inlined]",
      " [11] invokelatest at ./essentials.jl:696 [inlined]",
      " [12] execute_request(::ZMQ.Socket, ::IJulia.Msg) at /home/xubuntu/.julia/packages/IJulia/DL02A/src/execute_request.jl:59",
      " [13] #invokelatest#1 at ./essentials.jl:697 [inlined]",
      " [14] invokelatest at ./essentials.jl:696 [inlined]",
      " [15] eventloop(::ZMQ.Socket) at /home/xubuntu/.julia/packages/IJulia/DL02A/src/eventloop.jl:8",
      " [16] (::getfield(IJulia, Symbol(\"##12#15\")))() at ./task.jl:259"
     ]
    }
   ],
   "source": []
  },
  {
   "cell_type": "code",
   "execution_count": null,
   "metadata": {},
   "outputs": [],
   "source": []
  }
 ],
 "metadata": {
  "@webio": {
   "lastCommId": "c4787ca1c307423f9eae3c1b8ce4a407",
   "lastKernelId": "873c6ca6-a162-4c2f-a852-c10b1fbf440e"
  },
  "kernelspec": {
   "display_name": "Julia 1.0.1",
   "language": "julia",
   "name": "julia-1.0"
  },
  "language_info": {
   "file_extension": ".jl",
   "mimetype": "application/julia",
   "name": "julia",
   "version": "1.0.1"
  }
 },
 "nbformat": 4,
 "nbformat_minor": 2
}
