{
 "cells": [
  {
   "cell_type": "code",
   "execution_count": 8,
   "metadata": {},
   "outputs": [
    {
     "name": "stderr",
     "output_type": "stream",
     "text": [
      "WARNING: replacing module PedestrianAvoidancePOMDP\n",
      "WARNING: Method definition propagate(Records.Entity{AutomotiveDrivingModels.VehicleState, AutomotiveDrivingModels.VehicleDef, Int64}, AutomotiveDrivingModels.LatLonAccel, AutomotiveDrivingModels.Roadway, Float64) in module PedestrianAvoidancePOMDP at /home/xubuntu/stanford/PedestrianAvoidancePOMDP.jl/src/frenet_pedestrian_pomdp.jl:101 overwritten in module PedestrianAvoidancePOMDP at /home/xubuntu/stanford/PedestrianAvoidancePOMDP.jl/src/frenet_pedestrian_pomdp.jl:101.\n"
     ]
    },
    {
     "data": {
      "text/plain": [
       "PedestrianAvoidancePOMDP"
      ]
     },
     "execution_count": 8,
     "metadata": {},
     "output_type": "execute_result"
    }
   ],
   "source": [
    "using Revise\n",
    "\n",
    "using AutomotiveDrivingModels\n",
    "using AutoViz\n",
    "using AutomotiveSensors\n",
    "using AutomotivePOMDPs\n",
    "using Parameters\n",
    "using StaticArrays\n",
    "using ProfileView\n",
    "\n",
    "using GridInterpolations \n",
    "using POMDPs\n",
    "using POMDPToolbox\n",
    "using QMDP\n",
    "using JLD\n",
    "using Reel\n",
    "\n",
    "using ProfileView\n",
    "\n",
    "\n",
    "include(\"../src/PedestrianAvoidancePOMDP.jl\")"
   ]
  },
  {
   "cell_type": "code",
   "execution_count": 9,
   "metadata": {},
   "outputs": [
    {
     "name": "stderr",
     "output_type": "stream",
     "text": [
      "06-Nov 15:55:02:WARNING:root:type POMDPToolbox.AlphaVectorPolicy{SingleOCFPOMDP,SingleOCFAction} not present in workspace; reconstructing\n",
      "06-Nov 15:55:03:WARNING:root:type SingleOCFPOMDP not present in workspace; reconstructing\n",
      "06-Nov 15:55:03:WARNING:root:type SingleOCFState not present in workspace; reconstructing\n",
      "06-Nov 15:55:03:WARNING:root:type SingleOCFPedState not present in workspace; reconstructing\n",
      "06-Nov 15:55:03:WARNING:root:type SingleOCFAction not present in workspace; reconstructing\n"
     ]
    }
   ],
   "source": [
    "Profile.clear()\n",
    "\n",
    "policy = load(\"../policy/policy.jld\")[\"policy\"];\n",
    "#policy = load(\"../policy/policy_lon.jld\")[\"policy\"];\n"
   ]
  },
  {
   "cell_type": "code",
   "execution_count": 10,
   "metadata": {
    "scrolled": true
   },
   "outputs": [
    {
     "name": "stderr",
     "output_type": "stream",
     "text": [
      "WARNING: replacing module PedestrianAvoidancePOMDP\n",
      "WARNING: Method definition propagate(Records.Entity{AutomotiveDrivingModels.VehicleState, AutomotiveDrivingModels.VehicleDef, Int64}, AutomotiveDrivingModels.LatLonAccel, AutomotiveDrivingModels.Roadway, Float64) in module PedestrianAvoidancePOMDP at /home/xubuntu/stanford/PedestrianAvoidancePOMDP.jl/src/frenet_pedestrian_pomdp.jl:101 overwritten in module PedestrianAvoidancePOMDP at /home/xubuntu/stanford/PedestrianAvoidancePOMDP.jl/src/frenet_pedestrian_pomdp.jl:101.\n"
     ]
    },
    {
     "ename": "LoadError",
     "evalue": "\u001b[91mUndefVarError: SingleOCFPOMDP not defined\u001b[39m",
     "output_type": "error",
     "traceback": [
      "\u001b[91mUndefVarError: SingleOCFPOMDP not defined\u001b[39m",
      "",
      "Stacktrace:",
      " [1] \u001b[1minclude_string\u001b[22m\u001b[22m\u001b[1m(\u001b[22m\u001b[22m::String, ::String\u001b[1m)\u001b[22m\u001b[22m at \u001b[1m./loading.jl:522\u001b[22m\u001b[22m"
     ]
    }
   ],
   "source": [
    "include(\"../src/PedestrianAvoidancePOMDP.jl\")\n",
    "\n",
    "pomdp = SingleOCFPOMDP()\n",
    "updater = SingleOCFUpdater(pomdp)\n",
    "\n",
    "params = CrosswalkParams()\n",
    "params.roadway_length = 400.0\n",
    "params.obstacles_visible = false\n",
    "\n",
    "obstacle_offset = -2\n",
    "obstacle_1 = ConvexPolygon([VecE2(34, obstacle_offset), VecE2(34, obstacle_offset-3), VecE2(46.5, obstacle_offset-3), VecE2(46.5, obstacle_offset)],4)\n",
    "obstacle_2 = ConvexPolygon([VecE2(34, +4.5), VecE2(34, +7.5), VecE2(46.5, +7.5), VecE2(46.5, +4.5)],4)\n",
    "params.obstacles = [obstacle_1, obstacle_2]\n",
    "#params.obstacles = [obstacle_2]\n",
    "\n",
    "env = CrosswalkEnv(params)\n",
    "pomdp.env = env\n",
    "\n",
    "\n",
    "ego_id = 1\n",
    "ped_id = 2\n",
    "ped2_id = 3\n",
    "\n",
    "\n",
    "ego_v = 11.11\n",
    "ped_v = 5.4/3.6\n",
    "hitpoint = 50             # 50: middle, 100: left corner, 0: right corner\n",
    "ped_theta = π/2\n",
    "\n",
    "\n",
    "# fix values\n",
    "ped_x = 50.0\n",
    "ped_y_start = -5.0\n",
    "ego_y = 0.0\n",
    "\n",
    "\n",
    "ped_y_offset_hitpoint = VehicleDef().width * hitpoint / 100 - VehicleDef().width/2\n",
    "ped_y_end = ped_y_offset_hitpoint\n",
    "ped_t_collision = (ped_y_end - ped_y_start) / ped_v; \n",
    "ego_x = ped_x - ego_v * ped_t_collision - VehicleDef().length/2;\n",
    "\n",
    "if ( false )\n",
    "    ego_v = 0.0\n",
    "    ego_x = 20\n",
    "    ped_x = 30\n",
    "    ped_y_start = -2.0\n",
    "    ped_v = 0.0\n",
    "end\n",
    "\n",
    "ped_y_start = -16.0\n",
    "ped_v = 2.0\n",
    "\n",
    "# Car definition\n",
    "ego_initial_state = VehicleState(VecSE2(ego_x, ego_y, 0.), env.roadway.segments[1].lanes[1], env.roadway, ego_v)\n",
    "ego = Vehicle(ego_initial_state, VehicleDef(), 1)\n",
    "\n",
    "# Pedestrian definition \n",
    "ped_initial_state = VehicleState(VecSE2(ped_x,ped_y_start,ped_theta), env.crosswalk, env.roadway, ped_v)\n",
    "ped = Vehicle(ped_initial_state, AutomotivePOMDPs.PEDESTRIAN_DEF, 2)\n",
    "\n",
    "ped2_v = 0.0\n",
    "ped2 = Vehicle(VehicleState(VecSE2(54., 5., 0.78), env.crosswalk, env.roadway, ped2_v), AutomotivePOMDPs.PEDESTRIAN_DEF, ped2_id)\n",
    "\n",
    "\n",
    "scene = Scene()\n",
    "push!(scene, ego)\n",
    "push!(scene, ped)\n",
    "push!(scene, ped2)\n",
    "\n",
    "\n",
    "\n",
    "cam = FitToContentCamera(0.);\n",
    "timestep = 0.2\n",
    "\n",
    "\n",
    "pos_noise = 0.001\n",
    "vel_noise = 0.000\n",
    "false_positive_rate = 0.00\n",
    "false_negative_rate = 0.00\n",
    "rng = MersenneTwister(1);\n",
    "sensor = AutomotiveSensors.GaussianSensor(AutomotiveSensors.LinearNoise(10, pos_noise, 0.00), \n",
    "                 AutomotiveSensors.LinearNoise(10, vel_noise, 0.00), false_positive_rate, false_negative_rate, rng) \n",
    "\n",
    "\n",
    "\n",
    "# define a model for each entities present in the scene\n",
    "models = Dict{Int, DriverModel}()\n",
    "\n",
    "models[ego_id] = FrenetPedestrianPOMDP(a=LatLonAccel(0.0, 0.0),env=env,sensor=sensor, obstacles=env.obstacles, timestep=timestep,\n",
    "    env=env,\n",
    "    pomdp=pomdp,\n",
    "    policy=policy,\n",
    "    updater=updater,\n",
    "    ego_vehicle=ego,\n",
    "    desired_velocity=ego_v,\n",
    "    b=initBeliefAbsentPedestrian(pomdp, ego_y, ego_v)\n",
    ")\n",
    "models[ego_id].pomdp.desired_velocity = ego_v\n",
    "models[ego_id].pomdp.ΔT = timestep\n",
    "\n",
    "models[ped_id] = ConstantPedestrian(v_desired=ped.state.v, dawdling_amp=0.001) # dumb model\n",
    "models[ped2_id] = ConstantPedestrian(v_desired=ped2.state.v, dawdling_amp=0.001) # dumb model\n",
    "\n",
    "\n",
    "nticks = 50\n",
    "rec = SceneRecord(nticks+1, timestep)\n",
    "\n",
    "risk = Float64[]\n",
    "sensor_observations = [Vehicle[]]\n",
    "belief = Dict{Int64, SingleOCFBelief}[]\n",
    "ego_vehicle = Vehicle[]\n",
    "action_pomdp = SingleOCFAction[]\n",
    "\n",
    "obs_callback = (ObservationCallback(risk,sensor_observations, belief, ego_vehicle, action_pomdp),)\n",
    "\n",
    "tic()\n",
    "simulate!(rec, scene, env.roadway, models, nticks, obs_callback)\n",
    "toc()\n",
    "\n",
    "\n"
   ]
  },
  {
   "cell_type": "code",
   "execution_count": 11,
   "metadata": {},
   "outputs": [
    {
     "ename": "LoadError",
     "evalue": "\u001b[91mUndefVarError: rec not defined\u001b[39m",
     "output_type": "error",
     "traceback": [
      "\u001b[91mUndefVarError: rec not defined\u001b[39m",
      "",
      "Stacktrace:",
      " [1] \u001b[1minclude_string\u001b[22m\u001b[22m\u001b[1m(\u001b[22m\u001b[22m::String, ::String\u001b[1m)\u001b[22m\u001b[22m at \u001b[1m./loading.jl:522\u001b[22m\u001b[22m"
     ]
    }
   ],
   "source": [
    "# Visualize scenario\n",
    "duration, fps, render_hist = animate_record(rec, timestep, env, sensor, sensor_observations, risk, belief, ego_vehicle, action_pomdp, CarFollowCamera(2,10.0))\n",
    "film = roll(render_hist, fps = fps, duration = duration)"
   ]
  },
  {
   "cell_type": "code",
   "execution_count": null,
   "metadata": {},
   "outputs": [],
   "source": []
  }
 ],
 "metadata": {
  "kernelspec": {
   "display_name": "Julia 0.6.4",
   "language": "julia",
   "name": "julia-0.6"
  },
  "language_info": {
   "file_extension": ".jl",
   "mimetype": "application/julia",
   "name": "julia",
   "version": "0.6.4"
  }
 },
 "nbformat": 4,
 "nbformat_minor": 2
}
