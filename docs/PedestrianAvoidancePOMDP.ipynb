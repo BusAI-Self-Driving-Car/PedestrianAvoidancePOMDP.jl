{
 "cells": [
  {
   "cell_type": "markdown",
   "metadata": {},
   "source": [
    "If you want to be in the `PedestrianAvoidancePOMDP` environment, run the following cell. If the package has been added to the main julia environment, it is not necessary."
   ]
  },
  {
   "cell_type": "code",
   "execution_count": 12,
   "metadata": {},
   "outputs": [],
   "source": [
    "] activate ../ "
   ]
  },
  {
   "cell_type": "code",
   "execution_count": 29,
   "metadata": {},
   "outputs": [],
   "source": [
    "using Revise\n",
    "using AutomotiveDrivingModels\n",
    "using AutoViz\n",
    "using AutomotiveSensors\n",
    "using AutomotivePOMDPs\n",
    "using GridInterpolations\n",
    "\n",
    "using PedestrianAvoidancePOMDP\n",
    "using POMDPPolicies\n",
    "\n",
    "using JLD2\n",
    "using Reel\n",
    "using Random\n",
    "using POMDPs\n",
    "using POMDPModelTools"
   ]
  },
  {
   "cell_type": "code",
   "execution_count": 11,
   "metadata": {},
   "outputs": [
    {
     "ename": "UndefVarError",
     "evalue": "UndefVarError: load not defined",
     "output_type": "error",
     "traceback": [
      "UndefVarError: load not defined",
      "",
      "Stacktrace:",
      " [1] top-level scope at In[11]:1"
     ]
    }
   ],
   "source": [
    "policy = load(\"../policy/policy.jld2\")[\"policy\"]; # need to be updated"
   ]
  },
  {
   "cell_type": "code",
   "execution_count": 31,
   "metadata": {
    "scrolled": true
   },
   "outputs": [
    {
     "name": "stdout",
     "output_type": "stream",
     "text": [
      "--------------------------POMDP high level planner----------------------- t: 0.0\n",
      "EGO: x/y:10.966666666666669 / 0.0 v: 11.11\n",
      "Vehicle(2, VehicleState(VecSE2({50.000, -5.001}, 1.571), Frenet(RoadIndex({1, 0.125001}, {1, 1}), 50.000, -5.001, 1.571), 2.000), VehicleDef(PEDESTRIAN, 1.000, 1.000))\n",
      "Vehicle(3, VehicleState(VecSE2({54.000, 5.002}, 0.780), Frenet(RoadIndex({1, 0.135001}, {1, 2}), 54.000, 2.002, 0.780), 0.000), VehicleDef(PEDESTRIAN, 1.000, 1.000))\n"
     ]
    },
    {
     "name": "stderr",
     "output_type": "stream",
     "text": [
      "┌ Warning: `state_index` is deprecated, use `stateindex` instead.\n",
      "│   caller = sparse_cat_dot(::SingleOCFPOMDP, ::Array{Float64,1}, ::SparseCat{Array{SingleOCFState,1},Array{Float64,1}}) at policy.jl:41\n",
      "└ @ PedestrianAvoidancePOMDP /home/xubuntu/stanford/tmp/PedestrianAvoidancePOMDP.jl/src/policy.jl:41\n"
     ]
    },
    {
     "ename": "BoundsError",
     "evalue": "BoundsError: attempt to access 15-element Array{Float64,1} at index [63]",
     "output_type": "error",
     "traceback": [
      "BoundsError: attempt to access 15-element Array{Float64,1} at index [63]",
      "",
      "Stacktrace:",
      " [1] getindex at ./array.jl:731 [inlined]",
      " [2] sparse_cat_dot(::SingleOCFPOMDP, ::Array{Float64,1}, ::SparseCat{Array{SingleOCFState,1},Array{Float64,1}}) at /home/xubuntu/stanford/tmp/PedestrianAvoidancePOMDP.jl/src/policy.jl:42",
      " [3] action_values(::AlphaVectorPolicy{SingleOCFPOMDP,SingleOCFAction}, ::SparseCat{Array{SingleOCFState,1},Array{Float64,1}}) at /home/xubuntu/stanford/tmp/PedestrianAvoidancePOMDP.jl/src/policy.jl:26",
      " [4] #4 at ./none:0 [inlined]",
      " [5] iterate at ./generator.jl:47 [inlined]",
      " [6] mapfoldl_impl(::Function, ::Function, ::NamedTuple{(),Tuple{}}, ::Base.Generator{Dict{Int64,SparseCat{Array{SingleOCFState,1},Array{Float64,1}}},getfield(PedestrianAvoidancePOMDP, Symbol(\"##4#5\")){PedestrianAvoidancePOMDP.DecPolicy{AlphaVectorPolicy{SingleOCFPOMDP,SingleOCFAction},SingleOCFPOMDP,SingleOCFAction}}}) at ./reduce.jl:53",
      " [7] #mapfoldl#170 at ./reduce.jl:70 [inlined]",
      " [8] mapfoldl at ./reduce.jl:70 [inlined]",
      " [9] #mapreduce#174 at ./reduce.jl:203 [inlined]",
      " [10] mapreduce at ./reduce.jl:203 [inlined]",
      " [11] #reduce#175 at ./reduce.jl:359 [inlined]",
      " [12] reduce(::Function, ::Base.Generator{Dict{Int64,SparseCat{Array{SingleOCFState,1},Array{Float64,1}}},getfield(PedestrianAvoidancePOMDP, Symbol(\"##4#5\")){PedestrianAvoidancePOMDP.DecPolicy{AlphaVectorPolicy{SingleOCFPOMDP,SingleOCFAction},SingleOCFPOMDP,SingleOCFAction}}}) at ./reduce.jl:359",
      " [13] action_values(::PedestrianAvoidancePOMDP.DecPolicy{AlphaVectorPolicy{SingleOCFPOMDP,SingleOCFAction},SingleOCFPOMDP,SingleOCFAction}, ::Dict{Int64,SparseCat{Array{SingleOCFState,1},Array{Float64,1}}}) at /home/xubuntu/stanford/tmp/PedestrianAvoidancePOMDP.jl/src/policy.jl:18",
      " [14] action(::PedestrianAvoidancePOMDP.DecPolicy{AlphaVectorPolicy{SingleOCFPOMDP,SingleOCFAction},SingleOCFPOMDP,SingleOCFAction}, ::Dict{Int64,SparseCat{Array{SingleOCFState,1},Array{Float64,1}}}) at /home/xubuntu/stanford/tmp/PedestrianAvoidancePOMDP.jl/src/policy.jl:12",
      " [15] observe!(::FrenetPedestrianPOMDP{SingleOCFUpdater}, ::Frame{Entity{VehicleState,VehicleDef,Int64}}, ::Roadway, ::Int64) at /home/xubuntu/stanford/tmp/PedestrianAvoidancePOMDP.jl/src/frenet_pedestrian_pomdp.jl:62",
      " [16] get_actions!(::Array{Any,1}, ::Frame{Entity{VehicleState,VehicleDef,Int64}}, ::Roadway, ::Dict{Int64,DriverModel}) at /home/xubuntu/.julia/packages/AutomotiveDrivingModels/V7hw8/src/interface/simulation.jl:11",
      " [17] simulate!(::Type{Any}, ::QueueRecord{Entity{VehicleState,VehicleDef,Int64}}, ::Frame{Entity{VehicleState,VehicleDef,Int64}}, ::Roadway, ::Dict{Int64,DriverModel}, ::Int64, ::Tuple{ObservationCallback}) at /home/xubuntu/.julia/packages/AutomotiveDrivingModels/V7hw8/src/interface/callbacks.jl:35",
      " [18] simulate!(::QueueRecord{Entity{VehicleState,VehicleDef,Int64}}, ::Frame{Entity{VehicleState,VehicleDef,Int64}}, ::Roadway, ::Dict{Int64,DriverModel}, ::Int64, ::Tuple{ObservationCallback}) at /home/xubuntu/.julia/packages/AutomotiveDrivingModels/V7hw8/src/interface/callbacks.jl:54",
      " [19] top-level scope at util.jl:213",
      " [20] top-level scope at In[31]:117"
     ]
    }
   ],
   "source": [
    "pomdp = SingleOCFPOMDP()\n",
    "updater = SingleOCFUpdater(pomdp)\n",
    "\n",
    "parameters = CrosswalkParams()\n",
    "parameters.roadway_length = 400.0\n",
    "parameters.obstacles_visible = false\n",
    "\n",
    "obstacle_offset = -2\n",
    "obstacle_1 = ConvexPolygon([VecE2(34, obstacle_offset), VecE2(34, obstacle_offset-3), VecE2(46.5, obstacle_offset-3), VecE2(46.5, obstacle_offset)],4)\n",
    "obstacle_2 = ConvexPolygon([VecE2(34, +4.5), VecE2(34, +7.5), VecE2(46.5, +7.5), VecE2(46.5, +4.5)],4)\n",
    "parameters.obstacles = [obstacle_1, obstacle_2]\n",
    "#parameters.obstacles = [obstacle_2]\n",
    "\n",
    "env = CrosswalkEnv(parameters)\n",
    "pomdp.env = env\n",
    "\n",
    "\n",
    "ego_id = 1\n",
    "ped_id = 2\n",
    "ped2_id = 3\n",
    "\n",
    "\n",
    "ego_v = 11.11\n",
    "ped_v = 5.4/3.6\n",
    "hitpoint = 50             # 50: middle, 100: left corner, 0: right corner\n",
    "ped_theta = π/2\n",
    "\n",
    "\n",
    "# fix values\n",
    "ped_x = 50.0\n",
    "ped_y_start = -5.0\n",
    "ego_y = 0.0\n",
    "\n",
    "\n",
    "ped_y_offset_hitpoint = VehicleDef().width * hitpoint / 100 - VehicleDef().width/2\n",
    "ped_y_end = ped_y_offset_hitpoint\n",
    "ped_t_collision = (ped_y_end - ped_y_start) / ped_v; \n",
    "ego_x = ped_x - ego_v * ped_t_collision - VehicleDef().length/2;\n",
    "\n",
    "if ( false )\n",
    "    ego_v = 0.0\n",
    "    ego_x = 20\n",
    "    ped_x = 30\n",
    "    ped_y_start = -2.0\n",
    "    ped_v = 0.0\n",
    "end\n",
    "\n",
    "ped_y_start = -5.0\n",
    "ped_v = 2.0\n",
    "\n",
    "# Car definition\n",
    "ego_initial_state = VehicleState(VecSE2(ego_x, ego_y, 0.), env.roadway.segments[1].lanes[1], env.roadway, ego_v)\n",
    "ego = Vehicle(ego_initial_state, VehicleDef(), 1)\n",
    "\n",
    "# Pedestrian definition \n",
    "ped_initial_state = VehicleState(VecSE2(ped_x,ped_y_start,ped_theta), env.crosswalk, env.roadway, ped_v)\n",
    "ped = Vehicle(ped_initial_state, AutomotivePOMDPs.PEDESTRIAN_DEF, 2)\n",
    "\n",
    "ped2_v = 0.0\n",
    "ped2 = Vehicle(VehicleState(VecSE2(54., 5., 0.78), env.crosswalk, env.roadway, ped2_v), AutomotivePOMDPs.PEDESTRIAN_DEF, ped2_id)\n",
    "\n",
    "\n",
    "scene = Scene()\n",
    "push!(scene, ego)\n",
    "push!(scene, ped)\n",
    "push!(scene, ped2)\n",
    "\n",
    "\n",
    "\n",
    "cam = FitToContentCamera(0.);\n",
    "timestep = 0.2\n",
    "\n",
    "\n",
    "pos_noise = 0.001\n",
    "vel_noise = 0.000\n",
    "false_positive_rate = 0.00\n",
    "false_negative_rate = 0.00\n",
    "rng = MersenneTwister(1);\n",
    "sensor = AutomotiveSensors.GaussianSensor(AutomotiveSensors.LinearNoise(10, pos_noise, 0.00), \n",
    "                 AutomotiveSensors.LinearNoise(10, vel_noise, 0.00), false_positive_rate, false_negative_rate, rng) \n",
    "\n",
    "\n",
    "actionindex\n",
    "policy=AlphaVectorPolicy(pomdp, zeros(n_actions(pomdp), n_states(pomdp)), ordered_actions(pomdp))\n",
    "# define a model for each entities present in the scene\n",
    "models = Dict{Int, DriverModel}()\n",
    "models[ego_id] = FrenetPedestrianPOMDP(a=LatLonAccel(0.0, 0.0),\n",
    "    env=env,\n",
    "    sensor=sensor,\n",
    "    obstacles=env.obstacles,\n",
    "    timestep=timestep,\n",
    "    pomdp=pomdp,\n",
    "    policy=policy,\n",
    "    updater=updater,\n",
    "    ego_vehicle=ego,\n",
    "    desired_velocity=ego_v,\n",
    "    b=PedestrianAvoidancePOMDP.initBeliefAbsentPedestrian(pomdp, ego_y, ego_v)\n",
    ")\n",
    "models[ego_id].pomdp.desired_velocity = ego_v\n",
    "models[ego_id].pomdp.ΔT = timestep\n",
    "\n",
    "models[ped_id] = ConstantPedestrian(v_desired=ped.state.v, dawdling_amp=0.001) # dumb model\n",
    "models[ped2_id] = ConstantPedestrian(v_desired=ped2.state.v, dawdling_amp=0.001) # dumb model\n",
    "\n",
    "\n",
    "\n",
    "nticks = 50\n",
    "rec = SceneRecord(nticks+1, timestep)\n",
    "\n",
    "risk = Float64[]\n",
    "sensor_observations = [Vehicle[]]\n",
    "belief = Dict{Int64, SingleOCFBelief}[]\n",
    "ego_vehicle = Vehicle[]\n",
    "action_pomdp = SingleOCFAction[]\n",
    "\n",
    "obs_callback = (ObservationCallback(risk,sensor_observations, belief, ego_vehicle, action_pomdp),)\n",
    "\n",
    "@elapsed begin\n",
    "simulate!(rec, scene, env.roadway, models, nticks, obs_callback)\n",
    "end\n",
    "\n",
    "\n"
   ]
  },
  {
   "cell_type": "code",
   "execution_count": 4,
   "metadata": {},
   "outputs": [
    {
     "data": {
      "text/html": [
       "<video autoplay controls><source src=\"files/reel-8744658116671868310.webm?2337425186588342988\" type=\"video/webm\"></video>"
      ],
      "text/plain": [
       "Reel.Frames{MIME{Symbol(\"image/png\")}}(\"/tmp/tmpNNn5fO\", 0x0000000000000010, 5.0, nothing)"
      ]
     },
     "execution_count": 4,
     "metadata": {},
     "output_type": "execute_result"
    }
   ],
   "source": [
    "# Visualize scenario\n",
    "duration, fps, render_hist = animate_record(rec, timestep, env, sensor, sensor_observations, risk, belief, ego_vehicle, action_pomdp, CarFollowCamera(2,10.0))\n",
    "film = roll(render_hist, fps = fps, duration = duration)"
   ]
  },
  {
   "cell_type": "code",
   "execution_count": 23,
   "metadata": {},
   "outputs": [
    {
     "data": {
      "text/plain": [
       "(3, CartesianIndex(1, 3))"
      ]
     },
     "execution_count": 23,
     "metadata": {},
     "output_type": "execute_result"
    }
   ],
   "source": [
    "x = findmin([6 4 3])"
   ]
  },
  {
   "cell_type": "code",
   "execution_count": 46,
   "metadata": {},
   "outputs": [
    {
     "data": {
      "text/plain": [
       "POMDPModelTools.SparseCat{Array{PedestrianAvoidancePOMDP.SingleOCFState,1},Array{Float64,1}}(PedestrianAvoidancePOMDP.SingleOCFState[[1.0, 2.0, -10.0, -10.0, 0.0, 0.0]], [0.2])"
      ]
     },
     "execution_count": 46,
     "metadata": {},
     "output_type": "execute_result"
    }
   ],
   "source": [
    "x = PedestrianAvoidancePOMDP.initBeliefAbsentPedestrian(pomdp, 1., 2.)"
   ]
  },
  {
   "cell_type": "code",
   "execution_count": 17,
   "metadata": {},
   "outputs": [
    {
     "data": {
      "text/plain": [
       "6-element PedestrianAvoidancePOMDP.SingleOCFState:\n",
       "  0.0 \n",
       "  2.0 \n",
       " 10.0 \n",
       "  1.0 \n",
       "  1.57\n",
       "  0.0 "
      ]
     },
     "execution_count": 17,
     "metadata": {},
     "output_type": "execute_result"
    }
   ],
   "source": [
    "obs = PedestrianAvoidancePOMDP.SingleOCFState(0., 1.1, 10.,1., 1.57, 0.)\n",
    "obs_int = pomdp.state_space[PedestrianAvoidancePOMDP.stateindex(pomdp, obs)]"
   ]
  },
  {
   "cell_type": "code",
   "execution_count": 9,
   "metadata": {},
   "outputs": [
    {
     "data": {
      "text/plain": [
       "6-element PedestrianAvoidancePOMDP.SingleOCFState:\n",
       " 0.0\n",
       " 1.5\n",
       " 1.0\n",
       " 0.0\n",
       " 0.0\n",
       " 0.0"
      ]
     },
     "execution_count": 9,
     "metadata": {},
     "output_type": "execute_result"
    }
   ],
   "source": [
    "s = PedestrianAvoidancePOMDP.SingleOCFState(0., 1.5, 1.0, 0., 0., 0.)"
   ]
  },
  {
   "cell_type": "code",
   "execution_count": 47,
   "metadata": {},
   "outputs": [
    {
     "data": {
      "text/plain": [
       "POMDPModelTools.SparseCat{Array{PedestrianAvoidancePOMDP.SingleOCFState,1},Array{Float64,1}}(PedestrianAvoidancePOMDP.SingleOCFState[[1.0, 2.0, -10.0, -10.0, 0.0, 0.0]], [0.2])"
      ]
     },
     "execution_count": 47,
     "metadata": {},
     "output_type": "execute_result"
    }
   ],
   "source": [
    "x"
   ]
  },
  {
   "cell_type": "code",
   "execution_count": 89,
   "metadata": {},
   "outputs": [
    {
     "data": {
      "text/plain": [
       "([9758, 9763, 9833, 9838], [0.25, 0.25, 0.25, 0.25])"
      ]
     },
     "execution_count": 89,
     "metadata": {},
     "output_type": "execute_result"
    }
   ],
   "source": [
    "id_tmp"
   ]
  },
  {
   "cell_type": "code",
   "execution_count": 91,
   "metadata": {},
   "outputs": [
    {
     "data": {
      "text/plain": [
       "9838"
      ]
     },
     "execution_count": 91,
     "metadata": {},
     "output_type": "execute_result"
    }
   ],
   "source": [
    "id = findmax(id_tmp[1])[1]"
   ]
  },
  {
   "cell_type": "code",
   "execution_count": 41,
   "metadata": {},
   "outputs": [
    {
     "data": {
      "text/plain": [
       "19"
      ]
     },
     "execution_count": 41,
     "metadata": {},
     "output_type": "execute_result"
    }
   ],
   "source": [
    "probs = ones(10)\n",
    "probs[1:end-1] .= 20 / length(5)\n",
    "probs[end] = 19\n"
   ]
  },
  {
   "cell_type": "code",
   "execution_count": 42,
   "metadata": {},
   "outputs": [
    {
     "data": {
      "text/plain": [
       "10-element Array{Float64,1}:\n",
       " 20.0\n",
       " 20.0\n",
       " 20.0\n",
       " 20.0\n",
       " 20.0\n",
       " 20.0\n",
       " 20.0\n",
       " 20.0\n",
       " 20.0\n",
       " 19.0"
      ]
     },
     "execution_count": 42,
     "metadata": {},
     "output_type": "execute_result"
    }
   ],
   "source": [
    "probs"
   ]
  },
  {
   "cell_type": "code",
   "execution_count": 6,
   "metadata": {},
   "outputs": [
    {
     "ename": "UndefVarError",
     "evalue": "UndefVarError: state_index not defined",
     "output_type": "error",
     "traceback": [
      "UndefVarError: state_index not defined",
      "",
      "Stacktrace:",
      " [1] top-level scope at In[6]:1"
     ]
    }
   ],
   "source": []
  },
  {
   "cell_type": "code",
   "execution_count": 7,
   "metadata": {},
   "outputs": [
    {
     "data": {
      "text/plain": [
       "3-element Array{Float64,1}:\n",
       " -0.195\n",
       "  0.0  \n",
       "  0.195"
      ]
     },
     "execution_count": 7,
     "metadata": {},
     "output_type": "execute_result"
    }
   ],
   "source": [
    "collect(LinRange(-0.39/2., 0.39/2., 3))"
   ]
  },
  {
   "cell_type": "code",
   "execution_count": null,
   "metadata": {},
   "outputs": [],
   "source": []
  }
 ],
 "metadata": {
  "kernelspec": {
   "display_name": "Julia 1.0.1",
   "language": "julia",
   "name": "julia-1.0"
  },
  "language_info": {
   "file_extension": ".jl",
   "mimetype": "application/julia",
   "name": "julia",
   "version": "1.0.1"
  }
 },
 "nbformat": 4,
 "nbformat_minor": 2
}
