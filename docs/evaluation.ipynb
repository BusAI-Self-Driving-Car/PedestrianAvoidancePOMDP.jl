{
 "cells": [
  {
   "cell_type": "code",
   "execution_count": 1,
   "metadata": {},
   "outputs": [],
   "source": [
    "] activate ../ "
   ]
  },
  {
   "cell_type": "code",
   "execution_count": 2,
   "metadata": {},
   "outputs": [
    {
     "name": "stderr",
     "output_type": "stream",
     "text": [
      "┌ Info: Recompiling stale cache file /home/xubuntu/.julia/compiled/v1.0/PedestrianAvoidancePOMDP/UuJ2S.ji for PedestrianAvoidancePOMDP [a80ff0fe-e6a0-11e8-3b05-15413bd5ea7a]\n",
      "└ @ Base loading.jl:1187\n",
      "┌ Warning: Package PedestrianAvoidancePOMDP does not have EmergencyBrakingSystem in its dependencies:\n",
      "│ - If you have PedestrianAvoidancePOMDP checked out for development and have\n",
      "│   added EmergencyBrakingSystem as a dependency but haven't updated your primary\n",
      "│   environment's manifest file, try `Pkg.resolve()`.\n",
      "│ - Otherwise you may need to report an issue with PedestrianAvoidancePOMDP\n",
      "└ Loading EmergencyBrakingSystem into PedestrianAvoidancePOMDP from project dependency, future warnings for PedestrianAvoidancePOMDP are suppressed.\n",
      "WARNING: Method definition propagate(Records.Entity{AutomotiveDrivingModels.VehicleState, AutomotiveDrivingModels.VehicleDef, Int64}, AutomotiveDrivingModels.LatLonAccel, AutomotiveDrivingModels.Roadway, Float64) in module EmergencyBrakingSystem at /home/xubuntu/.julia/dev/EmergencyBrakingSystem.jl/src/emergency_system.jl:147 overwritten in module PedestrianAvoidancePOMDP at /home/xubuntu/.julia/dev/PedestrianAvoidancePOMDP.jl/src/pedestrian_pomdp.jl:118.\n"
     ]
    }
   ],
   "source": [
    "using Revise\n",
    "using AutomotiveDrivingModels\n",
    "using AutoViz\n",
    "using AutomotiveSensors\n",
    "using AutomotivePOMDPs\n",
    "using GridInterpolations\n",
    "\n",
    "using POMDPPolicies\n",
    "\n",
    "using JLD2\n",
    "using FileIO\n",
    "using Reel\n",
    "using Random\n",
    "using POMDPs\n",
    "using POMDPModelTools\n",
    "using LinearAlgebra\n",
    "\n",
    "using PedestrianAvoidancePOMDP\n",
    "using EmergencyBrakingSystem"
   ]
  },
  {
   "cell_type": "code",
   "execution_count": 119,
   "metadata": {},
   "outputs": [
    {
     "name": "stdout",
     "output_type": "stream",
     "text": [
      "PedestrianAvoidancePOMDP_EmergencyBrakingSystem\n"
     ]
    },
    {
     "data": {
      "text/plain": [
       "(false, false, 0.0, 5.112913907284771, -2.4711538461538463, 47.0, -4.0)"
      ]
     },
     "execution_count": 119,
     "metadata": {},
     "output_type": "execute_result"
    }
   ],
   "source": [
    "\n",
    "\n",
    "#algorithm = \"EmergencyBrakingSystem\"\n",
    "algorithm = \"PedestrianAvoidancePOMDP\"\n",
    "algorithm = \"PedestrianAvoidancePOMDP_EmergencyBrakingSystem\"\n",
    "\n",
    "policy = load(\"../policy/policy.jld2\")[\"policy\"];\n",
    "\n",
    "# Definition ego vehicle and pedestrian behavior\n",
    "scenarios = [\"CPCN\", \"CPAN25\", \"CPAN75\", \"CPFA\", \"FP\"]\n",
    "vut_speeds = [10., 15., 20., 25., 30., 35., 40., 45., 50, 55., 60.]\n",
    "vut_speeds = vut_speeds / 3.6\n",
    "hit_points = [0., 10., 20., 30., 40., 50.]\n",
    "\n",
    "probability_pedestrian_birth = 0.95\n",
    "\n",
    "\n",
    "ego_v = vut_speeds[9]\n",
    "hit_point = hit_points[1]\n",
    "scenario = scenarios[1]\n",
    "\n",
    "\n",
    "ego_vehicle = []\n",
    "ego_a = [] \n",
    "collision = []\n",
    "belief = []\n",
    "action_pomdp = []\n",
    "collision_rate = []\n",
    "ttc = []\n",
    "risk = []\n",
    "emergency_brake_request = []\n",
    "prediction_obstacle = []\n",
    "\n",
    "### Simulate scenario with parameters above defined\n",
    "# generate scenario based on scenario type\n",
    "(ego_x, ego_y, ego_v, ped_x, ped_y, ped_v, ped_theta, obstacles, scenario_id) = PedestrianAvoidancePOMDP.generate_scenario(scenario, ego_v, hit_point)\n",
    "#println(ego_x, \" \", ego_y, \" \", ego_v, \" \", ped_x,\" \",  ped_y,\" \",  ped_v)\n",
    "\n",
    "## pedestrian is not in critical region\n",
    "#ped_y = 10.\n",
    "\n",
    "# simulate scenario\n",
    "if (algorithm == \"EmergencyBrakingSystem\")\n",
    "    (rec, timestep, env, sensor, sensor_observations, ego_vehicle, ego_a, collision, collision_rate, ttc, risk, emergency_brake_request, prediction_obstacle) = EmergencyBrakingSystem.evaluate_scenario(ego_x, ego_y, ego_v, ped_x, ped_y, ped_v, ped_theta, obstacles)\n",
    "else\n",
    "    (rec, timestep, env, sensor, sensor_observations, ego_vehicle, ego_a, collision, belief, action_pomdp, collision_rate, ttc, risk, emergency_brake_request, prediction_obstacle) = PedestrianAvoidancePOMDP.evaluate_scenario(ego_x, ego_y, ego_v, ped_x, ped_y, ped_v, ped_theta, obstacles, policy, algorithm, probability_pedestrian_birth)\n",
    "end\n",
    "#evaluate result\n",
    "(collision, emergency_brake_intervention, dv_collision, v_mean, a_mean, a_jerk, a_min) = PedestrianAvoidancePOMDP.evaluateScenarioMetric(ego_vehicle, emergency_brake_request, ego_a, collision, ped_x)\n",
    "\n"
   ]
  },
  {
   "cell_type": "code",
   "execution_count": 120,
   "metadata": {},
   "outputs": [
    {
     "data": {
      "text/html": [
       "<video autoplay controls><source src=\"files/reel-15430117255691735896.webm?17954625261211213930\" type=\"video/webm\"></video>"
      ],
      "text/plain": [
       "Frames{MIME{Symbol(\"image/png\")}}(\"/tmp/tmpjpIyLO\", 0x00000000000000a1, 20.0, nothing)"
      ]
     },
     "execution_count": 120,
     "metadata": {},
     "output_type": "execute_result"
    }
   ],
   "source": [
    "# Visualize scenario\n",
    "cam = StaticCamera(VecE2(95.0,0.0),15.0)\n",
    "#cam = CarFollowCamera(1,10.0)\n",
    "\n",
    "if (algorithm == \"EmergencyBrakingSystem\")\n",
    "    duration, fps, render_hist = EmergencyBrakingSystem.animate_record(rec, timestep, env, ego_vehicle, sensor, sensor_observations, risk, ttc, collision_rate, emergency_brake_request, prediction_obstacle, cam)\n",
    "else\n",
    "    duration, fps, render_hist = animate_record(rec, timestep, env, sensor, sensor_observations, risk, belief, ego_vehicle, action_pomdp, prediction_obstacle, cam)\n",
    "end\n",
    "\n",
    "film = roll(render_hist, fps = fps, duration = duration)\n",
    "#write(\"file.mp4\", film) # Write to a webm video\n"
   ]
  },
  {
   "cell_type": "code",
   "execution_count": 43,
   "metadata": {},
   "outputs": [
    {
     "name": "stdout",
     "output_type": "stream",
     "text": [
      "results_EmergancyBrakingSystem_no.csv\n",
      "Algorithm to evaluate: EmergancyBrakingSystem Policy: no (if specified)\n",
      "CPCN HP: 0.0 89.66666666666667 0.0 2.7777777777777777 100.0 -5.066666666666666 1.3888888888888888\n",
      "Collision: false eb: true 0.0 2.6095959595959566 -8.125 20.0 -10.0\n",
      "CPCN HP: 0.0 85.5 0.0 4.166666666666667 100.0 -5.066666666666666 1.3888888888888888\n",
      "Collision: false eb: true 0.0 3.8912429378531037 -8.5 20.0 -10.0\n",
      "CPCN HP: 0.0 81.33333333333334 0.0 5.555555555555555 100.0 -5.066666666666666 1.3888888888888888\n",
      "Collision: true eb: true 1.8055555555555554 5.482279693486583 -8.5 10.0 -10.0\n"
     ]
    },
    {
     "ename": "InterruptException",
     "evalue": "InterruptException:",
     "output_type": "error",
     "traceback": [
      "InterruptException:",
      "",
      "Stacktrace:",
      " [1] setindex! at ./array.jl:771 [inlined]",
      " [2] macro expansion at ./multidimensional.jl:648 [inlined]",
      " [3] macro expansion at ./cartesian.jl:64 [inlined]",
      " [4] macro expansion at ./multidimensional.jl:643 [inlined]",
      " [5] _unsafe_setindex!(::IndexLinear, ::Array{Any,2}, ::Array{Float64,2}, ::Int64, ::Base.Slice{Base.OneTo{Int64}}) at ./multidimensional.jl:636",
      " [6] _setindex! at ./multidimensional.jl:631 [inlined]",
      " [7] setindex! at ./abstractarray.jl:998 [inlined]",
      " [8] caclulate_CTRA_prediction_simple(::Float64, ::Float64, ::Float64, ::Float64, ::Float64, ::Float64, ::Float64, ::Float64, ::Float64, ::Float64, ::Float64, ::Float64, ::Float64) at /home/xubuntu/.julia/dev/EmergencyBrakingSystem.jl/src/emergency_system.jl:319",
      " [9] observe!(::EmergencySystem, ::Frame{Entity{VehicleState,VehicleDef,Int64}}, ::Roadway, ::Int64) at /home/xubuntu/.julia/dev/EmergencyBrakingSystem.jl/src/emergency_system.jl:80",
      " [10] get_actions!(::Array{Any,1}, ::Frame{Entity{VehicleState,VehicleDef,Int64}}, ::Roadway, ::Dict{Int64,DriverModel}) at /home/xubuntu/.julia/packages/AutomotiveDrivingModels/V7hw8/src/interface/simulation.jl:11",
      " [11] simulate!(::Type{Any}, ::QueueRecord{Entity{VehicleState,VehicleDef,Int64}}, ::Frame{Entity{VehicleState,VehicleDef,Int64}}, ::Roadway, ::Dict{Int64,DriverModel}, ::Int64, ::Tuple{EmergencyBrakingSystem.ObservationCallback}) at /home/xubuntu/.julia/packages/AutomotiveDrivingModels/V7hw8/src/interface/callbacks.jl:35",
      " [12] simulate! at /home/xubuntu/.julia/packages/AutomotiveDrivingModels/V7hw8/src/interface/callbacks.jl:54 [inlined]",
      " [13] evaluate_scenario(::Float64, ::Float64, ::Float64, ::Float64, ::Float64, ::Float64, ::Float64, ::Array{ConvexPolygon,1}) at /home/xubuntu/.julia/dev/EmergencyBrakingSystem.jl/src/evaluation_scenario.jl:141",
      " [14] top-level scope at ./In[43]:49"
     ]
    }
   ],
   "source": [
    "\n",
    "\n",
    "\n",
    "# Evaluate EuroNCAP scenarios\n",
    "\n",
    "using CSV\n",
    "using DataFrames\n",
    "\n",
    "\n",
    "\n",
    "algorithm = \"EmergancyBrakingSystem\"\n",
    "#algorithm = \"PedestrianAvoidancePOMDP\"\n",
    "#algorithm = \"PedestrianAvoidancePOMDP_EmergencyBrakingSystem\"\n",
    "\n",
    "policy_name = \"no\"\n",
    "#policy_name = \"longitudinal_support\"\n",
    "#policy_name = \"longitudinal_lateral_support\"\n",
    "policy = load(\"../policy/policy.jld2\")[\"policy\"];\n",
    "\n",
    "\n",
    "log_filename = string(\"results_\", algorithm, \"_\", policy_name, \".csv\")\n",
    "\n",
    "println(log_filename)\n",
    "\n",
    "scenarios = [\"CPCN\", \"CPAN25\", \"CPAN75\", \"CPFA\", \"FP\"]\n",
    "vut_speeds = [10., 15., 20., 25., 30., 35., 40., 45., 50., 55., 60.]\n",
    "#vut_speeds = [50.]\n",
    "vut_speeds = vut_speeds / 3.6\n",
    "\n",
    "probability_pedestrian_birth = 0.95\n",
    "\n",
    "\n",
    "println(\"Algorithm to evaluate: \", algorithm, \" Policy: \", policy_name, \" (if specified)\")\n",
    "\n",
    "# Evaluate all EuroNCAP scenarios\n",
    "rec, timestep, env, ego_vehicle, sensor, sensor_observations, risk, ttc, collision_rate, emergency_brake_request, prediction_obstacle, collision, ego_a\n",
    "results = Vector[]\n",
    "for scenario in scenarios\n",
    "    if (scenario == \"FP\") \n",
    "        hit_points = [-100., 200.]\n",
    "    else\n",
    "        hit_points = [0., 10., 20., 30., 40., 50.]\n",
    "    end\n",
    "    for hit_point in hit_points\n",
    "        for vut_speed in vut_speeds\n",
    "            ego_v = vut_speed\n",
    "            (ego_x, ego_y, ego_v, ped_x, ped_y, ped_v, ped_theta, obstacles, scenario_id) = PedestrianAvoidancePOMDP.generate_scenario(scenario, ego_v, hit_point)\n",
    "            if algorithm == \"EmergancyBrakingSystem\"\n",
    "                (rec, timestep, env, sensor, sensor_observations, ego_vehicle, ego_a, collision, collision_rate, ttc, risk, emergency_brake_request, prediction_obstacle) = EmergencyBrakingSystem.evaluate_scenario(ego_x, ego_y, ego_v, ped_x, ped_y, ped_v, ped_theta, obstacles)\n",
    "            elseif algorithm == \"PedestrianAvoidancePOMDP\"\n",
    "                (rec, timestep, env, sensor, sensor_observations, ego_vehicle, ego_a, collision, belief, action_pomdp, collision_rate, ttc, risk, emergency_brake_request, prediction_obstacle) = PedestrianAvoidancePOMDP.evaluate_scenario(ego_x, ego_y, ego_v, ped_x, ped_y, ped_v, ped_theta, obstacles, policy, algorithm, probability_pedestrian_birth)\n",
    "            elseif algorithm == \"PedestrianAvoidancePOMDP_EmergencyBrakingSystem\"\n",
    "                (rec, timestep, env, sensor, sensor_observations, ego_vehicle, ego_a, collision, belief, action_pomdp, collision_rate, ttc, risk, emergency_brake_request, prediction_obstacle) = PedestrianAvoidancePOMDP.evaluate_scenario(ego_x, ego_y, ego_v, ped_x, ped_y, ped_v, ped_theta, obstacles, policy, algorithm, probability_pedestrian_birth)\n",
    "            else\n",
    "                println(\"No valid algorithm defined!\")\n",
    "                return false\n",
    "            end\n",
    "            println(scenario, \" HP: \", hit_point, \" \", ego_x, \" \", ego_y, \" \", ego_v, \" \", ped_x,\" \",  ped_y,\" \",  ped_v)\n",
    "            (collision, emergency_brake_intervention, dv_collision, v_mean, a_mean, a_jerk, a_min) = PedestrianAvoidancePOMDP.evaluateScenarioMetric(ego_vehicle, emergency_brake_request, ego_a, collision, ped_x)\n",
    "            println(\"Collision: \", collision, \" eb: \", emergency_brake_intervention, \" \", dv_collision, \" \", v_mean, \" \", a_mean, \" \", a_jerk, \" \", a_min)\n",
    "            result = [scenario_id, ego_v, hit_point, collision, emergency_brake_intervention, dv_collision, v_mean, a_mean, a_jerk, a_min  ]\n",
    "            push!(results, result)\n",
    "        end\n",
    "    end \n",
    "end  \n",
    "\n",
    "\n",
    "# store results from scneario evaluation in log file\n",
    "df = DataFrame(results)\n",
    "df = DataFrame(Matrix(df)')\n",
    "rename!(df, :x1 => :scenario_id, :x2 => :ego_v, :x3 => :hit_point, :x4 => :collision, :x5 => :eb_intervention)\n",
    "rename!(df, :x6 => :dv_collision, :x7 => :v_mean, :x8 => :a_mean, :x9 => :a_jerk, :x10 => :a_min)\n",
    "\n",
    "CSV.write(log_filename, df);\n",
    "\n",
    "(sum_collisions, sum_eb, dv, v_mean, a_mean, a_jerk, a_min) = PedestrianAvoidancePOMDP.evaluateScenariosMetric(results)\n",
    "\n",
    "println(\"#collisions: \", sum_collisions, \" #emergency brake interventions: \", sum_eb, \" dv_m: \", dv, \" v_mean: \", v_mean, \" a_mean: \", a_mean, \" a_jerk: \", a_jerk, \" a_min: \", a_min)\n",
    "\n",
    "df\n"
   ]
  },
  {
   "cell_type": "code",
   "execution_count": null,
   "metadata": {},
   "outputs": [],
   "source": []
  }
 ],
 "metadata": {
  "@webio": {
   "lastCommId": "42eff9a407514029bcd7b8484a28f56f",
   "lastKernelId": "316bcdc4-c627-464c-9168-bb1fd4ea963e"
  },
  "kernelspec": {
   "display_name": "Julia 1.0.1",
   "language": "julia",
   "name": "julia-1.0"
  },
  "language_info": {
   "file_extension": ".jl",
   "mimetype": "application/julia",
   "name": "julia",
   "version": "1.0.1"
  }
 },
 "nbformat": 4,
 "nbformat_minor": 2
}
