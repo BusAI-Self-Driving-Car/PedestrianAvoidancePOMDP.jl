{
 "cells": [
  {
   "cell_type": "code",
   "execution_count": 1,
   "metadata": {},
   "outputs": [],
   "source": [
    "] activate ../ "
   ]
  },
  {
   "cell_type": "code",
   "execution_count": 2,
   "metadata": {},
   "outputs": [
    {
     "name": "stderr",
     "output_type": "stream",
     "text": [
      "┌ Info: Recompiling stale cache file /home/xubuntu/.julia/compiled/v1.0/PedestrianAvoidancePOMDP/UuJ2S.ji for PedestrianAvoidancePOMDP [a80ff0fe-e6a0-11e8-3b05-15413bd5ea7a]\n",
      "└ @ Base loading.jl:1187\n",
      "┌ Warning: Package PedestrianAvoidancePOMDP does not have Random in its dependencies:\n",
      "│ - If you have PedestrianAvoidancePOMDP checked out for development and have\n",
      "│   added Random as a dependency but haven't updated your primary\n",
      "│   environment's manifest file, try `Pkg.resolve()`.\n",
      "│ - Otherwise you may need to report an issue with PedestrianAvoidancePOMDP\n",
      "└ Loading Random into PedestrianAvoidancePOMDP from project dependency, future warnings for PedestrianAvoidancePOMDP are suppressed.\n",
      "┌ Warning: Package EmergencyBrakingSystem does not have Random in its dependencies:\n",
      "│ - If you have EmergencyBrakingSystem checked out for development and have\n",
      "│   added Random as a dependency but haven't updated your primary\n",
      "│   environment's manifest file, try `Pkg.resolve()`.\n",
      "│ - Otherwise you may need to report an issue with EmergencyBrakingSystem\n",
      "└ Loading Random into EmergencyBrakingSystem from project dependency, future warnings for EmergencyBrakingSystem are suppressed.\n",
      "WARNING: Method definition propagate(Records.Entity{AutomotiveDrivingModels.VehicleState, AutomotiveDrivingModels.VehicleDef, Int64}, AutomotiveDrivingModels.LatLonAccel, AutomotiveDrivingModels.Roadway, Float64) in module EmergencyBrakingSystem at /home/xubuntu/stanford/EmergencyBrakingSystem.jl/src/emergency_system.jl:143 overwritten in module PedestrianAvoidancePOMDP at /home/xubuntu/stanford/PedestrianAvoidancePOMDP.jl/src/pedestrian_pomdp.jl:115.\n",
      "┌ Warning: The call to compilecache failed to create a usable precompiled cache file for PedestrianAvoidancePOMDP [a80ff0fe-e6a0-11e8-3b05-15413bd5ea7a]\n",
      "│   exception = ErrorException(\"Required dependency EmergencyBrakingSystem [3f59e4f0-e69d-11e8-310d-15d6353296e9] failed to load from a cache file.\")\n",
      "└ @ Base loading.jl:966\n",
      "┌ Warning: Package PedestrianAvoidancePOMDP does not have Random in its dependencies:\n",
      "│ - If you have PedestrianAvoidancePOMDP checked out for development and have\n",
      "│   added Random as a dependency but haven't updated your primary\n",
      "│   environment's manifest file, try `Pkg.resolve()`.\n",
      "│ - Otherwise you may need to report an issue with PedestrianAvoidancePOMDP\n",
      "│ Loading Random into PedestrianAvoidancePOMDP from project dependency, future warnings for PedestrianAvoidancePOMDP are suppressed.\n",
      "└ @ nothing nothing:837\n",
      "┌ Info: Recompiling stale cache file /home/xubuntu/.julia/compiled/v1.0/EmergencyBrakingSystem/YXMuK.ji for EmergencyBrakingSystem [3f59e4f0-e69d-11e8-310d-15d6353296e9]\n",
      "└ @ Base loading.jl:1187\n",
      "┌ Warning: Package EmergencyBrakingSystem does not have Random in its dependencies:\n",
      "│ - If you have EmergencyBrakingSystem checked out for development and have\n",
      "│   added Random as a dependency but haven't updated your primary\n",
      "│   environment's manifest file, try `Pkg.resolve()`.\n",
      "│ - Otherwise you may need to report an issue with EmergencyBrakingSystem\n",
      "└ Loading Random into EmergencyBrakingSystem from project dependency, future warnings for EmergencyBrakingSystem are suppressed.\n"
     ]
    }
   ],
   "source": [
    "using Revise\n",
    "using AutomotiveDrivingModels\n",
    "using AutoViz\n",
    "using AutomotiveSensors\n",
    "using AutomotivePOMDPs\n",
    "using GridInterpolations\n",
    "\n",
    "using POMDPPolicies\n",
    "\n",
    "using JLD2\n",
    "using FileIO\n",
    "using Reel\n",
    "using Random\n",
    "using POMDPs\n",
    "using POMDPModelTools\n",
    "using LinearAlgebra\n",
    "\n",
    "using PedestrianAvoidancePOMDP\n",
    "using EmergencyBrakingSystem"
   ]
  },
  {
   "cell_type": "code",
   "execution_count": 10,
   "metadata": {},
   "outputs": [
    {
     "name": "stdout",
     "output_type": "stream",
     "text": [
      "PedestrianAvoidancePOMDP_EmergencyBrakingSystem\n"
     ]
    },
    {
     "ename": "MethodError",
     "evalue": "MethodError: no method matching SparseCat{Array{SingleOCFState,1},Array{Float64,1}}()\nClosest candidates are:\n  SparseCat{Array{SingleOCFState,1},Array{Float64,1}}(!Matched::Any, !Matched::Any) where {V, P} at /home/xubuntu/.julia/packages/POMDPModelTools/zVVz4/src/distributions/sparse_cat.jl:11",
     "output_type": "error",
     "traceback": [
      "MethodError: no method matching SparseCat{Array{SingleOCFState,1},Array{Float64,1}}()\nClosest candidates are:\n  SparseCat{Array{SingleOCFState,1},Array{Float64,1}}(!Matched::Any, !Matched::Any) where {V, P} at /home/xubuntu/.julia/packages/POMDPModelTools/zVVz4/src/distributions/sparse_cat.jl:11",
      "",
      "Stacktrace:",
      " [1] PedestrianAvoidancePOMDPFrenet() at /home/xubuntu/.julia/packages/Parameters/NholY/src/Parameters.jl:516",
      " [2] (::getfield(Core, Symbol(\"#kw#Type\")))(::NamedTuple{(:frenet_pedestrian_pomdp, :emergency_braking_system, :timestep, :update_tick_high_level_planner),Tuple{PedestrianAvoidancePOMDPFrenet{SingleOCFUpdater},EmergencySystem,Float64,Float64}}, ::Type{PedestrianAvoidanceSystem}) at ./none:0",
      " [3] evaluate_scenario(::Float64, ::Float64, ::Float64, ::Float64, ::Float64, ::Float64, ::Float64, ::Array{ConvexPolygon,1}, ::AlphaVectorPolicy{SingleOCFPOMDP,SingleOCFAction}, ::String) at /home/xubuntu/stanford/PedestrianAvoidancePOMDP.jl/src/evaluation_scenario.jl:151",
      " [4] top-level scope at In[10]:39"
     ]
    }
   ],
   "source": [
    "\n",
    "\n",
    "algorithm = \"EmergencyBrakingSystem\"\n",
    "#algorithm = \"PedestrianAvoidancePOMDP\"\n",
    "algorithm = \"PedestrianAvoidancePOMDP_EmergencyBrakingSystem\"\n",
    "\n",
    "policy = load(\"../policy/policy.jld2\")[\"policy\"];\n",
    "\n",
    "# Definition ego vehicle and pedestrian behavior\n",
    "\n",
    "scenarios = [\"CPCN\", \"CPAN25\", \"CPAN75\", \"CPFA\"]\n",
    "vut_speeds = [10., 15., 20., 25., 30., 35., 40., 45., 50., 55., 60.]\n",
    "vut_speeds = vut_speeds / 3.6\n",
    "hit_points = [0., 10., 20., 30., 40., 50.]\n",
    "\n",
    "\n",
    "ego_v = vut_speeds[9]\n",
    "hit_point = hit_points[2]\n",
    "scenario = scenarios[1]\n",
    "\n",
    "ego_vehicle = []\n",
    "ego_a = [] \n",
    "collision = []\n",
    "belief = []\n",
    "action_pomdp = []\n",
    "collision_rate = []\n",
    "ttc = []\n",
    "risk = []\n",
    "emergency_brake_request = []\n",
    "prediction_obstacle = []\n",
    "\n",
    "### Simulate scenario with parameters above defined\n",
    "# generate scenario based on scenario type\n",
    "(ego_x, ego_y, ego_v, ped_x, ped_y, ped_v, ped_theta, obstacles, scenario_id) = PedestrianAvoidancePOMDP.generate_scenario(scenario, ego_v, hit_point)\n",
    "# simulate scenario\n",
    "if (algorithm == \"EmergencyBrakingSystem\")\n",
    "    (rec, timestep, env, sensor, sensor_observations, ego_vehicle, ego_a, collision, collision_rate, ttc, risk, emergency_brake_request, prediction_obstacle) = EmergencyBrakingSystem.evaluate_scenario(ego_x, ego_y, ego_v, ped_x, ped_y, ped_v, ped_theta, obstacles)\n",
    "else\n",
    "    (rec, timestep, env, sensor, sensor_observations, ego_vehicle, ego_a, collision, belief, action_pomdp, collision_rate, ttc, risk, emergency_brake_request, prediction_obstacle) = PedestrianAvoidancePOMDP.evaluate_scenario(ego_x, ego_y, ego_v, ped_x, ped_y, ped_v, ped_theta, obstacles, policy, algorithm)\n",
    "end\n",
    "#evaluate result\n",
    "(collision2, emergency_brake_intervention, dv_collision, v_mean, a_mean, a_jerk, a_min) = PedestrianAvoidancePOMDP.evaluateScenarioMetric(ego_vehicle, emergency_brake_request, ego_a, collision)\n",
    "\n"
   ]
  },
  {
   "cell_type": "code",
   "execution_count": 9,
   "metadata": {},
   "outputs": [
    {
     "data": {
      "text/html": [
       "<video autoplay controls><source src=\"files/reel-3127262458001624428.webm?10620051232879772916\" type=\"video/webm\"></video>"
      ],
      "text/plain": [
       "Frames{MIME{Symbol(\"image/png\")}}(\"/tmp/tmpHKgAku\", 0x0000000000000050, 20.0, nothing)"
      ]
     },
     "execution_count": 9,
     "metadata": {},
     "output_type": "execute_result"
    }
   ],
   "source": [
    "# Visualize scenario\n",
    "if (algorithm == \"EmergencyBrakingSystem\")\n",
    "    duration, fps, render_hist = EmergencyBrakingSystem.animate_record(rec, timestep, env, ego_vehicle, sensor, sensor_observations, risk, ttc, collision_rate, emergency_brake_request, prediction_obstacle, StaticCamera(VecE2(38.0,0.0),25.0))\n",
    "else\n",
    "    duration, fps, render_hist = animate_record(rec, timestep, env, sensor, sensor_observations, risk, belief, ego_vehicle, action_pomdp, prediction_obstacle, CarFollowCamera(1,10.0))\n",
    "end\n",
    "\n",
    "film = roll(render_hist, fps = fps, duration = duration)\n",
    "#write(\"file.mp4\", film) # Write to a webm video\n"
   ]
  },
  {
   "cell_type": "code",
   "execution_count": 12,
   "metadata": {},
   "outputs": [
    {
     "name": "stdout",
     "output_type": "stream",
     "text": [
      "results_EmergancyBrakingSystem_no.csv\n",
      "Algorithm to evaluate: EmergancyBrakingSystem Policy: no (if specified)\n",
      "true true 6.638888888888889 13.006076388888905 -9.117647058823529 10.0 -10.0\n",
      "true true 1.1388888888888893 11.538194444444462 -9.464285714285714 10.0 -10.0\n",
      "true true 1.1388888888888893 11.538194444444462 -9.464285714285714 10.0 -10.0\n",
      "true true 1.1388888888888893 11.538194444444462 -9.464285714285714 10.0 -10.0\n"
     ]
    },
    {
     "data": {
      "text/html": [
       "<table class=\"data-frame\"><thead><tr><th></th><th>scenario_id</th><th>ego_v</th><th>hit_point</th><th>collision</th><th>eb_intervention</th><th>dv_collision</th><th>v_mean</th><th>a_mean</th><th>a_jerk</th><th>a_min</th></tr><tr><th></th><th>Float64</th><th>Float64</th><th>Float64</th><th>Float64</th><th>Float64</th><th>Float64</th><th>Float64</th><th>Float64</th><th>Float64</th><th>Float64</th></tr></thead><tbody><p>4 rows × 10 columns</p><tr><th>1</th><td>1.0</td><td>13.8889</td><td>0.0</td><td>1.0</td><td>1.0</td><td>6.63889</td><td>13.0061</td><td>-9.11765</td><td>10.0</td><td>-10.0</td></tr><tr><th>2</th><td>2.0</td><td>13.8889</td><td>0.0</td><td>1.0</td><td>1.0</td><td>1.13889</td><td>11.5382</td><td>-9.46429</td><td>10.0</td><td>-10.0</td></tr><tr><th>3</th><td>3.0</td><td>13.8889</td><td>0.0</td><td>1.0</td><td>1.0</td><td>1.13889</td><td>11.5382</td><td>-9.46429</td><td>10.0</td><td>-10.0</td></tr><tr><th>4</th><td>4.0</td><td>13.8889</td><td>0.0</td><td>1.0</td><td>1.0</td><td>1.13889</td><td>11.5382</td><td>-9.46429</td><td>10.0</td><td>-10.0</td></tr></tbody></table>"
      ],
      "text/latex": [
       "\\begin{tabular}{r|cccccccccc}\n",
       "\t& scenario\\_id & ego\\_v & hit\\_point & collision & eb\\_intervention & dv\\_collision & v\\_mean & a\\_mean & a\\_jerk & a\\_min\\\\\n",
       "\t\\hline\n",
       "\t1 & 1.0 & 13.8889 & 0.0 & 1.0 & 1.0 & 6.63889 & 13.0061 & -9.11765 & 10.0 & -10.0 \\\\\n",
       "\t2 & 2.0 & 13.8889 & 0.0 & 1.0 & 1.0 & 1.13889 & 11.5382 & -9.46429 & 10.0 & -10.0 \\\\\n",
       "\t3 & 3.0 & 13.8889 & 0.0 & 1.0 & 1.0 & 1.13889 & 11.5382 & -9.46429 & 10.0 & -10.0 \\\\\n",
       "\t4 & 4.0 & 13.8889 & 0.0 & 1.0 & 1.0 & 1.13889 & 11.5382 & -9.46429 & 10.0 & -10.0 \\\\\n",
       "\\end{tabular}\n"
      ],
      "text/plain": [
       "4×10 DataFrame. Omitted printing of 5 columns\n",
       "│ Row │ scenario_id │ ego_v   │ hit_point │ collision │ eb_intervention │\n",
       "│     │ \u001b[90mFloat64\u001b[39m     │ \u001b[90mFloat64\u001b[39m │ \u001b[90mFloat64\u001b[39m   │ \u001b[90mFloat64\u001b[39m   │ \u001b[90mFloat64\u001b[39m         │\n",
       "├─────┼─────────────┼─────────┼───────────┼───────────┼─────────────────┤\n",
       "│ 1   │ 1.0         │ 13.8889 │ 0.0       │ 1.0       │ 1.0             │\n",
       "│ 2   │ 2.0         │ 13.8889 │ 0.0       │ 1.0       │ 1.0             │\n",
       "│ 3   │ 3.0         │ 13.8889 │ 0.0       │ 1.0       │ 1.0             │\n",
       "│ 4   │ 4.0         │ 13.8889 │ 0.0       │ 1.0       │ 1.0             │"
      ]
     },
     "execution_count": 12,
     "metadata": {},
     "output_type": "execute_result"
    }
   ],
   "source": [
    "\n",
    "\n",
    "\n",
    "# Evaluate EuroNCAP scenarios\n",
    "\n",
    "using CSV\n",
    "using DataFrames\n",
    "\n",
    "\n",
    "algorithm = \"EmergancyBrakingSystem\"\n",
    "#algorithm = \"PedestrianAvoidancePOMDP\"\n",
    "#algorithm = \"PedestrianAvoidancePOMDP_EmergencyBrakingSystem\"\n",
    "\n",
    "policy_name = \"no\"\n",
    "#policy_name = \"longitudinal_support\"\n",
    "#policy_name = \"longitudinal_lateral_support\"\n",
    "policy = load(\"../policy/policy.jld2\")[\"policy\"];\n",
    "\n",
    "\n",
    "log_filename = string(\"results_\", algorithm, \"_\", policy_name, \".csv\")\n",
    "\n",
    "println(log_filename)\n",
    "\n",
    "scenarios = [\"CPCN\", \"CPAN25\", \"CPAN75\", \"CPFA\"]\n",
    "vut_speeds = [50.] #[10., 15., 20., 25., 30., 35., 40., 45., 50., 55., 60.]\n",
    "vut_speeds = vut_speeds / 3.6\n",
    "hit_points = [0.] #[0., 10., 20., 30., 40., 50.]\n",
    "\n",
    "\n",
    "println(\"Algorithm to evaluate: \", algorithm, \" Policy: \", policy_name, \" (if specified)\")\n",
    "\n",
    "# Evaluate all EuroNCAP scenarios\n",
    "rec, timestep, env, ego_vehicle, sensor, sensor_observations, risk, ttc, collision_rate, emergency_brake_request, prediction_obstacle, collision, ego_a\n",
    "results = Vector[]\n",
    "for scenario in scenarios\n",
    "    for hit_point in hit_points\n",
    "        for vut_speed in vut_speeds\n",
    "            ego_v = vut_speed\n",
    "            (ego_x, ego_y, ego_v, ped_x, ped_y, ped_v, ped_theta, obstacles, scenario_id) = PedestrianAvoidancePOMDP.generate_scenario(scenario, ego_v, hit_point)\n",
    "            if algorithm == \"EmergancyBrakingSystem\"\n",
    "                (rec, timestep, env, sensor, sensor_observations, ego_vehicle, ego_a, collision, collision_rate, ttc, risk, emergency_brake_request, prediction_obstacle) = EmergencyBrakingSystem.evaluate_scenario(ego_x, ego_y, ego_v, ped_x, ped_y, ped_v, ped_theta, obstacles)\n",
    "            elseif algorithm == \"PedestrianAvoidancePOMDP\"\n",
    "                (rec, timestep, env, sensor, sensor_observations, ego_vehicle, ego_a, collision, belief, action_pomdp, collision_rate, ttc, risk, emergency_brake_request, prediction_obstacle) = PedestrianAvoidancePOMDP.evaluate_scenario(ego_x, ego_y, ego_v, ped_x, ped_y, ped_v, ped_theta, obstacles, policy, algorithm)\n",
    "            elseif algorithm == \"PedestrianAvoidancePOMDP_EmergencyBrakingSystem\"\n",
    "                (rec, timestep, env, sensor, sensor_observations, ego_vehicle, ego_a, collision, belief, action_pomdp, collision_rate, ttc, risk, emergency_brake_request, prediction_obstacle) = PedestrianAvoidancePOMDP.evaluate_scenario(ego_x, ego_y, ego_v, ped_x, ped_y, ped_v, ped_theta, obstacles, policy, algorithm)\n",
    "            else\n",
    "                println(\"No valid algorithm defined!\")\n",
    "                return false\n",
    "            end\n",
    "            \n",
    "            (collision, emergency_brake_intervention, dv_collision, v_mean, a_mean, a_jerk, a_min) = PedestrianAvoidancePOMDP.evaluateScenarioMetric(ego_vehicle, emergency_brake_request, ego_a, collision)\n",
    "            println(collision, \" \", emergency_brake_intervention, \" \", dv_collision, \" \", v_mean, \" \", a_mean, \" \", a_jerk, \" \", a_min)\n",
    "            result = [scenario_id, ego_v, hit_point, collision, emergency_brake_intervention, dv_collision, v_mean, a_mean, a_jerk, a_min  ]\n",
    "            push!(results, result)\n",
    "        end\n",
    "    end \n",
    "end  \n",
    "\n",
    "\n",
    "# store results from scneario evaluation in log file\n",
    "df = DataFrame(results)\n",
    "df = DataFrame(Matrix(df)')\n",
    "rename!(df, :x1 => :scenario_id, :x2 => :ego_v, :x3 => :hit_point, :x4 => :collision, :x5 => :eb_intervention)\n",
    "rename!(df, :x6 => :dv_collision, :x7 => :v_mean, :x8 => :a_mean, :x9 => :a_jerk, :x10 => :a_min)\n",
    "\n",
    "CSV.write(log_filename, df);\n",
    "df\n"
   ]
  },
  {
   "cell_type": "code",
   "execution_count": null,
   "metadata": {},
   "outputs": [],
   "source": []
  }
 ],
 "metadata": {
  "@webio": {
   "lastCommId": "718d7ae20cf144358705f89cea8ba66a",
   "lastKernelId": "43a19417-2bfb-4ce0-a4ad-70dab3f33ede"
  },
  "kernelspec": {
   "display_name": "Julia 1.0.1",
   "language": "julia",
   "name": "julia-1.0"
  },
  "language_info": {
   "file_extension": ".jl",
   "mimetype": "application/julia",
   "name": "julia",
   "version": "1.0.1"
  }
 },
 "nbformat": 4,
 "nbformat_minor": 2
}
